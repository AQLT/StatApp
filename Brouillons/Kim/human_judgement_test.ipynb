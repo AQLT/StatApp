{
 "cells": [
  {
   "cell_type": "markdown",
   "metadata": {},
   "source": [
    "# Importation des données"
   ]
  },
  {
   "cell_type": "code",
   "execution_count": 8,
   "metadata": {},
   "outputs": [
    {
     "name": "stdout",
     "output_type": "stream",
     "text": [
      "!\"#$%&'()*+,-./:;<=>?@[\\]^_`{|}~'’\n",
      "[['il', 'mérite', 'd', 'être', 'bloquer', 'la', 'lettre', 'de', 'l', 'alphabet'], ['nickname', 'et', 'fière', 'je', 't', 'en', 'voi', 'att', 'j', 'avais', 'oublié'], ['il', 'est', '1', 'heure'], ['eeeeh', 'jfais', 'la', 'go', 'qui', 'a', 'de', 'les', 'programmes', 'mais', 'j', 'ai', 'même', 'pas', 'de', 'navigo', 'ptdddddr', '😭'], ['en', 'tout', 'cas', 'la', 'demoiselle', 'a', 'bien', 'raison'], ['le', 'rathalos', 'est', 'un', 'gros', 'fils', 'de', 'pute', 'bonne', 'nuit'], ['nickname', 'et', 'puis', 'un', 'jour', 'pfffffffffus', 'rien', 'ne', 'fonctionne', 'l', 'humain', 'se', 'meurt', 'à', 'petit', 'feu'], ['nickname', 'je', 'veux', 'pas', 'en', 'savoir', 'sasuke', 'j', 'sais', 'pas', 'qui', 'c', 'est', 'mais', 'j', 'crois', 'il', 'est', 'sombre'], ['à', 'partir', 'de', 'quand', 'peut', 'on', 'se', 'qualifier', 'de', 'fan'], ['go', 'profité', 'de', 'les', '6h20', 'de', 'sommeil', 'qu', 'il', 'me', 'reste']]\n"
     ]
    }
   ],
   "source": [
    "import os\n",
    "import string\n",
    "import re\n",
    "import math\n",
    "from math import sqrt\n",
    "import numpy as np\n",
    "import random\n",
    "import time\n",
    "random.seed(1)\n",
    "\n",
    "\n",
    "os.chdir('C:/Users/Kim Antunez/Documents/Projets_autres')\n",
    "print(string.punctuation + \"'’\")\n",
    "def mise_en_forme_phrase (phrase):\n",
    "    phrase = phrase.lower()\n",
    "    # On elève la ponctuation mais ça peut se discuter (garder les @ et #?)\n",
    "    phrase = re.sub('( @[^ ]*)|(^@[^ ]*)',\"nickname\", phrase) #Remplace @... par nickname\n",
    "    #supprime toutes les ponctuations par défaut + les apostrophes bizarres\n",
    "    phrase = phrase.translate(str.maketrans('', '', string.punctuation + \"'’\"))\n",
    "    # On enlève les passages à la ligne\n",
    "    phrase = re.sub('\\\\n', ' ', phrase)\n",
    "    # On enlève les espaces multiples et les espaces à la fin des phrases\n",
    "    phrase = re.sub(' +', ' ', phrase)\n",
    "    phrase = re.sub(' +$', '', phrase)\n",
    "    return(phrase.split())\n",
    "#f = open('data/sample_3.txt')\n",
    "#raw = f.read()\n",
    "#print(type(raw))\n",
    "with open('data/sample_3.txt', encoding=\"utf-8\") as myfile:\n",
    "    phrases = [mise_en_forme_phrase(next(myfile)) for x in range(10000)]\n",
    "print(phrases[0:10])\n",
    "#raw = ''.join([''.join(phrase) for phrase in phrases])"
   ]
  },
  {
   "cell_type": "code",
   "execution_count": 9,
   "metadata": {},
   "outputs": [
    {
     "name": "stdout",
     "output_type": "stream",
     "text": [
      "<class 'list'>\n",
      "['mérite', 'd', 'être', 'bloquer', 'la', 'lettre', 'de', 'l', 'alphabet']\n",
      "<class 'set'>\n",
      "['grossissent', 'ortenburg', 'wish', 'avoir', '35', 'lance', 'lyoko', 'multivitaminés', 'complété']\n"
     ]
    }
   ],
   "source": [
    "import nltk, re, pprint\n",
    "#nltk.download('punkt')\n",
    "from nltk import word_tokenize\n",
    "# words = word_tokenize(raw) # Plus utile maintenant\n",
    "words = [item for sublist in phrases for item in sublist]\n",
    "print(type(words))\n",
    "## On enlève la ponctuation et on met en minuscule :\n",
    "#words = [word.lower() for word in words if word.isalpha()] # plus utile maintenant\n",
    "vocabulary = set(words)\n",
    "\n",
    "print(words[1:10])\n",
    "print(type(vocabulary))\n",
    "print(list(vocabulary)[1:10])\n",
    "    "
   ]
  },
  {
   "cell_type": "code",
   "execution_count": 10,
   "metadata": {},
   "outputs": [
    {
     "name": "stdout",
     "output_type": "stream",
     "text": [
      "Nombre de mots : 109479\n",
      "Taille du vocabulaire : 13546\n"
     ]
    }
   ],
   "source": [
    "print(\"Nombre de mots :\", len(words))\n",
    "print(\"Taille du vocabulaire :\", len(vocabulary))"
   ]
  },
  {
   "cell_type": "code",
   "execution_count": 11,
   "metadata": {
    "scrolled": true
   },
   "outputs": [
    {
     "name": "stdout",
     "output_type": "stream",
     "text": [
      "Les 10 mots les plus communs sont :\n",
      "[('nickname', 4457), ('de', 3938), ('le', 2548), ('est', 2144), ('je', 2037), ('les', 1813), ('j', 1785), ('à', 1721), ('c', 1693), ('la', 1620)]\n",
      "Les 2 premiers mots et leur occurrence sont :\n",
      "il (868 occurrences)\n",
      "mérite (10 occurrences)\n"
     ]
    },
    {
     "data": {
      "text/plain": [
       "<Figure size 2000x1000 with 1 Axes>"
      ]
     },
     "metadata": {},
     "output_type": "display_data"
    },
    {
     "data": {
      "text/plain": [
       "<matplotlib.axes._subplots.AxesSubplot at 0x20a41220e88>"
      ]
     },
     "execution_count": 11,
     "metadata": {},
     "output_type": "execute_result"
    }
   ],
   "source": [
    "# Pour changer la taille des graphiques :\n",
    "import matplotlib.pyplot as plt\n",
    "plt.rcParams[\"figure.figsize\"] = (20,10)\n",
    "plt.rcParams[\"font.size\"] = 20\n",
    "\n",
    "fdist = nltk.FreqDist(words)\n",
    "print(\"Les 10 mots les plus communs sont :\")\n",
    "print(fdist.most_common(10))\n",
    "print(\"Les 2 premiers mots et leur occurrence sont :\")\n",
    "for cle, valeur in list(fdist.items())[0:2]:\n",
    "    print(\"{} ({} occurrences)\".format(cle, valeur))\n",
    "fdist.plot(50)"
   ]
  },
  {
   "cell_type": "markdown",
   "metadata": {},
   "source": [
    "# Sampling rate\n",
    "On va simplifier un peu le corpus en enlevant certains mots. Pour cela on va faire un sous-échantillonnage du corpus pour supprimer certains mots. \n",
    "\n",
    "Pour chaque mot $w_i$ on note $z(w_i)$ la proportion d'apparition de ce mot, c'est-à-dire le rapport entre le nombre de fois que ce mot apparait et le nombre total de mots. La probabilité de garder un mot le mot $w_i$ est :\n",
    "$$\n",
    "\\mathbb P(w_i) = \\left(\\sqrt{\\frac{z(w_i)}{q}} + 1 \\right)\n",
    "\\times\n",
    "\\frac{q}{z(w_i)}\n",
    "$$\n",
    "Le paramètre $q$ est appelé \"sample\" – échantillonnage – contrôle le nombre de sous-échantillonnages. La valeur par défaut est 0,001."
   ]
  },
  {
   "cell_type": "code",
   "execution_count": 12,
   "metadata": {
    "scrolled": true
   },
   "outputs": [],
   "source": [
    "def calcul_proba(x):\n",
    "    result = (sqrt(x)+1)*(1/x)\n",
    "    return(result)\n",
    "calcul_proba_v = np.vectorize(calcul_proba)"
   ]
  },
  {
   "cell_type": "markdown",
   "metadata": {},
   "source": [
    "# Génération de l'échantillon de test\n",
    "Comment on gère les doublons ?"
   ]
  },
  {
   "cell_type": "code",
   "execution_count": 13,
   "metadata": {},
   "outputs": [],
   "source": [
    "def creer_echantillon(phrases, vocabulary , probabilities_subsampling,  window = 2):\n",
    "    #Sub-sampling\n",
    "    nouveau_corpus = [] \n",
    "    for phrase in phrases: #on parcourt tous les articles du corpus\n",
    "        nouveau_corpus.append([]) #on crée une sous liste à chaque nouvel article\n",
    "        for word in phrase: #et pour tous les mots de l'article\n",
    "        # Les mots à supprimer sont les mots tels que la loi générée U([0,1]) soit > proba\n",
    "        # On garde donc les mots si U([0,1]) <= proba\n",
    "            proba_w = probabilities_subsampling[vocabulary.index(word)]\n",
    "            if np.random.uniform(low=0.0, high=1.0) <= proba_w:\n",
    "                nouveau_corpus[-1].append(word)\n",
    "    #On ne garde que les phrases de plus d'un mot. \n",
    "    phrases = [phrase for phrase in nouveau_corpus if len(phrase)>1]\n",
    "    test_sample = []\n",
    "    for phrase in phrases:\n",
    "        # On tire au hasard un mot focus et on récupère son index\n",
    "        focus = list(range(0, len(phrase)))\n",
    "        focus = random.choice(focus)\n",
    "        i = focus\n",
    "        index_i = vocabulary.index(phrase[i])\n",
    "        # On tire au hasard un mot contexte dans la fenêtre de ce mot focus et on récupère son index\n",
    "        i_contexte = list(range(max(i-window,0), min(i+window+1, len(phrase))))\n",
    "        i_contexte.remove(i)\n",
    "        i_contexte = random.choice(i_contexte)\n",
    "        j = i_contexte\n",
    "        index_j = vocabulary.index(phrase[j])\n",
    "        test_sample.append([index_i, index_j])\n",
    "    return(test_sample)\n",
    "# exemple de test_sample : [6175, 2149]"
   ]
  },
  {
   "cell_type": "markdown",
   "metadata": {},
   "source": [
    "# Algorithme avec softmax\n",
    "Si on note $\\theta$ le paramètre à estimer, $L(\\theta)$ la fonction de perte et $\\eta$ le taux d'apprentissage (*learning rate*) alors :\n",
    "$$\n",
    "\\theta^{(t+1)} = \\theta^{(t)} - \\eta \\nabla_\\theta L(\\theta)\n",
    "$$\n",
    "\n",
    "Pour le négative sampling, la probabilité de garder le mot $w_i$ est égale à :\n",
    "$$\n",
    "\\mathbb P(w_i) = \\frac{f(w_i)^{3/4}}{\n",
    "\\sum_{j=1}^n f(w_j)^{3/4}\n",
    "}\n",
    "$$\n",
    "Avec $f(w_j)$ la fréquence d'apparition du mot $w_j$."
   ]
  },
  {
   "cell_type": "code",
   "execution_count": 14,
   "metadata": {},
   "outputs": [],
   "source": [
    "from IPython.display import clear_output\n",
    "from matplotlib import pyplot as plt\n",
    "import collections\n",
    "%matplotlib inline\n",
    "\n",
    "def live_plot(data, figsize=(7,5), title=''):\n",
    "    clear_output(wait=True)\n",
    "    plt.figure(figsize=figsize)\n",
    "    plt.plot(data)\n",
    "    plt.title(title)\n",
    "    plt.grid(True)\n",
    "    plt.xlabel('epoch')\n",
    "    plt.show();"
   ]
  },
  {
   "cell_type": "code",
   "execution_count": 15,
   "metadata": {},
   "outputs": [
    {
     "name": "stdout",
     "output_type": "stream",
     "text": [
      "[0.00091342 0.00091342 0.00091342 0.10047589 0.00091342 0.00182683\n",
      " 0.00091342 0.00091342 0.00091342]\n",
      "[1127.87761097 1127.87761097 1127.87761097   13.10741629 1127.87761097\n",
      "  570.79147409 1127.87761097 1127.87761097 1127.87761097]\n",
      "[2.46091758e-05 2.46091758e-05 2.46091758e-05 8.35875475e-04\n",
      " 2.46091758e-05 4.13875355e-05 2.46091758e-05 2.46091758e-05\n",
      " 2.46091758e-05]\n"
     ]
    }
   ],
   "source": [
    "# On crée le vocabulaire, on calcule les proba de subsampling et negative sampling\n",
    "sample = 0.01\n",
    "words = [item for sublist in phrases for item in sublist] #deja fait\n",
    "fdist = nltk.FreqDist(words) #deja fait\n",
    "vocabulary = list(set(words)) #deja fait\n",
    "proportion = np.array([(fdist[w]/ (len(words) * sample)) for w in vocabulary])\n",
    "p_subsampling = calcul_proba_v(proportion)\n",
    "p_negativesampling = np.array([(fdist[w]**(3/4)) for w in vocabulary])\n",
    "p_negativesampling /= p_negativesampling.sum()\n",
    "\n",
    "print(proportion[1:10])\n",
    "print(p_subsampling[1:10])\n",
    "print(p_negativesampling[1:10])\n"
   ]
  },
  {
   "cell_type": "markdown",
   "metadata": {},
   "source": [
    "## Algorithme avec subsampling"
   ]
  },
  {
   "cell_type": "code",
   "execution_count": 17,
   "metadata": {},
   "outputs": [],
   "source": [
    "def tirage_neg_sampling(vocabulary, proba_negativesampling, focus, context, K = 5):\n",
    "    #proba_negativesampling[focus] = 0\n",
    "    #proba_negativesampling[context] = 0\n",
    "    liste_vocab = list(range(len(vocabulary)))\n",
    "    neg_sampling = np.random.choice(liste_vocab, size=K, p=proba_negativesampling)\n",
    "    #while( (focus in neg_sampling) | (context in neg_sampling)):\n",
    "    #    neg_sampling = np.random.choice(liste_vocab, size=K, p=proba_negativesampling)\n",
    "    return(neg_sampling)"
   ]
  },
  {
   "cell_type": "code",
   "execution_count": 18,
   "metadata": {},
   "outputs": [
    {
     "data": {
      "image/png": "[encoded data removed]",
      "text/plain": [
       "<Figure size 504x360 with 1 Axes>"
      ]
     },
     "metadata": {
      "needs_background": "light"
     },
     "output_type": "display_data"
    },
    {
     "name": "stdout",
     "output_type": "stream",
     "text": [
      "3.01\n"
     ]
    }
   ],
   "source": [
    "# Test 2 à faire X min\n",
    "dim = 10\n",
    "epoch = 3\n",
    "learning_rate = 0.01\n",
    "K = 5\n",
    "\n",
    "input = torch.randn(len(vocabulary), dim)\n",
    "output = torch.randn(len(vocabulary), dim)\n",
    "input = autograd.Variable(input, requires_grad=True)\n",
    "output = autograd.variable(output, requires_grad=True)\n",
    "\n",
    "loss_tot = []\n",
    "\n",
    "start = time.time()\n",
    "for i in range(epoch):\n",
    "    compteur = 0\n",
    "    #print(i)\n",
    "    loss_val = 0\n",
    "    test_sample = creer_echantillon(phrases, vocabulary, p_subsampling)\n",
    "    for focus, context in test_sample:\n",
    "        compteur+=1\n",
    "        neg_sample = tirage_neg_sampling(vocabulary, p_negativesampling,\n",
    "                                         focus, context,\n",
    "                                         K = K)\n",
    "        vect_sample = np.append(context, neg_sample)\n",
    "        data = torch.matmul(input[focus,], torch.t(output[context,]))\n",
    "        loss1 = - F.logsigmoid(data)\n",
    "\n",
    "        data = torch.matmul(input[focus,], torch.t(output[neg_sample,]))\n",
    "        loss2 = - F.logsigmoid(-data).sum()\n",
    "        #print(loss)\n",
    "        loss_val += loss1 + loss2\n",
    "        # Pour ensuite dériver les matrices par rapport à la loss\n",
    "        (loss1+loss2).backward()\n",
    "        \n",
    "        # Il faut modifier juste le .data pour ne pas perdre la structure\n",
    "        input.data = input.data - learning_rate * input.grad.data\n",
    "        output.data = output.data - learning_rate * output.grad.data\n",
    "        \n",
    "        input.grad.data.zero_()\n",
    "        output.grad.data.zero_()\n",
    "    loss_val = loss_val / len(vocabulary)\n",
    "    loss_tot.append(loss_val)\n",
    "    live_plot(loss_tot)\n",
    "end = time.time()\n",
    "print(round((end - start)/60, 2))"
   ]
  },
  {
   "cell_type": "code",
   "execution_count": 19,
   "metadata": {},
   "outputs": [
    {
     "name": "stdout",
     "output_type": "stream",
     "text": [
      "Le mot signature a pour coordonnées [ 0.99930257  0.57583964  0.15630364  0.9032513  -0.2750622   0.40516764\n",
      " -0.05151942  0.20612009 -0.8610595  -0.13646814].\n"
     ]
    }
   ],
   "source": [
    "W3 = (input + output)/2\n",
    "mot_poids = {vocabulary[index]: poids.detach().numpy() for (index, poids) in enumerate(W3)}\n",
    "for cle, valeur in list(mot_poids.items())[:1]:\n",
    "    print(\"Le mot {} a pour coordonnées {}.\".format(cle, valeur))\n",
    "    \n",
    "\n",
    "def cos_distance(u, v):\n",
    "    return (np.dot(u, v)  / (math.sqrt(np.dot(u, u)) *  (math.sqrt(np.dot(v, v)))))\n",
    "def mot_plus_proche(word, n=10):\n",
    "    word_distance = {}\n",
    "    for mot in mot_poids:\n",
    "        if mot != word:\n",
    "            word_distance[mot] = (cos_distance(mot_poids[mot],(mot_poids[word])))\n",
    "    word_distance = sorted(word_distance.items(), key=lambda t: t[1],reverse=True)\n",
    "    return word_distance[0:n]"
   ]
  },
  {
   "cell_type": "code",
   "execution_count": 20,
   "metadata": {},
   "outputs": [
    {
     "data": {
      "text/plain": [
       "[('alorsnickname', 0.9064449826922154),\n",
       " ('niaw', 0.884765600277602),\n",
       " ('yapas', 0.8728791103466244),\n",
       " ('squattée', 0.8680008393595477),\n",
       " ('boul', 0.8631014736258095),\n",
       " ('frager', 0.8593539023424053),\n",
       " ('waen', 0.8556218463844105),\n",
       " ('surveiller', 0.853363892731487),\n",
       " ('bronzer', 0.8314212211658233),\n",
       " ('pente', 0.8300833694761184)]"
      ]
     },
     "execution_count": 20,
     "metadata": {},
     "output_type": "execute_result"
    }
   ],
   "source": [
    "mot_plus_proche(\"grand\")"
   ]
  },
  {
   "cell_type": "markdown",
   "metadata": {},
   "source": [
    "## Evaluation par le \"human judgement\" \n",
    "\n",
    "### Définition et exemple de calcul d'un spearman rank\n",
    "\n",
    "Résumé de la page wikipédia française : https://fr.wikipedia.org/wiki/Corr%C3%A9lation_de_Spearman\n",
    "\n",
    "En statistique, la corrélation de Spearman ou rho de Spearman, est une mesure de dépendance statistique non paramétrique entre deux variables.\n",
    "\n",
    "La corrélation de Spearman est étudiée lorsque deux variables statistiques semblent corrélées sans que la relation entre les deux variables soit de type affine. Elle consiste à trouver un coefficient de corrélation, non pas entre les valeurs prises par les deux variables mais entre les rangs de ces valeurs. Elle estime à quel point la relation entre deux variables peut être décrite par une fonction monotone. S'il n'y a pas de données répétées, une corrélation de Spearman parfaite de +1 ou -1 est obtenue quand l'une des variables est une fonction monotone parfaite de l'autre. \n",
    "\n",
    "Pour un échantillon de taille n, les variables de rang ${\\displaystyle \\operatorname {rg} X_{i},\\operatorname {rg} Y_{i}}$ sont calculées à partir des données ${\\displaystyle X_{i},Y_{i}}$.\n",
    "\n",
    "La corrélation de Spearman est définie par :\n",
    "\n",
    "${\\displaystyle r_{s}={\\frac {\\operatorname {cov} (\\operatorname {rg} _{X},\\operatorname {rg} _{Y})}{\\sigma _{\\operatorname {rg} _{X}}\\sigma _{rg_{Y}}}}} $\n",
    "\n",
    "Où\n",
    "\n",
    " ${\\displaystyle \\operatorname {cov} (\\operatorname {rg} _{X},\\operatorname {rg} _{Y})}$ est la covariances de variables de rang,\n",
    "\n",
    "   ${\\displaystyle \\sigma _{\\operatorname {rg} _{Y}}} {\\displaystyle \\sigma _{\\operatorname {rg} _{Y}}}$ sont les écarts-type des variables de rang.\n",
    "\n",
    "On constate que cette définition correspond à la corrélation de Pearson des variables de rang. Le coefficient de Spearman permet de détecter des tendances monotones. Lorsque la tendance est affine, il se comporte de façon similaire au coefficient de Pearson. En revanche, il sera plus élevé que la corrélation de Pearson si la tendance est monotone mais non affine. Plus la tendance monotone est marquée, plus la valeur du coefficient est proche de 1 ou -1.\n",
    "\n",
    "De façon similaire au coefficient de Pearson, le coefficient de Spearman aura une valeur positive lorsque la tendance est croissante et négative lorsqu'elle est décroissante.\n",
    "\n",
    "Lorsque la tendance n'est pas monotone, il aura une valeur proche de 0. "
   ]
  },
  {
   "cell_type": "code",
   "execution_count": 182,
   "metadata": {},
   "outputs": [
    {
     "name": "stdout",
     "output_type": "stream",
     "text": [
      "Les échantillons sont corrélés (rejet de H0) p=0.000 / Valeur de la corrélation : 1.000\n",
      "Les échantillons sont corrélés (rejet de H0) p=0.000 / Valeur de la corrélation : 0.894\n",
      "Les échantillons sont non-corrélés (non rejet de H0) p=0.629 / Valeur de la corrélation : 0.015\n"
     ]
    }
   ],
   "source": [
    "from scipy.stats import spearmanr\n",
    "\n",
    "# On veut tester la corrélation de ces vecteurs\n",
    "# (Ce sera à terme les vecteurs de corrélations entre focus et contextes)\n",
    "x = rand(1000) * 20\n",
    "x_corr = 2*x #Ce vecteur est censé être ENTIEREMENT corrélé à X\n",
    "x_moycorr = x + (rand(1000) * 10) #Ce vecteur est censé être FORTEMENT corrélé à X\n",
    "x_uncorr=[1] #Ce vecteur est censé être NON corrélé à X\n",
    "for j in range(999):\n",
    "    x_uncorr.append(2)\n",
    "\n",
    "#On fait des tests à 5 %\n",
    "alpha = 0.05\n",
    "\n",
    "corr1, p_value1 = spearmanr(x, x_corr)\n",
    "if p_value1 > alpha:\n",
    "\tprint('Les échantillons sont non-corrélés (non rejet de H0) p=%.3f' % p_value1)\n",
    "else:\n",
    "\tprint('Les échantillons sont corrélés (rejet de H0) p=%.3f' % p_value1,'/ Valeur de la corrélation : %.3f'% corr1)\n",
    "\n",
    "corr2, p_value2 = spearmanr(x, x_moycorr)\n",
    "if p_value2 > alpha:\n",
    "\tprint('Les échantillons sont non-corrélés (non rejet de H0) p=%.3f' % p_value2)\n",
    "else:\n",
    "\tprint('Les échantillons sont corrélés (rejet de H0) p=%.3f' % p_value2,'/ Valeur de la corrélation : %.3f'% corr2)\n",
    "\n",
    "corr3, p_value3 = spearmanr(x, x_uncorr)\n",
    "if p_value3 > alpha:\n",
    "\tprint('Les échantillons sont non-corrélés (non rejet de H0) p=%.3f' % p_value3,'/ Valeur de la corrélation : %.3f'% corr3)\n",
    "else:\n",
    "\tprint('Les échantillons sont corrélés (rejet de H0) p=%.3f' % p_value3,'/ Valeur de la corrélation : %.3f'% corr3)\n"
   ]
  },
  {
   "cell_type": "markdown",
   "metadata": {},
   "source": [
    "### Chargement des données de human judegment et ajouter la distance cosinus du word2vec"
   ]
  },
  {
   "cell_type": "code",
   "execution_count": 179,
   "metadata": {},
   "outputs": [
    {
     "data": {
      "text/html": [
       "<div>\n",
       "<style scoped>\n",
       "    .dataframe tbody tr th:only-of-type {\n",
       "        vertical-align: middle;\n",
       "    }\n",
       "\n",
       "    .dataframe tbody tr th {\n",
       "        vertical-align: top;\n",
       "    }\n",
       "\n",
       "    .dataframe thead th {\n",
       "        text-align: right;\n",
       "    }\n",
       "</style>\n",
       "<table border=\"1\" class=\"dataframe\">\n",
       "  <thead>\n",
       "    <tr style=\"text-align: right;\">\n",
       "      <th></th>\n",
       "      <th>word1</th>\n",
       "      <th>word2</th>\n",
       "      <th>corr</th>\n",
       "    </tr>\n",
       "  </thead>\n",
       "  <tbody>\n",
       "    <tr>\n",
       "      <td>0</td>\n",
       "      <td>corde</td>\n",
       "      <td>sourire</td>\n",
       "      <td>0.00</td>\n",
       "    </tr>\n",
       "    <tr>\n",
       "      <td>1</td>\n",
       "      <td>midi</td>\n",
       "      <td>ficelle</td>\n",
       "      <td>0.00</td>\n",
       "    </tr>\n",
       "    <tr>\n",
       "      <td>2</td>\n",
       "      <td>coq</td>\n",
       "      <td>périple</td>\n",
       "      <td>0.06</td>\n",
       "    </tr>\n",
       "    <tr>\n",
       "      <td>3</td>\n",
       "      <td>fruit</td>\n",
       "      <td>fournaise</td>\n",
       "      <td>0.11</td>\n",
       "    </tr>\n",
       "    <tr>\n",
       "      <td>4</td>\n",
       "      <td>autographe</td>\n",
       "      <td>rivage</td>\n",
       "      <td>0.00</td>\n",
       "    </tr>\n",
       "    <tr>\n",
       "      <td>...</td>\n",
       "      <td>...</td>\n",
       "      <td>...</td>\n",
       "      <td>...</td>\n",
       "    </tr>\n",
       "    <tr>\n",
       "      <td>60</td>\n",
       "      <td>coussin</td>\n",
       "      <td>oreiller</td>\n",
       "      <td>3.00</td>\n",
       "    </tr>\n",
       "    <tr>\n",
       "      <td>61</td>\n",
       "      <td>cimetière</td>\n",
       "      <td>cimetière</td>\n",
       "      <td>4.00</td>\n",
       "    </tr>\n",
       "    <tr>\n",
       "      <td>62</td>\n",
       "      <td>automobile</td>\n",
       "      <td>auto</td>\n",
       "      <td>3.94</td>\n",
       "    </tr>\n",
       "    <tr>\n",
       "      <td>63</td>\n",
       "      <td>joyau</td>\n",
       "      <td>bijou</td>\n",
       "      <td>3.22</td>\n",
       "    </tr>\n",
       "    <tr>\n",
       "      <td>64</td>\n",
       "      <td>midi</td>\n",
       "      <td>dîner</td>\n",
       "      <td>2.17</td>\n",
       "    </tr>\n",
       "  </tbody>\n",
       "</table>\n",
       "<p>65 rows × 3 columns</p>\n",
       "</div>"
      ],
      "text/plain": [
       "         word1      word2  corr\n",
       "0        corde    sourire  0.00\n",
       "1         midi    ficelle  0.00\n",
       "2          coq    périple  0.06\n",
       "3        fruit  fournaise  0.11\n",
       "4   autographe     rivage  0.00\n",
       "..         ...        ...   ...\n",
       "60     coussin   oreiller  3.00\n",
       "61   cimetière  cimetière  4.00\n",
       "62  automobile       auto  3.94\n",
       "63       joyau      bijou  3.22\n",
       "64        midi      dîner  2.17\n",
       "\n",
       "[65 rows x 3 columns]"
      ]
     },
     "execution_count": 179,
     "metadata": {},
     "output_type": "execute_result"
    }
   ],
   "source": [
    "import pandas as pd\n",
    "df = pd.read_csv('C:/Users/Kim Antunez/Documents/Projets_autres/StatApp/data_bis/word_similarity.csv', sep=\";\")\n",
    "df"
   ]
  },
  {
   "cell_type": "code",
   "execution_count": 180,
   "metadata": {},
   "outputs": [],
   "source": [
    "def distance_mots(word1,word2):\n",
    "    if word1 in mot_poids.keys() and word2 in mot_poids.keys():\n",
    "        word_distance = (cos_distance(mot_poids[word1],(mot_poids[word2])))\n",
    "    else:\n",
    "        word_distance = float('nan')\n",
    "    return word_distance\n",
    "distance_mots_v = np.vectorize(distance_mots)"
   ]
  },
  {
   "cell_type": "code",
   "execution_count": 181,
   "metadata": {},
   "outputs": [
    {
     "name": "stdout",
     "output_type": "stream",
     "text": [
      "65\n"
     ]
    },
    {
     "data": {
      "text/html": [
       "<div>\n",
       "<style scoped>\n",
       "    .dataframe tbody tr th:only-of-type {\n",
       "        vertical-align: middle;\n",
       "    }\n",
       "\n",
       "    .dataframe tbody tr th {\n",
       "        vertical-align: top;\n",
       "    }\n",
       "\n",
       "    .dataframe thead th {\n",
       "        text-align: right;\n",
       "    }\n",
       "</style>\n",
       "<table border=\"1\" class=\"dataframe\">\n",
       "  <thead>\n",
       "    <tr style=\"text-align: right;\">\n",
       "      <th></th>\n",
       "      <th>word1</th>\n",
       "      <th>word2</th>\n",
       "      <th>corr</th>\n",
       "      <th>corr_word2vec</th>\n",
       "    </tr>\n",
       "  </thead>\n",
       "  <tbody>\n",
       "    <tr>\n",
       "      <td>20</td>\n",
       "      <td>garçon</td>\n",
       "      <td>sage</td>\n",
       "      <td>0.29</td>\n",
       "      <td>-0.035004</td>\n",
       "    </tr>\n",
       "    <tr>\n",
       "      <td>33</td>\n",
       "      <td>auto</td>\n",
       "      <td>voyage</td>\n",
       "      <td>0.33</td>\n",
       "      <td>-0.493026</td>\n",
       "    </tr>\n",
       "    <tr>\n",
       "      <td>35</td>\n",
       "      <td>verre</td>\n",
       "      <td>bijou</td>\n",
       "      <td>0.56</td>\n",
       "      <td>-0.575871</td>\n",
       "    </tr>\n",
       "    <tr>\n",
       "      <td>38</td>\n",
       "      <td>frère</td>\n",
       "      <td>gars</td>\n",
       "      <td>2.00</td>\n",
       "      <td>-0.200650</td>\n",
       "    </tr>\n",
       "    <tr>\n",
       "      <td>53</td>\n",
       "      <td>voyage</td>\n",
       "      <td>périple</td>\n",
       "      <td>2.59</td>\n",
       "      <td>-0.131820</td>\n",
       "    </tr>\n",
       "    <tr>\n",
       "      <td>59</td>\n",
       "      <td>garçon</td>\n",
       "      <td>gars</td>\n",
       "      <td>3.83</td>\n",
       "      <td>-0.172915</td>\n",
       "    </tr>\n",
       "    <tr>\n",
       "      <td>64</td>\n",
       "      <td>midi</td>\n",
       "      <td>dîner</td>\n",
       "      <td>2.17</td>\n",
       "      <td>0.582349</td>\n",
       "    </tr>\n",
       "  </tbody>\n",
       "</table>\n",
       "</div>"
      ],
      "text/plain": [
       "     word1    word2  corr  corr_word2vec\n",
       "20  garçon     sage  0.29      -0.035004\n",
       "33    auto   voyage  0.33      -0.493026\n",
       "35   verre    bijou  0.56      -0.575871\n",
       "38   frère     gars  2.00      -0.200650\n",
       "53  voyage  périple  2.59      -0.131820\n",
       "59  garçon     gars  3.83      -0.172915\n",
       "64    midi    dîner  2.17       0.582349"
      ]
     },
     "execution_count": 181,
     "metadata": {},
     "output_type": "execute_result"
    }
   ],
   "source": [
    "df[\"corr_word2vec\"] = distance_mots_v(df[\"word1\"],df[\"word2\"])\n",
    "print(len(df))\n",
    "df = df.dropna()\n",
    "print(len(df))\n",
    "df"
   ]
  },
  {
   "cell_type": "code",
   "execution_count": 183,
   "metadata": {},
   "outputs": [
    {
     "name": "stdout",
     "output_type": "stream",
     "text": [
      "Le résultat de word2vec est différent de celui du human judgement (non rejet de H0 = non corrélation) p=0.645 / Valeur de la corrélation : 0.214\n"
     ]
    }
   ],
   "source": [
    "from scipy.stats import spearmanr\n",
    "#On fait des tests à 5 %\n",
    "alpha = 0.05\n",
    "\n",
    "corr, p_value = spearmanr(df[\"corr\"], df[\"corr_word2vec\"])\n",
    "if p_value > alpha:\n",
    "\tprint('Le résultat de word2vec est différent de celui du human judgement (non rejet de H0 = non corrélation) p=%.3f' % p_value,'/ Valeur de la corrélation : %.3f'% corr)\n",
    "else:\n",
    "\tprint('Le résultat de word2vec est semblable celui du human judgement (rejet de H0 = non corrélation) p=%.3f' % p_value,'/ Valeur de la corrélation : %.3f'% corr)\n"
   ]
  }
 ],
 "metadata": {
  "kernelspec": {
   "display_name": "Python 3",
   "language": "python",
   "name": "python3"
  },
  "language_info": {
   "codemirror_mode": {
    "name": "ipython",
    "version": 3
   },
   "file_extension": ".py",
   "mimetype": "text/x-python",
   "name": "python",
   "nbconvert_exporter": "python",
   "pygments_lexer": "ipython3",
   "version": "3.7.4"
  }
 },
 "nbformat": 4,
 "nbformat_minor": 2
}
