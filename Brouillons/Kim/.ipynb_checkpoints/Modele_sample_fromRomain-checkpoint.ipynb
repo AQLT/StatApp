{
 "cells": [
  {
   "cell_type": "markdown",
   "metadata": {},
   "source": [
    "# Début d'implémentation du modèle"
   ]
  },
  {
   "cell_type": "markdown",
   "metadata": {},
   "source": [
    "### Étape 0 : Importations"
   ]
  },
  {
   "cell_type": "code",
   "execution_count": 122,
   "metadata": {},
   "outputs": [],
   "source": [
    "import numpy as np\n",
    "import torch\n",
    "from torch.autograd import Variable\n",
    "import torch.nn.functional as F\n",
    "import math\n",
    "import pandas as pd\n",
    "import random"
   ]
  },
  {
   "cell_type": "markdown",
   "metadata": {},
   "source": [
    "### Étape 1 : Récupération des données"
   ]
  },
  {
   "cell_type": "code",
   "execution_count": 123,
   "metadata": {},
   "outputs": [],
   "source": [
    "df = pd.read_csv(\"W:/Documents/StatApp/Github/StatApp/data/sample_3.txt\",sep='\\n',header=None)"
   ]
  },
  {
   "cell_type": "markdown",
   "metadata": {},
   "source": [
    "### Étape 2 : Créer le vocabulaire à partir du corpus de phrases"
   ]
  },
  {
   "cell_type": "code",
   "execution_count": 124,
   "metadata": {},
   "outputs": [
    {
     "name": "stdout",
     "output_type": "stream",
     "text": [
      "                                                   0\n",
      "2                                  Il est 1 heure . \n",
      "3  Eeeeh jfais la go qui a de les programmes mais...\n"
     ]
    }
   ],
   "source": [
    "df2 = df[0:10000]\n",
    "\n",
    "corpus = []\n",
    "for index, row in df2.iterrows():\n",
    "    for j, column in row.iteritems():\n",
    "        corpus.append(column)\n",
    "        \n",
    "#Resultats\n",
    "print(df2[2:4])"
   ]
  },
  {
   "cell_type": "code",
   "execution_count": 125,
   "metadata": {},
   "outputs": [
    {
     "name": "stdout",
     "output_type": "stream",
     "text": [
      "['il est 1 heure  ', 'eeeeh jfais la go qui a de les programmes mais j’ ai même pas de navigo ptdddddr 😭 ']\n"
     ]
    }
   ],
   "source": [
    "corpus_corr = []\n",
    "\n",
    "for phrase in corpus:\n",
    "    # Suppression de la ponctuation\n",
    "    phrase = phrase.replace(\"?\",\"\")\n",
    "    phrase = phrase.replace(\".\",\"\")\n",
    "    phrase = phrase.replace(\"!\",\"\")\n",
    "    phrase = phrase.replace(\";\",\"\")\n",
    "    phrase = phrase.replace(\",\",\"\")\n",
    "    phrase = phrase.replace(\":\",\"\")\n",
    "    phrase = phrase.replace(\"#\",\"\")                            \n",
    "                            \n",
    "    # On met tout en minuscule\n",
    "    phrase = phrase.lower()\n",
    "    # On ajoute la phrase\n",
    "    corpus_corr.append(phrase)\n",
    "    \n",
    "#Resultats    \n",
    "print(corpus_corr[2:4])"
   ]
  },
  {
   "cell_type": "code",
   "execution_count": 126,
   "metadata": {},
   "outputs": [
    {
     "name": "stdout",
     "output_type": "stream",
     "text": [
      "[['il', 'est', '1', 'heure'], ['eeeeh', 'jfais', 'la', 'go', 'qui', 'a', 'de', 'les', 'programmes', 'mais', 'j’', 'ai', 'même', 'pas', 'de', 'navigo', 'ptdddddr', '😭']]\n"
     ]
    }
   ],
   "source": [
    "def tokenize(corpus):\n",
    "    tokens = [phrase.split() for phrase in corpus]\n",
    "    return tokens\n",
    "\n",
    "t_corpus = tokenize(corpus_corr)\n",
    "\n",
    "#Resultats\n",
    "print(t_corpus[2:4])"
   ]
  },
  {
   "cell_type": "code",
   "execution_count": 127,
   "metadata": {},
   "outputs": [
    {
     "name": "stdout",
     "output_type": "stream",
     "text": [
      "[['@nickname', 'et', 'fière', 'je', \"t'\", \"en'\", 'voi', 'att', \"j'\", 'avais', 'oublié'], ['il', 'est', '1', 'heure'], ['eeeeh', 'jfais', 'la', 'go', 'qui', 'a', 'de', 'les', 'programmes', 'mais', 'j’', 'ai', 'même', 'pas', 'de', 'navigo', 'ptdddddr', '😭'], ['en', 'tout', 'cas', 'la', 'demoiselle', 'a', 'bien', 'raison'], ['le', 'rathalos', 'est', 'un', 'gros', 'fils', 'de', 'pute', 'bonne', 'nuit'], ['@nickname', 'et', 'puis', 'un', 'jour', 'pfffffffffus', 'rien', 'ne', 'fonctionne', 'l’', 'humain', 'se', 'meurt', 'à', 'petit', 'feu'], ['@nickname', 'je', 'veux', 'pas', '+', 'en', 'savoir', 'sasuke', '(', 'j’', 'sais', 'pas', 'qui', 'c’', 'est', 'mais', 'j’', 'crois', 'il', 'est', 'sombre', ')'], ['à', 'partir', 'de', 'quand', 'peut', '-on', 'se', 'qualifier', 'de', 'fan'], ['go', 'profité', 'de', 'les', '6h20', 'de', 'sommeil', \"qu'\", 'il', 'me', 'reste']]\n"
     ]
    }
   ],
   "source": [
    "# On remplace les @nicknames\n",
    "phrase_corr = []\n",
    "corpus_corr2 = []\n",
    "for phrase in t_corpus:\n",
    "    for mot in phrase:\n",
    "        if mot[0] == '@':\n",
    "           mot = \"@nickname\"\n",
    "        phrase_corr.append(mot)\n",
    "    corpus_corr2.append(phrase_corr)\n",
    "    phrase_corr = []\n",
    "   \n",
    "t_corpus = corpus_corr2\n",
    "\n",
    "#Resultats\n",
    "print(t_corpus[1:10])"
   ]
  },
  {
   "cell_type": "code",
   "execution_count": 128,
   "metadata": {
    "scrolled": true
   },
   "outputs": [
    {
     "name": "stdout",
     "output_type": "stream",
     "text": [
      "Il y a  13598 mots DIFFERENTS dans le corpus.\n",
      "La clé il contient la valeur 860.\n",
      "La clé mérite contient la valeur 10.\n",
      "La clé d’ contient la valeur 276.\n"
     ]
    }
   ],
   "source": [
    "voc = []\n",
    "freqs = {}\n",
    "for phrase in t_corpus:\n",
    "    for mot in phrase:\n",
    "        if mot not in voc:\n",
    "            voc.append(mot)\n",
    "            freqs[mot] = 1\n",
    "        else:\n",
    "            freqs[mot] +=1\n",
    "voc_size = len(voc)\n",
    "\n",
    "#Resultats\n",
    "print(\"Il y a \", len(freqs), \"mots DIFFERENTS dans le corpus.\")\n",
    "for cle, valeur in list(freqs.items())[0:3]:\n",
    "    print(\"La clé {} contient la valeur {}.\".format(cle, valeur))\n",
    "    \n",
    "    "
   ]
  },
  {
   "cell_type": "markdown",
   "metadata": {},
   "source": [
    "###### Calcul des probas pour le subsampling et le negative sampling"
   ]
  },
  {
   "cell_type": "code",
   "execution_count": 129,
   "metadata": {},
   "outputs": [
    {
     "name": "stdout",
     "output_type": "stream",
     "text": [
      "Il y a 112688 mots EN TOUT dans le corpus.\n"
     ]
    }
   ],
   "source": [
    "total_mots = 0\n",
    "for phrase in t_corpus:\n",
    "    total_mots += len(phrase)\n",
    "    \n",
    "#Resultats\n",
    "print(\"Il y a\", total_mots, \"mots EN TOUT dans le corpus.\")"
   ]
  },
  {
   "cell_type": "code",
   "execution_count": 130,
   "metadata": {},
   "outputs": [
    {
     "name": "stdout",
     "output_type": "stream",
     "text": [
      "La clé il contient la valeur 0.007631691040749681.\n",
      "La clé mérite contient la valeur 8.87405934970893e-05.\n",
      "La clé d’ contient la valeur 0.002449240380519665.\n"
     ]
    }
   ],
   "source": [
    "for key, value in freqs.items():\n",
    "    freqs[key] = value / total_mots\n",
    "\n",
    "#Resultats\n",
    "for cle, valeur in list(freqs.items())[0:3]:\n",
    "    print(\"La clé {} contient la valeur {}.\".format(cle, valeur)) "
   ]
  },
  {
   "cell_type": "code",
   "execution_count": 131,
   "metadata": {},
   "outputs": [
    {
     "name": "stdout",
     "output_type": "stream",
     "text": [
      "La clé il contient la valeur 0.49301675411987717.\n",
      "La clé mérite contient la valeur 1.\n",
      "La clé d’ contient la valeur 1.\n"
     ]
    }
   ],
   "source": [
    "# Probabilité d'être gardé dans le subsampling\n",
    "p_sub = {word: min((math.sqrt(freqs[word]/0.001)+1)*(0.001/freqs[word]),1) for word in freqs}\n",
    "\n",
    "#Resultats\n",
    "for cle, valeur in list(p_sub.items())[0:3]:\n",
    "    print(\"La clé {} contient la valeur {}.\".format(cle, valeur))"
   ]
  },
  {
   "cell_type": "code",
   "execution_count": 135,
   "metadata": {},
   "outputs": [
    {
     "name": "stdout",
     "output_type": "stream",
     "text": [
      "La clé il contient la valeur 0.0038444199610177076.\n",
      "La clé mérite contient la valeur 0.0001361309844213106.\n",
      "La clé d’ contient la valeur 0.0016392258595599853.\n"
     ]
    }
   ],
   "source": [
    "#negative sampling \n",
    "p_neg_1 = {word: freqs[word]**(3/4) for word in freqs}\n",
    "total_neg = 0\n",
    "for word in p_neg_1:\n",
    "    total_neg+=p_neg_1[word]\n",
    "p_neg = {word: p_neg_1[word]/total_neg for word in p_neg_1}\n",
    "\n",
    "#Resultats\n",
    "for cle, valeur in list(p_neg.items())[0:3]:\n",
    "    print(\"La clé {} contient la valeur {}.\".format(cle, valeur))"
   ]
  },
  {
   "cell_type": "code",
   "execution_count": 121,
   "metadata": {},
   "outputs": [],
   "source": [
    "#On commence à avoir un peu d'aléa a partir de maintenant donc on fixe la graine pour voir...\n",
    "#np.random.seed(0)\n",
    "\n",
    "#On ne garde que les mots les moins fréquents dans notre échantillon d'entraînement. \n",
    "#train_words = [word for word in voc if np.random.random() < (p_drop[word])]\n",
    "#voc_size = len(train_words)\n",
    "\n",
    "#Resultats\n",
    "#print(\"Il y a\",len(train_words),\"mots d'entrainement\")\n",
    "#print(train_words[1:10])\n",
    "\n",
    "#corpus_samp = []\n",
    "#for phrase in t_corpus:\n",
    "#    phrase_samp = []\n",
    "#    for mot in phrase:\n",
    "#        if mot in train_words:\n",
    "#            phrase_samp.append(mot)\n",
    "#    corpus_samp.append(phrase_samp)\n",
    "\n",
    "#Resultats\n",
    "#print(\"Premier élément ancien corpus : \")\n",
    "#print(t_corpus[0])\n",
    "#print(\"Premier élément corpus nettoyé après sub sampling : \")\n",
    "#print(corpus_samp[0])\n"
   ]
  },
  {
   "cell_type": "markdown",
   "metadata": {},
   "source": [
    "### Étape 3 : Créations pairs mots centraux / contexte"
   ]
  },
  {
   "cell_type": "code",
   "execution_count": 136,
   "metadata": {},
   "outputs": [],
   "source": [
    "mot_index = {w: index for (index, w) in enumerate(voc)}\n",
    "index_mot = {index: w for (index, w) in enumerate(voc)}\n",
    "\n",
    "taille_fenetre = 4\n",
    "index_pairs = []\n",
    "# On traite chaque phrase.\n",
    "for phrase in t_corpus:\n",
    "    indices = [mot_index[mot] for mot in phrase]\n",
    "    # On traite chaque mot comme un mot central\n",
    "    for center_word in range(len(indices)):\n",
    "        # Pour chaque fenetre possible\n",
    "        for w in range(-taille_fenetre, taille_fenetre + 1):\n",
    "            context_word = center_word + w\n",
    "            # On fait attention à ne pas sauter de phrases\n",
    "            if context_word < 0 or context_word >= len(indices) or center_word == context_word:\n",
    "                continue\n",
    "            context_word_ind = indices[context_word]\n",
    "            index_pairs.append((indices[center_word], context_word_ind))\n",
    "\n",
    "index_pairs_np = np.array(index_pairs)"
   ]
  },
  {
   "cell_type": "code",
   "execution_count": 137,
   "metadata": {},
   "outputs": [
    {
     "name": "stdout",
     "output_type": "stream",
     "text": [
      "Contenu de mot_index : \n",
      "le mot il a pour index 0.\n",
      "\n",
      "Contenu de index_mot : \n",
      "le mot 0 a pour index il.\n",
      "\n",
      "Contenu de index_pairs : \n",
      "[(0, 2), (0, 3), (0, 4), (1, 0), (1, 2), (1, 3), (1, 4), (1, 5), (2, 0)]\n",
      "\n",
      "Contenu de index_pairs_np : \n",
      "[[0 2]\n",
      " [0 3]\n",
      " [0 4]\n",
      " [1 0]\n",
      " [1 2]\n",
      " [1 3]\n",
      " [1 4]\n",
      " [1 5]\n",
      " [2 0]]\n"
     ]
    }
   ],
   "source": [
    "#Resultats\n",
    "print(\"Contenu de mot_index : \")\n",
    "for cle, valeur in list(mot_index.items())[:1]:\n",
    "    print(\"le mot {} a pour index {}.\".format(cle, valeur))\n",
    "print(\"\\nContenu de index_mot : \")\n",
    "for cle, valeur in list(index_mot.items())[:1]:\n",
    "    print(\"le mot {} a pour index {}.\".format(cle, valeur))\n",
    "        \n",
    "print(\"\\nContenu de index_pairs : \")\n",
    "print(index_pairs[1:10])\n",
    "print(\"\\nContenu de index_pairs_np : \")\n",
    "print(index_pairs_np[1:10])"
   ]
  },
  {
   "cell_type": "markdown",
   "metadata": {},
   "source": [
    "### Étape 4 : Création du modèle"
   ]
  },
  {
   "cell_type": "code",
   "execution_count": 143,
   "metadata": {},
   "outputs": [],
   "source": [
    "#### Attente nouvelle version Romain\n",
    "\n",
    "#Couche d'entrée\n",
    "def get_input_layer(word_idx):\n",
    "    x = torch.zeros(voc_size).float()\n",
    "    x[word_idx] = 1.0\n",
    "    return x\n",
    "\n",
    "# Choix de dimension\n",
    "embedding_dims = 10\n",
    "# Initialisation\n",
    "# Variable : comme Tensor mais avec les valeurs qui changent pendant le traitement\n",
    "W1 = Variable(torch.randn(embedding_dims, voc_size).float(), requires_grad=True)\n",
    "W2 = Variable(torch.randn(voc_size, embedding_dims).float(), requires_grad=True)\n",
    "num_epochs = 5 # \"époques\"\n",
    "learning_rate = 0.01\n",
    "\n",
    "# Différentes étapes\n",
    "for epo in range(num_epochs):\n",
    "    loss_val = 0\n",
    "    for word, context in index_pairs[1:1000]: #####ATTENTION A ENLEVER le [1:X]\n",
    "        x = Variable(get_input_layer(word)).float()\n",
    "        y_true = Variable(torch.from_numpy(np.array([context])).long())\n",
    "\n",
    "        # Matmul = produits matriciels de deux tensors\n",
    "        z1 = torch.matmul(W1, x)\n",
    "        z2 = torch.matmul(W2, z1)\n",
    "    \n",
    "        # Calcul softmax\n",
    "        log_softmax = F.log_softmax(z2, dim=0)\n",
    "        \n",
    "        # nll_loss(pred/target) - negative log likehood\n",
    "        loss = F.nll_loss(log_softmax.view(1,-1), y_true)\n",
    "        loss_val += loss.data\n",
    "        \n",
    "        # Propagation\n",
    "        loss.backward()\n",
    "        W1.data -= learning_rate * W1.grad.data\n",
    "        W2.data -= learning_rate * W2.grad.data\n",
    "\n",
    "        W1.grad.data.zero_()\n",
    "        W2.grad.data.zero_()"
   ]
  },
  {
   "cell_type": "code",
   "execution_count": 144,
   "metadata": {},
   "outputs": [
    {
     "name": "stdout",
     "output_type": "stream",
     "text": [
      "tensor([[-6.0528e-01, -1.2635e+00,  3.0218e-01,  ...,  6.6287e-01,\n",
      "          8.2751e-01,  4.4524e-01]], grad_fn=<SliceBackward>)\n",
      "tensor([[ 0.2965,  1.1058,  0.8936,  0.6576, -0.7671, -0.5915, -0.0362,  0.2257,\n",
      "          0.1649, -0.7519]], grad_fn=<SliceBackward>)\n"
     ]
    }
   ],
   "source": [
    "#Resultats \n",
    "print(W1[0:1])\n",
    "print(W2[0:1])"
   ]
  },
  {
   "cell_type": "code",
   "execution_count": 145,
   "metadata": {},
   "outputs": [],
   "source": [
    "# Distance/similarité cosinus\n",
    "def cos_distance(u, v):\n",
    "    return (np.dot(u, v)  / (math.sqrt(np.dot(u, u)) *  (math.sqrt(np.dot(v, v)))))"
   ]
  },
  {
   "cell_type": "code",
   "execution_count": 146,
   "metadata": {},
   "outputs": [],
   "source": [
    "# Dictionnaire des poids\n",
    "mot_poids = {index_mot[index]: poids.detach().numpy() for (index, poids) in enumerate(W2)}"
   ]
  },
  {
   "cell_type": "code",
   "execution_count": 147,
   "metadata": {},
   "outputs": [
    {
     "name": "stdout",
     "output_type": "stream",
     "text": [
      "Il y a  13598 mots avec des vecteurs de poids associés\n",
      "\n",
      "le mot il a pour poids [ 0.2965326   1.1058315   0.89360094  0.65762323 -0.7670584  -0.59147245\n",
      " -0.03616745  0.22572127  0.16494267 -0.7518937 ].\n"
     ]
    }
   ],
   "source": [
    "print(\"Il y a \",len(mot_poids),\"mots avec des vecteurs de poids associés\\n\")\n",
    "\n",
    "for cle, valeur in list(mot_poids.items())[:1]:\n",
    "    print(\"le mot {} a pour poids {}.\".format(cle, valeur))\n"
   ]
  },
  {
   "cell_type": "markdown",
   "metadata": {},
   "source": [
    "### Étape 5 : Résultats du modèle"
   ]
  },
  {
   "cell_type": "code",
   "execution_count": 148,
   "metadata": {},
   "outputs": [],
   "source": [
    "def mot_plus_proche(word, n=5):\n",
    "    word_distance = {}\n",
    "    for mot in mot_poids:\n",
    "        if mot != word:\n",
    "            word_distance[mot] = (cos_distance(mot_poids[mot],(mot_poids[word])))\n",
    "    word_distance = sorted(word_distance.items(), key=lambda t: t[1],reverse=True)\n",
    "    return word_distance[0:n]"
   ]
  },
  {
   "cell_type": "code",
   "execution_count": 149,
   "metadata": {},
   "outputs": [
    {
     "data": {
      "text/plain": [
       "[('allergie', 0.8833609088141965),\n",
       " ('lb', 0.8788200115148704),\n",
       " ('cacher', 0.8534179778559605),\n",
       " ('winston', 0.8523046428187754),\n",
       " ('tôt🔥', 0.8493962930293477)]"
      ]
     },
     "execution_count": 149,
     "metadata": {},
     "output_type": "execute_result"
    }
   ],
   "source": [
    "mot_test = \"mérite\"\n",
    "mots_proches = mot_plus_proche(mot_test,5)\n",
    "mots_proches"
   ]
  },
  {
   "cell_type": "markdown",
   "metadata": {},
   "source": [
    "### Étape 6 : Data visualisation"
   ]
  },
  {
   "cell_type": "code",
   "execution_count": 150,
   "metadata": {
    "scrolled": true
   },
   "outputs": [
    {
     "data": {
      "text/html": [
       "<div>\n",
       "<style scoped>\n",
       "    .dataframe tbody tr th:only-of-type {\n",
       "        vertical-align: middle;\n",
       "    }\n",
       "\n",
       "    .dataframe tbody tr th {\n",
       "        vertical-align: top;\n",
       "    }\n",
       "\n",
       "    .dataframe thead th {\n",
       "        text-align: right;\n",
       "    }\n",
       "</style>\n",
       "<table border=\"1\" class=\"dataframe\">\n",
       "  <thead>\n",
       "    <tr style=\"text-align: right;\">\n",
       "      <th></th>\n",
       "      <th>0</th>\n",
       "      <th>1</th>\n",
       "      <th>2</th>\n",
       "      <th>3</th>\n",
       "      <th>4</th>\n",
       "      <th>5</th>\n",
       "      <th>6</th>\n",
       "      <th>7</th>\n",
       "      <th>8</th>\n",
       "      <th>9</th>\n",
       "      <th>label</th>\n",
       "    </tr>\n",
       "  </thead>\n",
       "  <tbody>\n",
       "    <tr>\n",
       "      <th>il</th>\n",
       "      <td>0.296533</td>\n",
       "      <td>1.105832</td>\n",
       "      <td>0.893601</td>\n",
       "      <td>0.657623</td>\n",
       "      <td>-0.767058</td>\n",
       "      <td>-0.591472</td>\n",
       "      <td>-0.036167</td>\n",
       "      <td>0.225721</td>\n",
       "      <td>0.164943</td>\n",
       "      <td>-0.751894</td>\n",
       "      <td>Autre</td>\n",
       "    </tr>\n",
       "    <tr>\n",
       "      <th>mérite</th>\n",
       "      <td>0.973640</td>\n",
       "      <td>1.765254</td>\n",
       "      <td>-0.155052</td>\n",
       "      <td>-1.465432</td>\n",
       "      <td>-1.313222</td>\n",
       "      <td>0.084430</td>\n",
       "      <td>0.585301</td>\n",
       "      <td>2.863036</td>\n",
       "      <td>-0.775647</td>\n",
       "      <td>1.898356</td>\n",
       "      <td>Exemple 1 Target</td>\n",
       "    </tr>\n",
       "    <tr>\n",
       "      <th>d’</th>\n",
       "      <td>0.497566</td>\n",
       "      <td>-0.459737</td>\n",
       "      <td>0.070080</td>\n",
       "      <td>-1.624784</td>\n",
       "      <td>-0.880588</td>\n",
       "      <td>-0.181245</td>\n",
       "      <td>-0.210444</td>\n",
       "      <td>-0.018964</td>\n",
       "      <td>1.576706</td>\n",
       "      <td>1.437540</td>\n",
       "      <td>Autre</td>\n",
       "    </tr>\n",
       "  </tbody>\n",
       "</table>\n",
       "</div>"
      ],
      "text/plain": [
       "               0         1         2         3         4         5         6  \\\n",
       "il      0.296533  1.105832  0.893601  0.657623 -0.767058 -0.591472 -0.036167   \n",
       "mérite  0.973640  1.765254 -0.155052 -1.465432 -1.313222  0.084430  0.585301   \n",
       "d’      0.497566 -0.459737  0.070080 -1.624784 -0.880588 -0.181245 -0.210444   \n",
       "\n",
       "               7         8         9             label  \n",
       "il      0.225721  0.164943 -0.751894             Autre  \n",
       "mérite  2.863036 -0.775647  1.898356  Exemple 1 Target  \n",
       "d’     -0.018964  1.576706  1.437540             Autre  "
      ]
     },
     "execution_count": 150,
     "metadata": {},
     "output_type": "execute_result"
    }
   ],
   "source": [
    "import pandas as pd\n",
    "df = pd.DataFrame.from_dict(mot_poids).transpose()\n",
    "df['label'] = 'Autre' \n",
    "\n",
    "df.loc[mot_test,'label'] = 'Exemple 1 Target'\n",
    "\n",
    "for i in range(0,len(mots_proches)):\n",
    "    df.loc[mots_proches[i][0],'label'] = 'Exemple 1 Contexte'\n",
    "\n",
    "df.head(3)"
   ]
  },
  {
   "cell_type": "code",
   "execution_count": 151,
   "metadata": {},
   "outputs": [],
   "source": [
    "from sklearn.preprocessing import StandardScaler\n",
    "features = [0, 1, 2, 3, 4, 5, 6, 7,8 ,9]\n",
    "# Separating out the features\n",
    "x = df.loc[:, features].values\n",
    "# Separating out the target\n",
    "y = df.loc[:,['label']].values\n",
    "# Standardizing the features\n",
    "x = StandardScaler().fit_transform(x)"
   ]
  },
  {
   "cell_type": "code",
   "execution_count": 152,
   "metadata": {},
   "outputs": [
    {
     "data": {
      "text/html": [
       "<div>\n",
       "<style scoped>\n",
       "    .dataframe tbody tr th:only-of-type {\n",
       "        vertical-align: middle;\n",
       "    }\n",
       "\n",
       "    .dataframe tbody tr th {\n",
       "        vertical-align: top;\n",
       "    }\n",
       "\n",
       "    .dataframe thead th {\n",
       "        text-align: right;\n",
       "    }\n",
       "</style>\n",
       "<table border=\"1\" class=\"dataframe\">\n",
       "  <thead>\n",
       "    <tr style=\"text-align: right;\">\n",
       "      <th></th>\n",
       "      <th>Axe 1</th>\n",
       "      <th>Axe 2</th>\n",
       "    </tr>\n",
       "  </thead>\n",
       "  <tbody>\n",
       "    <tr>\n",
       "      <th>0</th>\n",
       "      <td>0.060550</td>\n",
       "      <td>-0.171921</td>\n",
       "    </tr>\n",
       "    <tr>\n",
       "      <th>1</th>\n",
       "      <td>0.506523</td>\n",
       "      <td>2.310219</td>\n",
       "    </tr>\n",
       "  </tbody>\n",
       "</table>\n",
       "</div>"
      ],
      "text/plain": [
       "      Axe 1     Axe 2\n",
       "0  0.060550 -0.171921\n",
       "1  0.506523  2.310219"
      ]
     },
     "execution_count": 152,
     "metadata": {},
     "output_type": "execute_result"
    }
   ],
   "source": [
    "from sklearn.decomposition import PCA\n",
    "pca = PCA(n_components=2)\n",
    "principalComponents = pca.fit_transform(x)\n",
    "principalDf = pd.DataFrame(data = principalComponents\n",
    "             , columns = ['Axe 1', 'Axe 2'])\n",
    "principalDf.head(2)"
   ]
  },
  {
   "cell_type": "code",
   "execution_count": 153,
   "metadata": {},
   "outputs": [
    {
     "data": {
      "text/html": [
       "<div>\n",
       "<style scoped>\n",
       "    .dataframe tbody tr th:only-of-type {\n",
       "        vertical-align: middle;\n",
       "    }\n",
       "\n",
       "    .dataframe tbody tr th {\n",
       "        vertical-align: top;\n",
       "    }\n",
       "\n",
       "    .dataframe thead th {\n",
       "        text-align: right;\n",
       "    }\n",
       "</style>\n",
       "<table border=\"1\" class=\"dataframe\">\n",
       "  <thead>\n",
       "    <tr style=\"text-align: right;\">\n",
       "      <th></th>\n",
       "      <th>label</th>\n",
       "      <th>mot</th>\n",
       "    </tr>\n",
       "  </thead>\n",
       "  <tbody>\n",
       "    <tr>\n",
       "      <th>0</th>\n",
       "      <td>Autre</td>\n",
       "      <td>il</td>\n",
       "    </tr>\n",
       "    <tr>\n",
       "      <th>1</th>\n",
       "      <td>Exemple 1 Target</td>\n",
       "      <td>mérite</td>\n",
       "    </tr>\n",
       "    <tr>\n",
       "      <th>2</th>\n",
       "      <td>Autre</td>\n",
       "      <td>d’</td>\n",
       "    </tr>\n",
       "    <tr>\n",
       "      <th>3</th>\n",
       "      <td>Autre</td>\n",
       "      <td>être</td>\n",
       "    </tr>\n",
       "    <tr>\n",
       "      <th>4</th>\n",
       "      <td>Autre</td>\n",
       "      <td>bloquer</td>\n",
       "    </tr>\n",
       "    <tr>\n",
       "      <th>5</th>\n",
       "      <td>Autre</td>\n",
       "      <td>la</td>\n",
       "    </tr>\n",
       "    <tr>\n",
       "      <th>6</th>\n",
       "      <td>Autre</td>\n",
       "      <td>lettre</td>\n",
       "    </tr>\n",
       "    <tr>\n",
       "      <th>7</th>\n",
       "      <td>Autre</td>\n",
       "      <td>de</td>\n",
       "    </tr>\n",
       "    <tr>\n",
       "      <th>8</th>\n",
       "      <td>Autre</td>\n",
       "      <td>l’</td>\n",
       "    </tr>\n",
       "    <tr>\n",
       "      <th>9</th>\n",
       "      <td>Autre</td>\n",
       "      <td>alphabet</td>\n",
       "    </tr>\n",
       "  </tbody>\n",
       "</table>\n",
       "</div>"
      ],
      "text/plain": [
       "              label       mot\n",
       "0             Autre        il\n",
       "1  Exemple 1 Target    mérite\n",
       "2             Autre        d’\n",
       "3             Autre      être\n",
       "4             Autre   bloquer\n",
       "5             Autre        la\n",
       "6             Autre    lettre\n",
       "7             Autre        de\n",
       "8             Autre        l’\n",
       "9             Autre  alphabet"
      ]
     },
     "execution_count": 153,
     "metadata": {},
     "output_type": "execute_result"
    }
   ],
   "source": [
    "df['mot'] = df.index.values\n",
    "df = df.reset_index()\n",
    "df[['label','mot']].head(10)"
   ]
  },
  {
   "cell_type": "code",
   "execution_count": 154,
   "metadata": {},
   "outputs": [
    {
     "data": {
      "text/html": [
       "<div>\n",
       "<style scoped>\n",
       "    .dataframe tbody tr th:only-of-type {\n",
       "        vertical-align: middle;\n",
       "    }\n",
       "\n",
       "    .dataframe tbody tr th {\n",
       "        vertical-align: top;\n",
       "    }\n",
       "\n",
       "    .dataframe thead th {\n",
       "        text-align: right;\n",
       "    }\n",
       "</style>\n",
       "<table border=\"1\" class=\"dataframe\">\n",
       "  <thead>\n",
       "    <tr style=\"text-align: right;\">\n",
       "      <th></th>\n",
       "      <th>Axe 1</th>\n",
       "      <th>Axe 2</th>\n",
       "      <th>label</th>\n",
       "      <th>mot</th>\n",
       "    </tr>\n",
       "  </thead>\n",
       "  <tbody>\n",
       "    <tr>\n",
       "      <th>0</th>\n",
       "      <td>0.060550</td>\n",
       "      <td>-0.171921</td>\n",
       "      <td>Autre</td>\n",
       "      <td>il</td>\n",
       "    </tr>\n",
       "    <tr>\n",
       "      <th>1</th>\n",
       "      <td>0.506523</td>\n",
       "      <td>2.310219</td>\n",
       "      <td>Exemple 1 Target</td>\n",
       "      <td>mérite</td>\n",
       "    </tr>\n",
       "    <tr>\n",
       "      <th>2</th>\n",
       "      <td>-0.566153</td>\n",
       "      <td>-0.523209</td>\n",
       "      <td>Autre</td>\n",
       "      <td>d’</td>\n",
       "    </tr>\n",
       "    <tr>\n",
       "      <th>3</th>\n",
       "      <td>-1.422401</td>\n",
       "      <td>1.238289</td>\n",
       "      <td>Autre</td>\n",
       "      <td>être</td>\n",
       "    </tr>\n",
       "    <tr>\n",
       "      <th>4</th>\n",
       "      <td>1.527533</td>\n",
       "      <td>0.920057</td>\n",
       "      <td>Autre</td>\n",
       "      <td>bloquer</td>\n",
       "    </tr>\n",
       "  </tbody>\n",
       "</table>\n",
       "</div>"
      ],
      "text/plain": [
       "      Axe 1     Axe 2             label      mot\n",
       "0  0.060550 -0.171921             Autre       il\n",
       "1  0.506523  2.310219  Exemple 1 Target   mérite\n",
       "2 -0.566153 -0.523209             Autre       d’\n",
       "3 -1.422401  1.238289             Autre     être\n",
       "4  1.527533  0.920057             Autre  bloquer"
      ]
     },
     "execution_count": 154,
     "metadata": {},
     "output_type": "execute_result"
    }
   ],
   "source": [
    "finalDf = pd.concat([principalDf, df[['label','mot']]],  axis = 1)\n",
    "finalDf.head(5)"
   ]
  },
  {
   "cell_type": "code",
   "execution_count": 155,
   "metadata": {},
   "outputs": [
    {
     "data": {
      "text/plain": [
       "array([0.10472406, 0.10308717], dtype=float32)"
      ]
     },
     "execution_count": 155,
     "metadata": {},
     "output_type": "execute_result"
    }
   ],
   "source": [
    "pca.explained_variance_ratio_"
   ]
  },
  {
   "cell_type": "code",
   "execution_count": 156,
   "metadata": {},
   "outputs": [
    {
     "data": {
      "image/png": "[encoded data removed]",
      "text/plain": [
       "<Figure size 576x576 with 1 Axes>"
      ]
     },
     "metadata": {
      "needs_background": "light"
     },
     "output_type": "display_data"
    }
   ],
   "source": [
    "# Représentation simple statique \n",
    "import matplotlib\n",
    "import matplotlib.pyplot as plt\n",
    "\n",
    "fig = plt.figure(figsize = (8,8))\n",
    "ax = fig.add_subplot(1,1,1) \n",
    "ax.set_xlabel('Axe 1', fontsize = 15)\n",
    "ax.set_ylabel('Axe 2', fontsize = 15)\n",
    "ax.set_title('ACP en 2 composantes', fontsize = 20)\n",
    "targets = list(set(df['label']))\n",
    "colors = ['r', 'g', 'b']\n",
    "for target, color in zip(targets,colors):\n",
    "    indicesToKeep = finalDf['label'] == target\n",
    "    ax.scatter(finalDf.loc[indicesToKeep, 'Axe 1']\n",
    "               , finalDf.loc[indicesToKeep, 'Axe 2']\n",
    "               , c = color\n",
    "               , s = 50)\n",
    "ax.legend(targets)\n",
    "ax.grid()"
   ]
  },
  {
   "cell_type": "code",
   "execution_count": 157,
   "metadata": {},
   "outputs": [
    {
     "data": {
      "text/html": [
       "        <script type=\"text/javascript\">\n",
       "        window.PlotlyConfig = {MathJaxConfig: 'local'};\n",
       "        if (window.MathJax) {MathJax.Hub.Config({SVG: {font: \"STIX-Web\"}});}\n",
       "        if (typeof require !== 'undefined') {\n",
       "        require.undef(\"plotly\");\n",
       "        requirejs.config({\n",
       "            paths: {\n",
       "                'plotly': ['https://cdn.plot.ly/plotly-latest.min']\n",
       "            }\n",
       "        });\n",
       "        require(['plotly'], function(Plotly) {\n",
       "            window._Plotly = Plotly;\n",
       "        });\n",
       "        }\n",
       "        </script>\n",
       "        "
      ]
     },
     "metadata": {},
     "output_type": "display_data"
    },
    {
     "data": {
      "text/html": [
       "        <script type=\"text/javascript\">\n",
       "        window.PlotlyConfig = {MathJaxConfig: 'local'};\n",
       "        if (window.MathJax) {MathJax.Hub.Config({SVG: {font: \"STIX-Web\"}});}\n",
       "        if (typeof require !== 'undefined') {\n",
       "        require.undef(\"plotly\");\n",
       "        requirejs.config({\n",
       "            paths: {\n",
       "                'plotly': ['https://cdn.plot.ly/plotly-latest.min']\n",
       "            }\n",
       "        });\n",
       "        require(['plotly'], function(Plotly) {\n",
       "            window._Plotly = Plotly;\n",
       "        });\n",
       "        }\n",
       "        </script>\n",
       "        "
      ]
     },
     "metadata": {},
     "output_type": "display_data"
    },
    {
     "data": {
      "application/vnd.plotly.v1+json": {
       "config": {
        "linkText": "Export to plot.ly",
        "plotlyServerURL": "https://plot.ly",
        "showLink": true
       },
       "data": [
        {
         "marker": {
          "color": "rgba(255, 153, 51, 1.0)",
          "line": {
           "width": 1.3
          },
          "opacity": 0.8,
          "size": 12,
          "symbol": "circle"
         },
         "mode": "markers",
         "name": "Exemple 1 Target",
         "text": [
          "mérite",
          "mérite"
         ],
         "textfont": {
          "color": "#4D5663"
         },
         "type": "scatter",
         "x": [
          0.506522536277771,
          0.506522536277771
         ],
         "y": [
          2.3102192878723145,
          2.3102192878723145
         ]
        },
        {
         "marker": {
          "color": "rgba(55, 128, 191, 1.0)",
          "line": {
           "width": 1.3
          },
          "opacity": 0.8,
          "size": 12,
          "symbol": "circle"
         },
         "mode": "markers",
         "name": "Exemple 1 Contexte",
         "text": [
          "cacher",
          "winston",
          "allergie",
          "tôt🔥",
          "lb"
         ],
         "textfont": {
          "color": "#4D5663"
         },
         "type": "scatter",
         "x": [
          -0.027392536401748657,
          -0.28208038210868835,
          0.6111595034599304,
          1.2296452522277832,
          -0.24851404130458832
         ],
         "y": [
          2.0068657398223877,
          0.6336841583251953,
          1.2033369541168213,
          1.582030177116394,
          2.299299716949463
         ]
        },
        {
         "marker": {
          "color": "rgba(50, 171, 96, 1.0)",
          "line": {
           "width": 1.3
          },
          "opacity": 0.8,
          "size": 12,
          "symbol": "circle"
         },
         "mode": "markers",
         "name": "Autre",
         "text": [
          "d’",
          "être",
          "bloquer",
          "la",
          "lettre",
          "de",
          "l’",
          "alphabet",
          "@nickname",
          "et",
          "fière",
          "je",
          "t'",
          "en'",
          "voi",
          "att",
          "j'",
          "avais",
          "oublié",
          "est",
          "1",
          "heure",
          "eeeeh",
          "jfais",
          "go",
          "qui",
          "a",
          "les",
          "programmes",
          "mais",
          "j’",
          "ai",
          "même",
          "pas",
          "navigo",
          "ptdddddr",
          "😭",
          "en",
          "tout",
          "cas",
          "demoiselle",
          "bien",
          "raison",
          "le",
          "rathalos",
          "un",
          "gros",
          "fils",
          "pute",
          "bonne",
          "nuit",
          "puis",
          "jour",
          "pfffffffffus",
          "rien",
          "ne",
          "fonctionne",
          "humain",
          "se",
          "meurt",
          "à",
          "petit",
          "feu",
          "veux",
          "+",
          "savoir",
          "sasuke",
          "(",
          "sais",
          "c’",
          "crois",
          "sombre",
          ")",
          "partir",
          "quand",
          "peut",
          "-on",
          "qualifier",
          "fan",
          "profité",
          "6h20",
          "sommeil",
          "qu'",
          "me",
          "reste",
          "merci",
          "frere",
          "pendant",
          "examens",
          "suis",
          "vizir",
          "mélo",
          "loli",
          "t",
          "vraiment",
          "une",
          "menteuse",
          "hilarante"
         ],
         "textfont": {
          "color": "#4D5663"
         },
         "type": "scatter",
         "x": [
          -0.566153347492218,
          -1.4224005937576294,
          1.5275330543518066,
          -0.4841320812702179,
          -0.7237996459007263,
          -1.926998496055603,
          0.5213029980659485,
          -1.1442248821258545,
          -2.171907424926758,
          0.23414352536201477,
          0.37144050002098083,
          2.1121444702148438,
          0.9059005975723267,
          -0.21656815707683563,
          1.6062263250350952,
          1.3364256620407104,
          0.560797929763794,
          -0.10903690755367279,
          -0.47488489747047424,
          -0.040644578635692596,
          -1.0387887954711914,
          -0.5955731868743896,
          1.6065800189971924,
          0.3697161078453064,
          0.6261014938354492,
          -0.11547213792800903,
          -0.011885623447597027,
          -0.2639904022216797,
          -1.1484647989273071,
          -0.6221128106117249,
          0.005701311863958836,
          -0.630281388759613,
          -0.030712539330124855,
          0.322513610124588,
          0.3894655704498291,
          -0.4697403907775879,
          1.4397528171539307,
          -1.445237636566162,
          0.3118618130683899,
          0.5061228275299072,
          -0.28253602981567383,
          -0.4554203450679779,
          -0.5695357918739319,
          0.04289631545543671,
          0.12385231256484985,
          0.264221727848053,
          0.9118146896362305,
          0.016533810645341873,
          1.4228183031082153,
          0.02730763517320156,
          0.4159108102321625,
          -0.46850746870040894,
          -1.3566834926605225,
          -1.739262580871582,
          -0.027842558920383453,
          3.3823814392089844,
          0.04988151788711548,
          1.3651580810546875,
          -0.4369960129261017,
          -0.7576390504837036,
          -0.11842616647481918,
          -1.707387924194336,
          0.2433149516582489,
          -0.9504448175430298,
          0.08422236889600754,
          -0.10803301632404327,
          -0.7651481628417969,
          -1.1900932788848877,
          -0.8213225603103638,
          0.2696754038333893,
          -0.682645857334137,
          0.709556519985199,
          2.085071325302124,
          0.11129855364561081,
          -0.5782469511032104,
          -0.7765668034553528,
          -0.0726037472486496,
          1.5898559093475342,
          -0.8730319142341614,
          0.6394309401512146,
          0.39603444933891296,
          0.39211052656173706,
          0.7061172723770142,
          1.6590286493301392,
          0.39992037415504456,
          -0.8443185687065125,
          -0.23885411024093628,
          -1.946227788925171,
          0.3774510324001312,
          0.2559616267681122,
          0.45665639638900757,
          1.5781632661819458,
          -0.43897706270217896,
          -0.06601055711507797,
          -1.8211673498153687,
          0.8142179250717163,
          0.11688023060560226,
          -0.4920840263366699
         ],
         "y": [
          -0.523209273815155,
          1.2382885217666626,
          0.920057475566864,
          0.8503678441047668,
          1.5313719511032104,
          0.8398376107215881,
          1.3694005012512207,
          -0.01776212267577648,
          -0.2735900282859802,
          0.4322171211242676,
          -0.21762102842330933,
          -2.201819658279419,
          2.0847103595733643,
          -0.18907101452350616,
          -0.4084303379058838,
          -1.1547341346740723,
          -0.19793671369552612,
          -0.569993793964386,
          -0.56486976146698,
          0.007443760521709919,
          -0.26152434945106506,
          0.35035884380340576,
          -0.5094613432884216,
          -1.139543056488037,
          -0.06768069416284561,
          -0.05935781076550484,
          1.3194228410720825,
          1.6377148628234863,
          0.360939085483551,
          1.4841301441192627,
          0.2532428503036499,
          -1.1194055080413818,
          0.3306768834590912,
          -1.0067365169525146,
          0.7090848684310913,
          -0.20862175524234772,
          0.8171384930610657,
          -0.07618887722492218,
          -2.8633553981781006,
          -1.4669904708862305,
          -0.34327733516693115,
          0.9367536306381226,
          0.10998526215553284,
          1.3654154539108276,
          1.1782629489898682,
          -1.0900276899337769,
          0.5772038698196411,
          0.06025473773479462,
          1.5840380191802979,
          -2.659026622772217,
          -0.8568538427352905,
          -1.2183488607406616,
          2.437002658843994,
          -0.037496551871299744,
          1.2880181074142456,
          0.2750834822654724,
          2.264634609222412,
          -1.9468601942062378,
          -0.16009627282619476,
          0.11105282604694366,
          -0.560710072517395,
          -0.8212810754776001,
          0.17074063420295715,
          -0.8400864005088806,
          -1.2900364398956299,
          -0.06192617118358612,
          0.13678424060344696,
          -0.07054107636213303,
          -1.0525853633880615,
          1.0025438070297241,
          -1.697726845741272,
          0.11702348291873932,
          1.0879509449005127,
          0.17539165914058685,
          0.8623488545417786,
          -0.3293309509754181,
          0.1624908298254013,
          1.043286681175232,
          0.36656907200813293,
          0.19339680671691895,
          -0.8533546924591064,
          -1.0878251791000366,
          2.176248073577881,
          -0.5796067118644714,
          -0.6999049782752991,
          1.9469207525253296,
          0.9808725714683533,
          0.36327600479125977,
          0.10080830752849579,
          0.2977606952190399,
          -0.5266596078872681,
          -0.6497645974159241,
          0.2859784662723541,
          -0.8983246088027954,
          -1.5623465776443481,
          1.531640648841858,
          -1.6062800884246826,
          0.42715537548065186
         ]
        }
       ],
       "layout": {
        "legend": {
         "bgcolor": "#F5F6F9",
         "font": {
          "color": "#4D5663"
         }
        },
        "paper_bgcolor": "#F5F6F9",
        "plot_bgcolor": "#F5F6F9",
        "template": {
         "data": {
          "bar": [
           {
            "error_x": {
             "color": "#2a3f5f"
            },
            "error_y": {
             "color": "#2a3f5f"
            },
            "marker": {
             "line": {
              "color": "#E5ECF6",
              "width": 0.5
             }
            },
            "type": "bar"
           }
          ],
          "barpolar": [
           {
            "marker": {
             "line": {
              "color": "#E5ECF6",
              "width": 0.5
             }
            },
            "type": "barpolar"
           }
          ],
          "carpet": [
           {
            "aaxis": {
             "endlinecolor": "#2a3f5f",
             "gridcolor": "white",
             "linecolor": "white",
             "minorgridcolor": "white",
             "startlinecolor": "#2a3f5f"
            },
            "baxis": {
             "endlinecolor": "#2a3f5f",
             "gridcolor": "white",
             "linecolor": "white",
             "minorgridcolor": "white",
             "startlinecolor": "#2a3f5f"
            },
            "type": "carpet"
           }
          ],
          "choropleth": [
           {
            "colorbar": {
             "outlinewidth": 0,
             "ticks": ""
            },
            "type": "choropleth"
           }
          ],
          "contour": [
           {
            "colorbar": {
             "outlinewidth": 0,
             "ticks": ""
            },
            "colorscale": [
             [
              0,
              "#0d0887"
             ],
             [
              0.1111111111111111,
              "#46039f"
             ],
             [
              0.2222222222222222,
              "#7201a8"
             ],
             [
              0.3333333333333333,
              "#9c179e"
             ],
             [
              0.4444444444444444,
              "#bd3786"
             ],
             [
              0.5555555555555556,
              "#d8576b"
             ],
             [
              0.6666666666666666,
              "#ed7953"
             ],
             [
              0.7777777777777778,
              "#fb9f3a"
             ],
             [
              0.8888888888888888,
              "#fdca26"
             ],
             [
              1,
              "#f0f921"
             ]
            ],
            "type": "contour"
           }
          ],
          "contourcarpet": [
           {
            "colorbar": {
             "outlinewidth": 0,
             "ticks": ""
            },
            "type": "contourcarpet"
           }
          ],
          "heatmap": [
           {
            "colorbar": {
             "outlinewidth": 0,
             "ticks": ""
            },
            "colorscale": [
             [
              0,
              "#0d0887"
             ],
             [
              0.1111111111111111,
              "#46039f"
             ],
             [
              0.2222222222222222,
              "#7201a8"
             ],
             [
              0.3333333333333333,
              "#9c179e"
             ],
             [
              0.4444444444444444,
              "#bd3786"
             ],
             [
              0.5555555555555556,
              "#d8576b"
             ],
             [
              0.6666666666666666,
              "#ed7953"
             ],
             [
              0.7777777777777778,
              "#fb9f3a"
             ],
             [
              0.8888888888888888,
              "#fdca26"
             ],
             [
              1,
              "#f0f921"
             ]
            ],
            "type": "heatmap"
           }
          ],
          "heatmapgl": [
           {
            "colorbar": {
             "outlinewidth": 0,
             "ticks": ""
            },
            "colorscale": [
             [
              0,
              "#0d0887"
             ],
             [
              0.1111111111111111,
              "#46039f"
             ],
             [
              0.2222222222222222,
              "#7201a8"
             ],
             [
              0.3333333333333333,
              "#9c179e"
             ],
             [
              0.4444444444444444,
              "#bd3786"
             ],
             [
              0.5555555555555556,
              "#d8576b"
             ],
             [
              0.6666666666666666,
              "#ed7953"
             ],
             [
              0.7777777777777778,
              "#fb9f3a"
             ],
             [
              0.8888888888888888,
              "#fdca26"
             ],
             [
              1,
              "#f0f921"
             ]
            ],
            "type": "heatmapgl"
           }
          ],
          "histogram": [
           {
            "marker": {
             "colorbar": {
              "outlinewidth": 0,
              "ticks": ""
             }
            },
            "type": "histogram"
           }
          ],
          "histogram2d": [
           {
            "colorbar": {
             "outlinewidth": 0,
             "ticks": ""
            },
            "colorscale": [
             [
              0,
              "#0d0887"
             ],
             [
              0.1111111111111111,
              "#46039f"
             ],
             [
              0.2222222222222222,
              "#7201a8"
             ],
             [
              0.3333333333333333,
              "#9c179e"
             ],
             [
              0.4444444444444444,
              "#bd3786"
             ],
             [
              0.5555555555555556,
              "#d8576b"
             ],
             [
              0.6666666666666666,
              "#ed7953"
             ],
             [
              0.7777777777777778,
              "#fb9f3a"
             ],
             [
              0.8888888888888888,
              "#fdca26"
             ],
             [
              1,
              "#f0f921"
             ]
            ],
            "type": "histogram2d"
           }
          ],
          "histogram2dcontour": [
           {
            "colorbar": {
             "outlinewidth": 0,
             "ticks": ""
            },
            "colorscale": [
             [
              0,
              "#0d0887"
             ],
             [
              0.1111111111111111,
              "#46039f"
             ],
             [
              0.2222222222222222,
              "#7201a8"
             ],
             [
              0.3333333333333333,
              "#9c179e"
             ],
             [
              0.4444444444444444,
              "#bd3786"
             ],
             [
              0.5555555555555556,
              "#d8576b"
             ],
             [
              0.6666666666666666,
              "#ed7953"
             ],
             [
              0.7777777777777778,
              "#fb9f3a"
             ],
             [
              0.8888888888888888,
              "#fdca26"
             ],
             [
              1,
              "#f0f921"
             ]
            ],
            "type": "histogram2dcontour"
           }
          ],
          "mesh3d": [
           {
            "colorbar": {
             "outlinewidth": 0,
             "ticks": ""
            },
            "type": "mesh3d"
           }
          ],
          "parcoords": [
           {
            "line": {
             "colorbar": {
              "outlinewidth": 0,
              "ticks": ""
             }
            },
            "type": "parcoords"
           }
          ],
          "pie": [
           {
            "automargin": true,
            "type": "pie"
           }
          ],
          "scatter": [
           {
            "marker": {
             "colorbar": {
              "outlinewidth": 0,
              "ticks": ""
             }
            },
            "type": "scatter"
           }
          ],
          "scatter3d": [
           {
            "line": {
             "colorbar": {
              "outlinewidth": 0,
              "ticks": ""
             }
            },
            "marker": {
             "colorbar": {
              "outlinewidth": 0,
              "ticks": ""
             }
            },
            "type": "scatter3d"
           }
          ],
          "scattercarpet": [
           {
            "marker": {
             "colorbar": {
              "outlinewidth": 0,
              "ticks": ""
             }
            },
            "type": "scattercarpet"
           }
          ],
          "scattergeo": [
           {
            "marker": {
             "colorbar": {
              "outlinewidth": 0,
              "ticks": ""
             }
            },
            "type": "scattergeo"
           }
          ],
          "scattergl": [
           {
            "marker": {
             "colorbar": {
              "outlinewidth": 0,
              "ticks": ""
             }
            },
            "type": "scattergl"
           }
          ],
          "scattermapbox": [
           {
            "marker": {
             "colorbar": {
              "outlinewidth": 0,
              "ticks": ""
             }
            },
            "type": "scattermapbox"
           }
          ],
          "scatterpolar": [
           {
            "marker": {
             "colorbar": {
              "outlinewidth": 0,
              "ticks": ""
             }
            },
            "type": "scatterpolar"
           }
          ],
          "scatterpolargl": [
           {
            "marker": {
             "colorbar": {
              "outlinewidth": 0,
              "ticks": ""
             }
            },
            "type": "scatterpolargl"
           }
          ],
          "scatterternary": [
           {
            "marker": {
             "colorbar": {
              "outlinewidth": 0,
              "ticks": ""
             }
            },
            "type": "scatterternary"
           }
          ],
          "surface": [
           {
            "colorbar": {
             "outlinewidth": 0,
             "ticks": ""
            },
            "colorscale": [
             [
              0,
              "#0d0887"
             ],
             [
              0.1111111111111111,
              "#46039f"
             ],
             [
              0.2222222222222222,
              "#7201a8"
             ],
             [
              0.3333333333333333,
              "#9c179e"
             ],
             [
              0.4444444444444444,
              "#bd3786"
             ],
             [
              0.5555555555555556,
              "#d8576b"
             ],
             [
              0.6666666666666666,
              "#ed7953"
             ],
             [
              0.7777777777777778,
              "#fb9f3a"
             ],
             [
              0.8888888888888888,
              "#fdca26"
             ],
             [
              1,
              "#f0f921"
             ]
            ],
            "type": "surface"
           }
          ],
          "table": [
           {
            "cells": {
             "fill": {
              "color": "#EBF0F8"
             },
             "line": {
              "color": "white"
             }
            },
            "header": {
             "fill": {
              "color": "#C8D4E3"
             },
             "line": {
              "color": "white"
             }
            },
            "type": "table"
           }
          ]
         },
         "layout": {
          "annotationdefaults": {
           "arrowcolor": "#2a3f5f",
           "arrowhead": 0,
           "arrowwidth": 1
          },
          "coloraxis": {
           "colorbar": {
            "outlinewidth": 0,
            "ticks": ""
           }
          },
          "colorscale": {
           "diverging": [
            [
             0,
             "#8e0152"
            ],
            [
             0.1,
             "#c51b7d"
            ],
            [
             0.2,
             "#de77ae"
            ],
            [
             0.3,
             "#f1b6da"
            ],
            [
             0.4,
             "#fde0ef"
            ],
            [
             0.5,
             "#f7f7f7"
            ],
            [
             0.6,
             "#e6f5d0"
            ],
            [
             0.7,
             "#b8e186"
            ],
            [
             0.8,
             "#7fbc41"
            ],
            [
             0.9,
             "#4d9221"
            ],
            [
             1,
             "#276419"
            ]
           ],
           "sequential": [
            [
             0,
             "#0d0887"
            ],
            [
             0.1111111111111111,
             "#46039f"
            ],
            [
             0.2222222222222222,
             "#7201a8"
            ],
            [
             0.3333333333333333,
             "#9c179e"
            ],
            [
             0.4444444444444444,
             "#bd3786"
            ],
            [
             0.5555555555555556,
             "#d8576b"
            ],
            [
             0.6666666666666666,
             "#ed7953"
            ],
            [
             0.7777777777777778,
             "#fb9f3a"
            ],
            [
             0.8888888888888888,
             "#fdca26"
            ],
            [
             1,
             "#f0f921"
            ]
           ],
           "sequentialminus": [
            [
             0,
             "#0d0887"
            ],
            [
             0.1111111111111111,
             "#46039f"
            ],
            [
             0.2222222222222222,
             "#7201a8"
            ],
            [
             0.3333333333333333,
             "#9c179e"
            ],
            [
             0.4444444444444444,
             "#bd3786"
            ],
            [
             0.5555555555555556,
             "#d8576b"
            ],
            [
             0.6666666666666666,
             "#ed7953"
            ],
            [
             0.7777777777777778,
             "#fb9f3a"
            ],
            [
             0.8888888888888888,
             "#fdca26"
            ],
            [
             1,
             "#f0f921"
            ]
           ]
          },
          "colorway": [
           "#636efa",
           "#EF553B",
           "#00cc96",
           "#ab63fa",
           "#FFA15A",
           "#19d3f3",
           "#FF6692",
           "#B6E880",
           "#FF97FF",
           "#FECB52"
          ],
          "font": {
           "color": "#2a3f5f"
          },
          "geo": {
           "bgcolor": "white",
           "lakecolor": "white",
           "landcolor": "#E5ECF6",
           "showlakes": true,
           "showland": true,
           "subunitcolor": "white"
          },
          "hoverlabel": {
           "align": "left"
          },
          "hovermode": "closest",
          "mapbox": {
           "style": "light"
          },
          "paper_bgcolor": "white",
          "plot_bgcolor": "#E5ECF6",
          "polar": {
           "angularaxis": {
            "gridcolor": "white",
            "linecolor": "white",
            "ticks": ""
           },
           "bgcolor": "#E5ECF6",
           "radialaxis": {
            "gridcolor": "white",
            "linecolor": "white",
            "ticks": ""
           }
          },
          "scene": {
           "xaxis": {
            "backgroundcolor": "#E5ECF6",
            "gridcolor": "white",
            "gridwidth": 2,
            "linecolor": "white",
            "showbackground": true,
            "ticks": "",
            "zerolinecolor": "white"
           },
           "yaxis": {
            "backgroundcolor": "#E5ECF6",
            "gridcolor": "white",
            "gridwidth": 2,
            "linecolor": "white",
            "showbackground": true,
            "ticks": "",
            "zerolinecolor": "white"
           },
           "zaxis": {
            "backgroundcolor": "#E5ECF6",
            "gridcolor": "white",
            "gridwidth": 2,
            "linecolor": "white",
            "showbackground": true,
            "ticks": "",
            "zerolinecolor": "white"
           }
          },
          "shapedefaults": {
           "line": {
            "color": "#2a3f5f"
           }
          },
          "ternary": {
           "aaxis": {
            "gridcolor": "white",
            "linecolor": "white",
            "ticks": ""
           },
           "baxis": {
            "gridcolor": "white",
            "linecolor": "white",
            "ticks": ""
           },
           "bgcolor": "#E5ECF6",
           "caxis": {
            "gridcolor": "white",
            "linecolor": "white",
            "ticks": ""
           }
          },
          "title": {
           "x": 0.05
          },
          "xaxis": {
           "automargin": true,
           "gridcolor": "white",
           "linecolor": "white",
           "ticks": "",
           "title": {
            "standoff": 15
           },
           "zerolinecolor": "white",
           "zerolinewidth": 2
          },
          "yaxis": {
           "automargin": true,
           "gridcolor": "white",
           "linecolor": "white",
           "ticks": "",
           "title": {
            "standoff": 15
           },
           "zerolinecolor": "white",
           "zerolinewidth": 2
          }
         }
        },
        "title": {
         "font": {
          "color": "#4D5663"
         },
         "text": "ACP en 2 composantes"
        },
        "xaxis": {
         "gridcolor": "#E1E5ED",
         "showgrid": true,
         "tickfont": {
          "color": "#4D5663"
         },
         "title": {
          "font": {
           "color": "#4D5663"
          },
          "text": "Axe 1"
         },
         "zerolinecolor": "#E1E5ED"
        },
        "yaxis": {
         "gridcolor": "#E1E5ED",
         "showgrid": true,
         "tickfont": {
          "color": "#4D5663"
         },
         "title": {
          "font": {
           "color": "#4D5663"
          },
          "text": "Axe 2"
         },
         "zerolinecolor": "#E1E5ED"
        }
       }
      },
      "text/html": [
       "<div>\n",
       "        \n",
       "        \n",
       "            <div id=\"7f00a244-3e64-4874-bbe6-593395fbbfc3\" class=\"plotly-graph-div\" style=\"height:525px; width:100%;\"></div>\n",
       "            <script type=\"text/javascript\">\n",
       "                require([\"plotly\"], function(Plotly) {\n",
       "                    window.PLOTLYENV=window.PLOTLYENV || {};\n",
       "                    window.PLOTLYENV.BASE_URL='https://plot.ly';\n",
       "                    \n",
       "                if (document.getElementById(\"7f00a244-3e64-4874-bbe6-593395fbbfc3\")) {\n",
       "                    Plotly.newPlot(\n",
       "                        '7f00a244-3e64-4874-bbe6-593395fbbfc3',\n",
       "                        [{\"marker\": {\"color\": \"rgba(255, 153, 51, 1.0)\", \"line\": {\"width\": 1.3}, \"opacity\": 0.8, \"size\": 12, \"symbol\": \"circle\"}, \"mode\": \"markers\", \"name\": \"Exemple 1 Target\", \"text\": [\"m\\u00e9rite\", \"m\\u00e9rite\"], \"textfont\": {\"color\": \"#4D5663\"}, \"type\": \"scatter\", \"x\": [0.506522536277771, 0.506522536277771], \"y\": [2.3102192878723145, 2.3102192878723145]}, {\"marker\": {\"color\": \"rgba(55, 128, 191, 1.0)\", \"line\": {\"width\": 1.3}, \"opacity\": 0.8, \"size\": 12, \"symbol\": \"circle\"}, \"mode\": \"markers\", \"name\": \"Exemple 1 Contexte\", \"text\": [\"cacher\", \"winston\", \"allergie\", \"t\\u00f4t\\ud83d\\udd25\", \"lb\"], \"textfont\": {\"color\": \"#4D5663\"}, \"type\": \"scatter\", \"x\": [-0.027392536401748657, -0.28208038210868835, 0.6111595034599304, 1.2296452522277832, -0.24851404130458832], \"y\": [2.0068657398223877, 0.6336841583251953, 1.2033369541168213, 1.582030177116394, 2.299299716949463]}, {\"marker\": {\"color\": \"rgba(50, 171, 96, 1.0)\", \"line\": {\"width\": 1.3}, \"opacity\": 0.8, \"size\": 12, \"symbol\": \"circle\"}, \"mode\": \"markers\", \"name\": \"Autre\", \"text\": [\"d\\u2019\", \"\\u00eatre\", \"bloquer\", \"la\", \"lettre\", \"de\", \"l\\u2019\", \"alphabet\", \"@nickname\", \"et\", \"fi\\u00e8re\", \"je\", \"t'\", \"en'\", \"voi\", \"att\", \"j'\", \"avais\", \"oubli\\u00e9\", \"est\", \"1\", \"heure\", \"eeeeh\", \"jfais\", \"go\", \"qui\", \"a\", \"les\", \"programmes\", \"mais\", \"j\\u2019\", \"ai\", \"m\\u00eame\", \"pas\", \"navigo\", \"ptdddddr\", \"\\ud83d\\ude2d\", \"en\", \"tout\", \"cas\", \"demoiselle\", \"bien\", \"raison\", \"le\", \"rathalos\", \"un\", \"gros\", \"fils\", \"pute\", \"bonne\", \"nuit\", \"puis\", \"jour\", \"pfffffffffus\", \"rien\", \"ne\", \"fonctionne\", \"humain\", \"se\", \"meurt\", \"\\u00e0\", \"petit\", \"feu\", \"veux\", \"+\", \"savoir\", \"sasuke\", \"(\", \"sais\", \"c\\u2019\", \"crois\", \"sombre\", \")\", \"partir\", \"quand\", \"peut\", \"-on\", \"qualifier\", \"fan\", \"profit\\u00e9\", \"6h20\", \"sommeil\", \"qu'\", \"me\", \"reste\", \"merci\", \"frere\", \"pendant\", \"examens\", \"suis\", \"vizir\", \"m\\u00e9lo\", \"loli\", \"t\", \"vraiment\", \"une\", \"menteuse\", \"hilarante\"], \"textfont\": {\"color\": \"#4D5663\"}, \"type\": \"scatter\", \"x\": [-0.566153347492218, -1.4224005937576294, 1.5275330543518066, -0.4841320812702179, -0.7237996459007263, -1.926998496055603, 0.5213029980659485, -1.1442248821258545, -2.171907424926758, 0.23414352536201477, 0.37144050002098083, 2.1121444702148438, 0.9059005975723267, -0.21656815707683563, 1.6062263250350952, 1.3364256620407104, 0.560797929763794, -0.10903690755367279, -0.47488489747047424, -0.040644578635692596, -1.0387887954711914, -0.5955731868743896, 1.6065800189971924, 0.3697161078453064, 0.6261014938354492, -0.11547213792800903, -0.011885623447597027, -0.2639904022216797, -1.1484647989273071, -0.6221128106117249, 0.005701311863958836, -0.630281388759613, -0.030712539330124855, 0.322513610124588, 0.3894655704498291, -0.4697403907775879, 1.4397528171539307, -1.445237636566162, 0.3118618130683899, 0.5061228275299072, -0.28253602981567383, -0.4554203450679779, -0.5695357918739319, 0.04289631545543671, 0.12385231256484985, 0.264221727848053, 0.9118146896362305, 0.016533810645341873, 1.4228183031082153, 0.02730763517320156, 0.4159108102321625, -0.46850746870040894, -1.3566834926605225, -1.739262580871582, -0.027842558920383453, 3.3823814392089844, 0.04988151788711548, 1.3651580810546875, -0.4369960129261017, -0.7576390504837036, -0.11842616647481918, -1.707387924194336, 0.2433149516582489, -0.9504448175430298, 0.08422236889600754, -0.10803301632404327, -0.7651481628417969, -1.1900932788848877, -0.8213225603103638, 0.2696754038333893, -0.682645857334137, 0.709556519985199, 2.085071325302124, 0.11129855364561081, -0.5782469511032104, -0.7765668034553528, -0.0726037472486496, 1.5898559093475342, -0.8730319142341614, 0.6394309401512146, 0.39603444933891296, 0.39211052656173706, 0.7061172723770142, 1.6590286493301392, 0.39992037415504456, -0.8443185687065125, -0.23885411024093628, -1.946227788925171, 0.3774510324001312, 0.2559616267681122, 0.45665639638900757, 1.5781632661819458, -0.43897706270217896, -0.06601055711507797, -1.8211673498153687, 0.8142179250717163, 0.11688023060560226, -0.4920840263366699], \"y\": [-0.523209273815155, 1.2382885217666626, 0.920057475566864, 0.8503678441047668, 1.5313719511032104, 0.8398376107215881, 1.3694005012512207, -0.01776212267577648, -0.2735900282859802, 0.4322171211242676, -0.21762102842330933, -2.201819658279419, 2.0847103595733643, -0.18907101452350616, -0.4084303379058838, -1.1547341346740723, -0.19793671369552612, -0.569993793964386, -0.56486976146698, 0.007443760521709919, -0.26152434945106506, 0.35035884380340576, -0.5094613432884216, -1.139543056488037, -0.06768069416284561, -0.05935781076550484, 1.3194228410720825, 1.6377148628234863, 0.360939085483551, 1.4841301441192627, 0.2532428503036499, -1.1194055080413818, 0.3306768834590912, -1.0067365169525146, 0.7090848684310913, -0.20862175524234772, 0.8171384930610657, -0.07618887722492218, -2.8633553981781006, -1.4669904708862305, -0.34327733516693115, 0.9367536306381226, 0.10998526215553284, 1.3654154539108276, 1.1782629489898682, -1.0900276899337769, 0.5772038698196411, 0.06025473773479462, 1.5840380191802979, -2.659026622772217, -0.8568538427352905, -1.2183488607406616, 2.437002658843994, -0.037496551871299744, 1.2880181074142456, 0.2750834822654724, 2.264634609222412, -1.9468601942062378, -0.16009627282619476, 0.11105282604694366, -0.560710072517395, -0.8212810754776001, 0.17074063420295715, -0.8400864005088806, -1.2900364398956299, -0.06192617118358612, 0.13678424060344696, -0.07054107636213303, -1.0525853633880615, 1.0025438070297241, -1.697726845741272, 0.11702348291873932, 1.0879509449005127, 0.17539165914058685, 0.8623488545417786, -0.3293309509754181, 0.1624908298254013, 1.043286681175232, 0.36656907200813293, 0.19339680671691895, -0.8533546924591064, -1.0878251791000366, 2.176248073577881, -0.5796067118644714, -0.6999049782752991, 1.9469207525253296, 0.9808725714683533, 0.36327600479125977, 0.10080830752849579, 0.2977606952190399, -0.5266596078872681, -0.6497645974159241, 0.2859784662723541, -0.8983246088027954, -1.5623465776443481, 1.531640648841858, -1.6062800884246826, 0.42715537548065186]}],\n",
       "                        {\"legend\": {\"bgcolor\": \"#F5F6F9\", \"font\": {\"color\": \"#4D5663\"}}, \"paper_bgcolor\": \"#F5F6F9\", \"plot_bgcolor\": \"#F5F6F9\", \"template\": {\"data\": {\"bar\": [{\"error_x\": {\"color\": \"#2a3f5f\"}, \"error_y\": {\"color\": \"#2a3f5f\"}, \"marker\": {\"line\": {\"color\": \"#E5ECF6\", \"width\": 0.5}}, \"type\": \"bar\"}], \"barpolar\": [{\"marker\": {\"line\": {\"color\": \"#E5ECF6\", \"width\": 0.5}}, \"type\": \"barpolar\"}], \"carpet\": [{\"aaxis\": {\"endlinecolor\": \"#2a3f5f\", \"gridcolor\": \"white\", \"linecolor\": \"white\", \"minorgridcolor\": \"white\", \"startlinecolor\": \"#2a3f5f\"}, \"baxis\": {\"endlinecolor\": \"#2a3f5f\", \"gridcolor\": \"white\", \"linecolor\": \"white\", \"minorgridcolor\": \"white\", \"startlinecolor\": \"#2a3f5f\"}, \"type\": \"carpet\"}], \"choropleth\": [{\"colorbar\": {\"outlinewidth\": 0, \"ticks\": \"\"}, \"type\": \"choropleth\"}], \"contour\": [{\"colorbar\": {\"outlinewidth\": 0, \"ticks\": \"\"}, \"colorscale\": [[0.0, \"#0d0887\"], [0.1111111111111111, \"#46039f\"], [0.2222222222222222, \"#7201a8\"], [0.3333333333333333, \"#9c179e\"], [0.4444444444444444, \"#bd3786\"], [0.5555555555555556, \"#d8576b\"], [0.6666666666666666, \"#ed7953\"], [0.7777777777777778, \"#fb9f3a\"], [0.8888888888888888, \"#fdca26\"], [1.0, \"#f0f921\"]], \"type\": \"contour\"}], \"contourcarpet\": [{\"colorbar\": {\"outlinewidth\": 0, \"ticks\": \"\"}, \"type\": \"contourcarpet\"}], \"heatmap\": [{\"colorbar\": {\"outlinewidth\": 0, \"ticks\": \"\"}, \"colorscale\": [[0.0, \"#0d0887\"], [0.1111111111111111, \"#46039f\"], [0.2222222222222222, \"#7201a8\"], [0.3333333333333333, \"#9c179e\"], [0.4444444444444444, \"#bd3786\"], [0.5555555555555556, \"#d8576b\"], [0.6666666666666666, \"#ed7953\"], [0.7777777777777778, \"#fb9f3a\"], [0.8888888888888888, \"#fdca26\"], [1.0, \"#f0f921\"]], \"type\": \"heatmap\"}], \"heatmapgl\": [{\"colorbar\": {\"outlinewidth\": 0, \"ticks\": \"\"}, \"colorscale\": [[0.0, \"#0d0887\"], [0.1111111111111111, \"#46039f\"], [0.2222222222222222, \"#7201a8\"], [0.3333333333333333, \"#9c179e\"], [0.4444444444444444, \"#bd3786\"], [0.5555555555555556, \"#d8576b\"], [0.6666666666666666, \"#ed7953\"], [0.7777777777777778, \"#fb9f3a\"], [0.8888888888888888, \"#fdca26\"], [1.0, \"#f0f921\"]], \"type\": \"heatmapgl\"}], \"histogram\": [{\"marker\": {\"colorbar\": {\"outlinewidth\": 0, \"ticks\": \"\"}}, \"type\": \"histogram\"}], \"histogram2d\": [{\"colorbar\": {\"outlinewidth\": 0, \"ticks\": \"\"}, \"colorscale\": [[0.0, \"#0d0887\"], [0.1111111111111111, \"#46039f\"], [0.2222222222222222, \"#7201a8\"], [0.3333333333333333, \"#9c179e\"], [0.4444444444444444, \"#bd3786\"], [0.5555555555555556, \"#d8576b\"], [0.6666666666666666, \"#ed7953\"], [0.7777777777777778, \"#fb9f3a\"], [0.8888888888888888, \"#fdca26\"], [1.0, \"#f0f921\"]], \"type\": \"histogram2d\"}], \"histogram2dcontour\": [{\"colorbar\": {\"outlinewidth\": 0, \"ticks\": \"\"}, \"colorscale\": [[0.0, \"#0d0887\"], [0.1111111111111111, \"#46039f\"], [0.2222222222222222, \"#7201a8\"], [0.3333333333333333, \"#9c179e\"], [0.4444444444444444, \"#bd3786\"], [0.5555555555555556, \"#d8576b\"], [0.6666666666666666, \"#ed7953\"], [0.7777777777777778, \"#fb9f3a\"], [0.8888888888888888, \"#fdca26\"], [1.0, \"#f0f921\"]], \"type\": \"histogram2dcontour\"}], \"mesh3d\": [{\"colorbar\": {\"outlinewidth\": 0, \"ticks\": \"\"}, \"type\": \"mesh3d\"}], \"parcoords\": [{\"line\": {\"colorbar\": {\"outlinewidth\": 0, \"ticks\": \"\"}}, \"type\": \"parcoords\"}], \"pie\": [{\"automargin\": true, \"type\": \"pie\"}], \"scatter\": [{\"marker\": {\"colorbar\": {\"outlinewidth\": 0, \"ticks\": \"\"}}, \"type\": \"scatter\"}], \"scatter3d\": [{\"line\": {\"colorbar\": {\"outlinewidth\": 0, \"ticks\": \"\"}}, \"marker\": {\"colorbar\": {\"outlinewidth\": 0, \"ticks\": \"\"}}, \"type\": \"scatter3d\"}], \"scattercarpet\": [{\"marker\": {\"colorbar\": {\"outlinewidth\": 0, \"ticks\": \"\"}}, \"type\": \"scattercarpet\"}], \"scattergeo\": [{\"marker\": {\"colorbar\": {\"outlinewidth\": 0, \"ticks\": \"\"}}, \"type\": \"scattergeo\"}], \"scattergl\": [{\"marker\": {\"colorbar\": {\"outlinewidth\": 0, \"ticks\": \"\"}}, \"type\": \"scattergl\"}], \"scattermapbox\": [{\"marker\": {\"colorbar\": {\"outlinewidth\": 0, \"ticks\": \"\"}}, \"type\": \"scattermapbox\"}], \"scatterpolar\": [{\"marker\": {\"colorbar\": {\"outlinewidth\": 0, \"ticks\": \"\"}}, \"type\": \"scatterpolar\"}], \"scatterpolargl\": [{\"marker\": {\"colorbar\": {\"outlinewidth\": 0, \"ticks\": \"\"}}, \"type\": \"scatterpolargl\"}], \"scatterternary\": [{\"marker\": {\"colorbar\": {\"outlinewidth\": 0, \"ticks\": \"\"}}, \"type\": \"scatterternary\"}], \"surface\": [{\"colorbar\": {\"outlinewidth\": 0, \"ticks\": \"\"}, \"colorscale\": [[0.0, \"#0d0887\"], [0.1111111111111111, \"#46039f\"], [0.2222222222222222, \"#7201a8\"], [0.3333333333333333, \"#9c179e\"], [0.4444444444444444, \"#bd3786\"], [0.5555555555555556, \"#d8576b\"], [0.6666666666666666, \"#ed7953\"], [0.7777777777777778, \"#fb9f3a\"], [0.8888888888888888, \"#fdca26\"], [1.0, \"#f0f921\"]], \"type\": \"surface\"}], \"table\": [{\"cells\": {\"fill\": {\"color\": \"#EBF0F8\"}, \"line\": {\"color\": \"white\"}}, \"header\": {\"fill\": {\"color\": \"#C8D4E3\"}, \"line\": {\"color\": \"white\"}}, \"type\": \"table\"}]}, \"layout\": {\"annotationdefaults\": {\"arrowcolor\": \"#2a3f5f\", \"arrowhead\": 0, \"arrowwidth\": 1}, \"coloraxis\": {\"colorbar\": {\"outlinewidth\": 0, \"ticks\": \"\"}}, \"colorscale\": {\"diverging\": [[0, \"#8e0152\"], [0.1, \"#c51b7d\"], [0.2, \"#de77ae\"], [0.3, \"#f1b6da\"], [0.4, \"#fde0ef\"], [0.5, \"#f7f7f7\"], [0.6, \"#e6f5d0\"], [0.7, \"#b8e186\"], [0.8, \"#7fbc41\"], [0.9, \"#4d9221\"], [1, \"#276419\"]], \"sequential\": [[0.0, \"#0d0887\"], [0.1111111111111111, \"#46039f\"], [0.2222222222222222, \"#7201a8\"], [0.3333333333333333, \"#9c179e\"], [0.4444444444444444, \"#bd3786\"], [0.5555555555555556, \"#d8576b\"], [0.6666666666666666, \"#ed7953\"], [0.7777777777777778, \"#fb9f3a\"], [0.8888888888888888, \"#fdca26\"], [1.0, \"#f0f921\"]], \"sequentialminus\": [[0.0, \"#0d0887\"], [0.1111111111111111, \"#46039f\"], [0.2222222222222222, \"#7201a8\"], [0.3333333333333333, \"#9c179e\"], [0.4444444444444444, \"#bd3786\"], [0.5555555555555556, \"#d8576b\"], [0.6666666666666666, \"#ed7953\"], [0.7777777777777778, \"#fb9f3a\"], [0.8888888888888888, \"#fdca26\"], [1.0, \"#f0f921\"]]}, \"colorway\": [\"#636efa\", \"#EF553B\", \"#00cc96\", \"#ab63fa\", \"#FFA15A\", \"#19d3f3\", \"#FF6692\", \"#B6E880\", \"#FF97FF\", \"#FECB52\"], \"font\": {\"color\": \"#2a3f5f\"}, \"geo\": {\"bgcolor\": \"white\", \"lakecolor\": \"white\", \"landcolor\": \"#E5ECF6\", \"showlakes\": true, \"showland\": true, \"subunitcolor\": \"white\"}, \"hoverlabel\": {\"align\": \"left\"}, \"hovermode\": \"closest\", \"mapbox\": {\"style\": \"light\"}, \"paper_bgcolor\": \"white\", \"plot_bgcolor\": \"#E5ECF6\", \"polar\": {\"angularaxis\": {\"gridcolor\": \"white\", \"linecolor\": \"white\", \"ticks\": \"\"}, \"bgcolor\": \"#E5ECF6\", \"radialaxis\": {\"gridcolor\": \"white\", \"linecolor\": \"white\", \"ticks\": \"\"}}, \"scene\": {\"xaxis\": {\"backgroundcolor\": \"#E5ECF6\", \"gridcolor\": \"white\", \"gridwidth\": 2, \"linecolor\": \"white\", \"showbackground\": true, \"ticks\": \"\", \"zerolinecolor\": \"white\"}, \"yaxis\": {\"backgroundcolor\": \"#E5ECF6\", \"gridcolor\": \"white\", \"gridwidth\": 2, \"linecolor\": \"white\", \"showbackground\": true, \"ticks\": \"\", \"zerolinecolor\": \"white\"}, \"zaxis\": {\"backgroundcolor\": \"#E5ECF6\", \"gridcolor\": \"white\", \"gridwidth\": 2, \"linecolor\": \"white\", \"showbackground\": true, \"ticks\": \"\", \"zerolinecolor\": \"white\"}}, \"shapedefaults\": {\"line\": {\"color\": \"#2a3f5f\"}}, \"ternary\": {\"aaxis\": {\"gridcolor\": \"white\", \"linecolor\": \"white\", \"ticks\": \"\"}, \"baxis\": {\"gridcolor\": \"white\", \"linecolor\": \"white\", \"ticks\": \"\"}, \"bgcolor\": \"#E5ECF6\", \"caxis\": {\"gridcolor\": \"white\", \"linecolor\": \"white\", \"ticks\": \"\"}}, \"title\": {\"x\": 0.05}, \"xaxis\": {\"automargin\": true, \"gridcolor\": \"white\", \"linecolor\": \"white\", \"ticks\": \"\", \"title\": {\"standoff\": 15}, \"zerolinecolor\": \"white\", \"zerolinewidth\": 2}, \"yaxis\": {\"automargin\": true, \"gridcolor\": \"white\", \"linecolor\": \"white\", \"ticks\": \"\", \"title\": {\"standoff\": 15}, \"zerolinecolor\": \"white\", \"zerolinewidth\": 2}}}, \"title\": {\"font\": {\"color\": \"#4D5663\"}, \"text\": \"ACP en 2 composantes\"}, \"xaxis\": {\"gridcolor\": \"#E1E5ED\", \"showgrid\": true, \"tickfont\": {\"color\": \"#4D5663\"}, \"title\": {\"font\": {\"color\": \"#4D5663\"}, \"text\": \"Axe 1\"}, \"zerolinecolor\": \"#E1E5ED\"}, \"yaxis\": {\"gridcolor\": \"#E1E5ED\", \"showgrid\": true, \"tickfont\": {\"color\": \"#4D5663\"}, \"title\": {\"font\": {\"color\": \"#4D5663\"}, \"text\": \"Axe 2\"}, \"zerolinecolor\": \"#E1E5ED\"}},\n",
       "                        {\"showLink\": true, \"linkText\": \"Export to plot.ly\", \"plotlyServerURL\": \"https://plot.ly\", \"responsive\": true}\n",
       "                    ).then(function(){\n",
       "                            \n",
       "var gd = document.getElementById('7f00a244-3e64-4874-bbe6-593395fbbfc3');\n",
       "var x = new MutationObserver(function (mutations, observer) {{\n",
       "        var display = window.getComputedStyle(gd).display;\n",
       "        if (!display || display === 'none') {{\n",
       "            console.log([gd, 'removed!']);\n",
       "            Plotly.purge(gd);\n",
       "            observer.disconnect();\n",
       "        }}\n",
       "}});\n",
       "\n",
       "// Listen for the removal of the full notebook cells\n",
       "var notebookContainer = gd.closest('#notebook-container');\n",
       "if (notebookContainer) {{\n",
       "    x.observe(notebookContainer, {childList: true});\n",
       "}}\n",
       "\n",
       "// Listen for the clearing of the current output cell\n",
       "var outputEl = gd.closest('.output');\n",
       "if (outputEl) {{\n",
       "    x.observe(outputEl, {childList: true});\n",
       "}}\n",
       "\n",
       "                        })\n",
       "                };\n",
       "                });\n",
       "            </script>\n",
       "        </div>"
      ]
     },
     "metadata": {},
     "output_type": "display_data"
    }
   ],
   "source": [
    "# Représentation interactive \n",
    "\n",
    "import plotly\n",
    "import plotly.graph_objs as go\n",
    "from plotly.offline import download_plotlyjs, init_notebook_mode, plot, iplot\n",
    "init_notebook_mode(connected=True)\n",
    "\n",
    "import cufflinks as cf\n",
    "cf.go_offline()\n",
    "cf.set_config_file(offline=False, world_readable=True)\n",
    "\n",
    "#Travailler avec sous-table sinon trop lourd\n",
    "subFinalDf = pd.concat([finalDf[(finalDf['label'] != \"Autre\")],finalDf.iloc[1:100:]],  axis = 0)\n",
    "\n",
    "\n",
    "subFinalDf.iplot(kind='scatter',\n",
    "              mode='markers',\n",
    "              x='Axe 1',\n",
    "              y='Axe 2',\n",
    "              categories='label',\n",
    "              text='mot',\n",
    "              xTitle='Axe 1',\n",
    "              yTitle='Axe 2',\n",
    "              title='ACP en 2 composantes',\n",
    "              filename='cufflinks/simple-scatter')"
   ]
  }
 ],
 "metadata": {
  "kernelspec": {
   "display_name": "Python 3",
   "language": "python",
   "name": "python3"
  },
  "language_info": {
   "codemirror_mode": {
    "name": "ipython",
    "version": 3
   },
   "file_extension": ".py",
   "mimetype": "text/x-python",
   "name": "python",
   "nbconvert_exporter": "python",
   "pygments_lexer": "ipython3",
   "version": "3.7.4"
  }
 },
 "nbformat": 4,
 "nbformat_minor": 2
}
