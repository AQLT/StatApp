{
 "cells": [
  {
   "cell_type": "markdown",
   "metadata": {},
   "source": [
    "## Chargement des données"
   ]
  },
  {
   "cell_type": "code",
   "execution_count": 13,
   "metadata": {},
   "outputs": [],
   "source": [
    "#import sys\n",
    "#!{sys.executable} -m pip install  cufflinks\n",
    "#import sys\n",
    "#!{sys.executable} -m pip install  plotly==2\n",
    "\n",
    "#https://towardsdatascience.com/pca-using-python-scikit-learn-e653f8989e60\n",
    "\n",
    "import pandas as pd\n",
    "url = \"https://archive.ics.uci.edu/ml/machine-learning-databases/iris/iris.data\"\n",
    "# load dataset into Pandas DataFrame\n",
    "df = pd.read_csv(url, names=['sepal length','sepal width','petal length','petal width','target'])"
   ]
  },
  {
   "cell_type": "code",
   "execution_count": 14,
   "metadata": {
    "scrolled": true
   },
   "outputs": [
    {
     "data": {
      "text/html": [
       "<div>\n",
       "<style scoped>\n",
       "    .dataframe tbody tr th:only-of-type {\n",
       "        vertical-align: middle;\n",
       "    }\n",
       "\n",
       "    .dataframe tbody tr th {\n",
       "        vertical-align: top;\n",
       "    }\n",
       "\n",
       "    .dataframe thead th {\n",
       "        text-align: right;\n",
       "    }\n",
       "</style>\n",
       "<table border=\"1\" class=\"dataframe\">\n",
       "  <thead>\n",
       "    <tr style=\"text-align: right;\">\n",
       "      <th></th>\n",
       "      <th>sepal length</th>\n",
       "      <th>sepal width</th>\n",
       "      <th>petal length</th>\n",
       "      <th>petal width</th>\n",
       "      <th>target</th>\n",
       "    </tr>\n",
       "  </thead>\n",
       "  <tbody>\n",
       "    <tr>\n",
       "      <th>0</th>\n",
       "      <td>5.1</td>\n",
       "      <td>3.5</td>\n",
       "      <td>1.4</td>\n",
       "      <td>0.2</td>\n",
       "      <td>Iris-setosa</td>\n",
       "    </tr>\n",
       "    <tr>\n",
       "      <th>1</th>\n",
       "      <td>4.9</td>\n",
       "      <td>3.0</td>\n",
       "      <td>1.4</td>\n",
       "      <td>0.2</td>\n",
       "      <td>Iris-setosa</td>\n",
       "    </tr>\n",
       "    <tr>\n",
       "      <th>2</th>\n",
       "      <td>4.7</td>\n",
       "      <td>3.2</td>\n",
       "      <td>1.3</td>\n",
       "      <td>0.2</td>\n",
       "      <td>Iris-setosa</td>\n",
       "    </tr>\n",
       "    <tr>\n",
       "      <th>3</th>\n",
       "      <td>4.6</td>\n",
       "      <td>3.1</td>\n",
       "      <td>1.5</td>\n",
       "      <td>0.2</td>\n",
       "      <td>Iris-setosa</td>\n",
       "    </tr>\n",
       "    <tr>\n",
       "      <th>4</th>\n",
       "      <td>5.0</td>\n",
       "      <td>3.6</td>\n",
       "      <td>1.4</td>\n",
       "      <td>0.2</td>\n",
       "      <td>Iris-setosa</td>\n",
       "    </tr>\n",
       "  </tbody>\n",
       "</table>\n",
       "</div>"
      ],
      "text/plain": [
       "   sepal length  sepal width  petal length  petal width       target\n",
       "0           5.1          3.5           1.4          0.2  Iris-setosa\n",
       "1           4.9          3.0           1.4          0.2  Iris-setosa\n",
       "2           4.7          3.2           1.3          0.2  Iris-setosa\n",
       "3           4.6          3.1           1.5          0.2  Iris-setosa\n",
       "4           5.0          3.6           1.4          0.2  Iris-setosa"
      ]
     },
     "execution_count": 14,
     "metadata": {},
     "output_type": "execute_result"
    }
   ],
   "source": [
    "df.head()"
   ]
  },
  {
   "cell_type": "code",
   "execution_count": 34,
   "metadata": {},
   "outputs": [
    {
     "data": {
      "text/plain": [
       "['Iris-virginica', 'Iris-versicolor', 'Iris-setosa']"
      ]
     },
     "execution_count": 34,
     "metadata": {},
     "output_type": "execute_result"
    }
   ],
   "source": [
    "list(set(df.target)) #Les différents types de target dans la base."
   ]
  },
  {
   "cell_type": "code",
   "execution_count": 39,
   "metadata": {},
   "outputs": [
    {
     "name": "stdout",
     "output_type": "stream",
     "text": [
      "Nombre de lignes du df : 150\n"
     ]
    }
   ],
   "source": [
    "print(\"Nombre de lignes du df :\", len(df.index))"
   ]
  },
  {
   "cell_type": "markdown",
   "metadata": {},
   "source": [
    "## Mise en forme des données pour la PCA"
   ]
  },
  {
   "cell_type": "code",
   "execution_count": 15,
   "metadata": {},
   "outputs": [],
   "source": [
    "from sklearn.preprocessing import StandardScaler\n",
    "features = ['sepal length', 'sepal width', 'petal length', 'petal width']\n",
    "# Separating out the features\n",
    "x = df.loc[:, features].values\n",
    "# Separating out the target\n",
    "y = df.loc[:,['target']].values\n",
    "# Standardizing the features\n",
    "x = StandardScaler().fit_transform(x)"
   ]
  },
  {
   "cell_type": "code",
   "execution_count": 16,
   "metadata": {},
   "outputs": [
    {
     "name": "stdout",
     "output_type": "stream",
     "text": [
      "[[-0.90068117  1.03205722 -1.3412724  -1.31297673]]\n",
      "[['Iris-setosa']]\n"
     ]
    }
   ],
   "source": [
    "print(x[0:1]) #Mise en forme de x\n",
    "print(y[0:1]) #Mise en forme de y"
   ]
  },
  {
   "cell_type": "markdown",
   "metadata": {},
   "source": [
    "## ACP"
   ]
  },
  {
   "cell_type": "code",
   "execution_count": 26,
   "metadata": {},
   "outputs": [
    {
     "data": {
      "text/html": [
       "<div>\n",
       "<style scoped>\n",
       "    .dataframe tbody tr th:only-of-type {\n",
       "        vertical-align: middle;\n",
       "    }\n",
       "\n",
       "    .dataframe tbody tr th {\n",
       "        vertical-align: top;\n",
       "    }\n",
       "\n",
       "    .dataframe thead th {\n",
       "        text-align: right;\n",
       "    }\n",
       "</style>\n",
       "<table border=\"1\" class=\"dataframe\">\n",
       "  <thead>\n",
       "    <tr style=\"text-align: right;\">\n",
       "      <th></th>\n",
       "      <th>Axe 1</th>\n",
       "      <th>Axe 2</th>\n",
       "    </tr>\n",
       "  </thead>\n",
       "  <tbody>\n",
       "    <tr>\n",
       "      <th>0</th>\n",
       "      <td>-2.264542</td>\n",
       "      <td>0.505704</td>\n",
       "    </tr>\n",
       "    <tr>\n",
       "      <th>1</th>\n",
       "      <td>-2.086426</td>\n",
       "      <td>-0.655405</td>\n",
       "    </tr>\n",
       "    <tr>\n",
       "      <th>2</th>\n",
       "      <td>-2.367950</td>\n",
       "      <td>-0.318477</td>\n",
       "    </tr>\n",
       "    <tr>\n",
       "      <th>3</th>\n",
       "      <td>-2.304197</td>\n",
       "      <td>-0.575368</td>\n",
       "    </tr>\n",
       "    <tr>\n",
       "      <th>4</th>\n",
       "      <td>-2.388777</td>\n",
       "      <td>0.674767</td>\n",
       "    </tr>\n",
       "  </tbody>\n",
       "</table>\n",
       "</div>"
      ],
      "text/plain": [
       "      Axe 1     Axe 2\n",
       "0 -2.264542  0.505704\n",
       "1 -2.086426 -0.655405\n",
       "2 -2.367950 -0.318477\n",
       "3 -2.304197 -0.575368\n",
       "4 -2.388777  0.674767"
      ]
     },
     "execution_count": 26,
     "metadata": {},
     "output_type": "execute_result"
    }
   ],
   "source": [
    "from sklearn.decomposition import PCA\n",
    "pca = PCA(n_components=2)\n",
    "principalComponents = pca.fit_transform(x)\n",
    "principalDf = pd.DataFrame(data = principalComponents\n",
    "             , columns = ['Axe 1', 'Axe 2'])\n",
    "principalDf.head(5)"
   ]
  },
  {
   "cell_type": "code",
   "execution_count": 28,
   "metadata": {},
   "outputs": [
    {
     "data": {
      "text/html": [
       "<div>\n",
       "<style scoped>\n",
       "    .dataframe tbody tr th:only-of-type {\n",
       "        vertical-align: middle;\n",
       "    }\n",
       "\n",
       "    .dataframe tbody tr th {\n",
       "        vertical-align: top;\n",
       "    }\n",
       "\n",
       "    .dataframe thead th {\n",
       "        text-align: right;\n",
       "    }\n",
       "</style>\n",
       "<table border=\"1\" class=\"dataframe\">\n",
       "  <thead>\n",
       "    <tr style=\"text-align: right;\">\n",
       "      <th></th>\n",
       "      <th>target</th>\n",
       "    </tr>\n",
       "  </thead>\n",
       "  <tbody>\n",
       "    <tr>\n",
       "      <th>0</th>\n",
       "      <td>Iris-setosa</td>\n",
       "    </tr>\n",
       "    <tr>\n",
       "      <th>1</th>\n",
       "      <td>Iris-setosa</td>\n",
       "    </tr>\n",
       "    <tr>\n",
       "      <th>2</th>\n",
       "      <td>Iris-setosa</td>\n",
       "    </tr>\n",
       "    <tr>\n",
       "      <th>3</th>\n",
       "      <td>Iris-setosa</td>\n",
       "    </tr>\n",
       "    <tr>\n",
       "      <th>4</th>\n",
       "      <td>Iris-setosa</td>\n",
       "    </tr>\n",
       "  </tbody>\n",
       "</table>\n",
       "</div>"
      ],
      "text/plain": [
       "        target\n",
       "0  Iris-setosa\n",
       "1  Iris-setosa\n",
       "2  Iris-setosa\n",
       "3  Iris-setosa\n",
       "4  Iris-setosa"
      ]
     },
     "execution_count": 28,
     "metadata": {},
     "output_type": "execute_result"
    }
   ],
   "source": [
    "df[['target']].head(5)"
   ]
  },
  {
   "cell_type": "code",
   "execution_count": 18,
   "metadata": {},
   "outputs": [],
   "source": [
    "finalDf = pd.concat([principalDf, df[['target']]], axis = 1)"
   ]
  },
  {
   "cell_type": "code",
   "execution_count": 19,
   "metadata": {},
   "outputs": [
    {
     "data": {
      "text/html": [
       "<div>\n",
       "<style scoped>\n",
       "    .dataframe tbody tr th:only-of-type {\n",
       "        vertical-align: middle;\n",
       "    }\n",
       "\n",
       "    .dataframe tbody tr th {\n",
       "        vertical-align: top;\n",
       "    }\n",
       "\n",
       "    .dataframe thead th {\n",
       "        text-align: right;\n",
       "    }\n",
       "</style>\n",
       "<table border=\"1\" class=\"dataframe\">\n",
       "  <thead>\n",
       "    <tr style=\"text-align: right;\">\n",
       "      <th></th>\n",
       "      <th>Axe 1</th>\n",
       "      <th>Axe 2</th>\n",
       "      <th>target</th>\n",
       "    </tr>\n",
       "  </thead>\n",
       "  <tbody>\n",
       "    <tr>\n",
       "      <th>0</th>\n",
       "      <td>-2.264542</td>\n",
       "      <td>0.505704</td>\n",
       "      <td>Iris-setosa</td>\n",
       "    </tr>\n",
       "    <tr>\n",
       "      <th>1</th>\n",
       "      <td>-2.086426</td>\n",
       "      <td>-0.655405</td>\n",
       "      <td>Iris-setosa</td>\n",
       "    </tr>\n",
       "    <tr>\n",
       "      <th>2</th>\n",
       "      <td>-2.367950</td>\n",
       "      <td>-0.318477</td>\n",
       "      <td>Iris-setosa</td>\n",
       "    </tr>\n",
       "    <tr>\n",
       "      <th>3</th>\n",
       "      <td>-2.304197</td>\n",
       "      <td>-0.575368</td>\n",
       "      <td>Iris-setosa</td>\n",
       "    </tr>\n",
       "    <tr>\n",
       "      <th>4</th>\n",
       "      <td>-2.388777</td>\n",
       "      <td>0.674767</td>\n",
       "      <td>Iris-setosa</td>\n",
       "    </tr>\n",
       "  </tbody>\n",
       "</table>\n",
       "</div>"
      ],
      "text/plain": [
       "      Axe 1     Axe 2       target\n",
       "0 -2.264542  0.505704  Iris-setosa\n",
       "1 -2.086426 -0.655405  Iris-setosa\n",
       "2 -2.367950 -0.318477  Iris-setosa\n",
       "3 -2.304197 -0.575368  Iris-setosa\n",
       "4 -2.388777  0.674767  Iris-setosa"
      ]
     },
     "execution_count": 19,
     "metadata": {},
     "output_type": "execute_result"
    }
   ],
   "source": [
    "finalDf.head(5)"
   ]
  },
  {
   "cell_type": "code",
   "execution_count": 24,
   "metadata": {},
   "outputs": [
    {
     "data": {
      "text/plain": [
       "array([0.72770452, 0.23030523])"
      ]
     },
     "execution_count": 24,
     "metadata": {},
     "output_type": "execute_result"
    }
   ],
   "source": [
    "pca.explained_variance_ratio_"
   ]
  },
  {
   "cell_type": "markdown",
   "metadata": {},
   "source": [
    "## Représentation graphique"
   ]
  },
  {
   "cell_type": "code",
   "execution_count": 20,
   "metadata": {},
   "outputs": [],
   "source": [
    "# Représentation simple statique \n",
    "import matplotlib\n",
    "import matplotlib.pyplot as plt\n",
    "\n",
    "fig = plt.figure(figsize = (8,8))\n",
    "ax = fig.add_subplot(1,1,1) \n",
    "ax.set_xlabel('Axe 1', fontsize = 15)\n",
    "ax.set_ylabel('Axe 2', fontsize = 15)\n",
    "ax.set_title('ACP en 2 composantes', fontsize = 20)\n",
    "targets = ['Iris-setosa', 'Iris-versicolor', 'Iris-virginica']\n",
    "colors = ['r', 'g', 'b']\n",
    "for target, color in zip(targets,colors):\n",
    "    indicesToKeep = finalDf['target'] == target\n",
    "    ax.scatter(finalDf.loc[indicesToKeep, 'Axe 1']\n",
    "               , finalDf.loc[indicesToKeep, 'Axe 2']\n",
    "               , c = color\n",
    "               , s = 50)\n",
    "ax.legend(targets)\n",
    "ax.grid()"
   ]
  },
  {
   "cell_type": "code",
   "execution_count": 25,
   "metadata": {},
   "outputs": [
    {
     "data": {
      "text/html": [
       "        <script type=\"text/javascript\">\n",
       "        window.PlotlyConfig = {MathJaxConfig: 'local'};\n",
       "        if (window.MathJax) {MathJax.Hub.Config({SVG: {font: \"STIX-Web\"}});}\n",
       "        if (typeof require !== 'undefined') {\n",
       "        require.undef(\"plotly\");\n",
       "        requirejs.config({\n",
       "            paths: {\n",
       "                'plotly': ['https://cdn.plot.ly/plotly-latest.min']\n",
       "            }\n",
       "        });\n",
       "        require(['plotly'], function(Plotly) {\n",
       "            window._Plotly = Plotly;\n",
       "        });\n",
       "        }\n",
       "        </script>\n",
       "        "
      ]
     },
     "metadata": {},
     "output_type": "display_data"
    },
    {
     "data": {
      "text/html": [
       "        <script type=\"text/javascript\">\n",
       "        window.PlotlyConfig = {MathJaxConfig: 'local'};\n",
       "        if (window.MathJax) {MathJax.Hub.Config({SVG: {font: \"STIX-Web\"}});}\n",
       "        if (typeof require !== 'undefined') {\n",
       "        require.undef(\"plotly\");\n",
       "        requirejs.config({\n",
       "            paths: {\n",
       "                'plotly': ['https://cdn.plot.ly/plotly-latest.min']\n",
       "            }\n",
       "        });\n",
       "        require(['plotly'], function(Plotly) {\n",
       "            window._Plotly = Plotly;\n",
       "        });\n",
       "        }\n",
       "        </script>\n",
       "        "
      ]
     },
     "metadata": {},
     "output_type": "display_data"
    },
    {
     "data": {
      "application/vnd.plotly.v1+json": {
       "config": {
        "linkText": "Export to plot.ly",
        "plotlyServerURL": "https://plot.ly",
        "showLink": true
       },
       "data": [
        {
         "marker": {
          "color": "rgba(255, 153, 51, 1.0)",
          "line": {
           "width": 1.3
          },
          "opacity": 0.8,
          "size": 12,
          "symbol": "circle"
         },
         "mode": "markers",
         "name": "Iris-setosa",
         "text": [
          "Iris-setosa",
          "Iris-setosa",
          "Iris-setosa",
          "Iris-setosa",
          "Iris-setosa",
          "Iris-setosa",
          "Iris-setosa",
          "Iris-setosa",
          "Iris-setosa",
          "Iris-setosa",
          "Iris-setosa",
          "Iris-setosa",
          "Iris-setosa",
          "Iris-setosa",
          "Iris-setosa",
          "Iris-setosa",
          "Iris-setosa",
          "Iris-setosa",
          "Iris-setosa",
          "Iris-setosa",
          "Iris-setosa",
          "Iris-setosa",
          "Iris-setosa",
          "Iris-setosa",
          "Iris-setosa",
          "Iris-setosa",
          "Iris-setosa",
          "Iris-setosa",
          "Iris-setosa",
          "Iris-setosa",
          "Iris-setosa",
          "Iris-setosa",
          "Iris-setosa",
          "Iris-setosa",
          "Iris-setosa",
          "Iris-setosa",
          "Iris-setosa",
          "Iris-setosa",
          "Iris-setosa",
          "Iris-setosa",
          "Iris-setosa",
          "Iris-setosa",
          "Iris-setosa",
          "Iris-setosa",
          "Iris-setosa",
          "Iris-setosa",
          "Iris-setosa",
          "Iris-setosa",
          "Iris-setosa",
          "Iris-setosa"
         ],
         "textfont": {
          "color": "#4D5663"
         },
         "type": "scatter",
         "x": [
          -2.264541728394902,
          -2.0864255006161594,
          -2.3679504490625263,
          -2.3041971611520093,
          -2.388777493505641,
          -2.070536807180552,
          -2.4457113396302828,
          -2.2338418587092654,
          -2.341957676455391,
          -2.1886757552808698,
          -2.1634865562665215,
          -2.3273777541343734,
          -2.224082722045002,
          -2.63971626084463,
          -2.192291508498427,
          -2.2514652145840626,
          -2.2027504800800837,
          -2.190179163791051,
          -1.8940742930236667,
          -2.339949070423407,
          -1.9145563949595166,
          -2.2046453975338127,
          -2.774169793705156,
          -1.8204115633372135,
          -2.2282174994597246,
          -1.9570240073413971,
          -2.052063311276686,
          -2.1681936533450203,
          -2.140305963284157,
          -2.268790194387877,
          -2.1445544292771346,
          -1.8319381022015868,
          -2.6082028676633455,
          -2.4379508590951406,
          -2.1886757552808698,
          -2.211119896812422,
          -2.044416519319799,
          -2.1886757552808698,
          -2.4359522029660203,
          -2.1705472018842698,
          -2.2865272388409297,
          -1.871707223536952,
          -2.557834419537513,
          -1.9642792903547368,
          -2.133372832920027,
          -2.0753575928373067,
          -2.381258216802372,
          -2.398191687662639,
          -2.226781213091517,
          -2.205954168648402
         ],
         "y": [
          0.505703902773786,
          -0.6554047293691342,
          -0.3184773108472484,
          -0.5753677125331944,
          0.6747673967025158,
          1.5185485598885138,
          0.07456267500687493,
          0.24761393175226584,
          -1.0951463625829543,
          -0.4486290483375583,
          1.0705955760377268,
          0.15858745465947682,
          -0.7091181580302255,
          -0.938281982107853,
          1.889978512316466,
          2.7223710765744693,
          1.5137502825462195,
          0.5143043082206935,
          1.431110706941237,
          1.1580334289850018,
          0.4304651632801387,
          0.9524573172889989,
          0.4895170265034961,
          0.10675079283540691,
          0.16218616266619773,
          -0.6078925674838074,
          0.26601431198165587,
          0.5520164953235407,
          0.33664040884505475,
          -0.31487860284052743,
          -0.4839420967692581,
          0.44526683550280777,
          1.8284751927341012,
          2.1853916156308926,
          -0.4486290483375583,
          -0.1843378105402781,
          0.684956426294937,
          -0.4486290483375583,
          -0.8821694147756158,
          0.292726954966447,
          0.4679917156709387,
          -2.3276916061149096,
          -0.453816380489792,
          0.4973916400183842,
          1.1714321117742046,
          -0.6919173471364091,
          1.1506325928736671,
          -0.36239076472585613,
          1.0254825528235452,
          0.03223784527378021
         ]
        },
        {
         "marker": {
          "color": "rgba(55, 128, 191, 1.0)",
          "line": {
           "width": 1.3
          },
          "opacity": 0.8,
          "size": 12,
          "symbol": "circle"
         },
         "mode": "markers",
         "name": "Iris-versicolor",
         "text": [
          "Iris-versicolor",
          "Iris-versicolor",
          "Iris-versicolor",
          "Iris-versicolor",
          "Iris-versicolor",
          "Iris-versicolor",
          "Iris-versicolor",
          "Iris-versicolor",
          "Iris-versicolor",
          "Iris-versicolor",
          "Iris-versicolor",
          "Iris-versicolor",
          "Iris-versicolor",
          "Iris-versicolor",
          "Iris-versicolor",
          "Iris-versicolor",
          "Iris-versicolor",
          "Iris-versicolor",
          "Iris-versicolor",
          "Iris-versicolor",
          "Iris-versicolor",
          "Iris-versicolor",
          "Iris-versicolor",
          "Iris-versicolor",
          "Iris-versicolor",
          "Iris-versicolor",
          "Iris-versicolor",
          "Iris-versicolor",
          "Iris-versicolor",
          "Iris-versicolor",
          "Iris-versicolor",
          "Iris-versicolor",
          "Iris-versicolor",
          "Iris-versicolor",
          "Iris-versicolor",
          "Iris-versicolor",
          "Iris-versicolor",
          "Iris-versicolor",
          "Iris-versicolor",
          "Iris-versicolor",
          "Iris-versicolor",
          "Iris-versicolor",
          "Iris-versicolor",
          "Iris-versicolor",
          "Iris-versicolor",
          "Iris-versicolor",
          "Iris-versicolor",
          "Iris-versicolor",
          "Iris-versicolor",
          "Iris-versicolor"
         ],
         "textfont": {
          "color": "#4D5663"
         },
         "type": "scatter",
         "x": [
          1.1039936528045728,
          0.7324814400086813,
          1.2421095053189384,
          0.39730728282332595,
          1.0725939482015447,
          0.3844581461690009,
          0.7487150759515533,
          -0.49786338779811956,
          0.9262223675330981,
          0.0049680255843180966,
          -0.12469746138037285,
          0.43873011778054644,
          0.5516339814225062,
          0.7171650662368511,
          -0.0372583829656888,
          0.8758905359406834,
          0.3480064019802083,
          0.15339254456866652,
          1.215303209216153,
          0.15694117564424961,
          0.7382561043698959,
          0.47236968234456805,
          1.2279882140834417,
          0.6293810453149015,
          0.7004727992084581,
          0.8735369874014338,
          1.2542221905224498,
          1.3582398473872717,
          0.6621261375659374,
          -0.04728151331988085,
          0.12153420888011751,
          0.01411822605138661,
          0.23601083732659628,
          1.056691428090576,
          0.22141708833021734,
          0.4317831607410538,
          1.0494133552191807,
          1.0358782103228235,
          0.06706759987298004,
          0.27542506625183316,
          0.2723350662617711,
          0.6231705397262215,
          0.3300053638372257,
          -0.3736276226873778,
          0.28294434295510207,
          0.08905311031901116,
          0.2243567832086056,
          0.5738834855584668,
          -0.457012872504676,
          0.2522444732694687
         ],
         "y": [
          0.8631124458513236,
          0.5986355733419969,
          0.614822449612286,
          -1.7581689474435256,
          -0.21175790267989603,
          -0.5910624686227365,
          0.7786986113887818,
          -1.8488687712754415,
          0.030330826783380654,
          -1.0294011124030873,
          -2.6580626779617607,
          -0.05888128502145437,
          -1.7725815648562548,
          -0.18543431450504408,
          -0.4327950987141687,
          0.5099981510591469,
          -0.19062164665727768,
          -0.7907254562344856,
          -1.6333556445154829,
          -1.3031032701729108,
          0.40247038161853593,
          -0.4166082224438797,
          -0.9409147925302729,
          -0.41681164254177244,
          -0.06349392765170259,
          0.2507086107020536,
          -0.08262009981311319,
          0.3288202662704014,
          -0.22434607094346426,
          -1.0572124126050202,
          -1.563592379865578,
          -1.5733923546480597,
          -0.7759237840118166,
          -0.6369012837689372,
          -0.28084769308563995,
          0.8551369202180026,
          0.522197264512776,
          -1.3924664843877812,
          -0.21262073489338862,
          -1.329815913157702,
          -1.119441524119404,
          0.027542633302294242,
          -0.9889007318191549,
          -2.0179322652041725,
          -0.85395071698655,
          -0.17490854779054166,
          -0.3804846594865454,
          -0.1537199740800653,
          -1.5394645102639806,
          -0.595860745965031
         ]
        },
        {
         "marker": {
          "color": "rgba(50, 171, 96, 1.0)",
          "line": {
           "width": 1.3
          },
          "opacity": 0.8,
          "size": 12,
          "symbol": "circle"
         },
         "mode": "markers",
         "name": "Iris-virginica",
         "text": [
          "Iris-virginica",
          "Iris-virginica",
          "Iris-virginica",
          "Iris-virginica",
          "Iris-virginica",
          "Iris-virginica",
          "Iris-virginica",
          "Iris-virginica",
          "Iris-virginica",
          "Iris-virginica",
          "Iris-virginica",
          "Iris-virginica",
          "Iris-virginica",
          "Iris-virginica",
          "Iris-virginica",
          "Iris-virginica",
          "Iris-virginica",
          "Iris-virginica",
          "Iris-virginica",
          "Iris-virginica",
          "Iris-virginica",
          "Iris-virginica",
          "Iris-virginica",
          "Iris-virginica",
          "Iris-virginica",
          "Iris-virginica",
          "Iris-virginica",
          "Iris-virginica",
          "Iris-virginica",
          "Iris-virginica",
          "Iris-virginica",
          "Iris-virginica",
          "Iris-virginica",
          "Iris-virginica",
          "Iris-virginica",
          "Iris-virginica",
          "Iris-virginica",
          "Iris-virginica",
          "Iris-virginica",
          "Iris-virginica",
          "Iris-virginica",
          "Iris-virginica",
          "Iris-virginica",
          "Iris-virginica",
          "Iris-virginica",
          "Iris-virginica",
          "Iris-virginica",
          "Iris-virginica",
          "Iris-virginica",
          "Iris-virginica"
         ],
         "textfont": {
          "color": "#4D5663"
         },
         "type": "scatter",
         "x": [
          1.8476725943096641,
          1.1531898082521284,
          2.2063494971265936,
          1.4386854023261815,
          1.8678907025555846,
          2.754196708825753,
          0.3583744748416662,
          2.3030058981503196,
          2.0017352992189155,
          2.2675545991022696,
          1.3659094292022143,
          1.5990645856518686,
          1.8842518537520745,
          1.2530865143775902,
          1.4640615229856218,
          1.591809302638529,
          1.4712801894655436,
          2.4373784821935094,
          3.309141182676079,
          1.2539809866905762,
          2.040496259663039,
          0.9739151144704726,
          2.8980644358432763,
          1.3291936913234927,
          1.7042407085196065,
          1.957727661793436,
          1.171904507987868,
          1.0197810528162627,
          1.786008861248468,
          1.8647779127074666,
          2.4354973914151437,
          2.3160824119611565,
          1.8603714258523156,
          1.111271725675969,
          1.1974691551180372,
          2.8009494037340286,
          1.5801552485205375,
          1.347044424354802,
          0.9234329777663839,
          1.853551984066441,
          2.016157200677759,
          1.9031168585994873,
          1.1531898082521284,
          2.0433084392878094,
          2.0016909669349983,
          1.8705220714601254,
          1.5584918907237164,
          1.5208450639985902,
          1.3763911906419284,
          0.9592985756160378
         ],
         "y": [
          0.871696661773413,
          -0.7013261138565755,
          0.5544701049349219,
          -0.05001052226888582,
          0.29119280176116874,
          0.7884322063548437,
          -1.5600945839772884,
          0.40951669522194245,
          -0.72386535931266,
          1.9214429914653541,
          0.6939480398041609,
          -0.42824883590034,
          0.41433275795008356,
          -1.1673913352452454,
          -0.4441475694791233,
          0.6770353716018516,
          0.25319247196681505,
          2.5567573414948015,
          -0.0023613201020841663,
          -1.7175838442659774,
          0.9073987650150526,
          -0.571174376366266,
          0.39779135917186703,
          -0.4867605419037243,
          1.0141484248357844,
          1.0033345154297764,
          -0.3188966173105679,
          0.06554296309664798,
          -0.1932727998568917,
          0.5553815315789888,
          0.24665446806897318,
          2.6261838690226265,
          -0.18467239440998345,
          -0.2959861024303906,
          -0.8171677419136163,
          0.8447481937849735,
          1.072474496127122,
          0.42225596589554587,
          0.01923037054689319,
          0.6724227289716034,
          0.6103970375551125,
          0.6860248318586988,
          -0.7013261138565755,
          0.8646848804720182,
          1.0485500466234172,
          0.3828218376229979,
          -0.9053136014070663,
          0.26679457485391056,
          1.0163619287948855,
          -0.022283944660567045
         ]
        }
       ],
       "layout": {
        "legend": {
         "bgcolor": "#F5F6F9",
         "font": {
          "color": "#4D5663"
         }
        },
        "paper_bgcolor": "#F5F6F9",
        "plot_bgcolor": "#F5F6F9",
        "template": {
         "data": {
          "bar": [
           {
            "error_x": {
             "color": "#2a3f5f"
            },
            "error_y": {
             "color": "#2a3f5f"
            },
            "marker": {
             "line": {
              "color": "#E5ECF6",
              "width": 0.5
             }
            },
            "type": "bar"
           }
          ],
          "barpolar": [
           {
            "marker": {
             "line": {
              "color": "#E5ECF6",
              "width": 0.5
             }
            },
            "type": "barpolar"
           }
          ],
          "carpet": [
           {
            "aaxis": {
             "endlinecolor": "#2a3f5f",
             "gridcolor": "white",
             "linecolor": "white",
             "minorgridcolor": "white",
             "startlinecolor": "#2a3f5f"
            },
            "baxis": {
             "endlinecolor": "#2a3f5f",
             "gridcolor": "white",
             "linecolor": "white",
             "minorgridcolor": "white",
             "startlinecolor": "#2a3f5f"
            },
            "type": "carpet"
           }
          ],
          "choropleth": [
           {
            "colorbar": {
             "outlinewidth": 0,
             "ticks": ""
            },
            "type": "choropleth"
           }
          ],
          "contour": [
           {
            "colorbar": {
             "outlinewidth": 0,
             "ticks": ""
            },
            "colorscale": [
             [
              0,
              "#0d0887"
             ],
             [
              0.1111111111111111,
              "#46039f"
             ],
             [
              0.2222222222222222,
              "#7201a8"
             ],
             [
              0.3333333333333333,
              "#9c179e"
             ],
             [
              0.4444444444444444,
              "#bd3786"
             ],
             [
              0.5555555555555556,
              "#d8576b"
             ],
             [
              0.6666666666666666,
              "#ed7953"
             ],
             [
              0.7777777777777778,
              "#fb9f3a"
             ],
             [
              0.8888888888888888,
              "#fdca26"
             ],
             [
              1,
              "#f0f921"
             ]
            ],
            "type": "contour"
           }
          ],
          "contourcarpet": [
           {
            "colorbar": {
             "outlinewidth": 0,
             "ticks": ""
            },
            "type": "contourcarpet"
           }
          ],
          "heatmap": [
           {
            "colorbar": {
             "outlinewidth": 0,
             "ticks": ""
            },
            "colorscale": [
             [
              0,
              "#0d0887"
             ],
             [
              0.1111111111111111,
              "#46039f"
             ],
             [
              0.2222222222222222,
              "#7201a8"
             ],
             [
              0.3333333333333333,
              "#9c179e"
             ],
             [
              0.4444444444444444,
              "#bd3786"
             ],
             [
              0.5555555555555556,
              "#d8576b"
             ],
             [
              0.6666666666666666,
              "#ed7953"
             ],
             [
              0.7777777777777778,
              "#fb9f3a"
             ],
             [
              0.8888888888888888,
              "#fdca26"
             ],
             [
              1,
              "#f0f921"
             ]
            ],
            "type": "heatmap"
           }
          ],
          "heatmapgl": [
           {
            "colorbar": {
             "outlinewidth": 0,
             "ticks": ""
            },
            "colorscale": [
             [
              0,
              "#0d0887"
             ],
             [
              0.1111111111111111,
              "#46039f"
             ],
             [
              0.2222222222222222,
              "#7201a8"
             ],
             [
              0.3333333333333333,
              "#9c179e"
             ],
             [
              0.4444444444444444,
              "#bd3786"
             ],
             [
              0.5555555555555556,
              "#d8576b"
             ],
             [
              0.6666666666666666,
              "#ed7953"
             ],
             [
              0.7777777777777778,
              "#fb9f3a"
             ],
             [
              0.8888888888888888,
              "#fdca26"
             ],
             [
              1,
              "#f0f921"
             ]
            ],
            "type": "heatmapgl"
           }
          ],
          "histogram": [
           {
            "marker": {
             "colorbar": {
              "outlinewidth": 0,
              "ticks": ""
             }
            },
            "type": "histogram"
           }
          ],
          "histogram2d": [
           {
            "colorbar": {
             "outlinewidth": 0,
             "ticks": ""
            },
            "colorscale": [
             [
              0,
              "#0d0887"
             ],
             [
              0.1111111111111111,
              "#46039f"
             ],
             [
              0.2222222222222222,
              "#7201a8"
             ],
             [
              0.3333333333333333,
              "#9c179e"
             ],
             [
              0.4444444444444444,
              "#bd3786"
             ],
             [
              0.5555555555555556,
              "#d8576b"
             ],
             [
              0.6666666666666666,
              "#ed7953"
             ],
             [
              0.7777777777777778,
              "#fb9f3a"
             ],
             [
              0.8888888888888888,
              "#fdca26"
             ],
             [
              1,
              "#f0f921"
             ]
            ],
            "type": "histogram2d"
           }
          ],
          "histogram2dcontour": [
           {
            "colorbar": {
             "outlinewidth": 0,
             "ticks": ""
            },
            "colorscale": [
             [
              0,
              "#0d0887"
             ],
             [
              0.1111111111111111,
              "#46039f"
             ],
             [
              0.2222222222222222,
              "#7201a8"
             ],
             [
              0.3333333333333333,
              "#9c179e"
             ],
             [
              0.4444444444444444,
              "#bd3786"
             ],
             [
              0.5555555555555556,
              "#d8576b"
             ],
             [
              0.6666666666666666,
              "#ed7953"
             ],
             [
              0.7777777777777778,
              "#fb9f3a"
             ],
             [
              0.8888888888888888,
              "#fdca26"
             ],
             [
              1,
              "#f0f921"
             ]
            ],
            "type": "histogram2dcontour"
           }
          ],
          "mesh3d": [
           {
            "colorbar": {
             "outlinewidth": 0,
             "ticks": ""
            },
            "type": "mesh3d"
           }
          ],
          "parcoords": [
           {
            "line": {
             "colorbar": {
              "outlinewidth": 0,
              "ticks": ""
             }
            },
            "type": "parcoords"
           }
          ],
          "pie": [
           {
            "automargin": true,
            "type": "pie"
           }
          ],
          "scatter": [
           {
            "marker": {
             "colorbar": {
              "outlinewidth": 0,
              "ticks": ""
             }
            },
            "type": "scatter"
           }
          ],
          "scatter3d": [
           {
            "line": {
             "colorbar": {
              "outlinewidth": 0,
              "ticks": ""
             }
            },
            "marker": {
             "colorbar": {
              "outlinewidth": 0,
              "ticks": ""
             }
            },
            "type": "scatter3d"
           }
          ],
          "scattercarpet": [
           {
            "marker": {
             "colorbar": {
              "outlinewidth": 0,
              "ticks": ""
             }
            },
            "type": "scattercarpet"
           }
          ],
          "scattergeo": [
           {
            "marker": {
             "colorbar": {
              "outlinewidth": 0,
              "ticks": ""
             }
            },
            "type": "scattergeo"
           }
          ],
          "scattergl": [
           {
            "marker": {
             "colorbar": {
              "outlinewidth": 0,
              "ticks": ""
             }
            },
            "type": "scattergl"
           }
          ],
          "scattermapbox": [
           {
            "marker": {
             "colorbar": {
              "outlinewidth": 0,
              "ticks": ""
             }
            },
            "type": "scattermapbox"
           }
          ],
          "scatterpolar": [
           {
            "marker": {
             "colorbar": {
              "outlinewidth": 0,
              "ticks": ""
             }
            },
            "type": "scatterpolar"
           }
          ],
          "scatterpolargl": [
           {
            "marker": {
             "colorbar": {
              "outlinewidth": 0,
              "ticks": ""
             }
            },
            "type": "scatterpolargl"
           }
          ],
          "scatterternary": [
           {
            "marker": {
             "colorbar": {
              "outlinewidth": 0,
              "ticks": ""
             }
            },
            "type": "scatterternary"
           }
          ],
          "surface": [
           {
            "colorbar": {
             "outlinewidth": 0,
             "ticks": ""
            },
            "colorscale": [
             [
              0,
              "#0d0887"
             ],
             [
              0.1111111111111111,
              "#46039f"
             ],
             [
              0.2222222222222222,
              "#7201a8"
             ],
             [
              0.3333333333333333,
              "#9c179e"
             ],
             [
              0.4444444444444444,
              "#bd3786"
             ],
             [
              0.5555555555555556,
              "#d8576b"
             ],
             [
              0.6666666666666666,
              "#ed7953"
             ],
             [
              0.7777777777777778,
              "#fb9f3a"
             ],
             [
              0.8888888888888888,
              "#fdca26"
             ],
             [
              1,
              "#f0f921"
             ]
            ],
            "type": "surface"
           }
          ],
          "table": [
           {
            "cells": {
             "fill": {
              "color": "#EBF0F8"
             },
             "line": {
              "color": "white"
             }
            },
            "header": {
             "fill": {
              "color": "#C8D4E3"
             },
             "line": {
              "color": "white"
             }
            },
            "type": "table"
           }
          ]
         },
         "layout": {
          "annotationdefaults": {
           "arrowcolor": "#2a3f5f",
           "arrowhead": 0,
           "arrowwidth": 1
          },
          "coloraxis": {
           "colorbar": {
            "outlinewidth": 0,
            "ticks": ""
           }
          },
          "colorscale": {
           "diverging": [
            [
             0,
             "#8e0152"
            ],
            [
             0.1,
             "#c51b7d"
            ],
            [
             0.2,
             "#de77ae"
            ],
            [
             0.3,
             "#f1b6da"
            ],
            [
             0.4,
             "#fde0ef"
            ],
            [
             0.5,
             "#f7f7f7"
            ],
            [
             0.6,
             "#e6f5d0"
            ],
            [
             0.7,
             "#b8e186"
            ],
            [
             0.8,
             "#7fbc41"
            ],
            [
             0.9,
             "#4d9221"
            ],
            [
             1,
             "#276419"
            ]
           ],
           "sequential": [
            [
             0,
             "#0d0887"
            ],
            [
             0.1111111111111111,
             "#46039f"
            ],
            [
             0.2222222222222222,
             "#7201a8"
            ],
            [
             0.3333333333333333,
             "#9c179e"
            ],
            [
             0.4444444444444444,
             "#bd3786"
            ],
            [
             0.5555555555555556,
             "#d8576b"
            ],
            [
             0.6666666666666666,
             "#ed7953"
            ],
            [
             0.7777777777777778,
             "#fb9f3a"
            ],
            [
             0.8888888888888888,
             "#fdca26"
            ],
            [
             1,
             "#f0f921"
            ]
           ],
           "sequentialminus": [
            [
             0,
             "#0d0887"
            ],
            [
             0.1111111111111111,
             "#46039f"
            ],
            [
             0.2222222222222222,
             "#7201a8"
            ],
            [
             0.3333333333333333,
             "#9c179e"
            ],
            [
             0.4444444444444444,
             "#bd3786"
            ],
            [
             0.5555555555555556,
             "#d8576b"
            ],
            [
             0.6666666666666666,
             "#ed7953"
            ],
            [
             0.7777777777777778,
             "#fb9f3a"
            ],
            [
             0.8888888888888888,
             "#fdca26"
            ],
            [
             1,
             "#f0f921"
            ]
           ]
          },
          "colorway": [
           "#636efa",
           "#EF553B",
           "#00cc96",
           "#ab63fa",
           "#FFA15A",
           "#19d3f3",
           "#FF6692",
           "#B6E880",
           "#FF97FF",
           "#FECB52"
          ],
          "font": {
           "color": "#2a3f5f"
          },
          "geo": {
           "bgcolor": "white",
           "lakecolor": "white",
           "landcolor": "#E5ECF6",
           "showlakes": true,
           "showland": true,
           "subunitcolor": "white"
          },
          "hoverlabel": {
           "align": "left"
          },
          "hovermode": "closest",
          "mapbox": {
           "style": "light"
          },
          "paper_bgcolor": "white",
          "plot_bgcolor": "#E5ECF6",
          "polar": {
           "angularaxis": {
            "gridcolor": "white",
            "linecolor": "white",
            "ticks": ""
           },
           "bgcolor": "#E5ECF6",
           "radialaxis": {
            "gridcolor": "white",
            "linecolor": "white",
            "ticks": ""
           }
          },
          "scene": {
           "xaxis": {
            "backgroundcolor": "#E5ECF6",
            "gridcolor": "white",
            "gridwidth": 2,
            "linecolor": "white",
            "showbackground": true,
            "ticks": "",
            "zerolinecolor": "white"
           },
           "yaxis": {
            "backgroundcolor": "#E5ECF6",
            "gridcolor": "white",
            "gridwidth": 2,
            "linecolor": "white",
            "showbackground": true,
            "ticks": "",
            "zerolinecolor": "white"
           },
           "zaxis": {
            "backgroundcolor": "#E5ECF6",
            "gridcolor": "white",
            "gridwidth": 2,
            "linecolor": "white",
            "showbackground": true,
            "ticks": "",
            "zerolinecolor": "white"
           }
          },
          "shapedefaults": {
           "line": {
            "color": "#2a3f5f"
           }
          },
          "ternary": {
           "aaxis": {
            "gridcolor": "white",
            "linecolor": "white",
            "ticks": ""
           },
           "baxis": {
            "gridcolor": "white",
            "linecolor": "white",
            "ticks": ""
           },
           "bgcolor": "#E5ECF6",
           "caxis": {
            "gridcolor": "white",
            "linecolor": "white",
            "ticks": ""
           }
          },
          "title": {
           "x": 0.05
          },
          "xaxis": {
           "automargin": true,
           "gridcolor": "white",
           "linecolor": "white",
           "ticks": "",
           "title": {
            "standoff": 15
           },
           "zerolinecolor": "white",
           "zerolinewidth": 2
          },
          "yaxis": {
           "automargin": true,
           "gridcolor": "white",
           "linecolor": "white",
           "ticks": "",
           "title": {
            "standoff": 15
           },
           "zerolinecolor": "white",
           "zerolinewidth": 2
          }
         }
        },
        "title": {
         "font": {
          "color": "#4D5663"
         },
         "text": "ACP en 2 composantes"
        },
        "xaxis": {
         "gridcolor": "#E1E5ED",
         "showgrid": true,
         "tickfont": {
          "color": "#4D5663"
         },
         "title": {
          "font": {
           "color": "#4D5663"
          },
          "text": "Axe 1"
         },
         "zerolinecolor": "#E1E5ED"
        },
        "yaxis": {
         "gridcolor": "#E1E5ED",
         "showgrid": true,
         "tickfont": {
          "color": "#4D5663"
         },
         "title": {
          "font": {
           "color": "#4D5663"
          },
          "text": "Axe 2"
         },
         "zerolinecolor": "#E1E5ED"
        }
       }
      },
      "text/html": [
       "<div>\n",
       "        \n",
       "        \n",
       "            <div id=\"9935b28e-5d6a-4597-b612-69affc048027\" class=\"plotly-graph-div\" style=\"height:525px; width:100%;\"></div>\n",
       "            <script type=\"text/javascript\">\n",
       "                require([\"plotly\"], function(Plotly) {\n",
       "                    window.PLOTLYENV=window.PLOTLYENV || {};\n",
       "                    window.PLOTLYENV.BASE_URL='https://plot.ly';\n",
       "                    \n",
       "                if (document.getElementById(\"9935b28e-5d6a-4597-b612-69affc048027\")) {\n",
       "                    Plotly.newPlot(\n",
       "                        '9935b28e-5d6a-4597-b612-69affc048027',\n",
       "                        [{\"marker\": {\"color\": \"rgba(255, 153, 51, 1.0)\", \"line\": {\"width\": 1.3}, \"opacity\": 0.8, \"size\": 12, \"symbol\": \"circle\"}, \"mode\": \"markers\", \"name\": \"Iris-setosa\", \"text\": [\"Iris-setosa\", \"Iris-setosa\", \"Iris-setosa\", \"Iris-setosa\", \"Iris-setosa\", \"Iris-setosa\", \"Iris-setosa\", \"Iris-setosa\", \"Iris-setosa\", \"Iris-setosa\", \"Iris-setosa\", \"Iris-setosa\", \"Iris-setosa\", \"Iris-setosa\", \"Iris-setosa\", \"Iris-setosa\", \"Iris-setosa\", \"Iris-setosa\", \"Iris-setosa\", \"Iris-setosa\", \"Iris-setosa\", \"Iris-setosa\", \"Iris-setosa\", \"Iris-setosa\", \"Iris-setosa\", \"Iris-setosa\", \"Iris-setosa\", \"Iris-setosa\", \"Iris-setosa\", \"Iris-setosa\", \"Iris-setosa\", \"Iris-setosa\", \"Iris-setosa\", \"Iris-setosa\", \"Iris-setosa\", \"Iris-setosa\", \"Iris-setosa\", \"Iris-setosa\", \"Iris-setosa\", \"Iris-setosa\", \"Iris-setosa\", \"Iris-setosa\", \"Iris-setosa\", \"Iris-setosa\", \"Iris-setosa\", \"Iris-setosa\", \"Iris-setosa\", \"Iris-setosa\", \"Iris-setosa\", \"Iris-setosa\"], \"textfont\": {\"color\": \"#4D5663\"}, \"type\": \"scatter\", \"x\": [-2.264541728394902, -2.0864255006161594, -2.3679504490625263, -2.3041971611520093, -2.388777493505641, -2.070536807180552, -2.4457113396302828, -2.2338418587092654, -2.341957676455391, -2.1886757552808698, -2.1634865562665215, -2.3273777541343734, -2.224082722045002, -2.63971626084463, -2.192291508498427, -2.2514652145840626, -2.2027504800800837, -2.190179163791051, -1.8940742930236667, -2.339949070423407, -1.9145563949595166, -2.2046453975338127, -2.774169793705156, -1.8204115633372135, -2.2282174994597246, -1.9570240073413971, -2.052063311276686, -2.1681936533450203, -2.140305963284157, -2.268790194387877, -2.1445544292771346, -1.8319381022015868, -2.6082028676633455, -2.4379508590951406, -2.1886757552808698, -2.211119896812422, -2.044416519319799, -2.1886757552808698, -2.4359522029660203, -2.1705472018842698, -2.2865272388409297, -1.871707223536952, -2.557834419537513, -1.9642792903547368, -2.133372832920027, -2.0753575928373067, -2.381258216802372, -2.398191687662639, -2.226781213091517, -2.205954168648402], \"y\": [0.505703902773786, -0.6554047293691342, -0.3184773108472484, -0.5753677125331944, 0.6747673967025158, 1.5185485598885138, 0.07456267500687493, 0.24761393175226584, -1.0951463625829543, -0.4486290483375583, 1.0705955760377268, 0.15858745465947682, -0.7091181580302255, -0.938281982107853, 1.889978512316466, 2.7223710765744693, 1.5137502825462195, 0.5143043082206935, 1.431110706941237, 1.1580334289850018, 0.4304651632801387, 0.9524573172889989, 0.4895170265034961, 0.10675079283540691, 0.16218616266619773, -0.6078925674838074, 0.26601431198165587, 0.5520164953235407, 0.33664040884505475, -0.31487860284052743, -0.4839420967692581, 0.44526683550280777, 1.8284751927341012, 2.1853916156308926, -0.4486290483375583, -0.1843378105402781, 0.684956426294937, -0.4486290483375583, -0.8821694147756158, 0.292726954966447, 0.4679917156709387, -2.3276916061149096, -0.453816380489792, 0.4973916400183842, 1.1714321117742046, -0.6919173471364091, 1.1506325928736671, -0.36239076472585613, 1.0254825528235452, 0.03223784527378021]}, {\"marker\": {\"color\": \"rgba(55, 128, 191, 1.0)\", \"line\": {\"width\": 1.3}, \"opacity\": 0.8, \"size\": 12, \"symbol\": \"circle\"}, \"mode\": \"markers\", \"name\": \"Iris-versicolor\", \"text\": [\"Iris-versicolor\", \"Iris-versicolor\", \"Iris-versicolor\", \"Iris-versicolor\", \"Iris-versicolor\", \"Iris-versicolor\", \"Iris-versicolor\", \"Iris-versicolor\", \"Iris-versicolor\", \"Iris-versicolor\", \"Iris-versicolor\", \"Iris-versicolor\", \"Iris-versicolor\", \"Iris-versicolor\", \"Iris-versicolor\", \"Iris-versicolor\", \"Iris-versicolor\", \"Iris-versicolor\", \"Iris-versicolor\", \"Iris-versicolor\", \"Iris-versicolor\", \"Iris-versicolor\", \"Iris-versicolor\", \"Iris-versicolor\", \"Iris-versicolor\", \"Iris-versicolor\", \"Iris-versicolor\", \"Iris-versicolor\", \"Iris-versicolor\", \"Iris-versicolor\", \"Iris-versicolor\", \"Iris-versicolor\", \"Iris-versicolor\", \"Iris-versicolor\", \"Iris-versicolor\", \"Iris-versicolor\", \"Iris-versicolor\", \"Iris-versicolor\", \"Iris-versicolor\", \"Iris-versicolor\", \"Iris-versicolor\", \"Iris-versicolor\", \"Iris-versicolor\", \"Iris-versicolor\", \"Iris-versicolor\", \"Iris-versicolor\", \"Iris-versicolor\", \"Iris-versicolor\", \"Iris-versicolor\", \"Iris-versicolor\"], \"textfont\": {\"color\": \"#4D5663\"}, \"type\": \"scatter\", \"x\": [1.1039936528045728, 0.7324814400086813, 1.2421095053189384, 0.39730728282332595, 1.0725939482015447, 0.3844581461690009, 0.7487150759515533, -0.49786338779811956, 0.9262223675330981, 0.0049680255843180966, -0.12469746138037285, 0.43873011778054644, 0.5516339814225062, 0.7171650662368511, -0.0372583829656888, 0.8758905359406834, 0.3480064019802083, 0.15339254456866652, 1.215303209216153, 0.15694117564424961, 0.7382561043698959, 0.47236968234456805, 1.2279882140834417, 0.6293810453149015, 0.7004727992084581, 0.8735369874014338, 1.2542221905224498, 1.3582398473872717, 0.6621261375659374, -0.04728151331988085, 0.12153420888011751, 0.01411822605138661, 0.23601083732659628, 1.056691428090576, 0.22141708833021734, 0.4317831607410538, 1.0494133552191807, 1.0358782103228235, 0.06706759987298004, 0.27542506625183316, 0.2723350662617711, 0.6231705397262215, 0.3300053638372257, -0.3736276226873778, 0.28294434295510207, 0.08905311031901116, 0.2243567832086056, 0.5738834855584668, -0.457012872504676, 0.2522444732694687], \"y\": [0.8631124458513236, 0.5986355733419969, 0.614822449612286, -1.7581689474435256, -0.21175790267989603, -0.5910624686227365, 0.7786986113887818, -1.8488687712754415, 0.030330826783380654, -1.0294011124030873, -2.6580626779617607, -0.05888128502145437, -1.7725815648562548, -0.18543431450504408, -0.4327950987141687, 0.5099981510591469, -0.19062164665727768, -0.7907254562344856, -1.6333556445154829, -1.3031032701729108, 0.40247038161853593, -0.4166082224438797, -0.9409147925302729, -0.41681164254177244, -0.06349392765170259, 0.2507086107020536, -0.08262009981311319, 0.3288202662704014, -0.22434607094346426, -1.0572124126050202, -1.563592379865578, -1.5733923546480597, -0.7759237840118166, -0.6369012837689372, -0.28084769308563995, 0.8551369202180026, 0.522197264512776, -1.3924664843877812, -0.21262073489338862, -1.329815913157702, -1.119441524119404, 0.027542633302294242, -0.9889007318191549, -2.0179322652041725, -0.85395071698655, -0.17490854779054166, -0.3804846594865454, -0.1537199740800653, -1.5394645102639806, -0.595860745965031]}, {\"marker\": {\"color\": \"rgba(50, 171, 96, 1.0)\", \"line\": {\"width\": 1.3}, \"opacity\": 0.8, \"size\": 12, \"symbol\": \"circle\"}, \"mode\": \"markers\", \"name\": \"Iris-virginica\", \"text\": [\"Iris-virginica\", \"Iris-virginica\", \"Iris-virginica\", \"Iris-virginica\", \"Iris-virginica\", \"Iris-virginica\", \"Iris-virginica\", \"Iris-virginica\", \"Iris-virginica\", \"Iris-virginica\", \"Iris-virginica\", \"Iris-virginica\", \"Iris-virginica\", \"Iris-virginica\", \"Iris-virginica\", \"Iris-virginica\", \"Iris-virginica\", \"Iris-virginica\", \"Iris-virginica\", \"Iris-virginica\", \"Iris-virginica\", \"Iris-virginica\", \"Iris-virginica\", \"Iris-virginica\", \"Iris-virginica\", \"Iris-virginica\", \"Iris-virginica\", \"Iris-virginica\", \"Iris-virginica\", \"Iris-virginica\", \"Iris-virginica\", \"Iris-virginica\", \"Iris-virginica\", \"Iris-virginica\", \"Iris-virginica\", \"Iris-virginica\", \"Iris-virginica\", \"Iris-virginica\", \"Iris-virginica\", \"Iris-virginica\", \"Iris-virginica\", \"Iris-virginica\", \"Iris-virginica\", \"Iris-virginica\", \"Iris-virginica\", \"Iris-virginica\", \"Iris-virginica\", \"Iris-virginica\", \"Iris-virginica\", \"Iris-virginica\"], \"textfont\": {\"color\": \"#4D5663\"}, \"type\": \"scatter\", \"x\": [1.8476725943096641, 1.1531898082521284, 2.2063494971265936, 1.4386854023261815, 1.8678907025555846, 2.754196708825753, 0.3583744748416662, 2.3030058981503196, 2.0017352992189155, 2.2675545991022696, 1.3659094292022143, 1.5990645856518686, 1.8842518537520745, 1.2530865143775902, 1.4640615229856218, 1.591809302638529, 1.4712801894655436, 2.4373784821935094, 3.309141182676079, 1.2539809866905762, 2.040496259663039, 0.9739151144704726, 2.8980644358432763, 1.3291936913234927, 1.7042407085196065, 1.957727661793436, 1.171904507987868, 1.0197810528162627, 1.786008861248468, 1.8647779127074666, 2.4354973914151437, 2.3160824119611565, 1.8603714258523156, 1.111271725675969, 1.1974691551180372, 2.8009494037340286, 1.5801552485205375, 1.347044424354802, 0.9234329777663839, 1.853551984066441, 2.016157200677759, 1.9031168585994873, 1.1531898082521284, 2.0433084392878094, 2.0016909669349983, 1.8705220714601254, 1.5584918907237164, 1.5208450639985902, 1.3763911906419284, 0.9592985756160378], \"y\": [0.871696661773413, -0.7013261138565755, 0.5544701049349219, -0.05001052226888582, 0.29119280176116874, 0.7884322063548437, -1.5600945839772884, 0.40951669522194245, -0.72386535931266, 1.9214429914653541, 0.6939480398041609, -0.42824883590034, 0.41433275795008356, -1.1673913352452454, -0.4441475694791233, 0.6770353716018516, 0.25319247196681505, 2.5567573414948015, -0.0023613201020841663, -1.7175838442659774, 0.9073987650150526, -0.571174376366266, 0.39779135917186703, -0.4867605419037243, 1.0141484248357844, 1.0033345154297764, -0.3188966173105679, 0.06554296309664798, -0.1932727998568917, 0.5553815315789888, 0.24665446806897318, 2.6261838690226265, -0.18467239440998345, -0.2959861024303906, -0.8171677419136163, 0.8447481937849735, 1.072474496127122, 0.42225596589554587, 0.01923037054689319, 0.6724227289716034, 0.6103970375551125, 0.6860248318586988, -0.7013261138565755, 0.8646848804720182, 1.0485500466234172, 0.3828218376229979, -0.9053136014070663, 0.26679457485391056, 1.0163619287948855, -0.022283944660567045]}],\n",
       "                        {\"legend\": {\"bgcolor\": \"#F5F6F9\", \"font\": {\"color\": \"#4D5663\"}}, \"paper_bgcolor\": \"#F5F6F9\", \"plot_bgcolor\": \"#F5F6F9\", \"template\": {\"data\": {\"bar\": [{\"error_x\": {\"color\": \"#2a3f5f\"}, \"error_y\": {\"color\": \"#2a3f5f\"}, \"marker\": {\"line\": {\"color\": \"#E5ECF6\", \"width\": 0.5}}, \"type\": \"bar\"}], \"barpolar\": [{\"marker\": {\"line\": {\"color\": \"#E5ECF6\", \"width\": 0.5}}, \"type\": \"barpolar\"}], \"carpet\": [{\"aaxis\": {\"endlinecolor\": \"#2a3f5f\", \"gridcolor\": \"white\", \"linecolor\": \"white\", \"minorgridcolor\": \"white\", \"startlinecolor\": \"#2a3f5f\"}, \"baxis\": {\"endlinecolor\": \"#2a3f5f\", \"gridcolor\": \"white\", \"linecolor\": \"white\", \"minorgridcolor\": \"white\", \"startlinecolor\": \"#2a3f5f\"}, \"type\": \"carpet\"}], \"choropleth\": [{\"colorbar\": {\"outlinewidth\": 0, \"ticks\": \"\"}, \"type\": \"choropleth\"}], \"contour\": [{\"colorbar\": {\"outlinewidth\": 0, \"ticks\": \"\"}, \"colorscale\": [[0.0, \"#0d0887\"], [0.1111111111111111, \"#46039f\"], [0.2222222222222222, \"#7201a8\"], [0.3333333333333333, \"#9c179e\"], [0.4444444444444444, \"#bd3786\"], [0.5555555555555556, \"#d8576b\"], [0.6666666666666666, \"#ed7953\"], [0.7777777777777778, \"#fb9f3a\"], [0.8888888888888888, \"#fdca26\"], [1.0, \"#f0f921\"]], \"type\": \"contour\"}], \"contourcarpet\": [{\"colorbar\": {\"outlinewidth\": 0, \"ticks\": \"\"}, \"type\": \"contourcarpet\"}], \"heatmap\": [{\"colorbar\": {\"outlinewidth\": 0, \"ticks\": \"\"}, \"colorscale\": [[0.0, \"#0d0887\"], [0.1111111111111111, \"#46039f\"], [0.2222222222222222, \"#7201a8\"], [0.3333333333333333, \"#9c179e\"], [0.4444444444444444, \"#bd3786\"], [0.5555555555555556, \"#d8576b\"], [0.6666666666666666, \"#ed7953\"], [0.7777777777777778, \"#fb9f3a\"], [0.8888888888888888, \"#fdca26\"], [1.0, \"#f0f921\"]], \"type\": \"heatmap\"}], \"heatmapgl\": [{\"colorbar\": {\"outlinewidth\": 0, \"ticks\": \"\"}, \"colorscale\": [[0.0, \"#0d0887\"], [0.1111111111111111, \"#46039f\"], [0.2222222222222222, \"#7201a8\"], [0.3333333333333333, \"#9c179e\"], [0.4444444444444444, \"#bd3786\"], [0.5555555555555556, \"#d8576b\"], [0.6666666666666666, \"#ed7953\"], [0.7777777777777778, \"#fb9f3a\"], [0.8888888888888888, \"#fdca26\"], [1.0, \"#f0f921\"]], \"type\": \"heatmapgl\"}], \"histogram\": [{\"marker\": {\"colorbar\": {\"outlinewidth\": 0, \"ticks\": \"\"}}, \"type\": \"histogram\"}], \"histogram2d\": [{\"colorbar\": {\"outlinewidth\": 0, \"ticks\": \"\"}, \"colorscale\": [[0.0, \"#0d0887\"], [0.1111111111111111, \"#46039f\"], [0.2222222222222222, \"#7201a8\"], [0.3333333333333333, \"#9c179e\"], [0.4444444444444444, \"#bd3786\"], [0.5555555555555556, \"#d8576b\"], [0.6666666666666666, \"#ed7953\"], [0.7777777777777778, \"#fb9f3a\"], [0.8888888888888888, \"#fdca26\"], [1.0, \"#f0f921\"]], \"type\": \"histogram2d\"}], \"histogram2dcontour\": [{\"colorbar\": {\"outlinewidth\": 0, \"ticks\": \"\"}, \"colorscale\": [[0.0, \"#0d0887\"], [0.1111111111111111, \"#46039f\"], [0.2222222222222222, \"#7201a8\"], [0.3333333333333333, \"#9c179e\"], [0.4444444444444444, \"#bd3786\"], [0.5555555555555556, \"#d8576b\"], [0.6666666666666666, \"#ed7953\"], [0.7777777777777778, \"#fb9f3a\"], [0.8888888888888888, \"#fdca26\"], [1.0, \"#f0f921\"]], \"type\": \"histogram2dcontour\"}], \"mesh3d\": [{\"colorbar\": {\"outlinewidth\": 0, \"ticks\": \"\"}, \"type\": \"mesh3d\"}], \"parcoords\": [{\"line\": {\"colorbar\": {\"outlinewidth\": 0, \"ticks\": \"\"}}, \"type\": \"parcoords\"}], \"pie\": [{\"automargin\": true, \"type\": \"pie\"}], \"scatter\": [{\"marker\": {\"colorbar\": {\"outlinewidth\": 0, \"ticks\": \"\"}}, \"type\": \"scatter\"}], \"scatter3d\": [{\"line\": {\"colorbar\": {\"outlinewidth\": 0, \"ticks\": \"\"}}, \"marker\": {\"colorbar\": {\"outlinewidth\": 0, \"ticks\": \"\"}}, \"type\": \"scatter3d\"}], \"scattercarpet\": [{\"marker\": {\"colorbar\": {\"outlinewidth\": 0, \"ticks\": \"\"}}, \"type\": \"scattercarpet\"}], \"scattergeo\": [{\"marker\": {\"colorbar\": {\"outlinewidth\": 0, \"ticks\": \"\"}}, \"type\": \"scattergeo\"}], \"scattergl\": [{\"marker\": {\"colorbar\": {\"outlinewidth\": 0, \"ticks\": \"\"}}, \"type\": \"scattergl\"}], \"scattermapbox\": [{\"marker\": {\"colorbar\": {\"outlinewidth\": 0, \"ticks\": \"\"}}, \"type\": \"scattermapbox\"}], \"scatterpolar\": [{\"marker\": {\"colorbar\": {\"outlinewidth\": 0, \"ticks\": \"\"}}, \"type\": \"scatterpolar\"}], \"scatterpolargl\": [{\"marker\": {\"colorbar\": {\"outlinewidth\": 0, \"ticks\": \"\"}}, \"type\": \"scatterpolargl\"}], \"scatterternary\": [{\"marker\": {\"colorbar\": {\"outlinewidth\": 0, \"ticks\": \"\"}}, \"type\": \"scatterternary\"}], \"surface\": [{\"colorbar\": {\"outlinewidth\": 0, \"ticks\": \"\"}, \"colorscale\": [[0.0, \"#0d0887\"], [0.1111111111111111, \"#46039f\"], [0.2222222222222222, \"#7201a8\"], [0.3333333333333333, \"#9c179e\"], [0.4444444444444444, \"#bd3786\"], [0.5555555555555556, \"#d8576b\"], [0.6666666666666666, \"#ed7953\"], [0.7777777777777778, \"#fb9f3a\"], [0.8888888888888888, \"#fdca26\"], [1.0, \"#f0f921\"]], \"type\": \"surface\"}], \"table\": [{\"cells\": {\"fill\": {\"color\": \"#EBF0F8\"}, \"line\": {\"color\": \"white\"}}, \"header\": {\"fill\": {\"color\": \"#C8D4E3\"}, \"line\": {\"color\": \"white\"}}, \"type\": \"table\"}]}, \"layout\": {\"annotationdefaults\": {\"arrowcolor\": \"#2a3f5f\", \"arrowhead\": 0, \"arrowwidth\": 1}, \"coloraxis\": {\"colorbar\": {\"outlinewidth\": 0, \"ticks\": \"\"}}, \"colorscale\": {\"diverging\": [[0, \"#8e0152\"], [0.1, \"#c51b7d\"], [0.2, \"#de77ae\"], [0.3, \"#f1b6da\"], [0.4, \"#fde0ef\"], [0.5, \"#f7f7f7\"], [0.6, \"#e6f5d0\"], [0.7, \"#b8e186\"], [0.8, \"#7fbc41\"], [0.9, \"#4d9221\"], [1, \"#276419\"]], \"sequential\": [[0.0, \"#0d0887\"], [0.1111111111111111, \"#46039f\"], [0.2222222222222222, \"#7201a8\"], [0.3333333333333333, \"#9c179e\"], [0.4444444444444444, \"#bd3786\"], [0.5555555555555556, \"#d8576b\"], [0.6666666666666666, \"#ed7953\"], [0.7777777777777778, \"#fb9f3a\"], [0.8888888888888888, \"#fdca26\"], [1.0, \"#f0f921\"]], \"sequentialminus\": [[0.0, \"#0d0887\"], [0.1111111111111111, \"#46039f\"], [0.2222222222222222, \"#7201a8\"], [0.3333333333333333, \"#9c179e\"], [0.4444444444444444, \"#bd3786\"], [0.5555555555555556, \"#d8576b\"], [0.6666666666666666, \"#ed7953\"], [0.7777777777777778, \"#fb9f3a\"], [0.8888888888888888, \"#fdca26\"], [1.0, \"#f0f921\"]]}, \"colorway\": [\"#636efa\", \"#EF553B\", \"#00cc96\", \"#ab63fa\", \"#FFA15A\", \"#19d3f3\", \"#FF6692\", \"#B6E880\", \"#FF97FF\", \"#FECB52\"], \"font\": {\"color\": \"#2a3f5f\"}, \"geo\": {\"bgcolor\": \"white\", \"lakecolor\": \"white\", \"landcolor\": \"#E5ECF6\", \"showlakes\": true, \"showland\": true, \"subunitcolor\": \"white\"}, \"hoverlabel\": {\"align\": \"left\"}, \"hovermode\": \"closest\", \"mapbox\": {\"style\": \"light\"}, \"paper_bgcolor\": \"white\", \"plot_bgcolor\": \"#E5ECF6\", \"polar\": {\"angularaxis\": {\"gridcolor\": \"white\", \"linecolor\": \"white\", \"ticks\": \"\"}, \"bgcolor\": \"#E5ECF6\", \"radialaxis\": {\"gridcolor\": \"white\", \"linecolor\": \"white\", \"ticks\": \"\"}}, \"scene\": {\"xaxis\": {\"backgroundcolor\": \"#E5ECF6\", \"gridcolor\": \"white\", \"gridwidth\": 2, \"linecolor\": \"white\", \"showbackground\": true, \"ticks\": \"\", \"zerolinecolor\": \"white\"}, \"yaxis\": {\"backgroundcolor\": \"#E5ECF6\", \"gridcolor\": \"white\", \"gridwidth\": 2, \"linecolor\": \"white\", \"showbackground\": true, \"ticks\": \"\", \"zerolinecolor\": \"white\"}, \"zaxis\": {\"backgroundcolor\": \"#E5ECF6\", \"gridcolor\": \"white\", \"gridwidth\": 2, \"linecolor\": \"white\", \"showbackground\": true, \"ticks\": \"\", \"zerolinecolor\": \"white\"}}, \"shapedefaults\": {\"line\": {\"color\": \"#2a3f5f\"}}, \"ternary\": {\"aaxis\": {\"gridcolor\": \"white\", \"linecolor\": \"white\", \"ticks\": \"\"}, \"baxis\": {\"gridcolor\": \"white\", \"linecolor\": \"white\", \"ticks\": \"\"}, \"bgcolor\": \"#E5ECF6\", \"caxis\": {\"gridcolor\": \"white\", \"linecolor\": \"white\", \"ticks\": \"\"}}, \"title\": {\"x\": 0.05}, \"xaxis\": {\"automargin\": true, \"gridcolor\": \"white\", \"linecolor\": \"white\", \"ticks\": \"\", \"title\": {\"standoff\": 15}, \"zerolinecolor\": \"white\", \"zerolinewidth\": 2}, \"yaxis\": {\"automargin\": true, \"gridcolor\": \"white\", \"linecolor\": \"white\", \"ticks\": \"\", \"title\": {\"standoff\": 15}, \"zerolinecolor\": \"white\", \"zerolinewidth\": 2}}}, \"title\": {\"font\": {\"color\": \"#4D5663\"}, \"text\": \"ACP en 2 composantes\"}, \"xaxis\": {\"gridcolor\": \"#E1E5ED\", \"showgrid\": true, \"tickfont\": {\"color\": \"#4D5663\"}, \"title\": {\"font\": {\"color\": \"#4D5663\"}, \"text\": \"Axe 1\"}, \"zerolinecolor\": \"#E1E5ED\"}, \"yaxis\": {\"gridcolor\": \"#E1E5ED\", \"showgrid\": true, \"tickfont\": {\"color\": \"#4D5663\"}, \"title\": {\"font\": {\"color\": \"#4D5663\"}, \"text\": \"Axe 2\"}, \"zerolinecolor\": \"#E1E5ED\"}},\n",
       "                        {\"showLink\": true, \"linkText\": \"Export to plot.ly\", \"plotlyServerURL\": \"https://plot.ly\", \"responsive\": true}\n",
       "                    ).then(function(){\n",
       "                            \n",
       "var gd = document.getElementById('9935b28e-5d6a-4597-b612-69affc048027');\n",
       "var x = new MutationObserver(function (mutations, observer) {{\n",
       "        var display = window.getComputedStyle(gd).display;\n",
       "        if (!display || display === 'none') {{\n",
       "            console.log([gd, 'removed!']);\n",
       "            Plotly.purge(gd);\n",
       "            observer.disconnect();\n",
       "        }}\n",
       "}});\n",
       "\n",
       "// Listen for the removal of the full notebook cells\n",
       "var notebookContainer = gd.closest('#notebook-container');\n",
       "if (notebookContainer) {{\n",
       "    x.observe(notebookContainer, {childList: true});\n",
       "}}\n",
       "\n",
       "// Listen for the clearing of the current output cell\n",
       "var outputEl = gd.closest('.output');\n",
       "if (outputEl) {{\n",
       "    x.observe(outputEl, {childList: true});\n",
       "}}\n",
       "\n",
       "                        })\n",
       "                };\n",
       "                });\n",
       "            </script>\n",
       "        </div>"
      ]
     },
     "metadata": {},
     "output_type": "display_data"
    }
   ],
   "source": [
    "# Représentation interactive \n",
    "\n",
    "import plotly\n",
    "import plotly.graph_objs as go\n",
    "from plotly.offline import download_plotlyjs, init_notebook_mode, plot, iplot\n",
    "init_notebook_mode(connected=True)\n",
    "\n",
    "import cufflinks as cf\n",
    "cf.go_offline()\n",
    "cf.set_config_file(offline=False, world_readable=True)\n",
    "finalDf.iplot(kind='scatter',\n",
    "              mode='markers',\n",
    "              x='Axe 1',\n",
    "              y='Axe 2',\n",
    "              categories='target',\n",
    "              text='target',\n",
    "              xTitle='Axe 1',\n",
    "              yTitle='Axe 2',\n",
    "              title='ACP en 2 composantes',\n",
    "              filename='cufflinks/simple-scatter')"
   ]
  }
 ],
 "metadata": {
  "kernelspec": {
   "display_name": "Python 3",
   "language": "python",
   "name": "python3"
  },
  "language_info": {
   "codemirror_mode": {
    "name": "ipython",
    "version": 3
   },
   "file_extension": ".py",
   "mimetype": "text/x-python",
   "name": "python",
   "nbconvert_exporter": "python",
   "pygments_lexer": "ipython3",
   "version": "3.6.6"
  }
 },
 "nbformat": 4,
 "nbformat_minor": 2
}
