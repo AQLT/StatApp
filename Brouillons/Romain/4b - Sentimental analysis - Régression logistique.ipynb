{
 "cells": [
  {
   "cell_type": "markdown",
   "metadata": {},
   "source": [
    "# Importer le modèle Word2Vec"
   ]
  },
  {
   "cell_type": "code",
   "execution_count": 2,
   "metadata": {},
   "outputs": [],
   "source": [
    "import os\n",
    "import numpy as np\n",
    "import random\n",
    "import pandas as pd\n",
    "import matplotlib.pyplot as plt\n",
    "import pickle\n",
    "import gensim\n",
    "from gensim.models import word2vec\n",
    "\n",
    "random.seed(1)\n",
    "np.random.seed(1)"
   ]
  },
  {
   "cell_type": "code",
   "execution_count": 3,
   "metadata": {},
   "outputs": [],
   "source": [
    "os.chdir('C:/Users/torna/Documents/StatApp/StatApp')\n",
    "#os.chdir('C:/Users/Kim Antunez/Documents/Projets_autres')\n",
    "#os.chdir('/Users/alainquartierlatente/Desktop/Ensae/StatApp')\n",
    "#os.chdir('/home/aqlt/Documents/Ensae/StatApp')"
   ]
  },
  {
   "cell_type": "code",
   "execution_count": 11,
   "metadata": {},
   "outputs": [],
   "source": [
    "nom_dossier = 'ens'\n",
    "dim = 50\n",
    "# dim = 300\n",
    "# dim = 100\n",
    "epoch = 100\n",
    "window = 4\n",
    "learning_rate = 0.02\n",
    "    \n",
    "chemin1 = \"data/{}/gensim/dim{}_ep{}_w{}_lr{}_seed1\".format(nom_dossier, dim, epoch, window, str(learning_rate)[2:]) \n",
    "model1 = gensim.models.keyedvectors.KeyedVectors.load(chemin1 + \"/word2vec.model\")\n",
    "chemin2 = \"data/{}/gensim/dim{}_ep{}_w{}_lr{}_seed5\".format(nom_dossier, dim, epoch, window, str(learning_rate)[2:])  \n",
    "model2 = gensim.models.keyedvectors.KeyedVectors.load(chemin2 + \"/word2vec.model\")\n",
    "chemin3 = \"data/{}/gensim/dim{}_ep{}_w{}_lr{}_seed10\".format(nom_dossier, dim, epoch, window, str(learning_rate)[2:])  \n",
    "model3 = gensim.models.keyedvectors.KeyedVectors.load(chemin3 + \"/word2vec.model\")\n",
    "chemin4 = \"data/{}/gensim/dim{}_ep{}_w{}_lr{}_seed15\".format(nom_dossier, dim, epoch, window, str(learning_rate)[2:])  \n",
    "model4 = gensim.models.keyedvectors.KeyedVectors.load(chemin4 + \"/word2vec.model\")\n",
    "chemin5 = \"data/{}/gensim/dim{}_ep{}_w{}_lr{}_seed20\".format(nom_dossier, dim, epoch, window, str(learning_rate)[2:])  \n",
    "model5 = gensim.models.keyedvectors.KeyedVectors.load(chemin5 + \"/word2vec.model\")\n",
    "chemin6 = \"data/{}/gensim/dim{}_ep{}_w{}_lr{}_seed25\".format(nom_dossier, dim, epoch, window, str(learning_rate)[2:]) \n",
    "model6 = gensim.models.keyedvectors.KeyedVectors.load(chemin6 + \"/word2vec.model\")"
   ]
  },
  {
   "cell_type": "code",
   "execution_count": 12,
   "metadata": {},
   "outputs": [],
   "source": [
    "matrice = {word : (model1.wv[word]+model2.wv[word]+model3.wv[word]+model4.wv[word]+model5.wv[word]+model6.wv[word])/6\n",
    "           for word in model1.wv.index2word}\n",
    "\n",
    "def normalize(v):\n",
    "    norm = np.linalg.norm(v)\n",
    "    if norm == 0: \n",
    "        return v\n",
    "    return v / norm\n",
    "\n",
    "matrice_norm = {word : normalize(matrice[word]) for word in matrice.keys()}"
   ]
  },
  {
   "cell_type": "markdown",
   "metadata": {},
   "source": [
    "## On importe les données de train et on calcule le \"sentence-embedding\""
   ]
  },
  {
   "cell_type": "code",
   "execution_count": 6,
   "metadata": {},
   "outputs": [],
   "source": [
    "# Si on veut récup les fichiers\n",
    "with open(\"data/sentimental_analysis/corpus_test.file\", \"rb\") as f:\n",
    "    corpus_test = pickle.load(f)\n",
    "with open(\"data/sentimental_analysis/corpus_train.file\", \"rb\") as f:\n",
    "    corpus_train = pickle.load(f)"
   ]
  },
  {
   "cell_type": "code",
   "execution_count": 7,
   "metadata": {},
   "outputs": [],
   "source": [
    "def calcul_sentence_embedding(phrase):\n",
    "    if len(phrase)>0:\n",
    "        sum1 = sum(matrice[mot] for mot in phrase if mot in model1.wv.index2word)\n",
    "        #sum1 = sum(matrice_norm[mot] for mot in phrase if mot in model1.wv.index2word)\n",
    "        sum2 = sum(matrice[\"lowfrequencyword\"] for mot in phrase if mot not in model1.wv.index2word)\n",
    "        #sum2 = sum(matrice_norm[\"lowfrequencyword\"] for mot in phrase if mot not in model1.wv.index2word)\n",
    "        return (sum1+sum2)/len(phrase)\n",
    "    else:\n",
    "        return matrice[\"lowfrequencyword\"]"
   ]
  },
  {
   "cell_type": "code",
   "execution_count": 45,
   "metadata": {},
   "outputs": [],
   "source": [
    "phrases = [[tweet.split(),score] for (score, tweet) in corpus_train]"
   ]
  },
  {
   "cell_type": "code",
   "execution_count": 46,
   "metadata": {},
   "outputs": [],
   "source": [
    "phrases_emb = [[score,calcul_sentence_embedding(phrase)] for (phrase,score) in phrases]"
   ]
  },
  {
   "cell_type": "code",
   "execution_count": 47,
   "metadata": {},
   "outputs": [],
   "source": [
    "Y_train = [score for (score, embedding) in phrases_emb]\n",
    "X_train = [embedding for (score, embedding) in phrases_emb]"
   ]
  },
  {
   "cell_type": "code",
   "execution_count": 48,
   "metadata": {},
   "outputs": [],
   "source": [
    "from sklearn.linear_model import LogisticRegression\n",
    "lr = LogisticRegression()\n",
    "reg_log = lr.fit(X_train,Y_train)"
   ]
  },
  {
   "cell_type": "code",
   "execution_count": 49,
   "metadata": {},
   "outputs": [
    {
     "name": "stdout",
     "output_type": "stream",
     "text": [
      "[[17596  7404]\n",
      " [ 8022 16978]]\n",
      "0.69148\n"
     ]
    }
   ],
   "source": [
    "Y_train_pred = reg_log.predict(X_train)\n",
    "\n",
    "from sklearn import metrics\n",
    "# Matrice confusion\n",
    "cm = metrics.confusion_matrix(Y_train,Y_train_pred)\n",
    "print(cm)\n",
    "# Accuracy\n",
    "acc = metrics.accuracy_score(Y_train,Y_train_pred)\n",
    "print(acc) "
   ]
  },
  {
   "cell_type": "code",
   "execution_count": 50,
   "metadata": {},
   "outputs": [],
   "source": [
    "phrases_test = [[tweet.split(),score] for (score, tweet) in corpus_test]\n",
    "phrases_test_emb = [[score,calcul_sentence_embedding(phrase)] for (phrase,score) in phrases_test]\n",
    "Y_test = [score for (score, embedding) in phrases_test_emb]\n",
    "X_test = [embedding for (score, embedding) in phrases_test_emb]\n",
    "Y_test_pred = reg_log.predict(X_test)"
   ]
  },
  {
   "cell_type": "code",
   "execution_count": 51,
   "metadata": {},
   "outputs": [
    {
     "name": "stdout",
     "output_type": "stream",
     "text": [
      "[[1424  560]\n",
      " [ 671 1327]]\n",
      "0.6908588648920141\n"
     ]
    }
   ],
   "source": [
    "# Matrice confusion\n",
    "cm_test = metrics.confusion_matrix(Y_test,Y_test_pred)\n",
    "print(cm_test)\n",
    "# Accuracy\n",
    "acc_test = metrics.accuracy_score(Y_test,Y_test_pred)\n",
    "print(acc_test) "
   ]
  },
  {
   "cell_type": "code",
   "execution_count": 52,
   "metadata": {},
   "outputs": [
    {
     "data": {
      "image/png": "[encoded data removed]",
      "text/plain": [
       "<Figure size 432x288 with 1 Axes>"
      ]
     },
     "metadata": {
      "needs_background": "light"
     },
     "output_type": "display_data"
    }
   ],
   "source": [
    "# Essai courbe ROC\n",
    "import sklearn.metrics as metrics\n",
    "probs = reg_log.predict_proba(X_test)\n",
    "preds = probs[:,1]\n",
    "fpr, tpr, threshold = metrics.roc_curve(Y_test, preds)\n",
    "roc_auc = metrics.auc(fpr, tpr)\n",
    "\n",
    "# method I: plt\n",
    "import matplotlib.pyplot as plt\n",
    "plt.title('Courbe ROC - Régression logistique - Test')\n",
    "plt.plot(fpr, tpr, 'b', label = 'AUC = %0.2f' % roc_auc)\n",
    "plt.legend(loc = 'lower right')\n",
    "plt.plot([0, 1], [0, 1],'r--')\n",
    "plt.xlim([0, 1])\n",
    "plt.ylim([0, 1])\n",
    "plt.ylabel('Taux de vrais positifs')\n",
    "plt.xlabel('Taux de faux positifs')\n",
    "plt.show()"
   ]
  },
  {
   "cell_type": "markdown",
   "metadata": {},
   "source": [
    "## Pourquoi ce score ?"
   ]
  },
  {
   "cell_type": "code",
   "execution_count": 15,
   "metadata": {},
   "outputs": [
    {
     "name": "stdout",
     "output_type": "stream",
     "text": [
      "21204\n",
      "39650\n"
     ]
    }
   ],
   "source": [
    "phrases = [tweet.split() for (score, tweet) in corpus_train]\n",
    "mots = [item for sublist in phrases for item in sublist]\n",
    "vocabulaire = list(dict.fromkeys(mots))\n",
    "n = 0\n",
    "absents = []\n",
    "for word in vocabulaire:\n",
    "    if word not in model1.wv.index2word:\n",
    "        n+=1\n",
    "        absents.append(word)\n",
    "print(n)\n",
    "print(len(vocabulaire))"
   ]
  },
  {
   "cell_type": "code",
   "execution_count": 16,
   "metadata": {},
   "outputs": [
    {
     "data": {
      "text/plain": [
       "0.5347793190416141"
      ]
     },
     "execution_count": 16,
     "metadata": {},
     "output_type": "execute_result"
    }
   ],
   "source": [
    "n/len(vocabulaire)"
   ]
  },
  {
   "cell_type": "markdown",
   "metadata": {},
   "source": [
    "## Stopwords"
   ]
  },
  {
   "cell_type": "code",
   "execution_count": 17,
   "metadata": {},
   "outputs": [],
   "source": [
    "import nltk\n",
    "from nltk.corpus import stopwords\n",
    "stop_words =  set(stopwords.words('french'))"
   ]
  },
  {
   "cell_type": "code",
   "execution_count": 18,
   "metadata": {},
   "outputs": [],
   "source": [
    "def suppr_stop(phrase):\n",
    "    return [mot for mot in phrase if mot not in stop_words]\n",
    "    \n",
    "phrases_stop = [[suppr_stop(tweet.split()),score] for (score, tweet) in corpus_train]"
   ]
  },
  {
   "cell_type": "code",
   "execution_count": 53,
   "metadata": {},
   "outputs": [
    {
     "name": "stdout",
     "output_type": "stream",
     "text": [
      "[['est', 'très', 'heureux', 'que', 'aujourdhui', 'marque', '6', 'merveilleux', 'mois', 'avec', 'stephanie'], 1]\n",
      "[['très', 'heureux', 'aujourdhui', 'marque', '6', 'merveilleux', 'mois', 'stephanie'], 1]\n"
     ]
    }
   ],
   "source": [
    "print(phrases[0])\n",
    "print(phrases_stop[0])"
   ]
  },
  {
   "cell_type": "code",
   "execution_count": 54,
   "metadata": {},
   "outputs": [],
   "source": [
    "phrases_emb_stop = [[score,calcul_sentence_embedding(phrase)] for (phrase,score) in phrases_stop]\n",
    "Y_train_stop = [score for (score, embedding) in phrases_emb_stop]\n",
    "X_train_stop = [embedding for (score, embedding) in phrases_emb_stop]"
   ]
  },
  {
   "cell_type": "code",
   "execution_count": 55,
   "metadata": {},
   "outputs": [
    {
     "name": "stderr",
     "output_type": "stream",
     "text": [
      "C:\\Users\\torna\\Anaconda3\\lib\\site-packages\\sklearn\\linear_model\\_logistic.py:940: ConvergenceWarning: lbfgs failed to converge (status=1):\n",
      "STOP: TOTAL NO. of ITERATIONS REACHED LIMIT.\n",
      "\n",
      "Increase the number of iterations (max_iter) or scale the data as shown in:\n",
      "    https://scikit-learn.org/stable/modules/preprocessing.html\n",
      "Please also refer to the documentation for alternative solver options:\n",
      "    https://scikit-learn.org/stable/modules/linear_model.html#logistic-regression\n",
      "  extra_warning_msg=_LOGISTIC_SOLVER_CONVERGENCE_MSG)\n"
     ]
    }
   ],
   "source": [
    "lr_stop = LogisticRegression()\n",
    "reg_log_st = lr_stop.fit(X_train_stop,Y_train_stop)"
   ]
  },
  {
   "cell_type": "code",
   "execution_count": 58,
   "metadata": {},
   "outputs": [
    {
     "name": "stdout",
     "output_type": "stream",
     "text": [
      "[[16955  8045]\n",
      " [ 8239 16761]]\n",
      "0.67432\n",
      "[[1357  627]\n",
      " [ 685 1313]]\n",
      "0.6705173279758915\n"
     ]
    }
   ],
   "source": [
    "Y_train_pred_stop = reg_log_st.predict(X_train_stop)\n",
    "\n",
    "# Matrice confusion\n",
    "cm_stop = metrics.confusion_matrix(Y_train_stop,Y_train_pred_stop)\n",
    "print(cm_stop)\n",
    "# Accuracy\n",
    "acc_stop = metrics.accuracy_score(Y_train_stop,Y_train_pred_stop)\n",
    "print(acc_stop) \n",
    "\n",
    "\n",
    "phrases_test_stop = [[suppr_stop(tweet.split()),score] for (score, tweet) in corpus_test]\n",
    "phrases_test_emb_stop = [[score,calcul_sentence_embedding(phrase)] for (phrase,score) in phrases_test_stop]\n",
    "Y_test_stop = [score for (score, embedding) in phrases_test_emb_stop]\n",
    "X_test_stop = [embedding for (score, embedding) in phrases_test_emb_stop]\n",
    "Y_test_pred_stop = reg_log_st.predict(X_test_stop)\n",
    "\n",
    "# Matrice confusion\n",
    "cm_test_stop = metrics.confusion_matrix(Y_test_stop,Y_test_pred_stop)\n",
    "print(cm_test_stop)\n",
    "# Accuracy\n",
    "acc_test_stop = metrics.accuracy_score(Y_test_stop,Y_test_pred_stop)\n",
    "print(acc_test_stop) "
   ]
  },
  {
   "cell_type": "code",
   "execution_count": 59,
   "metadata": {},
   "outputs": [
    {
     "data": {
      "image/png": "[encoded data removed]",
      "text/plain": [
       "<Figure size 432x288 with 1 Axes>"
      ]
     },
     "metadata": {
      "needs_background": "light"
     },
     "output_type": "display_data"
    }
   ],
   "source": [
    "# Essai courbe ROC\n",
    "probs_stop = reg_log_st.predict_proba(X_test_stop)\n",
    "preds_stop = probs_stop[:,1]\n",
    "fpr_stop, tpr_stop, threshold_stop = metrics.roc_curve(Y_test_stop, preds_stop)\n",
    "roc_auc_stop = metrics.auc(fpr_stop, tpr_stop)\n",
    "\n",
    "# method I: plt\n",
    "import matplotlib.pyplot as plt\n",
    "plt.title('Courbe ROC - Régression logistique - Test')\n",
    "plt.plot(fpr_stop, tpr_stop, 'b', label = 'AUC = %0.2f' % roc_auc_stop)\n",
    "plt.legend(loc = 'lower right')\n",
    "plt.plot([0, 1], [0, 1],'r--')\n",
    "plt.xlim([0, 1])\n",
    "plt.ylim([0, 1])\n",
    "plt.ylabel('Taux de vrais positifs')\n",
    "plt.xlabel('Taux de faux positifs')\n",
    "plt.show()"
   ]
  },
  {
   "cell_type": "code",
   "execution_count": 60,
   "metadata": {},
   "outputs": [],
   "source": [
    "# On sauve les modèles\n",
    "with open(\"data/sentimental_analysis/reg_log_100_norm.file\", \"wb\") as f:\n",
    "    pickle.dump(reg_log, f, pickle.HIGHEST_PROTOCOL)\n",
    "with open(\"data/sentimental_analysis/reg_log_st_100_norm.file\", \"wb\") as f:\n",
    "    pickle.dump(reg_log_st, f, pickle.HIGHEST_PROTOCOL)"
   ]
  },
  {
   "cell_type": "markdown",
   "metadata": {},
   "source": [
    "# Modèle : combiner régression logistique + poids des mots"
   ]
  },
  {
   "cell_type": "code",
   "execution_count": 63,
   "metadata": {},
   "outputs": [],
   "source": [
    "phrases = [tweet.split() for (score, tweet) in corpus_train]\n",
    "mots = [item for sublist in phrases for item in sublist]\n",
    "vocabulaire = list(dict.fromkeys(mots))\n",
    "matrice_sentiments = {mot:(0,0) for mot in vocabulaire}\n",
    "\n",
    "def sentiment_plus(mot):\n",
    "    plus, moins = matrice_sentiments[mot]\n",
    "    matrice_sentiments[mot] = (plus+1,moins)\n",
    "    \n",
    "def sentiment_moins(mot):\n",
    "    plus, moins = matrice_sentiments[mot]\n",
    "    matrice_sentiments[mot] = (plus,moins+1)\n",
    "    \n",
    "for (score, tweet) in corpus_train:\n",
    "    for mot in tweet.split():\n",
    "        if score == 1:\n",
    "            sentiment_plus(mot)\n",
    "        else:\n",
    "            sentiment_moins(mot)\n",
    "            \n",
    "matrice_sentiments_val = {mot:(matrice_sentiments[mot][0]-matrice_sentiments[mot][1])/((matrice_sentiments[mot][0]+matrice_sentiments[mot][1]))\n",
    "                          for mot in vocabulaire}"
   ]
  },
  {
   "cell_type": "code",
   "execution_count": 68,
   "metadata": {},
   "outputs": [
    {
     "name": "stdout",
     "output_type": "stream",
     "text": [
      "0.0022627153\n",
      "0.002601578\n",
      "-0.0072481297\n"
     ]
    }
   ],
   "source": [
    "def calcul_sentence_embedding_pond(phrase):\n",
    "    if len(phrase)>0:\n",
    "        #sum1 = sum(matrice[mot]*matrice_sentiments_val[mot] for mot in phrase if mot in model1.wv.index2word and mot in vocabulaire)\n",
    "        #sum2 = sum(matrice[\"lowfrequencyword\"]*0 for mot in phrase if mot not in model1.wv.index2word)\n",
    "        sum1 = sum(matrice_norm[mot]*matrice_sentiments_val[mot] for mot in phrase if mot in model1.wv.index2word and\n",
    "                   mot in vocabulaire)\n",
    "        sum2 = sum(matrice_norm[\"lowfrequencyword\"]*0 for mot in phrase if mot not in model1.wv.index2word)\n",
    "        return (sum1+sum2)/len(phrase)\n",
    "    else:\n",
    "        return matrice[\"lowfrequencyword\"]\n",
    "\n",
    "print(calcul_sentence_embedding([\"le\",\"test\"])[0])\n",
    "print(calcul_sentence_embedding_pond([\"gentil\"])[0])\n",
    "print(calcul_sentence_embedding_pond([\"méchant\"])[0])"
   ]
  },
  {
   "cell_type": "code",
   "execution_count": 69,
   "metadata": {},
   "outputs": [],
   "source": [
    "phrases = [[tweet.split(),score] for (score, tweet) in corpus_train]\n",
    "phrases_emb = [[score,calcul_sentence_embedding_pond(phrase)] for (phrase,score) in phrases]"
   ]
  },
  {
   "cell_type": "code",
   "execution_count": 70,
   "metadata": {},
   "outputs": [
    {
     "name": "stdout",
     "output_type": "stream",
     "text": [
      "[[19120  5880]\n",
      " [ 5548 19452]]\n",
      "0.77144\n"
     ]
    }
   ],
   "source": [
    "Y_train = [score for (score, embedding) in phrases_emb]\n",
    "X_train = [embedding for (score, embedding) in phrases_emb]\n",
    "lr = LogisticRegression()\n",
    "reg_log = lr.fit(X_train,Y_train)\n",
    "\n",
    "Y_train_pred = reg_log.predict(X_train)\n",
    "\n",
    "from sklearn import metrics\n",
    "# Matrice confusion\n",
    "cm = metrics.confusion_matrix(Y_train,Y_train_pred)\n",
    "print(cm)\n",
    "# Accuracy\n",
    "acc = metrics.accuracy_score(Y_train,Y_train_pred)\n",
    "print(acc) "
   ]
  },
  {
   "cell_type": "code",
   "execution_count": 71,
   "metadata": {},
   "outputs": [
    {
     "name": "stdout",
     "output_type": "stream",
     "text": [
      "[[1408  576]\n",
      " [ 645 1353]]\n",
      "0.6933701657458563\n"
     ]
    }
   ],
   "source": [
    "phrases_test = [[tweet.split(),score] for (score, tweet) in corpus_test]\n",
    "phrases_test_emb = [[score,calcul_sentence_embedding_pond(phrase)] for (phrase,score) in phrases_test]\n",
    "Y_test = [score for (score, embedding) in phrases_test_emb]\n",
    "X_test = [embedding for (score, embedding) in phrases_test_emb]\n",
    "Y_test_pred = reg_log.predict(X_test)\n",
    "# Matrice confusion\n",
    "cm_test = metrics.confusion_matrix(Y_test,Y_test_pred)\n",
    "print(cm_test)\n",
    "# Accuracy\n",
    "acc_test = metrics.accuracy_score(Y_test,Y_test_pred)\n",
    "print(acc_test) "
   ]
  },
  {
   "cell_type": "code",
   "execution_count": 72,
   "metadata": {},
   "outputs": [
    {
     "name": "stdout",
     "output_type": "stream",
     "text": [
      "[[19250  5750]\n",
      " [ 5227 19773]]\n",
      "0.78046\n",
      "[[1364  620]\n",
      " [ 641 1357]]\n",
      "0.6833249623304872\n"
     ]
    }
   ],
   "source": [
    "import nltk\n",
    "from nltk.corpus import stopwords\n",
    "stop_words =  set(stopwords.words('french'))\n",
    "\n",
    "def suppr_stop(phrase):\n",
    "    return [mot for mot in phrase if mot not in stop_words]\n",
    "    \n",
    "phrases_stop = [[suppr_stop(tweet.split()),score] for (score, tweet) in corpus_train]\n",
    "\n",
    "phrases_emb_stop = [[score,calcul_sentence_embedding_pond(phrase)] for (phrase,score) in phrases_stop]\n",
    "Y_train_stop = [score for (score, embedding) in phrases_emb_stop]\n",
    "X_train_stop = [embedding for (score, embedding) in phrases_emb_stop]\n",
    "\n",
    "lr_stop = LogisticRegression()\n",
    "reg_log_st = lr_stop.fit(X_train_stop,Y_train_stop)\n",
    "\n",
    "Y_train_pred_stop = reg_log_st.predict(X_train_stop)\n",
    "\n",
    "# Matrice confusion\n",
    "cm_stop = metrics.confusion_matrix(Y_train_stop,Y_train_pred_stop)\n",
    "print(cm_stop)\n",
    "# Accuracy\n",
    "acc_stop = metrics.accuracy_score(Y_train_stop,Y_train_pred_stop)\n",
    "print(acc_stop) \n",
    "\n",
    "\n",
    "phrases_test_stop = [[suppr_stop(tweet.split()),score] for (score, tweet) in corpus_test]\n",
    "phrases_test_emb_stop = [[score,calcul_sentence_embedding_pond(phrase)] for (phrase,score) in phrases_test_stop]\n",
    "Y_test_stop = [score for (score, embedding) in phrases_test_emb_stop]\n",
    "X_test_stop = [embedding for (score, embedding) in phrases_test_emb_stop]\n",
    "Y_test_pred_stop = reg_log_st.predict(X_test_stop)\n",
    "\n",
    "# Matrice confusion\n",
    "cm_test_stop = metrics.confusion_matrix(Y_test_stop,Y_test_pred_stop)\n",
    "print(cm_test_stop)\n",
    "# Accuracy\n",
    "acc_test_stop = metrics.accuracy_score(Y_test_stop,Y_test_pred_stop)\n",
    "print(acc_test_stop) "
   ]
  },
  {
   "cell_type": "markdown",
   "metadata": {},
   "source": [
    "# Réutiliser modèle"
   ]
  },
  {
   "cell_type": "code",
   "execution_count": 9,
   "metadata": {},
   "outputs": [],
   "source": [
    "with open(\"data/sentimental_analysis/reg_log_300.file\", \"rb\") as f:\n",
    "    reg_log_300 = pickle.load(f)\n",
    "with open(\"data/sentimental_analysis/reg_log_st_300.file\", \"rb\") as f:\n",
    "    reg_log_st_300 = pickle.load(f)\n",
    "with open(\"data/sentimental_analysis/reg_log_50.file\", \"rb\") as f:\n",
    "    reg_log_50 = pickle.load(f)\n",
    "with open(\"data/sentimental_analysis/reg_log_st_50.file\", \"rb\") as f:\n",
    "    reg_log_st_50 = pickle.load(f)\n",
    "with open(\"data/sentimental_analysis/reg_log_100.file\", \"rb\") as f:\n",
    "    reg_log_100 = pickle.load(f)\n",
    "with open(\"data/sentimental_analysis/reg_log_st_100.file\", \"rb\") as f:\n",
    "    reg_log_st_100 = pickle.load(f)"
   ]
  },
  {
   "cell_type": "code",
   "execution_count": 43,
   "metadata": {},
   "outputs": [],
   "source": [
    "nom_dossier = 'ens'\n",
    "dim = 50\n",
    "# dim = 300\n",
    "# dim = 100\n",
    "epoch = 100\n",
    "window = 4\n",
    "learning_rate = 0.02\n",
    "    \n",
    "chemin1 = \"data/{}/gensim/dim{}_ep{}_w{}_lr{}_seed1\".format(nom_dossier, dim, epoch, window, str(learning_rate)[2:]) \n",
    "model1 = gensim.models.keyedvectors.KeyedVectors.load(chemin1 + \"/word2vec.model\")\n",
    "chemin2 = \"data/{}/gensim/dim{}_ep{}_w{}_lr{}_seed5\".format(nom_dossier, dim, epoch, window, str(learning_rate)[2:])  \n",
    "model2 = gensim.models.keyedvectors.KeyedVectors.load(chemin2 + \"/word2vec.model\")\n",
    "chemin3 = \"data/{}/gensim/dim{}_ep{}_w{}_lr{}_seed10\".format(nom_dossier, dim, epoch, window, str(learning_rate)[2:])  \n",
    "model3 = gensim.models.keyedvectors.KeyedVectors.load(chemin3 + \"/word2vec.model\")\n",
    "chemin4 = \"data/{}/gensim/dim{}_ep{}_w{}_lr{}_seed15\".format(nom_dossier, dim, epoch, window, str(learning_rate)[2:])  \n",
    "model4 = gensim.models.keyedvectors.KeyedVectors.load(chemin4 + \"/word2vec.model\")\n",
    "chemin5 = \"data/{}/gensim/dim{}_ep{}_w{}_lr{}_seed20\".format(nom_dossier, dim, epoch, window, str(learning_rate)[2:])  \n",
    "model5 = gensim.models.keyedvectors.KeyedVectors.load(chemin5 + \"/word2vec.model\")\n",
    "chemin6 = \"data/{}/gensim/dim{}_ep{}_w{}_lr{}_seed25\".format(nom_dossier, dim, epoch, window, str(learning_rate)[2:]) \n",
    "model6 = gensim.models.keyedvectors.KeyedVectors.load(chemin6 + \"/word2vec.model\")"
   ]
  },
  {
   "cell_type": "code",
   "execution_count": 44,
   "metadata": {},
   "outputs": [],
   "source": [
    "matrice = {word : (model1.wv[word]+model2.wv[word]+model3.wv[word]+model4.wv[word]+model5.wv[word]+model6.wv[word])/6\n",
    "           for word in model1.wv.index2word}\n",
    "def normalize(v):\n",
    "    norm = np.linalg.norm(v)\n",
    "    if norm == 0: \n",
    "        return v\n",
    "    return v / norm\n",
    "\n",
    "matrice_norm = {word : normalize(matrice[word]) for word in matrice.keys()}"
   ]
  },
  {
   "cell_type": "code",
   "execution_count": 45,
   "metadata": {},
   "outputs": [
    {
     "name": "stdout",
     "output_type": "stream",
     "text": [
      "0.68322\n",
      "0.6722752385735811\n"
     ]
    }
   ],
   "source": [
    "from sklearn.linear_model import LogisticRegression\n",
    "\n",
    "def calcul_sentence_embedding(phrase):\n",
    "    if len(phrase)>0:\n",
    "        #sum1 = sum(matrice[mot] for mot in phrase if mot in model1.wv.index2word)\n",
    "        sum1 = sum(matrice_norm[mot] for mot in phrase if mot in model1.wv.index2word)\n",
    "        #sum2 = sum(matrice[\"lowfrequencyword\"] for mot in phrase if mot not in model1.wv.index2word)\n",
    "        sum2 = sum(matrice_norm[\"lowfrequencyword\"] for mot in phrase if mot not in model1.wv.index2word)\n",
    "        return (sum1+sum2)/len(phrase)\n",
    "    else:\n",
    "        return matrice[\"lowfrequencyword\"]\n",
    "    \n",
    "phrases = [[tweet.split(),score] for (score, tweet) in corpus_train]\n",
    "phrases_emb = [[score,calcul_sentence_embedding(phrase)] for (phrase,score) in phrases]\n",
    "Y_train = [score for (score, embedding) in phrases_emb]\n",
    "X_train = [embedding for (score, embedding) in phrases_emb]\n",
    "\n",
    "lr = LogisticRegression()\n",
    "reg_log_50_norm = lr.fit(X_train,Y_train)\n",
    "\n",
    "Y_train_pred = reg_log_50_norm.predict(X_train)\n",
    "\n",
    "phrases_test = [[tweet.split(),score] for (score, tweet) in corpus_test]\n",
    "phrases_test_emb = [[score,calcul_sentence_embedding(phrase)] for (phrase,score) in phrases_test]\n",
    "Y_test = [score for (score, embedding) in phrases_test_emb]\n",
    "X_test = [embedding for (score, embedding) in phrases_test_emb]\n",
    "Y_test_pred = reg_log_50_norm.predict(X_test)\n",
    "\n",
    "from sklearn import metrics\n",
    "acc = metrics.accuracy_score(Y_train,Y_train_pred)\n",
    "print(acc) \n",
    "acc_test = metrics.accuracy_score(Y_test,Y_test_pred)\n",
    "print(acc_test) "
   ]
  },
  {
   "cell_type": "code",
   "execution_count": 46,
   "metadata": {},
   "outputs": [],
   "source": [
    "probs50_norm = reg_log_50_norm.predict_proba(X_test)\n",
    "preds50_norm = probs50_norm[:,1]\n",
    "fpr50_norm, tpr50_norm, threshold50_norm = metrics.roc_curve(Y_test, preds50_norm)\n",
    "roc_auc50_norm = metrics.auc(fpr50_norm, tpr50_norm)"
   ]
  },
  {
   "cell_type": "code",
   "execution_count": 49,
   "metadata": {},
   "outputs": [],
   "source": [
    "nom_dossier = 'ens'\n",
    "dim = 100\n",
    "epoch = 100\n",
    "window = 4\n",
    "learning_rate = 0.02\n",
    "    \n",
    "chemin1 = \"data/{}/gensim/dim{}_ep{}_w{}_lr{}_seed1\".format(nom_dossier, dim, epoch, window, str(learning_rate)[2:]) \n",
    "model1 = gensim.models.keyedvectors.KeyedVectors.load(chemin1 + \"/word2vec.model\")\n",
    "chemin2 = \"data/{}/gensim/dim{}_ep{}_w{}_lr{}_seed5\".format(nom_dossier, dim, epoch, window, str(learning_rate)[2:])  \n",
    "model2 = gensim.models.keyedvectors.KeyedVectors.load(chemin2 + \"/word2vec.model\")\n",
    "chemin3 = \"data/{}/gensim/dim{}_ep{}_w{}_lr{}_seed10\".format(nom_dossier, dim, epoch, window, str(learning_rate)[2:])  \n",
    "model3 = gensim.models.keyedvectors.KeyedVectors.load(chemin3 + \"/word2vec.model\")\n",
    "chemin4 = \"data/{}/gensim/dim{}_ep{}_w{}_lr{}_seed15\".format(nom_dossier, dim, epoch, window, str(learning_rate)[2:])  \n",
    "model4 = gensim.models.keyedvectors.KeyedVectors.load(chemin4 + \"/word2vec.model\")\n",
    "chemin5 = \"data/{}/gensim/dim{}_ep{}_w{}_lr{}_seed20\".format(nom_dossier, dim, epoch, window, str(learning_rate)[2:])  \n",
    "model5 = gensim.models.keyedvectors.KeyedVectors.load(chemin5 + \"/word2vec.model\")\n",
    "chemin6 = \"data/{}/gensim/dim{}_ep{}_w{}_lr{}_seed25\".format(nom_dossier, dim, epoch, window, str(learning_rate)[2:]) \n",
    "model6 = gensim.models.keyedvectors.KeyedVectors.load(chemin6 + \"/word2vec.model\")\n",
    "\n",
    "matrice = {word : (model1.wv[word]+model2.wv[word]+model3.wv[word]+model4.wv[word]+model5.wv[word]+model6.wv[word])/6\n",
    "           for word in model1.wv.index2word}\n",
    "\n",
    "\n",
    "matrice_norm = {word : normalize(matrice[word]) for word in matrice.keys()}"
   ]
  },
  {
   "cell_type": "code",
   "execution_count": 50,
   "metadata": {},
   "outputs": [
    {
     "name": "stdout",
     "output_type": "stream",
     "text": [
      "0.69148\n",
      "0.6908588648920141\n"
     ]
    }
   ],
   "source": [
    "phrases_emb = [[score,calcul_sentence_embedding(phrase)] for (phrase,score) in phrases]\n",
    "Y_train = [score for (score, embedding) in phrases_emb]\n",
    "X_train = [embedding for (score, embedding) in phrases_emb]\n",
    "lr = LogisticRegression()\n",
    "reg_log_100_norm = lr.fit(X_train,Y_train)\n",
    "\n",
    "Y_train_pred = reg_log_100_norm.predict(X_train)\n",
    "\n",
    "phrases_test_emb = [[score,calcul_sentence_embedding(phrase)] for (phrase,score) in phrases_test]\n",
    "Y_test = [score for (score, embedding) in phrases_test_emb]\n",
    "X_test = [embedding for (score, embedding) in phrases_test_emb]\n",
    "Y_test_pred = reg_log_100_norm.predict(X_test)\n",
    "\n",
    "from sklearn import metrics\n",
    "acc = metrics.accuracy_score(Y_train,Y_train_pred)\n",
    "print(acc) \n",
    "acc_test = metrics.accuracy_score(Y_test,Y_test_pred)\n",
    "print(acc_test) \n",
    "\n",
    "probs100_norm = reg_log_100_norm.predict_proba(X_test)\n",
    "preds100_norm = probs100_norm[:,1]\n",
    "fpr100_norm, tpr100_norm, threshold100 = metrics.roc_curve(Y_test, preds100_norm)\n",
    "roc_auc100_norm = metrics.auc(fpr100_norm, tpr100_norm)"
   ]
  },
  {
   "cell_type": "code",
   "execution_count": 51,
   "metadata": {},
   "outputs": [],
   "source": [
    "nom_dossier = 'ens'\n",
    "dim = 300\n",
    "epoch = 100\n",
    "window = 4\n",
    "learning_rate = 0.02\n",
    "    \n",
    "chemin1 = \"data/{}/gensim/dim{}_ep{}_w{}_lr{}_seed1\".format(nom_dossier, dim, epoch, window, str(learning_rate)[2:]) \n",
    "model1 = gensim.models.keyedvectors.KeyedVectors.load(chemin1 + \"/word2vec.model\")\n",
    "chemin2 = \"data/{}/gensim/dim{}_ep{}_w{}_lr{}_seed5\".format(nom_dossier, dim, epoch, window, str(learning_rate)[2:])  \n",
    "model2 = gensim.models.keyedvectors.KeyedVectors.load(chemin2 + \"/word2vec.model\")\n",
    "chemin3 = \"data/{}/gensim/dim{}_ep{}_w{}_lr{}_seed10\".format(nom_dossier, dim, epoch, window, str(learning_rate)[2:])  \n",
    "model3 = gensim.models.keyedvectors.KeyedVectors.load(chemin3 + \"/word2vec.model\")\n",
    "chemin4 = \"data/{}/gensim/dim{}_ep{}_w{}_lr{}_seed15\".format(nom_dossier, dim, epoch, window, str(learning_rate)[2:])  \n",
    "model4 = gensim.models.keyedvectors.KeyedVectors.load(chemin4 + \"/word2vec.model\")\n",
    "chemin5 = \"data/{}/gensim/dim{}_ep{}_w{}_lr{}_seed20\".format(nom_dossier, dim, epoch, window, str(learning_rate)[2:])  \n",
    "model5 = gensim.models.keyedvectors.KeyedVectors.load(chemin5 + \"/word2vec.model\")\n",
    "chemin6 = \"data/{}/gensim/dim{}_ep{}_w{}_lr{}_seed25\".format(nom_dossier, dim, epoch, window, str(learning_rate)[2:]) \n",
    "model6 = gensim.models.keyedvectors.KeyedVectors.load(chemin6 + \"/word2vec.model\")\n",
    "\n",
    "matrice = {word : (model1.wv[word]+model2.wv[word]+model3.wv[word]+model4.wv[word]+model5.wv[word]+model6.wv[word])/6\n",
    "           for word in model1.wv.index2word}\n",
    "\n",
    "matrice_norm = {word : normalize(matrice[word]) for word in matrice.keys()}"
   ]
  },
  {
   "cell_type": "code",
   "execution_count": 52,
   "metadata": {},
   "outputs": [
    {
     "name": "stdout",
     "output_type": "stream",
     "text": [
      "0.71492\n",
      "0.7049221496735308\n"
     ]
    },
    {
     "ename": "ValueError",
     "evalue": "Found input variables with inconsistent numbers of samples: [1562, 1511]",
     "output_type": "error",
     "traceback": [
      "\u001b[1;31m---------------------------------------------------------------------------\u001b[0m",
      "\u001b[1;31mValueError\u001b[0m                                Traceback (most recent call last)",
      "\u001b[1;32m<ipython-input-52-a5a4354a4a06>\u001b[0m in \u001b[0;36m<module>\u001b[1;34m\u001b[0m\n\u001b[0;32m     21\u001b[0m \u001b[0mpreds300_norm\u001b[0m \u001b[1;33m=\u001b[0m \u001b[0mprobs300_norm\u001b[0m\u001b[1;33m[\u001b[0m\u001b[1;33m:\u001b[0m\u001b[1;33m,\u001b[0m\u001b[1;36m1\u001b[0m\u001b[1;33m]\u001b[0m\u001b[1;33m\u001b[0m\u001b[0m\n\u001b[0;32m     22\u001b[0m \u001b[0mfpr300_norm\u001b[0m\u001b[1;33m,\u001b[0m \u001b[0mtpr300_norm\u001b[0m\u001b[1;33m,\u001b[0m \u001b[0mthreshold300_norm\u001b[0m \u001b[1;33m=\u001b[0m \u001b[0mmetrics\u001b[0m\u001b[1;33m.\u001b[0m\u001b[0mroc_curve\u001b[0m\u001b[1;33m(\u001b[0m\u001b[0mY_test\u001b[0m\u001b[1;33m,\u001b[0m \u001b[0mpreds300_norm\u001b[0m\u001b[1;33m)\u001b[0m\u001b[1;33m\u001b[0m\u001b[0m\n\u001b[1;32m---> 23\u001b[1;33m \u001b[0mroc_auc300_norm\u001b[0m \u001b[1;33m=\u001b[0m \u001b[0mmetrics\u001b[0m\u001b[1;33m.\u001b[0m\u001b[0mauc\u001b[0m\u001b[1;33m(\u001b[0m\u001b[0mfpr300_norm\u001b[0m\u001b[1;33m,\u001b[0m \u001b[0mtpr300\u001b[0m\u001b[1;33m)\u001b[0m\u001b[1;33m\u001b[0m\u001b[0m\n\u001b[0m",
      "\u001b[1;32m~\\Anaconda3\\lib\\site-packages\\sklearn\\metrics\\_ranking.py\u001b[0m in \u001b[0;36mauc\u001b[1;34m(x, y)\u001b[0m\n\u001b[0;32m     76\u001b[0m         \u001b[0mCompute\u001b[0m \u001b[0mprecision\u001b[0m\u001b[1;33m-\u001b[0m\u001b[0mrecall\u001b[0m \u001b[0mpairs\u001b[0m \u001b[1;32mfor\u001b[0m \u001b[0mdifferent\u001b[0m \u001b[0mprobability\u001b[0m \u001b[0mthresholds\u001b[0m\u001b[1;33m\u001b[0m\u001b[0m\n\u001b[0;32m     77\u001b[0m     \"\"\"\n\u001b[1;32m---> 78\u001b[1;33m     \u001b[0mcheck_consistent_length\u001b[0m\u001b[1;33m(\u001b[0m\u001b[0mx\u001b[0m\u001b[1;33m,\u001b[0m \u001b[0my\u001b[0m\u001b[1;33m)\u001b[0m\u001b[1;33m\u001b[0m\u001b[0m\n\u001b[0m\u001b[0;32m     79\u001b[0m     \u001b[0mx\u001b[0m \u001b[1;33m=\u001b[0m \u001b[0mcolumn_or_1d\u001b[0m\u001b[1;33m(\u001b[0m\u001b[0mx\u001b[0m\u001b[1;33m)\u001b[0m\u001b[1;33m\u001b[0m\u001b[0m\n\u001b[0;32m     80\u001b[0m     \u001b[0my\u001b[0m \u001b[1;33m=\u001b[0m \u001b[0mcolumn_or_1d\u001b[0m\u001b[1;33m(\u001b[0m\u001b[0my\u001b[0m\u001b[1;33m)\u001b[0m\u001b[1;33m\u001b[0m\u001b[0m\n",
      "\u001b[1;32m~\\Anaconda3\\lib\\site-packages\\sklearn\\utils\\validation.py\u001b[0m in \u001b[0;36mcheck_consistent_length\u001b[1;34m(*arrays)\u001b[0m\n\u001b[0;32m    210\u001b[0m     \u001b[1;32mif\u001b[0m \u001b[0mlen\u001b[0m\u001b[1;33m(\u001b[0m\u001b[0muniques\u001b[0m\u001b[1;33m)\u001b[0m \u001b[1;33m>\u001b[0m \u001b[1;36m1\u001b[0m\u001b[1;33m:\u001b[0m\u001b[1;33m\u001b[0m\u001b[0m\n\u001b[0;32m    211\u001b[0m         raise ValueError(\"Found input variables with inconsistent numbers of\"\n\u001b[1;32m--> 212\u001b[1;33m                          \" samples: %r\" % [int(l) for l in lengths])\n\u001b[0m\u001b[0;32m    213\u001b[0m \u001b[1;33m\u001b[0m\u001b[0m\n\u001b[0;32m    214\u001b[0m \u001b[1;33m\u001b[0m\u001b[0m\n",
      "\u001b[1;31mValueError\u001b[0m: Found input variables with inconsistent numbers of samples: [1562, 1511]"
     ]
    }
   ],
   "source": [
    "phrases_emb = [[score,calcul_sentence_embedding(phrase)] for (phrase,score) in phrases]\n",
    "Y_train = [score for (score, embedding) in phrases_emb]\n",
    "X_train = [embedding for (score, embedding) in phrases_emb]\n",
    "lr = LogisticRegression()\n",
    "reg_log_300_norm = lr.fit(X_train,Y_train)\n",
    "\n",
    "Y_train_pred = reg_log_300_norm.predict(X_train)\n",
    "\n",
    "phrases_test_emb = [[score,calcul_sentence_embedding(phrase)] for (phrase,score) in phrases_test]\n",
    "Y_test = [score for (score, embedding) in phrases_test_emb]\n",
    "X_test = [embedding for (score, embedding) in phrases_test_emb]\n",
    "Y_test_pred = reg_log_300_norm.predict(X_test)\n",
    "\n",
    "from sklearn import metrics\n",
    "acc = metrics.accuracy_score(Y_train,Y_train_pred)\n",
    "print(acc) \n",
    "acc_test = metrics.accuracy_score(Y_test,Y_test_pred)\n",
    "print(acc_test) \n",
    "\n",
    "probs300_norm = reg_log_300_norm.predict_proba(X_test)\n",
    "preds300_norm = probs300_norm[:,1]\n",
    "fpr300_norm, tpr300_norm, threshold300_norm = metrics.roc_curve(Y_test, preds300_norm)\n",
    "roc_auc300_norm = metrics.auc(fpr300_norm, tpr300)"
   ]
  },
  {
   "cell_type": "code",
   "execution_count": 53,
   "metadata": {},
   "outputs": [
    {
     "data": {
      "image/png": "[encoded data removed]",
      "text/plain": [
       "<Figure size 432x288 with 1 Axes>"
      ]
     },
     "metadata": {
      "needs_background": "light"
     },
     "output_type": "display_data"
    }
   ],
   "source": [
    "import matplotlib.pyplot as plt\n",
    "plt.plot(fpr50_norm, tpr50_norm, 'b', label = 'AUC (dim = 50) = %0.2f' % roc_auc50)\n",
    "plt.plot(fpr100_norm, tpr100_norm, 'r', label = 'AUC (dim = 100) = %0.2f' % roc_auc100)\n",
    "plt.plot(fpr300_norm, tpr300_norm, 'g', label = 'AUC (dim = 300) = %0.2f' % roc_auc300)\n",
    "plt.legend(loc = 'lower right')\n",
    "plt.plot([0, 1], [0, 1],'r--')\n",
    "plt.xlim([0, 1])\n",
    "plt.ylim([0, 1])\n",
    "plt.ylabel('Taux de vrais positifs')\n",
    "plt.xlabel('Taux de faux positifs')\n",
    "plt.show()"
   ]
  },
  {
   "cell_type": "code",
   "execution_count": null,
   "metadata": {},
   "outputs": [],
   "source": [
    "# On sauve les modèles norm\n",
    "with open(\"data/sentimental_analysis/reg_log_100_norm.file\", \"wb\") as f:\n",
    "    pickle.dump(reg_log_100_norm, f, pickle.HIGHEST_PROTOCOL)\n",
    "with open(\"data/sentimental_analysis/reg_log_50_norm.file\", \"wb\") as f:\n",
    "    pickle.dump(reg_log_50_norm, f, pickle.HIGHEST_PROTOCOL)\n",
    "with open(\"data/sentimental_analysis/reg_log_300_norm.file\", \"wb\") as f:\n",
    "    pickle.dump(reg_log_300_norm, f, pickle.HIGHEST_PROTOCOL)"
   ]
  },
  {
   "cell_type": "markdown",
   "metadata": {},
   "source": [
    "# Avec stop-words"
   ]
  },
  {
   "cell_type": "code",
   "execution_count": 25,
   "metadata": {},
   "outputs": [],
   "source": [
    "import nltk\n",
    "from nltk.corpus import stopwords\n",
    "stop_words =  set(stopwords.words('french'))\n",
    "def suppr_stop(phrase):\n",
    "    return [mot for mot in phrase if mot not in stop_words]\n",
    "    \n",
    "phrases_stop = [[suppr_stop(tweet.split()),score] for (score, tweet) in corpus_train]\n",
    "phrases_test_stop = [[suppr_stop(tweet.split()),score] for (score, tweet) in corpus_test]"
   ]
  },
  {
   "cell_type": "code",
   "execution_count": 29,
   "metadata": {},
   "outputs": [],
   "source": [
    "nom_dossier = 'ens'\n",
    "dim = 50\n",
    "epoch = 100\n",
    "window = 4\n",
    "learning_rate = 0.02\n",
    "    \n",
    "chemin1 = \"data/{}/gensim/dim{}_ep{}_w{}_lr{}_seed1\".format(nom_dossier, dim, epoch, window, str(learning_rate)[2:]) \n",
    "model1 = gensim.models.keyedvectors.KeyedVectors.load(chemin1 + \"/word2vec.model\")\n",
    "chemin2 = \"data/{}/gensim/dim{}_ep{}_w{}_lr{}_seed5\".format(nom_dossier, dim, epoch, window, str(learning_rate)[2:])  \n",
    "model2 = gensim.models.keyedvectors.KeyedVectors.load(chemin2 + \"/word2vec.model\")\n",
    "chemin3 = \"data/{}/gensim/dim{}_ep{}_w{}_lr{}_seed10\".format(nom_dossier, dim, epoch, window, str(learning_rate)[2:])  \n",
    "model3 = gensim.models.keyedvectors.KeyedVectors.load(chemin3 + \"/word2vec.model\")\n",
    "chemin4 = \"data/{}/gensim/dim{}_ep{}_w{}_lr{}_seed15\".format(nom_dossier, dim, epoch, window, str(learning_rate)[2:])  \n",
    "model4 = gensim.models.keyedvectors.KeyedVectors.load(chemin4 + \"/word2vec.model\")\n",
    "chemin5 = \"data/{}/gensim/dim{}_ep{}_w{}_lr{}_seed20\".format(nom_dossier, dim, epoch, window, str(learning_rate)[2:])  \n",
    "model5 = gensim.models.keyedvectors.KeyedVectors.load(chemin5 + \"/word2vec.model\")\n",
    "chemin6 = \"data/{}/gensim/dim{}_ep{}_w{}_lr{}_seed25\".format(nom_dossier, dim, epoch, window, str(learning_rate)[2:]) \n",
    "model6 = gensim.models.keyedvectors.KeyedVectors.load(chemin6 + \"/word2vec.model\")\n",
    "\n",
    "matrice = {word : (model1.wv[word]+model2.wv[word]+model3.wv[word]+model4.wv[word]+model5.wv[word]+model6.wv[word])/6\n",
    "           for word in model1.wv.index2word}"
   ]
  },
  {
   "cell_type": "code",
   "execution_count": 30,
   "metadata": {},
   "outputs": [
    {
     "name": "stdout",
     "output_type": "stream",
     "text": [
      "0.6642\n",
      "0.6584630838774486\n"
     ]
    }
   ],
   "source": [
    "phrases_emb_stop = [[score,calcul_sentence_embedding(phrase)] for (phrase,score) in phrases_stop]\n",
    "Y_train_stop = [score for (score, embedding) in phrases_emb_stop]\n",
    "X_train_stop = [embedding for (score, embedding) in phrases_emb_stop]\n",
    "Y_train_pred_stop = reg_log_st_50.predict(X_train_stop)\n",
    "\n",
    "acc_stop = metrics.accuracy_score(Y_train_stop,Y_train_pred_stop)\n",
    "print(acc_stop) \n",
    "\n",
    "phrases_test_emb_stop = [[score,calcul_sentence_embedding(phrase)] for (phrase,score) in phrases_test_stop]\n",
    "Y_test_stop = [score for (score, embedding) in phrases_test_emb_stop]\n",
    "X_test_stop = [embedding for (score, embedding) in phrases_test_emb_stop]\n",
    "Y_test_pred_stop = reg_log_st_50.predict(X_test_stop)\n",
    "\n",
    "acc_test_stop = metrics.accuracy_score(Y_test_stop,Y_test_pred_stop)\n",
    "print(acc_test_stop) \n",
    "\n",
    "probs50_st = reg_log_st_50.predict_proba(X_test_stop)\n",
    "preds50_st = probs50_st[:,1]\n",
    "fpr50_st, tpr50_st, threshold50_st = metrics.roc_curve(Y_test_stop, preds50_st)\n",
    "roc_auc50_st = metrics.auc(fpr50_st, tpr50_st)"
   ]
  },
  {
   "cell_type": "code",
   "execution_count": 31,
   "metadata": {},
   "outputs": [],
   "source": [
    "dim = 100\n",
    "chemin1 = \"data/{}/gensim/dim{}_ep{}_w{}_lr{}_seed1\".format(nom_dossier, dim, epoch, window, str(learning_rate)[2:]) \n",
    "model1 = gensim.models.keyedvectors.KeyedVectors.load(chemin1 + \"/word2vec.model\")\n",
    "chemin2 = \"data/{}/gensim/dim{}_ep{}_w{}_lr{}_seed5\".format(nom_dossier, dim, epoch, window, str(learning_rate)[2:])  \n",
    "model2 = gensim.models.keyedvectors.KeyedVectors.load(chemin2 + \"/word2vec.model\")\n",
    "chemin3 = \"data/{}/gensim/dim{}_ep{}_w{}_lr{}_seed10\".format(nom_dossier, dim, epoch, window, str(learning_rate)[2:])  \n",
    "model3 = gensim.models.keyedvectors.KeyedVectors.load(chemin3 + \"/word2vec.model\")\n",
    "chemin4 = \"data/{}/gensim/dim{}_ep{}_w{}_lr{}_seed15\".format(nom_dossier, dim, epoch, window, str(learning_rate)[2:])  \n",
    "model4 = gensim.models.keyedvectors.KeyedVectors.load(chemin4 + \"/word2vec.model\")\n",
    "chemin5 = \"data/{}/gensim/dim{}_ep{}_w{}_lr{}_seed20\".format(nom_dossier, dim, epoch, window, str(learning_rate)[2:])  \n",
    "model5 = gensim.models.keyedvectors.KeyedVectors.load(chemin5 + \"/word2vec.model\")\n",
    "chemin6 = \"data/{}/gensim/dim{}_ep{}_w{}_lr{}_seed25\".format(nom_dossier, dim, epoch, window, str(learning_rate)[2:]) \n",
    "model6 = gensim.models.keyedvectors.KeyedVectors.load(chemin6 + \"/word2vec.model\")\n",
    "\n",
    "matrice = {word : (model1.wv[word]+model2.wv[word]+model3.wv[word]+model4.wv[word]+model5.wv[word]+model6.wv[word])/6\n",
    "           for word in model1.wv.index2word}"
   ]
  },
  {
   "cell_type": "code",
   "execution_count": 32,
   "metadata": {},
   "outputs": [
    {
     "name": "stdout",
     "output_type": "stream",
     "text": [
      "0.6764\n",
      "0.6687594173782019\n"
     ]
    }
   ],
   "source": [
    "phrases_emb_stop = [[score,calcul_sentence_embedding(phrase)] for (phrase,score) in phrases_stop]\n",
    "Y_train_stop = [score for (score, embedding) in phrases_emb_stop]\n",
    "X_train_stop = [embedding for (score, embedding) in phrases_emb_stop]\n",
    "Y_train_pred_stop = reg_log_st_100.predict(X_train_stop)\n",
    "\n",
    "acc_stop = metrics.accuracy_score(Y_train_stop,Y_train_pred_stop)\n",
    "print(acc_stop) \n",
    "\n",
    "phrases_test_emb_stop = [[score,calcul_sentence_embedding(phrase)] for (phrase,score) in phrases_test_stop]\n",
    "Y_test_stop = [score for (score, embedding) in phrases_test_emb_stop]\n",
    "X_test_stop = [embedding for (score, embedding) in phrases_test_emb_stop]\n",
    "Y_test_pred_stop = reg_log_st_100.predict(X_test_stop)\n",
    "\n",
    "acc_test_stop = metrics.accuracy_score(Y_test_stop,Y_test_pred_stop)\n",
    "print(acc_test_stop) \n",
    "\n",
    "probs100_st = reg_log_st_100.predict_proba(X_test_stop)\n",
    "preds100_st = probs100_st[:,1]\n",
    "fpr100_st, tpr100_st, threshold100_st = metrics.roc_curve(Y_test_stop, preds100_st)\n",
    "roc_auc100_st = metrics.auc(fpr100_st, tpr100_st)"
   ]
  },
  {
   "cell_type": "code",
   "execution_count": 33,
   "metadata": {},
   "outputs": [],
   "source": [
    "dim = 300\n",
    "chemin1 = \"data/{}/gensim/dim{}_ep{}_w{}_lr{}_seed1\".format(nom_dossier, dim, epoch, window, str(learning_rate)[2:]) \n",
    "model1 = gensim.models.keyedvectors.KeyedVectors.load(chemin1 + \"/word2vec.model\")\n",
    "chemin2 = \"data/{}/gensim/dim{}_ep{}_w{}_lr{}_seed5\".format(nom_dossier, dim, epoch, window, str(learning_rate)[2:])  \n",
    "model2 = gensim.models.keyedvectors.KeyedVectors.load(chemin2 + \"/word2vec.model\")\n",
    "chemin3 = \"data/{}/gensim/dim{}_ep{}_w{}_lr{}_seed10\".format(nom_dossier, dim, epoch, window, str(learning_rate)[2:])  \n",
    "model3 = gensim.models.keyedvectors.KeyedVectors.load(chemin3 + \"/word2vec.model\")\n",
    "chemin4 = \"data/{}/gensim/dim{}_ep{}_w{}_lr{}_seed15\".format(nom_dossier, dim, epoch, window, str(learning_rate)[2:])  \n",
    "model4 = gensim.models.keyedvectors.KeyedVectors.load(chemin4 + \"/word2vec.model\")\n",
    "chemin5 = \"data/{}/gensim/dim{}_ep{}_w{}_lr{}_seed20\".format(nom_dossier, dim, epoch, window, str(learning_rate)[2:])  \n",
    "model5 = gensim.models.keyedvectors.KeyedVectors.load(chemin5 + \"/word2vec.model\")\n",
    "chemin6 = \"data/{}/gensim/dim{}_ep{}_w{}_lr{}_seed25\".format(nom_dossier, dim, epoch, window, str(learning_rate)[2:]) \n",
    "model6 = gensim.models.keyedvectors.KeyedVectors.load(chemin6 + \"/word2vec.model\")\n",
    "\n",
    "matrice = {word : (model1.wv[word]+model2.wv[word]+model3.wv[word]+model4.wv[word]+model5.wv[word]+model6.wv[word])/6\n",
    "           for word in model1.wv.index2word}"
   ]
  },
  {
   "cell_type": "code",
   "execution_count": 34,
   "metadata": {},
   "outputs": [
    {
     "name": "stdout",
     "output_type": "stream",
     "text": [
      "0.7008\n",
      "0.6953792064289301\n"
     ]
    }
   ],
   "source": [
    "phrases_emb_stop = [[score,calcul_sentence_embedding(phrase)] for (phrase,score) in phrases_stop]\n",
    "Y_train_stop = [score for (score, embedding) in phrases_emb_stop]\n",
    "X_train_stop = [embedding for (score, embedding) in phrases_emb_stop]\n",
    "Y_train_pred_stop = reg_log_st_300.predict(X_train_stop)\n",
    "\n",
    "acc_stop = metrics.accuracy_score(Y_train_stop,Y_train_pred_stop)\n",
    "print(acc_stop) \n",
    "\n",
    "phrases_test_emb_stop = [[score,calcul_sentence_embedding(phrase)] for (phrase,score) in phrases_test_stop]\n",
    "Y_test_stop = [score for (score, embedding) in phrases_test_emb_stop]\n",
    "X_test_stop = [embedding for (score, embedding) in phrases_test_emb_stop]\n",
    "Y_test_pred_stop = reg_log_st_300.predict(X_test_stop)\n",
    "\n",
    "acc_test_stop = metrics.accuracy_score(Y_test_stop,Y_test_pred_stop)\n",
    "print(acc_test_stop) \n",
    "\n",
    "probs300_st = reg_log_st_300.predict_proba(X_test_stop)\n",
    "preds300_st = probs300_st[:,1]\n",
    "fpr300_st, tpr300_st, threshold300_st = metrics.roc_curve(Y_test_stop, preds300_st)\n",
    "roc_auc300_st = metrics.auc(fpr300_st, tpr300_st)"
   ]
  },
  {
   "cell_type": "code",
   "execution_count": 35,
   "metadata": {},
   "outputs": [
    {
     "data": {
      "image/png": "[encoded data removed]",
      "text/plain": [
       "<Figure size 432x288 with 1 Axes>"
      ]
     },
     "metadata": {
      "needs_background": "light"
     },
     "output_type": "display_data"
    }
   ],
   "source": [
    "import matplotlib.pyplot as plt\n",
    "plt.plot(fpr50_st, tpr50_st, 'b', label = 'AUC (dim = 50) = %0.2f' % roc_auc50_st)\n",
    "plt.plot(fpr100_st, tpr100_st, 'r', label = 'AUC (dim = 100) = %0.2f' % roc_auc100_st)\n",
    "plt.plot(fpr300_st, tpr300_st, 'g', label = 'AUC (dim = 300) = %0.2f' % roc_auc300_st)\n",
    "plt.legend(loc = 'lower right')\n",
    "plt.plot([0, 1], [0, 1],'r--')\n",
    "plt.xlim([0, 1])\n",
    "plt.ylim([0, 1])\n",
    "plt.ylabel('Taux de vrais positifs')\n",
    "plt.xlabel('Taux de faux positifs')\n",
    "plt.show()"
   ]
  },
  {
   "cell_type": "markdown",
   "metadata": {},
   "source": [
    "# Modèle pondéré"
   ]
  },
  {
   "cell_type": "code",
   "execution_count": 55,
   "metadata": {},
   "outputs": [],
   "source": [
    "phrases = [tweet.split() for (score, tweet) in corpus_train]\n",
    "mots = [item for sublist in phrases for item in sublist]\n",
    "vocabulaire = list(dict.fromkeys(mots))\n",
    "matrice_sentiments = {mot:(0,0) for mot in vocabulaire}\n",
    "def sentiment_plus(mot):\n",
    "    plus, moins = matrice_sentiments[mot]\n",
    "    matrice_sentiments[mot] = (plus+1,moins)\n",
    "def sentiment_moins(mot):\n",
    "    plus, moins = matrice_sentiments[mot]\n",
    "    matrice_sentiments[mot] = (plus,moins+1)  \n",
    "for (score, tweet) in corpus_train:\n",
    "    for mot in tweet.split():\n",
    "        if score == 1:\n",
    "            sentiment_plus(mot)\n",
    "        else:\n",
    "            sentiment_moins(mot)\n",
    "            \n",
    "matrice_sentiments_val = {mot:(matrice_sentiments[mot][0]-matrice_sentiments[mot][1])/((matrice_sentiments[mot][0]+matrice_sentiments[mot][1]))\n",
    "                          for mot in vocabulaire}"
   ]
  },
  {
   "cell_type": "code",
   "execution_count": 56,
   "metadata": {},
   "outputs": [],
   "source": [
    "def calcul_sentence_embedding_pond(phrase):\n",
    "    if len(phrase)>0:\n",
    "        sum1 = sum(matrice[mot]*matrice_sentiments_val[mot] for mot in phrase if mot in model1.wv.index2word and\n",
    "                   mot in vocabulaire)\n",
    "        sum2 = sum(matrice[\"lowfrequencyword\"]*0 for mot in phrase if mot not in model1.wv.index2word)\n",
    "        return (sum1+sum2)/len(phrase)\n",
    "    else:\n",
    "        return matrice[\"lowfrequencyword\"]\n",
    "    \n",
    "phrases = [[tweet.split(),score] for (score, tweet) in corpus_train]\n",
    "phrases_test = [[tweet.split(),score] for (score, tweet) in corpus_test]"
   ]
  },
  {
   "cell_type": "code",
   "execution_count": 57,
   "metadata": {},
   "outputs": [],
   "source": [
    "nom_dossier = 'ens'\n",
    "dim = 50\n",
    "epoch = 100\n",
    "window = 4\n",
    "learning_rate = 0.02\n",
    "    \n",
    "chemin1 = \"data/{}/gensim/dim{}_ep{}_w{}_lr{}_seed1\".format(nom_dossier, dim, epoch, window, str(learning_rate)[2:]) \n",
    "model1 = gensim.models.keyedvectors.KeyedVectors.load(chemin1 + \"/word2vec.model\")\n",
    "chemin2 = \"data/{}/gensim/dim{}_ep{}_w{}_lr{}_seed5\".format(nom_dossier, dim, epoch, window, str(learning_rate)[2:])  \n",
    "model2 = gensim.models.keyedvectors.KeyedVectors.load(chemin2 + \"/word2vec.model\")\n",
    "chemin3 = \"data/{}/gensim/dim{}_ep{}_w{}_lr{}_seed10\".format(nom_dossier, dim, epoch, window, str(learning_rate)[2:])  \n",
    "model3 = gensim.models.keyedvectors.KeyedVectors.load(chemin3 + \"/word2vec.model\")\n",
    "chemin4 = \"data/{}/gensim/dim{}_ep{}_w{}_lr{}_seed15\".format(nom_dossier, dim, epoch, window, str(learning_rate)[2:])  \n",
    "model4 = gensim.models.keyedvectors.KeyedVectors.load(chemin4 + \"/word2vec.model\")\n",
    "chemin5 = \"data/{}/gensim/dim{}_ep{}_w{}_lr{}_seed20\".format(nom_dossier, dim, epoch, window, str(learning_rate)[2:])  \n",
    "model5 = gensim.models.keyedvectors.KeyedVectors.load(chemin5 + \"/word2vec.model\")\n",
    "chemin6 = \"data/{}/gensim/dim{}_ep{}_w{}_lr{}_seed25\".format(nom_dossier, dim, epoch, window, str(learning_rate)[2:]) \n",
    "model6 = gensim.models.keyedvectors.KeyedVectors.load(chemin6 + \"/word2vec.model\")\n",
    "\n",
    "matrice = {word : (model1.wv[word]+model2.wv[word]+model3.wv[word]+model4.wv[word]+model5.wv[word]+model6.wv[word])/6\n",
    "           for word in model1.wv.index2word}"
   ]
  },
  {
   "cell_type": "code",
   "execution_count": 59,
   "metadata": {},
   "outputs": [
    {
     "name": "stdout",
     "output_type": "stream",
     "text": [
      "0.78838\n",
      "[[1393  591]\n",
      " [ 645 1353]]\n",
      "0.6896032144650929\n"
     ]
    }
   ],
   "source": [
    "phrases_emb = [[score,calcul_sentence_embedding_pond(phrase)] for (phrase,score) in phrases]\n",
    "Y_train = [score for (score, embedding) in phrases_emb]\n",
    "X_train = [embedding for (score, embedding) in phrases_emb]\n",
    "lr = LogisticRegression()\n",
    "reg_log_50pond = lr.fit(X_train,Y_train)\n",
    "Y_train_pred = reg_log_50pond.predict(X_train)\n",
    "\n",
    "from sklearn import metrics\n",
    "acc = metrics.accuracy_score(Y_train,Y_train_pred)\n",
    "print(acc) \n",
    "\n",
    "phrases_test_emb = [[score,calcul_sentence_embedding_pond(phrase)] for (phrase,score) in phrases_test]\n",
    "Y_test = [score for (score, embedding) in phrases_test_emb]\n",
    "X_test = [embedding for (score, embedding) in phrases_test_emb]\n",
    "Y_test_pred = reg_log_50pond.predict(X_test)\n",
    "# Matrice confusion\n",
    "cm_test = metrics.confusion_matrix(Y_test,Y_test_pred)\n",
    "print(cm_test)\n",
    "# Accuracy\n",
    "acc_test = metrics.accuracy_score(Y_test,Y_test_pred)\n",
    "print(acc_test) \n",
    "\n",
    "probs50pond = reg_log_50pond.predict_proba(X_test)\n",
    "preds50pond = probs50pond[:,1]\n",
    "fpr50pond, tpr50pond, threshold50pond = metrics.roc_curve(Y_test, preds50pond)\n",
    "roc_auc50pond = metrics.auc(fpr50pond, tpr50pond)"
   ]
  },
  {
   "cell_type": "code",
   "execution_count": 60,
   "metadata": {},
   "outputs": [],
   "source": [
    "dim = 100\n",
    "    \n",
    "chemin1 = \"data/{}/gensim/dim{}_ep{}_w{}_lr{}_seed1\".format(nom_dossier, dim, epoch, window, str(learning_rate)[2:]) \n",
    "model1 = gensim.models.keyedvectors.KeyedVectors.load(chemin1 + \"/word2vec.model\")\n",
    "chemin2 = \"data/{}/gensim/dim{}_ep{}_w{}_lr{}_seed5\".format(nom_dossier, dim, epoch, window, str(learning_rate)[2:])  \n",
    "model2 = gensim.models.keyedvectors.KeyedVectors.load(chemin2 + \"/word2vec.model\")\n",
    "chemin3 = \"data/{}/gensim/dim{}_ep{}_w{}_lr{}_seed10\".format(nom_dossier, dim, epoch, window, str(learning_rate)[2:])  \n",
    "model3 = gensim.models.keyedvectors.KeyedVectors.load(chemin3 + \"/word2vec.model\")\n",
    "chemin4 = \"data/{}/gensim/dim{}_ep{}_w{}_lr{}_seed15\".format(nom_dossier, dim, epoch, window, str(learning_rate)[2:])  \n",
    "model4 = gensim.models.keyedvectors.KeyedVectors.load(chemin4 + \"/word2vec.model\")\n",
    "chemin5 = \"data/{}/gensim/dim{}_ep{}_w{}_lr{}_seed20\".format(nom_dossier, dim, epoch, window, str(learning_rate)[2:])  \n",
    "model5 = gensim.models.keyedvectors.KeyedVectors.load(chemin5 + \"/word2vec.model\")\n",
    "chemin6 = \"data/{}/gensim/dim{}_ep{}_w{}_lr{}_seed25\".format(nom_dossier, dim, epoch, window, str(learning_rate)[2:]) \n",
    "model6 = gensim.models.keyedvectors.KeyedVectors.load(chemin6 + \"/word2vec.model\")\n",
    "\n",
    "matrice = {word : (model1.wv[word]+model2.wv[word]+model3.wv[word]+model4.wv[word]+model5.wv[word]+model6.wv[word])/6\n",
    "           for word in model1.wv.index2word}"
   ]
  },
  {
   "cell_type": "code",
   "execution_count": 61,
   "metadata": {},
   "outputs": [
    {
     "name": "stdout",
     "output_type": "stream",
     "text": [
      "0.79722\n",
      "[[1402  582]\n",
      " [ 652 1346]]\n",
      "0.6901054746358614\n"
     ]
    }
   ],
   "source": [
    "phrases_emb = [[score,calcul_sentence_embedding_pond(phrase)] for (phrase,score) in phrases]\n",
    "Y_train = [score for (score, embedding) in phrases_emb]\n",
    "X_train = [embedding for (score, embedding) in phrases_emb]\n",
    "lr = LogisticRegression()\n",
    "reg_log_100pond = lr.fit(X_train,Y_train)\n",
    "Y_train_pred = reg_log_100pond.predict(X_train)\n",
    "\n",
    "from sklearn import metrics\n",
    "acc = metrics.accuracy_score(Y_train,Y_train_pred)\n",
    "print(acc) \n",
    "\n",
    "phrases_test_emb = [[score,calcul_sentence_embedding_pond(phrase)] for (phrase,score) in phrases_test]\n",
    "Y_test = [score for (score, embedding) in phrases_test_emb]\n",
    "X_test = [embedding for (score, embedding) in phrases_test_emb]\n",
    "Y_test_pred = reg_log_100pond.predict(X_test)\n",
    "# Matrice confusion\n",
    "cm_test = metrics.confusion_matrix(Y_test,Y_test_pred)\n",
    "print(cm_test)\n",
    "# Accuracy\n",
    "acc_test = metrics.accuracy_score(Y_test,Y_test_pred)\n",
    "print(acc_test) \n",
    "\n",
    "probs100pond = reg_log_100pond.predict_proba(X_test)\n",
    "preds100pond = probs100pond[:,1]\n",
    "fpr100pond, tpr100pond, threshold100pond = metrics.roc_curve(Y_test, preds100pond)\n",
    "roc_auc100pond = metrics.auc(fpr100pond, tpr100pond)"
   ]
  },
  {
   "cell_type": "code",
   "execution_count": 65,
   "metadata": {},
   "outputs": [],
   "source": [
    "dim = 300\n",
    "    \n",
    "chemin1 = \"data/{}/gensim/dim{}_ep{}_w{}_lr{}_seed1\".format(nom_dossier, dim, epoch, window, str(learning_rate)[2:]) \n",
    "model1 = gensim.models.keyedvectors.KeyedVectors.load(chemin1 + \"/word2vec.model\")\n",
    "chemin2 = \"data/{}/gensim/dim{}_ep{}_w{}_lr{}_seed5\".format(nom_dossier, dim, epoch, window, str(learning_rate)[2:])  \n",
    "model2 = gensim.models.keyedvectors.KeyedVectors.load(chemin2 + \"/word2vec.model\")\n",
    "chemin3 = \"data/{}/gensim/dim{}_ep{}_w{}_lr{}_seed10\".format(nom_dossier, dim, epoch, window, str(learning_rate)[2:])  \n",
    "model3 = gensim.models.keyedvectors.KeyedVectors.load(chemin3 + \"/word2vec.model\")\n",
    "chemin4 = \"data/{}/gensim/dim{}_ep{}_w{}_lr{}_seed15\".format(nom_dossier, dim, epoch, window, str(learning_rate)[2:])  \n",
    "model4 = gensim.models.keyedvectors.KeyedVectors.load(chemin4 + \"/word2vec.model\")\n",
    "chemin5 = \"data/{}/gensim/dim{}_ep{}_w{}_lr{}_seed20\".format(nom_dossier, dim, epoch, window, str(learning_rate)[2:])  \n",
    "model5 = gensim.models.keyedvectors.KeyedVectors.load(chemin5 + \"/word2vec.model\")\n",
    "chemin6 = \"data/{}/gensim/dim{}_ep{}_w{}_lr{}_seed25\".format(nom_dossier, dim, epoch, window, str(learning_rate)[2:]) \n",
    "model6 = gensim.models.keyedvectors.KeyedVectors.load(chemin6 + \"/word2vec.model\")\n",
    "\n",
    "matrice = {word : (model1.wv[word]+model2.wv[word]+model3.wv[word]+model4.wv[word]+model5.wv[word]+model6.wv[word])/6\n",
    "           for word in model1.wv.index2word}"
   ]
  },
  {
   "cell_type": "code",
   "execution_count": 66,
   "metadata": {},
   "outputs": [
    {
     "name": "stderr",
     "output_type": "stream",
     "text": [
      "C:\\Users\\torna\\Anaconda3\\lib\\site-packages\\sklearn\\linear_model\\_logistic.py:940: ConvergenceWarning: lbfgs failed to converge (status=1):\n",
      "STOP: TOTAL NO. of ITERATIONS REACHED LIMIT.\n",
      "\n",
      "Increase the number of iterations (max_iter) or scale the data as shown in:\n",
      "    https://scikit-learn.org/stable/modules/preprocessing.html\n",
      "Please also refer to the documentation for alternative solver options:\n",
      "    https://scikit-learn.org/stable/modules/linear_model.html#logistic-regression\n",
      "  extra_warning_msg=_LOGISTIC_SOLVER_CONVERGENCE_MSG)\n"
     ]
    },
    {
     "name": "stdout",
     "output_type": "stream",
     "text": [
      "0.81416\n",
      "[[1427  557]\n",
      " [ 597 1401]]\n",
      "0.7101958814665997\n"
     ]
    }
   ],
   "source": [
    "phrases_emb = [[score,calcul_sentence_embedding_pond(phrase)] for (phrase,score) in phrases]\n",
    "Y_train = [score for (score, embedding) in phrases_emb]\n",
    "X_train = [embedding for (score, embedding) in phrases_emb]\n",
    "lr = LogisticRegression()\n",
    "reg_log_300pond = lr.fit(X_train,Y_train)\n",
    "Y_train_pred = reg_log_300pond.predict(X_train)\n",
    "\n",
    "from sklearn import metrics\n",
    "acc = metrics.accuracy_score(Y_train,Y_train_pred)\n",
    "print(acc) \n",
    "\n",
    "phrases_test_emb = [[score,calcul_sentence_embedding_pond(phrase)] for (phrase,score) in phrases_test]\n",
    "Y_test = [score for (score, embedding) in phrases_test_emb]\n",
    "X_test = [embedding for (score, embedding) in phrases_test_emb]\n",
    "Y_test_pred = reg_log_300pond.predict(X_test)\n",
    "# Matrice confusion\n",
    "cm_test = metrics.confusion_matrix(Y_test,Y_test_pred)\n",
    "print(cm_test)\n",
    "# Accuracy\n",
    "acc_test = metrics.accuracy_score(Y_test,Y_test_pred)\n",
    "print(acc_test) \n",
    "\n",
    "probs300pond = reg_log_300pond.predict_proba(X_test)\n",
    "preds300pond = probs300pond[:,1]\n",
    "fpr300pond, tpr300pond, threshold300pond = metrics.roc_curve(Y_test, preds300pond)\n",
    "roc_auc300pond = metrics.auc(fpr300pond, tpr300pond)"
   ]
  },
  {
   "cell_type": "code",
   "execution_count": 67,
   "metadata": {},
   "outputs": [
    {
     "data": {
      "image/png": "[encoded data removed]",
      "text/plain": [
       "<Figure size 432x288 with 1 Axes>"
      ]
     },
     "metadata": {
      "needs_background": "light"
     },
     "output_type": "display_data"
    }
   ],
   "source": [
    "import matplotlib.pyplot as plt\n",
    "plt.plot(fpr50pond, tpr50pond, 'b', label = 'AUC (dim = 50) = %0.2f' % roc_auc50_st)\n",
    "plt.plot(fpr100pond, tpr100pond, 'r', label = 'AUC (dim = 100) = %0.2f' % roc_auc100_st)\n",
    "plt.plot(fpr300pond, tpr300pond, 'g', label = 'AUC (dim = 300) = %0.2f' % roc_auc300_st)\n",
    "plt.legend(loc = 'lower right')\n",
    "plt.plot([0, 1], [0, 1],'r--')\n",
    "plt.xlim([0, 1])\n",
    "plt.ylim([0, 1])\n",
    "plt.ylabel('Taux de vrais positifs')\n",
    "plt.xlabel('Taux de faux positifs')\n",
    "plt.show()"
   ]
  },
  {
   "cell_type": "code",
   "execution_count": 68,
   "metadata": {},
   "outputs": [],
   "source": [
    "# On sauve les modèles norm\n",
    "with open(\"data/sentimental_analysis/reg_log_100pond.file\", \"wb\") as f:\n",
    "    pickle.dump(reg_log_100pond, f, pickle.HIGHEST_PROTOCOL)\n",
    "with open(\"data/sentimental_analysis/reg_log_50pond.file\", \"wb\") as f:\n",
    "    pickle.dump(reg_log_50pond, f, pickle.HIGHEST_PROTOCOL)\n",
    "with open(\"data/sentimental_analysis/reg_log_300pond.file\", \"wb\") as f:\n",
    "    pickle.dump(reg_log_100pond, f, pickle.HIGHEST_PROTOCOL)"
   ]
  }
 ],
 "metadata": {
  "kernelspec": {
   "display_name": "Python 3",
   "language": "python",
   "name": "python3"
  },
  "language_info": {
   "codemirror_mode": {
    "name": "ipython",
    "version": 3
   },
   "file_extension": ".py",
   "mimetype": "text/x-python",
   "name": "python",
   "nbconvert_exporter": "python",
   "pygments_lexer": "ipython3",
   "version": "3.6.5"
  }
 },
 "nbformat": 4,
 "nbformat_minor": 4
}
