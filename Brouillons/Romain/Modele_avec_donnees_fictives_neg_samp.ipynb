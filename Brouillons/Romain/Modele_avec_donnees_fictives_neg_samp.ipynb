{
 "cells": [
  {
   "cell_type": "markdown",
   "metadata": {},
   "source": [
    "# Début d'implémentation du modèle"
   ]
  },
  {
   "cell_type": "markdown",
   "metadata": {},
   "source": [
    "### Étape 0 : Importations"
   ]
  },
  {
   "cell_type": "code",
   "execution_count": 1,
   "metadata": {},
   "outputs": [],
   "source": [
    "import numpy as np\n",
    "import torch\n",
    "from torch.autograd import Variable\n",
    "import torch.nn.functional as F\n",
    "\n",
    "import math\n",
    "import pandas as pd\n",
    "\n",
    "import time\n",
    "\n",
    "from random import *\n",
    "import random\n",
    "from random import randrange\n",
    "from random import sample \n",
    "random.seed(1)\n",
    "np.random.seed(1)\n",
    "\n",
    "from numpy.random import multinomial"
   ]
  },
  {
   "cell_type": "markdown",
   "metadata": {},
   "source": [
    "### Étape 1 : Créations du corpus"
   ]
  },
  {
   "cell_type": "code",
   "execution_count": 2,
   "metadata": {},
   "outputs": [],
   "source": [
    "liste_couples = {\n",
    "    0:(\"homme\",\"femme\"),\n",
    "    1:(\"chien\",\"chat\"),\n",
    "    2:(\"vanille\",\"chocolat\"),\n",
    "    3:(\"poli\",\"courtois\"),\n",
    "    4:(\"choqué\",\"horrifié\"),\n",
    "    5:(\"propre\",\"sale\"),\n",
    "    6:(\"canapé\",\"fauteuil\"),\n",
    "    7:(\"téléphone\",\"portable\"),\n",
    "    8:(\"voiture\",\"camion\"),\n",
    "    9:(\"grand\",\"petit\")\n",
    "}\n",
    "\n",
    "couples_contexte = {\n",
    "(\"homme\",\"femme\") : [\"sexe\",\"genre\",\"mari\",\"épouse\",\"famille\",\"inégalités\",\"enfant\",\"amour\",\"couple\",\"différence\"],                  \n",
    "(\"chien\",\"chat\") : [\"animal\",\"domestique\",\"maison\",\"aboyer\",\"miauler\",\"labrador\",\"poil\",\"pattes\",\"spa\",\"ami\"],\n",
    "(\"vanille\",\"chocolat\") : [\"parfum\",\"goût\",\"fraise\",\"glace\",\"boule\",\"gâteau\",\"bonbon\",\"blanc\",\"noir\",\"préférence\"],\n",
    "(\"poli\",\"courtois\") : [\"bonjour\",\"merci\",\"pardon\",\"stp\",\"règles\",\"apprendre\",\"savoir-vivre\",\"savoir-être\",\"formule\",\"demander\"],\n",
    "(\"choqué\",\"horrifié\") : [\"peur\",\"terreur\",\"phobie\",\"clown\",\"noir\",\"araignée\",\"rat\",\"cri\",\"oh\",\"ah\"],\n",
    "(\"propre\",\"sale\") : [\"nettoyer\",\"vaisselle\",\"laver\",\"savon\",\"produit\",\"salissures\",\"traces\",\"net\",\"éclatant\",\"brillant\"],\n",
    "(\"canapé\",\"fauteuil\") : [\"maison\",\"salon\",\"assis\",\"confortable\",\"sofa\",\"convertible\",\"cuir\",\"télé\",\"accoudoir\",\"plaid\"],\n",
    "(\"téléphone\",\"portable\") : [\"appel\",\"allo\",\"décrocher\",\"sms\",\"numéro\",\"mobile\",\"orange\",\"sfr\",\"free\",\"bouygues\"],\n",
    "(\"voiture\",\"camion\") : [\"moto\",\"véhicule\",\"conduire\",\"rouler\",\"conducteur\",\"volant\",\"chauffeur\",\"permis\",\"vitesse\",\"passager\"],\n",
    "(\"grand\",\"petit\") : [\"taille\",\"géant\",\"nain\",\"s\",\"m\",\"l\",\"xl\",\"mesure\",\"énorme\",\"longueur\"]\n",
    "}\n",
    "\n",
    "bruits = ['ALLATES','NEBULES','LONGTON','PAWESIN','SORENGO','SEXTEES','TAXIONS','ELEWIJT','EPEISME','APOTOME',\n",
    "'REMORVA','HOBOKEN','MALICES','SOMZEEN','NEDDOIS','RECLIVA','GILEREZ','GAULDOS','GOINFRA','RAYERES','BOTTEES','VAGITES','PRELEES','GARDERA','ANATASE','DATASSE',\n",
    "'BILLAGE','POUCAVE','REFUGES','REDIMAI','SOLANGE','EMBOISE','BACHAGA','FAMINER','ECUMONS','HARWELL','VEURDES','AZURERA','ENUQUAI','MAULAIS','MEVENIR','GAUDENT',\n",
    "'MENTANA','REHERSE','ARBECEY','FAUXAMI','BALADOU','REVERDI','BEDAVES','BORAMES','PONTIFE','ALESIEZ','REFIXER','IRRUIEZ','DRESSEZ','PYROIDE','GNAQUAI','LAVETON',\n",
    "'RERESTA','EPRISSE','FROLERA','RAVEURS','CITRINE','NAUNHOF','FEUTRIE','RETASEE','TIMBREE','GANTERA','HALENES','SUSIENS','DEGOUTE','BINAGES','VEAUTES','LAISSAI',\n",
    "'STERANE','RECERNE','RELIQUE','FLAGGER','DELAVAS','SUADERA','PINIERS','DOMPTER','CARRARE','ROSAZIA','LIMITAS','EUCLIDE','FARCANT','BLATERE','STRICTS','REFLOTS',\n",
    "'PAGELLE','BLAUZAC','BROCHER','TOPDOWN','UNIFERE','EHOUPER','ASININS','ASSAKIS','HOTELES','DENIOTE']\n",
    "\n",
    "i = 0\n",
    "for mot in bruits:\n",
    "    mot_min = mot.lower()\n",
    "    bruits[i] = mot_min\n",
    "    i += 1\n",
    "    \n",
    "t_corpus = []\n",
    "for i in range(10000):\n",
    "    indiceCouple = randrange(0,10)\n",
    "    membreCouple = randrange(0,2)\n",
    "    # On a notre mot clé\n",
    "    mot_cle = liste_couples[indiceCouple][membreCouple]\n",
    "    # On récupère les contextes, on va en tirer 5\n",
    "    liste_mot = couples_contexte[liste_couples[indiceCouple]]\n",
    "    ech_contexte = sample(liste_mot,5)\n",
    "    # On génère le bruit \n",
    "    ech_bruit = sample(bruits,3)\n",
    "    # On crée la phrase\n",
    "    phrase = []\n",
    "    phrase.append(mot_cle)\n",
    "    for mot in ech_contexte:\n",
    "        phrase.append(mot)\n",
    "    for bruit in ech_bruit:\n",
    "        phrase.append(bruit)\n",
    "    random.shuffle(phrase)\n",
    "    t_corpus.append(phrase)"
   ]
  },
  {
   "cell_type": "markdown",
   "metadata": {},
   "source": [
    "### Étape 2 : Créer le vocabulaire à partir du corpus de phrases"
   ]
  },
  {
   "cell_type": "code",
   "execution_count": 3,
   "metadata": {
    "scrolled": true
   },
   "outputs": [
    {
     "name": "stdout",
     "output_type": "stream",
     "text": [
      "218\n"
     ]
    }
   ],
   "source": [
    "voc = []\n",
    "freqs = {}\n",
    "for phrase in t_corpus:\n",
    "    for mot in phrase:\n",
    "        if mot not in voc:\n",
    "            voc.append(mot)\n",
    "            freqs[mot] = 1\n",
    "        else:\n",
    "            freqs[mot] +=1\n",
    "voc_size = len(voc)\n",
    "print(voc_size)"
   ]
  },
  {
   "cell_type": "markdown",
   "metadata": {},
   "source": [
    "### Étape 3 : Calcul des probas pour le subsampling et le negative sampling"
   ]
  },
  {
   "cell_type": "code",
   "execution_count": 4,
   "metadata": {},
   "outputs": [],
   "source": [
    "total_mots = 0\n",
    "for phrase in t_corpus:\n",
    "    total_mots += len(phrase)"
   ]
  },
  {
   "cell_type": "code",
   "execution_count": 5,
   "metadata": {},
   "outputs": [],
   "source": [
    "for key, value in freqs.items():\n",
    "    freqs[key] = value / total_mots"
   ]
  },
  {
   "cell_type": "code",
   "execution_count": 6,
   "metadata": {},
   "outputs": [],
   "source": [
    "# Probabilité d'être gardé dans le subsampling\n",
    "p_sub = {word: min((math.sqrt(freqs[word]/0.001)+1)*(0.001/freqs[word]),1) for word in freqs}"
   ]
  },
  {
   "cell_type": "code",
   "execution_count": 7,
   "metadata": {},
   "outputs": [],
   "source": [
    "p_neg_1 = {word: freqs[word]**(3/4) for word in freqs}\n",
    "total_neg = 0\n",
    "for word in p_neg_1:\n",
    "    total_neg+=p_neg_1[word]\n",
    "p_neg = {word: p_neg_1[word]/total_neg for word in p_neg_1}"
   ]
  },
  {
   "cell_type": "code",
   "execution_count": 8,
   "metadata": {},
   "outputs": [],
   "source": [
    "def subSampling(phrase):\n",
    "    phrase_samp = []\n",
    "    for mot in phrase:\n",
    "        if np.random.random() < (p_sub[mot]):\n",
    "                phrase_samp.append(mot)\n",
    "    return phrase_samp"
   ]
  },
  {
   "cell_type": "code",
   "execution_count": 9,
   "metadata": {},
   "outputs": [],
   "source": [
    "t_corpus_samp = []\n",
    "for phrase in t_corpus:\n",
    "        # Sub-sampling : pour chaque phrase, on réalise le subsampling éventuel.\n",
    "        phrase_samp = subSampling(phrase)\n",
    "        if len(phrase_samp)>1:\n",
    "            t_corpus_samp.append(phrase_samp)"
   ]
  },
  {
   "cell_type": "code",
   "execution_count": 10,
   "metadata": {},
   "outputs": [],
   "source": [
    "mot_index = {w: index for (index, w) in enumerate(voc)}\n",
    "index_mot = {index: w for (index, w) in enumerate(voc)}"
   ]
  },
  {
   "cell_type": "markdown",
   "metadata": {},
   "source": [
    "### Étape 4 : Création du modèle"
   ]
  },
  {
   "cell_type": "code",
   "execution_count": 11,
   "metadata": {},
   "outputs": [],
   "source": [
    "from IPython.display import clear_output\n",
    "from matplotlib import pyplot as plt\n",
    "import collections\n",
    "%matplotlib inline\n",
    "\n",
    "def live_plot(data, figsize=(7,5), title=''):\n",
    "    clear_output(wait=True)\n",
    "    plt.figure(figsize=figsize)\n",
    "    plt.plot(data)\n",
    "    plt.title(title)\n",
    "    plt.grid(True)\n",
    "    plt.xlabel('epoch')\n",
    "    plt.show();"
   ]
  },
  {
   "cell_type": "code",
   "execution_count": 12,
   "metadata": {},
   "outputs": [],
   "source": [
    "#Couche d'entrée\n",
    "def get_input_layer(word_idx):\n",
    "    x = torch.zeros(voc_size).float()\n",
    "    x[word_idx] = 1.0\n",
    "    return x\n",
    "\n",
    "# Choix de dimension\n",
    "embedding_dims = 10\n",
    "# Initialisation\n",
    "# Variable : comme Tensor mais avec les valeurs qui changent pendant le traitement\n",
    "W1 = Variable(torch.randn(embedding_dims, voc_size).float(), requires_grad=True)\n",
    "W2 = Variable(torch.randn(voc_size, embedding_dims).float(), requires_grad=True)\n",
    "num_epochs = 50 # \"époques\"\n",
    "learning_rate = 0.01\n",
    "taille_fenetre = 5\n",
    "loss_tot = []"
   ]
  },
  {
   "cell_type": "code",
   "execution_count": 13,
   "metadata": {},
   "outputs": [
    {
     "data": {
      "image/png": "[encoded data removed]",
      "text/plain": [
       "<Figure size 504x360 with 1 Axes>"
      ]
     },
     "metadata": {
      "needs_background": "light"
     },
     "output_type": "display_data"
    },
    {
     "name": "stdout",
     "output_type": "stream",
     "text": [
      "13.05\n"
     ]
    }
   ],
   "source": [
    "start = time.time()\n",
    "# Différentes étapes\n",
    "for epo in range(num_epochs):\n",
    "    loss_val = 0\n",
    "    for phrase in t_corpus_samp:\n",
    "        # On crée tous les couples par phrase\n",
    "        index_pairs = []\n",
    "        indices = [mot_index[mot] for mot in phrase]\n",
    "        # On traite chaque mot comme un mot central\n",
    "        for center_word in range(len(indices)):\n",
    "        # Pour chaque fenetre possible\n",
    "            for w in range(-taille_fenetre, taille_fenetre + 1):\n",
    "                context_word = center_word + w\n",
    "                # On fait attention à ne pas sauter de phrases\n",
    "                if context_word < 0 or context_word >= len(indices) or center_word == context_word:\n",
    "                    continue\n",
    "                context_word_ind = indices[context_word]\n",
    "                index_pairs.append((indices[center_word], context_word_ind))\n",
    "        if len(index_pairs) > 0:\n",
    "            # On en choisit une\n",
    "            focus, context = choice(index_pairs)\n",
    "\n",
    "            # Calcul loss \n",
    "            \n",
    "            # Loss du couple OK\n",
    "            x = Variable(get_input_layer(focus)).float()\n",
    "            z1 = torch.matmul(W1, x)\n",
    "            vec_context = W2[context]\n",
    "            z2 = torch.matmul(vec_context, z1)\n",
    "\n",
    "            sigmoid = F.logsigmoid(z2)\n",
    "            loss1 =  -sigmoid\n",
    "            loss_val += loss1\n",
    "        \n",
    "            # Negative samples\n",
    "            sampled_index = np.array(multinomial(4, list(p_neg.values())))\n",
    "            word_list = []\n",
    "            for index, count in enumerate(sampled_index):\n",
    "                for _ in range(count):\n",
    "                     word_list.append(index)\n",
    "\n",
    "            # Loss des negative sample\n",
    "            \n",
    "            vec_neg = W2[word_list]\n",
    "            z2 = torch.matmul(vec_neg, z1)\n",
    "            sigmoid = F.logsigmoid(-z2)\n",
    "            loss2 = -sigmoid.sum()\n",
    "            loss_val += loss2\n",
    "            \n",
    "            # Propagation\n",
    "            (loss1+loss2).backward()\n",
    "            W1.data -= learning_rate * W1.grad.data\n",
    "            W2.data -= learning_rate * W2.grad.data\n",
    "\n",
    "            W1.grad.data.zero_()\n",
    "            W2.grad.data.zero_()\n",
    "    loss_tot.append(loss_val / voc_size)\n",
    "    live_plot(loss_tot)\n",
    "end = time.time()\n",
    "print(round((end - start)/60, 2))\n",
    "\n",
    "#    if epo%10==0:\n",
    "#        print(f\"Loss à l'époque {epo}: {loss_val/voc_size}\")\n",
    "#print(f\"Loss à l'époque {num_epochs}: {loss_val/voc_size}\")"
   ]
  },
  {
   "cell_type": "code",
   "execution_count": 17,
   "metadata": {},
   "outputs": [],
   "source": [
    "W3 = (W1.t() + W2)/2"
   ]
  },
  {
   "cell_type": "code",
   "execution_count": 18,
   "metadata": {},
   "outputs": [],
   "source": [
    "# Sauvegarder les poids - utile si traitement trop long\n",
    "with open (\"mat.txt\", \"w\") as f:\n",
    "    for i in range (0,len (W3)) :\n",
    "        for j in range (0, len (W3[i])) :\n",
    "            f.write ( str (W3[i][j]) + \"\\t\")\n",
    "        f.write (\"\\n\")\n",
    "f.close()"
   ]
  },
  {
   "cell_type": "code",
   "execution_count": 20,
   "metadata": {},
   "outputs": [],
   "source": [
    "W3 = Variable(torch.randn(voc_size, embedding_dims).float(), requires_grad=True)\n",
    "with open(\"mat.txt\", 'r') as filin:\n",
    "    lignes = filin.readlines()\n",
    "    for i in range(0,218):\n",
    "        val = lignes[i].split(\"\\t\")\n",
    "        for j in range(0,10):\n",
    "            W3[i][j] = float(val[j])"
   ]
  },
  {
   "cell_type": "code",
   "execution_count": 21,
   "metadata": {},
   "outputs": [],
   "source": [
    "import pickle\n",
    "with open(\"C:/Users/torna/Documents/StatApp/StatApp/data/corpus_fictif_W3.file\", \"wb\") as f:\n",
    "        pickle.dump(W3, f, pickle.HIGHEST_PROTOCOL)\n",
    "with open(\"C:/Users/torna/Documents/StatApp/StatApp/data/corpus_fictif_W3.file\", \"rb\") as f:\n",
    "    W3 = pickle.load(f)"
   ]
  },
  {
   "cell_type": "code",
   "execution_count": 22,
   "metadata": {},
   "outputs": [],
   "source": [
    "# Distance/similarité cosinus\n",
    "def cos_distance(u, v):\n",
    "    return (np.dot(u, v)  / (math.sqrt(np.dot(u, u)) *  (math.sqrt(np.dot(v, v)))))"
   ]
  },
  {
   "cell_type": "code",
   "execution_count": 23,
   "metadata": {},
   "outputs": [],
   "source": [
    "# Dictionnaire des poids\n",
    "mot_poids = {index_mot[index]: poids.detach().numpy() for (index, poids) in enumerate(W3)}"
   ]
  },
  {
   "cell_type": "markdown",
   "metadata": {},
   "source": [
    "### Étape 5 : Résultats du modèle"
   ]
  },
  {
   "cell_type": "code",
   "execution_count": 24,
   "metadata": {},
   "outputs": [],
   "source": [
    "def mot_plus_proche(word, n=10):\n",
    "    word_distance = {}\n",
    "    for mot in mot_poids:\n",
    "        if mot != word:\n",
    "            word_distance[mot] = round((cos_distance(mot_poids[mot],(mot_poids[word]))),4)\n",
    "    word_distance = sorted(word_distance.items(), key=lambda t: t[1],reverse=True)\n",
    "    return word_distance[0:n]"
   ]
  },
  {
   "cell_type": "code",
   "execution_count": 25,
   "metadata": {},
   "outputs": [],
   "source": [
    "def mot_moins_proche(word, n=10):\n",
    "    word_distance = {}\n",
    "    for mot in mot_poids:\n",
    "        if mot != word:\n",
    "            word_distance[mot] = round((cos_distance(mot_poids[mot],(mot_poids[word]))),4)\n",
    "    word_distance = sorted(word_distance.items(), key=lambda t: t[1])\n",
    "    return word_distance[0:n]"
   ]
  },
  {
   "cell_type": "code",
   "execution_count": 26,
   "metadata": {},
   "outputs": [
    {
     "data": {
      "text/plain": [
       "[('allates', -0.8095),\n",
       " ('alesiez', -0.7347),\n",
       " ('susiens', -0.7272),\n",
       " ('recerne', -0.715),\n",
       " ('flagger', -0.6898),\n",
       " ('apotome', -0.688),\n",
       " ('hoteles', -0.6522),\n",
       " ('hoboken', -0.6479),\n",
       " ('halenes', -0.5881),\n",
       " ('animal', -0.5827),\n",
       " ('delavas', -0.5502),\n",
       " ('spa', -0.5469),\n",
       " ('prelees', -0.5439),\n",
       " ('faminer', -0.5434),\n",
       " ('free', -0.5429),\n",
       " ('miauler', -0.5428),\n",
       " ('mobile', -0.5312),\n",
       " ('reverdi', -0.5216),\n",
       " ('ami', -0.5183),\n",
       " ('farcant', -0.5166),\n",
       " ('laveton', -0.5145),\n",
       " ('chien', -0.5128),\n",
       " ('poil', -0.508),\n",
       " ('fauxami', -0.5072),\n",
       " ('boule', -0.5042),\n",
       " ('datasse', -0.4943),\n",
       " ('sms', -0.4656),\n",
       " ('labrador', -0.4597),\n",
       " ('pattes', -0.4539),\n",
       " ('mentana', -0.4523),\n",
       " ('rayeres', -0.4512),\n",
       " ('relique', -0.4471),\n",
       " ('portable', -0.4449),\n",
       " ('domestique', -0.4383),\n",
       " ('appel', -0.4336),\n",
       " ('pontife', -0.4304),\n",
       " ('eprisse', -0.4282),\n",
       " ('goinfra', -0.4267),\n",
       " ('aboyer', -0.4227),\n",
       " ('décrocher', -0.4108),\n",
       " ('gantera', -0.3871),\n",
       " ('noir', -0.384),\n",
       " ('refixer', -0.3787),\n",
       " ('sfr', -0.3731),\n",
       " ('redimai', -0.3704),\n",
       " ('numéro', -0.3667),\n",
       " ('vanille', -0.3664),\n",
       " ('suadera', -0.3595),\n",
       " ('reresta', -0.3589),\n",
       " ('chat', -0.357)]"
      ]
     },
     "execution_count": 26,
     "metadata": {},
     "output_type": "execute_result"
    }
   ],
   "source": [
    "mot_moins_proche(\"petit\",n=50)"
   ]
  },
  {
   "cell_type": "code",
   "execution_count": 27,
   "metadata": {},
   "outputs": [
    {
     "data": {
      "text/plain": [
       "[('longueur', 0.9821),\n",
       " ('petit', 0.9814),\n",
       " ('s', 0.9789),\n",
       " ('mesure', 0.9772),\n",
       " ('xl', 0.9707),\n",
       " ('taille', 0.9703),\n",
       " ('l', 0.9688),\n",
       " ('nain', 0.9444),\n",
       " ('géant', 0.9413),\n",
       " ('énorme', 0.9407),\n",
       " ('m', 0.9283),\n",
       " ('taxions', 0.5106),\n",
       " ('raveurs', 0.4834),\n",
       " ('recliva', 0.454),\n",
       " ('ehouper', 0.3407),\n",
       " ('carrare', 0.328),\n",
       " ('sterane', 0.3255),\n",
       " ('veurdes', 0.3165),\n",
       " ('maulais', 0.3132),\n",
       " ('feutrie', 0.2824),\n",
       " ('harwell', 0.2789),\n",
       " ('vagites', 0.2653),\n",
       " ('frolera', 0.2585),\n",
       " ('solange', 0.2406),\n",
       " ('anatase', 0.2229),\n",
       " ('enuquai', 0.2191),\n",
       " ('ecumons', 0.2041),\n",
       " ('dompter', 0.1973),\n",
       " ('limitas', 0.1944),\n",
       " ('camion', 0.1915),\n",
       " ('arbecey', 0.1894),\n",
       " ('conduire', 0.18),\n",
       " ('amour', 0.155),\n",
       " ('pagelle', 0.1493),\n",
       " ('permis', 0.1441),\n",
       " ('chauffeur', 0.1393),\n",
       " ('conducteur', 0.1362),\n",
       " ('epeisme', 0.1315),\n",
       " ('pardon', 0.1289),\n",
       " ('accoudoir', 0.1286),\n",
       " ('vitesse', 0.1283),\n",
       " ('blauzac', 0.1277),\n",
       " ('sexe', 0.121),\n",
       " ('gnaquai', 0.1145),\n",
       " ('différence', 0.1136),\n",
       " ('enfant', 0.1072),\n",
       " ('homme', 0.1065),\n",
       " ('passager', 0.1064),\n",
       " ('produit', 0.1004),\n",
       " ('voiture', 0.0972)]"
      ]
     },
     "execution_count": 27,
     "metadata": {},
     "output_type": "execute_result"
    }
   ],
   "source": [
    "mot_plus_proche(\"grand\",n=50)"
   ]
  },
  {
   "cell_type": "markdown",
   "metadata": {},
   "source": [
    "#### Données fictives - Construction fichier pour ACP"
   ]
  },
  {
   "cell_type": "code",
   "execution_count": 35,
   "metadata": {},
   "outputs": [],
   "source": [
    "liste = [\"homme\",\"femme\",\"sexe\",\"genre\",\"mari\",\"épouse\",\"famille\",\"inégalités\",\"enfant\",\"amour\",\"couple\",\"différence\",                  \n",
    "\"chien\",\"chat\",\"animal\",\"domestique\",\"maison\",\"aboyer\",\"miauler\",\"labrador\",\"poil\",\"pattes\",\"spa\",\"ami\",\n",
    "\"vanille\",\"chocolat\",\"parfum\",\"goût\",\"fraise\",\"glace\",\"boule\",\"gâteau\",\"bonbon\",\"blanc\",\"noir\",\"préférence\",\n",
    "\"poli\",\"courtois\",\"bonjour\",\"merci\",\"pardon\",\"stp\",\"règles\",\"apprendre\",\"savoir-vivre\",\"savoir-être\",\"formule\",\"demander\",\n",
    "\"choqué\",\"horrifié\",\"peur\",\"terreur\",\"phobie\",\"clown\",\"noir\",\"araignée\",\"rat\",\"cri\",\"oh\",\"ah\",\n",
    "\"propre\",\"sale\",\"nettoyer\",\"vaisselle\",\"laver\",\"savon\",\"produit\",\"salissures\",\"traces\",\"net\",\"éclatant\",\"brillant\",\n",
    "\"canapé\",\"fauteuil\",\"maison\",\"salon\",\"assis\",\"confortable\",\"sofa\",\"convertible\",\"cuir\",\"télé\",\"accoudoir\",\"plaid\",\n",
    "\"téléphone\",\"portable\",\"appel\",\"allo\",\"décrocher\",\"sms\",\"numéro\",\"mobile\",\"orange\",\"sfr\",\"free\",\"bouygues\",\n",
    "\"voiture\",\"camion\",\"moto\",\"véhicule\",\"conduire\",\"rouler\",\"conducteur\",\"volant\",\"chauffeur\",\"permis\",\"vitesse\",\"passager\",\n",
    "\"grand\",\"petit\",\"taille\",\"géant\",\"nain\",\"s\",\"m\",\"l\",\"xl\",\"mesure\",\"énorme\",\"longueur\"\n",
    "]\n",
    "\n",
    "df_res = pd.DataFrame.from_dict(mot_poids).transpose()\n",
    "df_res = df_res.loc[liste]"
   ]
  },
  {
   "cell_type": "code",
   "execution_count": 36,
   "metadata": {},
   "outputs": [],
   "source": [
    "df_res['label'] = 'Autre' \n",
    "\n",
    "df_res.loc[\n",
    "    [\"homme\",\"femme\",\"sexe\",\"genre\",\"mari\",\"épouse\",\"famille\",\"inégalités\",\"enfant\",\"amour\",\"couple\",\"différence\"],\n",
    "    'label'] = \"Groupe 1\"\n",
    "df_res.loc[\n",
    "    [\"chien\",\"chat\",\"animal\",\"domestique\",\"maison\",\"aboyer\",\"miauler\",\"labrador\",\"poil\",\"pattes\",\"spa\",\"ami\"],\n",
    "    'label'] = \"Groupe 2\"\n",
    "df_res.loc[\n",
    "    [\"vanille\",\"chocolat\",\"parfum\",\"goût\",\"fraise\",\"glace\",\"boule\",\"gâteau\",\"bonbon\",\"blanc\",\"noir\",\"préférence\"],\n",
    "    'label'] = \"Groupe 3\"\n",
    "df_res.loc[\n",
    "    [\"poli\",\"courtois\",\"bonjour\",\"merci\",\"pardon\",\"stp\",\"règles\",\"apprendre\",\"savoir-vivre\",\"savoir-être\",\"formule\",\"demander\"],\n",
    "    'label'] = \"Groupe 4\"\n",
    "df_res.loc[\n",
    "    [\"choqué\",\"horrifié\",\"peur\",\"terreur\",\"phobie\",\"clown\",\"noir\",\"araignée\",\"rat\",\"cri\",\"oh\",\"ah\"],\n",
    "    'label'] = \"Groupe 5\"\n",
    "df_res.loc[\n",
    "    [\"propre\",\"sale\",\"nettoyer\",\"vaisselle\",\"laver\",\"savon\",\"produit\",\"salissures\",\"traces\",\"net\",\"éclatant\",\"brillant\"],\n",
    "    'label'] = \"Groupe 6\"\n",
    "df_res.loc[\n",
    "    [\"canapé\",\"fauteuil\",\"maison\",\"salon\",\"assis\",\"confortable\",\"sofa\",\"convertible\",\"cuir\",\"télé\",\"accoudoir\",\"plaid\"],\n",
    "    'label'] = \"Groupe 7\"\n",
    "df_res.loc[\n",
    "    [\"téléphone\",\"portable\",\"appel\",\"allo\",\"décrocher\",\"sms\",\"numéro\",\"mobile\",\"orange\",\"sfr\",\"free\",\"bouygues\"],\n",
    "    'label'] = \"Groupe 8\"\n",
    "df_res.loc[\n",
    "    [\"voiture\",\"camion\",\"moto\",\"véhicule\",\"conduire\",\"rouler\",\"conducteur\",\"volant\",\"chauffeur\",\"permis\",\"vitesse\",\"passager\"],\n",
    "    'label'] = \"Groupe 9\"\n",
    "df_res.loc[\n",
    "    [\"grand\",\"petit\",\"taille\",\"géant\",\"nain\",\"s\",\"m\",\"l\",\"xl\",\"mesure\",\"énorme\",\"longueur\"],\n",
    "    'label'] = \"Groupe 10\""
   ]
  },
  {
   "cell_type": "code",
   "execution_count": 37,
   "metadata": {},
   "outputs": [],
   "source": [
    "from sklearn.preprocessing import StandardScaler\n",
    "features = [0, 1, 2, 3, 4, 5, 6, 7,8,9]\n",
    "# Separating out the features\n",
    "x = df_res.loc[:, features].values\n",
    "# Separating out the target\n",
    "y = df_res.loc[:,['label']].values\n",
    "# Standardizing the features\n",
    "x = StandardScaler().fit_transform(x)"
   ]
  },
  {
   "cell_type": "code",
   "execution_count": 38,
   "metadata": {},
   "outputs": [],
   "source": [
    "from sklearn.decomposition import PCA\n",
    "pca = PCA(n_components=2)\n",
    "principalComponents = pca.fit_transform(x)\n",
    "principalDf = pd.DataFrame(data = principalComponents\n",
    "             , columns = ['Axe 1', 'Axe 2'])"
   ]
  },
  {
   "cell_type": "code",
   "execution_count": 39,
   "metadata": {},
   "outputs": [],
   "source": [
    "df_res['mot'] = df_res.index.values\n",
    "df_res = df_res.reset_index()"
   ]
  },
  {
   "cell_type": "code",
   "execution_count": 40,
   "metadata": {},
   "outputs": [],
   "source": [
    "finalDf = pd.concat([principalDf, df_res[['label','mot']]],  axis = 1)\n",
    "#pca.explained_variance_ratio_"
   ]
  },
  {
   "cell_type": "code",
   "execution_count": 42,
   "metadata": {},
   "outputs": [
    {
     "data": {
      "image/png": "[encoded data removed]",
      "text/plain": [
       "<Figure size 576x576 with 1 Axes>"
      ]
     },
     "metadata": {
      "needs_background": "light"
     },
     "output_type": "display_data"
    }
   ],
   "source": [
    "# Représentation simple statique \n",
    "import matplotlib\n",
    "import matplotlib.pyplot as plt\n",
    "\n",
    "fig = plt.figure(figsize = (8,8))\n",
    "ax = fig.add_subplot(1,1,1) \n",
    "ax.set_xlabel('Axe 1', fontsize = 15)\n",
    "ax.set_ylabel('Axe 2', fontsize = 15)\n",
    "ax.set_title('ACP en 2 composantes', fontsize = 20)\n",
    "#targets = list(set(df_res['label']))\n",
    "targets = ['Groupe 1', 'Groupe 2', 'Groupe 3', 'Groupe 4', 'Groupe 5', 'Groupe 6', 'Groupe 7', 'Groupe 8', 'Groupe 9', 'Groupe 10']\n",
    "colors = ['blue', 'red', 'green', 'purple', 'pink', 'orange', 'black', 'brown', 'grey', 'magenta']\n",
    "for target, color in zip(targets,colors):\n",
    "    indicesToKeep = finalDf['label'] == target\n",
    "    ax.scatter(finalDf.loc[indicesToKeep, 'Axe 1']\n",
    "               , finalDf.loc[indicesToKeep, 'Axe 2']\n",
    "               , c = color\n",
    "               , s = 50)\n",
    "ax.legend(targets)\n",
    "plt.savefig('acp_fict.png')"
   ]
  },
  {
   "cell_type": "code",
   "execution_count": 45,
   "metadata": {},
   "outputs": [
    {
     "data": {
      "text/html": [
       "<div>\n",
       "<style scoped>\n",
       "    .dataframe tbody tr th:only-of-type {\n",
       "        vertical-align: middle;\n",
       "    }\n",
       "\n",
       "    .dataframe tbody tr th {\n",
       "        vertical-align: top;\n",
       "    }\n",
       "\n",
       "    .dataframe thead th {\n",
       "        text-align: right;\n",
       "    }\n",
       "</style>\n",
       "<table border=\"1\" class=\"dataframe\">\n",
       "  <thead>\n",
       "    <tr style=\"text-align: right;\">\n",
       "      <th></th>\n",
       "      <th>Axe 1</th>\n",
       "      <th>Axe 2</th>\n",
       "      <th>label</th>\n",
       "      <th>mot</th>\n",
       "    </tr>\n",
       "  </thead>\n",
       "  <tbody>\n",
       "    <tr>\n",
       "      <th>0</th>\n",
       "      <td>2.987176</td>\n",
       "      <td>0.031446</td>\n",
       "      <td>Couple 1</td>\n",
       "      <td>homme</td>\n",
       "    </tr>\n",
       "    <tr>\n",
       "      <th>1</th>\n",
       "      <td>2.709170</td>\n",
       "      <td>-0.184522</td>\n",
       "      <td>Couple 1</td>\n",
       "      <td>femme</td>\n",
       "    </tr>\n",
       "    <tr>\n",
       "      <th>2</th>\n",
       "      <td>0.206766</td>\n",
       "      <td>-2.748789</td>\n",
       "      <td>Couple 2</td>\n",
       "      <td>chien</td>\n",
       "    </tr>\n",
       "    <tr>\n",
       "      <th>3</th>\n",
       "      <td>0.372776</td>\n",
       "      <td>-2.755121</td>\n",
       "      <td>Couple 2</td>\n",
       "      <td>chat</td>\n",
       "    </tr>\n",
       "    <tr>\n",
       "      <th>4</th>\n",
       "      <td>1.215330</td>\n",
       "      <td>-1.067427</td>\n",
       "      <td>Couple 3</td>\n",
       "      <td>vanille</td>\n",
       "    </tr>\n",
       "    <tr>\n",
       "      <th>5</th>\n",
       "      <td>1.624615</td>\n",
       "      <td>-1.106978</td>\n",
       "      <td>Couple 3</td>\n",
       "      <td>chocolat</td>\n",
       "    </tr>\n",
       "    <tr>\n",
       "      <th>6</th>\n",
       "      <td>-2.096077</td>\n",
       "      <td>0.217407</td>\n",
       "      <td>Couple 4</td>\n",
       "      <td>poli</td>\n",
       "    </tr>\n",
       "    <tr>\n",
       "      <th>7</th>\n",
       "      <td>-1.716385</td>\n",
       "      <td>0.479379</td>\n",
       "      <td>Couple 4</td>\n",
       "      <td>courtois</td>\n",
       "    </tr>\n",
       "    <tr>\n",
       "      <th>8</th>\n",
       "      <td>-0.010375</td>\n",
       "      <td>0.126049</td>\n",
       "      <td>Couple 5</td>\n",
       "      <td>choqué</td>\n",
       "    </tr>\n",
       "    <tr>\n",
       "      <th>9</th>\n",
       "      <td>0.141995</td>\n",
       "      <td>-0.002786</td>\n",
       "      <td>Couple 5</td>\n",
       "      <td>horrifié</td>\n",
       "    </tr>\n",
       "    <tr>\n",
       "      <th>10</th>\n",
       "      <td>1.959940</td>\n",
       "      <td>2.825258</td>\n",
       "      <td>Couple 6</td>\n",
       "      <td>propre</td>\n",
       "    </tr>\n",
       "    <tr>\n",
       "      <th>11</th>\n",
       "      <td>1.857489</td>\n",
       "      <td>2.588226</td>\n",
       "      <td>Couple 6</td>\n",
       "      <td>sale</td>\n",
       "    </tr>\n",
       "    <tr>\n",
       "      <th>12</th>\n",
       "      <td>0.167723</td>\n",
       "      <td>-0.532293</td>\n",
       "      <td>Couple 7</td>\n",
       "      <td>canapé</td>\n",
       "    </tr>\n",
       "    <tr>\n",
       "      <th>13</th>\n",
       "      <td>-0.514939</td>\n",
       "      <td>-0.436570</td>\n",
       "      <td>Couple 7</td>\n",
       "      <td>fauteuil</td>\n",
       "    </tr>\n",
       "    <tr>\n",
       "      <th>14</th>\n",
       "      <td>-0.479574</td>\n",
       "      <td>-0.277945</td>\n",
       "      <td>Couple 8</td>\n",
       "      <td>téléphone</td>\n",
       "    </tr>\n",
       "    <tr>\n",
       "      <th>15</th>\n",
       "      <td>-1.006217</td>\n",
       "      <td>-0.260199</td>\n",
       "      <td>Couple 8</td>\n",
       "      <td>portable</td>\n",
       "    </tr>\n",
       "    <tr>\n",
       "      <th>16</th>\n",
       "      <td>-2.290964</td>\n",
       "      <td>0.155673</td>\n",
       "      <td>Couple 9</td>\n",
       "      <td>voiture</td>\n",
       "    </tr>\n",
       "    <tr>\n",
       "      <th>17</th>\n",
       "      <td>-2.347913</td>\n",
       "      <td>0.049609</td>\n",
       "      <td>Couple 9</td>\n",
       "      <td>camion</td>\n",
       "    </tr>\n",
       "    <tr>\n",
       "      <th>18</th>\n",
       "      <td>-1.333382</td>\n",
       "      <td>1.502445</td>\n",
       "      <td>Couple 10</td>\n",
       "      <td>grand</td>\n",
       "    </tr>\n",
       "    <tr>\n",
       "      <th>19</th>\n",
       "      <td>-1.447152</td>\n",
       "      <td>1.397136</td>\n",
       "      <td>Couple 10</td>\n",
       "      <td>petit</td>\n",
       "    </tr>\n",
       "  </tbody>\n",
       "</table>\n",
       "</div>"
      ],
      "text/plain": [
       "       Axe 1     Axe 2      label        mot\n",
       "0   2.987176  0.031446   Couple 1      homme\n",
       "1   2.709170 -0.184522   Couple 1      femme\n",
       "2   0.206766 -2.748789   Couple 2      chien\n",
       "3   0.372776 -2.755121   Couple 2       chat\n",
       "4   1.215330 -1.067427   Couple 3    vanille\n",
       "5   1.624615 -1.106978   Couple 3   chocolat\n",
       "6  -2.096077  0.217407   Couple 4       poli\n",
       "7  -1.716385  0.479379   Couple 4   courtois\n",
       "8  -0.010375  0.126049   Couple 5     choqué\n",
       "9   0.141995 -0.002786   Couple 5   horrifié\n",
       "10  1.959940  2.825258   Couple 6     propre\n",
       "11  1.857489  2.588226   Couple 6       sale\n",
       "12  0.167723 -0.532293   Couple 7     canapé\n",
       "13 -0.514939 -0.436570   Couple 7   fauteuil\n",
       "14 -0.479574 -0.277945   Couple 8  téléphone\n",
       "15 -1.006217 -0.260199   Couple 8   portable\n",
       "16 -2.290964  0.155673   Couple 9    voiture\n",
       "17 -2.347913  0.049609   Couple 9     camion\n",
       "18 -1.333382  1.502445  Couple 10      grand\n",
       "19 -1.447152  1.397136  Couple 10      petit"
      ]
     },
     "execution_count": 45,
     "metadata": {},
     "output_type": "execute_result"
    }
   ],
   "source": [
    "finalDf"
   ]
  },
  {
   "cell_type": "code",
   "execution_count": 29,
   "metadata": {},
   "outputs": [
    {
     "data": {
      "text/html": [
       "        <script type=\"text/javascript\">\n",
       "        window.PlotlyConfig = {MathJaxConfig: 'local'};\n",
       "        if (window.MathJax) {MathJax.Hub.Config({SVG: {font: \"STIX-Web\"}});}\n",
       "        if (typeof require !== 'undefined') {\n",
       "        require.undef(\"plotly\");\n",
       "        requirejs.config({\n",
       "            paths: {\n",
       "                'plotly': ['https://cdn.plot.ly/plotly-latest.min']\n",
       "            }\n",
       "        });\n",
       "        require(['plotly'], function(Plotly) {\n",
       "            window._Plotly = Plotly;\n",
       "        });\n",
       "        }\n",
       "        </script>\n",
       "        "
      ]
     },
     "metadata": {},
     "output_type": "display_data"
    },
    {
     "data": {
      "text/html": [
       "        <script type=\"text/javascript\">\n",
       "        window.PlotlyConfig = {MathJaxConfig: 'local'};\n",
       "        if (window.MathJax) {MathJax.Hub.Config({SVG: {font: \"STIX-Web\"}});}\n",
       "        if (typeof require !== 'undefined') {\n",
       "        require.undef(\"plotly\");\n",
       "        requirejs.config({\n",
       "            paths: {\n",
       "                'plotly': ['https://cdn.plot.ly/plotly-latest.min']\n",
       "            }\n",
       "        });\n",
       "        require(['plotly'], function(Plotly) {\n",
       "            window._Plotly = Plotly;\n",
       "        });\n",
       "        }\n",
       "        </script>\n",
       "        "
      ]
     },
     "metadata": {},
     "output_type": "display_data"
    },
    {
     "data": {
      "application/vnd.plotly.v1+json": {
       "config": {
        "linkText": "Export to plot.ly",
        "plotlyServerURL": "https://plot.ly",
        "showLink": true
       },
       "data": [
        {
         "marker": {
          "color": "rgba(255, 153, 51, 1.0)",
          "line": {
           "width": 1.3
          },
          "opacity": 0.8,
          "size": 12,
          "symbol": "circle"
         },
         "mode": "markers",
         "name": "Couple 1",
         "text": [
          "homme",
          "femme",
          "sexe",
          "genre",
          "mari",
          "épouse",
          "famille",
          "inégalités",
          "enfant",
          "amour",
          "couple",
          "différence",
          "femme",
          "sexe",
          "genre",
          "mari",
          "épouse",
          "famille",
          "inégalités",
          "enfant",
          "amour",
          "couple",
          "différence"
         ],
         "textfont": {
          "color": "#4D5663"
         },
         "type": "scatter",
         "x": [
          -0.46893757581710815,
          0.4083027243614197,
          0.4273519515991211,
          -0.22335855662822723,
          -0.0550406388938427,
          -0.06206275150179863,
          -0.34465593099594116,
          -0.6696863174438477,
          -0.1817386895418167,
          -0.006729787215590477,
          0.014755559153854847,
          -0.2784453332424164,
          0.4083027243614197,
          0.4273519515991211,
          -0.22335855662822723,
          -0.0550406388938427,
          -0.06206275150179863,
          -0.34465593099594116,
          -0.6696863174438477,
          -0.1817386895418167,
          -0.006729787215590477,
          0.014755559153854847,
          -0.2784453332424164
         ],
         "y": [
          0.6819864511489868,
          0.6059939861297607,
          0.9357530474662781,
          0.6482539772987366,
          0.7338498830795288,
          0.8469078540802002,
          0.7179201245307922,
          0.6915319561958313,
          1.0066683292388916,
          1.2384883165359497,
          0.6870911121368408,
          0.8188827633857727,
          0.6059939861297607,
          0.9357530474662781,
          0.6482539772987366,
          0.7338498830795288,
          0.8469078540802002,
          0.7179201245307922,
          0.6915319561958313,
          1.0066683292388916,
          1.2384883165359497,
          0.6870911121368408,
          0.8188827633857727
         ]
        },
        {
         "marker": {
          "color": "rgba(55, 128, 191, 1.0)",
          "line": {
           "width": 1.3
          },
          "opacity": 0.8,
          "size": 12,
          "symbol": "circle"
         },
         "mode": "markers",
         "name": "Couple 2",
         "text": [
          "chien",
          "chat",
          "animal",
          "domestique",
          "aboyer",
          "miauler",
          "labrador",
          "poil",
          "pattes",
          "spa",
          "ami",
          "chien",
          "chat",
          "animal",
          "domestique",
          "aboyer",
          "miauler",
          "labrador",
          "poil",
          "pattes",
          "spa",
          "ami"
         ],
         "textfont": {
          "color": "#4D5663"
         },
         "type": "scatter",
         "x": [
          -1.162030816078186,
          -1.1516591310501099,
          -0.93651282787323,
          -0.9838403463363647,
          -1.151357650756836,
          -1.140541911125183,
          -1.0374513864517212,
          -1.5900424718856812,
          -1.1426688432693481,
          -1.1658916473388672,
          -0.9653457403182983,
          -1.162030816078186,
          -1.1516591310501099,
          -0.93651282787323,
          -0.9838403463363647,
          -1.151357650756836,
          -1.140541911125183,
          -1.0374513864517212,
          -1.5900424718856812,
          -1.1426688432693481,
          -1.1658916473388672,
          -0.9653457403182983
         ],
         "y": [
          1.8593156337738037,
          2.4944193363189697,
          1.4703500270843506,
          2.2133004665374756,
          2.0806422233581543,
          1.781696081161499,
          2.0154073238372803,
          1.9113407135009766,
          2.098027229309082,
          1.6280571222305298,
          1.64901864528656,
          1.8593156337738037,
          2.4944193363189697,
          1.4703500270843506,
          2.2133004665374756,
          2.0806422233581543,
          1.781696081161499,
          2.0154073238372803,
          1.9113407135009766,
          2.098027229309082,
          1.6280571222305298,
          1.64901864528656
         ]
        },
        {
         "marker": {
          "color": "rgba(50, 171, 96, 1.0)",
          "line": {
           "width": 1.3
          },
          "opacity": 0.8,
          "size": 12,
          "symbol": "circle"
         },
         "mode": "markers",
         "name": "Couple 7",
         "text": [
          "maison",
          "canapé",
          "fauteuil",
          "maison",
          "salon",
          "assis",
          "confortable",
          "sofa",
          "convertible",
          "cuir",
          "télé",
          "accoudoir",
          "plaid",
          "maison",
          "canapé",
          "fauteuil",
          "maison",
          "salon",
          "assis",
          "confortable",
          "sofa",
          "convertible",
          "cuir",
          "télé",
          "accoudoir",
          "plaid"
         ],
         "textfont": {
          "color": "#4D5663"
         },
         "type": "scatter",
         "x": [
          -0.2699906826019287,
          1.374611496925354,
          0.6810552477836609,
          -0.2699906826019287,
          1.092555284500122,
          1.263603925704956,
          1.4249281883239746,
          0.9820091128349304,
          0.7264779210090637,
          1.2077044248580933,
          1.1991344690322876,
          0.4732876121997833,
          0.9578039646148682,
          -0.2699906826019287,
          1.374611496925354,
          0.6810552477836609,
          -0.2699906826019287,
          1.092555284500122,
          1.263603925704956,
          1.4249281883239746,
          0.9820091128349304,
          0.7264779210090637,
          1.2077044248580933,
          1.1991344690322876,
          0.4732876121997833,
          0.9578039646148682
         ],
         "y": [
          2.475518226623535,
          1.7910364866256714,
          1.755624532699585,
          2.475518226623535,
          1.8688963651657104,
          1.724481463432312,
          1.6831833124160767,
          1.731237530708313,
          1.8233658075332642,
          1.9165915250778198,
          1.8334012031555176,
          1.9617782831192017,
          1.820568561553955,
          2.475518226623535,
          1.7910364866256714,
          1.755624532699585,
          2.475518226623535,
          1.8688963651657104,
          1.724481463432312,
          1.6831833124160767,
          1.731237530708313,
          1.8233658075332642,
          1.9165915250778198,
          1.8334012031555176,
          1.9617782831192017,
          1.820568561553955
         ]
        },
        {
         "marker": {
          "color": "rgba(128, 0, 128, 1.0)",
          "line": {
           "width": 1.3
          },
          "opacity": 0.8,
          "size": 12,
          "symbol": "circle"
         },
         "mode": "markers",
         "name": "Couple 3",
         "text": [
          "vanille",
          "chocolat",
          "parfum",
          "goût",
          "fraise",
          "glace",
          "boule",
          "gâteau",
          "bonbon",
          "blanc",
          "préférence",
          "vanille",
          "chocolat",
          "parfum",
          "goût",
          "fraise",
          "glace",
          "boule",
          "gâteau",
          "bonbon",
          "blanc",
          "préférence"
         ],
         "textfont": {
          "color": "#4D5663"
         },
         "type": "scatter",
         "x": [
          -0.3432161211967468,
          -0.06733553111553192,
          -0.6906415820121765,
          -0.18299633264541626,
          -0.16443374752998352,
          -0.6060751080513,
          -0.7212564945220947,
          -0.558005690574646,
          -0.1891363263130188,
          -0.03244051709771156,
          -0.33658161759376526,
          -0.3432161211967468,
          -0.06733553111553192,
          -0.6906415820121765,
          -0.18299633264541626,
          -0.16443374752998352,
          -0.6060751080513,
          -0.7212564945220947,
          -0.558005690574646,
          -0.1891363263130188,
          -0.03244051709771156,
          -0.33658161759376526
         ],
         "y": [
          -1.0511348247528076,
          -0.7218008637428284,
          -0.5364629030227661,
          -1.0111829042434692,
          -0.7825576663017273,
          -0.9117037653923035,
          -1.433140754699707,
          -0.951957643032074,
          -0.9330018162727356,
          -0.6193938255310059,
          -0.870535671710968,
          -1.0511348247528076,
          -0.7218008637428284,
          -0.5364629030227661,
          -1.0111829042434692,
          -0.7825576663017273,
          -0.9117037653923035,
          -1.433140754699707,
          -0.951957643032074,
          -0.9330018162727356,
          -0.6193938255310059,
          -0.870535671710968
         ]
        },
        {
         "marker": {
          "color": "rgba(219, 64, 82, 1.0)",
          "line": {
           "width": 1.3
          },
          "opacity": 0.8,
          "size": 12,
          "symbol": "circle"
         },
         "mode": "markers",
         "name": "Couple 5",
         "text": [
          "noir",
          "choqué",
          "horrifié",
          "peur",
          "terreur",
          "phobie",
          "clown",
          "noir",
          "araignée",
          "rat",
          "cri",
          "oh",
          "ah",
          "noir",
          "choqué",
          "horrifié",
          "peur",
          "terreur",
          "phobie",
          "clown",
          "noir",
          "araignée",
          "rat",
          "cri",
          "oh",
          "ah"
         ],
         "textfont": {
          "color": "#4D5663"
         },
         "type": "scatter",
         "x": [
          -1.7222059965133667,
          -2.5983173847198486,
          -2.738948345184326,
          -2.3668465614318848,
          -2.0820353031158447,
          -2.4128971099853516,
          -2.307781934738159,
          -1.7222059965133667,
          -2.4122910499572754,
          -2.6309261322021484,
          -2.049771547317505,
          -2.198920965194702,
          -2.323359489440918,
          -1.7222059965133667,
          -2.5983173847198486,
          -2.738948345184326,
          -2.3668465614318848,
          -2.0820353031158447,
          -2.4128971099853516,
          -2.307781934738159,
          -1.7222059965133667,
          -2.4122910499572754,
          -2.6309261322021484,
          -2.049771547317505,
          -2.198920965194702,
          -2.323359489440918
         ],
         "y": [
          -1.3326780796051025,
          -0.7800915837287903,
          -0.246183842420578,
          -0.7338599562644958,
          -0.8770862817764282,
          -0.842225193977356,
          -0.5737355947494507,
          -1.3326780796051025,
          -0.39378413558006287,
          -0.7106682062149048,
          -0.9652963280677795,
          -0.40424787998199463,
          -1.020256757736206,
          -1.3326780796051025,
          -0.7800915837287903,
          -0.246183842420578,
          -0.7338599562644958,
          -0.8770862817764282,
          -0.842225193977356,
          -0.5737355947494507,
          -1.3326780796051025,
          -0.39378413558006287,
          -0.7106682062149048,
          -0.9652963280677795,
          -0.40424787998199463,
          -1.020256757736206
         ]
        },
        {
         "marker": {
          "color": "rgba(0, 128, 128, 1.0)",
          "line": {
           "width": 1.3
          },
          "opacity": 0.8,
          "size": 12,
          "symbol": "circle"
         },
         "mode": "markers",
         "name": "Couple 4",
         "text": [
          "poli",
          "courtois",
          "bonjour",
          "merci",
          "pardon",
          "stp",
          "règles",
          "apprendre",
          "savoir-vivre",
          "savoir-être",
          "formule",
          "demander",
          "poli",
          "courtois",
          "bonjour",
          "merci",
          "pardon",
          "stp",
          "règles",
          "apprendre",
          "savoir-vivre",
          "savoir-être",
          "formule",
          "demander"
         ],
         "textfont": {
          "color": "#4D5663"
         },
         "type": "scatter",
         "x": [
          -1.5347859859466553,
          -1.6205836534500122,
          -1.2195085287094116,
          -1.5417544841766357,
          -1.6143815517425537,
          -1.2358639240264893,
          -1.9922517538070679,
          -1.6126948595046997,
          -1.343052864074707,
          -1.3090732097625732,
          -1.0613940954208374,
          -1.4676307439804077,
          -1.5347859859466553,
          -1.6205836534500122,
          -1.2195085287094116,
          -1.5417544841766357,
          -1.6143815517425537,
          -1.2358639240264893,
          -1.9922517538070679,
          -1.6126948595046997,
          -1.343052864074707,
          -1.3090732097625732,
          -1.0613940954208374,
          -1.4676307439804077
         ],
         "y": [
          -1.727620244026184,
          -1.6468257904052734,
          -2.1471967697143555,
          -1.8242257833480835,
          -1.6040328741073608,
          -2.071516275405884,
          -1.5698984861373901,
          -1.8558568954467773,
          -1.7995160818099976,
          -1.664145827293396,
          -1.8610233068466187,
          -2.0916037559509277,
          -1.727620244026184,
          -1.6468257904052734,
          -2.1471967697143555,
          -1.8242257833480835,
          -1.6040328741073608,
          -2.071516275405884,
          -1.5698984861373901,
          -1.8558568954467773,
          -1.7995160818099976,
          -1.664145827293396,
          -1.8610233068466187,
          -2.0916037559509277
         ]
        },
        {
         "marker": {
          "color": "rgba(255, 255, 51, 1.0)",
          "line": {
           "width": 1.3
          },
          "opacity": 0.8,
          "size": 12,
          "symbol": "circle"
         },
         "mode": "markers",
         "name": "Couple 6",
         "text": [
          "propre",
          "sale",
          "nettoyer",
          "vaisselle",
          "laver",
          "savon",
          "produit",
          "salissures",
          "traces",
          "net",
          "éclatant",
          "brillant",
          "propre",
          "sale",
          "nettoyer",
          "vaisselle",
          "laver",
          "savon",
          "produit",
          "salissures",
          "traces",
          "net",
          "éclatant",
          "brillant"
         ],
         "textfont": {
          "color": "#4D5663"
         },
         "type": "scatter",
         "x": [
          -1.0858445167541504,
          -0.915250301361084,
          -0.7528749108314514,
          -0.560208261013031,
          -0.34487834572792053,
          -0.8539394736289978,
          -0.9099940061569214,
          -0.19235406816005707,
          -0.6653579473495483,
          -0.5852632522583008,
          -0.9286797046661377,
          -0.6624197363853455,
          -1.0858445167541504,
          -0.915250301361084,
          -0.7528749108314514,
          -0.560208261013031,
          -0.34487834572792053,
          -0.8539394736289978,
          -0.9099940061569214,
          -0.19235406816005707,
          -0.6653579473495483,
          -0.5852632522583008,
          -0.9286797046661377,
          -0.6624197363853455
         ],
         "y": [
          0.04754623770713806,
          -0.3261476457118988,
          -0.3664204180240631,
          -0.10513965040445328,
          -0.371329665184021,
          -0.3458351492881775,
          0.22929735481739044,
          -0.26618024706840515,
          -0.4675544500350952,
          -0.41047409176826477,
          -0.11097725480794907,
          -0.13011665642261505,
          0.04754623770713806,
          -0.3261476457118988,
          -0.3664204180240631,
          -0.10513965040445328,
          -0.371329665184021,
          -0.3458351492881775,
          0.22929735481739044,
          -0.26618024706840515,
          -0.4675544500350952,
          -0.41047409176826477,
          -0.11097725480794907,
          -0.13011665642261505
         ]
        },
        {
         "marker": {
          "color": "rgba(128, 128, 0, 1.0)",
          "line": {
           "width": 1.3
          },
          "opacity": 0.8,
          "size": 12,
          "symbol": "circle"
         },
         "mode": "markers",
         "name": "Couple 8",
         "text": [
          "téléphone",
          "portable",
          "appel",
          "allo",
          "décrocher",
          "sms",
          "numéro",
          "mobile",
          "orange",
          "sfr",
          "free",
          "bouygues",
          "téléphone",
          "portable",
          "appel",
          "allo",
          "décrocher",
          "sms",
          "numéro",
          "mobile",
          "orange",
          "sfr",
          "free",
          "bouygues"
         ],
         "textfont": {
          "color": "#4D5663"
         },
         "type": "scatter",
         "x": [
          1.9467437267303467,
          1.5164189338684082,
          1.7084349393844604,
          2.6216113567352295,
          1.9930192232131958,
          1.8120954036712646,
          1.9650944471359253,
          1.9378739595413208,
          2.5577139854431152,
          1.8466789722442627,
          1.6882376670837402,
          1.9812138080596924,
          1.9467437267303467,
          1.5164189338684082,
          1.7084349393844604,
          2.6216113567352295,
          1.9930192232131958,
          1.8120954036712646,
          1.9650944471359253,
          1.9378739595413208,
          2.5577139854431152,
          1.8466789722442627,
          1.6882376670837402,
          1.9812138080596924
         ],
         "y": [
          0.10676052421331406,
          -0.3216230273246765,
          -0.25545036792755127,
          0.3671785295009613,
          -0.025349456816911697,
          -0.3004433214664459,
          0.09183346480131149,
          -0.6224721670150757,
          0.1990729570388794,
          -0.00791492685675621,
          -0.6317731142044067,
          -0.26037609577178955,
          0.10676052421331406,
          -0.3216230273246765,
          -0.25545036792755127,
          0.3671785295009613,
          -0.025349456816911697,
          -0.3004433214664459,
          0.09183346480131149,
          -0.6224721670150757,
          0.1990729570388794,
          -0.00791492685675621,
          -0.6317731142044067,
          -0.26037609577178955
         ]
        },
        {
         "marker": {
          "color": "rgba(251, 128, 114, 1.0)",
          "line": {
           "width": 1.3
          },
          "opacity": 0.8,
          "size": 12,
          "symbol": "circle"
         },
         "mode": "markers",
         "name": "Couple 9",
         "text": [
          "voiture",
          "camion",
          "moto",
          "véhicule",
          "conduire",
          "rouler",
          "conducteur",
          "volant",
          "chauffeur",
          "permis",
          "vitesse",
          "passager",
          "voiture",
          "camion",
          "moto",
          "véhicule"
         ],
         "textfont": {
          "color": "#4D5663"
         },
         "type": "scatter",
         "x": [
          2.6785342693328857,
          2.732440233230591,
          2.635810613632202,
          2.578577995300293,
          3.206507921218872,
          2.632701873779297,
          2.7712221145629883,
          2.8620316982269287,
          2.8108601570129395,
          3.1249654293060303,
          2.6621503829956055,
          2.7241599559783936,
          2.6785342693328857,
          2.732440233230591,
          2.635810613632202,
          2.578577995300293
         ],
         "y": [
          -1.5882614850997925,
          -1.4803333282470703,
          -1.6891268491744995,
          -1.822350263595581,
          -1.2447597980499268,
          -1.8640409708023071,
          -1.5046550035476685,
          -1.8116333484649658,
          -1.7140215635299683,
          -1.8924510478973389,
          -1.6388484239578247,
          -1.6912089586257935,
          -1.5882614850997925,
          -1.4803333282470703,
          -1.6891268491744995,
          -1.822350263595581
         ]
        },
        {
         "marker": {
          "color": "rgba(128, 177, 211, 1.0)",
          "line": {
           "width": 1.3
          },
          "opacity": 0.8,
          "size": 12,
          "symbol": "circle"
         },
         "mode": "markers",
         "name": "Couple 10",
         "text": [
          "grand",
          "petit",
          "taille",
          "géant",
          "nain",
          "s",
          "m",
          "l",
          "xl",
          "mesure",
          "énorme",
          "longueur"
         ],
         "textfont": {
          "color": "#4D5663"
         },
         "type": "scatter",
         "x": [
          0.8134226202964783,
          0.7725646495819092,
          0.7753801941871643,
          0.04478815197944641,
          0.2640513777732849,
          0.9405432343482971,
          0.19739213585853577,
          0.6560109853744507,
          0.45577770471572876,
          0.10924667119979858,
          0.0025566669646650553,
          0.4662187397480011
         ],
         "y": [
          1.012506365776062,
          0.9515732526779175,
          0.608002781867981,
          0.8478820323944092,
          0.47830215096473694,
          0.7199928164482117,
          1.1835123300552368,
          0.6076242327690125,
          1.0825726985931396,
          0.8463311791419983,
          1.1048356294631958,
          1.0054668188095093
         ]
        }
       ],
       "layout": {
        "legend": {
         "bgcolor": "#F5F6F9",
         "font": {
          "color": "#4D5663"
         }
        },
        "paper_bgcolor": "#F5F6F9",
        "plot_bgcolor": "#F5F6F9",
        "template": {
         "data": {
          "bar": [
           {
            "error_x": {
             "color": "#2a3f5f"
            },
            "error_y": {
             "color": "#2a3f5f"
            },
            "marker": {
             "line": {
              "color": "#E5ECF6",
              "width": 0.5
             }
            },
            "type": "bar"
           }
          ],
          "barpolar": [
           {
            "marker": {
             "line": {
              "color": "#E5ECF6",
              "width": 0.5
             }
            },
            "type": "barpolar"
           }
          ],
          "carpet": [
           {
            "aaxis": {
             "endlinecolor": "#2a3f5f",
             "gridcolor": "white",
             "linecolor": "white",
             "minorgridcolor": "white",
             "startlinecolor": "#2a3f5f"
            },
            "baxis": {
             "endlinecolor": "#2a3f5f",
             "gridcolor": "white",
             "linecolor": "white",
             "minorgridcolor": "white",
             "startlinecolor": "#2a3f5f"
            },
            "type": "carpet"
           }
          ],
          "choropleth": [
           {
            "colorbar": {
             "outlinewidth": 0,
             "ticks": ""
            },
            "type": "choropleth"
           }
          ],
          "contour": [
           {
            "colorbar": {
             "outlinewidth": 0,
             "ticks": ""
            },
            "colorscale": [
             [
              0,
              "#0d0887"
             ],
             [
              0.1111111111111111,
              "#46039f"
             ],
             [
              0.2222222222222222,
              "#7201a8"
             ],
             [
              0.3333333333333333,
              "#9c179e"
             ],
             [
              0.4444444444444444,
              "#bd3786"
             ],
             [
              0.5555555555555556,
              "#d8576b"
             ],
             [
              0.6666666666666666,
              "#ed7953"
             ],
             [
              0.7777777777777778,
              "#fb9f3a"
             ],
             [
              0.8888888888888888,
              "#fdca26"
             ],
             [
              1,
              "#f0f921"
             ]
            ],
            "type": "contour"
           }
          ],
          "contourcarpet": [
           {
            "colorbar": {
             "outlinewidth": 0,
             "ticks": ""
            },
            "type": "contourcarpet"
           }
          ],
          "heatmap": [
           {
            "colorbar": {
             "outlinewidth": 0,
             "ticks": ""
            },
            "colorscale": [
             [
              0,
              "#0d0887"
             ],
             [
              0.1111111111111111,
              "#46039f"
             ],
             [
              0.2222222222222222,
              "#7201a8"
             ],
             [
              0.3333333333333333,
              "#9c179e"
             ],
             [
              0.4444444444444444,
              "#bd3786"
             ],
             [
              0.5555555555555556,
              "#d8576b"
             ],
             [
              0.6666666666666666,
              "#ed7953"
             ],
             [
              0.7777777777777778,
              "#fb9f3a"
             ],
             [
              0.8888888888888888,
              "#fdca26"
             ],
             [
              1,
              "#f0f921"
             ]
            ],
            "type": "heatmap"
           }
          ],
          "heatmapgl": [
           {
            "colorbar": {
             "outlinewidth": 0,
             "ticks": ""
            },
            "colorscale": [
             [
              0,
              "#0d0887"
             ],
             [
              0.1111111111111111,
              "#46039f"
             ],
             [
              0.2222222222222222,
              "#7201a8"
             ],
             [
              0.3333333333333333,
              "#9c179e"
             ],
             [
              0.4444444444444444,
              "#bd3786"
             ],
             [
              0.5555555555555556,
              "#d8576b"
             ],
             [
              0.6666666666666666,
              "#ed7953"
             ],
             [
              0.7777777777777778,
              "#fb9f3a"
             ],
             [
              0.8888888888888888,
              "#fdca26"
             ],
             [
              1,
              "#f0f921"
             ]
            ],
            "type": "heatmapgl"
           }
          ],
          "histogram": [
           {
            "marker": {
             "colorbar": {
              "outlinewidth": 0,
              "ticks": ""
             }
            },
            "type": "histogram"
           }
          ],
          "histogram2d": [
           {
            "colorbar": {
             "outlinewidth": 0,
             "ticks": ""
            },
            "colorscale": [
             [
              0,
              "#0d0887"
             ],
             [
              0.1111111111111111,
              "#46039f"
             ],
             [
              0.2222222222222222,
              "#7201a8"
             ],
             [
              0.3333333333333333,
              "#9c179e"
             ],
             [
              0.4444444444444444,
              "#bd3786"
             ],
             [
              0.5555555555555556,
              "#d8576b"
             ],
             [
              0.6666666666666666,
              "#ed7953"
             ],
             [
              0.7777777777777778,
              "#fb9f3a"
             ],
             [
              0.8888888888888888,
              "#fdca26"
             ],
             [
              1,
              "#f0f921"
             ]
            ],
            "type": "histogram2d"
           }
          ],
          "histogram2dcontour": [
           {
            "colorbar": {
             "outlinewidth": 0,
             "ticks": ""
            },
            "colorscale": [
             [
              0,
              "#0d0887"
             ],
             [
              0.1111111111111111,
              "#46039f"
             ],
             [
              0.2222222222222222,
              "#7201a8"
             ],
             [
              0.3333333333333333,
              "#9c179e"
             ],
             [
              0.4444444444444444,
              "#bd3786"
             ],
             [
              0.5555555555555556,
              "#d8576b"
             ],
             [
              0.6666666666666666,
              "#ed7953"
             ],
             [
              0.7777777777777778,
              "#fb9f3a"
             ],
             [
              0.8888888888888888,
              "#fdca26"
             ],
             [
              1,
              "#f0f921"
             ]
            ],
            "type": "histogram2dcontour"
           }
          ],
          "mesh3d": [
           {
            "colorbar": {
             "outlinewidth": 0,
             "ticks": ""
            },
            "type": "mesh3d"
           }
          ],
          "parcoords": [
           {
            "line": {
             "colorbar": {
              "outlinewidth": 0,
              "ticks": ""
             }
            },
            "type": "parcoords"
           }
          ],
          "pie": [
           {
            "automargin": true,
            "type": "pie"
           }
          ],
          "scatter": [
           {
            "marker": {
             "colorbar": {
              "outlinewidth": 0,
              "ticks": ""
             }
            },
            "type": "scatter"
           }
          ],
          "scatter3d": [
           {
            "line": {
             "colorbar": {
              "outlinewidth": 0,
              "ticks": ""
             }
            },
            "marker": {
             "colorbar": {
              "outlinewidth": 0,
              "ticks": ""
             }
            },
            "type": "scatter3d"
           }
          ],
          "scattercarpet": [
           {
            "marker": {
             "colorbar": {
              "outlinewidth": 0,
              "ticks": ""
             }
            },
            "type": "scattercarpet"
           }
          ],
          "scattergeo": [
           {
            "marker": {
             "colorbar": {
              "outlinewidth": 0,
              "ticks": ""
             }
            },
            "type": "scattergeo"
           }
          ],
          "scattergl": [
           {
            "marker": {
             "colorbar": {
              "outlinewidth": 0,
              "ticks": ""
             }
            },
            "type": "scattergl"
           }
          ],
          "scattermapbox": [
           {
            "marker": {
             "colorbar": {
              "outlinewidth": 0,
              "ticks": ""
             }
            },
            "type": "scattermapbox"
           }
          ],
          "scatterpolar": [
           {
            "marker": {
             "colorbar": {
              "outlinewidth": 0,
              "ticks": ""
             }
            },
            "type": "scatterpolar"
           }
          ],
          "scatterpolargl": [
           {
            "marker": {
             "colorbar": {
              "outlinewidth": 0,
              "ticks": ""
             }
            },
            "type": "scatterpolargl"
           }
          ],
          "scatterternary": [
           {
            "marker": {
             "colorbar": {
              "outlinewidth": 0,
              "ticks": ""
             }
            },
            "type": "scatterternary"
           }
          ],
          "surface": [
           {
            "colorbar": {
             "outlinewidth": 0,
             "ticks": ""
            },
            "colorscale": [
             [
              0,
              "#0d0887"
             ],
             [
              0.1111111111111111,
              "#46039f"
             ],
             [
              0.2222222222222222,
              "#7201a8"
             ],
             [
              0.3333333333333333,
              "#9c179e"
             ],
             [
              0.4444444444444444,
              "#bd3786"
             ],
             [
              0.5555555555555556,
              "#d8576b"
             ],
             [
              0.6666666666666666,
              "#ed7953"
             ],
             [
              0.7777777777777778,
              "#fb9f3a"
             ],
             [
              0.8888888888888888,
              "#fdca26"
             ],
             [
              1,
              "#f0f921"
             ]
            ],
            "type": "surface"
           }
          ],
          "table": [
           {
            "cells": {
             "fill": {
              "color": "#EBF0F8"
             },
             "line": {
              "color": "white"
             }
            },
            "header": {
             "fill": {
              "color": "#C8D4E3"
             },
             "line": {
              "color": "white"
             }
            },
            "type": "table"
           }
          ]
         },
         "layout": {
          "annotationdefaults": {
           "arrowcolor": "#2a3f5f",
           "arrowhead": 0,
           "arrowwidth": 1
          },
          "coloraxis": {
           "colorbar": {
            "outlinewidth": 0,
            "ticks": ""
           }
          },
          "colorscale": {
           "diverging": [
            [
             0,
             "#8e0152"
            ],
            [
             0.1,
             "#c51b7d"
            ],
            [
             0.2,
             "#de77ae"
            ],
            [
             0.3,
             "#f1b6da"
            ],
            [
             0.4,
             "#fde0ef"
            ],
            [
             0.5,
             "#f7f7f7"
            ],
            [
             0.6,
             "#e6f5d0"
            ],
            [
             0.7,
             "#b8e186"
            ],
            [
             0.8,
             "#7fbc41"
            ],
            [
             0.9,
             "#4d9221"
            ],
            [
             1,
             "#276419"
            ]
           ],
           "sequential": [
            [
             0,
             "#0d0887"
            ],
            [
             0.1111111111111111,
             "#46039f"
            ],
            [
             0.2222222222222222,
             "#7201a8"
            ],
            [
             0.3333333333333333,
             "#9c179e"
            ],
            [
             0.4444444444444444,
             "#bd3786"
            ],
            [
             0.5555555555555556,
             "#d8576b"
            ],
            [
             0.6666666666666666,
             "#ed7953"
            ],
            [
             0.7777777777777778,
             "#fb9f3a"
            ],
            [
             0.8888888888888888,
             "#fdca26"
            ],
            [
             1,
             "#f0f921"
            ]
           ],
           "sequentialminus": [
            [
             0,
             "#0d0887"
            ],
            [
             0.1111111111111111,
             "#46039f"
            ],
            [
             0.2222222222222222,
             "#7201a8"
            ],
            [
             0.3333333333333333,
             "#9c179e"
            ],
            [
             0.4444444444444444,
             "#bd3786"
            ],
            [
             0.5555555555555556,
             "#d8576b"
            ],
            [
             0.6666666666666666,
             "#ed7953"
            ],
            [
             0.7777777777777778,
             "#fb9f3a"
            ],
            [
             0.8888888888888888,
             "#fdca26"
            ],
            [
             1,
             "#f0f921"
            ]
           ]
          },
          "colorway": [
           "#636efa",
           "#EF553B",
           "#00cc96",
           "#ab63fa",
           "#FFA15A",
           "#19d3f3",
           "#FF6692",
           "#B6E880",
           "#FF97FF",
           "#FECB52"
          ],
          "font": {
           "color": "#2a3f5f"
          },
          "geo": {
           "bgcolor": "white",
           "lakecolor": "white",
           "landcolor": "#E5ECF6",
           "showlakes": true,
           "showland": true,
           "subunitcolor": "white"
          },
          "hoverlabel": {
           "align": "left"
          },
          "hovermode": "closest",
          "mapbox": {
           "style": "light"
          },
          "paper_bgcolor": "white",
          "plot_bgcolor": "#E5ECF6",
          "polar": {
           "angularaxis": {
            "gridcolor": "white",
            "linecolor": "white",
            "ticks": ""
           },
           "bgcolor": "#E5ECF6",
           "radialaxis": {
            "gridcolor": "white",
            "linecolor": "white",
            "ticks": ""
           }
          },
          "scene": {
           "xaxis": {
            "backgroundcolor": "#E5ECF6",
            "gridcolor": "white",
            "gridwidth": 2,
            "linecolor": "white",
            "showbackground": true,
            "ticks": "",
            "zerolinecolor": "white"
           },
           "yaxis": {
            "backgroundcolor": "#E5ECF6",
            "gridcolor": "white",
            "gridwidth": 2,
            "linecolor": "white",
            "showbackground": true,
            "ticks": "",
            "zerolinecolor": "white"
           },
           "zaxis": {
            "backgroundcolor": "#E5ECF6",
            "gridcolor": "white",
            "gridwidth": 2,
            "linecolor": "white",
            "showbackground": true,
            "ticks": "",
            "zerolinecolor": "white"
           }
          },
          "shapedefaults": {
           "line": {
            "color": "#2a3f5f"
           }
          },
          "ternary": {
           "aaxis": {
            "gridcolor": "white",
            "linecolor": "white",
            "ticks": ""
           },
           "baxis": {
            "gridcolor": "white",
            "linecolor": "white",
            "ticks": ""
           },
           "bgcolor": "#E5ECF6",
           "caxis": {
            "gridcolor": "white",
            "linecolor": "white",
            "ticks": ""
           }
          },
          "title": {
           "x": 0.05
          },
          "xaxis": {
           "automargin": true,
           "gridcolor": "white",
           "linecolor": "white",
           "ticks": "",
           "title": {
            "standoff": 15
           },
           "zerolinecolor": "white",
           "zerolinewidth": 2
          },
          "yaxis": {
           "automargin": true,
           "gridcolor": "white",
           "linecolor": "white",
           "ticks": "",
           "title": {
            "standoff": 15
           },
           "zerolinecolor": "white",
           "zerolinewidth": 2
          }
         }
        },
        "title": {
         "font": {
          "color": "#4D5663"
         },
         "text": "ACP en 2 composantes"
        },
        "xaxis": {
         "gridcolor": "#E1E5ED",
         "showgrid": true,
         "tickfont": {
          "color": "#4D5663"
         },
         "title": {
          "font": {
           "color": "#4D5663"
          },
          "text": "Axe 1"
         },
         "zerolinecolor": "#E1E5ED"
        },
        "yaxis": {
         "gridcolor": "#E1E5ED",
         "showgrid": true,
         "tickfont": {
          "color": "#4D5663"
         },
         "title": {
          "font": {
           "color": "#4D5663"
          },
          "text": "Axe 2"
         },
         "zerolinecolor": "#E1E5ED"
        }
       }
      },
      "text/html": [
       "<div>\n",
       "        \n",
       "        \n",
       "            <div id=\"1869d57d-cab4-49f4-837a-e02ceb70c71a\" class=\"plotly-graph-div\" style=\"height:525px; width:100%;\"></div>\n",
       "            <script type=\"text/javascript\">\n",
       "                require([\"plotly\"], function(Plotly) {\n",
       "                    window.PLOTLYENV=window.PLOTLYENV || {};\n",
       "                    window.PLOTLYENV.BASE_URL='https://plot.ly';\n",
       "                    \n",
       "                if (document.getElementById(\"1869d57d-cab4-49f4-837a-e02ceb70c71a\")) {\n",
       "                    Plotly.newPlot(\n",
       "                        '1869d57d-cab4-49f4-837a-e02ceb70c71a',\n",
       "                        [{\"marker\": {\"color\": \"rgba(255, 153, 51, 1.0)\", \"line\": {\"width\": 1.3}, \"opacity\": 0.8, \"size\": 12, \"symbol\": \"circle\"}, \"mode\": \"markers\", \"name\": \"Couple 1\", \"text\": [\"homme\", \"femme\", \"sexe\", \"genre\", \"mari\", \"\\u00e9pouse\", \"famille\", \"in\\u00e9galit\\u00e9s\", \"enfant\", \"amour\", \"couple\", \"diff\\u00e9rence\", \"femme\", \"sexe\", \"genre\", \"mari\", \"\\u00e9pouse\", \"famille\", \"in\\u00e9galit\\u00e9s\", \"enfant\", \"amour\", \"couple\", \"diff\\u00e9rence\"], \"textfont\": {\"color\": \"#4D5663\"}, \"type\": \"scatter\", \"x\": [-0.46893757581710815, 0.4083027243614197, 0.4273519515991211, -0.22335855662822723, -0.0550406388938427, -0.06206275150179863, -0.34465593099594116, -0.6696863174438477, -0.1817386895418167, -0.006729787215590477, 0.014755559153854847, -0.2784453332424164, 0.4083027243614197, 0.4273519515991211, -0.22335855662822723, -0.0550406388938427, -0.06206275150179863, -0.34465593099594116, -0.6696863174438477, -0.1817386895418167, -0.006729787215590477, 0.014755559153854847, -0.2784453332424164], \"y\": [0.6819864511489868, 0.6059939861297607, 0.9357530474662781, 0.6482539772987366, 0.7338498830795288, 0.8469078540802002, 0.7179201245307922, 0.6915319561958313, 1.0066683292388916, 1.2384883165359497, 0.6870911121368408, 0.8188827633857727, 0.6059939861297607, 0.9357530474662781, 0.6482539772987366, 0.7338498830795288, 0.8469078540802002, 0.7179201245307922, 0.6915319561958313, 1.0066683292388916, 1.2384883165359497, 0.6870911121368408, 0.8188827633857727]}, {\"marker\": {\"color\": \"rgba(55, 128, 191, 1.0)\", \"line\": {\"width\": 1.3}, \"opacity\": 0.8, \"size\": 12, \"symbol\": \"circle\"}, \"mode\": \"markers\", \"name\": \"Couple 2\", \"text\": [\"chien\", \"chat\", \"animal\", \"domestique\", \"aboyer\", \"miauler\", \"labrador\", \"poil\", \"pattes\", \"spa\", \"ami\", \"chien\", \"chat\", \"animal\", \"domestique\", \"aboyer\", \"miauler\", \"labrador\", \"poil\", \"pattes\", \"spa\", \"ami\"], \"textfont\": {\"color\": \"#4D5663\"}, \"type\": \"scatter\", \"x\": [-1.162030816078186, -1.1516591310501099, -0.93651282787323, -0.9838403463363647, -1.151357650756836, -1.140541911125183, -1.0374513864517212, -1.5900424718856812, -1.1426688432693481, -1.1658916473388672, -0.9653457403182983, -1.162030816078186, -1.1516591310501099, -0.93651282787323, -0.9838403463363647, -1.151357650756836, -1.140541911125183, -1.0374513864517212, -1.5900424718856812, -1.1426688432693481, -1.1658916473388672, -0.9653457403182983], \"y\": [1.8593156337738037, 2.4944193363189697, 1.4703500270843506, 2.2133004665374756, 2.0806422233581543, 1.781696081161499, 2.0154073238372803, 1.9113407135009766, 2.098027229309082, 1.6280571222305298, 1.64901864528656, 1.8593156337738037, 2.4944193363189697, 1.4703500270843506, 2.2133004665374756, 2.0806422233581543, 1.781696081161499, 2.0154073238372803, 1.9113407135009766, 2.098027229309082, 1.6280571222305298, 1.64901864528656]}, {\"marker\": {\"color\": \"rgba(50, 171, 96, 1.0)\", \"line\": {\"width\": 1.3}, \"opacity\": 0.8, \"size\": 12, \"symbol\": \"circle\"}, \"mode\": \"markers\", \"name\": \"Couple 7\", \"text\": [\"maison\", \"canap\\u00e9\", \"fauteuil\", \"maison\", \"salon\", \"assis\", \"confortable\", \"sofa\", \"convertible\", \"cuir\", \"t\\u00e9l\\u00e9\", \"accoudoir\", \"plaid\", \"maison\", \"canap\\u00e9\", \"fauteuil\", \"maison\", \"salon\", \"assis\", \"confortable\", \"sofa\", \"convertible\", \"cuir\", \"t\\u00e9l\\u00e9\", \"accoudoir\", \"plaid\"], \"textfont\": {\"color\": \"#4D5663\"}, \"type\": \"scatter\", \"x\": [-0.2699906826019287, 1.374611496925354, 0.6810552477836609, -0.2699906826019287, 1.092555284500122, 1.263603925704956, 1.4249281883239746, 0.9820091128349304, 0.7264779210090637, 1.2077044248580933, 1.1991344690322876, 0.4732876121997833, 0.9578039646148682, -0.2699906826019287, 1.374611496925354, 0.6810552477836609, -0.2699906826019287, 1.092555284500122, 1.263603925704956, 1.4249281883239746, 0.9820091128349304, 0.7264779210090637, 1.2077044248580933, 1.1991344690322876, 0.4732876121997833, 0.9578039646148682], \"y\": [2.475518226623535, 1.7910364866256714, 1.755624532699585, 2.475518226623535, 1.8688963651657104, 1.724481463432312, 1.6831833124160767, 1.731237530708313, 1.8233658075332642, 1.9165915250778198, 1.8334012031555176, 1.9617782831192017, 1.820568561553955, 2.475518226623535, 1.7910364866256714, 1.755624532699585, 2.475518226623535, 1.8688963651657104, 1.724481463432312, 1.6831833124160767, 1.731237530708313, 1.8233658075332642, 1.9165915250778198, 1.8334012031555176, 1.9617782831192017, 1.820568561553955]}, {\"marker\": {\"color\": \"rgba(128, 0, 128, 1.0)\", \"line\": {\"width\": 1.3}, \"opacity\": 0.8, \"size\": 12, \"symbol\": \"circle\"}, \"mode\": \"markers\", \"name\": \"Couple 3\", \"text\": [\"vanille\", \"chocolat\", \"parfum\", \"go\\u00fbt\", \"fraise\", \"glace\", \"boule\", \"g\\u00e2teau\", \"bonbon\", \"blanc\", \"pr\\u00e9f\\u00e9rence\", \"vanille\", \"chocolat\", \"parfum\", \"go\\u00fbt\", \"fraise\", \"glace\", \"boule\", \"g\\u00e2teau\", \"bonbon\", \"blanc\", \"pr\\u00e9f\\u00e9rence\"], \"textfont\": {\"color\": \"#4D5663\"}, \"type\": \"scatter\", \"x\": [-0.3432161211967468, -0.06733553111553192, -0.6906415820121765, -0.18299633264541626, -0.16443374752998352, -0.6060751080513, -0.7212564945220947, -0.558005690574646, -0.1891363263130188, -0.03244051709771156, -0.33658161759376526, -0.3432161211967468, -0.06733553111553192, -0.6906415820121765, -0.18299633264541626, -0.16443374752998352, -0.6060751080513, -0.7212564945220947, -0.558005690574646, -0.1891363263130188, -0.03244051709771156, -0.33658161759376526], \"y\": [-1.0511348247528076, -0.7218008637428284, -0.5364629030227661, -1.0111829042434692, -0.7825576663017273, -0.9117037653923035, -1.433140754699707, -0.951957643032074, -0.9330018162727356, -0.6193938255310059, -0.870535671710968, -1.0511348247528076, -0.7218008637428284, -0.5364629030227661, -1.0111829042434692, -0.7825576663017273, -0.9117037653923035, -1.433140754699707, -0.951957643032074, -0.9330018162727356, -0.6193938255310059, -0.870535671710968]}, {\"marker\": {\"color\": \"rgba(219, 64, 82, 1.0)\", \"line\": {\"width\": 1.3}, \"opacity\": 0.8, \"size\": 12, \"symbol\": \"circle\"}, \"mode\": \"markers\", \"name\": \"Couple 5\", \"text\": [\"noir\", \"choqu\\u00e9\", \"horrifi\\u00e9\", \"peur\", \"terreur\", \"phobie\", \"clown\", \"noir\", \"araign\\u00e9e\", \"rat\", \"cri\", \"oh\", \"ah\", \"noir\", \"choqu\\u00e9\", \"horrifi\\u00e9\", \"peur\", \"terreur\", \"phobie\", \"clown\", \"noir\", \"araign\\u00e9e\", \"rat\", \"cri\", \"oh\", \"ah\"], \"textfont\": {\"color\": \"#4D5663\"}, \"type\": \"scatter\", \"x\": [-1.7222059965133667, -2.5983173847198486, -2.738948345184326, -2.3668465614318848, -2.0820353031158447, -2.4128971099853516, -2.307781934738159, -1.7222059965133667, -2.4122910499572754, -2.6309261322021484, -2.049771547317505, -2.198920965194702, -2.323359489440918, -1.7222059965133667, -2.5983173847198486, -2.738948345184326, -2.3668465614318848, -2.0820353031158447, -2.4128971099853516, -2.307781934738159, -1.7222059965133667, -2.4122910499572754, -2.6309261322021484, -2.049771547317505, -2.198920965194702, -2.323359489440918], \"y\": [-1.3326780796051025, -0.7800915837287903, -0.246183842420578, -0.7338599562644958, -0.8770862817764282, -0.842225193977356, -0.5737355947494507, -1.3326780796051025, -0.39378413558006287, -0.7106682062149048, -0.9652963280677795, -0.40424787998199463, -1.020256757736206, -1.3326780796051025, -0.7800915837287903, -0.246183842420578, -0.7338599562644958, -0.8770862817764282, -0.842225193977356, -0.5737355947494507, -1.3326780796051025, -0.39378413558006287, -0.7106682062149048, -0.9652963280677795, -0.40424787998199463, -1.020256757736206]}, {\"marker\": {\"color\": \"rgba(0, 128, 128, 1.0)\", \"line\": {\"width\": 1.3}, \"opacity\": 0.8, \"size\": 12, \"symbol\": \"circle\"}, \"mode\": \"markers\", \"name\": \"Couple 4\", \"text\": [\"poli\", \"courtois\", \"bonjour\", \"merci\", \"pardon\", \"stp\", \"r\\u00e8gles\", \"apprendre\", \"savoir-vivre\", \"savoir-\\u00eatre\", \"formule\", \"demander\", \"poli\", \"courtois\", \"bonjour\", \"merci\", \"pardon\", \"stp\", \"r\\u00e8gles\", \"apprendre\", \"savoir-vivre\", \"savoir-\\u00eatre\", \"formule\", \"demander\"], \"textfont\": {\"color\": \"#4D5663\"}, \"type\": \"scatter\", \"x\": [-1.5347859859466553, -1.6205836534500122, -1.2195085287094116, -1.5417544841766357, -1.6143815517425537, -1.2358639240264893, -1.9922517538070679, -1.6126948595046997, -1.343052864074707, -1.3090732097625732, -1.0613940954208374, -1.4676307439804077, -1.5347859859466553, -1.6205836534500122, -1.2195085287094116, -1.5417544841766357, -1.6143815517425537, -1.2358639240264893, -1.9922517538070679, -1.6126948595046997, -1.343052864074707, -1.3090732097625732, -1.0613940954208374, -1.4676307439804077], \"y\": [-1.727620244026184, -1.6468257904052734, -2.1471967697143555, -1.8242257833480835, -1.6040328741073608, -2.071516275405884, -1.5698984861373901, -1.8558568954467773, -1.7995160818099976, -1.664145827293396, -1.8610233068466187, -2.0916037559509277, -1.727620244026184, -1.6468257904052734, -2.1471967697143555, -1.8242257833480835, -1.6040328741073608, -2.071516275405884, -1.5698984861373901, -1.8558568954467773, -1.7995160818099976, -1.664145827293396, -1.8610233068466187, -2.0916037559509277]}, {\"marker\": {\"color\": \"rgba(255, 255, 51, 1.0)\", \"line\": {\"width\": 1.3}, \"opacity\": 0.8, \"size\": 12, \"symbol\": \"circle\"}, \"mode\": \"markers\", \"name\": \"Couple 6\", \"text\": [\"propre\", \"sale\", \"nettoyer\", \"vaisselle\", \"laver\", \"savon\", \"produit\", \"salissures\", \"traces\", \"net\", \"\\u00e9clatant\", \"brillant\", \"propre\", \"sale\", \"nettoyer\", \"vaisselle\", \"laver\", \"savon\", \"produit\", \"salissures\", \"traces\", \"net\", \"\\u00e9clatant\", \"brillant\"], \"textfont\": {\"color\": \"#4D5663\"}, \"type\": \"scatter\", \"x\": [-1.0858445167541504, -0.915250301361084, -0.7528749108314514, -0.560208261013031, -0.34487834572792053, -0.8539394736289978, -0.9099940061569214, -0.19235406816005707, -0.6653579473495483, -0.5852632522583008, -0.9286797046661377, -0.6624197363853455, -1.0858445167541504, -0.915250301361084, -0.7528749108314514, -0.560208261013031, -0.34487834572792053, -0.8539394736289978, -0.9099940061569214, -0.19235406816005707, -0.6653579473495483, -0.5852632522583008, -0.9286797046661377, -0.6624197363853455], \"y\": [0.04754623770713806, -0.3261476457118988, -0.3664204180240631, -0.10513965040445328, -0.371329665184021, -0.3458351492881775, 0.22929735481739044, -0.26618024706840515, -0.4675544500350952, -0.41047409176826477, -0.11097725480794907, -0.13011665642261505, 0.04754623770713806, -0.3261476457118988, -0.3664204180240631, -0.10513965040445328, -0.371329665184021, -0.3458351492881775, 0.22929735481739044, -0.26618024706840515, -0.4675544500350952, -0.41047409176826477, -0.11097725480794907, -0.13011665642261505]}, {\"marker\": {\"color\": \"rgba(128, 128, 0, 1.0)\", \"line\": {\"width\": 1.3}, \"opacity\": 0.8, \"size\": 12, \"symbol\": \"circle\"}, \"mode\": \"markers\", \"name\": \"Couple 8\", \"text\": [\"t\\u00e9l\\u00e9phone\", \"portable\", \"appel\", \"allo\", \"d\\u00e9crocher\", \"sms\", \"num\\u00e9ro\", \"mobile\", \"orange\", \"sfr\", \"free\", \"bouygues\", \"t\\u00e9l\\u00e9phone\", \"portable\", \"appel\", \"allo\", \"d\\u00e9crocher\", \"sms\", \"num\\u00e9ro\", \"mobile\", \"orange\", \"sfr\", \"free\", \"bouygues\"], \"textfont\": {\"color\": \"#4D5663\"}, \"type\": \"scatter\", \"x\": [1.9467437267303467, 1.5164189338684082, 1.7084349393844604, 2.6216113567352295, 1.9930192232131958, 1.8120954036712646, 1.9650944471359253, 1.9378739595413208, 2.5577139854431152, 1.8466789722442627, 1.6882376670837402, 1.9812138080596924, 1.9467437267303467, 1.5164189338684082, 1.7084349393844604, 2.6216113567352295, 1.9930192232131958, 1.8120954036712646, 1.9650944471359253, 1.9378739595413208, 2.5577139854431152, 1.8466789722442627, 1.6882376670837402, 1.9812138080596924], \"y\": [0.10676052421331406, -0.3216230273246765, -0.25545036792755127, 0.3671785295009613, -0.025349456816911697, -0.3004433214664459, 0.09183346480131149, -0.6224721670150757, 0.1990729570388794, -0.00791492685675621, -0.6317731142044067, -0.26037609577178955, 0.10676052421331406, -0.3216230273246765, -0.25545036792755127, 0.3671785295009613, -0.025349456816911697, -0.3004433214664459, 0.09183346480131149, -0.6224721670150757, 0.1990729570388794, -0.00791492685675621, -0.6317731142044067, -0.26037609577178955]}, {\"marker\": {\"color\": \"rgba(251, 128, 114, 1.0)\", \"line\": {\"width\": 1.3}, \"opacity\": 0.8, \"size\": 12, \"symbol\": \"circle\"}, \"mode\": \"markers\", \"name\": \"Couple 9\", \"text\": [\"voiture\", \"camion\", \"moto\", \"v\\u00e9hicule\", \"conduire\", \"rouler\", \"conducteur\", \"volant\", \"chauffeur\", \"permis\", \"vitesse\", \"passager\", \"voiture\", \"camion\", \"moto\", \"v\\u00e9hicule\"], \"textfont\": {\"color\": \"#4D5663\"}, \"type\": \"scatter\", \"x\": [2.6785342693328857, 2.732440233230591, 2.635810613632202, 2.578577995300293, 3.206507921218872, 2.632701873779297, 2.7712221145629883, 2.8620316982269287, 2.8108601570129395, 3.1249654293060303, 2.6621503829956055, 2.7241599559783936, 2.6785342693328857, 2.732440233230591, 2.635810613632202, 2.578577995300293], \"y\": [-1.5882614850997925, -1.4803333282470703, -1.6891268491744995, -1.822350263595581, -1.2447597980499268, -1.8640409708023071, -1.5046550035476685, -1.8116333484649658, -1.7140215635299683, -1.8924510478973389, -1.6388484239578247, -1.6912089586257935, -1.5882614850997925, -1.4803333282470703, -1.6891268491744995, -1.822350263595581]}, {\"marker\": {\"color\": \"rgba(128, 177, 211, 1.0)\", \"line\": {\"width\": 1.3}, \"opacity\": 0.8, \"size\": 12, \"symbol\": \"circle\"}, \"mode\": \"markers\", \"name\": \"Couple 10\", \"text\": [\"grand\", \"petit\", \"taille\", \"g\\u00e9ant\", \"nain\", \"s\", \"m\", \"l\", \"xl\", \"mesure\", \"\\u00e9norme\", \"longueur\"], \"textfont\": {\"color\": \"#4D5663\"}, \"type\": \"scatter\", \"x\": [0.8134226202964783, 0.7725646495819092, 0.7753801941871643, 0.04478815197944641, 0.2640513777732849, 0.9405432343482971, 0.19739213585853577, 0.6560109853744507, 0.45577770471572876, 0.10924667119979858, 0.0025566669646650553, 0.4662187397480011], \"y\": [1.012506365776062, 0.9515732526779175, 0.608002781867981, 0.8478820323944092, 0.47830215096473694, 0.7199928164482117, 1.1835123300552368, 0.6076242327690125, 1.0825726985931396, 0.8463311791419983, 1.1048356294631958, 1.0054668188095093]}],\n",
       "                        {\"legend\": {\"bgcolor\": \"#F5F6F9\", \"font\": {\"color\": \"#4D5663\"}}, \"paper_bgcolor\": \"#F5F6F9\", \"plot_bgcolor\": \"#F5F6F9\", \"template\": {\"data\": {\"bar\": [{\"error_x\": {\"color\": \"#2a3f5f\"}, \"error_y\": {\"color\": \"#2a3f5f\"}, \"marker\": {\"line\": {\"color\": \"#E5ECF6\", \"width\": 0.5}}, \"type\": \"bar\"}], \"barpolar\": [{\"marker\": {\"line\": {\"color\": \"#E5ECF6\", \"width\": 0.5}}, \"type\": \"barpolar\"}], \"carpet\": [{\"aaxis\": {\"endlinecolor\": \"#2a3f5f\", \"gridcolor\": \"white\", \"linecolor\": \"white\", \"minorgridcolor\": \"white\", \"startlinecolor\": \"#2a3f5f\"}, \"baxis\": {\"endlinecolor\": \"#2a3f5f\", \"gridcolor\": \"white\", \"linecolor\": \"white\", \"minorgridcolor\": \"white\", \"startlinecolor\": \"#2a3f5f\"}, \"type\": \"carpet\"}], \"choropleth\": [{\"colorbar\": {\"outlinewidth\": 0, \"ticks\": \"\"}, \"type\": \"choropleth\"}], \"contour\": [{\"colorbar\": {\"outlinewidth\": 0, \"ticks\": \"\"}, \"colorscale\": [[0.0, \"#0d0887\"], [0.1111111111111111, \"#46039f\"], [0.2222222222222222, \"#7201a8\"], [0.3333333333333333, \"#9c179e\"], [0.4444444444444444, \"#bd3786\"], [0.5555555555555556, \"#d8576b\"], [0.6666666666666666, \"#ed7953\"], [0.7777777777777778, \"#fb9f3a\"], [0.8888888888888888, \"#fdca26\"], [1.0, \"#f0f921\"]], \"type\": \"contour\"}], \"contourcarpet\": [{\"colorbar\": {\"outlinewidth\": 0, \"ticks\": \"\"}, \"type\": \"contourcarpet\"}], \"heatmap\": [{\"colorbar\": {\"outlinewidth\": 0, \"ticks\": \"\"}, \"colorscale\": [[0.0, \"#0d0887\"], [0.1111111111111111, \"#46039f\"], [0.2222222222222222, \"#7201a8\"], [0.3333333333333333, \"#9c179e\"], [0.4444444444444444, \"#bd3786\"], [0.5555555555555556, \"#d8576b\"], [0.6666666666666666, \"#ed7953\"], [0.7777777777777778, \"#fb9f3a\"], [0.8888888888888888, \"#fdca26\"], [1.0, \"#f0f921\"]], \"type\": \"heatmap\"}], \"heatmapgl\": [{\"colorbar\": {\"outlinewidth\": 0, \"ticks\": \"\"}, \"colorscale\": [[0.0, \"#0d0887\"], [0.1111111111111111, \"#46039f\"], [0.2222222222222222, \"#7201a8\"], [0.3333333333333333, \"#9c179e\"], [0.4444444444444444, \"#bd3786\"], [0.5555555555555556, \"#d8576b\"], [0.6666666666666666, \"#ed7953\"], [0.7777777777777778, \"#fb9f3a\"], [0.8888888888888888, \"#fdca26\"], [1.0, \"#f0f921\"]], \"type\": \"heatmapgl\"}], \"histogram\": [{\"marker\": {\"colorbar\": {\"outlinewidth\": 0, \"ticks\": \"\"}}, \"type\": \"histogram\"}], \"histogram2d\": [{\"colorbar\": {\"outlinewidth\": 0, \"ticks\": \"\"}, \"colorscale\": [[0.0, \"#0d0887\"], [0.1111111111111111, \"#46039f\"], [0.2222222222222222, \"#7201a8\"], [0.3333333333333333, \"#9c179e\"], [0.4444444444444444, \"#bd3786\"], [0.5555555555555556, \"#d8576b\"], [0.6666666666666666, \"#ed7953\"], [0.7777777777777778, \"#fb9f3a\"], [0.8888888888888888, \"#fdca26\"], [1.0, \"#f0f921\"]], \"type\": \"histogram2d\"}], \"histogram2dcontour\": [{\"colorbar\": {\"outlinewidth\": 0, \"ticks\": \"\"}, \"colorscale\": [[0.0, \"#0d0887\"], [0.1111111111111111, \"#46039f\"], [0.2222222222222222, \"#7201a8\"], [0.3333333333333333, \"#9c179e\"], [0.4444444444444444, \"#bd3786\"], [0.5555555555555556, \"#d8576b\"], [0.6666666666666666, \"#ed7953\"], [0.7777777777777778, \"#fb9f3a\"], [0.8888888888888888, \"#fdca26\"], [1.0, \"#f0f921\"]], \"type\": \"histogram2dcontour\"}], \"mesh3d\": [{\"colorbar\": {\"outlinewidth\": 0, \"ticks\": \"\"}, \"type\": \"mesh3d\"}], \"parcoords\": [{\"line\": {\"colorbar\": {\"outlinewidth\": 0, \"ticks\": \"\"}}, \"type\": \"parcoords\"}], \"pie\": [{\"automargin\": true, \"type\": \"pie\"}], \"scatter\": [{\"marker\": {\"colorbar\": {\"outlinewidth\": 0, \"ticks\": \"\"}}, \"type\": \"scatter\"}], \"scatter3d\": [{\"line\": {\"colorbar\": {\"outlinewidth\": 0, \"ticks\": \"\"}}, \"marker\": {\"colorbar\": {\"outlinewidth\": 0, \"ticks\": \"\"}}, \"type\": \"scatter3d\"}], \"scattercarpet\": [{\"marker\": {\"colorbar\": {\"outlinewidth\": 0, \"ticks\": \"\"}}, \"type\": \"scattercarpet\"}], \"scattergeo\": [{\"marker\": {\"colorbar\": {\"outlinewidth\": 0, \"ticks\": \"\"}}, \"type\": \"scattergeo\"}], \"scattergl\": [{\"marker\": {\"colorbar\": {\"outlinewidth\": 0, \"ticks\": \"\"}}, \"type\": \"scattergl\"}], \"scattermapbox\": [{\"marker\": {\"colorbar\": {\"outlinewidth\": 0, \"ticks\": \"\"}}, \"type\": \"scattermapbox\"}], \"scatterpolar\": [{\"marker\": {\"colorbar\": {\"outlinewidth\": 0, \"ticks\": \"\"}}, \"type\": \"scatterpolar\"}], \"scatterpolargl\": [{\"marker\": {\"colorbar\": {\"outlinewidth\": 0, \"ticks\": \"\"}}, \"type\": \"scatterpolargl\"}], \"scatterternary\": [{\"marker\": {\"colorbar\": {\"outlinewidth\": 0, \"ticks\": \"\"}}, \"type\": \"scatterternary\"}], \"surface\": [{\"colorbar\": {\"outlinewidth\": 0, \"ticks\": \"\"}, \"colorscale\": [[0.0, \"#0d0887\"], [0.1111111111111111, \"#46039f\"], [0.2222222222222222, \"#7201a8\"], [0.3333333333333333, \"#9c179e\"], [0.4444444444444444, \"#bd3786\"], [0.5555555555555556, \"#d8576b\"], [0.6666666666666666, \"#ed7953\"], [0.7777777777777778, \"#fb9f3a\"], [0.8888888888888888, \"#fdca26\"], [1.0, \"#f0f921\"]], \"type\": \"surface\"}], \"table\": [{\"cells\": {\"fill\": {\"color\": \"#EBF0F8\"}, \"line\": {\"color\": \"white\"}}, \"header\": {\"fill\": {\"color\": \"#C8D4E3\"}, \"line\": {\"color\": \"white\"}}, \"type\": \"table\"}]}, \"layout\": {\"annotationdefaults\": {\"arrowcolor\": \"#2a3f5f\", \"arrowhead\": 0, \"arrowwidth\": 1}, \"coloraxis\": {\"colorbar\": {\"outlinewidth\": 0, \"ticks\": \"\"}}, \"colorscale\": {\"diverging\": [[0, \"#8e0152\"], [0.1, \"#c51b7d\"], [0.2, \"#de77ae\"], [0.3, \"#f1b6da\"], [0.4, \"#fde0ef\"], [0.5, \"#f7f7f7\"], [0.6, \"#e6f5d0\"], [0.7, \"#b8e186\"], [0.8, \"#7fbc41\"], [0.9, \"#4d9221\"], [1, \"#276419\"]], \"sequential\": [[0.0, \"#0d0887\"], [0.1111111111111111, \"#46039f\"], [0.2222222222222222, \"#7201a8\"], [0.3333333333333333, \"#9c179e\"], [0.4444444444444444, \"#bd3786\"], [0.5555555555555556, \"#d8576b\"], [0.6666666666666666, \"#ed7953\"], [0.7777777777777778, \"#fb9f3a\"], [0.8888888888888888, \"#fdca26\"], [1.0, \"#f0f921\"]], \"sequentialminus\": [[0.0, \"#0d0887\"], [0.1111111111111111, \"#46039f\"], [0.2222222222222222, \"#7201a8\"], [0.3333333333333333, \"#9c179e\"], [0.4444444444444444, \"#bd3786\"], [0.5555555555555556, \"#d8576b\"], [0.6666666666666666, \"#ed7953\"], [0.7777777777777778, \"#fb9f3a\"], [0.8888888888888888, \"#fdca26\"], [1.0, \"#f0f921\"]]}, \"colorway\": [\"#636efa\", \"#EF553B\", \"#00cc96\", \"#ab63fa\", \"#FFA15A\", \"#19d3f3\", \"#FF6692\", \"#B6E880\", \"#FF97FF\", \"#FECB52\"], \"font\": {\"color\": \"#2a3f5f\"}, \"geo\": {\"bgcolor\": \"white\", \"lakecolor\": \"white\", \"landcolor\": \"#E5ECF6\", \"showlakes\": true, \"showland\": true, \"subunitcolor\": \"white\"}, \"hoverlabel\": {\"align\": \"left\"}, \"hovermode\": \"closest\", \"mapbox\": {\"style\": \"light\"}, \"paper_bgcolor\": \"white\", \"plot_bgcolor\": \"#E5ECF6\", \"polar\": {\"angularaxis\": {\"gridcolor\": \"white\", \"linecolor\": \"white\", \"ticks\": \"\"}, \"bgcolor\": \"#E5ECF6\", \"radialaxis\": {\"gridcolor\": \"white\", \"linecolor\": \"white\", \"ticks\": \"\"}}, \"scene\": {\"xaxis\": {\"backgroundcolor\": \"#E5ECF6\", \"gridcolor\": \"white\", \"gridwidth\": 2, \"linecolor\": \"white\", \"showbackground\": true, \"ticks\": \"\", \"zerolinecolor\": \"white\"}, \"yaxis\": {\"backgroundcolor\": \"#E5ECF6\", \"gridcolor\": \"white\", \"gridwidth\": 2, \"linecolor\": \"white\", \"showbackground\": true, \"ticks\": \"\", \"zerolinecolor\": \"white\"}, \"zaxis\": {\"backgroundcolor\": \"#E5ECF6\", \"gridcolor\": \"white\", \"gridwidth\": 2, \"linecolor\": \"white\", \"showbackground\": true, \"ticks\": \"\", \"zerolinecolor\": \"white\"}}, \"shapedefaults\": {\"line\": {\"color\": \"#2a3f5f\"}}, \"ternary\": {\"aaxis\": {\"gridcolor\": \"white\", \"linecolor\": \"white\", \"ticks\": \"\"}, \"baxis\": {\"gridcolor\": \"white\", \"linecolor\": \"white\", \"ticks\": \"\"}, \"bgcolor\": \"#E5ECF6\", \"caxis\": {\"gridcolor\": \"white\", \"linecolor\": \"white\", \"ticks\": \"\"}}, \"title\": {\"x\": 0.05}, \"xaxis\": {\"automargin\": true, \"gridcolor\": \"white\", \"linecolor\": \"white\", \"ticks\": \"\", \"title\": {\"standoff\": 15}, \"zerolinecolor\": \"white\", \"zerolinewidth\": 2}, \"yaxis\": {\"automargin\": true, \"gridcolor\": \"white\", \"linecolor\": \"white\", \"ticks\": \"\", \"title\": {\"standoff\": 15}, \"zerolinecolor\": \"white\", \"zerolinewidth\": 2}}}, \"title\": {\"font\": {\"color\": \"#4D5663\"}, \"text\": \"ACP en 2 composantes\"}, \"xaxis\": {\"gridcolor\": \"#E1E5ED\", \"showgrid\": true, \"tickfont\": {\"color\": \"#4D5663\"}, \"title\": {\"font\": {\"color\": \"#4D5663\"}, \"text\": \"Axe 1\"}, \"zerolinecolor\": \"#E1E5ED\"}, \"yaxis\": {\"gridcolor\": \"#E1E5ED\", \"showgrid\": true, \"tickfont\": {\"color\": \"#4D5663\"}, \"title\": {\"font\": {\"color\": \"#4D5663\"}, \"text\": \"Axe 2\"}, \"zerolinecolor\": \"#E1E5ED\"}},\n",
       "                        {\"showLink\": true, \"linkText\": \"Export to plot.ly\", \"plotlyServerURL\": \"https://plot.ly\", \"responsive\": true}\n",
       "                    ).then(function(){\n",
       "                            \n",
       "var gd = document.getElementById('1869d57d-cab4-49f4-837a-e02ceb70c71a');\n",
       "var x = new MutationObserver(function (mutations, observer) {{\n",
       "        var display = window.getComputedStyle(gd).display;\n",
       "        if (!display || display === 'none') {{\n",
       "            console.log([gd, 'removed!']);\n",
       "            Plotly.purge(gd);\n",
       "            observer.disconnect();\n",
       "        }}\n",
       "}});\n",
       "\n",
       "// Listen for the removal of the full notebook cells\n",
       "var notebookContainer = gd.closest('#notebook-container');\n",
       "if (notebookContainer) {{\n",
       "    x.observe(notebookContainer, {childList: true});\n",
       "}}\n",
       "\n",
       "// Listen for the clearing of the current output cell\n",
       "var outputEl = gd.closest('.output');\n",
       "if (outputEl) {{\n",
       "    x.observe(outputEl, {childList: true});\n",
       "}}\n",
       "\n",
       "                        })\n",
       "                };\n",
       "                });\n",
       "            </script>\n",
       "        </div>"
      ]
     },
     "metadata": {},
     "output_type": "display_data"
    }
   ],
   "source": [
    "# Représentation interactive \n",
    "\n",
    "import plotly\n",
    "import plotly.graph_objs as go\n",
    "from plotly.offline import download_plotlyjs, init_notebook_mode, plot, iplot\n",
    "init_notebook_mode(connected=True)\n",
    "\n",
    "import cufflinks as cf\n",
    "cf.go_offline()\n",
    "cf.set_config_file(offline=False, world_readable=True)\n",
    "\n",
    "#Travailler avec sous-table sinon trop lourd\n",
    "subFinalDf = pd.concat([finalDf[(finalDf['label'] != \"Autre\")],finalDf.iloc[1:100:]],  axis = 0)\n",
    "\n",
    "\n",
    "subFinalDf.iplot(kind='scatter',\n",
    "              mode='markers',\n",
    "              x='Axe 1',\n",
    "              y='Axe 2',\n",
    "              categories='label',\n",
    "              text='mot',\n",
    "              xTitle='Axe 1',\n",
    "              yTitle='Axe 2',\n",
    "              title='ACP en 2 composantes',\n",
    "              filename='cufflinks/simple-scatter')"
   ]
  },
  {
   "cell_type": "markdown",
   "metadata": {},
   "source": [
    "### T-SNE"
   ]
  },
  {
   "cell_type": "code",
   "execution_count": 30,
   "metadata": {},
   "outputs": [],
   "source": [
    "import matplotlib.pyplot as plt\n",
    "import seaborn as sns\n",
    "%matplotlib inline\n",
    "import pandas as pd\n",
    "\n",
    "liste2 = [\"homme\",\"femme\",\"sexe\",\"genre\",\"mari\",\"épouse\",\"famille\",\"inégalités\",\"enfant\",\"amour\",\"couple\",\"différence\",                  \n",
    "\"chien\",\"chat\",\"animal\",\"domestique\",\"maison\",\"aboyer\",\"miauler\",\"labrador\",\"poil\",\"pattes\",\"spa\",\"ami\",\n",
    "\"vanille\",\"chocolat\",\"parfum\",\"goût\",\"fraise\",\"glace\",\"boule\",\"gâteau\",\"bonbon\",\"blanc\",\"noir\",\"préférence\",\n",
    "\"poli\",\"courtois\",\"bonjour\",\"merci\",\"pardon\",\"stp\",\"règles\",\"apprendre\",\"savoir-vivre\",\"savoir-être\",\"formule\",\"demander\",\n",
    "\"choqué\",\"horrifié\",\"peur\",\"terreur\",\"phobie\",\"clown\",\"noir\",\"araignée\",\"rat\",\"cri\",\"oh\",\"ah\",\n",
    "\"propre\",\"sale\",\"nettoyer\",\"vaisselle\",\"laver\",\"savon\",\"produit\",\"salissures\",\"traces\",\"net\",\"éclatant\",\"brillant\",\n",
    "\"canapé\",\"fauteuil\",\"maison\",\"salon\",\"assis\",\"confortable\",\"sofa\",\"convertible\",\"cuir\",\"télé\",\"accoudoir\",\"plaid\",\n",
    "\"téléphone\",\"portable\",\"appel\",\"allo\",\"décrocher\",\"sms\",\"numéro\",\"mobile\",\"orange\",\"sfr\",\"free\",\"bouygues\",\n",
    "\"voiture\",\"camion\",\"moto\",\"véhicule\",\"conduire\",\"rouler\",\"conducteur\",\"volant\",\"chauffeur\",\"permis\",\"vitesse\",\"passager\",\n",
    "\"grand\",\"petit\",\"taille\",\"géant\",\"nain\",\"s\",\"m\",\"l\",\"xl\",\"mesure\",\"énorme\",\"longueur\"\n",
    "]\n",
    "\n",
    "df_res2 = pd.DataFrame.from_dict(mot_poids).transpose()\n",
    "df_res2 = df_res2.loc[liste2]\n",
    "\n",
    "df_res2['label'] = 'Autre' \n",
    "\n",
    "df_res2.loc[\n",
    "    [\"homme\",\"femme\",\"sexe\",\"genre\",\"mari\",\"épouse\",\"famille\",\"inégalités\",\"enfant\",\"amour\",\"couple\",\"différence\"],\n",
    "    'label'] = \"Groupe 1\"\n",
    "df_res2.loc[\n",
    "    [\"chien\",\"chat\",\"animal\",\"domestique\",\"maison\",\"aboyer\",\"miauler\",\"labrador\",\"poil\",\"pattes\",\"spa\",\"ami\"],\n",
    "    'label'] = \"Groupe 2\"\n",
    "df_res2.loc[\n",
    "    [\"vanille\",\"chocolat\",\"parfum\",\"goût\",\"fraise\",\"glace\",\"boule\",\"gâteau\",\"bonbon\",\"blanc\",\"noir\",\"préférence\"],\n",
    "    'label'] = \"Groupe 3\"\n",
    "df_res2.loc[\n",
    "    [\"poli\",\"courtois\",\"bonjour\",\"merci\",\"pardon\",\"stp\",\"règles\",\"apprendre\",\"savoir-vivre\",\"savoir-être\",\"formule\",\"demander\"],\n",
    "    'label'] = \"Groupe 4\"\n",
    "df_res2.loc[\n",
    "    [\"choqué\",\"horrifié\",\"peur\",\"terreur\",\"phobie\",\"clown\",\"noir\",\"araignée\",\"rat\",\"cri\",\"oh\",\"ah\"],\n",
    "    'label'] = \"Groupe 5\"\n",
    "df_res2.loc[\n",
    "    [\"propre\",\"sale\",\"nettoyer\",\"vaisselle\",\"laver\",\"savon\",\"produit\",\"salissures\",\"traces\",\"net\",\"éclatant\",\"brillant\"],\n",
    "    'label'] = \"Groupe 6\"\n",
    "df_res2.loc[\n",
    "    [\"canapé\",\"fauteuil\",\"maison\",\"salon\",\"assis\",\"confortable\",\"sofa\",\"convertible\",\"cuir\",\"télé\",\"accoudoir\",\"plaid\"],\n",
    "    'label'] = \"Groupe 7\"\n",
    "df_res2.loc[\n",
    "    [\"téléphone\",\"portable\",\"appel\",\"allo\",\"décrocher\",\"sms\",\"numéro\",\"mobile\",\"orange\",\"sfr\",\"free\",\"bouygues\"],\n",
    "    'label'] = \"Groupe 8\"\n",
    "df_res2.loc[\n",
    "    [\"voiture\",\"camion\",\"moto\",\"véhicule\",\"conduire\",\"rouler\",\"conducteur\",\"volant\",\"chauffeur\",\"permis\",\"vitesse\",\"passager\"],\n",
    "    'label'] = \"Groupe 9\"\n",
    "df_res2.loc[\n",
    "    [\"grand\",\"petit\",\"taille\",\"géant\",\"nain\",\"s\",\"m\",\"l\",\"xl\",\"mesure\",\"énorme\",\"longueur\"],\n",
    "    'label'] = \"Groupe 10\"\n",
    "\n",
    "from sklearn.preprocessing import StandardScaler\n",
    "features = [0, 1, 2, 3, 4, 5, 6, 7,8,9]\n",
    "# Separating out the features\n",
    "data_x = df_res2.loc[:, features].values\n",
    "# Separating out the target\n",
    "data_y = df_res2.loc[:,['label']].values\n",
    "\n",
    "from sklearn.manifold import TSNE\n",
    "tsne = TSNE(n_components=2, random_state=0)\n",
    "tsne_obj= tsne.fit_transform(data_x)"
   ]
  },
  {
   "cell_type": "code",
   "execution_count": 31,
   "metadata": {},
   "outputs": [
    {
     "data": {
      "text/plain": [
       "<matplotlib.axes._subplots.AxesSubplot at 0x2d6eb585a20>"
      ]
     },
     "execution_count": 31,
     "metadata": {},
     "output_type": "execute_result"
    },
    {
     "data": {
      "image/png": "[encoded data removed]",
      "text/plain": [
       "<Figure size 432x288 with 1 Axes>"
      ]
     },
     "metadata": {
      "needs_background": "light"
     },
     "output_type": "display_data"
    }
   ],
   "source": [
    "test_features =[\"Groupe 1\",\"Groupe 1\",\"Groupe 1\",\"Groupe 1\",\"Groupe 1\",\"Groupe 1\",\"Groupe 1\",\"Groupe 1\",\"Groupe 1\",\"Groupe 1\",\"Groupe 1\",\"Groupe 1\",\n",
    "                 \"Groupe 2\",\"Groupe 2\",\"Groupe 2\",\"Groupe 2\",\"Groupe 2\",\"Groupe 2\",\"Groupe 2\",\"Groupe 2\",\"Groupe 2\",\"Groupe 2\",\"Groupe 2\",\"Groupe 2\",\n",
    "                 \"Groupe 3\",\"Groupe 3\",\"Groupe 3\",\"Groupe 3\",\"Groupe 3\",\"Groupe 3\",\"Groupe 3\",\"Groupe 3\",\"Groupe 3\",\"Groupe 3\",\"Groupe 3\",\"Groupe 3\",\n",
    "                 \"Groupe 4\",\"Groupe 4\",\"Groupe 4\",\"Groupe 4\",\"Groupe 4\",\"Groupe 4\",\"Groupe 4\",\"Groupe 4\",\"Groupe 4\",\"Groupe 4\",\"Groupe 4\",\"Groupe 4\",\n",
    "                 \"Groupe 5\",\"Groupe 5\",\"Groupe 5\",\"Groupe 5\",\"Groupe 5\",\"Groupe 5\",\"Groupe 5\",\"Groupe 5\",\"Groupe 5\",\"Groupe 5\",\"Groupe 5\",\"Groupe 5\",\n",
    "                 \"Groupe 6\",\"Groupe 6\",\"Groupe 6\",\"Groupe 6\",\"Groupe 6\",\"Groupe 6\",\"Groupe 6\",\"Groupe 6\",\"Groupe 6\",\"Groupe 6\",\"Groupe 6\",\"Groupe 6\",\n",
    "                 \"Groupe 7\",\"Groupe 7\",\"Groupe 7\",\"Groupe 7\",\"Groupe 7\",\"Groupe 7\",\"Groupe 7\",\"Groupe 7\",\"Groupe 7\",\"Groupe 7\",\"Groupe 7\",\"Groupe 7\",\n",
    "                 \"Groupe 8\",\"Groupe 8\",\"Groupe 8\",\"Groupe 8\",\"Groupe 8\",\"Groupe 8\",\"Groupe 8\",\"Groupe 8\",\"Groupe 8\",\"Groupe 8\",\"Groupe 8\",\"Groupe 8\",\n",
    "                 \"Groupe 9\",\"Groupe 9\",\"Groupe 9\",\"Groupe 9\",\"Groupe 9\",\"Groupe 9\",\"Groupe 9\",\"Groupe 9\",\"Groupe 9\",\"Groupe 9\",\"Groupe 9\",\"Groupe 9\",\n",
    "                 \"Groupe 10\",\"Groupe 10\",\"Groupe 10\",\"Groupe 10\",\"Groupe 10\",\"Groupe 10\",\"Groupe 10\",\"Groupe 10\",\"Groupe 10\",\"Groupe 10\",\"Groupe 10\",\"Groupe 10\"          \n",
    "                ]\n",
    "tsne_df = pd.DataFrame({'Axe 1':tsne_obj[:,0],\n",
    "                        'Axe 2':tsne_obj[:,1],\n",
    "                       'label':test_features})\n",
    "sns.scatterplot(x=\"Axe 1\", y=\"Axe 2\",\n",
    "              data=tsne_df)"
   ]
  },
  {
   "cell_type": "code",
   "execution_count": 32,
   "metadata": {},
   "outputs": [
    {
     "data": {
      "image/png": "[encoded data removed]",
      "text/plain": [
       "<Figure size 432x288 with 1 Axes>"
      ]
     },
     "metadata": {
      "needs_background": "light"
     },
     "output_type": "display_data"
    }
   ],
   "source": [
    "sns.scatterplot(x=\"Axe 1\", y=\"Axe 2\",\n",
    "              hue=\"label\",\n",
    "              palette=['purple','red',\"blue\",\"yellow\",\"black\",\"gray\",\"pink\",\"orange\",\"green\",\"darkgreen\"],\n",
    "              legend='full',\n",
    "              data=tsne_df);"
   ]
  },
  {
   "cell_type": "code",
   "execution_count": 33,
   "metadata": {},
   "outputs": [
    {
     "data": {
      "text/html": [
       "<div>\n",
       "<style scoped>\n",
       "    .dataframe tbody tr th:only-of-type {\n",
       "        vertical-align: middle;\n",
       "    }\n",
       "\n",
       "    .dataframe tbody tr th {\n",
       "        vertical-align: top;\n",
       "    }\n",
       "\n",
       "    .dataframe thead th {\n",
       "        text-align: right;\n",
       "    }\n",
       "</style>\n",
       "<table border=\"1\" class=\"dataframe\">\n",
       "  <thead>\n",
       "    <tr style=\"text-align: right;\">\n",
       "      <th></th>\n",
       "      <th>Axe 1</th>\n",
       "      <th>Axe 2</th>\n",
       "      <th>label</th>\n",
       "    </tr>\n",
       "  </thead>\n",
       "  <tbody>\n",
       "    <tr>\n",
       "      <th>0</th>\n",
       "      <td>-2.004630</td>\n",
       "      <td>3.662395</td>\n",
       "      <td>Couple 1</td>\n",
       "    </tr>\n",
       "    <tr>\n",
       "      <th>1</th>\n",
       "      <td>-1.790817</td>\n",
       "      <td>3.143513</td>\n",
       "      <td>Couple 1</td>\n",
       "    </tr>\n",
       "    <tr>\n",
       "      <th>2</th>\n",
       "      <td>-1.988260</td>\n",
       "      <td>3.298735</td>\n",
       "      <td>Couple 1</td>\n",
       "    </tr>\n",
       "    <tr>\n",
       "      <th>3</th>\n",
       "      <td>-1.739879</td>\n",
       "      <td>3.389087</td>\n",
       "      <td>Couple 1</td>\n",
       "    </tr>\n",
       "    <tr>\n",
       "      <th>4</th>\n",
       "      <td>-2.175716</td>\n",
       "      <td>3.438566</td>\n",
       "      <td>Couple 1</td>\n",
       "    </tr>\n",
       "    <tr>\n",
       "      <th>5</th>\n",
       "      <td>-1.945763</td>\n",
       "      <td>3.367712</td>\n",
       "      <td>Couple 1</td>\n",
       "    </tr>\n",
       "    <tr>\n",
       "      <th>6</th>\n",
       "      <td>-1.791919</td>\n",
       "      <td>3.536638</td>\n",
       "      <td>Couple 1</td>\n",
       "    </tr>\n",
       "    <tr>\n",
       "      <th>7</th>\n",
       "      <td>-2.107087</td>\n",
       "      <td>3.600502</td>\n",
       "      <td>Couple 1</td>\n",
       "    </tr>\n",
       "    <tr>\n",
       "      <th>8</th>\n",
       "      <td>-1.744830</td>\n",
       "      <td>3.485282</td>\n",
       "      <td>Couple 1</td>\n",
       "    </tr>\n",
       "    <tr>\n",
       "      <th>9</th>\n",
       "      <td>-1.956082</td>\n",
       "      <td>3.662929</td>\n",
       "      <td>Couple 1</td>\n",
       "    </tr>\n",
       "    <tr>\n",
       "      <th>10</th>\n",
       "      <td>-2.075438</td>\n",
       "      <td>3.326934</td>\n",
       "      <td>Couple 1</td>\n",
       "    </tr>\n",
       "    <tr>\n",
       "      <th>11</th>\n",
       "      <td>-1.798397</td>\n",
       "      <td>3.546473</td>\n",
       "      <td>Couple 1</td>\n",
       "    </tr>\n",
       "    <tr>\n",
       "      <th>12</th>\n",
       "      <td>2.253594</td>\n",
       "      <td>2.488146</td>\n",
       "      <td>Couple 2</td>\n",
       "    </tr>\n",
       "    <tr>\n",
       "      <th>13</th>\n",
       "      <td>1.981140</td>\n",
       "      <td>2.786638</td>\n",
       "      <td>Couple 2</td>\n",
       "    </tr>\n",
       "    <tr>\n",
       "      <th>14</th>\n",
       "      <td>2.393674</td>\n",
       "      <td>2.390024</td>\n",
       "      <td>Couple 2</td>\n",
       "    </tr>\n",
       "    <tr>\n",
       "      <th>15</th>\n",
       "      <td>2.137265</td>\n",
       "      <td>2.642211</td>\n",
       "      <td>Couple 2</td>\n",
       "    </tr>\n",
       "    <tr>\n",
       "      <th>16</th>\n",
       "      <td>2.906560</td>\n",
       "      <td>3.897925</td>\n",
       "      <td>Couple 2</td>\n",
       "    </tr>\n",
       "    <tr>\n",
       "      <th>17</th>\n",
       "      <td>2.101295</td>\n",
       "      <td>2.622958</td>\n",
       "      <td>Couple 2</td>\n",
       "    </tr>\n",
       "    <tr>\n",
       "      <th>18</th>\n",
       "      <td>2.233754</td>\n",
       "      <td>2.414165</td>\n",
       "      <td>Couple 2</td>\n",
       "    </tr>\n",
       "    <tr>\n",
       "      <th>19</th>\n",
       "      <td>2.120269</td>\n",
       "      <td>2.520527</td>\n",
       "      <td>Couple 2</td>\n",
       "    </tr>\n",
       "    <tr>\n",
       "      <th>20</th>\n",
       "      <td>2.209805</td>\n",
       "      <td>2.388583</td>\n",
       "      <td>Couple 2</td>\n",
       "    </tr>\n",
       "    <tr>\n",
       "      <th>21</th>\n",
       "      <td>2.127264</td>\n",
       "      <td>2.644249</td>\n",
       "      <td>Couple 2</td>\n",
       "    </tr>\n",
       "    <tr>\n",
       "      <th>22</th>\n",
       "      <td>2.426358</td>\n",
       "      <td>2.541506</td>\n",
       "      <td>Couple 2</td>\n",
       "    </tr>\n",
       "    <tr>\n",
       "      <th>23</th>\n",
       "      <td>2.375583</td>\n",
       "      <td>2.524855</td>\n",
       "      <td>Couple 2</td>\n",
       "    </tr>\n",
       "    <tr>\n",
       "      <th>24</th>\n",
       "      <td>3.120661</td>\n",
       "      <td>-1.828755</td>\n",
       "      <td>Couple 3</td>\n",
       "    </tr>\n",
       "    <tr>\n",
       "      <th>25</th>\n",
       "      <td>3.269308</td>\n",
       "      <td>-1.512135</td>\n",
       "      <td>Couple 3</td>\n",
       "    </tr>\n",
       "    <tr>\n",
       "      <th>26</th>\n",
       "      <td>2.933374</td>\n",
       "      <td>-1.662623</td>\n",
       "      <td>Couple 3</td>\n",
       "    </tr>\n",
       "    <tr>\n",
       "      <th>27</th>\n",
       "      <td>3.178237</td>\n",
       "      <td>-1.673589</td>\n",
       "      <td>Couple 3</td>\n",
       "    </tr>\n",
       "    <tr>\n",
       "      <th>28</th>\n",
       "      <td>3.225747</td>\n",
       "      <td>-1.566602</td>\n",
       "      <td>Couple 3</td>\n",
       "    </tr>\n",
       "    <tr>\n",
       "      <th>29</th>\n",
       "      <td>3.127055</td>\n",
       "      <td>-1.718363</td>\n",
       "      <td>Couple 3</td>\n",
       "    </tr>\n",
       "    <tr>\n",
       "      <th>...</th>\n",
       "      <td>...</td>\n",
       "      <td>...</td>\n",
       "      <td>...</td>\n",
       "    </tr>\n",
       "    <tr>\n",
       "      <th>90</th>\n",
       "      <td>-1.910154</td>\n",
       "      <td>-0.702933</td>\n",
       "      <td>Couple 8</td>\n",
       "    </tr>\n",
       "    <tr>\n",
       "      <th>91</th>\n",
       "      <td>-1.542742</td>\n",
       "      <td>-0.773466</td>\n",
       "      <td>Couple 8</td>\n",
       "    </tr>\n",
       "    <tr>\n",
       "      <th>92</th>\n",
       "      <td>-2.118812</td>\n",
       "      <td>-0.850432</td>\n",
       "      <td>Couple 8</td>\n",
       "    </tr>\n",
       "    <tr>\n",
       "      <th>93</th>\n",
       "      <td>-1.901502</td>\n",
       "      <td>-0.732005</td>\n",
       "      <td>Couple 8</td>\n",
       "    </tr>\n",
       "    <tr>\n",
       "      <th>94</th>\n",
       "      <td>-1.531749</td>\n",
       "      <td>-0.757444</td>\n",
       "      <td>Couple 8</td>\n",
       "    </tr>\n",
       "    <tr>\n",
       "      <th>95</th>\n",
       "      <td>-1.827820</td>\n",
       "      <td>-0.990100</td>\n",
       "      <td>Couple 8</td>\n",
       "    </tr>\n",
       "    <tr>\n",
       "      <th>96</th>\n",
       "      <td>-1.265537</td>\n",
       "      <td>-4.220148</td>\n",
       "      <td>Couple 9</td>\n",
       "    </tr>\n",
       "    <tr>\n",
       "      <th>97</th>\n",
       "      <td>-1.613508</td>\n",
       "      <td>-4.185729</td>\n",
       "      <td>Couple 9</td>\n",
       "    </tr>\n",
       "    <tr>\n",
       "      <th>98</th>\n",
       "      <td>-1.268397</td>\n",
       "      <td>-4.278077</td>\n",
       "      <td>Couple 9</td>\n",
       "    </tr>\n",
       "    <tr>\n",
       "      <th>99</th>\n",
       "      <td>-1.269527</td>\n",
       "      <td>-4.453335</td>\n",
       "      <td>Couple 9</td>\n",
       "    </tr>\n",
       "    <tr>\n",
       "      <th>100</th>\n",
       "      <td>-1.765134</td>\n",
       "      <td>-4.380190</td>\n",
       "      <td>Couple 9</td>\n",
       "    </tr>\n",
       "    <tr>\n",
       "      <th>101</th>\n",
       "      <td>-1.212108</td>\n",
       "      <td>-4.477449</td>\n",
       "      <td>Couple 9</td>\n",
       "    </tr>\n",
       "    <tr>\n",
       "      <th>102</th>\n",
       "      <td>-1.557938</td>\n",
       "      <td>-4.310902</td>\n",
       "      <td>Couple 9</td>\n",
       "    </tr>\n",
       "    <tr>\n",
       "      <th>103</th>\n",
       "      <td>-1.350566</td>\n",
       "      <td>-4.594985</td>\n",
       "      <td>Couple 9</td>\n",
       "    </tr>\n",
       "    <tr>\n",
       "      <th>104</th>\n",
       "      <td>-1.487215</td>\n",
       "      <td>-4.267921</td>\n",
       "      <td>Couple 9</td>\n",
       "    </tr>\n",
       "    <tr>\n",
       "      <th>105</th>\n",
       "      <td>-1.624691</td>\n",
       "      <td>-4.600739</td>\n",
       "      <td>Couple 9</td>\n",
       "    </tr>\n",
       "    <tr>\n",
       "      <th>106</th>\n",
       "      <td>-1.313856</td>\n",
       "      <td>-4.427255</td>\n",
       "      <td>Couple 9</td>\n",
       "    </tr>\n",
       "    <tr>\n",
       "      <th>107</th>\n",
       "      <td>-1.405837</td>\n",
       "      <td>-4.248286</td>\n",
       "      <td>Couple 9</td>\n",
       "    </tr>\n",
       "    <tr>\n",
       "      <th>108</th>\n",
       "      <td>-1.045804</td>\n",
       "      <td>7.248597</td>\n",
       "      <td>Couple 10</td>\n",
       "    </tr>\n",
       "    <tr>\n",
       "      <th>109</th>\n",
       "      <td>-0.945441</td>\n",
       "      <td>7.182882</td>\n",
       "      <td>Couple 10</td>\n",
       "    </tr>\n",
       "    <tr>\n",
       "      <th>110</th>\n",
       "      <td>-1.092328</td>\n",
       "      <td>7.049872</td>\n",
       "      <td>Couple 10</td>\n",
       "    </tr>\n",
       "    <tr>\n",
       "      <th>111</th>\n",
       "      <td>-0.670799</td>\n",
       "      <td>7.112722</td>\n",
       "      <td>Couple 10</td>\n",
       "    </tr>\n",
       "    <tr>\n",
       "      <th>112</th>\n",
       "      <td>-0.838144</td>\n",
       "      <td>6.868931</td>\n",
       "      <td>Couple 10</td>\n",
       "    </tr>\n",
       "    <tr>\n",
       "      <th>113</th>\n",
       "      <td>-1.105732</td>\n",
       "      <td>6.983821</td>\n",
       "      <td>Couple 10</td>\n",
       "    </tr>\n",
       "    <tr>\n",
       "      <th>114</th>\n",
       "      <td>-0.662859</td>\n",
       "      <td>7.294794</td>\n",
       "      <td>Couple 10</td>\n",
       "    </tr>\n",
       "    <tr>\n",
       "      <th>115</th>\n",
       "      <td>-1.081950</td>\n",
       "      <td>6.981788</td>\n",
       "      <td>Couple 10</td>\n",
       "    </tr>\n",
       "    <tr>\n",
       "      <th>116</th>\n",
       "      <td>-1.118785</td>\n",
       "      <td>7.227572</td>\n",
       "      <td>Couple 10</td>\n",
       "    </tr>\n",
       "    <tr>\n",
       "      <th>117</th>\n",
       "      <td>-0.852543</td>\n",
       "      <td>7.323111</td>\n",
       "      <td>Couple 10</td>\n",
       "    </tr>\n",
       "    <tr>\n",
       "      <th>118</th>\n",
       "      <td>-0.638152</td>\n",
       "      <td>7.305473</td>\n",
       "      <td>Couple 10</td>\n",
       "    </tr>\n",
       "    <tr>\n",
       "      <th>119</th>\n",
       "      <td>-0.822630</td>\n",
       "      <td>7.069187</td>\n",
       "      <td>Couple 10</td>\n",
       "    </tr>\n",
       "  </tbody>\n",
       "</table>\n",
       "<p>120 rows × 3 columns</p>\n",
       "</div>"
      ],
      "text/plain": [
       "        Axe 1     Axe 2      label\n",
       "0   -2.004630  3.662395   Couple 1\n",
       "1   -1.790817  3.143513   Couple 1\n",
       "2   -1.988260  3.298735   Couple 1\n",
       "3   -1.739879  3.389087   Couple 1\n",
       "4   -2.175716  3.438566   Couple 1\n",
       "5   -1.945763  3.367712   Couple 1\n",
       "6   -1.791919  3.536638   Couple 1\n",
       "7   -2.107087  3.600502   Couple 1\n",
       "8   -1.744830  3.485282   Couple 1\n",
       "9   -1.956082  3.662929   Couple 1\n",
       "10  -2.075438  3.326934   Couple 1\n",
       "11  -1.798397  3.546473   Couple 1\n",
       "12   2.253594  2.488146   Couple 2\n",
       "13   1.981140  2.786638   Couple 2\n",
       "14   2.393674  2.390024   Couple 2\n",
       "15   2.137265  2.642211   Couple 2\n",
       "16   2.906560  3.897925   Couple 2\n",
       "17   2.101295  2.622958   Couple 2\n",
       "18   2.233754  2.414165   Couple 2\n",
       "19   2.120269  2.520527   Couple 2\n",
       "20   2.209805  2.388583   Couple 2\n",
       "21   2.127264  2.644249   Couple 2\n",
       "22   2.426358  2.541506   Couple 2\n",
       "23   2.375583  2.524855   Couple 2\n",
       "24   3.120661 -1.828755   Couple 3\n",
       "25   3.269308 -1.512135   Couple 3\n",
       "26   2.933374 -1.662623   Couple 3\n",
       "27   3.178237 -1.673589   Couple 3\n",
       "28   3.225747 -1.566602   Couple 3\n",
       "29   3.127055 -1.718363   Couple 3\n",
       "..        ...       ...        ...\n",
       "90  -1.910154 -0.702933   Couple 8\n",
       "91  -1.542742 -0.773466   Couple 8\n",
       "92  -2.118812 -0.850432   Couple 8\n",
       "93  -1.901502 -0.732005   Couple 8\n",
       "94  -1.531749 -0.757444   Couple 8\n",
       "95  -1.827820 -0.990100   Couple 8\n",
       "96  -1.265537 -4.220148   Couple 9\n",
       "97  -1.613508 -4.185729   Couple 9\n",
       "98  -1.268397 -4.278077   Couple 9\n",
       "99  -1.269527 -4.453335   Couple 9\n",
       "100 -1.765134 -4.380190   Couple 9\n",
       "101 -1.212108 -4.477449   Couple 9\n",
       "102 -1.557938 -4.310902   Couple 9\n",
       "103 -1.350566 -4.594985   Couple 9\n",
       "104 -1.487215 -4.267921   Couple 9\n",
       "105 -1.624691 -4.600739   Couple 9\n",
       "106 -1.313856 -4.427255   Couple 9\n",
       "107 -1.405837 -4.248286   Couple 9\n",
       "108 -1.045804  7.248597  Couple 10\n",
       "109 -0.945441  7.182882  Couple 10\n",
       "110 -1.092328  7.049872  Couple 10\n",
       "111 -0.670799  7.112722  Couple 10\n",
       "112 -0.838144  6.868931  Couple 10\n",
       "113 -1.105732  6.983821  Couple 10\n",
       "114 -0.662859  7.294794  Couple 10\n",
       "115 -1.081950  6.981788  Couple 10\n",
       "116 -1.118785  7.227572  Couple 10\n",
       "117 -0.852543  7.323111  Couple 10\n",
       "118 -0.638152  7.305473  Couple 10\n",
       "119 -0.822630  7.069187  Couple 10\n",
       "\n",
       "[120 rows x 3 columns]"
      ]
     },
     "execution_count": 33,
     "metadata": {},
     "output_type": "execute_result"
    }
   ],
   "source": [
    "tsne_df"
   ]
  },
  {
   "cell_type": "code",
   "execution_count": 34,
   "metadata": {},
   "outputs": [
    {
     "data": {
      "image/png": "[encoded data removed]",
      "text/plain": [
       "<Figure size 576x576 with 1 Axes>"
      ]
     },
     "metadata": {
      "needs_background": "light"
     },
     "output_type": "display_data"
    }
   ],
   "source": [
    "fig = plt.figure(figsize = (8,8))\n",
    "ax = fig.add_subplot(1,1,1) \n",
    "ax.set_xlabel('Axe 1', fontsize = 15)\n",
    "ax.set_ylabel('Axe 2', fontsize = 15)\n",
    "ax.set_title('t-SNE en 2 composantes', fontsize = 20)\n",
    "#targets = list(set(df_res['label']))\n",
    "targets = ['Couple 1', 'Couple 2', 'Couple 3', 'Couple 4', 'Couple 5', 'Couple 6', 'Couple 7', 'Couple 8', 'Couple 9', 'Couple 10']\n",
    "colors = ['blue', 'red', 'green', 'purple', 'pink', 'orange', 'black', 'brown', 'grey', 'magenta']\n",
    "for target, color in zip(targets,colors):\n",
    "    indicesToKeep = tsne_df['label'] == target\n",
    "    ax.scatter(tsne_df.loc[indicesToKeep, 'Axe 1']\n",
    "               , tsne_df.loc[indicesToKeep, 'Axe 2']\n",
    "               , c = color\n",
    "               , s = 50)\n",
    "ax.legend(targets)\n",
    "ax.grid()\n",
    "plt.savefig('tsne_fict.png')"
   ]
  },
  {
   "cell_type": "code",
   "execution_count": null,
   "metadata": {},
   "outputs": [],
   "source": []
  }
 ],
 "metadata": {
  "kernelspec": {
   "display_name": "Python 3",
   "language": "python",
   "name": "python3"
  },
  "language_info": {
   "codemirror_mode": {
    "name": "ipython",
    "version": 3
   },
   "file_extension": ".py",
   "mimetype": "text/x-python",
   "name": "python",
   "nbconvert_exporter": "python",
   "pygments_lexer": "ipython3",
   "version": "3.6.5"
  }
 },
 "nbformat": 4,
 "nbformat_minor": 2
}
