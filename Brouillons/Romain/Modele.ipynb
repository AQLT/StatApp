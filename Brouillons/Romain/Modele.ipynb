{
 "cells": [
  {
   "cell_type": "markdown",
   "metadata": {},
   "source": [
    "# Début d'implémentation du modèle"
   ]
  },
  {
   "cell_type": "markdown",
   "metadata": {},
   "source": [
    "## Traitement des données\n",
    "A réfléchir par la suite."
   ]
  },
  {
   "cell_type": "markdown",
   "metadata": {},
   "source": [
    "### Etape 0 : on importe ce qui est nécessaire"
   ]
  },
  {
   "cell_type": "code",
   "execution_count": 32,
   "metadata": {},
   "outputs": [],
   "source": [
    "import numpy as np\n",
    "import torch"
   ]
  },
  {
   "cell_type": "markdown",
   "metadata": {},
   "source": [
    "### Étape 1 : Créer le vocabulaire à partir du corpus de phrases"
   ]
  },
  {
   "cell_type": "code",
   "execution_count": 47,
   "metadata": {},
   "outputs": [],
   "source": [
    "corpus = [\n",
    "    'il est un roi',\n",
    "    'elle est une reine',\n",
    "    'il est un homme',\n",
    "    'elle est une femme',\n",
    "    'londres est la capitale du royaume uni',\n",
    "    \"berlin est la capitale de l allemagne\",\n",
    "    'paris est la capitale de la france',\n",
    "]"
   ]
  },
  {
   "cell_type": "code",
   "execution_count": 48,
   "metadata": {},
   "outputs": [
    {
     "data": {
      "text/plain": [
       "[['il', 'est', 'un', 'roi'],\n",
       " ['elle', 'est', 'une', 'reine'],\n",
       " ['il', 'est', 'un', 'homme'],\n",
       " ['elle', 'est', 'une', 'femme'],\n",
       " ['londres', 'est', 'la', 'capitale', 'du', 'royaume', 'uni'],\n",
       " ['berlin', 'est', 'la', 'capitale', 'de', 'l', 'allemagne'],\n",
       " ['paris', 'est', 'la', 'capitale', 'de', 'la', 'france']]"
      ]
     },
     "execution_count": 48,
     "metadata": {},
     "output_type": "execute_result"
    }
   ],
   "source": [
    "def tokenize(corpus):\n",
    "    tokens = [phrase.split() for phrase in corpus]\n",
    "    return tokens\n",
    "\n",
    "t_corpus = tokenize(corpus)\n",
    "t_corpus"
   ]
  },
  {
   "cell_type": "code",
   "execution_count": 49,
   "metadata": {},
   "outputs": [
    {
     "data": {
      "text/plain": [
       "['il',\n",
       " 'est',\n",
       " 'un',\n",
       " 'roi',\n",
       " 'elle',\n",
       " 'une',\n",
       " 'reine',\n",
       " 'homme',\n",
       " 'femme',\n",
       " 'londres',\n",
       " 'la',\n",
       " 'capitale',\n",
       " 'du',\n",
       " 'royaume',\n",
       " 'uni',\n",
       " 'berlin',\n",
       " 'de',\n",
       " 'l',\n",
       " 'allemagne',\n",
       " 'paris',\n",
       " 'france']"
      ]
     },
     "execution_count": 49,
     "metadata": {},
     "output_type": "execute_result"
    }
   ],
   "source": [
    "voc = []\n",
    "for phrase in t_corpus:\n",
    "    for mot in phrase:\n",
    "        if mot not in voc:\n",
    "            voc.append(mot)\n",
    "voc_size = len(voc)\n",
    "voc"
   ]
  },
  {
   "cell_type": "markdown",
   "metadata": {},
   "source": [
    "### Étape 2 : on s'intéresse aux mots centraux et aux contextes suivant taille de fenêtre"
   ]
  },
  {
   "cell_type": "code",
   "execution_count": 50,
   "metadata": {},
   "outputs": [],
   "source": [
    "mot_index = {w: index for (index, w) in enumerate(voc)}\n",
    "index_mot = {index: w for (index, w) in enumerate(voc)}\n",
    "\n",
    "taille_fenetre = 3\n",
    "index_pairs = []\n",
    "# On traite chaque phrase.\n",
    "for phrase in t_corpus:\n",
    "    indices = [mot_index[mot] for mot in phrase]\n",
    "    # On traite chaque mot comme un mot central\n",
    "    for center_word in range(len(indices)):\n",
    "        # Pour chaque fenetre possible\n",
    "        for w in range(-taille_fenetre, taille_fenetre + 1):\n",
    "            context_word = center_word + w\n",
    "            # On fait attention à ne pas sauter de phrases\n",
    "            if context_word < 0 or context_word >= len(indices) or center_word == context_word:\n",
    "                continue\n",
    "            context_word_ind = indices[context_word]\n",
    "            index_pairs.append((indices[center_word], context_word_ind))\n"
   ]
  },
  {
   "cell_type": "code",
   "execution_count": 45,
   "metadata": {},
   "outputs": [
    {
     "data": {
      "text/plain": [
       "array([[ 0,  1],\n",
       "       [ 0,  2],\n",
       "       [ 1,  0],\n",
       "       [ 1,  2],\n",
       "       [ 1,  3],\n",
       "       [ 2,  0],\n",
       "       [ 2,  1],\n",
       "       [ 2,  3],\n",
       "       [ 3,  1],\n",
       "       [ 3,  2],\n",
       "       [ 4,  1],\n",
       "       [ 4,  5],\n",
       "       [ 1,  4],\n",
       "       [ 1,  5],\n",
       "       [ 1,  6],\n",
       "       [ 5,  4],\n",
       "       [ 5,  1],\n",
       "       [ 5,  6],\n",
       "       [ 6,  1],\n",
       "       [ 6,  5],\n",
       "       [ 0,  1],\n",
       "       [ 0,  2],\n",
       "       [ 1,  0],\n",
       "       [ 1,  2],\n",
       "       [ 1,  7],\n",
       "       [ 2,  0],\n",
       "       [ 2,  1],\n",
       "       [ 2,  7],\n",
       "       [ 7,  1],\n",
       "       [ 7,  2],\n",
       "       [ 4,  1],\n",
       "       [ 4,  5],\n",
       "       [ 1,  4],\n",
       "       [ 1,  5],\n",
       "       [ 1,  8],\n",
       "       [ 5,  4],\n",
       "       [ 5,  1],\n",
       "       [ 5,  8],\n",
       "       [ 8,  1],\n",
       "       [ 8,  5],\n",
       "       [ 9,  1],\n",
       "       [ 9, 10],\n",
       "       [ 1,  9],\n",
       "       [ 1, 10],\n",
       "       [ 1, 11],\n",
       "       [10,  9],\n",
       "       [10,  1],\n",
       "       [10, 11],\n",
       "       [10, 12],\n",
       "       [11,  1],\n",
       "       [11, 10],\n",
       "       [11, 12],\n",
       "       [11, 13],\n",
       "       [12, 10],\n",
       "       [12, 11],\n",
       "       [12, 13],\n",
       "       [12, 14],\n",
       "       [13, 11],\n",
       "       [13, 12],\n",
       "       [13, 14],\n",
       "       [14, 12],\n",
       "       [14, 13],\n",
       "       [15,  1],\n",
       "       [15, 10],\n",
       "       [ 1, 15],\n",
       "       [ 1, 10],\n",
       "       [ 1, 11],\n",
       "       [10, 15],\n",
       "       [10,  1],\n",
       "       [10, 11],\n",
       "       [10, 16],\n",
       "       [11,  1],\n",
       "       [11, 10],\n",
       "       [11, 16],\n",
       "       [11, 17],\n",
       "       [16, 10],\n",
       "       [16, 11],\n",
       "       [16, 17],\n",
       "       [16, 18],\n",
       "       [17, 11],\n",
       "       [17, 16],\n",
       "       [17, 18],\n",
       "       [18, 16],\n",
       "       [18, 17],\n",
       "       [19,  1],\n",
       "       [19, 10],\n",
       "       [ 1, 19],\n",
       "       [ 1, 10],\n",
       "       [ 1, 11],\n",
       "       [10, 19],\n",
       "       [10,  1],\n",
       "       [10, 11],\n",
       "       [10, 16],\n",
       "       [11,  1],\n",
       "       [11, 10],\n",
       "       [11, 16],\n",
       "       [11, 10],\n",
       "       [16, 10],\n",
       "       [16, 11],\n",
       "       [16, 10],\n",
       "       [16, 20],\n",
       "       [10, 11],\n",
       "       [10, 16],\n",
       "       [10, 20],\n",
       "       [20, 16],\n",
       "       [20, 10]])"
      ]
     },
     "execution_count": 45,
     "metadata": {},
     "output_type": "execute_result"
    }
   ],
   "source": [
    "index_pairs_np = np.array(index_pairs)\n",
    "index_pairs_np"
   ]
  },
  {
   "cell_type": "markdown",
   "metadata": {},
   "source": [
    "### Étape 3 : création du modèle"
   ]
  },
  {
   "cell_type": "code",
   "execution_count": null,
   "metadata": {},
   "outputs": [],
   "source": []
  }
 ],
 "metadata": {
  "kernelspec": {
   "display_name": "Python 3",
   "language": "python",
   "name": "python3"
  },
  "language_info": {
   "codemirror_mode": {
    "name": "ipython",
    "version": 3
   },
   "file_extension": ".py",
   "mimetype": "text/x-python",
   "name": "python",
   "nbconvert_exporter": "python",
   "pygments_lexer": "ipython3",
   "version": "3.6.5"
  }
 },
 "nbformat": 4,
 "nbformat_minor": 2
}
