{
 "cells": [
  {
   "cell_type": "markdown",
   "metadata": {},
   "source": [
    "# Début d'implémentation du modèle"
   ]
  },
  {
   "cell_type": "markdown",
   "metadata": {},
   "source": [
    "## Traitement des données\n",
    "A réfléchir par la suite."
   ]
  },
  {
   "cell_type": "markdown",
   "metadata": {},
   "source": [
    "### Etape 0 : on importe ce qui est nécessaire"
   ]
  },
  {
   "cell_type": "code",
   "execution_count": 2,
   "metadata": {},
   "outputs": [],
   "source": [
    "import numpy as np\n",
    "import torch\n",
    "from torch.autograd import Variable\n",
    "import torch.nn.functional as F\n",
    "import math"
   ]
  },
  {
   "cell_type": "markdown",
   "metadata": {},
   "source": [
    "### Étape 1 : Créer le vocabulaire à partir du corpus de phrases"
   ]
  },
  {
   "cell_type": "code",
   "execution_count": 3,
   "metadata": {},
   "outputs": [],
   "source": [
    "corpus = [\n",
    "    'il est un roi',\n",
    "    'elle est une reine',\n",
    "    'il est un homme',\n",
    "    'elle est une femme',\n",
    "    'londres est la capitale du royaume uni',\n",
    "    \"berlin est la capitale de l allemagne\",\n",
    "    'paris est la capitale de la france',\n",
    "]"
   ]
  },
  {
   "cell_type": "code",
   "execution_count": 4,
   "metadata": {},
   "outputs": [
    {
     "data": {
      "text/plain": [
       "[['il', 'est', 'un', 'roi'],\n",
       " ['elle', 'est', 'une', 'reine'],\n",
       " ['il', 'est', 'un', 'homme'],\n",
       " ['elle', 'est', 'une', 'femme'],\n",
       " ['londres', 'est', 'la', 'capitale', 'du', 'royaume', 'uni'],\n",
       " ['berlin', 'est', 'la', 'capitale', 'de', 'l', 'allemagne'],\n",
       " ['paris', 'est', 'la', 'capitale', 'de', 'la', 'france']]"
      ]
     },
     "execution_count": 4,
     "metadata": {},
     "output_type": "execute_result"
    }
   ],
   "source": [
    "def tokenize(corpus):\n",
    "    tokens = [phrase.split() for phrase in corpus]\n",
    "    return tokens\n",
    "\n",
    "t_corpus = tokenize(corpus)\n",
    "t_corpus"
   ]
  },
  {
   "cell_type": "code",
   "execution_count": 5,
   "metadata": {
    "scrolled": true
   },
   "outputs": [
    {
     "data": {
      "text/plain": [
       "['il',\n",
       " 'est',\n",
       " 'un',\n",
       " 'roi',\n",
       " 'elle',\n",
       " 'une',\n",
       " 'reine',\n",
       " 'homme',\n",
       " 'femme',\n",
       " 'londres',\n",
       " 'la',\n",
       " 'capitale',\n",
       " 'du',\n",
       " 'royaume',\n",
       " 'uni',\n",
       " 'berlin',\n",
       " 'de',\n",
       " 'l',\n",
       " 'allemagne',\n",
       " 'paris',\n",
       " 'france']"
      ]
     },
     "execution_count": 5,
     "metadata": {},
     "output_type": "execute_result"
    }
   ],
   "source": [
    "voc = []\n",
    "for phrase in t_corpus:\n",
    "    for mot in phrase:\n",
    "        if mot not in voc:\n",
    "            voc.append(mot)\n",
    "voc_size = len(voc)\n",
    "voc"
   ]
  },
  {
   "cell_type": "markdown",
   "metadata": {},
   "source": [
    "### Étape 2 : on s'intéresse aux mots centraux et aux contextes suivant taille de fenêtre"
   ]
  },
  {
   "cell_type": "code",
   "execution_count": 6,
   "metadata": {},
   "outputs": [],
   "source": [
    "mot_index = {w: index for (index, w) in enumerate(voc)}\n",
    "index_mot = {index: w for (index, w) in enumerate(voc)}\n",
    "\n",
    "taille_fenetre = 3\n",
    "index_pairs = []\n",
    "# On traite chaque phrase.\n",
    "for phrase in t_corpus:\n",
    "    indices = [mot_index[mot] for mot in phrase]\n",
    "    # On traite chaque mot comme un mot central\n",
    "    for center_word in range(len(indices)):\n",
    "        # Pour chaque fenetre possible\n",
    "        for w in range(-taille_fenetre, taille_fenetre + 1):\n",
    "            context_word = center_word + w\n",
    "            # On fait attention à ne pas sauter de phrases\n",
    "            if context_word < 0 or context_word >= len(indices) or center_word == context_word:\n",
    "                continue\n",
    "            context_word_ind = indices[context_word]\n",
    "            index_pairs.append((indices[center_word], context_word_ind))\n"
   ]
  },
  {
   "cell_type": "code",
   "execution_count": 7,
   "metadata": {},
   "outputs": [
    {
     "data": {
      "text/plain": [
       "array([[ 0,  1],\n",
       "       [ 0,  2],\n",
       "       [ 0,  3],\n",
       "       [ 1,  0],\n",
       "       [ 1,  2],\n",
       "       [ 1,  3],\n",
       "       [ 2,  0],\n",
       "       [ 2,  1],\n",
       "       [ 2,  3],\n",
       "       [ 3,  0],\n",
       "       [ 3,  1],\n",
       "       [ 3,  2],\n",
       "       [ 4,  1],\n",
       "       [ 4,  5],\n",
       "       [ 4,  6],\n",
       "       [ 1,  4],\n",
       "       [ 1,  5],\n",
       "       [ 1,  6],\n",
       "       [ 5,  4],\n",
       "       [ 5,  1],\n",
       "       [ 5,  6],\n",
       "       [ 6,  4],\n",
       "       [ 6,  1],\n",
       "       [ 6,  5],\n",
       "       [ 0,  1],\n",
       "       [ 0,  2],\n",
       "       [ 0,  7],\n",
       "       [ 1,  0],\n",
       "       [ 1,  2],\n",
       "       [ 1,  7],\n",
       "       [ 2,  0],\n",
       "       [ 2,  1],\n",
       "       [ 2,  7],\n",
       "       [ 7,  0],\n",
       "       [ 7,  1],\n",
       "       [ 7,  2],\n",
       "       [ 4,  1],\n",
       "       [ 4,  5],\n",
       "       [ 4,  8],\n",
       "       [ 1,  4],\n",
       "       [ 1,  5],\n",
       "       [ 1,  8],\n",
       "       [ 5,  4],\n",
       "       [ 5,  1],\n",
       "       [ 5,  8],\n",
       "       [ 8,  4],\n",
       "       [ 8,  1],\n",
       "       [ 8,  5],\n",
       "       [ 9,  1],\n",
       "       [ 9, 10],\n",
       "       [ 9, 11],\n",
       "       [ 1,  9],\n",
       "       [ 1, 10],\n",
       "       [ 1, 11],\n",
       "       [ 1, 12],\n",
       "       [10,  9],\n",
       "       [10,  1],\n",
       "       [10, 11],\n",
       "       [10, 12],\n",
       "       [10, 13],\n",
       "       [11,  9],\n",
       "       [11,  1],\n",
       "       [11, 10],\n",
       "       [11, 12],\n",
       "       [11, 13],\n",
       "       [11, 14],\n",
       "       [12,  1],\n",
       "       [12, 10],\n",
       "       [12, 11],\n",
       "       [12, 13],\n",
       "       [12, 14],\n",
       "       [13, 10],\n",
       "       [13, 11],\n",
       "       [13, 12],\n",
       "       [13, 14],\n",
       "       [14, 11],\n",
       "       [14, 12],\n",
       "       [14, 13],\n",
       "       [15,  1],\n",
       "       [15, 10],\n",
       "       [15, 11],\n",
       "       [ 1, 15],\n",
       "       [ 1, 10],\n",
       "       [ 1, 11],\n",
       "       [ 1, 16],\n",
       "       [10, 15],\n",
       "       [10,  1],\n",
       "       [10, 11],\n",
       "       [10, 16],\n",
       "       [10, 17],\n",
       "       [11, 15],\n",
       "       [11,  1],\n",
       "       [11, 10],\n",
       "       [11, 16],\n",
       "       [11, 17],\n",
       "       [11, 18],\n",
       "       [16,  1],\n",
       "       [16, 10],\n",
       "       [16, 11],\n",
       "       [16, 17],\n",
       "       [16, 18],\n",
       "       [17, 10],\n",
       "       [17, 11],\n",
       "       [17, 16],\n",
       "       [17, 18],\n",
       "       [18, 11],\n",
       "       [18, 16],\n",
       "       [18, 17],\n",
       "       [19,  1],\n",
       "       [19, 10],\n",
       "       [19, 11],\n",
       "       [ 1, 19],\n",
       "       [ 1, 10],\n",
       "       [ 1, 11],\n",
       "       [ 1, 16],\n",
       "       [10, 19],\n",
       "       [10,  1],\n",
       "       [10, 11],\n",
       "       [10, 16],\n",
       "       [10, 10],\n",
       "       [11, 19],\n",
       "       [11,  1],\n",
       "       [11, 10],\n",
       "       [11, 16],\n",
       "       [11, 10],\n",
       "       [11, 20],\n",
       "       [16,  1],\n",
       "       [16, 10],\n",
       "       [16, 11],\n",
       "       [16, 10],\n",
       "       [16, 20],\n",
       "       [10, 10],\n",
       "       [10, 11],\n",
       "       [10, 16],\n",
       "       [10, 20],\n",
       "       [20, 11],\n",
       "       [20, 16],\n",
       "       [20, 10]])"
      ]
     },
     "execution_count": 7,
     "metadata": {},
     "output_type": "execute_result"
    }
   ],
   "source": [
    "index_pairs_np = np.array(index_pairs)\n",
    "index_pairs_np"
   ]
  },
  {
   "cell_type": "markdown",
   "metadata": {},
   "source": [
    "### Étape 3 : création du modèle"
   ]
  },
  {
   "cell_type": "code",
   "execution_count": 8,
   "metadata": {},
   "outputs": [],
   "source": [
    "#Couche d'entrée\n",
    "def get_input_layer(word_idx):\n",
    "    x = torch.zeros(voc_size).float()\n",
    "    x[word_idx] = 1.0\n",
    "    return x\n",
    "\n",
    "# Choix de dimension\n",
    "embedding_dims = 10\n",
    "# Initialisation\n",
    "W1 = Variable(torch.randn(embedding_dims, voc_size).float(), requires_grad=True)\n",
    "W2 = Variable(torch.randn(voc_size, embedding_dims).float(), requires_grad=True)\n",
    "num_epochs = 100\n",
    "learning_rate = 0.001\n",
    "\n",
    "# Différentes étapes\n",
    "for epo in range(num_epochs):\n",
    "    loss_val = 0\n",
    "    for data, target in index_pairs:\n",
    "        x = Variable(get_input_layer(data)).float()\n",
    "        y_true = Variable(torch.from_numpy(np.array([target])).long())\n",
    "\n",
    "        z1 = torch.matmul(W1, x)\n",
    "        z2 = torch.matmul(W2, z1)\n",
    "    \n",
    "        log_softmax = F.log_softmax(z2, dim=0)\n",
    "\n",
    "        loss = F.nll_loss(log_softmax.view(1,-1), y_true)\n",
    "        loss_val += loss.data\n",
    "        \n",
    "        loss.backward()\n",
    "        W1.data -= learning_rate * W1.grad.data\n",
    "        W2.data -= learning_rate * W2.grad.data\n",
    "\n",
    "        W1.grad.data.zero_()\n",
    "        W2.grad.data.zero_()"
   ]
  },
  {
   "cell_type": "code",
   "execution_count": 9,
   "metadata": {},
   "outputs": [
    {
     "data": {
      "text/plain": [
       "tensor([[-1.9555e-01,  7.2886e-01,  1.0322e+00, -8.6814e-01,  5.1501e-01,\n",
       "          1.5084e+00, -3.1089e-01,  1.4521e+00, -9.7177e-01, -1.0397e-01,\n",
       "          1.8555e+00,  2.0235e+00, -2.1156e+00,  3.9244e-01, -7.6099e-01,\n",
       "          2.1998e+00,  5.8356e-01, -1.2200e-01, -3.3776e-01,  8.0611e-01,\n",
       "         -6.6319e-01],\n",
       "        [ 9.4960e-02, -1.4288e-01, -2.6139e-01, -3.7451e-01,  7.3089e-01,\n",
       "          4.3774e-01, -7.6348e-02,  4.7126e-01,  1.2195e-01, -3.0937e-01,\n",
       "         -2.7749e-02,  9.0792e-02,  1.1726e+00, -1.2627e+00, -2.6967e-01,\n",
       "          1.0601e-01, -1.6745e+00, -1.0016e+00, -3.8822e-01, -3.4536e-01,\n",
       "          8.5108e-01],\n",
       "        [ 2.2097e-01, -1.6801e-01, -2.6975e-01,  6.1842e-03,  1.0199e+00,\n",
       "         -1.2153e-01, -2.6017e-01,  3.3633e-01,  2.1459e+00,  8.5230e-01,\n",
       "          3.6541e-02,  5.2933e-01,  1.8022e+00, -1.3127e-01, -2.2334e-01,\n",
       "          1.6428e+00, -1.9520e+00,  1.1803e+00,  1.6481e+00,  1.8366e+00,\n",
       "         -1.3019e+00],\n",
       "        [-1.0421e+00,  5.5622e-01, -3.9836e-01,  4.4059e-01, -1.1965e+00,\n",
       "         -6.5144e-01,  1.1755e-01, -2.5241e+00,  2.3058e-01, -3.5458e-01,\n",
       "         -3.9744e-01, -7.4443e-01, -9.1023e-02, -7.1726e-04, -6.1752e-03,\n",
       "         -1.4096e+00, -1.2893e-01, -4.8947e-01, -8.1734e-01, -3.0438e-01,\n",
       "         -2.1271e-01],\n",
       "        [ 7.5589e-01, -1.7178e-01,  7.4336e-03,  2.6957e-01,  3.3625e-01,\n",
       "         -1.6234e-01,  1.9106e-01,  3.9255e-01, -1.0661e-01,  5.0137e-01,\n",
       "         -5.8981e-01,  3.3974e-01,  7.1955e-01, -1.0887e+00,  1.1851e-01,\n",
       "          5.6770e-01, -3.6775e-01, -1.0791e+00, -2.8040e-01,  8.6422e-01,\n",
       "         -7.1441e-01],\n",
       "        [-3.3088e-01,  4.1515e-01,  5.7129e-01,  7.8831e-02, -1.2153e-02,\n",
       "         -1.5630e+00, -5.1256e-01, -6.1892e-01,  1.5230e-01, -3.3675e-01,\n",
       "         -1.1673e+00,  1.1229e-01, -8.1942e-01, -3.2610e-01,  2.3612e+00,\n",
       "          7.7032e-01,  1.3469e+00, -2.0736e+00, -6.5009e-01, -3.2127e-01,\n",
       "         -1.4019e+00],\n",
       "        [ 1.4432e+00,  6.9731e-01, -1.9072e-01, -3.3252e-01, -5.9261e-01,\n",
       "          5.8589e-01, -1.4829e+00, -9.2119e-01, -1.0575e+00,  4.9167e-01,\n",
       "          7.4446e-01,  1.4064e+00, -3.0459e-02,  5.8953e-01,  5.2195e-01,\n",
       "          7.2289e-01,  4.4157e-01, -2.4123e-01, -7.9197e-02, -1.4875e+00,\n",
       "         -1.0615e+00],\n",
       "        [-4.2718e-02,  1.3471e+00,  6.2868e-01,  5.0559e-01,  2.0573e-01,\n",
       "          7.3344e-01,  7.8464e-01, -7.7634e-01,  6.2872e-01, -5.2130e-01,\n",
       "          1.9070e+00,  9.8541e-01, -9.8465e-01,  5.7334e-01, -9.7112e-01,\n",
       "         -5.1763e-01,  5.7736e-01,  1.9047e-01,  1.0526e+00, -2.7188e-01,\n",
       "          9.9433e-02],\n",
       "        [-7.0261e-01,  8.3487e-01,  3.8703e-01,  1.3592e-01, -1.5990e+00,\n",
       "         -7.3866e-01, -1.1661e-01, -1.8645e-01,  8.5250e-01, -5.6675e-01,\n",
       "         -1.6105e-01,  1.0552e-01,  4.9372e-01,  6.2872e-01, -1.4498e+00,\n",
       "          4.6341e-01, -1.8448e+00, -9.5731e-01, -4.5504e-01,  5.5725e-01,\n",
       "         -6.7029e-01],\n",
       "        [ 1.5427e+00, -1.1617e+00, -8.7900e-01,  1.0110e+00, -4.4367e-02,\n",
       "          4.2970e-01,  1.2937e+00,  1.5900e-01,  1.3884e+00,  4.4485e-01,\n",
       "         -3.5443e-01,  8.0702e-01, -3.5535e-01, -7.8970e-02, -7.9758e-02,\n",
       "         -2.0108e+00,  9.6600e-01,  1.4645e+00, -1.0092e+00,  9.0563e-02,\n",
       "          2.8983e-01]], requires_grad=True)"
      ]
     },
     "execution_count": 9,
     "metadata": {},
     "output_type": "execute_result"
    }
   ],
   "source": [
    "W1"
   ]
  },
  {
   "cell_type": "code",
   "execution_count": 10,
   "metadata": {},
   "outputs": [
    {
     "data": {
      "text/plain": [
       "tensor([[ 1.0272e+00,  1.5142e+00, -1.8979e+00,  1.9843e+00,  1.2192e+00,\n",
       "          8.4625e-01, -7.1607e-01, -7.0266e-01, -6.3734e-01, -4.5258e-01],\n",
       "        [ 5.8777e-03, -3.1362e-01,  1.0872e+00, -1.1838e+00, -7.8668e-02,\n",
       "          3.7533e-01, -2.0305e-01,  2.7986e-01, -1.0218e-01,  2.1370e-01],\n",
       "        [-4.2832e-01,  2.4936e-02, -4.8093e-01, -4.2972e-01,  5.7291e-01,\n",
       "         -3.0096e-01, -4.2489e-01,  1.0053e-01,  1.3057e+00,  6.0753e-01],\n",
       "        [-7.2527e-01, -1.8543e-01,  5.3229e-01, -2.4526e-01, -6.7638e-01,\n",
       "          1.8366e+00,  5.5246e-02,  4.6854e-01, -1.7854e-01,  6.7894e-01],\n",
       "        [-7.8903e-01,  9.2313e-01, -1.1991e+00, -8.0325e-01,  1.4768e+00,\n",
       "         -9.4519e-01,  1.8388e-01,  1.4917e-01,  1.2319e+00, -5.1932e-01],\n",
       "        [-1.2087e-01,  6.4334e-01,  9.7421e-01,  3.4288e-01, -4.2727e-01,\n",
       "          1.1688e+00, -8.7069e-01,  7.4865e-01, -6.1737e-01, -3.7798e-02],\n",
       "        [ 4.9395e-01,  3.4851e-01,  5.3250e-01,  6.4358e-01, -1.2064e+00,\n",
       "          1.0689e+00, -9.2787e-01,  5.4707e-02,  3.5277e-02,  4.3700e-01],\n",
       "        [-7.7965e-01, -9.3486e-02, -7.0655e-01, -6.6503e-01, -4.6392e-01,\n",
       "          5.6526e-01,  7.9749e-01,  1.0470e-01,  2.1579e-01,  1.9284e-01],\n",
       "        [-1.2099e+00,  2.0062e-01, -7.1742e-01,  2.3099e-01,  8.7696e-01,\n",
       "          7.3008e-01,  1.1449e-01,  1.2304e+00, -4.6676e-01,  3.2337e-01],\n",
       "        [-4.0834e-01,  1.6574e-01, -1.5086e+00, -7.1705e-01,  1.8793e-01,\n",
       "          6.3029e-01, -2.8333e-01,  5.9348e-01,  8.8048e-01,  2.8129e-01],\n",
       "        [-1.0509e-01, -2.7552e-01,  1.4341e+00,  9.1117e-01,  7.0322e-01,\n",
       "          2.7586e-01,  8.3537e-01,  3.9991e-01, -2.3164e-01,  2.2545e-04],\n",
       "        [-2.0713e-01, -1.4934e+00,  8.3491e-01, -4.0819e-01, -4.4695e-01,\n",
       "          8.7333e-01, -1.1069e-01,  7.1288e-01, -8.4102e-01, -3.6037e-01],\n",
       "        [-2.5092e-02, -1.2870e+00, -2.7666e-01, -9.8303e-01, -1.4063e+00,\n",
       "          4.1525e-01,  5.1903e-01, -1.8554e+00, -4.2798e-01, -6.6942e-01],\n",
       "        [-1.0884e+00,  1.8817e-01, -1.0432e+00, -1.7244e+00,  5.3019e-01,\n",
       "          7.6774e-01, -7.3140e-01,  6.1171e-01, -2.1936e-01, -5.2331e-01],\n",
       "        [-1.2220e+00, -1.6913e+00,  1.4403e-01,  8.3800e-01,  4.4383e-01,\n",
       "         -7.0525e-01, -1.3278e-02, -9.0269e-01,  1.3898e+00,  1.5967e-01],\n",
       "        [-1.1239e+00, -9.5391e-01,  2.8600e-01, -3.9359e-01, -4.1070e-01,\n",
       "          6.3203e-01,  8.4930e-01,  4.7160e-01, -4.7510e-01, -7.2149e-01],\n",
       "        [-6.9677e-01, -1.0352e-01,  7.0705e-01,  2.6556e-01, -2.2257e-01,\n",
       "         -1.4889e-01,  7.5804e-01,  6.9152e-01, -1.5146e-01,  1.3692e-01],\n",
       "        [-2.8168e-01,  4.5791e-01,  2.7852e-01, -5.7300e-01, -1.4029e+00,\n",
       "          1.4230e-01, -1.2606e+00, -2.7477e-01,  2.4746e-01, -4.9008e-01],\n",
       "        [ 7.4249e-01,  1.0499e+00, -1.6365e+00,  3.1335e+00,  5.3596e-01,\n",
       "          1.2925e-01,  7.6727e-01, -1.6918e+00, -8.9607e-01,  1.9900e-01],\n",
       "        [-8.4145e-01,  1.7471e+00, -4.9567e-01, -1.1072e-01, -2.3174e+00,\n",
       "          1.3063e+00,  4.8934e-01,  1.4123e-01, -2.7741e-01,  8.7112e-01],\n",
       "        [ 5.5117e-01, -1.2487e+00, -3.7015e-01, -1.6154e-01, -7.8521e-02,\n",
       "          7.8832e-01,  1.6649e-01, -1.3044e+00,  5.7611e-01,  1.0040e+00]],\n",
       "       requires_grad=True)"
      ]
     },
     "execution_count": 10,
     "metadata": {},
     "output_type": "execute_result"
    }
   ],
   "source": [
    "W2"
   ]
  },
  {
   "cell_type": "code",
   "execution_count": 26,
   "metadata": {},
   "outputs": [],
   "source": [
    "# Distance/similarité cosinus\n",
    "def cos_distance(u, v):\n",
    "    return (np.dot(u, v)  / (math.sqrt(np.dot(u, u)) *  (math.sqrt(np.dot(v, v)))))"
   ]
  },
  {
   "cell_type": "code",
   "execution_count": 27,
   "metadata": {},
   "outputs": [
    {
     "data": {
      "text/plain": [
       "{'il': array([ 1.0271939 ,  1.5142411 , -1.8979274 ,  1.9842857 ,  1.2191842 ,\n",
       "         0.8462504 , -0.7160699 , -0.7026647 , -0.63734436, -0.4525826 ],\n",
       "       dtype=float32),\n",
       " 'est': array([ 0.00587774, -0.31361765,  1.087241  , -1.1837964 , -0.07866777,\n",
       "         0.3753333 , -0.2030453 ,  0.27986485, -0.10218013,  0.21370181],\n",
       "       dtype=float32),\n",
       " 'un': array([-0.4283153 ,  0.02493649, -0.48093316, -0.42972043,  0.5729108 ,\n",
       "        -0.3009559 , -0.42488915,  0.10052869,  1.3056543 ,  0.6075299 ],\n",
       "       dtype=float32),\n",
       " 'roi': array([-0.7252708 , -0.1854279 ,  0.53229386, -0.24526359, -0.67638224,\n",
       "         1.8366107 ,  0.05524555,  0.4685403 , -0.17853668,  0.6789356 ],\n",
       "       dtype=float32),\n",
       " 'elle': array([-0.78903353,  0.92313313, -1.1990632 , -0.8032484 ,  1.4767618 ,\n",
       "        -0.94518656,  0.18388386,  0.14917396,  1.2318693 , -0.51932156],\n",
       "       dtype=float32),\n",
       " 'une': array([-0.12087134,  0.643345  ,  0.97421396,  0.34287968, -0.4272664 ,\n",
       "         1.1687648 , -0.870695  ,  0.7486523 , -0.6173695 , -0.03779793],\n",
       "       dtype=float32),\n",
       " 'reine': array([ 0.49394745,  0.34850508,  0.5324977 ,  0.6435796 , -1.2063541 ,\n",
       "         1.0688585 , -0.9278727 ,  0.05470658,  0.03527689,  0.4370026 ],\n",
       "       dtype=float32),\n",
       " 'homme': array([-0.7796477 , -0.09348562, -0.70655173, -0.66503435, -0.46391982,\n",
       "         0.565258  ,  0.79748905,  0.10470363,  0.21579476,  0.19284458],\n",
       "       dtype=float32),\n",
       " 'femme': array([-1.2099199 ,  0.20062265, -0.7174222 ,  0.23098622,  0.87696207,\n",
       "         0.73007774,  0.11449099,  1.2304137 , -0.46676362,  0.3233739 ],\n",
       "       dtype=float32),\n",
       " 'londres': array([-0.4083396 ,  0.16574019, -1.50855   , -0.7170453 ,  0.18792872,\n",
       "         0.6302876 , -0.28333306,  0.593482  ,  0.8804842 ,  0.28128985],\n",
       "       dtype=float32),\n",
       " 'la': array([-1.0509267e-01, -2.7551913e-01,  1.4340988e+00,  9.1116732e-01,\n",
       "         7.0321769e-01,  2.7585715e-01,  8.3536756e-01,  3.9990741e-01,\n",
       "        -2.3164089e-01,  2.2545118e-04], dtype=float32),\n",
       " 'capitale': array([-0.20712599, -1.493392  ,  0.8349076 , -0.408192  , -0.44694814,\n",
       "         0.8733288 , -0.11069413,  0.71288246, -0.84102   , -0.36037344],\n",
       "       dtype=float32),\n",
       " 'du': array([-0.02509186, -1.286983  , -0.2766558 , -0.98303443, -1.406292  ,\n",
       "         0.41525084,  0.5190262 , -1.8554094 , -0.42798412, -0.66941565],\n",
       "       dtype=float32),\n",
       " 'royaume': array([-1.0884038 ,  0.18817322, -1.0431849 , -1.7244133 ,  0.5301921 ,\n",
       "         0.76773655, -0.73140043,  0.6117081 , -0.21935919, -0.52330726],\n",
       "       dtype=float32),\n",
       " 'uni': array([-1.2220185 , -1.6912602 ,  0.14402509,  0.8379974 ,  0.44382608,\n",
       "        -0.7052485 , -0.01327765, -0.9026914 ,  1.3897538 ,  0.15966621],\n",
       "       dtype=float32),\n",
       " 'berlin': array([-1.1238678 , -0.9539069 ,  0.28600055, -0.3935905 , -0.41069806,\n",
       "         0.6320254 ,  0.84930354,  0.4716008 , -0.47510082, -0.72149295],\n",
       "       dtype=float32),\n",
       " 'de': array([-0.6967703 , -0.10352159,  0.7070481 ,  0.26555964, -0.22257106,\n",
       "        -0.14888893,  0.7580425 ,  0.6915212 , -0.15146157,  0.13692392],\n",
       "       dtype=float32),\n",
       " 'l': array([-0.28168133,  0.45791227,  0.27851933, -0.57300204, -1.4029212 ,\n",
       "         0.1423009 , -1.2606375 , -0.27476877,  0.24745649, -0.49007803],\n",
       "       dtype=float32),\n",
       " 'allemagne': array([ 0.7424865 ,  1.049877  , -1.6364658 ,  3.1335146 ,  0.5359608 ,\n",
       "         0.12924968,  0.76727486, -1.6917875 , -0.8960714 ,  0.19899975],\n",
       "       dtype=float32),\n",
       " 'paris': array([-0.8414473 ,  1.7470673 , -0.49567223, -0.11072459, -2.3173642 ,\n",
       "         1.306262  ,  0.48933822,  0.14122662, -0.27741006,  0.87111986],\n",
       "       dtype=float32),\n",
       " 'france': array([ 0.5511734 , -1.2486829 , -0.3701454 , -0.16154036, -0.0785208 ,\n",
       "         0.78832364,  0.16649066, -1.3043756 ,  0.57610655,  1.0040338 ],\n",
       "       dtype=float32)}"
      ]
     },
     "execution_count": 27,
     "metadata": {},
     "output_type": "execute_result"
    }
   ],
   "source": [
    "# Dictionnaire des poids\n",
    "mot_poids = {index_mot[index]: poids.detach().numpy() for (index, poids) in enumerate(W2)}\n",
    "mot_poids"
   ]
  },
  {
   "cell_type": "code",
   "execution_count": 28,
   "metadata": {},
   "outputs": [
    {
     "data": {
      "text/plain": [
       "0.38157896279506315"
      ]
     },
     "execution_count": 28,
     "metadata": {},
     "output_type": "execute_result"
    }
   ],
   "source": [
    "# Quelques résultats\n",
    "cos_distance(mot_poids[\"homme\"],mot_poids[\"femme\"])"
   ]
  },
  {
   "cell_type": "code",
   "execution_count": 29,
   "metadata": {},
   "outputs": [
    {
     "data": {
      "text/plain": [
       "-0.2913856975124925"
      ]
     },
     "execution_count": 29,
     "metadata": {},
     "output_type": "execute_result"
    }
   ],
   "source": [
    "cos_distance(mot_poids[\"homme\"],mot_poids[\"il\"])"
   ]
  },
  {
   "cell_type": "code",
   "execution_count": 32,
   "metadata": {},
   "outputs": [
    {
     "data": {
      "text/plain": [
       "0.43000641219376956"
      ]
     },
     "execution_count": 32,
     "metadata": {},
     "output_type": "execute_result"
    }
   ],
   "source": [
    "cos_distance(mot_poids[\"homme\"] + mot_poids[\"roi\"] - mot_poids[\"femme\"],mot_poids[\"reine\"])"
   ]
  }
 ],
 "metadata": {
  "kernelspec": {
   "display_name": "Python 3",
   "language": "python",
   "name": "python3"
  },
  "language_info": {
   "codemirror_mode": {
    "name": "ipython",
    "version": 3
   },
   "file_extension": ".py",
   "mimetype": "text/x-python",
   "name": "python",
   "nbconvert_exporter": "python",
   "pygments_lexer": "ipython3",
   "version": "3.6.5"
  }
 },
 "nbformat": 4,
 "nbformat_minor": 2
}
