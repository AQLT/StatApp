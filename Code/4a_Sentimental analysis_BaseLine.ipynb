{
 "cells": [
  {
   "cell_type": "code",
   "execution_count": 63,
   "metadata": {},
   "outputs": [],
   "source": [
    "import os\n",
    "import string\n",
    "import re\n",
    "import pandas as pd\n",
    "import pickle\n",
    "import sklearn.metrics as metrics #courbe roc\n",
    "import matplotlib.pyplot as plt #courbe roc\n",
    "import numpy as np\n",
    "import random\n",
    "from random import sample\n",
    "\n",
    "os.chdir('C:/Users/torna/Documents/StatApp/StatApp')\n",
    "#os.chdir('C:/Users/Kim Antunez/Documents/Projets_autres/StatApp')\n",
    "#os.chdir('/Users/alainquartierlatente/Desktop/Ensae/StatApp')\n",
    "#os.chdir('/home/aqlt/Documents/Ensae/StatApp')"
   ]
  },
  {
   "cell_type": "markdown",
   "metadata": {},
   "source": [
    "# Différentes fonctions utiles"
   ]
  },
  {
   "cell_type": "code",
   "execution_count": 64,
   "metadata": {},
   "outputs": [],
   "source": [
    "#def choix():\n",
    "#    return sample((1,-1),1)\n",
    "\n",
    "def choix_aleatoire(corpus_train):\n",
    "    random.seed(1)\n",
    "    sentiments_tweets = [[tweet, score, sample((1,-1),1)[0]] for (score, tweet) in corpus_train]\n",
    "    resultat = [[tweet, 1 if val == score else 0] for (tweet, score, val) in sentiments_tweets]\n",
    "    return(sum(res for (tweet,res) in resultat)/len(resultat))"
   ]
  },
  {
   "cell_type": "code",
   "execution_count": 65,
   "metadata": {},
   "outputs": [],
   "source": [
    "def sentiment_plus(mot, matrice_sentiments):\n",
    "    plus, moins = matrice_sentiments[mot]\n",
    "    matrice_sentiments[mot] = (plus+1,moins)\n",
    "    \n",
    "def sentiment_moins(mot, matrice_sentiments):\n",
    "    plus, moins = matrice_sentiments[mot]\n",
    "    matrice_sentiments[mot] = (plus,moins+1)\n",
    "\n",
    "def mat_sentiments(corpus_train, vocabulaire):   \n",
    "    #Initialisation\n",
    "    matrice_sent = {mot:(0,0) for mot in vocabulaire}\n",
    "    for (score, tweet) in corpus_train:\n",
    "        for mot in tweet.split():\n",
    "            if score == 1:\n",
    "                sentiment_plus(mot, matrice_sent)\n",
    "            else:\n",
    "                sentiment_moins(mot,matrice_sent)\n",
    "    matrice_sentiments_val = {mot:(matrice_sent[mot][0]-matrice_sent[mot][1])/((matrice_sent[mot][0]+matrice_sent[mot][1]))\n",
    "                          for mot in vocabulaire}\n",
    "    return matrice_sentiments_val"
   ]
  },
  {
   "cell_type": "markdown",
   "metadata": {},
   "source": [
    "Deux manières de calculer le sentiment : \n",
    "- Tu regardes le % de tweets positifs dans lesquels il intervient => tu as un sentiment entre 0 et 1\n",
    "- **approche retenue ici** Tu regardes (Nb tweets positifs - Nb tweets négatifs)/Nb tot de tweet => tu as un sentiment entre -1 et 1 "
   ]
  },
  {
   "cell_type": "code",
   "execution_count": 66,
   "metadata": {},
   "outputs": [],
   "source": [
    "def sentiments_phrase(phrase,matrice_sentiments_val):\n",
    "    somme = 0\n",
    "    n = 0\n",
    "    for mot in phrase.split():\n",
    "        if mot in matrice_sentiments_val.keys():\n",
    "            somme += matrice_sentiments_val[mot]\n",
    "        n += 1\n",
    "    if(n!=0):\n",
    "        return(somme/n)\n",
    "    else:\n",
    "        return 0"
   ]
  },
  {
   "cell_type": "code",
   "execution_count": 67,
   "metadata": {},
   "outputs": [],
   "source": [
    "# Proportion de tweets qui sont positifs. \n",
    "def proportion_positifs(resultat):  \n",
    "    compteur = 0\n",
    "    n = 0\n",
    "    for (tweet, res) in resultat:\n",
    "        n += 1\n",
    "        if res == 1:\n",
    "            compteur+=1\n",
    "    return(compteur/n)"
   ]
  },
  {
   "cell_type": "code",
   "execution_count": 68,
   "metadata": {},
   "outputs": [],
   "source": [
    "def eval(a,sentiments_tweets, resultat):\n",
    "    resultat = [[tweet, 1 if ((val > a and score == 1) or (val < a and score == -1)) else 0]\n",
    "            for (tweet, score, val) in sentiments_tweets]\n",
    "    return sum(res for (tweet,res) in resultat)/len(resultat)"
   ]
  },
  {
   "cell_type": "code",
   "execution_count": 69,
   "metadata": {},
   "outputs": [],
   "source": [
    "def resultat_final(corpus, matrice_sentiments_val):\n",
    "    sentiments_tweets = [[tweet, score, sentiments_phrase(tweet, matrice_sentiments_val)] for (score, tweet) in corpus]\n",
    "    resultat = [[tweet, 1 if ((val > 0 and score == 1) or (val < 0 and score == -1)) else 0]\n",
    "            for (tweet, score, val) in sentiments_tweets]\n",
    "    print(\"proportion_positifs :\", proportion_positifs(resultat))\n",
    "    res_final = {a/100:eval(a/100,sentiments_tweets, resultat) for a in range(-100,100)}\n",
    "    return(res_final)"
   ]
  },
  {
   "cell_type": "code",
   "execution_count": 70,
   "metadata": {},
   "outputs": [],
   "source": [
    "def courbe_roc(corpus,matrice_sentiments_val=None,methode=1):\n",
    "    if methode==1:\n",
    "        sentiments_tweets = [[tweet, score, choix()[0]] for (score, tweet) in corpus_train]\n",
    "    if methode==2:\n",
    "        sentiments_tweets = [[tweet, score, sentiments_phrase(tweet, matrice_sentiments_val)] for (score, tweet) in corpus]\n",
    "        sentiments_tweets = [[tweet, score, 1 if (val > -0.05) else -1]\n",
    "                for (tweet, score, val) in sentiments_tweets]\n",
    "    preds = [res for (tweet, score, res) in sentiments_tweets] \n",
    "    Y_test = [score for (tweet, score, res) in sentiments_tweets] \n",
    "    fpr, tpr, threshold = metrics.roc_curve(Y_test, preds)\n",
    "    roc_auc = metrics.auc(fpr, tpr)\n",
    "\n",
    "    #plt.title('Courbe ROC - Régression logistique - Test')\n",
    "    plt.plot(fpr, tpr, 'b', label = 'AUC = %0.2f' % roc_auc)\n",
    "    plt.legend(loc = 'lower right')\n",
    "    plt.plot([0, 1], [0, 1],'r--')\n",
    "    plt.xlim([0, 1])\n",
    "    plt.ylim([0, 1])\n",
    "    plt.ylabel('Taux de vrais positifs')\n",
    "    plt.xlabel('Taux de faux positifs')\n",
    "    plt.show()"
   ]
  },
  {
   "cell_type": "markdown",
   "metadata": {},
   "source": [
    "# Modèle 1 aléatoire : on prédit 1 ou -1 de manière random\n",
    "\n",
    "## Application sur base git "
   ]
  },
  {
   "cell_type": "code",
   "execution_count": 104,
   "metadata": {},
   "outputs": [],
   "source": [
    "with open(\"data/sentimental_analysis/corpus_test.file\", \"rb\") as f:\n",
    "    corpus_test = pickle.load(f)\n",
    "with open(\"data/sentimental_analysis/corpus_train.file\", \"rb\") as f:\n",
    "    corpus_train = pickle.load(f)"
   ]
  },
  {
   "cell_type": "code",
   "execution_count": 106,
   "metadata": {},
   "outputs": [
    {
     "name": "stdout",
     "output_type": "stream",
     "text": [
      "0.50154\n"
     ]
    }
   ],
   "source": [
    "print(choix_aleatoire(corpus_train))"
   ]
  },
  {
   "cell_type": "code",
   "execution_count": 107,
   "metadata": {},
   "outputs": [
    {
     "data": {
      "image/png": "[encoded data removed]",
      "text/plain": [
       "<Figure size 432x288 with 1 Axes>"
      ]
     },
     "metadata": {
      "needs_background": "light"
     },
     "output_type": "display_data"
    }
   ],
   "source": [
    "courbe_roc(corpus_train,methode=1)"
   ]
  },
  {
   "cell_type": "markdown",
   "metadata": {},
   "source": [
    "## Application sur base sncf"
   ]
  },
  {
   "cell_type": "code",
   "execution_count": 110,
   "metadata": {},
   "outputs": [],
   "source": [
    "with open(\"data/sentimental_analysis/corpus_test_sncf.file\", \"rb\") as f:\n",
    "    corpus_test = pickle.load(f)\n",
    "with open(\"data/sentimental_analysis/corpus_train_sncf.file\", \"rb\") as f:\n",
    "    corpus_train = pickle.load(f)"
   ]
  },
  {
   "cell_type": "code",
   "execution_count": 111,
   "metadata": {},
   "outputs": [
    {
     "name": "stdout",
     "output_type": "stream",
     "text": [
      "0.4969382654336416\n"
     ]
    }
   ],
   "source": [
    "print(choix_aleatoire(corpus_train))"
   ]
  },
  {
   "cell_type": "code",
   "execution_count": 112,
   "metadata": {},
   "outputs": [
    {
     "data": {
      "image/png": "[encoded data removed]",
      "text/plain": [
       "<Figure size 432x288 with 1 Axes>"
      ]
     },
     "metadata": {
      "needs_background": "light"
     },
     "output_type": "display_data"
    }
   ],
   "source": [
    "courbe_roc(corpus_train,methode=1)"
   ]
  },
  {
   "cell_type": "markdown",
   "metadata": {},
   "source": [
    "# Modèle 2 : prédiction sentiment de la phrase en fonction du sentiment moyen des mots\n",
    "\n",
    "## Application sur base git "
   ]
  },
  {
   "cell_type": "code",
   "execution_count": 10,
   "metadata": {},
   "outputs": [],
   "source": [
    "with open(\"data/sentimental_analysis/corpus_test.file\", \"rb\") as f:\n",
    "    corpus_test = pickle.load(f)\n",
    "with open(\"data/sentimental_analysis/corpus_train.file\", \"rb\") as f:\n",
    "    corpus_train = pickle.load(f)"
   ]
  },
  {
   "cell_type": "code",
   "execution_count": 11,
   "metadata": {},
   "outputs": [
    {
     "name": "stdout",
     "output_type": "stream",
     "text": [
      "Nombre de mots : 674732\n",
      "Taille du vocabulaire : 39650\n"
     ]
    }
   ],
   "source": [
    "phrases = [tweet.split() for (score, tweet) in corpus_train]\n",
    "mots = [item for sublist in phrases for item in sublist]\n",
    "vocabulaire = list(dict.fromkeys(mots))\n",
    "print(\"Nombre de mots :\", len(mots))\n",
    "print(\"Taille du vocabulaire :\", len(vocabulaire))"
   ]
  },
  {
   "cell_type": "code",
   "execution_count": 12,
   "metadata": {},
   "outputs": [
    {
     "name": "stdout",
     "output_type": "stream",
     "text": [
      "0.3333333333333333\n",
      "-0.3448275862068966\n"
     ]
    }
   ],
   "source": [
    "matrice_sentiments_val = mat_sentiments(corpus_train, vocabulaire)\n",
    "#print(matrice_sentiments_val[\"le\"])\n",
    "print(matrice_sentiments_val[\"gentil\"])\n",
    "print(matrice_sentiments_val[\"méchant\"])\n",
    "#sentiments_phrase(\"le gentil méchant\", matrice_sentiments_val)"
   ]
  },
  {
   "cell_type": "code",
   "execution_count": 13,
   "metadata": {},
   "outputs": [],
   "source": [
    "# Enregistrement de la matrice_sentiment\n",
    "with open(\"data/sentimental_analysis/matrice_sentiment_baseline_git.file\", \"wb\") as f:\n",
    "        pickle.dump(matrice_sentiments_val, f, pickle.HIGHEST_PROTOCOL)"
   ]
  },
  {
   "cell_type": "markdown",
   "metadata": {},
   "source": [
    "Evaluation sur le train"
   ]
  },
  {
   "cell_type": "code",
   "execution_count": 84,
   "metadata": {},
   "outputs": [
    {
     "name": "stdout",
     "output_type": "stream",
     "text": [
      "proportion_positifs : 0.8441\n"
     ]
    }
   ],
   "source": [
    "res_final = resultat_final(corpus_train, matrice_sentiments_val)"
   ]
  },
  {
   "cell_type": "markdown",
   "metadata": {},
   "source": [
    "Evaluation sur le test"
   ]
  },
  {
   "cell_type": "code",
   "execution_count": 85,
   "metadata": {},
   "outputs": [
    {
     "name": "stdout",
     "output_type": "stream",
     "text": [
      "proportion_positifs : 0.6986438975389252\n"
     ]
    }
   ],
   "source": [
    "res_final_test = resultat_final(corpus_test, matrice_sentiments_val)"
   ]
  },
  {
   "cell_type": "markdown",
   "metadata": {},
   "source": [
    "Distributions test VS train"
   ]
  },
  {
   "cell_type": "code",
   "execution_count": 86,
   "metadata": {},
   "outputs": [
    {
     "data": {
      "text/plain": [
       "<matplotlib.legend.Legend at 0x1875dc72848>"
      ]
     },
     "execution_count": 86,
     "metadata": {},
     "output_type": "execute_result"
    },
    {
     "data": {
      "image/png": "[encoded data removed]",
      "text/plain": [
       "<Figure size 432x288 with 1 Axes>"
      ]
     },
     "metadata": {
      "needs_background": "light"
     },
     "output_type": "display_data"
    }
   ],
   "source": [
    "import matplotlib.pyplot as plt\n",
    "import numpy as np\n",
    "\n",
    "keys_train = np.fromiter(res_final.keys(), dtype=float)\n",
    "vals_train = np.fromiter(res_final.values(), dtype=float)\n",
    "\n",
    "keys_test = np.fromiter(res_final_test.keys(), dtype=float)\n",
    "vals_test = np.fromiter(res_final_test.values(), dtype=float)\n",
    "\n",
    "plt.plot(keys_train,vals_train,\"bo\")\n",
    "plt.plot(keys_test,vals_test,'o')\n",
    "plt.legend([\"Train\",\"Test\"])"
   ]
  },
  {
   "cell_type": "code",
   "execution_count": 87,
   "metadata": {},
   "outputs": [
    {
     "name": "stdout",
     "output_type": "stream",
     "text": [
      "test : [-0.05]\n",
      "train :  [-0.05]\n"
     ]
    }
   ],
   "source": [
    "print(\"test :\", [(key) for key in res_final_test.keys()\n",
    "                 if res_final_test[key] == max(vals_test)])\n",
    "print(\"train : \", [(key) for key in res_final.keys()\n",
    "                   if res_final[key] == max(vals_train)])"
   ]
  },
  {
   "cell_type": "code",
   "execution_count": 14,
   "metadata": {},
   "outputs": [
    {
     "name": "stdout",
     "output_type": "stream",
     "text": [
      "0.87328\n",
      "0.7290306378704169\n"
     ]
    }
   ],
   "source": [
    "print(res_final[-0.05])\n",
    "print(res_final_test[-0.05])"
   ]
  },
  {
   "cell_type": "code",
   "execution_count": 89,
   "metadata": {},
   "outputs": [
    {
     "data": {
      "image/png": "[encoded data removed]",
      "text/plain": [
       "<Figure size 432x288 with 1 Axes>"
      ]
     },
     "metadata": {
      "needs_background": "light"
     },
     "output_type": "display_data"
    }
   ],
   "source": [
    "courbe_roc(matrice_sentiments_val,corpus_test,methode=2)"
   ]
  },
  {
   "cell_type": "markdown",
   "metadata": {},
   "source": [
    "## Application sur base sncf"
   ]
  },
  {
   "cell_type": "code",
   "execution_count": 71,
   "metadata": {},
   "outputs": [],
   "source": [
    "with open(\"data/sentimental_analysis/corpus_test_sncf.file\", \"rb\") as f:\n",
    "    corpus_test = pickle.load(f)\n",
    "with open(\"data/sentimental_analysis/corpus_train_sncf.file\", \"rb\") as f:\n",
    "    corpus_train = pickle.load(f)"
   ]
  },
  {
   "cell_type": "code",
   "execution_count": 32,
   "metadata": {},
   "outputs": [
    {
     "data": {
      "text/plain": [
       "22862"
      ]
     },
     "execution_count": 32,
     "metadata": {},
     "output_type": "execute_result"
    }
   ],
   "source": [
    "len(corpus_test)+len(corpus_train)"
   ]
  },
  {
   "cell_type": "code",
   "execution_count": 72,
   "metadata": {},
   "outputs": [
    {
     "name": "stdout",
     "output_type": "stream",
     "text": [
      "Nombre de mots : 342106\n",
      "Taille du vocabulaire : 26319\n"
     ]
    }
   ],
   "source": [
    "phrases = [tweet.split() for (score, tweet) in corpus_train]\n",
    "mots = [item for sublist in phrases for item in sublist]\n",
    "vocabulaire = list(dict.fromkeys(mots))\n",
    "print(\"Nombre de mots :\", len(mots))\n",
    "print(\"Taille du vocabulaire :\", len(vocabulaire))"
   ]
  },
  {
   "cell_type": "code",
   "execution_count": 73,
   "metadata": {},
   "outputs": [
    {
     "name": "stdout",
     "output_type": "stream",
     "text": [
      "0.8235294117647058\n",
      "0.3333333333333333\n"
     ]
    }
   ],
   "source": [
    "matrice_sentiments_val = mat_sentiments(corpus_train, vocabulaire)\n",
    "#print(matrice_sentiments_val[\"le\"])\n",
    "print(matrice_sentiments_val[\"gentil\"])\n",
    "print(matrice_sentiments_val[\"méchant\"])\n",
    "#sentiments_phrase(\"le gentil méchant\", matrice_sentiments_val)\n"
   ]
  },
  {
   "cell_type": "code",
   "execution_count": 21,
   "metadata": {},
   "outputs": [],
   "source": [
    "# Enregistrement de la matrice_sentiment\n",
    "with open(\"data/sentimental_analysis/matrice_sentiment_baseline_sncf.file\", \"wb\") as f:\n",
    "        pickle.dump(matrice_sentiments_val, f, pickle.HIGHEST_PROTOCOL)"
   ]
  },
  {
   "cell_type": "markdown",
   "metadata": {},
   "source": [
    "Evaluation sur le train"
   ]
  },
  {
   "cell_type": "code",
   "execution_count": 75,
   "metadata": {},
   "outputs": [
    {
     "name": "stdout",
     "output_type": "stream",
     "text": [
      "proportion_positifs : 0.744063984003999\n"
     ]
    }
   ],
   "source": [
    "res_final = resultat_final(corpus_train, matrice_sentiments_val)"
   ]
  },
  {
   "cell_type": "markdown",
   "metadata": {},
   "source": [
    "Evaluation sur le test"
   ]
  },
  {
   "cell_type": "code",
   "execution_count": 74,
   "metadata": {},
   "outputs": [
    {
     "name": "stdout",
     "output_type": "stream",
     "text": [
      "proportion_positifs : 0.705161854768154\n"
     ]
    }
   ],
   "source": [
    "res_final_test = resultat_final(corpus_test, matrice_sentiments_val)"
   ]
  },
  {
   "cell_type": "markdown",
   "metadata": {},
   "source": [
    "Distributions test VS train"
   ]
  },
  {
   "cell_type": "code",
   "execution_count": 77,
   "metadata": {},
   "outputs": [
    {
     "data": {
      "text/plain": [
       "Text(0, 0.5, 'Accuracy')"
      ]
     },
     "execution_count": 77,
     "metadata": {},
     "output_type": "execute_result"
    },
    {
     "data": {
      "image/png": "[encoded data removed]",
      "text/plain": [
       "<Figure size 432x288 with 1 Axes>"
      ]
     },
     "metadata": {
      "needs_background": "light"
     },
     "output_type": "display_data"
    }
   ],
   "source": [
    "keys_train = np.fromiter(res_final.keys(), dtype=float)\n",
    "vals_train = np.fromiter(res_final.values(), dtype=float)\n",
    "\n",
    "keys_test = np.fromiter(res_final_test.keys(), dtype=float)\n",
    "vals_test = np.fromiter(res_final_test.values(), dtype=float)\n",
    "\n",
    "#plt.plot(keys_train,vals_train,\"bo\")\n",
    "plt.plot(keys_test,vals_test,'bo')\n",
    "plt.xlabel('Seuil')\n",
    "plt.ylabel('Accuracy')\n",
    "#plt.legend([\"Train\",\"Test\"])"
   ]
  },
  {
   "cell_type": "code",
   "execution_count": 20,
   "metadata": {},
   "outputs": [
    {
     "name": "stdout",
     "output_type": "stream",
     "text": [
      "test : [-0.14]\n",
      "train :  [-0.14]\n"
     ]
    }
   ],
   "source": [
    "print(\"test :\", [(key) for key in res_final_test.keys()\n",
    "                 if res_final_test[key] == max(vals_test)])\n",
    "print(\"train : \", [(key) for key in res_final.keys()\n",
    "                   if res_final[key] == max(vals_train)])"
   ]
  },
  {
   "cell_type": "code",
   "execution_count": 29,
   "metadata": {},
   "outputs": [
    {
     "name": "stdout",
     "output_type": "stream",
     "text": [
      "0.9502624343914021\n",
      "0.8907844852726743\n"
     ]
    }
   ],
   "source": [
    "print(res_final[-0.14])\n",
    "print(res_final_test[-0.14])"
   ]
  },
  {
   "cell_type": "code",
   "execution_count": 71,
   "metadata": {},
   "outputs": [
    {
     "data": {
      "image/png": "[encoded data removed]",
      "text/plain": [
       "<Figure size 432x288 with 1 Axes>"
      ]
     },
     "metadata": {
      "needs_background": "light"
     },
     "output_type": "display_data"
    }
   ],
   "source": [
    "courbe_roc(matrice_sentiments_val,corpus_test)"
   ]
  },
  {
   "cell_type": "code",
   "execution_count": 78,
   "metadata": {},
   "outputs": [
    {
     "data": {
      "text/plain": [
       "-0.25299029564432407"
      ]
     },
     "execution_count": 78,
     "metadata": {},
     "output_type": "execute_result"
    }
   ],
   "source": [
    "matrice_sentiments_val[\"pas\"]"
   ]
  }
 ],
 "metadata": {
  "kernelspec": {
   "display_name": "Python 3",
   "language": "python",
   "name": "python3"
  },
  "language_info": {
   "codemirror_mode": {
    "name": "ipython",
    "version": 3
   },
   "file_extension": ".py",
   "mimetype": "text/x-python",
   "name": "python",
   "nbconvert_exporter": "python",
   "pygments_lexer": "ipython3",
   "version": "3.6.5"
  }
 },
 "nbformat": 4,
 "nbformat_minor": 4
}
