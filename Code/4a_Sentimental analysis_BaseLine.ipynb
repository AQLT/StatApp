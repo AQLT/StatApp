{
 "cells": [
  {
   "cell_type": "code",
   "execution_count": 1,
   "metadata": {},
   "outputs": [],
   "source": [
    "import os\n",
    "import string\n",
    "import re\n",
    "import pandas as pd\n",
    "import pickle\n",
    "import sklearn.metrics as metrics #courbe roc\n",
    "import matplotlib.pyplot as plt #courbe roc\n",
    "import numpy as np\n",
    "import random\n",
    "from random import sample\n",
    "\n",
    "#os.chdir('C:/Users/torna/Documents/StatApp/StatApp')\n",
    "os.chdir('C:/Users/Kim Antunez/Documents/Projets_autres/StatApp')\n",
    "#os.chdir('/Users/alainquartierlatente/Desktop/Ensae/StatApp')\n",
    "#os.chdir('/home/aqlt/Documents/Ensae/StatApp')"
   ]
  },
  {
   "cell_type": "markdown",
   "metadata": {},
   "source": [
    "# Différentes fonctions utiles"
   ]
  },
  {
   "cell_type": "code",
   "execution_count": 2,
   "metadata": {},
   "outputs": [],
   "source": [
    "# Faire un tirage aléatoire : soit 1 soit -1\n",
    "def choix():\n",
    "    return sample((1,-1),1)\n",
    "\n",
    "# Faire autant de tirage aléatoire que la taille de corpus_train et \n",
    "#faire la moyenne\n",
    "def choix_aleatoire(corpus_train):\n",
    "    random.seed(1)\n",
    "    sentiments_tweets = [[tweet, score, sample((1,-1),1)[0]] for (score, tweet) in corpus_train]\n",
    "    resultat = [[tweet, 1 if val == score else 0] for (tweet, score, val) in sentiments_tweets]\n",
    "    return(sum(res for (tweet,res) in resultat)/len(resultat))"
   ]
  },
  {
   "cell_type": "code",
   "execution_count": 3,
   "metadata": {},
   "outputs": [],
   "source": [
    "def sentiment_plus(mot, matrice_sentiments):\n",
    "    plus, moins = matrice_sentiments[mot]\n",
    "    matrice_sentiments[mot] = (plus+1,moins)\n",
    "    \n",
    "def sentiment_moins(mot, matrice_sentiments):\n",
    "    plus, moins = matrice_sentiments[mot]\n",
    "    matrice_sentiments[mot] = (plus,moins+1)\n",
    "\n",
    "# les sentiments des mots appartient à -1 1. \n",
    "def mat_sentiments(corpus, vocabulaire):   \n",
    "    #Initialisation\n",
    "    matrice_sent = {mot:(0,0) for mot in vocabulaire}\n",
    "    for (score, tweet) in corpus:\n",
    "        for mot in tweet.split():\n",
    "            if score == 1:\n",
    "                sentiment_plus(mot, matrice_sent)\n",
    "            else:\n",
    "                sentiment_moins(mot,matrice_sent)\n",
    "    matrice_sentiments_val = {mot:(matrice_sent[mot][0]-matrice_sent[mot][1])/((matrice_sent[mot][0]+matrice_sent[mot][1]))\n",
    "                          for mot in vocabulaire}\n",
    "    return matrice_sentiments_val"
   ]
  },
  {
   "cell_type": "markdown",
   "metadata": {},
   "source": [
    "Deux manières de calculer le sentiment : \n",
    "- Tu regardes le % de tweets positifs dans lesquels il intervient => tu as un sentiment entre 0 et 1\n",
    "- **approche retenue ici** Tu regardes (Nb tweets positifs - Nb tweets négatifs)/Nb tot de tweet => tu as un sentiment entre -1 et 1 "
   ]
  },
  {
   "cell_type": "code",
   "execution_count": 4,
   "metadata": {},
   "outputs": [],
   "source": [
    "# Le score de sentiment de la phrase est la moyenne des sentiments des mots \n",
    "def sentiments_phrase(phrase,matrice_sentiments):\n",
    "    somme = 0\n",
    "    n = 0\n",
    "    for mot in phrase.split():\n",
    "        if mot in matrice_sentiments.keys():\n",
    "            somme += matrice_sentiments[mot]\n",
    "        n += 1\n",
    "    if(n!=0):\n",
    "        return(somme/n)\n",
    "    else:\n",
    "        return 0"
   ]
  },
  {
   "cell_type": "code",
   "execution_count": 62,
   "metadata": {},
   "outputs": [],
   "source": [
    "# Proportion de tweets qui sont positifs dans le corpus\n",
    "def proportion_positifs(corpus, matrice_sentiments,seuil=0):\n",
    "    resultat = [1 if score==1 else 0 for (score, tweet) in corpus]\n",
    "    #print(len(resultat))\n",
    "    compteur = 0\n",
    "    n = 0\n",
    "    for res in resultat:\n",
    "        n += 1\n",
    "        if res == 1:\n",
    "            compteur+=1\n",
    "    return(compteur/n)"
   ]
  },
  {
   "cell_type": "code",
   "execution_count": 6,
   "metadata": {},
   "outputs": [],
   "source": [
    "def accuracy(sentiments_tweets, seuil=0):\n",
    "    resultat = [[tweet, 1 if ((val >= seuil and score == 1) or (val < seuil and score == -1)) else 0]\n",
    "            for (tweet, score, val) in sentiments_tweets]\n",
    "    return sum(res for (tweet,res) in resultat)/len(resultat)"
   ]
  },
  {
   "cell_type": "code",
   "execution_count": 7,
   "metadata": {},
   "outputs": [],
   "source": [
    "def accuracy_multiseuil(corpus, matrice_sentiments,seuil=0):\n",
    "    #sentiments tweets continent : le tweet, son vrai score et le score de sentiment de la phrase \n",
    "    # qui appartient à -1 1. \n",
    "    sentiments_tweets = [[tweet, score, sentiments_phrase(tweet, matrice_sentiments)] for (score, tweet) in corpus]\n",
    "    print(\"accuracy au seuil \", seuil, \" : \", accuracy(sentiments_tweets, seuil))\n",
    "    res_final = {seuils/100:accuracy(sentiments_tweets,seuils/100) for seuils in range(-100,100)}\n",
    "    return(res_final)"
   ]
  },
  {
   "cell_type": "code",
   "execution_count": 8,
   "metadata": {},
   "outputs": [],
   "source": [
    "def courbe_roc(corpus,methode,seuil=0,matrice_sentiments=None):\n",
    "    if methode==1:\n",
    "        sentiments_tweets = [[tweet, score, choix()[0]] for (score, tweet) in corpus]\n",
    "    if methode==2:\n",
    "        sentiments_tweets = [[tweet, score, sentiments_phrase(tweet, matrice_sentiments)] for (score, tweet) in corpus]\n",
    "        sentiments_tweets = [[tweet, score, 1 if (val > seuil) else -1]\n",
    "                for (tweet, score, val) in sentiments_tweets]\n",
    "    preds = [res for (tweet, score, res) in sentiments_tweets] \n",
    "    Y_test = [score for (tweet, score, res) in sentiments_tweets] \n",
    "    fpr, tpr, threshold = metrics.roc_curve(Y_test, preds)\n",
    "    roc_auc = metrics.auc(fpr, tpr)\n",
    "\n",
    "    #plt.title('Courbe ROC - Régression logistique - Test')\n",
    "    plt.plot(fpr, tpr, 'b', label = 'AUC = %0.2f' % roc_auc)\n",
    "    plt.legend(loc = 'lower right')\n",
    "    plt.plot([0, 1], [0, 1],'r--')\n",
    "    plt.xlim([0, 1])\n",
    "    plt.ylim([0, 1])\n",
    "    plt.ylabel('Taux de vrais positifs')\n",
    "    plt.xlabel('Taux de faux positifs')\n",
    "    plt.show()"
   ]
  },
  {
   "cell_type": "markdown",
   "metadata": {},
   "source": [
    "# Modèle 1 aléatoire : on prédit 1 ou -1 de manière random\n",
    "\n",
    "## Application sur base git "
   ]
  },
  {
   "cell_type": "code",
   "execution_count": 63,
   "metadata": {},
   "outputs": [],
   "source": [
    "with open(\"data/sentimental_analysis/corpus_test.file\", \"rb\") as f:\n",
    "    corpus_test = pickle.load(f)\n",
    "with open(\"data/sentimental_analysis/corpus_train.file\", \"rb\") as f:\n",
    "    corpus_train = pickle.load(f)"
   ]
  },
  {
   "cell_type": "code",
   "execution_count": 10,
   "metadata": {},
   "outputs": [
    {
     "name": "stdout",
     "output_type": "stream",
     "text": [
      "0.50154\n"
     ]
    }
   ],
   "source": [
    "print(choix_aleatoire(corpus_train))"
   ]
  },
  {
   "cell_type": "code",
   "execution_count": 11,
   "metadata": {},
   "outputs": [
    {
     "data": {
      "image/png": "[encoded data removed]",
      "text/plain": [
       "<Figure size 432x288 with 1 Axes>"
      ]
     },
     "metadata": {
      "needs_background": "light"
     },
     "output_type": "display_data"
    }
   ],
   "source": [
    "courbe_roc(corpus_train,methode=1,seuil=0,matrice_sentiments=None)"
   ]
  },
  {
   "cell_type": "markdown",
   "metadata": {},
   "source": [
    "## Application sur base sncf"
   ]
  },
  {
   "cell_type": "code",
   "execution_count": 12,
   "metadata": {},
   "outputs": [],
   "source": [
    "with open(\"data/sentimental_analysis/corpus_test_sncf.file\", \"rb\") as f:\n",
    "    corpus_test = pickle.load(f)\n",
    "with open(\"data/sentimental_analysis/corpus_train_sncf.file\", \"rb\") as f:\n",
    "    corpus_train = pickle.load(f)"
   ]
  },
  {
   "cell_type": "code",
   "execution_count": 13,
   "metadata": {},
   "outputs": [
    {
     "name": "stdout",
     "output_type": "stream",
     "text": [
      "0.4969382654336416\n"
     ]
    }
   ],
   "source": [
    "print(choix_aleatoire(corpus_train))"
   ]
  },
  {
   "cell_type": "code",
   "execution_count": 14,
   "metadata": {},
   "outputs": [
    {
     "data": {
      "image/png": "[encoded data removed]",
      "text/plain": [
       "<Figure size 432x288 with 1 Axes>"
      ]
     },
     "metadata": {
      "needs_background": "light"
     },
     "output_type": "display_data"
    }
   ],
   "source": [
    "courbe_roc(corpus_train,methode=1,seuil=0,matrice_sentiments=None)"
   ]
  },
  {
   "cell_type": "markdown",
   "metadata": {},
   "source": [
    "# Modèle 2 : prédiction sentiment de la phrase en fonction du sentiment moyen des mots\n",
    "\n",
    "## Application sur base git "
   ]
  },
  {
   "cell_type": "code",
   "execution_count": 64,
   "metadata": {},
   "outputs": [],
   "source": [
    "with open(\"data/sentimental_analysis/corpus_test.file\", \"rb\") as f:\n",
    "    corpus_test = pickle.load(f)\n",
    "with open(\"data/sentimental_analysis/corpus_train.file\", \"rb\") as f:\n",
    "    corpus_train = pickle.load(f)"
   ]
  },
  {
   "cell_type": "code",
   "execution_count": 65,
   "metadata": {},
   "outputs": [
    {
     "name": "stdout",
     "output_type": "stream",
     "text": [
      "3982\n",
      "50000\n",
      "53982\n"
     ]
    }
   ],
   "source": [
    "print(len(corpus_test))\n",
    "print(len(corpus_train))\n",
    "print(len(corpus_test) + len(corpus_train))"
   ]
  },
  {
   "cell_type": "code",
   "execution_count": 66,
   "metadata": {},
   "outputs": [
    {
     "name": "stdout",
     "output_type": "stream",
     "text": [
      "proportion positifs du train 0.5\n",
      "proportion positifs du test 0.5017579105976896\n"
     ]
    }
   ],
   "source": [
    "print(\"proportion positifs du train\",\n",
    "      proportion_positifs(corpus_train, matrice_sentiments_train,seuil=0))\n",
    "print(\"proportion positifs du test\",\n",
    "      proportion_positifs(corpus_test, matrice_sentiments_train,seuil=0))"
   ]
  },
  {
   "cell_type": "code",
   "execution_count": 17,
   "metadata": {},
   "outputs": [
    {
     "name": "stdout",
     "output_type": "stream",
     "text": [
      "Nombre de mots du train : 674732\n",
      "Taille du vocabulaire du train : 39650\n",
      "0.3333333333333333\n",
      "-0.3448275862068966\n"
     ]
    }
   ],
   "source": [
    "phrases_train = [tweet.split() for (score, tweet) in corpus_train]\n",
    "mots_train = [item for sublist in phrases_train for item in sublist]\n",
    "vocabulaire_train = list(dict.fromkeys(mots_train))\n",
    "print(\"Nombre de mots du train :\", len(mots_train))\n",
    "print(\"Taille du vocabulaire du train :\", len(vocabulaire_train))\n",
    "\n",
    "matrice_sentiments_train = mat_sentiments(corpus_train, vocabulaire_train)\n",
    "\n",
    "print(matrice_sentiments_train[\"gentil\"])\n",
    "print(matrice_sentiments_train[\"méchant\"])"
   ]
  },
  {
   "cell_type": "code",
   "execution_count": 24,
   "metadata": {},
   "outputs": [],
   "source": [
    "# Enregistrement de la matrice_sentiment\n",
    "#with open(\"data/sentimental_analysis/matrice_sentiment_baseline_git.file\", \"wb\") as f:\n",
    "#        pickle.dump(matrice_sentiments_train, f, pickle.HIGHEST_PROTOCOL)"
   ]
  },
  {
   "cell_type": "markdown",
   "metadata": {},
   "source": [
    "Evaluation sur le train"
   ]
  },
  {
   "cell_type": "code",
   "execution_count": 18,
   "metadata": {
    "scrolled": true
   },
   "outputs": [
    {
     "name": "stdout",
     "output_type": "stream",
     "text": [
      "accuracy au seuil  0  :  0.84454\n"
     ]
    }
   ],
   "source": [
    "accuracies_train = accuracy_multiseuil(corpus_train, matrice_sentiments_train,seuil=0)"
   ]
  },
  {
   "cell_type": "markdown",
   "metadata": {},
   "source": [
    "Evaluation sur le test"
   ]
  },
  {
   "cell_type": "code",
   "execution_count": 19,
   "metadata": {
    "scrolled": true
   },
   "outputs": [
    {
     "name": "stdout",
     "output_type": "stream",
     "text": [
      "accuracy au seuil  0  :  0.7001506780512305\n"
     ]
    }
   ],
   "source": [
    "# Attention pour évaluer le test, on prend la matrice de sentiment du train !\n",
    "accuracies_test = accuracy_multiseuil(corpus_test, matrice_sentiments_train,seuil=0)"
   ]
  },
  {
   "cell_type": "markdown",
   "metadata": {},
   "source": [
    "Distributions test VS train"
   ]
  },
  {
   "cell_type": "code",
   "execution_count": 20,
   "metadata": {},
   "outputs": [],
   "source": [
    "import matplotlib.pyplot as plt\n",
    "import numpy as np"
   ]
  },
  {
   "cell_type": "code",
   "execution_count": 21,
   "metadata": {},
   "outputs": [],
   "source": [
    "keys_train = np.fromiter(accuracies_train.keys(), dtype=float)\n",
    "vals_train = np.fromiter(accuracies_train.values(), dtype=float)\n",
    "\n",
    "keys_test = np.fromiter(accuracies_test.keys(), dtype=float)\n",
    "vals_test = np.fromiter(accuracies_test.values(), dtype=float)"
   ]
  },
  {
   "cell_type": "code",
   "execution_count": 22,
   "metadata": {},
   "outputs": [
    {
     "data": {
      "text/plain": [
       "Text(0, 0.5, 'Accuracy')"
      ]
     },
     "execution_count": 22,
     "metadata": {},
     "output_type": "execute_result"
    },
    {
     "data": {
      "image/png": "[encoded data removed]",
      "text/plain": [
       "<Figure size 432x288 with 1 Axes>"
      ]
     },
     "metadata": {
      "needs_background": "light"
     },
     "output_type": "display_data"
    }
   ],
   "source": [
    "plt.plot(keys_train,vals_train,\"bo\")\n",
    "plt.plot(keys_test,vals_test,'o')\n",
    "plt.legend([\"Train\",\"Test\"])\n",
    "plt.xlabel('Seuil')\n",
    "plt.ylabel('Accuracy')"
   ]
  },
  {
   "cell_type": "code",
   "execution_count": 23,
   "metadata": {},
   "outputs": [
    {
     "data": {
      "text/plain": [
       "Text(0, 0.5, 'Accuracy')"
      ]
     },
     "execution_count": 23,
     "metadata": {},
     "output_type": "execute_result"
    },
    {
     "data": {
      "image/png": "[encoded data removed]",
      "text/plain": [
       "<Figure size 432x288 with 1 Axes>"
      ]
     },
     "metadata": {
      "needs_background": "light"
     },
     "output_type": "display_data"
    }
   ],
   "source": [
    "plt.plot(keys_train,vals_train,\"bo\")\n",
    "plt.xlabel('Seuil')\n",
    "plt.ylabel('Accuracy')"
   ]
  },
  {
   "cell_type": "code",
   "execution_count": 24,
   "metadata": {},
   "outputs": [
    {
     "name": "stdout",
     "output_type": "stream",
     "text": [
      "test : [-0.05]\n",
      "train :  [-0.05]\n"
     ]
    }
   ],
   "source": [
    "print(\"test :\", [(key) for key in accuracies_test.keys()\n",
    "                 if accuracies_test[key] == max(vals_test)])\n",
    "print(\"train : \", [(key) for key in accuracies_train.keys()\n",
    "                   if accuracies_train[key] == max(vals_train)])\n",
    "seuil = -0.05"
   ]
  },
  {
   "cell_type": "code",
   "execution_count": 25,
   "metadata": {},
   "outputs": [
    {
     "name": "stdout",
     "output_type": "stream",
     "text": [
      "0.87328\n",
      "0.7290306378704169\n"
     ]
    }
   ],
   "source": [
    "print(accuracies_train[seuil])\n",
    "print(accuracies_test[seuil])"
   ]
  },
  {
   "cell_type": "code",
   "execution_count": 26,
   "metadata": {},
   "outputs": [
    {
     "data": {
      "image/png": "[encoded data removed]",
      "text/plain": [
       "<Figure size 432x288 with 1 Axes>"
      ]
     },
     "metadata": {
      "needs_background": "light"
     },
     "output_type": "display_data"
    }
   ],
   "source": [
    "courbe_roc(corpus_test,methode=2,seuil=seuil,matrice_sentiments=matrice_sentiments_train)"
   ]
  },
  {
   "cell_type": "markdown",
   "metadata": {},
   "source": [
    "## Application sur base sncf"
   ]
  },
  {
   "cell_type": "code",
   "execution_count": 67,
   "metadata": {},
   "outputs": [],
   "source": [
    "with open(\"data/sentimental_analysis/corpus_test_sncf.file\", \"rb\") as f:\n",
    "    corpus_test = pickle.load(f)\n",
    "with open(\"data/sentimental_analysis/corpus_train_sncf.file\", \"rb\") as f:\n",
    "    corpus_train = pickle.load(f)"
   ]
  },
  {
   "cell_type": "code",
   "execution_count": 68,
   "metadata": {},
   "outputs": [
    {
     "name": "stdout",
     "output_type": "stream",
     "text": [
      "6858\n",
      "16004\n",
      "22862\n"
     ]
    }
   ],
   "source": [
    "print(len(corpus_test))\n",
    "print(len(corpus_train))\n",
    "print(len(corpus_test) + len(corpus_train))"
   ]
  },
  {
   "cell_type": "code",
   "execution_count": 71,
   "metadata": {},
   "outputs": [
    {
     "name": "stdout",
     "output_type": "stream",
     "text": [
      "proportion positifs du train 0.4263934016495876\n",
      "proportion positifs du test 0.426363371245261\n"
     ]
    }
   ],
   "source": [
    "print(\"proportion positifs du train\",\n",
    "      proportion_positifs(corpus_train, matrice_sentiments_train,seuil=0))\n",
    "print(\"proportion positifs du test\",\n",
    "      proportion_positifs(corpus_test, matrice_sentiments_train,seuil=0))"
   ]
  },
  {
   "cell_type": "code",
   "execution_count": 70,
   "metadata": {},
   "outputs": [
    {
     "name": "stdout",
     "output_type": "stream",
     "text": [
      "Nombre de mots du train : 342106\n",
      "Taille du vocabulaire du train : 26319\n",
      "0.8235294117647058\n",
      "0.3333333333333333\n"
     ]
    }
   ],
   "source": [
    "phrases_train = [tweet.split() for (score, tweet) in corpus_train]\n",
    "mots_train = [item for sublist in phrases_train for item in sublist]\n",
    "vocabulaire_train = list(dict.fromkeys(mots_train))\n",
    "print(\"Nombre de mots du train :\", len(mots_train))\n",
    "print(\"Taille du vocabulaire du train :\", len(vocabulaire_train))\n",
    "\n",
    "matrice_sentiments_train = mat_sentiments(corpus_train, vocabulaire_train)\n",
    "\n",
    "print(matrice_sentiments_train[\"gentil\"])\n",
    "print(matrice_sentiments_train[\"méchant\"])\n"
   ]
  },
  {
   "cell_type": "code",
   "execution_count": 39,
   "metadata": {},
   "outputs": [],
   "source": [
    "# Enregistrement de la matrice_sentiment\n",
    "#with open(\"data/sentimental_analysis/matrice_sentiment_baseline_sncf.file\", \"wb\") as f:\n",
    "#        pickle.dump(matrice_sentiments_train, f, pickle.HIGHEST_PROTOCOL)"
   ]
  },
  {
   "cell_type": "markdown",
   "metadata": {},
   "source": [
    "Evaluation sur le train"
   ]
  },
  {
   "cell_type": "code",
   "execution_count": 30,
   "metadata": {},
   "outputs": [
    {
     "name": "stdout",
     "output_type": "stream",
     "text": [
      "accuracy au seuil  0  :  0.744063984003999\n"
     ]
    }
   ],
   "source": [
    "accuracies_train = accuracy_multiseuil(corpus_train, matrice_sentiments_train,seuil=0)"
   ]
  },
  {
   "cell_type": "markdown",
   "metadata": {},
   "source": [
    "Evaluation sur le test"
   ]
  },
  {
   "cell_type": "code",
   "execution_count": 31,
   "metadata": {},
   "outputs": [
    {
     "name": "stdout",
     "output_type": "stream",
     "text": [
      "accuracy au seuil  0  :  0.705161854768154\n"
     ]
    }
   ],
   "source": [
    "# Attention pour évaluer le test, on prend la matrice de sentiment du train !\n",
    "accuracies_test = accuracy_multiseuil(corpus_test, matrice_sentiments_train,seuil=0)"
   ]
  },
  {
   "cell_type": "markdown",
   "metadata": {},
   "source": [
    "Distributions test VS train"
   ]
  },
  {
   "cell_type": "code",
   "execution_count": 32,
   "metadata": {},
   "outputs": [],
   "source": [
    "keys_train = np.fromiter(accuracies_train.keys(), dtype=float)\n",
    "vals_train = np.fromiter(accuracies_train.values(), dtype=float)\n",
    "\n",
    "keys_test = np.fromiter(accuracies_test.keys(), dtype=float)\n",
    "vals_test = np.fromiter(accuracies_test.values(), dtype=float)"
   ]
  },
  {
   "cell_type": "code",
   "execution_count": 33,
   "metadata": {},
   "outputs": [
    {
     "data": {
      "text/plain": [
       "Text(0, 0.5, 'Accuracy')"
      ]
     },
     "execution_count": 33,
     "metadata": {},
     "output_type": "execute_result"
    },
    {
     "data": {
      "image/png": "[encoded data removed]",
      "text/plain": [
       "<Figure size 432x288 with 1 Axes>"
      ]
     },
     "metadata": {
      "needs_background": "light"
     },
     "output_type": "display_data"
    }
   ],
   "source": [
    "plt.plot(keys_train,vals_train,\"bo\")\n",
    "plt.plot(keys_test,vals_test,'o')\n",
    "plt.legend([\"Train\",\"Test\"])\n",
    "plt.xlabel('Seuil')\n",
    "plt.ylabel('Accuracy')"
   ]
  },
  {
   "cell_type": "code",
   "execution_count": 72,
   "metadata": {},
   "outputs": [
    {
     "data": {
      "text/plain": [
       "Text(0, 0.5, 'Accuracy (base de test)')"
      ]
     },
     "execution_count": 72,
     "metadata": {},
     "output_type": "execute_result"
    },
    {
     "data": {
      "image/png": "[encoded data removed]",
      "text/plain": [
       "<Figure size 432x288 with 1 Axes>"
      ]
     },
     "metadata": {
      "needs_background": "light"
     },
     "output_type": "display_data"
    }
   ],
   "source": [
    "plt.plot(keys_train,vals_train,\"bo\")\n",
    "plt.xlabel('Seuil')\n",
    "plt.ylabel('Accuracy (base de test)')"
   ]
  },
  {
   "cell_type": "code",
   "execution_count": 35,
   "metadata": {},
   "outputs": [
    {
     "name": "stdout",
     "output_type": "stream",
     "text": [
      "test : [-0.14]\n",
      "train :  [-0.14]\n"
     ]
    }
   ],
   "source": [
    "print(\"test :\", [(key) for key in accuracies_test.keys()\n",
    "                 if accuracies_test[key] == max(vals_test)])\n",
    "print(\"train : \", [(key) for key in accuracies_train.keys()\n",
    "                   if accuracies_train[key] == max(vals_train)])\n",
    "seuil = -0.14"
   ]
  },
  {
   "cell_type": "code",
   "execution_count": 39,
   "metadata": {},
   "outputs": [
    {
     "name": "stdout",
     "output_type": "stream",
     "text": [
      "0.9502624343914021\n",
      "0.744063984003999\n",
      "0.8907844852726743\n",
      "0.705161854768154\n"
     ]
    }
   ],
   "source": [
    "print(accuracies_train[seuil])\n",
    "print(accuracies_train[0])\n",
    "print(accuracies_test[seuil])\n",
    "print(accuracies_test[0])"
   ]
  },
  {
   "cell_type": "code",
   "execution_count": 37,
   "metadata": {},
   "outputs": [
    {
     "data": {
      "image/png": "[encoded data removed]",
      "text/plain": [
       "<Figure size 432x288 with 1 Axes>"
      ]
     },
     "metadata": {
      "needs_background": "light"
     },
     "output_type": "display_data"
    }
   ],
   "source": [
    "courbe_roc(corpus_train,methode=2,seuil=seuil,matrice_sentiments=matrice_sentiments_train)"
   ]
  },
  {
   "cell_type": "markdown",
   "metadata": {},
   "source": [
    "### Traitements supplémentaires "
   ]
  },
  {
   "cell_type": "code",
   "execution_count": 303,
   "metadata": {},
   "outputs": [
    {
     "data": {
      "text/plain": [
       "-0.25299029564432407"
      ]
     },
     "execution_count": 303,
     "metadata": {},
     "output_type": "execute_result"
    }
   ],
   "source": [
    "matrice_sentiments_train[\"pas\"]"
   ]
  },
  {
   "cell_type": "markdown",
   "metadata": {},
   "source": [
    "### Mots de la base test inconnus dans la base train - SNCF"
   ]
  },
  {
   "cell_type": "code",
   "execution_count": 45,
   "metadata": {},
   "outputs": [],
   "source": [
    "with open(\"data/sentimental_analysis/corpus_test_sncf.file\", \"rb\") as f:\n",
    "    corpus_test = pickle.load(f)\n",
    "with open(\"data/sentimental_analysis/corpus_train_sncf.file\", \"rb\") as f:\n",
    "    corpus_train = pickle.load(f)\n",
    "with open(\"data/sentimental_analysis/corpus_test.file\", \"rb\") as f:\n",
    "    corpus_test_git = pickle.load(f)"
   ]
  },
  {
   "cell_type": "code",
   "execution_count": 46,
   "metadata": {},
   "outputs": [],
   "source": [
    "phrases_train = [tweet.split() for (score, tweet) in corpus_train]\n",
    "mots_train = [item for sublist in phrases_train for item in sublist]\n",
    "vocabulaire_train = list(dict.fromkeys(mots_train))\n",
    "phrases_test = [tweet.split() for (score, tweet) in corpus_test_git]\n",
    "mots_test = [item for sublist in phrases_test for item in sublist]\n",
    "vocabulaire_test = list(dict.fromkeys(mots_test))"
   ]
  },
  {
   "cell_type": "code",
   "execution_count": 47,
   "metadata": {},
   "outputs": [],
   "source": [
    "# Apparition de chaque mot\n",
    "app_test = {mot:0 for mot in vocabulaire_test}\n",
    "for phrase in phrases_test:\n",
    "    for mot in phrase:\n",
    "        app_test[mot] += 1"
   ]
  },
  {
   "cell_type": "code",
   "execution_count": null,
   "metadata": {},
   "outputs": [],
   "source": [
    "# après-coup : je crois qu'il y a un package qui le fait de manière opti...\n",
    "# from nltk import word_tokenize\n",
    "# fdist = nltk.FreqDist(mots_test)"
   ]
  },
  {
   "cell_type": "code",
   "execution_count": 48,
   "metadata": {},
   "outputs": [
    {
     "name": "stdout",
     "output_type": "stream",
     "text": [
      "4103\n",
      "46920\n"
     ]
    }
   ],
   "source": [
    "# On compte :\n",
    "# - le nombre de mots du voc en commun (compt)\n",
    "# - le nombre de mots du corpus en commun (compt_mot)\n",
    "compt = 0\n",
    "compt_mot = 0\n",
    "for mot in vocabulaire_test:\n",
    "    for word in vocabulaire_train:\n",
    "        # Ce qu'on trouve\n",
    "        if mot == word:\n",
    "            compt = compt +1\n",
    "            compt_mot = compt_mot + app_test[mot]\n",
    "print(compt)\n",
    "print(compt_mot)"
   ]
  },
  {
   "cell_type": "code",
   "execution_count": 49,
   "metadata": {},
   "outputs": [
    {
     "name": "stdout",
     "output_type": "stream",
     "text": [
      "52.039742840444184\n"
     ]
    }
   ],
   "source": [
    "# Part des mots du voc non en commun\n",
    "print(100*(len(vocabulaire_test) - compt)/len(vocabulaire_test))"
   ]
  },
  {
   "cell_type": "code",
   "execution_count": 50,
   "metadata": {},
   "outputs": [
    {
     "name": "stdout",
     "output_type": "stream",
     "text": [
      "12.73133079140705\n"
     ]
    }
   ],
   "source": [
    "# Part des mots du corpus non en commun\n",
    "print(100*(len(mots_test) - compt_mot)/len(mots_test))"
   ]
  },
  {
   "cell_type": "markdown",
   "metadata": {},
   "source": [
    "### Baseline SNCF sur corpus GIT"
   ]
  },
  {
   "cell_type": "code",
   "execution_count": 29,
   "metadata": {},
   "outputs": [
    {
     "name": "stdout",
     "output_type": "stream",
     "text": [
      "proportion_positifs : 0.559266700150678\n"
     ]
    }
   ],
   "source": [
    "res_final_test = accuracy_multiseuil(corpus_test_git, matrice_sentiments_train)"
   ]
  }
 ],
 "metadata": {
  "kernelspec": {
   "display_name": "Python 3",
   "language": "python",
   "name": "python3"
  },
  "language_info": {
   "codemirror_mode": {
    "name": "ipython",
    "version": 3
   },
   "file_extension": ".py",
   "mimetype": "text/x-python",
   "name": "python",
   "nbconvert_exporter": "python",
   "pygments_lexer": "ipython3",
   "version": "3.7.4"
  }
 },
 "nbformat": 4,
 "nbformat_minor": 4
}
