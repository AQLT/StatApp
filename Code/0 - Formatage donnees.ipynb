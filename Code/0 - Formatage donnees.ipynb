{
 "cells": [
  {
   "cell_type": "markdown",
   "metadata": {},
   "source": [
    "# Importation des données"
   ]
  },
  {
   "cell_type": "code",
   "execution_count": 2,
   "metadata": {
    "scrolled": true
   },
   "outputs": [
    {
     "name": "stdout",
     "output_type": "stream",
     "text": [
      "!\"#$%&'()*+,-./:;<=>?@[\\]^_`{|}~'’«»—\n",
      "formattage terminé\n"
     ]
    }
   ],
   "source": [
    "import os\n",
    "import string\n",
    "import re\n",
    "import pandas as pd\n",
    "import csv\n",
    "import pickle\n",
    "\n",
    "os.chdir('C:/Users/torna/Documents/StatApp/StatApp')\n",
    "#os.chdir('C:/Users/Kim Antunez/Documents/Projets_autres')\n",
    "#os.chdir('/Users/alainquartierlatente/Desktop/Ensae/StatApp')\n",
    "\n",
    "df = pd.read_csv(\"data/sample_3.txt\",sep='\\n',header=None)\n",
    "print(string.punctuation + \"'’«»—\")\n",
    "def mise_en_forme_phrase (phrase):\n",
    "    phrase = phrase.lower()\n",
    "    # On enlève la ponctuation mais ça peut se discuter (garder les @ et #?)\n",
    "    phrase = re.sub('( @[^ ]*)|(^@[^ ]*)',\" nickname \", phrase) #Remplace @... par nickname\n",
    "    # On enlève la ponctuation + certaines apostrophes\n",
    "    phrase = phrase.translate(str.maketrans('', '', string.punctuation + \"'’«»—\"))\n",
    "    # On enlève les passages à la ligne\n",
    "    phrase = re.sub('\\\\n', ' ', phrase)\n",
    "    # On enlève les tabulations\n",
    "    phrase = re.sub('\\\\t', ' ', phrase)\n",
    "    # On enlève les espaces multiples et les espaces à la fin des phrases\n",
    "    phrase = re.sub(' +', ' ', phrase)\n",
    "    phrase = re.sub(' +$', '', phrase)\n",
    "    phrase = re.sub('^ +', '', phrase)\n",
    "    phrase.isalpha()\n",
    "    return(phrase)\n",
    "\n",
    "corpus = []\n",
    "for index, row in df.iterrows():\n",
    "    for j, column in row.iteritems():\n",
    "        corpus.append(mise_en_forme_phrase(column))\n",
    "print(\"formattage terminé\")\n",
    "\n",
    "#with open(\"data/sample_formate.txt\", \"w\") as output:\n",
    "#    writer = csv.writer(output, lineterminator='\\n')\n",
    "#    for phrase in corpus:\n",
    "#        writer.writerow([phrase]) \n",
    "#print(\"export csv terminé\")\n",
    "\n",
    "with open(\"data/corpus.file\", \"wb\") as f:\n",
    "    pickle.dump(corpus, f, pickle.HIGHEST_PROTOCOL)"
   ]
  },
  {
   "cell_type": "code",
   "execution_count": 3,
   "metadata": {},
   "outputs": [
    {
     "name": "stdout",
     "output_type": "stream",
     "text": [
      "Nombre de mots : 31394494\n",
      "Taille du vocabulaire : 634691\n"
     ]
    }
   ],
   "source": [
    "phrases = [phrase.split() for phrase in corpus]\n",
    "words = [item for sublist in phrases for item in sublist]\n",
    "vocabulary = set(words)\n",
    "print(\"Nombre de mots :\", len(words))\n",
    "print(\"Taille du vocabulaire :\", len(vocabulary))"
   ]
  },
  {
   "cell_type": "code",
   "execution_count": 4,
   "metadata": {},
   "outputs": [
    {
     "data": {
      "text/plain": [
       "564362"
      ]
     },
     "execution_count": 4,
     "metadata": {},
     "output_type": "execute_result"
    }
   ],
   "source": [
    "import nltk\n",
    "import collections\n",
    "from collections import Counter\n",
    "fdist = nltk.FreqDist(words)\n",
    "# On va enlever les mots qui apparaissent moins de 10 fois\n",
    "mots_a_enlever = [w for w in vocabulary if fdist[w]<10]\n",
    "mots_a_enlever_dict = Counter(mots_a_enlever)\n",
    "len(mots_a_enlever)"
   ]
  },
  {
   "cell_type": "code",
   "execution_count": 5,
   "metadata": {},
   "outputs": [],
   "source": [
    "corpus_trie = [' '.join([(word if word not in mots_a_enlever_dict else \"lowfrequencyword\") for word in phrase.split()]) for phrase in corpus]"
   ]
  },
  {
   "cell_type": "code",
   "execution_count": 6,
   "metadata": {},
   "outputs": [],
   "source": [
    "# On ne garde que les tweets de 2 mots ou plus\n",
    "corpus_trie = [phrase for phrase in corpus_trie if len(phrase.split())>=2]\n",
    "with open(\"data/corpus_trie.file\", \"wb\") as f:\n",
    "    pickle.dump(corpus_trie, f, pickle.HIGHEST_PROTOCOL)"
   ]
  },
  {
   "cell_type": "code",
   "execution_count": 7,
   "metadata": {},
   "outputs": [
    {
     "name": "stdout",
     "output_type": "stream",
     "text": [
      "Nombre de mots : 31390592\n",
      "Taille du vocabulaire : 70330\n"
     ]
    }
   ],
   "source": [
    "phrases = [phrase.split() for phrase in corpus_trie]\n",
    "words = [item for sublist in phrases for item in sublist]\n",
    "vocabulary = set(words)\n",
    "print(\"Nombre de mots :\", len(words))\n",
    "print(\"Taille du vocabulaire :\", len(vocabulary))"
   ]
  },
  {
   "cell_type": "code",
   "execution_count": 8,
   "metadata": {},
   "outputs": [
    {
     "data": {
      "text/plain": [
       "20"
      ]
     },
     "execution_count": 8,
     "metadata": {},
     "output_type": "execute_result"
    }
   ],
   "source": [
    "fdist[\"6h20\"]"
   ]
  }
 ],
 "metadata": {
  "kernelspec": {
   "display_name": "Python 3",
   "language": "python",
   "name": "python3"
  },
  "language_info": {
   "codemirror_mode": {
    "name": "ipython",
    "version": 3
   },
   "file_extension": ".py",
   "mimetype": "text/x-python",
   "name": "python",
   "nbconvert_exporter": "python",
   "pygments_lexer": "ipython3",
   "version": "3.6.5"
  }
 },
 "nbformat": 4,
 "nbformat_minor": 2
}
