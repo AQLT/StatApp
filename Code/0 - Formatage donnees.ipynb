{
 "cells": [
  {
   "cell_type": "code",
   "execution_count": 4,
   "metadata": {},
   "outputs": [],
   "source": [
    "import os\n",
    "import string\n",
    "import re\n",
    "import pandas as pd\n",
    "import csv\n",
    "import pickle\n",
    "\n",
    "#os.chdir('C:/Users/torna/Documents/StatApp/StatApp')\n",
    "os.chdir('C:/Users/Kim Antunez/Documents/Projets_autres/StatApp')\n",
    "#os.chdir('/Users/alainquartierlatente/Desktop/Ensae/StatApp')\n",
    "#os.chdir('/home/aqlt/Documents/Ensae/StatApp')"
   ]
  },
  {
   "cell_type": "markdown",
   "metadata": {},
   "source": [
    "# Base de tweets 2013-2017 \n",
    "\n",
    "## Importation des données"
   ]
  },
  {
   "cell_type": "code",
   "execution_count": null,
   "metadata": {
    "scrolled": true
   },
   "outputs": [
    {
     "name": "stdout",
     "output_type": "stream",
     "text": [
      "!\"#$%&'()*+,-./:;<=>?@[\\]^_`{|}~'’«»—\n"
     ]
    }
   ],
   "source": [
    "df = pd.read_csv(\"data/sample_3.txt\",sep='\\n',header=None)\n",
    "print(string.punctuation + \"'’«»—\")\n",
    "def mise_en_forme_phrase (phrase):\n",
    "    phrase = phrase.lower()\n",
    "    # On enlève la ponctuation mais ça peut se discuter (garder les @ et #?)\n",
    "    phrase = re.sub('( @[^ ]*)|(^@[^ ]*)',\" nickname \", phrase) #Remplace @... par nickname\n",
    "    # On enlève la ponctuation + certaines apostrophes\n",
    "    phrase = phrase.translate(str.maketrans('', '', string.punctuation + \"'’«»—\"))\n",
    "    # On enlève les passages à la ligne\n",
    "    phrase = re.sub('\\\\n', ' ', phrase)\n",
    "    # On enlève les tabulations\n",
    "    phrase = re.sub('\\\\t', ' ', phrase)\n",
    "    # On enlève les espaces multiples et les espaces à la fin des phrases\n",
    "    phrase = re.sub(' +', ' ', phrase)\n",
    "    phrase = re.sub(' +$', '', phrase)\n",
    "    phrase = re.sub('^ +', '', phrase)\n",
    "    # phrase.isalpha() # inutile\n",
    "    return(phrase)\n",
    "\n",
    "corpus = []\n",
    "for index, row in df.iterrows():\n",
    "    for j, column in row.iteritems():\n",
    "        corpus.append(mise_en_forme_phrase(column))\n",
    "print(\"formattage terminé\")\n",
    "\n",
    "#with open(\"data/sample_formate.txt\", \"w\") as output:\n",
    "#    writer = csv.writer(output, lineterminator='\\n')\n",
    "#    for phrase in corpus:\n",
    "#        writer.writerow([phrase]) \n",
    "#print(\"export csv terminé\")\n",
    "\n",
    "with open(\"data/corpus.file\", \"wb\") as f:\n",
    "    pickle.dump(corpus, f, pickle.HIGHEST_PROTOCOL)"
   ]
  },
  {
   "cell_type": "code",
   "execution_count": 5,
   "metadata": {},
   "outputs": [],
   "source": [
    "# Si on veut récup un fichier existant pour travailler\n",
    "with open(\"data/corpus.file\", \"rb\") as f:\n",
    "    corpus = pickle.load(f) "
   ]
  },
  {
   "cell_type": "markdown",
   "metadata": {},
   "source": [
    "## Création corpus total"
   ]
  },
  {
   "cell_type": "code",
   "execution_count": 6,
   "metadata": {},
   "outputs": [
    {
     "name": "stdout",
     "output_type": "stream",
     "text": [
      "Nombre de mots : 31394494\n",
      "Taille du vocabulaire : 634691\n"
     ]
    }
   ],
   "source": [
    "phrases = [phrase.split() for phrase in corpus]\n",
    "words = [item for sublist in phrases for item in sublist]\n",
    "vocabulary = list(dict.fromkeys(words))\n",
    "print(\"Nombre de mots :\", len(words))\n",
    "print(\"Taille du vocabulaire :\", len(vocabulary))"
   ]
  },
  {
   "cell_type": "code",
   "execution_count": 7,
   "metadata": {},
   "outputs": [
    {
     "data": {
      "text/plain": [
       "564362"
      ]
     },
     "execution_count": 7,
     "metadata": {},
     "output_type": "execute_result"
    }
   ],
   "source": [
    "import nltk\n",
    "import collections\n",
    "from collections import Counter\n",
    "fdist = nltk.FreqDist(words)\n",
    "# On va enlever les mots qui apparaissent moins de 10 fois\n",
    "mots_a_enlever = [w for w in vocabulary if fdist[w]<10]\n",
    "mots_a_enlever_dict = Counter(mots_a_enlever)\n",
    "len(mots_a_enlever)"
   ]
  },
  {
   "cell_type": "code",
   "execution_count": 8,
   "metadata": {},
   "outputs": [],
   "source": [
    "corpus_trie = [' '.join([(word if word not in mots_a_enlever_dict else \"lowfrequencyword\") for word in phrase.split()]) for phrase in corpus]"
   ]
  },
  {
   "cell_type": "code",
   "execution_count": 9,
   "metadata": {},
   "outputs": [],
   "source": [
    "# On ne garde que les tweets de 2 mots ou plus\n",
    "corpus_trie = [phrase for phrase in corpus_trie if len(phrase.split())>=2]\n",
    "with open(\"data/corpus_trieens.file\", \"wb\") as f:\n",
    "    pickle.dump(corpus_trie, f, pickle.HIGHEST_PROTOCOL)"
   ]
  },
  {
   "cell_type": "markdown",
   "metadata": {},
   "source": [
    "## Création corpus 10k"
   ]
  },
  {
   "cell_type": "code",
   "execution_count": 10,
   "metadata": {},
   "outputs": [
    {
     "name": "stdout",
     "output_type": "stream",
     "text": [
      "Nombre de mots : 111390\n",
      "Taille du vocabulaire : 13419\n"
     ]
    }
   ],
   "source": [
    "phrases = [phrase.split() for phrase in corpus[0:10000]]\n",
    "words = [item for sublist in phrases for item in sublist]\n",
    "vocabulary = list(dict.fromkeys(words))\n",
    "print(\"Nombre de mots :\", len(words))\n",
    "print(\"Taille du vocabulaire :\", len(vocabulary))"
   ]
  },
  {
   "cell_type": "code",
   "execution_count": 11,
   "metadata": {},
   "outputs": [
    {
     "data": {
      "text/plain": [
       "10205"
      ]
     },
     "execution_count": 11,
     "metadata": {},
     "output_type": "execute_result"
    }
   ],
   "source": [
    "import nltk\n",
    "import collections\n",
    "from collections import Counter\n",
    "fdist = nltk.FreqDist(words)\n",
    "# On va enlever les mots qui apparaissent moins de 3 fois\n",
    "mots_a_enlever = [w for w in vocabulary if fdist[w]<3]\n",
    "mots_a_enlever_dict = Counter(mots_a_enlever)\n",
    "len(mots_a_enlever)"
   ]
  },
  {
   "cell_type": "code",
   "execution_count": 12,
   "metadata": {},
   "outputs": [],
   "source": [
    "corpus_trie10k = [' '.join([(word if word not in mots_a_enlever_dict else \"lowfrequencyword\") for word in phrase.split()]) for phrase in corpus[0:10000]]"
   ]
  },
  {
   "cell_type": "code",
   "execution_count": 13,
   "metadata": {},
   "outputs": [],
   "source": [
    "# On ne garde que les tweets de 2 mots ou plus\n",
    "corpus_trie10k = [phrase for phrase in corpus_trie10k if len(phrase.split())>=2]\n",
    "with open(\"data/corpus_trie10k.file\", \"wb\") as f:\n",
    "    pickle.dump(corpus_trie10k, f, pickle.HIGHEST_PROTOCOL)"
   ]
  },
  {
   "cell_type": "markdown",
   "metadata": {},
   "source": [
    "## Création corpus 100k"
   ]
  },
  {
   "cell_type": "code",
   "execution_count": 14,
   "metadata": {},
   "outputs": [
    {
     "name": "stdout",
     "output_type": "stream",
     "text": [
      "Nombre de mots : 1127629\n",
      "Taille du vocabulaire : 55793\n"
     ]
    }
   ],
   "source": [
    "phrases = [phrase.split() for phrase in corpus[0:100000]]\n",
    "words = [item for sublist in phrases for item in sublist]\n",
    "vocabulary = list(dict.fromkeys(words))\n",
    "print(\"Nombre de mots :\", len(words))\n",
    "print(\"Taille du vocabulaire :\", len(vocabulary))"
   ]
  },
  {
   "cell_type": "code",
   "execution_count": 15,
   "metadata": {},
   "outputs": [
    {
     "data": {
      "text/plain": [
       "44834"
      ]
     },
     "execution_count": 15,
     "metadata": {},
     "output_type": "execute_result"
    }
   ],
   "source": [
    "import nltk\n",
    "import collections\n",
    "from collections import Counter\n",
    "fdist = nltk.FreqDist(words)\n",
    "# On va enlever les mots qui apparaissent moins de 5 fois\n",
    "mots_a_enlever = [w for w in vocabulary if fdist[w]<5]\n",
    "mots_a_enlever_dict = Counter(mots_a_enlever)\n",
    "len(mots_a_enlever)"
   ]
  },
  {
   "cell_type": "code",
   "execution_count": 16,
   "metadata": {},
   "outputs": [],
   "source": [
    "corpus_trie100k = [' '.join([(word if word not in mots_a_enlever_dict else \"lowfrequencyword\") for word in phrase.split()]) for phrase in corpus[0:100000]]"
   ]
  },
  {
   "cell_type": "code",
   "execution_count": 17,
   "metadata": {},
   "outputs": [],
   "source": [
    "# On ne garde que les tweets de 2 mots ou plus\n",
    "corpus_trie100k = [phrase for phrase in corpus_trie100k if len(phrase.split())>=2]\n",
    "with open(\"data/corpus_trie100k.file\", \"wb\") as f:\n",
    "    pickle.dump(corpus_trie100k, f, pickle.HIGHEST_PROTOCOL)"
   ]
  },
  {
   "cell_type": "markdown",
   "metadata": {},
   "source": [
    "## Vocabulaire après traitement"
   ]
  },
  {
   "cell_type": "code",
   "execution_count": 18,
   "metadata": {},
   "outputs": [
    {
     "name": "stdout",
     "output_type": "stream",
     "text": [
      "Sur 10k\n",
      "Nombre de mots : 111330\n",
      "Taille du vocabulaire : 3215\n",
      "Sur 100k\n",
      "Nombre de mots : 1127347\n",
      "Taille du vocabulaire : 10960\n",
      "Sur tout\n",
      "Nombre de mots : 31390592\n",
      "Taille du vocabulaire : 70330\n"
     ]
    }
   ],
   "source": [
    "phrases = [phrase.split() for phrase in corpus_trie]\n",
    "phrases10k = [phrase.split() for phrase in corpus_trie10k]\n",
    "phrases100k = [phrase.split() for phrase in corpus_trie100k]\n",
    "words = [item for sublist in phrases for item in sublist]\n",
    "words10k = [item for sublist in phrases10k for item in sublist]\n",
    "words100k = [item for sublist in phrases100k for item in sublist]\n",
    "vocabulary = list(dict.fromkeys(words))\n",
    "vocabulary10k = list(dict.fromkeys(words10k))\n",
    "vocabulary100k = list(dict.fromkeys(words100k))\n",
    "print(\"Sur 10k\")\n",
    "print(\"Nombre de mots :\", len(words10k))\n",
    "print(\"Taille du vocabulaire :\", len(vocabulary10k))\n",
    "print(\"Sur 100k\")\n",
    "print(\"Nombre de mots :\", len(words100k))\n",
    "print(\"Taille du vocabulaire :\", len(vocabulary100k))\n",
    "print(\"Sur tout\")\n",
    "print(\"Nombre de mots :\", len(words))\n",
    "print(\"Taille du vocabulaire :\", len(vocabulary))"
   ]
  },
  {
   "cell_type": "markdown",
   "metadata": {},
   "source": [
    "# Bases de sentimental analysis (sncf et git)\n",
    "\n",
    "## La base \"github\"\n",
    "\n",
    "### Etape préalable en R\n",
    "\n",
    "Les bases initiales sont : \n",
    "* tweets-train.csv (1 594 733 millions de tweets)\n",
    "* tweets-test.csv (4000 tweets) \n",
    "\n",
    "On transforme ces bases en \n",
    "* bdd-train.csv (1 594 410 millions de tweets)\n",
    "* bdd-test.csv (3982 tweets)\n",
    "\n",
    "En gérant le séparateur , enlevant les (peu) de tweets \"pas bons (pas de sentiment). \n",
    "\n",
    "Le programme R de transformation est le suivant : traitement_base.R\n",
    "\n",
    "### En Python \n",
    "\n",
    "On transforme ces bases en \n",
    "* corpus_train (50 000 tweets)\n",
    "* corpus_test (3982 tweets)\n",
    "\n",
    "Ce qu'on fait surtout c'est de la mise en forme dans les fichiers corpus_test / corpus_train. \n",
    "\n",
    "Ce sont ces bases que nous utilisons pour les régressions logistiques. "
   ]
  },
  {
   "cell_type": "code",
   "execution_count": 5,
   "metadata": {},
   "outputs": [],
   "source": [
    "df_test = pd.read_csv(\"data/sentimental_analysis/bdd-test.csv\",sep=';/;',header=0,engine='python',encoding='UTF-8')\n",
    "df_train = pd.read_csv(\"data/sentimental_analysis/bdd-train.csv\",sep=';/;',header=0,engine='python',encoding='UTF-8')\n",
    "#print(df_train[0:1])\n",
    "#print(df_test[0:1])"
   ]
  },
  {
   "cell_type": "code",
   "execution_count": 6,
   "metadata": {},
   "outputs": [],
   "source": [
    "# On traite la mise en forme comme dans notre corpus\n",
    "def mise_en_forme_phrase (phrase):\n",
    "    phrase = phrase.lower()\n",
    "    # On enlève la ponctuation + certaines apostrophes\n",
    "    phrase = phrase.translate(str.maketrans('', '', string.punctuation + \"'’«»—\"))\n",
    "    # On enlève les passages à la ligne\n",
    "    phrase = re.sub('\\\\n', ' ', phrase)\n",
    "    # On enlève les tabulations\n",
    "    phrase = re.sub('\\\\t', ' ', phrase)\n",
    "    # On enlève les espaces multiples et les espaces à la fin des phrases\n",
    "    phrase = re.sub(' +', ' ', phrase)\n",
    "    phrase = re.sub(' +$', '', phrase)\n",
    "    phrase = re.sub('^ +', '', phrase)\n",
    "    # phrase.isalpha() # inutile\n",
    "    return(phrase)"
   ]
  },
  {
   "cell_type": "code",
   "execution_count": 7,
   "metadata": {},
   "outputs": [],
   "source": [
    "corpus_test = []\n",
    "for ligne in df_test.itertuples():\n",
    "    corpus_test.append([ligne.polarity,mise_en_forme_phrase(ligne.tweets)])\n",
    "#corpus_test[0:2]\n",
    "\n",
    "corpus_train = []\n",
    "for ligne in df_train.itertuples():\n",
    "    corpus_train.append([ligne.polarity,mise_en_forme_phrase(ligne.tweets)])\n",
    "#corpus_train[0:2]"
   ]
  },
  {
   "cell_type": "code",
   "execution_count": 8,
   "metadata": {},
   "outputs": [],
   "source": [
    "corpus_test_modif = [[-1 if score == 0 else 1,tweet] for score, tweet in corpus_test]\n",
    "corpus_train_modif = [[-1 if score == '0' else 1,tweet] for score, tweet in corpus_train]"
   ]
  },
  {
   "cell_type": "code",
   "execution_count": 9,
   "metadata": {},
   "outputs": [],
   "source": [
    "val_pos = [[score,tweet] for score,tweet in corpus_train_modif if score == 1]\n",
    "val_neg = [[score,tweet] for score,tweet in corpus_train_modif if score == -1]"
   ]
  },
  {
   "cell_type": "code",
   "execution_count": 10,
   "metadata": {},
   "outputs": [],
   "source": [
    "import random\n",
    "from random import sample\n",
    "random.seed(1)\n",
    "val_pos_choix = sample(val_pos,25000)\n",
    "val_neg_choix = sample(val_neg,25000)"
   ]
  },
  {
   "cell_type": "code",
   "execution_count": 11,
   "metadata": {},
   "outputs": [],
   "source": [
    "corpus_train_total = val_pos_choix + val_neg_choix"
   ]
  },
  {
   "cell_type": "code",
   "execution_count": null,
   "metadata": {},
   "outputs": [],
   "source": [
    "# Enregistrement des bases \n",
    "#with open(\"data/sentimental_analysis/corpus_train.file\", \"wb\") as f:\n",
    "#    pickle.dump(corpus_train_total, f, pickle.HIGHEST_PROTOCOL)\n",
    "#with open(\"data/sentimental_analysis/corpus_test.file\", \"wb\") as f:\n",
    "#    pickle.dump(corpus_test_modif, f, pickle.HIGHEST_PROTOCOL)"
   ]
  },
  {
   "cell_type": "markdown",
   "metadata": {},
   "source": [
    "## La base SNCF"
   ]
  },
  {
   "cell_type": "code",
   "execution_count": 12,
   "metadata": {},
   "outputs": [],
   "source": [
    "df = pd.read_csv(\"data/sentimental_analysis/df_deft_sentiment.csv\",sep='|',header=0,engine='python',encoding='UTF-8')\n",
    "df = df[['tag','tweet']]\n",
    "df = df.loc[(pd.isnull(df[\"tweet\"]))==False,:]"
   ]
  },
  {
   "cell_type": "code",
   "execution_count": 13,
   "metadata": {},
   "outputs": [],
   "source": [
    "corpus = []\n",
    "for ligne in df.itertuples():\n",
    "    if ligne.tag != 0:\n",
    "        corpus.append([ligne.tag,mise_en_forme_phrase(ligne.tweet)])\n",
    "#corpus[0:2]"
   ]
  },
  {
   "cell_type": "code",
   "execution_count": 14,
   "metadata": {},
   "outputs": [],
   "source": [
    "corpus_modif = [[1 if score >= 1 else -1,tweet] for score, tweet in corpus]"
   ]
  },
  {
   "cell_type": "code",
   "execution_count": 15,
   "metadata": {},
   "outputs": [],
   "source": [
    "val_pos = [[score,tweet] for score,tweet in corpus_modif if score == 1]\n",
    "val_neg = [[score,tweet] for score,tweet in corpus_modif if score == -1]"
   ]
  },
  {
   "cell_type": "code",
   "execution_count": 16,
   "metadata": {},
   "outputs": [],
   "source": [
    "random.seed(1)\n",
    "corpus_train_pos = sample(val_pos,round(0.7*len(val_pos)))\n",
    "corpus_test_pos = sample(val_pos,round(0.3*len(val_pos)))\n",
    "corpus_train_neg = sample(val_neg,round(0.7*len(val_neg)))\n",
    "corpus_test_neg = sample(val_neg,round(0.3*len(val_neg)))"
   ]
  },
  {
   "cell_type": "code",
   "execution_count": 17,
   "metadata": {},
   "outputs": [],
   "source": [
    "corpus_train_sncf = corpus_train_pos + corpus_train_neg\n",
    "corpus_test_sncf = corpus_test_pos + corpus_test_neg"
   ]
  },
  {
   "cell_type": "code",
   "execution_count": 18,
   "metadata": {},
   "outputs": [],
   "source": [
    "# Enregistrement des bases \n",
    "#with open(\"data/sentimental_analysis/corpus_train_sncf.file\", \"wb\") as f:\n",
    "#    pickle.dump(corpus_train_sncf, f, pickle.HIGHEST_PROTOCOL)\n",
    "#with open(\"data/sentimental_analysis/corpus_test_sncf.file\", \"wb\") as f:\n",
    "#    pickle.dump(corpus_test_sncf, f, pickle.HIGHEST_PROTOCOL)"
   ]
  }
 ],
 "metadata": {
  "kernelspec": {
   "display_name": "Python 3",
   "language": "python",
   "name": "python3"
  },
  "language_info": {
   "codemirror_mode": {
    "name": "ipython",
    "version": 3
   },
   "file_extension": ".py",
   "mimetype": "text/x-python",
   "name": "python",
   "nbconvert_exporter": "python",
   "pygments_lexer": "ipython3",
   "version": "3.7.4"
  }
 },
 "nbformat": 4,
 "nbformat_minor": 2
}
