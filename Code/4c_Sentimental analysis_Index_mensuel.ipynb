{
 "cells": [
  {
   "cell_type": "code",
   "execution_count": 14,
   "metadata": {},
   "outputs": [],
   "source": [
    "import os\n",
    "import numpy as np\n",
    "import random\n",
    "import pandas as pd\n",
    "import matplotlib.pyplot as plt\n",
    "import pickle\n",
    "import gensim\n",
    "from gensim.models import word2vec\n",
    "import string\n",
    "import re\n",
    "random.seed(1)\n",
    "np.random.seed(1)\n",
    "import rpy2.robjects as r"
   ]
  },
  {
   "cell_type": "code",
   "execution_count": 15,
   "metadata": {},
   "outputs": [],
   "source": [
    "#os.chdir('C:/Users/torna/Documents/StatApp/StatApp')\n",
    "os.chdir('C:/Users/Kim Antunez/Documents/Projets_autres/StatApp')\n",
    "#os.chdir('/Users/alainquartierlatente/Desktop/Ensae/StatApp')\n",
    "#os.chdir('/home/aqlt/Documents/Ensae/StatApp')"
   ]
  },
  {
   "cell_type": "markdown",
   "metadata": {},
   "source": [
    "## Importation de word2vec"
   ]
  },
  {
   "cell_type": "code",
   "execution_count": 3,
   "metadata": {},
   "outputs": [],
   "source": [
    "nom_dossier = 'ens'\n",
    "dim = 100\n",
    "epoch = 100\n",
    "window = 4\n",
    "learning_rate = 0.02"
   ]
  },
  {
   "cell_type": "code",
   "execution_count": 4,
   "metadata": {},
   "outputs": [],
   "source": [
    "chemin1 = \"data/{}/gensim/dim{}_ep{}_w{}_lr{}_seed1\".format(nom_dossier, dim, epoch, window, str(learning_rate)[2:]) \n",
    "model1 = gensim.models.keyedvectors.KeyedVectors.load(chemin1 + \"/word2vec.model\")\n",
    "chemin2 = \"data/{}/gensim/dim{}_ep{}_w{}_lr{}_seed5\".format(nom_dossier, dim, epoch, window, str(learning_rate)[2:])  \n",
    "model2 = gensim.models.keyedvectors.KeyedVectors.load(chemin2 + \"/word2vec.model\")\n",
    "chemin3 = \"data/{}/gensim/dim{}_ep{}_w{}_lr{}_seed10\".format(nom_dossier, dim, epoch, window, str(learning_rate)[2:])  \n",
    "model3 = gensim.models.keyedvectors.KeyedVectors.load(chemin3 + \"/word2vec.model\")\n",
    "chemin4 = \"data/{}/gensim/dim{}_ep{}_w{}_lr{}_seed15\".format(nom_dossier, dim, epoch, window, str(learning_rate)[2:])  \n",
    "model4 = gensim.models.keyedvectors.KeyedVectors.load(chemin4 + \"/word2vec.model\")\n",
    "chemin5 = \"data/{}/gensim/dim{}_ep{}_w{}_lr{}_seed20\".format(nom_dossier, dim, epoch, window, str(learning_rate)[2:])  \n",
    "model5 = gensim.models.keyedvectors.KeyedVectors.load(chemin5 + \"/word2vec.model\")\n",
    "chemin6 = \"data/{}/gensim/dim{}_ep{}_w{}_lr{}_seed25\".format(nom_dossier, dim, epoch, window, str(learning_rate)[2:]) \n",
    "model6 = gensim.models.keyedvectors.KeyedVectors.load(chemin6 + \"/word2vec.model\")\n",
    "\n",
    "matrice = {word : (model1.wv[word]+model2.wv[word]+model3.wv[word]+model4.wv[word]+model5.wv[word]+model6.wv[word])/6\n",
    "           for word in model1.wv.index2word}"
   ]
  },
  {
   "cell_type": "markdown",
   "metadata": {},
   "source": [
    "# Fonctions générales"
   ]
  },
  {
   "cell_type": "code",
   "execution_count": 6,
   "metadata": {},
   "outputs": [],
   "source": [
    "# On traite la mise en forme comme dans notre corpus\n",
    "def mise_en_forme_phrase (phrase):\n",
    "    phrase = phrase.lower()\n",
    "    # On enlève la ponctuation + certaines apostrophes\n",
    "    phrase = phrase.translate(str.maketrans('', '', string.punctuation + \"'’«»—\"))\n",
    "    # On enlève les passages à la ligne\n",
    "    phrase = re.sub('\\\\n', ' ', phrase)\n",
    "    # On enlève les tabulations\n",
    "    phrase = re.sub('\\\\t', ' ', phrase)\n",
    "    # On enlève les espaces multiples et les espaces à la fin des phrases\n",
    "    phrase = re.sub(' +', ' ', phrase)\n",
    "    phrase = re.sub(' +$', '', phrase)\n",
    "    phrase = re.sub('^ +', '', phrase)\n",
    "    # phrase.isalpha() # inutile\n",
    "    return(phrase)"
   ]
  },
  {
   "cell_type": "code",
   "execution_count": 7,
   "metadata": {},
   "outputs": [],
   "source": [
    "def calcul_sentence_embedding(phrase,lowfrequency_zero,pond=False):\n",
    "    \n",
    "    if len(phrase)>0: \n",
    "        if(pond): #Modèle de la fin non utilisé\n",
    "            sum1 = sum(matrice[mot]*matrice_sentiments_val[mot] for mot in phrase if mot in model1.wv.index2word and\n",
    "                   mot in vocabulaire)\n",
    "            if lowfrequency_zero==False:\n",
    "                sum2 = sum(matrice[\"lowfrequencyword\"]*0 for mot in phrase if mot not in model1.wv.index2word)\n",
    "                return (sum1+sum2)/len(phrase)\n",
    "            else:\n",
    "                return  (sum1)/(len([mot for mot in phrase if mot in model1.wv.index2word]))\n",
    "        else:     \n",
    "            sum1 = sum(matrice[mot] for mot in phrase if mot in model1.wv.index2word)\n",
    "            #sum1 = sum(matrice_norm[mot] for mot in phrase if mot in model1.wv.index2word)\n",
    "            if lowfrequency_zero==False:\n",
    "                sum2 = sum(matrice[\"lowfrequencyword\"] for mot in phrase if mot not in model1.wv.index2word)\n",
    "                #sum2 = sum(matrice_norm[\"lowfrequencyword\"] for mot in phrase if mot not in model1.wv.index2word)\n",
    "                return (sum1+sum2)/len(phrase)\n",
    "            else:\n",
    "                taille = len([mot for mot in phrase if mot in model1.wv.index2word])\n",
    "                if taille>0:\n",
    "                    return  (sum1)/taille\n",
    "                else: \n",
    "                    return 'NaN'\n",
    "    else:\n",
    "        if lowfrequency_zero==False:\n",
    "            return matrice[\"lowfrequencyword\"]\n",
    "        else:\n",
    "            return 'NaN'"
   ]
  },
  {
   "cell_type": "code",
   "execution_count": 8,
   "metadata": {},
   "outputs": [],
   "source": [
    "def normalize(v):\n",
    "    norm = np.linalg.norm(v)\n",
    "    if norm == 0: \n",
    "        return v\n",
    "    return v / norm"
   ]
  },
  {
   "cell_type": "code",
   "execution_count": 10,
   "metadata": {},
   "outputs": [],
   "source": [
    "def creer_indice(modeles,rmsws,mot_rares):\n",
    "    \n",
    "    resultat = pd.DataFrame(columns=[''])\n",
    "    \n",
    "    #fichiers des modeles\n",
    "    #if(isinstance(modele, list)):\n",
    "    #modele = r.r['paste0'](\"(\",r.r['paste0'](\"(\",modele,\")\",collapse = \"|\"),\")\")[0]\n",
    "    #if(isinstance(rmsw, list)):\n",
    "    #rmsw = r.r['paste0'](\"(\",r.r['paste0'](\"(\",rmsw,\")\",collapse = \"|\"),\")\")[0]\n",
    "    #if(isinstance(mot_rare, list)):\n",
    "    #mot_rare = r.r['paste0'](\"(\",r.r['paste0'](\"(\",mot_rare,\")\",collapse = \"|\"),\")\")[0]\n",
    "    #requete_regexp = 'reg_{}_{}_{}'.format(modele,rmsw,mot_rare)\n",
    "    #fichiers_modeles = r.r['list.files'](path = 'data/sentimental_analysis/',\n",
    "    #                  pattern = requete_regexp)\n",
    "    #requete_regexp = 'reg_{}_{}_{}'.format(modele,rmsw,mot_rare)\n",
    "    \n",
    "    #fichiers de tweets mensuels\n",
    "    fichiers_tweets = []\n",
    "    for i in range(2011,2019):\n",
    "        for j in range(1,13): #range(1,13) normalement (là je fais tourner petit à petit car long)\n",
    "            if j < 10:\n",
    "                mot = \"0\"+str(j)\n",
    "            else:\n",
    "                mot = str(j)\n",
    "            fichiers_tweets.append(str(str(i)+\"-\"+mot+\"-\"+mot))\n",
    "    for modele in modeles:\n",
    "        for rmsw in rmsws:\n",
    "            for mot_rare in mot_rares:\n",
    "                regression = 'reg_{}_{}_{}'.format(modele,rmsw,mot_rare)\n",
    "                chemin = \"data/sentimental_analysis/{}.file\".format(regression)\n",
    "                if mot_rare==\"z\":\n",
    "                    lowfrequency_zero_bool = True\n",
    "                else:\n",
    "                    lowfrequency_zero_bool = False\n",
    "\n",
    "                with open(chemin, \"rb\") as f:\n",
    "                    reg  = pickle.load(f)\n",
    "                resultat[regression] = 0\n",
    "                print(regression)\n",
    "                for nom in fichiers_tweets:\n",
    "                    print(nom)\n",
    "                    df = pd.read_csv(\"data/sentimental_analysis/tweet_filtered_trim/\" + nom +\"-trim-agg.txt\",sep=\"#//#/?&\",header=None,engine='python',encoding='UTF-8')\n",
    "                    df.columns = ['tweet']\n",
    "                    if rmsws==\"rmsw\":\n",
    "                        phrases = [suppr_stop(mise_en_forme_phrase(ligne.tweet).split()) for ligne in df.itertuples()]\n",
    "                    else:\n",
    "                        phrases = [mise_en_forme_phrase(ligne.tweet).split() for ligne in df.itertuples()]\n",
    "                    phrases_emb = [calcul_sentence_embedding(phrase,lowfrequency_zero=lowfrequency_zero_bool) for phrase in phrases]\n",
    "                    phrases_emb = [phrase for phrase in phrases_emb if phrase != 'NaN']\n",
    "                    Y = reg.predict(phrases_emb)\n",
    "                    Y_bis = [max(val,0) for val in Y]\n",
    "                    resultat.loc[nom[0:7],regression] = [np.mean(Y_bis)]\n",
    "    return resultat"
   ]
  },
  {
   "cell_type": "markdown",
   "metadata": {},
   "source": [
    "# Calcul des indices mensuels (étape à ne pas refaire ultérieurement)"
   ]
  },
  {
   "cell_type": "code",
   "execution_count": 11,
   "metadata": {},
   "outputs": [
    {
     "name": "stdout",
     "output_type": "stream",
     "text": [
      "['2011-02-02', '2011-03-03', '2012-02-02', '2012-03-03', '2013-02-02', '2013-03-03', '2014-02-02', '2014-03-03', '2015-02-02', '2015-03-03', '2016-02-02', '2016-03-03', '2017-02-02', '2017-03-03', '2018-02-02', '2018-03-03']\n"
     ]
    },
    {
     "name": "stderr",
     "output_type": "stream",
     "text": [
      "C:\\Users\\Kim Antunez\\Anaconda3\\lib\\site-packages\\sklearn\\base.py:318: UserWarning: Trying to unpickle estimator LogisticRegression from version 0.22.2.post1 when using version 0.22.1. This might lead to breaking code or invalid results. Use at your own risk.\n",
      "  UserWarning)\n"
     ]
    },
    {
     "name": "stdout",
     "output_type": "stream",
     "text": [
      "reg_log_rmsw_z\n",
      "2011-02-02\n"
     ]
    },
    {
     "name": "stderr",
     "output_type": "stream",
     "text": [
      "C:\\Users\\Kim Antunez\\Anaconda3\\lib\\site-packages\\ipykernel_launcher.py:51: FutureWarning: elementwise comparison failed; returning scalar instead, but in the future will perform elementwise comparison\n"
     ]
    },
    {
     "name": "stdout",
     "output_type": "stream",
     "text": [
      "2011-03-03\n"
     ]
    },
    {
     "name": "stderr",
     "output_type": "stream",
     "text": [
      "C:\\Users\\Kim Antunez\\Anaconda3\\lib\\site-packages\\ipykernel_launcher.py:51: FutureWarning: elementwise comparison failed; returning scalar instead, but in the future will perform elementwise comparison\n"
     ]
    },
    {
     "name": "stdout",
     "output_type": "stream",
     "text": [
      "2012-02-02\n"
     ]
    },
    {
     "name": "stderr",
     "output_type": "stream",
     "text": [
      "C:\\Users\\Kim Antunez\\Anaconda3\\lib\\site-packages\\ipykernel_launcher.py:51: FutureWarning: elementwise comparison failed; returning scalar instead, but in the future will perform elementwise comparison\n"
     ]
    },
    {
     "name": "stdout",
     "output_type": "stream",
     "text": [
      "2012-03-03\n"
     ]
    },
    {
     "name": "stderr",
     "output_type": "stream",
     "text": [
      "C:\\Users\\Kim Antunez\\Anaconda3\\lib\\site-packages\\ipykernel_launcher.py:51: FutureWarning: elementwise comparison failed; returning scalar instead, but in the future will perform elementwise comparison\n"
     ]
    },
    {
     "name": "stdout",
     "output_type": "stream",
     "text": [
      "2013-02-02\n"
     ]
    },
    {
     "name": "stderr",
     "output_type": "stream",
     "text": [
      "C:\\Users\\Kim Antunez\\Anaconda3\\lib\\site-packages\\ipykernel_launcher.py:51: FutureWarning: elementwise comparison failed; returning scalar instead, but in the future will perform elementwise comparison\n"
     ]
    },
    {
     "name": "stdout",
     "output_type": "stream",
     "text": [
      "2013-03-03\n"
     ]
    },
    {
     "name": "stderr",
     "output_type": "stream",
     "text": [
      "C:\\Users\\Kim Antunez\\Anaconda3\\lib\\site-packages\\ipykernel_launcher.py:51: FutureWarning: elementwise comparison failed; returning scalar instead, but in the future will perform elementwise comparison\n"
     ]
    },
    {
     "name": "stdout",
     "output_type": "stream",
     "text": [
      "2014-02-02\n"
     ]
    },
    {
     "name": "stderr",
     "output_type": "stream",
     "text": [
      "C:\\Users\\Kim Antunez\\Anaconda3\\lib\\site-packages\\ipykernel_launcher.py:51: FutureWarning: elementwise comparison failed; returning scalar instead, but in the future will perform elementwise comparison\n"
     ]
    },
    {
     "name": "stdout",
     "output_type": "stream",
     "text": [
      "2014-03-03\n"
     ]
    },
    {
     "name": "stderr",
     "output_type": "stream",
     "text": [
      "C:\\Users\\Kim Antunez\\Anaconda3\\lib\\site-packages\\ipykernel_launcher.py:51: FutureWarning: elementwise comparison failed; returning scalar instead, but in the future will perform elementwise comparison\n"
     ]
    },
    {
     "name": "stdout",
     "output_type": "stream",
     "text": [
      "2015-02-02\n"
     ]
    },
    {
     "name": "stderr",
     "output_type": "stream",
     "text": [
      "C:\\Users\\Kim Antunez\\Anaconda3\\lib\\site-packages\\ipykernel_launcher.py:51: FutureWarning: elementwise comparison failed; returning scalar instead, but in the future will perform elementwise comparison\n"
     ]
    },
    {
     "name": "stdout",
     "output_type": "stream",
     "text": [
      "2015-03-03\n"
     ]
    },
    {
     "name": "stderr",
     "output_type": "stream",
     "text": [
      "C:\\Users\\Kim Antunez\\Anaconda3\\lib\\site-packages\\ipykernel_launcher.py:51: FutureWarning: elementwise comparison failed; returning scalar instead, but in the future will perform elementwise comparison\n"
     ]
    },
    {
     "name": "stdout",
     "output_type": "stream",
     "text": [
      "2016-02-02\n"
     ]
    },
    {
     "name": "stderr",
     "output_type": "stream",
     "text": [
      "C:\\Users\\Kim Antunez\\Anaconda3\\lib\\site-packages\\ipykernel_launcher.py:51: FutureWarning: elementwise comparison failed; returning scalar instead, but in the future will perform elementwise comparison\n"
     ]
    },
    {
     "name": "stdout",
     "output_type": "stream",
     "text": [
      "2016-03-03\n"
     ]
    },
    {
     "name": "stderr",
     "output_type": "stream",
     "text": [
      "C:\\Users\\Kim Antunez\\Anaconda3\\lib\\site-packages\\ipykernel_launcher.py:51: FutureWarning: elementwise comparison failed; returning scalar instead, but in the future will perform elementwise comparison\n"
     ]
    },
    {
     "name": "stdout",
     "output_type": "stream",
     "text": [
      "2017-02-02\n"
     ]
    },
    {
     "name": "stderr",
     "output_type": "stream",
     "text": [
      "C:\\Users\\Kim Antunez\\Anaconda3\\lib\\site-packages\\ipykernel_launcher.py:51: FutureWarning: elementwise comparison failed; returning scalar instead, but in the future will perform elementwise comparison\n"
     ]
    },
    {
     "name": "stdout",
     "output_type": "stream",
     "text": [
      "2017-03-03\n"
     ]
    },
    {
     "name": "stderr",
     "output_type": "stream",
     "text": [
      "C:\\Users\\Kim Antunez\\Anaconda3\\lib\\site-packages\\ipykernel_launcher.py:51: FutureWarning: elementwise comparison failed; returning scalar instead, but in the future will perform elementwise comparison\n"
     ]
    },
    {
     "name": "stdout",
     "output_type": "stream",
     "text": [
      "2018-02-02\n"
     ]
    },
    {
     "name": "stderr",
     "output_type": "stream",
     "text": [
      "C:\\Users\\Kim Antunez\\Anaconda3\\lib\\site-packages\\ipykernel_launcher.py:51: FutureWarning: elementwise comparison failed; returning scalar instead, but in the future will perform elementwise comparison\n"
     ]
    },
    {
     "name": "stdout",
     "output_type": "stream",
     "text": [
      "2018-03-03\n"
     ]
    },
    {
     "name": "stderr",
     "output_type": "stream",
     "text": [
      "C:\\Users\\Kim Antunez\\Anaconda3\\lib\\site-packages\\ipykernel_launcher.py:51: FutureWarning: elementwise comparison failed; returning scalar instead, but in the future will perform elementwise comparison\n",
      "C:\\Users\\Kim Antunez\\Anaconda3\\lib\\site-packages\\statsmodels\\tools\\_testing.py:19: FutureWarning: pandas.util.testing is deprecated. Use the functions in the public API at pandas.testing instead.\n",
      "  import pandas.util.testing as tm\n"
     ]
    },
    {
     "name": "stdout",
     "output_type": "stream",
     "text": [
      "reg_log_rmsw_lf\n",
      "2011-02-02\n"
     ]
    },
    {
     "name": "stderr",
     "output_type": "stream",
     "text": [
      "C:\\Users\\Kim Antunez\\Anaconda3\\lib\\site-packages\\ipykernel_launcher.py:51: FutureWarning: elementwise comparison failed; returning scalar instead, but in the future will perform elementwise comparison\n"
     ]
    },
    {
     "name": "stdout",
     "output_type": "stream",
     "text": [
      "2011-03-03\n",
      "2012-02-02\n",
      "2012-03-03\n",
      "2013-02-02\n",
      "2013-03-03\n",
      "2014-02-02\n",
      "2014-03-03\n",
      "2015-02-02\n",
      "2015-03-03\n",
      "2016-02-02\n",
      "2016-03-03\n",
      "2017-02-02\n",
      "2017-03-03\n",
      "2018-02-02\n",
      "2018-03-03\n"
     ]
    },
    {
     "name": "stderr",
     "output_type": "stream",
     "text": [
      "C:\\Users\\Kim Antunez\\Anaconda3\\lib\\site-packages\\sklearn\\base.py:318: UserWarning: Trying to unpickle estimator LogisticRegression from version 0.22.2.post1 when using version 0.22.1. This might lead to breaking code or invalid results. Use at your own risk.\n",
      "  UserWarning)\n"
     ]
    },
    {
     "name": "stdout",
     "output_type": "stream",
     "text": [
      "reg_log_nrmsw_z\n",
      "2011-02-02\n",
      "2011-03-03\n"
     ]
    },
    {
     "name": "stderr",
     "output_type": "stream",
     "text": [
      "C:\\Users\\Kim Antunez\\Anaconda3\\lib\\site-packages\\ipykernel_launcher.py:51: FutureWarning: elementwise comparison failed; returning scalar instead, but in the future will perform elementwise comparison\n"
     ]
    },
    {
     "name": "stdout",
     "output_type": "stream",
     "text": [
      "2012-02-02\n"
     ]
    },
    {
     "name": "stderr",
     "output_type": "stream",
     "text": [
      "C:\\Users\\Kim Antunez\\Anaconda3\\lib\\site-packages\\ipykernel_launcher.py:51: FutureWarning: elementwise comparison failed; returning scalar instead, but in the future will perform elementwise comparison\n"
     ]
    },
    {
     "name": "stdout",
     "output_type": "stream",
     "text": [
      "2012-03-03\n"
     ]
    },
    {
     "name": "stderr",
     "output_type": "stream",
     "text": [
      "C:\\Users\\Kim Antunez\\Anaconda3\\lib\\site-packages\\ipykernel_launcher.py:51: FutureWarning: elementwise comparison failed; returning scalar instead, but in the future will perform elementwise comparison\n"
     ]
    },
    {
     "name": "stdout",
     "output_type": "stream",
     "text": [
      "2013-02-02\n"
     ]
    },
    {
     "name": "stderr",
     "output_type": "stream",
     "text": [
      "C:\\Users\\Kim Antunez\\Anaconda3\\lib\\site-packages\\ipykernel_launcher.py:51: FutureWarning: elementwise comparison failed; returning scalar instead, but in the future will perform elementwise comparison\n"
     ]
    },
    {
     "name": "stdout",
     "output_type": "stream",
     "text": [
      "2013-03-03\n"
     ]
    },
    {
     "name": "stderr",
     "output_type": "stream",
     "text": [
      "C:\\Users\\Kim Antunez\\Anaconda3\\lib\\site-packages\\ipykernel_launcher.py:51: FutureWarning: elementwise comparison failed; returning scalar instead, but in the future will perform elementwise comparison\n"
     ]
    },
    {
     "name": "stdout",
     "output_type": "stream",
     "text": [
      "2014-02-02\n"
     ]
    },
    {
     "name": "stderr",
     "output_type": "stream",
     "text": [
      "C:\\Users\\Kim Antunez\\Anaconda3\\lib\\site-packages\\ipykernel_launcher.py:51: FutureWarning: elementwise comparison failed; returning scalar instead, but in the future will perform elementwise comparison\n"
     ]
    },
    {
     "name": "stdout",
     "output_type": "stream",
     "text": [
      "2014-03-03\n"
     ]
    },
    {
     "name": "stderr",
     "output_type": "stream",
     "text": [
      "C:\\Users\\Kim Antunez\\Anaconda3\\lib\\site-packages\\ipykernel_launcher.py:51: FutureWarning: elementwise comparison failed; returning scalar instead, but in the future will perform elementwise comparison\n"
     ]
    },
    {
     "name": "stdout",
     "output_type": "stream",
     "text": [
      "2015-02-02\n"
     ]
    },
    {
     "name": "stderr",
     "output_type": "stream",
     "text": [
      "C:\\Users\\Kim Antunez\\Anaconda3\\lib\\site-packages\\ipykernel_launcher.py:51: FutureWarning: elementwise comparison failed; returning scalar instead, but in the future will perform elementwise comparison\n"
     ]
    },
    {
     "name": "stdout",
     "output_type": "stream",
     "text": [
      "2015-03-03\n"
     ]
    },
    {
     "name": "stderr",
     "output_type": "stream",
     "text": [
      "C:\\Users\\Kim Antunez\\Anaconda3\\lib\\site-packages\\ipykernel_launcher.py:51: FutureWarning: elementwise comparison failed; returning scalar instead, but in the future will perform elementwise comparison\n"
     ]
    },
    {
     "name": "stdout",
     "output_type": "stream",
     "text": [
      "2016-02-02\n"
     ]
    },
    {
     "name": "stderr",
     "output_type": "stream",
     "text": [
      "C:\\Users\\Kim Antunez\\Anaconda3\\lib\\site-packages\\ipykernel_launcher.py:51: FutureWarning: elementwise comparison failed; returning scalar instead, but in the future will perform elementwise comparison\n"
     ]
    },
    {
     "name": "stdout",
     "output_type": "stream",
     "text": [
      "2016-03-03\n"
     ]
    },
    {
     "name": "stderr",
     "output_type": "stream",
     "text": [
      "C:\\Users\\Kim Antunez\\Anaconda3\\lib\\site-packages\\ipykernel_launcher.py:51: FutureWarning: elementwise comparison failed; returning scalar instead, but in the future will perform elementwise comparison\n"
     ]
    },
    {
     "name": "stdout",
     "output_type": "stream",
     "text": [
      "2017-02-02\n"
     ]
    },
    {
     "name": "stderr",
     "output_type": "stream",
     "text": [
      "C:\\Users\\Kim Antunez\\Anaconda3\\lib\\site-packages\\ipykernel_launcher.py:51: FutureWarning: elementwise comparison failed; returning scalar instead, but in the future will perform elementwise comparison\n"
     ]
    },
    {
     "name": "stdout",
     "output_type": "stream",
     "text": [
      "2017-03-03\n"
     ]
    },
    {
     "name": "stderr",
     "output_type": "stream",
     "text": [
      "C:\\Users\\Kim Antunez\\Anaconda3\\lib\\site-packages\\ipykernel_launcher.py:51: FutureWarning: elementwise comparison failed; returning scalar instead, but in the future will perform elementwise comparison\n"
     ]
    },
    {
     "name": "stdout",
     "output_type": "stream",
     "text": [
      "2018-02-02\n"
     ]
    },
    {
     "name": "stderr",
     "output_type": "stream",
     "text": [
      "C:\\Users\\Kim Antunez\\Anaconda3\\lib\\site-packages\\ipykernel_launcher.py:51: FutureWarning: elementwise comparison failed; returning scalar instead, but in the future will perform elementwise comparison\n"
     ]
    },
    {
     "name": "stdout",
     "output_type": "stream",
     "text": [
      "2018-03-03\n"
     ]
    },
    {
     "name": "stderr",
     "output_type": "stream",
     "text": [
      "C:\\Users\\Kim Antunez\\Anaconda3\\lib\\site-packages\\ipykernel_launcher.py:51: FutureWarning: elementwise comparison failed; returning scalar instead, but in the future will perform elementwise comparison\n",
      "C:\\Users\\Kim Antunez\\Anaconda3\\lib\\site-packages\\sklearn\\base.py:318: UserWarning: Trying to unpickle estimator LogisticRegression from version 0.22.2.post1 when using version 0.22.1. This might lead to breaking code or invalid results. Use at your own risk.\n",
      "  UserWarning)\n"
     ]
    },
    {
     "name": "stdout",
     "output_type": "stream",
     "text": [
      "reg_log_nrmsw_lf\n",
      "2011-02-02\n"
     ]
    },
    {
     "name": "stderr",
     "output_type": "stream",
     "text": [
      "C:\\Users\\Kim Antunez\\Anaconda3\\lib\\site-packages\\ipykernel_launcher.py:51: FutureWarning: elementwise comparison failed; returning scalar instead, but in the future will perform elementwise comparison\n"
     ]
    },
    {
     "name": "stdout",
     "output_type": "stream",
     "text": [
      "2011-03-03\n"
     ]
    },
    {
     "name": "stderr",
     "output_type": "stream",
     "text": [
      "C:\\Users\\Kim Antunez\\Anaconda3\\lib\\site-packages\\ipykernel_launcher.py:51: FutureWarning: elementwise comparison failed; returning scalar instead, but in the future will perform elementwise comparison\n"
     ]
    },
    {
     "name": "stdout",
     "output_type": "stream",
     "text": [
      "2012-02-02\n"
     ]
    },
    {
     "name": "stderr",
     "output_type": "stream",
     "text": [
      "C:\\Users\\Kim Antunez\\Anaconda3\\lib\\site-packages\\ipykernel_launcher.py:51: FutureWarning: elementwise comparison failed; returning scalar instead, but in the future will perform elementwise comparison\n"
     ]
    },
    {
     "name": "stdout",
     "output_type": "stream",
     "text": [
      "2012-03-03\n"
     ]
    },
    {
     "name": "stderr",
     "output_type": "stream",
     "text": [
      "C:\\Users\\Kim Antunez\\Anaconda3\\lib\\site-packages\\ipykernel_launcher.py:51: FutureWarning: elementwise comparison failed; returning scalar instead, but in the future will perform elementwise comparison\n"
     ]
    },
    {
     "name": "stdout",
     "output_type": "stream",
     "text": [
      "2013-02-02\n"
     ]
    },
    {
     "name": "stderr",
     "output_type": "stream",
     "text": [
      "C:\\Users\\Kim Antunez\\Anaconda3\\lib\\site-packages\\ipykernel_launcher.py:51: FutureWarning: elementwise comparison failed; returning scalar instead, but in the future will perform elementwise comparison\n"
     ]
    },
    {
     "name": "stdout",
     "output_type": "stream",
     "text": [
      "2013-03-03\n"
     ]
    },
    {
     "name": "stderr",
     "output_type": "stream",
     "text": [
      "C:\\Users\\Kim Antunez\\Anaconda3\\lib\\site-packages\\ipykernel_launcher.py:51: FutureWarning: elementwise comparison failed; returning scalar instead, but in the future will perform elementwise comparison\n"
     ]
    },
    {
     "name": "stdout",
     "output_type": "stream",
     "text": [
      "2014-02-02\n"
     ]
    },
    {
     "name": "stderr",
     "output_type": "stream",
     "text": [
      "C:\\Users\\Kim Antunez\\Anaconda3\\lib\\site-packages\\ipykernel_launcher.py:51: FutureWarning: elementwise comparison failed; returning scalar instead, but in the future will perform elementwise comparison\n"
     ]
    },
    {
     "name": "stdout",
     "output_type": "stream",
     "text": [
      "2014-03-03\n"
     ]
    },
    {
     "name": "stderr",
     "output_type": "stream",
     "text": [
      "C:\\Users\\Kim Antunez\\Anaconda3\\lib\\site-packages\\ipykernel_launcher.py:51: FutureWarning: elementwise comparison failed; returning scalar instead, but in the future will perform elementwise comparison\n"
     ]
    },
    {
     "name": "stdout",
     "output_type": "stream",
     "text": [
      "2015-02-02\n"
     ]
    },
    {
     "name": "stderr",
     "output_type": "stream",
     "text": [
      "C:\\Users\\Kim Antunez\\Anaconda3\\lib\\site-packages\\ipykernel_launcher.py:51: FutureWarning: elementwise comparison failed; returning scalar instead, but in the future will perform elementwise comparison\n"
     ]
    },
    {
     "name": "stdout",
     "output_type": "stream",
     "text": [
      "2015-03-03\n"
     ]
    },
    {
     "name": "stderr",
     "output_type": "stream",
     "text": [
      "C:\\Users\\Kim Antunez\\Anaconda3\\lib\\site-packages\\ipykernel_launcher.py:51: FutureWarning: elementwise comparison failed; returning scalar instead, but in the future will perform elementwise comparison\n"
     ]
    },
    {
     "name": "stdout",
     "output_type": "stream",
     "text": [
      "2016-02-02\n"
     ]
    },
    {
     "name": "stderr",
     "output_type": "stream",
     "text": [
      "C:\\Users\\Kim Antunez\\Anaconda3\\lib\\site-packages\\ipykernel_launcher.py:51: FutureWarning: elementwise comparison failed; returning scalar instead, but in the future will perform elementwise comparison\n"
     ]
    },
    {
     "name": "stdout",
     "output_type": "stream",
     "text": [
      "2016-03-03\n"
     ]
    },
    {
     "name": "stderr",
     "output_type": "stream",
     "text": [
      "C:\\Users\\Kim Antunez\\Anaconda3\\lib\\site-packages\\ipykernel_launcher.py:51: FutureWarning: elementwise comparison failed; returning scalar instead, but in the future will perform elementwise comparison\n"
     ]
    },
    {
     "name": "stdout",
     "output_type": "stream",
     "text": [
      "2017-02-02\n"
     ]
    },
    {
     "name": "stderr",
     "output_type": "stream",
     "text": [
      "C:\\Users\\Kim Antunez\\Anaconda3\\lib\\site-packages\\ipykernel_launcher.py:51: FutureWarning: elementwise comparison failed; returning scalar instead, but in the future will perform elementwise comparison\n"
     ]
    },
    {
     "name": "stdout",
     "output_type": "stream",
     "text": [
      "2017-03-03\n"
     ]
    },
    {
     "name": "stderr",
     "output_type": "stream",
     "text": [
      "C:\\Users\\Kim Antunez\\Anaconda3\\lib\\site-packages\\ipykernel_launcher.py:51: FutureWarning: elementwise comparison failed; returning scalar instead, but in the future will perform elementwise comparison\n"
     ]
    },
    {
     "name": "stdout",
     "output_type": "stream",
     "text": [
      "2018-02-02\n"
     ]
    },
    {
     "name": "stderr",
     "output_type": "stream",
     "text": [
      "C:\\Users\\Kim Antunez\\Anaconda3\\lib\\site-packages\\ipykernel_launcher.py:51: FutureWarning: elementwise comparison failed; returning scalar instead, but in the future will perform elementwise comparison\n"
     ]
    },
    {
     "name": "stdout",
     "output_type": "stream",
     "text": [
      "2018-03-03\n"
     ]
    },
    {
     "name": "stderr",
     "output_type": "stream",
     "text": [
      "C:\\Users\\Kim Antunez\\Anaconda3\\lib\\site-packages\\ipykernel_launcher.py:51: FutureWarning: elementwise comparison failed; returning scalar instead, but in the future will perform elementwise comparison\n"
     ]
    },
    {
     "name": "stdout",
     "output_type": "stream",
     "text": [
      "reg_prob_rmsw_z\n",
      "2011-02-02\n"
     ]
    },
    {
     "name": "stderr",
     "output_type": "stream",
     "text": [
      "C:\\Users\\Kim Antunez\\Anaconda3\\lib\\site-packages\\ipykernel_launcher.py:51: FutureWarning: elementwise comparison failed; returning scalar instead, but in the future will perform elementwise comparison\n"
     ]
    },
    {
     "name": "stdout",
     "output_type": "stream",
     "text": [
      "2011-03-03\n",
      "2012-02-02\n",
      "2012-03-03\n",
      "2013-02-02\n",
      "2013-03-03\n",
      "2014-02-02\n",
      "2014-03-03\n",
      "2015-02-02\n",
      "2015-03-03\n",
      "2016-02-02\n",
      "2016-03-03\n",
      "2017-02-02\n",
      "2017-03-03\n",
      "2018-02-02\n",
      "2018-03-03\n",
      "reg_prob_rmsw_lf\n",
      "2011-02-02\n",
      "2011-03-03\n",
      "2012-02-02\n",
      "2012-03-03\n",
      "2013-02-02\n",
      "2013-03-03\n",
      "2014-02-02\n",
      "2014-03-03\n",
      "2015-02-02\n",
      "2015-03-03\n",
      "2016-02-02\n",
      "2016-03-03\n",
      "2017-02-02\n",
      "2017-03-03\n",
      "2018-02-02\n",
      "2018-03-03\n",
      "reg_prob_nrmsw_z\n",
      "2011-02-02\n",
      "2011-03-03\n",
      "2012-02-02\n",
      "2012-03-03\n",
      "2013-02-02\n",
      "2013-03-03\n",
      "2014-02-02\n",
      "2014-03-03\n",
      "2015-02-02\n",
      "2015-03-03\n",
      "2016-02-02\n",
      "2016-03-03\n",
      "2017-02-02\n",
      "2017-03-03\n",
      "2018-02-02\n",
      "2018-03-03\n",
      "reg_prob_nrmsw_lf\n",
      "2011-02-02\n",
      "2011-03-03\n",
      "2012-02-02\n",
      "2012-03-03\n",
      "2013-02-02\n",
      "2013-03-03\n",
      "2014-02-02\n",
      "2014-03-03\n",
      "2015-02-02\n",
      "2015-03-03\n",
      "2016-02-02\n",
      "2016-03-03\n",
      "2017-02-02\n",
      "2017-03-03\n",
      "2018-02-02\n",
      "2018-03-03\n"
     ]
    }
   ],
   "source": [
    "resultat = creer_indice(modeles = [\"log\",\"prob\"],rmsws = [\"rmsw\",\"nrmsw\"],mot_rares = [\"z\",\"lf\"])"
   ]
  },
  {
   "cell_type": "code",
   "execution_count": 29,
   "metadata": {},
   "outputs": [],
   "source": [
    "# sauver en .file\n",
    "#with open(\"data/sentimental_analysis/index_tot.file\", \"wb\") as f:\n",
    "#    pickle.dump(resultat, f, pickle.HIGHEST_PROTOCOL)"
   ]
  },
  {
   "cell_type": "code",
   "execution_count": 13,
   "metadata": {},
   "outputs": [],
   "source": [
    "# sauver en csv\n",
    "#resultat.to_csv(\"Sentiment_brut_modele.csv\",sep=\";\")"
   ]
  },
  {
   "cell_type": "code",
   "execution_count": 12,
   "metadata": {
    "scrolled": true
   },
   "outputs": [
    {
     "data": {
      "text/html": [
       "<div>\n",
       "<style scoped>\n",
       "    .dataframe tbody tr th:only-of-type {\n",
       "        vertical-align: middle;\n",
       "    }\n",
       "\n",
       "    .dataframe tbody tr th {\n",
       "        vertical-align: top;\n",
       "    }\n",
       "\n",
       "    .dataframe thead th {\n",
       "        text-align: right;\n",
       "    }\n",
       "</style>\n",
       "<table border=\"1\" class=\"dataframe\">\n",
       "  <thead>\n",
       "    <tr style=\"text-align: right;\">\n",
       "      <th></th>\n",
       "      <th></th>\n",
       "      <th>reg_log_rmsw_z</th>\n",
       "      <th>reg_log_rmsw_lf</th>\n",
       "      <th>reg_log_nrmsw_z</th>\n",
       "      <th>reg_log_nrmsw_lf</th>\n",
       "      <th>reg_prob_rmsw_z</th>\n",
       "      <th>reg_prob_rmsw_lf</th>\n",
       "      <th>reg_prob_nrmsw_z</th>\n",
       "      <th>reg_prob_nrmsw_lf</th>\n",
       "    </tr>\n",
       "  </thead>\n",
       "  <tbody>\n",
       "    <tr>\n",
       "      <th>2011-02</th>\n",
       "      <td>NaN</td>\n",
       "      <td>0.635833</td>\n",
       "      <td>0.549375</td>\n",
       "      <td>0.642405</td>\n",
       "      <td>0.681884</td>\n",
       "      <td>0.534393</td>\n",
       "      <td>0.549375</td>\n",
       "      <td>0.560757</td>\n",
       "      <td>0.580065</td>\n",
       "    </tr>\n",
       "    <tr>\n",
       "      <th>2011-03</th>\n",
       "      <td>NaN</td>\n",
       "      <td>0.627762</td>\n",
       "      <td>0.548686</td>\n",
       "      <td>0.630884</td>\n",
       "      <td>0.672736</td>\n",
       "      <td>0.533117</td>\n",
       "      <td>0.548686</td>\n",
       "      <td>0.556807</td>\n",
       "      <td>0.576949</td>\n",
       "    </tr>\n",
       "    <tr>\n",
       "      <th>2012-02</th>\n",
       "      <td>NaN</td>\n",
       "      <td>0.591311</td>\n",
       "      <td>0.537297</td>\n",
       "      <td>0.600382</td>\n",
       "      <td>0.646190</td>\n",
       "      <td>0.521143</td>\n",
       "      <td>0.537297</td>\n",
       "      <td>0.541528</td>\n",
       "      <td>0.562171</td>\n",
       "    </tr>\n",
       "    <tr>\n",
       "      <th>2012-03</th>\n",
       "      <td>NaN</td>\n",
       "      <td>0.606742</td>\n",
       "      <td>0.538610</td>\n",
       "      <td>0.607459</td>\n",
       "      <td>0.654286</td>\n",
       "      <td>0.521125</td>\n",
       "      <td>0.538610</td>\n",
       "      <td>0.539149</td>\n",
       "      <td>0.561684</td>\n",
       "    </tr>\n",
       "    <tr>\n",
       "      <th>2013-02</th>\n",
       "      <td>NaN</td>\n",
       "      <td>0.562246</td>\n",
       "      <td>0.522719</td>\n",
       "      <td>0.559140</td>\n",
       "      <td>0.605238</td>\n",
       "      <td>0.505732</td>\n",
       "      <td>0.522719</td>\n",
       "      <td>0.518998</td>\n",
       "      <td>0.541124</td>\n",
       "    </tr>\n",
       "    <tr>\n",
       "      <th>2013-03</th>\n",
       "      <td>NaN</td>\n",
       "      <td>0.544128</td>\n",
       "      <td>0.515727</td>\n",
       "      <td>0.555370</td>\n",
       "      <td>0.602619</td>\n",
       "      <td>0.497545</td>\n",
       "      <td>0.515727</td>\n",
       "      <td>0.509168</td>\n",
       "      <td>0.533144</td>\n",
       "    </tr>\n",
       "    <tr>\n",
       "      <th>2014-02</th>\n",
       "      <td>NaN</td>\n",
       "      <td>0.524731</td>\n",
       "      <td>0.505988</td>\n",
       "      <td>0.525926</td>\n",
       "      <td>0.563333</td>\n",
       "      <td>0.490734</td>\n",
       "      <td>0.505988</td>\n",
       "      <td>0.499672</td>\n",
       "      <td>0.519950</td>\n",
       "    </tr>\n",
       "    <tr>\n",
       "      <th>2014-03</th>\n",
       "      <td>NaN</td>\n",
       "      <td>0.509556</td>\n",
       "      <td>0.498991</td>\n",
       "      <td>0.518395</td>\n",
       "      <td>0.555000</td>\n",
       "      <td>0.485044</td>\n",
       "      <td>0.498991</td>\n",
       "      <td>0.494432</td>\n",
       "      <td>0.512925</td>\n",
       "    </tr>\n",
       "    <tr>\n",
       "      <th>2015-02</th>\n",
       "      <td>NaN</td>\n",
       "      <td>0.525509</td>\n",
       "      <td>0.505165</td>\n",
       "      <td>0.529820</td>\n",
       "      <td>0.570714</td>\n",
       "      <td>0.489740</td>\n",
       "      <td>0.505165</td>\n",
       "      <td>0.497909</td>\n",
       "      <td>0.518286</td>\n",
       "    </tr>\n",
       "    <tr>\n",
       "      <th>2015-03</th>\n",
       "      <td>NaN</td>\n",
       "      <td>0.542065</td>\n",
       "      <td>0.510514</td>\n",
       "      <td>0.542782</td>\n",
       "      <td>0.587857</td>\n",
       "      <td>0.494609</td>\n",
       "      <td>0.510514</td>\n",
       "      <td>0.507520</td>\n",
       "      <td>0.528415</td>\n",
       "    </tr>\n",
       "    <tr>\n",
       "      <th>2016-02</th>\n",
       "      <td>NaN</td>\n",
       "      <td>0.534928</td>\n",
       "      <td>0.506177</td>\n",
       "      <td>0.537081</td>\n",
       "      <td>0.573571</td>\n",
       "      <td>0.488472</td>\n",
       "      <td>0.506177</td>\n",
       "      <td>0.499703</td>\n",
       "      <td>0.522467</td>\n",
       "    </tr>\n",
       "    <tr>\n",
       "      <th>2016-03</th>\n",
       "      <td>NaN</td>\n",
       "      <td>0.525096</td>\n",
       "      <td>0.506253</td>\n",
       "      <td>0.529637</td>\n",
       "      <td>0.576429</td>\n",
       "      <td>0.489303</td>\n",
       "      <td>0.506253</td>\n",
       "      <td>0.498420</td>\n",
       "      <td>0.520615</td>\n",
       "    </tr>\n",
       "    <tr>\n",
       "      <th>2017-02</th>\n",
       "      <td>NaN</td>\n",
       "      <td>0.548279</td>\n",
       "      <td>0.513408</td>\n",
       "      <td>0.545889</td>\n",
       "      <td>0.590000</td>\n",
       "      <td>0.497215</td>\n",
       "      <td>0.513408</td>\n",
       "      <td>0.506746</td>\n",
       "      <td>0.528326</td>\n",
       "    </tr>\n",
       "    <tr>\n",
       "      <th>2017-03</th>\n",
       "      <td>NaN</td>\n",
       "      <td>0.543473</td>\n",
       "      <td>0.513814</td>\n",
       "      <td>0.545868</td>\n",
       "      <td>0.589048</td>\n",
       "      <td>0.498086</td>\n",
       "      <td>0.513814</td>\n",
       "      <td>0.508239</td>\n",
       "      <td>0.528971</td>\n",
       "    </tr>\n",
       "    <tr>\n",
       "      <th>2018-02</th>\n",
       "      <td>NaN</td>\n",
       "      <td>0.550191</td>\n",
       "      <td>0.513629</td>\n",
       "      <td>0.548518</td>\n",
       "      <td>0.580952</td>\n",
       "      <td>0.499585</td>\n",
       "      <td>0.513629</td>\n",
       "      <td>0.509591</td>\n",
       "      <td>0.527636</td>\n",
       "    </tr>\n",
       "    <tr>\n",
       "      <th>2018-03</th>\n",
       "      <td>NaN</td>\n",
       "      <td>0.533238</td>\n",
       "      <td>0.507442</td>\n",
       "      <td>0.523673</td>\n",
       "      <td>0.563095</td>\n",
       "      <td>0.491598</td>\n",
       "      <td>0.507442</td>\n",
       "      <td>0.498926</td>\n",
       "      <td>0.519962</td>\n",
       "    </tr>\n",
       "  </tbody>\n",
       "</table>\n",
       "</div>"
      ],
      "text/plain": [
       "              reg_log_rmsw_z  reg_log_rmsw_lf  reg_log_nrmsw_z  \\\n",
       "2011-02  NaN        0.635833         0.549375         0.642405   \n",
       "2011-03  NaN        0.627762         0.548686         0.630884   \n",
       "2012-02  NaN        0.591311         0.537297         0.600382   \n",
       "2012-03  NaN        0.606742         0.538610         0.607459   \n",
       "2013-02  NaN        0.562246         0.522719         0.559140   \n",
       "2013-03  NaN        0.544128         0.515727         0.555370   \n",
       "2014-02  NaN        0.524731         0.505988         0.525926   \n",
       "2014-03  NaN        0.509556         0.498991         0.518395   \n",
       "2015-02  NaN        0.525509         0.505165         0.529820   \n",
       "2015-03  NaN        0.542065         0.510514         0.542782   \n",
       "2016-02  NaN        0.534928         0.506177         0.537081   \n",
       "2016-03  NaN        0.525096         0.506253         0.529637   \n",
       "2017-02  NaN        0.548279         0.513408         0.545889   \n",
       "2017-03  NaN        0.543473         0.513814         0.545868   \n",
       "2018-02  NaN        0.550191         0.513629         0.548518   \n",
       "2018-03  NaN        0.533238         0.507442         0.523673   \n",
       "\n",
       "         reg_log_nrmsw_lf  reg_prob_rmsw_z  reg_prob_rmsw_lf  \\\n",
       "2011-02          0.681884         0.534393          0.549375   \n",
       "2011-03          0.672736         0.533117          0.548686   \n",
       "2012-02          0.646190         0.521143          0.537297   \n",
       "2012-03          0.654286         0.521125          0.538610   \n",
       "2013-02          0.605238         0.505732          0.522719   \n",
       "2013-03          0.602619         0.497545          0.515727   \n",
       "2014-02          0.563333         0.490734          0.505988   \n",
       "2014-03          0.555000         0.485044          0.498991   \n",
       "2015-02          0.570714         0.489740          0.505165   \n",
       "2015-03          0.587857         0.494609          0.510514   \n",
       "2016-02          0.573571         0.488472          0.506177   \n",
       "2016-03          0.576429         0.489303          0.506253   \n",
       "2017-02          0.590000         0.497215          0.513408   \n",
       "2017-03          0.589048         0.498086          0.513814   \n",
       "2018-02          0.580952         0.499585          0.513629   \n",
       "2018-03          0.563095         0.491598          0.507442   \n",
       "\n",
       "         reg_prob_nrmsw_z  reg_prob_nrmsw_lf  \n",
       "2011-02          0.560757           0.580065  \n",
       "2011-03          0.556807           0.576949  \n",
       "2012-02          0.541528           0.562171  \n",
       "2012-03          0.539149           0.561684  \n",
       "2013-02          0.518998           0.541124  \n",
       "2013-03          0.509168           0.533144  \n",
       "2014-02          0.499672           0.519950  \n",
       "2014-03          0.494432           0.512925  \n",
       "2015-02          0.497909           0.518286  \n",
       "2015-03          0.507520           0.528415  \n",
       "2016-02          0.499703           0.522467  \n",
       "2016-03          0.498420           0.520615  \n",
       "2017-02          0.506746           0.528326  \n",
       "2017-03          0.508239           0.528971  \n",
       "2018-02          0.509591           0.527636  \n",
       "2018-03          0.498926           0.519962  "
      ]
     },
     "execution_count": 12,
     "metadata": {},
     "output_type": "execute_result"
    }
   ],
   "source": [
    "resultat"
   ]
  }
 ],
 "metadata": {
  "kernelspec": {
   "display_name": "Python 3",
   "language": "python",
   "name": "python3"
  },
  "language_info": {
   "codemirror_mode": {
    "name": "ipython",
    "version": 3
   },
   "file_extension": ".py",
   "mimetype": "text/x-python",
   "name": "python",
   "nbconvert_exporter": "python",
   "pygments_lexer": "ipython3",
   "version": "3.7.4"
  }
 },
 "nbformat": 4,
 "nbformat_minor": 4
}
