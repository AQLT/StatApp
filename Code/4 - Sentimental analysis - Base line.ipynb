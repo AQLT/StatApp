{
 "cells": [
  {
   "cell_type": "markdown",
   "metadata": {},
   "source": [
    "# Importation des données"
   ]
  },
  {
   "cell_type": "code",
   "execution_count": 165,
   "metadata": {},
   "outputs": [],
   "source": [
    "import os\n",
    "import string\n",
    "import re\n",
    "import pandas as pd\n",
    "import pickle\n",
    "\n",
    "os.chdir('C:/Users/torna/Documents/StatApp/StatApp')\n",
    "#os.chdir('C:/Users/Kim Antunez/Documents/Projets_autres')\n",
    "#os.chdir('/Users/alainquartierlatente/Desktop/Ensae/StatApp')\n",
    "#os.chdir('/home/aqlt/Documents/Ensae/StatApp')"
   ]
  },
  {
   "cell_type": "code",
   "execution_count": 166,
   "metadata": {},
   "outputs": [],
   "source": [
    "df_test = pd.read_csv(\"data/sentimental_analysis/bdd-test.csv\",sep=';/;',header=0,engine='python',encoding='UTF-8')\n",
    "df_train = pd.read_csv(\"data/sentimental_analysis/bdd-train.csv\",sep=';/;',header=0,engine='python',encoding='UTF-8')"
   ]
  },
  {
   "cell_type": "code",
   "execution_count": 167,
   "metadata": {},
   "outputs": [
    {
     "name": "stdout",
     "output_type": "stream",
     "text": [
      "                                              tweets polarity\n",
      "0  Et finito! Tous les entrepreneurs de salles de...        0\n",
      "                                              tweets  polarity\n",
      "0  Etc. J'étais en fait celui qui lui enseignait ...         4\n"
     ]
    }
   ],
   "source": [
    "print(df_train[0:1])\n",
    "print(df_test[0:1])"
   ]
  },
  {
   "cell_type": "code",
   "execution_count": 168,
   "metadata": {},
   "outputs": [],
   "source": [
    "# On traite la mise en forme comme dans notre corpus\n",
    "def mise_en_forme_phrase (phrase):\n",
    "    phrase = phrase.lower()\n",
    "    # On enlève la ponctuation + certaines apostrophes\n",
    "    phrase = phrase.translate(str.maketrans('', '', string.punctuation + \"'’«»—\"))\n",
    "    # On enlève les passages à la ligne\n",
    "    phrase = re.sub('\\\\n', ' ', phrase)\n",
    "    # On enlève les tabulations\n",
    "    phrase = re.sub('\\\\t', ' ', phrase)\n",
    "    # On enlève les espaces multiples et les espaces à la fin des phrases\n",
    "    phrase = re.sub(' +', ' ', phrase)\n",
    "    phrase = re.sub(' +$', '', phrase)\n",
    "    phrase = re.sub('^ +', '', phrase)\n",
    "    # phrase.isalpha() # inutile\n",
    "    return(phrase)"
   ]
  },
  {
   "cell_type": "code",
   "execution_count": 169,
   "metadata": {},
   "outputs": [
    {
     "data": {
      "text/plain": [
       "[[4, 'etc jétais en fait celui qui lui enseignait le texte'],\n",
       " [4, 'yay un autre jour et la discothèque demain']]"
      ]
     },
     "execution_count": 169,
     "metadata": {},
     "output_type": "execute_result"
    }
   ],
   "source": [
    "corpus_test = []\n",
    "for ligne in df_test.itertuples():\n",
    "    corpus_test.append([ligne.polarity,mise_en_forme_phrase(ligne.tweets)])\n",
    "corpus_test[0:2]"
   ]
  },
  {
   "cell_type": "code",
   "execution_count": 170,
   "metadata": {},
   "outputs": [
    {
     "data": {
      "text/plain": [
       "[['0',\n",
       "  'et finito tous les entrepreneurs de salles de bains étaient dans la maison citations entrantes alors jai besoin de mordre la balle'],\n",
       " ['0', 'awww ça suce allezvous à sydney']]"
      ]
     },
     "execution_count": 170,
     "metadata": {},
     "output_type": "execute_result"
    }
   ],
   "source": [
    "corpus_train = []\n",
    "for ligne in df_train.itertuples():\n",
    "    corpus_train.append([ligne.polarity,mise_en_forme_phrase(ligne.tweets)])\n",
    "corpus_train[0:2]"
   ]
  },
  {
   "cell_type": "code",
   "execution_count": 171,
   "metadata": {},
   "outputs": [],
   "source": [
    "corpus_test_modif = [[-1 if score == 0 else 1,tweet] for score, tweet in corpus_test]"
   ]
  },
  {
   "cell_type": "code",
   "execution_count": 172,
   "metadata": {},
   "outputs": [],
   "source": [
    "corpus_train_modif = [[-1 if score == '0' else 1,tweet] for score, tweet in corpus_train]"
   ]
  },
  {
   "cell_type": "code",
   "execution_count": 174,
   "metadata": {},
   "outputs": [],
   "source": [
    "val_pos = [[score,tweet] for score,tweet in corpus_train_modif if score == 1]\n",
    "val_neg = [[score,tweet] for score,tweet in corpus_train_modif if score == -1]"
   ]
  },
  {
   "cell_type": "code",
   "execution_count": 176,
   "metadata": {},
   "outputs": [],
   "source": [
    "import random\n",
    "from random import sample\n",
    "random.seed(1)\n",
    "val_pos_choix = sample(val_pos,25000)\n",
    "val_neg_choix = sample(val_neg,25000)"
   ]
  },
  {
   "cell_type": "code",
   "execution_count": 177,
   "metadata": {},
   "outputs": [],
   "source": [
    "corpus_train_total = val_pos_choix + val_neg_choix"
   ]
  },
  {
   "cell_type": "code",
   "execution_count": 178,
   "metadata": {},
   "outputs": [],
   "source": [
    "with open(\"data/sentimental_analysis/corpus_train.file\", \"wb\") as f:\n",
    "    pickle.dump(corpus_train_total, f, pickle.HIGHEST_PROTOCOL)\n",
    "with open(\"data/sentimental_analysis/corpus_test.file\", \"wb\") as f:\n",
    "    pickle.dump(corpus_test_modif, f, pickle.HIGHEST_PROTOCOL)"
   ]
  },
  {
   "cell_type": "markdown",
   "metadata": {},
   "source": [
    "# Modèle : prédiction sentiment de la phrase en fonction du sentiment moyen des mots"
   ]
  },
  {
   "cell_type": "code",
   "execution_count": 228,
   "metadata": {},
   "outputs": [],
   "source": [
    "# Si on veut récup les fichiers\n",
    "with open(\"data/sentimental_analysis/corpus_test.file\", \"rb\") as f:\n",
    "    corpus_test = pickle.load(f)\n",
    "with open(\"data/sentimental_analysis/corpus_train.file\", \"rb\") as f:\n",
    "    corpus_train = pickle.load(f)"
   ]
  },
  {
   "cell_type": "code",
   "execution_count": 229,
   "metadata": {},
   "outputs": [],
   "source": [
    "phrases = [tweet.split() for (score, tweet) in corpus_train]"
   ]
  },
  {
   "cell_type": "code",
   "execution_count": 230,
   "metadata": {},
   "outputs": [],
   "source": [
    "mots = [item for sublist in phrases for item in sublist]"
   ]
  },
  {
   "cell_type": "code",
   "execution_count": 231,
   "metadata": {},
   "outputs": [
    {
     "name": "stdout",
     "output_type": "stream",
     "text": [
      "Nombre de mots : 674732\n",
      "Taille du vocabulaire : 39650\n"
     ]
    }
   ],
   "source": [
    "vocabulaire = list(dict.fromkeys(mots))\n",
    "print(\"Nombre de mots :\", len(mots))\n",
    "print(\"Taille du vocabulaire :\", len(vocabulaire))"
   ]
  },
  {
   "cell_type": "code",
   "execution_count": 232,
   "metadata": {},
   "outputs": [],
   "source": [
    "matrice_sentiments = {mot:(0,0) for mot in vocabulaire}"
   ]
  },
  {
   "cell_type": "code",
   "execution_count": 233,
   "metadata": {},
   "outputs": [],
   "source": [
    "def sentiment_plus(mot):\n",
    "    plus, moins = matrice_sentiments[mot]\n",
    "    matrice_sentiments[mot] = (plus+1,moins)\n",
    "    \n",
    "def sentiment_moins(mot):\n",
    "    plus, moins = matrice_sentiments[mot]\n",
    "    matrice_sentiments[mot] = (plus,moins+1)\n",
    "    \n",
    "for (score, tweet) in corpus_train:\n",
    "    for mot in tweet.split():\n",
    "        if score == 1:\n",
    "            sentiment_plus(mot)\n",
    "        else:\n",
    "            sentiment_moins(mot)"
   ]
  },
  {
   "cell_type": "code",
   "execution_count": 234,
   "metadata": {},
   "outputs": [
    {
     "data": {
      "text/plain": [
       "(5999, 6471)"
      ]
     },
     "execution_count": 234,
     "metadata": {},
     "output_type": "execute_result"
    }
   ],
   "source": [
    "matrice_sentiments[\"la\"]"
   ]
  },
  {
   "cell_type": "code",
   "execution_count": 235,
   "metadata": {},
   "outputs": [],
   "source": [
    "matrice_sentiments_val = {mot:(matrice_sentiments[mot][0]-matrice_sentiments[mot][1])/((matrice_sentiments[mot][0]+matrice_sentiments[mot][1]))\n",
    "                          for mot in vocabulaire}"
   ]
  },
  {
   "cell_type": "code",
   "execution_count": 236,
   "metadata": {},
   "outputs": [
    {
     "name": "stdout",
     "output_type": "stream",
     "text": [
      "-0.0031257147213539682\n",
      "0.3333333333333333\n",
      "-0.3448275862068966\n"
     ]
    }
   ],
   "source": [
    "print(matrice_sentiments_val[\"le\"])\n",
    "print(matrice_sentiments_val[\"gentil\"])\n",
    "print(matrice_sentiments_val[\"méchant\"])"
   ]
  },
  {
   "cell_type": "code",
   "execution_count": 237,
   "metadata": {},
   "outputs": [
    {
     "data": {
      "text/plain": [
       "-0.004873322531639079"
      ]
     },
     "execution_count": 237,
     "metadata": {},
     "output_type": "execute_result"
    }
   ],
   "source": [
    "def sentiments_phrase(phrase):\n",
    "    somme = 0\n",
    "    n = 0\n",
    "    for mot in phrase.split():\n",
    "        somme += matrice_sentiments_val[mot]\n",
    "        n += 1\n",
    "    if(n!=0):\n",
    "        return(somme/n)\n",
    "    else:\n",
    "        return 0\n",
    "sentiments_phrase(\"le gentil méchant\")"
   ]
  },
  {
   "cell_type": "code",
   "execution_count": 238,
   "metadata": {},
   "outputs": [],
   "source": [
    "# Eval sur train\n",
    "sentiments_tweets = [[tweet, score, sentiments_phrase(tweet)] for (score, tweet) in corpus_train]"
   ]
  },
  {
   "cell_type": "code",
   "execution_count": 239,
   "metadata": {},
   "outputs": [],
   "source": [
    "resultat = [[tweet, 1 if ((val > 0 and score == 1) or (val < 0 and score == -1)) else 0]\n",
    "            for (tweet, score, val) in sentiments_tweets]"
   ]
  },
  {
   "cell_type": "code",
   "execution_count": 240,
   "metadata": {},
   "outputs": [
    {
     "name": "stdout",
     "output_type": "stream",
     "text": [
      "0.8441\n"
     ]
    }
   ],
   "source": [
    "compteur = 0\n",
    "n = 0\n",
    "for (tweet, res) in resultat:\n",
    "    n += 1\n",
    "    if res == 1:\n",
    "        compteur+=1\n",
    "print(compteur/n)"
   ]
  },
  {
   "cell_type": "code",
   "execution_count": 242,
   "metadata": {},
   "outputs": [],
   "source": [
    "def eval(a):\n",
    "    resultat = [[tweet, 1 if ((val > a and score == 1) or (val < a and score == -1)) else 0]\n",
    "            for (tweet, score, val) in sentiments_tweets]\n",
    "    return sum(res for (tweet,res) in resultat)/len(resultat)\n",
    "\n",
    "res_final = {a/100:eval(a/100) for a in range(-100,100)}"
   ]
  },
  {
   "cell_type": "code",
   "execution_count": 243,
   "metadata": {},
   "outputs": [
    {
     "data": {
      "text/plain": [
       "{-1.0: 0.5,\n",
       " -0.99: 0.50222,\n",
       " -0.98: 0.50222,\n",
       " -0.97: 0.50222,\n",
       " -0.96: 0.50222,\n",
       " -0.95: 0.50224,\n",
       " -0.94: 0.50226,\n",
       " -0.93: 0.50228,\n",
       " -0.92: 0.5023,\n",
       " -0.91: 0.50234,\n",
       " -0.9: 0.50244,\n",
       " -0.89: 0.50244,\n",
       " -0.88: 0.50252,\n",
       " -0.87: 0.50254,\n",
       " -0.86: 0.50256,\n",
       " -0.85: 0.50256,\n",
       " -0.84: 0.50258,\n",
       " -0.83: 0.50258,\n",
       " -0.82: 0.50258,\n",
       " -0.81: 0.5026,\n",
       " -0.8: 0.50266,\n",
       " -0.79: 0.50274,\n",
       " -0.78: 0.50278,\n",
       " -0.77: 0.5028,\n",
       " -0.76: 0.50284,\n",
       " -0.75: 0.5029,\n",
       " -0.74: 0.50308,\n",
       " -0.73: 0.50312,\n",
       " -0.72: 0.50318,\n",
       " -0.71: 0.50334,\n",
       " -0.7: 0.5034,\n",
       " -0.69: 0.5035,\n",
       " -0.68: 0.50356,\n",
       " -0.67: 0.50362,\n",
       " -0.66: 0.50382,\n",
       " -0.65: 0.50402,\n",
       " -0.64: 0.50416,\n",
       " -0.63: 0.50432,\n",
       " -0.62: 0.5046,\n",
       " -0.61: 0.50484,\n",
       " -0.6: 0.505,\n",
       " -0.59: 0.50534,\n",
       " -0.58: 0.5057,\n",
       " -0.57: 0.50594,\n",
       " -0.56: 0.5062,\n",
       " -0.55: 0.50644,\n",
       " -0.54: 0.5069,\n",
       " -0.53: 0.50726,\n",
       " -0.52: 0.50776,\n",
       " -0.51: 0.50836,\n",
       " -0.5: 0.50898,\n",
       " -0.49: 0.50998,\n",
       " -0.48: 0.51078,\n",
       " -0.47: 0.5116,\n",
       " -0.46: 0.51254,\n",
       " -0.45: 0.51342,\n",
       " -0.44: 0.51462,\n",
       " -0.43: 0.51604,\n",
       " -0.42: 0.51764,\n",
       " -0.41: 0.51956,\n",
       " -0.4: 0.52136,\n",
       " -0.39: 0.52342,\n",
       " -0.38: 0.52574,\n",
       " -0.37: 0.52792,\n",
       " -0.36: 0.53108,\n",
       " -0.35: 0.5344,\n",
       " -0.34: 0.53814,\n",
       " -0.33: 0.54202,\n",
       " -0.32: 0.54682,\n",
       " -0.31: 0.55226,\n",
       " -0.3: 0.55842,\n",
       " -0.29: 0.5654,\n",
       " -0.28: 0.57304,\n",
       " -0.27: 0.5823,\n",
       " -0.26: 0.59162,\n",
       " -0.25: 0.6023,\n",
       " -0.24: 0.61432,\n",
       " -0.23: 0.62752,\n",
       " -0.22: 0.64142,\n",
       " -0.21: 0.65622,\n",
       " -0.2: 0.67238,\n",
       " -0.19: 0.69064,\n",
       " -0.18: 0.70874,\n",
       " -0.17: 0.72684,\n",
       " -0.16: 0.74692,\n",
       " -0.15: 0.76412,\n",
       " -0.14: 0.78226,\n",
       " -0.13: 0.80048,\n",
       " -0.12: 0.8164,\n",
       " -0.11: 0.83096,\n",
       " -0.1: 0.84312,\n",
       " -0.09: 0.8546,\n",
       " -0.08: 0.86348,\n",
       " -0.07: 0.8688,\n",
       " -0.06: 0.87192,\n",
       " -0.05: 0.87328,\n",
       " -0.04: 0.87212,\n",
       " -0.03: 0.86834,\n",
       " -0.02: 0.86202,\n",
       " -0.01: 0.85408,\n",
       " 0.0: 0.8441,\n",
       " 0.01: 0.833,\n",
       " 0.02: 0.82032,\n",
       " 0.03: 0.8076,\n",
       " 0.04: 0.79372,\n",
       " 0.05: 0.7798,\n",
       " 0.06: 0.76474,\n",
       " 0.07: 0.75076,\n",
       " 0.08: 0.73662,\n",
       " 0.09: 0.7232,\n",
       " 0.1: 0.70992,\n",
       " 0.11: 0.69652,\n",
       " 0.12: 0.68366,\n",
       " 0.13: 0.67098,\n",
       " 0.14: 0.65902,\n",
       " 0.15: 0.64788,\n",
       " 0.16: 0.63796,\n",
       " 0.17: 0.62956,\n",
       " 0.18: 0.62066,\n",
       " 0.19: 0.61172,\n",
       " 0.2: 0.60326,\n",
       " 0.21: 0.59566,\n",
       " 0.22: 0.58954,\n",
       " 0.23: 0.58234,\n",
       " 0.24: 0.57642,\n",
       " 0.25: 0.57072,\n",
       " 0.26: 0.56542,\n",
       " 0.27: 0.56016,\n",
       " 0.28: 0.55578,\n",
       " 0.29: 0.55214,\n",
       " 0.3: 0.54728,\n",
       " 0.31: 0.54336,\n",
       " 0.32: 0.54032,\n",
       " 0.33: 0.53786,\n",
       " 0.34: 0.53532,\n",
       " 0.35: 0.53298,\n",
       " 0.36: 0.53132,\n",
       " 0.37: 0.52938,\n",
       " 0.38: 0.52766,\n",
       " 0.39: 0.52622,\n",
       " 0.4: 0.52464,\n",
       " 0.41: 0.5232,\n",
       " 0.42: 0.52202,\n",
       " 0.43: 0.52092,\n",
       " 0.44: 0.51962,\n",
       " 0.45: 0.51818,\n",
       " 0.46: 0.51692,\n",
       " 0.47: 0.51612,\n",
       " 0.48: 0.5154,\n",
       " 0.49: 0.51492,\n",
       " 0.5: 0.51386,\n",
       " 0.51: 0.51322,\n",
       " 0.52: 0.51254,\n",
       " 0.53: 0.51202,\n",
       " 0.54: 0.51158,\n",
       " 0.55: 0.51108,\n",
       " 0.56: 0.51056,\n",
       " 0.57: 0.51004,\n",
       " 0.58: 0.50964,\n",
       " 0.59: 0.50926,\n",
       " 0.6: 0.50896,\n",
       " 0.61: 0.50876,\n",
       " 0.62: 0.50852,\n",
       " 0.63: 0.50824,\n",
       " 0.64: 0.5079,\n",
       " 0.65: 0.50764,\n",
       " 0.66: 0.5075,\n",
       " 0.67: 0.5071,\n",
       " 0.68: 0.50694,\n",
       " 0.69: 0.50674,\n",
       " 0.7: 0.50662,\n",
       " 0.71: 0.5064,\n",
       " 0.72: 0.50626,\n",
       " 0.73: 0.50604,\n",
       " 0.74: 0.50594,\n",
       " 0.75: 0.50562,\n",
       " 0.76: 0.50552,\n",
       " 0.77: 0.50552,\n",
       " 0.78: 0.5055,\n",
       " 0.79: 0.5054,\n",
       " 0.8: 0.5053,\n",
       " 0.81: 0.50522,\n",
       " 0.82: 0.5049,\n",
       " 0.83: 0.50488,\n",
       " 0.84: 0.50482,\n",
       " 0.85: 0.50482,\n",
       " 0.86: 0.50476,\n",
       " 0.87: 0.5047,\n",
       " 0.88: 0.5047,\n",
       " 0.89: 0.50468,\n",
       " 0.9: 0.50466,\n",
       " 0.91: 0.50464,\n",
       " 0.92: 0.50464,\n",
       " 0.93: 0.50462,\n",
       " 0.94: 0.5046,\n",
       " 0.95: 0.50312,\n",
       " 0.96: 0.50312,\n",
       " 0.97: 0.50312,\n",
       " 0.98: 0.50312,\n",
       " 0.99: 0.50312}"
      ]
     },
     "execution_count": 243,
     "metadata": {},
     "output_type": "execute_result"
    }
   ],
   "source": [
    "res_final"
   ]
  },
  {
   "cell_type": "code",
   "execution_count": 244,
   "metadata": {},
   "outputs": [],
   "source": [
    "# Sur test\n",
    "def sentiments_phrase(phrase):\n",
    "    somme = 0\n",
    "    n = 0\n",
    "    for mot in phrase.split():\n",
    "        if mot in matrice_sentiments_val.keys():\n",
    "            somme += matrice_sentiments_val[mot]\n",
    "        n += 1\n",
    "    if(n!=0):\n",
    "        return(somme/n)\n",
    "    else:\n",
    "        return 0\n",
    "\n",
    "sentiments_tweets = [[tweet, score, sentiments_phrase(tweet)] for (score, tweet) in corpus_test]"
   ]
  },
  {
   "cell_type": "code",
   "execution_count": 245,
   "metadata": {},
   "outputs": [],
   "source": [
    "resultat = [[tweet, 1 if ((val > 0 and score == 1) or (val < 0 and score == -1)) else 0]\n",
    "            for (tweet, score, val) in sentiments_tweets]\n",
    "\n",
    "def eval(a):\n",
    "    resultat = [[tweet, 1 if ((val > a and score == 1) or (val < a and score == -1)) else 0]\n",
    "            for (tweet, score, val) in sentiments_tweets]\n",
    "    return sum(res for (tweet,res) in resultat)/len(resultat)\n",
    "\n",
    "res_final_test = {a/100:eval(a/100) for a in range(-100,100)}"
   ]
  },
  {
   "cell_type": "code",
   "execution_count": 246,
   "metadata": {},
   "outputs": [
    {
     "data": {
      "text/plain": [
       "{-1.0: 0.5017579105976896,\n",
       " -0.99: 0.5025113008538423,\n",
       " -0.98: 0.5025113008538423,\n",
       " -0.97: 0.5025113008538423,\n",
       " -0.96: 0.5025113008538423,\n",
       " -0.95: 0.5025113008538423,\n",
       " -0.94: 0.5025113008538423,\n",
       " -0.93: 0.5025113008538423,\n",
       " -0.92: 0.5025113008538423,\n",
       " -0.91: 0.5025113008538423,\n",
       " -0.9: 0.5025113008538423,\n",
       " -0.89: 0.5025113008538423,\n",
       " -0.88: 0.5025113008538423,\n",
       " -0.87: 0.5025113008538423,\n",
       " -0.86: 0.5025113008538423,\n",
       " -0.85: 0.5025113008538423,\n",
       " -0.84: 0.5025113008538423,\n",
       " -0.83: 0.5025113008538423,\n",
       " -0.82: 0.5025113008538423,\n",
       " -0.81: 0.5025113008538423,\n",
       " -0.8: 0.5025113008538423,\n",
       " -0.79: 0.5025113008538423,\n",
       " -0.78: 0.5025113008538423,\n",
       " -0.77: 0.5025113008538423,\n",
       " -0.76: 0.5025113008538423,\n",
       " -0.75: 0.5025113008538423,\n",
       " -0.74: 0.5025113008538423,\n",
       " -0.73: 0.5027624309392266,\n",
       " -0.72: 0.5027624309392266,\n",
       " -0.71: 0.5030135610246107,\n",
       " -0.7: 0.5030135610246107,\n",
       " -0.69: 0.5030135610246107,\n",
       " -0.68: 0.5030135610246107,\n",
       " -0.67: 0.5030135610246107,\n",
       " -0.66: 0.5030135610246107,\n",
       " -0.65: 0.5030135610246107,\n",
       " -0.64: 0.5030135610246107,\n",
       " -0.63: 0.5030135610246107,\n",
       " -0.62: 0.5030135610246107,\n",
       " -0.61: 0.5032646911099949,\n",
       " -0.6: 0.5035158211953792,\n",
       " -0.59: 0.5037669512807634,\n",
       " -0.58: 0.5040180813661477,\n",
       " -0.57: 0.5040180813661477,\n",
       " -0.56: 0.5040180813661477,\n",
       " -0.55: 0.5042692114515319,\n",
       " -0.54: 0.5047714716223004,\n",
       " -0.53: 0.5052737317930688,\n",
       " -0.52: 0.505524861878453,\n",
       " -0.51: 0.505524861878453,\n",
       " -0.5: 0.505524861878453,\n",
       " -0.49: 0.5057759919638373,\n",
       " -0.48: 0.5062782521346058,\n",
       " -0.47: 0.50652938221999,\n",
       " -0.46: 0.50652938221999,\n",
       " -0.45: 0.5067805123053741,\n",
       " -0.44: 0.5070316423907584,\n",
       " -0.43: 0.5075339025615269,\n",
       " -0.42: 0.5080361627322953,\n",
       " -0.41: 0.5085384229030638,\n",
       " -0.4: 0.5085384229030638,\n",
       " -0.39: 0.5095429432446007,\n",
       " -0.38: 0.5105474635861377,\n",
       " -0.37: 0.512054244098443,\n",
       " -0.36: 0.5130587644399799,\n",
       " -0.35: 0.5143144148669011,\n",
       " -0.34: 0.5165745856353591,\n",
       " -0.33: 0.5193370165745856,\n",
       " -0.32: 0.5210949271722752,\n",
       " -0.31: 0.5228528377699648,\n",
       " -0.3: 0.5256152687091914,\n",
       " -0.29: 0.5278754394776495,\n",
       " -0.28: 0.5323957810145655,\n",
       " -0.27: 0.5354093420391763,\n",
       " -0.26: 0.5424409844299347,\n",
       " -0.25: 0.5487192365645405,\n",
       " -0.24: 0.5562531391260673,\n",
       " -0.23: 0.5617780010045204,\n",
       " -0.22: 0.5728277247614264,\n",
       " -0.21: 0.5836263184329483,\n",
       " -0.2: 0.5966850828729282,\n",
       " -0.19: 0.6057257659467604,\n",
       " -0.18: 0.6192867905575088,\n",
       " -0.17: 0.628327473631341,\n",
       " -0.16: 0.6358613761928679,\n",
       " -0.15: 0.6479156202913109,\n",
       " -0.14: 0.6584630838774486,\n",
       " -0.13: 0.6727774987443496,\n",
       " -0.12: 0.6838272225012556,\n",
       " -0.11: 0.6953792064289301,\n",
       " -0.1: 0.702913108990457,\n",
       " -0.09: 0.7119537920642893,\n",
       " -0.08: 0.7184831742842792,\n",
       " -0.07: 0.7227523857358111,\n",
       " -0.06: 0.7252636865896535,\n",
       " -0.05: 0.7290306378704169,\n",
       " -0.04: 0.7237569060773481,\n",
       " -0.03: 0.72149673530889,\n",
       " -0.02: 0.7172275238573581,\n",
       " -0.01: 0.7106981416373681,\n",
       " 0.0: 0.6986438975389252,\n",
       " 0.01: 0.6896032144650929,\n",
       " 0.02: 0.6808136614766449,\n",
       " 0.03: 0.6690105474635861,\n",
       " 0.04: 0.6592164741336012,\n",
       " 0.05: 0.6466599698643898,\n",
       " 0.06: 0.6376192867905575,\n",
       " 0.07: 0.6250627825213461,\n",
       " 0.08: 0.6132596685082873,\n",
       " 0.09: 0.6054746358613762,\n",
       " 0.1: 0.5946760421898544,\n",
       " 0.11: 0.5878955298844801,\n",
       " 0.12: 0.5843797086891009,\n",
       " 0.13: 0.5773480662983426,\n",
       " 0.14: 0.571320944249121,\n",
       " 0.15: 0.5640381717729784,\n",
       " 0.16: 0.5597689603214465,\n",
       " 0.17: 0.5549974886991461,\n",
       " 0.18: 0.5509794073329984,\n",
       " 0.19: 0.547212456052235,\n",
       " 0.2: 0.5447011551983928,\n",
       " 0.21: 0.5414364640883977,\n",
       " 0.22: 0.538422903063787,\n",
       " 0.23: 0.536162732295329,\n",
       " 0.24: 0.5336514314414867,\n",
       " 0.25: 0.5321446509291813,\n",
       " 0.26: 0.5291310899045706,\n",
       " 0.27: 0.5266197890507283,\n",
       " 0.28: 0.5253641386238072,\n",
       " 0.29: 0.5226017076845806,\n",
       " 0.3: 0.5198392767453541,\n",
       " 0.31: 0.5188347564038172,\n",
       " 0.32: 0.5173279758915118,\n",
       " 0.33: 0.5160723254645907,\n",
       " 0.34: 0.515318935208438,\n",
       " 0.35: 0.5148166750376695,\n",
       " 0.36: 0.5140632847815169,\n",
       " 0.37: 0.5130587644399799,\n",
       " 0.38: 0.5133098945253641,\n",
       " 0.39: 0.5130587644399799,\n",
       " 0.4: 0.5118031140130588,\n",
       " 0.41: 0.511049723756906,\n",
       " 0.42: 0.5105474635861377,\n",
       " 0.43: 0.5097940733299849,\n",
       " 0.44: 0.5092918131592165,\n",
       " 0.45: 0.5085384229030638,\n",
       " 0.46: 0.5080361627322953,\n",
       " 0.47: 0.5075339025615269,\n",
       " 0.48: 0.5075339025615269,\n",
       " 0.49: 0.5072827724761426,\n",
       " 0.5: 0.50652938221999,\n",
       " 0.51: 0.5062782521346058,\n",
       " 0.52: 0.5060271220492215,\n",
       " 0.53: 0.5057759919638373,\n",
       " 0.54: 0.505524861878453,\n",
       " 0.55: 0.5052737317930688,\n",
       " 0.56: 0.5052737317930688,\n",
       " 0.57: 0.5045203415369162,\n",
       " 0.58: 0.5042692114515319,\n",
       " 0.59: 0.5042692114515319,\n",
       " 0.6: 0.5040180813661477,\n",
       " 0.61: 0.5040180813661477,\n",
       " 0.62: 0.5040180813661477,\n",
       " 0.63: 0.5037669512807634,\n",
       " 0.64: 0.5035158211953792,\n",
       " 0.65: 0.5032646911099949,\n",
       " 0.66: 0.5032646911099949,\n",
       " 0.67: 0.5027624309392266,\n",
       " 0.68: 0.5027624309392266,\n",
       " 0.69: 0.5027624309392266,\n",
       " 0.7: 0.5027624309392266,\n",
       " 0.71: 0.5027624309392266,\n",
       " 0.72: 0.5027624309392266,\n",
       " 0.73: 0.5027624309392266,\n",
       " 0.74: 0.5027624309392266,\n",
       " 0.75: 0.5022601707684581,\n",
       " 0.76: 0.5022601707684581,\n",
       " 0.77: 0.5022601707684581,\n",
       " 0.78: 0.5022601707684581,\n",
       " 0.79: 0.5022601707684581,\n",
       " 0.8: 0.5022601707684581,\n",
       " 0.81: 0.5022601707684581,\n",
       " 0.82: 0.5020090406830738,\n",
       " 0.83: 0.5020090406830738,\n",
       " 0.84: 0.5020090406830738,\n",
       " 0.85: 0.5020090406830738,\n",
       " 0.86: 0.5020090406830738,\n",
       " 0.87: 0.5020090406830738,\n",
       " 0.88: 0.5020090406830738,\n",
       " 0.89: 0.5020090406830738,\n",
       " 0.9: 0.5020090406830738,\n",
       " 0.91: 0.5020090406830738,\n",
       " 0.92: 0.5020090406830738,\n",
       " 0.93: 0.5020090406830738,\n",
       " 0.94: 0.5020090406830738,\n",
       " 0.95: 0.5010045203415369,\n",
       " 0.96: 0.5010045203415369,\n",
       " 0.97: 0.5010045203415369,\n",
       " 0.98: 0.5010045203415369,\n",
       " 0.99: 0.5010045203415369}"
      ]
     },
     "execution_count": 246,
     "metadata": {},
     "output_type": "execute_result"
    }
   ],
   "source": [
    "res_final_test"
   ]
  },
  {
   "cell_type": "code",
   "execution_count": 247,
   "metadata": {},
   "outputs": [],
   "source": [
    "import matplotlib.pyplot as plt\n",
    "import numpy as np\n",
    "\n",
    "keys_train = np.fromiter(res_final.keys(), dtype=float)\n",
    "vals_train = np.fromiter(res_final.values(), dtype=float)\n",
    "\n",
    "keys_test = np.fromiter(res_final_test.keys(), dtype=float)\n",
    "vals_test = np.fromiter(res_final_test.values(), dtype=float)"
   ]
  },
  {
   "cell_type": "code",
   "execution_count": 248,
   "metadata": {},
   "outputs": [
    {
     "data": {
      "text/plain": [
       "[<matplotlib.lines.Line2D at 0x2082a86ef60>]"
      ]
     },
     "execution_count": 248,
     "metadata": {},
     "output_type": "execute_result"
    },
    {
     "data": {
      "image/png": "[encoded data removed]",
      "text/plain": [
       "<Figure size 432x288 with 1 Axes>"
      ]
     },
     "metadata": {
      "needs_background": "light"
     },
     "output_type": "display_data"
    }
   ],
   "source": [
    "plt.plot(keys_train,vals_train,\"bo\")"
   ]
  },
  {
   "cell_type": "code",
   "execution_count": 249,
   "metadata": {},
   "outputs": [
    {
     "data": {
      "text/plain": [
       "[<matplotlib.lines.Line2D at 0x20836c886a0>]"
      ]
     },
     "execution_count": 249,
     "metadata": {},
     "output_type": "execute_result"
    },
    {
     "data": {
      "image/png": "[encoded data removed]",
      "text/plain": [
       "<Figure size 432x288 with 1 Axes>"
      ]
     },
     "metadata": {
      "needs_background": "light"
     },
     "output_type": "display_data"
    }
   ],
   "source": [
    "plt.plot(keys_test,vals_test,'o')"
   ]
  },
  {
   "cell_type": "code",
   "execution_count": 250,
   "metadata": {},
   "outputs": [
    {
     "data": {
      "text/plain": [
       "[<matplotlib.lines.Line2D at 0x20837cd1b00>]"
      ]
     },
     "execution_count": 250,
     "metadata": {},
     "output_type": "execute_result"
    },
    {
     "data": {
      "image/png": "[encoded data removed]",
      "text/plain": [
       "<Figure size 432x288 with 1 Axes>"
      ]
     },
     "metadata": {
      "needs_background": "light"
     },
     "output_type": "display_data"
    }
   ],
   "source": [
    "plt.plot(keys_train,vals_train,\"bo\")\n",
    "plt.plot(keys_test,vals_test,'o')"
   ]
  },
  {
   "cell_type": "code",
   "execution_count": 266,
   "metadata": {},
   "outputs": [
    {
     "data": {
      "text/plain": [
       "[-0.05]"
      ]
     },
     "execution_count": 266,
     "metadata": {},
     "output_type": "execute_result"
    }
   ],
   "source": [
    "[(key) for key in res_final_test.keys() if res_final_test[key] == max(vals_test)]"
   ]
  },
  {
   "cell_type": "code",
   "execution_count": 268,
   "metadata": {},
   "outputs": [
    {
     "data": {
      "text/plain": [
       "[-0.05]"
      ]
     },
     "execution_count": 268,
     "metadata": {},
     "output_type": "execute_result"
    }
   ],
   "source": [
    "[(key) for key in res_final.keys() if res_final[key] == max(vals_train)]"
   ]
  },
  {
   "cell_type": "code",
   "execution_count": 269,
   "metadata": {},
   "outputs": [
    {
     "name": "stdout",
     "output_type": "stream",
     "text": [
      "0.87328\n",
      "0.7290306378704169\n"
     ]
    }
   ],
   "source": [
    "print(res_final[-0.05])\n",
    "print(res_final_test[-0.05])"
   ]
  },
  {
   "cell_type": "markdown",
   "metadata": {},
   "source": [
    "# Modèle aléatoire : on prédit 1 ou -1 de manière random"
   ]
  },
  {
   "cell_type": "code",
   "execution_count": 257,
   "metadata": {},
   "outputs": [],
   "source": [
    "random.seed(1)\n",
    "def choix():\n",
    "    return sample((1,-1),1)\n",
    "\n",
    "sentiments_tweets = [[tweet, score, choix()[0]] for (score, tweet) in corpus_train]"
   ]
  },
  {
   "cell_type": "code",
   "execution_count": 258,
   "metadata": {},
   "outputs": [],
   "source": [
    "resultat = [[tweet, 1 if val == score else 0] for (tweet, score, val) in sentiments_tweets]"
   ]
  },
  {
   "cell_type": "code",
   "execution_count": 259,
   "metadata": {},
   "outputs": [
    {
     "data": {
      "text/plain": [
       "0.50154"
      ]
     },
     "execution_count": 259,
     "metadata": {},
     "output_type": "execute_result"
    }
   ],
   "source": [
    "sum(res for (tweet,res) in resultat)/len(resultat)"
   ]
  }
 ],
 "metadata": {
  "kernelspec": {
   "display_name": "Python 3",
   "language": "python",
   "name": "python3"
  },
  "language_info": {
   "codemirror_mode": {
    "name": "ipython",
    "version": 3
   },
   "file_extension": ".py",
   "mimetype": "text/x-python",
   "name": "python",
   "nbconvert_exporter": "python",
   "pygments_lexer": "ipython3",
   "version": "3.6.5"
  }
 },
 "nbformat": 4,
 "nbformat_minor": 4
}
