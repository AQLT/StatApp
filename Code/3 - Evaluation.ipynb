{
 "cells": [
  {
   "cell_type": "markdown",
   "metadata": {},
   "source": [
    "# Importation des données"
   ]
  },
  {
   "cell_type": "code",
   "execution_count": 1,
   "metadata": {},
   "outputs": [],
   "source": [
    "import os\n",
    "import string\n",
    "import re\n",
    "import math\n",
    "from math import sqrt\n",
    "import numpy as np\n",
    "import random\n",
    "import time\n",
    "import pandas as pd\n",
    "import nltk, re, pprint\n",
    "#nltk.download('punkt')\n",
    "from nltk import word_tokenize\n",
    "random.seed(1)\n",
    "np.random.seed(1)\n",
    "\n",
    "import matplotlib.pyplot as plt\n",
    "from IPython.display import clear_output\n",
    "from matplotlib import pyplot as plt\n",
    "import collections\n",
    "%matplotlib inline\n",
    "\n",
    "import torch\n",
    "import torch.nn as nn\n",
    "import torch.nn.functional as F\n",
    "import torch.optim as optim\n",
    "import torch.autograd as autograd\n",
    "\n",
    "import pickle\n",
    "\n",
    "#PCA & TSNE : \n",
    "from sklearn.preprocessing import StandardScaler\n",
    "from sklearn.decomposition import PCA\n",
    "from sklearn.manifold import TSNE\n",
    "from scipy.stats import spearmanr\n",
    "\n",
    "import plotly\n",
    "import plotly.graph_objs as go\n",
    "from plotly.offline import download_plotlyjs, init_notebook_mode, plot, iplot\n",
    "import cufflinks as cf\n",
    "import seaborn as sns"
   ]
  },
  {
   "cell_type": "code",
   "execution_count": 4,
   "metadata": {},
   "outputs": [
    {
     "data": {
      "text/plain": [
       "99718"
      ]
     },
     "execution_count": 4,
     "metadata": {},
     "output_type": "execute_result"
    }
   ],
   "source": [
    "nom_dossier = \"100k\"\n",
    "#nom_dossier = \"ens\" \n",
    "\n",
    "os.chdir('C:/Users/torna/Documents/StatApp/StatApp')\n",
    "#os.chdir('/Users/alainquartierlatente/Desktop/Ensae/StatApp')\n",
    "#os.chdir('C:/Users/Kim Antunez/Documents/Projets_autres/StatApp')\n",
    "#os.chdir('/home/aqlt/Documents/Ensae/StatApp')\n",
    "\n",
    "\n",
    "with open(\"data/corpus_trie%s.file\" %nom_dossier, \"rb\") as f:\n",
    "    corpus = pickle.load(f) \n",
    "ens_tweets = [phrase.split() for phrase in corpus]\n",
    "len(ens_tweets)"
   ]
  },
  {
   "cell_type": "markdown",
   "metadata": {},
   "source": [
    "On crée index_mot et mot_index"
   ]
  },
  {
   "cell_type": "code",
   "execution_count": 5,
   "metadata": {},
   "outputs": [
    {
     "name": "stdout",
     "output_type": "stream",
     "text": [
      "<class 'list'>\n",
      "Nombre de mots : 1127347\n",
      "Taille du vocabulaire : 10960\n"
     ]
    }
   ],
   "source": [
    "phrases = ens_tweets\n",
    "words = [item for sublist in phrases for item in sublist]\n",
    "print(type(words))\n",
    "with open('data/%s/vocabulary.file' %nom_dossier, \"rb\") as f:\n",
    "    vocabulary = pickle.load(f) \n",
    "index_mot = {index: w for (index, w) in enumerate(vocabulary)}\n",
    "mot_index = {w: index for (index, w) in enumerate(vocabulary)}\n",
    "print(\"Nombre de mots :\", len(words))\n",
    "print(\"Taille du vocabulaire :\", len(vocabulary))\n",
    "fdist = nltk.FreqDist(words)"
   ]
  },
  {
   "cell_type": "markdown",
   "metadata": {},
   "source": [
    "Paramètres à modifier \n",
    "\n",
    "On renseigne ici le numero de la simulation, cf <https://github.com/AQLT/StatApp/blob/master/Code/Parametres%20lances.md>"
   ]
  },
  {
   "cell_type": "code",
   "execution_count": 6,
   "metadata": {},
   "outputs": [],
   "source": [
    "numero_simulation = 1\n",
    "gensim = True\n",
    "seed = 1\n",
    "derniere_epoch = 1 #Ne sert que si gensim = False"
   ]
  },
  {
   "cell_type": "code",
   "execution_count": 7,
   "metadata": {},
   "outputs": [],
   "source": [
    "import gensim\n",
    "from gensim.models import word2vec\n",
    "\n",
    "if gensim: #Si on utilise le VRAI modele google\n",
    "    chemin = \"data/\" + nom_dossier + \"/gensim/Simulation_\" + str(numero_simulation) +\"_seed\"+ str(seed)\n",
    "    model = gensim.models.keyedvectors.KeyedVectors.load(chemin + \"/word2vec.model\")\n",
    "    py_list = []\n",
    "    for mot in vocabulary:\n",
    "         py_list.append(model.wv[mot].tolist())   \n",
    "    mat_finale = torch.FloatTensor(py_list)\n",
    "else: #Si on utilise notre modele\n",
    "    with open('data/%s/Simulation_%i_seed%i/input_%i.file' %(nom_dossier, numero_simulation, seed, derniere_epoch) , \"rb\") as f:\n",
    "        input = pickle.load(f)\n",
    "    with open('data/%s/Simulation_%i_seed%i/output_%i.file' %(nom_dossier, numero_simulation, seed, derniere_epoch), \"rb\") as f:\n",
    "        output = pickle.load(f)\n",
    "    mat_finale = (input+output)/2 \n",
    "    \n",
    "mot_poids = {index_mot[index]: poids.detach().numpy() for (index, poids) in enumerate(mat_finale)}"
   ]
  },
  {
   "cell_type": "markdown",
   "metadata": {},
   "source": [
    "# 1. Distances\n",
    "\n",
    "Pour tester la similarité entre deux mots, on calcule la **similarité cosinus** entre leur représentation vectorielle :\n",
    "$$\n",
    "\\frac{A \\cdot B}{|| A || \\cdot || B ||}\n",
    "$$\n",
    "\n",
    "On peut également calculer la **distance euclidienne** pour comparer les résultats avec ces deux métriques"
   ]
  },
  {
   "cell_type": "code",
   "execution_count": 8,
   "metadata": {},
   "outputs": [
    {
     "name": "stdout",
     "output_type": "stream",
     "text": [
      "[('nickname', 89694), ('lowfrequencyword', 66423), ('de', 39312), ('le', 25066), ('est', 20926), ('je', 20215), ('les', 18382), ('c', 17566), ('j', 17252), ('la', 16791), ('à', 16484), ('pas', 16183), ('que', 12219), ('en', 12111), ('un', 11109), ('et', 10640), ('a', 10056), ('ça', 9730), ('ai', 9054), ('l', 8607), ('mais', 8261), ('il', 8238), ('pour', 7845), ('tu', 7399), ('d', 7333), ('on', 7000), ('une', 6829), ('😂', 6829), ('me', 6183), ('qui', 5452), ('ce', 5403), ('t', 5233), ('😭', 5064), ('dans', 4904), ('plus', 4861), ('sur', 4809), ('mon', 4499), ('moi', 4444), ('suis', 4422), ('qu', 4334), ('y', 4143), ('avec', 3948), ('fait', 3942), ('bien', 3884), ('vous', 3801), ('trop', 3793), ('ma', 3637), ('si', 3608), ('tout', 3286), ('m', 3206), ('elle', 3180), ('va', 3149), ('faire', 3054), ('même', 3032), ('merci', 2786), ('toi', 2757), ('ne', 2748), ('bon', 2691), ('quand', 2678), ('mdr', 2578), ('oui', 2508), ('ils', 2481), ('comme', 2456), ('non', 2446), ('n', 2438), ('se', 2343), ('là', 2256), ('être', 2255), ('aussi', 2241), ('te', 2236), ('️', 2187), ('quoi', 2153), ('vais', 2019), ('as', 1948), ('s', 1912), ('ou', 1901), ('ah', 1843), ('rien', 1823), ('es', 1813), ('mes', 1746), ('par', 1724), ('était', 1699), ('encore', 1612), ('vraiment', 1602), ('cette', 1596), ('faut', 1590), ('sont', 1548), ('😍', 1489), ('sa', 1461), ('ca', 1427), ('alors', 1392), ('nous', 1386), ('❤', 1375), ('voir', 1373), ('son', 1367), ('bah', 1365), ('fais', 1350), ('vie', 1345), ('sais', 1313), ('jamais', 1302)]\n"
     ]
    }
   ],
   "source": [
    "def cos_distance(u, v):\n",
    "    return (np.dot(u, v)  / (math.sqrt(np.dot(u, u)) *  (math.sqrt(np.dot(v, v)))))\n",
    "\n",
    "def eucl_distance(u, v):\n",
    "    return (np.linalg.norm(u/np.dot(u, u)-v/np.dot(v, v)))\n",
    "\n",
    "def mot_plus_proche(word, n=10, distance=\"cos\"):\n",
    "    word_distance = {}\n",
    "    for mot in mot_poids:\n",
    "        if mot != word:\n",
    "            if distance == \"cos\":\n",
    "                word_distance[mot] = (cos_distance(mot_poids[mot],(mot_poids[word])))\n",
    "            else:\n",
    "                word_distance[mot] = (eucl_distance(mot_poids[mot],(mot_poids[word])))\n",
    "    word_distance = sorted(word_distance.items(), key=lambda t: t[1],reverse=True)\n",
    "    return word_distance[0:n]\n",
    "\n",
    "print(fdist.most_common(100))"
   ]
  },
  {
   "cell_type": "code",
   "execution_count": 9,
   "metadata": {
    "scrolled": false
   },
   "outputs": [
    {
     "name": "stdout",
     "output_type": "stream",
     "text": [
      "Pour le mot \"tweet\" (443 apparitions), les mots les plus proches sont : \n",
      "cosinus : [('point', 0.8923259842595515), ('coeur', 0.8799858405237861), ('sujet', 0.8514340216902403), ('jeu', 0.8448761566481789), ('cœur', 0.8349727964579768), ('compte', 0.8337480615159623), ('film', 0.8246137670928836), ('nom', 0.8094141527586726), ('chat', 0.8085774119667445), ('mot', 0.8068343802301181)]\n",
      "euclidienne : [('moinsen', 4.2498593), ('matrix', 3.6093903), ('magnificent', 3.2494671), ('hahahahahaha', 3.1002703), ('constate', 2.9029493), ('boarf', 2.8720634), ('fraud', 2.8283722), ('déplorable', 2.7621694), ('merciiiiiiii', 2.7591398), ('bouillotte', 2.7306094)]\n",
      "\n",
      "\n",
      "Pour le mot \"bonjour\" (619 apparitions), les mots les plus proches sont : \n",
      "cosinus : [('bonsoir', 0.8426436898086755), ('hello', 0.8349732077733117), ('pensez', 0.8164176690264732), ('dites', 0.8105181161615079), ('savez', 0.7840684853239698), ('écoutez', 0.7832883656837512), ('souhaitez', 0.7630319610199936), ('suivre', 0.7548123159646373), ('contacter', 0.7520863794193529), ('rendez', 0.7510055021463272)]\n",
      "euclidienne : [('moinsen', 4.197545), ('matrix', 3.6071675), ('magnificent', 3.2271483), ('hahahahahaha', 3.096238), ('constate', 2.9231248), ('fraud', 2.8320892), ('boarf', 2.8179817), ('déplorable', 2.7352889), ('marina', 2.7106056), ('croyable', 2.7103226)]\n",
      "\n",
      "\n",
      "Pour le mot \"wesh\" (117 apparitions), les mots les plus proches sont : \n",
      "cosinus : [('ptdrr', 0.8852373700245704), ('heu', 0.8495372744442169), ('ptdrrrrr', 0.8418006538728227), ('hahaha', 0.8361220177238786), ('ptdrrrrrr', 0.8338668868613034), ('euh', 0.8288728726248037), ('mdddr', 0.8215837481818716), ('ptdrrrr', 0.8209258335859315), ('ahahah', 0.8198173144046036), ('aaaaah', 0.8078410703117785)]\n",
      "euclidienne : [('moinsen', 3.9910178), ('matrix', 3.5060818), ('magnificent', 3.0133202), ('hahahahahaha', 2.8735588), ('constate', 2.723844), ('boarf', 2.670975), ('fraud', 2.6597953), ('bouillotte', 2.625732), ('bizz', 2.6094747), ('déplorable', 2.5699728)]\n",
      "\n",
      "\n",
      "Pour le mot \"gros\" (812 apparitions), les mots les plus proches sont : \n",
      "cosinus : [('con', 0.7584114548596711), ('vieux', 0.7526806582073727), ('mauvais', 0.7129856053596332), ('bug', 0.6891286803750684), ('jeune', 0.6671035443477612), ('pb', 0.6639553954051353), ('fake', 0.6579566864142858), ('ptit', 0.6577005159182395), ('délire', 0.6495770641840491), ('goût', 0.6482866462169198)]\n",
      "euclidienne : [('moinsen', 4.2056265), ('matrix', 3.6110404), ('magnificent', 3.1980755), ('hahahahahaha', 3.0594058), ('constate', 2.8992178), ('boarf', 2.8132615), ('fraud', 2.7957828), ('bouillotte', 2.7405188), ('déplorable', 2.7282064), ('merciiiiiiii', 2.712918)]\n",
      "\n",
      "\n",
      "Pour le mot \"grosse\" (307 apparitions), les mots les plus proches sont : \n",
      "cosinus : [('grande', 0.8859652107482384), ('vraie', 0.8715485025646998), ('petite', 0.8705418595897728), ('meilleure', 0.8492132208038659), ('mauvaise', 0.844728036931749), ('nouvelle', 0.8337650755199008), ('vieille', 0.8154448808869001), ('longue', 0.7734701596477426), ('blague', 0.763096276987654), ('lune', 0.7511454582431089)]\n",
      "euclidienne : [('moinsen', 4.22005), ('matrix', 3.6072416), ('magnificent', 3.2422671), ('hahahahahaha', 3.1385643), ('constate', 2.9044812), ('boarf', 2.860397), ('fraud', 2.8433828), ('merciiiiiiii', 2.7552674), ('bouillotte', 2.720766), ('déplorable', 2.7194374)]\n",
      "\n",
      "\n",
      "Pour le mot \"femme\" (263 apparitions), les mots les plus proches sont : \n",
      "cosinus : [('fille', 0.9382974121962682), ('copine', 0.9377084116486304), ('famille', 0.9247966863527312), ('pp', 0.9055425344288411), ('situation', 0.9032602541621179), ('daronne', 0.9009162700604375), ('mere', 0.895206112772984), ('voix', 0.8934336696520707), ('meuf', 0.8920261579910445), ('faute', 0.8862917943215732)]\n",
      "euclidienne : [('moinsen', 4.244526), ('matrix', 3.6365), ('magnificent', 3.2287183), ('hahahahahaha', 3.1085691), ('constate', 2.9438274), ('boarf', 2.9081254), ('fraud', 2.8446174), ('merciiiiiiii', 2.7426906), ('déplorable', 2.7135537), ('marina', 2.6923664)]\n",
      "\n",
      "\n",
      "Pour le mot \"romain\" (13 apparitions), les mots les plus proches sont : \n",
      "cosinus : [('lacrim', 0.9575490912695446), ('spécial', 0.9541497443011112), ('marvellous', 0.9531854682469043), ('thauvin', 0.9523665131366785), ('great', 0.9522134544234852), ('ooh', 0.9520840870136401), ('nommé', 0.9514690041362859), ('han', 0.9507048741646158), ('siii', 0.948611954429318), ('hanna', 0.9472400696148392)]\n",
      "euclidienne : [('moinsen', 3.413451), ('matrix', 2.8845458), ('magnificent', 2.4649155), ('hahahahahaha', 2.42664), ('constate', 2.4224834), ('boarf', 2.4124656), ('bouillotte', 2.0862906), ('bizz', 2.0695739), ('fraud', 2.0402508), ('telsonne', 1.9958262)]\n",
      "\n",
      "\n"
     ]
    }
   ],
   "source": [
    "mots = [\"tweet\", \"bonjour\", \"wesh\", \"gros\", \"grosse\", \"femme\",\"romain\"]\n",
    "for mot in mots:\n",
    "    if mot in mot_index:\n",
    "        print('Pour le mot \"%s\"' %mot + \" (%i apparitions), les mots les plus proches sont : \" %fdist[mot])\n",
    "        print('cosinus :',mot_plus_proche(mot,distance = \"cos\"))\n",
    "        print('euclidienne :',mot_plus_proche(mot,distance = \"eucl\"))\n",
    "        print(\"\\n\")"
   ]
  },
  {
   "cell_type": "markdown",
   "metadata": {},
   "source": [
    "# 2. Evaluation par le \"human judgement\""
   ]
  },
  {
   "cell_type": "code",
   "execution_count": 10,
   "metadata": {},
   "outputs": [],
   "source": [
    "def distance_mots(word1,word2, mot_poids, distance=\"cos\"):\n",
    "    if word1 in mot_poids.keys() and word2 in mot_poids.keys():\n",
    "        if(distance==\"cos\"):\n",
    "            word_distance = (cos_distance(mot_poids[word1],(mot_poids[word2])))\n",
    "        else:\n",
    "            word_distance = (eucl_distance(mot_poids[word1],(mot_poids[word2])))\n",
    "    else:\n",
    "        word_distance = float('nan')\n",
    "    return word_distance\n",
    "distance_mots_v = np.vectorize(distance_mots)"
   ]
  },
  {
   "cell_type": "code",
   "execution_count": 11,
   "metadata": {
    "scrolled": true
   },
   "outputs": [],
   "source": [
    "def corr_dossier(dossier = \"\", epoch_max = 50, distance=\"cos\", numero_simulation = 3, gensimbool = gensim):\n",
    "    all_cor = []\n",
    "    all_p_val = []\n",
    "    if gensimbool:\n",
    "        chemin = \"data/\" + nom_dossier + \"/gensim/Simulation_\" + str(numero_simulation) + dossier\n",
    "        isdir = os.path.isdir(chemin)\n",
    "        if isdir:\n",
    "            model = gensim.models.keyedvectors.KeyedVectors.load(chemin + \"/word2vec.model\")\n",
    "            py_list = []\n",
    "            for mot in vocabulary:\n",
    "                py_list.append(model.wv[mot].tolist())   \n",
    "            mat_finale = torch.FloatTensor(py_list)\n",
    "            mot_poids = {index_mot[index]: poids.detach().numpy() for (index, poids) in enumerate(mat_finale)}\n",
    "            df = pd.read_csv('data_bis/word_similarity.csv', sep=\";\")\n",
    "            df[\"corr_word2vec\"] = distance_mots_v(df[\"word1\"],df[\"word2\"], mot_poids, distance)\n",
    "            df = df.dropna()\n",
    "            corr, p_value = spearmanr(df[\"corr\"], df[\"corr_word2vec\"])\n",
    "            all_cor.append(corr)\n",
    "            all_p_val.append(p_value)\n",
    "    else:\n",
    "        isdir = os.path.isdir('data/%s/Simulation_%i%s/' %(nom_dossier, numero_simulation, dossier))\n",
    "        if isdir:\n",
    "            for i in range(epoch_max):\n",
    "                try:\n",
    "                    with open('data/%s/Simulation_%i%s/input_%i.file' %(nom_dossier, numero_simulation, dossier, i+1), \"rb\") as f:\n",
    "                        input = pickle.load(f)\n",
    "                    with open('data/%s/Simulation_%i%s/output_%i.file' %(nom_dossier, numero_simulation, dossier, i+1), \"rb\") as f:\n",
    "                        output = pickle.load(f)\n",
    "                    mat_finale = (input+output)/2\n",
    "                    mot_poids = {index_mot[index]: poids.detach().numpy() for (index, poids) in enumerate(mat_finale)}\n",
    "                    df = pd.read_csv('data_bis/word_similarity.csv', sep=\";\")\n",
    "                    df[\"corr_word2vec\"] = distance_mots_v(df[\"word1\"],df[\"word2\"], mot_poids, distance)\n",
    "                    df = df.dropna()\n",
    "                    corr, p_value = spearmanr(df[\"corr\"], df[\"corr_word2vec\"])\n",
    "                    all_cor.append(corr)\n",
    "                    all_p_val.append(p_value)\n",
    "                except OSError:\n",
    "                    break;     \n",
    "        \n",
    "    return([all_cor, all_p_val]);\n",
    "\n"
   ]
  },
  {
   "cell_type": "code",
   "execution_count": 12,
   "metadata": {},
   "outputs": [],
   "source": [
    "def tableau_corr_hji(dossiers, distance=\"cos\", numero_simulation = 3):\n",
    "    resultats = []\n",
    "    for dossier in dossiers:\n",
    "        resultats.append(corr_dossier(dossier,distance = distance, numero_simulation = numero_simulation))\n",
    "\n",
    "    max_len = max([len(x[0]) for x in resultats])\n",
    "    for i in range(len(resultats)):\n",
    "        if(len(resultats[i][0])<max_len):\n",
    "            resultats[i][0] = resultats[i][0] +[np.nan]*(max_len - len(resultats[i][0]))\n",
    "            resultats[i][1] = resultats[i][1] +[np.nan]*(max_len - len(resultats[i][1]))\n",
    "    nom_lignes = [re.sub('_seed', 'Seed ', d) if d != \"\" else \"Pas de seed\" for d in dossiers ]\n",
    "    all_cor = [elem[0] for elem in resultats]\n",
    "    all_cor = pd.DataFrame(np.array(all_cor),\n",
    "                       columns=[\"Epoch %i\" %int(i+1) for i in range(len(all_cor[0]))],\n",
    "                      index = nom_lignes)\n",
    "    all_p_val = [elem[1] for elem in resultats]\n",
    "    all_p_val = pd.DataFrame(np.array(all_p_val),\n",
    "                       columns=[\"Epoch %i\" %int(i+1) for i in range(len(all_p_val[0]))],\n",
    "                      index = nom_lignes)\n",
    "    return([all_cor, all_p_val])"
   ]
  },
  {
   "cell_type": "code",
   "execution_count": 13,
   "metadata": {},
   "outputs": [
    {
     "name": "stdout",
     "output_type": "stream",
     "text": [
      "         Epoch 1\n",
      "Seed 1    -0.093\n",
      "Seed 5    -0.203\n",
      "Seed 10   -0.203\n",
      "Seed 15   -0.071\n",
      "Seed 20   -0.231\n",
      "Seed 25   -0.330\n",
      "         Epoch 1\n",
      "Seed 1    -0.242\n",
      "Seed 5    -0.121\n",
      "Seed 10   -0.181\n",
      "Seed 15   -0.297\n",
      "Seed 20   -0.313\n",
      "Seed 25   -0.280\n"
     ]
    }
   ],
   "source": [
    "dossiers = [\"\", \"_seed1\", \"_seed5\", \"_seed10\", \"_seed15\", \"_seed20\", \"_seed25\"]\n",
    "numero_simulation = 1\n",
    "\n",
    "resultats_hji_cos = tableau_corr_hji(dossiers, distance = \"cos\", numero_simulation = numero_simulation)\n",
    "all_cor_cos = resultats_hji_cos[0]\n",
    "all_p_val_cos = resultats_hji_cos[1]\n",
    "all_cor_export_cos = round(all_cor_cos, 3).dropna()\n",
    "print(all_cor_export_cos)\n",
    "\n",
    "\n",
    "resultats_hji_eucl = tableau_corr_hji(dossiers, distance = \"eucl\", numero_simulation = numero_simulation)\n",
    "all_cor_eucl = resultats_hji_eucl[0]\n",
    "all_p_val_eucl = resultats_hji_eucl[1]\n",
    "all_cor_export_eucl = round(all_cor_eucl, 3).dropna()\n",
    "print(all_cor_export_eucl)"
   ]
  },
  {
   "cell_type": "code",
   "execution_count": 14,
   "metadata": {
    "scrolled": true
   },
   "outputs": [
    {
     "name": "stdout",
     "output_type": "stream",
     "text": [
      "|         |   Epoch 1 |\n",
      "|:--------|----------:|\n",
      "| Seed 1  |    -0.093 |\n",
      "| Seed 5  |    -0.203 |\n",
      "| Seed 10 |    -0.203 |\n",
      "| Seed 15 |    -0.071 |\n",
      "| Seed 20 |    -0.231 |\n",
      "| Seed 25 |    -0.33  |\n",
      "\n",
      "Distance euclidienne :\n",
      "\n",
      "|         |   Epoch 1 |\n",
      "|:--------|----------:|\n",
      "| Seed 1  |    -0.242 |\n",
      "| Seed 5  |    -0.121 |\n",
      "| Seed 10 |    -0.181 |\n",
      "| Seed 15 |    -0.297 |\n",
      "| Seed 20 |    -0.313 |\n",
      "| Seed 25 |    -0.28  |\n"
     ]
    }
   ],
   "source": [
    "##Il faut installer pandas 1.0 et tabulate\n",
    "print(all_cor_export_cos.to_markdown())\n",
    "print(\"\\nDistance euclidienne :\\n\")\n",
    "print(all_cor_export_eucl.to_markdown())"
   ]
  },
  {
   "cell_type": "code",
   "execution_count": 15,
   "metadata": {},
   "outputs": [
    {
     "data": {
      "text/html": [
       "<div>\n",
       "<style scoped>\n",
       "    .dataframe tbody tr th:only-of-type {\n",
       "        vertical-align: middle;\n",
       "    }\n",
       "\n",
       "    .dataframe tbody tr th {\n",
       "        vertical-align: top;\n",
       "    }\n",
       "\n",
       "    .dataframe thead th {\n",
       "        text-align: right;\n",
       "    }\n",
       "</style>\n",
       "<table border=\"1\" class=\"dataframe\">\n",
       "  <thead>\n",
       "    <tr style=\"text-align: right;\">\n",
       "      <th></th>\n",
       "      <th>word1</th>\n",
       "      <th>word2</th>\n",
       "      <th>corr</th>\n",
       "    </tr>\n",
       "  </thead>\n",
       "  <tbody>\n",
       "    <tr>\n",
       "      <th>0</th>\n",
       "      <td>corde</td>\n",
       "      <td>sourire</td>\n",
       "      <td>0.00</td>\n",
       "    </tr>\n",
       "    <tr>\n",
       "      <th>1</th>\n",
       "      <td>midi</td>\n",
       "      <td>ficelle</td>\n",
       "      <td>0.00</td>\n",
       "    </tr>\n",
       "    <tr>\n",
       "      <th>2</th>\n",
       "      <td>coq</td>\n",
       "      <td>périple</td>\n",
       "      <td>0.06</td>\n",
       "    </tr>\n",
       "    <tr>\n",
       "      <th>3</th>\n",
       "      <td>fruit</td>\n",
       "      <td>fournaise</td>\n",
       "      <td>0.11</td>\n",
       "    </tr>\n",
       "    <tr>\n",
       "      <th>4</th>\n",
       "      <td>autographe</td>\n",
       "      <td>rivage</td>\n",
       "      <td>0.00</td>\n",
       "    </tr>\n",
       "    <tr>\n",
       "      <th>...</th>\n",
       "      <td>...</td>\n",
       "      <td>...</td>\n",
       "      <td>...</td>\n",
       "    </tr>\n",
       "    <tr>\n",
       "      <th>60</th>\n",
       "      <td>coussin</td>\n",
       "      <td>oreiller</td>\n",
       "      <td>3.00</td>\n",
       "    </tr>\n",
       "    <tr>\n",
       "      <th>61</th>\n",
       "      <td>cimetière</td>\n",
       "      <td>cimetière</td>\n",
       "      <td>4.00</td>\n",
       "    </tr>\n",
       "    <tr>\n",
       "      <th>62</th>\n",
       "      <td>automobile</td>\n",
       "      <td>auto</td>\n",
       "      <td>3.94</td>\n",
       "    </tr>\n",
       "    <tr>\n",
       "      <th>63</th>\n",
       "      <td>joyau</td>\n",
       "      <td>bijou</td>\n",
       "      <td>3.22</td>\n",
       "    </tr>\n",
       "    <tr>\n",
       "      <th>64</th>\n",
       "      <td>midi</td>\n",
       "      <td>dîner</td>\n",
       "      <td>2.17</td>\n",
       "    </tr>\n",
       "  </tbody>\n",
       "</table>\n",
       "<p>65 rows × 3 columns</p>\n",
       "</div>"
      ],
      "text/plain": [
       "         word1      word2  corr\n",
       "0        corde    sourire  0.00\n",
       "1         midi    ficelle  0.00\n",
       "2          coq    périple  0.06\n",
       "3        fruit  fournaise  0.11\n",
       "4   autographe     rivage  0.00\n",
       "..         ...        ...   ...\n",
       "60     coussin   oreiller  3.00\n",
       "61   cimetière  cimetière  4.00\n",
       "62  automobile       auto  3.94\n",
       "63       joyau      bijou  3.22\n",
       "64        midi      dîner  2.17\n",
       "\n",
       "[65 rows x 3 columns]"
      ]
     },
     "execution_count": 15,
     "metadata": {},
     "output_type": "execute_result"
    }
   ],
   "source": [
    "df_base = pd.read_csv('data_bis/word_similarity.csv', sep=\";\")\n",
    "df_base"
   ]
  },
  {
   "cell_type": "code",
   "execution_count": 16,
   "metadata": {},
   "outputs": [
    {
     "name": "stdout",
     "output_type": "stream",
     "text": [
      "65\n",
      "13\n"
     ]
    },
    {
     "data": {
      "text/html": [
       "<div>\n",
       "<style scoped>\n",
       "    .dataframe tbody tr th:only-of-type {\n",
       "        vertical-align: middle;\n",
       "    }\n",
       "\n",
       "    .dataframe tbody tr th {\n",
       "        vertical-align: top;\n",
       "    }\n",
       "\n",
       "    .dataframe thead th {\n",
       "        text-align: right;\n",
       "    }\n",
       "</style>\n",
       "<table border=\"1\" class=\"dataframe\">\n",
       "  <thead>\n",
       "    <tr style=\"text-align: right;\">\n",
       "      <th></th>\n",
       "      <th>word1</th>\n",
       "      <th>word2</th>\n",
       "      <th>corr</th>\n",
       "      <th>corr_word2vec_cos</th>\n",
       "      <th>corr_word2vec_eucl</th>\n",
       "    </tr>\n",
       "  </thead>\n",
       "  <tbody>\n",
       "    <tr>\n",
       "      <th>0</th>\n",
       "      <td>corde</td>\n",
       "      <td>sourire</td>\n",
       "      <td>0.00</td>\n",
       "      <td>0.761824</td>\n",
       "      <td>1.094684</td>\n",
       "    </tr>\n",
       "    <tr>\n",
       "      <th>16</th>\n",
       "      <td>côte</td>\n",
       "      <td>forêt</td>\n",
       "      <td>0.22</td>\n",
       "      <td>0.898885</td>\n",
       "      <td>0.564898</td>\n",
       "    </tr>\n",
       "    <tr>\n",
       "      <th>20</th>\n",
       "      <td>garçon</td>\n",
       "      <td>sage</td>\n",
       "      <td>0.29</td>\n",
       "      <td>0.685219</td>\n",
       "      <td>0.508902</td>\n",
       "    </tr>\n",
       "    <tr>\n",
       "      <th>23</th>\n",
       "      <td>gars</td>\n",
       "      <td>sorcier</td>\n",
       "      <td>0.44</td>\n",
       "      <td>0.112154</td>\n",
       "      <td>1.301839</td>\n",
       "    </tr>\n",
       "    <tr>\n",
       "      <th>28</th>\n",
       "      <td>oiseau</td>\n",
       "      <td>bois</td>\n",
       "      <td>0.06</td>\n",
       "      <td>0.649263</td>\n",
       "      <td>0.820713</td>\n",
       "    </tr>\n",
       "    <tr>\n",
       "      <th>33</th>\n",
       "      <td>auto</td>\n",
       "      <td>voyage</td>\n",
       "      <td>0.33</td>\n",
       "      <td>0.509973</td>\n",
       "      <td>0.549927</td>\n",
       "    </tr>\n",
       "    <tr>\n",
       "      <th>35</th>\n",
       "      <td>verre</td>\n",
       "      <td>bijou</td>\n",
       "      <td>0.56</td>\n",
       "      <td>0.862549</td>\n",
       "      <td>1.180166</td>\n",
       "    </tr>\n",
       "    <tr>\n",
       "      <th>38</th>\n",
       "      <td>frère</td>\n",
       "      <td>gars</td>\n",
       "      <td>2.00</td>\n",
       "      <td>0.651671</td>\n",
       "      <td>0.177550</td>\n",
       "    </tr>\n",
       "    <tr>\n",
       "      <th>39</th>\n",
       "      <td>sage</td>\n",
       "      <td>sorcier</td>\n",
       "      <td>0.83</td>\n",
       "      <td>0.809165</td>\n",
       "      <td>0.853334</td>\n",
       "    </tr>\n",
       "    <tr>\n",
       "      <th>43</th>\n",
       "      <td>nourriture</td>\n",
       "      <td>fruit</td>\n",
       "      <td>2.78</td>\n",
       "      <td>0.930621</td>\n",
       "      <td>0.432970</td>\n",
       "    </tr>\n",
       "    <tr>\n",
       "      <th>56</th>\n",
       "      <td>forêt</td>\n",
       "      <td>bois</td>\n",
       "      <td>3.72</td>\n",
       "      <td>0.693247</td>\n",
       "      <td>0.823887</td>\n",
       "    </tr>\n",
       "    <tr>\n",
       "      <th>59</th>\n",
       "      <td>garçon</td>\n",
       "      <td>gars</td>\n",
       "      <td>3.83</td>\n",
       "      <td>0.338372</td>\n",
       "      <td>0.519002</td>\n",
       "    </tr>\n",
       "    <tr>\n",
       "      <th>64</th>\n",
       "      <td>midi</td>\n",
       "      <td>dîner</td>\n",
       "      <td>2.17</td>\n",
       "      <td>0.535877</td>\n",
       "      <td>0.909184</td>\n",
       "    </tr>\n",
       "  </tbody>\n",
       "</table>\n",
       "</div>"
      ],
      "text/plain": [
       "         word1    word2  corr  corr_word2vec_cos  corr_word2vec_eucl\n",
       "0        corde  sourire  0.00           0.761824            1.094684\n",
       "16        côte    forêt  0.22           0.898885            0.564898\n",
       "20      garçon     sage  0.29           0.685219            0.508902\n",
       "23        gars  sorcier  0.44           0.112154            1.301839\n",
       "28      oiseau     bois  0.06           0.649263            0.820713\n",
       "33        auto   voyage  0.33           0.509973            0.549927\n",
       "35       verre    bijou  0.56           0.862549            1.180166\n",
       "38       frère     gars  2.00           0.651671            0.177550\n",
       "39        sage  sorcier  0.83           0.809165            0.853334\n",
       "43  nourriture    fruit  2.78           0.930621            0.432970\n",
       "56       forêt     bois  3.72           0.693247            0.823887\n",
       "59      garçon     gars  3.83           0.338372            0.519002\n",
       "64        midi    dîner  2.17           0.535877            0.909184"
      ]
     },
     "execution_count": 16,
     "metadata": {},
     "output_type": "execute_result"
    }
   ],
   "source": [
    "distance_mots_v = np.vectorize(distance_mots)\n",
    "df = df_base\n",
    "df[\"corr_word2vec_cos\"] = distance_mots_v(df[\"word1\"],df[\"word2\"], mot_poids, \"cos\")\n",
    "df[\"corr_word2vec_eucl\"] = distance_mots_v(df[\"word1\"],df[\"word2\"], mot_poids, \"eucl\")\n",
    "print(len(df))\n",
    "df = df.dropna()\n",
    "print(len(df))\n",
    "df"
   ]
  },
  {
   "cell_type": "code",
   "execution_count": 17,
   "metadata": {
    "scrolled": true
   },
   "outputs": [
    {
     "name": "stdout",
     "output_type": "stream",
     "text": [
      "Le résultat de word2vec COSINUS est différent de celui du human judgement (non rejet de H0 = non corrélation) p=0.762 / Valeur de la corrélation : -0.093\n",
      "\n",
      "\n",
      "Le résultat de word2vec EUCLIDIEN est différent de celui du human judgement (non rejet de H0 = non corrélation) p=0.426 / Valeur de la corrélation : -0.242\n"
     ]
    }
   ],
   "source": [
    "#On fait des tests à 5 % pour la distance cosinus\n",
    "alpha = 0.05\n",
    "corr, p_value = spearmanr(df[\"corr\"], df[\"corr_word2vec_cos\"])\n",
    "if p_value > alpha:\n",
    "    print('Le résultat de word2vec COSINUS est différent de celui du human judgement (non rejet de H0 = non corrélation) p=%.3f' % p_value,'/ Valeur de la corrélation : %.3f'% corr)\n",
    "else:\n",
    "    print('Le résultat de word2vec COSINUS est semblable celui du human judgement (rejet de H0 = non corrélation) p=%.3f' % p_value,'/ Valeur de la corrélation : %.3f'% corr)\n",
    "\n",
    "print(\"\\n\")\n",
    "\n",
    "#On fait des tests à 5 % pour la distance euclidienne\n",
    "alpha = 0.05\n",
    "corr, p_value = spearmanr(df[\"corr\"], df[\"corr_word2vec_eucl\"])\n",
    "if p_value > alpha:\n",
    "    print('Le résultat de word2vec EUCLIDIEN est différent de celui du human judgement (non rejet de H0 = non corrélation) p=%.3f' % p_value,'/ Valeur de la corrélation : %.3f'% corr)\n",
    "else:\n",
    "    print('Le résultat de word2vec COSINUS est semblable celui du human judgement (rejet de H0 = non corrélation) p=%.3f' % p_value,'/ Valeur de la corrélation : %.3f'% corr)"
   ]
  },
  {
   "cell_type": "code",
   "execution_count": 23,
   "metadata": {},
   "outputs": [],
   "source": [
    "from matplotlib.lines import Line2D\n",
    "\n",
    "def intervalles_confiance (simulations, distance = \"cos\"):\n",
    "    colors = sns.color_palette(\"hls\", 6)\n",
    "    fig = plt.figure(figsize = (12,6))    \n",
    "    ax = fig.add_axes([0.1, 0.1, 1, 1])\n",
    "    ax.set_xlim(-0.2,len(simulations)-1+.2)\n",
    "   # ax.set_ylim(-0.5,0.6) # seulement si besoin pour faire des graph comparables\n",
    "    for i in range(len(simulations)):\n",
    "        corr = tableau_corr_hji(dossiers, distance = distance, numero_simulation = simulations[i])[0]\n",
    "        corr_values = corr.iloc[:,-1].values.tolist()\n",
    "        ec = np.std(corr_values)\n",
    "        moy = np.mean(corr_values)\n",
    "        print(moy)\n",
    "        icm = moy - 1.96 * ec\n",
    "        icp = moy + 1.96 * ec\n",
    "        ax.errorbar(i, moy, yerr=1.96 * ec,ecolor = \"black\", alpha = 0.5) \n",
    "        ax.scatter([i]*len(corr_values), corr_values, c=colors, s = 100) \n",
    "        ax.errorbar(i, moy, xerr=0.1, ecolor = \"black\", alpha= 0.5)\n",
    "        \n",
    "    ax.set_xticks(list(range(len(simulations))))\n",
    "    #ax.set_xticklabels([\"Simul. n°%i\" %simul[i] for i in list(range(len(simul)))])\n",
    "    ax.set_xticklabels([\"lr=0.01\\n w=3\\n e=10\",\"lr=0.01\\n w=4\\n e=10\",\"lr=0.01\\n w=5\\n e=10\",\n",
    "                        \"lr=0.02\\n w=3\\n e=10\",\"lr=0.02\\n w=4\\n e=10\",\"lr=0.02\\n w=5\\n e=10\",\n",
    "                        \"lr=0.01\\n w=3\\n e=100\",\"lr=0.01\\n w=4\\n e=100\",\"lr=0.01\\n w=5\\n e=100\",\n",
    "                        \"lr=0.02\\n w=3\\n e=100\",\"lr=0.02\\n w=4\\n e=100\",\"lr=0.02\\n w=5\\n e=100\"])\n",
    "    plt.ylabel(\"Corrélation entre la distance \" + distance + \" et le l'indice de jugement humain\")\n",
    "    plt.xlabel(\"Simulation avec \"+ nom_dossier +\" tweets\")\n",
    "    custom_lines=[]\n",
    "    for i in range(len(colors)):\n",
    "        custom_lines.append(Line2D([0], [0], marker='o', color='w',\n",
    "                                   label='Scatter',markerfacecolor=colors[i], markersize=10))\n",
    "    ax.legend(custom_lines, [string[1:] for string in dossiers])"
   ]
  },
  {
   "cell_type": "code",
   "execution_count": 19,
   "metadata": {},
   "outputs": [],
   "source": [
    "dossiers = [\"_seed1\", \"_seed5\", \"_seed10\", \"_seed15\", \"_seed20\", \"_seed25\"]\n",
    "#simul = [2,3,4,9,13,14]\n",
    "simul = [1,2,3,4,5,6,7,8,9,10,11,12]"
   ]
  },
  {
   "cell_type": "code",
   "execution_count": 20,
   "metadata": {
    "scrolled": true
   },
   "outputs": [
    {
     "name": "stdout",
     "output_type": "stream",
     "text": [
      "-0.1886446886446886\n",
      "-0.20238095238095236\n",
      "-0.1858974358974359\n",
      "0.3095238095238095\n",
      "0.24267399267399267\n",
      "0.10256410256410257\n",
      "0.4047619047619047\n",
      "0.4523809523809524\n",
      "0.41483516483516486\n",
      "0.4551282051282051\n",
      "0.43956043956043955\n",
      "0.4166666666666667\n"
     ]
    },
    {
     "data": {
      "image/png": "[encoded data removed]",
      "text/plain": [
       "<Figure size 864x432 with 1 Axes>"
      ]
     },
     "metadata": {
      "needs_background": "light"
     },
     "output_type": "display_data"
    }
   ],
   "source": [
    "intervalles_confiance(simul, \"cos\")"
   ]
  },
  {
   "cell_type": "code",
   "execution_count": 21,
   "metadata": {},
   "outputs": [
    {
     "name": "stdout",
     "output_type": "stream",
     "text": [
      "-0.23901098901098905\n",
      "-0.2014652014652015\n",
      "-0.20421245421245424\n",
      "-0.3708791208791209\n",
      "-0.30494505494505497\n",
      "-0.21978021978021978\n",
      "-0.4084249084249085\n",
      "-0.3727106227106227\n",
      "-0.3388278388278388\n",
      "-0.4294871794871795\n",
      "-0.4194139194139194\n",
      "-0.3626373626373626\n"
     ]
    },
    {
     "data": {
      "image/png": "[encoded data removed]",
      "text/plain": [
       "<Figure size 864x432 with 1 Axes>"
      ]
     },
     "metadata": {
      "needs_background": "light"
     },
     "output_type": "display_data"
    }
   ],
   "source": [
    "intervalles_confiance(simul, \"eucl\")"
   ]
  },
  {
   "cell_type": "code",
   "execution_count": 25,
   "metadata": {},
   "outputs": [
    {
     "name": "stdout",
     "output_type": "stream",
     "text": [
      "0.03296703296703297\n",
      "-0.010989010989010985\n",
      "-0.022893772893772892\n",
      "0.2591575091575091\n",
      "0.326007326007326\n",
      "0.2802197802197802\n",
      "0.3836996336996337\n",
      "0.3965201465201465\n",
      "0.4276556776556777\n",
      "0.3452380952380952\n",
      "0.3717948717948718\n",
      "0.3534798534798535\n"
     ]
    },
    {
     "data": {
      "image/png": "[encoded data removed]",
      "text/plain": [
       "<Figure size 864x432 with 1 Axes>"
      ]
     },
     "metadata": {
      "needs_background": "light"
     },
     "output_type": "display_data"
    }
   ],
   "source": [
    "simul2 = [13,14,15,16,17,18,19,20,21,22,23,24]\n",
    "intervalles_confiance(simul2, \"cos\")"
   ]
  },
  {
   "cell_type": "code",
   "execution_count": 26,
   "metadata": {},
   "outputs": [
    {
     "name": "stdout",
     "output_type": "stream",
     "text": [
      "-0.30036630036630035\n",
      "-0.26373626373626374\n",
      "-0.2738095238095238\n",
      "-0.27930402930402926\n",
      "-0.2371794871794872\n",
      "-0.25366300366300365\n",
      "-0.2371794871794872\n",
      "-0.2353479853479854\n",
      "-0.2564102564102564\n",
      "-0.2692307692307693\n",
      "-0.2490842490842491\n",
      "-0.24450549450549453\n"
     ]
    },
    {
     "data": {
      "image/png": "[encoded data removed]",
      "text/plain": [
       "<Figure size 864x432 with 1 Axes>"
      ]
     },
     "metadata": {
      "needs_background": "light"
     },
     "output_type": "display_data"
    }
   ],
   "source": [
    "intervalles_confiance(simul2, \"eucl\")"
   ]
  },
  {
   "cell_type": "code",
   "execution_count": 32,
   "metadata": {},
   "outputs": [
    {
     "name": "stdout",
     "output_type": "stream",
     "text": [
      "-0.1886446886446886\n",
      "0.03296703296703297\n",
      "-0.20238095238095236\n",
      "-0.010989010989010985\n",
      "-0.1858974358974359\n",
      "-0.022893772893772892\n",
      "0.3095238095238095\n",
      "0.2591575091575091\n",
      "0.24267399267399267\n",
      "0.326007326007326\n",
      "0.10256410256410257\n",
      "0.2802197802197802\n",
      "0.4047619047619047\n",
      "0.3836996336996337\n",
      "0.4523809523809524\n",
      "0.3965201465201465\n",
      "0.41483516483516486\n",
      "0.4276556776556777\n",
      "0.4551282051282051\n",
      "0.3452380952380952\n",
      "0.43956043956043955\n",
      "0.3717948717948718\n",
      "0.4166666666666667\n",
      "0.3534798534798535\n"
     ]
    },
    {
     "data": {
      "image/png": "[encoded data removed]",
      "text/plain": [
       "<Figure size 2160x720 with 1 Axes>"
      ]
     },
     "metadata": {
      "needs_background": "light"
     },
     "output_type": "display_data"
    }
   ],
   "source": [
    "simul3 = [1,13,2,14,3,15,4,16,5,17,6,18,7,19,8,20,9,21,10,22,11,23,12,24]\n",
    "def intervalles_confiance2(simulations, distance = \"cos\"):\n",
    "    colors = sns.color_palette(\"hls\", 6)\n",
    "    fig = plt.figure(figsize = (30,10))    \n",
    "    ax = fig.add_axes([0.1, 0.1, 1, 1])\n",
    "    ax.set_xlim(-0.2,len(simulations)-1+.2)\n",
    "   # ax.set_ylim(-0.5,0.6) # seulement si besoin pour faire des graph comparables\n",
    "    for i in range(len(simulations)):\n",
    "        corr = tableau_corr_hji(dossiers, distance = distance, numero_simulation = simulations[i])[0]\n",
    "        corr_values = corr.iloc[:,-1].values.tolist()\n",
    "        ec = np.std(corr_values)\n",
    "        moy = np.mean(corr_values)\n",
    "        print(moy)\n",
    "        icm = moy - 1.96 * ec\n",
    "        icp = moy + 1.96 * ec\n",
    "        ax.errorbar(i, moy, yerr=1.96 * ec,ecolor = \"black\", alpha = 0.5) \n",
    "        ax.scatter([i]*len(corr_values), corr_values, c=colors, s = 100) \n",
    "        ax.errorbar(i, moy, xerr=0.1, ecolor = \"black\", alpha= 0.5)\n",
    "        \n",
    "    ax.set_xticks(list(range(len(simulations))))\n",
    "    #ax.set_xticklabels([\"Simul. n°%i\" %simul[i] for i in list(range(len(simul)))])\n",
    "    ax.set_xticklabels([\"lr=0.01\\n w=3\\n e=10\\n dim = 20\",\"lr=0.01\\n w=3\\n e=10\\n dim = 50\",\n",
    "                        \"lr=0.01\\n w=4\\n e=10\\n dim = 20\",\"lr=0.01\\n w=4\\n e=10\\n dim = 50\",\n",
    "                        \"lr=0.01\\n w=5\\n e=10\\n dim = 20\",\"lr=0.01\\n w=5\\n e=10\\n dim = 50\",\n",
    "                        \"lr=0.02\\n w=3\\n e=10\\n dim = 20\",\"lr=0.02\\n w=3\\n e=10\\n dim = 50\",\n",
    "                        \"lr=0.02\\n w=4\\n e=10\\n dim = 20\",\"lr=0.02\\n w=4\\n e=10\\n dim = 50\",\n",
    "                        \"lr=0.02\\n w=5\\n e=10\\n dim = 20\",\"lr=0.02\\n w=5\\n e=10\\n dim = 50\",\n",
    "                        \"lr=0.01\\n w=3\\n e=100\\n dim = 20\",\"lr=0.01\\n w=3\\n e=100\\n dim = 50\",\n",
    "                        \"lr=0.01\\n w=4\\n e=100\\n dim = 20\",\"lr=0.01\\n w=4\\n e=100\\n dim = 50\",\n",
    "                        \"lr=0.01\\n w=5\\n e=100\\n dim = 20\",\"lr=0.01\\n w=5\\n e=100\\n dim = 50\",\n",
    "                        \"lr=0.02\\n w=3\\n e=100\\n dim = 20\",\"lr=0.02\\n w=3\\n e=100\\n dim = 50\",\n",
    "                        \"lr=0.02\\n w=4\\n e=100\\n dim = 20\",\"lr=0.02\\n w=4\\n e=100\\n dim = 50\",\n",
    "                        \"lr=0.02\\n w=5\\n e=100\\n dim = 20\",\"lr=0.02\\n w=5\\n e=100\\n dim = 50\"\n",
    "                       ])\n",
    "    plt.ylabel(\"Corrélation entre la distance \" + distance + \" et le l'indice de jugement humain\")\n",
    "    plt.xlabel(\"Simulation avec \"+ nom_dossier +\" tweets\")\n",
    "    custom_lines=[]\n",
    "    for i in range(len(colors)):\n",
    "        custom_lines.append(Line2D([0], [0], marker='o', color='w',\n",
    "                                   label='Scatter',markerfacecolor=colors[i], markersize=10))\n",
    "    ax.legend(custom_lines, [string[1:] for string in dossiers])\n",
    "intervalles_confiance2(simul3, \"cos\")"
   ]
  },
  {
   "cell_type": "markdown",
   "metadata": {},
   "source": [
    "# 3. PCA"
   ]
  },
  {
   "cell_type": "code",
   "execution_count": 43,
   "metadata": {},
   "outputs": [],
   "source": [
    "def ACP(liste, statique = True, nom_couples_explicite=True):\n",
    "    # On enlève les mots qui n'existent pas\n",
    "    liste_triee =[]\n",
    "    for couple in liste:\n",
    "        liste_triee.append([w for w in couple if w in mot_index]) \n",
    "    liste_mots = [w for couple in liste_triee for w in couple]\n",
    "\n",
    "    df_res = pd.DataFrame.from_dict(mot_poids).transpose()\n",
    "    df_res = df_res.loc[liste_mots]\n",
    "    df_res['label'] = 'Autre' \n",
    "\n",
    "    if nom_couples_explicite:\n",
    "        for couple in liste_triee:\n",
    "            df_res.loc[couple,'label'] = '/'.join(couple)\n",
    "    else:\n",
    "        for i in range(0, len(liste_triee)):\n",
    "            df_res.loc[liste_triee[i],'label'] = \"Couple %i\" %i        \n",
    "\n",
    "    features = list(range(0, len(liste_triee)))\n",
    "    # Separating out the features\n",
    "    x = df_res.loc[:, features].values\n",
    "    # Separating out the target\n",
    "    y = df_res.loc[:,['label']].values\n",
    "    # Standardizing the features\n",
    "    x = StandardScaler().fit_transform(x)\n",
    "\n",
    "    pca = PCA(n_components=2)\n",
    "    principalComponents = pca.fit_transform(x)\n",
    "    principalDf = pd.DataFrame(data = principalComponents\n",
    "                 , columns = ['Axe 1', 'Axe 2'])\n",
    "\n",
    "    df_res['mot'] = df_res.index.values\n",
    "    df_res = df_res.reset_index()\n",
    "\n",
    "    finalDf = pd.concat([principalDf, df_res[['label','mot']]],  axis = 1)\n",
    "\n",
    "    if statique:\n",
    "        # Représentation simple statique \n",
    "        fig = plt.figure(figsize = (12,8))\n",
    "\n",
    "        g = sns.scatterplot(x=\"Axe 1\", y=\"Axe 2\",\n",
    "                        hue=\"label\", data=finalDf, s = 150)\n",
    "        handles, labels = g.get_legend_handles_labels()\n",
    "        box = g.get_position()\n",
    "        g.set_position([box.x0, box.y0, box.width * 0.85, box.height]) # resize position\n",
    "\n",
    "        # Put a legend to the right side\n",
    "        g.legend(loc='center right', bbox_to_anchor=(1.3, 0.5), ncol=1,\n",
    "                 handles=handles[1:], labels=list(dict.fromkeys(finalDf[\"label\"])))\n",
    "    else:\n",
    "        init_notebook_mode(connected=True)\n",
    "\n",
    "        cf.go_offline()\n",
    "        cf.set_config_file(offline=False, world_readable=True)\n",
    "\n",
    "        #Travailler avec sous-table sinon trop lourd\n",
    "        #subFinalDf = pd.concat([finalDf[(finalDf['label'] != \"Autre\")],finalDf.iloc[1:100:]],  axis = 0)\n",
    "        subFinalDf = pd.concat([finalDf],  axis = 0)\n",
    "\n",
    "        subFinalDf.iplot(kind='scatter',\n",
    "                      mode='markers',\n",
    "                      x='Axe 1',\n",
    "                      y='Axe 2',\n",
    "                      categories='label',\n",
    "                      text='mot',\n",
    "                      xTitle='Axe 1',\n",
    "                      yTitle='Axe 2',\n",
    "                      title='ACP en 2 composantes',\n",
    "                      filename='cufflinks/simple-scatter')\n"
   ]
  },
  {
   "cell_type": "code",
   "execution_count": 44,
   "metadata": {
    "scrolled": false
   },
   "outputs": [
    {
     "data": {
      "image/png": "[encoded data removed]",
      "text/plain": [
       "<Figure size 432x288 with 1 Axes>"
      ]
     },
     "metadata": {
      "needs_background": "light"
     },
     "output_type": "display_data"
    }
   ],
   "source": [
    "#def creer_liste_random(liste, statique = True, nom_couples_explicite=True):\n",
    "\n",
    "import matplotlib.pyplot as plt\n",
    "plt.hist(fdist.values(), bins=[0,10,20,50, 100, 200,400,800,max(fdist.values())],color='g') #width=100, range=(0, 50000)\n",
    "plt.xlim(xmin=0, xmax = 1100)\n",
    "plt.title('Fréquence des mots', fontsize=15)\n",
    "plt.show()"
   ]
  },
  {
   "cell_type": "code",
   "execution_count": 45,
   "metadata": {
    "scrolled": false
   },
   "outputs": [],
   "source": [
    "np.random.seed(1)\n",
    "\n",
    "mots0_20 = dict()\n",
    "mots20_100 = dict()\n",
    "mots100_1000 = dict()\n",
    "mots1000_max = dict()\n",
    "\n",
    "for (key, value) in fdist.items():\n",
    "    if value <= 20 :\n",
    "        mots0_20[key] = value\n",
    "    if value > 20 and value <= 100 :\n",
    "        mots20_100[key] = value\n",
    "    if value > 100 and value <= 1000 :\n",
    "        mots100_1000[key] = value        \n",
    "    if value > 1000 :\n",
    "        mots1000_max[key] = value\n",
    "\n",
    "\n",
    "liste_0_20 = list(np.random.choice(list(mots0_20.keys()), size=100))\n",
    "liste_20_100 = list(np.random.choice(list(mots20_100.keys()), size=100))\n",
    "liste_100_1000 = list(np.random.choice(list(mots100_1000.keys()), size=100))\n",
    "liste_1000_max = list(np.random.choice(list(mots1000_max.keys()), size=100))\n",
    "\n",
    "liste2 = [liste_0_20, liste_20_100, liste_100_1000, liste_1000_max]"
   ]
  },
  {
   "cell_type": "code",
   "execution_count": 46,
   "metadata": {},
   "outputs": [],
   "source": [
    "#liste = [[\"homme\",\"femme\", \"enfant\"],[\"chien\",\"chat\"],\n",
    "#         [\"vanille\",\"chocolat\"],\n",
    "#    [\"poli\",\"courtois\"],[\"bonjour\",\"salut\"],[\"propre\",\"sale\"],[\"canapé\",\"fauteuil\"],\n",
    "#    [\"téléphone\",\"portable\"],[\"voiture\",\"camion\"],[\"grand\",\"petit\"]]\n",
    "\n",
    "#liste = [[\"homme\", \"tttttttttt\",\"femme\",\"sexe\",\"genre\",\"mari\",\"épouse\",\"famille\",\"inégalités\",\"enfant\",\"amour\",\"couple\",\"différence\"],\n",
    "#    [\"chien\",\"chat\",\"animal\",\"domestique\",\"maison\",\"aboyer\",\"miauler\",\"labrador\",\"poil\",\"pattes\",\"spa\",\"ami\"],\n",
    "#    [\"vanille\",\"chocolat\",\"parfum\",\"goût\",\"fraise\",\"glace\",\"boule\",\"gâteau\",\"bonbon\",\"blanc\",\"noir\",\"préférence\"],\n",
    "#    [\"poli\",\"courtois\",\"bonjour\",\"merci\",\"pardon\",\"stp\",\"règles\",\"apprendre\",\"savoir-vivre\",\"savoir-être\",\"formule\",\"demander\"],\n",
    "#    [\"choqué\",\"horrifié\",\"peur\",\"terreur\",\"phobie\",\"clown\",\"noir\",\"araignée\",\"rat\",\"cri\",\"oh\",\"ah\"],\n",
    "#    [\"propre\",\"sale\",\"nettoyer\",\"vaisselle\",\"laver\",\"savon\",\"produit\",\"salissures\",\"traces\",\"net\",\"éclatant\",\"brillant\"],\n",
    "#    [\"canapé\",\"fauteuil\",\"maison\",\"salon\",\"assis\",\"confortable\",\"sofa\",\"convertible\",\"cuir\",\"télé\",\"accoudoir\",\"plaid\"],\n",
    "#    [\"téléphone\",\"portable\",\"appel\",\"allo\",\"décrocher\",\"sms\",\"numéro\",\"mobile\",\"orange\",\"sfr\",\"free\",\"bouygues\"],\n",
    "#    [\"voiture\",\"camion\",\"moto\",\"véhicule\",\"conduire\",\"rouler\",\"conducteur\",\"volant\",\"chauffeur\",\"permis\",\"vitesse\",\"passager\"],\n",
    "#    [\"grand\",\"petit\",\"taille\",\"géant\",\"nain\",\"s\",\"m\",\"l\",\"xl\",\"mesure\",\"énorme\",\"longueur\"]\n",
    "#]\n",
    "\n",
    "liste1 = [[\"poli\",\"courtois\",\"bonjour\",\"salut\"],[\"canapé\",\"fauteuil\",\"table\",\"chaise\"],\n",
    "    [\"téléphone\",\"portable\",\"numéro\",\"appel\"],[\"voiture\",\"camion\",\"vélo\",\"train\"],\n",
    "         [\"beau\",\"mignon\",\"bg\",\"mannequin\"],[\"docteur\",\"médecin\",\"santé\",\"bobo\"],\n",
    "         [\"belle\",\"jolie\",\"mignonne\",\"bellegosse\"],[\"père\",\"papa\",\"daron\"],\n",
    "         [\"mère\",\"maman\",\"daronne\"],[\"ol\",\"psg\",\"foot\",\"stade\"]]"
   ]
  },
  {
   "cell_type": "code",
   "execution_count": 47,
   "metadata": {},
   "outputs": [
    {
     "data": {
      "image/png": "[encoded data removed]",
      "text/plain": [
       "<Figure size 864x576 with 1 Axes>"
      ]
     },
     "metadata": {
      "needs_background": "light"
     },
     "output_type": "display_data"
    }
   ],
   "source": [
    "ACP(liste1, statique = True)"
   ]
  },
  {
   "cell_type": "code",
   "execution_count": 49,
   "metadata": {},
   "outputs": [
    {
     "data": {
      "text/html": [
       "        <script type=\"text/javascript\">\n",
       "        window.PlotlyConfig = {MathJaxConfig: 'local'};\n",
       "        if (window.MathJax) {MathJax.Hub.Config({SVG: {font: \"STIX-Web\"}});}\n",
       "        if (typeof require !== 'undefined') {\n",
       "        require.undef(\"plotly\");\n",
       "        requirejs.config({\n",
       "            paths: {\n",
       "                'plotly': ['https://cdn.plot.ly/plotly-latest.min']\n",
       "            }\n",
       "        });\n",
       "        require(['plotly'], function(Plotly) {\n",
       "            window._Plotly = Plotly;\n",
       "        });\n",
       "        }\n",
       "        </script>\n",
       "        "
      ]
     },
     "metadata": {},
     "output_type": "display_data"
    },
    {
     "data": {
      "text/html": [
       "        <script type=\"text/javascript\">\n",
       "        window.PlotlyConfig = {MathJaxConfig: 'local'};\n",
       "        if (window.MathJax) {MathJax.Hub.Config({SVG: {font: \"STIX-Web\"}});}\n",
       "        if (typeof require !== 'undefined') {\n",
       "        require.undef(\"plotly\");\n",
       "        requirejs.config({\n",
       "            paths: {\n",
       "                'plotly': ['https://cdn.plot.ly/plotly-latest.min']\n",
       "            }\n",
       "        });\n",
       "        require(['plotly'], function(Plotly) {\n",
       "            window._Plotly = Plotly;\n",
       "        });\n",
       "        }\n",
       "        </script>\n",
       "        "
      ]
     },
     "metadata": {},
     "output_type": "display_data"
    },
    {
     "name": "stderr",
     "output_type": "stream",
     "text": [
      "C:\\Users\\Kim Antunez\\Anaconda3\\lib\\site-packages\\cufflinks\\plotlytools.py:808: FutureWarning:\n",
      "\n",
      "The pandas.np module is deprecated and will be removed from pandas in a future version. Import numpy directly instead\n",
      "\n",
      "C:\\Users\\Kim Antunez\\Anaconda3\\lib\\site-packages\\cufflinks\\plotlytools.py:811: FutureWarning:\n",
      "\n",
      "The pandas.np module is deprecated and will be removed from pandas in a future version. Import numpy directly instead\n",
      "\n"
     ]
    },
    {
     "data": {
      "application/vnd.plotly.v1+json": {
       "config": {
        "linkText": "Export to plot.ly",
        "plotlyServerURL": "https://plot.ly",
        "showLink": true
       },
       "data": [
        {
         "marker": {
          "color": "rgba(255, 153, 51, 1.0)",
          "line": {
           "width": 1.3
          },
          "opacity": 0.8,
          "size": 12,
          "symbol": "circle"
         },
         "mode": "markers",
         "name": "poli/bonjour/salut",
         "text": [
          "poli",
          "bonjour",
          "salut"
         ],
         "textfont": {
          "color": "#4D5663"
         },
         "type": "scatter",
         "x": [
          -1.3994613885879517,
          -0.8548678159713745,
          -1.4538711309432983
         ],
         "y": [
          -0.2510806918144226,
          1.0960090160369873,
          -0.1507904976606369
         ]
        },
        {
         "marker": {
          "color": "rgba(55, 128, 191, 1.0)",
          "line": {
           "width": 1.3
          },
          "opacity": 0.8,
          "size": 12,
          "symbol": "circle"
         },
         "mode": "markers",
         "name": "canapé/fauteuil/table/chaise",
         "text": [
          "canapé",
          "fauteuil",
          "table",
          "chaise"
         ],
         "textfont": {
          "color": "#4D5663"
         },
         "type": "scatter",
         "x": [
          -1.0903016328811646,
          -1.4993823766708374,
          -0.7009479403495789,
          -0.7598469257354736
         ],
         "y": [
          0.12604285776615143,
          -0.3039397597312927,
          -0.20284324884414673,
          -0.3335602283477783
         ]
        },
        {
         "marker": {
          "color": "rgba(50, 171, 96, 1.0)",
          "line": {
           "width": 1.3
          },
          "opacity": 0.8,
          "size": 12,
          "symbol": "circle"
         },
         "mode": "markers",
         "name": "téléphone/portable/numéro/appel",
         "text": [
          "téléphone",
          "portable",
          "numéro",
          "appel"
         ],
         "textfont": {
          "color": "#4D5663"
         },
         "type": "scatter",
         "x": [
          0.38504087924957275,
          -0.9342277646064758,
          -0.7405867576599121,
          -0.8002118468284607
         ],
         "y": [
          1.3464549779891968,
          -0.0847834050655365,
          0.6301771402359009,
          -0.03964537754654884
         ]
        },
        {
         "marker": {
          "color": "rgba(128, 0, 128, 1.0)",
          "line": {
           "width": 1.3
          },
          "opacity": 0.8,
          "size": 12,
          "symbol": "circle"
         },
         "mode": "markers",
         "name": "voiture/camion/vélo/train",
         "text": [
          "voiture",
          "camion",
          "vélo",
          "train"
         ],
         "textfont": {
          "color": "#4D5663"
         },
         "type": "scatter",
         "x": [
          1.3760868310928345,
          -1.3639767169952393,
          -1.0371508598327637,
          2.358126163482666
         ],
         "y": [
          0.7613384127616882,
          -0.529106080532074,
          0.18282654881477356,
          7.542198181152344
         ]
        },
        {
         "marker": {
          "color": "rgba(219, 64, 82, 1.0)",
          "line": {
           "width": 1.3
          },
          "opacity": 0.8,
          "size": 12,
          "symbol": "circle"
         },
         "mode": "markers",
         "name": "beau/mignon/bg/mannequin",
         "text": [
          "beau",
          "mignon",
          "bg",
          "mannequin"
         ],
         "textfont": {
          "color": "#4D5663"
         },
         "type": "scatter",
         "x": [
          3.7523062229156494,
          0.7042014598846436,
          -0.705982506275177,
          -1.3713948726654053
         ],
         "y": [
          0.6989942193031311,
          -0.8339171409606934,
          -0.669644296169281,
          -0.25970810651779175
         ]
        },
        {
         "marker": {
          "color": "rgba(0, 128, 128, 1.0)",
          "line": {
           "width": 1.3
          },
          "opacity": 0.8,
          "size": 12,
          "symbol": "circle"
         },
         "mode": "markers",
         "name": "docteur/médecin/santé/bobo",
         "text": [
          "docteur",
          "médecin",
          "santé",
          "bobo"
         ],
         "textfont": {
          "color": "#4D5663"
         },
         "type": "scatter",
         "x": [
          -1.5546513795852661,
          -0.6750585436820984,
          -0.7638448476791382,
          -1.4275362491607666
         ],
         "y": [
          -0.4167039096355438,
          0.37324732542037964,
          -0.5298764109611511,
          -0.30942395329475403
         ]
        },
        {
         "marker": {
          "color": "rgba(255, 255, 51, 1.0)",
          "line": {
           "width": 1.3
          },
          "opacity": 0.8,
          "size": 12,
          "symbol": "circle"
         },
         "mode": "markers",
         "name": "belle/jolie/mignonne",
         "text": [
          "belle",
          "jolie",
          "mignonne"
         ],
         "textfont": {
          "color": "#4D5663"
         },
         "type": "scatter",
         "x": [
          3.6790566444396973,
          0.7624017596244812,
          -0.20687106251716614
         ],
         "y": [
          -4.103212833404541,
          -1.263257384300232,
          -1.1609975099563599
         ]
        },
        {
         "marker": {
          "color": "rgba(128, 128, 0, 1.0)",
          "line": {
           "width": 1.3
          },
          "opacity": 0.8,
          "size": 12,
          "symbol": "circle"
         },
         "mode": "markers",
         "name": "père/papa/daron",
         "text": [
          "père",
          "papa",
          "daron"
         ],
         "textfont": {
          "color": "#4D5663"
         },
         "type": "scatter",
         "x": [
          1.3137036561965942,
          -0.8189135789871216,
          -0.46719032526016235
         ],
         "y": [
          0.0995803102850914,
          -0.897122859954834,
          -0.08315723389387131
         ]
        },
        {
         "marker": {
          "color": "rgba(251, 128, 114, 1.0)",
          "line": {
           "width": 1.3
          },
          "opacity": 0.8,
          "size": 12,
          "symbol": "circle"
         },
         "mode": "markers",
         "name": "mère/maman/daronne",
         "text": [
          "mère",
          "maman",
          "daronne"
         ],
         "textfont": {
          "color": "#4D5663"
         },
         "type": "scatter",
         "x": [
          7.787831783294678,
          0.4532480239868164,
          0.3078416585922241
         ],
         "y": [
          -1.130131721496582,
          -1.0468807220458984,
          -0.3335126042366028
         ]
        },
        {
         "marker": {
          "color": "rgba(128, 177, 211, 1.0)",
          "line": {
           "width": 1.3
          },
          "opacity": 0.8,
          "size": 12,
          "symbol": "circle"
         },
         "mode": "markers",
         "name": "ol/psg/foot/stade",
         "text": [
          "ol",
          "psg",
          "foot",
          "stade"
         ],
         "textfont": {
          "color": "#4D5663"
         },
         "type": "scatter",
         "x": [
          -1.488295555114746,
          -0.4230145514011383,
          0.049809087067842484,
          -0.39206692576408386
         ],
         "y": [
          -0.428605318069458,
          0.32179978489875793,
          1.5046852827072144,
          0.6785477995872498
         ]
        }
       ],
       "layout": {
        "legend": {
         "bgcolor": "#F5F6F9",
         "font": {
          "color": "#4D5663"
         }
        },
        "paper_bgcolor": "#F5F6F9",
        "plot_bgcolor": "#F5F6F9",
        "template": {
         "data": {
          "bar": [
           {
            "error_x": {
             "color": "#2a3f5f"
            },
            "error_y": {
             "color": "#2a3f5f"
            },
            "marker": {
             "line": {
              "color": "#E5ECF6",
              "width": 0.5
             }
            },
            "type": "bar"
           }
          ],
          "barpolar": [
           {
            "marker": {
             "line": {
              "color": "#E5ECF6",
              "width": 0.5
             }
            },
            "type": "barpolar"
           }
          ],
          "carpet": [
           {
            "aaxis": {
             "endlinecolor": "#2a3f5f",
             "gridcolor": "white",
             "linecolor": "white",
             "minorgridcolor": "white",
             "startlinecolor": "#2a3f5f"
            },
            "baxis": {
             "endlinecolor": "#2a3f5f",
             "gridcolor": "white",
             "linecolor": "white",
             "minorgridcolor": "white",
             "startlinecolor": "#2a3f5f"
            },
            "type": "carpet"
           }
          ],
          "choropleth": [
           {
            "colorbar": {
             "outlinewidth": 0,
             "ticks": ""
            },
            "type": "choropleth"
           }
          ],
          "contour": [
           {
            "colorbar": {
             "outlinewidth": 0,
             "ticks": ""
            },
            "colorscale": [
             [
              0,
              "#0d0887"
             ],
             [
              0.1111111111111111,
              "#46039f"
             ],
             [
              0.2222222222222222,
              "#7201a8"
             ],
             [
              0.3333333333333333,
              "#9c179e"
             ],
             [
              0.4444444444444444,
              "#bd3786"
             ],
             [
              0.5555555555555556,
              "#d8576b"
             ],
             [
              0.6666666666666666,
              "#ed7953"
             ],
             [
              0.7777777777777778,
              "#fb9f3a"
             ],
             [
              0.8888888888888888,
              "#fdca26"
             ],
             [
              1,
              "#f0f921"
             ]
            ],
            "type": "contour"
           }
          ],
          "contourcarpet": [
           {
            "colorbar": {
             "outlinewidth": 0,
             "ticks": ""
            },
            "type": "contourcarpet"
           }
          ],
          "heatmap": [
           {
            "colorbar": {
             "outlinewidth": 0,
             "ticks": ""
            },
            "colorscale": [
             [
              0,
              "#0d0887"
             ],
             [
              0.1111111111111111,
              "#46039f"
             ],
             [
              0.2222222222222222,
              "#7201a8"
             ],
             [
              0.3333333333333333,
              "#9c179e"
             ],
             [
              0.4444444444444444,
              "#bd3786"
             ],
             [
              0.5555555555555556,
              "#d8576b"
             ],
             [
              0.6666666666666666,
              "#ed7953"
             ],
             [
              0.7777777777777778,
              "#fb9f3a"
             ],
             [
              0.8888888888888888,
              "#fdca26"
             ],
             [
              1,
              "#f0f921"
             ]
            ],
            "type": "heatmap"
           }
          ],
          "heatmapgl": [
           {
            "colorbar": {
             "outlinewidth": 0,
             "ticks": ""
            },
            "colorscale": [
             [
              0,
              "#0d0887"
             ],
             [
              0.1111111111111111,
              "#46039f"
             ],
             [
              0.2222222222222222,
              "#7201a8"
             ],
             [
              0.3333333333333333,
              "#9c179e"
             ],
             [
              0.4444444444444444,
              "#bd3786"
             ],
             [
              0.5555555555555556,
              "#d8576b"
             ],
             [
              0.6666666666666666,
              "#ed7953"
             ],
             [
              0.7777777777777778,
              "#fb9f3a"
             ],
             [
              0.8888888888888888,
              "#fdca26"
             ],
             [
              1,
              "#f0f921"
             ]
            ],
            "type": "heatmapgl"
           }
          ],
          "histogram": [
           {
            "marker": {
             "colorbar": {
              "outlinewidth": 0,
              "ticks": ""
             }
            },
            "type": "histogram"
           }
          ],
          "histogram2d": [
           {
            "colorbar": {
             "outlinewidth": 0,
             "ticks": ""
            },
            "colorscale": [
             [
              0,
              "#0d0887"
             ],
             [
              0.1111111111111111,
              "#46039f"
             ],
             [
              0.2222222222222222,
              "#7201a8"
             ],
             [
              0.3333333333333333,
              "#9c179e"
             ],
             [
              0.4444444444444444,
              "#bd3786"
             ],
             [
              0.5555555555555556,
              "#d8576b"
             ],
             [
              0.6666666666666666,
              "#ed7953"
             ],
             [
              0.7777777777777778,
              "#fb9f3a"
             ],
             [
              0.8888888888888888,
              "#fdca26"
             ],
             [
              1,
              "#f0f921"
             ]
            ],
            "type": "histogram2d"
           }
          ],
          "histogram2dcontour": [
           {
            "colorbar": {
             "outlinewidth": 0,
             "ticks": ""
            },
            "colorscale": [
             [
              0,
              "#0d0887"
             ],
             [
              0.1111111111111111,
              "#46039f"
             ],
             [
              0.2222222222222222,
              "#7201a8"
             ],
             [
              0.3333333333333333,
              "#9c179e"
             ],
             [
              0.4444444444444444,
              "#bd3786"
             ],
             [
              0.5555555555555556,
              "#d8576b"
             ],
             [
              0.6666666666666666,
              "#ed7953"
             ],
             [
              0.7777777777777778,
              "#fb9f3a"
             ],
             [
              0.8888888888888888,
              "#fdca26"
             ],
             [
              1,
              "#f0f921"
             ]
            ],
            "type": "histogram2dcontour"
           }
          ],
          "mesh3d": [
           {
            "colorbar": {
             "outlinewidth": 0,
             "ticks": ""
            },
            "type": "mesh3d"
           }
          ],
          "parcoords": [
           {
            "line": {
             "colorbar": {
              "outlinewidth": 0,
              "ticks": ""
             }
            },
            "type": "parcoords"
           }
          ],
          "pie": [
           {
            "automargin": true,
            "type": "pie"
           }
          ],
          "scatter": [
           {
            "marker": {
             "colorbar": {
              "outlinewidth": 0,
              "ticks": ""
             }
            },
            "type": "scatter"
           }
          ],
          "scatter3d": [
           {
            "line": {
             "colorbar": {
              "outlinewidth": 0,
              "ticks": ""
             }
            },
            "marker": {
             "colorbar": {
              "outlinewidth": 0,
              "ticks": ""
             }
            },
            "type": "scatter3d"
           }
          ],
          "scattercarpet": [
           {
            "marker": {
             "colorbar": {
              "outlinewidth": 0,
              "ticks": ""
             }
            },
            "type": "scattercarpet"
           }
          ],
          "scattergeo": [
           {
            "marker": {
             "colorbar": {
              "outlinewidth": 0,
              "ticks": ""
             }
            },
            "type": "scattergeo"
           }
          ],
          "scattergl": [
           {
            "marker": {
             "colorbar": {
              "outlinewidth": 0,
              "ticks": ""
             }
            },
            "type": "scattergl"
           }
          ],
          "scattermapbox": [
           {
            "marker": {
             "colorbar": {
              "outlinewidth": 0,
              "ticks": ""
             }
            },
            "type": "scattermapbox"
           }
          ],
          "scatterpolar": [
           {
            "marker": {
             "colorbar": {
              "outlinewidth": 0,
              "ticks": ""
             }
            },
            "type": "scatterpolar"
           }
          ],
          "scatterpolargl": [
           {
            "marker": {
             "colorbar": {
              "outlinewidth": 0,
              "ticks": ""
             }
            },
            "type": "scatterpolargl"
           }
          ],
          "scatterternary": [
           {
            "marker": {
             "colorbar": {
              "outlinewidth": 0,
              "ticks": ""
             }
            },
            "type": "scatterternary"
           }
          ],
          "surface": [
           {
            "colorbar": {
             "outlinewidth": 0,
             "ticks": ""
            },
            "colorscale": [
             [
              0,
              "#0d0887"
             ],
             [
              0.1111111111111111,
              "#46039f"
             ],
             [
              0.2222222222222222,
              "#7201a8"
             ],
             [
              0.3333333333333333,
              "#9c179e"
             ],
             [
              0.4444444444444444,
              "#bd3786"
             ],
             [
              0.5555555555555556,
              "#d8576b"
             ],
             [
              0.6666666666666666,
              "#ed7953"
             ],
             [
              0.7777777777777778,
              "#fb9f3a"
             ],
             [
              0.8888888888888888,
              "#fdca26"
             ],
             [
              1,
              "#f0f921"
             ]
            ],
            "type": "surface"
           }
          ],
          "table": [
           {
            "cells": {
             "fill": {
              "color": "#EBF0F8"
             },
             "line": {
              "color": "white"
             }
            },
            "header": {
             "fill": {
              "color": "#C8D4E3"
             },
             "line": {
              "color": "white"
             }
            },
            "type": "table"
           }
          ]
         },
         "layout": {
          "annotationdefaults": {
           "arrowcolor": "#2a3f5f",
           "arrowhead": 0,
           "arrowwidth": 1
          },
          "coloraxis": {
           "colorbar": {
            "outlinewidth": 0,
            "ticks": ""
           }
          },
          "colorscale": {
           "diverging": [
            [
             0,
             "#8e0152"
            ],
            [
             0.1,
             "#c51b7d"
            ],
            [
             0.2,
             "#de77ae"
            ],
            [
             0.3,
             "#f1b6da"
            ],
            [
             0.4,
             "#fde0ef"
            ],
            [
             0.5,
             "#f7f7f7"
            ],
            [
             0.6,
             "#e6f5d0"
            ],
            [
             0.7,
             "#b8e186"
            ],
            [
             0.8,
             "#7fbc41"
            ],
            [
             0.9,
             "#4d9221"
            ],
            [
             1,
             "#276419"
            ]
           ],
           "sequential": [
            [
             0,
             "#0d0887"
            ],
            [
             0.1111111111111111,
             "#46039f"
            ],
            [
             0.2222222222222222,
             "#7201a8"
            ],
            [
             0.3333333333333333,
             "#9c179e"
            ],
            [
             0.4444444444444444,
             "#bd3786"
            ],
            [
             0.5555555555555556,
             "#d8576b"
            ],
            [
             0.6666666666666666,
             "#ed7953"
            ],
            [
             0.7777777777777778,
             "#fb9f3a"
            ],
            [
             0.8888888888888888,
             "#fdca26"
            ],
            [
             1,
             "#f0f921"
            ]
           ],
           "sequentialminus": [
            [
             0,
             "#0d0887"
            ],
            [
             0.1111111111111111,
             "#46039f"
            ],
            [
             0.2222222222222222,
             "#7201a8"
            ],
            [
             0.3333333333333333,
             "#9c179e"
            ],
            [
             0.4444444444444444,
             "#bd3786"
            ],
            [
             0.5555555555555556,
             "#d8576b"
            ],
            [
             0.6666666666666666,
             "#ed7953"
            ],
            [
             0.7777777777777778,
             "#fb9f3a"
            ],
            [
             0.8888888888888888,
             "#fdca26"
            ],
            [
             1,
             "#f0f921"
            ]
           ]
          },
          "colorway": [
           "#636efa",
           "#EF553B",
           "#00cc96",
           "#ab63fa",
           "#FFA15A",
           "#19d3f3",
           "#FF6692",
           "#B6E880",
           "#FF97FF",
           "#FECB52"
          ],
          "font": {
           "color": "#2a3f5f"
          },
          "geo": {
           "bgcolor": "white",
           "lakecolor": "white",
           "landcolor": "#E5ECF6",
           "showlakes": true,
           "showland": true,
           "subunitcolor": "white"
          },
          "hoverlabel": {
           "align": "left"
          },
          "hovermode": "closest",
          "mapbox": {
           "style": "light"
          },
          "paper_bgcolor": "white",
          "plot_bgcolor": "#E5ECF6",
          "polar": {
           "angularaxis": {
            "gridcolor": "white",
            "linecolor": "white",
            "ticks": ""
           },
           "bgcolor": "#E5ECF6",
           "radialaxis": {
            "gridcolor": "white",
            "linecolor": "white",
            "ticks": ""
           }
          },
          "scene": {
           "xaxis": {
            "backgroundcolor": "#E5ECF6",
            "gridcolor": "white",
            "gridwidth": 2,
            "linecolor": "white",
            "showbackground": true,
            "ticks": "",
            "zerolinecolor": "white"
           },
           "yaxis": {
            "backgroundcolor": "#E5ECF6",
            "gridcolor": "white",
            "gridwidth": 2,
            "linecolor": "white",
            "showbackground": true,
            "ticks": "",
            "zerolinecolor": "white"
           },
           "zaxis": {
            "backgroundcolor": "#E5ECF6",
            "gridcolor": "white",
            "gridwidth": 2,
            "linecolor": "white",
            "showbackground": true,
            "ticks": "",
            "zerolinecolor": "white"
           }
          },
          "shapedefaults": {
           "line": {
            "color": "#2a3f5f"
           }
          },
          "ternary": {
           "aaxis": {
            "gridcolor": "white",
            "linecolor": "white",
            "ticks": ""
           },
           "baxis": {
            "gridcolor": "white",
            "linecolor": "white",
            "ticks": ""
           },
           "bgcolor": "#E5ECF6",
           "caxis": {
            "gridcolor": "white",
            "linecolor": "white",
            "ticks": ""
           }
          },
          "title": {
           "x": 0.05
          },
          "xaxis": {
           "automargin": true,
           "gridcolor": "white",
           "linecolor": "white",
           "ticks": "",
           "title": {
            "standoff": 15
           },
           "zerolinecolor": "white",
           "zerolinewidth": 2
          },
          "yaxis": {
           "automargin": true,
           "gridcolor": "white",
           "linecolor": "white",
           "ticks": "",
           "title": {
            "standoff": 15
           },
           "zerolinecolor": "white",
           "zerolinewidth": 2
          }
         }
        },
        "title": {
         "font": {
          "color": "#4D5663"
         },
         "text": "ACP en 2 composantes"
        },
        "xaxis": {
         "gridcolor": "#E1E5ED",
         "showgrid": true,
         "tickfont": {
          "color": "#4D5663"
         },
         "title": {
          "font": {
           "color": "#4D5663"
          },
          "text": "Axe 1"
         },
         "zerolinecolor": "#E1E5ED"
        },
        "yaxis": {
         "gridcolor": "#E1E5ED",
         "showgrid": true,
         "tickfont": {
          "color": "#4D5663"
         },
         "title": {
          "font": {
           "color": "#4D5663"
          },
          "text": "Axe 2"
         },
         "zerolinecolor": "#E1E5ED"
        }
       }
      },
      "text/html": [
       "<div>\n",
       "        \n",
       "        \n",
       "            <div id=\"667c6118-9584-4d0a-996c-b3596a0d5bf0\" class=\"plotly-graph-div\" style=\"height:525px; width:100%;\"></div>\n",
       "            <script type=\"text/javascript\">\n",
       "                require([\"plotly\"], function(Plotly) {\n",
       "                    window.PLOTLYENV=window.PLOTLYENV || {};\n",
       "                    window.PLOTLYENV.BASE_URL='https://plot.ly';\n",
       "                    \n",
       "                if (document.getElementById(\"667c6118-9584-4d0a-996c-b3596a0d5bf0\")) {\n",
       "                    Plotly.newPlot(\n",
       "                        '667c6118-9584-4d0a-996c-b3596a0d5bf0',\n",
       "                        [{\"marker\": {\"color\": \"rgba(255, 153, 51, 1.0)\", \"line\": {\"width\": 1.3}, \"opacity\": 0.8, \"size\": 12, \"symbol\": \"circle\"}, \"mode\": \"markers\", \"name\": \"poli/bonjour/salut\", \"text\": [\"poli\", \"bonjour\", \"salut\"], \"textfont\": {\"color\": \"#4D5663\"}, \"type\": \"scatter\", \"x\": [-1.3994613885879517, -0.8548678159713745, -1.4538711309432983], \"y\": [-0.2510806918144226, 1.0960090160369873, -0.1507904976606369]}, {\"marker\": {\"color\": \"rgba(55, 128, 191, 1.0)\", \"line\": {\"width\": 1.3}, \"opacity\": 0.8, \"size\": 12, \"symbol\": \"circle\"}, \"mode\": \"markers\", \"name\": \"canap\\u00e9/fauteuil/table/chaise\", \"text\": [\"canap\\u00e9\", \"fauteuil\", \"table\", \"chaise\"], \"textfont\": {\"color\": \"#4D5663\"}, \"type\": \"scatter\", \"x\": [-1.0903016328811646, -1.4993823766708374, -0.7009479403495789, -0.7598469257354736], \"y\": [0.12604285776615143, -0.3039397597312927, -0.20284324884414673, -0.3335602283477783]}, {\"marker\": {\"color\": \"rgba(50, 171, 96, 1.0)\", \"line\": {\"width\": 1.3}, \"opacity\": 0.8, \"size\": 12, \"symbol\": \"circle\"}, \"mode\": \"markers\", \"name\": \"t\\u00e9l\\u00e9phone/portable/num\\u00e9ro/appel\", \"text\": [\"t\\u00e9l\\u00e9phone\", \"portable\", \"num\\u00e9ro\", \"appel\"], \"textfont\": {\"color\": \"#4D5663\"}, \"type\": \"scatter\", \"x\": [0.38504087924957275, -0.9342277646064758, -0.7405867576599121, -0.8002118468284607], \"y\": [1.3464549779891968, -0.0847834050655365, 0.6301771402359009, -0.03964537754654884]}, {\"marker\": {\"color\": \"rgba(128, 0, 128, 1.0)\", \"line\": {\"width\": 1.3}, \"opacity\": 0.8, \"size\": 12, \"symbol\": \"circle\"}, \"mode\": \"markers\", \"name\": \"voiture/camion/v\\u00e9lo/train\", \"text\": [\"voiture\", \"camion\", \"v\\u00e9lo\", \"train\"], \"textfont\": {\"color\": \"#4D5663\"}, \"type\": \"scatter\", \"x\": [1.3760868310928345, -1.3639767169952393, -1.0371508598327637, 2.358126163482666], \"y\": [0.7613384127616882, -0.529106080532074, 0.18282654881477356, 7.542198181152344]}, {\"marker\": {\"color\": \"rgba(219, 64, 82, 1.0)\", \"line\": {\"width\": 1.3}, \"opacity\": 0.8, \"size\": 12, \"symbol\": \"circle\"}, \"mode\": \"markers\", \"name\": \"beau/mignon/bg/mannequin\", \"text\": [\"beau\", \"mignon\", \"bg\", \"mannequin\"], \"textfont\": {\"color\": \"#4D5663\"}, \"type\": \"scatter\", \"x\": [3.7523062229156494, 0.7042014598846436, -0.705982506275177, -1.3713948726654053], \"y\": [0.6989942193031311, -0.8339171409606934, -0.669644296169281, -0.25970810651779175]}, {\"marker\": {\"color\": \"rgba(0, 128, 128, 1.0)\", \"line\": {\"width\": 1.3}, \"opacity\": 0.8, \"size\": 12, \"symbol\": \"circle\"}, \"mode\": \"markers\", \"name\": \"docteur/m\\u00e9decin/sant\\u00e9/bobo\", \"text\": [\"docteur\", \"m\\u00e9decin\", \"sant\\u00e9\", \"bobo\"], \"textfont\": {\"color\": \"#4D5663\"}, \"type\": \"scatter\", \"x\": [-1.5546513795852661, -0.6750585436820984, -0.7638448476791382, -1.4275362491607666], \"y\": [-0.4167039096355438, 0.37324732542037964, -0.5298764109611511, -0.30942395329475403]}, {\"marker\": {\"color\": \"rgba(255, 255, 51, 1.0)\", \"line\": {\"width\": 1.3}, \"opacity\": 0.8, \"size\": 12, \"symbol\": \"circle\"}, \"mode\": \"markers\", \"name\": \"belle/jolie/mignonne\", \"text\": [\"belle\", \"jolie\", \"mignonne\"], \"textfont\": {\"color\": \"#4D5663\"}, \"type\": \"scatter\", \"x\": [3.6790566444396973, 0.7624017596244812, -0.20687106251716614], \"y\": [-4.103212833404541, -1.263257384300232, -1.1609975099563599]}, {\"marker\": {\"color\": \"rgba(128, 128, 0, 1.0)\", \"line\": {\"width\": 1.3}, \"opacity\": 0.8, \"size\": 12, \"symbol\": \"circle\"}, \"mode\": \"markers\", \"name\": \"p\\u00e8re/papa/daron\", \"text\": [\"p\\u00e8re\", \"papa\", \"daron\"], \"textfont\": {\"color\": \"#4D5663\"}, \"type\": \"scatter\", \"x\": [1.3137036561965942, -0.8189135789871216, -0.46719032526016235], \"y\": [0.0995803102850914, -0.897122859954834, -0.08315723389387131]}, {\"marker\": {\"color\": \"rgba(251, 128, 114, 1.0)\", \"line\": {\"width\": 1.3}, \"opacity\": 0.8, \"size\": 12, \"symbol\": \"circle\"}, \"mode\": \"markers\", \"name\": \"m\\u00e8re/maman/daronne\", \"text\": [\"m\\u00e8re\", \"maman\", \"daronne\"], \"textfont\": {\"color\": \"#4D5663\"}, \"type\": \"scatter\", \"x\": [7.787831783294678, 0.4532480239868164, 0.3078416585922241], \"y\": [-1.130131721496582, -1.0468807220458984, -0.3335126042366028]}, {\"marker\": {\"color\": \"rgba(128, 177, 211, 1.0)\", \"line\": {\"width\": 1.3}, \"opacity\": 0.8, \"size\": 12, \"symbol\": \"circle\"}, \"mode\": \"markers\", \"name\": \"ol/psg/foot/stade\", \"text\": [\"ol\", \"psg\", \"foot\", \"stade\"], \"textfont\": {\"color\": \"#4D5663\"}, \"type\": \"scatter\", \"x\": [-1.488295555114746, -0.4230145514011383, 0.049809087067842484, -0.39206692576408386], \"y\": [-0.428605318069458, 0.32179978489875793, 1.5046852827072144, 0.6785477995872498]}],\n",
       "                        {\"legend\": {\"bgcolor\": \"#F5F6F9\", \"font\": {\"color\": \"#4D5663\"}}, \"paper_bgcolor\": \"#F5F6F9\", \"plot_bgcolor\": \"#F5F6F9\", \"template\": {\"data\": {\"bar\": [{\"error_x\": {\"color\": \"#2a3f5f\"}, \"error_y\": {\"color\": \"#2a3f5f\"}, \"marker\": {\"line\": {\"color\": \"#E5ECF6\", \"width\": 0.5}}, \"type\": \"bar\"}], \"barpolar\": [{\"marker\": {\"line\": {\"color\": \"#E5ECF6\", \"width\": 0.5}}, \"type\": \"barpolar\"}], \"carpet\": [{\"aaxis\": {\"endlinecolor\": \"#2a3f5f\", \"gridcolor\": \"white\", \"linecolor\": \"white\", \"minorgridcolor\": \"white\", \"startlinecolor\": \"#2a3f5f\"}, \"baxis\": {\"endlinecolor\": \"#2a3f5f\", \"gridcolor\": \"white\", \"linecolor\": \"white\", \"minorgridcolor\": \"white\", \"startlinecolor\": \"#2a3f5f\"}, \"type\": \"carpet\"}], \"choropleth\": [{\"colorbar\": {\"outlinewidth\": 0, \"ticks\": \"\"}, \"type\": \"choropleth\"}], \"contour\": [{\"colorbar\": {\"outlinewidth\": 0, \"ticks\": \"\"}, \"colorscale\": [[0.0, \"#0d0887\"], [0.1111111111111111, \"#46039f\"], [0.2222222222222222, \"#7201a8\"], [0.3333333333333333, \"#9c179e\"], [0.4444444444444444, \"#bd3786\"], [0.5555555555555556, \"#d8576b\"], [0.6666666666666666, \"#ed7953\"], [0.7777777777777778, \"#fb9f3a\"], [0.8888888888888888, \"#fdca26\"], [1.0, \"#f0f921\"]], \"type\": \"contour\"}], \"contourcarpet\": [{\"colorbar\": {\"outlinewidth\": 0, \"ticks\": \"\"}, \"type\": \"contourcarpet\"}], \"heatmap\": [{\"colorbar\": {\"outlinewidth\": 0, \"ticks\": \"\"}, \"colorscale\": [[0.0, \"#0d0887\"], [0.1111111111111111, \"#46039f\"], [0.2222222222222222, \"#7201a8\"], [0.3333333333333333, \"#9c179e\"], [0.4444444444444444, \"#bd3786\"], [0.5555555555555556, \"#d8576b\"], [0.6666666666666666, \"#ed7953\"], [0.7777777777777778, \"#fb9f3a\"], [0.8888888888888888, \"#fdca26\"], [1.0, \"#f0f921\"]], \"type\": \"heatmap\"}], \"heatmapgl\": [{\"colorbar\": {\"outlinewidth\": 0, \"ticks\": \"\"}, \"colorscale\": [[0.0, \"#0d0887\"], [0.1111111111111111, \"#46039f\"], [0.2222222222222222, \"#7201a8\"], [0.3333333333333333, \"#9c179e\"], [0.4444444444444444, \"#bd3786\"], [0.5555555555555556, \"#d8576b\"], [0.6666666666666666, \"#ed7953\"], [0.7777777777777778, \"#fb9f3a\"], [0.8888888888888888, \"#fdca26\"], [1.0, \"#f0f921\"]], \"type\": \"heatmapgl\"}], \"histogram\": [{\"marker\": {\"colorbar\": {\"outlinewidth\": 0, \"ticks\": \"\"}}, \"type\": \"histogram\"}], \"histogram2d\": [{\"colorbar\": {\"outlinewidth\": 0, \"ticks\": \"\"}, \"colorscale\": [[0.0, \"#0d0887\"], [0.1111111111111111, \"#46039f\"], [0.2222222222222222, \"#7201a8\"], [0.3333333333333333, \"#9c179e\"], [0.4444444444444444, \"#bd3786\"], [0.5555555555555556, \"#d8576b\"], [0.6666666666666666, \"#ed7953\"], [0.7777777777777778, \"#fb9f3a\"], [0.8888888888888888, \"#fdca26\"], [1.0, \"#f0f921\"]], \"type\": \"histogram2d\"}], \"histogram2dcontour\": [{\"colorbar\": {\"outlinewidth\": 0, \"ticks\": \"\"}, \"colorscale\": [[0.0, \"#0d0887\"], [0.1111111111111111, \"#46039f\"], [0.2222222222222222, \"#7201a8\"], [0.3333333333333333, \"#9c179e\"], [0.4444444444444444, \"#bd3786\"], [0.5555555555555556, \"#d8576b\"], [0.6666666666666666, \"#ed7953\"], [0.7777777777777778, \"#fb9f3a\"], [0.8888888888888888, \"#fdca26\"], [1.0, \"#f0f921\"]], \"type\": \"histogram2dcontour\"}], \"mesh3d\": [{\"colorbar\": {\"outlinewidth\": 0, \"ticks\": \"\"}, \"type\": \"mesh3d\"}], \"parcoords\": [{\"line\": {\"colorbar\": {\"outlinewidth\": 0, \"ticks\": \"\"}}, \"type\": \"parcoords\"}], \"pie\": [{\"automargin\": true, \"type\": \"pie\"}], \"scatter\": [{\"marker\": {\"colorbar\": {\"outlinewidth\": 0, \"ticks\": \"\"}}, \"type\": \"scatter\"}], \"scatter3d\": [{\"line\": {\"colorbar\": {\"outlinewidth\": 0, \"ticks\": \"\"}}, \"marker\": {\"colorbar\": {\"outlinewidth\": 0, \"ticks\": \"\"}}, \"type\": \"scatter3d\"}], \"scattercarpet\": [{\"marker\": {\"colorbar\": {\"outlinewidth\": 0, \"ticks\": \"\"}}, \"type\": \"scattercarpet\"}], \"scattergeo\": [{\"marker\": {\"colorbar\": {\"outlinewidth\": 0, \"ticks\": \"\"}}, \"type\": \"scattergeo\"}], \"scattergl\": [{\"marker\": {\"colorbar\": {\"outlinewidth\": 0, \"ticks\": \"\"}}, \"type\": \"scattergl\"}], \"scattermapbox\": [{\"marker\": {\"colorbar\": {\"outlinewidth\": 0, \"ticks\": \"\"}}, \"type\": \"scattermapbox\"}], \"scatterpolar\": [{\"marker\": {\"colorbar\": {\"outlinewidth\": 0, \"ticks\": \"\"}}, \"type\": \"scatterpolar\"}], \"scatterpolargl\": [{\"marker\": {\"colorbar\": {\"outlinewidth\": 0, \"ticks\": \"\"}}, \"type\": \"scatterpolargl\"}], \"scatterternary\": [{\"marker\": {\"colorbar\": {\"outlinewidth\": 0, \"ticks\": \"\"}}, \"type\": \"scatterternary\"}], \"surface\": [{\"colorbar\": {\"outlinewidth\": 0, \"ticks\": \"\"}, \"colorscale\": [[0.0, \"#0d0887\"], [0.1111111111111111, \"#46039f\"], [0.2222222222222222, \"#7201a8\"], [0.3333333333333333, \"#9c179e\"], [0.4444444444444444, \"#bd3786\"], [0.5555555555555556, \"#d8576b\"], [0.6666666666666666, \"#ed7953\"], [0.7777777777777778, \"#fb9f3a\"], [0.8888888888888888, \"#fdca26\"], [1.0, \"#f0f921\"]], \"type\": \"surface\"}], \"table\": [{\"cells\": {\"fill\": {\"color\": \"#EBF0F8\"}, \"line\": {\"color\": \"white\"}}, \"header\": {\"fill\": {\"color\": \"#C8D4E3\"}, \"line\": {\"color\": \"white\"}}, \"type\": \"table\"}]}, \"layout\": {\"annotationdefaults\": {\"arrowcolor\": \"#2a3f5f\", \"arrowhead\": 0, \"arrowwidth\": 1}, \"coloraxis\": {\"colorbar\": {\"outlinewidth\": 0, \"ticks\": \"\"}}, \"colorscale\": {\"diverging\": [[0, \"#8e0152\"], [0.1, \"#c51b7d\"], [0.2, \"#de77ae\"], [0.3, \"#f1b6da\"], [0.4, \"#fde0ef\"], [0.5, \"#f7f7f7\"], [0.6, \"#e6f5d0\"], [0.7, \"#b8e186\"], [0.8, \"#7fbc41\"], [0.9, \"#4d9221\"], [1, \"#276419\"]], \"sequential\": [[0.0, \"#0d0887\"], [0.1111111111111111, \"#46039f\"], [0.2222222222222222, \"#7201a8\"], [0.3333333333333333, \"#9c179e\"], [0.4444444444444444, \"#bd3786\"], [0.5555555555555556, \"#d8576b\"], [0.6666666666666666, \"#ed7953\"], [0.7777777777777778, \"#fb9f3a\"], [0.8888888888888888, \"#fdca26\"], [1.0, \"#f0f921\"]], \"sequentialminus\": [[0.0, \"#0d0887\"], [0.1111111111111111, \"#46039f\"], [0.2222222222222222, \"#7201a8\"], [0.3333333333333333, \"#9c179e\"], [0.4444444444444444, \"#bd3786\"], [0.5555555555555556, \"#d8576b\"], [0.6666666666666666, \"#ed7953\"], [0.7777777777777778, \"#fb9f3a\"], [0.8888888888888888, \"#fdca26\"], [1.0, \"#f0f921\"]]}, \"colorway\": [\"#636efa\", \"#EF553B\", \"#00cc96\", \"#ab63fa\", \"#FFA15A\", \"#19d3f3\", \"#FF6692\", \"#B6E880\", \"#FF97FF\", \"#FECB52\"], \"font\": {\"color\": \"#2a3f5f\"}, \"geo\": {\"bgcolor\": \"white\", \"lakecolor\": \"white\", \"landcolor\": \"#E5ECF6\", \"showlakes\": true, \"showland\": true, \"subunitcolor\": \"white\"}, \"hoverlabel\": {\"align\": \"left\"}, \"hovermode\": \"closest\", \"mapbox\": {\"style\": \"light\"}, \"paper_bgcolor\": \"white\", \"plot_bgcolor\": \"#E5ECF6\", \"polar\": {\"angularaxis\": {\"gridcolor\": \"white\", \"linecolor\": \"white\", \"ticks\": \"\"}, \"bgcolor\": \"#E5ECF6\", \"radialaxis\": {\"gridcolor\": \"white\", \"linecolor\": \"white\", \"ticks\": \"\"}}, \"scene\": {\"xaxis\": {\"backgroundcolor\": \"#E5ECF6\", \"gridcolor\": \"white\", \"gridwidth\": 2, \"linecolor\": \"white\", \"showbackground\": true, \"ticks\": \"\", \"zerolinecolor\": \"white\"}, \"yaxis\": {\"backgroundcolor\": \"#E5ECF6\", \"gridcolor\": \"white\", \"gridwidth\": 2, \"linecolor\": \"white\", \"showbackground\": true, \"ticks\": \"\", \"zerolinecolor\": \"white\"}, \"zaxis\": {\"backgroundcolor\": \"#E5ECF6\", \"gridcolor\": \"white\", \"gridwidth\": 2, \"linecolor\": \"white\", \"showbackground\": true, \"ticks\": \"\", \"zerolinecolor\": \"white\"}}, \"shapedefaults\": {\"line\": {\"color\": \"#2a3f5f\"}}, \"ternary\": {\"aaxis\": {\"gridcolor\": \"white\", \"linecolor\": \"white\", \"ticks\": \"\"}, \"baxis\": {\"gridcolor\": \"white\", \"linecolor\": \"white\", \"ticks\": \"\"}, \"bgcolor\": \"#E5ECF6\", \"caxis\": {\"gridcolor\": \"white\", \"linecolor\": \"white\", \"ticks\": \"\"}}, \"title\": {\"x\": 0.05}, \"xaxis\": {\"automargin\": true, \"gridcolor\": \"white\", \"linecolor\": \"white\", \"ticks\": \"\", \"title\": {\"standoff\": 15}, \"zerolinecolor\": \"white\", \"zerolinewidth\": 2}, \"yaxis\": {\"automargin\": true, \"gridcolor\": \"white\", \"linecolor\": \"white\", \"ticks\": \"\", \"title\": {\"standoff\": 15}, \"zerolinecolor\": \"white\", \"zerolinewidth\": 2}}}, \"title\": {\"font\": {\"color\": \"#4D5663\"}, \"text\": \"ACP en 2 composantes\"}, \"xaxis\": {\"gridcolor\": \"#E1E5ED\", \"showgrid\": true, \"tickfont\": {\"color\": \"#4D5663\"}, \"title\": {\"font\": {\"color\": \"#4D5663\"}, \"text\": \"Axe 1\"}, \"zerolinecolor\": \"#E1E5ED\"}, \"yaxis\": {\"gridcolor\": \"#E1E5ED\", \"showgrid\": true, \"tickfont\": {\"color\": \"#4D5663\"}, \"title\": {\"font\": {\"color\": \"#4D5663\"}, \"text\": \"Axe 2\"}, \"zerolinecolor\": \"#E1E5ED\"}},\n",
       "                        {\"showLink\": true, \"linkText\": \"Export to plot.ly\", \"plotlyServerURL\": \"https://plot.ly\", \"responsive\": true}\n",
       "                    ).then(function(){\n",
       "                            \n",
       "var gd = document.getElementById('667c6118-9584-4d0a-996c-b3596a0d5bf0');\n",
       "var x = new MutationObserver(function (mutations, observer) {{\n",
       "        var display = window.getComputedStyle(gd).display;\n",
       "        if (!display || display === 'none') {{\n",
       "            console.log([gd, 'removed!']);\n",
       "            Plotly.purge(gd);\n",
       "            observer.disconnect();\n",
       "        }}\n",
       "}});\n",
       "\n",
       "// Listen for the removal of the full notebook cells\n",
       "var notebookContainer = gd.closest('#notebook-container');\n",
       "if (notebookContainer) {{\n",
       "    x.observe(notebookContainer, {childList: true});\n",
       "}}\n",
       "\n",
       "// Listen for the clearing of the current output cell\n",
       "var outputEl = gd.closest('.output');\n",
       "if (outputEl) {{\n",
       "    x.observe(outputEl, {childList: true});\n",
       "}}\n",
       "\n",
       "                        })\n",
       "                };\n",
       "                });\n",
       "            </script>\n",
       "        </div>"
      ]
     },
     "metadata": {},
     "output_type": "display_data"
    }
   ],
   "source": [
    "ACP(liste1, statique = False)"
   ]
  },
  {
   "cell_type": "code",
   "execution_count": 54,
   "metadata": {
    "scrolled": true
   },
   "outputs": [
    {
     "data": {
      "text/html": [
       "        <script type=\"text/javascript\">\n",
       "        window.PlotlyConfig = {MathJaxConfig: 'local'};\n",
       "        if (window.MathJax) {MathJax.Hub.Config({SVG: {font: \"STIX-Web\"}});}\n",
       "        if (typeof require !== 'undefined') {\n",
       "        require.undef(\"plotly\");\n",
       "        requirejs.config({\n",
       "            paths: {\n",
       "                'plotly': ['https://cdn.plot.ly/plotly-latest.min']\n",
       "            }\n",
       "        });\n",
       "        require(['plotly'], function(Plotly) {\n",
       "            window._Plotly = Plotly;\n",
       "        });\n",
       "        }\n",
       "        </script>\n",
       "        "
      ]
     },
     "metadata": {},
     "output_type": "display_data"
    },
    {
     "data": {
      "text/html": [
       "        <script type=\"text/javascript\">\n",
       "        window.PlotlyConfig = {MathJaxConfig: 'local'};\n",
       "        if (window.MathJax) {MathJax.Hub.Config({SVG: {font: \"STIX-Web\"}});}\n",
       "        if (typeof require !== 'undefined') {\n",
       "        require.undef(\"plotly\");\n",
       "        requirejs.config({\n",
       "            paths: {\n",
       "                'plotly': ['https://cdn.plot.ly/plotly-latest.min']\n",
       "            }\n",
       "        });\n",
       "        require(['plotly'], function(Plotly) {\n",
       "            window._Plotly = Plotly;\n",
       "        });\n",
       "        }\n",
       "        </script>\n",
       "        "
      ]
     },
     "metadata": {},
     "output_type": "display_data"
    },
    {
     "name": "stderr",
     "output_type": "stream",
     "text": [
      "C:\\Users\\Kim Antunez\\Anaconda3\\lib\\site-packages\\cufflinks\\plotlytools.py:808: FutureWarning:\n",
      "\n",
      "The pandas.np module is deprecated and will be removed from pandas in a future version. Import numpy directly instead\n",
      "\n",
      "C:\\Users\\Kim Antunez\\Anaconda3\\lib\\site-packages\\cufflinks\\plotlytools.py:811: FutureWarning:\n",
      "\n",
      "The pandas.np module is deprecated and will be removed from pandas in a future version. Import numpy directly instead\n",
      "\n"
     ]
    },
    {
     "data": {
      "application/vnd.plotly.v1+json": {
       "config": {
        "linkText": "Export to plot.ly",
        "plotlyServerURL": "https://plot.ly",
        "showLink": true
       },
       "data": [
        {
         "marker": {
          "color": "rgba(255, 153, 51, 1.0)",
          "line": {
           "width": 1.3
          },
          "opacity": 0.8,
          "size": 12,
          "symbol": "circle"
         },
         "mode": "markers",
         "name": "jespere/expres/unknown/tite/35/ipad/eme/relâche/top1/chiants/libres/europeans/investit/usualsuspects/davoir/néant/mariages/clinique/scandaleux/hallucinant/josefine/taule/mylène/mouchoirs/🇪/forts/malédiction/mounet/impôt/🇸/union/od/refusé/animes/gouffre/keufs/glr/chips/fallu/nah/jambon/bouh/grotte/sénat/pseudos/etaient/hac/lazare/cou/attitude/parlementaire/irrespectueux/dégradé/nain/friendzone/pl/audace/jambon/autorité/puisqu/abandonne/bonus/enregistre/insultes/chaines/laaaaa/véritable/salles/steak/formule/lignes/applis/🔵/algerie/sentie/�/🇵/paradise/pédophile/ch/solitude/fesse/1500/honnêtes/jmet/mmmh/opposition/cliqué/soja/george/levé/she/dictionnaire/foutais/agenda/emmerdale/boo/connecté/permanente/côtoie",
         "text": [
          "jespere",
          "expres",
          "unknown",
          "tite",
          "35",
          "ipad",
          "eme",
          "relâche",
          "top1",
          "chiants",
          "libres",
          "europeans",
          "investit",
          "usualsuspects",
          "davoir",
          "néant",
          "mariages",
          "clinique",
          "scandaleux",
          "hallucinant",
          "josefine",
          "taule",
          "mylène",
          "mouchoirs",
          "🇪",
          "forts",
          "malédiction",
          "mounet",
          "impôt",
          "🇸",
          "union",
          "od",
          "refusé",
          "animes",
          "gouffre",
          "keufs",
          "glr",
          "chips",
          "fallu",
          "nah",
          "jambon",
          "bouh",
          "grotte",
          "sénat",
          "pseudos",
          "etaient",
          "hac",
          "lazare",
          "cou",
          "attitude",
          "parlementaire",
          "irrespectueux",
          "dégradé",
          "nain",
          "friendzone",
          "pl",
          "audace",
          "jambon",
          "autorité",
          "puisqu",
          "abandonne",
          "bonus",
          "enregistre",
          "insultes",
          "chaines",
          "laaaaa",
          "véritable",
          "salles",
          "steak",
          "formule",
          "lignes",
          "applis",
          "🔵",
          "algerie",
          "sentie",
          "�",
          "🇵",
          "paradise",
          "pédophile",
          "ch",
          "solitude",
          "fesse",
          "1500",
          "honnêtes",
          "jmet",
          "mmmh",
          "opposition",
          "cliqué",
          "soja",
          "george",
          "levé",
          "she",
          "dictionnaire",
          "foutais",
          "agenda",
          "emmerdale",
          "boo",
          "connecté",
          "permanente",
          "côtoie"
         ],
         "textfont": {
          "color": "#4D5663"
         },
         "type": "scatter",
         "x": [
          -0.6735490560531616,
          -0.8119159936904907,
          -0.8627287149429321,
          -0.800986111164093,
          -0.7967817187309265,
          -0.8782400488853455,
          -0.7173550724983215,
          -0.7713148593902588,
          -0.8267043828964233,
          -0.7191380858421326,
          -0.8327794075012207,
          -0.7051346302032471,
          -0.8558638691902161,
          -0.7882832288742065,
          -0.7999577522277832,
          -0.8154935836791992,
          -0.8025188446044922,
          -0.8399642705917358,
          -0.6884769797325134,
          -0.72506183385849,
          -0.7369727492332458,
          -0.8237969875335693,
          -0.8360413908958435,
          -0.8318094611167908,
          -0.8781030178070068,
          -0.634397029876709,
          -0.8135523796081543,
          -0.8233906030654907,
          -0.8347151875495911,
          -0.878262460231781,
          -0.8187656402587891,
          -0.802998960018158,
          -0.7188587784767151,
          -0.8542786836624146,
          -0.8200209140777588,
          -0.8327654004096985,
          -0.843136727809906,
          -0.7542569041252136,
          -0.7490503191947937,
          -0.7471146583557129,
          -0.8162432312965393,
          -0.8425508141517639,
          -0.8290771842002869,
          -0.8122138381004333,
          -0.8786196708679199,
          -0.8511765003204346,
          -0.8996107578277588,
          -0.8628772497177124,
          -0.6692646145820618,
          -0.8049983382225037,
          -0.8379352688789368,
          -0.7812201380729675,
          -0.8755566477775574,
          -0.7841218709945679,
          -0.7664468884468079,
          -0.6944783926010132,
          -0.7431758642196655,
          -0.8162432312965393,
          -0.8402037620544434,
          -0.8065566420555115,
          -0.7241706848144531,
          -0.7794356942176819,
          -0.8293253183364868,
          -0.6958268880844116,
          -0.8160391449928284,
          -0.8236587643623352,
          -0.7516438364982605,
          -0.7641815543174744,
          -0.7858660817146301,
          -0.7785190343856812,
          -0.7931344509124756,
          -0.8584279417991638,
          -0.9849237203598022,
          -0.8719170093536377,
          -0.7500668168067932,
          -0.808174729347229,
          -0.8205680847167969,
          -0.8060123324394226,
          -0.7530907988548279,
          -0.8033297657966614,
          -0.6627390384674072,
          -0.8820253610610962,
          -0.8381236791610718,
          -0.7852298617362976,
          -0.765911340713501,
          -0.7961180210113525,
          -0.7832891941070557,
          -0.7641444802284241,
          -0.8768916726112366,
          -0.8473287224769592,
          -0.5009194612503052,
          -0.8378835320472717,
          -0.7880480289459229,
          -0.7759892344474792,
          -0.8382037281990051,
          -0.8798553347587585,
          -0.8754883408546448,
          -0.6748512387275696,
          -0.8282073736190796,
          -0.8504041433334351
         ],
         "y": [
          -0.17351000010967255,
          -0.25913944840431213,
          -0.23184414207935333,
          -0.016022326424717903,
          -0.149631530046463,
          -0.33052435517311096,
          -0.12190428376197815,
          -0.25593963265419006,
          -0.2673812806606293,
          -0.18516480922698975,
          -0.2339053899049759,
          -0.0436752624809742,
          -0.29170656204223633,
          -0.31073424220085144,
          -0.21865448355674744,
          -0.32191795110702515,
          -0.3487592339515686,
          -0.21757544577121735,
          -0.2523297369480133,
          -0.18812522292137146,
          -0.09531127661466599,
          -0.24675686657428741,
          -0.30526989698410034,
          -0.3575374484062195,
          -0.12081468105316162,
          -0.19485491514205933,
          -0.3024478852748871,
          -0.13951893150806427,
          -0.25363507866859436,
          -0.06567171216011047,
          -0.2765025496482849,
          -0.3225030303001404,
          -0.13900110125541687,
          -0.27486422657966614,
          -0.37350037693977356,
          -0.2988832890987396,
          -0.2746196389198303,
          -0.20210084319114685,
          -0.3767491579055786,
          -0.28871941566467285,
          -0.2625485062599182,
          -0.30341199040412903,
          -0.2937410771846771,
          -0.31416675448417664,
          -0.3455272614955902,
          -0.16178928315639496,
          -0.3257165253162384,
          -0.23007740080356598,
          -0.1900867521762848,
          -0.19406215846538544,
          -0.23713655769824982,
          -0.27506256103515625,
          -0.321725994348526,
          -0.3045424818992615,
          -0.30854201316833496,
          -0.19891567528247833,
          -0.257016658782959,
          -0.2625485062599182,
          -0.25764983892440796,
          -0.21980364620685577,
          -0.16841338574886322,
          -0.20545370876789093,
          -0.2659655809402466,
          -0.3571496307849884,
          -0.23926128447055817,
          -0.17978520691394806,
          -0.15031209588050842,
          -0.1593443900346756,
          -0.23138587176799774,
          -0.21943998336791992,
          -0.2352474182844162,
          -0.3554268479347229,
          -0.03675292804837227,
          -0.2748795449733734,
          -0.2784728705883026,
          -0.2616111934185028,
          -0.15777839720249176,
          -0.26952099800109863,
          -0.21493011713027954,
          -0.24130022525787354,
          -0.15851707756519318,
          -0.23098737001419067,
          -0.22475220263004303,
          -0.2874436676502228,
          -0.17967770993709564,
          -0.3381645083427429,
          -0.16529743373394012,
          -0.3733084797859192,
          -0.2638857364654541,
          -0.34237805008888245,
          -0.15591108798980713,
          -0.311930388212204,
          -0.3545137643814087,
          -0.36238133907318115,
          -0.2964438199996948,
          -0.32728350162506104,
          -0.2718801200389862,
          -0.1863069087266922,
          -0.32809820771217346,
          -0.3326510488986969
         ]
        },
        {
         "marker": {
          "color": "rgba(55, 128, 191, 1.0)",
          "line": {
           "width": 1.3
          },
          "opacity": 0.8,
          "size": 12,
          "symbol": "circle"
         },
         "mode": "markers",
         "name": "jvoulais/vérifier/réflexion/ha/ajouter/solo/entrain/🇫/impressionnant/neige/gère/taff/passion/mens/nez/comptes/back/carrière/😞/sophie/permis/termine/journal/dise/marie/raclette/crise/croit/règles/choqué/rencontrer/touche/mdrrrrrr/octobre/uniquement/alexia/tente/vélo/naze/28/jalouse/tente/goûts/position/saisons/entretien/clé/inverse/sud/japonais/bienvenue/rendent/madame/gestion/victoire/tain/regardant/échec/🌹/gouvernement/souris/suisse/ramener/🤞/svt/plaindre/✊/refuse/actuellement/étude/merciiiii/lyon/bjr/tg/trous/bouffer/familles/choquée/90/fatiguée/lapin/payé/🤙/regrette/sah/expérience/zéro/manga/batterie/charge/al/sales/calmer/kiffé/😰/13/animal/2e/réveille/3h",
         "text": [
          "jvoulais",
          "vérifier",
          "réflexion",
          "ha",
          "ajouter",
          "solo",
          "entrain",
          "🇫",
          "impressionnant",
          "neige",
          "gère",
          "taff",
          "passion",
          "mens",
          "nez",
          "comptes",
          "back",
          "carrière",
          "😞",
          "sophie",
          "permis",
          "termine",
          "journal",
          "dise",
          "marie",
          "raclette",
          "crise",
          "croit",
          "règles",
          "choqué",
          "rencontrer",
          "touche",
          "mdrrrrrr",
          "octobre",
          "uniquement",
          "alexia",
          "tente",
          "vélo",
          "naze",
          "28",
          "jalouse",
          "tente",
          "goûts",
          "position",
          "saisons",
          "entretien",
          "clé",
          "inverse",
          "sud",
          "japonais",
          "bienvenue",
          "rendent",
          "madame",
          "gestion",
          "victoire",
          "tain",
          "regardant",
          "échec",
          "🌹",
          "gouvernement",
          "souris",
          "suisse",
          "ramener",
          "🤞",
          "svt",
          "plaindre",
          "✊",
          "refuse",
          "actuellement",
          "étude",
          "merciiiii",
          "lyon",
          "bjr",
          "tg",
          "trous",
          "bouffer",
          "familles",
          "choquée",
          "90",
          "fatiguée",
          "lapin",
          "payé",
          "🤙",
          "regrette",
          "sah",
          "expérience",
          "zéro",
          "manga",
          "batterie",
          "charge",
          "al",
          "sales",
          "calmer",
          "kiffé",
          "😰",
          "13",
          "animal",
          "2e",
          "réveille",
          "3h"
         ],
         "textfont": {
          "color": "#4D5663"
         },
         "type": "scatter",
         "x": [
          -0.3474491834640503,
          -0.5445776581764221,
          -0.531626284122467,
          0.4461246430873871,
          -0.672752320766449,
          -0.3503201901912689,
          -0.1099238246679306,
          -0.8500336408615112,
          -0.5456370115280151,
          -0.31954944133758545,
          -0.651684045791626,
          -0.4516347050666809,
          -0.5569658279418945,
          -0.843386173248291,
          -0.6176682710647583,
          -0.7322406768798828,
          -0.7154555320739746,
          -0.5746068954467773,
          -0.6085328459739685,
          -0.7771535515785217,
          -0.20404094457626343,
          -0.40880101919174194,
          -0.7451756000518799,
          -0.3988509178161621,
          -0.4923408031463623,
          -0.5265990495681763,
          -0.4565685987472534,
          -0.2601836323738098,
          -0.47868970036506653,
          -0.04693431779742241,
          -0.5391892790794373,
          -0.014150160364806652,
          -0.20485657453536987,
          -0.5266513824462891,
          -0.5899971723556519,
          -0.7817225456237793,
          -0.7562924027442932,
          -0.6879386901855469,
          -0.46213340759277344,
          -0.4616183340549469,
          -0.3435654938220978,
          -0.7562924027442932,
          -0.6924078464508057,
          -0.6320415139198303,
          -0.5316488146781921,
          -0.7393722534179688,
          -0.7409005165100098,
          -0.17552629113197327,
          -0.6563630104064941,
          -0.6811727285385132,
          -0.7435100674629211,
          -0.6493566036224365,
          -0.33151063323020935,
          -0.7797375917434692,
          -0.5838029384613037,
          -0.5884065628051758,
          -0.6368849873542786,
          -0.5696411728858948,
          -1.3640110492706299,
          -0.4294689893722534,
          -0.6713026762008667,
          -0.6267789006233215,
          -0.7294718623161316,
          -1.0351618528366089,
          -0.6082505583763123,
          -0.2617555856704712,
          -0.9289414286613464,
          -0.6503404378890991,
          -0.15445849299430847,
          -0.671278715133667,
          -0.6802147626876831,
          -0.6671767830848694,
          -0.5749208331108093,
          -0.22120049595832825,
          -0.6714047789573669,
          -0.3646300733089447,
          -0.9054970741271973,
          0.028375567868351936,
          -0.4738757312297821,
          0.7236953973770142,
          -0.7542374134063721,
          -0.2150437831878662,
          -1.0513197183609009,
          -0.4172435998916626,
          0.02141929604113102,
          -0.7376881837844849,
          -0.5215378999710083,
          -0.5044288635253906,
          -0.5000647902488708,
          -0.6744996309280396,
          -0.5627573132514954,
          -0.7824622988700867,
          -0.29734623432159424,
          -0.42251056432724,
          -0.44354248046875,
          -0.2720378637313843,
          -0.7311429977416992,
          -0.3836268484592438,
          0.10109403729438782,
          -0.47135037183761597
         ],
         "y": [
          0.11017248779535294,
          -0.12323622405529022,
          -0.1839265078306198,
          -0.12236800044775009,
          -0.18812070786952972,
          0.12111468613147736,
          0.5988604426383972,
          0.06188720837235451,
          -0.11473209410905838,
          0.6740168929100037,
          -0.06610970199108124,
          0.0565192885696888,
          0.0016403259942308068,
          -0.19122299551963806,
          -0.13637682795524597,
          -0.41914522647857666,
          -0.10317445546388626,
          0.2585585415363312,
          0.06686311215162277,
          -0.02578119933605194,
          -0.30649441480636597,
          -0.15035556256771088,
          -0.08950434625148773,
          -0.21847620606422424,
          -0.056917496025562286,
          0.028866130858659744,
          0.2779381573200226,
          0.5574682354927063,
          -0.4158702492713928,
          0.09289643168449402,
          -0.1486697494983673,
          -0.23433126509189606,
          -0.0533609464764595,
          0.07097732275724411,
          0.07289620488882065,
          -0.02802741713821888,
          0.02644393779337406,
          0.0619293637573719,
          -0.15500310063362122,
          0.1264050304889679,
          0.0842936784029007,
          0.02644393779337406,
          -0.17909161746501923,
          0.10810042917728424,
          -0.15411868691444397,
          0.08067723363637924,
          -0.09180674701929092,
          -0.11095429956912994,
          0.10590162873268127,
          -0.0332932211458683,
          -0.14672094583511353,
          -0.040266506373882294,
          0.024449585005640984,
          0.024985989555716515,
          0.09607686847448349,
          -0.2069299966096878,
          -0.22564393281936646,
          0.28617072105407715,
          0.44465917348861694,
          -0.10146193206310272,
          -0.10287874937057495,
          -0.18262827396392822,
          -0.17691463232040405,
          0.2010023146867752,
          -0.09862521290779114,
          -0.37049809098243713,
          0.01717706397175789,
          0.08272147178649902,
          0.1873101443052292,
          0.05270874500274658,
          -0.1557214856147766,
          0.14889666438102722,
          -0.1649322658777237,
          -0.16579635441303253,
          -0.19953565299510956,
          -0.18178951740264893,
          -0.1483512669801712,
          0.11597615480422974,
          0.09199432283639908,
          0.5580479502677917,
          -0.24977542459964752,
          -0.13436754047870636,
          0.20000997185707092,
          0.1973312944173813,
          0.1522931009531021,
          -0.053777050226926804,
          0.2619372308254242,
          0.028426511213183403,
          0.039760880172252655,
          -0.029027100652456284,
          0.024454493075609207,
          -0.2323288470506668,
          -0.31621670722961426,
          -0.17475390434265137,
          0.11863382905721664,
          0.24192370474338531,
          -0.06819064915180206,
          0.23168586194515228,
          -0.2870817482471466,
          0.16766154766082764
         ]
        },
        {
         "marker": {
          "color": "rgba(50, 171, 96, 1.0)",
          "line": {
           "width": 1.3
          },
          "opacity": 0.8,
          "size": 12,
          "symbol": "circle"
         },
         "mode": "markers",
         "name": "ligne/bravo/in/aujourdhui/rend/nan/pire/chaque/ya/change/mdrrr/😆/connais/clairement/an/min/pourtant/écouter/magnifique/o/force/doigts/perso/complètement/grand/content/elles/ptn/tl/inquiète/tt/filles/hyper/no/😪/facile/ailleurs/grande/putain/pense/super/savez/🤔/autant/mdrrrr/sortie/partie/moment/bonjour/vos/tf1/verra/😢/dois/eux/génial/faites/gars/pcq/coup/quelques/laisser/contente/serai/jeux/hyper/stage/aurait/chaud/joue/janvier/trucs/😔/heureux/quelle/change/chat/peur/jui/réponse/heureuse/sport/eu/parti/pire/corps/15/stp/the/quel/semaine/maison/porte/8/bac/changé/vrais/ahah/😩/allez",
         "text": [
          "ligne",
          "bravo",
          "in",
          "aujourdhui",
          "rend",
          "nan",
          "pire",
          "chaque",
          "ya",
          "change",
          "mdrrr",
          "😆",
          "connais",
          "clairement",
          "an",
          "min",
          "pourtant",
          "écouter",
          "magnifique",
          "o",
          "force",
          "doigts",
          "perso",
          "complètement",
          "grand",
          "content",
          "elles",
          "ptn",
          "tl",
          "inquiète",
          "tt",
          "filles",
          "hyper",
          "no",
          "😪",
          "facile",
          "ailleurs",
          "grande",
          "putain",
          "pense",
          "super",
          "savez",
          "🤔",
          "autant",
          "mdrrrr",
          "sortie",
          "partie",
          "moment",
          "bonjour",
          "vos",
          "tf1",
          "verra",
          "😢",
          "dois",
          "eux",
          "génial",
          "faites",
          "gars",
          "pcq",
          "coup",
          "quelques",
          "laisser",
          "contente",
          "serai",
          "jeux",
          "hyper",
          "stage",
          "aurait",
          "chaud",
          "joue",
          "janvier",
          "trucs",
          "😔",
          "heureux",
          "quelle",
          "change",
          "chat",
          "peur",
          "jui",
          "réponse",
          "heureuse",
          "sport",
          "eu",
          "parti",
          "pire",
          "corps",
          "15",
          "stp",
          "the",
          "quel",
          "semaine",
          "maison",
          "porte",
          "8",
          "bac",
          "changé",
          "vrais",
          "ahah",
          "😩",
          "allez"
         ],
         "textfont": {
          "color": "#4D5663"
         },
         "type": "scatter",
         "x": [
          -0.661498486995697,
          -0.5097955465316772,
          -0.9063833951950073,
          0.6044430136680603,
          0.7827959060668945,
          1.987378478050232,
          1.7117395401000977,
          0.14222553372383118,
          0.619554877281189,
          -0.013766639865934849,
          1.3167152404785156,
          -0.2635253369808197,
          -0.10139239579439163,
          1.1431790590286255,
          -0.3510540723800659,
          -0.41133445501327515,
          0.6046872735023499,
          -0.007271267008036375,
          -0.039109449833631516,
          0.023646121844649315,
          -0.3574637472629547,
          -0.4649263322353363,
          0.795911431312561,
          0.02965882234275341,
          -0.05540984496474266,
          0.5104109048843384,
          3.10912823677063,
          1.2493659257888794,
          -0.2667127549648285,
          -0.3808648884296417,
          0.45446261763572693,
          -0.41509270668029785,
          0.9791378974914551,
          0.008711199276149273,
          -0.3384973704814911,
          0.47543537616729736,
          -0.01507160346955061,
          -0.25992828607559204,
          1.3925451040267944,
          0.8786144256591797,
          0.9286067485809326,
          0.3225769102573395,
          0.7510813474655151,
          1.0175727605819702,
          1.2648683786392212,
          -0.35560911893844604,
          -0.1528165638446808,
          1.2109442949295044,
          -0.6134981513023376,
          -2.4641757011413574,
          -0.20222577452659607,
          -0.07898920774459839,
          -0.10272999852895737,
          -0.0019678673706948757,
          -0.4262155294418335,
          0.5001243352890015,
          0.6072752475738525,
          0.9560728073120117,
          0.7447607517242432,
          0.3558882176876068,
          0.058044202625751495,
          0.061556898057460785,
          0.7214488983154297,
          -0.1466679722070694,
          -0.5474304556846619,
          0.9791378974914551,
          -0.5137766599655151,
          0.991052508354187,
          1.0789629220962524,
          -0.6342837810516357,
          0.7275750637054443,
          -0.14111939072608948,
          -0.18595123291015625,
          0.2928939163684845,
          -0.8361362814903259,
          -0.013766639865934849,
          -0.7380412817001343,
          1.52414870262146,
          0.5391969680786133,
          -0.24028904736042023,
          0.49302658438682556,
          -0.38198086619377136,
          0.25108981132507324,
          0.3348310589790344,
          1.7117395401000977,
          -0.39387649297714233,
          -0.03646175190806389,
          -0.2472853809595108,
          -1.3838227987289429,
          -0.720333456993103,
          0.9467935562133789,
          -0.1851675659418106,
          -0.3585498332977295,
          -0.30894625186920166,
          -0.019243283197283745,
          -0.37614700198173523,
          0.06963954865932465,
          0.3896939158439636,
          -0.43641024827957153,
          0.17248639464378357
         ],
         "y": [
          0.2646504342556,
          -0.3111039102077484,
          0.5575864315032959,
          0.19379563629627228,
          -0.372664213180542,
          7.112372986739501e-05,
          0.07692204415798187,
          -0.030841827392578125,
          -0.029861275106668472,
          0.23694583773612976,
          -0.272871732711792,
          0.5156629085540771,
          -0.22114910185337067,
          0.4307212829589844,
          -0.009280504658818245,
          0.3484801948070526,
          -0.05121318995952606,
          0.1198110356926918,
          0.12406691163778305,
          0.2878340184688568,
          -0.33421313762664795,
          -0.3272857964038849,
          -0.4249997138977051,
          0.15169939398765564,
          0.11544139683246613,
          0.2600669264793396,
          -0.7294601798057556,
          0.2510761022567749,
          0.06616098433732986,
          -0.32960638403892517,
          -0.3648475110530853,
          -0.5714481472969055,
          0.31072476506233215,
          0.15177878737449646,
          0.3059591054916382,
          0.2266429215669632,
          1.199184775352478,
          0.8780966401100159,
          0.19722938537597656,
          0.572391152381897,
          -0.2895640432834625,
          -0.3980158567428589,
          0.4180653393268585,
          0.3590172231197357,
          -0.3309022784233093,
          0.16417592763900757,
          0.40776923298835754,
          -0.04429039731621742,
          -0.891735315322876,
          -0.13643154501914978,
          0.29097503423690796,
          1.18412446975708,
          0.8214837312698364,
          0.5727196335792542,
          0.032072219997644424,
          -0.13950949907302856,
          -1.1594123840332031,
          -1.4036595821380615,
          0.21359609067440033,
          0.17040768265724182,
          0.5087757110595703,
          0.03760497272014618,
          1.026400089263916,
          0.2168382853269577,
          -0.13930198550224304,
          0.31072476506233215,
          0.07871850579977036,
          2.5925705432891846,
          0.46851152181625366,
          0.9106618165969849,
          -0.0662282332777977,
          -0.6111074686050415,
          0.1486574113368988,
          0.5470450520515442,
          1.8024051189422607,
          0.23694583773612976,
          -0.5128276348114014,
          0.08646918088197708,
          0.3316199779510498,
          -0.12199530005455017,
          0.6701611280441284,
          0.37626132369041443,
          -1.1071065664291382,
          0.27463382482528687,
          0.07692204415798187,
          -0.6642648577690125,
          0.4609217941761017,
          -0.027304286137223244,
          1.061560034751892,
          -0.9237641096115112,
          1.254247784614563,
          0.503879964351654,
          0.04257353022694588,
          0.12626896798610687,
          0.1437412053346634,
          -0.49742963910102844,
          -0.47111380100250244,
          -0.2679347097873688,
          0.6201401352882385,
          0.5905035138130188
         ]
        },
        {
         "marker": {
          "color": "rgba(128, 0, 128, 1.0)",
          "line": {
           "width": 1.3
          },
          "opacity": 0.8,
          "size": 12,
          "symbol": "circle"
         },
         "mode": "markers",
         "name": "pour/qui/😭/vu/mal/y/te/faire/qui/lui/fais/ça/qu/elle/est/ou/toujours/vrai/comme/fais/me/moi/donc/comment/es/sur/faut/rien/comme/d/vous/alors/m/️/à/trop/ma/dire/sur/mal/jamais/merci/s/mdr/lowfrequencyword/bien/temps/voir/lui/y/2/vous/ta/bon/on/donc/ton/ta/peut/aime/être/envie/2/que/ont/rien/sa/ne/nous/avoir/on/ai/vie/que/très/donc/vais/être/dire/ne/bonne/sont/alors/qu/j/nickname/là/ca/va/encore/sais/tous/moi/temps/mes/après/rien/sur/plus/avoir",
         "text": [
          "pour",
          "qui",
          "😭",
          "vu",
          "mal",
          "y",
          "te",
          "faire",
          "qui",
          "lui",
          "fais",
          "ça",
          "qu",
          "elle",
          "est",
          "ou",
          "toujours",
          "vrai",
          "comme",
          "fais",
          "me",
          "moi",
          "donc",
          "comment",
          "es",
          "sur",
          "faut",
          "rien",
          "comme",
          "d",
          "vous",
          "alors",
          "m",
          "️",
          "à",
          "trop",
          "ma",
          "dire",
          "sur",
          "mal",
          "jamais",
          "merci",
          "s",
          "mdr",
          "lowfrequencyword",
          "bien",
          "temps",
          "voir",
          "lui",
          "y",
          "2",
          "vous",
          "ta",
          "bon",
          "on",
          "donc",
          "ton",
          "ta",
          "peut",
          "aime",
          "être",
          "envie",
          "2",
          "que",
          "ont",
          "rien",
          "sa",
          "ne",
          "nous",
          "avoir",
          "on",
          "ai",
          "vie",
          "que",
          "très",
          "donc",
          "vais",
          "être",
          "dire",
          "ne",
          "bonne",
          "sont",
          "alors",
          "qu",
          "j",
          "nickname",
          "là",
          "ca",
          "va",
          "encore",
          "sais",
          "tous",
          "moi",
          "temps",
          "mes",
          "après",
          "rien",
          "sur",
          "plus",
          "avoir"
         ],
         "textfont": {
          "color": "#4D5663"
         },
         "type": "scatter",
         "x": [
          0.47270575165748596,
          3.5620357990264893,
          0.998752236366272,
          1.1436527967453003,
          2.262387752532959,
          1.7549152374267578,
          -0.587982714176178,
          1.4682753086090088,
          3.5620357990264893,
          -0.07506997138261795,
          0.0597572922706604,
          4.9716877937316895,
          3.9938862323760986,
          5.014385223388672,
          0.7955570816993713,
          -0.02849624678492546,
          1.4029226303100586,
          2.152686595916748,
          0.35404035449028015,
          0.0597572922706604,
          0.6387196779251099,
          -0.779234766960144,
          1.6265919208526611,
          2.2418935298919678,
          -1.9965797662734985,
          -1.2447906732559204,
          2.118441581726074,
          1.8422067165374756,
          0.35404035449028015,
          -0.30332043766975403,
          -2.868201732635498,
          1.1930830478668213,
          -0.45443570613861084,
          -4.682267665863037,
          1.0229483842849731,
          2.836608648300171,
          -2.9901740550994873,
          3.136627435684204,
          -1.2447906732559204,
          2.262387752532959,
          2.31842041015625,
          -2.7813942432403564,
          1.192344069480896,
          1.8617265224456787,
          -0.4889702796936035,
          2.708815336227417,
          1.7143456935882568,
          0.6526600122451782,
          -0.07506997138261795,
          1.7549152374267578,
          0.5774134397506714,
          -2.868201732635498,
          -1.9636198282241821,
          0.38122615218162537,
          5.612062931060791,
          1.6265919208526611,
          -3.707303285598755,
          -1.9636198282241821,
          3.09440016746521,
          -0.8092551827430725,
          2.95447039604187,
          1.0525492429733276,
          0.5774134397506714,
          3.057901620864868,
          0.6745009422302246,
          1.8422067165374756,
          0.4904617965221405,
          5.00033712387085,
          -1.724804401397705,
          0.33757248520851135,
          5.612062931060791,
          1.1275582313537598,
          1.5802054405212402,
          3.057901620864868,
          2.224060535430908,
          1.6265919208526611,
          0.8946954607963562,
          2.95447039604187,
          3.136627435684204,
          5.00033712387085,
          -1.2047607898712158,
          0.007868453860282898,
          1.1930830478668213,
          3.9938862323760986,
          4.819099426269531,
          0.9482234120368958,
          1.88917875289917,
          4.0607757568359375,
          1.5527994632720947,
          2.5565025806427,
          1.3052304983139038,
          -0.14379912614822388,
          -0.779234766960144,
          1.7143456935882568,
          -2.342153549194336,
          1.2504945993423462,
          1.8422067165374756,
          -1.2447906732559204,
          3.716823101043701,
          0.33757248520851135
         ],
         "y": [
          -0.3923738896846771,
          -3.0565638542175293,
          -0.36206677556037903,
          -2.3481881618499756,
          0.1206561028957367,
          -2.3342292308807373,
          1.87886643409729,
          -2.2308316230773926,
          -3.0565638542175293,
          0.31271278858184814,
          -2.81607723236084,
          -0.4674908518791199,
          1.8255523443222046,
          -0.6522632837295532,
          3.4662623405456543,
          -0.6171573996543884,
          -0.11925465613603592,
          -0.07623971998691559,
          -0.8667818903923035,
          -2.81607723236084,
          2.8574397563934326,
          -1.0129470825195312,
          0.27979010343551636,
          0.25864964723587036,
          -0.7333627939224243,
          -1.5165704488754272,
          1.9319418668746948,
          0.8992365002632141,
          -0.8667818903923035,
          0.47203806042671204,
          0.005889791063964367,
          -0.37327393889427185,
          -1.53249990940094,
          -1.587010383605957,
          0.6335105895996094,
          0.27583813667297363,
          5.131085395812988,
          -2.3776392936706543,
          -1.5165704488754272,
          0.1206561028957367,
          0.07096916437149048,
          -0.7923687100410461,
          2.0164687633514404,
          -0.3713604509830475,
          -0.3765091896057129,
          -0.46973323822021484,
          0.21205435693264008,
          -1.6709609031677246,
          0.31271278858184814,
          -2.3342292308807373,
          0.49930042028427124,
          0.005889791063964367,
          3.044461488723755,
          -0.6696638464927673,
          -1.6387107372283936,
          0.27979010343551636,
          -2.2260382175445557,
          3.044461488723755,
          4.29532527923584,
          -0.1671939194202423,
          2.9832980632781982,
          1.20729398727417,
          0.49930042028427124,
          -2.2197248935699463,
          2.8767220973968506,
          0.8992365002632141,
          3.2142858505249023,
          1.2240856885910034,
          1.3266801834106445,
          0.8452202677726746,
          -1.6387107372283936,
          1.438939094543457,
          0.48359349370002747,
          -2.2197248935699463,
          0.5333893299102783,
          0.27979010343551636,
          3.04318904876709,
          2.9832980632781982,
          -2.3776392936706543,
          1.2240856885910034,
          2.741823673248291,
          1.8508692979812622,
          -0.37327393889427185,
          1.8255523443222046,
          -4.007364749908447,
          -0.7283744215965271,
          0.06277434527873993,
          -0.35391974449157715,
          3.627514362335205,
          0.5204145312309265,
          1.0822763442993164,
          -1.2225348949432373,
          -1.0129470825195312,
          0.21205435693264008,
          0.05678911879658699,
          0.5675206780433655,
          0.8992365002632141,
          -1.5165704488754272,
          0.34548041224479675,
          0.8452202677726746
         ]
        }
       ],
       "layout": {
        "legend": {
         "bgcolor": "#F5F6F9",
         "font": {
          "color": "#4D5663"
         }
        },
        "paper_bgcolor": "#F5F6F9",
        "plot_bgcolor": "#F5F6F9",
        "template": {
         "data": {
          "bar": [
           {
            "error_x": {
             "color": "#2a3f5f"
            },
            "error_y": {
             "color": "#2a3f5f"
            },
            "marker": {
             "line": {
              "color": "#E5ECF6",
              "width": 0.5
             }
            },
            "type": "bar"
           }
          ],
          "barpolar": [
           {
            "marker": {
             "line": {
              "color": "#E5ECF6",
              "width": 0.5
             }
            },
            "type": "barpolar"
           }
          ],
          "carpet": [
           {
            "aaxis": {
             "endlinecolor": "#2a3f5f",
             "gridcolor": "white",
             "linecolor": "white",
             "minorgridcolor": "white",
             "startlinecolor": "#2a3f5f"
            },
            "baxis": {
             "endlinecolor": "#2a3f5f",
             "gridcolor": "white",
             "linecolor": "white",
             "minorgridcolor": "white",
             "startlinecolor": "#2a3f5f"
            },
            "type": "carpet"
           }
          ],
          "choropleth": [
           {
            "colorbar": {
             "outlinewidth": 0,
             "ticks": ""
            },
            "type": "choropleth"
           }
          ],
          "contour": [
           {
            "colorbar": {
             "outlinewidth": 0,
             "ticks": ""
            },
            "colorscale": [
             [
              0,
              "#0d0887"
             ],
             [
              0.1111111111111111,
              "#46039f"
             ],
             [
              0.2222222222222222,
              "#7201a8"
             ],
             [
              0.3333333333333333,
              "#9c179e"
             ],
             [
              0.4444444444444444,
              "#bd3786"
             ],
             [
              0.5555555555555556,
              "#d8576b"
             ],
             [
              0.6666666666666666,
              "#ed7953"
             ],
             [
              0.7777777777777778,
              "#fb9f3a"
             ],
             [
              0.8888888888888888,
              "#fdca26"
             ],
             [
              1,
              "#f0f921"
             ]
            ],
            "type": "contour"
           }
          ],
          "contourcarpet": [
           {
            "colorbar": {
             "outlinewidth": 0,
             "ticks": ""
            },
            "type": "contourcarpet"
           }
          ],
          "heatmap": [
           {
            "colorbar": {
             "outlinewidth": 0,
             "ticks": ""
            },
            "colorscale": [
             [
              0,
              "#0d0887"
             ],
             [
              0.1111111111111111,
              "#46039f"
             ],
             [
              0.2222222222222222,
              "#7201a8"
             ],
             [
              0.3333333333333333,
              "#9c179e"
             ],
             [
              0.4444444444444444,
              "#bd3786"
             ],
             [
              0.5555555555555556,
              "#d8576b"
             ],
             [
              0.6666666666666666,
              "#ed7953"
             ],
             [
              0.7777777777777778,
              "#fb9f3a"
             ],
             [
              0.8888888888888888,
              "#fdca26"
             ],
             [
              1,
              "#f0f921"
             ]
            ],
            "type": "heatmap"
           }
          ],
          "heatmapgl": [
           {
            "colorbar": {
             "outlinewidth": 0,
             "ticks": ""
            },
            "colorscale": [
             [
              0,
              "#0d0887"
             ],
             [
              0.1111111111111111,
              "#46039f"
             ],
             [
              0.2222222222222222,
              "#7201a8"
             ],
             [
              0.3333333333333333,
              "#9c179e"
             ],
             [
              0.4444444444444444,
              "#bd3786"
             ],
             [
              0.5555555555555556,
              "#d8576b"
             ],
             [
              0.6666666666666666,
              "#ed7953"
             ],
             [
              0.7777777777777778,
              "#fb9f3a"
             ],
             [
              0.8888888888888888,
              "#fdca26"
             ],
             [
              1,
              "#f0f921"
             ]
            ],
            "type": "heatmapgl"
           }
          ],
          "histogram": [
           {
            "marker": {
             "colorbar": {
              "outlinewidth": 0,
              "ticks": ""
             }
            },
            "type": "histogram"
           }
          ],
          "histogram2d": [
           {
            "colorbar": {
             "outlinewidth": 0,
             "ticks": ""
            },
            "colorscale": [
             [
              0,
              "#0d0887"
             ],
             [
              0.1111111111111111,
              "#46039f"
             ],
             [
              0.2222222222222222,
              "#7201a8"
             ],
             [
              0.3333333333333333,
              "#9c179e"
             ],
             [
              0.4444444444444444,
              "#bd3786"
             ],
             [
              0.5555555555555556,
              "#d8576b"
             ],
             [
              0.6666666666666666,
              "#ed7953"
             ],
             [
              0.7777777777777778,
              "#fb9f3a"
             ],
             [
              0.8888888888888888,
              "#fdca26"
             ],
             [
              1,
              "#f0f921"
             ]
            ],
            "type": "histogram2d"
           }
          ],
          "histogram2dcontour": [
           {
            "colorbar": {
             "outlinewidth": 0,
             "ticks": ""
            },
            "colorscale": [
             [
              0,
              "#0d0887"
             ],
             [
              0.1111111111111111,
              "#46039f"
             ],
             [
              0.2222222222222222,
              "#7201a8"
             ],
             [
              0.3333333333333333,
              "#9c179e"
             ],
             [
              0.4444444444444444,
              "#bd3786"
             ],
             [
              0.5555555555555556,
              "#d8576b"
             ],
             [
              0.6666666666666666,
              "#ed7953"
             ],
             [
              0.7777777777777778,
              "#fb9f3a"
             ],
             [
              0.8888888888888888,
              "#fdca26"
             ],
             [
              1,
              "#f0f921"
             ]
            ],
            "type": "histogram2dcontour"
           }
          ],
          "mesh3d": [
           {
            "colorbar": {
             "outlinewidth": 0,
             "ticks": ""
            },
            "type": "mesh3d"
           }
          ],
          "parcoords": [
           {
            "line": {
             "colorbar": {
              "outlinewidth": 0,
              "ticks": ""
             }
            },
            "type": "parcoords"
           }
          ],
          "pie": [
           {
            "automargin": true,
            "type": "pie"
           }
          ],
          "scatter": [
           {
            "marker": {
             "colorbar": {
              "outlinewidth": 0,
              "ticks": ""
             }
            },
            "type": "scatter"
           }
          ],
          "scatter3d": [
           {
            "line": {
             "colorbar": {
              "outlinewidth": 0,
              "ticks": ""
             }
            },
            "marker": {
             "colorbar": {
              "outlinewidth": 0,
              "ticks": ""
             }
            },
            "type": "scatter3d"
           }
          ],
          "scattercarpet": [
           {
            "marker": {
             "colorbar": {
              "outlinewidth": 0,
              "ticks": ""
             }
            },
            "type": "scattercarpet"
           }
          ],
          "scattergeo": [
           {
            "marker": {
             "colorbar": {
              "outlinewidth": 0,
              "ticks": ""
             }
            },
            "type": "scattergeo"
           }
          ],
          "scattergl": [
           {
            "marker": {
             "colorbar": {
              "outlinewidth": 0,
              "ticks": ""
             }
            },
            "type": "scattergl"
           }
          ],
          "scattermapbox": [
           {
            "marker": {
             "colorbar": {
              "outlinewidth": 0,
              "ticks": ""
             }
            },
            "type": "scattermapbox"
           }
          ],
          "scatterpolar": [
           {
            "marker": {
             "colorbar": {
              "outlinewidth": 0,
              "ticks": ""
             }
            },
            "type": "scatterpolar"
           }
          ],
          "scatterpolargl": [
           {
            "marker": {
             "colorbar": {
              "outlinewidth": 0,
              "ticks": ""
             }
            },
            "type": "scatterpolargl"
           }
          ],
          "scatterternary": [
           {
            "marker": {
             "colorbar": {
              "outlinewidth": 0,
              "ticks": ""
             }
            },
            "type": "scatterternary"
           }
          ],
          "surface": [
           {
            "colorbar": {
             "outlinewidth": 0,
             "ticks": ""
            },
            "colorscale": [
             [
              0,
              "#0d0887"
             ],
             [
              0.1111111111111111,
              "#46039f"
             ],
             [
              0.2222222222222222,
              "#7201a8"
             ],
             [
              0.3333333333333333,
              "#9c179e"
             ],
             [
              0.4444444444444444,
              "#bd3786"
             ],
             [
              0.5555555555555556,
              "#d8576b"
             ],
             [
              0.6666666666666666,
              "#ed7953"
             ],
             [
              0.7777777777777778,
              "#fb9f3a"
             ],
             [
              0.8888888888888888,
              "#fdca26"
             ],
             [
              1,
              "#f0f921"
             ]
            ],
            "type": "surface"
           }
          ],
          "table": [
           {
            "cells": {
             "fill": {
              "color": "#EBF0F8"
             },
             "line": {
              "color": "white"
             }
            },
            "header": {
             "fill": {
              "color": "#C8D4E3"
             },
             "line": {
              "color": "white"
             }
            },
            "type": "table"
           }
          ]
         },
         "layout": {
          "annotationdefaults": {
           "arrowcolor": "#2a3f5f",
           "arrowhead": 0,
           "arrowwidth": 1
          },
          "coloraxis": {
           "colorbar": {
            "outlinewidth": 0,
            "ticks": ""
           }
          },
          "colorscale": {
           "diverging": [
            [
             0,
             "#8e0152"
            ],
            [
             0.1,
             "#c51b7d"
            ],
            [
             0.2,
             "#de77ae"
            ],
            [
             0.3,
             "#f1b6da"
            ],
            [
             0.4,
             "#fde0ef"
            ],
            [
             0.5,
             "#f7f7f7"
            ],
            [
             0.6,
             "#e6f5d0"
            ],
            [
             0.7,
             "#b8e186"
            ],
            [
             0.8,
             "#7fbc41"
            ],
            [
             0.9,
             "#4d9221"
            ],
            [
             1,
             "#276419"
            ]
           ],
           "sequential": [
            [
             0,
             "#0d0887"
            ],
            [
             0.1111111111111111,
             "#46039f"
            ],
            [
             0.2222222222222222,
             "#7201a8"
            ],
            [
             0.3333333333333333,
             "#9c179e"
            ],
            [
             0.4444444444444444,
             "#bd3786"
            ],
            [
             0.5555555555555556,
             "#d8576b"
            ],
            [
             0.6666666666666666,
             "#ed7953"
            ],
            [
             0.7777777777777778,
             "#fb9f3a"
            ],
            [
             0.8888888888888888,
             "#fdca26"
            ],
            [
             1,
             "#f0f921"
            ]
           ],
           "sequentialminus": [
            [
             0,
             "#0d0887"
            ],
            [
             0.1111111111111111,
             "#46039f"
            ],
            [
             0.2222222222222222,
             "#7201a8"
            ],
            [
             0.3333333333333333,
             "#9c179e"
            ],
            [
             0.4444444444444444,
             "#bd3786"
            ],
            [
             0.5555555555555556,
             "#d8576b"
            ],
            [
             0.6666666666666666,
             "#ed7953"
            ],
            [
             0.7777777777777778,
             "#fb9f3a"
            ],
            [
             0.8888888888888888,
             "#fdca26"
            ],
            [
             1,
             "#f0f921"
            ]
           ]
          },
          "colorway": [
           "#636efa",
           "#EF553B",
           "#00cc96",
           "#ab63fa",
           "#FFA15A",
           "#19d3f3",
           "#FF6692",
           "#B6E880",
           "#FF97FF",
           "#FECB52"
          ],
          "font": {
           "color": "#2a3f5f"
          },
          "geo": {
           "bgcolor": "white",
           "lakecolor": "white",
           "landcolor": "#E5ECF6",
           "showlakes": true,
           "showland": true,
           "subunitcolor": "white"
          },
          "hoverlabel": {
           "align": "left"
          },
          "hovermode": "closest",
          "mapbox": {
           "style": "light"
          },
          "paper_bgcolor": "white",
          "plot_bgcolor": "#E5ECF6",
          "polar": {
           "angularaxis": {
            "gridcolor": "white",
            "linecolor": "white",
            "ticks": ""
           },
           "bgcolor": "#E5ECF6",
           "radialaxis": {
            "gridcolor": "white",
            "linecolor": "white",
            "ticks": ""
           }
          },
          "scene": {
           "xaxis": {
            "backgroundcolor": "#E5ECF6",
            "gridcolor": "white",
            "gridwidth": 2,
            "linecolor": "white",
            "showbackground": true,
            "ticks": "",
            "zerolinecolor": "white"
           },
           "yaxis": {
            "backgroundcolor": "#E5ECF6",
            "gridcolor": "white",
            "gridwidth": 2,
            "linecolor": "white",
            "showbackground": true,
            "ticks": "",
            "zerolinecolor": "white"
           },
           "zaxis": {
            "backgroundcolor": "#E5ECF6",
            "gridcolor": "white",
            "gridwidth": 2,
            "linecolor": "white",
            "showbackground": true,
            "ticks": "",
            "zerolinecolor": "white"
           }
          },
          "shapedefaults": {
           "line": {
            "color": "#2a3f5f"
           }
          },
          "ternary": {
           "aaxis": {
            "gridcolor": "white",
            "linecolor": "white",
            "ticks": ""
           },
           "baxis": {
            "gridcolor": "white",
            "linecolor": "white",
            "ticks": ""
           },
           "bgcolor": "#E5ECF6",
           "caxis": {
            "gridcolor": "white",
            "linecolor": "white",
            "ticks": ""
           }
          },
          "title": {
           "x": 0.05
          },
          "xaxis": {
           "automargin": true,
           "gridcolor": "white",
           "linecolor": "white",
           "ticks": "",
           "title": {
            "standoff": 15
           },
           "zerolinecolor": "white",
           "zerolinewidth": 2
          },
          "yaxis": {
           "automargin": true,
           "gridcolor": "white",
           "linecolor": "white",
           "ticks": "",
           "title": {
            "standoff": 15
           },
           "zerolinecolor": "white",
           "zerolinewidth": 2
          }
         }
        },
        "title": {
         "font": {
          "color": "#4D5663"
         },
         "text": "ACP en 2 composantes"
        },
        "xaxis": {
         "gridcolor": "#E1E5ED",
         "showgrid": true,
         "tickfont": {
          "color": "#4D5663"
         },
         "title": {
          "font": {
           "color": "#4D5663"
          },
          "text": "Axe 1"
         },
         "zerolinecolor": "#E1E5ED"
        },
        "yaxis": {
         "gridcolor": "#E1E5ED",
         "showgrid": true,
         "tickfont": {
          "color": "#4D5663"
         },
         "title": {
          "font": {
           "color": "#4D5663"
          },
          "text": "Axe 2"
         },
         "zerolinecolor": "#E1E5ED"
        }
       }
      },
      "text/html": [
       "<div>\n",
       "        \n",
       "        \n",
       "            <div id=\"8d502d0f-163e-4150-a920-0a6cfcef14e8\" class=\"plotly-graph-div\" style=\"height:525px; width:100%;\"></div>\n",
       "            <script type=\"text/javascript\">\n",
       "                require([\"plotly\"], function(Plotly) {\n",
       "                    window.PLOTLYENV=window.PLOTLYENV || {};\n",
       "                    window.PLOTLYENV.BASE_URL='https://plot.ly';\n",
       "                    \n",
       "                if (document.getElementById(\"8d502d0f-163e-4150-a920-0a6cfcef14e8\")) {\n",
       "                    Plotly.newPlot(\n",
       "                        '8d502d0f-163e-4150-a920-0a6cfcef14e8',\n",
       "                        [{\"marker\": {\"color\": \"rgba(255, 153, 51, 1.0)\", \"line\": {\"width\": 1.3}, \"opacity\": 0.8, \"size\": 12, \"symbol\": \"circle\"}, \"mode\": \"markers\", \"name\": \"jespere/expres/unknown/tite/35/ipad/eme/rel\\u00e2che/top1/chiants/libres/europeans/investit/usualsuspects/davoir/n\\u00e9ant/mariages/clinique/scandaleux/hallucinant/josefine/taule/myl\\u00e8ne/mouchoirs/\\ud83c\\uddea/forts/mal\\u00e9diction/mounet/imp\\u00f4t/\\ud83c\\uddf8/union/od/refus\\u00e9/animes/gouffre/keufs/glr/chips/fallu/nah/jambon/bouh/grotte/s\\u00e9nat/pseudos/etaient/hac/lazare/cou/attitude/parlementaire/irrespectueux/d\\u00e9grad\\u00e9/nain/friendzone/pl/audace/jambon/autorit\\u00e9/puisqu/abandonne/bonus/enregistre/insultes/chaines/laaaaa/v\\u00e9ritable/salles/steak/formule/lignes/applis/\\ud83d\\udd35/algerie/sentie/\\ufffd/\\ud83c\\uddf5/paradise/p\\u00e9dophile/ch/solitude/fesse/1500/honn\\u00eates/jmet/mmmh/opposition/cliqu\\u00e9/soja/george/lev\\u00e9/she/dictionnaire/foutais/agenda/emmerdale/boo/connect\\u00e9/permanente/c\\u00f4toie\", \"text\": [\"jespere\", \"expres\", \"unknown\", \"tite\", \"35\", \"ipad\", \"eme\", \"rel\\u00e2che\", \"top1\", \"chiants\", \"libres\", \"europeans\", \"investit\", \"usualsuspects\", \"davoir\", \"n\\u00e9ant\", \"mariages\", \"clinique\", \"scandaleux\", \"hallucinant\", \"josefine\", \"taule\", \"myl\\u00e8ne\", \"mouchoirs\", \"\\ud83c\\uddea\", \"forts\", \"mal\\u00e9diction\", \"mounet\", \"imp\\u00f4t\", \"\\ud83c\\uddf8\", \"union\", \"od\", \"refus\\u00e9\", \"animes\", \"gouffre\", \"keufs\", \"glr\", \"chips\", \"fallu\", \"nah\", \"jambon\", \"bouh\", \"grotte\", \"s\\u00e9nat\", \"pseudos\", \"etaient\", \"hac\", \"lazare\", \"cou\", \"attitude\", \"parlementaire\", \"irrespectueux\", \"d\\u00e9grad\\u00e9\", \"nain\", \"friendzone\", \"pl\", \"audace\", \"jambon\", \"autorit\\u00e9\", \"puisqu\", \"abandonne\", \"bonus\", \"enregistre\", \"insultes\", \"chaines\", \"laaaaa\", \"v\\u00e9ritable\", \"salles\", \"steak\", \"formule\", \"lignes\", \"applis\", \"\\ud83d\\udd35\", \"algerie\", \"sentie\", \"\\ufffd\", \"\\ud83c\\uddf5\", \"paradise\", \"p\\u00e9dophile\", \"ch\", \"solitude\", \"fesse\", \"1500\", \"honn\\u00eates\", \"jmet\", \"mmmh\", \"opposition\", \"cliqu\\u00e9\", \"soja\", \"george\", \"lev\\u00e9\", \"she\", \"dictionnaire\", \"foutais\", \"agenda\", \"emmerdale\", \"boo\", \"connect\\u00e9\", \"permanente\", \"c\\u00f4toie\"], \"textfont\": {\"color\": \"#4D5663\"}, \"type\": \"scatter\", \"x\": [-0.6735490560531616, -0.8119159936904907, -0.8627287149429321, -0.800986111164093, -0.7967817187309265, -0.8782400488853455, -0.7173550724983215, -0.7713148593902588, -0.8267043828964233, -0.7191380858421326, -0.8327794075012207, -0.7051346302032471, -0.8558638691902161, -0.7882832288742065, -0.7999577522277832, -0.8154935836791992, -0.8025188446044922, -0.8399642705917358, -0.6884769797325134, -0.72506183385849, -0.7369727492332458, -0.8237969875335693, -0.8360413908958435, -0.8318094611167908, -0.8781030178070068, -0.634397029876709, -0.8135523796081543, -0.8233906030654907, -0.8347151875495911, -0.878262460231781, -0.8187656402587891, -0.802998960018158, -0.7188587784767151, -0.8542786836624146, -0.8200209140777588, -0.8327654004096985, -0.843136727809906, -0.7542569041252136, -0.7490503191947937, -0.7471146583557129, -0.8162432312965393, -0.8425508141517639, -0.8290771842002869, -0.8122138381004333, -0.8786196708679199, -0.8511765003204346, -0.8996107578277588, -0.8628772497177124, -0.6692646145820618, -0.8049983382225037, -0.8379352688789368, -0.7812201380729675, -0.8755566477775574, -0.7841218709945679, -0.7664468884468079, -0.6944783926010132, -0.7431758642196655, -0.8162432312965393, -0.8402037620544434, -0.8065566420555115, -0.7241706848144531, -0.7794356942176819, -0.8293253183364868, -0.6958268880844116, -0.8160391449928284, -0.8236587643623352, -0.7516438364982605, -0.7641815543174744, -0.7858660817146301, -0.7785190343856812, -0.7931344509124756, -0.8584279417991638, -0.9849237203598022, -0.8719170093536377, -0.7500668168067932, -0.808174729347229, -0.8205680847167969, -0.8060123324394226, -0.7530907988548279, -0.8033297657966614, -0.6627390384674072, -0.8820253610610962, -0.8381236791610718, -0.7852298617362976, -0.765911340713501, -0.7961180210113525, -0.7832891941070557, -0.7641444802284241, -0.8768916726112366, -0.8473287224769592, -0.5009194612503052, -0.8378835320472717, -0.7880480289459229, -0.7759892344474792, -0.8382037281990051, -0.8798553347587585, -0.8754883408546448, -0.6748512387275696, -0.8282073736190796, -0.8504041433334351], \"y\": [-0.17351000010967255, -0.25913944840431213, -0.23184414207935333, -0.016022326424717903, -0.149631530046463, -0.33052435517311096, -0.12190428376197815, -0.25593963265419006, -0.2673812806606293, -0.18516480922698975, -0.2339053899049759, -0.0436752624809742, -0.29170656204223633, -0.31073424220085144, -0.21865448355674744, -0.32191795110702515, -0.3487592339515686, -0.21757544577121735, -0.2523297369480133, -0.18812522292137146, -0.09531127661466599, -0.24675686657428741, -0.30526989698410034, -0.3575374484062195, -0.12081468105316162, -0.19485491514205933, -0.3024478852748871, -0.13951893150806427, -0.25363507866859436, -0.06567171216011047, -0.2765025496482849, -0.3225030303001404, -0.13900110125541687, -0.27486422657966614, -0.37350037693977356, -0.2988832890987396, -0.2746196389198303, -0.20210084319114685, -0.3767491579055786, -0.28871941566467285, -0.2625485062599182, -0.30341199040412903, -0.2937410771846771, -0.31416675448417664, -0.3455272614955902, -0.16178928315639496, -0.3257165253162384, -0.23007740080356598, -0.1900867521762848, -0.19406215846538544, -0.23713655769824982, -0.27506256103515625, -0.321725994348526, -0.3045424818992615, -0.30854201316833496, -0.19891567528247833, -0.257016658782959, -0.2625485062599182, -0.25764983892440796, -0.21980364620685577, -0.16841338574886322, -0.20545370876789093, -0.2659655809402466, -0.3571496307849884, -0.23926128447055817, -0.17978520691394806, -0.15031209588050842, -0.1593443900346756, -0.23138587176799774, -0.21943998336791992, -0.2352474182844162, -0.3554268479347229, -0.03675292804837227, -0.2748795449733734, -0.2784728705883026, -0.2616111934185028, -0.15777839720249176, -0.26952099800109863, -0.21493011713027954, -0.24130022525787354, -0.15851707756519318, -0.23098737001419067, -0.22475220263004303, -0.2874436676502228, -0.17967770993709564, -0.3381645083427429, -0.16529743373394012, -0.3733084797859192, -0.2638857364654541, -0.34237805008888245, -0.15591108798980713, -0.311930388212204, -0.3545137643814087, -0.36238133907318115, -0.2964438199996948, -0.32728350162506104, -0.2718801200389862, -0.1863069087266922, -0.32809820771217346, -0.3326510488986969]}, {\"marker\": {\"color\": \"rgba(55, 128, 191, 1.0)\", \"line\": {\"width\": 1.3}, \"opacity\": 0.8, \"size\": 12, \"symbol\": \"circle\"}, \"mode\": \"markers\", \"name\": \"jvoulais/v\\u00e9rifier/r\\u00e9flexion/ha/ajouter/solo/entrain/\\ud83c\\uddeb/impressionnant/neige/g\\u00e8re/taff/passion/mens/nez/comptes/back/carri\\u00e8re/\\ud83d\\ude1e/sophie/permis/termine/journal/dise/marie/raclette/crise/croit/r\\u00e8gles/choqu\\u00e9/rencontrer/touche/mdrrrrrr/octobre/uniquement/alexia/tente/v\\u00e9lo/naze/28/jalouse/tente/go\\u00fbts/position/saisons/entretien/cl\\u00e9/inverse/sud/japonais/bienvenue/rendent/madame/gestion/victoire/tain/regardant/\\u00e9chec/\\ud83c\\udf39/gouvernement/souris/suisse/ramener/\\ud83e\\udd1e/svt/plaindre/\\u270a/refuse/actuellement/\\u00e9tude/merciiiii/lyon/bjr/tg/trous/bouffer/familles/choqu\\u00e9e/90/fatigu\\u00e9e/lapin/pay\\u00e9/\\ud83e\\udd19/regrette/sah/exp\\u00e9rience/z\\u00e9ro/manga/batterie/charge/al/sales/calmer/kiff\\u00e9/\\ud83d\\ude30/13/animal/2e/r\\u00e9veille/3h\", \"text\": [\"jvoulais\", \"v\\u00e9rifier\", \"r\\u00e9flexion\", \"ha\", \"ajouter\", \"solo\", \"entrain\", \"\\ud83c\\uddeb\", \"impressionnant\", \"neige\", \"g\\u00e8re\", \"taff\", \"passion\", \"mens\", \"nez\", \"comptes\", \"back\", \"carri\\u00e8re\", \"\\ud83d\\ude1e\", \"sophie\", \"permis\", \"termine\", \"journal\", \"dise\", \"marie\", \"raclette\", \"crise\", \"croit\", \"r\\u00e8gles\", \"choqu\\u00e9\", \"rencontrer\", \"touche\", \"mdrrrrrr\", \"octobre\", \"uniquement\", \"alexia\", \"tente\", \"v\\u00e9lo\", \"naze\", \"28\", \"jalouse\", \"tente\", \"go\\u00fbts\", \"position\", \"saisons\", \"entretien\", \"cl\\u00e9\", \"inverse\", \"sud\", \"japonais\", \"bienvenue\", \"rendent\", \"madame\", \"gestion\", \"victoire\", \"tain\", \"regardant\", \"\\u00e9chec\", \"\\ud83c\\udf39\", \"gouvernement\", \"souris\", \"suisse\", \"ramener\", \"\\ud83e\\udd1e\", \"svt\", \"plaindre\", \"\\u270a\", \"refuse\", \"actuellement\", \"\\u00e9tude\", \"merciiiii\", \"lyon\", \"bjr\", \"tg\", \"trous\", \"bouffer\", \"familles\", \"choqu\\u00e9e\", \"90\", \"fatigu\\u00e9e\", \"lapin\", \"pay\\u00e9\", \"\\ud83e\\udd19\", \"regrette\", \"sah\", \"exp\\u00e9rience\", \"z\\u00e9ro\", \"manga\", \"batterie\", \"charge\", \"al\", \"sales\", \"calmer\", \"kiff\\u00e9\", \"\\ud83d\\ude30\", \"13\", \"animal\", \"2e\", \"r\\u00e9veille\", \"3h\"], \"textfont\": {\"color\": \"#4D5663\"}, \"type\": \"scatter\", \"x\": [-0.3474491834640503, -0.5445776581764221, -0.531626284122467, 0.4461246430873871, -0.672752320766449, -0.3503201901912689, -0.1099238246679306, -0.8500336408615112, -0.5456370115280151, -0.31954944133758545, -0.651684045791626, -0.4516347050666809, -0.5569658279418945, -0.843386173248291, -0.6176682710647583, -0.7322406768798828, -0.7154555320739746, -0.5746068954467773, -0.6085328459739685, -0.7771535515785217, -0.20404094457626343, -0.40880101919174194, -0.7451756000518799, -0.3988509178161621, -0.4923408031463623, -0.5265990495681763, -0.4565685987472534, -0.2601836323738098, -0.47868970036506653, -0.04693431779742241, -0.5391892790794373, -0.014150160364806652, -0.20485657453536987, -0.5266513824462891, -0.5899971723556519, -0.7817225456237793, -0.7562924027442932, -0.6879386901855469, -0.46213340759277344, -0.4616183340549469, -0.3435654938220978, -0.7562924027442932, -0.6924078464508057, -0.6320415139198303, -0.5316488146781921, -0.7393722534179688, -0.7409005165100098, -0.17552629113197327, -0.6563630104064941, -0.6811727285385132, -0.7435100674629211, -0.6493566036224365, -0.33151063323020935, -0.7797375917434692, -0.5838029384613037, -0.5884065628051758, -0.6368849873542786, -0.5696411728858948, -1.3640110492706299, -0.4294689893722534, -0.6713026762008667, -0.6267789006233215, -0.7294718623161316, -1.0351618528366089, -0.6082505583763123, -0.2617555856704712, -0.9289414286613464, -0.6503404378890991, -0.15445849299430847, -0.671278715133667, -0.6802147626876831, -0.6671767830848694, -0.5749208331108093, -0.22120049595832825, -0.6714047789573669, -0.3646300733089447, -0.9054970741271973, 0.028375567868351936, -0.4738757312297821, 0.7236953973770142, -0.7542374134063721, -0.2150437831878662, -1.0513197183609009, -0.4172435998916626, 0.02141929604113102, -0.7376881837844849, -0.5215378999710083, -0.5044288635253906, -0.5000647902488708, -0.6744996309280396, -0.5627573132514954, -0.7824622988700867, -0.29734623432159424, -0.42251056432724, -0.44354248046875, -0.2720378637313843, -0.7311429977416992, -0.3836268484592438, 0.10109403729438782, -0.47135037183761597], \"y\": [0.11017248779535294, -0.12323622405529022, -0.1839265078306198, -0.12236800044775009, -0.18812070786952972, 0.12111468613147736, 0.5988604426383972, 0.06188720837235451, -0.11473209410905838, 0.6740168929100037, -0.06610970199108124, 0.0565192885696888, 0.0016403259942308068, -0.19122299551963806, -0.13637682795524597, -0.41914522647857666, -0.10317445546388626, 0.2585585415363312, 0.06686311215162277, -0.02578119933605194, -0.30649441480636597, -0.15035556256771088, -0.08950434625148773, -0.21847620606422424, -0.056917496025562286, 0.028866130858659744, 0.2779381573200226, 0.5574682354927063, -0.4158702492713928, 0.09289643168449402, -0.1486697494983673, -0.23433126509189606, -0.0533609464764595, 0.07097732275724411, 0.07289620488882065, -0.02802741713821888, 0.02644393779337406, 0.0619293637573719, -0.15500310063362122, 0.1264050304889679, 0.0842936784029007, 0.02644393779337406, -0.17909161746501923, 0.10810042917728424, -0.15411868691444397, 0.08067723363637924, -0.09180674701929092, -0.11095429956912994, 0.10590162873268127, -0.0332932211458683, -0.14672094583511353, -0.040266506373882294, 0.024449585005640984, 0.024985989555716515, 0.09607686847448349, -0.2069299966096878, -0.22564393281936646, 0.28617072105407715, 0.44465917348861694, -0.10146193206310272, -0.10287874937057495, -0.18262827396392822, -0.17691463232040405, 0.2010023146867752, -0.09862521290779114, -0.37049809098243713, 0.01717706397175789, 0.08272147178649902, 0.1873101443052292, 0.05270874500274658, -0.1557214856147766, 0.14889666438102722, -0.1649322658777237, -0.16579635441303253, -0.19953565299510956, -0.18178951740264893, -0.1483512669801712, 0.11597615480422974, 0.09199432283639908, 0.5580479502677917, -0.24977542459964752, -0.13436754047870636, 0.20000997185707092, 0.1973312944173813, 0.1522931009531021, -0.053777050226926804, 0.2619372308254242, 0.028426511213183403, 0.039760880172252655, -0.029027100652456284, 0.024454493075609207, -0.2323288470506668, -0.31621670722961426, -0.17475390434265137, 0.11863382905721664, 0.24192370474338531, -0.06819064915180206, 0.23168586194515228, -0.2870817482471466, 0.16766154766082764]}, {\"marker\": {\"color\": \"rgba(50, 171, 96, 1.0)\", \"line\": {\"width\": 1.3}, \"opacity\": 0.8, \"size\": 12, \"symbol\": \"circle\"}, \"mode\": \"markers\", \"name\": \"ligne/bravo/in/aujourdhui/rend/nan/pire/chaque/ya/change/mdrrr/\\ud83d\\ude06/connais/clairement/an/min/pourtant/\\u00e9couter/magnifique/o/force/doigts/perso/compl\\u00e8tement/grand/content/elles/ptn/tl/inqui\\u00e8te/tt/filles/hyper/no/\\ud83d\\ude2a/facile/ailleurs/grande/putain/pense/super/savez/\\ud83e\\udd14/autant/mdrrrr/sortie/partie/moment/bonjour/vos/tf1/verra/\\ud83d\\ude22/dois/eux/g\\u00e9nial/faites/gars/pcq/coup/quelques/laisser/contente/serai/jeux/hyper/stage/aurait/chaud/joue/janvier/trucs/\\ud83d\\ude14/heureux/quelle/change/chat/peur/jui/r\\u00e9ponse/heureuse/sport/eu/parti/pire/corps/15/stp/the/quel/semaine/maison/porte/8/bac/chang\\u00e9/vrais/ahah/\\ud83d\\ude29/allez\", \"text\": [\"ligne\", \"bravo\", \"in\", \"aujourdhui\", \"rend\", \"nan\", \"pire\", \"chaque\", \"ya\", \"change\", \"mdrrr\", \"\\ud83d\\ude06\", \"connais\", \"clairement\", \"an\", \"min\", \"pourtant\", \"\\u00e9couter\", \"magnifique\", \"o\", \"force\", \"doigts\", \"perso\", \"compl\\u00e8tement\", \"grand\", \"content\", \"elles\", \"ptn\", \"tl\", \"inqui\\u00e8te\", \"tt\", \"filles\", \"hyper\", \"no\", \"\\ud83d\\ude2a\", \"facile\", \"ailleurs\", \"grande\", \"putain\", \"pense\", \"super\", \"savez\", \"\\ud83e\\udd14\", \"autant\", \"mdrrrr\", \"sortie\", \"partie\", \"moment\", \"bonjour\", \"vos\", \"tf1\", \"verra\", \"\\ud83d\\ude22\", \"dois\", \"eux\", \"g\\u00e9nial\", \"faites\", \"gars\", \"pcq\", \"coup\", \"quelques\", \"laisser\", \"contente\", \"serai\", \"jeux\", \"hyper\", \"stage\", \"aurait\", \"chaud\", \"joue\", \"janvier\", \"trucs\", \"\\ud83d\\ude14\", \"heureux\", \"quelle\", \"change\", \"chat\", \"peur\", \"jui\", \"r\\u00e9ponse\", \"heureuse\", \"sport\", \"eu\", \"parti\", \"pire\", \"corps\", \"15\", \"stp\", \"the\", \"quel\", \"semaine\", \"maison\", \"porte\", \"8\", \"bac\", \"chang\\u00e9\", \"vrais\", \"ahah\", \"\\ud83d\\ude29\", \"allez\"], \"textfont\": {\"color\": \"#4D5663\"}, \"type\": \"scatter\", \"x\": [-0.661498486995697, -0.5097955465316772, -0.9063833951950073, 0.6044430136680603, 0.7827959060668945, 1.987378478050232, 1.7117395401000977, 0.14222553372383118, 0.619554877281189, -0.013766639865934849, 1.3167152404785156, -0.2635253369808197, -0.10139239579439163, 1.1431790590286255, -0.3510540723800659, -0.41133445501327515, 0.6046872735023499, -0.007271267008036375, -0.039109449833631516, 0.023646121844649315, -0.3574637472629547, -0.4649263322353363, 0.795911431312561, 0.02965882234275341, -0.05540984496474266, 0.5104109048843384, 3.10912823677063, 1.2493659257888794, -0.2667127549648285, -0.3808648884296417, 0.45446261763572693, -0.41509270668029785, 0.9791378974914551, 0.008711199276149273, -0.3384973704814911, 0.47543537616729736, -0.01507160346955061, -0.25992828607559204, 1.3925451040267944, 0.8786144256591797, 0.9286067485809326, 0.3225769102573395, 0.7510813474655151, 1.0175727605819702, 1.2648683786392212, -0.35560911893844604, -0.1528165638446808, 1.2109442949295044, -0.6134981513023376, -2.4641757011413574, -0.20222577452659607, -0.07898920774459839, -0.10272999852895737, -0.0019678673706948757, -0.4262155294418335, 0.5001243352890015, 0.6072752475738525, 0.9560728073120117, 0.7447607517242432, 0.3558882176876068, 0.058044202625751495, 0.061556898057460785, 0.7214488983154297, -0.1466679722070694, -0.5474304556846619, 0.9791378974914551, -0.5137766599655151, 0.991052508354187, 1.0789629220962524, -0.6342837810516357, 0.7275750637054443, -0.14111939072608948, -0.18595123291015625, 0.2928939163684845, -0.8361362814903259, -0.013766639865934849, -0.7380412817001343, 1.52414870262146, 0.5391969680786133, -0.24028904736042023, 0.49302658438682556, -0.38198086619377136, 0.25108981132507324, 0.3348310589790344, 1.7117395401000977, -0.39387649297714233, -0.03646175190806389, -0.2472853809595108, -1.3838227987289429, -0.720333456993103, 0.9467935562133789, -0.1851675659418106, -0.3585498332977295, -0.30894625186920166, -0.019243283197283745, -0.37614700198173523, 0.06963954865932465, 0.3896939158439636, -0.43641024827957153, 0.17248639464378357], \"y\": [0.2646504342556, -0.3111039102077484, 0.5575864315032959, 0.19379563629627228, -0.372664213180542, 7.112372986739501e-05, 0.07692204415798187, -0.030841827392578125, -0.029861275106668472, 0.23694583773612976, -0.272871732711792, 0.5156629085540771, -0.22114910185337067, 0.4307212829589844, -0.009280504658818245, 0.3484801948070526, -0.05121318995952606, 0.1198110356926918, 0.12406691163778305, 0.2878340184688568, -0.33421313762664795, -0.3272857964038849, -0.4249997138977051, 0.15169939398765564, 0.11544139683246613, 0.2600669264793396, -0.7294601798057556, 0.2510761022567749, 0.06616098433732986, -0.32960638403892517, -0.3648475110530853, -0.5714481472969055, 0.31072476506233215, 0.15177878737449646, 0.3059591054916382, 0.2266429215669632, 1.199184775352478, 0.8780966401100159, 0.19722938537597656, 0.572391152381897, -0.2895640432834625, -0.3980158567428589, 0.4180653393268585, 0.3590172231197357, -0.3309022784233093, 0.16417592763900757, 0.40776923298835754, -0.04429039731621742, -0.891735315322876, -0.13643154501914978, 0.29097503423690796, 1.18412446975708, 0.8214837312698364, 0.5727196335792542, 0.032072219997644424, -0.13950949907302856, -1.1594123840332031, -1.4036595821380615, 0.21359609067440033, 0.17040768265724182, 0.5087757110595703, 0.03760497272014618, 1.026400089263916, 0.2168382853269577, -0.13930198550224304, 0.31072476506233215, 0.07871850579977036, 2.5925705432891846, 0.46851152181625366, 0.9106618165969849, -0.0662282332777977, -0.6111074686050415, 0.1486574113368988, 0.5470450520515442, 1.8024051189422607, 0.23694583773612976, -0.5128276348114014, 0.08646918088197708, 0.3316199779510498, -0.12199530005455017, 0.6701611280441284, 0.37626132369041443, -1.1071065664291382, 0.27463382482528687, 0.07692204415798187, -0.6642648577690125, 0.4609217941761017, -0.027304286137223244, 1.061560034751892, -0.9237641096115112, 1.254247784614563, 0.503879964351654, 0.04257353022694588, 0.12626896798610687, 0.1437412053346634, -0.49742963910102844, -0.47111380100250244, -0.2679347097873688, 0.6201401352882385, 0.5905035138130188]}, {\"marker\": {\"color\": \"rgba(128, 0, 128, 1.0)\", \"line\": {\"width\": 1.3}, \"opacity\": 0.8, \"size\": 12, \"symbol\": \"circle\"}, \"mode\": \"markers\", \"name\": \"pour/qui/\\ud83d\\ude2d/vu/mal/y/te/faire/qui/lui/fais/\\u00e7a/qu/elle/est/ou/toujours/vrai/comme/fais/me/moi/donc/comment/es/sur/faut/rien/comme/d/vous/alors/m/\\ufe0f/\\u00e0/trop/ma/dire/sur/mal/jamais/merci/s/mdr/lowfrequencyword/bien/temps/voir/lui/y/2/vous/ta/bon/on/donc/ton/ta/peut/aime/\\u00eatre/envie/2/que/ont/rien/sa/ne/nous/avoir/on/ai/vie/que/tr\\u00e8s/donc/vais/\\u00eatre/dire/ne/bonne/sont/alors/qu/j/nickname/l\\u00e0/ca/va/encore/sais/tous/moi/temps/mes/apr\\u00e8s/rien/sur/plus/avoir\", \"text\": [\"pour\", \"qui\", \"\\ud83d\\ude2d\", \"vu\", \"mal\", \"y\", \"te\", \"faire\", \"qui\", \"lui\", \"fais\", \"\\u00e7a\", \"qu\", \"elle\", \"est\", \"ou\", \"toujours\", \"vrai\", \"comme\", \"fais\", \"me\", \"moi\", \"donc\", \"comment\", \"es\", \"sur\", \"faut\", \"rien\", \"comme\", \"d\", \"vous\", \"alors\", \"m\", \"\\ufe0f\", \"\\u00e0\", \"trop\", \"ma\", \"dire\", \"sur\", \"mal\", \"jamais\", \"merci\", \"s\", \"mdr\", \"lowfrequencyword\", \"bien\", \"temps\", \"voir\", \"lui\", \"y\", \"2\", \"vous\", \"ta\", \"bon\", \"on\", \"donc\", \"ton\", \"ta\", \"peut\", \"aime\", \"\\u00eatre\", \"envie\", \"2\", \"que\", \"ont\", \"rien\", \"sa\", \"ne\", \"nous\", \"avoir\", \"on\", \"ai\", \"vie\", \"que\", \"tr\\u00e8s\", \"donc\", \"vais\", \"\\u00eatre\", \"dire\", \"ne\", \"bonne\", \"sont\", \"alors\", \"qu\", \"j\", \"nickname\", \"l\\u00e0\", \"ca\", \"va\", \"encore\", \"sais\", \"tous\", \"moi\", \"temps\", \"mes\", \"apr\\u00e8s\", \"rien\", \"sur\", \"plus\", \"avoir\"], \"textfont\": {\"color\": \"#4D5663\"}, \"type\": \"scatter\", \"x\": [0.47270575165748596, 3.5620357990264893, 0.998752236366272, 1.1436527967453003, 2.262387752532959, 1.7549152374267578, -0.587982714176178, 1.4682753086090088, 3.5620357990264893, -0.07506997138261795, 0.0597572922706604, 4.9716877937316895, 3.9938862323760986, 5.014385223388672, 0.7955570816993713, -0.02849624678492546, 1.4029226303100586, 2.152686595916748, 0.35404035449028015, 0.0597572922706604, 0.6387196779251099, -0.779234766960144, 1.6265919208526611, 2.2418935298919678, -1.9965797662734985, -1.2447906732559204, 2.118441581726074, 1.8422067165374756, 0.35404035449028015, -0.30332043766975403, -2.868201732635498, 1.1930830478668213, -0.45443570613861084, -4.682267665863037, 1.0229483842849731, 2.836608648300171, -2.9901740550994873, 3.136627435684204, -1.2447906732559204, 2.262387752532959, 2.31842041015625, -2.7813942432403564, 1.192344069480896, 1.8617265224456787, -0.4889702796936035, 2.708815336227417, 1.7143456935882568, 0.6526600122451782, -0.07506997138261795, 1.7549152374267578, 0.5774134397506714, -2.868201732635498, -1.9636198282241821, 0.38122615218162537, 5.612062931060791, 1.6265919208526611, -3.707303285598755, -1.9636198282241821, 3.09440016746521, -0.8092551827430725, 2.95447039604187, 1.0525492429733276, 0.5774134397506714, 3.057901620864868, 0.6745009422302246, 1.8422067165374756, 0.4904617965221405, 5.00033712387085, -1.724804401397705, 0.33757248520851135, 5.612062931060791, 1.1275582313537598, 1.5802054405212402, 3.057901620864868, 2.224060535430908, 1.6265919208526611, 0.8946954607963562, 2.95447039604187, 3.136627435684204, 5.00033712387085, -1.2047607898712158, 0.007868453860282898, 1.1930830478668213, 3.9938862323760986, 4.819099426269531, 0.9482234120368958, 1.88917875289917, 4.0607757568359375, 1.5527994632720947, 2.5565025806427, 1.3052304983139038, -0.14379912614822388, -0.779234766960144, 1.7143456935882568, -2.342153549194336, 1.2504945993423462, 1.8422067165374756, -1.2447906732559204, 3.716823101043701, 0.33757248520851135], \"y\": [-0.3923738896846771, -3.0565638542175293, -0.36206677556037903, -2.3481881618499756, 0.1206561028957367, -2.3342292308807373, 1.87886643409729, -2.2308316230773926, -3.0565638542175293, 0.31271278858184814, -2.81607723236084, -0.4674908518791199, 1.8255523443222046, -0.6522632837295532, 3.4662623405456543, -0.6171573996543884, -0.11925465613603592, -0.07623971998691559, -0.8667818903923035, -2.81607723236084, 2.8574397563934326, -1.0129470825195312, 0.27979010343551636, 0.25864964723587036, -0.7333627939224243, -1.5165704488754272, 1.9319418668746948, 0.8992365002632141, -0.8667818903923035, 0.47203806042671204, 0.005889791063964367, -0.37327393889427185, -1.53249990940094, -1.587010383605957, 0.6335105895996094, 0.27583813667297363, 5.131085395812988, -2.3776392936706543, -1.5165704488754272, 0.1206561028957367, 0.07096916437149048, -0.7923687100410461, 2.0164687633514404, -0.3713604509830475, -0.3765091896057129, -0.46973323822021484, 0.21205435693264008, -1.6709609031677246, 0.31271278858184814, -2.3342292308807373, 0.49930042028427124, 0.005889791063964367, 3.044461488723755, -0.6696638464927673, -1.6387107372283936, 0.27979010343551636, -2.2260382175445557, 3.044461488723755, 4.29532527923584, -0.1671939194202423, 2.9832980632781982, 1.20729398727417, 0.49930042028427124, -2.2197248935699463, 2.8767220973968506, 0.8992365002632141, 3.2142858505249023, 1.2240856885910034, 1.3266801834106445, 0.8452202677726746, -1.6387107372283936, 1.438939094543457, 0.48359349370002747, -2.2197248935699463, 0.5333893299102783, 0.27979010343551636, 3.04318904876709, 2.9832980632781982, -2.3776392936706543, 1.2240856885910034, 2.741823673248291, 1.8508692979812622, -0.37327393889427185, 1.8255523443222046, -4.007364749908447, -0.7283744215965271, 0.06277434527873993, -0.35391974449157715, 3.627514362335205, 0.5204145312309265, 1.0822763442993164, -1.2225348949432373, -1.0129470825195312, 0.21205435693264008, 0.05678911879658699, 0.5675206780433655, 0.8992365002632141, -1.5165704488754272, 0.34548041224479675, 0.8452202677726746]}],\n",
       "                        {\"legend\": {\"bgcolor\": \"#F5F6F9\", \"font\": {\"color\": \"#4D5663\"}}, \"paper_bgcolor\": \"#F5F6F9\", \"plot_bgcolor\": \"#F5F6F9\", \"template\": {\"data\": {\"bar\": [{\"error_x\": {\"color\": \"#2a3f5f\"}, \"error_y\": {\"color\": \"#2a3f5f\"}, \"marker\": {\"line\": {\"color\": \"#E5ECF6\", \"width\": 0.5}}, \"type\": \"bar\"}], \"barpolar\": [{\"marker\": {\"line\": {\"color\": \"#E5ECF6\", \"width\": 0.5}}, \"type\": \"barpolar\"}], \"carpet\": [{\"aaxis\": {\"endlinecolor\": \"#2a3f5f\", \"gridcolor\": \"white\", \"linecolor\": \"white\", \"minorgridcolor\": \"white\", \"startlinecolor\": \"#2a3f5f\"}, \"baxis\": {\"endlinecolor\": \"#2a3f5f\", \"gridcolor\": \"white\", \"linecolor\": \"white\", \"minorgridcolor\": \"white\", \"startlinecolor\": \"#2a3f5f\"}, \"type\": \"carpet\"}], \"choropleth\": [{\"colorbar\": {\"outlinewidth\": 0, \"ticks\": \"\"}, \"type\": \"choropleth\"}], \"contour\": [{\"colorbar\": {\"outlinewidth\": 0, \"ticks\": \"\"}, \"colorscale\": [[0.0, \"#0d0887\"], [0.1111111111111111, \"#46039f\"], [0.2222222222222222, \"#7201a8\"], [0.3333333333333333, \"#9c179e\"], [0.4444444444444444, \"#bd3786\"], [0.5555555555555556, \"#d8576b\"], [0.6666666666666666, \"#ed7953\"], [0.7777777777777778, \"#fb9f3a\"], [0.8888888888888888, \"#fdca26\"], [1.0, \"#f0f921\"]], \"type\": \"contour\"}], \"contourcarpet\": [{\"colorbar\": {\"outlinewidth\": 0, \"ticks\": \"\"}, \"type\": \"contourcarpet\"}], \"heatmap\": [{\"colorbar\": {\"outlinewidth\": 0, \"ticks\": \"\"}, \"colorscale\": [[0.0, \"#0d0887\"], [0.1111111111111111, \"#46039f\"], [0.2222222222222222, \"#7201a8\"], [0.3333333333333333, \"#9c179e\"], [0.4444444444444444, \"#bd3786\"], [0.5555555555555556, \"#d8576b\"], [0.6666666666666666, \"#ed7953\"], [0.7777777777777778, \"#fb9f3a\"], [0.8888888888888888, \"#fdca26\"], [1.0, \"#f0f921\"]], \"type\": \"heatmap\"}], \"heatmapgl\": [{\"colorbar\": {\"outlinewidth\": 0, \"ticks\": \"\"}, \"colorscale\": [[0.0, \"#0d0887\"], [0.1111111111111111, \"#46039f\"], [0.2222222222222222, \"#7201a8\"], [0.3333333333333333, \"#9c179e\"], [0.4444444444444444, \"#bd3786\"], [0.5555555555555556, \"#d8576b\"], [0.6666666666666666, \"#ed7953\"], [0.7777777777777778, \"#fb9f3a\"], [0.8888888888888888, \"#fdca26\"], [1.0, \"#f0f921\"]], \"type\": \"heatmapgl\"}], \"histogram\": [{\"marker\": {\"colorbar\": {\"outlinewidth\": 0, \"ticks\": \"\"}}, \"type\": \"histogram\"}], \"histogram2d\": [{\"colorbar\": {\"outlinewidth\": 0, \"ticks\": \"\"}, \"colorscale\": [[0.0, \"#0d0887\"], [0.1111111111111111, \"#46039f\"], [0.2222222222222222, \"#7201a8\"], [0.3333333333333333, \"#9c179e\"], [0.4444444444444444, \"#bd3786\"], [0.5555555555555556, \"#d8576b\"], [0.6666666666666666, \"#ed7953\"], [0.7777777777777778, \"#fb9f3a\"], [0.8888888888888888, \"#fdca26\"], [1.0, \"#f0f921\"]], \"type\": \"histogram2d\"}], \"histogram2dcontour\": [{\"colorbar\": {\"outlinewidth\": 0, \"ticks\": \"\"}, \"colorscale\": [[0.0, \"#0d0887\"], [0.1111111111111111, \"#46039f\"], [0.2222222222222222, \"#7201a8\"], [0.3333333333333333, \"#9c179e\"], [0.4444444444444444, \"#bd3786\"], [0.5555555555555556, \"#d8576b\"], [0.6666666666666666, \"#ed7953\"], [0.7777777777777778, \"#fb9f3a\"], [0.8888888888888888, \"#fdca26\"], [1.0, \"#f0f921\"]], \"type\": \"histogram2dcontour\"}], \"mesh3d\": [{\"colorbar\": {\"outlinewidth\": 0, \"ticks\": \"\"}, \"type\": \"mesh3d\"}], \"parcoords\": [{\"line\": {\"colorbar\": {\"outlinewidth\": 0, \"ticks\": \"\"}}, \"type\": \"parcoords\"}], \"pie\": [{\"automargin\": true, \"type\": \"pie\"}], \"scatter\": [{\"marker\": {\"colorbar\": {\"outlinewidth\": 0, \"ticks\": \"\"}}, \"type\": \"scatter\"}], \"scatter3d\": [{\"line\": {\"colorbar\": {\"outlinewidth\": 0, \"ticks\": \"\"}}, \"marker\": {\"colorbar\": {\"outlinewidth\": 0, \"ticks\": \"\"}}, \"type\": \"scatter3d\"}], \"scattercarpet\": [{\"marker\": {\"colorbar\": {\"outlinewidth\": 0, \"ticks\": \"\"}}, \"type\": \"scattercarpet\"}], \"scattergeo\": [{\"marker\": {\"colorbar\": {\"outlinewidth\": 0, \"ticks\": \"\"}}, \"type\": \"scattergeo\"}], \"scattergl\": [{\"marker\": {\"colorbar\": {\"outlinewidth\": 0, \"ticks\": \"\"}}, \"type\": \"scattergl\"}], \"scattermapbox\": [{\"marker\": {\"colorbar\": {\"outlinewidth\": 0, \"ticks\": \"\"}}, \"type\": \"scattermapbox\"}], \"scatterpolar\": [{\"marker\": {\"colorbar\": {\"outlinewidth\": 0, \"ticks\": \"\"}}, \"type\": \"scatterpolar\"}], \"scatterpolargl\": [{\"marker\": {\"colorbar\": {\"outlinewidth\": 0, \"ticks\": \"\"}}, \"type\": \"scatterpolargl\"}], \"scatterternary\": [{\"marker\": {\"colorbar\": {\"outlinewidth\": 0, \"ticks\": \"\"}}, \"type\": \"scatterternary\"}], \"surface\": [{\"colorbar\": {\"outlinewidth\": 0, \"ticks\": \"\"}, \"colorscale\": [[0.0, \"#0d0887\"], [0.1111111111111111, \"#46039f\"], [0.2222222222222222, \"#7201a8\"], [0.3333333333333333, \"#9c179e\"], [0.4444444444444444, \"#bd3786\"], [0.5555555555555556, \"#d8576b\"], [0.6666666666666666, \"#ed7953\"], [0.7777777777777778, \"#fb9f3a\"], [0.8888888888888888, \"#fdca26\"], [1.0, \"#f0f921\"]], \"type\": \"surface\"}], \"table\": [{\"cells\": {\"fill\": {\"color\": \"#EBF0F8\"}, \"line\": {\"color\": \"white\"}}, \"header\": {\"fill\": {\"color\": \"#C8D4E3\"}, \"line\": {\"color\": \"white\"}}, \"type\": \"table\"}]}, \"layout\": {\"annotationdefaults\": {\"arrowcolor\": \"#2a3f5f\", \"arrowhead\": 0, \"arrowwidth\": 1}, \"coloraxis\": {\"colorbar\": {\"outlinewidth\": 0, \"ticks\": \"\"}}, \"colorscale\": {\"diverging\": [[0, \"#8e0152\"], [0.1, \"#c51b7d\"], [0.2, \"#de77ae\"], [0.3, \"#f1b6da\"], [0.4, \"#fde0ef\"], [0.5, \"#f7f7f7\"], [0.6, \"#e6f5d0\"], [0.7, \"#b8e186\"], [0.8, \"#7fbc41\"], [0.9, \"#4d9221\"], [1, \"#276419\"]], \"sequential\": [[0.0, \"#0d0887\"], [0.1111111111111111, \"#46039f\"], [0.2222222222222222, \"#7201a8\"], [0.3333333333333333, \"#9c179e\"], [0.4444444444444444, \"#bd3786\"], [0.5555555555555556, \"#d8576b\"], [0.6666666666666666, \"#ed7953\"], [0.7777777777777778, \"#fb9f3a\"], [0.8888888888888888, \"#fdca26\"], [1.0, \"#f0f921\"]], \"sequentialminus\": [[0.0, \"#0d0887\"], [0.1111111111111111, \"#46039f\"], [0.2222222222222222, \"#7201a8\"], [0.3333333333333333, \"#9c179e\"], [0.4444444444444444, \"#bd3786\"], [0.5555555555555556, \"#d8576b\"], [0.6666666666666666, \"#ed7953\"], [0.7777777777777778, \"#fb9f3a\"], [0.8888888888888888, \"#fdca26\"], [1.0, \"#f0f921\"]]}, \"colorway\": [\"#636efa\", \"#EF553B\", \"#00cc96\", \"#ab63fa\", \"#FFA15A\", \"#19d3f3\", \"#FF6692\", \"#B6E880\", \"#FF97FF\", \"#FECB52\"], \"font\": {\"color\": \"#2a3f5f\"}, \"geo\": {\"bgcolor\": \"white\", \"lakecolor\": \"white\", \"landcolor\": \"#E5ECF6\", \"showlakes\": true, \"showland\": true, \"subunitcolor\": \"white\"}, \"hoverlabel\": {\"align\": \"left\"}, \"hovermode\": \"closest\", \"mapbox\": {\"style\": \"light\"}, \"paper_bgcolor\": \"white\", \"plot_bgcolor\": \"#E5ECF6\", \"polar\": {\"angularaxis\": {\"gridcolor\": \"white\", \"linecolor\": \"white\", \"ticks\": \"\"}, \"bgcolor\": \"#E5ECF6\", \"radialaxis\": {\"gridcolor\": \"white\", \"linecolor\": \"white\", \"ticks\": \"\"}}, \"scene\": {\"xaxis\": {\"backgroundcolor\": \"#E5ECF6\", \"gridcolor\": \"white\", \"gridwidth\": 2, \"linecolor\": \"white\", \"showbackground\": true, \"ticks\": \"\", \"zerolinecolor\": \"white\"}, \"yaxis\": {\"backgroundcolor\": \"#E5ECF6\", \"gridcolor\": \"white\", \"gridwidth\": 2, \"linecolor\": \"white\", \"showbackground\": true, \"ticks\": \"\", \"zerolinecolor\": \"white\"}, \"zaxis\": {\"backgroundcolor\": \"#E5ECF6\", \"gridcolor\": \"white\", \"gridwidth\": 2, \"linecolor\": \"white\", \"showbackground\": true, \"ticks\": \"\", \"zerolinecolor\": \"white\"}}, \"shapedefaults\": {\"line\": {\"color\": \"#2a3f5f\"}}, \"ternary\": {\"aaxis\": {\"gridcolor\": \"white\", \"linecolor\": \"white\", \"ticks\": \"\"}, \"baxis\": {\"gridcolor\": \"white\", \"linecolor\": \"white\", \"ticks\": \"\"}, \"bgcolor\": \"#E5ECF6\", \"caxis\": {\"gridcolor\": \"white\", \"linecolor\": \"white\", \"ticks\": \"\"}}, \"title\": {\"x\": 0.05}, \"xaxis\": {\"automargin\": true, \"gridcolor\": \"white\", \"linecolor\": \"white\", \"ticks\": \"\", \"title\": {\"standoff\": 15}, \"zerolinecolor\": \"white\", \"zerolinewidth\": 2}, \"yaxis\": {\"automargin\": true, \"gridcolor\": \"white\", \"linecolor\": \"white\", \"ticks\": \"\", \"title\": {\"standoff\": 15}, \"zerolinecolor\": \"white\", \"zerolinewidth\": 2}}}, \"title\": {\"font\": {\"color\": \"#4D5663\"}, \"text\": \"ACP en 2 composantes\"}, \"xaxis\": {\"gridcolor\": \"#E1E5ED\", \"showgrid\": true, \"tickfont\": {\"color\": \"#4D5663\"}, \"title\": {\"font\": {\"color\": \"#4D5663\"}, \"text\": \"Axe 1\"}, \"zerolinecolor\": \"#E1E5ED\"}, \"yaxis\": {\"gridcolor\": \"#E1E5ED\", \"showgrid\": true, \"tickfont\": {\"color\": \"#4D5663\"}, \"title\": {\"font\": {\"color\": \"#4D5663\"}, \"text\": \"Axe 2\"}, \"zerolinecolor\": \"#E1E5ED\"}},\n",
       "                        {\"showLink\": true, \"linkText\": \"Export to plot.ly\", \"plotlyServerURL\": \"https://plot.ly\", \"responsive\": true}\n",
       "                    ).then(function(){\n",
       "                            \n",
       "var gd = document.getElementById('8d502d0f-163e-4150-a920-0a6cfcef14e8');\n",
       "var x = new MutationObserver(function (mutations, observer) {{\n",
       "        var display = window.getComputedStyle(gd).display;\n",
       "        if (!display || display === 'none') {{\n",
       "            console.log([gd, 'removed!']);\n",
       "            Plotly.purge(gd);\n",
       "            observer.disconnect();\n",
       "        }}\n",
       "}});\n",
       "\n",
       "// Listen for the removal of the full notebook cells\n",
       "var notebookContainer = gd.closest('#notebook-container');\n",
       "if (notebookContainer) {{\n",
       "    x.observe(notebookContainer, {childList: true});\n",
       "}}\n",
       "\n",
       "// Listen for the clearing of the current output cell\n",
       "var outputEl = gd.closest('.output');\n",
       "if (outputEl) {{\n",
       "    x.observe(outputEl, {childList: true});\n",
       "}}\n",
       "\n",
       "                        })\n",
       "                };\n",
       "                });\n",
       "            </script>\n",
       "        </div>"
      ]
     },
     "metadata": {},
     "output_type": "display_data"
    }
   ],
   "source": [
    "ACP(liste2, statique = False)"
   ]
  },
  {
   "cell_type": "markdown",
   "metadata": {},
   "source": [
    "# 4. TSNE"
   ]
  },
  {
   "cell_type": "code",
   "execution_count": 50,
   "metadata": {},
   "outputs": [],
   "source": [
    "def tsne_graph(liste, statique = True, nom_couples_explicite=True):\n",
    "    liste_triee =[]\n",
    "    for couple in liste:\n",
    "        liste_triee.append([w for w in couple if w in mot_index])\n",
    "    liste_mots = [w for couple in liste_triee for w in couple]\n",
    "    df_res = pd.DataFrame.from_dict(mot_poids).transpose()\n",
    "    df_res = df_res.loc[liste_mots]\n",
    "    df_res['label'] = 'Autre' \n",
    "\n",
    "    if nom_couples_explicite:\n",
    "        for couple in liste_triee:\n",
    "            df_res.loc[couple,'label'] = '/'.join(couple)\n",
    "    else:\n",
    "        for i in range(0, len(liste_triee)):\n",
    "            df_res.loc[liste_triee[i],'label'] = \"Couple %i\" %i  \n",
    "    features = list(range(0, len(liste)))\n",
    "    # Separating out the features\n",
    "    data_x = df_res.loc[:, features].values\n",
    "    # Separating out the target\n",
    "    data_y = df_res.loc[:,['label']].values\n",
    "\n",
    "    tsne = TSNE(n_components=2, random_state=0)\n",
    "    tsne_obj= tsne.fit_transform(data_x)\n",
    "\n",
    "    test_features = [[i+1]*len(liste_triee[i]) for i in range(0, len(liste_triee))]\n",
    "    test_features = [i for f in test_features for i in f]\n",
    "    tsne_df = pd.DataFrame({'X':tsne_obj[:,0],\n",
    "                            'Y':tsne_obj[:,1],\n",
    "                           'digit':test_features})\n",
    "    tsne_df[\"legend\"] = tsne_df[\"digit\"]\n",
    "    for i in range(0,len(tsne_df)):\n",
    "        tsne_df[\"legend\"][i]= \"Couple %i\" %tsne_df[\"digit\"][i]\n",
    "    if statique:\n",
    "        fig = plt.figure(figsize = (12,8))\n",
    "        g = sns.scatterplot(x=\"X\", y=\"Y\",\n",
    "                            hue = \"legend\",\n",
    "                            data=tsne_df);\n",
    "        handles, labels = g.get_legend_handles_labels()\n",
    "        box = g.get_position()\n",
    "        g.set_position([box.x0, box.y0, box.width * 0.85, box.height]) # resize position\n",
    "\n",
    "        # Put a legend to the right side\n",
    "        g.legend(loc='center right', bbox_to_anchor=(1.3, 0.5), ncol=1,\n",
    "                 handles=handles[1:], labels=list(dict.fromkeys(tsne_df[\"legend\"])))\n",
    "    else:\n",
    "        tsne_df[\"mot\"] = liste_mots\n",
    "        cf.go_offline()\n",
    "        cf.set_config_file(offline=False, world_readable=True)\n",
    "\n",
    "        #Travailler avec sous-table sinon trop lourd\n",
    "        subFinalDf = pd.concat([tsne_df],  axis = 0)\n",
    "\n",
    "        subFinalDf.iplot(kind='scatter',\n",
    "                      mode='markers',\n",
    "                      x='X',\n",
    "                      y='Y',\n",
    "                      categories='legend',\n",
    "                      text='mot',\n",
    "                      xTitle='Axe 1',\n",
    "                      yTitle='Axe 2',\n",
    "                      title='TSNE',\n",
    "                      filename='cufflinks/simple-scatter')\n",
    "        "
   ]
  },
  {
   "cell_type": "code",
   "execution_count": 51,
   "metadata": {},
   "outputs": [
    {
     "data": {
      "image/png": "[encoded data removed]",
      "text/plain": [
       "<Figure size 864x576 with 1 Axes>"
      ]
     },
     "metadata": {
      "needs_background": "light"
     },
     "output_type": "display_data"
    }
   ],
   "source": [
    "tsne_graph(liste1, statique = True,\n",
    "           nom_couples_explicite = True) #Paramètre ne marche pas : a debuger ?"
   ]
  },
  {
   "cell_type": "code",
   "execution_count": 52,
   "metadata": {},
   "outputs": [
    {
     "data": {
      "text/html": [
       "        <script type=\"text/javascript\">\n",
       "        window.PlotlyConfig = {MathJaxConfig: 'local'};\n",
       "        if (window.MathJax) {MathJax.Hub.Config({SVG: {font: \"STIX-Web\"}});}\n",
       "        if (typeof require !== 'undefined') {\n",
       "        require.undef(\"plotly\");\n",
       "        requirejs.config({\n",
       "            paths: {\n",
       "                'plotly': ['https://cdn.plot.ly/plotly-latest.min']\n",
       "            }\n",
       "        });\n",
       "        require(['plotly'], function(Plotly) {\n",
       "            window._Plotly = Plotly;\n",
       "        });\n",
       "        }\n",
       "        </script>\n",
       "        "
      ]
     },
     "metadata": {},
     "output_type": "display_data"
    },
    {
     "name": "stderr",
     "output_type": "stream",
     "text": [
      "C:\\Users\\Kim Antunez\\Anaconda3\\lib\\site-packages\\cufflinks\\plotlytools.py:808: FutureWarning:\n",
      "\n",
      "The pandas.np module is deprecated and will be removed from pandas in a future version. Import numpy directly instead\n",
      "\n",
      "C:\\Users\\Kim Antunez\\Anaconda3\\lib\\site-packages\\cufflinks\\plotlytools.py:811: FutureWarning:\n",
      "\n",
      "The pandas.np module is deprecated and will be removed from pandas in a future version. Import numpy directly instead\n",
      "\n"
     ]
    },
    {
     "data": {
      "application/vnd.plotly.v1+json": {
       "config": {
        "linkText": "Export to plot.ly",
        "plotlyServerURL": "https://plot.ly",
        "showLink": true
       },
       "data": [
        {
         "marker": {
          "color": "rgba(255, 153, 51, 1.0)",
          "line": {
           "width": 1.3
          },
          "opacity": 0.8,
          "size": 12,
          "symbol": "circle"
         },
         "mode": "markers",
         "name": "Couple 1",
         "text": [
          "poli",
          "bonjour",
          "salut"
         ],
         "textfont": {
          "color": "#4D5663"
         },
         "type": "scatter",
         "x": [
          86.1192398071289,
          -111.10275268554688,
          74.39786529541016
         ],
         "y": [
          25.505949020385742,
          -9.470207214355469,
          60.72257614135742
         ]
        },
        {
         "marker": {
          "color": "rgba(55, 128, 191, 1.0)",
          "line": {
           "width": 1.3
          },
          "opacity": 0.8,
          "size": 12,
          "symbol": "circle"
         },
         "mode": "markers",
         "name": "Couple 2",
         "text": [
          "canapé",
          "fauteuil",
          "table",
          "chaise"
         ],
         "textfont": {
          "color": "#4D5663"
         },
         "type": "scatter",
         "x": [
          45.75590133666992,
          -46.64400863647461,
          -14.682404518127441,
          15.791946411132812
         ],
         "y": [
          -44.13343048095703,
          -26.27421760559082,
          -30.113414764404297,
          -37.94044876098633
         ]
        },
        {
         "marker": {
          "color": "rgba(50, 171, 96, 1.0)",
          "line": {
           "width": 1.3
          },
          "opacity": 0.8,
          "size": 12,
          "symbol": "circle"
         },
         "mode": "markers",
         "name": "Couple 3",
         "text": [
          "téléphone",
          "portable",
          "numéro",
          "appel"
         ],
         "textfont": {
          "color": "#4D5663"
         },
         "type": "scatter",
         "x": [
          8.120458602905273,
          -5.8857879638671875,
          -3.784364700317383,
          13.698201179504395
         ],
         "y": [
          102.51602172851562,
          17.676189422607422,
          -62.36500549316406,
          39.18897247314453
         ]
        },
        {
         "marker": {
          "color": "rgba(128, 0, 128, 1.0)",
          "line": {
           "width": 1.3
          },
          "opacity": 0.8,
          "size": 12,
          "symbol": "circle"
         },
         "mode": "markers",
         "name": "Couple 4",
         "text": [
          "voiture",
          "camion",
          "vélo",
          "train"
         ],
         "textfont": {
          "color": "#4D5663"
         },
         "type": "scatter",
         "x": [
          -11.538195610046387,
          57.278297424316406,
          6.339993000030518,
          -143.2991180419922
         ],
         "y": [
          -98.29264068603516,
          12.035053253173828,
          -8.63914966583252,
          31.53646469116211
         ]
        },
        {
         "marker": {
          "color": "rgba(219, 64, 82, 1.0)",
          "line": {
           "width": 1.3
          },
          "opacity": 0.8,
          "size": 12,
          "symbol": "circle"
         },
         "mode": "markers",
         "name": "Couple 5",
         "text": [
          "beau",
          "mignon",
          "bg",
          "mannequin"
         ],
         "textfont": {
          "color": "#4D5663"
         },
         "type": "scatter",
         "x": [
          -61.541378021240234,
          -83.77136993408203,
          -39.32351303100586,
          77.58843994140625
         ],
         "y": [
          108.9627914428711,
          39.7509651184082,
          -57.59648513793945,
          -53.657596588134766
         ]
        },
        {
         "marker": {
          "color": "rgba(0, 128, 128, 1.0)",
          "line": {
           "width": 1.3
          },
          "opacity": 0.8,
          "size": 12,
          "symbol": "circle"
         },
         "mode": "markers",
         "name": "Couple 6",
         "text": [
          "docteur",
          "médecin",
          "santé",
          "bobo"
         ],
         "textfont": {
          "color": "#4D5663"
         },
         "type": "scatter",
         "x": [
          37.345252990722656,
          39.4840202331543,
          31.278858184814453,
          27.225587844848633
         ],
         "y": [
          -14.201749801635742,
          74.60041809082031,
          -74.48374938964844,
          13.020548820495605
         ]
        },
        {
         "marker": {
          "color": "rgba(255, 255, 51, 1.0)",
          "line": {
           "width": 1.3
          },
          "opacity": 0.8,
          "size": 12,
          "symbol": "circle"
         },
         "mode": "markers",
         "name": "Couple 7",
         "text": [
          "belle",
          "jolie",
          "mignonne"
         ],
         "textfont": {
          "color": "#4D5663"
         },
         "type": "scatter",
         "x": [
          -71.60113525390625,
          -55.96693420410156,
          -46.393070220947266
         ],
         "y": [
          -95.85568237304688,
          59.589839935302734,
          25.947965621948242
         ]
        },
        {
         "marker": {
          "color": "rgba(128, 128, 0, 1.0)",
          "line": {
           "width": 1.3
          },
          "opacity": 0.8,
          "size": 12,
          "symbol": "circle"
         },
         "mode": "markers",
         "name": "Couple 8",
         "text": [
          "père",
          "papa",
          "daron"
         ],
         "textfont": {
          "color": "#4D5663"
         },
         "type": "scatter",
         "x": [
          -87.71273803710938,
          -20.728288650512695,
          5.90835428237915
         ],
         "y": [
          -42.25923538208008,
          43.302303314208984,
          67.02421569824219
         ]
        },
        {
         "marker": {
          "color": "rgba(251, 128, 114, 1.0)",
          "line": {
           "width": 1.3
          },
          "opacity": 0.8,
          "size": 12,
          "symbol": "circle"
         },
         "mode": "markers",
         "name": "Couple 9",
         "text": [
          "mère",
          "maman",
          "daronne"
         ],
         "textfont": {
          "color": "#4D5663"
         },
         "type": "scatter",
         "x": [
          -109.77460479736328,
          -66.61124420166016,
          -25.675308227539062
         ],
         "y": [
          85.48177337646484,
          0.35905560851097107,
          77.35636138916016
         ]
        },
        {
         "marker": {
          "color": "rgba(128, 177, 211, 1.0)",
          "line": {
           "width": 1.3
          },
          "opacity": 0.8,
          "size": 12,
          "symbol": "circle"
         },
         "mode": "markers",
         "name": "Couple 10",
         "text": [
          "ol",
          "psg",
          "foot",
          "stade"
         ],
         "textfont": {
          "color": "#4D5663"
         },
         "type": "scatter",
         "x": [
          68.70130157470703,
          44.47228240966797,
          102.7004623413086,
          -27.476150512695312
         ],
         "y": [
          -17.925701141357422,
          41.82419967651367,
          -8.84907054901123,
          -0.7373753190040588
         ]
        }
       ],
       "layout": {
        "legend": {
         "bgcolor": "#F5F6F9",
         "font": {
          "color": "#4D5663"
         }
        },
        "paper_bgcolor": "#F5F6F9",
        "plot_bgcolor": "#F5F6F9",
        "template": {
         "data": {
          "bar": [
           {
            "error_x": {
             "color": "#2a3f5f"
            },
            "error_y": {
             "color": "#2a3f5f"
            },
            "marker": {
             "line": {
              "color": "#E5ECF6",
              "width": 0.5
             }
            },
            "type": "bar"
           }
          ],
          "barpolar": [
           {
            "marker": {
             "line": {
              "color": "#E5ECF6",
              "width": 0.5
             }
            },
            "type": "barpolar"
           }
          ],
          "carpet": [
           {
            "aaxis": {
             "endlinecolor": "#2a3f5f",
             "gridcolor": "white",
             "linecolor": "white",
             "minorgridcolor": "white",
             "startlinecolor": "#2a3f5f"
            },
            "baxis": {
             "endlinecolor": "#2a3f5f",
             "gridcolor": "white",
             "linecolor": "white",
             "minorgridcolor": "white",
             "startlinecolor": "#2a3f5f"
            },
            "type": "carpet"
           }
          ],
          "choropleth": [
           {
            "colorbar": {
             "outlinewidth": 0,
             "ticks": ""
            },
            "type": "choropleth"
           }
          ],
          "contour": [
           {
            "colorbar": {
             "outlinewidth": 0,
             "ticks": ""
            },
            "colorscale": [
             [
              0,
              "#0d0887"
             ],
             [
              0.1111111111111111,
              "#46039f"
             ],
             [
              0.2222222222222222,
              "#7201a8"
             ],
             [
              0.3333333333333333,
              "#9c179e"
             ],
             [
              0.4444444444444444,
              "#bd3786"
             ],
             [
              0.5555555555555556,
              "#d8576b"
             ],
             [
              0.6666666666666666,
              "#ed7953"
             ],
             [
              0.7777777777777778,
              "#fb9f3a"
             ],
             [
              0.8888888888888888,
              "#fdca26"
             ],
             [
              1,
              "#f0f921"
             ]
            ],
            "type": "contour"
           }
          ],
          "contourcarpet": [
           {
            "colorbar": {
             "outlinewidth": 0,
             "ticks": ""
            },
            "type": "contourcarpet"
           }
          ],
          "heatmap": [
           {
            "colorbar": {
             "outlinewidth": 0,
             "ticks": ""
            },
            "colorscale": [
             [
              0,
              "#0d0887"
             ],
             [
              0.1111111111111111,
              "#46039f"
             ],
             [
              0.2222222222222222,
              "#7201a8"
             ],
             [
              0.3333333333333333,
              "#9c179e"
             ],
             [
              0.4444444444444444,
              "#bd3786"
             ],
             [
              0.5555555555555556,
              "#d8576b"
             ],
             [
              0.6666666666666666,
              "#ed7953"
             ],
             [
              0.7777777777777778,
              "#fb9f3a"
             ],
             [
              0.8888888888888888,
              "#fdca26"
             ],
             [
              1,
              "#f0f921"
             ]
            ],
            "type": "heatmap"
           }
          ],
          "heatmapgl": [
           {
            "colorbar": {
             "outlinewidth": 0,
             "ticks": ""
            },
            "colorscale": [
             [
              0,
              "#0d0887"
             ],
             [
              0.1111111111111111,
              "#46039f"
             ],
             [
              0.2222222222222222,
              "#7201a8"
             ],
             [
              0.3333333333333333,
              "#9c179e"
             ],
             [
              0.4444444444444444,
              "#bd3786"
             ],
             [
              0.5555555555555556,
              "#d8576b"
             ],
             [
              0.6666666666666666,
              "#ed7953"
             ],
             [
              0.7777777777777778,
              "#fb9f3a"
             ],
             [
              0.8888888888888888,
              "#fdca26"
             ],
             [
              1,
              "#f0f921"
             ]
            ],
            "type": "heatmapgl"
           }
          ],
          "histogram": [
           {
            "marker": {
             "colorbar": {
              "outlinewidth": 0,
              "ticks": ""
             }
            },
            "type": "histogram"
           }
          ],
          "histogram2d": [
           {
            "colorbar": {
             "outlinewidth": 0,
             "ticks": ""
            },
            "colorscale": [
             [
              0,
              "#0d0887"
             ],
             [
              0.1111111111111111,
              "#46039f"
             ],
             [
              0.2222222222222222,
              "#7201a8"
             ],
             [
              0.3333333333333333,
              "#9c179e"
             ],
             [
              0.4444444444444444,
              "#bd3786"
             ],
             [
              0.5555555555555556,
              "#d8576b"
             ],
             [
              0.6666666666666666,
              "#ed7953"
             ],
             [
              0.7777777777777778,
              "#fb9f3a"
             ],
             [
              0.8888888888888888,
              "#fdca26"
             ],
             [
              1,
              "#f0f921"
             ]
            ],
            "type": "histogram2d"
           }
          ],
          "histogram2dcontour": [
           {
            "colorbar": {
             "outlinewidth": 0,
             "ticks": ""
            },
            "colorscale": [
             [
              0,
              "#0d0887"
             ],
             [
              0.1111111111111111,
              "#46039f"
             ],
             [
              0.2222222222222222,
              "#7201a8"
             ],
             [
              0.3333333333333333,
              "#9c179e"
             ],
             [
              0.4444444444444444,
              "#bd3786"
             ],
             [
              0.5555555555555556,
              "#d8576b"
             ],
             [
              0.6666666666666666,
              "#ed7953"
             ],
             [
              0.7777777777777778,
              "#fb9f3a"
             ],
             [
              0.8888888888888888,
              "#fdca26"
             ],
             [
              1,
              "#f0f921"
             ]
            ],
            "type": "histogram2dcontour"
           }
          ],
          "mesh3d": [
           {
            "colorbar": {
             "outlinewidth": 0,
             "ticks": ""
            },
            "type": "mesh3d"
           }
          ],
          "parcoords": [
           {
            "line": {
             "colorbar": {
              "outlinewidth": 0,
              "ticks": ""
             }
            },
            "type": "parcoords"
           }
          ],
          "pie": [
           {
            "automargin": true,
            "type": "pie"
           }
          ],
          "scatter": [
           {
            "marker": {
             "colorbar": {
              "outlinewidth": 0,
              "ticks": ""
             }
            },
            "type": "scatter"
           }
          ],
          "scatter3d": [
           {
            "line": {
             "colorbar": {
              "outlinewidth": 0,
              "ticks": ""
             }
            },
            "marker": {
             "colorbar": {
              "outlinewidth": 0,
              "ticks": ""
             }
            },
            "type": "scatter3d"
           }
          ],
          "scattercarpet": [
           {
            "marker": {
             "colorbar": {
              "outlinewidth": 0,
              "ticks": ""
             }
            },
            "type": "scattercarpet"
           }
          ],
          "scattergeo": [
           {
            "marker": {
             "colorbar": {
              "outlinewidth": 0,
              "ticks": ""
             }
            },
            "type": "scattergeo"
           }
          ],
          "scattergl": [
           {
            "marker": {
             "colorbar": {
              "outlinewidth": 0,
              "ticks": ""
             }
            },
            "type": "scattergl"
           }
          ],
          "scattermapbox": [
           {
            "marker": {
             "colorbar": {
              "outlinewidth": 0,
              "ticks": ""
             }
            },
            "type": "scattermapbox"
           }
          ],
          "scatterpolar": [
           {
            "marker": {
             "colorbar": {
              "outlinewidth": 0,
              "ticks": ""
             }
            },
            "type": "scatterpolar"
           }
          ],
          "scatterpolargl": [
           {
            "marker": {
             "colorbar": {
              "outlinewidth": 0,
              "ticks": ""
             }
            },
            "type": "scatterpolargl"
           }
          ],
          "scatterternary": [
           {
            "marker": {
             "colorbar": {
              "outlinewidth": 0,
              "ticks": ""
             }
            },
            "type": "scatterternary"
           }
          ],
          "surface": [
           {
            "colorbar": {
             "outlinewidth": 0,
             "ticks": ""
            },
            "colorscale": [
             [
              0,
              "#0d0887"
             ],
             [
              0.1111111111111111,
              "#46039f"
             ],
             [
              0.2222222222222222,
              "#7201a8"
             ],
             [
              0.3333333333333333,
              "#9c179e"
             ],
             [
              0.4444444444444444,
              "#bd3786"
             ],
             [
              0.5555555555555556,
              "#d8576b"
             ],
             [
              0.6666666666666666,
              "#ed7953"
             ],
             [
              0.7777777777777778,
              "#fb9f3a"
             ],
             [
              0.8888888888888888,
              "#fdca26"
             ],
             [
              1,
              "#f0f921"
             ]
            ],
            "type": "surface"
           }
          ],
          "table": [
           {
            "cells": {
             "fill": {
              "color": "#EBF0F8"
             },
             "line": {
              "color": "white"
             }
            },
            "header": {
             "fill": {
              "color": "#C8D4E3"
             },
             "line": {
              "color": "white"
             }
            },
            "type": "table"
           }
          ]
         },
         "layout": {
          "annotationdefaults": {
           "arrowcolor": "#2a3f5f",
           "arrowhead": 0,
           "arrowwidth": 1
          },
          "coloraxis": {
           "colorbar": {
            "outlinewidth": 0,
            "ticks": ""
           }
          },
          "colorscale": {
           "diverging": [
            [
             0,
             "#8e0152"
            ],
            [
             0.1,
             "#c51b7d"
            ],
            [
             0.2,
             "#de77ae"
            ],
            [
             0.3,
             "#f1b6da"
            ],
            [
             0.4,
             "#fde0ef"
            ],
            [
             0.5,
             "#f7f7f7"
            ],
            [
             0.6,
             "#e6f5d0"
            ],
            [
             0.7,
             "#b8e186"
            ],
            [
             0.8,
             "#7fbc41"
            ],
            [
             0.9,
             "#4d9221"
            ],
            [
             1,
             "#276419"
            ]
           ],
           "sequential": [
            [
             0,
             "#0d0887"
            ],
            [
             0.1111111111111111,
             "#46039f"
            ],
            [
             0.2222222222222222,
             "#7201a8"
            ],
            [
             0.3333333333333333,
             "#9c179e"
            ],
            [
             0.4444444444444444,
             "#bd3786"
            ],
            [
             0.5555555555555556,
             "#d8576b"
            ],
            [
             0.6666666666666666,
             "#ed7953"
            ],
            [
             0.7777777777777778,
             "#fb9f3a"
            ],
            [
             0.8888888888888888,
             "#fdca26"
            ],
            [
             1,
             "#f0f921"
            ]
           ],
           "sequentialminus": [
            [
             0,
             "#0d0887"
            ],
            [
             0.1111111111111111,
             "#46039f"
            ],
            [
             0.2222222222222222,
             "#7201a8"
            ],
            [
             0.3333333333333333,
             "#9c179e"
            ],
            [
             0.4444444444444444,
             "#bd3786"
            ],
            [
             0.5555555555555556,
             "#d8576b"
            ],
            [
             0.6666666666666666,
             "#ed7953"
            ],
            [
             0.7777777777777778,
             "#fb9f3a"
            ],
            [
             0.8888888888888888,
             "#fdca26"
            ],
            [
             1,
             "#f0f921"
            ]
           ]
          },
          "colorway": [
           "#636efa",
           "#EF553B",
           "#00cc96",
           "#ab63fa",
           "#FFA15A",
           "#19d3f3",
           "#FF6692",
           "#B6E880",
           "#FF97FF",
           "#FECB52"
          ],
          "font": {
           "color": "#2a3f5f"
          },
          "geo": {
           "bgcolor": "white",
           "lakecolor": "white",
           "landcolor": "#E5ECF6",
           "showlakes": true,
           "showland": true,
           "subunitcolor": "white"
          },
          "hoverlabel": {
           "align": "left"
          },
          "hovermode": "closest",
          "mapbox": {
           "style": "light"
          },
          "paper_bgcolor": "white",
          "plot_bgcolor": "#E5ECF6",
          "polar": {
           "angularaxis": {
            "gridcolor": "white",
            "linecolor": "white",
            "ticks": ""
           },
           "bgcolor": "#E5ECF6",
           "radialaxis": {
            "gridcolor": "white",
            "linecolor": "white",
            "ticks": ""
           }
          },
          "scene": {
           "xaxis": {
            "backgroundcolor": "#E5ECF6",
            "gridcolor": "white",
            "gridwidth": 2,
            "linecolor": "white",
            "showbackground": true,
            "ticks": "",
            "zerolinecolor": "white"
           },
           "yaxis": {
            "backgroundcolor": "#E5ECF6",
            "gridcolor": "white",
            "gridwidth": 2,
            "linecolor": "white",
            "showbackground": true,
            "ticks": "",
            "zerolinecolor": "white"
           },
           "zaxis": {
            "backgroundcolor": "#E5ECF6",
            "gridcolor": "white",
            "gridwidth": 2,
            "linecolor": "white",
            "showbackground": true,
            "ticks": "",
            "zerolinecolor": "white"
           }
          },
          "shapedefaults": {
           "line": {
            "color": "#2a3f5f"
           }
          },
          "ternary": {
           "aaxis": {
            "gridcolor": "white",
            "linecolor": "white",
            "ticks": ""
           },
           "baxis": {
            "gridcolor": "white",
            "linecolor": "white",
            "ticks": ""
           },
           "bgcolor": "#E5ECF6",
           "caxis": {
            "gridcolor": "white",
            "linecolor": "white",
            "ticks": ""
           }
          },
          "title": {
           "x": 0.05
          },
          "xaxis": {
           "automargin": true,
           "gridcolor": "white",
           "linecolor": "white",
           "ticks": "",
           "title": {
            "standoff": 15
           },
           "zerolinecolor": "white",
           "zerolinewidth": 2
          },
          "yaxis": {
           "automargin": true,
           "gridcolor": "white",
           "linecolor": "white",
           "ticks": "",
           "title": {
            "standoff": 15
           },
           "zerolinecolor": "white",
           "zerolinewidth": 2
          }
         }
        },
        "title": {
         "font": {
          "color": "#4D5663"
         },
         "text": "TSNE"
        },
        "xaxis": {
         "gridcolor": "#E1E5ED",
         "showgrid": true,
         "tickfont": {
          "color": "#4D5663"
         },
         "title": {
          "font": {
           "color": "#4D5663"
          },
          "text": "Axe 1"
         },
         "zerolinecolor": "#E1E5ED"
        },
        "yaxis": {
         "gridcolor": "#E1E5ED",
         "showgrid": true,
         "tickfont": {
          "color": "#4D5663"
         },
         "title": {
          "font": {
           "color": "#4D5663"
          },
          "text": "Axe 2"
         },
         "zerolinecolor": "#E1E5ED"
        }
       }
      },
      "text/html": [
       "<div>\n",
       "        \n",
       "        \n",
       "            <div id=\"dd511792-4a87-4964-95ad-a7b6f532b5b2\" class=\"plotly-graph-div\" style=\"height:525px; width:100%;\"></div>\n",
       "            <script type=\"text/javascript\">\n",
       "                require([\"plotly\"], function(Plotly) {\n",
       "                    window.PLOTLYENV=window.PLOTLYENV || {};\n",
       "                    window.PLOTLYENV.BASE_URL='https://plot.ly';\n",
       "                    \n",
       "                if (document.getElementById(\"dd511792-4a87-4964-95ad-a7b6f532b5b2\")) {\n",
       "                    Plotly.newPlot(\n",
       "                        'dd511792-4a87-4964-95ad-a7b6f532b5b2',\n",
       "                        [{\"marker\": {\"color\": \"rgba(255, 153, 51, 1.0)\", \"line\": {\"width\": 1.3}, \"opacity\": 0.8, \"size\": 12, \"symbol\": \"circle\"}, \"mode\": \"markers\", \"name\": \"Couple 1\", \"text\": [\"poli\", \"bonjour\", \"salut\"], \"textfont\": {\"color\": \"#4D5663\"}, \"type\": \"scatter\", \"x\": [86.1192398071289, -111.10275268554688, 74.39786529541016], \"y\": [25.505949020385742, -9.470207214355469, 60.72257614135742]}, {\"marker\": {\"color\": \"rgba(55, 128, 191, 1.0)\", \"line\": {\"width\": 1.3}, \"opacity\": 0.8, \"size\": 12, \"symbol\": \"circle\"}, \"mode\": \"markers\", \"name\": \"Couple 2\", \"text\": [\"canap\\u00e9\", \"fauteuil\", \"table\", \"chaise\"], \"textfont\": {\"color\": \"#4D5663\"}, \"type\": \"scatter\", \"x\": [45.75590133666992, -46.64400863647461, -14.682404518127441, 15.791946411132812], \"y\": [-44.13343048095703, -26.27421760559082, -30.113414764404297, -37.94044876098633]}, {\"marker\": {\"color\": \"rgba(50, 171, 96, 1.0)\", \"line\": {\"width\": 1.3}, \"opacity\": 0.8, \"size\": 12, \"symbol\": \"circle\"}, \"mode\": \"markers\", \"name\": \"Couple 3\", \"text\": [\"t\\u00e9l\\u00e9phone\", \"portable\", \"num\\u00e9ro\", \"appel\"], \"textfont\": {\"color\": \"#4D5663\"}, \"type\": \"scatter\", \"x\": [8.120458602905273, -5.8857879638671875, -3.784364700317383, 13.698201179504395], \"y\": [102.51602172851562, 17.676189422607422, -62.36500549316406, 39.18897247314453]}, {\"marker\": {\"color\": \"rgba(128, 0, 128, 1.0)\", \"line\": {\"width\": 1.3}, \"opacity\": 0.8, \"size\": 12, \"symbol\": \"circle\"}, \"mode\": \"markers\", \"name\": \"Couple 4\", \"text\": [\"voiture\", \"camion\", \"v\\u00e9lo\", \"train\"], \"textfont\": {\"color\": \"#4D5663\"}, \"type\": \"scatter\", \"x\": [-11.538195610046387, 57.278297424316406, 6.339993000030518, -143.2991180419922], \"y\": [-98.29264068603516, 12.035053253173828, -8.63914966583252, 31.53646469116211]}, {\"marker\": {\"color\": \"rgba(219, 64, 82, 1.0)\", \"line\": {\"width\": 1.3}, \"opacity\": 0.8, \"size\": 12, \"symbol\": \"circle\"}, \"mode\": \"markers\", \"name\": \"Couple 5\", \"text\": [\"beau\", \"mignon\", \"bg\", \"mannequin\"], \"textfont\": {\"color\": \"#4D5663\"}, \"type\": \"scatter\", \"x\": [-61.541378021240234, -83.77136993408203, -39.32351303100586, 77.58843994140625], \"y\": [108.9627914428711, 39.7509651184082, -57.59648513793945, -53.657596588134766]}, {\"marker\": {\"color\": \"rgba(0, 128, 128, 1.0)\", \"line\": {\"width\": 1.3}, \"opacity\": 0.8, \"size\": 12, \"symbol\": \"circle\"}, \"mode\": \"markers\", \"name\": \"Couple 6\", \"text\": [\"docteur\", \"m\\u00e9decin\", \"sant\\u00e9\", \"bobo\"], \"textfont\": {\"color\": \"#4D5663\"}, \"type\": \"scatter\", \"x\": [37.345252990722656, 39.4840202331543, 31.278858184814453, 27.225587844848633], \"y\": [-14.201749801635742, 74.60041809082031, -74.48374938964844, 13.020548820495605]}, {\"marker\": {\"color\": \"rgba(255, 255, 51, 1.0)\", \"line\": {\"width\": 1.3}, \"opacity\": 0.8, \"size\": 12, \"symbol\": \"circle\"}, \"mode\": \"markers\", \"name\": \"Couple 7\", \"text\": [\"belle\", \"jolie\", \"mignonne\"], \"textfont\": {\"color\": \"#4D5663\"}, \"type\": \"scatter\", \"x\": [-71.60113525390625, -55.96693420410156, -46.393070220947266], \"y\": [-95.85568237304688, 59.589839935302734, 25.947965621948242]}, {\"marker\": {\"color\": \"rgba(128, 128, 0, 1.0)\", \"line\": {\"width\": 1.3}, \"opacity\": 0.8, \"size\": 12, \"symbol\": \"circle\"}, \"mode\": \"markers\", \"name\": \"Couple 8\", \"text\": [\"p\\u00e8re\", \"papa\", \"daron\"], \"textfont\": {\"color\": \"#4D5663\"}, \"type\": \"scatter\", \"x\": [-87.71273803710938, -20.728288650512695, 5.90835428237915], \"y\": [-42.25923538208008, 43.302303314208984, 67.02421569824219]}, {\"marker\": {\"color\": \"rgba(251, 128, 114, 1.0)\", \"line\": {\"width\": 1.3}, \"opacity\": 0.8, \"size\": 12, \"symbol\": \"circle\"}, \"mode\": \"markers\", \"name\": \"Couple 9\", \"text\": [\"m\\u00e8re\", \"maman\", \"daronne\"], \"textfont\": {\"color\": \"#4D5663\"}, \"type\": \"scatter\", \"x\": [-109.77460479736328, -66.61124420166016, -25.675308227539062], \"y\": [85.48177337646484, 0.35905560851097107, 77.35636138916016]}, {\"marker\": {\"color\": \"rgba(128, 177, 211, 1.0)\", \"line\": {\"width\": 1.3}, \"opacity\": 0.8, \"size\": 12, \"symbol\": \"circle\"}, \"mode\": \"markers\", \"name\": \"Couple 10\", \"text\": [\"ol\", \"psg\", \"foot\", \"stade\"], \"textfont\": {\"color\": \"#4D5663\"}, \"type\": \"scatter\", \"x\": [68.70130157470703, 44.47228240966797, 102.7004623413086, -27.476150512695312], \"y\": [-17.925701141357422, 41.82419967651367, -8.84907054901123, -0.7373753190040588]}],\n",
       "                        {\"legend\": {\"bgcolor\": \"#F5F6F9\", \"font\": {\"color\": \"#4D5663\"}}, \"paper_bgcolor\": \"#F5F6F9\", \"plot_bgcolor\": \"#F5F6F9\", \"template\": {\"data\": {\"bar\": [{\"error_x\": {\"color\": \"#2a3f5f\"}, \"error_y\": {\"color\": \"#2a3f5f\"}, \"marker\": {\"line\": {\"color\": \"#E5ECF6\", \"width\": 0.5}}, \"type\": \"bar\"}], \"barpolar\": [{\"marker\": {\"line\": {\"color\": \"#E5ECF6\", \"width\": 0.5}}, \"type\": \"barpolar\"}], \"carpet\": [{\"aaxis\": {\"endlinecolor\": \"#2a3f5f\", \"gridcolor\": \"white\", \"linecolor\": \"white\", \"minorgridcolor\": \"white\", \"startlinecolor\": \"#2a3f5f\"}, \"baxis\": {\"endlinecolor\": \"#2a3f5f\", \"gridcolor\": \"white\", \"linecolor\": \"white\", \"minorgridcolor\": \"white\", \"startlinecolor\": \"#2a3f5f\"}, \"type\": \"carpet\"}], \"choropleth\": [{\"colorbar\": {\"outlinewidth\": 0, \"ticks\": \"\"}, \"type\": \"choropleth\"}], \"contour\": [{\"colorbar\": {\"outlinewidth\": 0, \"ticks\": \"\"}, \"colorscale\": [[0.0, \"#0d0887\"], [0.1111111111111111, \"#46039f\"], [0.2222222222222222, \"#7201a8\"], [0.3333333333333333, \"#9c179e\"], [0.4444444444444444, \"#bd3786\"], [0.5555555555555556, \"#d8576b\"], [0.6666666666666666, \"#ed7953\"], [0.7777777777777778, \"#fb9f3a\"], [0.8888888888888888, \"#fdca26\"], [1.0, \"#f0f921\"]], \"type\": \"contour\"}], \"contourcarpet\": [{\"colorbar\": {\"outlinewidth\": 0, \"ticks\": \"\"}, \"type\": \"contourcarpet\"}], \"heatmap\": [{\"colorbar\": {\"outlinewidth\": 0, \"ticks\": \"\"}, \"colorscale\": [[0.0, \"#0d0887\"], [0.1111111111111111, \"#46039f\"], [0.2222222222222222, \"#7201a8\"], [0.3333333333333333, \"#9c179e\"], [0.4444444444444444, \"#bd3786\"], [0.5555555555555556, \"#d8576b\"], [0.6666666666666666, \"#ed7953\"], [0.7777777777777778, \"#fb9f3a\"], [0.8888888888888888, \"#fdca26\"], [1.0, \"#f0f921\"]], \"type\": \"heatmap\"}], \"heatmapgl\": [{\"colorbar\": {\"outlinewidth\": 0, \"ticks\": \"\"}, \"colorscale\": [[0.0, \"#0d0887\"], [0.1111111111111111, \"#46039f\"], [0.2222222222222222, \"#7201a8\"], [0.3333333333333333, \"#9c179e\"], [0.4444444444444444, \"#bd3786\"], [0.5555555555555556, \"#d8576b\"], [0.6666666666666666, \"#ed7953\"], [0.7777777777777778, \"#fb9f3a\"], [0.8888888888888888, \"#fdca26\"], [1.0, \"#f0f921\"]], \"type\": \"heatmapgl\"}], \"histogram\": [{\"marker\": {\"colorbar\": {\"outlinewidth\": 0, \"ticks\": \"\"}}, \"type\": \"histogram\"}], \"histogram2d\": [{\"colorbar\": {\"outlinewidth\": 0, \"ticks\": \"\"}, \"colorscale\": [[0.0, \"#0d0887\"], [0.1111111111111111, \"#46039f\"], [0.2222222222222222, \"#7201a8\"], [0.3333333333333333, \"#9c179e\"], [0.4444444444444444, \"#bd3786\"], [0.5555555555555556, \"#d8576b\"], [0.6666666666666666, \"#ed7953\"], [0.7777777777777778, \"#fb9f3a\"], [0.8888888888888888, \"#fdca26\"], [1.0, \"#f0f921\"]], \"type\": \"histogram2d\"}], \"histogram2dcontour\": [{\"colorbar\": {\"outlinewidth\": 0, \"ticks\": \"\"}, \"colorscale\": [[0.0, \"#0d0887\"], [0.1111111111111111, \"#46039f\"], [0.2222222222222222, \"#7201a8\"], [0.3333333333333333, \"#9c179e\"], [0.4444444444444444, \"#bd3786\"], [0.5555555555555556, \"#d8576b\"], [0.6666666666666666, \"#ed7953\"], [0.7777777777777778, \"#fb9f3a\"], [0.8888888888888888, \"#fdca26\"], [1.0, \"#f0f921\"]], \"type\": \"histogram2dcontour\"}], \"mesh3d\": [{\"colorbar\": {\"outlinewidth\": 0, \"ticks\": \"\"}, \"type\": \"mesh3d\"}], \"parcoords\": [{\"line\": {\"colorbar\": {\"outlinewidth\": 0, \"ticks\": \"\"}}, \"type\": \"parcoords\"}], \"pie\": [{\"automargin\": true, \"type\": \"pie\"}], \"scatter\": [{\"marker\": {\"colorbar\": {\"outlinewidth\": 0, \"ticks\": \"\"}}, \"type\": \"scatter\"}], \"scatter3d\": [{\"line\": {\"colorbar\": {\"outlinewidth\": 0, \"ticks\": \"\"}}, \"marker\": {\"colorbar\": {\"outlinewidth\": 0, \"ticks\": \"\"}}, \"type\": \"scatter3d\"}], \"scattercarpet\": [{\"marker\": {\"colorbar\": {\"outlinewidth\": 0, \"ticks\": \"\"}}, \"type\": \"scattercarpet\"}], \"scattergeo\": [{\"marker\": {\"colorbar\": {\"outlinewidth\": 0, \"ticks\": \"\"}}, \"type\": \"scattergeo\"}], \"scattergl\": [{\"marker\": {\"colorbar\": {\"outlinewidth\": 0, \"ticks\": \"\"}}, \"type\": \"scattergl\"}], \"scattermapbox\": [{\"marker\": {\"colorbar\": {\"outlinewidth\": 0, \"ticks\": \"\"}}, \"type\": \"scattermapbox\"}], \"scatterpolar\": [{\"marker\": {\"colorbar\": {\"outlinewidth\": 0, \"ticks\": \"\"}}, \"type\": \"scatterpolar\"}], \"scatterpolargl\": [{\"marker\": {\"colorbar\": {\"outlinewidth\": 0, \"ticks\": \"\"}}, \"type\": \"scatterpolargl\"}], \"scatterternary\": [{\"marker\": {\"colorbar\": {\"outlinewidth\": 0, \"ticks\": \"\"}}, \"type\": \"scatterternary\"}], \"surface\": [{\"colorbar\": {\"outlinewidth\": 0, \"ticks\": \"\"}, \"colorscale\": [[0.0, \"#0d0887\"], [0.1111111111111111, \"#46039f\"], [0.2222222222222222, \"#7201a8\"], [0.3333333333333333, \"#9c179e\"], [0.4444444444444444, \"#bd3786\"], [0.5555555555555556, \"#d8576b\"], [0.6666666666666666, \"#ed7953\"], [0.7777777777777778, \"#fb9f3a\"], [0.8888888888888888, \"#fdca26\"], [1.0, \"#f0f921\"]], \"type\": \"surface\"}], \"table\": [{\"cells\": {\"fill\": {\"color\": \"#EBF0F8\"}, \"line\": {\"color\": \"white\"}}, \"header\": {\"fill\": {\"color\": \"#C8D4E3\"}, \"line\": {\"color\": \"white\"}}, \"type\": \"table\"}]}, \"layout\": {\"annotationdefaults\": {\"arrowcolor\": \"#2a3f5f\", \"arrowhead\": 0, \"arrowwidth\": 1}, \"coloraxis\": {\"colorbar\": {\"outlinewidth\": 0, \"ticks\": \"\"}}, \"colorscale\": {\"diverging\": [[0, \"#8e0152\"], [0.1, \"#c51b7d\"], [0.2, \"#de77ae\"], [0.3, \"#f1b6da\"], [0.4, \"#fde0ef\"], [0.5, \"#f7f7f7\"], [0.6, \"#e6f5d0\"], [0.7, \"#b8e186\"], [0.8, \"#7fbc41\"], [0.9, \"#4d9221\"], [1, \"#276419\"]], \"sequential\": [[0.0, \"#0d0887\"], [0.1111111111111111, \"#46039f\"], [0.2222222222222222, \"#7201a8\"], [0.3333333333333333, \"#9c179e\"], [0.4444444444444444, \"#bd3786\"], [0.5555555555555556, \"#d8576b\"], [0.6666666666666666, \"#ed7953\"], [0.7777777777777778, \"#fb9f3a\"], [0.8888888888888888, \"#fdca26\"], [1.0, \"#f0f921\"]], \"sequentialminus\": [[0.0, \"#0d0887\"], [0.1111111111111111, \"#46039f\"], [0.2222222222222222, \"#7201a8\"], [0.3333333333333333, \"#9c179e\"], [0.4444444444444444, \"#bd3786\"], [0.5555555555555556, \"#d8576b\"], [0.6666666666666666, \"#ed7953\"], [0.7777777777777778, \"#fb9f3a\"], [0.8888888888888888, \"#fdca26\"], [1.0, \"#f0f921\"]]}, \"colorway\": [\"#636efa\", \"#EF553B\", \"#00cc96\", \"#ab63fa\", \"#FFA15A\", \"#19d3f3\", \"#FF6692\", \"#B6E880\", \"#FF97FF\", \"#FECB52\"], \"font\": {\"color\": \"#2a3f5f\"}, \"geo\": {\"bgcolor\": \"white\", \"lakecolor\": \"white\", \"landcolor\": \"#E5ECF6\", \"showlakes\": true, \"showland\": true, \"subunitcolor\": \"white\"}, \"hoverlabel\": {\"align\": \"left\"}, \"hovermode\": \"closest\", \"mapbox\": {\"style\": \"light\"}, \"paper_bgcolor\": \"white\", \"plot_bgcolor\": \"#E5ECF6\", \"polar\": {\"angularaxis\": {\"gridcolor\": \"white\", \"linecolor\": \"white\", \"ticks\": \"\"}, \"bgcolor\": \"#E5ECF6\", \"radialaxis\": {\"gridcolor\": \"white\", \"linecolor\": \"white\", \"ticks\": \"\"}}, \"scene\": {\"xaxis\": {\"backgroundcolor\": \"#E5ECF6\", \"gridcolor\": \"white\", \"gridwidth\": 2, \"linecolor\": \"white\", \"showbackground\": true, \"ticks\": \"\", \"zerolinecolor\": \"white\"}, \"yaxis\": {\"backgroundcolor\": \"#E5ECF6\", \"gridcolor\": \"white\", \"gridwidth\": 2, \"linecolor\": \"white\", \"showbackground\": true, \"ticks\": \"\", \"zerolinecolor\": \"white\"}, \"zaxis\": {\"backgroundcolor\": \"#E5ECF6\", \"gridcolor\": \"white\", \"gridwidth\": 2, \"linecolor\": \"white\", \"showbackground\": true, \"ticks\": \"\", \"zerolinecolor\": \"white\"}}, \"shapedefaults\": {\"line\": {\"color\": \"#2a3f5f\"}}, \"ternary\": {\"aaxis\": {\"gridcolor\": \"white\", \"linecolor\": \"white\", \"ticks\": \"\"}, \"baxis\": {\"gridcolor\": \"white\", \"linecolor\": \"white\", \"ticks\": \"\"}, \"bgcolor\": \"#E5ECF6\", \"caxis\": {\"gridcolor\": \"white\", \"linecolor\": \"white\", \"ticks\": \"\"}}, \"title\": {\"x\": 0.05}, \"xaxis\": {\"automargin\": true, \"gridcolor\": \"white\", \"linecolor\": \"white\", \"ticks\": \"\", \"title\": {\"standoff\": 15}, \"zerolinecolor\": \"white\", \"zerolinewidth\": 2}, \"yaxis\": {\"automargin\": true, \"gridcolor\": \"white\", \"linecolor\": \"white\", \"ticks\": \"\", \"title\": {\"standoff\": 15}, \"zerolinecolor\": \"white\", \"zerolinewidth\": 2}}}, \"title\": {\"font\": {\"color\": \"#4D5663\"}, \"text\": \"TSNE\"}, \"xaxis\": {\"gridcolor\": \"#E1E5ED\", \"showgrid\": true, \"tickfont\": {\"color\": \"#4D5663\"}, \"title\": {\"font\": {\"color\": \"#4D5663\"}, \"text\": \"Axe 1\"}, \"zerolinecolor\": \"#E1E5ED\"}, \"yaxis\": {\"gridcolor\": \"#E1E5ED\", \"showgrid\": true, \"tickfont\": {\"color\": \"#4D5663\"}, \"title\": {\"font\": {\"color\": \"#4D5663\"}, \"text\": \"Axe 2\"}, \"zerolinecolor\": \"#E1E5ED\"}},\n",
       "                        {\"showLink\": true, \"linkText\": \"Export to plot.ly\", \"plotlyServerURL\": \"https://plot.ly\", \"responsive\": true}\n",
       "                    ).then(function(){\n",
       "                            \n",
       "var gd = document.getElementById('dd511792-4a87-4964-95ad-a7b6f532b5b2');\n",
       "var x = new MutationObserver(function (mutations, observer) {{\n",
       "        var display = window.getComputedStyle(gd).display;\n",
       "        if (!display || display === 'none') {{\n",
       "            console.log([gd, 'removed!']);\n",
       "            Plotly.purge(gd);\n",
       "            observer.disconnect();\n",
       "        }}\n",
       "}});\n",
       "\n",
       "// Listen for the removal of the full notebook cells\n",
       "var notebookContainer = gd.closest('#notebook-container');\n",
       "if (notebookContainer) {{\n",
       "    x.observe(notebookContainer, {childList: true});\n",
       "}}\n",
       "\n",
       "// Listen for the clearing of the current output cell\n",
       "var outputEl = gd.closest('.output');\n",
       "if (outputEl) {{\n",
       "    x.observe(outputEl, {childList: true});\n",
       "}}\n",
       "\n",
       "                        })\n",
       "                };\n",
       "                });\n",
       "            </script>\n",
       "        </div>"
      ]
     },
     "metadata": {},
     "output_type": "display_data"
    }
   ],
   "source": [
    "tsne_graph(liste1, statique = False,\n",
    "           nom_couples_explicite = True) #Paramètre ne marche pas : a debuger ?"
   ]
  },
  {
   "cell_type": "code",
   "execution_count": 53,
   "metadata": {},
   "outputs": [
    {
     "data": {
      "text/html": [
       "        <script type=\"text/javascript\">\n",
       "        window.PlotlyConfig = {MathJaxConfig: 'local'};\n",
       "        if (window.MathJax) {MathJax.Hub.Config({SVG: {font: \"STIX-Web\"}});}\n",
       "        if (typeof require !== 'undefined') {\n",
       "        require.undef(\"plotly\");\n",
       "        requirejs.config({\n",
       "            paths: {\n",
       "                'plotly': ['https://cdn.plot.ly/plotly-latest.min']\n",
       "            }\n",
       "        });\n",
       "        require(['plotly'], function(Plotly) {\n",
       "            window._Plotly = Plotly;\n",
       "        });\n",
       "        }\n",
       "        </script>\n",
       "        "
      ]
     },
     "metadata": {},
     "output_type": "display_data"
    },
    {
     "name": "stderr",
     "output_type": "stream",
     "text": [
      "C:\\Users\\Kim Antunez\\Anaconda3\\lib\\site-packages\\cufflinks\\plotlytools.py:808: FutureWarning:\n",
      "\n",
      "The pandas.np module is deprecated and will be removed from pandas in a future version. Import numpy directly instead\n",
      "\n",
      "C:\\Users\\Kim Antunez\\Anaconda3\\lib\\site-packages\\cufflinks\\plotlytools.py:811: FutureWarning:\n",
      "\n",
      "The pandas.np module is deprecated and will be removed from pandas in a future version. Import numpy directly instead\n",
      "\n"
     ]
    },
    {
     "data": {
      "application/vnd.plotly.v1+json": {
       "config": {
        "linkText": "Export to plot.ly",
        "plotlyServerURL": "https://plot.ly",
        "showLink": true
       },
       "data": [
        {
         "marker": {
          "color": "rgba(255, 153, 51, 1.0)",
          "line": {
           "width": 1.3
          },
          "opacity": 0.8,
          "size": 12,
          "symbol": "circle"
         },
         "mode": "markers",
         "name": "Couple 1",
         "text": [
          "jespere",
          "expres",
          "unknown",
          "tite",
          "35",
          "ipad",
          "eme",
          "relâche",
          "top1",
          "chiants",
          "libres",
          "europeans",
          "investit",
          "usualsuspects",
          "davoir",
          "néant",
          "mariages",
          "clinique",
          "scandaleux",
          "hallucinant",
          "josefine",
          "taule",
          "mylène",
          "mouchoirs",
          "🇪",
          "forts",
          "malédiction",
          "mounet",
          "impôt",
          "🇸",
          "union",
          "od",
          "refusé",
          "animes",
          "gouffre",
          "keufs",
          "glr",
          "chips",
          "fallu",
          "nah",
          "jambon",
          "bouh",
          "grotte",
          "sénat",
          "pseudos",
          "etaient",
          "hac",
          "lazare",
          "cou",
          "attitude",
          "parlementaire",
          "irrespectueux",
          "dégradé",
          "nain",
          "friendzone",
          "pl",
          "audace",
          "jambon",
          "autorité",
          "puisqu",
          "abandonne",
          "bonus",
          "enregistre",
          "insultes",
          "chaines",
          "laaaaa",
          "véritable",
          "salles",
          "steak",
          "formule",
          "lignes",
          "applis",
          "🔵",
          "algerie",
          "sentie",
          "�",
          "🇵",
          "paradise",
          "pédophile",
          "ch",
          "solitude",
          "fesse",
          "1500",
          "honnêtes",
          "jmet",
          "mmmh",
          "opposition",
          "cliqué",
          "soja",
          "george",
          "levé",
          "she",
          "dictionnaire",
          "foutais",
          "agenda",
          "emmerdale",
          "boo",
          "connecté",
          "permanente",
          "côtoie"
         ],
         "textfont": {
          "color": "#4D5663"
         },
         "type": "scatter",
         "x": [
          -16.444313049316406,
          -20.637521743774414,
          -20.897977828979492,
          -14.566893577575684,
          -8.027481079101562,
          -22.1729679107666,
          -8.401482582092285,
          -27.46861457824707,
          -23.147748947143555,
          -13.002330780029297,
          -22.573213577270508,
          -5.716320991516113,
          -21.331201553344727,
          -26.508148193359375,
          -16.84996795654297,
          -28.315237045288086,
          -26.265531539916992,
          -20.089557647705078,
          -15.707304000854492,
          -13.724603652954102,
          -12.09523868560791,
          -25.95264434814453,
          -25.367395401000977,
          -23.177871704101562,
          -8.486308097839355,
          -13.472346305847168,
          -27.645418167114258,
          -15.368484497070312,
          -22.236120223999023,
          -4.895669937133789,
          -19.199596405029297,
          -25.648468017578125,
          -6.947425365447998,
          -15.387228012084961,
          -29.505664825439453,
          -22.651121139526367,
          -21.782079696655273,
          -16.85955047607422,
          -20.471256256103516,
          -24.947298049926758,
          -24.204484939575195,
          -27.35228729248047,
          -28.919689178466797,
          -27.734376907348633,
          -26.288543701171875,
          -19.262054443359375,
          -29.285680770874023,
          -21.192800521850586,
          -10.291114807128906,
          -16.165489196777344,
          -22.862552642822266,
          -25.386585235595703,
          -23.277664184570312,
          -28.43181800842285,
          -28.452972412109375,
          -16.549592971801758,
          -25.272293090820312,
          -24.294099807739258,
          -26.901399612426758,
          -26.28455352783203,
          -9.591360092163086,
          -12.127128601074219,
          -20.463788986206055,
          -19.627769470214844,
          -17.422483444213867,
          -20.10791015625,
          -10.321410179138184,
          -11.97960090637207,
          -17.291173934936523,
          -18.208873748779297,
          -13.3429594039917,
          -29.776222229003906,
          -3.519725799560547,
          -24.29365348815918,
          -24.734703063964844,
          -24.722023010253906,
          -10.28864574432373,
          -19.35606575012207,
          -16.587608337402344,
          -17.970529556274414,
          -11.439432144165039,
          -18.12549591064453,
          -19.503103256225586,
          -23.84855842590332,
          -11.2247896194458,
          -28.89219856262207,
          -22.50054359436035,
          -27.34161376953125,
          -24.027891159057617,
          -24.540721893310547,
          -4.168878555297852,
          -21.997997283935547,
          -26.847957611083984,
          -26.824249267578125,
          -20.343297958374023,
          -24.93809700012207,
          -21.357824325561523,
          -15.786717414855957,
          -27.525604248046875,
          -25.507335662841797
         ],
         "y": [
          4.077237606048584,
          9.170467376708984,
          10.909958839416504,
          8.765545845031738,
          10.121636390686035,
          6.015145301818848,
          6.876645088195801,
          9.272436141967773,
          8.933932304382324,
          7.749145984649658,
          10.802014350891113,
          9.629077911376953,
          9.895952224731445,
          7.3001627922058105,
          9.020039558410645,
          10.905736923217773,
          13.92933177947998,
          10.567604064941406,
          5.410131454467773,
          6.924032688140869,
          6.63829231262207,
          8.692168235778809,
          10.39490795135498,
          5.287140369415283,
          11.491450309753418,
          5.4056172370910645,
          10.290318489074707,
          9.381810188293457,
          9.509793281555176,
          12.104186058044434,
          8.464280128479004,
          13.869664192199707,
          8.956009864807129,
          11.04875373840332,
          10.489238739013672,
          7.81780481338501,
          8.515860557556152,
          6.768393039703369,
          3.958097219467163,
          7.210871696472168,
          12.092714309692383,
          8.188762664794922,
          11.517339706420898,
          12.103654861450195,
          4.528200626373291,
          12.487237930297852,
          13.035283088684082,
          11.51145076751709,
          6.101743698120117,
          8.772119522094727,
          9.625813484191895,
          11.4946928024292,
          6.369309425354004,
          9.544075965881348,
          8.233511924743652,
          4.7869768142700195,
          7.682253360748291,
          12.124749183654785,
          11.225607872009277,
          9.824695587158203,
          7.286408424377441,
          9.529847145080566,
          6.8113274574279785,
          3.761040687561035,
          9.499802589416504,
          12.383376121520996,
          8.779170036315918,
          8.266932487487793,
          7.96547269821167,
          6.866448402404785,
          9.78067398071289,
          9.759033203125,
          13.010354995727539,
          9.743483543395996,
          13.995672225952148,
          8.859211921691895,
          10.315587997436523,
          7.806238651275635,
          6.991232872009277,
          8.757027626037598,
          6.119165420532227,
          10.634785652160645,
          10.127771377563477,
          7.61051607131958,
          10.003918647766113,
          8.95208740234375,
          13.366113662719727,
          13.70110034942627,
          10.48813247680664,
          5.65025520324707,
          2.627105236053467,
          6.932167053222656,
          13.297622680664062,
          6.158837795257568,
          7.58123254776001,
          4.882272243499756,
          7.560266494750977,
          4.598888397216797,
          7.065905570983887,
          5.48541259765625
         ]
        },
        {
         "marker": {
          "color": "rgba(55, 128, 191, 1.0)",
          "line": {
           "width": 1.3
          },
          "opacity": 0.8,
          "size": 12,
          "symbol": "circle"
         },
         "mode": "markers",
         "name": "Couple 2",
         "text": [
          "jvoulais",
          "vérifier",
          "réflexion",
          "ha",
          "ajouter",
          "solo",
          "entrain",
          "🇫",
          "impressionnant",
          "neige",
          "gère",
          "taff",
          "passion",
          "mens",
          "nez",
          "comptes",
          "back",
          "carrière",
          "😞",
          "sophie",
          "permis",
          "termine",
          "journal",
          "dise",
          "marie",
          "raclette",
          "crise",
          "croit",
          "règles",
          "choqué",
          "rencontrer",
          "touche",
          "mdrrrrrr",
          "octobre",
          "uniquement",
          "alexia",
          "tente",
          "vélo",
          "naze",
          "28",
          "jalouse",
          "tente",
          "goûts",
          "position",
          "saisons",
          "entretien",
          "clé",
          "inverse",
          "sud",
          "japonais",
          "bienvenue",
          "rendent",
          "madame",
          "gestion",
          "victoire",
          "tain",
          "regardant",
          "échec",
          "🌹",
          "gouvernement",
          "souris",
          "suisse",
          "ramener",
          "🤞",
          "svt",
          "plaindre",
          "✊",
          "refuse",
          "actuellement",
          "étude",
          "merciiiii",
          "lyon",
          "bjr",
          "tg",
          "trous",
          "bouffer",
          "familles",
          "choquée",
          "90",
          "fatiguée",
          "lapin",
          "payé",
          "🤙",
          "regrette",
          "sah",
          "expérience",
          "zéro",
          "manga",
          "batterie",
          "charge",
          "al",
          "sales",
          "calmer",
          "kiffé",
          "😰",
          "13",
          "animal",
          "2e",
          "réveille",
          "3h"
         ],
         "textfont": {
          "color": "#4D5663"
         },
         "type": "scatter",
         "x": [
          2.2978515625,
          -1.7628629207611084,
          -4.6053547859191895,
          13.958624839782715,
          -3.9695515632629395,
          5.300959587097168,
          6.928274631500244,
          -2.472299337387085,
          -7.099539279937744,
          7.192419052124023,
          -9.407037734985352,
          5.304161071777344,
          -8.838607788085938,
          -9.902894973754883,
          0.6266043186187744,
          -7.507600784301758,
          -3.5269157886505127,
          -3.6236965656280518,
          3.52175235748291,
          -0.7496809959411621,
          3.4914302825927734,
          -7.814739227294922,
          -7.936148643493652,
          -7.6294708251953125,
          1.7208129167556763,
          -2.288466691970825,
          3.000701665878296,
          3.252589464187622,
          -6.080620765686035,
          8.325526237487793,
          -2.515172004699707,
          -3.0944392681121826,
          8.46245288848877,
          1.512755274772644,
          -3.132277727127075,
          -6.152480125427246,
          -12.246891975402832,
          -2.2391300201416016,
          -4.010924816131592,
          5.562707424163818,
          3.605757713317871,
          -12.246891975402832,
          -4.768087387084961,
          -3.4235501289367676,
          -0.4098694324493408,
          0.9060723781585693,
          -8.848584175109863,
          7.395213603973389,
          2.8710532188415527,
          -5.370915412902832,
          -0.0731264129281044,
          -9.229787826538086,
          7.006814956665039,
          -11.665913581848145,
          -1.7398675680160522,
          -6.669131278991699,
          -6.922547340393066,
          5.101731300354004,
          1.4513521194458008,
          -1.3739283084869385,
          -5.665084362030029,
          -6.453788757324219,
          -7.430951118469238,
          -1.5679147243499756,
          -5.660711765289307,
          -5.324728488922119,
          -3.6056594848632812,
          -4.670851230621338,
          7.061770915985107,
          -2.5925703048706055,
          -4.546425819396973,
          2.007553815841675,
          -7.256288051605225,
          7.833381175994873,
          -8.222930908203125,
          -1.856749176979065,
          -9.534127235412598,
          9.163527488708496,
          3.3039751052856445,
          15.445024490356445,
          -8.938835144042969,
          7.799539566040039,
          -1.4882543087005615,
          2.807960271835327,
          8.882256507873535,
          -0.10415235161781311,
          4.760613441467285,
          0.7061731815338135,
          -1.061713457107544,
          -5.468998432159424,
          2.7399752140045166,
          -7.457548141479492,
          -3.419494867324829,
          -3.457874059677124,
          5.6286234855651855,
          6.554187774658203,
          -0.6951573491096497,
          4.230256080627441,
          -2.5661990642547607,
          5.736276626586914
         ],
         "y": [
          0.7108176350593567,
          2.2489116191864014,
          0.8373432159423828,
          -1.440095067024231,
          9.053972244262695,
          2.708989143371582,
          -2.2744932174682617,
          12.82317066192627,
          3.1356704235076904,
          -2.1574082374572754,
          3.0300393104553223,
          -8.126081466674805,
          -0.8124935030937195,
          13.556506156921387,
          6.041157245635986,
          13.381648063659668,
          9.681266784667969,
          5.003377914428711,
          5.03898286819458,
          9.444397926330566,
          -5.435321807861328,
          -1.3573330640792847,
          7.693483352661133,
          1.5067944526672363,
          3.7044565677642822,
          3.808903455734253,
          1.909735918045044,
          -0.5765051245689392,
          -2.0031514167785645,
          0.7400895357131958,
          2.328233242034912,
          -5.6309919357299805,
          2.744633436203003,
          4.749989032745361,
          6.735945224761963,
          10.540717124938965,
          3.335334062576294,
          6.644397258758545,
          2.030069589614868,
          -4.582581043243408,
          1.2588926553726196,
          3.335334062576294,
          8.889457702636719,
          7.165546417236328,
          2.7356197834014893,
          7.397095680236816,
          6.5916290283203125,
          1.5924943685531616,
          7.771218776702881,
          7.624015808105469,
          8.466672897338867,
          3.163158893585205,
          3.154937744140625,
          4.081717491149902,
          4.418148040771484,
          4.4324631690979,
          5.535645961761475,
          5.058526992797852,
          14.906213760375977,
          0.35939106345176697,
          8.646350860595703,
          5.390021324157715,
          7.271073818206787,
          13.61080551147461,
          4.832173824310303,
          -1.089627742767334,
          12.661977767944336,
          6.2817182540893555,
          -5.029225826263428,
          5.801131248474121,
          9.836955070495605,
          7.110401153564453,
          3.571056604385376,
          3.2955167293548584,
          5.307048797607422,
          0.000302713131532073,
          11.096807479858398,
          -0.5171605348587036,
          3.8431286811828613,
          -5.629335403442383,
          7.730090141296387,
          2.2490017414093018,
          13.625385284423828,
          1.1645158529281616,
          0.7319017648696899,
          7.308283805847168,
          4.138510704040527,
          3.77306866645813,
          3.5616371631622314,
          6.924131870269775,
          4.59043025970459,
          11.176839828491211,
          -0.3999210298061371,
          1.7182128429412842,
          3.7406504154205322,
          -5.590529441833496,
          7.797981262207031,
          2.131606340408325,
          -3.6917614936828613,
          -7.568198204040527
         ]
        },
        {
         "marker": {
          "color": "rgba(50, 171, 96, 1.0)",
          "line": {
           "width": 1.3
          },
          "opacity": 0.8,
          "size": 12,
          "symbol": "circle"
         },
         "mode": "markers",
         "name": "Couple 3",
         "text": [
          "ligne",
          "bravo",
          "in",
          "aujourdhui",
          "rend",
          "nan",
          "pire",
          "chaque",
          "ya",
          "change",
          "mdrrr",
          "😆",
          "connais",
          "clairement",
          "an",
          "min",
          "pourtant",
          "écouter",
          "magnifique",
          "o",
          "force",
          "doigts",
          "perso",
          "complètement",
          "grand",
          "content",
          "elles",
          "ptn",
          "tl",
          "inquiète",
          "tt",
          "filles",
          "hyper",
          "no",
          "😪",
          "facile",
          "ailleurs",
          "grande",
          "putain",
          "pense",
          "super",
          "savez",
          "🤔",
          "autant",
          "mdrrrr",
          "sortie",
          "partie",
          "moment",
          "bonjour",
          "vos",
          "tf1",
          "verra",
          "😢",
          "dois",
          "eux",
          "génial",
          "faites",
          "gars",
          "pcq",
          "coup",
          "quelques",
          "laisser",
          "contente",
          "serai",
          "jeux",
          "hyper",
          "stage",
          "aurait",
          "chaud",
          "joue",
          "janvier",
          "trucs",
          "😔",
          "heureux",
          "quelle",
          "change",
          "chat",
          "peur",
          "jui",
          "réponse",
          "heureuse",
          "sport",
          "eu",
          "parti",
          "pire",
          "corps",
          "15",
          "stp",
          "the",
          "quel",
          "semaine",
          "maison",
          "porte",
          "8",
          "bac",
          "changé",
          "vrais",
          "ahah",
          "😩",
          "allez"
         ],
         "textfont": {
          "color": "#4D5663"
         },
         "type": "scatter",
         "x": [
          2.8824713230133057,
          7.3333330154418945,
          0.6137276291847229,
          14.88838005065918,
          17.923751831054688,
          13.525096893310547,
          19.846454620361328,
          24.953210830688477,
          17.188749313354492,
          -6.715318202972412,
          17.335304260253906,
          11.614968299865723,
          -3.101649284362793,
          17.367841720581055,
          5.17212438583374,
          6.565697193145752,
          15.541610717773438,
          12.758699417114258,
          7.470576286315918,
          11.976655006408691,
          -4.800790309906006,
          2.588827133178711,
          16.884241104125977,
          10.431930541992188,
          -6.394716262817383,
          14.099032402038574,
          12.476813316345215,
          19.94331932067871,
          9.133721351623535,
          3.829120635986328,
          22.08222198486328,
          -6.962249279022217,
          14.563313484191895,
          12.372475624084473,
          10.546699523925781,
          14.790739059448242,
          9.421541213989258,
          7.1288299560546875,
          21.508546829223633,
          22.457984924316406,
          16.757976531982422,
          17.288101196289062,
          16.326175689697266,
          17.22690773010254,
          15.276129722595215,
          4.535885334014893,
          9.003719329833984,
          26.315519332885742,
          -5.001465320587158,
          -1.853416919708252,
          5.894405364990234,
          13.825959205627441,
          8.323410034179688,
          3.876143455505371,
          9.697752952575684,
          15.187400817871094,
          18.725677490234375,
          18.30769920349121,
          16.477237701416016,
          26.174528121948242,
          8.437264442443848,
          -1.8580974340438843,
          12.601054191589355,
          4.985315322875977,
          0.7813214063644409,
          14.948003768920898,
          6.255736351013184,
          16.04155158996582,
          15.905689239501953,
          1.8774436712265015,
          15.687346458435059,
          -4.2572855949401855,
          9.942145347595215,
          12.728605270385742,
          6.670386791229248,
          -6.715318202972412,
          2.0339291095733643,
          14.408580780029297,
          13.839147567749023,
          -3.8939945697784424,
          12.878905296325684,
          6.553823947906494,
          20.92584228515625,
          13.934115409851074,
          20.151771545410156,
          2.535045623779297,
          8.14980697631836,
          8.294940948486328,
          0.08974649012088776,
          1.685243844985962,
          26.168725967407227,
          8.928475379943848,
          -7.785122394561768,
          5.829623222351074,
          12.39108657836914,
          2.0807461738586426,
          -1.6192952394485474,
          15.365324974060059,
          11.353362083435059,
          5.9442644119262695
         ],
         "y": [
          7.86877965927124,
          4.995998859405518,
          14.154953956604004,
          -9.93481159210205,
          0.6359367966651917,
          -6.83280611038208,
          -15.647465705871582,
          -14.009249687194824,
          0.5776258111000061,
          -6.976309776306152,
          -7.499518871307373,
          3.0723752975463867,
          -6.706065654754639,
          -6.2952070236206055,
          -6.282038688659668,
          -6.512200832366943,
          -2.4119815826416016,
          -10.807523727416992,
          -4.833470821380615,
          0.950326681137085,
          -2.4338502883911133,
          -4.8005170822143555,
          -9.449101448059082,
          0.9719111919403076,
          -6.639714241027832,
          -2.331714630126953,
          -6.440291404724121,
          -13.102513313293457,
          9.326350212097168,
          15.19294548034668,
          -11.725772857666016,
          14.286078453063965,
          -4.660211563110352,
          1.6947009563446045,
          3.1332809925079346,
          -1.0260673761367798,
          -3.0451481342315674,
          8.18730354309082,
          -14.493148803710938,
          -13.46232795715332,
          -9.197587966918945,
          0.035050224512815475,
          1.9486325979232788,
          -4.064619064331055,
          -7.156513690948486,
          -8.112040519714355,
          10.0469970703125,
          -17.519977569580078,
          -4.0629377365112305,
          15.285684585571289,
          1.2879838943481445,
          6.151460647583008,
          -2.947234630584717,
          -0.7125473618507385,
          3.6648240089416504,
          -3.515777587890625,
          0.2044227570295334,
          -10.525660514831543,
          -8.23285961151123,
          -15.589298248291016,
          -5.838771343231201,
          -2.805506467819214,
          -3.4930436611175537,
          0.20980747044086456,
          5.3524017333984375,
          -4.662821292877197,
          -8.707627296447754,
          5.186805248260498,
          -6.1961188316345215,
          -1.0608850717544556,
          -10.240169525146484,
          -3.6899142265319824,
          2.1335396766662598,
          -0.8561632037162781,
          10.827902793884277,
          -6.976309776306152,
          -6.324758529663086,
          -6.766537189483643,
          -2.883497953414917,
          -2.2928881645202637,
          -2.4398155212402344,
          -7.982937812805176,
          -10.45893669128418,
          -9.903700828552246,
          -15.268173217773438,
          -5.690217018127441,
          -6.529150485992432,
          3.5216073989868164,
          14.583081245422363,
          10.883370399475098,
          -12.090170860290527,
          10.229558944702148,
          -0.7885703444480896,
          -5.611283779144287,
          -10.62026596069336,
          -4.076246738433838,
          -5.500588893890381,
          -1.6065409183502197,
          3.908135175704956,
          -2.041865110397339
         ]
        },
        {
         "marker": {
          "color": "rgba(128, 0, 128, 1.0)",
          "line": {
           "width": 1.3
          },
          "opacity": 0.8,
          "size": 12,
          "symbol": "circle"
         },
         "mode": "markers",
         "name": "Couple 4",
         "text": [
          "pour",
          "qui",
          "😭",
          "vu",
          "mal",
          "y",
          "te",
          "faire",
          "qui",
          "lui",
          "fais",
          "ça",
          "qu",
          "elle",
          "est",
          "ou",
          "toujours",
          "vrai",
          "comme",
          "fais",
          "me",
          "moi",
          "donc",
          "comment",
          "es",
          "sur",
          "faut",
          "rien",
          "comme",
          "d",
          "vous",
          "alors",
          "m",
          "️",
          "à",
          "trop",
          "ma",
          "dire",
          "sur",
          "mal",
          "jamais",
          "merci",
          "s",
          "mdr",
          "lowfrequencyword",
          "bien",
          "temps",
          "voir",
          "lui",
          "y",
          "2",
          "vous",
          "ta",
          "bon",
          "on",
          "donc",
          "ton",
          "ta",
          "peut",
          "aime",
          "être",
          "envie",
          "2",
          "que",
          "ont",
          "rien",
          "sa",
          "ne",
          "nous",
          "avoir",
          "on",
          "ai",
          "vie",
          "que",
          "très",
          "donc",
          "vais",
          "être",
          "dire",
          "ne",
          "bonne",
          "sont",
          "alors",
          "qu",
          "j",
          "nickname",
          "là",
          "ca",
          "va",
          "encore",
          "sais",
          "tous",
          "moi",
          "temps",
          "mes",
          "après",
          "rien",
          "sur",
          "plus",
          "avoir"
         ],
         "textfont": {
          "color": "#4D5663"
         },
         "type": "scatter",
         "x": [
          -10.264296531677246,
          19.894338607788086,
          18.048717498779297,
          13.738178253173828,
          20.947917938232422,
          22.784276962280273,
          27.518535614013672,
          22.418283462524414,
          19.893985748291016,
          25.847951889038086,
          12.604548454284668,
          20.124797821044922,
          27.07505989074707,
          19.211854934692383,
          16.60045051574707,
          -7.902659893035889,
          20.245635986328125,
          17.181331634521484,
          -14.293954849243164,
          12.604548454284668,
          28.20431900024414,
          29.171409606933594,
          21.703838348388672,
          19.790082931518555,
          -0.16131964325904846,
          -24.562776565551758,
          17.93635368347168,
          25.54207992553711,
          -10.55937671661377,
          13.258142471313477,
          -14.479618072509766,
          18.643686294555664,
          21.960912704467773,
          -0.47568821907043457,
          25.436845779418945,
          17.201200485229492,
          1.2422568798065186,
          21.31418228149414,
          -24.56276512145996,
          21.468608856201172,
          23.731582641601562,
          -2.85957670211792,
          5.698770523071289,
          19.212963104248047,
          -5.796022415161133,
          22.763916015625,
          25.117977142333984,
          27.839771270751953,
          25.847951889038086,
          22.784320831298828,
          23.717226028442383,
          -14.479717254638672,
          5.311434745788574,
          15.357616424560547,
          19.21042823791504,
          21.34185028076172,
          -2.4438111782073975,
          0.5964256525039673,
          7.002849102020264,
          2.3236083984375,
          17.31171226501465,
          22.729324340820312,
          23.626636505126953,
          25.210403442382812,
          15.719815254211426,
          25.74536895751953,
          27.704086303710938,
          16.416139602661133,
          6.420204162597656,
          26.936294555664062,
          19.21042823791504,
          26.96792221069336,
          25.072526931762695,
          25.210418701171875,
          13.46903133392334,
          21.072099685668945,
          27.69440269470215,
          17.31171226501465,
          21.31418228149414,
          16.416175842285156,
          1.1152876615524292,
          14.951925277709961,
          18.643686294555664,
          27.074970245361328,
          20.39383888244629,
          16.255706787109375,
          20.61867904663086,
          19.809947967529297,
          6.105736255645752,
          20.36853790283203,
          17.29633903503418,
          21.825788497924805,
          29.171409606933594,
          25.12830924987793,
          -13.686602592468262,
          22.693172454833984,
          25.15741729736328,
          -24.562746047973633,
          20.015085220336914,
          26.936290740966797
         ],
         "y": [
          -6.394025802612305,
          -24.569618225097656,
          -7.915431022644043,
          -15.040567398071289,
          -17.17781639099121,
          -21.32689094543457,
          -14.295608520507812,
          -24.267833709716797,
          -24.569236755371094,
          -14.181453704833984,
          -15.546550750732422,
          -21.483963012695312,
          -21.67913246154785,
          -21.580978393554688,
          5.142467021942139,
          -5.679691314697266,
          -14.121708869934082,
          -13.84431266784668,
          14.210835456848145,
          -15.546550750732422,
          -12.647151947021484,
          -16.49407386779785,
          -15.812703132629395,
          -16.649446487426758,
          18.069408416748047,
          -0.3830529451370239,
          -17.04505157470703,
          -18.762094497680664,
          -5.427516460418701,
          6.7786030769348145,
          -2.045426607131958,
          -11.900229454040527,
          -8.686134338378906,
          18.07784080505371,
          -10.820623397827148,
          -15.096444129943848,
          -12.619695663452148,
          -24.013029098510742,
          -0.38305267691612244,
          -17.19463348388672,
          -19.194101333618164,
          17.353261947631836,
          -15.588205337524414,
          -14.709829330444336,
          -2.2541751861572266,
          -19.44342041015625,
          -17.43219757080078,
          -17.44375228881836,
          -14.181453704833984,
          -21.326847076416016,
          -13.763111114501953,
          -2.045417070388794,
          10.154121398925781,
          -12.071386337280273,
          -22.440893173217773,
          -15.51742172241211,
          17.60047721862793,
          -10.69066333770752,
          -15.667771339416504,
          15.099207878112793,
          -18.105623245239258,
          -14.038066864013672,
          -13.47218132019043,
          -23.195777893066406,
          5.27392578125,
          -18.42041778564453,
          -11.275842666625977,
          -21.104856491088867,
          11.09998893737793,
          -15.600269317626953,
          -22.440893173217773,
          -18.921241760253906,
          -11.386550903320312,
          -23.195728302001953,
          -7.305200099945068,
          -15.049867630004883,
          -11.66569995880127,
          -18.105623245239258,
          -24.013029098510742,
          -21.1048526763916,
          -11.328008651733398,
          5.458889961242676,
          -11.900229454040527,
          -21.67913818359375,
          -22.96506690979004,
          -11.205887794494629,
          -16.139184951782227,
          -20.532238006591797,
          -15.615056991577148,
          -17.718339920043945,
          -5.312860488891602,
          -9.51054859161377,
          -16.49407386779785,
          -17.42970848083496,
          -1.270613193511963,
          -15.001045227050781,
          -18.536975860595703,
          -0.3830534815788269,
          -19.77194595336914,
          -15.600275039672852
         ]
        }
       ],
       "layout": {
        "legend": {
         "bgcolor": "#F5F6F9",
         "font": {
          "color": "#4D5663"
         }
        },
        "paper_bgcolor": "#F5F6F9",
        "plot_bgcolor": "#F5F6F9",
        "template": {
         "data": {
          "bar": [
           {
            "error_x": {
             "color": "#2a3f5f"
            },
            "error_y": {
             "color": "#2a3f5f"
            },
            "marker": {
             "line": {
              "color": "#E5ECF6",
              "width": 0.5
             }
            },
            "type": "bar"
           }
          ],
          "barpolar": [
           {
            "marker": {
             "line": {
              "color": "#E5ECF6",
              "width": 0.5
             }
            },
            "type": "barpolar"
           }
          ],
          "carpet": [
           {
            "aaxis": {
             "endlinecolor": "#2a3f5f",
             "gridcolor": "white",
             "linecolor": "white",
             "minorgridcolor": "white",
             "startlinecolor": "#2a3f5f"
            },
            "baxis": {
             "endlinecolor": "#2a3f5f",
             "gridcolor": "white",
             "linecolor": "white",
             "minorgridcolor": "white",
             "startlinecolor": "#2a3f5f"
            },
            "type": "carpet"
           }
          ],
          "choropleth": [
           {
            "colorbar": {
             "outlinewidth": 0,
             "ticks": ""
            },
            "type": "choropleth"
           }
          ],
          "contour": [
           {
            "colorbar": {
             "outlinewidth": 0,
             "ticks": ""
            },
            "colorscale": [
             [
              0,
              "#0d0887"
             ],
             [
              0.1111111111111111,
              "#46039f"
             ],
             [
              0.2222222222222222,
              "#7201a8"
             ],
             [
              0.3333333333333333,
              "#9c179e"
             ],
             [
              0.4444444444444444,
              "#bd3786"
             ],
             [
              0.5555555555555556,
              "#d8576b"
             ],
             [
              0.6666666666666666,
              "#ed7953"
             ],
             [
              0.7777777777777778,
              "#fb9f3a"
             ],
             [
              0.8888888888888888,
              "#fdca26"
             ],
             [
              1,
              "#f0f921"
             ]
            ],
            "type": "contour"
           }
          ],
          "contourcarpet": [
           {
            "colorbar": {
             "outlinewidth": 0,
             "ticks": ""
            },
            "type": "contourcarpet"
           }
          ],
          "heatmap": [
           {
            "colorbar": {
             "outlinewidth": 0,
             "ticks": ""
            },
            "colorscale": [
             [
              0,
              "#0d0887"
             ],
             [
              0.1111111111111111,
              "#46039f"
             ],
             [
              0.2222222222222222,
              "#7201a8"
             ],
             [
              0.3333333333333333,
              "#9c179e"
             ],
             [
              0.4444444444444444,
              "#bd3786"
             ],
             [
              0.5555555555555556,
              "#d8576b"
             ],
             [
              0.6666666666666666,
              "#ed7953"
             ],
             [
              0.7777777777777778,
              "#fb9f3a"
             ],
             [
              0.8888888888888888,
              "#fdca26"
             ],
             [
              1,
              "#f0f921"
             ]
            ],
            "type": "heatmap"
           }
          ],
          "heatmapgl": [
           {
            "colorbar": {
             "outlinewidth": 0,
             "ticks": ""
            },
            "colorscale": [
             [
              0,
              "#0d0887"
             ],
             [
              0.1111111111111111,
              "#46039f"
             ],
             [
              0.2222222222222222,
              "#7201a8"
             ],
             [
              0.3333333333333333,
              "#9c179e"
             ],
             [
              0.4444444444444444,
              "#bd3786"
             ],
             [
              0.5555555555555556,
              "#d8576b"
             ],
             [
              0.6666666666666666,
              "#ed7953"
             ],
             [
              0.7777777777777778,
              "#fb9f3a"
             ],
             [
              0.8888888888888888,
              "#fdca26"
             ],
             [
              1,
              "#f0f921"
             ]
            ],
            "type": "heatmapgl"
           }
          ],
          "histogram": [
           {
            "marker": {
             "colorbar": {
              "outlinewidth": 0,
              "ticks": ""
             }
            },
            "type": "histogram"
           }
          ],
          "histogram2d": [
           {
            "colorbar": {
             "outlinewidth": 0,
             "ticks": ""
            },
            "colorscale": [
             [
              0,
              "#0d0887"
             ],
             [
              0.1111111111111111,
              "#46039f"
             ],
             [
              0.2222222222222222,
              "#7201a8"
             ],
             [
              0.3333333333333333,
              "#9c179e"
             ],
             [
              0.4444444444444444,
              "#bd3786"
             ],
             [
              0.5555555555555556,
              "#d8576b"
             ],
             [
              0.6666666666666666,
              "#ed7953"
             ],
             [
              0.7777777777777778,
              "#fb9f3a"
             ],
             [
              0.8888888888888888,
              "#fdca26"
             ],
             [
              1,
              "#f0f921"
             ]
            ],
            "type": "histogram2d"
           }
          ],
          "histogram2dcontour": [
           {
            "colorbar": {
             "outlinewidth": 0,
             "ticks": ""
            },
            "colorscale": [
             [
              0,
              "#0d0887"
             ],
             [
              0.1111111111111111,
              "#46039f"
             ],
             [
              0.2222222222222222,
              "#7201a8"
             ],
             [
              0.3333333333333333,
              "#9c179e"
             ],
             [
              0.4444444444444444,
              "#bd3786"
             ],
             [
              0.5555555555555556,
              "#d8576b"
             ],
             [
              0.6666666666666666,
              "#ed7953"
             ],
             [
              0.7777777777777778,
              "#fb9f3a"
             ],
             [
              0.8888888888888888,
              "#fdca26"
             ],
             [
              1,
              "#f0f921"
             ]
            ],
            "type": "histogram2dcontour"
           }
          ],
          "mesh3d": [
           {
            "colorbar": {
             "outlinewidth": 0,
             "ticks": ""
            },
            "type": "mesh3d"
           }
          ],
          "parcoords": [
           {
            "line": {
             "colorbar": {
              "outlinewidth": 0,
              "ticks": ""
             }
            },
            "type": "parcoords"
           }
          ],
          "pie": [
           {
            "automargin": true,
            "type": "pie"
           }
          ],
          "scatter": [
           {
            "marker": {
             "colorbar": {
              "outlinewidth": 0,
              "ticks": ""
             }
            },
            "type": "scatter"
           }
          ],
          "scatter3d": [
           {
            "line": {
             "colorbar": {
              "outlinewidth": 0,
              "ticks": ""
             }
            },
            "marker": {
             "colorbar": {
              "outlinewidth": 0,
              "ticks": ""
             }
            },
            "type": "scatter3d"
           }
          ],
          "scattercarpet": [
           {
            "marker": {
             "colorbar": {
              "outlinewidth": 0,
              "ticks": ""
             }
            },
            "type": "scattercarpet"
           }
          ],
          "scattergeo": [
           {
            "marker": {
             "colorbar": {
              "outlinewidth": 0,
              "ticks": ""
             }
            },
            "type": "scattergeo"
           }
          ],
          "scattergl": [
           {
            "marker": {
             "colorbar": {
              "outlinewidth": 0,
              "ticks": ""
             }
            },
            "type": "scattergl"
           }
          ],
          "scattermapbox": [
           {
            "marker": {
             "colorbar": {
              "outlinewidth": 0,
              "ticks": ""
             }
            },
            "type": "scattermapbox"
           }
          ],
          "scatterpolar": [
           {
            "marker": {
             "colorbar": {
              "outlinewidth": 0,
              "ticks": ""
             }
            },
            "type": "scatterpolar"
           }
          ],
          "scatterpolargl": [
           {
            "marker": {
             "colorbar": {
              "outlinewidth": 0,
              "ticks": ""
             }
            },
            "type": "scatterpolargl"
           }
          ],
          "scatterternary": [
           {
            "marker": {
             "colorbar": {
              "outlinewidth": 0,
              "ticks": ""
             }
            },
            "type": "scatterternary"
           }
          ],
          "surface": [
           {
            "colorbar": {
             "outlinewidth": 0,
             "ticks": ""
            },
            "colorscale": [
             [
              0,
              "#0d0887"
             ],
             [
              0.1111111111111111,
              "#46039f"
             ],
             [
              0.2222222222222222,
              "#7201a8"
             ],
             [
              0.3333333333333333,
              "#9c179e"
             ],
             [
              0.4444444444444444,
              "#bd3786"
             ],
             [
              0.5555555555555556,
              "#d8576b"
             ],
             [
              0.6666666666666666,
              "#ed7953"
             ],
             [
              0.7777777777777778,
              "#fb9f3a"
             ],
             [
              0.8888888888888888,
              "#fdca26"
             ],
             [
              1,
              "#f0f921"
             ]
            ],
            "type": "surface"
           }
          ],
          "table": [
           {
            "cells": {
             "fill": {
              "color": "#EBF0F8"
             },
             "line": {
              "color": "white"
             }
            },
            "header": {
             "fill": {
              "color": "#C8D4E3"
             },
             "line": {
              "color": "white"
             }
            },
            "type": "table"
           }
          ]
         },
         "layout": {
          "annotationdefaults": {
           "arrowcolor": "#2a3f5f",
           "arrowhead": 0,
           "arrowwidth": 1
          },
          "coloraxis": {
           "colorbar": {
            "outlinewidth": 0,
            "ticks": ""
           }
          },
          "colorscale": {
           "diverging": [
            [
             0,
             "#8e0152"
            ],
            [
             0.1,
             "#c51b7d"
            ],
            [
             0.2,
             "#de77ae"
            ],
            [
             0.3,
             "#f1b6da"
            ],
            [
             0.4,
             "#fde0ef"
            ],
            [
             0.5,
             "#f7f7f7"
            ],
            [
             0.6,
             "#e6f5d0"
            ],
            [
             0.7,
             "#b8e186"
            ],
            [
             0.8,
             "#7fbc41"
            ],
            [
             0.9,
             "#4d9221"
            ],
            [
             1,
             "#276419"
            ]
           ],
           "sequential": [
            [
             0,
             "#0d0887"
            ],
            [
             0.1111111111111111,
             "#46039f"
            ],
            [
             0.2222222222222222,
             "#7201a8"
            ],
            [
             0.3333333333333333,
             "#9c179e"
            ],
            [
             0.4444444444444444,
             "#bd3786"
            ],
            [
             0.5555555555555556,
             "#d8576b"
            ],
            [
             0.6666666666666666,
             "#ed7953"
            ],
            [
             0.7777777777777778,
             "#fb9f3a"
            ],
            [
             0.8888888888888888,
             "#fdca26"
            ],
            [
             1,
             "#f0f921"
            ]
           ],
           "sequentialminus": [
            [
             0,
             "#0d0887"
            ],
            [
             0.1111111111111111,
             "#46039f"
            ],
            [
             0.2222222222222222,
             "#7201a8"
            ],
            [
             0.3333333333333333,
             "#9c179e"
            ],
            [
             0.4444444444444444,
             "#bd3786"
            ],
            [
             0.5555555555555556,
             "#d8576b"
            ],
            [
             0.6666666666666666,
             "#ed7953"
            ],
            [
             0.7777777777777778,
             "#fb9f3a"
            ],
            [
             0.8888888888888888,
             "#fdca26"
            ],
            [
             1,
             "#f0f921"
            ]
           ]
          },
          "colorway": [
           "#636efa",
           "#EF553B",
           "#00cc96",
           "#ab63fa",
           "#FFA15A",
           "#19d3f3",
           "#FF6692",
           "#B6E880",
           "#FF97FF",
           "#FECB52"
          ],
          "font": {
           "color": "#2a3f5f"
          },
          "geo": {
           "bgcolor": "white",
           "lakecolor": "white",
           "landcolor": "#E5ECF6",
           "showlakes": true,
           "showland": true,
           "subunitcolor": "white"
          },
          "hoverlabel": {
           "align": "left"
          },
          "hovermode": "closest",
          "mapbox": {
           "style": "light"
          },
          "paper_bgcolor": "white",
          "plot_bgcolor": "#E5ECF6",
          "polar": {
           "angularaxis": {
            "gridcolor": "white",
            "linecolor": "white",
            "ticks": ""
           },
           "bgcolor": "#E5ECF6",
           "radialaxis": {
            "gridcolor": "white",
            "linecolor": "white",
            "ticks": ""
           }
          },
          "scene": {
           "xaxis": {
            "backgroundcolor": "#E5ECF6",
            "gridcolor": "white",
            "gridwidth": 2,
            "linecolor": "white",
            "showbackground": true,
            "ticks": "",
            "zerolinecolor": "white"
           },
           "yaxis": {
            "backgroundcolor": "#E5ECF6",
            "gridcolor": "white",
            "gridwidth": 2,
            "linecolor": "white",
            "showbackground": true,
            "ticks": "",
            "zerolinecolor": "white"
           },
           "zaxis": {
            "backgroundcolor": "#E5ECF6",
            "gridcolor": "white",
            "gridwidth": 2,
            "linecolor": "white",
            "showbackground": true,
            "ticks": "",
            "zerolinecolor": "white"
           }
          },
          "shapedefaults": {
           "line": {
            "color": "#2a3f5f"
           }
          },
          "ternary": {
           "aaxis": {
            "gridcolor": "white",
            "linecolor": "white",
            "ticks": ""
           },
           "baxis": {
            "gridcolor": "white",
            "linecolor": "white",
            "ticks": ""
           },
           "bgcolor": "#E5ECF6",
           "caxis": {
            "gridcolor": "white",
            "linecolor": "white",
            "ticks": ""
           }
          },
          "title": {
           "x": 0.05
          },
          "xaxis": {
           "automargin": true,
           "gridcolor": "white",
           "linecolor": "white",
           "ticks": "",
           "title": {
            "standoff": 15
           },
           "zerolinecolor": "white",
           "zerolinewidth": 2
          },
          "yaxis": {
           "automargin": true,
           "gridcolor": "white",
           "linecolor": "white",
           "ticks": "",
           "title": {
            "standoff": 15
           },
           "zerolinecolor": "white",
           "zerolinewidth": 2
          }
         }
        },
        "title": {
         "font": {
          "color": "#4D5663"
         },
         "text": "TSNE"
        },
        "xaxis": {
         "gridcolor": "#E1E5ED",
         "showgrid": true,
         "tickfont": {
          "color": "#4D5663"
         },
         "title": {
          "font": {
           "color": "#4D5663"
          },
          "text": "Axe 1"
         },
         "zerolinecolor": "#E1E5ED"
        },
        "yaxis": {
         "gridcolor": "#E1E5ED",
         "showgrid": true,
         "tickfont": {
          "color": "#4D5663"
         },
         "title": {
          "font": {
           "color": "#4D5663"
          },
          "text": "Axe 2"
         },
         "zerolinecolor": "#E1E5ED"
        }
       }
      },
      "text/html": [
       "<div>\n",
       "        \n",
       "        \n",
       "            <div id=\"c15a95cb-ff94-46c7-ba05-1d6935fe5ac0\" class=\"plotly-graph-div\" style=\"height:525px; width:100%;\"></div>\n",
       "            <script type=\"text/javascript\">\n",
       "                require([\"plotly\"], function(Plotly) {\n",
       "                    window.PLOTLYENV=window.PLOTLYENV || {};\n",
       "                    window.PLOTLYENV.BASE_URL='https://plot.ly';\n",
       "                    \n",
       "                if (document.getElementById(\"c15a95cb-ff94-46c7-ba05-1d6935fe5ac0\")) {\n",
       "                    Plotly.newPlot(\n",
       "                        'c15a95cb-ff94-46c7-ba05-1d6935fe5ac0',\n",
       "                        [{\"marker\": {\"color\": \"rgba(255, 153, 51, 1.0)\", \"line\": {\"width\": 1.3}, \"opacity\": 0.8, \"size\": 12, \"symbol\": \"circle\"}, \"mode\": \"markers\", \"name\": \"Couple 1\", \"text\": [\"jespere\", \"expres\", \"unknown\", \"tite\", \"35\", \"ipad\", \"eme\", \"rel\\u00e2che\", \"top1\", \"chiants\", \"libres\", \"europeans\", \"investit\", \"usualsuspects\", \"davoir\", \"n\\u00e9ant\", \"mariages\", \"clinique\", \"scandaleux\", \"hallucinant\", \"josefine\", \"taule\", \"myl\\u00e8ne\", \"mouchoirs\", \"\\ud83c\\uddea\", \"forts\", \"mal\\u00e9diction\", \"mounet\", \"imp\\u00f4t\", \"\\ud83c\\uddf8\", \"union\", \"od\", \"refus\\u00e9\", \"animes\", \"gouffre\", \"keufs\", \"glr\", \"chips\", \"fallu\", \"nah\", \"jambon\", \"bouh\", \"grotte\", \"s\\u00e9nat\", \"pseudos\", \"etaient\", \"hac\", \"lazare\", \"cou\", \"attitude\", \"parlementaire\", \"irrespectueux\", \"d\\u00e9grad\\u00e9\", \"nain\", \"friendzone\", \"pl\", \"audace\", \"jambon\", \"autorit\\u00e9\", \"puisqu\", \"abandonne\", \"bonus\", \"enregistre\", \"insultes\", \"chaines\", \"laaaaa\", \"v\\u00e9ritable\", \"salles\", \"steak\", \"formule\", \"lignes\", \"applis\", \"\\ud83d\\udd35\", \"algerie\", \"sentie\", \"\\ufffd\", \"\\ud83c\\uddf5\", \"paradise\", \"p\\u00e9dophile\", \"ch\", \"solitude\", \"fesse\", \"1500\", \"honn\\u00eates\", \"jmet\", \"mmmh\", \"opposition\", \"cliqu\\u00e9\", \"soja\", \"george\", \"lev\\u00e9\", \"she\", \"dictionnaire\", \"foutais\", \"agenda\", \"emmerdale\", \"boo\", \"connect\\u00e9\", \"permanente\", \"c\\u00f4toie\"], \"textfont\": {\"color\": \"#4D5663\"}, \"type\": \"scatter\", \"x\": [-16.444313049316406, -20.637521743774414, -20.897977828979492, -14.566893577575684, -8.027481079101562, -22.1729679107666, -8.401482582092285, -27.46861457824707, -23.147748947143555, -13.002330780029297, -22.573213577270508, -5.716320991516113, -21.331201553344727, -26.508148193359375, -16.84996795654297, -28.315237045288086, -26.265531539916992, -20.089557647705078, -15.707304000854492, -13.724603652954102, -12.09523868560791, -25.95264434814453, -25.367395401000977, -23.177871704101562, -8.486308097839355, -13.472346305847168, -27.645418167114258, -15.368484497070312, -22.236120223999023, -4.895669937133789, -19.199596405029297, -25.648468017578125, -6.947425365447998, -15.387228012084961, -29.505664825439453, -22.651121139526367, -21.782079696655273, -16.85955047607422, -20.471256256103516, -24.947298049926758, -24.204484939575195, -27.35228729248047, -28.919689178466797, -27.734376907348633, -26.288543701171875, -19.262054443359375, -29.285680770874023, -21.192800521850586, -10.291114807128906, -16.165489196777344, -22.862552642822266, -25.386585235595703, -23.277664184570312, -28.43181800842285, -28.452972412109375, -16.549592971801758, -25.272293090820312, -24.294099807739258, -26.901399612426758, -26.28455352783203, -9.591360092163086, -12.127128601074219, -20.463788986206055, -19.627769470214844, -17.422483444213867, -20.10791015625, -10.321410179138184, -11.97960090637207, -17.291173934936523, -18.208873748779297, -13.3429594039917, -29.776222229003906, -3.519725799560547, -24.29365348815918, -24.734703063964844, -24.722023010253906, -10.28864574432373, -19.35606575012207, -16.587608337402344, -17.970529556274414, -11.439432144165039, -18.12549591064453, -19.503103256225586, -23.84855842590332, -11.2247896194458, -28.89219856262207, -22.50054359436035, -27.34161376953125, -24.027891159057617, -24.540721893310547, -4.168878555297852, -21.997997283935547, -26.847957611083984, -26.824249267578125, -20.343297958374023, -24.93809700012207, -21.357824325561523, -15.786717414855957, -27.525604248046875, -25.507335662841797], \"y\": [4.077237606048584, 9.170467376708984, 10.909958839416504, 8.765545845031738, 10.121636390686035, 6.015145301818848, 6.876645088195801, 9.272436141967773, 8.933932304382324, 7.749145984649658, 10.802014350891113, 9.629077911376953, 9.895952224731445, 7.3001627922058105, 9.020039558410645, 10.905736923217773, 13.92933177947998, 10.567604064941406, 5.410131454467773, 6.924032688140869, 6.63829231262207, 8.692168235778809, 10.39490795135498, 5.287140369415283, 11.491450309753418, 5.4056172370910645, 10.290318489074707, 9.381810188293457, 9.509793281555176, 12.104186058044434, 8.464280128479004, 13.869664192199707, 8.956009864807129, 11.04875373840332, 10.489238739013672, 7.81780481338501, 8.515860557556152, 6.768393039703369, 3.958097219467163, 7.210871696472168, 12.092714309692383, 8.188762664794922, 11.517339706420898, 12.103654861450195, 4.528200626373291, 12.487237930297852, 13.035283088684082, 11.51145076751709, 6.101743698120117, 8.772119522094727, 9.625813484191895, 11.4946928024292, 6.369309425354004, 9.544075965881348, 8.233511924743652, 4.7869768142700195, 7.682253360748291, 12.124749183654785, 11.225607872009277, 9.824695587158203, 7.286408424377441, 9.529847145080566, 6.8113274574279785, 3.761040687561035, 9.499802589416504, 12.383376121520996, 8.779170036315918, 8.266932487487793, 7.96547269821167, 6.866448402404785, 9.78067398071289, 9.759033203125, 13.010354995727539, 9.743483543395996, 13.995672225952148, 8.859211921691895, 10.315587997436523, 7.806238651275635, 6.991232872009277, 8.757027626037598, 6.119165420532227, 10.634785652160645, 10.127771377563477, 7.61051607131958, 10.003918647766113, 8.95208740234375, 13.366113662719727, 13.70110034942627, 10.48813247680664, 5.65025520324707, 2.627105236053467, 6.932167053222656, 13.297622680664062, 6.158837795257568, 7.58123254776001, 4.882272243499756, 7.560266494750977, 4.598888397216797, 7.065905570983887, 5.48541259765625]}, {\"marker\": {\"color\": \"rgba(55, 128, 191, 1.0)\", \"line\": {\"width\": 1.3}, \"opacity\": 0.8, \"size\": 12, \"symbol\": \"circle\"}, \"mode\": \"markers\", \"name\": \"Couple 2\", \"text\": [\"jvoulais\", \"v\\u00e9rifier\", \"r\\u00e9flexion\", \"ha\", \"ajouter\", \"solo\", \"entrain\", \"\\ud83c\\uddeb\", \"impressionnant\", \"neige\", \"g\\u00e8re\", \"taff\", \"passion\", \"mens\", \"nez\", \"comptes\", \"back\", \"carri\\u00e8re\", \"\\ud83d\\ude1e\", \"sophie\", \"permis\", \"termine\", \"journal\", \"dise\", \"marie\", \"raclette\", \"crise\", \"croit\", \"r\\u00e8gles\", \"choqu\\u00e9\", \"rencontrer\", \"touche\", \"mdrrrrrr\", \"octobre\", \"uniquement\", \"alexia\", \"tente\", \"v\\u00e9lo\", \"naze\", \"28\", \"jalouse\", \"tente\", \"go\\u00fbts\", \"position\", \"saisons\", \"entretien\", \"cl\\u00e9\", \"inverse\", \"sud\", \"japonais\", \"bienvenue\", \"rendent\", \"madame\", \"gestion\", \"victoire\", \"tain\", \"regardant\", \"\\u00e9chec\", \"\\ud83c\\udf39\", \"gouvernement\", \"souris\", \"suisse\", \"ramener\", \"\\ud83e\\udd1e\", \"svt\", \"plaindre\", \"\\u270a\", \"refuse\", \"actuellement\", \"\\u00e9tude\", \"merciiiii\", \"lyon\", \"bjr\", \"tg\", \"trous\", \"bouffer\", \"familles\", \"choqu\\u00e9e\", \"90\", \"fatigu\\u00e9e\", \"lapin\", \"pay\\u00e9\", \"\\ud83e\\udd19\", \"regrette\", \"sah\", \"exp\\u00e9rience\", \"z\\u00e9ro\", \"manga\", \"batterie\", \"charge\", \"al\", \"sales\", \"calmer\", \"kiff\\u00e9\", \"\\ud83d\\ude30\", \"13\", \"animal\", \"2e\", \"r\\u00e9veille\", \"3h\"], \"textfont\": {\"color\": \"#4D5663\"}, \"type\": \"scatter\", \"x\": [2.2978515625, -1.7628629207611084, -4.6053547859191895, 13.958624839782715, -3.9695515632629395, 5.300959587097168, 6.928274631500244, -2.472299337387085, -7.099539279937744, 7.192419052124023, -9.407037734985352, 5.304161071777344, -8.838607788085938, -9.902894973754883, 0.6266043186187744, -7.507600784301758, -3.5269157886505127, -3.6236965656280518, 3.52175235748291, -0.7496809959411621, 3.4914302825927734, -7.814739227294922, -7.936148643493652, -7.6294708251953125, 1.7208129167556763, -2.288466691970825, 3.000701665878296, 3.252589464187622, -6.080620765686035, 8.325526237487793, -2.515172004699707, -3.0944392681121826, 8.46245288848877, 1.512755274772644, -3.132277727127075, -6.152480125427246, -12.246891975402832, -2.2391300201416016, -4.010924816131592, 5.562707424163818, 3.605757713317871, -12.246891975402832, -4.768087387084961, -3.4235501289367676, -0.4098694324493408, 0.9060723781585693, -8.848584175109863, 7.395213603973389, 2.8710532188415527, -5.370915412902832, -0.0731264129281044, -9.229787826538086, 7.006814956665039, -11.665913581848145, -1.7398675680160522, -6.669131278991699, -6.922547340393066, 5.101731300354004, 1.4513521194458008, -1.3739283084869385, -5.665084362030029, -6.453788757324219, -7.430951118469238, -1.5679147243499756, -5.660711765289307, -5.324728488922119, -3.6056594848632812, -4.670851230621338, 7.061770915985107, -2.5925703048706055, -4.546425819396973, 2.007553815841675, -7.256288051605225, 7.833381175994873, -8.222930908203125, -1.856749176979065, -9.534127235412598, 9.163527488708496, 3.3039751052856445, 15.445024490356445, -8.938835144042969, 7.799539566040039, -1.4882543087005615, 2.807960271835327, 8.882256507873535, -0.10415235161781311, 4.760613441467285, 0.7061731815338135, -1.061713457107544, -5.468998432159424, 2.7399752140045166, -7.457548141479492, -3.419494867324829, -3.457874059677124, 5.6286234855651855, 6.554187774658203, -0.6951573491096497, 4.230256080627441, -2.5661990642547607, 5.736276626586914], \"y\": [0.7108176350593567, 2.2489116191864014, 0.8373432159423828, -1.440095067024231, 9.053972244262695, 2.708989143371582, -2.2744932174682617, 12.82317066192627, 3.1356704235076904, -2.1574082374572754, 3.0300393104553223, -8.126081466674805, -0.8124935030937195, 13.556506156921387, 6.041157245635986, 13.381648063659668, 9.681266784667969, 5.003377914428711, 5.03898286819458, 9.444397926330566, -5.435321807861328, -1.3573330640792847, 7.693483352661133, 1.5067944526672363, 3.7044565677642822, 3.808903455734253, 1.909735918045044, -0.5765051245689392, -2.0031514167785645, 0.7400895357131958, 2.328233242034912, -5.6309919357299805, 2.744633436203003, 4.749989032745361, 6.735945224761963, 10.540717124938965, 3.335334062576294, 6.644397258758545, 2.030069589614868, -4.582581043243408, 1.2588926553726196, 3.335334062576294, 8.889457702636719, 7.165546417236328, 2.7356197834014893, 7.397095680236816, 6.5916290283203125, 1.5924943685531616, 7.771218776702881, 7.624015808105469, 8.466672897338867, 3.163158893585205, 3.154937744140625, 4.081717491149902, 4.418148040771484, 4.4324631690979, 5.535645961761475, 5.058526992797852, 14.906213760375977, 0.35939106345176697, 8.646350860595703, 5.390021324157715, 7.271073818206787, 13.61080551147461, 4.832173824310303, -1.089627742767334, 12.661977767944336, 6.2817182540893555, -5.029225826263428, 5.801131248474121, 9.836955070495605, 7.110401153564453, 3.571056604385376, 3.2955167293548584, 5.307048797607422, 0.000302713131532073, 11.096807479858398, -0.5171605348587036, 3.8431286811828613, -5.629335403442383, 7.730090141296387, 2.2490017414093018, 13.625385284423828, 1.1645158529281616, 0.7319017648696899, 7.308283805847168, 4.138510704040527, 3.77306866645813, 3.5616371631622314, 6.924131870269775, 4.59043025970459, 11.176839828491211, -0.3999210298061371, 1.7182128429412842, 3.7406504154205322, -5.590529441833496, 7.797981262207031, 2.131606340408325, -3.6917614936828613, -7.568198204040527]}, {\"marker\": {\"color\": \"rgba(50, 171, 96, 1.0)\", \"line\": {\"width\": 1.3}, \"opacity\": 0.8, \"size\": 12, \"symbol\": \"circle\"}, \"mode\": \"markers\", \"name\": \"Couple 3\", \"text\": [\"ligne\", \"bravo\", \"in\", \"aujourdhui\", \"rend\", \"nan\", \"pire\", \"chaque\", \"ya\", \"change\", \"mdrrr\", \"\\ud83d\\ude06\", \"connais\", \"clairement\", \"an\", \"min\", \"pourtant\", \"\\u00e9couter\", \"magnifique\", \"o\", \"force\", \"doigts\", \"perso\", \"compl\\u00e8tement\", \"grand\", \"content\", \"elles\", \"ptn\", \"tl\", \"inqui\\u00e8te\", \"tt\", \"filles\", \"hyper\", \"no\", \"\\ud83d\\ude2a\", \"facile\", \"ailleurs\", \"grande\", \"putain\", \"pense\", \"super\", \"savez\", \"\\ud83e\\udd14\", \"autant\", \"mdrrrr\", \"sortie\", \"partie\", \"moment\", \"bonjour\", \"vos\", \"tf1\", \"verra\", \"\\ud83d\\ude22\", \"dois\", \"eux\", \"g\\u00e9nial\", \"faites\", \"gars\", \"pcq\", \"coup\", \"quelques\", \"laisser\", \"contente\", \"serai\", \"jeux\", \"hyper\", \"stage\", \"aurait\", \"chaud\", \"joue\", \"janvier\", \"trucs\", \"\\ud83d\\ude14\", \"heureux\", \"quelle\", \"change\", \"chat\", \"peur\", \"jui\", \"r\\u00e9ponse\", \"heureuse\", \"sport\", \"eu\", \"parti\", \"pire\", \"corps\", \"15\", \"stp\", \"the\", \"quel\", \"semaine\", \"maison\", \"porte\", \"8\", \"bac\", \"chang\\u00e9\", \"vrais\", \"ahah\", \"\\ud83d\\ude29\", \"allez\"], \"textfont\": {\"color\": \"#4D5663\"}, \"type\": \"scatter\", \"x\": [2.8824713230133057, 7.3333330154418945, 0.6137276291847229, 14.88838005065918, 17.923751831054688, 13.525096893310547, 19.846454620361328, 24.953210830688477, 17.188749313354492, -6.715318202972412, 17.335304260253906, 11.614968299865723, -3.101649284362793, 17.367841720581055, 5.17212438583374, 6.565697193145752, 15.541610717773438, 12.758699417114258, 7.470576286315918, 11.976655006408691, -4.800790309906006, 2.588827133178711, 16.884241104125977, 10.431930541992188, -6.394716262817383, 14.099032402038574, 12.476813316345215, 19.94331932067871, 9.133721351623535, 3.829120635986328, 22.08222198486328, -6.962249279022217, 14.563313484191895, 12.372475624084473, 10.546699523925781, 14.790739059448242, 9.421541213989258, 7.1288299560546875, 21.508546829223633, 22.457984924316406, 16.757976531982422, 17.288101196289062, 16.326175689697266, 17.22690773010254, 15.276129722595215, 4.535885334014893, 9.003719329833984, 26.315519332885742, -5.001465320587158, -1.853416919708252, 5.894405364990234, 13.825959205627441, 8.323410034179688, 3.876143455505371, 9.697752952575684, 15.187400817871094, 18.725677490234375, 18.30769920349121, 16.477237701416016, 26.174528121948242, 8.437264442443848, -1.8580974340438843, 12.601054191589355, 4.985315322875977, 0.7813214063644409, 14.948003768920898, 6.255736351013184, 16.04155158996582, 15.905689239501953, 1.8774436712265015, 15.687346458435059, -4.2572855949401855, 9.942145347595215, 12.728605270385742, 6.670386791229248, -6.715318202972412, 2.0339291095733643, 14.408580780029297, 13.839147567749023, -3.8939945697784424, 12.878905296325684, 6.553823947906494, 20.92584228515625, 13.934115409851074, 20.151771545410156, 2.535045623779297, 8.14980697631836, 8.294940948486328, 0.08974649012088776, 1.685243844985962, 26.168725967407227, 8.928475379943848, -7.785122394561768, 5.829623222351074, 12.39108657836914, 2.0807461738586426, -1.6192952394485474, 15.365324974060059, 11.353362083435059, 5.9442644119262695], \"y\": [7.86877965927124, 4.995998859405518, 14.154953956604004, -9.93481159210205, 0.6359367966651917, -6.83280611038208, -15.647465705871582, -14.009249687194824, 0.5776258111000061, -6.976309776306152, -7.499518871307373, 3.0723752975463867, -6.706065654754639, -6.2952070236206055, -6.282038688659668, -6.512200832366943, -2.4119815826416016, -10.807523727416992, -4.833470821380615, 0.950326681137085, -2.4338502883911133, -4.8005170822143555, -9.449101448059082, 0.9719111919403076, -6.639714241027832, -2.331714630126953, -6.440291404724121, -13.102513313293457, 9.326350212097168, 15.19294548034668, -11.725772857666016, 14.286078453063965, -4.660211563110352, 1.6947009563446045, 3.1332809925079346, -1.0260673761367798, -3.0451481342315674, 8.18730354309082, -14.493148803710938, -13.46232795715332, -9.197587966918945, 0.035050224512815475, 1.9486325979232788, -4.064619064331055, -7.156513690948486, -8.112040519714355, 10.0469970703125, -17.519977569580078, -4.0629377365112305, 15.285684585571289, 1.2879838943481445, 6.151460647583008, -2.947234630584717, -0.7125473618507385, 3.6648240089416504, -3.515777587890625, 0.2044227570295334, -10.525660514831543, -8.23285961151123, -15.589298248291016, -5.838771343231201, -2.805506467819214, -3.4930436611175537, 0.20980747044086456, 5.3524017333984375, -4.662821292877197, -8.707627296447754, 5.186805248260498, -6.1961188316345215, -1.0608850717544556, -10.240169525146484, -3.6899142265319824, 2.1335396766662598, -0.8561632037162781, 10.827902793884277, -6.976309776306152, -6.324758529663086, -6.766537189483643, -2.883497953414917, -2.2928881645202637, -2.4398155212402344, -7.982937812805176, -10.45893669128418, -9.903700828552246, -15.268173217773438, -5.690217018127441, -6.529150485992432, 3.5216073989868164, 14.583081245422363, 10.883370399475098, -12.090170860290527, 10.229558944702148, -0.7885703444480896, -5.611283779144287, -10.62026596069336, -4.076246738433838, -5.500588893890381, -1.6065409183502197, 3.908135175704956, -2.041865110397339]}, {\"marker\": {\"color\": \"rgba(128, 0, 128, 1.0)\", \"line\": {\"width\": 1.3}, \"opacity\": 0.8, \"size\": 12, \"symbol\": \"circle\"}, \"mode\": \"markers\", \"name\": \"Couple 4\", \"text\": [\"pour\", \"qui\", \"\\ud83d\\ude2d\", \"vu\", \"mal\", \"y\", \"te\", \"faire\", \"qui\", \"lui\", \"fais\", \"\\u00e7a\", \"qu\", \"elle\", \"est\", \"ou\", \"toujours\", \"vrai\", \"comme\", \"fais\", \"me\", \"moi\", \"donc\", \"comment\", \"es\", \"sur\", \"faut\", \"rien\", \"comme\", \"d\", \"vous\", \"alors\", \"m\", \"\\ufe0f\", \"\\u00e0\", \"trop\", \"ma\", \"dire\", \"sur\", \"mal\", \"jamais\", \"merci\", \"s\", \"mdr\", \"lowfrequencyword\", \"bien\", \"temps\", \"voir\", \"lui\", \"y\", \"2\", \"vous\", \"ta\", \"bon\", \"on\", \"donc\", \"ton\", \"ta\", \"peut\", \"aime\", \"\\u00eatre\", \"envie\", \"2\", \"que\", \"ont\", \"rien\", \"sa\", \"ne\", \"nous\", \"avoir\", \"on\", \"ai\", \"vie\", \"que\", \"tr\\u00e8s\", \"donc\", \"vais\", \"\\u00eatre\", \"dire\", \"ne\", \"bonne\", \"sont\", \"alors\", \"qu\", \"j\", \"nickname\", \"l\\u00e0\", \"ca\", \"va\", \"encore\", \"sais\", \"tous\", \"moi\", \"temps\", \"mes\", \"apr\\u00e8s\", \"rien\", \"sur\", \"plus\", \"avoir\"], \"textfont\": {\"color\": \"#4D5663\"}, \"type\": \"scatter\", \"x\": [-10.264296531677246, 19.894338607788086, 18.048717498779297, 13.738178253173828, 20.947917938232422, 22.784276962280273, 27.518535614013672, 22.418283462524414, 19.893985748291016, 25.847951889038086, 12.604548454284668, 20.124797821044922, 27.07505989074707, 19.211854934692383, 16.60045051574707, -7.902659893035889, 20.245635986328125, 17.181331634521484, -14.293954849243164, 12.604548454284668, 28.20431900024414, 29.171409606933594, 21.703838348388672, 19.790082931518555, -0.16131964325904846, -24.562776565551758, 17.93635368347168, 25.54207992553711, -10.55937671661377, 13.258142471313477, -14.479618072509766, 18.643686294555664, 21.960912704467773, -0.47568821907043457, 25.436845779418945, 17.201200485229492, 1.2422568798065186, 21.31418228149414, -24.56276512145996, 21.468608856201172, 23.731582641601562, -2.85957670211792, 5.698770523071289, 19.212963104248047, -5.796022415161133, 22.763916015625, 25.117977142333984, 27.839771270751953, 25.847951889038086, 22.784320831298828, 23.717226028442383, -14.479717254638672, 5.311434745788574, 15.357616424560547, 19.21042823791504, 21.34185028076172, -2.4438111782073975, 0.5964256525039673, 7.002849102020264, 2.3236083984375, 17.31171226501465, 22.729324340820312, 23.626636505126953, 25.210403442382812, 15.719815254211426, 25.74536895751953, 27.704086303710938, 16.416139602661133, 6.420204162597656, 26.936294555664062, 19.21042823791504, 26.96792221069336, 25.072526931762695, 25.210418701171875, 13.46903133392334, 21.072099685668945, 27.69440269470215, 17.31171226501465, 21.31418228149414, 16.416175842285156, 1.1152876615524292, 14.951925277709961, 18.643686294555664, 27.074970245361328, 20.39383888244629, 16.255706787109375, 20.61867904663086, 19.809947967529297, 6.105736255645752, 20.36853790283203, 17.29633903503418, 21.825788497924805, 29.171409606933594, 25.12830924987793, -13.686602592468262, 22.693172454833984, 25.15741729736328, -24.562746047973633, 20.015085220336914, 26.936290740966797], \"y\": [-6.394025802612305, -24.569618225097656, -7.915431022644043, -15.040567398071289, -17.17781639099121, -21.32689094543457, -14.295608520507812, -24.267833709716797, -24.569236755371094, -14.181453704833984, -15.546550750732422, -21.483963012695312, -21.67913246154785, -21.580978393554688, 5.142467021942139, -5.679691314697266, -14.121708869934082, -13.84431266784668, 14.210835456848145, -15.546550750732422, -12.647151947021484, -16.49407386779785, -15.812703132629395, -16.649446487426758, 18.069408416748047, -0.3830529451370239, -17.04505157470703, -18.762094497680664, -5.427516460418701, 6.7786030769348145, -2.045426607131958, -11.900229454040527, -8.686134338378906, 18.07784080505371, -10.820623397827148, -15.096444129943848, -12.619695663452148, -24.013029098510742, -0.38305267691612244, -17.19463348388672, -19.194101333618164, 17.353261947631836, -15.588205337524414, -14.709829330444336, -2.2541751861572266, -19.44342041015625, -17.43219757080078, -17.44375228881836, -14.181453704833984, -21.326847076416016, -13.763111114501953, -2.045417070388794, 10.154121398925781, -12.071386337280273, -22.440893173217773, -15.51742172241211, 17.60047721862793, -10.69066333770752, -15.667771339416504, 15.099207878112793, -18.105623245239258, -14.038066864013672, -13.47218132019043, -23.195777893066406, 5.27392578125, -18.42041778564453, -11.275842666625977, -21.104856491088867, 11.09998893737793, -15.600269317626953, -22.440893173217773, -18.921241760253906, -11.386550903320312, -23.195728302001953, -7.305200099945068, -15.049867630004883, -11.66569995880127, -18.105623245239258, -24.013029098510742, -21.1048526763916, -11.328008651733398, 5.458889961242676, -11.900229454040527, -21.67913818359375, -22.96506690979004, -11.205887794494629, -16.139184951782227, -20.532238006591797, -15.615056991577148, -17.718339920043945, -5.312860488891602, -9.51054859161377, -16.49407386779785, -17.42970848083496, -1.270613193511963, -15.001045227050781, -18.536975860595703, -0.3830534815788269, -19.77194595336914, -15.600275039672852]}],\n",
       "                        {\"legend\": {\"bgcolor\": \"#F5F6F9\", \"font\": {\"color\": \"#4D5663\"}}, \"paper_bgcolor\": \"#F5F6F9\", \"plot_bgcolor\": \"#F5F6F9\", \"template\": {\"data\": {\"bar\": [{\"error_x\": {\"color\": \"#2a3f5f\"}, \"error_y\": {\"color\": \"#2a3f5f\"}, \"marker\": {\"line\": {\"color\": \"#E5ECF6\", \"width\": 0.5}}, \"type\": \"bar\"}], \"barpolar\": [{\"marker\": {\"line\": {\"color\": \"#E5ECF6\", \"width\": 0.5}}, \"type\": \"barpolar\"}], \"carpet\": [{\"aaxis\": {\"endlinecolor\": \"#2a3f5f\", \"gridcolor\": \"white\", \"linecolor\": \"white\", \"minorgridcolor\": \"white\", \"startlinecolor\": \"#2a3f5f\"}, \"baxis\": {\"endlinecolor\": \"#2a3f5f\", \"gridcolor\": \"white\", \"linecolor\": \"white\", \"minorgridcolor\": \"white\", \"startlinecolor\": \"#2a3f5f\"}, \"type\": \"carpet\"}], \"choropleth\": [{\"colorbar\": {\"outlinewidth\": 0, \"ticks\": \"\"}, \"type\": \"choropleth\"}], \"contour\": [{\"colorbar\": {\"outlinewidth\": 0, \"ticks\": \"\"}, \"colorscale\": [[0.0, \"#0d0887\"], [0.1111111111111111, \"#46039f\"], [0.2222222222222222, \"#7201a8\"], [0.3333333333333333, \"#9c179e\"], [0.4444444444444444, \"#bd3786\"], [0.5555555555555556, \"#d8576b\"], [0.6666666666666666, \"#ed7953\"], [0.7777777777777778, \"#fb9f3a\"], [0.8888888888888888, \"#fdca26\"], [1.0, \"#f0f921\"]], \"type\": \"contour\"}], \"contourcarpet\": [{\"colorbar\": {\"outlinewidth\": 0, \"ticks\": \"\"}, \"type\": \"contourcarpet\"}], \"heatmap\": [{\"colorbar\": {\"outlinewidth\": 0, \"ticks\": \"\"}, \"colorscale\": [[0.0, \"#0d0887\"], [0.1111111111111111, \"#46039f\"], [0.2222222222222222, \"#7201a8\"], [0.3333333333333333, \"#9c179e\"], [0.4444444444444444, \"#bd3786\"], [0.5555555555555556, \"#d8576b\"], [0.6666666666666666, \"#ed7953\"], [0.7777777777777778, \"#fb9f3a\"], [0.8888888888888888, \"#fdca26\"], [1.0, \"#f0f921\"]], \"type\": \"heatmap\"}], \"heatmapgl\": [{\"colorbar\": {\"outlinewidth\": 0, \"ticks\": \"\"}, \"colorscale\": [[0.0, \"#0d0887\"], [0.1111111111111111, \"#46039f\"], [0.2222222222222222, \"#7201a8\"], [0.3333333333333333, \"#9c179e\"], [0.4444444444444444, \"#bd3786\"], [0.5555555555555556, \"#d8576b\"], [0.6666666666666666, \"#ed7953\"], [0.7777777777777778, \"#fb9f3a\"], [0.8888888888888888, \"#fdca26\"], [1.0, \"#f0f921\"]], \"type\": \"heatmapgl\"}], \"histogram\": [{\"marker\": {\"colorbar\": {\"outlinewidth\": 0, \"ticks\": \"\"}}, \"type\": \"histogram\"}], \"histogram2d\": [{\"colorbar\": {\"outlinewidth\": 0, \"ticks\": \"\"}, \"colorscale\": [[0.0, \"#0d0887\"], [0.1111111111111111, \"#46039f\"], [0.2222222222222222, \"#7201a8\"], [0.3333333333333333, \"#9c179e\"], [0.4444444444444444, \"#bd3786\"], [0.5555555555555556, \"#d8576b\"], [0.6666666666666666, \"#ed7953\"], [0.7777777777777778, \"#fb9f3a\"], [0.8888888888888888, \"#fdca26\"], [1.0, \"#f0f921\"]], \"type\": \"histogram2d\"}], \"histogram2dcontour\": [{\"colorbar\": {\"outlinewidth\": 0, \"ticks\": \"\"}, \"colorscale\": [[0.0, \"#0d0887\"], [0.1111111111111111, \"#46039f\"], [0.2222222222222222, \"#7201a8\"], [0.3333333333333333, \"#9c179e\"], [0.4444444444444444, \"#bd3786\"], [0.5555555555555556, \"#d8576b\"], [0.6666666666666666, \"#ed7953\"], [0.7777777777777778, \"#fb9f3a\"], [0.8888888888888888, \"#fdca26\"], [1.0, \"#f0f921\"]], \"type\": \"histogram2dcontour\"}], \"mesh3d\": [{\"colorbar\": {\"outlinewidth\": 0, \"ticks\": \"\"}, \"type\": \"mesh3d\"}], \"parcoords\": [{\"line\": {\"colorbar\": {\"outlinewidth\": 0, \"ticks\": \"\"}}, \"type\": \"parcoords\"}], \"pie\": [{\"automargin\": true, \"type\": \"pie\"}], \"scatter\": [{\"marker\": {\"colorbar\": {\"outlinewidth\": 0, \"ticks\": \"\"}}, \"type\": \"scatter\"}], \"scatter3d\": [{\"line\": {\"colorbar\": {\"outlinewidth\": 0, \"ticks\": \"\"}}, \"marker\": {\"colorbar\": {\"outlinewidth\": 0, \"ticks\": \"\"}}, \"type\": \"scatter3d\"}], \"scattercarpet\": [{\"marker\": {\"colorbar\": {\"outlinewidth\": 0, \"ticks\": \"\"}}, \"type\": \"scattercarpet\"}], \"scattergeo\": [{\"marker\": {\"colorbar\": {\"outlinewidth\": 0, \"ticks\": \"\"}}, \"type\": \"scattergeo\"}], \"scattergl\": [{\"marker\": {\"colorbar\": {\"outlinewidth\": 0, \"ticks\": \"\"}}, \"type\": \"scattergl\"}], \"scattermapbox\": [{\"marker\": {\"colorbar\": {\"outlinewidth\": 0, \"ticks\": \"\"}}, \"type\": \"scattermapbox\"}], \"scatterpolar\": [{\"marker\": {\"colorbar\": {\"outlinewidth\": 0, \"ticks\": \"\"}}, \"type\": \"scatterpolar\"}], \"scatterpolargl\": [{\"marker\": {\"colorbar\": {\"outlinewidth\": 0, \"ticks\": \"\"}}, \"type\": \"scatterpolargl\"}], \"scatterternary\": [{\"marker\": {\"colorbar\": {\"outlinewidth\": 0, \"ticks\": \"\"}}, \"type\": \"scatterternary\"}], \"surface\": [{\"colorbar\": {\"outlinewidth\": 0, \"ticks\": \"\"}, \"colorscale\": [[0.0, \"#0d0887\"], [0.1111111111111111, \"#46039f\"], [0.2222222222222222, \"#7201a8\"], [0.3333333333333333, \"#9c179e\"], [0.4444444444444444, \"#bd3786\"], [0.5555555555555556, \"#d8576b\"], [0.6666666666666666, \"#ed7953\"], [0.7777777777777778, \"#fb9f3a\"], [0.8888888888888888, \"#fdca26\"], [1.0, \"#f0f921\"]], \"type\": \"surface\"}], \"table\": [{\"cells\": {\"fill\": {\"color\": \"#EBF0F8\"}, \"line\": {\"color\": \"white\"}}, \"header\": {\"fill\": {\"color\": \"#C8D4E3\"}, \"line\": {\"color\": \"white\"}}, \"type\": \"table\"}]}, \"layout\": {\"annotationdefaults\": {\"arrowcolor\": \"#2a3f5f\", \"arrowhead\": 0, \"arrowwidth\": 1}, \"coloraxis\": {\"colorbar\": {\"outlinewidth\": 0, \"ticks\": \"\"}}, \"colorscale\": {\"diverging\": [[0, \"#8e0152\"], [0.1, \"#c51b7d\"], [0.2, \"#de77ae\"], [0.3, \"#f1b6da\"], [0.4, \"#fde0ef\"], [0.5, \"#f7f7f7\"], [0.6, \"#e6f5d0\"], [0.7, \"#b8e186\"], [0.8, \"#7fbc41\"], [0.9, \"#4d9221\"], [1, \"#276419\"]], \"sequential\": [[0.0, \"#0d0887\"], [0.1111111111111111, \"#46039f\"], [0.2222222222222222, \"#7201a8\"], [0.3333333333333333, \"#9c179e\"], [0.4444444444444444, \"#bd3786\"], [0.5555555555555556, \"#d8576b\"], [0.6666666666666666, \"#ed7953\"], [0.7777777777777778, \"#fb9f3a\"], [0.8888888888888888, \"#fdca26\"], [1.0, \"#f0f921\"]], \"sequentialminus\": [[0.0, \"#0d0887\"], [0.1111111111111111, \"#46039f\"], [0.2222222222222222, \"#7201a8\"], [0.3333333333333333, \"#9c179e\"], [0.4444444444444444, \"#bd3786\"], [0.5555555555555556, \"#d8576b\"], [0.6666666666666666, \"#ed7953\"], [0.7777777777777778, \"#fb9f3a\"], [0.8888888888888888, \"#fdca26\"], [1.0, \"#f0f921\"]]}, \"colorway\": [\"#636efa\", \"#EF553B\", \"#00cc96\", \"#ab63fa\", \"#FFA15A\", \"#19d3f3\", \"#FF6692\", \"#B6E880\", \"#FF97FF\", \"#FECB52\"], \"font\": {\"color\": \"#2a3f5f\"}, \"geo\": {\"bgcolor\": \"white\", \"lakecolor\": \"white\", \"landcolor\": \"#E5ECF6\", \"showlakes\": true, \"showland\": true, \"subunitcolor\": \"white\"}, \"hoverlabel\": {\"align\": \"left\"}, \"hovermode\": \"closest\", \"mapbox\": {\"style\": \"light\"}, \"paper_bgcolor\": \"white\", \"plot_bgcolor\": \"#E5ECF6\", \"polar\": {\"angularaxis\": {\"gridcolor\": \"white\", \"linecolor\": \"white\", \"ticks\": \"\"}, \"bgcolor\": \"#E5ECF6\", \"radialaxis\": {\"gridcolor\": \"white\", \"linecolor\": \"white\", \"ticks\": \"\"}}, \"scene\": {\"xaxis\": {\"backgroundcolor\": \"#E5ECF6\", \"gridcolor\": \"white\", \"gridwidth\": 2, \"linecolor\": \"white\", \"showbackground\": true, \"ticks\": \"\", \"zerolinecolor\": \"white\"}, \"yaxis\": {\"backgroundcolor\": \"#E5ECF6\", \"gridcolor\": \"white\", \"gridwidth\": 2, \"linecolor\": \"white\", \"showbackground\": true, \"ticks\": \"\", \"zerolinecolor\": \"white\"}, \"zaxis\": {\"backgroundcolor\": \"#E5ECF6\", \"gridcolor\": \"white\", \"gridwidth\": 2, \"linecolor\": \"white\", \"showbackground\": true, \"ticks\": \"\", \"zerolinecolor\": \"white\"}}, \"shapedefaults\": {\"line\": {\"color\": \"#2a3f5f\"}}, \"ternary\": {\"aaxis\": {\"gridcolor\": \"white\", \"linecolor\": \"white\", \"ticks\": \"\"}, \"baxis\": {\"gridcolor\": \"white\", \"linecolor\": \"white\", \"ticks\": \"\"}, \"bgcolor\": \"#E5ECF6\", \"caxis\": {\"gridcolor\": \"white\", \"linecolor\": \"white\", \"ticks\": \"\"}}, \"title\": {\"x\": 0.05}, \"xaxis\": {\"automargin\": true, \"gridcolor\": \"white\", \"linecolor\": \"white\", \"ticks\": \"\", \"title\": {\"standoff\": 15}, \"zerolinecolor\": \"white\", \"zerolinewidth\": 2}, \"yaxis\": {\"automargin\": true, \"gridcolor\": \"white\", \"linecolor\": \"white\", \"ticks\": \"\", \"title\": {\"standoff\": 15}, \"zerolinecolor\": \"white\", \"zerolinewidth\": 2}}}, \"title\": {\"font\": {\"color\": \"#4D5663\"}, \"text\": \"TSNE\"}, \"xaxis\": {\"gridcolor\": \"#E1E5ED\", \"showgrid\": true, \"tickfont\": {\"color\": \"#4D5663\"}, \"title\": {\"font\": {\"color\": \"#4D5663\"}, \"text\": \"Axe 1\"}, \"zerolinecolor\": \"#E1E5ED\"}, \"yaxis\": {\"gridcolor\": \"#E1E5ED\", \"showgrid\": true, \"tickfont\": {\"color\": \"#4D5663\"}, \"title\": {\"font\": {\"color\": \"#4D5663\"}, \"text\": \"Axe 2\"}, \"zerolinecolor\": \"#E1E5ED\"}},\n",
       "                        {\"showLink\": true, \"linkText\": \"Export to plot.ly\", \"plotlyServerURL\": \"https://plot.ly\", \"responsive\": true}\n",
       "                    ).then(function(){\n",
       "                            \n",
       "var gd = document.getElementById('c15a95cb-ff94-46c7-ba05-1d6935fe5ac0');\n",
       "var x = new MutationObserver(function (mutations, observer) {{\n",
       "        var display = window.getComputedStyle(gd).display;\n",
       "        if (!display || display === 'none') {{\n",
       "            console.log([gd, 'removed!']);\n",
       "            Plotly.purge(gd);\n",
       "            observer.disconnect();\n",
       "        }}\n",
       "}});\n",
       "\n",
       "// Listen for the removal of the full notebook cells\n",
       "var notebookContainer = gd.closest('#notebook-container');\n",
       "if (notebookContainer) {{\n",
       "    x.observe(notebookContainer, {childList: true});\n",
       "}}\n",
       "\n",
       "// Listen for the clearing of the current output cell\n",
       "var outputEl = gd.closest('.output');\n",
       "if (outputEl) {{\n",
       "    x.observe(outputEl, {childList: true});\n",
       "}}\n",
       "\n",
       "                        })\n",
       "                };\n",
       "                });\n",
       "            </script>\n",
       "        </div>"
      ]
     },
     "metadata": {},
     "output_type": "display_data"
    }
   ],
   "source": [
    "tsne_graph(liste2, statique = False,\n",
    "           nom_couples_explicite = True)#Paramètre ne marche pas : a debuger ?"
   ]
  }
 ],
 "metadata": {
  "kernelspec": {
   "display_name": "Python 3",
   "language": "python",
   "name": "python3"
  },
  "language_info": {
   "codemirror_mode": {
    "name": "ipython",
    "version": 3
   },
   "file_extension": ".py",
   "mimetype": "text/x-python",
   "name": "python",
   "nbconvert_exporter": "python",
   "pygments_lexer": "ipython3",
   "version": "3.6.5"
  }
 },
 "nbformat": 4,
 "nbformat_minor": 2
}
