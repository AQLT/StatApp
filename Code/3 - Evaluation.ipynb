{
 "cells": [
  {
   "cell_type": "markdown",
   "metadata": {},
   "source": [
    "# Importation des données"
   ]
  },
  {
   "cell_type": "code",
   "execution_count": 44,
   "metadata": {},
   "outputs": [],
   "source": [
    "import os\n",
    "import string\n",
    "import re\n",
    "import math\n",
    "from math import sqrt\n",
    "import numpy as np\n",
    "import random\n",
    "import time\n",
    "import pandas as pd\n",
    "import nltk, re, pprint\n",
    "#nltk.download('punkt')\n",
    "from nltk import word_tokenize\n",
    "random.seed(1)\n",
    "np.random.seed(1)\n",
    "\n",
    "import matplotlib.pyplot as plt\n",
    "from IPython.display import clear_output\n",
    "from matplotlib import pyplot as plt\n",
    "import collections\n",
    "%matplotlib inline\n",
    "\n",
    "import torch\n",
    "import torch.nn as nn\n",
    "import torch.nn.functional as F\n",
    "import torch.optim as optim\n",
    "import torch.autograd as autograd\n",
    "\n",
    "import pickle\n",
    "\n",
    "#PCA & TSNE : \n",
    "from sklearn.preprocessing import StandardScaler\n",
    "from sklearn.decomposition import PCA\n",
    "from sklearn.manifold import TSNE\n",
    "from scipy.stats import spearmanr\n",
    "\n",
    "import plotly\n",
    "import plotly.graph_objs as go\n",
    "from plotly.offline import download_plotlyjs, init_notebook_mode, plot, iplot\n",
    "import cufflinks as cf\n",
    "import seaborn as sns\n",
    "\n",
    "import gensim\n",
    "from gensim.models import word2vec\n",
    "\n",
    "import rpy2.robjects as r"
   ]
  },
  {
   "cell_type": "code",
   "execution_count": 16,
   "metadata": {},
   "outputs": [
    {
     "data": {
      "text/plain": [
       "99718"
      ]
     },
     "execution_count": 16,
     "metadata": {},
     "output_type": "execute_result"
    }
   ],
   "source": [
    "nom_dossier = \"100k\"\n",
    "gensim_utile = True #True pour le modèle google, False pour le modele ARK\n",
    "\n",
    "#os.chdir('C:/Users/torna/Documents/StatApp/StatApp')\n",
    "#os.chdir('/Users/alainquartierlatente/Desktop/Ensae/StatApp')\n",
    "os.chdir('C:/Users/Kim Antunez/Documents/Projets_autres/StatApp')\n",
    "#os.chdir('/home/aqlt/Documents/Ensae/StatApp')\n",
    "\n",
    "\n",
    "with open(\"data/corpus_trie%s.file\" %nom_dossier, \"rb\") as f:\n",
    "    corpus = pickle.load(f) \n",
    "ens_tweets = [phrase.split() for phrase in corpus]\n",
    "len(ens_tweets)"
   ]
  },
  {
   "cell_type": "markdown",
   "metadata": {},
   "source": [
    "On crée index_mot et mot_index"
   ]
  },
  {
   "cell_type": "code",
   "execution_count": 17,
   "metadata": {},
   "outputs": [
    {
     "name": "stdout",
     "output_type": "stream",
     "text": [
      "<class 'list'>\n",
      "Nombre de mots : 1127347\n",
      "Taille du vocabulaire : 10960\n"
     ]
    }
   ],
   "source": [
    "phrases = ens_tweets\n",
    "words = [item for sublist in phrases for item in sublist]\n",
    "print(type(words))\n",
    "with open('data/%s/vocabulary.file' %nom_dossier, \"rb\") as f:\n",
    "    vocabulary = pickle.load(f) \n",
    "index_mot = {index: w for (index, w) in enumerate(vocabulary)}\n",
    "mot_index = {w: index for (index, w) in enumerate(vocabulary)}\n",
    "print(\"Nombre de mots :\", len(words))\n",
    "print(\"Taille du vocabulaire :\", len(vocabulary))\n",
    "fdist = nltk.FreqDist(words)"
   ]
  },
  {
   "cell_type": "code",
   "execution_count": 18,
   "metadata": {},
   "outputs": [
    {
     "name": "stdout",
     "output_type": "stream",
     "text": [
      "[('nickname', 89694), ('lowfrequencyword', 66423), ('de', 39312), ('le', 25066), ('est', 20926), ('je', 20215), ('les', 18382), ('c', 17566), ('j', 17252), ('la', 16791), ('à', 16484), ('pas', 16183), ('que', 12219), ('en', 12111), ('un', 11109), ('et', 10640), ('a', 10056), ('ça', 9730), ('ai', 9054), ('l', 8607), ('mais', 8261), ('il', 8238), ('pour', 7845), ('tu', 7399), ('d', 7333), ('on', 7000), ('une', 6829), ('😂', 6829), ('me', 6183), ('qui', 5452), ('ce', 5403), ('t', 5233), ('😭', 5064), ('dans', 4904), ('plus', 4861), ('sur', 4809), ('mon', 4499), ('moi', 4444), ('suis', 4422), ('qu', 4334), ('y', 4143), ('avec', 3948), ('fait', 3942), ('bien', 3884), ('vous', 3801), ('trop', 3793), ('ma', 3637), ('si', 3608), ('tout', 3286), ('m', 3206), ('elle', 3180), ('va', 3149), ('faire', 3054), ('même', 3032), ('merci', 2786), ('toi', 2757), ('ne', 2748), ('bon', 2691), ('quand', 2678), ('mdr', 2578), ('oui', 2508), ('ils', 2481), ('comme', 2456), ('non', 2446), ('n', 2438), ('se', 2343), ('là', 2256), ('être', 2255), ('aussi', 2241), ('te', 2236), ('️', 2187), ('quoi', 2153), ('vais', 2019), ('as', 1948), ('s', 1912), ('ou', 1901), ('ah', 1843), ('rien', 1823), ('es', 1813), ('mes', 1746), ('par', 1724), ('était', 1699), ('encore', 1612), ('vraiment', 1602), ('cette', 1596), ('faut', 1590), ('sont', 1548), ('😍', 1489), ('sa', 1461), ('ca', 1427), ('alors', 1392), ('nous', 1386), ('❤', 1375), ('voir', 1373), ('son', 1367), ('bah', 1365), ('fais', 1350), ('vie', 1345), ('sais', 1313), ('jamais', 1302)]\n"
     ]
    }
   ],
   "source": [
    "print(fdist.most_common(100))"
   ]
  },
  {
   "cell_type": "code",
   "execution_count": 19,
   "metadata": {},
   "outputs": [
    {
     "data": {
      "image/png": "[encoded data removed]",
      "text/plain": [
       "<Figure size 432x288 with 1 Axes>"
      ]
     },
     "metadata": {
      "needs_background": "light"
     },
     "output_type": "display_data"
    }
   ],
   "source": [
    "import matplotlib.pyplot as plt\n",
    "plt.hist(fdist.values(), bins=[0,10,20,50, 100, 200,400,800,max(fdist.values())],color='g') #width=100, range=(0, 50000)\n",
    "plt.xlim(xmin=0, xmax = 1100)\n",
    "plt.title('Fréquence des mots', fontsize=15)\n",
    "plt.show()"
   ]
  },
  {
   "cell_type": "markdown",
   "metadata": {},
   "source": [
    "# Fonctions générales\n",
    "\n",
    "## 1. Distances\n",
    "\n",
    "Pour tester la similarité entre deux mots, on calcule la **similarité cosinus** entre leur représentation vectorielle :\n",
    "$$\n",
    "\\frac{A \\cdot B}{|| A || \\cdot || B ||}\n",
    "$$\n",
    "\n",
    "On peut également calculer la **distance euclidienne** pour comparer les résultats avec ces deux métriques"
   ]
  },
  {
   "cell_type": "code",
   "execution_count": 20,
   "metadata": {},
   "outputs": [],
   "source": [
    "def cos_distance(u, v):\n",
    "    return (np.dot(u, v)  / (math.sqrt(np.dot(u, u)) *  (math.sqrt(np.dot(v, v)))))\n",
    "\n",
    "def eucl_distance(u, v):\n",
    "    return (1/(np.linalg.norm(u/np.dot(u, u)-v/np.dot(v, v)))+1)"
   ]
  },
  {
   "cell_type": "markdown",
   "metadata": {},
   "source": [
    "Cette fonction permet d'afficher les n mots les plus proche d'un mot (distance cosinus ou euclidienne)"
   ]
  },
  {
   "cell_type": "code",
   "execution_count": 21,
   "metadata": {},
   "outputs": [],
   "source": [
    "def mot_plus_proche(word, n=10, distance=\"cos\"):\n",
    "    word_distance = {}\n",
    "    for mot in mot_poids:\n",
    "        if mot != word:\n",
    "            if distance == \"cos\":\n",
    "                word_distance[mot] = (cos_distance(mot_poids[mot],(mot_poids[word])))\n",
    "            else:\n",
    "                word_distance[mot] = (eucl_distance(mot_poids[mot],(mot_poids[word])))\n",
    "    word_distance = sorted(word_distance.items(), key=lambda t: t[1],reverse=True)\n",
    "    return word_distance[0:n]"
   ]
  },
  {
   "cell_type": "markdown",
   "metadata": {},
   "source": [
    "Cette fonction permet de calculer la distance entre deux mots. "
   ]
  },
  {
   "cell_type": "code",
   "execution_count": 22,
   "metadata": {},
   "outputs": [],
   "source": [
    "def distance_mots(word1,word2, mot_poids, distance=\"cos\"):\n",
    "    if word1 in mot_poids.keys() and word2 in mot_poids.keys():\n",
    "        if(distance==\"cos\"):\n",
    "            word_distance = (cos_distance(mot_poids[word1],(mot_poids[word2])))\n",
    "        else:\n",
    "            word_distance = (eucl_distance(mot_poids[word1],(mot_poids[word2])))\n",
    "    else:\n",
    "        word_distance = float('nan')\n",
    "    return word_distance\n",
    "distance_mots_v = np.vectorize(distance_mots)"
   ]
  },
  {
   "cell_type": "markdown",
   "metadata": {},
   "source": [
    "# Evaluer un seul modèle \n",
    "\n",
    "Ecrire les bilans ici : https://github.com/AQLT/StatApp/blob/master/Code/Parametres%20lances.md\n",
    "\n",
    "\n",
    "## 1. Charger le modèle\n",
    "\n",
    "\n",
    "Paramètres à modifier "
   ]
  },
  {
   "cell_type": "code",
   "execution_count": 23,
   "metadata": {},
   "outputs": [],
   "source": [
    "if gensim_utile: # Pour le modèle Google\n",
    "    # renseigner dans l'ordre : dim, epoch, window, learning_rate\n",
    "    simul = [50,100,3,0.01] # une seule simulation dans cette partie\n",
    "    dim = simul[0]\n",
    "    epoch = simul[1]\n",
    "    window = simul[2]\n",
    "    learning_rate = simul[3]\n",
    "    seed = 1\n",
    "else: # Pour le modèle ARK (à modifier ultérieurement avec nouveau nommage)\n",
    "    numero_simulation = 2\n",
    "    seed = 1\n",
    "    derniere_epoch = 10 "
   ]
  },
  {
   "cell_type": "code",
   "execution_count": 24,
   "metadata": {},
   "outputs": [],
   "source": [
    "if gensim_utile: # Pour le modèle Google\n",
    "    #chemin = \"data/\" + nom_dossier + \"/gensim/Simulation_\" + str(numero_simulation) +\"_seed\"+ str(seed)\n",
    "    chemin = \"data/{}/gensim/dim{}_ep{}_w{}_lr{}_seed{}\".format(nom_dossier, dim, epoch, window, str(learning_rate)[2:], seed)  \n",
    "    model = gensim.models.keyedvectors.KeyedVectors.load(chemin + \"/word2vec.model\")\n",
    "    py_list = []\n",
    "    for mot in vocabulary:\n",
    "         py_list.append(model.wv[mot].tolist())   \n",
    "    mat_finale = torch.FloatTensor(py_list)\n",
    "else: # Pour le modèle ARK (à modifier ultérieurement avec nouveau nommage)\n",
    "    with open('data/%s/Simulation_%i_seed%i/input_%i.file' %(nom_dossier, numero_simulation, seed, derniere_epoch) , \"rb\") as f:\n",
    "        input = pickle.load(f)\n",
    "    with open('data/%s/Simulation_%i_seed%i/output_%i.file' %(nom_dossier, numero_simulation, seed, derniere_epoch), \"rb\") as f:\n",
    "        output = pickle.load(f)\n",
    "    mat_finale = (input+output)/2 \n",
    "    \n",
    "mot_poids = {index_mot[index]: poids.detach().numpy() for (index, poids) in enumerate(mat_finale)}"
   ]
  },
  {
   "cell_type": "markdown",
   "metadata": {},
   "source": [
    "## 2. Mots les plus proches"
   ]
  },
  {
   "cell_type": "code",
   "execution_count": 25,
   "metadata": {
    "scrolled": false
   },
   "outputs": [
    {
     "name": "stdout",
     "output_type": "stream",
     "text": [
      "Pour le mot \"tweet\" (443 apparitions), les mots les plus proches sont : \n",
      "cosinus : [('point', 0.9084009101113713), ('sujet', 0.8591538969161496), ('jeu', 0.8458192655919179), ('moment', 0.8241824110470765), ('film', 0.8177886181442553), ('gif', 0.8171320399068367), ('mot', 0.8029144145095303), ('coeur', 0.759854953239474), ('mec', 0.759425501687425), ('joueur', 0.7574747267538198)]\n",
      "euclidienne : [('point', 12.5259727361733), ('moment', 10.724800443311178), ('jeu', 9.535179435757984), ('cas', 9.212999693797153), ('mec', 9.141429123419773), ('film', 9.117160513306908), ('truc', 9.089707466115112), ('coeur', 8.654007895018674), ('compte', 8.627719175610435), ('coup', 8.39443540309776)]\n",
      "\n",
      "\n",
      "Pour le mot \"bonjour\" (619 apparitions), les mots les plus proches sont : \n",
      "cosinus : [('bonsoir', 0.8845197876354314), ('hello', 0.8527229034585722), ('pensez', 0.8241578967046451), ('savez', 0.8216388728785031), ('saviez', 0.8087990765431533), ('dites', 0.7963558035315687), ('contacter', 0.7894562719671951), ('souhaitez', 0.7867493517393483), ('voyez', 0.7853454228489913), ('rendez', 0.7842039894583497)]\n",
      "euclidienne : [('savez', 10.26346785190265), ('merci', 9.657738676744613), ('pouvez', 9.630997147838649), ('voulez', 9.335341520969092), ('suivre', 8.810476527438968), ('allez', 8.738479922796085), ('êtes', 8.561652454665937), ('écoutez', 8.284636776391082), ('dites', 8.244409641327104), ('vous', 8.050079841325871)]\n",
      "\n",
      "\n",
      "Pour le mot \"wesh\" (117 apparitions), les mots les plus proches sont : \n",
      "cosinus : [('ptdrrrrr', 0.9000563033881074), ('ptdrr', 0.8869420936877814), ('carrément', 0.8819424091254062), ('abusé', 0.881621879521152), ('ptdrrrrrr', 0.8783832793318664), ('dingue', 0.8758380735855471), ('wallah', 0.8730236268283711), ('moche', 0.8662884118006928), ('sérieux', 0.8577999548568727), ('ptdrrr', 0.8561140130304822)]\n",
      "euclidienne : [('ptdrrrrr', 6.721895158543345), ('ptdrr', 6.375157589056439), ('carrément', 6.27990450535875), ('dingue', 6.226850718896908), ('wallah', 6.098035646743222), ('moche', 6.007395117322844), ('sérieux', 5.8950092817832696), ('abusé', 5.868457224282398), ('ptdrrrr', 5.661269384256103), ('ptdrrr', 5.588241214165851)]\n",
      "\n",
      "\n",
      "Pour le mot \"gros\" (812 apparitions), les mots les plus proches sont : \n",
      "cosinus : [('vieux', 0.7695019961269379), ('chien', 0.7526240463663496), ('ptit', 0.7397741789324187), ('con', 0.717901465504637), ('style', 0.7144406451187547), ('délire', 0.699671914135038), ('coeur', 0.6996592597753883), ('cul', 0.6934644339537589), ('pb', 0.6792568512076272), ('feu', 0.6776571108194216)]\n",
      "euclidienne : [('coeur', 7.214920804028589), ('mec', 7.107372353893591), ('petit', 7.028033750733756), ('truc', 6.853162248200085), ('fils', 6.748108663790936), ('fou', 6.723391344595013), ('frère', 6.60805695295094), ('con', 6.587352504218685), ('pute', 6.514377806435243), ('jeu', 6.396216875142728)]\n",
      "\n",
      "\n",
      "Pour le mot \"grosse\" (307 apparitions), les mots les plus proches sont : \n",
      "cosinus : [('grande', 0.8733653389597763), ('petite', 0.872470324494394), ('mauvaise', 0.8669342342453326), ('meilleure', 0.8530109453984346), ('vraie', 0.8464228912121828), ('vieille', 0.8403271925278445), ('nouvelle', 0.8337622379852976), ('longue', 0.8233732240262627), ('énorme', 0.8091840692457317), ('blague', 0.7844893388113485)]\n",
      "euclidienne : [('petite', 12.274305161513329), ('nouvelle', 11.555784434995653), ('meilleure', 10.907413206062772), ('belle', 10.518294518548188), ('vidéo', 9.985600034277343), ('dernière', 9.535416632617482), ('toute', 9.527856707216925), ('grande', 9.523899871504257), ('blague', 9.280923389796794), ('bonne', 9.202590674018444)]\n",
      "\n",
      "\n",
      "Pour le mot \"femme\" (263 apparitions), les mots les plus proches sont : \n",
      "cosinus : [('fille', 0.9408627298727811), ('meuf', 0.8858319240841068), ('copine', 0.8852213894566893), ('pp', 0.8796390340928251), ('famille', 0.8779500329177958), ('phrase', 0.8666438736749563), ('faute', 0.8636024267992053), ('situation', 0.860910976467809), ('voix', 0.8552664665559271), ('connerie', 0.8507482516251945)]\n",
      "euclidienne : [('fille', 14.946701541977248), ('meuf', 11.811082360544987), ('faute', 10.214689350482475), ('soeur', 9.75120944061664), ('blague', 9.515492564742663), ('pp', 9.418293533716614), ('famille', 9.292852505334034), ('pote', 9.227020574703463), ('vie', 9.1663142898986), ('photo', 9.089033183858664)]\n",
      "\n",
      "\n",
      "Pour le mot \"romain\" (13 apparitions), les mots les plus proches sont : \n",
      "cosinus : [('rhin', 0.9606969614887454), ('hollande', 0.9601110887740483), ('ahahahahah', 0.9589045944206028), ('rousse', 0.9588258187464622), ('pauline', 0.9579074863436126), ('krkrkrkr', 0.9576206650474851), ('jealous', 0.9556738576400091), ('darmanin', 0.9544872428442607), ('mdrrrrrrrrrrrr', 0.9539855104758972), ('grenier', 0.9529860676788882)]\n",
      "euclidienne : [('pauline', 4.687527144527575), ('darmanin', 4.396461587297474), ('hollande', 4.375300769487046), ('han', 4.2937260205717305), ('trump', 4.209554811764148), ('chloé', 4.176177818232279), ('précisément', 4.152749468636918), ('digital', 4.1482762344609), ('bizarrement', 4.111350590100276), ('nt1', 4.110966353617771)]\n",
      "\n",
      "\n"
     ]
    }
   ],
   "source": [
    "mots = [\"tweet\", \"bonjour\", \"wesh\", \"gros\", \"grosse\", \"femme\",\"romain\"]\n",
    "for mot in mots:\n",
    "    if mot in mot_index:\n",
    "        print('Pour le mot \"%s\"' %mot + \" (%i apparitions), les mots les plus proches sont : \" %fdist[mot])\n",
    "        print('cosinus :',mot_plus_proche(mot,distance = \"cos\"))\n",
    "        print('euclidienne :',mot_plus_proche(mot,distance = \"eucl\"))\n",
    "        print(\"\\n\")"
   ]
  },
  {
   "cell_type": "markdown",
   "metadata": {},
   "source": [
    "## 3. Réduction de dimension (ACP, TSNE)"
   ]
  },
  {
   "cell_type": "markdown",
   "metadata": {},
   "source": [
    "### A. Listes de mots utilisées\n",
    "\n",
    "**Liste 1** correspond à une liste de mot que nous choississons nous-même d'évaluer. "
   ]
  },
  {
   "cell_type": "code",
   "execution_count": 26,
   "metadata": {},
   "outputs": [],
   "source": [
    "liste1 = [[\"poli\",\"courtois\",\"bonjour\",\"salut\"],[\"canapé\",\"fauteuil\",\"table\",\"chaise\"],\n",
    "    [\"téléphone\",\"portable\",\"numéro\",\"appel\"],[\"voiture\",\"camion\",\"vélo\",\"train\"],\n",
    "         [\"beau\",\"mignon\",\"bg\",\"mannequin\"],[\"docteur\",\"médecin\",\"santé\",\"bobo\"],\n",
    "         [\"belle\",\"jolie\",\"mignonne\",\"bellegosse\"],[\"père\",\"papa\",\"daron\"],\n",
    "         [\"mère\",\"maman\",\"daronne\"],[\"ol\",\"psg\",\"foot\",\"stade\"]]\n",
    "\n",
    "#liste1 = [[\"homme\",\"femme\", \"enfant\"],[\"chien\",\"chat\"],\n",
    "#         [\"vanille\",\"chocolat\"],\n",
    "#    [\"poli\",\"courtois\"],[\"bonjour\",\"salut\"],[\"propre\",\"sale\"],[\"canapé\",\"fauteuil\"],\n",
    "#    [\"téléphone\",\"portable\"],[\"voiture\",\"camion\"],[\"grand\",\"petit\"]]\n",
    "\n",
    "#liste1 = [[\"homme\", \"tttttttttt\",\"femme\",\"sexe\",\"genre\",\"mari\",\"épouse\",\"famille\",\"inégalités\",\"enfant\",\"amour\",\"couple\",\"différence\"],\n",
    "#    [\"chien\",\"chat\",\"animal\",\"domestique\",\"maison\",\"aboyer\",\"miauler\",\"labrador\",\"poil\",\"pattes\",\"spa\",\"ami\"],\n",
    "#    [\"vanille\",\"chocolat\",\"parfum\",\"goût\",\"fraise\",\"glace\",\"boule\",\"gâteau\",\"bonbon\",\"blanc\",\"noir\",\"préférence\"],\n",
    "#    [\"poli\",\"courtois\",\"bonjour\",\"merci\",\"pardon\",\"stp\",\"règles\",\"apprendre\",\"savoir-vivre\",\"savoir-être\",\"formule\",\"demander\"],\n",
    "#    [\"choqué\",\"horrifié\",\"peur\",\"terreur\",\"phobie\",\"clown\",\"noir\",\"araignée\",\"rat\",\"cri\",\"oh\",\"ah\"],\n",
    "#    [\"propre\",\"sale\",\"nettoyer\",\"vaisselle\",\"laver\",\"savon\",\"produit\",\"salissures\",\"traces\",\"net\",\"éclatant\",\"brillant\"],\n",
    "#    [\"canapé\",\"fauteuil\",\"maison\",\"salon\",\"assis\",\"confortable\",\"sofa\",\"convertible\",\"cuir\",\"télé\",\"accoudoir\",\"plaid\"],\n",
    "#    [\"téléphone\",\"portable\",\"appel\",\"allo\",\"décrocher\",\"sms\",\"numéro\",\"mobile\",\"orange\",\"sfr\",\"free\",\"bouygues\"],\n",
    "#    [\"voiture\",\"camion\",\"moto\",\"véhicule\",\"conduire\",\"rouler\",\"conducteur\",\"volant\",\"chauffeur\",\"permis\",\"vitesse\",\"passager\"],\n",
    "#    [\"grand\",\"petit\",\"taille\",\"géant\",\"nain\",\"s\",\"m\",\"l\",\"xl\",\"mesure\",\"énorme\",\"longueur\"]\n",
    "#]"
   ]
  },
  {
   "cell_type": "markdown",
   "metadata": {},
   "source": [
    "**Liste 2** tire au sort une liste de mots regroupés selon leur fréquence d'apparition. "
   ]
  },
  {
   "cell_type": "code",
   "execution_count": 27,
   "metadata": {},
   "outputs": [],
   "source": [
    "np.random.seed(1)\n",
    "\n",
    "mots0_20 = dict()\n",
    "mots20_100 = dict()\n",
    "mots100_1000 = dict()\n",
    "mots1000_max = dict()\n",
    "\n",
    "for (key, value) in fdist.items():\n",
    "    if value <= 20 :\n",
    "        mots0_20[key] = value\n",
    "    if value > 20 and value <= 100 :\n",
    "        mots20_100[key] = value\n",
    "    if value > 100 and value <= 1000 :\n",
    "        mots100_1000[key] = value        \n",
    "    if value > 1000 :\n",
    "        mots1000_max[key] = value\n",
    "\n",
    "\n",
    "liste_0_20 = list(np.random.choice(list(mots0_20.keys()), size=100))\n",
    "liste_20_100 = list(np.random.choice(list(mots20_100.keys()), size=100))\n",
    "liste_100_1000 = list(np.random.choice(list(mots100_1000.keys()), size=100))\n",
    "liste_1000_max = list(np.random.choice(list(mots1000_max.keys()), size=100))\n",
    "\n",
    "liste2 = [liste_0_20, liste_20_100, liste_100_1000, liste_1000_max]"
   ]
  },
  {
   "cell_type": "markdown",
   "metadata": {},
   "source": [
    "### B. ACP"
   ]
  },
  {
   "cell_type": "code",
   "execution_count": 28,
   "metadata": {},
   "outputs": [],
   "source": [
    "def ACP(liste, statique = True, nom_couples_explicite=True):\n",
    "    # On enlève les mots qui n'existent pas\n",
    "    liste_triee =[]\n",
    "    for couple in liste:\n",
    "        liste_triee.append([w for w in couple if w in mot_index]) \n",
    "    liste_mots = [w for couple in liste_triee for w in couple]\n",
    "\n",
    "    df_res = pd.DataFrame.from_dict(mot_poids).transpose()\n",
    "    df_res = df_res.loc[liste_mots]\n",
    "    df_res['label'] = 'Autre' \n",
    "\n",
    "    if nom_couples_explicite:\n",
    "        for couple in liste_triee:\n",
    "            df_res.loc[couple,'label'] = '/'.join(couple)\n",
    "    else:\n",
    "        for i in range(0, len(liste_triee)):\n",
    "            df_res.loc[liste_triee[i],'label'] = \"Couple %i\" %i        \n",
    "\n",
    "    features = list(range(0, len(liste_triee)))\n",
    "    # Separating out the features\n",
    "    x = df_res.loc[:, features].values\n",
    "    # Separating out the target\n",
    "    y = df_res.loc[:,['label']].values\n",
    "    # Standardizing the features\n",
    "    x = StandardScaler().fit_transform(x)\n",
    "\n",
    "    pca = PCA(n_components=2)\n",
    "    principalComponents = pca.fit_transform(x)\n",
    "    principalDf = pd.DataFrame(data = principalComponents\n",
    "                 , columns = ['Axe 1', 'Axe 2'])\n",
    "\n",
    "    df_res['mot'] = df_res.index.values\n",
    "    df_res = df_res.reset_index()\n",
    "\n",
    "    finalDf = pd.concat([principalDf, df_res[['label','mot']]],  axis = 1)\n",
    "\n",
    "    if statique:\n",
    "        # Représentation simple statique \n",
    "        fig = plt.figure(figsize = (12,8))\n",
    "\n",
    "        g = sns.scatterplot(x=\"Axe 1\", y=\"Axe 2\",\n",
    "                        hue=\"label\", data=finalDf, s = 150)\n",
    "        handles, labels = g.get_legend_handles_labels()\n",
    "        box = g.get_position()\n",
    "        g.set_position([box.x0, box.y0, box.width * 0.85, box.height]) # resize position\n",
    "\n",
    "        # Put a legend to the right side\n",
    "        g.legend(loc='center right', bbox_to_anchor=(1.3, 0.5), ncol=1,\n",
    "                 handles=handles[1:], labels=list(dict.fromkeys(finalDf[\"label\"])))\n",
    "    else:\n",
    "        init_notebook_mode(connected=True)\n",
    "\n",
    "        cf.go_offline()\n",
    "        cf.set_config_file(offline=False, world_readable=True)\n",
    "\n",
    "        #Travailler avec sous-table sinon trop lourd\n",
    "        #subFinalDf = pd.concat([finalDf[(finalDf['label'] != \"Autre\")],finalDf.iloc[1:100:]],  axis = 0)\n",
    "        subFinalDf = pd.concat([finalDf],  axis = 0)\n",
    "\n",
    "        subFinalDf.iplot(kind='scatter',\n",
    "                      mode='markers',\n",
    "                      x='Axe 1',\n",
    "                      y='Axe 2',\n",
    "                      categories='label',\n",
    "                      text='mot',\n",
    "                      xTitle='Axe 1',\n",
    "                      yTitle='Axe 2',\n",
    "                      title='ACP en 2 composantes',\n",
    "                      filename='cufflinks/simple-scatter')\n"
   ]
  },
  {
   "cell_type": "code",
   "execution_count": 29,
   "metadata": {},
   "outputs": [
    {
     "data": {
      "image/png": "[encoded data removed]",
      "text/plain": [
       "<Figure size 864x576 with 1 Axes>"
      ]
     },
     "metadata": {
      "needs_background": "light"
     },
     "output_type": "display_data"
    }
   ],
   "source": [
    "ACP(liste1, statique = True)"
   ]
  },
  {
   "cell_type": "code",
   "execution_count": 30,
   "metadata": {},
   "outputs": [
    {
     "data": {
      "text/html": [
       "        <script type=\"text/javascript\">\n",
       "        window.PlotlyConfig = {MathJaxConfig: 'local'};\n",
       "        if (window.MathJax) {MathJax.Hub.Config({SVG: {font: \"STIX-Web\"}});}\n",
       "        if (typeof require !== 'undefined') {\n",
       "        require.undef(\"plotly\");\n",
       "        requirejs.config({\n",
       "            paths: {\n",
       "                'plotly': ['https://cdn.plot.ly/plotly-latest.min']\n",
       "            }\n",
       "        });\n",
       "        require(['plotly'], function(Plotly) {\n",
       "            window._Plotly = Plotly;\n",
       "        });\n",
       "        }\n",
       "        </script>\n",
       "        "
      ]
     },
     "metadata": {},
     "output_type": "display_data"
    },
    {
     "data": {
      "text/html": [
       "        <script type=\"text/javascript\">\n",
       "        window.PlotlyConfig = {MathJaxConfig: 'local'};\n",
       "        if (window.MathJax) {MathJax.Hub.Config({SVG: {font: \"STIX-Web\"}});}\n",
       "        if (typeof require !== 'undefined') {\n",
       "        require.undef(\"plotly\");\n",
       "        requirejs.config({\n",
       "            paths: {\n",
       "                'plotly': ['https://cdn.plot.ly/plotly-latest.min']\n",
       "            }\n",
       "        });\n",
       "        require(['plotly'], function(Plotly) {\n",
       "            window._Plotly = Plotly;\n",
       "        });\n",
       "        }\n",
       "        </script>\n",
       "        "
      ]
     },
     "metadata": {},
     "output_type": "display_data"
    },
    {
     "name": "stderr",
     "output_type": "stream",
     "text": [
      "C:\\Users\\Kim Antunez\\Anaconda3\\lib\\site-packages\\cufflinks\\plotlytools.py:808: FutureWarning:\n",
      "\n",
      "The pandas.np module is deprecated and will be removed from pandas in a future version. Import numpy directly instead\n",
      "\n",
      "C:\\Users\\Kim Antunez\\Anaconda3\\lib\\site-packages\\cufflinks\\plotlytools.py:811: FutureWarning:\n",
      "\n",
      "The pandas.np module is deprecated and will be removed from pandas in a future version. Import numpy directly instead\n",
      "\n"
     ]
    },
    {
     "data": {
      "application/vnd.plotly.v1+json": {
       "config": {
        "linkText": "Export to plot.ly",
        "plotlyServerURL": "https://plot.ly",
        "showLink": true
       },
       "data": [
        {
         "marker": {
          "color": "rgba(255, 153, 51, 1.0)",
          "line": {
           "width": 1.3
          },
          "opacity": 0.8,
          "size": 12,
          "symbol": "circle"
         },
         "mode": "markers",
         "name": "poli/bonjour/salut",
         "text": [
          "poli",
          "bonjour",
          "salut"
         ],
         "textfont": {
          "color": "#4D5663"
         },
         "type": "scatter",
         "x": [
          -0.2738148868083954,
          -2.387469530105591,
          0.03314625099301338
         ],
         "y": [
          -0.57285076379776,
          3.893977403640747,
          0.09707927703857422
         ]
        },
        {
         "marker": {
          "color": "rgba(55, 128, 191, 1.0)",
          "line": {
           "width": 1.3
          },
          "opacity": 0.8,
          "size": 12,
          "symbol": "circle"
         },
         "mode": "markers",
         "name": "canapé/fauteuil/table/chaise",
         "text": [
          "canapé",
          "fauteuil",
          "table",
          "chaise"
         ],
         "textfont": {
          "color": "#4D5663"
         },
         "type": "scatter",
         "x": [
          -0.3185870051383972,
          -0.4031793773174286,
          -0.283269464969635,
          -0.03376050293445587
         ],
         "y": [
          -0.44598984718322754,
          -0.5541179776191711,
          -0.7754249572753906,
          -0.3963020145893097
         ]
        },
        {
         "marker": {
          "color": "rgba(50, 171, 96, 1.0)",
          "line": {
           "width": 1.3
          },
          "opacity": 0.8,
          "size": 12,
          "symbol": "circle"
         },
         "mode": "markers",
         "name": "téléphone/portable/numéro/appel",
         "text": [
          "téléphone",
          "portable",
          "numéro",
          "appel"
         ],
         "textfont": {
          "color": "#4D5663"
         },
         "type": "scatter",
         "x": [
          -0.7425024509429932,
          -1.0439544916152954,
          -1.6842254400253296,
          -0.4698939919471741
         ],
         "y": [
          1.0550363063812256,
          -0.3520983159542084,
          1.1019362211227417,
          0.45857685804367065
         ]
        },
        {
         "marker": {
          "color": "rgba(128, 0, 128, 1.0)",
          "line": {
           "width": 1.3
          },
          "opacity": 0.8,
          "size": 12,
          "symbol": "circle"
         },
         "mode": "markers",
         "name": "voiture/camion/vélo/train",
         "text": [
          "voiture",
          "camion",
          "vélo",
          "train"
         ],
         "textfont": {
          "color": "#4D5663"
         },
         "type": "scatter",
         "x": [
          1.73253333568573,
          -0.22835107147693634,
          -0.3996868431568146,
          -4.131311893463135
         ],
         "y": [
          -0.2344835251569748,
          -0.6933605074882507,
          -0.7939686179161072,
          -2.5437729358673096
         ]
        },
        {
         "marker": {
          "color": "rgba(219, 64, 82, 1.0)",
          "line": {
           "width": 1.3
          },
          "opacity": 0.8,
          "size": 12,
          "symbol": "circle"
         },
         "mode": "markers",
         "name": "beau/mignon/bg/mannequin",
         "text": [
          "beau",
          "mignon",
          "bg",
          "mannequin"
         ],
         "textfont": {
          "color": "#4D5663"
         },
         "type": "scatter",
         "x": [
          0.63572758436203,
          0.746475875377655,
          0.08300799876451492,
          -0.3974314033985138
         ],
         "y": [
          -0.9940372109413147,
          -1.3301397562026978,
          -0.8121452331542969,
          -0.7641688585281372
         ]
        },
        {
         "marker": {
          "color": "rgba(0, 128, 128, 1.0)",
          "line": {
           "width": 1.3
          },
          "opacity": 0.8,
          "size": 12,
          "symbol": "circle"
         },
         "mode": "markers",
         "name": "docteur/médecin/santé/bobo",
         "text": [
          "docteur",
          "médecin",
          "santé",
          "bobo"
         ],
         "textfont": {
          "color": "#4D5663"
         },
         "type": "scatter",
         "x": [
          -0.4904744029045105,
          -0.2129167765378952,
          -0.26850464940071106,
          -0.3594997227191925
         ],
         "y": [
          -0.5540862679481506,
          -0.1379692554473877,
          -0.5225483775138855,
          -0.5214904546737671
         ]
        },
        {
         "marker": {
          "color": "rgba(255, 255, 51, 1.0)",
          "line": {
           "width": 1.3
          },
          "opacity": 0.8,
          "size": 12,
          "symbol": "circle"
         },
         "mode": "markers",
         "name": "belle/jolie/mignonne",
         "text": [
          "belle",
          "jolie",
          "mignonne"
         ],
         "textfont": {
          "color": "#4D5663"
         },
         "type": "scatter",
         "x": [
          6.50419282913208,
          1.540183186531067,
          1.6366199254989624
         ],
         "y": [
          -2.0986528396606445,
          -1.401846170425415,
          -1.2839980125427246
         ]
        },
        {
         "marker": {
          "color": "rgba(128, 128, 0, 1.0)",
          "line": {
           "width": 1.3
          },
          "opacity": 0.8,
          "size": 12,
          "symbol": "circle"
         },
         "mode": "markers",
         "name": "père/papa/daron",
         "text": [
          "père",
          "papa",
          "daron"
         ],
         "textfont": {
          "color": "#4D5663"
         },
         "type": "scatter",
         "x": [
          -0.7859174609184265,
          -0.13298875093460083,
          -0.4220542907714844
         ],
         "y": [
          3.752204179763794,
          0.23545098304748535,
          1.198013186454773
         ]
        },
        {
         "marker": {
          "color": "rgba(251, 128, 114, 1.0)",
          "line": {
           "width": 1.3
          },
          "opacity": 0.8,
          "size": 12,
          "symbol": "circle"
         },
         "mode": "markers",
         "name": "mère/maman/daronne",
         "text": [
          "mère",
          "maman",
          "daronne"
         ],
         "textfont": {
          "color": "#4D5663"
         },
         "type": "scatter",
         "x": [
          3.949976921081543,
          1.5027868747711182,
          0.9408737421035767
         ],
         "y": [
          5.072345733642578,
          1.3745931386947632,
          0.23913151025772095
         ]
        },
        {
         "marker": {
          "color": "rgba(128, 177, 211, 1.0)",
          "line": {
           "width": 1.3
          },
          "opacity": 0.8,
          "size": 12,
          "symbol": "circle"
         },
         "mode": "markers",
         "name": "ol/psg/foot/stade",
         "text": [
          "ol",
          "psg",
          "foot",
          "stade"
         ],
         "textfont": {
          "color": "#4D5663"
         },
         "type": "scatter",
         "x": [
          -0.6041370034217834,
          -0.6682152152061462,
          -1.6676684617996216,
          -0.8957090377807617
         ],
         "y": [
          -0.6912007331848145,
          -0.1843678057193756,
          0.13273033499717712,
          0.047943681478500366
         ]
        }
       ],
       "layout": {
        "legend": {
         "bgcolor": "#F5F6F9",
         "font": {
          "color": "#4D5663"
         }
        },
        "paper_bgcolor": "#F5F6F9",
        "plot_bgcolor": "#F5F6F9",
        "template": {
         "data": {
          "bar": [
           {
            "error_x": {
             "color": "#2a3f5f"
            },
            "error_y": {
             "color": "#2a3f5f"
            },
            "marker": {
             "line": {
              "color": "#E5ECF6",
              "width": 0.5
             }
            },
            "type": "bar"
           }
          ],
          "barpolar": [
           {
            "marker": {
             "line": {
              "color": "#E5ECF6",
              "width": 0.5
             }
            },
            "type": "barpolar"
           }
          ],
          "carpet": [
           {
            "aaxis": {
             "endlinecolor": "#2a3f5f",
             "gridcolor": "white",
             "linecolor": "white",
             "minorgridcolor": "white",
             "startlinecolor": "#2a3f5f"
            },
            "baxis": {
             "endlinecolor": "#2a3f5f",
             "gridcolor": "white",
             "linecolor": "white",
             "minorgridcolor": "white",
             "startlinecolor": "#2a3f5f"
            },
            "type": "carpet"
           }
          ],
          "choropleth": [
           {
            "colorbar": {
             "outlinewidth": 0,
             "ticks": ""
            },
            "type": "choropleth"
           }
          ],
          "contour": [
           {
            "colorbar": {
             "outlinewidth": 0,
             "ticks": ""
            },
            "colorscale": [
             [
              0,
              "#0d0887"
             ],
             [
              0.1111111111111111,
              "#46039f"
             ],
             [
              0.2222222222222222,
              "#7201a8"
             ],
             [
              0.3333333333333333,
              "#9c179e"
             ],
             [
              0.4444444444444444,
              "#bd3786"
             ],
             [
              0.5555555555555556,
              "#d8576b"
             ],
             [
              0.6666666666666666,
              "#ed7953"
             ],
             [
              0.7777777777777778,
              "#fb9f3a"
             ],
             [
              0.8888888888888888,
              "#fdca26"
             ],
             [
              1,
              "#f0f921"
             ]
            ],
            "type": "contour"
           }
          ],
          "contourcarpet": [
           {
            "colorbar": {
             "outlinewidth": 0,
             "ticks": ""
            },
            "type": "contourcarpet"
           }
          ],
          "heatmap": [
           {
            "colorbar": {
             "outlinewidth": 0,
             "ticks": ""
            },
            "colorscale": [
             [
              0,
              "#0d0887"
             ],
             [
              0.1111111111111111,
              "#46039f"
             ],
             [
              0.2222222222222222,
              "#7201a8"
             ],
             [
              0.3333333333333333,
              "#9c179e"
             ],
             [
              0.4444444444444444,
              "#bd3786"
             ],
             [
              0.5555555555555556,
              "#d8576b"
             ],
             [
              0.6666666666666666,
              "#ed7953"
             ],
             [
              0.7777777777777778,
              "#fb9f3a"
             ],
             [
              0.8888888888888888,
              "#fdca26"
             ],
             [
              1,
              "#f0f921"
             ]
            ],
            "type": "heatmap"
           }
          ],
          "heatmapgl": [
           {
            "colorbar": {
             "outlinewidth": 0,
             "ticks": ""
            },
            "colorscale": [
             [
              0,
              "#0d0887"
             ],
             [
              0.1111111111111111,
              "#46039f"
             ],
             [
              0.2222222222222222,
              "#7201a8"
             ],
             [
              0.3333333333333333,
              "#9c179e"
             ],
             [
              0.4444444444444444,
              "#bd3786"
             ],
             [
              0.5555555555555556,
              "#d8576b"
             ],
             [
              0.6666666666666666,
              "#ed7953"
             ],
             [
              0.7777777777777778,
              "#fb9f3a"
             ],
             [
              0.8888888888888888,
              "#fdca26"
             ],
             [
              1,
              "#f0f921"
             ]
            ],
            "type": "heatmapgl"
           }
          ],
          "histogram": [
           {
            "marker": {
             "colorbar": {
              "outlinewidth": 0,
              "ticks": ""
             }
            },
            "type": "histogram"
           }
          ],
          "histogram2d": [
           {
            "colorbar": {
             "outlinewidth": 0,
             "ticks": ""
            },
            "colorscale": [
             [
              0,
              "#0d0887"
             ],
             [
              0.1111111111111111,
              "#46039f"
             ],
             [
              0.2222222222222222,
              "#7201a8"
             ],
             [
              0.3333333333333333,
              "#9c179e"
             ],
             [
              0.4444444444444444,
              "#bd3786"
             ],
             [
              0.5555555555555556,
              "#d8576b"
             ],
             [
              0.6666666666666666,
              "#ed7953"
             ],
             [
              0.7777777777777778,
              "#fb9f3a"
             ],
             [
              0.8888888888888888,
              "#fdca26"
             ],
             [
              1,
              "#f0f921"
             ]
            ],
            "type": "histogram2d"
           }
          ],
          "histogram2dcontour": [
           {
            "colorbar": {
             "outlinewidth": 0,
             "ticks": ""
            },
            "colorscale": [
             [
              0,
              "#0d0887"
             ],
             [
              0.1111111111111111,
              "#46039f"
             ],
             [
              0.2222222222222222,
              "#7201a8"
             ],
             [
              0.3333333333333333,
              "#9c179e"
             ],
             [
              0.4444444444444444,
              "#bd3786"
             ],
             [
              0.5555555555555556,
              "#d8576b"
             ],
             [
              0.6666666666666666,
              "#ed7953"
             ],
             [
              0.7777777777777778,
              "#fb9f3a"
             ],
             [
              0.8888888888888888,
              "#fdca26"
             ],
             [
              1,
              "#f0f921"
             ]
            ],
            "type": "histogram2dcontour"
           }
          ],
          "mesh3d": [
           {
            "colorbar": {
             "outlinewidth": 0,
             "ticks": ""
            },
            "type": "mesh3d"
           }
          ],
          "parcoords": [
           {
            "line": {
             "colorbar": {
              "outlinewidth": 0,
              "ticks": ""
             }
            },
            "type": "parcoords"
           }
          ],
          "pie": [
           {
            "automargin": true,
            "type": "pie"
           }
          ],
          "scatter": [
           {
            "marker": {
             "colorbar": {
              "outlinewidth": 0,
              "ticks": ""
             }
            },
            "type": "scatter"
           }
          ],
          "scatter3d": [
           {
            "line": {
             "colorbar": {
              "outlinewidth": 0,
              "ticks": ""
             }
            },
            "marker": {
             "colorbar": {
              "outlinewidth": 0,
              "ticks": ""
             }
            },
            "type": "scatter3d"
           }
          ],
          "scattercarpet": [
           {
            "marker": {
             "colorbar": {
              "outlinewidth": 0,
              "ticks": ""
             }
            },
            "type": "scattercarpet"
           }
          ],
          "scattergeo": [
           {
            "marker": {
             "colorbar": {
              "outlinewidth": 0,
              "ticks": ""
             }
            },
            "type": "scattergeo"
           }
          ],
          "scattergl": [
           {
            "marker": {
             "colorbar": {
              "outlinewidth": 0,
              "ticks": ""
             }
            },
            "type": "scattergl"
           }
          ],
          "scattermapbox": [
           {
            "marker": {
             "colorbar": {
              "outlinewidth": 0,
              "ticks": ""
             }
            },
            "type": "scattermapbox"
           }
          ],
          "scatterpolar": [
           {
            "marker": {
             "colorbar": {
              "outlinewidth": 0,
              "ticks": ""
             }
            },
            "type": "scatterpolar"
           }
          ],
          "scatterpolargl": [
           {
            "marker": {
             "colorbar": {
              "outlinewidth": 0,
              "ticks": ""
             }
            },
            "type": "scatterpolargl"
           }
          ],
          "scatterternary": [
           {
            "marker": {
             "colorbar": {
              "outlinewidth": 0,
              "ticks": ""
             }
            },
            "type": "scatterternary"
           }
          ],
          "surface": [
           {
            "colorbar": {
             "outlinewidth": 0,
             "ticks": ""
            },
            "colorscale": [
             [
              0,
              "#0d0887"
             ],
             [
              0.1111111111111111,
              "#46039f"
             ],
             [
              0.2222222222222222,
              "#7201a8"
             ],
             [
              0.3333333333333333,
              "#9c179e"
             ],
             [
              0.4444444444444444,
              "#bd3786"
             ],
             [
              0.5555555555555556,
              "#d8576b"
             ],
             [
              0.6666666666666666,
              "#ed7953"
             ],
             [
              0.7777777777777778,
              "#fb9f3a"
             ],
             [
              0.8888888888888888,
              "#fdca26"
             ],
             [
              1,
              "#f0f921"
             ]
            ],
            "type": "surface"
           }
          ],
          "table": [
           {
            "cells": {
             "fill": {
              "color": "#EBF0F8"
             },
             "line": {
              "color": "white"
             }
            },
            "header": {
             "fill": {
              "color": "#C8D4E3"
             },
             "line": {
              "color": "white"
             }
            },
            "type": "table"
           }
          ]
         },
         "layout": {
          "annotationdefaults": {
           "arrowcolor": "#2a3f5f",
           "arrowhead": 0,
           "arrowwidth": 1
          },
          "coloraxis": {
           "colorbar": {
            "outlinewidth": 0,
            "ticks": ""
           }
          },
          "colorscale": {
           "diverging": [
            [
             0,
             "#8e0152"
            ],
            [
             0.1,
             "#c51b7d"
            ],
            [
             0.2,
             "#de77ae"
            ],
            [
             0.3,
             "#f1b6da"
            ],
            [
             0.4,
             "#fde0ef"
            ],
            [
             0.5,
             "#f7f7f7"
            ],
            [
             0.6,
             "#e6f5d0"
            ],
            [
             0.7,
             "#b8e186"
            ],
            [
             0.8,
             "#7fbc41"
            ],
            [
             0.9,
             "#4d9221"
            ],
            [
             1,
             "#276419"
            ]
           ],
           "sequential": [
            [
             0,
             "#0d0887"
            ],
            [
             0.1111111111111111,
             "#46039f"
            ],
            [
             0.2222222222222222,
             "#7201a8"
            ],
            [
             0.3333333333333333,
             "#9c179e"
            ],
            [
             0.4444444444444444,
             "#bd3786"
            ],
            [
             0.5555555555555556,
             "#d8576b"
            ],
            [
             0.6666666666666666,
             "#ed7953"
            ],
            [
             0.7777777777777778,
             "#fb9f3a"
            ],
            [
             0.8888888888888888,
             "#fdca26"
            ],
            [
             1,
             "#f0f921"
            ]
           ],
           "sequentialminus": [
            [
             0,
             "#0d0887"
            ],
            [
             0.1111111111111111,
             "#46039f"
            ],
            [
             0.2222222222222222,
             "#7201a8"
            ],
            [
             0.3333333333333333,
             "#9c179e"
            ],
            [
             0.4444444444444444,
             "#bd3786"
            ],
            [
             0.5555555555555556,
             "#d8576b"
            ],
            [
             0.6666666666666666,
             "#ed7953"
            ],
            [
             0.7777777777777778,
             "#fb9f3a"
            ],
            [
             0.8888888888888888,
             "#fdca26"
            ],
            [
             1,
             "#f0f921"
            ]
           ]
          },
          "colorway": [
           "#636efa",
           "#EF553B",
           "#00cc96",
           "#ab63fa",
           "#FFA15A",
           "#19d3f3",
           "#FF6692",
           "#B6E880",
           "#FF97FF",
           "#FECB52"
          ],
          "font": {
           "color": "#2a3f5f"
          },
          "geo": {
           "bgcolor": "white",
           "lakecolor": "white",
           "landcolor": "#E5ECF6",
           "showlakes": true,
           "showland": true,
           "subunitcolor": "white"
          },
          "hoverlabel": {
           "align": "left"
          },
          "hovermode": "closest",
          "mapbox": {
           "style": "light"
          },
          "paper_bgcolor": "white",
          "plot_bgcolor": "#E5ECF6",
          "polar": {
           "angularaxis": {
            "gridcolor": "white",
            "linecolor": "white",
            "ticks": ""
           },
           "bgcolor": "#E5ECF6",
           "radialaxis": {
            "gridcolor": "white",
            "linecolor": "white",
            "ticks": ""
           }
          },
          "scene": {
           "xaxis": {
            "backgroundcolor": "#E5ECF6",
            "gridcolor": "white",
            "gridwidth": 2,
            "linecolor": "white",
            "showbackground": true,
            "ticks": "",
            "zerolinecolor": "white"
           },
           "yaxis": {
            "backgroundcolor": "#E5ECF6",
            "gridcolor": "white",
            "gridwidth": 2,
            "linecolor": "white",
            "showbackground": true,
            "ticks": "",
            "zerolinecolor": "white"
           },
           "zaxis": {
            "backgroundcolor": "#E5ECF6",
            "gridcolor": "white",
            "gridwidth": 2,
            "linecolor": "white",
            "showbackground": true,
            "ticks": "",
            "zerolinecolor": "white"
           }
          },
          "shapedefaults": {
           "line": {
            "color": "#2a3f5f"
           }
          },
          "ternary": {
           "aaxis": {
            "gridcolor": "white",
            "linecolor": "white",
            "ticks": ""
           },
           "baxis": {
            "gridcolor": "white",
            "linecolor": "white",
            "ticks": ""
           },
           "bgcolor": "#E5ECF6",
           "caxis": {
            "gridcolor": "white",
            "linecolor": "white",
            "ticks": ""
           }
          },
          "title": {
           "x": 0.05
          },
          "xaxis": {
           "automargin": true,
           "gridcolor": "white",
           "linecolor": "white",
           "ticks": "",
           "title": {
            "standoff": 15
           },
           "zerolinecolor": "white",
           "zerolinewidth": 2
          },
          "yaxis": {
           "automargin": true,
           "gridcolor": "white",
           "linecolor": "white",
           "ticks": "",
           "title": {
            "standoff": 15
           },
           "zerolinecolor": "white",
           "zerolinewidth": 2
          }
         }
        },
        "title": {
         "font": {
          "color": "#4D5663"
         },
         "text": "ACP en 2 composantes"
        },
        "xaxis": {
         "gridcolor": "#E1E5ED",
         "showgrid": true,
         "tickfont": {
          "color": "#4D5663"
         },
         "title": {
          "font": {
           "color": "#4D5663"
          },
          "text": "Axe 1"
         },
         "zerolinecolor": "#E1E5ED"
        },
        "yaxis": {
         "gridcolor": "#E1E5ED",
         "showgrid": true,
         "tickfont": {
          "color": "#4D5663"
         },
         "title": {
          "font": {
           "color": "#4D5663"
          },
          "text": "Axe 2"
         },
         "zerolinecolor": "#E1E5ED"
        }
       }
      },
      "text/html": [
       "<div>\n",
       "        \n",
       "        \n",
       "            <div id=\"757e6f7b-5ba4-4f7b-b479-699e08c757fc\" class=\"plotly-graph-div\" style=\"height:525px; width:100%;\"></div>\n",
       "            <script type=\"text/javascript\">\n",
       "                require([\"plotly\"], function(Plotly) {\n",
       "                    window.PLOTLYENV=window.PLOTLYENV || {};\n",
       "                    window.PLOTLYENV.BASE_URL='https://plot.ly';\n",
       "                    \n",
       "                if (document.getElementById(\"757e6f7b-5ba4-4f7b-b479-699e08c757fc\")) {\n",
       "                    Plotly.newPlot(\n",
       "                        '757e6f7b-5ba4-4f7b-b479-699e08c757fc',\n",
       "                        [{\"marker\": {\"color\": \"rgba(255, 153, 51, 1.0)\", \"line\": {\"width\": 1.3}, \"opacity\": 0.8, \"size\": 12, \"symbol\": \"circle\"}, \"mode\": \"markers\", \"name\": \"poli/bonjour/salut\", \"text\": [\"poli\", \"bonjour\", \"salut\"], \"textfont\": {\"color\": \"#4D5663\"}, \"type\": \"scatter\", \"x\": [-0.2738148868083954, -2.387469530105591, 0.03314625099301338], \"y\": [-0.57285076379776, 3.893977403640747, 0.09707927703857422]}, {\"marker\": {\"color\": \"rgba(55, 128, 191, 1.0)\", \"line\": {\"width\": 1.3}, \"opacity\": 0.8, \"size\": 12, \"symbol\": \"circle\"}, \"mode\": \"markers\", \"name\": \"canap\\u00e9/fauteuil/table/chaise\", \"text\": [\"canap\\u00e9\", \"fauteuil\", \"table\", \"chaise\"], \"textfont\": {\"color\": \"#4D5663\"}, \"type\": \"scatter\", \"x\": [-0.3185870051383972, -0.4031793773174286, -0.283269464969635, -0.03376050293445587], \"y\": [-0.44598984718322754, -0.5541179776191711, -0.7754249572753906, -0.3963020145893097]}, {\"marker\": {\"color\": \"rgba(50, 171, 96, 1.0)\", \"line\": {\"width\": 1.3}, \"opacity\": 0.8, \"size\": 12, \"symbol\": \"circle\"}, \"mode\": \"markers\", \"name\": \"t\\u00e9l\\u00e9phone/portable/num\\u00e9ro/appel\", \"text\": [\"t\\u00e9l\\u00e9phone\", \"portable\", \"num\\u00e9ro\", \"appel\"], \"textfont\": {\"color\": \"#4D5663\"}, \"type\": \"scatter\", \"x\": [-0.7425024509429932, -1.0439544916152954, -1.6842254400253296, -0.4698939919471741], \"y\": [1.0550363063812256, -0.3520983159542084, 1.1019362211227417, 0.45857685804367065]}, {\"marker\": {\"color\": \"rgba(128, 0, 128, 1.0)\", \"line\": {\"width\": 1.3}, \"opacity\": 0.8, \"size\": 12, \"symbol\": \"circle\"}, \"mode\": \"markers\", \"name\": \"voiture/camion/v\\u00e9lo/train\", \"text\": [\"voiture\", \"camion\", \"v\\u00e9lo\", \"train\"], \"textfont\": {\"color\": \"#4D5663\"}, \"type\": \"scatter\", \"x\": [1.73253333568573, -0.22835107147693634, -0.3996868431568146, -4.131311893463135], \"y\": [-0.2344835251569748, -0.6933605074882507, -0.7939686179161072, -2.5437729358673096]}, {\"marker\": {\"color\": \"rgba(219, 64, 82, 1.0)\", \"line\": {\"width\": 1.3}, \"opacity\": 0.8, \"size\": 12, \"symbol\": \"circle\"}, \"mode\": \"markers\", \"name\": \"beau/mignon/bg/mannequin\", \"text\": [\"beau\", \"mignon\", \"bg\", \"mannequin\"], \"textfont\": {\"color\": \"#4D5663\"}, \"type\": \"scatter\", \"x\": [0.63572758436203, 0.746475875377655, 0.08300799876451492, -0.3974314033985138], \"y\": [-0.9940372109413147, -1.3301397562026978, -0.8121452331542969, -0.7641688585281372]}, {\"marker\": {\"color\": \"rgba(0, 128, 128, 1.0)\", \"line\": {\"width\": 1.3}, \"opacity\": 0.8, \"size\": 12, \"symbol\": \"circle\"}, \"mode\": \"markers\", \"name\": \"docteur/m\\u00e9decin/sant\\u00e9/bobo\", \"text\": [\"docteur\", \"m\\u00e9decin\", \"sant\\u00e9\", \"bobo\"], \"textfont\": {\"color\": \"#4D5663\"}, \"type\": \"scatter\", \"x\": [-0.4904744029045105, -0.2129167765378952, -0.26850464940071106, -0.3594997227191925], \"y\": [-0.5540862679481506, -0.1379692554473877, -0.5225483775138855, -0.5214904546737671]}, {\"marker\": {\"color\": \"rgba(255, 255, 51, 1.0)\", \"line\": {\"width\": 1.3}, \"opacity\": 0.8, \"size\": 12, \"symbol\": \"circle\"}, \"mode\": \"markers\", \"name\": \"belle/jolie/mignonne\", \"text\": [\"belle\", \"jolie\", \"mignonne\"], \"textfont\": {\"color\": \"#4D5663\"}, \"type\": \"scatter\", \"x\": [6.50419282913208, 1.540183186531067, 1.6366199254989624], \"y\": [-2.0986528396606445, -1.401846170425415, -1.2839980125427246]}, {\"marker\": {\"color\": \"rgba(128, 128, 0, 1.0)\", \"line\": {\"width\": 1.3}, \"opacity\": 0.8, \"size\": 12, \"symbol\": \"circle\"}, \"mode\": \"markers\", \"name\": \"p\\u00e8re/papa/daron\", \"text\": [\"p\\u00e8re\", \"papa\", \"daron\"], \"textfont\": {\"color\": \"#4D5663\"}, \"type\": \"scatter\", \"x\": [-0.7859174609184265, -0.13298875093460083, -0.4220542907714844], \"y\": [3.752204179763794, 0.23545098304748535, 1.198013186454773]}, {\"marker\": {\"color\": \"rgba(251, 128, 114, 1.0)\", \"line\": {\"width\": 1.3}, \"opacity\": 0.8, \"size\": 12, \"symbol\": \"circle\"}, \"mode\": \"markers\", \"name\": \"m\\u00e8re/maman/daronne\", \"text\": [\"m\\u00e8re\", \"maman\", \"daronne\"], \"textfont\": {\"color\": \"#4D5663\"}, \"type\": \"scatter\", \"x\": [3.949976921081543, 1.5027868747711182, 0.9408737421035767], \"y\": [5.072345733642578, 1.3745931386947632, 0.23913151025772095]}, {\"marker\": {\"color\": \"rgba(128, 177, 211, 1.0)\", \"line\": {\"width\": 1.3}, \"opacity\": 0.8, \"size\": 12, \"symbol\": \"circle\"}, \"mode\": \"markers\", \"name\": \"ol/psg/foot/stade\", \"text\": [\"ol\", \"psg\", \"foot\", \"stade\"], \"textfont\": {\"color\": \"#4D5663\"}, \"type\": \"scatter\", \"x\": [-0.6041370034217834, -0.6682152152061462, -1.6676684617996216, -0.8957090377807617], \"y\": [-0.6912007331848145, -0.1843678057193756, 0.13273033499717712, 0.047943681478500366]}],\n",
       "                        {\"legend\": {\"bgcolor\": \"#F5F6F9\", \"font\": {\"color\": \"#4D5663\"}}, \"paper_bgcolor\": \"#F5F6F9\", \"plot_bgcolor\": \"#F5F6F9\", \"template\": {\"data\": {\"bar\": [{\"error_x\": {\"color\": \"#2a3f5f\"}, \"error_y\": {\"color\": \"#2a3f5f\"}, \"marker\": {\"line\": {\"color\": \"#E5ECF6\", \"width\": 0.5}}, \"type\": \"bar\"}], \"barpolar\": [{\"marker\": {\"line\": {\"color\": \"#E5ECF6\", \"width\": 0.5}}, \"type\": \"barpolar\"}], \"carpet\": [{\"aaxis\": {\"endlinecolor\": \"#2a3f5f\", \"gridcolor\": \"white\", \"linecolor\": \"white\", \"minorgridcolor\": \"white\", \"startlinecolor\": \"#2a3f5f\"}, \"baxis\": {\"endlinecolor\": \"#2a3f5f\", \"gridcolor\": \"white\", \"linecolor\": \"white\", \"minorgridcolor\": \"white\", \"startlinecolor\": \"#2a3f5f\"}, \"type\": \"carpet\"}], \"choropleth\": [{\"colorbar\": {\"outlinewidth\": 0, \"ticks\": \"\"}, \"type\": \"choropleth\"}], \"contour\": [{\"colorbar\": {\"outlinewidth\": 0, \"ticks\": \"\"}, \"colorscale\": [[0.0, \"#0d0887\"], [0.1111111111111111, \"#46039f\"], [0.2222222222222222, \"#7201a8\"], [0.3333333333333333, \"#9c179e\"], [0.4444444444444444, \"#bd3786\"], [0.5555555555555556, \"#d8576b\"], [0.6666666666666666, \"#ed7953\"], [0.7777777777777778, \"#fb9f3a\"], [0.8888888888888888, \"#fdca26\"], [1.0, \"#f0f921\"]], \"type\": \"contour\"}], \"contourcarpet\": [{\"colorbar\": {\"outlinewidth\": 0, \"ticks\": \"\"}, \"type\": \"contourcarpet\"}], \"heatmap\": [{\"colorbar\": {\"outlinewidth\": 0, \"ticks\": \"\"}, \"colorscale\": [[0.0, \"#0d0887\"], [0.1111111111111111, \"#46039f\"], [0.2222222222222222, \"#7201a8\"], [0.3333333333333333, \"#9c179e\"], [0.4444444444444444, \"#bd3786\"], [0.5555555555555556, \"#d8576b\"], [0.6666666666666666, \"#ed7953\"], [0.7777777777777778, \"#fb9f3a\"], [0.8888888888888888, \"#fdca26\"], [1.0, \"#f0f921\"]], \"type\": \"heatmap\"}], \"heatmapgl\": [{\"colorbar\": {\"outlinewidth\": 0, \"ticks\": \"\"}, \"colorscale\": [[0.0, \"#0d0887\"], [0.1111111111111111, \"#46039f\"], [0.2222222222222222, \"#7201a8\"], [0.3333333333333333, \"#9c179e\"], [0.4444444444444444, \"#bd3786\"], [0.5555555555555556, \"#d8576b\"], [0.6666666666666666, \"#ed7953\"], [0.7777777777777778, \"#fb9f3a\"], [0.8888888888888888, \"#fdca26\"], [1.0, \"#f0f921\"]], \"type\": \"heatmapgl\"}], \"histogram\": [{\"marker\": {\"colorbar\": {\"outlinewidth\": 0, \"ticks\": \"\"}}, \"type\": \"histogram\"}], \"histogram2d\": [{\"colorbar\": {\"outlinewidth\": 0, \"ticks\": \"\"}, \"colorscale\": [[0.0, \"#0d0887\"], [0.1111111111111111, \"#46039f\"], [0.2222222222222222, \"#7201a8\"], [0.3333333333333333, \"#9c179e\"], [0.4444444444444444, \"#bd3786\"], [0.5555555555555556, \"#d8576b\"], [0.6666666666666666, \"#ed7953\"], [0.7777777777777778, \"#fb9f3a\"], [0.8888888888888888, \"#fdca26\"], [1.0, \"#f0f921\"]], \"type\": \"histogram2d\"}], \"histogram2dcontour\": [{\"colorbar\": {\"outlinewidth\": 0, \"ticks\": \"\"}, \"colorscale\": [[0.0, \"#0d0887\"], [0.1111111111111111, \"#46039f\"], [0.2222222222222222, \"#7201a8\"], [0.3333333333333333, \"#9c179e\"], [0.4444444444444444, \"#bd3786\"], [0.5555555555555556, \"#d8576b\"], [0.6666666666666666, \"#ed7953\"], [0.7777777777777778, \"#fb9f3a\"], [0.8888888888888888, \"#fdca26\"], [1.0, \"#f0f921\"]], \"type\": \"histogram2dcontour\"}], \"mesh3d\": [{\"colorbar\": {\"outlinewidth\": 0, \"ticks\": \"\"}, \"type\": \"mesh3d\"}], \"parcoords\": [{\"line\": {\"colorbar\": {\"outlinewidth\": 0, \"ticks\": \"\"}}, \"type\": \"parcoords\"}], \"pie\": [{\"automargin\": true, \"type\": \"pie\"}], \"scatter\": [{\"marker\": {\"colorbar\": {\"outlinewidth\": 0, \"ticks\": \"\"}}, \"type\": \"scatter\"}], \"scatter3d\": [{\"line\": {\"colorbar\": {\"outlinewidth\": 0, \"ticks\": \"\"}}, \"marker\": {\"colorbar\": {\"outlinewidth\": 0, \"ticks\": \"\"}}, \"type\": \"scatter3d\"}], \"scattercarpet\": [{\"marker\": {\"colorbar\": {\"outlinewidth\": 0, \"ticks\": \"\"}}, \"type\": \"scattercarpet\"}], \"scattergeo\": [{\"marker\": {\"colorbar\": {\"outlinewidth\": 0, \"ticks\": \"\"}}, \"type\": \"scattergeo\"}], \"scattergl\": [{\"marker\": {\"colorbar\": {\"outlinewidth\": 0, \"ticks\": \"\"}}, \"type\": \"scattergl\"}], \"scattermapbox\": [{\"marker\": {\"colorbar\": {\"outlinewidth\": 0, \"ticks\": \"\"}}, \"type\": \"scattermapbox\"}], \"scatterpolar\": [{\"marker\": {\"colorbar\": {\"outlinewidth\": 0, \"ticks\": \"\"}}, \"type\": \"scatterpolar\"}], \"scatterpolargl\": [{\"marker\": {\"colorbar\": {\"outlinewidth\": 0, \"ticks\": \"\"}}, \"type\": \"scatterpolargl\"}], \"scatterternary\": [{\"marker\": {\"colorbar\": {\"outlinewidth\": 0, \"ticks\": \"\"}}, \"type\": \"scatterternary\"}], \"surface\": [{\"colorbar\": {\"outlinewidth\": 0, \"ticks\": \"\"}, \"colorscale\": [[0.0, \"#0d0887\"], [0.1111111111111111, \"#46039f\"], [0.2222222222222222, \"#7201a8\"], [0.3333333333333333, \"#9c179e\"], [0.4444444444444444, \"#bd3786\"], [0.5555555555555556, \"#d8576b\"], [0.6666666666666666, \"#ed7953\"], [0.7777777777777778, \"#fb9f3a\"], [0.8888888888888888, \"#fdca26\"], [1.0, \"#f0f921\"]], \"type\": \"surface\"}], \"table\": [{\"cells\": {\"fill\": {\"color\": \"#EBF0F8\"}, \"line\": {\"color\": \"white\"}}, \"header\": {\"fill\": {\"color\": \"#C8D4E3\"}, \"line\": {\"color\": \"white\"}}, \"type\": \"table\"}]}, \"layout\": {\"annotationdefaults\": {\"arrowcolor\": \"#2a3f5f\", \"arrowhead\": 0, \"arrowwidth\": 1}, \"coloraxis\": {\"colorbar\": {\"outlinewidth\": 0, \"ticks\": \"\"}}, \"colorscale\": {\"diverging\": [[0, \"#8e0152\"], [0.1, \"#c51b7d\"], [0.2, \"#de77ae\"], [0.3, \"#f1b6da\"], [0.4, \"#fde0ef\"], [0.5, \"#f7f7f7\"], [0.6, \"#e6f5d0\"], [0.7, \"#b8e186\"], [0.8, \"#7fbc41\"], [0.9, \"#4d9221\"], [1, \"#276419\"]], \"sequential\": [[0.0, \"#0d0887\"], [0.1111111111111111, \"#46039f\"], [0.2222222222222222, \"#7201a8\"], [0.3333333333333333, \"#9c179e\"], [0.4444444444444444, \"#bd3786\"], [0.5555555555555556, \"#d8576b\"], [0.6666666666666666, \"#ed7953\"], [0.7777777777777778, \"#fb9f3a\"], [0.8888888888888888, \"#fdca26\"], [1.0, \"#f0f921\"]], \"sequentialminus\": [[0.0, \"#0d0887\"], [0.1111111111111111, \"#46039f\"], [0.2222222222222222, \"#7201a8\"], [0.3333333333333333, \"#9c179e\"], [0.4444444444444444, \"#bd3786\"], [0.5555555555555556, \"#d8576b\"], [0.6666666666666666, \"#ed7953\"], [0.7777777777777778, \"#fb9f3a\"], [0.8888888888888888, \"#fdca26\"], [1.0, \"#f0f921\"]]}, \"colorway\": [\"#636efa\", \"#EF553B\", \"#00cc96\", \"#ab63fa\", \"#FFA15A\", \"#19d3f3\", \"#FF6692\", \"#B6E880\", \"#FF97FF\", \"#FECB52\"], \"font\": {\"color\": \"#2a3f5f\"}, \"geo\": {\"bgcolor\": \"white\", \"lakecolor\": \"white\", \"landcolor\": \"#E5ECF6\", \"showlakes\": true, \"showland\": true, \"subunitcolor\": \"white\"}, \"hoverlabel\": {\"align\": \"left\"}, \"hovermode\": \"closest\", \"mapbox\": {\"style\": \"light\"}, \"paper_bgcolor\": \"white\", \"plot_bgcolor\": \"#E5ECF6\", \"polar\": {\"angularaxis\": {\"gridcolor\": \"white\", \"linecolor\": \"white\", \"ticks\": \"\"}, \"bgcolor\": \"#E5ECF6\", \"radialaxis\": {\"gridcolor\": \"white\", \"linecolor\": \"white\", \"ticks\": \"\"}}, \"scene\": {\"xaxis\": {\"backgroundcolor\": \"#E5ECF6\", \"gridcolor\": \"white\", \"gridwidth\": 2, \"linecolor\": \"white\", \"showbackground\": true, \"ticks\": \"\", \"zerolinecolor\": \"white\"}, \"yaxis\": {\"backgroundcolor\": \"#E5ECF6\", \"gridcolor\": \"white\", \"gridwidth\": 2, \"linecolor\": \"white\", \"showbackground\": true, \"ticks\": \"\", \"zerolinecolor\": \"white\"}, \"zaxis\": {\"backgroundcolor\": \"#E5ECF6\", \"gridcolor\": \"white\", \"gridwidth\": 2, \"linecolor\": \"white\", \"showbackground\": true, \"ticks\": \"\", \"zerolinecolor\": \"white\"}}, \"shapedefaults\": {\"line\": {\"color\": \"#2a3f5f\"}}, \"ternary\": {\"aaxis\": {\"gridcolor\": \"white\", \"linecolor\": \"white\", \"ticks\": \"\"}, \"baxis\": {\"gridcolor\": \"white\", \"linecolor\": \"white\", \"ticks\": \"\"}, \"bgcolor\": \"#E5ECF6\", \"caxis\": {\"gridcolor\": \"white\", \"linecolor\": \"white\", \"ticks\": \"\"}}, \"title\": {\"x\": 0.05}, \"xaxis\": {\"automargin\": true, \"gridcolor\": \"white\", \"linecolor\": \"white\", \"ticks\": \"\", \"title\": {\"standoff\": 15}, \"zerolinecolor\": \"white\", \"zerolinewidth\": 2}, \"yaxis\": {\"automargin\": true, \"gridcolor\": \"white\", \"linecolor\": \"white\", \"ticks\": \"\", \"title\": {\"standoff\": 15}, \"zerolinecolor\": \"white\", \"zerolinewidth\": 2}}}, \"title\": {\"font\": {\"color\": \"#4D5663\"}, \"text\": \"ACP en 2 composantes\"}, \"xaxis\": {\"gridcolor\": \"#E1E5ED\", \"showgrid\": true, \"tickfont\": {\"color\": \"#4D5663\"}, \"title\": {\"font\": {\"color\": \"#4D5663\"}, \"text\": \"Axe 1\"}, \"zerolinecolor\": \"#E1E5ED\"}, \"yaxis\": {\"gridcolor\": \"#E1E5ED\", \"showgrid\": true, \"tickfont\": {\"color\": \"#4D5663\"}, \"title\": {\"font\": {\"color\": \"#4D5663\"}, \"text\": \"Axe 2\"}, \"zerolinecolor\": \"#E1E5ED\"}},\n",
       "                        {\"showLink\": true, \"linkText\": \"Export to plot.ly\", \"plotlyServerURL\": \"https://plot.ly\", \"responsive\": true}\n",
       "                    ).then(function(){\n",
       "                            \n",
       "var gd = document.getElementById('757e6f7b-5ba4-4f7b-b479-699e08c757fc');\n",
       "var x = new MutationObserver(function (mutations, observer) {{\n",
       "        var display = window.getComputedStyle(gd).display;\n",
       "        if (!display || display === 'none') {{\n",
       "            console.log([gd, 'removed!']);\n",
       "            Plotly.purge(gd);\n",
       "            observer.disconnect();\n",
       "        }}\n",
       "}});\n",
       "\n",
       "// Listen for the removal of the full notebook cells\n",
       "var notebookContainer = gd.closest('#notebook-container');\n",
       "if (notebookContainer) {{\n",
       "    x.observe(notebookContainer, {childList: true});\n",
       "}}\n",
       "\n",
       "// Listen for the clearing of the current output cell\n",
       "var outputEl = gd.closest('.output');\n",
       "if (outputEl) {{\n",
       "    x.observe(outputEl, {childList: true});\n",
       "}}\n",
       "\n",
       "                        })\n",
       "                };\n",
       "                });\n",
       "            </script>\n",
       "        </div>"
      ]
     },
     "metadata": {},
     "output_type": "display_data"
    }
   ],
   "source": [
    "ACP(liste1, statique = False)"
   ]
  },
  {
   "cell_type": "code",
   "execution_count": 31,
   "metadata": {},
   "outputs": [
    {
     "data": {
      "text/html": [
       "        <script type=\"text/javascript\">\n",
       "        window.PlotlyConfig = {MathJaxConfig: 'local'};\n",
       "        if (window.MathJax) {MathJax.Hub.Config({SVG: {font: \"STIX-Web\"}});}\n",
       "        if (typeof require !== 'undefined') {\n",
       "        require.undef(\"plotly\");\n",
       "        requirejs.config({\n",
       "            paths: {\n",
       "                'plotly': ['https://cdn.plot.ly/plotly-latest.min']\n",
       "            }\n",
       "        });\n",
       "        require(['plotly'], function(Plotly) {\n",
       "            window._Plotly = Plotly;\n",
       "        });\n",
       "        }\n",
       "        </script>\n",
       "        "
      ]
     },
     "metadata": {},
     "output_type": "display_data"
    },
    {
     "data": {
      "text/html": [
       "        <script type=\"text/javascript\">\n",
       "        window.PlotlyConfig = {MathJaxConfig: 'local'};\n",
       "        if (window.MathJax) {MathJax.Hub.Config({SVG: {font: \"STIX-Web\"}});}\n",
       "        if (typeof require !== 'undefined') {\n",
       "        require.undef(\"plotly\");\n",
       "        requirejs.config({\n",
       "            paths: {\n",
       "                'plotly': ['https://cdn.plot.ly/plotly-latest.min']\n",
       "            }\n",
       "        });\n",
       "        require(['plotly'], function(Plotly) {\n",
       "            window._Plotly = Plotly;\n",
       "        });\n",
       "        }\n",
       "        </script>\n",
       "        "
      ]
     },
     "metadata": {},
     "output_type": "display_data"
    },
    {
     "name": "stderr",
     "output_type": "stream",
     "text": [
      "C:\\Users\\Kim Antunez\\Anaconda3\\lib\\site-packages\\cufflinks\\plotlytools.py:808: FutureWarning:\n",
      "\n",
      "The pandas.np module is deprecated and will be removed from pandas in a future version. Import numpy directly instead\n",
      "\n",
      "C:\\Users\\Kim Antunez\\Anaconda3\\lib\\site-packages\\cufflinks\\plotlytools.py:811: FutureWarning:\n",
      "\n",
      "The pandas.np module is deprecated and will be removed from pandas in a future version. Import numpy directly instead\n",
      "\n"
     ]
    },
    {
     "data": {
      "application/vnd.plotly.v1+json": {
       "config": {
        "linkText": "Export to plot.ly",
        "plotlyServerURL": "https://plot.ly",
        "showLink": true
       },
       "data": [
        {
         "marker": {
          "color": "rgba(255, 153, 51, 1.0)",
          "line": {
           "width": 1.3
          },
          "opacity": 0.8,
          "size": 12,
          "symbol": "circle"
         },
         "mode": "markers",
         "name": "jespere/expres/unknown/tite/35/ipad/eme/relâche/top1/chiants/libres/europeans/investit/usualsuspects/davoir/néant/mariages/clinique/scandaleux/hallucinant/josefine/taule/mylène/mouchoirs/🇪/forts/malédiction/mounet/impôt/🇸/union/od/refusé/animes/gouffre/keufs/glr/chips/fallu/nah/jambon/bouh/grotte/sénat/pseudos/etaient/hac/lazare/cou/attitude/parlementaire/irrespectueux/dégradé/nain/friendzone/pl/audace/jambon/autorité/puisqu/abandonne/bonus/enregistre/insultes/chaines/laaaaa/véritable/salles/steak/formule/lignes/applis/🔵/algerie/sentie/�/🇵/paradise/pédophile/ch/solitude/fesse/1500/honnêtes/jmet/mmmh/opposition/cliqué/soja/george/levé/she/dictionnaire/foutais/agenda/emmerdale/boo/connecté/permanente/côtoie",
         "text": [
          "jespere",
          "expres",
          "unknown",
          "tite",
          "35",
          "ipad",
          "eme",
          "relâche",
          "top1",
          "chiants",
          "libres",
          "europeans",
          "investit",
          "usualsuspects",
          "davoir",
          "néant",
          "mariages",
          "clinique",
          "scandaleux",
          "hallucinant",
          "josefine",
          "taule",
          "mylène",
          "mouchoirs",
          "🇪",
          "forts",
          "malédiction",
          "mounet",
          "impôt",
          "🇸",
          "union",
          "od",
          "refusé",
          "animes",
          "gouffre",
          "keufs",
          "glr",
          "chips",
          "fallu",
          "nah",
          "jambon",
          "bouh",
          "grotte",
          "sénat",
          "pseudos",
          "etaient",
          "hac",
          "lazare",
          "cou",
          "attitude",
          "parlementaire",
          "irrespectueux",
          "dégradé",
          "nain",
          "friendzone",
          "pl",
          "audace",
          "jambon",
          "autorité",
          "puisqu",
          "abandonne",
          "bonus",
          "enregistre",
          "insultes",
          "chaines",
          "laaaaa",
          "véritable",
          "salles",
          "steak",
          "formule",
          "lignes",
          "applis",
          "🔵",
          "algerie",
          "sentie",
          "�",
          "🇵",
          "paradise",
          "pédophile",
          "ch",
          "solitude",
          "fesse",
          "1500",
          "honnêtes",
          "jmet",
          "mmmh",
          "opposition",
          "cliqué",
          "soja",
          "george",
          "levé",
          "she",
          "dictionnaire",
          "foutais",
          "agenda",
          "emmerdale",
          "boo",
          "connecté",
          "permanente",
          "côtoie"
         ],
         "textfont": {
          "color": "#4D5663"
         },
         "type": "scatter",
         "x": [
          -0.3045130670070648,
          -0.2961404025554657,
          -0.3577747941017151,
          -0.4468343257904053,
          -0.4669433534145355,
          -0.39753246307373047,
          -0.43581464886665344,
          -0.274768590927124,
          -0.34543347358703613,
          -0.3246886730194092,
          -0.21918395161628723,
          -0.49178755283355713,
          -0.3389308750629425,
          -0.3461073935031891,
          -0.3861115276813507,
          -0.3204840421676636,
          -0.36974814534187317,
          -0.3171999752521515,
          -0.42632198333740234,
          -0.4097370505332947,
          -0.37399619817733765,
          -0.292503297328949,
          -0.29930442571640015,
          -0.244102343916893,
          -0.6508499383926392,
          -0.36241793632507324,
          -0.30380210280418396,
          -0.44365251064300537,
          -0.32003822922706604,
          -0.6735303997993469,
          -0.3688042461872101,
          -0.39684465527534485,
          -0.3587793707847595,
          -0.31753748655319214,
          -0.2993748188018799,
          -0.31583473086357117,
          -0.4340311586856842,
          -0.3361411988735199,
          -0.24502421915531158,
          -0.36833029985427856,
          -0.4228985011577606,
          -0.29505297541618347,
          -0.33169516921043396,
          -0.32332107424736023,
          -0.23108352720737457,
          -0.3517482578754425,
          -0.2389041632413864,
          -0.32782724499702454,
          -0.4342316687107086,
          -0.4389648735523224,
          -0.3401045799255371,
          -0.3859674632549286,
          -0.4104277491569519,
          -0.3377247452735901,
          -0.2978549599647522,
          -0.4115447998046875,
          -0.3517400324344635,
          -0.4228985011577606,
          -0.3288469612598419,
          -0.22880443930625916,
          -0.2827119529247284,
          -0.4527680277824402,
          -0.3800484538078308,
          -0.27083414793014526,
          -0.3341560363769531,
          -0.3848731815814972,
          -0.6670835018157959,
          -0.35346460342407227,
          -0.4021010398864746,
          -0.4700533151626587,
          -0.3010067343711853,
          -0.34160876274108887,
          -0.7619584798812866,
          -0.28373417258262634,
          -0.26330918073654175,
          -0.280476838350296,
          -0.5342623591423035,
          -0.3354792594909668,
          -0.46032851934432983,
          -0.4342561960220337,
          -0.45208659768104553,
          -0.4493996500968933,
          -0.33640241622924805,
          -0.30701127648353577,
          -0.47900500893592834,
          -0.33713167905807495,
          -0.3424353003501892,
          -0.3004097640514374,
          -0.31862273812294006,
          -0.31696823239326477,
          -0.43036016821861267,
          -0.3839419484138489,
          -0.41241511702537537,
          -0.2922094464302063,
          -0.47477275133132935,
          -0.371291846036911,
          -0.38021034002304077,
          -0.4261392652988434,
          -0.30616554617881775,
          -0.1914176493883133
         ],
         "y": [
          -0.05267137289047241,
          -0.28151988983154297,
          -0.23836921155452728,
          0.005043341312557459,
          -0.40681520104408264,
          -0.26389244198799133,
          -0.48928046226501465,
          -0.07869889587163925,
          -0.30757853388786316,
          -0.18464207649230957,
          -0.1752307415008545,
          -0.3036535978317261,
          -0.2635933458805084,
          -0.19979627430438995,
          -0.18851682543754578,
          -0.21532732248306274,
          -0.22471308708190918,
          -0.2511153221130371,
          -0.13553667068481445,
          -0.2803831398487091,
          -0.2990306615829468,
          -0.2586323916912079,
          -0.2966492176055908,
          -0.23041890561580658,
          -0.301120787858963,
          -0.20175714790821075,
          -0.27249911427497864,
          -0.1950753778219223,
          -0.2447277158498764,
          -0.44618678092956543,
          -0.1592523157596588,
          -0.18799066543579102,
          -0.31141039729118347,
          -0.2641066312789917,
          -0.1545933187007904,
          -0.16736987233161926,
          -0.11351881176233292,
          -0.32973650097846985,
          -0.1669072061777115,
          -0.09336759895086288,
          -0.2220134139060974,
          -0.21554483473300934,
          -0.2976953983306885,
          -0.1847647726535797,
          -0.2081368863582611,
          -0.102606400847435,
          -0.22707058489322662,
          -0.16934210062026978,
          -0.19222329556941986,
          -0.24839694797992706,
          -0.1767127364873886,
          -0.17031411826610565,
          -0.28387653827667236,
          -0.25607940554618835,
          -0.1442442685365677,
          -0.26126980781555176,
          -0.19013890624046326,
          -0.2220134139060974,
          -0.22172565758228302,
          -0.18888169527053833,
          0.016536161303520203,
          -0.21449948847293854,
          -0.16641685366630554,
          0.005843309685587883,
          -0.17737898230552673,
          -0.3168952465057373,
          -0.14608901739120483,
          -0.253280371427536,
          -0.19074630737304688,
          -0.2030428797006607,
          -0.21811676025390625,
          -0.2579093277454376,
          -0.46668580174446106,
          -0.20709775388240814,
          -0.3013174831867218,
          -0.15787261724472046,
          -0.3982278108596802,
          -0.28597739338874817,
          -0.18722274899482727,
          -0.3084762990474701,
          -0.3440982699394226,
          -0.20841234922409058,
          -0.3789133131504059,
          -0.20191754400730133,
          -0.04357409104704857,
          -0.23191531002521515,
          -0.3012819290161133,
          -0.41248586773872375,
          -0.21650643646717072,
          -0.2253953516483307,
          -0.4500511884689331,
          -0.3094324469566345,
          -0.19662213325500488,
          -0.0314670167863369,
          -0.19694143533706665,
          -0.2351761758327484,
          -0.2912195026874542,
          -0.20717786252498627,
          -0.18461710214614868,
          -0.0773630365729332
         ]
        },
        {
         "marker": {
          "color": "rgba(55, 128, 191, 1.0)",
          "line": {
           "width": 1.3
          },
          "opacity": 0.8,
          "size": 12,
          "symbol": "circle"
         },
         "mode": "markers",
         "name": "jvoulais/vérifier/réflexion/ha/ajouter/solo/entrain/🇫/impressionnant/neige/gère/taff/passion/mens/nez/comptes/back/carrière/😞/sophie/permis/termine/journal/dise/marie/raclette/crise/croit/règles/choqué/rencontrer/touche/mdrrrrrr/octobre/uniquement/alexia/tente/vélo/naze/28/jalouse/tente/goûts/position/saisons/entretien/clé/inverse/sud/japonais/bienvenue/rendent/madame/gestion/victoire/tain/regardant/échec/🌹/gouvernement/souris/suisse/ramener/🤞/svt/plaindre/✊/refuse/actuellement/étude/merciiiii/lyon/bjr/tg/trous/bouffer/familles/choquée/90/fatiguée/lapin/payé/🤙/regrette/sah/expérience/zéro/manga/batterie/charge/al/sales/calmer/kiffé/😰/13/animal/2e/réveille/3h",
         "text": [
          "jvoulais",
          "vérifier",
          "réflexion",
          "ha",
          "ajouter",
          "solo",
          "entrain",
          "🇫",
          "impressionnant",
          "neige",
          "gère",
          "taff",
          "passion",
          "mens",
          "nez",
          "comptes",
          "back",
          "carrière",
          "😞",
          "sophie",
          "permis",
          "termine",
          "journal",
          "dise",
          "marie",
          "raclette",
          "crise",
          "croit",
          "règles",
          "choqué",
          "rencontrer",
          "touche",
          "mdrrrrrr",
          "octobre",
          "uniquement",
          "alexia",
          "tente",
          "vélo",
          "naze",
          "28",
          "jalouse",
          "tente",
          "goûts",
          "position",
          "saisons",
          "entretien",
          "clé",
          "inverse",
          "sud",
          "japonais",
          "bienvenue",
          "rendent",
          "madame",
          "gestion",
          "victoire",
          "tain",
          "regardant",
          "échec",
          "🌹",
          "gouvernement",
          "souris",
          "suisse",
          "ramener",
          "🤞",
          "svt",
          "plaindre",
          "✊",
          "refuse",
          "actuellement",
          "étude",
          "merciiiii",
          "lyon",
          "bjr",
          "tg",
          "trous",
          "bouffer",
          "familles",
          "choquée",
          "90",
          "fatiguée",
          "lapin",
          "payé",
          "🤙",
          "regrette",
          "sah",
          "expérience",
          "zéro",
          "manga",
          "batterie",
          "charge",
          "al",
          "sales",
          "calmer",
          "kiffé",
          "😰",
          "13",
          "animal",
          "2e",
          "réveille",
          "3h"
         ],
         "textfont": {
          "color": "#4D5663"
         },
         "type": "scatter",
         "x": [
          -0.3004409372806549,
          -0.18082350492477417,
          -0.5884179472923279,
          -0.9688195586204529,
          -0.09548470377922058,
          -0.420516699552536,
          0.09590008854866028,
          -0.6575899720191956,
          -0.5933582186698914,
          -0.14734825491905212,
          -0.5217314958572388,
          -0.29328295588493347,
          -0.5994537472724915,
          -0.4592958092689514,
          -0.8251583576202393,
          0.01698196306824684,
          -0.5247706174850464,
          -0.665585994720459,
          -0.8366284966468811,
          -0.5074151754379272,
          -0.29166924953460693,
          -0.3568666875362396,
          -0.46696922183036804,
          -0.08147148042917252,
          -0.46947792172431946,
          -0.4593627452850342,
          -0.4682375490665436,
          0.024454204365611076,
          -0.34929388761520386,
          -0.905785083770752,
          -0.198967844247818,
          -0.15827059745788574,
          -0.6361373662948608,
          -0.5503206253051758,
          -0.3103127181529999,
          -0.17680373787879944,
          -0.28920161724090576,
          -0.46589428186416626,
          -0.8056356310844421,
          -0.3423462510108948,
          -0.5634706020355225,
          -0.28920161724090576,
          -0.5406136512756348,
          -0.4631614685058594,
          -0.4429224133491516,
          -0.38906964659690857,
          -0.4839460551738739,
          -0.587943971157074,
          -0.370314359664917,
          -0.4197101294994354,
          -0.9050531983375549,
          -0.30347833037376404,
          -0.36662185192108154,
          -0.371604859828949,
          -0.6652572751045227,
          -0.3903574049472809,
          -0.31471794843673706,
          -0.7886938452720642,
          -2.0127511024475098,
          -0.26685845851898193,
          -0.4030878245830536,
          -0.2597644031047821,
          -0.23835952579975128,
          -0.8340343832969666,
          -0.3337829113006592,
          0.36340147256851196,
          -0.6010079979896545,
          -0.1634344607591629,
          -0.16569311916828156,
          -0.40452253818511963,
          -0.7187475562095642,
          -0.14010471105575562,
          -0.2005940079689026,
          -0.5443149209022522,
          -0.26850998401641846,
          -0.005218552425503731,
          -0.3915260136127472,
          -0.9940096139907837,
          -0.39398378133773804,
          -0.7693271040916443,
          -0.5159277319908142,
          -0.3735728859901428,
          -1.0452324151992798,
          -0.3796200454235077,
          -0.4096333086490631,
          -0.5272750854492188,
          -0.2739371657371521,
          -0.4383430778980255,
          -0.23468099534511566,
          -0.4236440360546112,
          -0.5550940036773682,
          -0.28821712732315063,
          0.012731289491057396,
          -0.5610747337341309,
          -0.8492515683174133,
          -0.2958059012889862,
          -0.6503756046295166,
          -0.6786791682243347,
          -0.08193686604499817,
          -0.037373967468738556
         ],
         "y": [
          0.17934046685695648,
          -0.34464752674102783,
          -0.23545442521572113,
          0.07633250951766968,
          -0.12617988884449005,
          -0.36714407801628113,
          -0.80637526512146,
          -0.4381238520145416,
          -0.2272590845823288,
          -0.27218735218048096,
          0.3075336813926697,
          -0.11699128895998001,
          -0.057507116347551346,
          0.7256966829299927,
          0.00862282607704401,
          0.3058611750602722,
          -0.44059231877326965,
          -0.1656222939491272,
          -0.6576140522956848,
          -0.47149524092674255,
          -0.5326858162879944,
          0.40627968311309814,
          -0.20759133994579315,
          0.30665886402130127,
          0.17778658866882324,
          -0.3272485136985779,
          -0.5388981699943542,
          -0.017611224204301834,
          -0.19303826987743378,
          -0.8447550535202026,
          -0.34577271342277527,
          0.7478812336921692,
          0.09658479690551758,
          -0.6027213931083679,
          -0.10686248540878296,
          -0.26676493883132935,
          1.4663958549499512,
          -0.38323351740837097,
          -0.4729766845703125,
          -1.2019416093826294,
          -0.42556941509246826,
          1.4663958549499512,
          -0.3092283606529236,
          -0.2866905927658081,
          -0.5683268904685974,
          -0.39667603373527527,
          -0.27532267570495605,
          -0.5207352042198181,
          -0.3574722111225128,
          -0.20638872683048248,
          0.14069370925426483,
          0.3706371784210205,
          0.06444770842790604,
          -0.26717379689216614,
          -0.23985031247138977,
          -0.32524269819259644,
          -0.0857137069106102,
          -0.41203832626342773,
          -0.34461453557014465,
          -0.19376061856746674,
          0.08011507987976074,
          -0.0713338553905487,
          -0.22871164977550507,
          -0.8383987545967102,
          -0.24219506978988647,
          0.3321155607700348,
          -0.40316346287727356,
          0.4117720425128937,
          -0.5958501100540161,
          -0.3287258446216583,
          -0.10530687123537064,
          -0.3676013946533203,
          0.01190908532589674,
          0.1464589238166809,
          -0.270002543926239,
          -0.22334934771060944,
          -0.20673637092113495,
          -1.0157933235168457,
          -0.8702941536903381,
          -1.412335991859436,
          -0.26709452271461487,
          -0.3170439898967743,
          -0.6934199333190918,
          0.5174951553344727,
          -0.6056812405586243,
          -0.34363874793052673,
          -0.19586965441703796,
          -0.2515582740306854,
          -0.35736140608787537,
          0.20224356651306152,
          -0.28493520617485046,
          -0.27519628405570984,
          0.11650950461626053,
          -0.33193933963775635,
          -0.6934113502502441,
          -1.2873560190200806,
          -0.5796610713005066,
          -0.4524044692516327,
          0.9710505604743958,
          -0.7059742212295532
         ]
        },
        {
         "marker": {
          "color": "rgba(50, 171, 96, 1.0)",
          "line": {
           "width": 1.3
          },
          "opacity": 0.8,
          "size": 12,
          "symbol": "circle"
         },
         "mode": "markers",
         "name": "ligne/bravo/in/aujourdhui/rend/nan/pire/chaque/ya/change/mdrrr/😆/connais/clairement/an/min/pourtant/écouter/magnifique/o/force/doigts/perso/complètement/grand/content/elles/ptn/tl/inquiète/tt/filles/hyper/no/😪/facile/ailleurs/grande/putain/pense/super/savez/🤔/autant/mdrrrr/sortie/partie/moment/bonjour/vos/tf1/verra/😢/dois/eux/génial/faites/gars/pcq/coup/quelques/laisser/contente/serai/jeux/hyper/stage/aurait/chaud/joue/janvier/trucs/😔/heureux/quelle/change/chat/peur/jui/réponse/heureuse/sport/eu/parti/pire/corps/15/stp/the/quel/semaine/maison/porte/8/bac/changé/vrais/ahah/😩/allez",
         "text": [
          "ligne",
          "bravo",
          "in",
          "aujourdhui",
          "rend",
          "nan",
          "pire",
          "chaque",
          "ya",
          "change",
          "mdrrr",
          "😆",
          "connais",
          "clairement",
          "an",
          "min",
          "pourtant",
          "écouter",
          "magnifique",
          "o",
          "force",
          "doigts",
          "perso",
          "complètement",
          "grand",
          "content",
          "elles",
          "ptn",
          "tl",
          "inquiète",
          "tt",
          "filles",
          "hyper",
          "no",
          "😪",
          "facile",
          "ailleurs",
          "grande",
          "putain",
          "pense",
          "super",
          "savez",
          "🤔",
          "autant",
          "mdrrrr",
          "sortie",
          "partie",
          "moment",
          "bonjour",
          "vos",
          "tf1",
          "verra",
          "😢",
          "dois",
          "eux",
          "génial",
          "faites",
          "gars",
          "pcq",
          "coup",
          "quelques",
          "laisser",
          "contente",
          "serai",
          "jeux",
          "hyper",
          "stage",
          "aurait",
          "chaud",
          "joue",
          "janvier",
          "trucs",
          "😔",
          "heureux",
          "quelle",
          "change",
          "chat",
          "peur",
          "jui",
          "réponse",
          "heureuse",
          "sport",
          "eu",
          "parti",
          "pire",
          "corps",
          "15",
          "stp",
          "the",
          "quel",
          "semaine",
          "maison",
          "porte",
          "8",
          "bac",
          "changé",
          "vrais",
          "ahah",
          "😩",
          "allez"
         ],
         "textfont": {
          "color": "#4D5663"
         },
         "type": "scatter",
         "x": [
          -0.4385070204734802,
          -1.0407730340957642,
          -0.7569108009338379,
          -0.26649588346481323,
          -0.22270599007606506,
          -1.3152140378952026,
          -0.26484033465385437,
          0.4652691185474396,
          0.4409257173538208,
          -0.11719995737075806,
          -0.38422679901123047,
          -1.4811229705810547,
          -0.4021245241165161,
          -0.17731355130672455,
          -1.018027663230896,
          0.07787468284368515,
          -0.42980828881263733,
          0.7242152094841003,
          -2.299711227416992,
          -0.29888859391212463,
          0.39607545733451843,
          0.3457096517086029,
          -0.4648361802101135,
          -0.8409786224365234,
          -0.5980409383773804,
          -0.828231930732727,
          2.619229316711426,
          0.1765754520893097,
          0.044924698770046234,
          -0.5330050587654114,
          0.04026790335774422,
          0.10604293644428253,
          -1.8260653018951416,
          -0.5924961566925049,
          -0.7187251448631287,
          -0.5369575023651123,
          0.49738577008247375,
          -1.0054600238800049,
          0.15220431983470917,
          0.11126171052455902,
          -2.6106302738189697,
          1.7439519166946411,
          -2.392296314239502,
          0.7416772246360779,
          -1.0063869953155518,
          -0.45639780163764954,
          -0.322447806596756,
          -0.10575833916664124,
          1.2641712427139282,
          2.730623960494995,
          0.0456155389547348,
          -0.5680583715438843,
          0.11979300528764725,
          0.7079269886016846,
          0.05546661838889122,
          -1.4282876253128052,
          1.617072582244873,
          -0.0017186140175908804,
          0.14215187728405,
          0.06601912528276443,
          0.6941604614257812,
          1.1888136863708496,
          -1.3959776163101196,
          -0.7812038660049438,
          -0.1662537306547165,
          -1.8260653018951416,
          -0.5670948624610901,
          0.9656922817230225,
          -1.2835798263549805,
          -0.3034794330596924,
          -0.6480372548103333,
          1.0451796054840088,
          -0.7568569183349609,
          -0.7522327899932861,
          0.17570184171199799,
          -0.11719995737075806,
          -1.1441571712493896,
          0.22011148929595947,
          -1.591765284538269,
          -0.2512693405151367,
          -1.1242948770523071,
          0.1708764284849167,
          0.404481440782547,
          -0.9528089165687561,
          -0.26484033465385437,
          -0.7237512469291687,
          0.5779709815979004,
          -0.7264900207519531,
          -1.3284978866577148,
          -0.6546120047569275,
          -1.0179362297058105,
          -0.4870089888572693,
          -0.21271096169948578,
          -0.36533674597740173,
          -0.7776942253112793,
          -0.026656324043869972,
          0.28564709424972534,
          -0.8277966976165771,
          -2.292161226272583,
          1.795793890953064
         ],
         "y": [
          -0.14773616194725037,
          0.8095722794532776,
          -0.9257359504699707,
          -0.7290738821029663,
          1.7079232931137085,
          -0.10687103122472763,
          0.6421756148338318,
          -0.6103028059005737,
          0.9605774879455566,
          1.3348066806793213,
          -0.11646553128957748,
          -0.786776065826416,
          3.6247849464416504,
          0.0073950886726379395,
          -0.8181414008140564,
          -1.416477084159851,
          0.018089137971401215,
          -0.5845269560813904,
          0.25854188203811646,
          -0.4273729920387268,
          0.8373160362243652,
          -0.6256110072135925,
          -0.354516863822937,
          -0.18388789892196655,
          1.120434284210205,
          -0.8093099594116211,
          -0.26681339740753174,
          0.11709991842508316,
          0.8158370852470398,
          0.9024007320404053,
          0.28296151757240295,
          0.06562113016843796,
          -0.879575252532959,
          -0.8172075152397156,
          -1.2316886186599731,
          -0.36649709939956665,
          -0.17789340019226074,
          0.4564736485481262,
          0.4008570611476898,
          2.99589204788208,
          0.17121261358261108,
          1.2233713865280151,
          -0.44377991557121277,
          -0.3663853704929352,
          0.11733566224575043,
          -0.5318393707275391,
          -0.350065678358078,
          0.19939860701560974,
          1.3668888807296753,
          1.0634618997573853,
          0.2372385561466217,
          0.7265630960464478,
          -0.9763063788414001,
          2.1423566341400146,
          0.429304838180542,
          -0.8390578031539917,
          1.5290905237197876,
          0.3609163761138916,
          -0.6516259908676147,
          -0.028086015954613686,
          -1.8482997417449951,
          0.23161862790584564,
          -1.3304719924926758,
          1.567260503768921,
          0.06476574391126633,
          -0.879575252532959,
          -0.8419683575630188,
          -1.2327417135238647,
          -0.4982103705406189,
          1.6941882371902466,
          -1.2034931182861328,
          0.3902919888496399,
          -0.6303733587265015,
          -0.4671843349933624,
          1.5166494846343994,
          1.3348066806793213,
          -0.030042756348848343,
          -0.7281006574630737,
          -0.01777496747672558,
          0.509526789188385,
          -1.0913141965866089,
          -0.5171957015991211,
          1.660933494567871,
          -0.8448993563652039,
          0.6421756148338318,
          0.17980481684207916,
          -1.8657184839248657,
          -0.038390886038541794,
          -0.9353596568107605,
          1.7760659456253052,
          -0.32221975922584534,
          0.44720712304115295,
          0.668013870716095,
          -1.6785084009170532,
          -0.7014238238334656,
          0.010248479433357716,
          -0.0690956860780716,
          0.06232282146811485,
          -1.3802059888839722,
          0.14493392407894135
         ]
        },
        {
         "marker": {
          "color": "rgba(128, 0, 128, 1.0)",
          "line": {
           "width": 1.3
          },
          "opacity": 0.8,
          "size": 12,
          "symbol": "circle"
         },
         "mode": "markers",
         "name": "pour/qui/😭/vu/mal/y/te/faire/qui/lui/fais/ça/qu/elle/est/ou/toujours/vrai/comme/fais/me/moi/donc/comment/es/sur/faut/rien/comme/d/vous/alors/m/️/à/trop/ma/dire/sur/mal/jamais/merci/s/mdr/lowfrequencyword/bien/temps/voir/lui/y/2/vous/ta/bon/on/donc/ton/ta/peut/aime/être/envie/2/que/ont/rien/sa/ne/nous/avoir/on/ai/vie/que/très/donc/vais/être/dire/ne/bonne/sont/alors/qu/j/nickname/là/ca/va/encore/sais/tous/moi/temps/mes/après/rien/sur/plus/avoir",
         "text": [
          "pour",
          "qui",
          "😭",
          "vu",
          "mal",
          "y",
          "te",
          "faire",
          "qui",
          "lui",
          "fais",
          "ça",
          "qu",
          "elle",
          "est",
          "ou",
          "toujours",
          "vrai",
          "comme",
          "fais",
          "me",
          "moi",
          "donc",
          "comment",
          "es",
          "sur",
          "faut",
          "rien",
          "comme",
          "d",
          "vous",
          "alors",
          "m",
          "️",
          "à",
          "trop",
          "ma",
          "dire",
          "sur",
          "mal",
          "jamais",
          "merci",
          "s",
          "mdr",
          "lowfrequencyword",
          "bien",
          "temps",
          "voir",
          "lui",
          "y",
          "2",
          "vous",
          "ta",
          "bon",
          "on",
          "donc",
          "ton",
          "ta",
          "peut",
          "aime",
          "être",
          "envie",
          "2",
          "que",
          "ont",
          "rien",
          "sa",
          "ne",
          "nous",
          "avoir",
          "on",
          "ai",
          "vie",
          "que",
          "très",
          "donc",
          "vais",
          "être",
          "dire",
          "ne",
          "bonne",
          "sont",
          "alors",
          "qu",
          "j",
          "nickname",
          "là",
          "ca",
          "va",
          "encore",
          "sais",
          "tous",
          "moi",
          "temps",
          "mes",
          "après",
          "rien",
          "sur",
          "plus",
          "avoir"
         ],
         "textfont": {
          "color": "#4D5663"
         },
         "type": "scatter",
         "x": [
          0.73064124584198,
          4.425790309906006,
          -1.2303643226623535,
          -0.56378173828125,
          0.855292797088623,
          3.031954765319824,
          2.1930696964263916,
          1.905674695968628,
          4.425790309906006,
          2.179628372192383,
          -0.7037771940231323,
          1.0881272554397583,
          2.736666202545166,
          1.6234147548675537,
          -1.2808867692947388,
          -0.1597597450017929,
          0.9884814620018005,
          -1.1740630865097046,
          -0.23109093308448792,
          -0.7037771940231323,
          3.668320894241333,
          0.6212156414985657,
          0.4367932379245758,
          1.1814004182815552,
          -4.683285713195801,
          0.9554832577705383,
          2.7263386249542236,
          3.68298077583313,
          -0.23109093308448792,
          -1.503965973854065,
          6.036736488342285,
          0.3909628093242645,
          2.8778984546661377,
          -3.1380996704101562,
          2.6235597133636475,
          -1.0991085767745972,
          3.483670234680176,
          2.2822678089141846,
          0.9554832577705383,
          0.855292797088623,
          2.573685646057129,
          -1.0906085968017578,
          2.4188802242279053,
          -0.1984165459871292,
          -0.19487878680229187,
          -0.8937245011329651,
          1.117922306060791,
          0.8901468515396118,
          2.179628372192383,
          3.031954765319824,
          0.5465055704116821,
          6.036736488342285,
          1.2344624996185303,
          -1.2094976902008057,
          2.16251540184021,
          0.4367932379245758,
          -1.2179559469223022,
          1.2344624996185303,
          0.6832568645477295,
          -1.2104500532150269,
          -0.3284980058670044,
          2.843712329864502,
          0.5465055704116821,
          2.1259713172912598,
          0.6431801319122314,
          3.68298077583313,
          3.06709885597229,
          4.294231414794922,
          3.4010791778564453,
          1.6138635873794556,
          2.16251540184021,
          -0.5234070420265198,
          0.2523730397224426,
          2.1259713172912598,
          -2.791438102722168,
          0.4367932379245758,
          1.3451014757156372,
          -0.3284980058670044,
          2.2822678089141846,
          4.294231414794922,
          -1.2250263690948486,
          -1.459468960762024,
          0.3909628093242645,
          2.736666202545166,
          1.8287876844406128,
          -0.8880711197853088,
          0.07525994628667831,
          1.4205189943313599,
          0.42042645812034607,
          0.5430376529693604,
          -0.21274809539318085,
          1.6876147985458374,
          0.6212156414985657,
          1.117922306060791,
          2.4953184127807617,
          0.19398461282253265,
          3.68298077583313,
          0.9554832577705383,
          0.9621496796607971,
          1.6138635873794556
         ],
         "y": [
          0.7156165838241577,
          0.33807098865509033,
          -0.4644126892089844,
          1.1908564567565918,
          -0.6624014973640442,
          1.769309639930725,
          -0.7632037997245789,
          2.5879971981048584,
          0.33807098865509033,
          0.5314463973045349,
          4.470577716827393,
          -0.9342848062515259,
          -1.1868218183517456,
          1.1909679174423218,
          1.2769370079040527,
          1.5435749292373657,
          -0.3051114082336426,
          -0.5872336030006409,
          0.5941131711006165,
          4.470577716827393,
          -1.0749313831329346,
          -0.5082159042358398,
          -0.26132723689079285,
          -0.6709104776382446,
          5.149703502655029,
          1.8031069040298462,
          0.6834620237350464,
          -1.346677541732788,
          0.5941131711006165,
          -0.31384122371673584,
          -0.2100689560174942,
          0.035673364996910095,
          0.5611790418624878,
          0.048178549855947495,
          0.8139288425445557,
          -0.3669402301311493,
          2.8126754760742188,
          1.256460428237915,
          1.8031069040298462,
          -0.6624014973640442,
          -2.121518135070801,
          0.6762845516204834,
          -0.19187483191490173,
          0.26923999190330505,
          0.051075372844934464,
          -1.748896598815918,
          0.5620945692062378,
          1.2735800743103027,
          0.5314463973045349,
          1.769309639930725,
          -1.8217891454696655,
          -0.2100689560174942,
          2.0762696266174316,
          0.06556060910224915,
          -0.3005925714969635,
          -0.26132723689079285,
          1.790273666381836,
          2.0762696266174316,
          -0.48587483167648315,
          3.8989529609680176,
          1.3846012353897095,
          -0.031235672533512115,
          -1.8217891454696655,
          -0.9229344725608826,
          1.5900816917419434,
          -1.346677541732788,
          1.7597967386245728,
          -0.39289599657058716,
          0.6558083891868591,
          -0.4206913113594055,
          -0.3005925714969635,
          1.597631573677063,
          1.1578247547149658,
          -0.9229344725608826,
          0.46876826882362366,
          -0.26132723689079285,
          1.723934292793274,
          1.3846012353897095,
          1.256460428237915,
          -0.39289599657058716,
          0.7599655389785767,
          2.9649367332458496,
          0.035673364996910095,
          -1.1868218183517456,
          -4.971591472625732,
          -0.24693270027637482,
          0.2828125059604645,
          -0.6661618947982788,
          1.064038634300232,
          -0.4542790353298187,
          3.8763880729675293,
          0.8649524450302124,
          -0.5082159042358398,
          0.5620945692062378,
          -1.830726981163025,
          -0.3404800295829773,
          -1.346677541732788,
          1.8031069040298462,
          -0.907970130443573,
          -0.4206913113594055
         ]
        }
       ],
       "layout": {
        "legend": {
         "bgcolor": "#F5F6F9",
         "font": {
          "color": "#4D5663"
         }
        },
        "paper_bgcolor": "#F5F6F9",
        "plot_bgcolor": "#F5F6F9",
        "template": {
         "data": {
          "bar": [
           {
            "error_x": {
             "color": "#2a3f5f"
            },
            "error_y": {
             "color": "#2a3f5f"
            },
            "marker": {
             "line": {
              "color": "#E5ECF6",
              "width": 0.5
             }
            },
            "type": "bar"
           }
          ],
          "barpolar": [
           {
            "marker": {
             "line": {
              "color": "#E5ECF6",
              "width": 0.5
             }
            },
            "type": "barpolar"
           }
          ],
          "carpet": [
           {
            "aaxis": {
             "endlinecolor": "#2a3f5f",
             "gridcolor": "white",
             "linecolor": "white",
             "minorgridcolor": "white",
             "startlinecolor": "#2a3f5f"
            },
            "baxis": {
             "endlinecolor": "#2a3f5f",
             "gridcolor": "white",
             "linecolor": "white",
             "minorgridcolor": "white",
             "startlinecolor": "#2a3f5f"
            },
            "type": "carpet"
           }
          ],
          "choropleth": [
           {
            "colorbar": {
             "outlinewidth": 0,
             "ticks": ""
            },
            "type": "choropleth"
           }
          ],
          "contour": [
           {
            "colorbar": {
             "outlinewidth": 0,
             "ticks": ""
            },
            "colorscale": [
             [
              0,
              "#0d0887"
             ],
             [
              0.1111111111111111,
              "#46039f"
             ],
             [
              0.2222222222222222,
              "#7201a8"
             ],
             [
              0.3333333333333333,
              "#9c179e"
             ],
             [
              0.4444444444444444,
              "#bd3786"
             ],
             [
              0.5555555555555556,
              "#d8576b"
             ],
             [
              0.6666666666666666,
              "#ed7953"
             ],
             [
              0.7777777777777778,
              "#fb9f3a"
             ],
             [
              0.8888888888888888,
              "#fdca26"
             ],
             [
              1,
              "#f0f921"
             ]
            ],
            "type": "contour"
           }
          ],
          "contourcarpet": [
           {
            "colorbar": {
             "outlinewidth": 0,
             "ticks": ""
            },
            "type": "contourcarpet"
           }
          ],
          "heatmap": [
           {
            "colorbar": {
             "outlinewidth": 0,
             "ticks": ""
            },
            "colorscale": [
             [
              0,
              "#0d0887"
             ],
             [
              0.1111111111111111,
              "#46039f"
             ],
             [
              0.2222222222222222,
              "#7201a8"
             ],
             [
              0.3333333333333333,
              "#9c179e"
             ],
             [
              0.4444444444444444,
              "#bd3786"
             ],
             [
              0.5555555555555556,
              "#d8576b"
             ],
             [
              0.6666666666666666,
              "#ed7953"
             ],
             [
              0.7777777777777778,
              "#fb9f3a"
             ],
             [
              0.8888888888888888,
              "#fdca26"
             ],
             [
              1,
              "#f0f921"
             ]
            ],
            "type": "heatmap"
           }
          ],
          "heatmapgl": [
           {
            "colorbar": {
             "outlinewidth": 0,
             "ticks": ""
            },
            "colorscale": [
             [
              0,
              "#0d0887"
             ],
             [
              0.1111111111111111,
              "#46039f"
             ],
             [
              0.2222222222222222,
              "#7201a8"
             ],
             [
              0.3333333333333333,
              "#9c179e"
             ],
             [
              0.4444444444444444,
              "#bd3786"
             ],
             [
              0.5555555555555556,
              "#d8576b"
             ],
             [
              0.6666666666666666,
              "#ed7953"
             ],
             [
              0.7777777777777778,
              "#fb9f3a"
             ],
             [
              0.8888888888888888,
              "#fdca26"
             ],
             [
              1,
              "#f0f921"
             ]
            ],
            "type": "heatmapgl"
           }
          ],
          "histogram": [
           {
            "marker": {
             "colorbar": {
              "outlinewidth": 0,
              "ticks": ""
             }
            },
            "type": "histogram"
           }
          ],
          "histogram2d": [
           {
            "colorbar": {
             "outlinewidth": 0,
             "ticks": ""
            },
            "colorscale": [
             [
              0,
              "#0d0887"
             ],
             [
              0.1111111111111111,
              "#46039f"
             ],
             [
              0.2222222222222222,
              "#7201a8"
             ],
             [
              0.3333333333333333,
              "#9c179e"
             ],
             [
              0.4444444444444444,
              "#bd3786"
             ],
             [
              0.5555555555555556,
              "#d8576b"
             ],
             [
              0.6666666666666666,
              "#ed7953"
             ],
             [
              0.7777777777777778,
              "#fb9f3a"
             ],
             [
              0.8888888888888888,
              "#fdca26"
             ],
             [
              1,
              "#f0f921"
             ]
            ],
            "type": "histogram2d"
           }
          ],
          "histogram2dcontour": [
           {
            "colorbar": {
             "outlinewidth": 0,
             "ticks": ""
            },
            "colorscale": [
             [
              0,
              "#0d0887"
             ],
             [
              0.1111111111111111,
              "#46039f"
             ],
             [
              0.2222222222222222,
              "#7201a8"
             ],
             [
              0.3333333333333333,
              "#9c179e"
             ],
             [
              0.4444444444444444,
              "#bd3786"
             ],
             [
              0.5555555555555556,
              "#d8576b"
             ],
             [
              0.6666666666666666,
              "#ed7953"
             ],
             [
              0.7777777777777778,
              "#fb9f3a"
             ],
             [
              0.8888888888888888,
              "#fdca26"
             ],
             [
              1,
              "#f0f921"
             ]
            ],
            "type": "histogram2dcontour"
           }
          ],
          "mesh3d": [
           {
            "colorbar": {
             "outlinewidth": 0,
             "ticks": ""
            },
            "type": "mesh3d"
           }
          ],
          "parcoords": [
           {
            "line": {
             "colorbar": {
              "outlinewidth": 0,
              "ticks": ""
             }
            },
            "type": "parcoords"
           }
          ],
          "pie": [
           {
            "automargin": true,
            "type": "pie"
           }
          ],
          "scatter": [
           {
            "marker": {
             "colorbar": {
              "outlinewidth": 0,
              "ticks": ""
             }
            },
            "type": "scatter"
           }
          ],
          "scatter3d": [
           {
            "line": {
             "colorbar": {
              "outlinewidth": 0,
              "ticks": ""
             }
            },
            "marker": {
             "colorbar": {
              "outlinewidth": 0,
              "ticks": ""
             }
            },
            "type": "scatter3d"
           }
          ],
          "scattercarpet": [
           {
            "marker": {
             "colorbar": {
              "outlinewidth": 0,
              "ticks": ""
             }
            },
            "type": "scattercarpet"
           }
          ],
          "scattergeo": [
           {
            "marker": {
             "colorbar": {
              "outlinewidth": 0,
              "ticks": ""
             }
            },
            "type": "scattergeo"
           }
          ],
          "scattergl": [
           {
            "marker": {
             "colorbar": {
              "outlinewidth": 0,
              "ticks": ""
             }
            },
            "type": "scattergl"
           }
          ],
          "scattermapbox": [
           {
            "marker": {
             "colorbar": {
              "outlinewidth": 0,
              "ticks": ""
             }
            },
            "type": "scattermapbox"
           }
          ],
          "scatterpolar": [
           {
            "marker": {
             "colorbar": {
              "outlinewidth": 0,
              "ticks": ""
             }
            },
            "type": "scatterpolar"
           }
          ],
          "scatterpolargl": [
           {
            "marker": {
             "colorbar": {
              "outlinewidth": 0,
              "ticks": ""
             }
            },
            "type": "scatterpolargl"
           }
          ],
          "scatterternary": [
           {
            "marker": {
             "colorbar": {
              "outlinewidth": 0,
              "ticks": ""
             }
            },
            "type": "scatterternary"
           }
          ],
          "surface": [
           {
            "colorbar": {
             "outlinewidth": 0,
             "ticks": ""
            },
            "colorscale": [
             [
              0,
              "#0d0887"
             ],
             [
              0.1111111111111111,
              "#46039f"
             ],
             [
              0.2222222222222222,
              "#7201a8"
             ],
             [
              0.3333333333333333,
              "#9c179e"
             ],
             [
              0.4444444444444444,
              "#bd3786"
             ],
             [
              0.5555555555555556,
              "#d8576b"
             ],
             [
              0.6666666666666666,
              "#ed7953"
             ],
             [
              0.7777777777777778,
              "#fb9f3a"
             ],
             [
              0.8888888888888888,
              "#fdca26"
             ],
             [
              1,
              "#f0f921"
             ]
            ],
            "type": "surface"
           }
          ],
          "table": [
           {
            "cells": {
             "fill": {
              "color": "#EBF0F8"
             },
             "line": {
              "color": "white"
             }
            },
            "header": {
             "fill": {
              "color": "#C8D4E3"
             },
             "line": {
              "color": "white"
             }
            },
            "type": "table"
           }
          ]
         },
         "layout": {
          "annotationdefaults": {
           "arrowcolor": "#2a3f5f",
           "arrowhead": 0,
           "arrowwidth": 1
          },
          "coloraxis": {
           "colorbar": {
            "outlinewidth": 0,
            "ticks": ""
           }
          },
          "colorscale": {
           "diverging": [
            [
             0,
             "#8e0152"
            ],
            [
             0.1,
             "#c51b7d"
            ],
            [
             0.2,
             "#de77ae"
            ],
            [
             0.3,
             "#f1b6da"
            ],
            [
             0.4,
             "#fde0ef"
            ],
            [
             0.5,
             "#f7f7f7"
            ],
            [
             0.6,
             "#e6f5d0"
            ],
            [
             0.7,
             "#b8e186"
            ],
            [
             0.8,
             "#7fbc41"
            ],
            [
             0.9,
             "#4d9221"
            ],
            [
             1,
             "#276419"
            ]
           ],
           "sequential": [
            [
             0,
             "#0d0887"
            ],
            [
             0.1111111111111111,
             "#46039f"
            ],
            [
             0.2222222222222222,
             "#7201a8"
            ],
            [
             0.3333333333333333,
             "#9c179e"
            ],
            [
             0.4444444444444444,
             "#bd3786"
            ],
            [
             0.5555555555555556,
             "#d8576b"
            ],
            [
             0.6666666666666666,
             "#ed7953"
            ],
            [
             0.7777777777777778,
             "#fb9f3a"
            ],
            [
             0.8888888888888888,
             "#fdca26"
            ],
            [
             1,
             "#f0f921"
            ]
           ],
           "sequentialminus": [
            [
             0,
             "#0d0887"
            ],
            [
             0.1111111111111111,
             "#46039f"
            ],
            [
             0.2222222222222222,
             "#7201a8"
            ],
            [
             0.3333333333333333,
             "#9c179e"
            ],
            [
             0.4444444444444444,
             "#bd3786"
            ],
            [
             0.5555555555555556,
             "#d8576b"
            ],
            [
             0.6666666666666666,
             "#ed7953"
            ],
            [
             0.7777777777777778,
             "#fb9f3a"
            ],
            [
             0.8888888888888888,
             "#fdca26"
            ],
            [
             1,
             "#f0f921"
            ]
           ]
          },
          "colorway": [
           "#636efa",
           "#EF553B",
           "#00cc96",
           "#ab63fa",
           "#FFA15A",
           "#19d3f3",
           "#FF6692",
           "#B6E880",
           "#FF97FF",
           "#FECB52"
          ],
          "font": {
           "color": "#2a3f5f"
          },
          "geo": {
           "bgcolor": "white",
           "lakecolor": "white",
           "landcolor": "#E5ECF6",
           "showlakes": true,
           "showland": true,
           "subunitcolor": "white"
          },
          "hoverlabel": {
           "align": "left"
          },
          "hovermode": "closest",
          "mapbox": {
           "style": "light"
          },
          "paper_bgcolor": "white",
          "plot_bgcolor": "#E5ECF6",
          "polar": {
           "angularaxis": {
            "gridcolor": "white",
            "linecolor": "white",
            "ticks": ""
           },
           "bgcolor": "#E5ECF6",
           "radialaxis": {
            "gridcolor": "white",
            "linecolor": "white",
            "ticks": ""
           }
          },
          "scene": {
           "xaxis": {
            "backgroundcolor": "#E5ECF6",
            "gridcolor": "white",
            "gridwidth": 2,
            "linecolor": "white",
            "showbackground": true,
            "ticks": "",
            "zerolinecolor": "white"
           },
           "yaxis": {
            "backgroundcolor": "#E5ECF6",
            "gridcolor": "white",
            "gridwidth": 2,
            "linecolor": "white",
            "showbackground": true,
            "ticks": "",
            "zerolinecolor": "white"
           },
           "zaxis": {
            "backgroundcolor": "#E5ECF6",
            "gridcolor": "white",
            "gridwidth": 2,
            "linecolor": "white",
            "showbackground": true,
            "ticks": "",
            "zerolinecolor": "white"
           }
          },
          "shapedefaults": {
           "line": {
            "color": "#2a3f5f"
           }
          },
          "ternary": {
           "aaxis": {
            "gridcolor": "white",
            "linecolor": "white",
            "ticks": ""
           },
           "baxis": {
            "gridcolor": "white",
            "linecolor": "white",
            "ticks": ""
           },
           "bgcolor": "#E5ECF6",
           "caxis": {
            "gridcolor": "white",
            "linecolor": "white",
            "ticks": ""
           }
          },
          "title": {
           "x": 0.05
          },
          "xaxis": {
           "automargin": true,
           "gridcolor": "white",
           "linecolor": "white",
           "ticks": "",
           "title": {
            "standoff": 15
           },
           "zerolinecolor": "white",
           "zerolinewidth": 2
          },
          "yaxis": {
           "automargin": true,
           "gridcolor": "white",
           "linecolor": "white",
           "ticks": "",
           "title": {
            "standoff": 15
           },
           "zerolinecolor": "white",
           "zerolinewidth": 2
          }
         }
        },
        "title": {
         "font": {
          "color": "#4D5663"
         },
         "text": "ACP en 2 composantes"
        },
        "xaxis": {
         "gridcolor": "#E1E5ED",
         "showgrid": true,
         "tickfont": {
          "color": "#4D5663"
         },
         "title": {
          "font": {
           "color": "#4D5663"
          },
          "text": "Axe 1"
         },
         "zerolinecolor": "#E1E5ED"
        },
        "yaxis": {
         "gridcolor": "#E1E5ED",
         "showgrid": true,
         "tickfont": {
          "color": "#4D5663"
         },
         "title": {
          "font": {
           "color": "#4D5663"
          },
          "text": "Axe 2"
         },
         "zerolinecolor": "#E1E5ED"
        }
       }
      },
      "text/html": [
       "<div>\n",
       "        \n",
       "        \n",
       "            <div id=\"2f974eb3-d651-4193-9a68-cb1d5c9ad539\" class=\"plotly-graph-div\" style=\"height:525px; width:100%;\"></div>\n",
       "            <script type=\"text/javascript\">\n",
       "                require([\"plotly\"], function(Plotly) {\n",
       "                    window.PLOTLYENV=window.PLOTLYENV || {};\n",
       "                    window.PLOTLYENV.BASE_URL='https://plot.ly';\n",
       "                    \n",
       "                if (document.getElementById(\"2f974eb3-d651-4193-9a68-cb1d5c9ad539\")) {\n",
       "                    Plotly.newPlot(\n",
       "                        '2f974eb3-d651-4193-9a68-cb1d5c9ad539',\n",
       "                        [{\"marker\": {\"color\": \"rgba(255, 153, 51, 1.0)\", \"line\": {\"width\": 1.3}, \"opacity\": 0.8, \"size\": 12, \"symbol\": \"circle\"}, \"mode\": \"markers\", \"name\": \"jespere/expres/unknown/tite/35/ipad/eme/rel\\u00e2che/top1/chiants/libres/europeans/investit/usualsuspects/davoir/n\\u00e9ant/mariages/clinique/scandaleux/hallucinant/josefine/taule/myl\\u00e8ne/mouchoirs/\\ud83c\\uddea/forts/mal\\u00e9diction/mounet/imp\\u00f4t/\\ud83c\\uddf8/union/od/refus\\u00e9/animes/gouffre/keufs/glr/chips/fallu/nah/jambon/bouh/grotte/s\\u00e9nat/pseudos/etaient/hac/lazare/cou/attitude/parlementaire/irrespectueux/d\\u00e9grad\\u00e9/nain/friendzone/pl/audace/jambon/autorit\\u00e9/puisqu/abandonne/bonus/enregistre/insultes/chaines/laaaaa/v\\u00e9ritable/salles/steak/formule/lignes/applis/\\ud83d\\udd35/algerie/sentie/\\ufffd/\\ud83c\\uddf5/paradise/p\\u00e9dophile/ch/solitude/fesse/1500/honn\\u00eates/jmet/mmmh/opposition/cliqu\\u00e9/soja/george/lev\\u00e9/she/dictionnaire/foutais/agenda/emmerdale/boo/connect\\u00e9/permanente/c\\u00f4toie\", \"text\": [\"jespere\", \"expres\", \"unknown\", \"tite\", \"35\", \"ipad\", \"eme\", \"rel\\u00e2che\", \"top1\", \"chiants\", \"libres\", \"europeans\", \"investit\", \"usualsuspects\", \"davoir\", \"n\\u00e9ant\", \"mariages\", \"clinique\", \"scandaleux\", \"hallucinant\", \"josefine\", \"taule\", \"myl\\u00e8ne\", \"mouchoirs\", \"\\ud83c\\uddea\", \"forts\", \"mal\\u00e9diction\", \"mounet\", \"imp\\u00f4t\", \"\\ud83c\\uddf8\", \"union\", \"od\", \"refus\\u00e9\", \"animes\", \"gouffre\", \"keufs\", \"glr\", \"chips\", \"fallu\", \"nah\", \"jambon\", \"bouh\", \"grotte\", \"s\\u00e9nat\", \"pseudos\", \"etaient\", \"hac\", \"lazare\", \"cou\", \"attitude\", \"parlementaire\", \"irrespectueux\", \"d\\u00e9grad\\u00e9\", \"nain\", \"friendzone\", \"pl\", \"audace\", \"jambon\", \"autorit\\u00e9\", \"puisqu\", \"abandonne\", \"bonus\", \"enregistre\", \"insultes\", \"chaines\", \"laaaaa\", \"v\\u00e9ritable\", \"salles\", \"steak\", \"formule\", \"lignes\", \"applis\", \"\\ud83d\\udd35\", \"algerie\", \"sentie\", \"\\ufffd\", \"\\ud83c\\uddf5\", \"paradise\", \"p\\u00e9dophile\", \"ch\", \"solitude\", \"fesse\", \"1500\", \"honn\\u00eates\", \"jmet\", \"mmmh\", \"opposition\", \"cliqu\\u00e9\", \"soja\", \"george\", \"lev\\u00e9\", \"she\", \"dictionnaire\", \"foutais\", \"agenda\", \"emmerdale\", \"boo\", \"connect\\u00e9\", \"permanente\", \"c\\u00f4toie\"], \"textfont\": {\"color\": \"#4D5663\"}, \"type\": \"scatter\", \"x\": [-0.3045130670070648, -0.2961404025554657, -0.3577747941017151, -0.4468343257904053, -0.4669433534145355, -0.39753246307373047, -0.43581464886665344, -0.274768590927124, -0.34543347358703613, -0.3246886730194092, -0.21918395161628723, -0.49178755283355713, -0.3389308750629425, -0.3461073935031891, -0.3861115276813507, -0.3204840421676636, -0.36974814534187317, -0.3171999752521515, -0.42632198333740234, -0.4097370505332947, -0.37399619817733765, -0.292503297328949, -0.29930442571640015, -0.244102343916893, -0.6508499383926392, -0.36241793632507324, -0.30380210280418396, -0.44365251064300537, -0.32003822922706604, -0.6735303997993469, -0.3688042461872101, -0.39684465527534485, -0.3587793707847595, -0.31753748655319214, -0.2993748188018799, -0.31583473086357117, -0.4340311586856842, -0.3361411988735199, -0.24502421915531158, -0.36833029985427856, -0.4228985011577606, -0.29505297541618347, -0.33169516921043396, -0.32332107424736023, -0.23108352720737457, -0.3517482578754425, -0.2389041632413864, -0.32782724499702454, -0.4342316687107086, -0.4389648735523224, -0.3401045799255371, -0.3859674632549286, -0.4104277491569519, -0.3377247452735901, -0.2978549599647522, -0.4115447998046875, -0.3517400324344635, -0.4228985011577606, -0.3288469612598419, -0.22880443930625916, -0.2827119529247284, -0.4527680277824402, -0.3800484538078308, -0.27083414793014526, -0.3341560363769531, -0.3848731815814972, -0.6670835018157959, -0.35346460342407227, -0.4021010398864746, -0.4700533151626587, -0.3010067343711853, -0.34160876274108887, -0.7619584798812866, -0.28373417258262634, -0.26330918073654175, -0.280476838350296, -0.5342623591423035, -0.3354792594909668, -0.46032851934432983, -0.4342561960220337, -0.45208659768104553, -0.4493996500968933, -0.33640241622924805, -0.30701127648353577, -0.47900500893592834, -0.33713167905807495, -0.3424353003501892, -0.3004097640514374, -0.31862273812294006, -0.31696823239326477, -0.43036016821861267, -0.3839419484138489, -0.41241511702537537, -0.2922094464302063, -0.47477275133132935, -0.371291846036911, -0.38021034002304077, -0.4261392652988434, -0.30616554617881775, -0.1914176493883133], \"y\": [-0.05267137289047241, -0.28151988983154297, -0.23836921155452728, 0.005043341312557459, -0.40681520104408264, -0.26389244198799133, -0.48928046226501465, -0.07869889587163925, -0.30757853388786316, -0.18464207649230957, -0.1752307415008545, -0.3036535978317261, -0.2635933458805084, -0.19979627430438995, -0.18851682543754578, -0.21532732248306274, -0.22471308708190918, -0.2511153221130371, -0.13553667068481445, -0.2803831398487091, -0.2990306615829468, -0.2586323916912079, -0.2966492176055908, -0.23041890561580658, -0.301120787858963, -0.20175714790821075, -0.27249911427497864, -0.1950753778219223, -0.2447277158498764, -0.44618678092956543, -0.1592523157596588, -0.18799066543579102, -0.31141039729118347, -0.2641066312789917, -0.1545933187007904, -0.16736987233161926, -0.11351881176233292, -0.32973650097846985, -0.1669072061777115, -0.09336759895086288, -0.2220134139060974, -0.21554483473300934, -0.2976953983306885, -0.1847647726535797, -0.2081368863582611, -0.102606400847435, -0.22707058489322662, -0.16934210062026978, -0.19222329556941986, -0.24839694797992706, -0.1767127364873886, -0.17031411826610565, -0.28387653827667236, -0.25607940554618835, -0.1442442685365677, -0.26126980781555176, -0.19013890624046326, -0.2220134139060974, -0.22172565758228302, -0.18888169527053833, 0.016536161303520203, -0.21449948847293854, -0.16641685366630554, 0.005843309685587883, -0.17737898230552673, -0.3168952465057373, -0.14608901739120483, -0.253280371427536, -0.19074630737304688, -0.2030428797006607, -0.21811676025390625, -0.2579093277454376, -0.46668580174446106, -0.20709775388240814, -0.3013174831867218, -0.15787261724472046, -0.3982278108596802, -0.28597739338874817, -0.18722274899482727, -0.3084762990474701, -0.3440982699394226, -0.20841234922409058, -0.3789133131504059, -0.20191754400730133, -0.04357409104704857, -0.23191531002521515, -0.3012819290161133, -0.41248586773872375, -0.21650643646717072, -0.2253953516483307, -0.4500511884689331, -0.3094324469566345, -0.19662213325500488, -0.0314670167863369, -0.19694143533706665, -0.2351761758327484, -0.2912195026874542, -0.20717786252498627, -0.18461710214614868, -0.0773630365729332]}, {\"marker\": {\"color\": \"rgba(55, 128, 191, 1.0)\", \"line\": {\"width\": 1.3}, \"opacity\": 0.8, \"size\": 12, \"symbol\": \"circle\"}, \"mode\": \"markers\", \"name\": \"jvoulais/v\\u00e9rifier/r\\u00e9flexion/ha/ajouter/solo/entrain/\\ud83c\\uddeb/impressionnant/neige/g\\u00e8re/taff/passion/mens/nez/comptes/back/carri\\u00e8re/\\ud83d\\ude1e/sophie/permis/termine/journal/dise/marie/raclette/crise/croit/r\\u00e8gles/choqu\\u00e9/rencontrer/touche/mdrrrrrr/octobre/uniquement/alexia/tente/v\\u00e9lo/naze/28/jalouse/tente/go\\u00fbts/position/saisons/entretien/cl\\u00e9/inverse/sud/japonais/bienvenue/rendent/madame/gestion/victoire/tain/regardant/\\u00e9chec/\\ud83c\\udf39/gouvernement/souris/suisse/ramener/\\ud83e\\udd1e/svt/plaindre/\\u270a/refuse/actuellement/\\u00e9tude/merciiiii/lyon/bjr/tg/trous/bouffer/familles/choqu\\u00e9e/90/fatigu\\u00e9e/lapin/pay\\u00e9/\\ud83e\\udd19/regrette/sah/exp\\u00e9rience/z\\u00e9ro/manga/batterie/charge/al/sales/calmer/kiff\\u00e9/\\ud83d\\ude30/13/animal/2e/r\\u00e9veille/3h\", \"text\": [\"jvoulais\", \"v\\u00e9rifier\", \"r\\u00e9flexion\", \"ha\", \"ajouter\", \"solo\", \"entrain\", \"\\ud83c\\uddeb\", \"impressionnant\", \"neige\", \"g\\u00e8re\", \"taff\", \"passion\", \"mens\", \"nez\", \"comptes\", \"back\", \"carri\\u00e8re\", \"\\ud83d\\ude1e\", \"sophie\", \"permis\", \"termine\", \"journal\", \"dise\", \"marie\", \"raclette\", \"crise\", \"croit\", \"r\\u00e8gles\", \"choqu\\u00e9\", \"rencontrer\", \"touche\", \"mdrrrrrr\", \"octobre\", \"uniquement\", \"alexia\", \"tente\", \"v\\u00e9lo\", \"naze\", \"28\", \"jalouse\", \"tente\", \"go\\u00fbts\", \"position\", \"saisons\", \"entretien\", \"cl\\u00e9\", \"inverse\", \"sud\", \"japonais\", \"bienvenue\", \"rendent\", \"madame\", \"gestion\", \"victoire\", \"tain\", \"regardant\", \"\\u00e9chec\", \"\\ud83c\\udf39\", \"gouvernement\", \"souris\", \"suisse\", \"ramener\", \"\\ud83e\\udd1e\", \"svt\", \"plaindre\", \"\\u270a\", \"refuse\", \"actuellement\", \"\\u00e9tude\", \"merciiiii\", \"lyon\", \"bjr\", \"tg\", \"trous\", \"bouffer\", \"familles\", \"choqu\\u00e9e\", \"90\", \"fatigu\\u00e9e\", \"lapin\", \"pay\\u00e9\", \"\\ud83e\\udd19\", \"regrette\", \"sah\", \"exp\\u00e9rience\", \"z\\u00e9ro\", \"manga\", \"batterie\", \"charge\", \"al\", \"sales\", \"calmer\", \"kiff\\u00e9\", \"\\ud83d\\ude30\", \"13\", \"animal\", \"2e\", \"r\\u00e9veille\", \"3h\"], \"textfont\": {\"color\": \"#4D5663\"}, \"type\": \"scatter\", \"x\": [-0.3004409372806549, -0.18082350492477417, -0.5884179472923279, -0.9688195586204529, -0.09548470377922058, -0.420516699552536, 0.09590008854866028, -0.6575899720191956, -0.5933582186698914, -0.14734825491905212, -0.5217314958572388, -0.29328295588493347, -0.5994537472724915, -0.4592958092689514, -0.8251583576202393, 0.01698196306824684, -0.5247706174850464, -0.665585994720459, -0.8366284966468811, -0.5074151754379272, -0.29166924953460693, -0.3568666875362396, -0.46696922183036804, -0.08147148042917252, -0.46947792172431946, -0.4593627452850342, -0.4682375490665436, 0.024454204365611076, -0.34929388761520386, -0.905785083770752, -0.198967844247818, -0.15827059745788574, -0.6361373662948608, -0.5503206253051758, -0.3103127181529999, -0.17680373787879944, -0.28920161724090576, -0.46589428186416626, -0.8056356310844421, -0.3423462510108948, -0.5634706020355225, -0.28920161724090576, -0.5406136512756348, -0.4631614685058594, -0.4429224133491516, -0.38906964659690857, -0.4839460551738739, -0.587943971157074, -0.370314359664917, -0.4197101294994354, -0.9050531983375549, -0.30347833037376404, -0.36662185192108154, -0.371604859828949, -0.6652572751045227, -0.3903574049472809, -0.31471794843673706, -0.7886938452720642, -2.0127511024475098, -0.26685845851898193, -0.4030878245830536, -0.2597644031047821, -0.23835952579975128, -0.8340343832969666, -0.3337829113006592, 0.36340147256851196, -0.6010079979896545, -0.1634344607591629, -0.16569311916828156, -0.40452253818511963, -0.7187475562095642, -0.14010471105575562, -0.2005940079689026, -0.5443149209022522, -0.26850998401641846, -0.005218552425503731, -0.3915260136127472, -0.9940096139907837, -0.39398378133773804, -0.7693271040916443, -0.5159277319908142, -0.3735728859901428, -1.0452324151992798, -0.3796200454235077, -0.4096333086490631, -0.5272750854492188, -0.2739371657371521, -0.4383430778980255, -0.23468099534511566, -0.4236440360546112, -0.5550940036773682, -0.28821712732315063, 0.012731289491057396, -0.5610747337341309, -0.8492515683174133, -0.2958059012889862, -0.6503756046295166, -0.6786791682243347, -0.08193686604499817, -0.037373967468738556], \"y\": [0.17934046685695648, -0.34464752674102783, -0.23545442521572113, 0.07633250951766968, -0.12617988884449005, -0.36714407801628113, -0.80637526512146, -0.4381238520145416, -0.2272590845823288, -0.27218735218048096, 0.3075336813926697, -0.11699128895998001, -0.057507116347551346, 0.7256966829299927, 0.00862282607704401, 0.3058611750602722, -0.44059231877326965, -0.1656222939491272, -0.6576140522956848, -0.47149524092674255, -0.5326858162879944, 0.40627968311309814, -0.20759133994579315, 0.30665886402130127, 0.17778658866882324, -0.3272485136985779, -0.5388981699943542, -0.017611224204301834, -0.19303826987743378, -0.8447550535202026, -0.34577271342277527, 0.7478812336921692, 0.09658479690551758, -0.6027213931083679, -0.10686248540878296, -0.26676493883132935, 1.4663958549499512, -0.38323351740837097, -0.4729766845703125, -1.2019416093826294, -0.42556941509246826, 1.4663958549499512, -0.3092283606529236, -0.2866905927658081, -0.5683268904685974, -0.39667603373527527, -0.27532267570495605, -0.5207352042198181, -0.3574722111225128, -0.20638872683048248, 0.14069370925426483, 0.3706371784210205, 0.06444770842790604, -0.26717379689216614, -0.23985031247138977, -0.32524269819259644, -0.0857137069106102, -0.41203832626342773, -0.34461453557014465, -0.19376061856746674, 0.08011507987976074, -0.0713338553905487, -0.22871164977550507, -0.8383987545967102, -0.24219506978988647, 0.3321155607700348, -0.40316346287727356, 0.4117720425128937, -0.5958501100540161, -0.3287258446216583, -0.10530687123537064, -0.3676013946533203, 0.01190908532589674, 0.1464589238166809, -0.270002543926239, -0.22334934771060944, -0.20673637092113495, -1.0157933235168457, -0.8702941536903381, -1.412335991859436, -0.26709452271461487, -0.3170439898967743, -0.6934199333190918, 0.5174951553344727, -0.6056812405586243, -0.34363874793052673, -0.19586965441703796, -0.2515582740306854, -0.35736140608787537, 0.20224356651306152, -0.28493520617485046, -0.27519628405570984, 0.11650950461626053, -0.33193933963775635, -0.6934113502502441, -1.2873560190200806, -0.5796610713005066, -0.4524044692516327, 0.9710505604743958, -0.7059742212295532]}, {\"marker\": {\"color\": \"rgba(50, 171, 96, 1.0)\", \"line\": {\"width\": 1.3}, \"opacity\": 0.8, \"size\": 12, \"symbol\": \"circle\"}, \"mode\": \"markers\", \"name\": \"ligne/bravo/in/aujourdhui/rend/nan/pire/chaque/ya/change/mdrrr/\\ud83d\\ude06/connais/clairement/an/min/pourtant/\\u00e9couter/magnifique/o/force/doigts/perso/compl\\u00e8tement/grand/content/elles/ptn/tl/inqui\\u00e8te/tt/filles/hyper/no/\\ud83d\\ude2a/facile/ailleurs/grande/putain/pense/super/savez/\\ud83e\\udd14/autant/mdrrrr/sortie/partie/moment/bonjour/vos/tf1/verra/\\ud83d\\ude22/dois/eux/g\\u00e9nial/faites/gars/pcq/coup/quelques/laisser/contente/serai/jeux/hyper/stage/aurait/chaud/joue/janvier/trucs/\\ud83d\\ude14/heureux/quelle/change/chat/peur/jui/r\\u00e9ponse/heureuse/sport/eu/parti/pire/corps/15/stp/the/quel/semaine/maison/porte/8/bac/chang\\u00e9/vrais/ahah/\\ud83d\\ude29/allez\", \"text\": [\"ligne\", \"bravo\", \"in\", \"aujourdhui\", \"rend\", \"nan\", \"pire\", \"chaque\", \"ya\", \"change\", \"mdrrr\", \"\\ud83d\\ude06\", \"connais\", \"clairement\", \"an\", \"min\", \"pourtant\", \"\\u00e9couter\", \"magnifique\", \"o\", \"force\", \"doigts\", \"perso\", \"compl\\u00e8tement\", \"grand\", \"content\", \"elles\", \"ptn\", \"tl\", \"inqui\\u00e8te\", \"tt\", \"filles\", \"hyper\", \"no\", \"\\ud83d\\ude2a\", \"facile\", \"ailleurs\", \"grande\", \"putain\", \"pense\", \"super\", \"savez\", \"\\ud83e\\udd14\", \"autant\", \"mdrrrr\", \"sortie\", \"partie\", \"moment\", \"bonjour\", \"vos\", \"tf1\", \"verra\", \"\\ud83d\\ude22\", \"dois\", \"eux\", \"g\\u00e9nial\", \"faites\", \"gars\", \"pcq\", \"coup\", \"quelques\", \"laisser\", \"contente\", \"serai\", \"jeux\", \"hyper\", \"stage\", \"aurait\", \"chaud\", \"joue\", \"janvier\", \"trucs\", \"\\ud83d\\ude14\", \"heureux\", \"quelle\", \"change\", \"chat\", \"peur\", \"jui\", \"r\\u00e9ponse\", \"heureuse\", \"sport\", \"eu\", \"parti\", \"pire\", \"corps\", \"15\", \"stp\", \"the\", \"quel\", \"semaine\", \"maison\", \"porte\", \"8\", \"bac\", \"chang\\u00e9\", \"vrais\", \"ahah\", \"\\ud83d\\ude29\", \"allez\"], \"textfont\": {\"color\": \"#4D5663\"}, \"type\": \"scatter\", \"x\": [-0.4385070204734802, -1.0407730340957642, -0.7569108009338379, -0.26649588346481323, -0.22270599007606506, -1.3152140378952026, -0.26484033465385437, 0.4652691185474396, 0.4409257173538208, -0.11719995737075806, -0.38422679901123047, -1.4811229705810547, -0.4021245241165161, -0.17731355130672455, -1.018027663230896, 0.07787468284368515, -0.42980828881263733, 0.7242152094841003, -2.299711227416992, -0.29888859391212463, 0.39607545733451843, 0.3457096517086029, -0.4648361802101135, -0.8409786224365234, -0.5980409383773804, -0.828231930732727, 2.619229316711426, 0.1765754520893097, 0.044924698770046234, -0.5330050587654114, 0.04026790335774422, 0.10604293644428253, -1.8260653018951416, -0.5924961566925049, -0.7187251448631287, -0.5369575023651123, 0.49738577008247375, -1.0054600238800049, 0.15220431983470917, 0.11126171052455902, -2.6106302738189697, 1.7439519166946411, -2.392296314239502, 0.7416772246360779, -1.0063869953155518, -0.45639780163764954, -0.322447806596756, -0.10575833916664124, 1.2641712427139282, 2.730623960494995, 0.0456155389547348, -0.5680583715438843, 0.11979300528764725, 0.7079269886016846, 0.05546661838889122, -1.4282876253128052, 1.617072582244873, -0.0017186140175908804, 0.14215187728405, 0.06601912528276443, 0.6941604614257812, 1.1888136863708496, -1.3959776163101196, -0.7812038660049438, -0.1662537306547165, -1.8260653018951416, -0.5670948624610901, 0.9656922817230225, -1.2835798263549805, -0.3034794330596924, -0.6480372548103333, 1.0451796054840088, -0.7568569183349609, -0.7522327899932861, 0.17570184171199799, -0.11719995737075806, -1.1441571712493896, 0.22011148929595947, -1.591765284538269, -0.2512693405151367, -1.1242948770523071, 0.1708764284849167, 0.404481440782547, -0.9528089165687561, -0.26484033465385437, -0.7237512469291687, 0.5779709815979004, -0.7264900207519531, -1.3284978866577148, -0.6546120047569275, -1.0179362297058105, -0.4870089888572693, -0.21271096169948578, -0.36533674597740173, -0.7776942253112793, -0.026656324043869972, 0.28564709424972534, -0.8277966976165771, -2.292161226272583, 1.795793890953064], \"y\": [-0.14773616194725037, 0.8095722794532776, -0.9257359504699707, -0.7290738821029663, 1.7079232931137085, -0.10687103122472763, 0.6421756148338318, -0.6103028059005737, 0.9605774879455566, 1.3348066806793213, -0.11646553128957748, -0.786776065826416, 3.6247849464416504, 0.0073950886726379395, -0.8181414008140564, -1.416477084159851, 0.018089137971401215, -0.5845269560813904, 0.25854188203811646, -0.4273729920387268, 0.8373160362243652, -0.6256110072135925, -0.354516863822937, -0.18388789892196655, 1.120434284210205, -0.8093099594116211, -0.26681339740753174, 0.11709991842508316, 0.8158370852470398, 0.9024007320404053, 0.28296151757240295, 0.06562113016843796, -0.879575252532959, -0.8172075152397156, -1.2316886186599731, -0.36649709939956665, -0.17789340019226074, 0.4564736485481262, 0.4008570611476898, 2.99589204788208, 0.17121261358261108, 1.2233713865280151, -0.44377991557121277, -0.3663853704929352, 0.11733566224575043, -0.5318393707275391, -0.350065678358078, 0.19939860701560974, 1.3668888807296753, 1.0634618997573853, 0.2372385561466217, 0.7265630960464478, -0.9763063788414001, 2.1423566341400146, 0.429304838180542, -0.8390578031539917, 1.5290905237197876, 0.3609163761138916, -0.6516259908676147, -0.028086015954613686, -1.8482997417449951, 0.23161862790584564, -1.3304719924926758, 1.567260503768921, 0.06476574391126633, -0.879575252532959, -0.8419683575630188, -1.2327417135238647, -0.4982103705406189, 1.6941882371902466, -1.2034931182861328, 0.3902919888496399, -0.6303733587265015, -0.4671843349933624, 1.5166494846343994, 1.3348066806793213, -0.030042756348848343, -0.7281006574630737, -0.01777496747672558, 0.509526789188385, -1.0913141965866089, -0.5171957015991211, 1.660933494567871, -0.8448993563652039, 0.6421756148338318, 0.17980481684207916, -1.8657184839248657, -0.038390886038541794, -0.9353596568107605, 1.7760659456253052, -0.32221975922584534, 0.44720712304115295, 0.668013870716095, -1.6785084009170532, -0.7014238238334656, 0.010248479433357716, -0.0690956860780716, 0.06232282146811485, -1.3802059888839722, 0.14493392407894135]}, {\"marker\": {\"color\": \"rgba(128, 0, 128, 1.0)\", \"line\": {\"width\": 1.3}, \"opacity\": 0.8, \"size\": 12, \"symbol\": \"circle\"}, \"mode\": \"markers\", \"name\": \"pour/qui/\\ud83d\\ude2d/vu/mal/y/te/faire/qui/lui/fais/\\u00e7a/qu/elle/est/ou/toujours/vrai/comme/fais/me/moi/donc/comment/es/sur/faut/rien/comme/d/vous/alors/m/\\ufe0f/\\u00e0/trop/ma/dire/sur/mal/jamais/merci/s/mdr/lowfrequencyword/bien/temps/voir/lui/y/2/vous/ta/bon/on/donc/ton/ta/peut/aime/\\u00eatre/envie/2/que/ont/rien/sa/ne/nous/avoir/on/ai/vie/que/tr\\u00e8s/donc/vais/\\u00eatre/dire/ne/bonne/sont/alors/qu/j/nickname/l\\u00e0/ca/va/encore/sais/tous/moi/temps/mes/apr\\u00e8s/rien/sur/plus/avoir\", \"text\": [\"pour\", \"qui\", \"\\ud83d\\ude2d\", \"vu\", \"mal\", \"y\", \"te\", \"faire\", \"qui\", \"lui\", \"fais\", \"\\u00e7a\", \"qu\", \"elle\", \"est\", \"ou\", \"toujours\", \"vrai\", \"comme\", \"fais\", \"me\", \"moi\", \"donc\", \"comment\", \"es\", \"sur\", \"faut\", \"rien\", \"comme\", \"d\", \"vous\", \"alors\", \"m\", \"\\ufe0f\", \"\\u00e0\", \"trop\", \"ma\", \"dire\", \"sur\", \"mal\", \"jamais\", \"merci\", \"s\", \"mdr\", \"lowfrequencyword\", \"bien\", \"temps\", \"voir\", \"lui\", \"y\", \"2\", \"vous\", \"ta\", \"bon\", \"on\", \"donc\", \"ton\", \"ta\", \"peut\", \"aime\", \"\\u00eatre\", \"envie\", \"2\", \"que\", \"ont\", \"rien\", \"sa\", \"ne\", \"nous\", \"avoir\", \"on\", \"ai\", \"vie\", \"que\", \"tr\\u00e8s\", \"donc\", \"vais\", \"\\u00eatre\", \"dire\", \"ne\", \"bonne\", \"sont\", \"alors\", \"qu\", \"j\", \"nickname\", \"l\\u00e0\", \"ca\", \"va\", \"encore\", \"sais\", \"tous\", \"moi\", \"temps\", \"mes\", \"apr\\u00e8s\", \"rien\", \"sur\", \"plus\", \"avoir\"], \"textfont\": {\"color\": \"#4D5663\"}, \"type\": \"scatter\", \"x\": [0.73064124584198, 4.425790309906006, -1.2303643226623535, -0.56378173828125, 0.855292797088623, 3.031954765319824, 2.1930696964263916, 1.905674695968628, 4.425790309906006, 2.179628372192383, -0.7037771940231323, 1.0881272554397583, 2.736666202545166, 1.6234147548675537, -1.2808867692947388, -0.1597597450017929, 0.9884814620018005, -1.1740630865097046, -0.23109093308448792, -0.7037771940231323, 3.668320894241333, 0.6212156414985657, 0.4367932379245758, 1.1814004182815552, -4.683285713195801, 0.9554832577705383, 2.7263386249542236, 3.68298077583313, -0.23109093308448792, -1.503965973854065, 6.036736488342285, 0.3909628093242645, 2.8778984546661377, -3.1380996704101562, 2.6235597133636475, -1.0991085767745972, 3.483670234680176, 2.2822678089141846, 0.9554832577705383, 0.855292797088623, 2.573685646057129, -1.0906085968017578, 2.4188802242279053, -0.1984165459871292, -0.19487878680229187, -0.8937245011329651, 1.117922306060791, 0.8901468515396118, 2.179628372192383, 3.031954765319824, 0.5465055704116821, 6.036736488342285, 1.2344624996185303, -1.2094976902008057, 2.16251540184021, 0.4367932379245758, -1.2179559469223022, 1.2344624996185303, 0.6832568645477295, -1.2104500532150269, -0.3284980058670044, 2.843712329864502, 0.5465055704116821, 2.1259713172912598, 0.6431801319122314, 3.68298077583313, 3.06709885597229, 4.294231414794922, 3.4010791778564453, 1.6138635873794556, 2.16251540184021, -0.5234070420265198, 0.2523730397224426, 2.1259713172912598, -2.791438102722168, 0.4367932379245758, 1.3451014757156372, -0.3284980058670044, 2.2822678089141846, 4.294231414794922, -1.2250263690948486, -1.459468960762024, 0.3909628093242645, 2.736666202545166, 1.8287876844406128, -0.8880711197853088, 0.07525994628667831, 1.4205189943313599, 0.42042645812034607, 0.5430376529693604, -0.21274809539318085, 1.6876147985458374, 0.6212156414985657, 1.117922306060791, 2.4953184127807617, 0.19398461282253265, 3.68298077583313, 0.9554832577705383, 0.9621496796607971, 1.6138635873794556], \"y\": [0.7156165838241577, 0.33807098865509033, -0.4644126892089844, 1.1908564567565918, -0.6624014973640442, 1.769309639930725, -0.7632037997245789, 2.5879971981048584, 0.33807098865509033, 0.5314463973045349, 4.470577716827393, -0.9342848062515259, -1.1868218183517456, 1.1909679174423218, 1.2769370079040527, 1.5435749292373657, -0.3051114082336426, -0.5872336030006409, 0.5941131711006165, 4.470577716827393, -1.0749313831329346, -0.5082159042358398, -0.26132723689079285, -0.6709104776382446, 5.149703502655029, 1.8031069040298462, 0.6834620237350464, -1.346677541732788, 0.5941131711006165, -0.31384122371673584, -0.2100689560174942, 0.035673364996910095, 0.5611790418624878, 0.048178549855947495, 0.8139288425445557, -0.3669402301311493, 2.8126754760742188, 1.256460428237915, 1.8031069040298462, -0.6624014973640442, -2.121518135070801, 0.6762845516204834, -0.19187483191490173, 0.26923999190330505, 0.051075372844934464, -1.748896598815918, 0.5620945692062378, 1.2735800743103027, 0.5314463973045349, 1.769309639930725, -1.8217891454696655, -0.2100689560174942, 2.0762696266174316, 0.06556060910224915, -0.3005925714969635, -0.26132723689079285, 1.790273666381836, 2.0762696266174316, -0.48587483167648315, 3.8989529609680176, 1.3846012353897095, -0.031235672533512115, -1.8217891454696655, -0.9229344725608826, 1.5900816917419434, -1.346677541732788, 1.7597967386245728, -0.39289599657058716, 0.6558083891868591, -0.4206913113594055, -0.3005925714969635, 1.597631573677063, 1.1578247547149658, -0.9229344725608826, 0.46876826882362366, -0.26132723689079285, 1.723934292793274, 1.3846012353897095, 1.256460428237915, -0.39289599657058716, 0.7599655389785767, 2.9649367332458496, 0.035673364996910095, -1.1868218183517456, -4.971591472625732, -0.24693270027637482, 0.2828125059604645, -0.6661618947982788, 1.064038634300232, -0.4542790353298187, 3.8763880729675293, 0.8649524450302124, -0.5082159042358398, 0.5620945692062378, -1.830726981163025, -0.3404800295829773, -1.346677541732788, 1.8031069040298462, -0.907970130443573, -0.4206913113594055]}],\n",
       "                        {\"legend\": {\"bgcolor\": \"#F5F6F9\", \"font\": {\"color\": \"#4D5663\"}}, \"paper_bgcolor\": \"#F5F6F9\", \"plot_bgcolor\": \"#F5F6F9\", \"template\": {\"data\": {\"bar\": [{\"error_x\": {\"color\": \"#2a3f5f\"}, \"error_y\": {\"color\": \"#2a3f5f\"}, \"marker\": {\"line\": {\"color\": \"#E5ECF6\", \"width\": 0.5}}, \"type\": \"bar\"}], \"barpolar\": [{\"marker\": {\"line\": {\"color\": \"#E5ECF6\", \"width\": 0.5}}, \"type\": \"barpolar\"}], \"carpet\": [{\"aaxis\": {\"endlinecolor\": \"#2a3f5f\", \"gridcolor\": \"white\", \"linecolor\": \"white\", \"minorgridcolor\": \"white\", \"startlinecolor\": \"#2a3f5f\"}, \"baxis\": {\"endlinecolor\": \"#2a3f5f\", \"gridcolor\": \"white\", \"linecolor\": \"white\", \"minorgridcolor\": \"white\", \"startlinecolor\": \"#2a3f5f\"}, \"type\": \"carpet\"}], \"choropleth\": [{\"colorbar\": {\"outlinewidth\": 0, \"ticks\": \"\"}, \"type\": \"choropleth\"}], \"contour\": [{\"colorbar\": {\"outlinewidth\": 0, \"ticks\": \"\"}, \"colorscale\": [[0.0, \"#0d0887\"], [0.1111111111111111, \"#46039f\"], [0.2222222222222222, \"#7201a8\"], [0.3333333333333333, \"#9c179e\"], [0.4444444444444444, \"#bd3786\"], [0.5555555555555556, \"#d8576b\"], [0.6666666666666666, \"#ed7953\"], [0.7777777777777778, \"#fb9f3a\"], [0.8888888888888888, \"#fdca26\"], [1.0, \"#f0f921\"]], \"type\": \"contour\"}], \"contourcarpet\": [{\"colorbar\": {\"outlinewidth\": 0, \"ticks\": \"\"}, \"type\": \"contourcarpet\"}], \"heatmap\": [{\"colorbar\": {\"outlinewidth\": 0, \"ticks\": \"\"}, \"colorscale\": [[0.0, \"#0d0887\"], [0.1111111111111111, \"#46039f\"], [0.2222222222222222, \"#7201a8\"], [0.3333333333333333, \"#9c179e\"], [0.4444444444444444, \"#bd3786\"], [0.5555555555555556, \"#d8576b\"], [0.6666666666666666, \"#ed7953\"], [0.7777777777777778, \"#fb9f3a\"], [0.8888888888888888, \"#fdca26\"], [1.0, \"#f0f921\"]], \"type\": \"heatmap\"}], \"heatmapgl\": [{\"colorbar\": {\"outlinewidth\": 0, \"ticks\": \"\"}, \"colorscale\": [[0.0, \"#0d0887\"], [0.1111111111111111, \"#46039f\"], [0.2222222222222222, \"#7201a8\"], [0.3333333333333333, \"#9c179e\"], [0.4444444444444444, \"#bd3786\"], [0.5555555555555556, \"#d8576b\"], [0.6666666666666666, \"#ed7953\"], [0.7777777777777778, \"#fb9f3a\"], [0.8888888888888888, \"#fdca26\"], [1.0, \"#f0f921\"]], \"type\": \"heatmapgl\"}], \"histogram\": [{\"marker\": {\"colorbar\": {\"outlinewidth\": 0, \"ticks\": \"\"}}, \"type\": \"histogram\"}], \"histogram2d\": [{\"colorbar\": {\"outlinewidth\": 0, \"ticks\": \"\"}, \"colorscale\": [[0.0, \"#0d0887\"], [0.1111111111111111, \"#46039f\"], [0.2222222222222222, \"#7201a8\"], [0.3333333333333333, \"#9c179e\"], [0.4444444444444444, \"#bd3786\"], [0.5555555555555556, \"#d8576b\"], [0.6666666666666666, \"#ed7953\"], [0.7777777777777778, \"#fb9f3a\"], [0.8888888888888888, \"#fdca26\"], [1.0, \"#f0f921\"]], \"type\": \"histogram2d\"}], \"histogram2dcontour\": [{\"colorbar\": {\"outlinewidth\": 0, \"ticks\": \"\"}, \"colorscale\": [[0.0, \"#0d0887\"], [0.1111111111111111, \"#46039f\"], [0.2222222222222222, \"#7201a8\"], [0.3333333333333333, \"#9c179e\"], [0.4444444444444444, \"#bd3786\"], [0.5555555555555556, \"#d8576b\"], [0.6666666666666666, \"#ed7953\"], [0.7777777777777778, \"#fb9f3a\"], [0.8888888888888888, \"#fdca26\"], [1.0, \"#f0f921\"]], \"type\": \"histogram2dcontour\"}], \"mesh3d\": [{\"colorbar\": {\"outlinewidth\": 0, \"ticks\": \"\"}, \"type\": \"mesh3d\"}], \"parcoords\": [{\"line\": {\"colorbar\": {\"outlinewidth\": 0, \"ticks\": \"\"}}, \"type\": \"parcoords\"}], \"pie\": [{\"automargin\": true, \"type\": \"pie\"}], \"scatter\": [{\"marker\": {\"colorbar\": {\"outlinewidth\": 0, \"ticks\": \"\"}}, \"type\": \"scatter\"}], \"scatter3d\": [{\"line\": {\"colorbar\": {\"outlinewidth\": 0, \"ticks\": \"\"}}, \"marker\": {\"colorbar\": {\"outlinewidth\": 0, \"ticks\": \"\"}}, \"type\": \"scatter3d\"}], \"scattercarpet\": [{\"marker\": {\"colorbar\": {\"outlinewidth\": 0, \"ticks\": \"\"}}, \"type\": \"scattercarpet\"}], \"scattergeo\": [{\"marker\": {\"colorbar\": {\"outlinewidth\": 0, \"ticks\": \"\"}}, \"type\": \"scattergeo\"}], \"scattergl\": [{\"marker\": {\"colorbar\": {\"outlinewidth\": 0, \"ticks\": \"\"}}, \"type\": \"scattergl\"}], \"scattermapbox\": [{\"marker\": {\"colorbar\": {\"outlinewidth\": 0, \"ticks\": \"\"}}, \"type\": \"scattermapbox\"}], \"scatterpolar\": [{\"marker\": {\"colorbar\": {\"outlinewidth\": 0, \"ticks\": \"\"}}, \"type\": \"scatterpolar\"}], \"scatterpolargl\": [{\"marker\": {\"colorbar\": {\"outlinewidth\": 0, \"ticks\": \"\"}}, \"type\": \"scatterpolargl\"}], \"scatterternary\": [{\"marker\": {\"colorbar\": {\"outlinewidth\": 0, \"ticks\": \"\"}}, \"type\": \"scatterternary\"}], \"surface\": [{\"colorbar\": {\"outlinewidth\": 0, \"ticks\": \"\"}, \"colorscale\": [[0.0, \"#0d0887\"], [0.1111111111111111, \"#46039f\"], [0.2222222222222222, \"#7201a8\"], [0.3333333333333333, \"#9c179e\"], [0.4444444444444444, \"#bd3786\"], [0.5555555555555556, \"#d8576b\"], [0.6666666666666666, \"#ed7953\"], [0.7777777777777778, \"#fb9f3a\"], [0.8888888888888888, \"#fdca26\"], [1.0, \"#f0f921\"]], \"type\": \"surface\"}], \"table\": [{\"cells\": {\"fill\": {\"color\": \"#EBF0F8\"}, \"line\": {\"color\": \"white\"}}, \"header\": {\"fill\": {\"color\": \"#C8D4E3\"}, \"line\": {\"color\": \"white\"}}, \"type\": \"table\"}]}, \"layout\": {\"annotationdefaults\": {\"arrowcolor\": \"#2a3f5f\", \"arrowhead\": 0, \"arrowwidth\": 1}, \"coloraxis\": {\"colorbar\": {\"outlinewidth\": 0, \"ticks\": \"\"}}, \"colorscale\": {\"diverging\": [[0, \"#8e0152\"], [0.1, \"#c51b7d\"], [0.2, \"#de77ae\"], [0.3, \"#f1b6da\"], [0.4, \"#fde0ef\"], [0.5, \"#f7f7f7\"], [0.6, \"#e6f5d0\"], [0.7, \"#b8e186\"], [0.8, \"#7fbc41\"], [0.9, \"#4d9221\"], [1, \"#276419\"]], \"sequential\": [[0.0, \"#0d0887\"], [0.1111111111111111, \"#46039f\"], [0.2222222222222222, \"#7201a8\"], [0.3333333333333333, \"#9c179e\"], [0.4444444444444444, \"#bd3786\"], [0.5555555555555556, \"#d8576b\"], [0.6666666666666666, \"#ed7953\"], [0.7777777777777778, \"#fb9f3a\"], [0.8888888888888888, \"#fdca26\"], [1.0, \"#f0f921\"]], \"sequentialminus\": [[0.0, \"#0d0887\"], [0.1111111111111111, \"#46039f\"], [0.2222222222222222, \"#7201a8\"], [0.3333333333333333, \"#9c179e\"], [0.4444444444444444, \"#bd3786\"], [0.5555555555555556, \"#d8576b\"], [0.6666666666666666, \"#ed7953\"], [0.7777777777777778, \"#fb9f3a\"], [0.8888888888888888, \"#fdca26\"], [1.0, \"#f0f921\"]]}, \"colorway\": [\"#636efa\", \"#EF553B\", \"#00cc96\", \"#ab63fa\", \"#FFA15A\", \"#19d3f3\", \"#FF6692\", \"#B6E880\", \"#FF97FF\", \"#FECB52\"], \"font\": {\"color\": \"#2a3f5f\"}, \"geo\": {\"bgcolor\": \"white\", \"lakecolor\": \"white\", \"landcolor\": \"#E5ECF6\", \"showlakes\": true, \"showland\": true, \"subunitcolor\": \"white\"}, \"hoverlabel\": {\"align\": \"left\"}, \"hovermode\": \"closest\", \"mapbox\": {\"style\": \"light\"}, \"paper_bgcolor\": \"white\", \"plot_bgcolor\": \"#E5ECF6\", \"polar\": {\"angularaxis\": {\"gridcolor\": \"white\", \"linecolor\": \"white\", \"ticks\": \"\"}, \"bgcolor\": \"#E5ECF6\", \"radialaxis\": {\"gridcolor\": \"white\", \"linecolor\": \"white\", \"ticks\": \"\"}}, \"scene\": {\"xaxis\": {\"backgroundcolor\": \"#E5ECF6\", \"gridcolor\": \"white\", \"gridwidth\": 2, \"linecolor\": \"white\", \"showbackground\": true, \"ticks\": \"\", \"zerolinecolor\": \"white\"}, \"yaxis\": {\"backgroundcolor\": \"#E5ECF6\", \"gridcolor\": \"white\", \"gridwidth\": 2, \"linecolor\": \"white\", \"showbackground\": true, \"ticks\": \"\", \"zerolinecolor\": \"white\"}, \"zaxis\": {\"backgroundcolor\": \"#E5ECF6\", \"gridcolor\": \"white\", \"gridwidth\": 2, \"linecolor\": \"white\", \"showbackground\": true, \"ticks\": \"\", \"zerolinecolor\": \"white\"}}, \"shapedefaults\": {\"line\": {\"color\": \"#2a3f5f\"}}, \"ternary\": {\"aaxis\": {\"gridcolor\": \"white\", \"linecolor\": \"white\", \"ticks\": \"\"}, \"baxis\": {\"gridcolor\": \"white\", \"linecolor\": \"white\", \"ticks\": \"\"}, \"bgcolor\": \"#E5ECF6\", \"caxis\": {\"gridcolor\": \"white\", \"linecolor\": \"white\", \"ticks\": \"\"}}, \"title\": {\"x\": 0.05}, \"xaxis\": {\"automargin\": true, \"gridcolor\": \"white\", \"linecolor\": \"white\", \"ticks\": \"\", \"title\": {\"standoff\": 15}, \"zerolinecolor\": \"white\", \"zerolinewidth\": 2}, \"yaxis\": {\"automargin\": true, \"gridcolor\": \"white\", \"linecolor\": \"white\", \"ticks\": \"\", \"title\": {\"standoff\": 15}, \"zerolinecolor\": \"white\", \"zerolinewidth\": 2}}}, \"title\": {\"font\": {\"color\": \"#4D5663\"}, \"text\": \"ACP en 2 composantes\"}, \"xaxis\": {\"gridcolor\": \"#E1E5ED\", \"showgrid\": true, \"tickfont\": {\"color\": \"#4D5663\"}, \"title\": {\"font\": {\"color\": \"#4D5663\"}, \"text\": \"Axe 1\"}, \"zerolinecolor\": \"#E1E5ED\"}, \"yaxis\": {\"gridcolor\": \"#E1E5ED\", \"showgrid\": true, \"tickfont\": {\"color\": \"#4D5663\"}, \"title\": {\"font\": {\"color\": \"#4D5663\"}, \"text\": \"Axe 2\"}, \"zerolinecolor\": \"#E1E5ED\"}},\n",
       "                        {\"showLink\": true, \"linkText\": \"Export to plot.ly\", \"plotlyServerURL\": \"https://plot.ly\", \"responsive\": true}\n",
       "                    ).then(function(){\n",
       "                            \n",
       "var gd = document.getElementById('2f974eb3-d651-4193-9a68-cb1d5c9ad539');\n",
       "var x = new MutationObserver(function (mutations, observer) {{\n",
       "        var display = window.getComputedStyle(gd).display;\n",
       "        if (!display || display === 'none') {{\n",
       "            console.log([gd, 'removed!']);\n",
       "            Plotly.purge(gd);\n",
       "            observer.disconnect();\n",
       "        }}\n",
       "}});\n",
       "\n",
       "// Listen for the removal of the full notebook cells\n",
       "var notebookContainer = gd.closest('#notebook-container');\n",
       "if (notebookContainer) {{\n",
       "    x.observe(notebookContainer, {childList: true});\n",
       "}}\n",
       "\n",
       "// Listen for the clearing of the current output cell\n",
       "var outputEl = gd.closest('.output');\n",
       "if (outputEl) {{\n",
       "    x.observe(outputEl, {childList: true});\n",
       "}}\n",
       "\n",
       "                        })\n",
       "                };\n",
       "                });\n",
       "            </script>\n",
       "        </div>"
      ]
     },
     "metadata": {},
     "output_type": "display_data"
    }
   ],
   "source": [
    "ACP(liste2, statique = False)"
   ]
  },
  {
   "cell_type": "markdown",
   "metadata": {},
   "source": [
    "## 4. TSNE "
   ]
  },
  {
   "cell_type": "code",
   "execution_count": 32,
   "metadata": {},
   "outputs": [],
   "source": [
    "def tsne_graph(liste, statique = True, nom_couples_explicite=True):\n",
    "    liste_triee =[]\n",
    "    for couple in liste:\n",
    "        liste_triee.append([w for w in couple if w in mot_index])\n",
    "    liste_mots = [w for couple in liste_triee for w in couple]\n",
    "    df_res = pd.DataFrame.from_dict(mot_poids).transpose()\n",
    "    df_res = df_res.loc[liste_mots]\n",
    "    df_res['label'] = 'Autre' \n",
    "\n",
    "    if nom_couples_explicite:\n",
    "        for couple in liste_triee:\n",
    "            df_res.loc[couple,'label'] = '/'.join(couple)\n",
    "    else:\n",
    "        for i in range(0, len(liste_triee)):\n",
    "            df_res.loc[liste_triee[i],'label'] = \"Couple %i\" %i  \n",
    "    features = list(range(0, len(liste)))\n",
    "    # Separating out the features\n",
    "    data_x = df_res.loc[:, features].values\n",
    "    # Separating out the target\n",
    "    data_y = df_res.loc[:,['label']].values\n",
    "\n",
    "    tsne = TSNE(n_components=2, random_state=0)\n",
    "    tsne_obj= tsne.fit_transform(data_x)\n",
    "\n",
    "    test_features = [[i+1]*len(liste_triee[i]) for i in range(0, len(liste_triee))]\n",
    "    test_features = [i for f in test_features for i in f]\n",
    "    tsne_df = pd.DataFrame({'X':tsne_obj[:,0],\n",
    "                            'Y':tsne_obj[:,1],\n",
    "                           'digit':test_features})\n",
    "    tsne_df[\"legend\"] = tsne_df[\"digit\"]\n",
    "    for i in range(0,len(tsne_df)):\n",
    "        tsne_df[\"legend\"][i]= \"Couple %i\" %tsne_df[\"digit\"][i]\n",
    "    if statique:\n",
    "        fig = plt.figure(figsize = (12,8))\n",
    "        g = sns.scatterplot(x=\"X\", y=\"Y\",\n",
    "                            hue = \"legend\",\n",
    "                            data=tsne_df);\n",
    "        handles, labels = g.get_legend_handles_labels()\n",
    "        box = g.get_position()\n",
    "        g.set_position([box.x0, box.y0, box.width * 0.85, box.height]) # resize position\n",
    "\n",
    "        # Put a legend to the right side\n",
    "        g.legend(loc='center right', bbox_to_anchor=(1.3, 0.5), ncol=1,\n",
    "                 handles=handles[1:], labels=list(dict.fromkeys(tsne_df[\"legend\"])))\n",
    "    else:\n",
    "        tsne_df[\"mot\"] = liste_mots\n",
    "        cf.go_offline()\n",
    "        cf.set_config_file(offline=False, world_readable=True)\n",
    "\n",
    "        #Travailler avec sous-table sinon trop lourd\n",
    "        subFinalDf = pd.concat([tsne_df],  axis = 0)\n",
    "\n",
    "        subFinalDf.iplot(kind='scatter',\n",
    "                      mode='markers',\n",
    "                      x='X',\n",
    "                      y='Y',\n",
    "                      categories='legend',\n",
    "                      text='mot',\n",
    "                      xTitle='Axe 1',\n",
    "                      yTitle='Axe 2',\n",
    "                      title='TSNE',\n",
    "                      filename='cufflinks/simple-scatter')"
   ]
  },
  {
   "cell_type": "code",
   "execution_count": 33,
   "metadata": {},
   "outputs": [
    {
     "data": {
      "image/png": "[encoded data removed]",
      "text/plain": [
       "<Figure size 864x576 with 1 Axes>"
      ]
     },
     "metadata": {
      "needs_background": "light"
     },
     "output_type": "display_data"
    }
   ],
   "source": [
    "tsne_graph(liste1, statique = True,\n",
    "           nom_couples_explicite = True) #Paramètre ne marche pas : a debuger ?"
   ]
  },
  {
   "cell_type": "code",
   "execution_count": 34,
   "metadata": {},
   "outputs": [
    {
     "data": {
      "text/html": [
       "        <script type=\"text/javascript\">\n",
       "        window.PlotlyConfig = {MathJaxConfig: 'local'};\n",
       "        if (window.MathJax) {MathJax.Hub.Config({SVG: {font: \"STIX-Web\"}});}\n",
       "        if (typeof require !== 'undefined') {\n",
       "        require.undef(\"plotly\");\n",
       "        requirejs.config({\n",
       "            paths: {\n",
       "                'plotly': ['https://cdn.plot.ly/plotly-latest.min']\n",
       "            }\n",
       "        });\n",
       "        require(['plotly'], function(Plotly) {\n",
       "            window._Plotly = Plotly;\n",
       "        });\n",
       "        }\n",
       "        </script>\n",
       "        "
      ]
     },
     "metadata": {},
     "output_type": "display_data"
    },
    {
     "name": "stderr",
     "output_type": "stream",
     "text": [
      "C:\\Users\\Kim Antunez\\Anaconda3\\lib\\site-packages\\cufflinks\\plotlytools.py:808: FutureWarning:\n",
      "\n",
      "The pandas.np module is deprecated and will be removed from pandas in a future version. Import numpy directly instead\n",
      "\n",
      "C:\\Users\\Kim Antunez\\Anaconda3\\lib\\site-packages\\cufflinks\\plotlytools.py:811: FutureWarning:\n",
      "\n",
      "The pandas.np module is deprecated and will be removed from pandas in a future version. Import numpy directly instead\n",
      "\n"
     ]
    },
    {
     "data": {
      "application/vnd.plotly.v1+json": {
       "config": {
        "linkText": "Export to plot.ly",
        "plotlyServerURL": "https://plot.ly",
        "showLink": true
       },
       "data": [
        {
         "marker": {
          "color": "rgba(255, 153, 51, 1.0)",
          "line": {
           "width": 1.3
          },
          "opacity": 0.8,
          "size": 12,
          "symbol": "circle"
         },
         "mode": "markers",
         "name": "Couple 1",
         "text": [
          "poli",
          "bonjour",
          "salut"
         ],
         "textfont": {
          "color": "#4D5663"
         },
         "type": "scatter",
         "x": [
          -17.1019229888916,
          49.74174118041992,
          -54.36186218261719
         ],
         "y": [
          55.59828567504883,
          -82.25782775878906,
          89.2363510131836
         ]
        },
        {
         "marker": {
          "color": "rgba(55, 128, 191, 1.0)",
          "line": {
           "width": 1.3
          },
          "opacity": 0.8,
          "size": 12,
          "symbol": "circle"
         },
         "mode": "markers",
         "name": "Couple 2",
         "text": [
          "canapé",
          "fauteuil",
          "table",
          "chaise"
         ],
         "textfont": {
          "color": "#4D5663"
         },
         "type": "scatter",
         "x": [
          -33.06103515625,
          5.069701671600342,
          -19.248332977294922,
          -60.812355041503906
         ],
         "y": [
          5.459617614746094,
          -25.416154861450195,
          -15.50568675994873,
          0.0826045498251915
         ]
        },
        {
         "marker": {
          "color": "rgba(50, 171, 96, 1.0)",
          "line": {
           "width": 1.3
          },
          "opacity": 0.8,
          "size": 12,
          "symbol": "circle"
         },
         "mode": "markers",
         "name": "Couple 3",
         "text": [
          "téléphone",
          "portable",
          "numéro",
          "appel"
         ],
         "textfont": {
          "color": "#4D5663"
         },
         "type": "scatter",
         "x": [
          50.553348541259766,
          49.96888732910156,
          28.510467529296875,
          56.78080368041992
         ],
         "y": [
          71.3407211303711,
          8.804107666015625,
          97.63095092773438,
          -23.6087589263916
         ]
        },
        {
         "marker": {
          "color": "rgba(128, 0, 128, 1.0)",
          "line": {
           "width": 1.3
          },
          "opacity": 0.8,
          "size": 12,
          "symbol": "circle"
         },
         "mode": "markers",
         "name": "Couple 4",
         "text": [
          "voiture",
          "camion",
          "vélo",
          "train"
         ],
         "textfont": {
          "color": "#4D5663"
         },
         "type": "scatter",
         "x": [
          -89.93740844726562,
          10.489169120788574,
          -2.0903539657592773,
          99.68669128417969
         ],
         "y": [
          13.164041519165039,
          65.01433563232422,
          5.235979080200195,
          -34.841064453125
         ]
        },
        {
         "marker": {
          "color": "rgba(219, 64, 82, 1.0)",
          "line": {
           "width": 1.3
          },
          "opacity": 0.8,
          "size": 12,
          "symbol": "circle"
         },
         "mode": "markers",
         "name": "Couple 5",
         "text": [
          "beau",
          "mignon",
          "bg",
          "mannequin"
         ],
         "textfont": {
          "color": "#4D5663"
         },
         "type": "scatter",
         "x": [
          -60.5722541809082,
          -34.21105194091797,
          3.1964640617370605,
          3.1311469078063965
         ],
         "y": [
          -59.00943374633789,
          -81.01888275146484,
          -65.24356079101562,
          35.04709243774414
         ]
        },
        {
         "marker": {
          "color": "rgba(0, 128, 128, 1.0)",
          "line": {
           "width": 1.3
          },
          "opacity": 0.8,
          "size": 12,
          "symbol": "circle"
         },
         "mode": "markers",
         "name": "Couple 6",
         "text": [
          "docteur",
          "médecin",
          "santé",
          "bobo"
         ],
         "textfont": {
          "color": "#4D5663"
         },
         "type": "scatter",
         "x": [
          -44.126033782958984,
          -51.18239212036133,
          -20.6340274810791,
          21.736690521240234
         ],
         "y": [
          56.53497314453125,
          28.94963264465332,
          -44.0614128112793,
          16.23946762084961
         ]
        },
        {
         "marker": {
          "color": "rgba(255, 255, 51, 1.0)",
          "line": {
           "width": 1.3
          },
          "opacity": 0.8,
          "size": 12,
          "symbol": "circle"
         },
         "mode": "markers",
         "name": "Couple 7",
         "text": [
          "belle",
          "jolie",
          "mignonne"
         ],
         "textfont": {
          "color": "#4D5663"
         },
         "type": "scatter",
         "x": [
          -122.13259887695312,
          -86.2197265625,
          -80.16513061523438
         ],
         "y": [
          49.83012771606445,
          -31.77144432067871,
          51.65546417236328
         ]
        },
        {
         "marker": {
          "color": "rgba(128, 128, 0, 1.0)",
          "line": {
           "width": 1.3
          },
          "opacity": 0.8,
          "size": 12,
          "symbol": "circle"
         },
         "mode": "markers",
         "name": "Couple 8",
         "text": [
          "père",
          "papa",
          "daron"
         ],
         "textfont": {
          "color": "#4D5663"
         },
         "type": "scatter",
         "x": [
          90.11256408691406,
          -14.782535552978516,
          80.34889221191406
         ],
         "y": [
          57.665897369384766,
          86.29618072509766,
          14.302643775939941
         ]
        },
        {
         "marker": {
          "color": "rgba(251, 128, 114, 1.0)",
          "line": {
           "width": 1.3
          },
          "opacity": 0.8,
          "size": 12,
          "symbol": "circle"
         },
         "mode": "markers",
         "name": "Couple 9",
         "text": [
          "mère",
          "maman",
          "daronne"
         ],
         "textfont": {
          "color": "#4D5663"
         },
         "type": "scatter",
         "x": [
          -130.32554626464844,
          58.480533599853516,
          30.64054298400879
         ],
         "y": [
          -9.515863418579102,
          39.541751861572266,
          43.75801467895508
         ]
        },
        {
         "marker": {
          "color": "rgba(128, 177, 211, 1.0)",
          "line": {
           "width": 1.3
          },
          "opacity": 0.8,
          "size": 12,
          "symbol": "circle"
         },
         "mode": "markers",
         "name": "Couple 10",
         "text": [
          "ol",
          "psg",
          "foot",
          "stade"
         ],
         "textfont": {
          "color": "#4D5663"
         },
         "type": "scatter",
         "x": [
          28.721965789794922,
          -46.65391159057617,
          27.859533309936523,
          -21.551422119140625
         ],
         "y": [
          -42.30643081665039,
          -26.109840393066406,
          -10.418635368347168,
          28.01367950439453
         ]
        }
       ],
       "layout": {
        "legend": {
         "bgcolor": "#F5F6F9",
         "font": {
          "color": "#4D5663"
         }
        },
        "paper_bgcolor": "#F5F6F9",
        "plot_bgcolor": "#F5F6F9",
        "template": {
         "data": {
          "bar": [
           {
            "error_x": {
             "color": "#2a3f5f"
            },
            "error_y": {
             "color": "#2a3f5f"
            },
            "marker": {
             "line": {
              "color": "#E5ECF6",
              "width": 0.5
             }
            },
            "type": "bar"
           }
          ],
          "barpolar": [
           {
            "marker": {
             "line": {
              "color": "#E5ECF6",
              "width": 0.5
             }
            },
            "type": "barpolar"
           }
          ],
          "carpet": [
           {
            "aaxis": {
             "endlinecolor": "#2a3f5f",
             "gridcolor": "white",
             "linecolor": "white",
             "minorgridcolor": "white",
             "startlinecolor": "#2a3f5f"
            },
            "baxis": {
             "endlinecolor": "#2a3f5f",
             "gridcolor": "white",
             "linecolor": "white",
             "minorgridcolor": "white",
             "startlinecolor": "#2a3f5f"
            },
            "type": "carpet"
           }
          ],
          "choropleth": [
           {
            "colorbar": {
             "outlinewidth": 0,
             "ticks": ""
            },
            "type": "choropleth"
           }
          ],
          "contour": [
           {
            "colorbar": {
             "outlinewidth": 0,
             "ticks": ""
            },
            "colorscale": [
             [
              0,
              "#0d0887"
             ],
             [
              0.1111111111111111,
              "#46039f"
             ],
             [
              0.2222222222222222,
              "#7201a8"
             ],
             [
              0.3333333333333333,
              "#9c179e"
             ],
             [
              0.4444444444444444,
              "#bd3786"
             ],
             [
              0.5555555555555556,
              "#d8576b"
             ],
             [
              0.6666666666666666,
              "#ed7953"
             ],
             [
              0.7777777777777778,
              "#fb9f3a"
             ],
             [
              0.8888888888888888,
              "#fdca26"
             ],
             [
              1,
              "#f0f921"
             ]
            ],
            "type": "contour"
           }
          ],
          "contourcarpet": [
           {
            "colorbar": {
             "outlinewidth": 0,
             "ticks": ""
            },
            "type": "contourcarpet"
           }
          ],
          "heatmap": [
           {
            "colorbar": {
             "outlinewidth": 0,
             "ticks": ""
            },
            "colorscale": [
             [
              0,
              "#0d0887"
             ],
             [
              0.1111111111111111,
              "#46039f"
             ],
             [
              0.2222222222222222,
              "#7201a8"
             ],
             [
              0.3333333333333333,
              "#9c179e"
             ],
             [
              0.4444444444444444,
              "#bd3786"
             ],
             [
              0.5555555555555556,
              "#d8576b"
             ],
             [
              0.6666666666666666,
              "#ed7953"
             ],
             [
              0.7777777777777778,
              "#fb9f3a"
             ],
             [
              0.8888888888888888,
              "#fdca26"
             ],
             [
              1,
              "#f0f921"
             ]
            ],
            "type": "heatmap"
           }
          ],
          "heatmapgl": [
           {
            "colorbar": {
             "outlinewidth": 0,
             "ticks": ""
            },
            "colorscale": [
             [
              0,
              "#0d0887"
             ],
             [
              0.1111111111111111,
              "#46039f"
             ],
             [
              0.2222222222222222,
              "#7201a8"
             ],
             [
              0.3333333333333333,
              "#9c179e"
             ],
             [
              0.4444444444444444,
              "#bd3786"
             ],
             [
              0.5555555555555556,
              "#d8576b"
             ],
             [
              0.6666666666666666,
              "#ed7953"
             ],
             [
              0.7777777777777778,
              "#fb9f3a"
             ],
             [
              0.8888888888888888,
              "#fdca26"
             ],
             [
              1,
              "#f0f921"
             ]
            ],
            "type": "heatmapgl"
           }
          ],
          "histogram": [
           {
            "marker": {
             "colorbar": {
              "outlinewidth": 0,
              "ticks": ""
             }
            },
            "type": "histogram"
           }
          ],
          "histogram2d": [
           {
            "colorbar": {
             "outlinewidth": 0,
             "ticks": ""
            },
            "colorscale": [
             [
              0,
              "#0d0887"
             ],
             [
              0.1111111111111111,
              "#46039f"
             ],
             [
              0.2222222222222222,
              "#7201a8"
             ],
             [
              0.3333333333333333,
              "#9c179e"
             ],
             [
              0.4444444444444444,
              "#bd3786"
             ],
             [
              0.5555555555555556,
              "#d8576b"
             ],
             [
              0.6666666666666666,
              "#ed7953"
             ],
             [
              0.7777777777777778,
              "#fb9f3a"
             ],
             [
              0.8888888888888888,
              "#fdca26"
             ],
             [
              1,
              "#f0f921"
             ]
            ],
            "type": "histogram2d"
           }
          ],
          "histogram2dcontour": [
           {
            "colorbar": {
             "outlinewidth": 0,
             "ticks": ""
            },
            "colorscale": [
             [
              0,
              "#0d0887"
             ],
             [
              0.1111111111111111,
              "#46039f"
             ],
             [
              0.2222222222222222,
              "#7201a8"
             ],
             [
              0.3333333333333333,
              "#9c179e"
             ],
             [
              0.4444444444444444,
              "#bd3786"
             ],
             [
              0.5555555555555556,
              "#d8576b"
             ],
             [
              0.6666666666666666,
              "#ed7953"
             ],
             [
              0.7777777777777778,
              "#fb9f3a"
             ],
             [
              0.8888888888888888,
              "#fdca26"
             ],
             [
              1,
              "#f0f921"
             ]
            ],
            "type": "histogram2dcontour"
           }
          ],
          "mesh3d": [
           {
            "colorbar": {
             "outlinewidth": 0,
             "ticks": ""
            },
            "type": "mesh3d"
           }
          ],
          "parcoords": [
           {
            "line": {
             "colorbar": {
              "outlinewidth": 0,
              "ticks": ""
             }
            },
            "type": "parcoords"
           }
          ],
          "pie": [
           {
            "automargin": true,
            "type": "pie"
           }
          ],
          "scatter": [
           {
            "marker": {
             "colorbar": {
              "outlinewidth": 0,
              "ticks": ""
             }
            },
            "type": "scatter"
           }
          ],
          "scatter3d": [
           {
            "line": {
             "colorbar": {
              "outlinewidth": 0,
              "ticks": ""
             }
            },
            "marker": {
             "colorbar": {
              "outlinewidth": 0,
              "ticks": ""
             }
            },
            "type": "scatter3d"
           }
          ],
          "scattercarpet": [
           {
            "marker": {
             "colorbar": {
              "outlinewidth": 0,
              "ticks": ""
             }
            },
            "type": "scattercarpet"
           }
          ],
          "scattergeo": [
           {
            "marker": {
             "colorbar": {
              "outlinewidth": 0,
              "ticks": ""
             }
            },
            "type": "scattergeo"
           }
          ],
          "scattergl": [
           {
            "marker": {
             "colorbar": {
              "outlinewidth": 0,
              "ticks": ""
             }
            },
            "type": "scattergl"
           }
          ],
          "scattermapbox": [
           {
            "marker": {
             "colorbar": {
              "outlinewidth": 0,
              "ticks": ""
             }
            },
            "type": "scattermapbox"
           }
          ],
          "scatterpolar": [
           {
            "marker": {
             "colorbar": {
              "outlinewidth": 0,
              "ticks": ""
             }
            },
            "type": "scatterpolar"
           }
          ],
          "scatterpolargl": [
           {
            "marker": {
             "colorbar": {
              "outlinewidth": 0,
              "ticks": ""
             }
            },
            "type": "scatterpolargl"
           }
          ],
          "scatterternary": [
           {
            "marker": {
             "colorbar": {
              "outlinewidth": 0,
              "ticks": ""
             }
            },
            "type": "scatterternary"
           }
          ],
          "surface": [
           {
            "colorbar": {
             "outlinewidth": 0,
             "ticks": ""
            },
            "colorscale": [
             [
              0,
              "#0d0887"
             ],
             [
              0.1111111111111111,
              "#46039f"
             ],
             [
              0.2222222222222222,
              "#7201a8"
             ],
             [
              0.3333333333333333,
              "#9c179e"
             ],
             [
              0.4444444444444444,
              "#bd3786"
             ],
             [
              0.5555555555555556,
              "#d8576b"
             ],
             [
              0.6666666666666666,
              "#ed7953"
             ],
             [
              0.7777777777777778,
              "#fb9f3a"
             ],
             [
              0.8888888888888888,
              "#fdca26"
             ],
             [
              1,
              "#f0f921"
             ]
            ],
            "type": "surface"
           }
          ],
          "table": [
           {
            "cells": {
             "fill": {
              "color": "#EBF0F8"
             },
             "line": {
              "color": "white"
             }
            },
            "header": {
             "fill": {
              "color": "#C8D4E3"
             },
             "line": {
              "color": "white"
             }
            },
            "type": "table"
           }
          ]
         },
         "layout": {
          "annotationdefaults": {
           "arrowcolor": "#2a3f5f",
           "arrowhead": 0,
           "arrowwidth": 1
          },
          "coloraxis": {
           "colorbar": {
            "outlinewidth": 0,
            "ticks": ""
           }
          },
          "colorscale": {
           "diverging": [
            [
             0,
             "#8e0152"
            ],
            [
             0.1,
             "#c51b7d"
            ],
            [
             0.2,
             "#de77ae"
            ],
            [
             0.3,
             "#f1b6da"
            ],
            [
             0.4,
             "#fde0ef"
            ],
            [
             0.5,
             "#f7f7f7"
            ],
            [
             0.6,
             "#e6f5d0"
            ],
            [
             0.7,
             "#b8e186"
            ],
            [
             0.8,
             "#7fbc41"
            ],
            [
             0.9,
             "#4d9221"
            ],
            [
             1,
             "#276419"
            ]
           ],
           "sequential": [
            [
             0,
             "#0d0887"
            ],
            [
             0.1111111111111111,
             "#46039f"
            ],
            [
             0.2222222222222222,
             "#7201a8"
            ],
            [
             0.3333333333333333,
             "#9c179e"
            ],
            [
             0.4444444444444444,
             "#bd3786"
            ],
            [
             0.5555555555555556,
             "#d8576b"
            ],
            [
             0.6666666666666666,
             "#ed7953"
            ],
            [
             0.7777777777777778,
             "#fb9f3a"
            ],
            [
             0.8888888888888888,
             "#fdca26"
            ],
            [
             1,
             "#f0f921"
            ]
           ],
           "sequentialminus": [
            [
             0,
             "#0d0887"
            ],
            [
             0.1111111111111111,
             "#46039f"
            ],
            [
             0.2222222222222222,
             "#7201a8"
            ],
            [
             0.3333333333333333,
             "#9c179e"
            ],
            [
             0.4444444444444444,
             "#bd3786"
            ],
            [
             0.5555555555555556,
             "#d8576b"
            ],
            [
             0.6666666666666666,
             "#ed7953"
            ],
            [
             0.7777777777777778,
             "#fb9f3a"
            ],
            [
             0.8888888888888888,
             "#fdca26"
            ],
            [
             1,
             "#f0f921"
            ]
           ]
          },
          "colorway": [
           "#636efa",
           "#EF553B",
           "#00cc96",
           "#ab63fa",
           "#FFA15A",
           "#19d3f3",
           "#FF6692",
           "#B6E880",
           "#FF97FF",
           "#FECB52"
          ],
          "font": {
           "color": "#2a3f5f"
          },
          "geo": {
           "bgcolor": "white",
           "lakecolor": "white",
           "landcolor": "#E5ECF6",
           "showlakes": true,
           "showland": true,
           "subunitcolor": "white"
          },
          "hoverlabel": {
           "align": "left"
          },
          "hovermode": "closest",
          "mapbox": {
           "style": "light"
          },
          "paper_bgcolor": "white",
          "plot_bgcolor": "#E5ECF6",
          "polar": {
           "angularaxis": {
            "gridcolor": "white",
            "linecolor": "white",
            "ticks": ""
           },
           "bgcolor": "#E5ECF6",
           "radialaxis": {
            "gridcolor": "white",
            "linecolor": "white",
            "ticks": ""
           }
          },
          "scene": {
           "xaxis": {
            "backgroundcolor": "#E5ECF6",
            "gridcolor": "white",
            "gridwidth": 2,
            "linecolor": "white",
            "showbackground": true,
            "ticks": "",
            "zerolinecolor": "white"
           },
           "yaxis": {
            "backgroundcolor": "#E5ECF6",
            "gridcolor": "white",
            "gridwidth": 2,
            "linecolor": "white",
            "showbackground": true,
            "ticks": "",
            "zerolinecolor": "white"
           },
           "zaxis": {
            "backgroundcolor": "#E5ECF6",
            "gridcolor": "white",
            "gridwidth": 2,
            "linecolor": "white",
            "showbackground": true,
            "ticks": "",
            "zerolinecolor": "white"
           }
          },
          "shapedefaults": {
           "line": {
            "color": "#2a3f5f"
           }
          },
          "ternary": {
           "aaxis": {
            "gridcolor": "white",
            "linecolor": "white",
            "ticks": ""
           },
           "baxis": {
            "gridcolor": "white",
            "linecolor": "white",
            "ticks": ""
           },
           "bgcolor": "#E5ECF6",
           "caxis": {
            "gridcolor": "white",
            "linecolor": "white",
            "ticks": ""
           }
          },
          "title": {
           "x": 0.05
          },
          "xaxis": {
           "automargin": true,
           "gridcolor": "white",
           "linecolor": "white",
           "ticks": "",
           "title": {
            "standoff": 15
           },
           "zerolinecolor": "white",
           "zerolinewidth": 2
          },
          "yaxis": {
           "automargin": true,
           "gridcolor": "white",
           "linecolor": "white",
           "ticks": "",
           "title": {
            "standoff": 15
           },
           "zerolinecolor": "white",
           "zerolinewidth": 2
          }
         }
        },
        "title": {
         "font": {
          "color": "#4D5663"
         },
         "text": "TSNE"
        },
        "xaxis": {
         "gridcolor": "#E1E5ED",
         "showgrid": true,
         "tickfont": {
          "color": "#4D5663"
         },
         "title": {
          "font": {
           "color": "#4D5663"
          },
          "text": "Axe 1"
         },
         "zerolinecolor": "#E1E5ED"
        },
        "yaxis": {
         "gridcolor": "#E1E5ED",
         "showgrid": true,
         "tickfont": {
          "color": "#4D5663"
         },
         "title": {
          "font": {
           "color": "#4D5663"
          },
          "text": "Axe 2"
         },
         "zerolinecolor": "#E1E5ED"
        }
       }
      },
      "text/html": [
       "<div>\n",
       "        \n",
       "        \n",
       "            <div id=\"c6705145-01ca-412b-8184-cbe84892d8bb\" class=\"plotly-graph-div\" style=\"height:525px; width:100%;\"></div>\n",
       "            <script type=\"text/javascript\">\n",
       "                require([\"plotly\"], function(Plotly) {\n",
       "                    window.PLOTLYENV=window.PLOTLYENV || {};\n",
       "                    window.PLOTLYENV.BASE_URL='https://plot.ly';\n",
       "                    \n",
       "                if (document.getElementById(\"c6705145-01ca-412b-8184-cbe84892d8bb\")) {\n",
       "                    Plotly.newPlot(\n",
       "                        'c6705145-01ca-412b-8184-cbe84892d8bb',\n",
       "                        [{\"marker\": {\"color\": \"rgba(255, 153, 51, 1.0)\", \"line\": {\"width\": 1.3}, \"opacity\": 0.8, \"size\": 12, \"symbol\": \"circle\"}, \"mode\": \"markers\", \"name\": \"Couple 1\", \"text\": [\"poli\", \"bonjour\", \"salut\"], \"textfont\": {\"color\": \"#4D5663\"}, \"type\": \"scatter\", \"x\": [-17.1019229888916, 49.74174118041992, -54.36186218261719], \"y\": [55.59828567504883, -82.25782775878906, 89.2363510131836]}, {\"marker\": {\"color\": \"rgba(55, 128, 191, 1.0)\", \"line\": {\"width\": 1.3}, \"opacity\": 0.8, \"size\": 12, \"symbol\": \"circle\"}, \"mode\": \"markers\", \"name\": \"Couple 2\", \"text\": [\"canap\\u00e9\", \"fauteuil\", \"table\", \"chaise\"], \"textfont\": {\"color\": \"#4D5663\"}, \"type\": \"scatter\", \"x\": [-33.06103515625, 5.069701671600342, -19.248332977294922, -60.812355041503906], \"y\": [5.459617614746094, -25.416154861450195, -15.50568675994873, 0.0826045498251915]}, {\"marker\": {\"color\": \"rgba(50, 171, 96, 1.0)\", \"line\": {\"width\": 1.3}, \"opacity\": 0.8, \"size\": 12, \"symbol\": \"circle\"}, \"mode\": \"markers\", \"name\": \"Couple 3\", \"text\": [\"t\\u00e9l\\u00e9phone\", \"portable\", \"num\\u00e9ro\", \"appel\"], \"textfont\": {\"color\": \"#4D5663\"}, \"type\": \"scatter\", \"x\": [50.553348541259766, 49.96888732910156, 28.510467529296875, 56.78080368041992], \"y\": [71.3407211303711, 8.804107666015625, 97.63095092773438, -23.6087589263916]}, {\"marker\": {\"color\": \"rgba(128, 0, 128, 1.0)\", \"line\": {\"width\": 1.3}, \"opacity\": 0.8, \"size\": 12, \"symbol\": \"circle\"}, \"mode\": \"markers\", \"name\": \"Couple 4\", \"text\": [\"voiture\", \"camion\", \"v\\u00e9lo\", \"train\"], \"textfont\": {\"color\": \"#4D5663\"}, \"type\": \"scatter\", \"x\": [-89.93740844726562, 10.489169120788574, -2.0903539657592773, 99.68669128417969], \"y\": [13.164041519165039, 65.01433563232422, 5.235979080200195, -34.841064453125]}, {\"marker\": {\"color\": \"rgba(219, 64, 82, 1.0)\", \"line\": {\"width\": 1.3}, \"opacity\": 0.8, \"size\": 12, \"symbol\": \"circle\"}, \"mode\": \"markers\", \"name\": \"Couple 5\", \"text\": [\"beau\", \"mignon\", \"bg\", \"mannequin\"], \"textfont\": {\"color\": \"#4D5663\"}, \"type\": \"scatter\", \"x\": [-60.5722541809082, -34.21105194091797, 3.1964640617370605, 3.1311469078063965], \"y\": [-59.00943374633789, -81.01888275146484, -65.24356079101562, 35.04709243774414]}, {\"marker\": {\"color\": \"rgba(0, 128, 128, 1.0)\", \"line\": {\"width\": 1.3}, \"opacity\": 0.8, \"size\": 12, \"symbol\": \"circle\"}, \"mode\": \"markers\", \"name\": \"Couple 6\", \"text\": [\"docteur\", \"m\\u00e9decin\", \"sant\\u00e9\", \"bobo\"], \"textfont\": {\"color\": \"#4D5663\"}, \"type\": \"scatter\", \"x\": [-44.126033782958984, -51.18239212036133, -20.6340274810791, 21.736690521240234], \"y\": [56.53497314453125, 28.94963264465332, -44.0614128112793, 16.23946762084961]}, {\"marker\": {\"color\": \"rgba(255, 255, 51, 1.0)\", \"line\": {\"width\": 1.3}, \"opacity\": 0.8, \"size\": 12, \"symbol\": \"circle\"}, \"mode\": \"markers\", \"name\": \"Couple 7\", \"text\": [\"belle\", \"jolie\", \"mignonne\"], \"textfont\": {\"color\": \"#4D5663\"}, \"type\": \"scatter\", \"x\": [-122.13259887695312, -86.2197265625, -80.16513061523438], \"y\": [49.83012771606445, -31.77144432067871, 51.65546417236328]}, {\"marker\": {\"color\": \"rgba(128, 128, 0, 1.0)\", \"line\": {\"width\": 1.3}, \"opacity\": 0.8, \"size\": 12, \"symbol\": \"circle\"}, \"mode\": \"markers\", \"name\": \"Couple 8\", \"text\": [\"p\\u00e8re\", \"papa\", \"daron\"], \"textfont\": {\"color\": \"#4D5663\"}, \"type\": \"scatter\", \"x\": [90.11256408691406, -14.782535552978516, 80.34889221191406], \"y\": [57.665897369384766, 86.29618072509766, 14.302643775939941]}, {\"marker\": {\"color\": \"rgba(251, 128, 114, 1.0)\", \"line\": {\"width\": 1.3}, \"opacity\": 0.8, \"size\": 12, \"symbol\": \"circle\"}, \"mode\": \"markers\", \"name\": \"Couple 9\", \"text\": [\"m\\u00e8re\", \"maman\", \"daronne\"], \"textfont\": {\"color\": \"#4D5663\"}, \"type\": \"scatter\", \"x\": [-130.32554626464844, 58.480533599853516, 30.64054298400879], \"y\": [-9.515863418579102, 39.541751861572266, 43.75801467895508]}, {\"marker\": {\"color\": \"rgba(128, 177, 211, 1.0)\", \"line\": {\"width\": 1.3}, \"opacity\": 0.8, \"size\": 12, \"symbol\": \"circle\"}, \"mode\": \"markers\", \"name\": \"Couple 10\", \"text\": [\"ol\", \"psg\", \"foot\", \"stade\"], \"textfont\": {\"color\": \"#4D5663\"}, \"type\": \"scatter\", \"x\": [28.721965789794922, -46.65391159057617, 27.859533309936523, -21.551422119140625], \"y\": [-42.30643081665039, -26.109840393066406, -10.418635368347168, 28.01367950439453]}],\n",
       "                        {\"legend\": {\"bgcolor\": \"#F5F6F9\", \"font\": {\"color\": \"#4D5663\"}}, \"paper_bgcolor\": \"#F5F6F9\", \"plot_bgcolor\": \"#F5F6F9\", \"template\": {\"data\": {\"bar\": [{\"error_x\": {\"color\": \"#2a3f5f\"}, \"error_y\": {\"color\": \"#2a3f5f\"}, \"marker\": {\"line\": {\"color\": \"#E5ECF6\", \"width\": 0.5}}, \"type\": \"bar\"}], \"barpolar\": [{\"marker\": {\"line\": {\"color\": \"#E5ECF6\", \"width\": 0.5}}, \"type\": \"barpolar\"}], \"carpet\": [{\"aaxis\": {\"endlinecolor\": \"#2a3f5f\", \"gridcolor\": \"white\", \"linecolor\": \"white\", \"minorgridcolor\": \"white\", \"startlinecolor\": \"#2a3f5f\"}, \"baxis\": {\"endlinecolor\": \"#2a3f5f\", \"gridcolor\": \"white\", \"linecolor\": \"white\", \"minorgridcolor\": \"white\", \"startlinecolor\": \"#2a3f5f\"}, \"type\": \"carpet\"}], \"choropleth\": [{\"colorbar\": {\"outlinewidth\": 0, \"ticks\": \"\"}, \"type\": \"choropleth\"}], \"contour\": [{\"colorbar\": {\"outlinewidth\": 0, \"ticks\": \"\"}, \"colorscale\": [[0.0, \"#0d0887\"], [0.1111111111111111, \"#46039f\"], [0.2222222222222222, \"#7201a8\"], [0.3333333333333333, \"#9c179e\"], [0.4444444444444444, \"#bd3786\"], [0.5555555555555556, \"#d8576b\"], [0.6666666666666666, \"#ed7953\"], [0.7777777777777778, \"#fb9f3a\"], [0.8888888888888888, \"#fdca26\"], [1.0, \"#f0f921\"]], \"type\": \"contour\"}], \"contourcarpet\": [{\"colorbar\": {\"outlinewidth\": 0, \"ticks\": \"\"}, \"type\": \"contourcarpet\"}], \"heatmap\": [{\"colorbar\": {\"outlinewidth\": 0, \"ticks\": \"\"}, \"colorscale\": [[0.0, \"#0d0887\"], [0.1111111111111111, \"#46039f\"], [0.2222222222222222, \"#7201a8\"], [0.3333333333333333, \"#9c179e\"], [0.4444444444444444, \"#bd3786\"], [0.5555555555555556, \"#d8576b\"], [0.6666666666666666, \"#ed7953\"], [0.7777777777777778, \"#fb9f3a\"], [0.8888888888888888, \"#fdca26\"], [1.0, \"#f0f921\"]], \"type\": \"heatmap\"}], \"heatmapgl\": [{\"colorbar\": {\"outlinewidth\": 0, \"ticks\": \"\"}, \"colorscale\": [[0.0, \"#0d0887\"], [0.1111111111111111, \"#46039f\"], [0.2222222222222222, \"#7201a8\"], [0.3333333333333333, \"#9c179e\"], [0.4444444444444444, \"#bd3786\"], [0.5555555555555556, \"#d8576b\"], [0.6666666666666666, \"#ed7953\"], [0.7777777777777778, \"#fb9f3a\"], [0.8888888888888888, \"#fdca26\"], [1.0, \"#f0f921\"]], \"type\": \"heatmapgl\"}], \"histogram\": [{\"marker\": {\"colorbar\": {\"outlinewidth\": 0, \"ticks\": \"\"}}, \"type\": \"histogram\"}], \"histogram2d\": [{\"colorbar\": {\"outlinewidth\": 0, \"ticks\": \"\"}, \"colorscale\": [[0.0, \"#0d0887\"], [0.1111111111111111, \"#46039f\"], [0.2222222222222222, \"#7201a8\"], [0.3333333333333333, \"#9c179e\"], [0.4444444444444444, \"#bd3786\"], [0.5555555555555556, \"#d8576b\"], [0.6666666666666666, \"#ed7953\"], [0.7777777777777778, \"#fb9f3a\"], [0.8888888888888888, \"#fdca26\"], [1.0, \"#f0f921\"]], \"type\": \"histogram2d\"}], \"histogram2dcontour\": [{\"colorbar\": {\"outlinewidth\": 0, \"ticks\": \"\"}, \"colorscale\": [[0.0, \"#0d0887\"], [0.1111111111111111, \"#46039f\"], [0.2222222222222222, \"#7201a8\"], [0.3333333333333333, \"#9c179e\"], [0.4444444444444444, \"#bd3786\"], [0.5555555555555556, \"#d8576b\"], [0.6666666666666666, \"#ed7953\"], [0.7777777777777778, \"#fb9f3a\"], [0.8888888888888888, \"#fdca26\"], [1.0, \"#f0f921\"]], \"type\": \"histogram2dcontour\"}], \"mesh3d\": [{\"colorbar\": {\"outlinewidth\": 0, \"ticks\": \"\"}, \"type\": \"mesh3d\"}], \"parcoords\": [{\"line\": {\"colorbar\": {\"outlinewidth\": 0, \"ticks\": \"\"}}, \"type\": \"parcoords\"}], \"pie\": [{\"automargin\": true, \"type\": \"pie\"}], \"scatter\": [{\"marker\": {\"colorbar\": {\"outlinewidth\": 0, \"ticks\": \"\"}}, \"type\": \"scatter\"}], \"scatter3d\": [{\"line\": {\"colorbar\": {\"outlinewidth\": 0, \"ticks\": \"\"}}, \"marker\": {\"colorbar\": {\"outlinewidth\": 0, \"ticks\": \"\"}}, \"type\": \"scatter3d\"}], \"scattercarpet\": [{\"marker\": {\"colorbar\": {\"outlinewidth\": 0, \"ticks\": \"\"}}, \"type\": \"scattercarpet\"}], \"scattergeo\": [{\"marker\": {\"colorbar\": {\"outlinewidth\": 0, \"ticks\": \"\"}}, \"type\": \"scattergeo\"}], \"scattergl\": [{\"marker\": {\"colorbar\": {\"outlinewidth\": 0, \"ticks\": \"\"}}, \"type\": \"scattergl\"}], \"scattermapbox\": [{\"marker\": {\"colorbar\": {\"outlinewidth\": 0, \"ticks\": \"\"}}, \"type\": \"scattermapbox\"}], \"scatterpolar\": [{\"marker\": {\"colorbar\": {\"outlinewidth\": 0, \"ticks\": \"\"}}, \"type\": \"scatterpolar\"}], \"scatterpolargl\": [{\"marker\": {\"colorbar\": {\"outlinewidth\": 0, \"ticks\": \"\"}}, \"type\": \"scatterpolargl\"}], \"scatterternary\": [{\"marker\": {\"colorbar\": {\"outlinewidth\": 0, \"ticks\": \"\"}}, \"type\": \"scatterternary\"}], \"surface\": [{\"colorbar\": {\"outlinewidth\": 0, \"ticks\": \"\"}, \"colorscale\": [[0.0, \"#0d0887\"], [0.1111111111111111, \"#46039f\"], [0.2222222222222222, \"#7201a8\"], [0.3333333333333333, \"#9c179e\"], [0.4444444444444444, \"#bd3786\"], [0.5555555555555556, \"#d8576b\"], [0.6666666666666666, \"#ed7953\"], [0.7777777777777778, \"#fb9f3a\"], [0.8888888888888888, \"#fdca26\"], [1.0, \"#f0f921\"]], \"type\": \"surface\"}], \"table\": [{\"cells\": {\"fill\": {\"color\": \"#EBF0F8\"}, \"line\": {\"color\": \"white\"}}, \"header\": {\"fill\": {\"color\": \"#C8D4E3\"}, \"line\": {\"color\": \"white\"}}, \"type\": \"table\"}]}, \"layout\": {\"annotationdefaults\": {\"arrowcolor\": \"#2a3f5f\", \"arrowhead\": 0, \"arrowwidth\": 1}, \"coloraxis\": {\"colorbar\": {\"outlinewidth\": 0, \"ticks\": \"\"}}, \"colorscale\": {\"diverging\": [[0, \"#8e0152\"], [0.1, \"#c51b7d\"], [0.2, \"#de77ae\"], [0.3, \"#f1b6da\"], [0.4, \"#fde0ef\"], [0.5, \"#f7f7f7\"], [0.6, \"#e6f5d0\"], [0.7, \"#b8e186\"], [0.8, \"#7fbc41\"], [0.9, \"#4d9221\"], [1, \"#276419\"]], \"sequential\": [[0.0, \"#0d0887\"], [0.1111111111111111, \"#46039f\"], [0.2222222222222222, \"#7201a8\"], [0.3333333333333333, \"#9c179e\"], [0.4444444444444444, \"#bd3786\"], [0.5555555555555556, \"#d8576b\"], [0.6666666666666666, \"#ed7953\"], [0.7777777777777778, \"#fb9f3a\"], [0.8888888888888888, \"#fdca26\"], [1.0, \"#f0f921\"]], \"sequentialminus\": [[0.0, \"#0d0887\"], [0.1111111111111111, \"#46039f\"], [0.2222222222222222, \"#7201a8\"], [0.3333333333333333, \"#9c179e\"], [0.4444444444444444, \"#bd3786\"], [0.5555555555555556, \"#d8576b\"], [0.6666666666666666, \"#ed7953\"], [0.7777777777777778, \"#fb9f3a\"], [0.8888888888888888, \"#fdca26\"], [1.0, \"#f0f921\"]]}, \"colorway\": [\"#636efa\", \"#EF553B\", \"#00cc96\", \"#ab63fa\", \"#FFA15A\", \"#19d3f3\", \"#FF6692\", \"#B6E880\", \"#FF97FF\", \"#FECB52\"], \"font\": {\"color\": \"#2a3f5f\"}, \"geo\": {\"bgcolor\": \"white\", \"lakecolor\": \"white\", \"landcolor\": \"#E5ECF6\", \"showlakes\": true, \"showland\": true, \"subunitcolor\": \"white\"}, \"hoverlabel\": {\"align\": \"left\"}, \"hovermode\": \"closest\", \"mapbox\": {\"style\": \"light\"}, \"paper_bgcolor\": \"white\", \"plot_bgcolor\": \"#E5ECF6\", \"polar\": {\"angularaxis\": {\"gridcolor\": \"white\", \"linecolor\": \"white\", \"ticks\": \"\"}, \"bgcolor\": \"#E5ECF6\", \"radialaxis\": {\"gridcolor\": \"white\", \"linecolor\": \"white\", \"ticks\": \"\"}}, \"scene\": {\"xaxis\": {\"backgroundcolor\": \"#E5ECF6\", \"gridcolor\": \"white\", \"gridwidth\": 2, \"linecolor\": \"white\", \"showbackground\": true, \"ticks\": \"\", \"zerolinecolor\": \"white\"}, \"yaxis\": {\"backgroundcolor\": \"#E5ECF6\", \"gridcolor\": \"white\", \"gridwidth\": 2, \"linecolor\": \"white\", \"showbackground\": true, \"ticks\": \"\", \"zerolinecolor\": \"white\"}, \"zaxis\": {\"backgroundcolor\": \"#E5ECF6\", \"gridcolor\": \"white\", \"gridwidth\": 2, \"linecolor\": \"white\", \"showbackground\": true, \"ticks\": \"\", \"zerolinecolor\": \"white\"}}, \"shapedefaults\": {\"line\": {\"color\": \"#2a3f5f\"}}, \"ternary\": {\"aaxis\": {\"gridcolor\": \"white\", \"linecolor\": \"white\", \"ticks\": \"\"}, \"baxis\": {\"gridcolor\": \"white\", \"linecolor\": \"white\", \"ticks\": \"\"}, \"bgcolor\": \"#E5ECF6\", \"caxis\": {\"gridcolor\": \"white\", \"linecolor\": \"white\", \"ticks\": \"\"}}, \"title\": {\"x\": 0.05}, \"xaxis\": {\"automargin\": true, \"gridcolor\": \"white\", \"linecolor\": \"white\", \"ticks\": \"\", \"title\": {\"standoff\": 15}, \"zerolinecolor\": \"white\", \"zerolinewidth\": 2}, \"yaxis\": {\"automargin\": true, \"gridcolor\": \"white\", \"linecolor\": \"white\", \"ticks\": \"\", \"title\": {\"standoff\": 15}, \"zerolinecolor\": \"white\", \"zerolinewidth\": 2}}}, \"title\": {\"font\": {\"color\": \"#4D5663\"}, \"text\": \"TSNE\"}, \"xaxis\": {\"gridcolor\": \"#E1E5ED\", \"showgrid\": true, \"tickfont\": {\"color\": \"#4D5663\"}, \"title\": {\"font\": {\"color\": \"#4D5663\"}, \"text\": \"Axe 1\"}, \"zerolinecolor\": \"#E1E5ED\"}, \"yaxis\": {\"gridcolor\": \"#E1E5ED\", \"showgrid\": true, \"tickfont\": {\"color\": \"#4D5663\"}, \"title\": {\"font\": {\"color\": \"#4D5663\"}, \"text\": \"Axe 2\"}, \"zerolinecolor\": \"#E1E5ED\"}},\n",
       "                        {\"showLink\": true, \"linkText\": \"Export to plot.ly\", \"plotlyServerURL\": \"https://plot.ly\", \"responsive\": true}\n",
       "                    ).then(function(){\n",
       "                            \n",
       "var gd = document.getElementById('c6705145-01ca-412b-8184-cbe84892d8bb');\n",
       "var x = new MutationObserver(function (mutations, observer) {{\n",
       "        var display = window.getComputedStyle(gd).display;\n",
       "        if (!display || display === 'none') {{\n",
       "            console.log([gd, 'removed!']);\n",
       "            Plotly.purge(gd);\n",
       "            observer.disconnect();\n",
       "        }}\n",
       "}});\n",
       "\n",
       "// Listen for the removal of the full notebook cells\n",
       "var notebookContainer = gd.closest('#notebook-container');\n",
       "if (notebookContainer) {{\n",
       "    x.observe(notebookContainer, {childList: true});\n",
       "}}\n",
       "\n",
       "// Listen for the clearing of the current output cell\n",
       "var outputEl = gd.closest('.output');\n",
       "if (outputEl) {{\n",
       "    x.observe(outputEl, {childList: true});\n",
       "}}\n",
       "\n",
       "                        })\n",
       "                };\n",
       "                });\n",
       "            </script>\n",
       "        </div>"
      ]
     },
     "metadata": {},
     "output_type": "display_data"
    }
   ],
   "source": [
    "tsne_graph(liste1, statique = False,\n",
    "           nom_couples_explicite = True) #Paramètre ne marche pas : a debuger ?\n"
   ]
  },
  {
   "cell_type": "code",
   "execution_count": 35,
   "metadata": {},
   "outputs": [
    {
     "data": {
      "text/html": [
       "        <script type=\"text/javascript\">\n",
       "        window.PlotlyConfig = {MathJaxConfig: 'local'};\n",
       "        if (window.MathJax) {MathJax.Hub.Config({SVG: {font: \"STIX-Web\"}});}\n",
       "        if (typeof require !== 'undefined') {\n",
       "        require.undef(\"plotly\");\n",
       "        requirejs.config({\n",
       "            paths: {\n",
       "                'plotly': ['https://cdn.plot.ly/plotly-latest.min']\n",
       "            }\n",
       "        });\n",
       "        require(['plotly'], function(Plotly) {\n",
       "            window._Plotly = Plotly;\n",
       "        });\n",
       "        }\n",
       "        </script>\n",
       "        "
      ]
     },
     "metadata": {},
     "output_type": "display_data"
    },
    {
     "name": "stderr",
     "output_type": "stream",
     "text": [
      "C:\\Users\\Kim Antunez\\Anaconda3\\lib\\site-packages\\cufflinks\\plotlytools.py:808: FutureWarning:\n",
      "\n",
      "The pandas.np module is deprecated and will be removed from pandas in a future version. Import numpy directly instead\n",
      "\n",
      "C:\\Users\\Kim Antunez\\Anaconda3\\lib\\site-packages\\cufflinks\\plotlytools.py:811: FutureWarning:\n",
      "\n",
      "The pandas.np module is deprecated and will be removed from pandas in a future version. Import numpy directly instead\n",
      "\n"
     ]
    },
    {
     "data": {
      "application/vnd.plotly.v1+json": {
       "config": {
        "linkText": "Export to plot.ly",
        "plotlyServerURL": "https://plot.ly",
        "showLink": true
       },
       "data": [
        {
         "marker": {
          "color": "rgba(255, 153, 51, 1.0)",
          "line": {
           "width": 1.3
          },
          "opacity": 0.8,
          "size": 12,
          "symbol": "circle"
         },
         "mode": "markers",
         "name": "Couple 1",
         "text": [
          "jespere",
          "expres",
          "unknown",
          "tite",
          "35",
          "ipad",
          "eme",
          "relâche",
          "top1",
          "chiants",
          "libres",
          "europeans",
          "investit",
          "usualsuspects",
          "davoir",
          "néant",
          "mariages",
          "clinique",
          "scandaleux",
          "hallucinant",
          "josefine",
          "taule",
          "mylène",
          "mouchoirs",
          "🇪",
          "forts",
          "malédiction",
          "mounet",
          "impôt",
          "🇸",
          "union",
          "od",
          "refusé",
          "animes",
          "gouffre",
          "keufs",
          "glr",
          "chips",
          "fallu",
          "nah",
          "jambon",
          "bouh",
          "grotte",
          "sénat",
          "pseudos",
          "etaient",
          "hac",
          "lazare",
          "cou",
          "attitude",
          "parlementaire",
          "irrespectueux",
          "dégradé",
          "nain",
          "friendzone",
          "pl",
          "audace",
          "jambon",
          "autorité",
          "puisqu",
          "abandonne",
          "bonus",
          "enregistre",
          "insultes",
          "chaines",
          "laaaaa",
          "véritable",
          "salles",
          "steak",
          "formule",
          "lignes",
          "applis",
          "🔵",
          "algerie",
          "sentie",
          "�",
          "🇵",
          "paradise",
          "pédophile",
          "ch",
          "solitude",
          "fesse",
          "1500",
          "honnêtes",
          "jmet",
          "mmmh",
          "opposition",
          "cliqué",
          "soja",
          "george",
          "levé",
          "she",
          "dictionnaire",
          "foutais",
          "agenda",
          "emmerdale",
          "boo",
          "connecté",
          "permanente",
          "côtoie"
         ],
         "textfont": {
          "color": "#4D5663"
         },
         "type": "scatter",
         "x": [
          -1.192946195602417,
          -1.1379859447479248,
          -2.0960445404052734,
          -4.332923412322998,
          -1.4859633445739746,
          -3.4245879650115967,
          2.6901745796203613,
          -0.6469969749450684,
          -4.7768096923828125,
          0.04162904620170593,
          2.7282581329345703,
          -11.204363822937012,
          -2.4981143474578857,
          -3.4904329776763916,
          -7.7507734298706055,
          -0.7270959615707397,
          -1.0419821739196777,
          -2.3669679164886475,
          -6.282296657562256,
          -6.782231330871582,
          -5.411334037780762,
          -1.2150269746780396,
          -3.3302161693573,
          3.973761796951294,
          -17.971908569335938,
          -4.292373180389404,
          -1.6807796955108643,
          -6.664587020874023,
          -1.7607208490371704,
          -18.95638084411621,
          -3.155992269515991,
          -0.28415393829345703,
          -4.698363304138184,
          2.3636474609375,
          0.5509158372879028,
          1.264875054359436,
          -6.098356246948242,
          -4.2096943855285645,
          -0.11330336332321167,
          -3.097320318222046,
          -3.7696385383605957,
          -0.9736588597297668,
          -4.188783645629883,
          -0.1500263661146164,
          3.4977753162384033,
          5.017984390258789,
          1.5226448774337769,
          -5.103847980499268,
          -8.349282264709473,
          -7.268531799316406,
          -3.063622236251831,
          -6.229334831237793,
          -6.46774435043335,
          -2.0055346488952637,
          0.9134512543678284,
          -10.057022094726562,
          -3.781262159347534,
          -4.144902229309082,
          -1.1864835023880005,
          2.186077356338501,
          -6.622348785400391,
          -9.401934623718262,
          -4.608933448791504,
          4.7775750160217285,
          0.4037545919418335,
          -5.8473992347717285,
          -16.238269805908203,
          -1.4540516138076782,
          -5.341489791870117,
          -7.233310699462891,
          2.560661792755127,
          -1.7091453075408936,
          -19.032546997070312,
          0.08232900500297546,
          -0.40040576457977295,
          1.0181268453598022,
          -16.483863830566406,
          -3.3474981784820557,
          -9.069253921508789,
          -7.726245403289795,
          -6.467758655548096,
          -8.543346405029297,
          -4.176770210266113,
          -0.6013553738594055,
          -5.422077655792236,
          -2.571791648864746,
          -2.595733642578125,
          -2.5544705390930176,
          -0.33013004064559937,
          -0.890745997428894,
          -11.57416820526123,
          -2.1721715927124023,
          -5.187091827392578,
          -1.9013261795043945,
          -7.9334540367126465,
          -5.491952419281006,
          -5.526456832885742,
          -9.381876945495605,
          0.13326185941696167,
          3.0146212577819824
         ],
         "y": [
          -7.689177513122559,
          -1.6152256727218628,
          6.748257160186768,
          -9.133077621459961,
          13.759950637817383,
          14.668354034423828,
          18.29710578918457,
          -5.113887310028076,
          6.169569492340088,
          1.1879775524139404,
          1.103255033493042,
          2.2878634929656982,
          5.421645641326904,
          1.6834183931350708,
          7.012896537780762,
          7.476795196533203,
          9.708230018615723,
          4.022332191467285,
          -1.4702227115631104,
          1.229166030883789,
          4.353702068328857,
          -0.5427370667457581,
          5.614884853363037,
          4.252647399902344,
          1.0241138935089111,
          -2.3931965827941895,
          -0.017041269689798355,
          9.041688919067383,
          5.711771488189697,
          1.038377046585083,
          8.046280860900879,
          10.166910171508789,
          4.62117338180542,
          9.773181915283203,
          7.0268354415893555,
          4.1593499183654785,
          -2.5456762313842773,
          3.979942560195923,
          -3.660968542098999,
          -5.052283763885498,
          9.4297513961792,
          3.55959153175354,
          6.0578203201293945,
          3.8391997814178467,
          4.16485071182251,
          1.420280933380127,
          7.473291873931885,
          14.740530014038086,
          6.511140823364258,
          0.5919854640960693,
          2.1893723011016846,
          7.3100972175598145,
          4.670557975769043,
          2.6239218711853027,
          1.9833630323410034,
          1.5792292356491089,
          -0.4409888684749603,
          9.05909538269043,
          1.6820886135101318,
          0.6353965997695923,
          14.238341331481934,
          5.438106536865234,
          0.534912645816803,
          0.9058918952941895,
          9.553391456604004,
          3.597039222717285,
          2.9091076850891113,
          8.602100372314453,
          -0.6740090847015381,
          -0.9897705912590027,
          10.948110580444336,
          11.274935722351074,
          -0.7183706164360046,
          6.421231746673584,
          -0.9259973764419556,
          0.6432773470878601,
          0.0522627979516983,
          4.6592912673950195,
          7.233645915985107,
          2.2485218048095703,
          10.932806968688965,
          0.18692906200885773,
          12.014275550842285,
          2.191474676132202,
          -5.498161315917969,
          1.164999008178711,
          -0.8702040314674377,
          12.461099624633789,
          7.854163646697998,
          4.787906169891357,
          4.871431827545166,
          8.9297513961792,
          8.806865692138672,
          -5.915402889251709,
          -0.6312729120254517,
          1.4020938873291016,
          2.919731378555298,
          6.490869998931885,
          3.274963140487671,
          -0.5541248321533203
         ]
        },
        {
         "marker": {
          "color": "rgba(55, 128, 191, 1.0)",
          "line": {
           "width": 1.3
          },
          "opacity": 0.8,
          "size": 12,
          "symbol": "circle"
         },
         "mode": "markers",
         "name": "Couple 2",
         "text": [
          "jvoulais",
          "vérifier",
          "réflexion",
          "ha",
          "ajouter",
          "solo",
          "entrain",
          "🇫",
          "impressionnant",
          "neige",
          "gère",
          "taff",
          "passion",
          "mens",
          "nez",
          "comptes",
          "back",
          "carrière",
          "😞",
          "sophie",
          "permis",
          "termine",
          "journal",
          "dise",
          "marie",
          "raclette",
          "crise",
          "croit",
          "règles",
          "choqué",
          "rencontrer",
          "touche",
          "mdrrrrrr",
          "octobre",
          "uniquement",
          "alexia",
          "tente",
          "vélo",
          "naze",
          "28",
          "jalouse",
          "tente",
          "goûts",
          "position",
          "saisons",
          "entretien",
          "clé",
          "inverse",
          "sud",
          "japonais",
          "bienvenue",
          "rendent",
          "madame",
          "gestion",
          "victoire",
          "tain",
          "regardant",
          "échec",
          "🌹",
          "gouvernement",
          "souris",
          "suisse",
          "ramener",
          "🤞",
          "svt",
          "plaindre",
          "✊",
          "refuse",
          "actuellement",
          "étude",
          "merciiiii",
          "lyon",
          "bjr",
          "tg",
          "trous",
          "bouffer",
          "familles",
          "choquée",
          "90",
          "fatiguée",
          "lapin",
          "payé",
          "🤙",
          "regrette",
          "sah",
          "expérience",
          "zéro",
          "manga",
          "batterie",
          "charge",
          "al",
          "sales",
          "calmer",
          "kiffé",
          "😰",
          "13",
          "animal",
          "2e",
          "réveille",
          "3h"
         ],
         "textfont": {
          "color": "#4D5663"
         },
         "type": "scatter",
         "x": [
          0.8925920724868774,
          1.7694737911224365,
          -12.875123023986816,
          -10.238373756408691,
          3.181594133377075,
          -11.120025634765625,
          9.544589042663574,
          -18.4299259185791,
          -15.414859771728516,
          2.401033401489258,
          -4.393505096435547,
          0.8339038491249084,
          -6.408542633056641,
          -0.909084141254425,
          -16.130813598632812,
          3.9991841316223145,
          -11.940068244934082,
          -11.256353378295898,
          -17.20827293395996,
          -16.707670211791992,
          3.8789429664611816,
          0.9445976614952087,
          -8.937899589538574,
          2.171966552734375,
          -4.113426685333252,
          -11.715697288513184,
          -13.91238021850586,
          3.7131412029266357,
          1.116602897644043,
          -18.79212188720703,
          5.690379619598389,
          -1.283759593963623,
          -6.429954528808594,
          3.367769718170166,
          -5.7744460105896,
          4.818275451660156,
          0.3213983178138733,
          -10.703960418701172,
          -17.937850952148438,
          7.78863000869751,
          -19.402191162109375,
          0.1076105609536171,
          -8.363259315490723,
          -11.607532501220703,
          3.696087121963501,
          -0.6438931226730347,
          -12.102023124694824,
          -14.35228443145752,
          5.023902416229248,
          -7.151506423950195,
          -16.35536766052246,
          -2.592377185821533,
          -3.6917712688446045,
          -1.893892765045166,
          -11.463570594787598,
          -5.419238090515137,
          -1.9171875715255737,
          -17.319698333740234,
          -17.649398803710938,
          -1.965548038482666,
          -4.616824626922607,
          -0.7428900003433228,
          0.9274234175682068,
          -18.25141143798828,
          -3.729947805404663,
          4.0369415283203125,
          -18.864171981811523,
          0.1312975436449051,
          7.121374130249023,
          -8.786965370178223,
          -6.932904243469238,
          2.0352275371551514,
          -0.04464161396026611,
          -5.486031532287598,
          2.3847503662109375,
          3.49491286277771,
          3.1356842517852783,
          -19.06827163696289,
          3.2467739582061768,
          9.31637954711914,
          -14.822447776794434,
          -0.4473825693130493,
          -17.927431106567383,
          1.7000701427459717,
          -20.359844207763672,
          -15.706533432006836,
          0.9478015303611755,
          -2.352030038833618,
          1.2715542316436768,
          -4.467676639556885,
          -12.809236526489258,
          3.985431432723999,
          2.980990171432495,
          -19.77488136291504,
          -13.772499084472656,
          9.780478477478027,
          -13.083065032958984,
          -12.635127067565918,
          3.5528087615966797,
          11.191040992736816
         ],
         "y": [
          -11.439692497253418,
          -4.083777904510498,
          2.1619467735290527,
          -11.641912460327148,
          -2.644411087036133,
          -1.9283348321914673,
          -3.360630989074707,
          -0.40045759081840515,
          1.939540147781372,
          -3.1692214012145996,
          -12.195263862609863,
          17.713537216186523,
          -9.947211265563965,
          -15.506507873535156,
          7.056877613067627,
          -6.436202049255371,
          3.9322736263275146,
          -4.357245922088623,
          -5.576180934906006,
          -0.44005802273750305,
          18.498409271240234,
          -13.512476921081543,
          8.000378608703613,
          -11.007500648498535,
          -11.22810173034668,
          -0.07124680280685425,
          -1.2617274522781372,
          -9.418397903442383,
          11.6592435836792,
          -7.150318145751953,
          3.6609325408935547,
          -17.249303817749023,
          -12.094795227050781,
          19.250730514526367,
          14.405037879943848,
          4.08558988571167,
          -18.02849769592285,
          2.7927870750427246,
          2.500147819519043,
          21.3276309967041,
          -3.1644768714904785,
          -17.861501693725586,
          -4.637434959411621,
          -0.6615943312644958,
          19.864322662353516,
          15.510538101196289,
          1.1017109155654907,
          -1.5190056562423706,
          19.229114532470703,
          7.859781742095947,
          5.848193168640137,
          -11.470541954040527,
          -10.536725044250488,
          10.227453231811523,
          -4.105264186859131,
          10.79603099822998,
          -5.092905044555664,
          -3.258251667022705,
          -13.168373107910156,
          -3.4677627086639404,
          -6.2008585929870605,
          -4.73875093460083,
          -3.6054115295410156,
          -6.156787395477295,
          13.997760772705078,
          -11.037620544433594,
          -2.9412312507629395,
          -12.990092277526855,
          19.595003128051758,
          2.7341790199279785,
          -9.624667167663574,
          16.324485778808594,
          -8.41073226928711,
          -11.87891674041748,
          11.969913482666016,
          -3.2790849208831787,
          9.235156059265137,
          -6.739739894866943,
          20.600765228271484,
          2.5363314151763916,
          1.0506489276885986,
          12.531068801879883,
          -7.660174369812012,
          -14.152981758117676,
          -3.813554286956787,
          0.45279833674430847,
          8.514290809631348,
          15.546731948852539,
          16.179325103759766,
          -6.67827844619751,
          2.913942813873291,
          5.566590785980225,
          -10.04295825958252,
          2.1485166549682617,
          -5.326782703399658,
          21.739866256713867,
          -3.582693338394165,
          -4.460275173187256,
          -17.036001205444336,
          19.744304656982422
         ]
        },
        {
         "marker": {
          "color": "rgba(50, 171, 96, 1.0)",
          "line": {
           "width": 1.3
          },
          "opacity": 0.8,
          "size": 12,
          "symbol": "circle"
         },
         "mode": "markers",
         "name": "Couple 3",
         "text": [
          "ligne",
          "bravo",
          "in",
          "aujourdhui",
          "rend",
          "nan",
          "pire",
          "chaque",
          "ya",
          "change",
          "mdrrr",
          "😆",
          "connais",
          "clairement",
          "an",
          "min",
          "pourtant",
          "écouter",
          "magnifique",
          "o",
          "force",
          "doigts",
          "perso",
          "complètement",
          "grand",
          "content",
          "elles",
          "ptn",
          "tl",
          "inquiète",
          "tt",
          "filles",
          "hyper",
          "no",
          "😪",
          "facile",
          "ailleurs",
          "grande",
          "putain",
          "pense",
          "super",
          "savez",
          "🤔",
          "autant",
          "mdrrrr",
          "sortie",
          "partie",
          "moment",
          "bonjour",
          "vos",
          "tf1",
          "verra",
          "😢",
          "dois",
          "eux",
          "génial",
          "faites",
          "gars",
          "pcq",
          "coup",
          "quelques",
          "laisser",
          "contente",
          "serai",
          "jeux",
          "hyper",
          "stage",
          "aurait",
          "chaud",
          "joue",
          "janvier",
          "trucs",
          "😔",
          "heureux",
          "quelle",
          "change",
          "chat",
          "peur",
          "jui",
          "réponse",
          "heureuse",
          "sport",
          "eu",
          "parti",
          "pire",
          "corps",
          "15",
          "stp",
          "the",
          "quel",
          "semaine",
          "maison",
          "porte",
          "8",
          "bac",
          "changé",
          "vrais",
          "ahah",
          "😩",
          "allez"
         ],
         "textfont": {
          "color": "#4D5663"
         },
         "type": "scatter",
         "x": [
          9.452169418334961,
          -8.155678749084473,
          1.6643705368041992,
          5.387698650360107,
          0.003060688963159919,
          -11.2571439743042,
          9.340387344360352,
          9.065939903259277,
          12.336418151855469,
          1.57737135887146,
          0.08024030923843384,
          -12.853409767150879,
          1.9140546321868896,
          0.6560247540473938,
          6.100495338439941,
          10.89786434173584,
          -4.250369071960449,
          16.07731819152832,
          -16.804349899291992,
          -10.654074668884277,
          3.8880960941314697,
          13.798179626464844,
          1.3851573467254639,
          -16.62477684020996,
          -2.5062506198883057,
          -22.945465087890625,
          17.643644332885742,
          12.308791160583496,
          -0.7131711840629578,
          -3.4244375228881836,
          10.301289558410645,
          -10.034895896911621,
          -17.78109359741211,
          -21.080171585083008,
          -19.44910430908203,
          -19.168123245239258,
          9.866531372070312,
          -6.63789176940918,
          12.430649757385254,
          4.9426984786987305,
          -17.344036102294922,
          18.005016326904297,
          -13.09144401550293,
          10.789528846740723,
          -8.61330509185791,
          6.4839653968811035,
          -0.03840731084346771,
          9.826239585876465,
          17.873865127563477,
          17.49057388305664,
          5.151233196258545,
          -3.327284574508667,
          11.017780303955078,
          5.974577903747559,
          -9.890581130981445,
          -18.558547973632812,
          18.193220138549805,
          -9.491958618164062,
          3.759904146194458,
          12.16498851776123,
          13.054805755615234,
          14.526837348937988,
          -22.649324417114258,
          4.061044216156006,
          -2.5984394550323486,
          -17.952302932739258,
          6.646796226501465,
          12.58912181854248,
          -17.975704193115234,
          1.0505001544952393,
          9.945505142211914,
          14.779229164123535,
          -17.154586791992188,
          -22.263729095458984,
          11.922000885009766,
          1.762338399887085,
          -16.344715118408203,
          9.776457786560059,
          -11.965105056762695,
          0.1505686342716217,
          -22.290218353271484,
          13.552619934082031,
          9.495048522949219,
          1.8616153001785278,
          9.338896751403809,
          -16.191303253173828,
          12.290282249450684,
          -8.01439380645752,
          2.5294923782348633,
          8.18880844116211,
          8.416911125183105,
          2.1685187816619873,
          -1.7103599309921265,
          11.181020736694336,
          9.40396785736084,
          -2.4820756912231445,
          -9.934152603149414,
          -7.229219913482666,
          -14.262701034545898,
          16.22797966003418
         ],
         "y": [
          18.710390090942383,
          -17.57639503479004,
          22.210342407226562,
          20.144672393798828,
          -19.272125244140625,
          -11.413025856018066,
          16.676225662231445,
          24.215354919433594,
          12.75144100189209,
          -17.839704513549805,
          -10.82013988494873,
          -10.388720512390137,
          -21.35965919494629,
          -8.892176628112793,
          22.560976028442383,
          22.261642456054688,
          -9.737316131591797,
          14.924644470214844,
          -14.565438270568848,
          -1.9284663200378418,
          -12.129703521728516,
          5.946160316467285,
          18.274667739868164,
          4.103353023529053,
          -14.543269157409668,
          -8.5076904296875,
          -6.9221649169921875,
          14.918864250183105,
          -13.965081214904785,
          -18.625076293945312,
          15.594024658203125,
          -20.673973083496094,
          -11.545707702636719,
          -8.539015769958496,
          -5.779906272888184,
          -2.3336944580078125,
          -6.711456775665283,
          -14.077096939086914,
          14.266144752502441,
          -20.40863609313965,
          -14.402543067932129,
          -11.620482444763184,
          -11.649837493896484,
          -7.307759761810303,
          -12.068021774291992,
          20.088985443115234,
          15.914374351501465,
          17.53119468688965,
          -12.670068740844727,
          6.794347763061523,
          -1.5080090761184692,
          -18.345808029174805,
          -5.324247360229492,
          -19.66264533996582,
          -19.407339096069336,
          -10.699496269226074,
          -12.259925842285156,
          -19.76803970336914,
          15.728593826293945,
          15.796354293823242,
          22.703054428100586,
          -8.320823669433594,
          -9.862547874450684,
          -18.394174575805664,
          19.76245880126953,
          -11.60309886932373,
          20.994930267333984,
          -6.926115036010742,
          -9.569897651672363,
          -16.645217895507812,
          23.1674747467041,
          7.806860446929932,
          -5.207306861877441,
          -7.272439479827881,
          12.11758041381836,
          -17.527151107788086,
          -9.613347053527832,
          -4.061961650848389,
          -12.289913177490234,
          -13.512725830078125,
          -9.20980453491211,
          17.335338592529297,
          10.754716873168945,
          22.634431838989258,
          16.67630958557129,
          6.781387805938721,
          22.794950485229492,
          -9.871349334716797,
          23.30237579345703,
          13.319540977478027,
          24.700542449951172,
          -14.323973655700684,
          -13.523770332336426,
          23.209426879882812,
          20.70025062561035,
          19.4334716796875,
          -21.151094436645508,
          -12.121204376220703,
          -11.116925239562988,
          -8.83586311340332
         ]
        },
        {
         "marker": {
          "color": "rgba(128, 0, 128, 1.0)",
          "line": {
           "width": 1.3
          },
          "opacity": 0.8,
          "size": 12,
          "symbol": "circle"
         },
         "mode": "markers",
         "name": "Couple 4",
         "text": [
          "pour",
          "qui",
          "😭",
          "vu",
          "mal",
          "y",
          "te",
          "faire",
          "qui",
          "lui",
          "fais",
          "ça",
          "qu",
          "elle",
          "est",
          "ou",
          "toujours",
          "vrai",
          "comme",
          "fais",
          "me",
          "moi",
          "donc",
          "comment",
          "es",
          "sur",
          "faut",
          "rien",
          "comme",
          "d",
          "vous",
          "alors",
          "m",
          "️",
          "à",
          "trop",
          "ma",
          "dire",
          "sur",
          "mal",
          "jamais",
          "merci",
          "s",
          "mdr",
          "lowfrequencyword",
          "bien",
          "temps",
          "voir",
          "lui",
          "y",
          "2",
          "vous",
          "ta",
          "bon",
          "on",
          "donc",
          "ton",
          "ta",
          "peut",
          "aime",
          "être",
          "envie",
          "2",
          "que",
          "ont",
          "rien",
          "sa",
          "ne",
          "nous",
          "avoir",
          "on",
          "ai",
          "vie",
          "que",
          "très",
          "donc",
          "vais",
          "être",
          "dire",
          "ne",
          "bonne",
          "sont",
          "alors",
          "qu",
          "j",
          "nickname",
          "là",
          "ca",
          "va",
          "encore",
          "sais",
          "tous",
          "moi",
          "temps",
          "mes",
          "après",
          "rien",
          "sur",
          "plus",
          "avoir"
         ],
         "textfont": {
          "color": "#4D5663"
         },
         "type": "scatter",
         "x": [
          13.997522354125977,
          18.504871368408203,
          -17.606456756591797,
          9.00961971282959,
          17.451051712036133,
          20.92559242248535,
          13.924538612365723,
          19.25319480895996,
          18.891666412353516,
          17.6090087890625,
          2.716787576675415,
          12.744693756103516,
          19.12946128845215,
          13.423359870910645,
          -4.136256217956543,
          9.500509262084961,
          14.695525169372559,
          -14.159238815307617,
          -8.95063304901123,
          2.716787815093994,
          21.264347076416016,
          11.042364120483398,
          13.756680488586426,
          14.631109237670898,
          1.4011518955230713,
          9.724458694458008,
          15.453678131103516,
          21.454648971557617,
          -9.112003326416016,
          -2.5310871601104736,
          23.11478614807129,
          6.45804500579834,
          18.07071876525879,
          -14.977133750915527,
          16.75445556640625,
          -12.672759056091309,
          21.792760848999023,
          17.291257858276367,
          10.21153450012207,
          17.450654983520508,
          21.611835479736328,
          -11.916958808898926,
          16.714216232299805,
          -6.710919380187988,
          -3.1972877979278564,
          -23.330097198486328,
          14.807286262512207,
          13.251297950744629,
          17.13641929626465,
          20.925703048706055,
          12.606096267700195,
          23.11478614807129,
          8.956009864807129,
          -11.19114875793457,
          14.216156005859375,
          14.08112621307373,
          8.207840919494629,
          8.956009864807129,
          11.625551223754883,
          -0.5258303284645081,
          6.112137794494629,
          19.30013656616211,
          12.606096267700195,
          18.366430282592773,
          -5.529757499694824,
          20.811004638671875,
          19.130033493041992,
          19.544239044189453,
          18.001651763916016,
          16.910165786743164,
          14.2387113571167,
          7.310445785522461,
          4.651579856872559,
          18.366430282592773,
          -17.664257049560547,
          14.277546882629395,
          7.355910301208496,
          6.112137794494629,
          17.826473236083984,
          19.723859786987305,
          -5.114217281341553,
          -0.7394283413887024,
          6.45804500579834,
          19.12946128845215,
          14.357257843017578,
          -22.569257736206055,
          10.494577407836914,
          12.949258804321289,
          10.971068382263184,
          15.311188697814941,
          4.1582465171813965,
          16.927860260009766,
          11.042364120483398,
          14.81706714630127,
          19.227245330810547,
          12.109582901000977,
          21.043285369873047,
          10.128081321716309,
          18.38373565673828,
          16.910165786743164
         ],
         "y": [
          10.447869300842285,
          -3.045396327972412,
          -9.390523910522461,
          12.584851264953613,
          14.372247695922852,
          -10.921207427978516,
          -11.058911323547363,
          -12.610793113708496,
          -3.1224093437194824,
          -9.071784973144531,
          -22.565542221069336,
          -11.03807258605957,
          -1.6020671129226685,
          -13.131963729858398,
          -15.368579864501953,
          12.483489990234375,
          7.185973644256592,
          -6.347080230712891,
          -18.878215789794922,
          -22.565542221069336,
          -7.6592559814453125,
          -6.510322570800781,
          18.551542282104492,
          -6.389276504516602,
          -23.453710556030273,
          9.54660701751709,
          -11.538681030273438,
          -6.379075527191162,
          -18.750551223754883,
          22.324159622192383,
          -7.104060173034668,
          -15.015356063842773,
          -8.235109329223633,
          -16.65825843811035,
          10.139509201049805,
          -17.70838165283203,
          -11.619019508361816,
          -10.198325157165527,
          9.74618911743164,
          14.37212085723877,
          -4.828042030334473,
          -17.845495223999023,
          -6.921324253082275,
          17.941987991333008,
          19.460346221923828,
          -10.098677635192871,
          11.674389839172363,
          10.141291618347168,
          -9.065104484558105,
          -10.922043800354004,
          23.710947036743164,
          -7.104060173034668,
          -17.841630935668945,
          -6.280001640319824,
          -11.897424697875977,
          18.786640167236328,
          12.604284286499023,
          -17.841630935668945,
          -11.502490997314453,
          -22.952091217041016,
          -18.483003616333008,
          -8.178150177001953,
          23.710947036743164,
          9.797386169433594,
          21.861467361450195,
          -6.665310859680176,
          -10.273587226867676,
          -5.91235876083374,
          -5.004248142242432,
          11.916402816772461,
          -12.29500961303711,
          16.254281997680664,
          -17.158952713012695,
          9.797386169433594,
          -14.80860710144043,
          18.398204803466797,
          -20.269573211669922,
          -18.48300552368164,
          -10.050437927246094,
          -5.431634902954102,
          -17.579570770263672,
          -23.067405700683594,
          -15.015356063842773,
          -1.6020671129226685,
          23.860050201416016,
          -7.39838171005249,
          14.655280113220215,
          -11.489265441894531,
          -12.664944648742676,
          15.849575996398926,
          -20.905656814575195,
          7.096037864685059,
          -6.510322570800781,
          11.669205665588379,
          11.07081413269043,
          18.895856857299805,
          -6.0367279052734375,
          9.35026741027832,
          14.420531272888184,
          11.916402816772461
         ]
        }
       ],
       "layout": {
        "legend": {
         "bgcolor": "#F5F6F9",
         "font": {
          "color": "#4D5663"
         }
        },
        "paper_bgcolor": "#F5F6F9",
        "plot_bgcolor": "#F5F6F9",
        "template": {
         "data": {
          "bar": [
           {
            "error_x": {
             "color": "#2a3f5f"
            },
            "error_y": {
             "color": "#2a3f5f"
            },
            "marker": {
             "line": {
              "color": "#E5ECF6",
              "width": 0.5
             }
            },
            "type": "bar"
           }
          ],
          "barpolar": [
           {
            "marker": {
             "line": {
              "color": "#E5ECF6",
              "width": 0.5
             }
            },
            "type": "barpolar"
           }
          ],
          "carpet": [
           {
            "aaxis": {
             "endlinecolor": "#2a3f5f",
             "gridcolor": "white",
             "linecolor": "white",
             "minorgridcolor": "white",
             "startlinecolor": "#2a3f5f"
            },
            "baxis": {
             "endlinecolor": "#2a3f5f",
             "gridcolor": "white",
             "linecolor": "white",
             "minorgridcolor": "white",
             "startlinecolor": "#2a3f5f"
            },
            "type": "carpet"
           }
          ],
          "choropleth": [
           {
            "colorbar": {
             "outlinewidth": 0,
             "ticks": ""
            },
            "type": "choropleth"
           }
          ],
          "contour": [
           {
            "colorbar": {
             "outlinewidth": 0,
             "ticks": ""
            },
            "colorscale": [
             [
              0,
              "#0d0887"
             ],
             [
              0.1111111111111111,
              "#46039f"
             ],
             [
              0.2222222222222222,
              "#7201a8"
             ],
             [
              0.3333333333333333,
              "#9c179e"
             ],
             [
              0.4444444444444444,
              "#bd3786"
             ],
             [
              0.5555555555555556,
              "#d8576b"
             ],
             [
              0.6666666666666666,
              "#ed7953"
             ],
             [
              0.7777777777777778,
              "#fb9f3a"
             ],
             [
              0.8888888888888888,
              "#fdca26"
             ],
             [
              1,
              "#f0f921"
             ]
            ],
            "type": "contour"
           }
          ],
          "contourcarpet": [
           {
            "colorbar": {
             "outlinewidth": 0,
             "ticks": ""
            },
            "type": "contourcarpet"
           }
          ],
          "heatmap": [
           {
            "colorbar": {
             "outlinewidth": 0,
             "ticks": ""
            },
            "colorscale": [
             [
              0,
              "#0d0887"
             ],
             [
              0.1111111111111111,
              "#46039f"
             ],
             [
              0.2222222222222222,
              "#7201a8"
             ],
             [
              0.3333333333333333,
              "#9c179e"
             ],
             [
              0.4444444444444444,
              "#bd3786"
             ],
             [
              0.5555555555555556,
              "#d8576b"
             ],
             [
              0.6666666666666666,
              "#ed7953"
             ],
             [
              0.7777777777777778,
              "#fb9f3a"
             ],
             [
              0.8888888888888888,
              "#fdca26"
             ],
             [
              1,
              "#f0f921"
             ]
            ],
            "type": "heatmap"
           }
          ],
          "heatmapgl": [
           {
            "colorbar": {
             "outlinewidth": 0,
             "ticks": ""
            },
            "colorscale": [
             [
              0,
              "#0d0887"
             ],
             [
              0.1111111111111111,
              "#46039f"
             ],
             [
              0.2222222222222222,
              "#7201a8"
             ],
             [
              0.3333333333333333,
              "#9c179e"
             ],
             [
              0.4444444444444444,
              "#bd3786"
             ],
             [
              0.5555555555555556,
              "#d8576b"
             ],
             [
              0.6666666666666666,
              "#ed7953"
             ],
             [
              0.7777777777777778,
              "#fb9f3a"
             ],
             [
              0.8888888888888888,
              "#fdca26"
             ],
             [
              1,
              "#f0f921"
             ]
            ],
            "type": "heatmapgl"
           }
          ],
          "histogram": [
           {
            "marker": {
             "colorbar": {
              "outlinewidth": 0,
              "ticks": ""
             }
            },
            "type": "histogram"
           }
          ],
          "histogram2d": [
           {
            "colorbar": {
             "outlinewidth": 0,
             "ticks": ""
            },
            "colorscale": [
             [
              0,
              "#0d0887"
             ],
             [
              0.1111111111111111,
              "#46039f"
             ],
             [
              0.2222222222222222,
              "#7201a8"
             ],
             [
              0.3333333333333333,
              "#9c179e"
             ],
             [
              0.4444444444444444,
              "#bd3786"
             ],
             [
              0.5555555555555556,
              "#d8576b"
             ],
             [
              0.6666666666666666,
              "#ed7953"
             ],
             [
              0.7777777777777778,
              "#fb9f3a"
             ],
             [
              0.8888888888888888,
              "#fdca26"
             ],
             [
              1,
              "#f0f921"
             ]
            ],
            "type": "histogram2d"
           }
          ],
          "histogram2dcontour": [
           {
            "colorbar": {
             "outlinewidth": 0,
             "ticks": ""
            },
            "colorscale": [
             [
              0,
              "#0d0887"
             ],
             [
              0.1111111111111111,
              "#46039f"
             ],
             [
              0.2222222222222222,
              "#7201a8"
             ],
             [
              0.3333333333333333,
              "#9c179e"
             ],
             [
              0.4444444444444444,
              "#bd3786"
             ],
             [
              0.5555555555555556,
              "#d8576b"
             ],
             [
              0.6666666666666666,
              "#ed7953"
             ],
             [
              0.7777777777777778,
              "#fb9f3a"
             ],
             [
              0.8888888888888888,
              "#fdca26"
             ],
             [
              1,
              "#f0f921"
             ]
            ],
            "type": "histogram2dcontour"
           }
          ],
          "mesh3d": [
           {
            "colorbar": {
             "outlinewidth": 0,
             "ticks": ""
            },
            "type": "mesh3d"
           }
          ],
          "parcoords": [
           {
            "line": {
             "colorbar": {
              "outlinewidth": 0,
              "ticks": ""
             }
            },
            "type": "parcoords"
           }
          ],
          "pie": [
           {
            "automargin": true,
            "type": "pie"
           }
          ],
          "scatter": [
           {
            "marker": {
             "colorbar": {
              "outlinewidth": 0,
              "ticks": ""
             }
            },
            "type": "scatter"
           }
          ],
          "scatter3d": [
           {
            "line": {
             "colorbar": {
              "outlinewidth": 0,
              "ticks": ""
             }
            },
            "marker": {
             "colorbar": {
              "outlinewidth": 0,
              "ticks": ""
             }
            },
            "type": "scatter3d"
           }
          ],
          "scattercarpet": [
           {
            "marker": {
             "colorbar": {
              "outlinewidth": 0,
              "ticks": ""
             }
            },
            "type": "scattercarpet"
           }
          ],
          "scattergeo": [
           {
            "marker": {
             "colorbar": {
              "outlinewidth": 0,
              "ticks": ""
             }
            },
            "type": "scattergeo"
           }
          ],
          "scattergl": [
           {
            "marker": {
             "colorbar": {
              "outlinewidth": 0,
              "ticks": ""
             }
            },
            "type": "scattergl"
           }
          ],
          "scattermapbox": [
           {
            "marker": {
             "colorbar": {
              "outlinewidth": 0,
              "ticks": ""
             }
            },
            "type": "scattermapbox"
           }
          ],
          "scatterpolar": [
           {
            "marker": {
             "colorbar": {
              "outlinewidth": 0,
              "ticks": ""
             }
            },
            "type": "scatterpolar"
           }
          ],
          "scatterpolargl": [
           {
            "marker": {
             "colorbar": {
              "outlinewidth": 0,
              "ticks": ""
             }
            },
            "type": "scatterpolargl"
           }
          ],
          "scatterternary": [
           {
            "marker": {
             "colorbar": {
              "outlinewidth": 0,
              "ticks": ""
             }
            },
            "type": "scatterternary"
           }
          ],
          "surface": [
           {
            "colorbar": {
             "outlinewidth": 0,
             "ticks": ""
            },
            "colorscale": [
             [
              0,
              "#0d0887"
             ],
             [
              0.1111111111111111,
              "#46039f"
             ],
             [
              0.2222222222222222,
              "#7201a8"
             ],
             [
              0.3333333333333333,
              "#9c179e"
             ],
             [
              0.4444444444444444,
              "#bd3786"
             ],
             [
              0.5555555555555556,
              "#d8576b"
             ],
             [
              0.6666666666666666,
              "#ed7953"
             ],
             [
              0.7777777777777778,
              "#fb9f3a"
             ],
             [
              0.8888888888888888,
              "#fdca26"
             ],
             [
              1,
              "#f0f921"
             ]
            ],
            "type": "surface"
           }
          ],
          "table": [
           {
            "cells": {
             "fill": {
              "color": "#EBF0F8"
             },
             "line": {
              "color": "white"
             }
            },
            "header": {
             "fill": {
              "color": "#C8D4E3"
             },
             "line": {
              "color": "white"
             }
            },
            "type": "table"
           }
          ]
         },
         "layout": {
          "annotationdefaults": {
           "arrowcolor": "#2a3f5f",
           "arrowhead": 0,
           "arrowwidth": 1
          },
          "coloraxis": {
           "colorbar": {
            "outlinewidth": 0,
            "ticks": ""
           }
          },
          "colorscale": {
           "diverging": [
            [
             0,
             "#8e0152"
            ],
            [
             0.1,
             "#c51b7d"
            ],
            [
             0.2,
             "#de77ae"
            ],
            [
             0.3,
             "#f1b6da"
            ],
            [
             0.4,
             "#fde0ef"
            ],
            [
             0.5,
             "#f7f7f7"
            ],
            [
             0.6,
             "#e6f5d0"
            ],
            [
             0.7,
             "#b8e186"
            ],
            [
             0.8,
             "#7fbc41"
            ],
            [
             0.9,
             "#4d9221"
            ],
            [
             1,
             "#276419"
            ]
           ],
           "sequential": [
            [
             0,
             "#0d0887"
            ],
            [
             0.1111111111111111,
             "#46039f"
            ],
            [
             0.2222222222222222,
             "#7201a8"
            ],
            [
             0.3333333333333333,
             "#9c179e"
            ],
            [
             0.4444444444444444,
             "#bd3786"
            ],
            [
             0.5555555555555556,
             "#d8576b"
            ],
            [
             0.6666666666666666,
             "#ed7953"
            ],
            [
             0.7777777777777778,
             "#fb9f3a"
            ],
            [
             0.8888888888888888,
             "#fdca26"
            ],
            [
             1,
             "#f0f921"
            ]
           ],
           "sequentialminus": [
            [
             0,
             "#0d0887"
            ],
            [
             0.1111111111111111,
             "#46039f"
            ],
            [
             0.2222222222222222,
             "#7201a8"
            ],
            [
             0.3333333333333333,
             "#9c179e"
            ],
            [
             0.4444444444444444,
             "#bd3786"
            ],
            [
             0.5555555555555556,
             "#d8576b"
            ],
            [
             0.6666666666666666,
             "#ed7953"
            ],
            [
             0.7777777777777778,
             "#fb9f3a"
            ],
            [
             0.8888888888888888,
             "#fdca26"
            ],
            [
             1,
             "#f0f921"
            ]
           ]
          },
          "colorway": [
           "#636efa",
           "#EF553B",
           "#00cc96",
           "#ab63fa",
           "#FFA15A",
           "#19d3f3",
           "#FF6692",
           "#B6E880",
           "#FF97FF",
           "#FECB52"
          ],
          "font": {
           "color": "#2a3f5f"
          },
          "geo": {
           "bgcolor": "white",
           "lakecolor": "white",
           "landcolor": "#E5ECF6",
           "showlakes": true,
           "showland": true,
           "subunitcolor": "white"
          },
          "hoverlabel": {
           "align": "left"
          },
          "hovermode": "closest",
          "mapbox": {
           "style": "light"
          },
          "paper_bgcolor": "white",
          "plot_bgcolor": "#E5ECF6",
          "polar": {
           "angularaxis": {
            "gridcolor": "white",
            "linecolor": "white",
            "ticks": ""
           },
           "bgcolor": "#E5ECF6",
           "radialaxis": {
            "gridcolor": "white",
            "linecolor": "white",
            "ticks": ""
           }
          },
          "scene": {
           "xaxis": {
            "backgroundcolor": "#E5ECF6",
            "gridcolor": "white",
            "gridwidth": 2,
            "linecolor": "white",
            "showbackground": true,
            "ticks": "",
            "zerolinecolor": "white"
           },
           "yaxis": {
            "backgroundcolor": "#E5ECF6",
            "gridcolor": "white",
            "gridwidth": 2,
            "linecolor": "white",
            "showbackground": true,
            "ticks": "",
            "zerolinecolor": "white"
           },
           "zaxis": {
            "backgroundcolor": "#E5ECF6",
            "gridcolor": "white",
            "gridwidth": 2,
            "linecolor": "white",
            "showbackground": true,
            "ticks": "",
            "zerolinecolor": "white"
           }
          },
          "shapedefaults": {
           "line": {
            "color": "#2a3f5f"
           }
          },
          "ternary": {
           "aaxis": {
            "gridcolor": "white",
            "linecolor": "white",
            "ticks": ""
           },
           "baxis": {
            "gridcolor": "white",
            "linecolor": "white",
            "ticks": ""
           },
           "bgcolor": "#E5ECF6",
           "caxis": {
            "gridcolor": "white",
            "linecolor": "white",
            "ticks": ""
           }
          },
          "title": {
           "x": 0.05
          },
          "xaxis": {
           "automargin": true,
           "gridcolor": "white",
           "linecolor": "white",
           "ticks": "",
           "title": {
            "standoff": 15
           },
           "zerolinecolor": "white",
           "zerolinewidth": 2
          },
          "yaxis": {
           "automargin": true,
           "gridcolor": "white",
           "linecolor": "white",
           "ticks": "",
           "title": {
            "standoff": 15
           },
           "zerolinecolor": "white",
           "zerolinewidth": 2
          }
         }
        },
        "title": {
         "font": {
          "color": "#4D5663"
         },
         "text": "TSNE"
        },
        "xaxis": {
         "gridcolor": "#E1E5ED",
         "showgrid": true,
         "tickfont": {
          "color": "#4D5663"
         },
         "title": {
          "font": {
           "color": "#4D5663"
          },
          "text": "Axe 1"
         },
         "zerolinecolor": "#E1E5ED"
        },
        "yaxis": {
         "gridcolor": "#E1E5ED",
         "showgrid": true,
         "tickfont": {
          "color": "#4D5663"
         },
         "title": {
          "font": {
           "color": "#4D5663"
          },
          "text": "Axe 2"
         },
         "zerolinecolor": "#E1E5ED"
        }
       }
      },
      "text/html": [
       "<div>\n",
       "        \n",
       "        \n",
       "            <div id=\"4b6f8404-d92f-446b-8aa3-0df8f00d97cb\" class=\"plotly-graph-div\" style=\"height:525px; width:100%;\"></div>\n",
       "            <script type=\"text/javascript\">\n",
       "                require([\"plotly\"], function(Plotly) {\n",
       "                    window.PLOTLYENV=window.PLOTLYENV || {};\n",
       "                    window.PLOTLYENV.BASE_URL='https://plot.ly';\n",
       "                    \n",
       "                if (document.getElementById(\"4b6f8404-d92f-446b-8aa3-0df8f00d97cb\")) {\n",
       "                    Plotly.newPlot(\n",
       "                        '4b6f8404-d92f-446b-8aa3-0df8f00d97cb',\n",
       "                        [{\"marker\": {\"color\": \"rgba(255, 153, 51, 1.0)\", \"line\": {\"width\": 1.3}, \"opacity\": 0.8, \"size\": 12, \"symbol\": \"circle\"}, \"mode\": \"markers\", \"name\": \"Couple 1\", \"text\": [\"jespere\", \"expres\", \"unknown\", \"tite\", \"35\", \"ipad\", \"eme\", \"rel\\u00e2che\", \"top1\", \"chiants\", \"libres\", \"europeans\", \"investit\", \"usualsuspects\", \"davoir\", \"n\\u00e9ant\", \"mariages\", \"clinique\", \"scandaleux\", \"hallucinant\", \"josefine\", \"taule\", \"myl\\u00e8ne\", \"mouchoirs\", \"\\ud83c\\uddea\", \"forts\", \"mal\\u00e9diction\", \"mounet\", \"imp\\u00f4t\", \"\\ud83c\\uddf8\", \"union\", \"od\", \"refus\\u00e9\", \"animes\", \"gouffre\", \"keufs\", \"glr\", \"chips\", \"fallu\", \"nah\", \"jambon\", \"bouh\", \"grotte\", \"s\\u00e9nat\", \"pseudos\", \"etaient\", \"hac\", \"lazare\", \"cou\", \"attitude\", \"parlementaire\", \"irrespectueux\", \"d\\u00e9grad\\u00e9\", \"nain\", \"friendzone\", \"pl\", \"audace\", \"jambon\", \"autorit\\u00e9\", \"puisqu\", \"abandonne\", \"bonus\", \"enregistre\", \"insultes\", \"chaines\", \"laaaaa\", \"v\\u00e9ritable\", \"salles\", \"steak\", \"formule\", \"lignes\", \"applis\", \"\\ud83d\\udd35\", \"algerie\", \"sentie\", \"\\ufffd\", \"\\ud83c\\uddf5\", \"paradise\", \"p\\u00e9dophile\", \"ch\", \"solitude\", \"fesse\", \"1500\", \"honn\\u00eates\", \"jmet\", \"mmmh\", \"opposition\", \"cliqu\\u00e9\", \"soja\", \"george\", \"lev\\u00e9\", \"she\", \"dictionnaire\", \"foutais\", \"agenda\", \"emmerdale\", \"boo\", \"connect\\u00e9\", \"permanente\", \"c\\u00f4toie\"], \"textfont\": {\"color\": \"#4D5663\"}, \"type\": \"scatter\", \"x\": [-1.192946195602417, -1.1379859447479248, -2.0960445404052734, -4.332923412322998, -1.4859633445739746, -3.4245879650115967, 2.6901745796203613, -0.6469969749450684, -4.7768096923828125, 0.04162904620170593, 2.7282581329345703, -11.204363822937012, -2.4981143474578857, -3.4904329776763916, -7.7507734298706055, -0.7270959615707397, -1.0419821739196777, -2.3669679164886475, -6.282296657562256, -6.782231330871582, -5.411334037780762, -1.2150269746780396, -3.3302161693573, 3.973761796951294, -17.971908569335938, -4.292373180389404, -1.6807796955108643, -6.664587020874023, -1.7607208490371704, -18.95638084411621, -3.155992269515991, -0.28415393829345703, -4.698363304138184, 2.3636474609375, 0.5509158372879028, 1.264875054359436, -6.098356246948242, -4.2096943855285645, -0.11330336332321167, -3.097320318222046, -3.7696385383605957, -0.9736588597297668, -4.188783645629883, -0.1500263661146164, 3.4977753162384033, 5.017984390258789, 1.5226448774337769, -5.103847980499268, -8.349282264709473, -7.268531799316406, -3.063622236251831, -6.229334831237793, -6.46774435043335, -2.0055346488952637, 0.9134512543678284, -10.057022094726562, -3.781262159347534, -4.144902229309082, -1.1864835023880005, 2.186077356338501, -6.622348785400391, -9.401934623718262, -4.608933448791504, 4.7775750160217285, 0.4037545919418335, -5.8473992347717285, -16.238269805908203, -1.4540516138076782, -5.341489791870117, -7.233310699462891, 2.560661792755127, -1.7091453075408936, -19.032546997070312, 0.08232900500297546, -0.40040576457977295, 1.0181268453598022, -16.483863830566406, -3.3474981784820557, -9.069253921508789, -7.726245403289795, -6.467758655548096, -8.543346405029297, -4.176770210266113, -0.6013553738594055, -5.422077655792236, -2.571791648864746, -2.595733642578125, -2.5544705390930176, -0.33013004064559937, -0.890745997428894, -11.57416820526123, -2.1721715927124023, -5.187091827392578, -1.9013261795043945, -7.9334540367126465, -5.491952419281006, -5.526456832885742, -9.381876945495605, 0.13326185941696167, 3.0146212577819824], \"y\": [-7.689177513122559, -1.6152256727218628, 6.748257160186768, -9.133077621459961, 13.759950637817383, 14.668354034423828, 18.29710578918457, -5.113887310028076, 6.169569492340088, 1.1879775524139404, 1.103255033493042, 2.2878634929656982, 5.421645641326904, 1.6834183931350708, 7.012896537780762, 7.476795196533203, 9.708230018615723, 4.022332191467285, -1.4702227115631104, 1.229166030883789, 4.353702068328857, -0.5427370667457581, 5.614884853363037, 4.252647399902344, 1.0241138935089111, -2.3931965827941895, -0.017041269689798355, 9.041688919067383, 5.711771488189697, 1.038377046585083, 8.046280860900879, 10.166910171508789, 4.62117338180542, 9.773181915283203, 7.0268354415893555, 4.1593499183654785, -2.5456762313842773, 3.979942560195923, -3.660968542098999, -5.052283763885498, 9.4297513961792, 3.55959153175354, 6.0578203201293945, 3.8391997814178467, 4.16485071182251, 1.420280933380127, 7.473291873931885, 14.740530014038086, 6.511140823364258, 0.5919854640960693, 2.1893723011016846, 7.3100972175598145, 4.670557975769043, 2.6239218711853027, 1.9833630323410034, 1.5792292356491089, -0.4409888684749603, 9.05909538269043, 1.6820886135101318, 0.6353965997695923, 14.238341331481934, 5.438106536865234, 0.534912645816803, 0.9058918952941895, 9.553391456604004, 3.597039222717285, 2.9091076850891113, 8.602100372314453, -0.6740090847015381, -0.9897705912590027, 10.948110580444336, 11.274935722351074, -0.7183706164360046, 6.421231746673584, -0.9259973764419556, 0.6432773470878601, 0.0522627979516983, 4.6592912673950195, 7.233645915985107, 2.2485218048095703, 10.932806968688965, 0.18692906200885773, 12.014275550842285, 2.191474676132202, -5.498161315917969, 1.164999008178711, -0.8702040314674377, 12.461099624633789, 7.854163646697998, 4.787906169891357, 4.871431827545166, 8.9297513961792, 8.806865692138672, -5.915402889251709, -0.6312729120254517, 1.4020938873291016, 2.919731378555298, 6.490869998931885, 3.274963140487671, -0.5541248321533203]}, {\"marker\": {\"color\": \"rgba(55, 128, 191, 1.0)\", \"line\": {\"width\": 1.3}, \"opacity\": 0.8, \"size\": 12, \"symbol\": \"circle\"}, \"mode\": \"markers\", \"name\": \"Couple 2\", \"text\": [\"jvoulais\", \"v\\u00e9rifier\", \"r\\u00e9flexion\", \"ha\", \"ajouter\", \"solo\", \"entrain\", \"\\ud83c\\uddeb\", \"impressionnant\", \"neige\", \"g\\u00e8re\", \"taff\", \"passion\", \"mens\", \"nez\", \"comptes\", \"back\", \"carri\\u00e8re\", \"\\ud83d\\ude1e\", \"sophie\", \"permis\", \"termine\", \"journal\", \"dise\", \"marie\", \"raclette\", \"crise\", \"croit\", \"r\\u00e8gles\", \"choqu\\u00e9\", \"rencontrer\", \"touche\", \"mdrrrrrr\", \"octobre\", \"uniquement\", \"alexia\", \"tente\", \"v\\u00e9lo\", \"naze\", \"28\", \"jalouse\", \"tente\", \"go\\u00fbts\", \"position\", \"saisons\", \"entretien\", \"cl\\u00e9\", \"inverse\", \"sud\", \"japonais\", \"bienvenue\", \"rendent\", \"madame\", \"gestion\", \"victoire\", \"tain\", \"regardant\", \"\\u00e9chec\", \"\\ud83c\\udf39\", \"gouvernement\", \"souris\", \"suisse\", \"ramener\", \"\\ud83e\\udd1e\", \"svt\", \"plaindre\", \"\\u270a\", \"refuse\", \"actuellement\", \"\\u00e9tude\", \"merciiiii\", \"lyon\", \"bjr\", \"tg\", \"trous\", \"bouffer\", \"familles\", \"choqu\\u00e9e\", \"90\", \"fatigu\\u00e9e\", \"lapin\", \"pay\\u00e9\", \"\\ud83e\\udd19\", \"regrette\", \"sah\", \"exp\\u00e9rience\", \"z\\u00e9ro\", \"manga\", \"batterie\", \"charge\", \"al\", \"sales\", \"calmer\", \"kiff\\u00e9\", \"\\ud83d\\ude30\", \"13\", \"animal\", \"2e\", \"r\\u00e9veille\", \"3h\"], \"textfont\": {\"color\": \"#4D5663\"}, \"type\": \"scatter\", \"x\": [0.8925920724868774, 1.7694737911224365, -12.875123023986816, -10.238373756408691, 3.181594133377075, -11.120025634765625, 9.544589042663574, -18.4299259185791, -15.414859771728516, 2.401033401489258, -4.393505096435547, 0.8339038491249084, -6.408542633056641, -0.909084141254425, -16.130813598632812, 3.9991841316223145, -11.940068244934082, -11.256353378295898, -17.20827293395996, -16.707670211791992, 3.8789429664611816, 0.9445976614952087, -8.937899589538574, 2.171966552734375, -4.113426685333252, -11.715697288513184, -13.91238021850586, 3.7131412029266357, 1.116602897644043, -18.79212188720703, 5.690379619598389, -1.283759593963623, -6.429954528808594, 3.367769718170166, -5.7744460105896, 4.818275451660156, 0.3213983178138733, -10.703960418701172, -17.937850952148438, 7.78863000869751, -19.402191162109375, 0.1076105609536171, -8.363259315490723, -11.607532501220703, 3.696087121963501, -0.6438931226730347, -12.102023124694824, -14.35228443145752, 5.023902416229248, -7.151506423950195, -16.35536766052246, -2.592377185821533, -3.6917712688446045, -1.893892765045166, -11.463570594787598, -5.419238090515137, -1.9171875715255737, -17.319698333740234, -17.649398803710938, -1.965548038482666, -4.616824626922607, -0.7428900003433228, 0.9274234175682068, -18.25141143798828, -3.729947805404663, 4.0369415283203125, -18.864171981811523, 0.1312975436449051, 7.121374130249023, -8.786965370178223, -6.932904243469238, 2.0352275371551514, -0.04464161396026611, -5.486031532287598, 2.3847503662109375, 3.49491286277771, 3.1356842517852783, -19.06827163696289, 3.2467739582061768, 9.31637954711914, -14.822447776794434, -0.4473825693130493, -17.927431106567383, 1.7000701427459717, -20.359844207763672, -15.706533432006836, 0.9478015303611755, -2.352030038833618, 1.2715542316436768, -4.467676639556885, -12.809236526489258, 3.985431432723999, 2.980990171432495, -19.77488136291504, -13.772499084472656, 9.780478477478027, -13.083065032958984, -12.635127067565918, 3.5528087615966797, 11.191040992736816], \"y\": [-11.439692497253418, -4.083777904510498, 2.1619467735290527, -11.641912460327148, -2.644411087036133, -1.9283348321914673, -3.360630989074707, -0.40045759081840515, 1.939540147781372, -3.1692214012145996, -12.195263862609863, 17.713537216186523, -9.947211265563965, -15.506507873535156, 7.056877613067627, -6.436202049255371, 3.9322736263275146, -4.357245922088623, -5.576180934906006, -0.44005802273750305, 18.498409271240234, -13.512476921081543, 8.000378608703613, -11.007500648498535, -11.22810173034668, -0.07124680280685425, -1.2617274522781372, -9.418397903442383, 11.6592435836792, -7.150318145751953, 3.6609325408935547, -17.249303817749023, -12.094795227050781, 19.250730514526367, 14.405037879943848, 4.08558988571167, -18.02849769592285, 2.7927870750427246, 2.500147819519043, 21.3276309967041, -3.1644768714904785, -17.861501693725586, -4.637434959411621, -0.6615943312644958, 19.864322662353516, 15.510538101196289, 1.1017109155654907, -1.5190056562423706, 19.229114532470703, 7.859781742095947, 5.848193168640137, -11.470541954040527, -10.536725044250488, 10.227453231811523, -4.105264186859131, 10.79603099822998, -5.092905044555664, -3.258251667022705, -13.168373107910156, -3.4677627086639404, -6.2008585929870605, -4.73875093460083, -3.6054115295410156, -6.156787395477295, 13.997760772705078, -11.037620544433594, -2.9412312507629395, -12.990092277526855, 19.595003128051758, 2.7341790199279785, -9.624667167663574, 16.324485778808594, -8.41073226928711, -11.87891674041748, 11.969913482666016, -3.2790849208831787, 9.235156059265137, -6.739739894866943, 20.600765228271484, 2.5363314151763916, 1.0506489276885986, 12.531068801879883, -7.660174369812012, -14.152981758117676, -3.813554286956787, 0.45279833674430847, 8.514290809631348, 15.546731948852539, 16.179325103759766, -6.67827844619751, 2.913942813873291, 5.566590785980225, -10.04295825958252, 2.1485166549682617, -5.326782703399658, 21.739866256713867, -3.582693338394165, -4.460275173187256, -17.036001205444336, 19.744304656982422]}, {\"marker\": {\"color\": \"rgba(50, 171, 96, 1.0)\", \"line\": {\"width\": 1.3}, \"opacity\": 0.8, \"size\": 12, \"symbol\": \"circle\"}, \"mode\": \"markers\", \"name\": \"Couple 3\", \"text\": [\"ligne\", \"bravo\", \"in\", \"aujourdhui\", \"rend\", \"nan\", \"pire\", \"chaque\", \"ya\", \"change\", \"mdrrr\", \"\\ud83d\\ude06\", \"connais\", \"clairement\", \"an\", \"min\", \"pourtant\", \"\\u00e9couter\", \"magnifique\", \"o\", \"force\", \"doigts\", \"perso\", \"compl\\u00e8tement\", \"grand\", \"content\", \"elles\", \"ptn\", \"tl\", \"inqui\\u00e8te\", \"tt\", \"filles\", \"hyper\", \"no\", \"\\ud83d\\ude2a\", \"facile\", \"ailleurs\", \"grande\", \"putain\", \"pense\", \"super\", \"savez\", \"\\ud83e\\udd14\", \"autant\", \"mdrrrr\", \"sortie\", \"partie\", \"moment\", \"bonjour\", \"vos\", \"tf1\", \"verra\", \"\\ud83d\\ude22\", \"dois\", \"eux\", \"g\\u00e9nial\", \"faites\", \"gars\", \"pcq\", \"coup\", \"quelques\", \"laisser\", \"contente\", \"serai\", \"jeux\", \"hyper\", \"stage\", \"aurait\", \"chaud\", \"joue\", \"janvier\", \"trucs\", \"\\ud83d\\ude14\", \"heureux\", \"quelle\", \"change\", \"chat\", \"peur\", \"jui\", \"r\\u00e9ponse\", \"heureuse\", \"sport\", \"eu\", \"parti\", \"pire\", \"corps\", \"15\", \"stp\", \"the\", \"quel\", \"semaine\", \"maison\", \"porte\", \"8\", \"bac\", \"chang\\u00e9\", \"vrais\", \"ahah\", \"\\ud83d\\ude29\", \"allez\"], \"textfont\": {\"color\": \"#4D5663\"}, \"type\": \"scatter\", \"x\": [9.452169418334961, -8.155678749084473, 1.6643705368041992, 5.387698650360107, 0.003060688963159919, -11.2571439743042, 9.340387344360352, 9.065939903259277, 12.336418151855469, 1.57737135887146, 0.08024030923843384, -12.853409767150879, 1.9140546321868896, 0.6560247540473938, 6.100495338439941, 10.89786434173584, -4.250369071960449, 16.07731819152832, -16.804349899291992, -10.654074668884277, 3.8880960941314697, 13.798179626464844, 1.3851573467254639, -16.62477684020996, -2.5062506198883057, -22.945465087890625, 17.643644332885742, 12.308791160583496, -0.7131711840629578, -3.4244375228881836, 10.301289558410645, -10.034895896911621, -17.78109359741211, -21.080171585083008, -19.44910430908203, -19.168123245239258, 9.866531372070312, -6.63789176940918, 12.430649757385254, 4.9426984786987305, -17.344036102294922, 18.005016326904297, -13.09144401550293, 10.789528846740723, -8.61330509185791, 6.4839653968811035, -0.03840731084346771, 9.826239585876465, 17.873865127563477, 17.49057388305664, 5.151233196258545, -3.327284574508667, 11.017780303955078, 5.974577903747559, -9.890581130981445, -18.558547973632812, 18.193220138549805, -9.491958618164062, 3.759904146194458, 12.16498851776123, 13.054805755615234, 14.526837348937988, -22.649324417114258, 4.061044216156006, -2.5984394550323486, -17.952302932739258, 6.646796226501465, 12.58912181854248, -17.975704193115234, 1.0505001544952393, 9.945505142211914, 14.779229164123535, -17.154586791992188, -22.263729095458984, 11.922000885009766, 1.762338399887085, -16.344715118408203, 9.776457786560059, -11.965105056762695, 0.1505686342716217, -22.290218353271484, 13.552619934082031, 9.495048522949219, 1.8616153001785278, 9.338896751403809, -16.191303253173828, 12.290282249450684, -8.01439380645752, 2.5294923782348633, 8.18880844116211, 8.416911125183105, 2.1685187816619873, -1.7103599309921265, 11.181020736694336, 9.40396785736084, -2.4820756912231445, -9.934152603149414, -7.229219913482666, -14.262701034545898, 16.22797966003418], \"y\": [18.710390090942383, -17.57639503479004, 22.210342407226562, 20.144672393798828, -19.272125244140625, -11.413025856018066, 16.676225662231445, 24.215354919433594, 12.75144100189209, -17.839704513549805, -10.82013988494873, -10.388720512390137, -21.35965919494629, -8.892176628112793, 22.560976028442383, 22.261642456054688, -9.737316131591797, 14.924644470214844, -14.565438270568848, -1.9284663200378418, -12.129703521728516, 5.946160316467285, 18.274667739868164, 4.103353023529053, -14.543269157409668, -8.5076904296875, -6.9221649169921875, 14.918864250183105, -13.965081214904785, -18.625076293945312, 15.594024658203125, -20.673973083496094, -11.545707702636719, -8.539015769958496, -5.779906272888184, -2.3336944580078125, -6.711456775665283, -14.077096939086914, 14.266144752502441, -20.40863609313965, -14.402543067932129, -11.620482444763184, -11.649837493896484, -7.307759761810303, -12.068021774291992, 20.088985443115234, 15.914374351501465, 17.53119468688965, -12.670068740844727, 6.794347763061523, -1.5080090761184692, -18.345808029174805, -5.324247360229492, -19.66264533996582, -19.407339096069336, -10.699496269226074, -12.259925842285156, -19.76803970336914, 15.728593826293945, 15.796354293823242, 22.703054428100586, -8.320823669433594, -9.862547874450684, -18.394174575805664, 19.76245880126953, -11.60309886932373, 20.994930267333984, -6.926115036010742, -9.569897651672363, -16.645217895507812, 23.1674747467041, 7.806860446929932, -5.207306861877441, -7.272439479827881, 12.11758041381836, -17.527151107788086, -9.613347053527832, -4.061961650848389, -12.289913177490234, -13.512725830078125, -9.20980453491211, 17.335338592529297, 10.754716873168945, 22.634431838989258, 16.67630958557129, 6.781387805938721, 22.794950485229492, -9.871349334716797, 23.30237579345703, 13.319540977478027, 24.700542449951172, -14.323973655700684, -13.523770332336426, 23.209426879882812, 20.70025062561035, 19.4334716796875, -21.151094436645508, -12.121204376220703, -11.116925239562988, -8.83586311340332]}, {\"marker\": {\"color\": \"rgba(128, 0, 128, 1.0)\", \"line\": {\"width\": 1.3}, \"opacity\": 0.8, \"size\": 12, \"symbol\": \"circle\"}, \"mode\": \"markers\", \"name\": \"Couple 4\", \"text\": [\"pour\", \"qui\", \"\\ud83d\\ude2d\", \"vu\", \"mal\", \"y\", \"te\", \"faire\", \"qui\", \"lui\", \"fais\", \"\\u00e7a\", \"qu\", \"elle\", \"est\", \"ou\", \"toujours\", \"vrai\", \"comme\", \"fais\", \"me\", \"moi\", \"donc\", \"comment\", \"es\", \"sur\", \"faut\", \"rien\", \"comme\", \"d\", \"vous\", \"alors\", \"m\", \"\\ufe0f\", \"\\u00e0\", \"trop\", \"ma\", \"dire\", \"sur\", \"mal\", \"jamais\", \"merci\", \"s\", \"mdr\", \"lowfrequencyword\", \"bien\", \"temps\", \"voir\", \"lui\", \"y\", \"2\", \"vous\", \"ta\", \"bon\", \"on\", \"donc\", \"ton\", \"ta\", \"peut\", \"aime\", \"\\u00eatre\", \"envie\", \"2\", \"que\", \"ont\", \"rien\", \"sa\", \"ne\", \"nous\", \"avoir\", \"on\", \"ai\", \"vie\", \"que\", \"tr\\u00e8s\", \"donc\", \"vais\", \"\\u00eatre\", \"dire\", \"ne\", \"bonne\", \"sont\", \"alors\", \"qu\", \"j\", \"nickname\", \"l\\u00e0\", \"ca\", \"va\", \"encore\", \"sais\", \"tous\", \"moi\", \"temps\", \"mes\", \"apr\\u00e8s\", \"rien\", \"sur\", \"plus\", \"avoir\"], \"textfont\": {\"color\": \"#4D5663\"}, \"type\": \"scatter\", \"x\": [13.997522354125977, 18.504871368408203, -17.606456756591797, 9.00961971282959, 17.451051712036133, 20.92559242248535, 13.924538612365723, 19.25319480895996, 18.891666412353516, 17.6090087890625, 2.716787576675415, 12.744693756103516, 19.12946128845215, 13.423359870910645, -4.136256217956543, 9.500509262084961, 14.695525169372559, -14.159238815307617, -8.95063304901123, 2.716787815093994, 21.264347076416016, 11.042364120483398, 13.756680488586426, 14.631109237670898, 1.4011518955230713, 9.724458694458008, 15.453678131103516, 21.454648971557617, -9.112003326416016, -2.5310871601104736, 23.11478614807129, 6.45804500579834, 18.07071876525879, -14.977133750915527, 16.75445556640625, -12.672759056091309, 21.792760848999023, 17.291257858276367, 10.21153450012207, 17.450654983520508, 21.611835479736328, -11.916958808898926, 16.714216232299805, -6.710919380187988, -3.1972877979278564, -23.330097198486328, 14.807286262512207, 13.251297950744629, 17.13641929626465, 20.925703048706055, 12.606096267700195, 23.11478614807129, 8.956009864807129, -11.19114875793457, 14.216156005859375, 14.08112621307373, 8.207840919494629, 8.956009864807129, 11.625551223754883, -0.5258303284645081, 6.112137794494629, 19.30013656616211, 12.606096267700195, 18.366430282592773, -5.529757499694824, 20.811004638671875, 19.130033493041992, 19.544239044189453, 18.001651763916016, 16.910165786743164, 14.2387113571167, 7.310445785522461, 4.651579856872559, 18.366430282592773, -17.664257049560547, 14.277546882629395, 7.355910301208496, 6.112137794494629, 17.826473236083984, 19.723859786987305, -5.114217281341553, -0.7394283413887024, 6.45804500579834, 19.12946128845215, 14.357257843017578, -22.569257736206055, 10.494577407836914, 12.949258804321289, 10.971068382263184, 15.311188697814941, 4.1582465171813965, 16.927860260009766, 11.042364120483398, 14.81706714630127, 19.227245330810547, 12.109582901000977, 21.043285369873047, 10.128081321716309, 18.38373565673828, 16.910165786743164], \"y\": [10.447869300842285, -3.045396327972412, -9.390523910522461, 12.584851264953613, 14.372247695922852, -10.921207427978516, -11.058911323547363, -12.610793113708496, -3.1224093437194824, -9.071784973144531, -22.565542221069336, -11.03807258605957, -1.6020671129226685, -13.131963729858398, -15.368579864501953, 12.483489990234375, 7.185973644256592, -6.347080230712891, -18.878215789794922, -22.565542221069336, -7.6592559814453125, -6.510322570800781, 18.551542282104492, -6.389276504516602, -23.453710556030273, 9.54660701751709, -11.538681030273438, -6.379075527191162, -18.750551223754883, 22.324159622192383, -7.104060173034668, -15.015356063842773, -8.235109329223633, -16.65825843811035, 10.139509201049805, -17.70838165283203, -11.619019508361816, -10.198325157165527, 9.74618911743164, 14.37212085723877, -4.828042030334473, -17.845495223999023, -6.921324253082275, 17.941987991333008, 19.460346221923828, -10.098677635192871, 11.674389839172363, 10.141291618347168, -9.065104484558105, -10.922043800354004, 23.710947036743164, -7.104060173034668, -17.841630935668945, -6.280001640319824, -11.897424697875977, 18.786640167236328, 12.604284286499023, -17.841630935668945, -11.502490997314453, -22.952091217041016, -18.483003616333008, -8.178150177001953, 23.710947036743164, 9.797386169433594, 21.861467361450195, -6.665310859680176, -10.273587226867676, -5.91235876083374, -5.004248142242432, 11.916402816772461, -12.29500961303711, 16.254281997680664, -17.158952713012695, 9.797386169433594, -14.80860710144043, 18.398204803466797, -20.269573211669922, -18.48300552368164, -10.050437927246094, -5.431634902954102, -17.579570770263672, -23.067405700683594, -15.015356063842773, -1.6020671129226685, 23.860050201416016, -7.39838171005249, 14.655280113220215, -11.489265441894531, -12.664944648742676, 15.849575996398926, -20.905656814575195, 7.096037864685059, -6.510322570800781, 11.669205665588379, 11.07081413269043, 18.895856857299805, -6.0367279052734375, 9.35026741027832, 14.420531272888184, 11.916402816772461]}],\n",
       "                        {\"legend\": {\"bgcolor\": \"#F5F6F9\", \"font\": {\"color\": \"#4D5663\"}}, \"paper_bgcolor\": \"#F5F6F9\", \"plot_bgcolor\": \"#F5F6F9\", \"template\": {\"data\": {\"bar\": [{\"error_x\": {\"color\": \"#2a3f5f\"}, \"error_y\": {\"color\": \"#2a3f5f\"}, \"marker\": {\"line\": {\"color\": \"#E5ECF6\", \"width\": 0.5}}, \"type\": \"bar\"}], \"barpolar\": [{\"marker\": {\"line\": {\"color\": \"#E5ECF6\", \"width\": 0.5}}, \"type\": \"barpolar\"}], \"carpet\": [{\"aaxis\": {\"endlinecolor\": \"#2a3f5f\", \"gridcolor\": \"white\", \"linecolor\": \"white\", \"minorgridcolor\": \"white\", \"startlinecolor\": \"#2a3f5f\"}, \"baxis\": {\"endlinecolor\": \"#2a3f5f\", \"gridcolor\": \"white\", \"linecolor\": \"white\", \"minorgridcolor\": \"white\", \"startlinecolor\": \"#2a3f5f\"}, \"type\": \"carpet\"}], \"choropleth\": [{\"colorbar\": {\"outlinewidth\": 0, \"ticks\": \"\"}, \"type\": \"choropleth\"}], \"contour\": [{\"colorbar\": {\"outlinewidth\": 0, \"ticks\": \"\"}, \"colorscale\": [[0.0, \"#0d0887\"], [0.1111111111111111, \"#46039f\"], [0.2222222222222222, \"#7201a8\"], [0.3333333333333333, \"#9c179e\"], [0.4444444444444444, \"#bd3786\"], [0.5555555555555556, \"#d8576b\"], [0.6666666666666666, \"#ed7953\"], [0.7777777777777778, \"#fb9f3a\"], [0.8888888888888888, \"#fdca26\"], [1.0, \"#f0f921\"]], \"type\": \"contour\"}], \"contourcarpet\": [{\"colorbar\": {\"outlinewidth\": 0, \"ticks\": \"\"}, \"type\": \"contourcarpet\"}], \"heatmap\": [{\"colorbar\": {\"outlinewidth\": 0, \"ticks\": \"\"}, \"colorscale\": [[0.0, \"#0d0887\"], [0.1111111111111111, \"#46039f\"], [0.2222222222222222, \"#7201a8\"], [0.3333333333333333, \"#9c179e\"], [0.4444444444444444, \"#bd3786\"], [0.5555555555555556, \"#d8576b\"], [0.6666666666666666, \"#ed7953\"], [0.7777777777777778, \"#fb9f3a\"], [0.8888888888888888, \"#fdca26\"], [1.0, \"#f0f921\"]], \"type\": \"heatmap\"}], \"heatmapgl\": [{\"colorbar\": {\"outlinewidth\": 0, \"ticks\": \"\"}, \"colorscale\": [[0.0, \"#0d0887\"], [0.1111111111111111, \"#46039f\"], [0.2222222222222222, \"#7201a8\"], [0.3333333333333333, \"#9c179e\"], [0.4444444444444444, \"#bd3786\"], [0.5555555555555556, \"#d8576b\"], [0.6666666666666666, \"#ed7953\"], [0.7777777777777778, \"#fb9f3a\"], [0.8888888888888888, \"#fdca26\"], [1.0, \"#f0f921\"]], \"type\": \"heatmapgl\"}], \"histogram\": [{\"marker\": {\"colorbar\": {\"outlinewidth\": 0, \"ticks\": \"\"}}, \"type\": \"histogram\"}], \"histogram2d\": [{\"colorbar\": {\"outlinewidth\": 0, \"ticks\": \"\"}, \"colorscale\": [[0.0, \"#0d0887\"], [0.1111111111111111, \"#46039f\"], [0.2222222222222222, \"#7201a8\"], [0.3333333333333333, \"#9c179e\"], [0.4444444444444444, \"#bd3786\"], [0.5555555555555556, \"#d8576b\"], [0.6666666666666666, \"#ed7953\"], [0.7777777777777778, \"#fb9f3a\"], [0.8888888888888888, \"#fdca26\"], [1.0, \"#f0f921\"]], \"type\": \"histogram2d\"}], \"histogram2dcontour\": [{\"colorbar\": {\"outlinewidth\": 0, \"ticks\": \"\"}, \"colorscale\": [[0.0, \"#0d0887\"], [0.1111111111111111, \"#46039f\"], [0.2222222222222222, \"#7201a8\"], [0.3333333333333333, \"#9c179e\"], [0.4444444444444444, \"#bd3786\"], [0.5555555555555556, \"#d8576b\"], [0.6666666666666666, \"#ed7953\"], [0.7777777777777778, \"#fb9f3a\"], [0.8888888888888888, \"#fdca26\"], [1.0, \"#f0f921\"]], \"type\": \"histogram2dcontour\"}], \"mesh3d\": [{\"colorbar\": {\"outlinewidth\": 0, \"ticks\": \"\"}, \"type\": \"mesh3d\"}], \"parcoords\": [{\"line\": {\"colorbar\": {\"outlinewidth\": 0, \"ticks\": \"\"}}, \"type\": \"parcoords\"}], \"pie\": [{\"automargin\": true, \"type\": \"pie\"}], \"scatter\": [{\"marker\": {\"colorbar\": {\"outlinewidth\": 0, \"ticks\": \"\"}}, \"type\": \"scatter\"}], \"scatter3d\": [{\"line\": {\"colorbar\": {\"outlinewidth\": 0, \"ticks\": \"\"}}, \"marker\": {\"colorbar\": {\"outlinewidth\": 0, \"ticks\": \"\"}}, \"type\": \"scatter3d\"}], \"scattercarpet\": [{\"marker\": {\"colorbar\": {\"outlinewidth\": 0, \"ticks\": \"\"}}, \"type\": \"scattercarpet\"}], \"scattergeo\": [{\"marker\": {\"colorbar\": {\"outlinewidth\": 0, \"ticks\": \"\"}}, \"type\": \"scattergeo\"}], \"scattergl\": [{\"marker\": {\"colorbar\": {\"outlinewidth\": 0, \"ticks\": \"\"}}, \"type\": \"scattergl\"}], \"scattermapbox\": [{\"marker\": {\"colorbar\": {\"outlinewidth\": 0, \"ticks\": \"\"}}, \"type\": \"scattermapbox\"}], \"scatterpolar\": [{\"marker\": {\"colorbar\": {\"outlinewidth\": 0, \"ticks\": \"\"}}, \"type\": \"scatterpolar\"}], \"scatterpolargl\": [{\"marker\": {\"colorbar\": {\"outlinewidth\": 0, \"ticks\": \"\"}}, \"type\": \"scatterpolargl\"}], \"scatterternary\": [{\"marker\": {\"colorbar\": {\"outlinewidth\": 0, \"ticks\": \"\"}}, \"type\": \"scatterternary\"}], \"surface\": [{\"colorbar\": {\"outlinewidth\": 0, \"ticks\": \"\"}, \"colorscale\": [[0.0, \"#0d0887\"], [0.1111111111111111, \"#46039f\"], [0.2222222222222222, \"#7201a8\"], [0.3333333333333333, \"#9c179e\"], [0.4444444444444444, \"#bd3786\"], [0.5555555555555556, \"#d8576b\"], [0.6666666666666666, \"#ed7953\"], [0.7777777777777778, \"#fb9f3a\"], [0.8888888888888888, \"#fdca26\"], [1.0, \"#f0f921\"]], \"type\": \"surface\"}], \"table\": [{\"cells\": {\"fill\": {\"color\": \"#EBF0F8\"}, \"line\": {\"color\": \"white\"}}, \"header\": {\"fill\": {\"color\": \"#C8D4E3\"}, \"line\": {\"color\": \"white\"}}, \"type\": \"table\"}]}, \"layout\": {\"annotationdefaults\": {\"arrowcolor\": \"#2a3f5f\", \"arrowhead\": 0, \"arrowwidth\": 1}, \"coloraxis\": {\"colorbar\": {\"outlinewidth\": 0, \"ticks\": \"\"}}, \"colorscale\": {\"diverging\": [[0, \"#8e0152\"], [0.1, \"#c51b7d\"], [0.2, \"#de77ae\"], [0.3, \"#f1b6da\"], [0.4, \"#fde0ef\"], [0.5, \"#f7f7f7\"], [0.6, \"#e6f5d0\"], [0.7, \"#b8e186\"], [0.8, \"#7fbc41\"], [0.9, \"#4d9221\"], [1, \"#276419\"]], \"sequential\": [[0.0, \"#0d0887\"], [0.1111111111111111, \"#46039f\"], [0.2222222222222222, \"#7201a8\"], [0.3333333333333333, \"#9c179e\"], [0.4444444444444444, \"#bd3786\"], [0.5555555555555556, \"#d8576b\"], [0.6666666666666666, \"#ed7953\"], [0.7777777777777778, \"#fb9f3a\"], [0.8888888888888888, \"#fdca26\"], [1.0, \"#f0f921\"]], \"sequentialminus\": [[0.0, \"#0d0887\"], [0.1111111111111111, \"#46039f\"], [0.2222222222222222, \"#7201a8\"], [0.3333333333333333, \"#9c179e\"], [0.4444444444444444, \"#bd3786\"], [0.5555555555555556, \"#d8576b\"], [0.6666666666666666, \"#ed7953\"], [0.7777777777777778, \"#fb9f3a\"], [0.8888888888888888, \"#fdca26\"], [1.0, \"#f0f921\"]]}, \"colorway\": [\"#636efa\", \"#EF553B\", \"#00cc96\", \"#ab63fa\", \"#FFA15A\", \"#19d3f3\", \"#FF6692\", \"#B6E880\", \"#FF97FF\", \"#FECB52\"], \"font\": {\"color\": \"#2a3f5f\"}, \"geo\": {\"bgcolor\": \"white\", \"lakecolor\": \"white\", \"landcolor\": \"#E5ECF6\", \"showlakes\": true, \"showland\": true, \"subunitcolor\": \"white\"}, \"hoverlabel\": {\"align\": \"left\"}, \"hovermode\": \"closest\", \"mapbox\": {\"style\": \"light\"}, \"paper_bgcolor\": \"white\", \"plot_bgcolor\": \"#E5ECF6\", \"polar\": {\"angularaxis\": {\"gridcolor\": \"white\", \"linecolor\": \"white\", \"ticks\": \"\"}, \"bgcolor\": \"#E5ECF6\", \"radialaxis\": {\"gridcolor\": \"white\", \"linecolor\": \"white\", \"ticks\": \"\"}}, \"scene\": {\"xaxis\": {\"backgroundcolor\": \"#E5ECF6\", \"gridcolor\": \"white\", \"gridwidth\": 2, \"linecolor\": \"white\", \"showbackground\": true, \"ticks\": \"\", \"zerolinecolor\": \"white\"}, \"yaxis\": {\"backgroundcolor\": \"#E5ECF6\", \"gridcolor\": \"white\", \"gridwidth\": 2, \"linecolor\": \"white\", \"showbackground\": true, \"ticks\": \"\", \"zerolinecolor\": \"white\"}, \"zaxis\": {\"backgroundcolor\": \"#E5ECF6\", \"gridcolor\": \"white\", \"gridwidth\": 2, \"linecolor\": \"white\", \"showbackground\": true, \"ticks\": \"\", \"zerolinecolor\": \"white\"}}, \"shapedefaults\": {\"line\": {\"color\": \"#2a3f5f\"}}, \"ternary\": {\"aaxis\": {\"gridcolor\": \"white\", \"linecolor\": \"white\", \"ticks\": \"\"}, \"baxis\": {\"gridcolor\": \"white\", \"linecolor\": \"white\", \"ticks\": \"\"}, \"bgcolor\": \"#E5ECF6\", \"caxis\": {\"gridcolor\": \"white\", \"linecolor\": \"white\", \"ticks\": \"\"}}, \"title\": {\"x\": 0.05}, \"xaxis\": {\"automargin\": true, \"gridcolor\": \"white\", \"linecolor\": \"white\", \"ticks\": \"\", \"title\": {\"standoff\": 15}, \"zerolinecolor\": \"white\", \"zerolinewidth\": 2}, \"yaxis\": {\"automargin\": true, \"gridcolor\": \"white\", \"linecolor\": \"white\", \"ticks\": \"\", \"title\": {\"standoff\": 15}, \"zerolinecolor\": \"white\", \"zerolinewidth\": 2}}}, \"title\": {\"font\": {\"color\": \"#4D5663\"}, \"text\": \"TSNE\"}, \"xaxis\": {\"gridcolor\": \"#E1E5ED\", \"showgrid\": true, \"tickfont\": {\"color\": \"#4D5663\"}, \"title\": {\"font\": {\"color\": \"#4D5663\"}, \"text\": \"Axe 1\"}, \"zerolinecolor\": \"#E1E5ED\"}, \"yaxis\": {\"gridcolor\": \"#E1E5ED\", \"showgrid\": true, \"tickfont\": {\"color\": \"#4D5663\"}, \"title\": {\"font\": {\"color\": \"#4D5663\"}, \"text\": \"Axe 2\"}, \"zerolinecolor\": \"#E1E5ED\"}},\n",
       "                        {\"showLink\": true, \"linkText\": \"Export to plot.ly\", \"plotlyServerURL\": \"https://plot.ly\", \"responsive\": true}\n",
       "                    ).then(function(){\n",
       "                            \n",
       "var gd = document.getElementById('4b6f8404-d92f-446b-8aa3-0df8f00d97cb');\n",
       "var x = new MutationObserver(function (mutations, observer) {{\n",
       "        var display = window.getComputedStyle(gd).display;\n",
       "        if (!display || display === 'none') {{\n",
       "            console.log([gd, 'removed!']);\n",
       "            Plotly.purge(gd);\n",
       "            observer.disconnect();\n",
       "        }}\n",
       "}});\n",
       "\n",
       "// Listen for the removal of the full notebook cells\n",
       "var notebookContainer = gd.closest('#notebook-container');\n",
       "if (notebookContainer) {{\n",
       "    x.observe(notebookContainer, {childList: true});\n",
       "}}\n",
       "\n",
       "// Listen for the clearing of the current output cell\n",
       "var outputEl = gd.closest('.output');\n",
       "if (outputEl) {{\n",
       "    x.observe(outputEl, {childList: true});\n",
       "}}\n",
       "\n",
       "                        })\n",
       "                };\n",
       "                });\n",
       "            </script>\n",
       "        </div>"
      ]
     },
     "metadata": {},
     "output_type": "display_data"
    }
   ],
   "source": [
    "tsne_graph(liste2, statique = False,\n",
    "           nom_couples_explicite = True)#Paramètre ne marche pas : a debuger ?"
   ]
  },
  {
   "cell_type": "markdown",
   "metadata": {},
   "source": [
    "## 5. Human judgement"
   ]
  },
  {
   "cell_type": "code",
   "execution_count": 37,
   "metadata": {},
   "outputs": [
    {
     "data": {
      "text/html": [
       "<div>\n",
       "<style scoped>\n",
       "    .dataframe tbody tr th:only-of-type {\n",
       "        vertical-align: middle;\n",
       "    }\n",
       "\n",
       "    .dataframe tbody tr th {\n",
       "        vertical-align: top;\n",
       "    }\n",
       "\n",
       "    .dataframe thead th {\n",
       "        text-align: right;\n",
       "    }\n",
       "</style>\n",
       "<table border=\"1\" class=\"dataframe\">\n",
       "  <thead>\n",
       "    <tr style=\"text-align: right;\">\n",
       "      <th></th>\n",
       "      <th>word1</th>\n",
       "      <th>word2</th>\n",
       "      <th>corr</th>\n",
       "    </tr>\n",
       "  </thead>\n",
       "  <tbody>\n",
       "    <tr>\n",
       "      <th>0</th>\n",
       "      <td>corde</td>\n",
       "      <td>sourire</td>\n",
       "      <td>0.00</td>\n",
       "    </tr>\n",
       "    <tr>\n",
       "      <th>1</th>\n",
       "      <td>midi</td>\n",
       "      <td>ficelle</td>\n",
       "      <td>0.00</td>\n",
       "    </tr>\n",
       "    <tr>\n",
       "      <th>2</th>\n",
       "      <td>coq</td>\n",
       "      <td>périple</td>\n",
       "      <td>0.06</td>\n",
       "    </tr>\n",
       "    <tr>\n",
       "      <th>3</th>\n",
       "      <td>fruit</td>\n",
       "      <td>fournaise</td>\n",
       "      <td>0.11</td>\n",
       "    </tr>\n",
       "    <tr>\n",
       "      <th>4</th>\n",
       "      <td>autographe</td>\n",
       "      <td>rivage</td>\n",
       "      <td>0.00</td>\n",
       "    </tr>\n",
       "    <tr>\n",
       "      <th>...</th>\n",
       "      <td>...</td>\n",
       "      <td>...</td>\n",
       "      <td>...</td>\n",
       "    </tr>\n",
       "    <tr>\n",
       "      <th>60</th>\n",
       "      <td>coussin</td>\n",
       "      <td>oreiller</td>\n",
       "      <td>3.00</td>\n",
       "    </tr>\n",
       "    <tr>\n",
       "      <th>61</th>\n",
       "      <td>cimetière</td>\n",
       "      <td>cimetière</td>\n",
       "      <td>4.00</td>\n",
       "    </tr>\n",
       "    <tr>\n",
       "      <th>62</th>\n",
       "      <td>automobile</td>\n",
       "      <td>auto</td>\n",
       "      <td>3.94</td>\n",
       "    </tr>\n",
       "    <tr>\n",
       "      <th>63</th>\n",
       "      <td>joyau</td>\n",
       "      <td>bijou</td>\n",
       "      <td>3.22</td>\n",
       "    </tr>\n",
       "    <tr>\n",
       "      <th>64</th>\n",
       "      <td>midi</td>\n",
       "      <td>dîner</td>\n",
       "      <td>2.17</td>\n",
       "    </tr>\n",
       "  </tbody>\n",
       "</table>\n",
       "<p>65 rows × 3 columns</p>\n",
       "</div>"
      ],
      "text/plain": [
       "         word1      word2  corr\n",
       "0        corde    sourire  0.00\n",
       "1         midi    ficelle  0.00\n",
       "2          coq    périple  0.06\n",
       "3        fruit  fournaise  0.11\n",
       "4   autographe     rivage  0.00\n",
       "..         ...        ...   ...\n",
       "60     coussin   oreiller  3.00\n",
       "61   cimetière  cimetière  4.00\n",
       "62  automobile       auto  3.94\n",
       "63       joyau      bijou  3.22\n",
       "64        midi      dîner  2.17\n",
       "\n",
       "[65 rows x 3 columns]"
      ]
     },
     "execution_count": 37,
     "metadata": {},
     "output_type": "execute_result"
    }
   ],
   "source": [
    "df_base = pd.read_csv('data_bis/word_similarity.csv', sep=\";\")\n",
    "df_base"
   ]
  },
  {
   "cell_type": "code",
   "execution_count": 38,
   "metadata": {},
   "outputs": [
    {
     "name": "stdout",
     "output_type": "stream",
     "text": [
      "65\n",
      "13\n"
     ]
    },
    {
     "data": {
      "text/html": [
       "<div>\n",
       "<style scoped>\n",
       "    .dataframe tbody tr th:only-of-type {\n",
       "        vertical-align: middle;\n",
       "    }\n",
       "\n",
       "    .dataframe tbody tr th {\n",
       "        vertical-align: top;\n",
       "    }\n",
       "\n",
       "    .dataframe thead th {\n",
       "        text-align: right;\n",
       "    }\n",
       "</style>\n",
       "<table border=\"1\" class=\"dataframe\">\n",
       "  <thead>\n",
       "    <tr style=\"text-align: right;\">\n",
       "      <th></th>\n",
       "      <th>word1</th>\n",
       "      <th>word2</th>\n",
       "      <th>corr</th>\n",
       "      <th>corr_word2vec_cos</th>\n",
       "      <th>corr_word2vec_eucl</th>\n",
       "    </tr>\n",
       "  </thead>\n",
       "  <tbody>\n",
       "    <tr>\n",
       "      <th>0</th>\n",
       "      <td>corde</td>\n",
       "      <td>sourire</td>\n",
       "      <td>0.00</td>\n",
       "      <td>0.643796</td>\n",
       "      <td>1.863783</td>\n",
       "    </tr>\n",
       "    <tr>\n",
       "      <th>16</th>\n",
       "      <td>côte</td>\n",
       "      <td>forêt</td>\n",
       "      <td>0.22</td>\n",
       "      <td>0.868877</td>\n",
       "      <td>2.759573</td>\n",
       "    </tr>\n",
       "    <tr>\n",
       "      <th>20</th>\n",
       "      <td>garçon</td>\n",
       "      <td>sage</td>\n",
       "      <td>0.29</td>\n",
       "      <td>0.709429</td>\n",
       "      <td>2.939884</td>\n",
       "    </tr>\n",
       "    <tr>\n",
       "      <th>23</th>\n",
       "      <td>gars</td>\n",
       "      <td>sorcier</td>\n",
       "      <td>0.44</td>\n",
       "      <td>0.139455</td>\n",
       "      <td>1.796270</td>\n",
       "    </tr>\n",
       "    <tr>\n",
       "      <th>28</th>\n",
       "      <td>oiseau</td>\n",
       "      <td>bois</td>\n",
       "      <td>0.06</td>\n",
       "      <td>0.630483</td>\n",
       "      <td>2.187629</td>\n",
       "    </tr>\n",
       "    <tr>\n",
       "      <th>33</th>\n",
       "      <td>auto</td>\n",
       "      <td>voyage</td>\n",
       "      <td>0.33</td>\n",
       "      <td>0.596326</td>\n",
       "      <td>2.986266</td>\n",
       "    </tr>\n",
       "    <tr>\n",
       "      <th>35</th>\n",
       "      <td>verre</td>\n",
       "      <td>bijou</td>\n",
       "      <td>0.56</td>\n",
       "      <td>0.851264</td>\n",
       "      <td>1.844745</td>\n",
       "    </tr>\n",
       "    <tr>\n",
       "      <th>38</th>\n",
       "      <td>frère</td>\n",
       "      <td>gars</td>\n",
       "      <td>2.00</td>\n",
       "      <td>0.699675</td>\n",
       "      <td>7.277666</td>\n",
       "    </tr>\n",
       "    <tr>\n",
       "      <th>39</th>\n",
       "      <td>sage</td>\n",
       "      <td>sorcier</td>\n",
       "      <td>0.83</td>\n",
       "      <td>0.780883</td>\n",
       "      <td>2.197992</td>\n",
       "    </tr>\n",
       "    <tr>\n",
       "      <th>43</th>\n",
       "      <td>nourriture</td>\n",
       "      <td>fruit</td>\n",
       "      <td>2.78</td>\n",
       "      <td>0.952832</td>\n",
       "      <td>4.520307</td>\n",
       "    </tr>\n",
       "    <tr>\n",
       "      <th>56</th>\n",
       "      <td>forêt</td>\n",
       "      <td>bois</td>\n",
       "      <td>3.72</td>\n",
       "      <td>0.707819</td>\n",
       "      <td>2.311709</td>\n",
       "    </tr>\n",
       "    <tr>\n",
       "      <th>59</th>\n",
       "      <td>garçon</td>\n",
       "      <td>gars</td>\n",
       "      <td>3.83</td>\n",
       "      <td>0.390860</td>\n",
       "      <td>2.900367</td>\n",
       "    </tr>\n",
       "    <tr>\n",
       "      <th>64</th>\n",
       "      <td>midi</td>\n",
       "      <td>dîner</td>\n",
       "      <td>2.17</td>\n",
       "      <td>0.394650</td>\n",
       "      <td>2.026428</td>\n",
       "    </tr>\n",
       "  </tbody>\n",
       "</table>\n",
       "</div>"
      ],
      "text/plain": [
       "         word1    word2  corr  corr_word2vec_cos  corr_word2vec_eucl\n",
       "0        corde  sourire  0.00           0.643796            1.863783\n",
       "16        côte    forêt  0.22           0.868877            2.759573\n",
       "20      garçon     sage  0.29           0.709429            2.939884\n",
       "23        gars  sorcier  0.44           0.139455            1.796270\n",
       "28      oiseau     bois  0.06           0.630483            2.187629\n",
       "33        auto   voyage  0.33           0.596326            2.986266\n",
       "35       verre    bijou  0.56           0.851264            1.844745\n",
       "38       frère     gars  2.00           0.699675            7.277666\n",
       "39        sage  sorcier  0.83           0.780883            2.197992\n",
       "43  nourriture    fruit  2.78           0.952832            4.520307\n",
       "56       forêt     bois  3.72           0.707819            2.311709\n",
       "59      garçon     gars  3.83           0.390860            2.900367\n",
       "64        midi    dîner  2.17           0.394650            2.026428"
      ]
     },
     "execution_count": 38,
     "metadata": {},
     "output_type": "execute_result"
    }
   ],
   "source": [
    "distance_mots_v = np.vectorize(distance_mots)\n",
    "df = df_base\n",
    "df[\"corr_word2vec_cos\"] = distance_mots_v(df[\"word1\"],df[\"word2\"], mot_poids, \"cos\")\n",
    "df[\"corr_word2vec_eucl\"] = distance_mots_v(df[\"word1\"],df[\"word2\"], mot_poids, \"eucl\")\n",
    "print(len(df))\n",
    "df = df.dropna()\n",
    "print(len(df))\n",
    "df"
   ]
  },
  {
   "cell_type": "code",
   "execution_count": 39,
   "metadata": {},
   "outputs": [
    {
     "name": "stdout",
     "output_type": "stream",
     "text": [
      "Le résultat de word2vec COSINUS est différent de celui du human judgement (non rejet de H0 = non corrélation) p=0.887 / Valeur de la corrélation : -0.044\n",
      "\n",
      "\n",
      "Le résultat de word2vec EUCLIDIEN est différent de celui du human judgement (non rejet de H0 = non corrélation) p=0.334 / Valeur de la corrélation : 0.291\n"
     ]
    }
   ],
   "source": [
    "#On fait des tests à 5 % pour la distance cosinus\n",
    "alpha = 0.05\n",
    "corr, p_value = spearmanr(df[\"corr\"], df[\"corr_word2vec_cos\"])\n",
    "if p_value > alpha:\n",
    "    print('Le résultat de word2vec COSINUS est différent de celui du human judgement (non rejet de H0 = non corrélation) p=%.3f' % p_value,'/ Valeur de la corrélation : %.3f'% corr)\n",
    "else:\n",
    "    print('Le résultat de word2vec COSINUS est semblable celui du human judgement (rejet de H0 = non corrélation) p=%.3f' % p_value,'/ Valeur de la corrélation : %.3f'% corr)\n",
    "\n",
    "print(\"\\n\")\n",
    "\n",
    "#On fait des tests à 5 % pour la distance euclidienne\n",
    "alpha = 0.05\n",
    "corr, p_value = spearmanr(df[\"corr\"], df[\"corr_word2vec_eucl\"])\n",
    "if p_value > alpha:\n",
    "    print('Le résultat de word2vec EUCLIDIEN est différent de celui du human judgement (non rejet de H0 = non corrélation) p=%.3f' % p_value,'/ Valeur de la corrélation : %.3f'% corr)\n",
    "else:\n",
    "    print('Le résultat de word2vec COSINUS est semblable celui du human judgement (rejet de H0 = non corrélation) p=%.3f' % p_value,'/ Valeur de la corrélation : %.3f'% corr)"
   ]
  },
  {
   "cell_type": "markdown",
   "metadata": {},
   "source": [
    "# Evaluer plusieurs modèles \n",
    "\n",
    "## 1. Evaluation par le \"human judgement\"\n"
   ]
  },
  {
   "cell_type": "code",
   "execution_count": 96,
   "metadata": {},
   "outputs": [],
   "source": [
    "def corr_modele(chemin, distance=\"cos\", gensimbool = gensim_utile, epoch_max = 50):  \n",
    "    all_cor = []\n",
    "    all_p_val = []\n",
    "    if gensimbool:\n",
    "        #chemin = \"data/\" + nom_dossier + \"/gensim/Simulation_\" + str(numero_simulation) + dossier\n",
    "        #chemin = \"data/{}/gensim/dim{}_ep{}_w{}_lr{}_seed{}\".format(nom_dossier, dim, epoch, window, str(learning_rate)[2:], seed)  \n",
    "        isdir = os.path.isdir(chemin)\n",
    "        if isdir:\n",
    "            model = gensim.models.keyedvectors.KeyedVectors.load(chemin + \"/word2vec.model\")\n",
    "            py_list = []\n",
    "            for mot in vocabulary:\n",
    "                py_list.append(model.wv[mot].tolist())   \n",
    "            mat_finale = torch.FloatTensor(py_list)\n",
    "            mot_poids = {index_mot[index]: poids.detach().numpy() for (index, poids) in enumerate(mat_finale)}\n",
    "            df = pd.read_csv('data_bis/word_similarity.csv', sep=\";\")\n",
    "            df[\"corr_word2vec\"] = distance_mots_v(df[\"word1\"],df[\"word2\"], mot_poids, distance)\n",
    "            df = df.dropna()\n",
    "            corr, p_value = spearmanr(df[\"corr\"], df[\"corr_word2vec\"])\n",
    "            all_cor.append(corr)\n",
    "            all_p_val.append(p_value)\n",
    "    else:\n",
    "        isdir = os.path.isdir(chemin)\n",
    "        if isdir:\n",
    "            for i in range(epoch_max):\n",
    "                try:\n",
    "                    with open('{}/input_{}.file'.format(chemin, i+1), \"rb\") as f:\n",
    "                        input = pickle.load(f)\n",
    "                    with open('{}/output{}.file'.format(chemin, i+1), \"rb\") as f:\n",
    "                        output = pickle.load(f)\n",
    "                    mat_finale = (input+output)/2\n",
    "                    mot_poids = {index_mot[index]: poids.detach().numpy() for (index, poids) in enumerate(mat_finale)}\n",
    "                    df = pd.read_csv('data_bis/word_similarity.csv', sep=\";\")\n",
    "                    df[\"corr_word2vec\"] = distance_mots_v(df[\"word1\"],df[\"word2\"], mot_poids, distance)\n",
    "                    df = df.dropna()\n",
    "                    corr, p_value = spearmanr(df[\"corr\"], df[\"corr_word2vec\"])\n",
    "                    all_cor.append(corr)\n",
    "                    all_p_val.append(p_value)\n",
    "                except OSError:\n",
    "                    break;     \n",
    "        \n",
    "    return([all_cor, all_p_val]);\n",
    "\n",
    "#corr_modele(\"data/100k/gensim/dim20_ep10_w3_lr01_seed1\", distance=\"cos\", gensimbool = True, epoch_max = 50)"
   ]
  },
  {
   "cell_type": "code",
   "execution_count": 104,
   "metadata": {},
   "outputs": [],
   "source": [
    "def tableau_corr_hji(dim = \"\\d*\", epoch = \"\\d*\", window = \"\\d*\",\n",
    "                     learning_rate = \"\\d*\", seed = \"\\d*\",\n",
    "                     distance=\"cos\", index = \"seed\", gensimbool = gensim_utile):    \n",
    "    if(isinstance(learning_rate, float)):\n",
    "        learning_rate = str(learning_rate)[2:]\n",
    "    if(isinstance(dim, list)):\n",
    "        dim = r.r['paste0'](\"(\",r.r['paste0'](\"(\",dim,\")\",collapse = \"|\"),\")\")[0]\n",
    "    if(isinstance(epoch, list)):\n",
    "        epoch = r.r['paste0'](\"(\",r.r['paste0'](\"(\",epoch,\")\",collapse = \"|\"),\")\")[0]\n",
    "    if(isinstance(window, list)):\n",
    "        window = r.r['paste0'](\"(\",r.r['paste0'](\"(\",window,\")\",collapse = \"|\"),\")\")[0]\n",
    "    if(isinstance(learning_rate, list)):\n",
    "        learning_rate = [str(lr)[2:] if isinstance(lr, float) else lr for lr in learning_rate]\n",
    "        learning_rate = r.r['paste0'](\"(\",r.r['paste0'](\"(\",learning_rate,\")\",collapse = \"|\"),\")\")[0]\n",
    "    if(isinstance(seed, list)):\n",
    "        seed = r.r['paste0'](\"(\",r.r['paste0'](\"(\",seed,\")\",collapse = \"|\"),\")\")[0]\n",
    "\n",
    "    requete_regexp = 'dim{}_ep{}_w{}_lr{}_seed{}'.format(dim, epoch, window, learning_rate, seed)\n",
    "    if gensimbool:\n",
    "        gensim_st = \"gensim/\"\n",
    "    else:\n",
    "        gensim_st = \"\"\n",
    "    dossiers = r.r['list.files'](path = 'data/{}/{}'.format(nom_dossier, gensim_st),\n",
    "                      pattern = requete_regexp)\n",
    "    dossiers = [dossiers[i] for i in range(len(dossiers))]\n",
    "    #dossiers = r.r['paste0']('data/{}/{}'.format(nom_dossier, gensim_st),dossiers)\n",
    "    \n",
    "    resultats = []\n",
    "    nom_cols = dossiers\n",
    "\n",
    "    for dossier in dossiers:\n",
    "        #nom_cols.append( \"dim{}_ep{}_lr{}_w{}\".format(simul[0], simul[1], simul[2], str(simul[3])[2:]))\n",
    "        #print(nom_cols)\n",
    "        resultats.append(corr_modele(chemin = 'data/{}/{}{}'.format(nom_dossier, gensim_st, dossier), \n",
    "                                 distance= distance,gensimbool = gensimbool))\n",
    "    max_len = max([len(x[0]) for x in resultats])\n",
    "    for i in range(len(resultats)):\n",
    "        if(len(resultats[i][0])<max_len):\n",
    "            resultats[i][0] = resultats[i][0] +[np.nan]*(max_len - len(resultats[i][0]))\n",
    "            resultats[i][1] = resultats[i][1] +[np.nan]*(max_len - len(resultats[i][1]))\n",
    "    #nom_lignes = [re.sub('_seed', 'Seed ', d) if d != \"\" else \"Pas de seed\" for d in dossiers ]\n",
    "    #nom_lignes = [\"Seed \" + str(s) for s in seeds]\n",
    "    dossiers_sep = [string.split('_') for string in dossiers]\n",
    "    all_dim = [r.r['grep'](\"^dim\", x, value = True)[0] for x in dossiers_sep]\n",
    "    all_ep = [r.r['grep'](\"^ep\", x, value = True)[0] for x in dossiers_sep]\n",
    "    all_w = [r.r['grep'](\"^w\", x, value = True)[0] for x in dossiers_sep]\n",
    "    all_lr = [r.r['grep'](\"^lr\", x, value = True)[0] for x in dossiers_sep]\n",
    "    all_seed = [r.r['grep'](\"^seed\", x, value = True)[0] for x in dossiers_sep]\n",
    "    all_name = [all_dim, all_ep, all_w, all_lr, all_seed]\n",
    "    correspondance = {'dim': 0,\n",
    "                  'epoch': 1,\n",
    "                  'window': 2,\n",
    "                  'learning_rate': 3,\n",
    "                 'seed': 4}\n",
    "    if not isinstance(index, list):\n",
    "        index = [index]\n",
    "    index_num = [correspondance[i] for i in index]\n",
    "    indexs = [all_name[i] for i in [0,1,2,3,4] if i in index_num ]\n",
    "    column = [all_name[i] for i in [0,1,2,3,4] if i not in index_num]\n",
    "    lignes = list(map(\"_\".join, zip(*indexs)))\n",
    "    colonnes = list(map(\"_\".join, zip(*column)))\n",
    "    pivot_df = pd.DataFrame({'lignes': lignes,\n",
    "                  'colonnes': colonnes})\n",
    "    \n",
    "    all_cor = pd.DataFrame([elem[0] for elem in resultats])\n",
    "    all_p_val = pd.DataFrame([elem[1] for elem in resultats])\n",
    "    all_cor.columns = all_p_val.columns = [\"values\"]\n",
    "\n",
    "\n",
    "    all_cor = pd.concat([pivot_df, all_cor], axis=1)\n",
    "    all_cor = all_cor.pivot(index = \"lignes\", columns = \"colonnes\", values = 'values')\n",
    "    all_p_val = pd.concat([pivot_df, all_p_val], axis=1)\n",
    "    all_p_val = all_p_val.pivot(index = \"lignes\", columns = \"colonnes\", values = 'values')\n",
    "    return([all_cor, all_p_val])"
   ]
  },
  {
   "cell_type": "code",
   "execution_count": 110,
   "metadata": {},
   "outputs": [
    {
     "name": "stdout",
     "output_type": "stream",
     "text": [
      "2\n",
      "| lignes   |   dim20_ep10_w3_lr01 |   dim50_ep10_w3_lr01 |\n",
      "|:---------|---------------------:|---------------------:|\n",
      "| seed1    |           -0.043956  |           -0.0274725 |\n",
      "| seed10   |           -0.214286  |           -0.0714286 |\n",
      "| seed15   |           -0.236264  |           -0.021978  |\n",
      "| seed20   |           -0.0824176 |           -0.120879  |\n",
      "| seed25   |           -0.159341  |           -0.043956  |\n",
      "| seed5    |            0         |           -0.131868  |\n"
     ]
    }
   ],
   "source": [
    "# Exemple : dim20_ep10_w3_lr01_seed1 et dim50_ep10_w3_lr01_seed1\n",
    "#resultats_hji = tableau_corr_hji(dim = [20,50], learning_rate = 0.01,\n",
    "#                       window = 3, epoch = 10, index=\"seed\",\n",
    "#                       distance = \"cos\")[0]\n",
    "\n",
    "resultats_hji = tableau_corr_hji(dim = [20,50], learning_rate = 0.01,\n",
    "                       window = 3, epoch = 10, seed = [1,5,10,15,20,25], index=\"seed\",\n",
    "                       distance = \"cos\")[0]\n",
    "\n",
    "##Il faut installer pandas 1.0 et tabulate\n",
    "#print(resultats_hji)\n",
    "print(resultats_hji.to_markdown())\n",
    "\n",
    "\n",
    "\n",
    "# OLD\n",
    "#seeds = [1, 5, 10, 15, 20, 25]\n",
    "\n",
    "#resultats_hji_cos = tableau_corr_hji(simuls, seeds, distance = \"cos\")\n",
    "#all_cor_cos = resultats_hji_cos[0]\n",
    "#all_p_val_cos = resultats_hji_cos[1]\n",
    "#all_cor_export_cos = round(all_cor_cos, 3).dropna()\n",
    "#print(all_cor_export_cos)\n",
    "\n",
    "\n",
    "#resultats_hji_eucl = tableau_corr_hji(simuls, seeds, distance = \"eucl\")\n",
    "#all_cor_eucl = resultats_hji_eucl[0]\n",
    "#all_p_val_eucl = resultats_hji_eucl[1]\n",
    "#all_cor_export_eucl = round(all_cor_eucl, 3).dropna()\n",
    "#print(all_cor_export_eucl)\n",
    "\n",
    "#print(all_cor_export_cos.to_markdown())\n",
    "#print(\"\\nDistance euclidienne :\\n\")\n",
    "#print(all_cor_export_eucl.to_markdown())"
   ]
  },
  {
   "cell_type": "code",
   "execution_count": 111,
   "metadata": {},
   "outputs": [],
   "source": [
    "from matplotlib.lines import Line2D\n",
    "\n",
    "def intervalles_confiance (simulations, distance = \"cos\"):\n",
    "    colors = sns.color_palette(\"hls\", 6)\n",
    "    fig = plt.figure(figsize = (12,6))    \n",
    "    ax = fig.add_axes([0.1, 0.1, 1, 1])\n",
    "    ax.set_xlim(-0.2,len(simulations)-1+.2)\n",
    "   # ax.set_ylim(-0.5,0.6) # seulement si besoin pour faire des graph comparables\n",
    "    for i in range(len(simulations)):\n",
    "        corr = tableau_corr_hji(dossiers, distance = distance, numero_simulation = simulations[i])[0]\n",
    "        corr_values = corr.iloc[:,-1].values.tolist()\n",
    "        ec = np.std(corr_values)\n",
    "        moy = np.mean(corr_values)\n",
    "        print(moy)\n",
    "        icm = moy - 1.96 * ec\n",
    "        icp = moy + 1.96 * ec\n",
    "        ax.errorbar(i, moy, yerr=1.96 * ec,ecolor = \"black\", alpha = 0.5) \n",
    "        ax.scatter([i]*len(corr_values), corr_values, c=colors, s = 100) \n",
    "        ax.errorbar(i, moy, xerr=0.1, ecolor = \"black\", alpha= 0.5)\n",
    "        \n",
    "    ax.set_xticks(list(range(len(simulations))))\n",
    "    #ax.set_xticklabels([\"Simul. n°%i\" %simul[i] for i in list(range(len(simul)))])\n",
    "    ax.set_xticklabels([\"lr=0.01\\n w=3\\n e=10\",\"lr=0.01\\n w=4\\n e=10\",\"lr=0.01\\n w=5\\n e=10\",\n",
    "                        \"lr=0.02\\n w=3\\n e=10\",\"lr=0.02\\n w=4\\n e=10\",\"lr=0.02\\n w=5\\n e=10\",\n",
    "                        \"lr=0.01\\n w=3\\n e=100\",\"lr=0.01\\n w=4\\n e=100\",\"lr=0.01\\n w=5\\n e=100\",\n",
    "                        \"lr=0.02\\n w=3\\n e=100\",\"lr=0.02\\n w=4\\n e=100\",\"lr=0.02\\n w=5\\n e=100\"])\n",
    "    plt.ylabel(\"Corrélation entre la distance \" + distance + \" et le l'indice de jugement humain\")\n",
    "    plt.xlabel(\"Simulation avec \"+ nom_dossier +\" tweets\")\n",
    "    custom_lines=[]\n",
    "    for i in range(len(colors)):\n",
    "        custom_lines.append(Line2D([0], [0], marker='o', color='w',\n",
    "                                   label='Scatter',markerfacecolor=colors[i], markersize=10))\n",
    "    ax.legend(custom_lines, [string[1:] for string in dossiers])"
   ]
  },
  {
   "cell_type": "code",
   "execution_count": 112,
   "metadata": {},
   "outputs": [
    {
     "ename": "NameError",
     "evalue": "name 'simulations' is not defined",
     "output_type": "error",
     "traceback": [
      "\u001b[1;31m---------------------------------------------------------------------------\u001b[0m",
      "\u001b[1;31mNameError\u001b[0m                                 Traceback (most recent call last)",
      "\u001b[1;32m<ipython-input-112-18cda1b25f11>\u001b[0m in \u001b[0;36m<module>\u001b[1;34m\u001b[0m\n\u001b[0;32m      1\u001b[0m intervalles_confiance (dim = [20,50], learning_rate = 0.01,\n\u001b[1;32m----> 2\u001b[1;33m                        window = 3, epoch = 10, seed = [1,5,10,15,20,25], distance = \"cos\")\n\u001b[0m\u001b[0;32m      3\u001b[0m \u001b[1;31m#dossiers = [\"_seed1\", \"_seed5\", \"_seed10\", \"_seed15\", \"_seed20\", \"_seed25\"]\u001b[0m\u001b[1;33m\u001b[0m\u001b[1;33m\u001b[0m\u001b[1;33m\u001b[0m\u001b[0m\n\u001b[0;32m      4\u001b[0m \u001b[1;31m#simul = [1,2,3,4,5,6,7,8,9,10,11,12]\u001b[0m\u001b[1;33m\u001b[0m\u001b[1;33m\u001b[0m\u001b[1;33m\u001b[0m\u001b[0m\n\u001b[0;32m      5\u001b[0m \u001b[1;33m\u001b[0m\u001b[0m\n",
      "\u001b[1;32m<ipython-input-111-575a1e7adb37>\u001b[0m in \u001b[0;36mintervalles_confiance\u001b[1;34m(dim, learning_rate, window, epoch, seed, distance)\u001b[0m\n\u001b[0;32m      5\u001b[0m     \u001b[0mfig\u001b[0m \u001b[1;33m=\u001b[0m \u001b[0mplt\u001b[0m\u001b[1;33m.\u001b[0m\u001b[0mfigure\u001b[0m\u001b[1;33m(\u001b[0m\u001b[0mfigsize\u001b[0m \u001b[1;33m=\u001b[0m \u001b[1;33m(\u001b[0m\u001b[1;36m12\u001b[0m\u001b[1;33m,\u001b[0m\u001b[1;36m6\u001b[0m\u001b[1;33m)\u001b[0m\u001b[1;33m)\u001b[0m\u001b[1;33m\u001b[0m\u001b[1;33m\u001b[0m\u001b[0m\n\u001b[0;32m      6\u001b[0m     \u001b[0max\u001b[0m \u001b[1;33m=\u001b[0m \u001b[0mfig\u001b[0m\u001b[1;33m.\u001b[0m\u001b[0madd_axes\u001b[0m\u001b[1;33m(\u001b[0m\u001b[1;33m[\u001b[0m\u001b[1;36m0.1\u001b[0m\u001b[1;33m,\u001b[0m \u001b[1;36m0.1\u001b[0m\u001b[1;33m,\u001b[0m \u001b[1;36m1\u001b[0m\u001b[1;33m,\u001b[0m \u001b[1;36m1\u001b[0m\u001b[1;33m]\u001b[0m\u001b[1;33m)\u001b[0m\u001b[1;33m\u001b[0m\u001b[1;33m\u001b[0m\u001b[0m\n\u001b[1;32m----> 7\u001b[1;33m     \u001b[0max\u001b[0m\u001b[1;33m.\u001b[0m\u001b[0mset_xlim\u001b[0m\u001b[1;33m(\u001b[0m\u001b[1;33m-\u001b[0m\u001b[1;36m0.2\u001b[0m\u001b[1;33m,\u001b[0m\u001b[0mlen\u001b[0m\u001b[1;33m(\u001b[0m\u001b[0msimulations\u001b[0m\u001b[1;33m)\u001b[0m\u001b[1;33m-\u001b[0m\u001b[1;36m1\u001b[0m\u001b[1;33m+\u001b[0m\u001b[1;36m.2\u001b[0m\u001b[1;33m)\u001b[0m\u001b[1;33m\u001b[0m\u001b[1;33m\u001b[0m\u001b[0m\n\u001b[0m\u001b[0;32m      8\u001b[0m    \u001b[1;31m# ax.set_ylim(-0.5,0.6) # seulement si besoin pour faire des graph comparables\u001b[0m\u001b[1;33m\u001b[0m\u001b[1;33m\u001b[0m\u001b[1;33m\u001b[0m\u001b[0m\n\u001b[0;32m      9\u001b[0m     \u001b[1;32mfor\u001b[0m \u001b[0mi\u001b[0m \u001b[1;32min\u001b[0m \u001b[0mrange\u001b[0m\u001b[1;33m(\u001b[0m\u001b[0mlen\u001b[0m\u001b[1;33m(\u001b[0m\u001b[0msimulations\u001b[0m\u001b[1;33m)\u001b[0m\u001b[1;33m)\u001b[0m\u001b[1;33m:\u001b[0m\u001b[1;33m\u001b[0m\u001b[1;33m\u001b[0m\u001b[0m\n",
      "\u001b[1;31mNameError\u001b[0m: name 'simulations' is not defined"
     ]
    },
    {
     "data": {
      "image/png": "[encoded data removed]",
      "text/plain": [
       "<Figure size 864x432 with 1 Axes>"
      ]
     },
     "metadata": {
      "needs_background": "light"
     },
     "output_type": "display_data"
    }
   ],
   "source": [
    "intervalles_confiance (dim = [20,50], learning_rate = 0.01,\n",
    "                       window = 3, epoch = 10, seed = [1,5,10,15,20,25], distance = \"cos\")\n",
    "#dossiers = [\"_seed1\", \"_seed5\", \"_seed10\", \"_seed15\", \"_seed20\", \"_seed25\"]\n",
    "#simul = [1,2,3,4,5,6,7,8,9,10,11,12]\n",
    "\n",
    "\n"
   ]
  },
  {
   "cell_type": "code",
   "execution_count": 50,
   "metadata": {
    "scrolled": true
   },
   "outputs": [
    {
     "name": "stdout",
     "output_type": "stream",
     "text": [
      "-0.1886446886446886\n",
      "-0.20238095238095236\n",
      "-0.1858974358974359\n",
      "0.3095238095238095\n",
      "0.24267399267399267\n",
      "0.10256410256410257\n",
      "0.4047619047619047\n",
      "0.4523809523809524\n",
      "0.41483516483516486\n",
      "0.4551282051282051\n",
      "0.43956043956043955\n",
      "0.4166666666666667\n"
     ]
    },
    {
     "data": {
      "image/png": "[encoded data removed]",
      "text/plain": [
       "<Figure size 864x432 with 1 Axes>"
      ]
     },
     "metadata": {
      "needs_background": "light"
     },
     "output_type": "display_data"
    }
   ],
   "source": [
    "intervalles_confiance(simuls, \"cos\")"
   ]
  },
  {
   "cell_type": "code",
   "execution_count": 51,
   "metadata": {},
   "outputs": [
    {
     "name": "stdout",
     "output_type": "stream",
     "text": [
      "0.23901098901098905\n",
      "0.2014652014652015\n",
      "0.20421245421245424\n",
      "0.3708791208791209\n",
      "0.30494505494505497\n",
      "0.21978021978021978\n",
      "0.4084249084249085\n",
      "0.3727106227106227\n",
      "0.3388278388278388\n",
      "0.4294871794871795\n",
      "0.4194139194139194\n",
      "0.3626373626373626\n"
     ]
    },
    {
     "data": {
      "image/png": "[encoded data removed]",
      "text/plain": [
       "<Figure size 864x432 with 1 Axes>"
      ]
     },
     "metadata": {
      "needs_background": "light"
     },
     "output_type": "display_data"
    }
   ],
   "source": [
    "intervalles_confiance(simul, \"eucl\")"
   ]
  },
  {
   "cell_type": "code",
   "execution_count": 25,
   "metadata": {},
   "outputs": [
    {
     "name": "stdout",
     "output_type": "stream",
     "text": [
      "0.03296703296703297\n",
      "-0.010989010989010985\n",
      "-0.022893772893772892\n",
      "0.2591575091575091\n",
      "0.326007326007326\n",
      "0.2802197802197802\n",
      "0.3836996336996337\n",
      "0.3965201465201465\n",
      "0.4276556776556777\n",
      "0.3452380952380952\n",
      "0.3717948717948718\n",
      "0.3534798534798535\n"
     ]
    },
    {
     "data": {
      "image/png": "[encoded data removed]",
      "text/plain": [
       "<Figure size 864x432 with 1 Axes>"
      ]
     },
     "metadata": {
      "needs_background": "light"
     },
     "output_type": "display_data"
    }
   ],
   "source": [
    "simul2 = [13,14,15,16,17,18,19,20,21,22,23,24]\n",
    "intervalles_confiance(simul2, \"cos\")"
   ]
  },
  {
   "cell_type": "code",
   "execution_count": 26,
   "metadata": {},
   "outputs": [
    {
     "name": "stdout",
     "output_type": "stream",
     "text": [
      "-0.30036630036630035\n",
      "-0.26373626373626374\n",
      "-0.2738095238095238\n",
      "-0.27930402930402926\n",
      "-0.2371794871794872\n",
      "-0.25366300366300365\n",
      "-0.2371794871794872\n",
      "-0.2353479853479854\n",
      "-0.2564102564102564\n",
      "-0.2692307692307693\n",
      "-0.2490842490842491\n",
      "-0.24450549450549453\n"
     ]
    },
    {
     "data": {
      "image/png": "[encoded data removed]",
      "text/plain": [
       "<Figure size 864x432 with 1 Axes>"
      ]
     },
     "metadata": {
      "needs_background": "light"
     },
     "output_type": "display_data"
    }
   ],
   "source": [
    "intervalles_confiance(simul2, \"eucl\")"
   ]
  },
  {
   "cell_type": "markdown",
   "metadata": {},
   "source": [
    "Fonction Romain provisoire pour tests de représentations graphiques. "
   ]
  },
  {
   "cell_type": "code",
   "execution_count": 32,
   "metadata": {},
   "outputs": [
    {
     "name": "stdout",
     "output_type": "stream",
     "text": [
      "-0.1886446886446886\n",
      "0.03296703296703297\n",
      "-0.20238095238095236\n",
      "-0.010989010989010985\n",
      "-0.1858974358974359\n",
      "-0.022893772893772892\n",
      "0.3095238095238095\n",
      "0.2591575091575091\n",
      "0.24267399267399267\n",
      "0.326007326007326\n",
      "0.10256410256410257\n",
      "0.2802197802197802\n",
      "0.4047619047619047\n",
      "0.3836996336996337\n",
      "0.4523809523809524\n",
      "0.3965201465201465\n",
      "0.41483516483516486\n",
      "0.4276556776556777\n",
      "0.4551282051282051\n",
      "0.3452380952380952\n",
      "0.43956043956043955\n",
      "0.3717948717948718\n",
      "0.4166666666666667\n",
      "0.3534798534798535\n"
     ]
    },
    {
     "data": {
      "image/png": "[encoded data removed]",
      "text/plain": [
       "<Figure size 2160x720 with 1 Axes>"
      ]
     },
     "metadata": {
      "needs_background": "light"
     },
     "output_type": "display_data"
    }
   ],
   "source": [
    "simul3 = [1,13,2,14,3,15,4,16,5,17,6,18,7,19,8,20,9,21,10,22,11,23,12,24]\n",
    "def intervalles_confiance2(simulations, distance = \"cos\"):\n",
    "    colors = sns.color_palette(\"hls\", 6)\n",
    "    fig = plt.figure(figsize = (30,10))    \n",
    "    ax = fig.add_axes([0.1, 0.1, 1, 1])\n",
    "    ax.set_xlim(-0.2,len(simulations)-1+.2)\n",
    "   # ax.set_ylim(-0.5,0.6) # seulement si besoin pour faire des graph comparables\n",
    "    for i in range(len(simulations)):\n",
    "        corr = tableau_corr_hji(dossiers, distance = distance, numero_simulation = simulations[i])[0]\n",
    "        corr_values = corr.iloc[:,-1].values.tolist()\n",
    "        ec = np.std(corr_values)\n",
    "        moy = np.mean(corr_values)\n",
    "        print(moy)\n",
    "        icm = moy - 1.96 * ec\n",
    "        icp = moy + 1.96 * ec\n",
    "        ax.errorbar(i, moy, yerr=1.96 * ec,ecolor = \"black\", alpha = 0.5) \n",
    "        ax.scatter([i]*len(corr_values), corr_values, c=colors, s = 100) \n",
    "        ax.errorbar(i, moy, xerr=0.1, ecolor = \"black\", alpha= 0.5)\n",
    "        \n",
    "    ax.set_xticks(list(range(len(simulations))))\n",
    "    #ax.set_xticklabels([\"Simul. n°%i\" %simul[i] for i in list(range(len(simul)))])\n",
    "    ax.set_xticklabels([\"lr=0.01\\n w=3\\n e=10\\n dim = 20\",\"lr=0.01\\n w=3\\n e=10\\n dim = 50\",\n",
    "                        \"lr=0.01\\n w=4\\n e=10\\n dim = 20\",\"lr=0.01\\n w=4\\n e=10\\n dim = 50\",\n",
    "                        \"lr=0.01\\n w=5\\n e=10\\n dim = 20\",\"lr=0.01\\n w=5\\n e=10\\n dim = 50\",\n",
    "                        \"lr=0.02\\n w=3\\n e=10\\n dim = 20\",\"lr=0.02\\n w=3\\n e=10\\n dim = 50\",\n",
    "                        \"lr=0.02\\n w=4\\n e=10\\n dim = 20\",\"lr=0.02\\n w=4\\n e=10\\n dim = 50\",\n",
    "                        \"lr=0.02\\n w=5\\n e=10\\n dim = 20\",\"lr=0.02\\n w=5\\n e=10\\n dim = 50\",\n",
    "                        \"lr=0.01\\n w=3\\n e=100\\n dim = 20\",\"lr=0.01\\n w=3\\n e=100\\n dim = 50\",\n",
    "                        \"lr=0.01\\n w=4\\n e=100\\n dim = 20\",\"lr=0.01\\n w=4\\n e=100\\n dim = 50\",\n",
    "                        \"lr=0.01\\n w=5\\n e=100\\n dim = 20\",\"lr=0.01\\n w=5\\n e=100\\n dim = 50\",\n",
    "                        \"lr=0.02\\n w=3\\n e=100\\n dim = 20\",\"lr=0.02\\n w=3\\n e=100\\n dim = 50\",\n",
    "                        \"lr=0.02\\n w=4\\n e=100\\n dim = 20\",\"lr=0.02\\n w=4\\n e=100\\n dim = 50\",\n",
    "                        \"lr=0.02\\n w=5\\n e=100\\n dim = 20\",\"lr=0.02\\n w=5\\n e=100\\n dim = 50\"\n",
    "                       ])\n",
    "    plt.ylabel(\"Corrélation entre la distance \" + distance + \" et le l'indice de jugement humain\")\n",
    "    plt.xlabel(\"Simulation avec \"+ nom_dossier +\" tweets\")\n",
    "    custom_lines=[]\n",
    "    for i in range(len(colors)):\n",
    "        custom_lines.append(Line2D([0], [0], marker='o', color='w',\n",
    "                                   label='Scatter',markerfacecolor=colors[i], markersize=10))\n",
    "    ax.legend(custom_lines, [string[1:] for string in dossiers])\n",
    "intervalles_confiance2(simul3, \"cos\")"
   ]
  }
 ],
 "metadata": {
  "kernelspec": {
   "display_name": "Python 3",
   "language": "python",
   "name": "python3"
  },
  "language_info": {
   "codemirror_mode": {
    "name": "ipython",
    "version": 3
   },
   "file_extension": ".py",
   "mimetype": "text/x-python",
   "name": "python",
   "nbconvert_exporter": "python",
   "pygments_lexer": "ipython3",
   "version": "3.7.4"
  }
 },
 "nbformat": 4,
 "nbformat_minor": 2
}
