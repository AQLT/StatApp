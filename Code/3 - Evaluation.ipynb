{
 "cells": [
  {
   "cell_type": "markdown",
   "metadata": {},
   "source": [
    "# Importation des données"
   ]
  },
  {
   "cell_type": "code",
   "execution_count": 16,
   "metadata": {},
   "outputs": [],
   "source": [
    "import os\n",
    "import string\n",
    "import re\n",
    "import math\n",
    "from math import sqrt\n",
    "import numpy as np\n",
    "import random\n",
    "import time\n",
    "import pandas as pd\n",
    "import nltk, re, pprint\n",
    "#nltk.download('punkt')\n",
    "from nltk import word_tokenize\n",
    "random.seed(1)\n",
    "np.random.seed(1)\n",
    "\n",
    "import matplotlib.pyplot as plt\n",
    "from IPython.display import clear_output\n",
    "from matplotlib import pyplot as plt\n",
    "import collections\n",
    "%matplotlib inline\n",
    "\n",
    "import torch\n",
    "import torch.nn as nn\n",
    "import torch.nn.functional as F\n",
    "import torch.optim as optim\n",
    "import torch.autograd as autograd\n",
    "\n",
    "import pickle\n",
    "\n",
    "#PCA & TSNE : \n",
    "from sklearn.preprocessing import StandardScaler\n",
    "from sklearn.decomposition import PCA\n",
    "from sklearn.manifold import TSNE\n",
    "from scipy.stats import spearmanr\n",
    "\n",
    "import plotly\n",
    "import plotly.graph_objs as go\n",
    "from plotly.offline import download_plotlyjs, init_notebook_mode, plot, iplot\n",
    "import cufflinks as cf\n",
    "import seaborn as sns\n",
    "\n",
    "import gensim\n",
    "from gensim.models import word2vec\n",
    "\n",
    "import rpy2.robjects as r"
   ]
  },
  {
   "cell_type": "code",
   "execution_count": 21,
   "metadata": {},
   "outputs": [
    {
     "data": {
      "text/plain": [
       "1348627"
      ]
     },
     "execution_count": 21,
     "metadata": {},
     "output_type": "execute_result"
    }
   ],
   "source": [
    "nom_dossier = \"100k\"\n",
    "gensim_utile = True #True pour le modèle google, False pour le modele ARK\n",
    "\n",
    "nom_dossier = \"ens\" \n",
    "\n",
    "#os.chdir('C:/Users/torna/Documents/StatApp/StatApp')\n",
    "os.chdir('/Users/alainquartierlatente/Desktop/Ensae/StatApp')\n",
    "#os.chdir('C:/Users/Kim Antunez/Documents/Projets_autres/StatApp')\n",
    "#os.chdir('/home/aqlt/Documents/Ensae/StatApp')\n",
    "\n",
    "\n",
    "with open(\"data/corpus_trie%s.file\" %nom_dossier, \"rb\") as f:\n",
    "    corpus = pickle.load(f) \n",
    "ens_tweets = [phrase.split() for phrase in corpus]\n",
    "len(ens_tweets)"
   ]
  },
  {
   "cell_type": "markdown",
   "metadata": {},
   "source": [
    "On crée index_mot et mot_index"
   ]
  },
  {
   "cell_type": "code",
   "execution_count": 27,
   "metadata": {},
   "outputs": [
    {
     "name": "stdout",
     "output_type": "stream",
     "text": [
      "<class 'list'>\n",
      "Nombre de mots : 31390592\n",
      "Taille du vocabulaire : 70330\n"
     ]
    }
   ],
   "source": [
    "phrases = ens_tweets\n",
    "words = [item for sublist in phrases for item in sublist]\n",
    "print(type(words))\n",
    "with open('data/%s/vocabulary.file' %nom_dossier, \"rb\") as f:\n",
    "    vocabulary = pickle.load(f) \n",
    "index_mot = {index: w for (index, w) in enumerate(vocabulary)}\n",
    "mot_index = {w: index for (index, w) in enumerate(vocabulary)}\n",
    "print(\"Nombre de mots :\", len(words))\n",
    "print(\"Taille du vocabulaire :\", len(vocabulary))\n",
    "fdist = nltk.FreqDist(words)"
   ]
  },
  {
   "cell_type": "code",
   "execution_count": 28,
   "metadata": {},
   "outputs": [
    {
     "name": "stdout",
     "output_type": "stream",
     "text": [
      "[('nickname', 1542945), ('de', 1097380), ('lowfrequencyword', 1082919), ('le', 712091), ('est', 589701), ('je', 541570), ('les', 509159), ('c', 493644), ('la', 485258), ('j', 475754), ('à', 463614), ('pas', 453761), ('en', 332771), ('que', 330610), ('un', 301553), ('et', 300208), ('a', 285976), ('ça', 261630), ('il', 249708), ('ai', 246562), ('l', 241270), ('mais', 230924), ('pour', 220047), ('tu', 202209), ('d', 197925), ('on', 195768), ('une', 185405), ('😂', 182836), ('me', 162163), ('ce', 158652), ('😭', 154803), ('qui', 153344), ('t', 144630), ('dans', 133250), ('sur', 132826), ('plus', 132698), ('moi', 123416), ('qu', 122897), ('mon', 121416), ('y', 118672), ('suis', 117578), ('fait', 113295), ('trop', 109829), ('avec', 109023), ('vous', 108423), ('bien', 107295), ('ma', 98729), ('si', 96658), ('tout', 93320), ('va', 88117), ('elle', 88025), ('m', 87131), ('même', 84683), ('faire', 83027), ('bon', 76618), ('quand', 75479), ('ne', 74787), ('toi', 74705), ('merci', 73715), ('mdr', 70519), ('comme', 69221), ('n', 68168), ('oui', 67737), ('non', 66689), ('ils', 66400), ('se', 66268), ('là', 65959), ('aussi', 63147), ('️', 62380), ('être', 62021), ('quoi', 58718), ('te', 58440), ('s', 53414), ('ou', 53295), ('as', 53280), ('vais', 52672), ('es', 51039), ('rien', 50822), ('ah', 50498), ('mes', 48550), ('était', 48283), ('par', 46548), ('sont', 45681), ('cette', 45454), ('vraiment', 45021), ('encore', 44206), ('faut', 43784), ('sa', 42856), ('voir', 40815), ('😍', 39842), ('alors', 39107), ('❤', 38840), ('son', 38636), ('ca', 38585), ('vie', 38139), ('nous', 38122), ('bah', 37805), ('fais', 37217), ('aime', 36502), ('vu', 35666)]\n"
     ]
    }
   ],
   "source": [
    "print(fdist.most_common(100))"
   ]
  },
  {
   "cell_type": "code",
   "execution_count": 8,
   "metadata": {},
   "outputs": [
    {
     "data": {
      "image/png": "[encoded data removed]",
      "text/plain": [
       "<Figure size 432x288 with 1 Axes>"
      ]
     },
     "metadata": {
      "needs_background": "light"
     },
     "output_type": "display_data"
    }
   ],
   "source": [
    "import matplotlib.pyplot as plt\n",
    "plt.hist(fdist.values(), bins=[0,10,20,50, 100, 200,400,800,max(fdist.values())],color='g') #width=100, range=(0, 50000)\n",
    "plt.xlim(xmin=0, xmax = 1100)\n",
    "plt.title('Fréquence des mots', fontsize=15)\n",
    "plt.show()"
   ]
  },
  {
   "cell_type": "markdown",
   "metadata": {},
   "source": [
    "# Fonctions générales\n",
    "\n",
    "## 1. Distances\n",
    "\n",
    "Pour tester la similarité entre deux mots, on calcule la **similarité cosinus** entre leur représentation vectorielle :\n",
    "$$\n",
    "\\frac{A \\cdot B}{|| A || \\cdot || B ||}\n",
    "$$\n",
    "\n",
    "On peut également calculer la **distance euclidienne** pour comparer les résultats avec ces deux métriques"
   ]
  },
  {
   "cell_type": "code",
   "execution_count": 9,
   "metadata": {},
   "outputs": [],
   "source": [
    "def cos_distance(u, v):\n",
    "    return (np.dot(u, v)  / (math.sqrt(np.dot(u, u)) *  (math.sqrt(np.dot(v, v)))))\n",
    "\n",
    "def eucl_distance(u, v):\n",
    "    return (1/(np.linalg.norm(u/np.dot(u, u)-v/np.dot(v, v)))+1)"
   ]
  },
  {
   "cell_type": "markdown",
   "metadata": {},
   "source": [
    "Cette fonction permet d'afficher les n mots les plus proche d'un mot (distance cosinus ou euclidienne)"
   ]
  },
  {
   "cell_type": "code",
   "execution_count": 10,
   "metadata": {},
   "outputs": [],
   "source": [
    "def mot_plus_proche(word, n=10, distance=\"cos\"):\n",
    "    word_distance = {}\n",
    "    for mot in mot_poids:\n",
    "        if mot != word:\n",
    "            if distance == \"cos\":\n",
    "                word_distance[mot] = (cos_distance(mot_poids[mot],(mot_poids[word])))\n",
    "            else:\n",
    "                word_distance[mot] = (eucl_distance(mot_poids[mot],(mot_poids[word])))\n",
    "    word_distance = sorted(word_distance.items(), key=lambda t: t[1],reverse=True)\n",
    "    return word_distance[0:n]"
   ]
  },
  {
   "cell_type": "markdown",
   "metadata": {},
   "source": [
    "Cette fonction permet de calculer la distance entre deux mots. "
   ]
  },
  {
   "cell_type": "code",
   "execution_count": 11,
   "metadata": {},
   "outputs": [],
   "source": [
    "def distance_mots(word1,word2, mot_poids, distance=\"cos\"):\n",
    "    if word1 in mot_poids.keys() and word2 in mot_poids.keys():\n",
    "        if(distance==\"cos\"):\n",
    "            word_distance = (cos_distance(mot_poids[word1],(mot_poids[word2])))\n",
    "        else:\n",
    "            word_distance = (eucl_distance(mot_poids[word1],(mot_poids[word2])))\n",
    "    else:\n",
    "        word_distance = float('nan')\n",
    "    return word_distance\n",
    "distance_mots_v = np.vectorize(distance_mots)"
   ]
  },
  {
   "cell_type": "markdown",
   "metadata": {},
   "source": [
    "# Evaluer un seul modèle \n",
    "\n",
    "Ecrire les bilans ici : https://github.com/AQLT/StatApp/blob/master/Code/Parametres%20lances.md\n",
    "\n",
    "\n",
    "## 1. Charger le modèle\n",
    "\n",
    "\n",
    "Paramètres à modifier "
   ]
  },
  {
   "cell_type": "code",
   "execution_count": 25,
   "metadata": {},
   "outputs": [],
   "source": [
    "if gensim_utile: # Pour le modèle Google\n",
    "    # renseigner dans l'ordre : dim, epoch, window, learning_rate\n",
    "    simul = [50,100,3,0.01] # une seule simulation dans cette partie\n",
    "    dim = simul[0]\n",
    "    epoch = simul[1]\n",
    "    window = simul[2]\n",
    "    learning_rate = simul[3]\n",
    "    seed = 1\n",
    "else: # Pour le modèle ARK (à modifier ultérieurement avec nouveau nommage)\n",
    "    numero_simulation = 2\n",
    "    seed = 1\n",
    "    derniere_epoch = 10 "
   ]
  },
  {
   "cell_type": "code",
   "execution_count": 29,
   "metadata": {},
   "outputs": [
    {
     "name": "stdout",
     "output_type": "stream",
     "text": [
      "data/ens/gensim/dim50_ep100_w3_lr01_seed1\n"
     ]
    }
   ],
   "source": [
    "if gensim_utile: # Pour le modèle Google\n",
    "    #chemin = \"data/\" + nom_dossier + \"/gensim/Simulation_\" + str(numero_simulation) +\"_seed\"+ str(seed)\n",
    "    chemin = \"data/{}/gensim/dim{}_ep{}_w{}_lr{}_seed{}\".format(nom_dossier, dim, epoch, window, str(learning_rate)[2:], seed)  \n",
    "    model = gensim.models.keyedvectors.KeyedVectors.load(chemin + \"/word2vec.model\")\n",
    "    py_list = []\n",
    "    for mot in vocabulary:\n",
    "         py_list.append(model.wv[mot].tolist())   \n",
    "    mat_finale = torch.FloatTensor(py_list)\n",
    "else: # Pour le modèle ARK (à modifier ultérieurement avec nouveau nommage)\n",
    "    with open('data/%s/Simulation_%i_seed%i/input_%i.file' %(nom_dossier, numero_simulation, seed, derniere_epoch) , \"rb\") as f:\n",
    "        input = pickle.load(f)\n",
    "    with open('data/%s/Simulation_%i_seed%i/output_%i.file' %(nom_dossier, numero_simulation, seed, derniere_epoch), \"rb\") as f:\n",
    "        output = pickle.load(f)\n",
    "    mat_finale = (input+output)/2 \n",
    "    \n",
    "mot_poids = {index_mot[index]: poids.detach().numpy() for (index, poids) in enumerate(mat_finale)}"
   ]
  },
  {
   "cell_type": "markdown",
   "metadata": {},
   "source": [
    "## 2. Mots les plus proches"
   ]
  },
  {
   "cell_type": "code",
   "execution_count": 30,
   "metadata": {
    "scrolled": false
   },
   "outputs": [
    {
     "name": "stdout",
     "output_type": "stream",
     "text": [
      "Pour le mot \"tweet\" (12734 apparitions), les mots les plus proches sont : \n",
      "cosinus : [('commentaire', 0.8120738862761055), ('thread', 0.8034873133141094), ('prénom', 0.7921359576750122), ('twit', 0.7883117471212971), ('message', 0.7843599412022436), ('gif', 0.7684524833414121), ('hashtag', 0.7494824495553114), ('sujet', 0.7469473759062351), ('texte', 0.7461472336588743), ('mot', 0.7320564323615006)]\n",
      "euclidienne : [('thread', 25.283503393406562), ('commentaire', 24.67298694850615), ('prénom', 24.44062751108611), ('message', 24.01051794943361), ('num', 21.925232731284876), ('sujet', 21.735680790558508), ('profil', 21.065805954302053), ('texte', 21.060647493691896), ('mail', 20.699065049110533), ('lien', 20.63259827106755)]\n",
      "\n",
      "\n",
      "Pour le mot \"bonjour\" (17043 apparitions), les mots les plus proches sont : \n",
      "cosinus : [('bonsoir', 0.9133224755780629), ('bjr', 0.8258046535987295), ('hello', 0.7998790493979635), ('salut', 0.6852745933350016), ('coucou', 0.6713989134021601), ('transmets', 0.6390266022170167), ('nenuit', 0.636582400952103), ('morin', 0.6310030411223816), ('navré', 0.6219477055851795), ('valie', 0.6160265484806604)]\n",
      "euclidienne : [('bonsoir', 25.712429686129155), ('bjr', 20.534941750044283), ('hello', 19.574350590782153), ('transmets', 15.60544319325531), ('navré', 15.426843368930253), ('navrée', 15.387406614803094), ('contacter', 15.036999026638643), ('désagrément', 14.77733269116039), ('disposition', 14.416418307453496), ('joindre', 14.317787515082237)]\n",
      "\n",
      "\n",
      "Pour le mot \"wesh\" (3796 apparitions), les mots les plus proches sont : \n",
      "cosinus : [('wsh', 0.9295873648160008), ('ptdrr', 0.8485089383793263), ('ptdrrr', 0.8253330168028953), ('ptdrrrr', 0.8111162458116266), ('ptdrrrrrr', 0.8068252805318515), ('ptdrrrrr', 0.7903429247956358), ('ptdr', 0.7871687658883475), ('mdrrrr', 0.7850968310950417), ('ptdrrrrrrr', 0.7578749776566961), ('ptddr', 0.7575455032218331)]\n",
      "euclidienne : [('wsh', 17.21994433136764), ('ptdrr', 11.919504915487524), ('ptdrrrrrr', 11.649625285060033), ('ptdrrr', 11.639100187348673), ('ptdrrrr', 11.020437499318746), ('ptdrrrrr', 10.98746433692331), ('ptdrrrrrrr', 10.76078742714829), ('ptddr', 10.559222637294718), ('wlh', 10.518131169613175), ('wallah', 10.503215160200071)]\n",
      "\n",
      "\n",
      "Pour le mot \"gros\" (22359 apparitions), les mots les plus proches sont : \n",
      "cosinus : [('vieux', 0.7517000305310017), ('pti', 0.7004609926438476), ('ptit', 0.6618464219389604), ('sacré', 0.6410908334599572), ('chomeur', 0.6319650409680548), ('vieu', 0.6237441248412378), ('grincheux', 0.613346545750296), ('mauvais', 0.5718350393617354), ('petit', 0.5652914707978045), ('monumental', 0.5579638293264286)]\n",
      "euclidienne : [('vieux', 13.522749580328705), ('pti', 13.17497390028562), ('ptit', 12.541810404281497), ('sacré', 12.190087725536568), ('mauvais', 11.474496642828758), ('ptits', 11.277648064921653), ('petit', 11.113353914530238), ('sales', 11.011875260753643), ('grands', 10.941860243759695), ('tit', 10.935691403541954)]\n",
      "\n",
      "\n",
      "Pour le mot \"grosse\" (9608 apparitions), les mots les plus proches sont : \n",
      "cosinus : [('vieille', 0.7567619624767566), ('ptite', 0.7534014127292537), ('petite', 0.7516521364735744), ('sacrée', 0.7437538499121088), ('grande', 0.7159587493382151), ('lyonnaise', 0.6877736586752632), ('vraie', 0.667372258786955), ('blanche', 0.6660898508603055), ('gross', 0.655718367599701), ('géante', 0.6420686013910268)]\n",
      "euclidienne : [('sacrée', 19.53082247621651), ('ptite', 19.50497458866338), ('petite', 18.242552621861094), ('vieille', 18.114477094590455), ('grande', 18.006335987382002), ('tite', 16.783541445903648), ('blanche', 16.770844875452045), ('vraie', 16.425385359588116), ('telle', 16.01035969443302), ('mauvaise', 15.828014218872354)]\n",
      "\n",
      "\n",
      "Pour le mot \"femme\" (6177 apparitions), les mots les plus proches sont : \n",
      "cosinus : [('fille', 0.9313908563569919), ('lionne', 0.8065915922280288), ('copine', 0.7976544169966076), ('chienne', 0.7947066181494606), ('tumeur', 0.7928969949839129), ('bénédiction', 0.7821620717289542), ('meuf', 0.7811790817561532), ('princesse', 0.7788414285700455), ('profession', 0.7777300340434923), ('peluche', 0.7767101527624268)]\n",
      "euclidienne : [('fille', 40.77323302339547), ('copine', 24.869004571679984), ('chienne', 23.91857663018649), ('tante', 23.38896166471804), ('sœur', 22.973927662118374), ('barbe', 22.95463123463113), ('peluche', 22.771860391705466), ('soeur', 22.488315670653886), ('meuf', 22.20584625785605), ('famille', 22.19100751589333)]\n",
      "\n",
      "\n",
      "Pour le mot \"romain\" (411 apparitions), les mots les plus proches sont : \n",
      "cosinus : [('antoine', 0.7115259109469037), ('guillaume', 0.7090393052180001), ('guigui', 0.666797830531052), ('malo', 0.661996193018171), ('maxime', 0.6499511776090482), ('mathilde', 0.6460556995369864), ('quentin', 0.6397506245374073), ('sylvain', 0.6387028938686382), ('augustin', 0.6344424140757289), ('justine', 0.6323674185926119)]\n",
      "euclidienne : [('guillaume', 11.9416917468965), ('antoine', 11.75779867443274), ('malo', 11.322125283282611), ('maxime', 10.801690809331612), ('christophe', 10.747648980797125), ('justine', 10.743986115710015), ('fourcade', 10.689899765379456), ('michel', 10.598102715739818), ('martin', 10.574530945618996), ('quentin', 10.549754944529443)]\n",
      "\n",
      "\n"
     ]
    }
   ],
   "source": [
    "mots = [\"tweet\", \"bonjour\", \"wesh\", \"gros\", \"grosse\", \"femme\",\"romain\"]\n",
    "for mot in mots:\n",
    "    if mot in mot_index:\n",
    "        print('Pour le mot \"%s\"' %mot + \" (%i apparitions), les mots les plus proches sont : \" %fdist[mot])\n",
    "        print('cosinus :',mot_plus_proche(mot,distance = \"cos\"))\n",
    "        print('euclidienne :',mot_plus_proche(mot,distance = \"eucl\"))\n",
    "        print(\"\\n\")"
   ]
  },
  {
   "cell_type": "markdown",
   "metadata": {},
   "source": [
    "## 3. Réduction de dimension (ACP, TSNE)"
   ]
  },
  {
   "cell_type": "markdown",
   "metadata": {},
   "source": [
    "### A. Listes de mots utilisées\n",
    "\n",
    "**Liste 1** correspond à une liste de mot que nous choississons nous-même d'évaluer. "
   ]
  },
  {
   "cell_type": "code",
   "execution_count": 44,
   "metadata": {},
   "outputs": [],
   "source": [
    "liste1 = [[\"poli\",\"courtois\",\"bonjour\",\"salut\"],[\"canapé\",\"fauteuil\",\"table\",\"chaise\"],\n",
    "    [\"téléphone\",\"portable\",\"numéro\",\"appel\"],[\"voiture\",\"camion\",\"vélo\",\"train\"],\n",
    "         [\"beau\",\"mignon\",\"bg\",\"mannequin\"],[\"docteur\",\"médecin\",\"santé\",\"bobo\"],\n",
    "         [\"belle\",\"jolie\",\"mignonne\",\"bellegosse\"],[\"père\",\"papa\",\"daron\"],\n",
    "         [\"mère\",\"maman\",\"daronne\"],[\"ol\",\"psg\",\"foot\",\"stade\"]]\n",
    "\n",
    "#liste1 = [[\"homme\",\"femme\", \"enfant\"],[\"chien\",\"chat\"],\n",
    "#         [\"vanille\",\"chocolat\"],\n",
    "#    [\"poli\",\"courtois\"],[\"bonjour\",\"salut\"],[\"propre\",\"sale\"],[\"canapé\",\"fauteuil\"],\n",
    "#    [\"téléphone\",\"portable\"],[\"voiture\",\"camion\"],[\"grand\",\"petit\"]]\n",
    "\n",
    "#liste1 = [[\"homme\", \"tttttttttt\",\"femme\",\"sexe\",\"genre\",\"mari\",\"épouse\",\"famille\",\"inégalités\",\"enfant\",\"amour\",\"couple\",\"différence\"],\n",
    "#    [\"chien\",\"chat\",\"animal\",\"domestique\",\"maison\",\"aboyer\",\"miauler\",\"labrador\",\"poil\",\"pattes\",\"spa\",\"ami\"],\n",
    "#    [\"vanille\",\"chocolat\",\"parfum\",\"goût\",\"fraise\",\"glace\",\"boule\",\"gâteau\",\"bonbon\",\"blanc\",\"noir\",\"préférence\"],\n",
    "#    [\"poli\",\"courtois\",\"bonjour\",\"merci\",\"pardon\",\"stp\",\"règles\",\"apprendre\",\"savoir-vivre\",\"savoir-être\",\"formule\",\"demander\"],\n",
    "#    [\"choqué\",\"horrifié\",\"peur\",\"terreur\",\"phobie\",\"clown\",\"noir\",\"araignée\",\"rat\",\"cri\",\"oh\",\"ah\"],\n",
    "#    [\"propre\",\"sale\",\"nettoyer\",\"vaisselle\",\"laver\",\"savon\",\"produit\",\"salissures\",\"traces\",\"net\",\"éclatant\",\"brillant\"],\n",
    "#    [\"canapé\",\"fauteuil\",\"maison\",\"salon\",\"assis\",\"confortable\",\"sofa\",\"convertible\",\"cuir\",\"télé\",\"accoudoir\",\"plaid\"],\n",
    "#    [\"téléphone\",\"portable\",\"appel\",\"allo\",\"décrocher\",\"sms\",\"numéro\",\"mobile\",\"orange\",\"sfr\",\"free\",\"bouygues\"],\n",
    "#    [\"voiture\",\"camion\",\"moto\",\"véhicule\",\"conduire\",\"rouler\",\"conducteur\",\"volant\",\"chauffeur\",\"permis\",\"vitesse\",\"passager\"],\n",
    "#    [\"grand\",\"petit\",\"taille\",\"géant\",\"nain\",\"s\",\"m\",\"l\",\"xl\",\"mesure\",\"énorme\",\"longueur\"]\n",
    "#]"
   ]
  },
  {
   "cell_type": "markdown",
   "metadata": {},
   "source": [
    "**Liste 2** tire au sort une liste de mots regroupés selon leur fréquence d'apparition. "
   ]
  },
  {
   "cell_type": "code",
   "execution_count": 45,
   "metadata": {},
   "outputs": [],
   "source": [
    "np.random.seed(1)\n",
    "\n",
    "mots0_20 = dict()\n",
    "mots20_100 = dict()\n",
    "mots100_1000 = dict()\n",
    "mots1000_max = dict()\n",
    "\n",
    "for (key, value) in fdist.items():\n",
    "    if value <= 20 :\n",
    "        mots0_20[key] = value\n",
    "    if value > 20 and value <= 100 :\n",
    "        mots20_100[key] = value\n",
    "    if value > 100 and value <= 1000 :\n",
    "        mots100_1000[key] = value        \n",
    "    if value > 1000 :\n",
    "        mots1000_max[key] = value\n",
    "\n",
    "\n",
    "liste_0_20 = list(np.random.choice(list(mots0_20.keys()), size=100))\n",
    "liste_20_100 = list(np.random.choice(list(mots20_100.keys()), size=100))\n",
    "liste_100_1000 = list(np.random.choice(list(mots100_1000.keys()), size=100))\n",
    "liste_1000_max = list(np.random.choice(list(mots1000_max.keys()), size=100))\n",
    "\n",
    "liste2 = [liste_0_20, liste_20_100, liste_100_1000, liste_1000_max]"
   ]
  },
  {
   "cell_type": "markdown",
   "metadata": {},
   "source": [
    "### B. ACP"
   ]
  },
  {
   "cell_type": "code",
   "execution_count": 46,
   "metadata": {},
   "outputs": [],
   "source": [
    "def ACP(liste, statique = True, nom_couples_explicite=True):\n",
    "    # On enlève les mots qui n'existent pas\n",
    "    liste_triee =[]\n",
    "    for couple in liste:\n",
    "        liste_triee.append([w for w in couple if w in mot_index]) \n",
    "    liste_mots = [w for couple in liste_triee for w in couple]\n",
    "\n",
    "    df_res = pd.DataFrame.from_dict(mot_poids).transpose()\n",
    "    df_res = df_res.loc[liste_mots]\n",
    "    df_res['label'] = 'Autre' \n",
    "\n",
    "    if nom_couples_explicite:\n",
    "        for couple in liste_triee:\n",
    "            df_res.loc[couple,'label'] = '/'.join(couple)\n",
    "    else:\n",
    "        for i in range(0, len(liste_triee)):\n",
    "            df_res.loc[liste_triee[i],'label'] = \"Couple %i\" %i        \n",
    "\n",
    "    features = list(range(0, len(liste_triee)))\n",
    "    # Separating out the features\n",
    "    x = df_res.loc[:, features].values\n",
    "    # Separating out the target\n",
    "    y = df_res.loc[:,['label']].values\n",
    "    # Standardizing the features\n",
    "    x = StandardScaler().fit_transform(x)\n",
    "\n",
    "    pca = PCA(n_components=2)\n",
    "    principalComponents = pca.fit_transform(x)\n",
    "    principalDf = pd.DataFrame(data = principalComponents\n",
    "                 , columns = ['Axe 1', 'Axe 2'])\n",
    "\n",
    "    df_res['mot'] = df_res.index.values\n",
    "    df_res = df_res.reset_index()\n",
    "\n",
    "    finalDf = pd.concat([principalDf, df_res[['label','mot']]],  axis = 1)\n",
    "\n",
    "    if statique:\n",
    "        # Représentation simple statique \n",
    "        fig = plt.figure(figsize = (12,8))\n",
    "\n",
    "        g = sns.scatterplot(x=\"Axe 1\", y=\"Axe 2\",\n",
    "                        hue=\"label\", data=finalDf, s = 150)\n",
    "        handles, labels = g.get_legend_handles_labels()\n",
    "        box = g.get_position()\n",
    "        g.set_position([box.x0, box.y0, box.width * 0.85, box.height]) # resize position\n",
    "\n",
    "        # Put a legend to the right side\n",
    "        g.legend(loc='center right', bbox_to_anchor=(1.3, 0.5), ncol=1,\n",
    "                 handles=handles[1:], labels=list(dict.fromkeys(finalDf[\"label\"])))\n",
    "    else:\n",
    "        init_notebook_mode(connected=True)\n",
    "\n",
    "        cf.go_offline()\n",
    "        cf.set_config_file(offline=False, world_readable=True)\n",
    "\n",
    "        #Travailler avec sous-table sinon trop lourd\n",
    "        #subFinalDf = pd.concat([finalDf[(finalDf['label'] != \"Autre\")],finalDf.iloc[1:100:]],  axis = 0)\n",
    "        subFinalDf = pd.concat([finalDf],  axis = 0)\n",
    "\n",
    "        subFinalDf.iplot(kind='scatter',\n",
    "                      mode='markers',\n",
    "                      x='Axe 1',\n",
    "                      y='Axe 2',\n",
    "                      categories='label',\n",
    "                      text='mot',\n",
    "                      xTitle='Axe 1',\n",
    "                      yTitle='Axe 2',\n",
    "                      title='ACP en 2 composantes',\n",
    "                      filename='cufflinks/simple-scatter')\n"
   ]
  },
  {
   "cell_type": "code",
   "execution_count": 47,
   "metadata": {},
   "outputs": [
    {
     "data": {
      "image/png": "[encoded data removed]",
      "text/plain": [
       "<Figure size 864x576 with 1 Axes>"
      ]
     },
     "metadata": {
      "needs_background": "light"
     },
     "output_type": "display_data"
    }
   ],
   "source": [
    "ACP(liste1, statique = True)"
   ]
  },
  {
   "cell_type": "code",
   "execution_count": 48,
   "metadata": {},
   "outputs": [
    {
     "data": {
      "text/html": [
       "        <script type=\"text/javascript\">\n",
       "        window.PlotlyConfig = {MathJaxConfig: 'local'};\n",
       "        if (window.MathJax) {MathJax.Hub.Config({SVG: {font: \"STIX-Web\"}});}\n",
       "        if (typeof require !== 'undefined') {\n",
       "        require.undef(\"plotly\");\n",
       "        requirejs.config({\n",
       "            paths: {\n",
       "                'plotly': ['https://cdn.plot.ly/plotly-latest.min']\n",
       "            }\n",
       "        });\n",
       "        require(['plotly'], function(Plotly) {\n",
       "            window._Plotly = Plotly;\n",
       "        });\n",
       "        }\n",
       "        </script>\n",
       "        "
      ]
     },
     "metadata": {},
     "output_type": "display_data"
    },
    {
     "data": {
      "text/html": [
       "        <script type=\"text/javascript\">\n",
       "        window.PlotlyConfig = {MathJaxConfig: 'local'};\n",
       "        if (window.MathJax) {MathJax.Hub.Config({SVG: {font: \"STIX-Web\"}});}\n",
       "        if (typeof require !== 'undefined') {\n",
       "        require.undef(\"plotly\");\n",
       "        requirejs.config({\n",
       "            paths: {\n",
       "                'plotly': ['https://cdn.plot.ly/plotly-latest.min']\n",
       "            }\n",
       "        });\n",
       "        require(['plotly'], function(Plotly) {\n",
       "            window._Plotly = Plotly;\n",
       "        });\n",
       "        }\n",
       "        </script>\n",
       "        "
      ]
     },
     "metadata": {},
     "output_type": "display_data"
    },
    {
     "name": "stderr",
     "output_type": "stream",
     "text": [
      "C:\\Users\\Kim Antunez\\Anaconda3\\lib\\site-packages\\cufflinks\\plotlytools.py:808: FutureWarning:\n",
      "\n",
      "The pandas.np module is deprecated and will be removed from pandas in a future version. Import numpy directly instead\n",
      "\n",
      "C:\\Users\\Kim Antunez\\Anaconda3\\lib\\site-packages\\cufflinks\\plotlytools.py:811: FutureWarning:\n",
      "\n",
      "The pandas.np module is deprecated and will be removed from pandas in a future version. Import numpy directly instead\n",
      "\n"
     ]
    },
    {
     "data": {
      "application/vnd.plotly.v1+json": {
       "config": {
        "linkText": "Export to plot.ly",
        "plotlyServerURL": "https://plot.ly",
        "showLink": true
       },
       "data": [
        {
         "marker": {
          "color": "rgba(255, 153, 51, 1.0)",
          "line": {
           "width": 1.3
          },
          "opacity": 0.8,
          "size": 12,
          "symbol": "circle"
         },
         "mode": "markers",
         "name": "poli/bonjour/salut",
         "text": [
          "poli",
          "bonjour",
          "salut"
         ],
         "textfont": {
          "color": "#4D5663"
         },
         "type": "scatter",
         "x": [
          -1.540838599205017,
          -0.8502200245857239,
          -2.0901336669921875
         ],
         "y": [
          -0.04503554478287697,
          6.298001766204834,
          1.5992193222045898
         ]
        },
        {
         "marker": {
          "color": "rgba(55, 128, 191, 1.0)",
          "line": {
           "width": 1.3
          },
          "opacity": 0.8,
          "size": 12,
          "symbol": "circle"
         },
         "mode": "markers",
         "name": "canapé/fauteuil/table/chaise",
         "text": [
          "canapé",
          "fauteuil",
          "table",
          "chaise"
         ],
         "textfont": {
          "color": "#4D5663"
         },
         "type": "scatter",
         "x": [
          -0.4902862012386322,
          -1.1817821264266968,
          0.1690956950187683,
          0.18368782103061676
         ],
         "y": [
          0.07668621838092804,
          -0.10812008380889893,
          -0.18280355632305145,
          -0.3112567067146301
         ]
        },
        {
         "marker": {
          "color": "rgba(50, 171, 96, 1.0)",
          "line": {
           "width": 1.3
          },
          "opacity": 0.8,
          "size": 12,
          "symbol": "circle"
         },
         "mode": "markers",
         "name": "téléphone/portable/numéro/appel",
         "text": [
          "téléphone",
          "portable",
          "numéro",
          "appel"
         ],
         "textfont": {
          "color": "#4D5663"
         },
         "type": "scatter",
         "x": [
          1.8838412761688232,
          -0.09087928384542465,
          1.7879914045333862,
          0.2548046410083771
         ],
         "y": [
          0.6847650408744812,
          0.5834412574768066,
          1.1498653888702393,
          0.3466484248638153
         ]
        },
        {
         "marker": {
          "color": "rgba(128, 0, 128, 1.0)",
          "line": {
           "width": 1.3
          },
          "opacity": 0.8,
          "size": 12,
          "symbol": "circle"
         },
         "mode": "markers",
         "name": "voiture/camion/vélo/train",
         "text": [
          "voiture",
          "camion",
          "vélo",
          "train"
         ],
         "textfont": {
          "color": "#4D5663"
         },
         "type": "scatter",
         "x": [
          2.3884541988372803,
          -0.9501842260360718,
          -0.8642545342445374,
          1.4734916687011719
         ],
         "y": [
          -1.2207242250442505,
          -0.10501223802566528,
          0.016646932810544968,
          -0.1554775834083557
         ]
        },
        {
         "marker": {
          "color": "rgba(219, 64, 82, 1.0)",
          "line": {
           "width": 1.3
          },
          "opacity": 0.8,
          "size": 12,
          "symbol": "circle"
         },
         "mode": "markers",
         "name": "beau/mignon/bg/mannequin",
         "text": [
          "beau",
          "mignon",
          "bg",
          "mannequin"
         ],
         "textfont": {
          "color": "#4D5663"
         },
         "type": "scatter",
         "x": [
          -0.7663766741752625,
          -2.615074396133423,
          -1.5472480058670044,
          -1.400858759880066
         ],
         "y": [
          -1.1522022485733032,
          -1.3560376167297363,
          0.2667441666126251,
          0.05544457212090492
         ]
        },
        {
         "marker": {
          "color": "rgba(0, 128, 128, 1.0)",
          "line": {
           "width": 1.3
          },
          "opacity": 0.8,
          "size": 12,
          "symbol": "circle"
         },
         "mode": "markers",
         "name": "docteur/médecin/santé/bobo",
         "text": [
          "docteur",
          "médecin",
          "santé",
          "bobo"
         ],
         "textfont": {
          "color": "#4D5663"
         },
         "type": "scatter",
         "x": [
          -1.224129319190979,
          -0.23727494478225708,
          -0.3259865641593933,
          -1.2045961618423462
         ],
         "y": [
          0.12965819239616394,
          0.5171597599983215,
          -0.2679980397224426,
          -0.09977713227272034
         ]
        },
        {
         "marker": {
          "color": "rgba(255, 255, 51, 1.0)",
          "line": {
           "width": 1.3
          },
          "opacity": 0.8,
          "size": 12,
          "symbol": "circle"
         },
         "mode": "markers",
         "name": "belle/jolie/mignonne",
         "text": [
          "belle",
          "jolie",
          "mignonne"
         ],
         "textfont": {
          "color": "#4D5663"
         },
         "type": "scatter",
         "x": [
          -0.7477683424949646,
          -1.6979302167892456,
          -1.5786364078521729
         ],
         "y": [
          -4.608525276184082,
          -1.866927981376648,
          -2.399090528488159
         ]
        },
        {
         "marker": {
          "color": "rgba(128, 128, 0, 1.0)",
          "line": {
           "width": 1.3
          },
          "opacity": 0.8,
          "size": 12,
          "symbol": "circle"
         },
         "mode": "markers",
         "name": "père/papa/daron",
         "text": [
          "père",
          "papa",
          "daron"
         ],
         "textfont": {
          "color": "#4D5663"
         },
         "type": "scatter",
         "x": [
          3.7203235626220703,
          -0.12273610383272171,
          1.8552730083465576
         ],
         "y": [
          1.2905082702636719,
          0.39350625872612,
          0.8037312626838684
         ]
        },
        {
         "marker": {
          "color": "rgba(251, 128, 114, 1.0)",
          "line": {
           "width": 1.3
          },
          "opacity": 0.8,
          "size": 12,
          "symbol": "circle"
         },
         "mode": "markers",
         "name": "mère/maman/daronne",
         "text": [
          "mère",
          "maman",
          "daronne"
         ],
         "textfont": {
          "color": "#4D5663"
         },
         "type": "scatter",
         "x": [
          7.287296772003174,
          1.510010004043579,
          1.0873651504516602
         ],
         "y": [
          -1.4661779403686523,
          -0.2989862859249115,
          -0.47879213094711304
         ]
        },
        {
         "marker": {
          "color": "rgba(128, 177, 211, 1.0)",
          "line": {
           "width": 1.3
          },
          "opacity": 0.8,
          "size": 12,
          "symbol": "circle"
         },
         "mode": "markers",
         "name": "ol/psg/foot/stade",
         "text": [
          "ol",
          "psg",
          "foot",
          "stade"
         ],
         "textfont": {
          "color": "#4D5663"
         },
         "type": "scatter",
         "x": [
          -1.3091204166412354,
          -0.4533451497554779,
          -0.22799646854400635,
          -0.08397676050662994
         ],
         "y": [
          -4.2538755224086344e-05,
          0.590236485004425,
          1.2032264471054077,
          0.11749715358018875
         ]
        }
       ],
       "layout": {
        "legend": {
         "bgcolor": "#F5F6F9",
         "font": {
          "color": "#4D5663"
         }
        },
        "paper_bgcolor": "#F5F6F9",
        "plot_bgcolor": "#F5F6F9",
        "template": {
         "data": {
          "bar": [
           {
            "error_x": {
             "color": "#2a3f5f"
            },
            "error_y": {
             "color": "#2a3f5f"
            },
            "marker": {
             "line": {
              "color": "#E5ECF6",
              "width": 0.5
             }
            },
            "type": "bar"
           }
          ],
          "barpolar": [
           {
            "marker": {
             "line": {
              "color": "#E5ECF6",
              "width": 0.5
             }
            },
            "type": "barpolar"
           }
          ],
          "carpet": [
           {
            "aaxis": {
             "endlinecolor": "#2a3f5f",
             "gridcolor": "white",
             "linecolor": "white",
             "minorgridcolor": "white",
             "startlinecolor": "#2a3f5f"
            },
            "baxis": {
             "endlinecolor": "#2a3f5f",
             "gridcolor": "white",
             "linecolor": "white",
             "minorgridcolor": "white",
             "startlinecolor": "#2a3f5f"
            },
            "type": "carpet"
           }
          ],
          "choropleth": [
           {
            "colorbar": {
             "outlinewidth": 0,
             "ticks": ""
            },
            "type": "choropleth"
           }
          ],
          "contour": [
           {
            "colorbar": {
             "outlinewidth": 0,
             "ticks": ""
            },
            "colorscale": [
             [
              0,
              "#0d0887"
             ],
             [
              0.1111111111111111,
              "#46039f"
             ],
             [
              0.2222222222222222,
              "#7201a8"
             ],
             [
              0.3333333333333333,
              "#9c179e"
             ],
             [
              0.4444444444444444,
              "#bd3786"
             ],
             [
              0.5555555555555556,
              "#d8576b"
             ],
             [
              0.6666666666666666,
              "#ed7953"
             ],
             [
              0.7777777777777778,
              "#fb9f3a"
             ],
             [
              0.8888888888888888,
              "#fdca26"
             ],
             [
              1,
              "#f0f921"
             ]
            ],
            "type": "contour"
           }
          ],
          "contourcarpet": [
           {
            "colorbar": {
             "outlinewidth": 0,
             "ticks": ""
            },
            "type": "contourcarpet"
           }
          ],
          "heatmap": [
           {
            "colorbar": {
             "outlinewidth": 0,
             "ticks": ""
            },
            "colorscale": [
             [
              0,
              "#0d0887"
             ],
             [
              0.1111111111111111,
              "#46039f"
             ],
             [
              0.2222222222222222,
              "#7201a8"
             ],
             [
              0.3333333333333333,
              "#9c179e"
             ],
             [
              0.4444444444444444,
              "#bd3786"
             ],
             [
              0.5555555555555556,
              "#d8576b"
             ],
             [
              0.6666666666666666,
              "#ed7953"
             ],
             [
              0.7777777777777778,
              "#fb9f3a"
             ],
             [
              0.8888888888888888,
              "#fdca26"
             ],
             [
              1,
              "#f0f921"
             ]
            ],
            "type": "heatmap"
           }
          ],
          "heatmapgl": [
           {
            "colorbar": {
             "outlinewidth": 0,
             "ticks": ""
            },
            "colorscale": [
             [
              0,
              "#0d0887"
             ],
             [
              0.1111111111111111,
              "#46039f"
             ],
             [
              0.2222222222222222,
              "#7201a8"
             ],
             [
              0.3333333333333333,
              "#9c179e"
             ],
             [
              0.4444444444444444,
              "#bd3786"
             ],
             [
              0.5555555555555556,
              "#d8576b"
             ],
             [
              0.6666666666666666,
              "#ed7953"
             ],
             [
              0.7777777777777778,
              "#fb9f3a"
             ],
             [
              0.8888888888888888,
              "#fdca26"
             ],
             [
              1,
              "#f0f921"
             ]
            ],
            "type": "heatmapgl"
           }
          ],
          "histogram": [
           {
            "marker": {
             "colorbar": {
              "outlinewidth": 0,
              "ticks": ""
             }
            },
            "type": "histogram"
           }
          ],
          "histogram2d": [
           {
            "colorbar": {
             "outlinewidth": 0,
             "ticks": ""
            },
            "colorscale": [
             [
              0,
              "#0d0887"
             ],
             [
              0.1111111111111111,
              "#46039f"
             ],
             [
              0.2222222222222222,
              "#7201a8"
             ],
             [
              0.3333333333333333,
              "#9c179e"
             ],
             [
              0.4444444444444444,
              "#bd3786"
             ],
             [
              0.5555555555555556,
              "#d8576b"
             ],
             [
              0.6666666666666666,
              "#ed7953"
             ],
             [
              0.7777777777777778,
              "#fb9f3a"
             ],
             [
              0.8888888888888888,
              "#fdca26"
             ],
             [
              1,
              "#f0f921"
             ]
            ],
            "type": "histogram2d"
           }
          ],
          "histogram2dcontour": [
           {
            "colorbar": {
             "outlinewidth": 0,
             "ticks": ""
            },
            "colorscale": [
             [
              0,
              "#0d0887"
             ],
             [
              0.1111111111111111,
              "#46039f"
             ],
             [
              0.2222222222222222,
              "#7201a8"
             ],
             [
              0.3333333333333333,
              "#9c179e"
             ],
             [
              0.4444444444444444,
              "#bd3786"
             ],
             [
              0.5555555555555556,
              "#d8576b"
             ],
             [
              0.6666666666666666,
              "#ed7953"
             ],
             [
              0.7777777777777778,
              "#fb9f3a"
             ],
             [
              0.8888888888888888,
              "#fdca26"
             ],
             [
              1,
              "#f0f921"
             ]
            ],
            "type": "histogram2dcontour"
           }
          ],
          "mesh3d": [
           {
            "colorbar": {
             "outlinewidth": 0,
             "ticks": ""
            },
            "type": "mesh3d"
           }
          ],
          "parcoords": [
           {
            "line": {
             "colorbar": {
              "outlinewidth": 0,
              "ticks": ""
             }
            },
            "type": "parcoords"
           }
          ],
          "pie": [
           {
            "automargin": true,
            "type": "pie"
           }
          ],
          "scatter": [
           {
            "marker": {
             "colorbar": {
              "outlinewidth": 0,
              "ticks": ""
             }
            },
            "type": "scatter"
           }
          ],
          "scatter3d": [
           {
            "line": {
             "colorbar": {
              "outlinewidth": 0,
              "ticks": ""
             }
            },
            "marker": {
             "colorbar": {
              "outlinewidth": 0,
              "ticks": ""
             }
            },
            "type": "scatter3d"
           }
          ],
          "scattercarpet": [
           {
            "marker": {
             "colorbar": {
              "outlinewidth": 0,
              "ticks": ""
             }
            },
            "type": "scattercarpet"
           }
          ],
          "scattergeo": [
           {
            "marker": {
             "colorbar": {
              "outlinewidth": 0,
              "ticks": ""
             }
            },
            "type": "scattergeo"
           }
          ],
          "scattergl": [
           {
            "marker": {
             "colorbar": {
              "outlinewidth": 0,
              "ticks": ""
             }
            },
            "type": "scattergl"
           }
          ],
          "scattermapbox": [
           {
            "marker": {
             "colorbar": {
              "outlinewidth": 0,
              "ticks": ""
             }
            },
            "type": "scattermapbox"
           }
          ],
          "scatterpolar": [
           {
            "marker": {
             "colorbar": {
              "outlinewidth": 0,
              "ticks": ""
             }
            },
            "type": "scatterpolar"
           }
          ],
          "scatterpolargl": [
           {
            "marker": {
             "colorbar": {
              "outlinewidth": 0,
              "ticks": ""
             }
            },
            "type": "scatterpolargl"
           }
          ],
          "scatterternary": [
           {
            "marker": {
             "colorbar": {
              "outlinewidth": 0,
              "ticks": ""
             }
            },
            "type": "scatterternary"
           }
          ],
          "surface": [
           {
            "colorbar": {
             "outlinewidth": 0,
             "ticks": ""
            },
            "colorscale": [
             [
              0,
              "#0d0887"
             ],
             [
              0.1111111111111111,
              "#46039f"
             ],
             [
              0.2222222222222222,
              "#7201a8"
             ],
             [
              0.3333333333333333,
              "#9c179e"
             ],
             [
              0.4444444444444444,
              "#bd3786"
             ],
             [
              0.5555555555555556,
              "#d8576b"
             ],
             [
              0.6666666666666666,
              "#ed7953"
             ],
             [
              0.7777777777777778,
              "#fb9f3a"
             ],
             [
              0.8888888888888888,
              "#fdca26"
             ],
             [
              1,
              "#f0f921"
             ]
            ],
            "type": "surface"
           }
          ],
          "table": [
           {
            "cells": {
             "fill": {
              "color": "#EBF0F8"
             },
             "line": {
              "color": "white"
             }
            },
            "header": {
             "fill": {
              "color": "#C8D4E3"
             },
             "line": {
              "color": "white"
             }
            },
            "type": "table"
           }
          ]
         },
         "layout": {
          "annotationdefaults": {
           "arrowcolor": "#2a3f5f",
           "arrowhead": 0,
           "arrowwidth": 1
          },
          "coloraxis": {
           "colorbar": {
            "outlinewidth": 0,
            "ticks": ""
           }
          },
          "colorscale": {
           "diverging": [
            [
             0,
             "#8e0152"
            ],
            [
             0.1,
             "#c51b7d"
            ],
            [
             0.2,
             "#de77ae"
            ],
            [
             0.3,
             "#f1b6da"
            ],
            [
             0.4,
             "#fde0ef"
            ],
            [
             0.5,
             "#f7f7f7"
            ],
            [
             0.6,
             "#e6f5d0"
            ],
            [
             0.7,
             "#b8e186"
            ],
            [
             0.8,
             "#7fbc41"
            ],
            [
             0.9,
             "#4d9221"
            ],
            [
             1,
             "#276419"
            ]
           ],
           "sequential": [
            [
             0,
             "#0d0887"
            ],
            [
             0.1111111111111111,
             "#46039f"
            ],
            [
             0.2222222222222222,
             "#7201a8"
            ],
            [
             0.3333333333333333,
             "#9c179e"
            ],
            [
             0.4444444444444444,
             "#bd3786"
            ],
            [
             0.5555555555555556,
             "#d8576b"
            ],
            [
             0.6666666666666666,
             "#ed7953"
            ],
            [
             0.7777777777777778,
             "#fb9f3a"
            ],
            [
             0.8888888888888888,
             "#fdca26"
            ],
            [
             1,
             "#f0f921"
            ]
           ],
           "sequentialminus": [
            [
             0,
             "#0d0887"
            ],
            [
             0.1111111111111111,
             "#46039f"
            ],
            [
             0.2222222222222222,
             "#7201a8"
            ],
            [
             0.3333333333333333,
             "#9c179e"
            ],
            [
             0.4444444444444444,
             "#bd3786"
            ],
            [
             0.5555555555555556,
             "#d8576b"
            ],
            [
             0.6666666666666666,
             "#ed7953"
            ],
            [
             0.7777777777777778,
             "#fb9f3a"
            ],
            [
             0.8888888888888888,
             "#fdca26"
            ],
            [
             1,
             "#f0f921"
            ]
           ]
          },
          "colorway": [
           "#636efa",
           "#EF553B",
           "#00cc96",
           "#ab63fa",
           "#FFA15A",
           "#19d3f3",
           "#FF6692",
           "#B6E880",
           "#FF97FF",
           "#FECB52"
          ],
          "font": {
           "color": "#2a3f5f"
          },
          "geo": {
           "bgcolor": "white",
           "lakecolor": "white",
           "landcolor": "#E5ECF6",
           "showlakes": true,
           "showland": true,
           "subunitcolor": "white"
          },
          "hoverlabel": {
           "align": "left"
          },
          "hovermode": "closest",
          "mapbox": {
           "style": "light"
          },
          "paper_bgcolor": "white",
          "plot_bgcolor": "#E5ECF6",
          "polar": {
           "angularaxis": {
            "gridcolor": "white",
            "linecolor": "white",
            "ticks": ""
           },
           "bgcolor": "#E5ECF6",
           "radialaxis": {
            "gridcolor": "white",
            "linecolor": "white",
            "ticks": ""
           }
          },
          "scene": {
           "xaxis": {
            "backgroundcolor": "#E5ECF6",
            "gridcolor": "white",
            "gridwidth": 2,
            "linecolor": "white",
            "showbackground": true,
            "ticks": "",
            "zerolinecolor": "white"
           },
           "yaxis": {
            "backgroundcolor": "#E5ECF6",
            "gridcolor": "white",
            "gridwidth": 2,
            "linecolor": "white",
            "showbackground": true,
            "ticks": "",
            "zerolinecolor": "white"
           },
           "zaxis": {
            "backgroundcolor": "#E5ECF6",
            "gridcolor": "white",
            "gridwidth": 2,
            "linecolor": "white",
            "showbackground": true,
            "ticks": "",
            "zerolinecolor": "white"
           }
          },
          "shapedefaults": {
           "line": {
            "color": "#2a3f5f"
           }
          },
          "ternary": {
           "aaxis": {
            "gridcolor": "white",
            "linecolor": "white",
            "ticks": ""
           },
           "baxis": {
            "gridcolor": "white",
            "linecolor": "white",
            "ticks": ""
           },
           "bgcolor": "#E5ECF6",
           "caxis": {
            "gridcolor": "white",
            "linecolor": "white",
            "ticks": ""
           }
          },
          "title": {
           "x": 0.05
          },
          "xaxis": {
           "automargin": true,
           "gridcolor": "white",
           "linecolor": "white",
           "ticks": "",
           "title": {
            "standoff": 15
           },
           "zerolinecolor": "white",
           "zerolinewidth": 2
          },
          "yaxis": {
           "automargin": true,
           "gridcolor": "white",
           "linecolor": "white",
           "ticks": "",
           "title": {
            "standoff": 15
           },
           "zerolinecolor": "white",
           "zerolinewidth": 2
          }
         }
        },
        "title": {
         "font": {
          "color": "#4D5663"
         },
         "text": "ACP en 2 composantes"
        },
        "xaxis": {
         "gridcolor": "#E1E5ED",
         "showgrid": true,
         "tickfont": {
          "color": "#4D5663"
         },
         "title": {
          "font": {
           "color": "#4D5663"
          },
          "text": "Axe 1"
         },
         "zerolinecolor": "#E1E5ED"
        },
        "yaxis": {
         "gridcolor": "#E1E5ED",
         "showgrid": true,
         "tickfont": {
          "color": "#4D5663"
         },
         "title": {
          "font": {
           "color": "#4D5663"
          },
          "text": "Axe 2"
         },
         "zerolinecolor": "#E1E5ED"
        }
       }
      },
      "text/html": [
       "<div>\n",
       "        \n",
       "        \n",
       "            <div id=\"dd790cf0-3904-4695-8b04-de7e928a3f90\" class=\"plotly-graph-div\" style=\"height:525px; width:100%;\"></div>\n",
       "            <script type=\"text/javascript\">\n",
       "                require([\"plotly\"], function(Plotly) {\n",
       "                    window.PLOTLYENV=window.PLOTLYENV || {};\n",
       "                    window.PLOTLYENV.BASE_URL='https://plot.ly';\n",
       "                    \n",
       "                if (document.getElementById(\"dd790cf0-3904-4695-8b04-de7e928a3f90\")) {\n",
       "                    Plotly.newPlot(\n",
       "                        'dd790cf0-3904-4695-8b04-de7e928a3f90',\n",
       "                        [{\"marker\": {\"color\": \"rgba(255, 153, 51, 1.0)\", \"line\": {\"width\": 1.3}, \"opacity\": 0.8, \"size\": 12, \"symbol\": \"circle\"}, \"mode\": \"markers\", \"name\": \"poli/bonjour/salut\", \"text\": [\"poli\", \"bonjour\", \"salut\"], \"textfont\": {\"color\": \"#4D5663\"}, \"type\": \"scatter\", \"x\": [-1.540838599205017, -0.8502200245857239, -2.0901336669921875], \"y\": [-0.04503554478287697, 6.298001766204834, 1.5992193222045898]}, {\"marker\": {\"color\": \"rgba(55, 128, 191, 1.0)\", \"line\": {\"width\": 1.3}, \"opacity\": 0.8, \"size\": 12, \"symbol\": \"circle\"}, \"mode\": \"markers\", \"name\": \"canap\\u00e9/fauteuil/table/chaise\", \"text\": [\"canap\\u00e9\", \"fauteuil\", \"table\", \"chaise\"], \"textfont\": {\"color\": \"#4D5663\"}, \"type\": \"scatter\", \"x\": [-0.4902862012386322, -1.1817821264266968, 0.1690956950187683, 0.18368782103061676], \"y\": [0.07668621838092804, -0.10812008380889893, -0.18280355632305145, -0.3112567067146301]}, {\"marker\": {\"color\": \"rgba(50, 171, 96, 1.0)\", \"line\": {\"width\": 1.3}, \"opacity\": 0.8, \"size\": 12, \"symbol\": \"circle\"}, \"mode\": \"markers\", \"name\": \"t\\u00e9l\\u00e9phone/portable/num\\u00e9ro/appel\", \"text\": [\"t\\u00e9l\\u00e9phone\", \"portable\", \"num\\u00e9ro\", \"appel\"], \"textfont\": {\"color\": \"#4D5663\"}, \"type\": \"scatter\", \"x\": [1.8838412761688232, -0.09087928384542465, 1.7879914045333862, 0.2548046410083771], \"y\": [0.6847650408744812, 0.5834412574768066, 1.1498653888702393, 0.3466484248638153]}, {\"marker\": {\"color\": \"rgba(128, 0, 128, 1.0)\", \"line\": {\"width\": 1.3}, \"opacity\": 0.8, \"size\": 12, \"symbol\": \"circle\"}, \"mode\": \"markers\", \"name\": \"voiture/camion/v\\u00e9lo/train\", \"text\": [\"voiture\", \"camion\", \"v\\u00e9lo\", \"train\"], \"textfont\": {\"color\": \"#4D5663\"}, \"type\": \"scatter\", \"x\": [2.3884541988372803, -0.9501842260360718, -0.8642545342445374, 1.4734916687011719], \"y\": [-1.2207242250442505, -0.10501223802566528, 0.016646932810544968, -0.1554775834083557]}, {\"marker\": {\"color\": \"rgba(219, 64, 82, 1.0)\", \"line\": {\"width\": 1.3}, \"opacity\": 0.8, \"size\": 12, \"symbol\": \"circle\"}, \"mode\": \"markers\", \"name\": \"beau/mignon/bg/mannequin\", \"text\": [\"beau\", \"mignon\", \"bg\", \"mannequin\"], \"textfont\": {\"color\": \"#4D5663\"}, \"type\": \"scatter\", \"x\": [-0.7663766741752625, -2.615074396133423, -1.5472480058670044, -1.400858759880066], \"y\": [-1.1522022485733032, -1.3560376167297363, 0.2667441666126251, 0.05544457212090492]}, {\"marker\": {\"color\": \"rgba(0, 128, 128, 1.0)\", \"line\": {\"width\": 1.3}, \"opacity\": 0.8, \"size\": 12, \"symbol\": \"circle\"}, \"mode\": \"markers\", \"name\": \"docteur/m\\u00e9decin/sant\\u00e9/bobo\", \"text\": [\"docteur\", \"m\\u00e9decin\", \"sant\\u00e9\", \"bobo\"], \"textfont\": {\"color\": \"#4D5663\"}, \"type\": \"scatter\", \"x\": [-1.224129319190979, -0.23727494478225708, -0.3259865641593933, -1.2045961618423462], \"y\": [0.12965819239616394, 0.5171597599983215, -0.2679980397224426, -0.09977713227272034]}, {\"marker\": {\"color\": \"rgba(255, 255, 51, 1.0)\", \"line\": {\"width\": 1.3}, \"opacity\": 0.8, \"size\": 12, \"symbol\": \"circle\"}, \"mode\": \"markers\", \"name\": \"belle/jolie/mignonne\", \"text\": [\"belle\", \"jolie\", \"mignonne\"], \"textfont\": {\"color\": \"#4D5663\"}, \"type\": \"scatter\", \"x\": [-0.7477683424949646, -1.6979302167892456, -1.5786364078521729], \"y\": [-4.608525276184082, -1.866927981376648, -2.399090528488159]}, {\"marker\": {\"color\": \"rgba(128, 128, 0, 1.0)\", \"line\": {\"width\": 1.3}, \"opacity\": 0.8, \"size\": 12, \"symbol\": \"circle\"}, \"mode\": \"markers\", \"name\": \"p\\u00e8re/papa/daron\", \"text\": [\"p\\u00e8re\", \"papa\", \"daron\"], \"textfont\": {\"color\": \"#4D5663\"}, \"type\": \"scatter\", \"x\": [3.7203235626220703, -0.12273610383272171, 1.8552730083465576], \"y\": [1.2905082702636719, 0.39350625872612, 0.8037312626838684]}, {\"marker\": {\"color\": \"rgba(251, 128, 114, 1.0)\", \"line\": {\"width\": 1.3}, \"opacity\": 0.8, \"size\": 12, \"symbol\": \"circle\"}, \"mode\": \"markers\", \"name\": \"m\\u00e8re/maman/daronne\", \"text\": [\"m\\u00e8re\", \"maman\", \"daronne\"], \"textfont\": {\"color\": \"#4D5663\"}, \"type\": \"scatter\", \"x\": [7.287296772003174, 1.510010004043579, 1.0873651504516602], \"y\": [-1.4661779403686523, -0.2989862859249115, -0.47879213094711304]}, {\"marker\": {\"color\": \"rgba(128, 177, 211, 1.0)\", \"line\": {\"width\": 1.3}, \"opacity\": 0.8, \"size\": 12, \"symbol\": \"circle\"}, \"mode\": \"markers\", \"name\": \"ol/psg/foot/stade\", \"text\": [\"ol\", \"psg\", \"foot\", \"stade\"], \"textfont\": {\"color\": \"#4D5663\"}, \"type\": \"scatter\", \"x\": [-1.3091204166412354, -0.4533451497554779, -0.22799646854400635, -0.08397676050662994], \"y\": [-4.2538755224086344e-05, 0.590236485004425, 1.2032264471054077, 0.11749715358018875]}],\n",
       "                        {\"legend\": {\"bgcolor\": \"#F5F6F9\", \"font\": {\"color\": \"#4D5663\"}}, \"paper_bgcolor\": \"#F5F6F9\", \"plot_bgcolor\": \"#F5F6F9\", \"template\": {\"data\": {\"bar\": [{\"error_x\": {\"color\": \"#2a3f5f\"}, \"error_y\": {\"color\": \"#2a3f5f\"}, \"marker\": {\"line\": {\"color\": \"#E5ECF6\", \"width\": 0.5}}, \"type\": \"bar\"}], \"barpolar\": [{\"marker\": {\"line\": {\"color\": \"#E5ECF6\", \"width\": 0.5}}, \"type\": \"barpolar\"}], \"carpet\": [{\"aaxis\": {\"endlinecolor\": \"#2a3f5f\", \"gridcolor\": \"white\", \"linecolor\": \"white\", \"minorgridcolor\": \"white\", \"startlinecolor\": \"#2a3f5f\"}, \"baxis\": {\"endlinecolor\": \"#2a3f5f\", \"gridcolor\": \"white\", \"linecolor\": \"white\", \"minorgridcolor\": \"white\", \"startlinecolor\": \"#2a3f5f\"}, \"type\": \"carpet\"}], \"choropleth\": [{\"colorbar\": {\"outlinewidth\": 0, \"ticks\": \"\"}, \"type\": \"choropleth\"}], \"contour\": [{\"colorbar\": {\"outlinewidth\": 0, \"ticks\": \"\"}, \"colorscale\": [[0.0, \"#0d0887\"], [0.1111111111111111, \"#46039f\"], [0.2222222222222222, \"#7201a8\"], [0.3333333333333333, \"#9c179e\"], [0.4444444444444444, \"#bd3786\"], [0.5555555555555556, \"#d8576b\"], [0.6666666666666666, \"#ed7953\"], [0.7777777777777778, \"#fb9f3a\"], [0.8888888888888888, \"#fdca26\"], [1.0, \"#f0f921\"]], \"type\": \"contour\"}], \"contourcarpet\": [{\"colorbar\": {\"outlinewidth\": 0, \"ticks\": \"\"}, \"type\": \"contourcarpet\"}], \"heatmap\": [{\"colorbar\": {\"outlinewidth\": 0, \"ticks\": \"\"}, \"colorscale\": [[0.0, \"#0d0887\"], [0.1111111111111111, \"#46039f\"], [0.2222222222222222, \"#7201a8\"], [0.3333333333333333, \"#9c179e\"], [0.4444444444444444, \"#bd3786\"], [0.5555555555555556, \"#d8576b\"], [0.6666666666666666, \"#ed7953\"], [0.7777777777777778, \"#fb9f3a\"], [0.8888888888888888, \"#fdca26\"], [1.0, \"#f0f921\"]], \"type\": \"heatmap\"}], \"heatmapgl\": [{\"colorbar\": {\"outlinewidth\": 0, \"ticks\": \"\"}, \"colorscale\": [[0.0, \"#0d0887\"], [0.1111111111111111, \"#46039f\"], [0.2222222222222222, \"#7201a8\"], [0.3333333333333333, \"#9c179e\"], [0.4444444444444444, \"#bd3786\"], [0.5555555555555556, \"#d8576b\"], [0.6666666666666666, \"#ed7953\"], [0.7777777777777778, \"#fb9f3a\"], [0.8888888888888888, \"#fdca26\"], [1.0, \"#f0f921\"]], \"type\": \"heatmapgl\"}], \"histogram\": [{\"marker\": {\"colorbar\": {\"outlinewidth\": 0, \"ticks\": \"\"}}, \"type\": \"histogram\"}], \"histogram2d\": [{\"colorbar\": {\"outlinewidth\": 0, \"ticks\": \"\"}, \"colorscale\": [[0.0, \"#0d0887\"], [0.1111111111111111, \"#46039f\"], [0.2222222222222222, \"#7201a8\"], [0.3333333333333333, \"#9c179e\"], [0.4444444444444444, \"#bd3786\"], [0.5555555555555556, \"#d8576b\"], [0.6666666666666666, \"#ed7953\"], [0.7777777777777778, \"#fb9f3a\"], [0.8888888888888888, \"#fdca26\"], [1.0, \"#f0f921\"]], \"type\": \"histogram2d\"}], \"histogram2dcontour\": [{\"colorbar\": {\"outlinewidth\": 0, \"ticks\": \"\"}, \"colorscale\": [[0.0, \"#0d0887\"], [0.1111111111111111, \"#46039f\"], [0.2222222222222222, \"#7201a8\"], [0.3333333333333333, \"#9c179e\"], [0.4444444444444444, \"#bd3786\"], [0.5555555555555556, \"#d8576b\"], [0.6666666666666666, \"#ed7953\"], [0.7777777777777778, \"#fb9f3a\"], [0.8888888888888888, \"#fdca26\"], [1.0, \"#f0f921\"]], \"type\": \"histogram2dcontour\"}], \"mesh3d\": [{\"colorbar\": {\"outlinewidth\": 0, \"ticks\": \"\"}, \"type\": \"mesh3d\"}], \"parcoords\": [{\"line\": {\"colorbar\": {\"outlinewidth\": 0, \"ticks\": \"\"}}, \"type\": \"parcoords\"}], \"pie\": [{\"automargin\": true, \"type\": \"pie\"}], \"scatter\": [{\"marker\": {\"colorbar\": {\"outlinewidth\": 0, \"ticks\": \"\"}}, \"type\": \"scatter\"}], \"scatter3d\": [{\"line\": {\"colorbar\": {\"outlinewidth\": 0, \"ticks\": \"\"}}, \"marker\": {\"colorbar\": {\"outlinewidth\": 0, \"ticks\": \"\"}}, \"type\": \"scatter3d\"}], \"scattercarpet\": [{\"marker\": {\"colorbar\": {\"outlinewidth\": 0, \"ticks\": \"\"}}, \"type\": \"scattercarpet\"}], \"scattergeo\": [{\"marker\": {\"colorbar\": {\"outlinewidth\": 0, \"ticks\": \"\"}}, \"type\": \"scattergeo\"}], \"scattergl\": [{\"marker\": {\"colorbar\": {\"outlinewidth\": 0, \"ticks\": \"\"}}, \"type\": \"scattergl\"}], \"scattermapbox\": [{\"marker\": {\"colorbar\": {\"outlinewidth\": 0, \"ticks\": \"\"}}, \"type\": \"scattermapbox\"}], \"scatterpolar\": [{\"marker\": {\"colorbar\": {\"outlinewidth\": 0, \"ticks\": \"\"}}, \"type\": \"scatterpolar\"}], \"scatterpolargl\": [{\"marker\": {\"colorbar\": {\"outlinewidth\": 0, \"ticks\": \"\"}}, \"type\": \"scatterpolargl\"}], \"scatterternary\": [{\"marker\": {\"colorbar\": {\"outlinewidth\": 0, \"ticks\": \"\"}}, \"type\": \"scatterternary\"}], \"surface\": [{\"colorbar\": {\"outlinewidth\": 0, \"ticks\": \"\"}, \"colorscale\": [[0.0, \"#0d0887\"], [0.1111111111111111, \"#46039f\"], [0.2222222222222222, \"#7201a8\"], [0.3333333333333333, \"#9c179e\"], [0.4444444444444444, \"#bd3786\"], [0.5555555555555556, \"#d8576b\"], [0.6666666666666666, \"#ed7953\"], [0.7777777777777778, \"#fb9f3a\"], [0.8888888888888888, \"#fdca26\"], [1.0, \"#f0f921\"]], \"type\": \"surface\"}], \"table\": [{\"cells\": {\"fill\": {\"color\": \"#EBF0F8\"}, \"line\": {\"color\": \"white\"}}, \"header\": {\"fill\": {\"color\": \"#C8D4E3\"}, \"line\": {\"color\": \"white\"}}, \"type\": \"table\"}]}, \"layout\": {\"annotationdefaults\": {\"arrowcolor\": \"#2a3f5f\", \"arrowhead\": 0, \"arrowwidth\": 1}, \"coloraxis\": {\"colorbar\": {\"outlinewidth\": 0, \"ticks\": \"\"}}, \"colorscale\": {\"diverging\": [[0, \"#8e0152\"], [0.1, \"#c51b7d\"], [0.2, \"#de77ae\"], [0.3, \"#f1b6da\"], [0.4, \"#fde0ef\"], [0.5, \"#f7f7f7\"], [0.6, \"#e6f5d0\"], [0.7, \"#b8e186\"], [0.8, \"#7fbc41\"], [0.9, \"#4d9221\"], [1, \"#276419\"]], \"sequential\": [[0.0, \"#0d0887\"], [0.1111111111111111, \"#46039f\"], [0.2222222222222222, \"#7201a8\"], [0.3333333333333333, \"#9c179e\"], [0.4444444444444444, \"#bd3786\"], [0.5555555555555556, \"#d8576b\"], [0.6666666666666666, \"#ed7953\"], [0.7777777777777778, \"#fb9f3a\"], [0.8888888888888888, \"#fdca26\"], [1.0, \"#f0f921\"]], \"sequentialminus\": [[0.0, \"#0d0887\"], [0.1111111111111111, \"#46039f\"], [0.2222222222222222, \"#7201a8\"], [0.3333333333333333, \"#9c179e\"], [0.4444444444444444, \"#bd3786\"], [0.5555555555555556, \"#d8576b\"], [0.6666666666666666, \"#ed7953\"], [0.7777777777777778, \"#fb9f3a\"], [0.8888888888888888, \"#fdca26\"], [1.0, \"#f0f921\"]]}, \"colorway\": [\"#636efa\", \"#EF553B\", \"#00cc96\", \"#ab63fa\", \"#FFA15A\", \"#19d3f3\", \"#FF6692\", \"#B6E880\", \"#FF97FF\", \"#FECB52\"], \"font\": {\"color\": \"#2a3f5f\"}, \"geo\": {\"bgcolor\": \"white\", \"lakecolor\": \"white\", \"landcolor\": \"#E5ECF6\", \"showlakes\": true, \"showland\": true, \"subunitcolor\": \"white\"}, \"hoverlabel\": {\"align\": \"left\"}, \"hovermode\": \"closest\", \"mapbox\": {\"style\": \"light\"}, \"paper_bgcolor\": \"white\", \"plot_bgcolor\": \"#E5ECF6\", \"polar\": {\"angularaxis\": {\"gridcolor\": \"white\", \"linecolor\": \"white\", \"ticks\": \"\"}, \"bgcolor\": \"#E5ECF6\", \"radialaxis\": {\"gridcolor\": \"white\", \"linecolor\": \"white\", \"ticks\": \"\"}}, \"scene\": {\"xaxis\": {\"backgroundcolor\": \"#E5ECF6\", \"gridcolor\": \"white\", \"gridwidth\": 2, \"linecolor\": \"white\", \"showbackground\": true, \"ticks\": \"\", \"zerolinecolor\": \"white\"}, \"yaxis\": {\"backgroundcolor\": \"#E5ECF6\", \"gridcolor\": \"white\", \"gridwidth\": 2, \"linecolor\": \"white\", \"showbackground\": true, \"ticks\": \"\", \"zerolinecolor\": \"white\"}, \"zaxis\": {\"backgroundcolor\": \"#E5ECF6\", \"gridcolor\": \"white\", \"gridwidth\": 2, \"linecolor\": \"white\", \"showbackground\": true, \"ticks\": \"\", \"zerolinecolor\": \"white\"}}, \"shapedefaults\": {\"line\": {\"color\": \"#2a3f5f\"}}, \"ternary\": {\"aaxis\": {\"gridcolor\": \"white\", \"linecolor\": \"white\", \"ticks\": \"\"}, \"baxis\": {\"gridcolor\": \"white\", \"linecolor\": \"white\", \"ticks\": \"\"}, \"bgcolor\": \"#E5ECF6\", \"caxis\": {\"gridcolor\": \"white\", \"linecolor\": \"white\", \"ticks\": \"\"}}, \"title\": {\"x\": 0.05}, \"xaxis\": {\"automargin\": true, \"gridcolor\": \"white\", \"linecolor\": \"white\", \"ticks\": \"\", \"title\": {\"standoff\": 15}, \"zerolinecolor\": \"white\", \"zerolinewidth\": 2}, \"yaxis\": {\"automargin\": true, \"gridcolor\": \"white\", \"linecolor\": \"white\", \"ticks\": \"\", \"title\": {\"standoff\": 15}, \"zerolinecolor\": \"white\", \"zerolinewidth\": 2}}}, \"title\": {\"font\": {\"color\": \"#4D5663\"}, \"text\": \"ACP en 2 composantes\"}, \"xaxis\": {\"gridcolor\": \"#E1E5ED\", \"showgrid\": true, \"tickfont\": {\"color\": \"#4D5663\"}, \"title\": {\"font\": {\"color\": \"#4D5663\"}, \"text\": \"Axe 1\"}, \"zerolinecolor\": \"#E1E5ED\"}, \"yaxis\": {\"gridcolor\": \"#E1E5ED\", \"showgrid\": true, \"tickfont\": {\"color\": \"#4D5663\"}, \"title\": {\"font\": {\"color\": \"#4D5663\"}, \"text\": \"Axe 2\"}, \"zerolinecolor\": \"#E1E5ED\"}},\n",
       "                        {\"showLink\": true, \"linkText\": \"Export to plot.ly\", \"plotlyServerURL\": \"https://plot.ly\", \"responsive\": true}\n",
       "                    ).then(function(){\n",
       "                            \n",
       "var gd = document.getElementById('dd790cf0-3904-4695-8b04-de7e928a3f90');\n",
       "var x = new MutationObserver(function (mutations, observer) {{\n",
       "        var display = window.getComputedStyle(gd).display;\n",
       "        if (!display || display === 'none') {{\n",
       "            console.log([gd, 'removed!']);\n",
       "            Plotly.purge(gd);\n",
       "            observer.disconnect();\n",
       "        }}\n",
       "}});\n",
       "\n",
       "// Listen for the removal of the full notebook cells\n",
       "var notebookContainer = gd.closest('#notebook-container');\n",
       "if (notebookContainer) {{\n",
       "    x.observe(notebookContainer, {childList: true});\n",
       "}}\n",
       "\n",
       "// Listen for the clearing of the current output cell\n",
       "var outputEl = gd.closest('.output');\n",
       "if (outputEl) {{\n",
       "    x.observe(outputEl, {childList: true});\n",
       "}}\n",
       "\n",
       "                        })\n",
       "                };\n",
       "                });\n",
       "            </script>\n",
       "        </div>"
      ]
     },
     "metadata": {},
     "output_type": "display_data"
    }
   ],
   "source": [
    "ACP(liste1, statique = False)"
   ]
  },
  {
   "cell_type": "code",
   "execution_count": 49,
   "metadata": {},
   "outputs": [
    {
     "data": {
      "text/html": [
       "        <script type=\"text/javascript\">\n",
       "        window.PlotlyConfig = {MathJaxConfig: 'local'};\n",
       "        if (window.MathJax) {MathJax.Hub.Config({SVG: {font: \"STIX-Web\"}});}\n",
       "        if (typeof require !== 'undefined') {\n",
       "        require.undef(\"plotly\");\n",
       "        requirejs.config({\n",
       "            paths: {\n",
       "                'plotly': ['https://cdn.plot.ly/plotly-latest.min']\n",
       "            }\n",
       "        });\n",
       "        require(['plotly'], function(Plotly) {\n",
       "            window._Plotly = Plotly;\n",
       "        });\n",
       "        }\n",
       "        </script>\n",
       "        "
      ]
     },
     "metadata": {},
     "output_type": "display_data"
    },
    {
     "data": {
      "text/html": [
       "        <script type=\"text/javascript\">\n",
       "        window.PlotlyConfig = {MathJaxConfig: 'local'};\n",
       "        if (window.MathJax) {MathJax.Hub.Config({SVG: {font: \"STIX-Web\"}});}\n",
       "        if (typeof require !== 'undefined') {\n",
       "        require.undef(\"plotly\");\n",
       "        requirejs.config({\n",
       "            paths: {\n",
       "                'plotly': ['https://cdn.plot.ly/plotly-latest.min']\n",
       "            }\n",
       "        });\n",
       "        require(['plotly'], function(Plotly) {\n",
       "            window._Plotly = Plotly;\n",
       "        });\n",
       "        }\n",
       "        </script>\n",
       "        "
      ]
     },
     "metadata": {},
     "output_type": "display_data"
    },
    {
     "name": "stderr",
     "output_type": "stream",
     "text": [
      "C:\\Users\\Kim Antunez\\Anaconda3\\lib\\site-packages\\cufflinks\\plotlytools.py:808: FutureWarning:\n",
      "\n",
      "The pandas.np module is deprecated and will be removed from pandas in a future version. Import numpy directly instead\n",
      "\n",
      "C:\\Users\\Kim Antunez\\Anaconda3\\lib\\site-packages\\cufflinks\\plotlytools.py:811: FutureWarning:\n",
      "\n",
      "The pandas.np module is deprecated and will be removed from pandas in a future version. Import numpy directly instead\n",
      "\n"
     ]
    },
    {
     "data": {
      "application/vnd.plotly.v1+json": {
       "config": {
        "linkText": "Export to plot.ly",
        "plotlyServerURL": "https://plot.ly",
        "showLink": true
       },
       "data": [
        {
         "marker": {
          "color": "rgba(255, 153, 51, 1.0)",
          "line": {
           "width": 1.3
          },
          "opacity": 0.8,
          "size": 12,
          "symbol": "circle"
         },
         "mode": "markers",
         "name": "jespere/expres/unknown/tite/35/ipad/eme/relâche/top1/chiants/libres/europeans/investit/usualsuspects/davoir/néant/mariages/clinique/scandaleux/hallucinant/josefine/taule/mylène/mouchoirs/🇪/forts/malédiction/mounet/impôt/🇸/union/od/refusé/animes/gouffre/keufs/glr/chips/fallu/nah/jambon/bouh/grotte/sénat/pseudos/etaient/hac/lazare/cou/attitude/parlementaire/irrespectueux/dégradé/nain/friendzone/pl/audace/jambon/autorité/puisqu/abandonne/bonus/enregistre/insultes/chaines/laaaaa/véritable/salles/steak/formule/lignes/applis/🔵/algerie/sentie/�/🇵/paradise/pédophile/ch/solitude/fesse/1500/honnêtes/jmet/mmmh/opposition/cliqué/soja/george/levé/she/dictionnaire/foutais/agenda/emmerdale/boo/connecté/permanente/côtoie",
         "text": [
          "jespere",
          "expres",
          "unknown",
          "tite",
          "35",
          "ipad",
          "eme",
          "relâche",
          "top1",
          "chiants",
          "libres",
          "europeans",
          "investit",
          "usualsuspects",
          "davoir",
          "néant",
          "mariages",
          "clinique",
          "scandaleux",
          "hallucinant",
          "josefine",
          "taule",
          "mylène",
          "mouchoirs",
          "🇪",
          "forts",
          "malédiction",
          "mounet",
          "impôt",
          "🇸",
          "union",
          "od",
          "refusé",
          "animes",
          "gouffre",
          "keufs",
          "glr",
          "chips",
          "fallu",
          "nah",
          "jambon",
          "bouh",
          "grotte",
          "sénat",
          "pseudos",
          "etaient",
          "hac",
          "lazare",
          "cou",
          "attitude",
          "parlementaire",
          "irrespectueux",
          "dégradé",
          "nain",
          "friendzone",
          "pl",
          "audace",
          "jambon",
          "autorité",
          "puisqu",
          "abandonne",
          "bonus",
          "enregistre",
          "insultes",
          "chaines",
          "laaaaa",
          "véritable",
          "salles",
          "steak",
          "formule",
          "lignes",
          "applis",
          "🔵",
          "algerie",
          "sentie",
          "�",
          "🇵",
          "paradise",
          "pédophile",
          "ch",
          "solitude",
          "fesse",
          "1500",
          "honnêtes",
          "jmet",
          "mmmh",
          "opposition",
          "cliqué",
          "soja",
          "george",
          "levé",
          "she",
          "dictionnaire",
          "foutais",
          "agenda",
          "emmerdale",
          "boo",
          "connecté",
          "permanente",
          "côtoie"
         ],
         "textfont": {
          "color": "#4D5663"
         },
         "type": "scatter",
         "x": [
          0.1683429628610611,
          0.14060062170028687,
          -0.05904035642743111,
          -0.15842770040035248,
          -0.15296567976474762,
          -0.12536610662937164,
          -0.5328947305679321,
          0.11446583271026611,
          0.17961238324642181,
          0.025039993226528168,
          0.004447500687092543,
          -0.32146069407463074,
          -0.029396718367934227,
          -0.004900710191577673,
          -0.08788752555847168,
          -0.009676310233771801,
          -0.1467439830303192,
          -0.14470988512039185,
          -0.05022742226719856,
          0.09004640579223633,
          0.09468675404787064,
          0.09870119392871857,
          0.024017395451664925,
          -0.004428267944604158,
          -0.42269110679626465,
          0.04871222749352455,
          0.02557261288166046,
          -0.14392943680286407,
          -0.06675229966640472,
          -0.4000168442726135,
          -0.17132148146629333,
          -0.08895552903413773,
          -0.13034071028232574,
          -0.22827519476413727,
          0.0008929800242185593,
          -0.024573566392064095,
          -0.10759709030389786,
          -0.13786199688911438,
          -0.09916888922452927,
          -0.04220723733305931,
          -0.05181185156106949,
          0.023343225941061974,
          0.03462119400501251,
          0.02770133502781391,
          -0.046310923993587494,
          0.22449393570423126,
          -0.09013281762599945,
          -0.15707018971443176,
          -0.22972753643989563,
          -0.25674766302108765,
          0.014943763613700867,
          0.10852032154798508,
          -0.03139471262693405,
          0.11426994204521179,
          0.07471369951963425,
          0.052991461008787155,
          -0.09016551077365875,
          -0.05181185156106949,
          0.0273619145154953,
          0.08877026289701462,
          -0.2354598492383957,
          -0.06626386195421219,
          0.09234943240880966,
          -0.1509244441986084,
          -0.15594294667243958,
          0.07079729437828064,
          -0.07373761385679245,
          -0.07087743282318115,
          0.03592059388756752,
          -0.20018991827964783,
          -0.23955069482326508,
          -0.003677965607494116,
          -0.587837815284729,
          0.01664268784224987,
          0.14124198257923126,
          -0.009465416893362999,
          -0.051322150975465775,
          0.00861940998584032,
          -0.029599472880363464,
          -0.12335018068552017,
          -0.13841426372528076,
          -0.09555491805076599,
          -0.04306890815496445,
          0.052547551691532135,
          -0.2044047713279724,
          0.13165205717086792,
          -0.23095233738422394,
          0.09640779346227646,
          0.017655890434980392,
          -0.005452093668282032,
          0.0022732948418706656,
          0.08138641715049744,
          0.06083354353904724,
          0.06829007714986801,
          -0.14540116488933563,
          0.04594788700342178,
          -0.07460832595825195,
          -0.17649824917316437,
          -0.08840499818325043,
          -0.01805146411061287
         ],
         "y": [
          -0.06085652485489845,
          0.018819864839315414,
          -0.033339064568281174,
          -0.39379388093948364,
          -0.03935336694121361,
          -0.08483032137155533,
          -0.1208854615688324,
          0.02737337537109852,
          0.03703013435006142,
          0.20583219826221466,
          0.0657038688659668,
          -0.11166224628686905,
          0.015038944780826569,
          0.11251228302717209,
          -0.0810982808470726,
          0.04921288788318634,
          -0.04799913614988327,
          -0.09302404522895813,
          0.28270846605300903,
          0.04085369408130646,
          -0.1617024838924408,
          -0.025215106084942818,
          0.008284182287752628,
          0.005967038683593273,
          -0.1287306249141693,
          0.1570342779159546,
          -0.054692018777132034,
          -0.20445257425308228,
          0.058008480817079544,
          -0.05529921129345894,
          -0.0016052669379860163,
          0.06391314417123795,
          0.21175670623779297,
          0.043149981647729874,
          -0.019441282376646996,
          0.01600760407745838,
          -0.24111482501029968,
          -0.0568937323987484,
          0.03861110657453537,
          0.012318718247115612,
          -0.06643734872341156,
          0.034790828824043274,
          -0.11875301599502563,
          0.06642302125692368,
          0.08455111086368561,
          0.44124147295951843,
          -0.037407130002975464,
          -0.2644632160663605,
          -0.19447186589241028,
          -0.13800384104251862,
          -0.02055552415549755,
          0.1844935566186905,
          -0.06897474080324173,
          0.048192597925662994,
          -0.017321117222309113,
          0.06037427484989166,
          0.03754938021302223,
          -0.06643734872341156,
          -0.07572966814041138,
          0.07551822066307068,
          0.047395918518304825,
          0.007033757399767637,
          -0.02059907279908657,
          0.03054734133183956,
          0.060816437005996704,
          0.020951762795448303,
          -0.2978770136833191,
          -0.032022032886743546,
          -0.14569739997386932,
          -0.18141621351242065,
          0.17813488841056824,
          -0.0432659387588501,
          -0.22926348447799683,
          -0.02212625741958618,
          -0.05085181072354317,
          0.03803940862417221,
          -0.0905086100101471,
          0.02023017778992653,
          -0.052704621106386185,
          -0.026922456920146942,
          -0.14612117409706116,
          -0.11215616017580032,
          -0.027863727882504463,
          0.04903373867273331,
          -0.11904367804527283,
          0.1394314169883728,
          -0.2818884253501892,
          0.15467208623886108,
          -0.059647489339113235,
          -0.05272874981164932,
          -0.03167819231748581,
          0.11584733426570892,
          0.20695984363555908,
          0.005792553070932627,
          -0.0977749451994896,
          0.016495563089847565,
          -0.008555665612220764,
          -0.012369932606816292,
          -0.0870884358882904,
          0.05448078364133835
         ]
        },
        {
         "marker": {
          "color": "rgba(55, 128, 191, 1.0)",
          "line": {
           "width": 1.3
          },
          "opacity": 0.8,
          "size": 12,
          "symbol": "circle"
         },
         "mode": "markers",
         "name": "jvoulais/vérifier/réflexion/ha/ajouter/solo/entrain/🇫/impressionnant/neige/gère/taff/passion/mens/nez/comptes/back/carrière/😞/sophie/permis/termine/journal/dise/marie/raclette/crise/croit/règles/choqué/rencontrer/touche/mdrrrrrr/octobre/uniquement/alexia/tente/vélo/naze/28/jalouse/tente/goûts/position/saisons/entretien/clé/inverse/sud/japonais/bienvenue/rendent/madame/gestion/victoire/tain/regardant/échec/🌹/gouvernement/souris/suisse/ramener/🤞/svt/plaindre/✊/refuse/actuellement/étude/merciiiii/lyon/bjr/tg/trous/bouffer/familles/choquée/90/fatiguée/lapin/payé/🤙/regrette/sah/expérience/zéro/manga/batterie/charge/al/sales/calmer/kiffé/😰/13/animal/2e/réveille/3h",
         "text": [
          "jvoulais",
          "vérifier",
          "réflexion",
          "ha",
          "ajouter",
          "solo",
          "entrain",
          "🇫",
          "impressionnant",
          "neige",
          "gère",
          "taff",
          "passion",
          "mens",
          "nez",
          "comptes",
          "back",
          "carrière",
          "😞",
          "sophie",
          "permis",
          "termine",
          "journal",
          "dise",
          "marie",
          "raclette",
          "crise",
          "croit",
          "règles",
          "choqué",
          "rencontrer",
          "touche",
          "mdrrrrrr",
          "octobre",
          "uniquement",
          "alexia",
          "tente",
          "vélo",
          "naze",
          "28",
          "jalouse",
          "tente",
          "goûts",
          "position",
          "saisons",
          "entretien",
          "clé",
          "inverse",
          "sud",
          "japonais",
          "bienvenue",
          "rendent",
          "madame",
          "gestion",
          "victoire",
          "tain",
          "regardant",
          "échec",
          "🌹",
          "gouvernement",
          "souris",
          "suisse",
          "ramener",
          "🤞",
          "svt",
          "plaindre",
          "✊",
          "refuse",
          "actuellement",
          "étude",
          "merciiiii",
          "lyon",
          "bjr",
          "tg",
          "trous",
          "bouffer",
          "familles",
          "choquée",
          "90",
          "fatiguée",
          "lapin",
          "payé",
          "🤙",
          "regrette",
          "sah",
          "expérience",
          "zéro",
          "manga",
          "batterie",
          "charge",
          "al",
          "sales",
          "calmer",
          "kiffé",
          "😰",
          "13",
          "animal",
          "2e",
          "réveille",
          "3h"
         ],
         "textfont": {
          "color": "#4D5663"
         },
         "type": "scatter",
         "x": [
          0.14520269632339478,
          0.00038288923678919673,
          -0.23627296090126038,
          -0.5437677502632141,
          -0.6682478785514832,
          -0.05864063277840614,
          0.8485968112945557,
          -0.6688175201416016,
          0.0358835868537426,
          -0.24310043454170227,
          -0.06581418961286545,
          -0.06668715178966522,
          -0.7042012214660645,
          -0.001177887781523168,
          -0.8924272060394287,
          -0.7774108052253723,
          -0.3027707040309906,
          -0.6082398295402527,
          -0.2442529797554016,
          -0.20209671556949615,
          -1.007368803024292,
          0.04865598306059837,
          -0.4582287073135376,
          0.28698933124542236,
          -0.47445687651634216,
          -0.17692846059799194,
          -0.07132437080144882,
          0.009083746001124382,
          -0.24376888573169708,
          0.2619723081588745,
          -0.005357307381927967,
          -0.10044527053833008,
          -0.01929960772395134,
          -0.5876806974411011,
          -0.30502110719680786,
          -0.018387455493211746,
          -0.7645612359046936,
          -0.31755584478378296,
          0.029933258891105652,
          -0.7749555706977844,
          0.20162871479988098,
          -0.7645612359046936,
          -0.3062373697757721,
          -0.3154238760471344,
          -0.38495466113090515,
          -0.7089701294898987,
          -0.4696936011314392,
          -0.6759138703346252,
          -0.4539462924003601,
          -0.1347513645887375,
          -1.0095107555389404,
          0.15284664928913116,
          -0.4390886425971985,
          -0.38182955980300903,
          -0.8770981431007385,
          -0.13163380324840546,
          -0.26775985956192017,
          -0.8745460510253906,
          -1.0719108581542969,
          -0.44618868827819824,
          -0.2907117009162903,
          -0.2743270695209503,
          -0.2840782105922699,
          -0.3698754608631134,
          -0.2519274353981018,
          -0.291399747133255,
          -0.5930581092834473,
          0.09651582688093185,
          -0.23037874698638916,
          -0.3146095275878906,
          -0.29415592551231384,
          -0.1958693265914917,
          -0.30487358570098877,
          -0.4435062110424042,
          -0.3662096858024597,
          0.13697607815265656,
          -0.2962988615036011,
          0.46054092049598694,
          -0.4105944037437439,
          0.7495686411857605,
          -0.2732977271080017,
          -0.6221544146537781,
          -0.48537877202033997,
          0.32973116636276245,
          0.2709805369377136,
          -0.8652529120445251,
          -0.1352083384990692,
          -0.41948777437210083,
          -0.7591291069984436,
          0.03965449333190918,
          -0.22964218258857727,
          -0.1574760526418686,
          0.0002819520013872534,
          -0.10533837974071503,
          -0.04382631555199623,
          -0.6064054369926453,
          -0.40520888566970825,
          -0.2993888854980469,
          0.36838749051094055,
          -0.18658167123794556
         ],
         "y": [
          -0.19582051038742065,
          0.13979962468147278,
          -0.11271750926971436,
          1.8780150413513184,
          -0.24105343222618103,
          -0.291096031665802,
          -0.6595224142074585,
          -0.2720724642276764,
          0.26123476028442383,
          0.24014563858509064,
          -0.14415529370307922,
          -0.13768532872200012,
          -0.9227988123893738,
          -0.08883564174175262,
          -0.290696382522583,
          0.1492401659488678,
          -0.15812335908412933,
          -1.0558844804763794,
          -0.22150452435016632,
          0.42102891206741333,
          -0.4156562387943268,
          -0.6468966603279114,
          -0.22951076924800873,
          0.004929366055876017,
          -0.3762407898902893,
          -0.27437710762023926,
          -0.8332008123397827,
          0.2001044601202011,
          0.15537062287330627,
          0.20911769568920135,
          -0.15036387741565704,
          -0.35508206486701965,
          0.4061127007007599,
          0.051512882113456726,
          0.0855947881937027,
          -0.22508805990219116,
          -0.3580458164215088,
          -0.23011352121829987,
          0.2505691945552826,
          -0.22162702679634094,
          -0.005658355075865984,
          -0.3580458164215088,
          0.27528855204582214,
          -0.4670718014240265,
          0.16209962964057922,
          -0.12267860770225525,
          -0.4476497173309326,
          -0.04312596470117569,
          0.10854358971118927,
          0.12853291630744934,
          0.36003291606903076,
          0.4754210412502289,
          0.2493736892938614,
          -0.27110618352890015,
          -0.5210157632827759,
          0.12503015995025635,
          -0.36160415410995483,
          -0.4182579219341278,
          -0.2323647439479828,
          -0.08327310532331467,
          -0.4804190993309021,
          0.026325084269046783,
          -0.49846547842025757,
          -0.5324888825416565,
          -0.27698731422424316,
          -0.4766329526901245,
          -0.21104702353477478,
          -0.12049955129623413,
          -0.3178586959838867,
          -0.1569545567035675,
          0.09423497319221497,
          0.0786527693271637,
          0.11601364612579346,
          0.05772169679403305,
          -0.05313611403107643,
          -0.2691906690597534,
          0.11635523289442062,
          0.5473159551620483,
          0.3918313682079315,
          0.13534842431545258,
          -0.06675811856985092,
          0.4534149169921875,
          -0.46985501050949097,
          0.1750742346048355,
          0.38291648030281067,
          -0.6165192127227783,
          0.22191272675991058,
          0.020207205787301064,
          -0.5058974623680115,
          -0.10381137579679489,
          0.20074011385440826,
          0.261686772108078,
          -0.37604475021362305,
          0.09222304075956345,
          -0.22821199893951416,
          -0.07867458462715149,
          -0.11746049672365189,
          -0.09039672464132309,
          -0.9263567924499512,
          -0.32179415225982666
         ]
        },
        {
         "marker": {
          "color": "rgba(50, 171, 96, 1.0)",
          "line": {
           "width": 1.3
          },
          "opacity": 0.8,
          "size": 12,
          "symbol": "circle"
         },
         "mode": "markers",
         "name": "ligne/bravo/in/aujourdhui/rend/nan/pire/chaque/ya/change/mdrrr/😆/connais/clairement/an/min/pourtant/écouter/magnifique/o/force/doigts/perso/complètement/grand/content/elles/ptn/tl/inquiète/tt/filles/hyper/no/😪/facile/ailleurs/grande/putain/pense/super/savez/🤔/autant/mdrrrr/sortie/partie/moment/bonjour/vos/tf1/verra/😢/dois/eux/génial/faites/gars/pcq/coup/quelques/laisser/contente/serai/jeux/hyper/stage/aurait/chaud/joue/janvier/trucs/😔/heureux/quelle/change/chat/peur/jui/réponse/heureuse/sport/eu/parti/pire/corps/15/stp/the/quel/semaine/maison/porte/8/bac/changé/vrais/ahah/😩/allez",
         "text": [
          "ligne",
          "bravo",
          "in",
          "aujourdhui",
          "rend",
          "nan",
          "pire",
          "chaque",
          "ya",
          "change",
          "mdrrr",
          "😆",
          "connais",
          "clairement",
          "an",
          "min",
          "pourtant",
          "écouter",
          "magnifique",
          "o",
          "force",
          "doigts",
          "perso",
          "complètement",
          "grand",
          "content",
          "elles",
          "ptn",
          "tl",
          "inquiète",
          "tt",
          "filles",
          "hyper",
          "no",
          "😪",
          "facile",
          "ailleurs",
          "grande",
          "putain",
          "pense",
          "super",
          "savez",
          "🤔",
          "autant",
          "mdrrrr",
          "sortie",
          "partie",
          "moment",
          "bonjour",
          "vos",
          "tf1",
          "verra",
          "😢",
          "dois",
          "eux",
          "génial",
          "faites",
          "gars",
          "pcq",
          "coup",
          "quelques",
          "laisser",
          "contente",
          "serai",
          "jeux",
          "hyper",
          "stage",
          "aurait",
          "chaud",
          "joue",
          "janvier",
          "trucs",
          "😔",
          "heureux",
          "quelle",
          "change",
          "chat",
          "peur",
          "jui",
          "réponse",
          "heureuse",
          "sport",
          "eu",
          "parti",
          "pire",
          "corps",
          "15",
          "stp",
          "the",
          "quel",
          "semaine",
          "maison",
          "porte",
          "8",
          "bac",
          "changé",
          "vrais",
          "ahah",
          "😩",
          "allez"
         ],
         "textfont": {
          "color": "#4D5663"
         },
         "type": "scatter",
         "x": [
          -2.0567009449005127,
          -1.2493467330932617,
          -1.256181001663208,
          0.012520646676421165,
          0.5973172783851624,
          0.06713113933801651,
          -0.5153241753578186,
          1.9035016298294067,
          -1.5363620519638062,
          0.31250113248825073,
          0.5676930546760559,
          0.3591770827770233,
          -0.2495340257883072,
          0.1944296658039093,
          -1.3957819938659668,
          -1.2769590616226196,
          0.5180490016937256,
          -0.769009530544281,
          0.39095863699913025,
          -0.8001012206077576,
          -0.5507917404174805,
          -0.4788523316383362,
          -0.15950538218021393,
          -0.07108760625123978,
          -1.3369665145874023,
          0.7199788689613342,
          0.10213456302881241,
          0.25334036350250244,
          -1.778041958808899,
          -1.1760092973709106,
          -0.01921561174094677,
          -0.5032475590705872,
          1.611165165901184,
          0.10679949074983597,
          0.2444530874490738,
          0.5678167939186096,
          0.4496544897556305,
          0.17164060473442078,
          0.15865126252174377,
          0.49975281953811646,
          1.1179732084274292,
          -2.309556245803833,
          0.8347712159156799,
          0.6827272772789001,
          0.1738908886909485,
          -0.7853027582168579,
          0.057346321642398834,
          0.5788865089416504,
          -2.2002694606781006,
          -0.878027081489563,
          -0.1413908153772354,
          0.35434970259666443,
          0.17680476605892181,
          0.37555089592933655,
          0.788889467716217,
          0.6318493485450745,
          -1.5984681844711304,
          -1.0951842069625854,
          0.819892942905426,
          0.7387321591377258,
          0.1197994127869606,
          0.17567861080169678,
          1.106740951538086,
          0.3519669473171234,
          -0.9040281772613525,
          1.611165165901184,
          -0.6237803101539612,
          -0.20146186649799347,
          0.9206268191337585,
          -0.11209648102521896,
          -1.2339503765106201,
          0.6750689148902893,
          0.008829900063574314,
          0.3942539691925049,
          1.863860845565796,
          0.31250113248825073,
          -1.7021114826202393,
          0.9214773774147034,
          0.5042628645896912,
          -1.2281737327575684,
          0.9707520604133606,
          -0.24264152348041534,
          -2.8381192684173584,
          0.476463258266449,
          -0.5153241753578186,
          -1.3355869054794312,
          -0.6837446093559265,
          -0.09649992734193802,
          -0.7486377954483032,
          -1.2171686887741089,
          -0.08944389224052429,
          -0.48707255721092224,
          -0.5061641335487366,
          -1.0561227798461914,
          -1.371120572090149,
          -0.6066340804100037,
          -0.36090561747550964,
          -0.2289431095123291,
          0.3309341371059418,
          -0.8808304667472839
         ],
         "y": [
          -0.8567624688148499,
          0.9558996558189392,
          -0.45193129777908325,
          0.0714438185095787,
          -1.2479907274246216,
          1.4477378129959106,
          0.7425360083580017,
          -0.20802907645702362,
          0.5982264280319214,
          -0.3406780958175659,
          0.3724520206451416,
          -0.17949718236923218,
          0.2302071452140808,
          0.04528701305389404,
          -0.8653208017349243,
          -0.9106559753417969,
          1.1852262020111084,
          -0.31433114409446716,
          0.29007986187934875,
          -0.14458267390727997,
          -0.6828697323799133,
          0.35204851627349854,
          0.695194661617279,
          0.4576333463191986,
          -1.7040475606918335,
          0.5652979016304016,
          1.791260004043579,
          3.869880674756132e-05,
          -1.6353775262832642,
          -0.8519325852394104,
          0.32508420944213867,
          0.8785424828529358,
          0.7832425236701965,
          0.3843297064304352,
          -0.32274317741394043,
          0.9274369478225708,
          0.5134991407394409,
          -1.9345033168792725,
          -0.3901911675930023,
          -0.0022064335644245148,
          -0.11938340216875076,
          0.8949387073516846,
          -0.46019911766052246,
          0.2794542908668518,
          0.7292947173118591,
          -0.6590397357940674,
          -1.0397452116012573,
          1.1634714603424072,
          1.4986732006072998,
          3.03403639793396,
          1.1862049102783203,
          0.7236363291740417,
          -1.8460153341293335,
          -2.2806589603424072,
          3.0004429817199707,
          1.181199550628662,
          0.046948451548814774,
          0.9629565477371216,
          -0.3359803557395935,
          0.0338393859565258,
          1.6077581644058228,
          -1.222433090209961,
          -0.16593775153160095,
          -0.4323192536830902,
          0.5423241853713989,
          0.7832425236701965,
          -0.950935959815979,
          1.0153801441192627,
          0.5564747452735901,
          0.6794360876083374,
          0.5260042548179626,
          1.768347978591919,
          -0.17941176891326904,
          0.33190062642097473,
          0.0988597422838211,
          -0.3406780958175659,
          -0.8783442378044128,
          1.108837604522705,
          -0.2768152952194214,
          -0.5379730463027954,
          0.04367027059197426,
          -0.6497186422348022,
          1.3080689907073975,
          0.8424211740493774,
          0.7425360083580017,
          -0.980798602104187,
          0.28275907039642334,
          -0.5846798419952393,
          -0.2735920250415802,
          0.7484386563301086,
          -2.923567533493042,
          -1.9892445802688599,
          -0.6030400395393372,
          0.5290961265563965,
          -0.6901118755340576,
          0.7386759519577026,
          0.990486741065979,
          0.4324972331523895,
          -1.2982109785079956,
          -0.8200636506080627
         ]
        },
        {
         "marker": {
          "color": "rgba(128, 0, 128, 1.0)",
          "line": {
           "width": 1.3
          },
          "opacity": 0.8,
          "size": 12,
          "symbol": "circle"
         },
         "mode": "markers",
         "name": "pour/qui/😭/vu/mal/y/te/faire/qui/lui/fais/ça/qu/elle/est/ou/toujours/vrai/comme/fais/me/moi/donc/comment/es/sur/faut/rien/comme/d/vous/alors/m/️/à/trop/ma/dire/sur/mal/jamais/merci/s/mdr/lowfrequencyword/bien/temps/voir/lui/y/2/vous/ta/bon/on/donc/ton/ta/peut/aime/être/envie/2/que/ont/rien/sa/ne/nous/avoir/on/ai/vie/que/très/donc/vais/être/dire/ne/bonne/sont/alors/qu/j/nickname/là/ca/va/encore/sais/tous/moi/temps/mes/après/rien/sur/plus/avoir",
         "text": [
          "pour",
          "qui",
          "😭",
          "vu",
          "mal",
          "y",
          "te",
          "faire",
          "qui",
          "lui",
          "fais",
          "ça",
          "qu",
          "elle",
          "est",
          "ou",
          "toujours",
          "vrai",
          "comme",
          "fais",
          "me",
          "moi",
          "donc",
          "comment",
          "es",
          "sur",
          "faut",
          "rien",
          "comme",
          "d",
          "vous",
          "alors",
          "m",
          "️",
          "à",
          "trop",
          "ma",
          "dire",
          "sur",
          "mal",
          "jamais",
          "merci",
          "s",
          "mdr",
          "lowfrequencyword",
          "bien",
          "temps",
          "voir",
          "lui",
          "y",
          "2",
          "vous",
          "ta",
          "bon",
          "on",
          "donc",
          "ton",
          "ta",
          "peut",
          "aime",
          "être",
          "envie",
          "2",
          "que",
          "ont",
          "rien",
          "sa",
          "ne",
          "nous",
          "avoir",
          "on",
          "ai",
          "vie",
          "que",
          "très",
          "donc",
          "vais",
          "être",
          "dire",
          "ne",
          "bonne",
          "sont",
          "alors",
          "qu",
          "j",
          "nickname",
          "là",
          "ca",
          "va",
          "encore",
          "sais",
          "tous",
          "moi",
          "temps",
          "mes",
          "après",
          "rien",
          "sur",
          "plus",
          "avoir"
         ],
         "textfont": {
          "color": "#4D5663"
         },
         "type": "scatter",
         "x": [
          -1.640448808670044,
          -0.1631968468427658,
          -1.1460283994674683,
          -2.0154340267181396,
          2.3003644943237305,
          -2.9083311557769775,
          3.0431816577911377,
          1.2552717924118042,
          -0.1631968468427658,
          2.6470835208892822,
          -0.3657114803791046,
          2.702965021133423,
          2.7881057262420654,
          1.7030456066131592,
          -0.7302535176277161,
          -0.9220932722091675,
          0.15630587935447693,
          0.7850295305252075,
          1.318956971168518,
          -0.3657114803791046,
          3.7141854763031006,
          1.5301834344863892,
          -0.09745141118764877,
          2.40867018699646,
          -1.3192429542541504,
          -3.452969789505005,
          0.0883953794836998,
          2.714653491973877,
          1.318956971168518,
          -0.9039453268051147,
          -2.9895524978637695,
          -0.27076396346092224,
          2.0648000240325928,
          -3.9246509075164795,
          -1.9444817304611206,
          3.578977108001709,
          4.8306756019592285,
          1.3637371063232422,
          -3.452969789505005,
          2.3003644943237305,
          1.1307873725891113,
          -1.4804691076278687,
          2.424243688583374,
          0.07191363722085953,
          -1.0943477153778076,
          3.451864719390869,
          1.5106337070465088,
          0.11178045719861984,
          2.6470835208892822,
          -2.9083311557769775,
          -0.3065154552459717,
          -2.9895524978637695,
          4.1439080238342285,
          -1.0933159589767456,
          -0.8133801817893982,
          -0.09745141118764877,
          -1.46844482421875,
          4.1439080238342285,
          0.9314788579940796,
          -2.937351942062378,
          3.5917627811431885,
          2.472149610519409,
          -0.3065154552459717,
          1.5327788591384888,
          -2.140928030014038,
          2.714653491973877,
          4.617027759552002,
          0.572102963924408,
          -0.48125383257865906,
          0.08898882567882538,
          -0.8133801817893982,
          -2.9262490272521973,
          -0.3217470049858093,
          1.5327788591384888,
          2.1610312461853027,
          -0.09745141118764877,
          -0.3023083806037903,
          3.5917627811431885,
          1.3637371063232422,
          0.572102963924408,
          0.08437081426382065,
          0.13313010334968567,
          -0.27076396346092224,
          2.7881057262420654,
          1.2902041673660278,
          -0.35721567273139954,
          0.7089690566062927,
          2.58659029006958,
          0.5624024868011475,
          0.22500041127204895,
          0.44221487641334534,
          -0.9982836246490479,
          1.5301834344863892,
          1.5106337070465088,
          1.2743301391601562,
          -0.20837320387363434,
          2.714653491973877,
          -3.452969789505005,
          1.3256124258041382,
          0.08898882567882538
         ],
         "y": [
          -2.9147844314575195,
          -1.1471290588378906,
          -1.5749452114105225,
          1.0298755168914795,
          0.7550630569458008,
          0.7068706154823303,
          0.13254089653491974,
          -3.601844310760498,
          -1.1471290588378906,
          0.9378100633621216,
          -2.415893793106079,
          -0.351391077041626,
          2.0637223720550537,
          -2.094813108444214,
          0.7290058732032776,
          -0.9946519732475281,
          0.8911224603652954,
          1.1381455659866333,
          -1.0931464433670044,
          -2.415893793106079,
          -1.23615562915802,
          1.6650965213775635,
          0.3208821713924408,
          0.05199858546257019,
          -3.050804853439331,
          -2.287238597869873,
          -0.16331903636455536,
          2.800044536590576,
          -1.0931464433670044,
          -0.3801531493663788,
          4.755978107452393,
          -0.034033048897981644,
          1.0171899795532227,
          1.7185941934585571,
          -3.0324816703796387,
          0.37618488073349,
          -2.5057389736175537,
          -0.47986140847206116,
          -2.287238597869873,
          0.7550630569458008,
          1.975928544998169,
          1.97226881980896,
          1.8673620223999023,
          -0.7494403719902039,
          0.26412084698677063,
          1.5713645219802856,
          1.3856215476989746,
          -1.6603846549987793,
          0.9378100633621216,
          0.7068706154823303,
          1.0994057655334473,
          4.755978107452393,
          -2.1196811199188232,
          0.9461438059806824,
          -1.149133563041687,
          0.3208821713924408,
          0.7655275464057922,
          -2.1196811199188232,
          -1.2958571910858154,
          -0.31197822093963623,
          -2.1176533699035645,
          -0.9601284861564636,
          1.0994057655334473,
          0.3688437044620514,
          3.6051275730133057,
          2.800044536590576,
          -2.8163371086120605,
          -0.14784714579582214,
          2.6550090312957764,
          -0.5794206261634827,
          -1.149133563041687,
          -0.33495303988456726,
          -2.5717344284057617,
          0.3688437044620514,
          0.9671093821525574,
          0.3208821713924408,
          -3.851644992828369,
          -2.1176533699035645,
          -0.47986140847206116,
          -0.14784714579582214,
          -0.9121173620223999,
          5.075184345245361,
          -0.034033048897981644,
          2.0637223720550537,
          1.5821901559829712,
          2.0212626457214355,
          -0.5937263369560242,
          -0.47681599855422974,
          -3.6138243675231934,
          -0.017370782792568207,
          0.8618233799934387,
          1.9376333951950073,
          1.6650965213775635,
          1.3856215476989746,
          3.776144504547119,
          -1.5130430459976196,
          2.800044536590576,
          -2.287238597869873,
          0.4908195734024048,
          -0.5794206261634827
         ]
        }
       ],
       "layout": {
        "legend": {
         "bgcolor": "#F5F6F9",
         "font": {
          "color": "#4D5663"
         }
        },
        "paper_bgcolor": "#F5F6F9",
        "plot_bgcolor": "#F5F6F9",
        "template": {
         "data": {
          "bar": [
           {
            "error_x": {
             "color": "#2a3f5f"
            },
            "error_y": {
             "color": "#2a3f5f"
            },
            "marker": {
             "line": {
              "color": "#E5ECF6",
              "width": 0.5
             }
            },
            "type": "bar"
           }
          ],
          "barpolar": [
           {
            "marker": {
             "line": {
              "color": "#E5ECF6",
              "width": 0.5
             }
            },
            "type": "barpolar"
           }
          ],
          "carpet": [
           {
            "aaxis": {
             "endlinecolor": "#2a3f5f",
             "gridcolor": "white",
             "linecolor": "white",
             "minorgridcolor": "white",
             "startlinecolor": "#2a3f5f"
            },
            "baxis": {
             "endlinecolor": "#2a3f5f",
             "gridcolor": "white",
             "linecolor": "white",
             "minorgridcolor": "white",
             "startlinecolor": "#2a3f5f"
            },
            "type": "carpet"
           }
          ],
          "choropleth": [
           {
            "colorbar": {
             "outlinewidth": 0,
             "ticks": ""
            },
            "type": "choropleth"
           }
          ],
          "contour": [
           {
            "colorbar": {
             "outlinewidth": 0,
             "ticks": ""
            },
            "colorscale": [
             [
              0,
              "#0d0887"
             ],
             [
              0.1111111111111111,
              "#46039f"
             ],
             [
              0.2222222222222222,
              "#7201a8"
             ],
             [
              0.3333333333333333,
              "#9c179e"
             ],
             [
              0.4444444444444444,
              "#bd3786"
             ],
             [
              0.5555555555555556,
              "#d8576b"
             ],
             [
              0.6666666666666666,
              "#ed7953"
             ],
             [
              0.7777777777777778,
              "#fb9f3a"
             ],
             [
              0.8888888888888888,
              "#fdca26"
             ],
             [
              1,
              "#f0f921"
             ]
            ],
            "type": "contour"
           }
          ],
          "contourcarpet": [
           {
            "colorbar": {
             "outlinewidth": 0,
             "ticks": ""
            },
            "type": "contourcarpet"
           }
          ],
          "heatmap": [
           {
            "colorbar": {
             "outlinewidth": 0,
             "ticks": ""
            },
            "colorscale": [
             [
              0,
              "#0d0887"
             ],
             [
              0.1111111111111111,
              "#46039f"
             ],
             [
              0.2222222222222222,
              "#7201a8"
             ],
             [
              0.3333333333333333,
              "#9c179e"
             ],
             [
              0.4444444444444444,
              "#bd3786"
             ],
             [
              0.5555555555555556,
              "#d8576b"
             ],
             [
              0.6666666666666666,
              "#ed7953"
             ],
             [
              0.7777777777777778,
              "#fb9f3a"
             ],
             [
              0.8888888888888888,
              "#fdca26"
             ],
             [
              1,
              "#f0f921"
             ]
            ],
            "type": "heatmap"
           }
          ],
          "heatmapgl": [
           {
            "colorbar": {
             "outlinewidth": 0,
             "ticks": ""
            },
            "colorscale": [
             [
              0,
              "#0d0887"
             ],
             [
              0.1111111111111111,
              "#46039f"
             ],
             [
              0.2222222222222222,
              "#7201a8"
             ],
             [
              0.3333333333333333,
              "#9c179e"
             ],
             [
              0.4444444444444444,
              "#bd3786"
             ],
             [
              0.5555555555555556,
              "#d8576b"
             ],
             [
              0.6666666666666666,
              "#ed7953"
             ],
             [
              0.7777777777777778,
              "#fb9f3a"
             ],
             [
              0.8888888888888888,
              "#fdca26"
             ],
             [
              1,
              "#f0f921"
             ]
            ],
            "type": "heatmapgl"
           }
          ],
          "histogram": [
           {
            "marker": {
             "colorbar": {
              "outlinewidth": 0,
              "ticks": ""
             }
            },
            "type": "histogram"
           }
          ],
          "histogram2d": [
           {
            "colorbar": {
             "outlinewidth": 0,
             "ticks": ""
            },
            "colorscale": [
             [
              0,
              "#0d0887"
             ],
             [
              0.1111111111111111,
              "#46039f"
             ],
             [
              0.2222222222222222,
              "#7201a8"
             ],
             [
              0.3333333333333333,
              "#9c179e"
             ],
             [
              0.4444444444444444,
              "#bd3786"
             ],
             [
              0.5555555555555556,
              "#d8576b"
             ],
             [
              0.6666666666666666,
              "#ed7953"
             ],
             [
              0.7777777777777778,
              "#fb9f3a"
             ],
             [
              0.8888888888888888,
              "#fdca26"
             ],
             [
              1,
              "#f0f921"
             ]
            ],
            "type": "histogram2d"
           }
          ],
          "histogram2dcontour": [
           {
            "colorbar": {
             "outlinewidth": 0,
             "ticks": ""
            },
            "colorscale": [
             [
              0,
              "#0d0887"
             ],
             [
              0.1111111111111111,
              "#46039f"
             ],
             [
              0.2222222222222222,
              "#7201a8"
             ],
             [
              0.3333333333333333,
              "#9c179e"
             ],
             [
              0.4444444444444444,
              "#bd3786"
             ],
             [
              0.5555555555555556,
              "#d8576b"
             ],
             [
              0.6666666666666666,
              "#ed7953"
             ],
             [
              0.7777777777777778,
              "#fb9f3a"
             ],
             [
              0.8888888888888888,
              "#fdca26"
             ],
             [
              1,
              "#f0f921"
             ]
            ],
            "type": "histogram2dcontour"
           }
          ],
          "mesh3d": [
           {
            "colorbar": {
             "outlinewidth": 0,
             "ticks": ""
            },
            "type": "mesh3d"
           }
          ],
          "parcoords": [
           {
            "line": {
             "colorbar": {
              "outlinewidth": 0,
              "ticks": ""
             }
            },
            "type": "parcoords"
           }
          ],
          "pie": [
           {
            "automargin": true,
            "type": "pie"
           }
          ],
          "scatter": [
           {
            "marker": {
             "colorbar": {
              "outlinewidth": 0,
              "ticks": ""
             }
            },
            "type": "scatter"
           }
          ],
          "scatter3d": [
           {
            "line": {
             "colorbar": {
              "outlinewidth": 0,
              "ticks": ""
             }
            },
            "marker": {
             "colorbar": {
              "outlinewidth": 0,
              "ticks": ""
             }
            },
            "type": "scatter3d"
           }
          ],
          "scattercarpet": [
           {
            "marker": {
             "colorbar": {
              "outlinewidth": 0,
              "ticks": ""
             }
            },
            "type": "scattercarpet"
           }
          ],
          "scattergeo": [
           {
            "marker": {
             "colorbar": {
              "outlinewidth": 0,
              "ticks": ""
             }
            },
            "type": "scattergeo"
           }
          ],
          "scattergl": [
           {
            "marker": {
             "colorbar": {
              "outlinewidth": 0,
              "ticks": ""
             }
            },
            "type": "scattergl"
           }
          ],
          "scattermapbox": [
           {
            "marker": {
             "colorbar": {
              "outlinewidth": 0,
              "ticks": ""
             }
            },
            "type": "scattermapbox"
           }
          ],
          "scatterpolar": [
           {
            "marker": {
             "colorbar": {
              "outlinewidth": 0,
              "ticks": ""
             }
            },
            "type": "scatterpolar"
           }
          ],
          "scatterpolargl": [
           {
            "marker": {
             "colorbar": {
              "outlinewidth": 0,
              "ticks": ""
             }
            },
            "type": "scatterpolargl"
           }
          ],
          "scatterternary": [
           {
            "marker": {
             "colorbar": {
              "outlinewidth": 0,
              "ticks": ""
             }
            },
            "type": "scatterternary"
           }
          ],
          "surface": [
           {
            "colorbar": {
             "outlinewidth": 0,
             "ticks": ""
            },
            "colorscale": [
             [
              0,
              "#0d0887"
             ],
             [
              0.1111111111111111,
              "#46039f"
             ],
             [
              0.2222222222222222,
              "#7201a8"
             ],
             [
              0.3333333333333333,
              "#9c179e"
             ],
             [
              0.4444444444444444,
              "#bd3786"
             ],
             [
              0.5555555555555556,
              "#d8576b"
             ],
             [
              0.6666666666666666,
              "#ed7953"
             ],
             [
              0.7777777777777778,
              "#fb9f3a"
             ],
             [
              0.8888888888888888,
              "#fdca26"
             ],
             [
              1,
              "#f0f921"
             ]
            ],
            "type": "surface"
           }
          ],
          "table": [
           {
            "cells": {
             "fill": {
              "color": "#EBF0F8"
             },
             "line": {
              "color": "white"
             }
            },
            "header": {
             "fill": {
              "color": "#C8D4E3"
             },
             "line": {
              "color": "white"
             }
            },
            "type": "table"
           }
          ]
         },
         "layout": {
          "annotationdefaults": {
           "arrowcolor": "#2a3f5f",
           "arrowhead": 0,
           "arrowwidth": 1
          },
          "coloraxis": {
           "colorbar": {
            "outlinewidth": 0,
            "ticks": ""
           }
          },
          "colorscale": {
           "diverging": [
            [
             0,
             "#8e0152"
            ],
            [
             0.1,
             "#c51b7d"
            ],
            [
             0.2,
             "#de77ae"
            ],
            [
             0.3,
             "#f1b6da"
            ],
            [
             0.4,
             "#fde0ef"
            ],
            [
             0.5,
             "#f7f7f7"
            ],
            [
             0.6,
             "#e6f5d0"
            ],
            [
             0.7,
             "#b8e186"
            ],
            [
             0.8,
             "#7fbc41"
            ],
            [
             0.9,
             "#4d9221"
            ],
            [
             1,
             "#276419"
            ]
           ],
           "sequential": [
            [
             0,
             "#0d0887"
            ],
            [
             0.1111111111111111,
             "#46039f"
            ],
            [
             0.2222222222222222,
             "#7201a8"
            ],
            [
             0.3333333333333333,
             "#9c179e"
            ],
            [
             0.4444444444444444,
             "#bd3786"
            ],
            [
             0.5555555555555556,
             "#d8576b"
            ],
            [
             0.6666666666666666,
             "#ed7953"
            ],
            [
             0.7777777777777778,
             "#fb9f3a"
            ],
            [
             0.8888888888888888,
             "#fdca26"
            ],
            [
             1,
             "#f0f921"
            ]
           ],
           "sequentialminus": [
            [
             0,
             "#0d0887"
            ],
            [
             0.1111111111111111,
             "#46039f"
            ],
            [
             0.2222222222222222,
             "#7201a8"
            ],
            [
             0.3333333333333333,
             "#9c179e"
            ],
            [
             0.4444444444444444,
             "#bd3786"
            ],
            [
             0.5555555555555556,
             "#d8576b"
            ],
            [
             0.6666666666666666,
             "#ed7953"
            ],
            [
             0.7777777777777778,
             "#fb9f3a"
            ],
            [
             0.8888888888888888,
             "#fdca26"
            ],
            [
             1,
             "#f0f921"
            ]
           ]
          },
          "colorway": [
           "#636efa",
           "#EF553B",
           "#00cc96",
           "#ab63fa",
           "#FFA15A",
           "#19d3f3",
           "#FF6692",
           "#B6E880",
           "#FF97FF",
           "#FECB52"
          ],
          "font": {
           "color": "#2a3f5f"
          },
          "geo": {
           "bgcolor": "white",
           "lakecolor": "white",
           "landcolor": "#E5ECF6",
           "showlakes": true,
           "showland": true,
           "subunitcolor": "white"
          },
          "hoverlabel": {
           "align": "left"
          },
          "hovermode": "closest",
          "mapbox": {
           "style": "light"
          },
          "paper_bgcolor": "white",
          "plot_bgcolor": "#E5ECF6",
          "polar": {
           "angularaxis": {
            "gridcolor": "white",
            "linecolor": "white",
            "ticks": ""
           },
           "bgcolor": "#E5ECF6",
           "radialaxis": {
            "gridcolor": "white",
            "linecolor": "white",
            "ticks": ""
           }
          },
          "scene": {
           "xaxis": {
            "backgroundcolor": "#E5ECF6",
            "gridcolor": "white",
            "gridwidth": 2,
            "linecolor": "white",
            "showbackground": true,
            "ticks": "",
            "zerolinecolor": "white"
           },
           "yaxis": {
            "backgroundcolor": "#E5ECF6",
            "gridcolor": "white",
            "gridwidth": 2,
            "linecolor": "white",
            "showbackground": true,
            "ticks": "",
            "zerolinecolor": "white"
           },
           "zaxis": {
            "backgroundcolor": "#E5ECF6",
            "gridcolor": "white",
            "gridwidth": 2,
            "linecolor": "white",
            "showbackground": true,
            "ticks": "",
            "zerolinecolor": "white"
           }
          },
          "shapedefaults": {
           "line": {
            "color": "#2a3f5f"
           }
          },
          "ternary": {
           "aaxis": {
            "gridcolor": "white",
            "linecolor": "white",
            "ticks": ""
           },
           "baxis": {
            "gridcolor": "white",
            "linecolor": "white",
            "ticks": ""
           },
           "bgcolor": "#E5ECF6",
           "caxis": {
            "gridcolor": "white",
            "linecolor": "white",
            "ticks": ""
           }
          },
          "title": {
           "x": 0.05
          },
          "xaxis": {
           "automargin": true,
           "gridcolor": "white",
           "linecolor": "white",
           "ticks": "",
           "title": {
            "standoff": 15
           },
           "zerolinecolor": "white",
           "zerolinewidth": 2
          },
          "yaxis": {
           "automargin": true,
           "gridcolor": "white",
           "linecolor": "white",
           "ticks": "",
           "title": {
            "standoff": 15
           },
           "zerolinecolor": "white",
           "zerolinewidth": 2
          }
         }
        },
        "title": {
         "font": {
          "color": "#4D5663"
         },
         "text": "ACP en 2 composantes"
        },
        "xaxis": {
         "gridcolor": "#E1E5ED",
         "showgrid": true,
         "tickfont": {
          "color": "#4D5663"
         },
         "title": {
          "font": {
           "color": "#4D5663"
          },
          "text": "Axe 1"
         },
         "zerolinecolor": "#E1E5ED"
        },
        "yaxis": {
         "gridcolor": "#E1E5ED",
         "showgrid": true,
         "tickfont": {
          "color": "#4D5663"
         },
         "title": {
          "font": {
           "color": "#4D5663"
          },
          "text": "Axe 2"
         },
         "zerolinecolor": "#E1E5ED"
        }
       }
      },
      "text/html": [
       "<div>\n",
       "        \n",
       "        \n",
       "            <div id=\"ce0f1a06-94a1-4b01-a8a4-e6b98d0ff964\" class=\"plotly-graph-div\" style=\"height:525px; width:100%;\"></div>\n",
       "            <script type=\"text/javascript\">\n",
       "                require([\"plotly\"], function(Plotly) {\n",
       "                    window.PLOTLYENV=window.PLOTLYENV || {};\n",
       "                    window.PLOTLYENV.BASE_URL='https://plot.ly';\n",
       "                    \n",
       "                if (document.getElementById(\"ce0f1a06-94a1-4b01-a8a4-e6b98d0ff964\")) {\n",
       "                    Plotly.newPlot(\n",
       "                        'ce0f1a06-94a1-4b01-a8a4-e6b98d0ff964',\n",
       "                        [{\"marker\": {\"color\": \"rgba(255, 153, 51, 1.0)\", \"line\": {\"width\": 1.3}, \"opacity\": 0.8, \"size\": 12, \"symbol\": \"circle\"}, \"mode\": \"markers\", \"name\": \"jespere/expres/unknown/tite/35/ipad/eme/rel\\u00e2che/top1/chiants/libres/europeans/investit/usualsuspects/davoir/n\\u00e9ant/mariages/clinique/scandaleux/hallucinant/josefine/taule/myl\\u00e8ne/mouchoirs/\\ud83c\\uddea/forts/mal\\u00e9diction/mounet/imp\\u00f4t/\\ud83c\\uddf8/union/od/refus\\u00e9/animes/gouffre/keufs/glr/chips/fallu/nah/jambon/bouh/grotte/s\\u00e9nat/pseudos/etaient/hac/lazare/cou/attitude/parlementaire/irrespectueux/d\\u00e9grad\\u00e9/nain/friendzone/pl/audace/jambon/autorit\\u00e9/puisqu/abandonne/bonus/enregistre/insultes/chaines/laaaaa/v\\u00e9ritable/salles/steak/formule/lignes/applis/\\ud83d\\udd35/algerie/sentie/\\ufffd/\\ud83c\\uddf5/paradise/p\\u00e9dophile/ch/solitude/fesse/1500/honn\\u00eates/jmet/mmmh/opposition/cliqu\\u00e9/soja/george/lev\\u00e9/she/dictionnaire/foutais/agenda/emmerdale/boo/connect\\u00e9/permanente/c\\u00f4toie\", \"text\": [\"jespere\", \"expres\", \"unknown\", \"tite\", \"35\", \"ipad\", \"eme\", \"rel\\u00e2che\", \"top1\", \"chiants\", \"libres\", \"europeans\", \"investit\", \"usualsuspects\", \"davoir\", \"n\\u00e9ant\", \"mariages\", \"clinique\", \"scandaleux\", \"hallucinant\", \"josefine\", \"taule\", \"myl\\u00e8ne\", \"mouchoirs\", \"\\ud83c\\uddea\", \"forts\", \"mal\\u00e9diction\", \"mounet\", \"imp\\u00f4t\", \"\\ud83c\\uddf8\", \"union\", \"od\", \"refus\\u00e9\", \"animes\", \"gouffre\", \"keufs\", \"glr\", \"chips\", \"fallu\", \"nah\", \"jambon\", \"bouh\", \"grotte\", \"s\\u00e9nat\", \"pseudos\", \"etaient\", \"hac\", \"lazare\", \"cou\", \"attitude\", \"parlementaire\", \"irrespectueux\", \"d\\u00e9grad\\u00e9\", \"nain\", \"friendzone\", \"pl\", \"audace\", \"jambon\", \"autorit\\u00e9\", \"puisqu\", \"abandonne\", \"bonus\", \"enregistre\", \"insultes\", \"chaines\", \"laaaaa\", \"v\\u00e9ritable\", \"salles\", \"steak\", \"formule\", \"lignes\", \"applis\", \"\\ud83d\\udd35\", \"algerie\", \"sentie\", \"\\ufffd\", \"\\ud83c\\uddf5\", \"paradise\", \"p\\u00e9dophile\", \"ch\", \"solitude\", \"fesse\", \"1500\", \"honn\\u00eates\", \"jmet\", \"mmmh\", \"opposition\", \"cliqu\\u00e9\", \"soja\", \"george\", \"lev\\u00e9\", \"she\", \"dictionnaire\", \"foutais\", \"agenda\", \"emmerdale\", \"boo\", \"connect\\u00e9\", \"permanente\", \"c\\u00f4toie\"], \"textfont\": {\"color\": \"#4D5663\"}, \"type\": \"scatter\", \"x\": [0.1683429628610611, 0.14060062170028687, -0.05904035642743111, -0.15842770040035248, -0.15296567976474762, -0.12536610662937164, -0.5328947305679321, 0.11446583271026611, 0.17961238324642181, 0.025039993226528168, 0.004447500687092543, -0.32146069407463074, -0.029396718367934227, -0.004900710191577673, -0.08788752555847168, -0.009676310233771801, -0.1467439830303192, -0.14470988512039185, -0.05022742226719856, 0.09004640579223633, 0.09468675404787064, 0.09870119392871857, 0.024017395451664925, -0.004428267944604158, -0.42269110679626465, 0.04871222749352455, 0.02557261288166046, -0.14392943680286407, -0.06675229966640472, -0.4000168442726135, -0.17132148146629333, -0.08895552903413773, -0.13034071028232574, -0.22827519476413727, 0.0008929800242185593, -0.024573566392064095, -0.10759709030389786, -0.13786199688911438, -0.09916888922452927, -0.04220723733305931, -0.05181185156106949, 0.023343225941061974, 0.03462119400501251, 0.02770133502781391, -0.046310923993587494, 0.22449393570423126, -0.09013281762599945, -0.15707018971443176, -0.22972753643989563, -0.25674766302108765, 0.014943763613700867, 0.10852032154798508, -0.03139471262693405, 0.11426994204521179, 0.07471369951963425, 0.052991461008787155, -0.09016551077365875, -0.05181185156106949, 0.0273619145154953, 0.08877026289701462, -0.2354598492383957, -0.06626386195421219, 0.09234943240880966, -0.1509244441986084, -0.15594294667243958, 0.07079729437828064, -0.07373761385679245, -0.07087743282318115, 0.03592059388756752, -0.20018991827964783, -0.23955069482326508, -0.003677965607494116, -0.587837815284729, 0.01664268784224987, 0.14124198257923126, -0.009465416893362999, -0.051322150975465775, 0.00861940998584032, -0.029599472880363464, -0.12335018068552017, -0.13841426372528076, -0.09555491805076599, -0.04306890815496445, 0.052547551691532135, -0.2044047713279724, 0.13165205717086792, -0.23095233738422394, 0.09640779346227646, 0.017655890434980392, -0.005452093668282032, 0.0022732948418706656, 0.08138641715049744, 0.06083354353904724, 0.06829007714986801, -0.14540116488933563, 0.04594788700342178, -0.07460832595825195, -0.17649824917316437, -0.08840499818325043, -0.01805146411061287], \"y\": [-0.06085652485489845, 0.018819864839315414, -0.033339064568281174, -0.39379388093948364, -0.03935336694121361, -0.08483032137155533, -0.1208854615688324, 0.02737337537109852, 0.03703013435006142, 0.20583219826221466, 0.0657038688659668, -0.11166224628686905, 0.015038944780826569, 0.11251228302717209, -0.0810982808470726, 0.04921288788318634, -0.04799913614988327, -0.09302404522895813, 0.28270846605300903, 0.04085369408130646, -0.1617024838924408, -0.025215106084942818, 0.008284182287752628, 0.005967038683593273, -0.1287306249141693, 0.1570342779159546, -0.054692018777132034, -0.20445257425308228, 0.058008480817079544, -0.05529921129345894, -0.0016052669379860163, 0.06391314417123795, 0.21175670623779297, 0.043149981647729874, -0.019441282376646996, 0.01600760407745838, -0.24111482501029968, -0.0568937323987484, 0.03861110657453537, 0.012318718247115612, -0.06643734872341156, 0.034790828824043274, -0.11875301599502563, 0.06642302125692368, 0.08455111086368561, 0.44124147295951843, -0.037407130002975464, -0.2644632160663605, -0.19447186589241028, -0.13800384104251862, -0.02055552415549755, 0.1844935566186905, -0.06897474080324173, 0.048192597925662994, -0.017321117222309113, 0.06037427484989166, 0.03754938021302223, -0.06643734872341156, -0.07572966814041138, 0.07551822066307068, 0.047395918518304825, 0.007033757399767637, -0.02059907279908657, 0.03054734133183956, 0.060816437005996704, 0.020951762795448303, -0.2978770136833191, -0.032022032886743546, -0.14569739997386932, -0.18141621351242065, 0.17813488841056824, -0.0432659387588501, -0.22926348447799683, -0.02212625741958618, -0.05085181072354317, 0.03803940862417221, -0.0905086100101471, 0.02023017778992653, -0.052704621106386185, -0.026922456920146942, -0.14612117409706116, -0.11215616017580032, -0.027863727882504463, 0.04903373867273331, -0.11904367804527283, 0.1394314169883728, -0.2818884253501892, 0.15467208623886108, -0.059647489339113235, -0.05272874981164932, -0.03167819231748581, 0.11584733426570892, 0.20695984363555908, 0.005792553070932627, -0.0977749451994896, 0.016495563089847565, -0.008555665612220764, -0.012369932606816292, -0.0870884358882904, 0.05448078364133835]}, {\"marker\": {\"color\": \"rgba(55, 128, 191, 1.0)\", \"line\": {\"width\": 1.3}, \"opacity\": 0.8, \"size\": 12, \"symbol\": \"circle\"}, \"mode\": \"markers\", \"name\": \"jvoulais/v\\u00e9rifier/r\\u00e9flexion/ha/ajouter/solo/entrain/\\ud83c\\uddeb/impressionnant/neige/g\\u00e8re/taff/passion/mens/nez/comptes/back/carri\\u00e8re/\\ud83d\\ude1e/sophie/permis/termine/journal/dise/marie/raclette/crise/croit/r\\u00e8gles/choqu\\u00e9/rencontrer/touche/mdrrrrrr/octobre/uniquement/alexia/tente/v\\u00e9lo/naze/28/jalouse/tente/go\\u00fbts/position/saisons/entretien/cl\\u00e9/inverse/sud/japonais/bienvenue/rendent/madame/gestion/victoire/tain/regardant/\\u00e9chec/\\ud83c\\udf39/gouvernement/souris/suisse/ramener/\\ud83e\\udd1e/svt/plaindre/\\u270a/refuse/actuellement/\\u00e9tude/merciiiii/lyon/bjr/tg/trous/bouffer/familles/choqu\\u00e9e/90/fatigu\\u00e9e/lapin/pay\\u00e9/\\ud83e\\udd19/regrette/sah/exp\\u00e9rience/z\\u00e9ro/manga/batterie/charge/al/sales/calmer/kiff\\u00e9/\\ud83d\\ude30/13/animal/2e/r\\u00e9veille/3h\", \"text\": [\"jvoulais\", \"v\\u00e9rifier\", \"r\\u00e9flexion\", \"ha\", \"ajouter\", \"solo\", \"entrain\", \"\\ud83c\\uddeb\", \"impressionnant\", \"neige\", \"g\\u00e8re\", \"taff\", \"passion\", \"mens\", \"nez\", \"comptes\", \"back\", \"carri\\u00e8re\", \"\\ud83d\\ude1e\", \"sophie\", \"permis\", \"termine\", \"journal\", \"dise\", \"marie\", \"raclette\", \"crise\", \"croit\", \"r\\u00e8gles\", \"choqu\\u00e9\", \"rencontrer\", \"touche\", \"mdrrrrrr\", \"octobre\", \"uniquement\", \"alexia\", \"tente\", \"v\\u00e9lo\", \"naze\", \"28\", \"jalouse\", \"tente\", \"go\\u00fbts\", \"position\", \"saisons\", \"entretien\", \"cl\\u00e9\", \"inverse\", \"sud\", \"japonais\", \"bienvenue\", \"rendent\", \"madame\", \"gestion\", \"victoire\", \"tain\", \"regardant\", \"\\u00e9chec\", \"\\ud83c\\udf39\", \"gouvernement\", \"souris\", \"suisse\", \"ramener\", \"\\ud83e\\udd1e\", \"svt\", \"plaindre\", \"\\u270a\", \"refuse\", \"actuellement\", \"\\u00e9tude\", \"merciiiii\", \"lyon\", \"bjr\", \"tg\", \"trous\", \"bouffer\", \"familles\", \"choqu\\u00e9e\", \"90\", \"fatigu\\u00e9e\", \"lapin\", \"pay\\u00e9\", \"\\ud83e\\udd19\", \"regrette\", \"sah\", \"exp\\u00e9rience\", \"z\\u00e9ro\", \"manga\", \"batterie\", \"charge\", \"al\", \"sales\", \"calmer\", \"kiff\\u00e9\", \"\\ud83d\\ude30\", \"13\", \"animal\", \"2e\", \"r\\u00e9veille\", \"3h\"], \"textfont\": {\"color\": \"#4D5663\"}, \"type\": \"scatter\", \"x\": [0.14520269632339478, 0.00038288923678919673, -0.23627296090126038, -0.5437677502632141, -0.6682478785514832, -0.05864063277840614, 0.8485968112945557, -0.6688175201416016, 0.0358835868537426, -0.24310043454170227, -0.06581418961286545, -0.06668715178966522, -0.7042012214660645, -0.001177887781523168, -0.8924272060394287, -0.7774108052253723, -0.3027707040309906, -0.6082398295402527, -0.2442529797554016, -0.20209671556949615, -1.007368803024292, 0.04865598306059837, -0.4582287073135376, 0.28698933124542236, -0.47445687651634216, -0.17692846059799194, -0.07132437080144882, 0.009083746001124382, -0.24376888573169708, 0.2619723081588745, -0.005357307381927967, -0.10044527053833008, -0.01929960772395134, -0.5876806974411011, -0.30502110719680786, -0.018387455493211746, -0.7645612359046936, -0.31755584478378296, 0.029933258891105652, -0.7749555706977844, 0.20162871479988098, -0.7645612359046936, -0.3062373697757721, -0.3154238760471344, -0.38495466113090515, -0.7089701294898987, -0.4696936011314392, -0.6759138703346252, -0.4539462924003601, -0.1347513645887375, -1.0095107555389404, 0.15284664928913116, -0.4390886425971985, -0.38182955980300903, -0.8770981431007385, -0.13163380324840546, -0.26775985956192017, -0.8745460510253906, -1.0719108581542969, -0.44618868827819824, -0.2907117009162903, -0.2743270695209503, -0.2840782105922699, -0.3698754608631134, -0.2519274353981018, -0.291399747133255, -0.5930581092834473, 0.09651582688093185, -0.23037874698638916, -0.3146095275878906, -0.29415592551231384, -0.1958693265914917, -0.30487358570098877, -0.4435062110424042, -0.3662096858024597, 0.13697607815265656, -0.2962988615036011, 0.46054092049598694, -0.4105944037437439, 0.7495686411857605, -0.2732977271080017, -0.6221544146537781, -0.48537877202033997, 0.32973116636276245, 0.2709805369377136, -0.8652529120445251, -0.1352083384990692, -0.41948777437210083, -0.7591291069984436, 0.03965449333190918, -0.22964218258857727, -0.1574760526418686, 0.0002819520013872534, -0.10533837974071503, -0.04382631555199623, -0.6064054369926453, -0.40520888566970825, -0.2993888854980469, 0.36838749051094055, -0.18658167123794556], \"y\": [-0.19582051038742065, 0.13979962468147278, -0.11271750926971436, 1.8780150413513184, -0.24105343222618103, -0.291096031665802, -0.6595224142074585, -0.2720724642276764, 0.26123476028442383, 0.24014563858509064, -0.14415529370307922, -0.13768532872200012, -0.9227988123893738, -0.08883564174175262, -0.290696382522583, 0.1492401659488678, -0.15812335908412933, -1.0558844804763794, -0.22150452435016632, 0.42102891206741333, -0.4156562387943268, -0.6468966603279114, -0.22951076924800873, 0.004929366055876017, -0.3762407898902893, -0.27437710762023926, -0.8332008123397827, 0.2001044601202011, 0.15537062287330627, 0.20911769568920135, -0.15036387741565704, -0.35508206486701965, 0.4061127007007599, 0.051512882113456726, 0.0855947881937027, -0.22508805990219116, -0.3580458164215088, -0.23011352121829987, 0.2505691945552826, -0.22162702679634094, -0.005658355075865984, -0.3580458164215088, 0.27528855204582214, -0.4670718014240265, 0.16209962964057922, -0.12267860770225525, -0.4476497173309326, -0.04312596470117569, 0.10854358971118927, 0.12853291630744934, 0.36003291606903076, 0.4754210412502289, 0.2493736892938614, -0.27110618352890015, -0.5210157632827759, 0.12503015995025635, -0.36160415410995483, -0.4182579219341278, -0.2323647439479828, -0.08327310532331467, -0.4804190993309021, 0.026325084269046783, -0.49846547842025757, -0.5324888825416565, -0.27698731422424316, -0.4766329526901245, -0.21104702353477478, -0.12049955129623413, -0.3178586959838867, -0.1569545567035675, 0.09423497319221497, 0.0786527693271637, 0.11601364612579346, 0.05772169679403305, -0.05313611403107643, -0.2691906690597534, 0.11635523289442062, 0.5473159551620483, 0.3918313682079315, 0.13534842431545258, -0.06675811856985092, 0.4534149169921875, -0.46985501050949097, 0.1750742346048355, 0.38291648030281067, -0.6165192127227783, 0.22191272675991058, 0.020207205787301064, -0.5058974623680115, -0.10381137579679489, 0.20074011385440826, 0.261686772108078, -0.37604475021362305, 0.09222304075956345, -0.22821199893951416, -0.07867458462715149, -0.11746049672365189, -0.09039672464132309, -0.9263567924499512, -0.32179415225982666]}, {\"marker\": {\"color\": \"rgba(50, 171, 96, 1.0)\", \"line\": {\"width\": 1.3}, \"opacity\": 0.8, \"size\": 12, \"symbol\": \"circle\"}, \"mode\": \"markers\", \"name\": \"ligne/bravo/in/aujourdhui/rend/nan/pire/chaque/ya/change/mdrrr/\\ud83d\\ude06/connais/clairement/an/min/pourtant/\\u00e9couter/magnifique/o/force/doigts/perso/compl\\u00e8tement/grand/content/elles/ptn/tl/inqui\\u00e8te/tt/filles/hyper/no/\\ud83d\\ude2a/facile/ailleurs/grande/putain/pense/super/savez/\\ud83e\\udd14/autant/mdrrrr/sortie/partie/moment/bonjour/vos/tf1/verra/\\ud83d\\ude22/dois/eux/g\\u00e9nial/faites/gars/pcq/coup/quelques/laisser/contente/serai/jeux/hyper/stage/aurait/chaud/joue/janvier/trucs/\\ud83d\\ude14/heureux/quelle/change/chat/peur/jui/r\\u00e9ponse/heureuse/sport/eu/parti/pire/corps/15/stp/the/quel/semaine/maison/porte/8/bac/chang\\u00e9/vrais/ahah/\\ud83d\\ude29/allez\", \"text\": [\"ligne\", \"bravo\", \"in\", \"aujourdhui\", \"rend\", \"nan\", \"pire\", \"chaque\", \"ya\", \"change\", \"mdrrr\", \"\\ud83d\\ude06\", \"connais\", \"clairement\", \"an\", \"min\", \"pourtant\", \"\\u00e9couter\", \"magnifique\", \"o\", \"force\", \"doigts\", \"perso\", \"compl\\u00e8tement\", \"grand\", \"content\", \"elles\", \"ptn\", \"tl\", \"inqui\\u00e8te\", \"tt\", \"filles\", \"hyper\", \"no\", \"\\ud83d\\ude2a\", \"facile\", \"ailleurs\", \"grande\", \"putain\", \"pense\", \"super\", \"savez\", \"\\ud83e\\udd14\", \"autant\", \"mdrrrr\", \"sortie\", \"partie\", \"moment\", \"bonjour\", \"vos\", \"tf1\", \"verra\", \"\\ud83d\\ude22\", \"dois\", \"eux\", \"g\\u00e9nial\", \"faites\", \"gars\", \"pcq\", \"coup\", \"quelques\", \"laisser\", \"contente\", \"serai\", \"jeux\", \"hyper\", \"stage\", \"aurait\", \"chaud\", \"joue\", \"janvier\", \"trucs\", \"\\ud83d\\ude14\", \"heureux\", \"quelle\", \"change\", \"chat\", \"peur\", \"jui\", \"r\\u00e9ponse\", \"heureuse\", \"sport\", \"eu\", \"parti\", \"pire\", \"corps\", \"15\", \"stp\", \"the\", \"quel\", \"semaine\", \"maison\", \"porte\", \"8\", \"bac\", \"chang\\u00e9\", \"vrais\", \"ahah\", \"\\ud83d\\ude29\", \"allez\"], \"textfont\": {\"color\": \"#4D5663\"}, \"type\": \"scatter\", \"x\": [-2.0567009449005127, -1.2493467330932617, -1.256181001663208, 0.012520646676421165, 0.5973172783851624, 0.06713113933801651, -0.5153241753578186, 1.9035016298294067, -1.5363620519638062, 0.31250113248825073, 0.5676930546760559, 0.3591770827770233, -0.2495340257883072, 0.1944296658039093, -1.3957819938659668, -1.2769590616226196, 0.5180490016937256, -0.769009530544281, 0.39095863699913025, -0.8001012206077576, -0.5507917404174805, -0.4788523316383362, -0.15950538218021393, -0.07108760625123978, -1.3369665145874023, 0.7199788689613342, 0.10213456302881241, 0.25334036350250244, -1.778041958808899, -1.1760092973709106, -0.01921561174094677, -0.5032475590705872, 1.611165165901184, 0.10679949074983597, 0.2444530874490738, 0.5678167939186096, 0.4496544897556305, 0.17164060473442078, 0.15865126252174377, 0.49975281953811646, 1.1179732084274292, -2.309556245803833, 0.8347712159156799, 0.6827272772789001, 0.1738908886909485, -0.7853027582168579, 0.057346321642398834, 0.5788865089416504, -2.2002694606781006, -0.878027081489563, -0.1413908153772354, 0.35434970259666443, 0.17680476605892181, 0.37555089592933655, 0.788889467716217, 0.6318493485450745, -1.5984681844711304, -1.0951842069625854, 0.819892942905426, 0.7387321591377258, 0.1197994127869606, 0.17567861080169678, 1.106740951538086, 0.3519669473171234, -0.9040281772613525, 1.611165165901184, -0.6237803101539612, -0.20146186649799347, 0.9206268191337585, -0.11209648102521896, -1.2339503765106201, 0.6750689148902893, 0.008829900063574314, 0.3942539691925049, 1.863860845565796, 0.31250113248825073, -1.7021114826202393, 0.9214773774147034, 0.5042628645896912, -1.2281737327575684, 0.9707520604133606, -0.24264152348041534, -2.8381192684173584, 0.476463258266449, -0.5153241753578186, -1.3355869054794312, -0.6837446093559265, -0.09649992734193802, -0.7486377954483032, -1.2171686887741089, -0.08944389224052429, -0.48707255721092224, -0.5061641335487366, -1.0561227798461914, -1.371120572090149, -0.6066340804100037, -0.36090561747550964, -0.2289431095123291, 0.3309341371059418, -0.8808304667472839], \"y\": [-0.8567624688148499, 0.9558996558189392, -0.45193129777908325, 0.0714438185095787, -1.2479907274246216, 1.4477378129959106, 0.7425360083580017, -0.20802907645702362, 0.5982264280319214, -0.3406780958175659, 0.3724520206451416, -0.17949718236923218, 0.2302071452140808, 0.04528701305389404, -0.8653208017349243, -0.9106559753417969, 1.1852262020111084, -0.31433114409446716, 0.29007986187934875, -0.14458267390727997, -0.6828697323799133, 0.35204851627349854, 0.695194661617279, 0.4576333463191986, -1.7040475606918335, 0.5652979016304016, 1.791260004043579, 3.869880674756132e-05, -1.6353775262832642, -0.8519325852394104, 0.32508420944213867, 0.8785424828529358, 0.7832425236701965, 0.3843297064304352, -0.32274317741394043, 0.9274369478225708, 0.5134991407394409, -1.9345033168792725, -0.3901911675930023, -0.0022064335644245148, -0.11938340216875076, 0.8949387073516846, -0.46019911766052246, 0.2794542908668518, 0.7292947173118591, -0.6590397357940674, -1.0397452116012573, 1.1634714603424072, 1.4986732006072998, 3.03403639793396, 1.1862049102783203, 0.7236363291740417, -1.8460153341293335, -2.2806589603424072, 3.0004429817199707, 1.181199550628662, 0.046948451548814774, 0.9629565477371216, -0.3359803557395935, 0.0338393859565258, 1.6077581644058228, -1.222433090209961, -0.16593775153160095, -0.4323192536830902, 0.5423241853713989, 0.7832425236701965, -0.950935959815979, 1.0153801441192627, 0.5564747452735901, 0.6794360876083374, 0.5260042548179626, 1.768347978591919, -0.17941176891326904, 0.33190062642097473, 0.0988597422838211, -0.3406780958175659, -0.8783442378044128, 1.108837604522705, -0.2768152952194214, -0.5379730463027954, 0.04367027059197426, -0.6497186422348022, 1.3080689907073975, 0.8424211740493774, 0.7425360083580017, -0.980798602104187, 0.28275907039642334, -0.5846798419952393, -0.2735920250415802, 0.7484386563301086, -2.923567533493042, -1.9892445802688599, -0.6030400395393372, 0.5290961265563965, -0.6901118755340576, 0.7386759519577026, 0.990486741065979, 0.4324972331523895, -1.2982109785079956, -0.8200636506080627]}, {\"marker\": {\"color\": \"rgba(128, 0, 128, 1.0)\", \"line\": {\"width\": 1.3}, \"opacity\": 0.8, \"size\": 12, \"symbol\": \"circle\"}, \"mode\": \"markers\", \"name\": \"pour/qui/\\ud83d\\ude2d/vu/mal/y/te/faire/qui/lui/fais/\\u00e7a/qu/elle/est/ou/toujours/vrai/comme/fais/me/moi/donc/comment/es/sur/faut/rien/comme/d/vous/alors/m/\\ufe0f/\\u00e0/trop/ma/dire/sur/mal/jamais/merci/s/mdr/lowfrequencyword/bien/temps/voir/lui/y/2/vous/ta/bon/on/donc/ton/ta/peut/aime/\\u00eatre/envie/2/que/ont/rien/sa/ne/nous/avoir/on/ai/vie/que/tr\\u00e8s/donc/vais/\\u00eatre/dire/ne/bonne/sont/alors/qu/j/nickname/l\\u00e0/ca/va/encore/sais/tous/moi/temps/mes/apr\\u00e8s/rien/sur/plus/avoir\", \"text\": [\"pour\", \"qui\", \"\\ud83d\\ude2d\", \"vu\", \"mal\", \"y\", \"te\", \"faire\", \"qui\", \"lui\", \"fais\", \"\\u00e7a\", \"qu\", \"elle\", \"est\", \"ou\", \"toujours\", \"vrai\", \"comme\", \"fais\", \"me\", \"moi\", \"donc\", \"comment\", \"es\", \"sur\", \"faut\", \"rien\", \"comme\", \"d\", \"vous\", \"alors\", \"m\", \"\\ufe0f\", \"\\u00e0\", \"trop\", \"ma\", \"dire\", \"sur\", \"mal\", \"jamais\", \"merci\", \"s\", \"mdr\", \"lowfrequencyword\", \"bien\", \"temps\", \"voir\", \"lui\", \"y\", \"2\", \"vous\", \"ta\", \"bon\", \"on\", \"donc\", \"ton\", \"ta\", \"peut\", \"aime\", \"\\u00eatre\", \"envie\", \"2\", \"que\", \"ont\", \"rien\", \"sa\", \"ne\", \"nous\", \"avoir\", \"on\", \"ai\", \"vie\", \"que\", \"tr\\u00e8s\", \"donc\", \"vais\", \"\\u00eatre\", \"dire\", \"ne\", \"bonne\", \"sont\", \"alors\", \"qu\", \"j\", \"nickname\", \"l\\u00e0\", \"ca\", \"va\", \"encore\", \"sais\", \"tous\", \"moi\", \"temps\", \"mes\", \"apr\\u00e8s\", \"rien\", \"sur\", \"plus\", \"avoir\"], \"textfont\": {\"color\": \"#4D5663\"}, \"type\": \"scatter\", \"x\": [-1.640448808670044, -0.1631968468427658, -1.1460283994674683, -2.0154340267181396, 2.3003644943237305, -2.9083311557769775, 3.0431816577911377, 1.2552717924118042, -0.1631968468427658, 2.6470835208892822, -0.3657114803791046, 2.702965021133423, 2.7881057262420654, 1.7030456066131592, -0.7302535176277161, -0.9220932722091675, 0.15630587935447693, 0.7850295305252075, 1.318956971168518, -0.3657114803791046, 3.7141854763031006, 1.5301834344863892, -0.09745141118764877, 2.40867018699646, -1.3192429542541504, -3.452969789505005, 0.0883953794836998, 2.714653491973877, 1.318956971168518, -0.9039453268051147, -2.9895524978637695, -0.27076396346092224, 2.0648000240325928, -3.9246509075164795, -1.9444817304611206, 3.578977108001709, 4.8306756019592285, 1.3637371063232422, -3.452969789505005, 2.3003644943237305, 1.1307873725891113, -1.4804691076278687, 2.424243688583374, 0.07191363722085953, -1.0943477153778076, 3.451864719390869, 1.5106337070465088, 0.11178045719861984, 2.6470835208892822, -2.9083311557769775, -0.3065154552459717, -2.9895524978637695, 4.1439080238342285, -1.0933159589767456, -0.8133801817893982, -0.09745141118764877, -1.46844482421875, 4.1439080238342285, 0.9314788579940796, -2.937351942062378, 3.5917627811431885, 2.472149610519409, -0.3065154552459717, 1.5327788591384888, -2.140928030014038, 2.714653491973877, 4.617027759552002, 0.572102963924408, -0.48125383257865906, 0.08898882567882538, -0.8133801817893982, -2.9262490272521973, -0.3217470049858093, 1.5327788591384888, 2.1610312461853027, -0.09745141118764877, -0.3023083806037903, 3.5917627811431885, 1.3637371063232422, 0.572102963924408, 0.08437081426382065, 0.13313010334968567, -0.27076396346092224, 2.7881057262420654, 1.2902041673660278, -0.35721567273139954, 0.7089690566062927, 2.58659029006958, 0.5624024868011475, 0.22500041127204895, 0.44221487641334534, -0.9982836246490479, 1.5301834344863892, 1.5106337070465088, 1.2743301391601562, -0.20837320387363434, 2.714653491973877, -3.452969789505005, 1.3256124258041382, 0.08898882567882538], \"y\": [-2.9147844314575195, -1.1471290588378906, -1.5749452114105225, 1.0298755168914795, 0.7550630569458008, 0.7068706154823303, 0.13254089653491974, -3.601844310760498, -1.1471290588378906, 0.9378100633621216, -2.415893793106079, -0.351391077041626, 2.0637223720550537, -2.094813108444214, 0.7290058732032776, -0.9946519732475281, 0.8911224603652954, 1.1381455659866333, -1.0931464433670044, -2.415893793106079, -1.23615562915802, 1.6650965213775635, 0.3208821713924408, 0.05199858546257019, -3.050804853439331, -2.287238597869873, -0.16331903636455536, 2.800044536590576, -1.0931464433670044, -0.3801531493663788, 4.755978107452393, -0.034033048897981644, 1.0171899795532227, 1.7185941934585571, -3.0324816703796387, 0.37618488073349, -2.5057389736175537, -0.47986140847206116, -2.287238597869873, 0.7550630569458008, 1.975928544998169, 1.97226881980896, 1.8673620223999023, -0.7494403719902039, 0.26412084698677063, 1.5713645219802856, 1.3856215476989746, -1.6603846549987793, 0.9378100633621216, 0.7068706154823303, 1.0994057655334473, 4.755978107452393, -2.1196811199188232, 0.9461438059806824, -1.149133563041687, 0.3208821713924408, 0.7655275464057922, -2.1196811199188232, -1.2958571910858154, -0.31197822093963623, -2.1176533699035645, -0.9601284861564636, 1.0994057655334473, 0.3688437044620514, 3.6051275730133057, 2.800044536590576, -2.8163371086120605, -0.14784714579582214, 2.6550090312957764, -0.5794206261634827, -1.149133563041687, -0.33495303988456726, -2.5717344284057617, 0.3688437044620514, 0.9671093821525574, 0.3208821713924408, -3.851644992828369, -2.1176533699035645, -0.47986140847206116, -0.14784714579582214, -0.9121173620223999, 5.075184345245361, -0.034033048897981644, 2.0637223720550537, 1.5821901559829712, 2.0212626457214355, -0.5937263369560242, -0.47681599855422974, -3.6138243675231934, -0.017370782792568207, 0.8618233799934387, 1.9376333951950073, 1.6650965213775635, 1.3856215476989746, 3.776144504547119, -1.5130430459976196, 2.800044536590576, -2.287238597869873, 0.4908195734024048, -0.5794206261634827]}],\n",
       "                        {\"legend\": {\"bgcolor\": \"#F5F6F9\", \"font\": {\"color\": \"#4D5663\"}}, \"paper_bgcolor\": \"#F5F6F9\", \"plot_bgcolor\": \"#F5F6F9\", \"template\": {\"data\": {\"bar\": [{\"error_x\": {\"color\": \"#2a3f5f\"}, \"error_y\": {\"color\": \"#2a3f5f\"}, \"marker\": {\"line\": {\"color\": \"#E5ECF6\", \"width\": 0.5}}, \"type\": \"bar\"}], \"barpolar\": [{\"marker\": {\"line\": {\"color\": \"#E5ECF6\", \"width\": 0.5}}, \"type\": \"barpolar\"}], \"carpet\": [{\"aaxis\": {\"endlinecolor\": \"#2a3f5f\", \"gridcolor\": \"white\", \"linecolor\": \"white\", \"minorgridcolor\": \"white\", \"startlinecolor\": \"#2a3f5f\"}, \"baxis\": {\"endlinecolor\": \"#2a3f5f\", \"gridcolor\": \"white\", \"linecolor\": \"white\", \"minorgridcolor\": \"white\", \"startlinecolor\": \"#2a3f5f\"}, \"type\": \"carpet\"}], \"choropleth\": [{\"colorbar\": {\"outlinewidth\": 0, \"ticks\": \"\"}, \"type\": \"choropleth\"}], \"contour\": [{\"colorbar\": {\"outlinewidth\": 0, \"ticks\": \"\"}, \"colorscale\": [[0.0, \"#0d0887\"], [0.1111111111111111, \"#46039f\"], [0.2222222222222222, \"#7201a8\"], [0.3333333333333333, \"#9c179e\"], [0.4444444444444444, \"#bd3786\"], [0.5555555555555556, \"#d8576b\"], [0.6666666666666666, \"#ed7953\"], [0.7777777777777778, \"#fb9f3a\"], [0.8888888888888888, \"#fdca26\"], [1.0, \"#f0f921\"]], \"type\": \"contour\"}], \"contourcarpet\": [{\"colorbar\": {\"outlinewidth\": 0, \"ticks\": \"\"}, \"type\": \"contourcarpet\"}], \"heatmap\": [{\"colorbar\": {\"outlinewidth\": 0, \"ticks\": \"\"}, \"colorscale\": [[0.0, \"#0d0887\"], [0.1111111111111111, \"#46039f\"], [0.2222222222222222, \"#7201a8\"], [0.3333333333333333, \"#9c179e\"], [0.4444444444444444, \"#bd3786\"], [0.5555555555555556, \"#d8576b\"], [0.6666666666666666, \"#ed7953\"], [0.7777777777777778, \"#fb9f3a\"], [0.8888888888888888, \"#fdca26\"], [1.0, \"#f0f921\"]], \"type\": \"heatmap\"}], \"heatmapgl\": [{\"colorbar\": {\"outlinewidth\": 0, \"ticks\": \"\"}, \"colorscale\": [[0.0, \"#0d0887\"], [0.1111111111111111, \"#46039f\"], [0.2222222222222222, \"#7201a8\"], [0.3333333333333333, \"#9c179e\"], [0.4444444444444444, \"#bd3786\"], [0.5555555555555556, \"#d8576b\"], [0.6666666666666666, \"#ed7953\"], [0.7777777777777778, \"#fb9f3a\"], [0.8888888888888888, \"#fdca26\"], [1.0, \"#f0f921\"]], \"type\": \"heatmapgl\"}], \"histogram\": [{\"marker\": {\"colorbar\": {\"outlinewidth\": 0, \"ticks\": \"\"}}, \"type\": \"histogram\"}], \"histogram2d\": [{\"colorbar\": {\"outlinewidth\": 0, \"ticks\": \"\"}, \"colorscale\": [[0.0, \"#0d0887\"], [0.1111111111111111, \"#46039f\"], [0.2222222222222222, \"#7201a8\"], [0.3333333333333333, \"#9c179e\"], [0.4444444444444444, \"#bd3786\"], [0.5555555555555556, \"#d8576b\"], [0.6666666666666666, \"#ed7953\"], [0.7777777777777778, \"#fb9f3a\"], [0.8888888888888888, \"#fdca26\"], [1.0, \"#f0f921\"]], \"type\": \"histogram2d\"}], \"histogram2dcontour\": [{\"colorbar\": {\"outlinewidth\": 0, \"ticks\": \"\"}, \"colorscale\": [[0.0, \"#0d0887\"], [0.1111111111111111, \"#46039f\"], [0.2222222222222222, \"#7201a8\"], [0.3333333333333333, \"#9c179e\"], [0.4444444444444444, \"#bd3786\"], [0.5555555555555556, \"#d8576b\"], [0.6666666666666666, \"#ed7953\"], [0.7777777777777778, \"#fb9f3a\"], [0.8888888888888888, \"#fdca26\"], [1.0, \"#f0f921\"]], \"type\": \"histogram2dcontour\"}], \"mesh3d\": [{\"colorbar\": {\"outlinewidth\": 0, \"ticks\": \"\"}, \"type\": \"mesh3d\"}], \"parcoords\": [{\"line\": {\"colorbar\": {\"outlinewidth\": 0, \"ticks\": \"\"}}, \"type\": \"parcoords\"}], \"pie\": [{\"automargin\": true, \"type\": \"pie\"}], \"scatter\": [{\"marker\": {\"colorbar\": {\"outlinewidth\": 0, \"ticks\": \"\"}}, \"type\": \"scatter\"}], \"scatter3d\": [{\"line\": {\"colorbar\": {\"outlinewidth\": 0, \"ticks\": \"\"}}, \"marker\": {\"colorbar\": {\"outlinewidth\": 0, \"ticks\": \"\"}}, \"type\": \"scatter3d\"}], \"scattercarpet\": [{\"marker\": {\"colorbar\": {\"outlinewidth\": 0, \"ticks\": \"\"}}, \"type\": \"scattercarpet\"}], \"scattergeo\": [{\"marker\": {\"colorbar\": {\"outlinewidth\": 0, \"ticks\": \"\"}}, \"type\": \"scattergeo\"}], \"scattergl\": [{\"marker\": {\"colorbar\": {\"outlinewidth\": 0, \"ticks\": \"\"}}, \"type\": \"scattergl\"}], \"scattermapbox\": [{\"marker\": {\"colorbar\": {\"outlinewidth\": 0, \"ticks\": \"\"}}, \"type\": \"scattermapbox\"}], \"scatterpolar\": [{\"marker\": {\"colorbar\": {\"outlinewidth\": 0, \"ticks\": \"\"}}, \"type\": \"scatterpolar\"}], \"scatterpolargl\": [{\"marker\": {\"colorbar\": {\"outlinewidth\": 0, \"ticks\": \"\"}}, \"type\": \"scatterpolargl\"}], \"scatterternary\": [{\"marker\": {\"colorbar\": {\"outlinewidth\": 0, \"ticks\": \"\"}}, \"type\": \"scatterternary\"}], \"surface\": [{\"colorbar\": {\"outlinewidth\": 0, \"ticks\": \"\"}, \"colorscale\": [[0.0, \"#0d0887\"], [0.1111111111111111, \"#46039f\"], [0.2222222222222222, \"#7201a8\"], [0.3333333333333333, \"#9c179e\"], [0.4444444444444444, \"#bd3786\"], [0.5555555555555556, \"#d8576b\"], [0.6666666666666666, \"#ed7953\"], [0.7777777777777778, \"#fb9f3a\"], [0.8888888888888888, \"#fdca26\"], [1.0, \"#f0f921\"]], \"type\": \"surface\"}], \"table\": [{\"cells\": {\"fill\": {\"color\": \"#EBF0F8\"}, \"line\": {\"color\": \"white\"}}, \"header\": {\"fill\": {\"color\": \"#C8D4E3\"}, \"line\": {\"color\": \"white\"}}, \"type\": \"table\"}]}, \"layout\": {\"annotationdefaults\": {\"arrowcolor\": \"#2a3f5f\", \"arrowhead\": 0, \"arrowwidth\": 1}, \"coloraxis\": {\"colorbar\": {\"outlinewidth\": 0, \"ticks\": \"\"}}, \"colorscale\": {\"diverging\": [[0, \"#8e0152\"], [0.1, \"#c51b7d\"], [0.2, \"#de77ae\"], [0.3, \"#f1b6da\"], [0.4, \"#fde0ef\"], [0.5, \"#f7f7f7\"], [0.6, \"#e6f5d0\"], [0.7, \"#b8e186\"], [0.8, \"#7fbc41\"], [0.9, \"#4d9221\"], [1, \"#276419\"]], \"sequential\": [[0.0, \"#0d0887\"], [0.1111111111111111, \"#46039f\"], [0.2222222222222222, \"#7201a8\"], [0.3333333333333333, \"#9c179e\"], [0.4444444444444444, \"#bd3786\"], [0.5555555555555556, \"#d8576b\"], [0.6666666666666666, \"#ed7953\"], [0.7777777777777778, \"#fb9f3a\"], [0.8888888888888888, \"#fdca26\"], [1.0, \"#f0f921\"]], \"sequentialminus\": [[0.0, \"#0d0887\"], [0.1111111111111111, \"#46039f\"], [0.2222222222222222, \"#7201a8\"], [0.3333333333333333, \"#9c179e\"], [0.4444444444444444, \"#bd3786\"], [0.5555555555555556, \"#d8576b\"], [0.6666666666666666, \"#ed7953\"], [0.7777777777777778, \"#fb9f3a\"], [0.8888888888888888, \"#fdca26\"], [1.0, \"#f0f921\"]]}, \"colorway\": [\"#636efa\", \"#EF553B\", \"#00cc96\", \"#ab63fa\", \"#FFA15A\", \"#19d3f3\", \"#FF6692\", \"#B6E880\", \"#FF97FF\", \"#FECB52\"], \"font\": {\"color\": \"#2a3f5f\"}, \"geo\": {\"bgcolor\": \"white\", \"lakecolor\": \"white\", \"landcolor\": \"#E5ECF6\", \"showlakes\": true, \"showland\": true, \"subunitcolor\": \"white\"}, \"hoverlabel\": {\"align\": \"left\"}, \"hovermode\": \"closest\", \"mapbox\": {\"style\": \"light\"}, \"paper_bgcolor\": \"white\", \"plot_bgcolor\": \"#E5ECF6\", \"polar\": {\"angularaxis\": {\"gridcolor\": \"white\", \"linecolor\": \"white\", \"ticks\": \"\"}, \"bgcolor\": \"#E5ECF6\", \"radialaxis\": {\"gridcolor\": \"white\", \"linecolor\": \"white\", \"ticks\": \"\"}}, \"scene\": {\"xaxis\": {\"backgroundcolor\": \"#E5ECF6\", \"gridcolor\": \"white\", \"gridwidth\": 2, \"linecolor\": \"white\", \"showbackground\": true, \"ticks\": \"\", \"zerolinecolor\": \"white\"}, \"yaxis\": {\"backgroundcolor\": \"#E5ECF6\", \"gridcolor\": \"white\", \"gridwidth\": 2, \"linecolor\": \"white\", \"showbackground\": true, \"ticks\": \"\", \"zerolinecolor\": \"white\"}, \"zaxis\": {\"backgroundcolor\": \"#E5ECF6\", \"gridcolor\": \"white\", \"gridwidth\": 2, \"linecolor\": \"white\", \"showbackground\": true, \"ticks\": \"\", \"zerolinecolor\": \"white\"}}, \"shapedefaults\": {\"line\": {\"color\": \"#2a3f5f\"}}, \"ternary\": {\"aaxis\": {\"gridcolor\": \"white\", \"linecolor\": \"white\", \"ticks\": \"\"}, \"baxis\": {\"gridcolor\": \"white\", \"linecolor\": \"white\", \"ticks\": \"\"}, \"bgcolor\": \"#E5ECF6\", \"caxis\": {\"gridcolor\": \"white\", \"linecolor\": \"white\", \"ticks\": \"\"}}, \"title\": {\"x\": 0.05}, \"xaxis\": {\"automargin\": true, \"gridcolor\": \"white\", \"linecolor\": \"white\", \"ticks\": \"\", \"title\": {\"standoff\": 15}, \"zerolinecolor\": \"white\", \"zerolinewidth\": 2}, \"yaxis\": {\"automargin\": true, \"gridcolor\": \"white\", \"linecolor\": \"white\", \"ticks\": \"\", \"title\": {\"standoff\": 15}, \"zerolinecolor\": \"white\", \"zerolinewidth\": 2}}}, \"title\": {\"font\": {\"color\": \"#4D5663\"}, \"text\": \"ACP en 2 composantes\"}, \"xaxis\": {\"gridcolor\": \"#E1E5ED\", \"showgrid\": true, \"tickfont\": {\"color\": \"#4D5663\"}, \"title\": {\"font\": {\"color\": \"#4D5663\"}, \"text\": \"Axe 1\"}, \"zerolinecolor\": \"#E1E5ED\"}, \"yaxis\": {\"gridcolor\": \"#E1E5ED\", \"showgrid\": true, \"tickfont\": {\"color\": \"#4D5663\"}, \"title\": {\"font\": {\"color\": \"#4D5663\"}, \"text\": \"Axe 2\"}, \"zerolinecolor\": \"#E1E5ED\"}},\n",
       "                        {\"showLink\": true, \"linkText\": \"Export to plot.ly\", \"plotlyServerURL\": \"https://plot.ly\", \"responsive\": true}\n",
       "                    ).then(function(){\n",
       "                            \n",
       "var gd = document.getElementById('ce0f1a06-94a1-4b01-a8a4-e6b98d0ff964');\n",
       "var x = new MutationObserver(function (mutations, observer) {{\n",
       "        var display = window.getComputedStyle(gd).display;\n",
       "        if (!display || display === 'none') {{\n",
       "            console.log([gd, 'removed!']);\n",
       "            Plotly.purge(gd);\n",
       "            observer.disconnect();\n",
       "        }}\n",
       "}});\n",
       "\n",
       "// Listen for the removal of the full notebook cells\n",
       "var notebookContainer = gd.closest('#notebook-container');\n",
       "if (notebookContainer) {{\n",
       "    x.observe(notebookContainer, {childList: true});\n",
       "}}\n",
       "\n",
       "// Listen for the clearing of the current output cell\n",
       "var outputEl = gd.closest('.output');\n",
       "if (outputEl) {{\n",
       "    x.observe(outputEl, {childList: true});\n",
       "}}\n",
       "\n",
       "                        })\n",
       "                };\n",
       "                });\n",
       "            </script>\n",
       "        </div>"
      ]
     },
     "metadata": {},
     "output_type": "display_data"
    }
   ],
   "source": [
    "ACP(liste2, statique = False)"
   ]
  },
  {
   "cell_type": "markdown",
   "metadata": {},
   "source": [
    "## 4. TSNE "
   ]
  },
  {
   "cell_type": "code",
   "execution_count": 50,
   "metadata": {},
   "outputs": [],
   "source": [
    "def tsne_graph(liste, statique = True, nom_couples_explicite=True):\n",
    "    liste_triee =[]\n",
    "    for couple in liste:\n",
    "        liste_triee.append([w for w in couple if w in mot_index])\n",
    "    liste_mots = [w for couple in liste_triee for w in couple]\n",
    "    df_res = pd.DataFrame.from_dict(mot_poids).transpose()\n",
    "    df_res = df_res.loc[liste_mots]\n",
    "    df_res['label'] = 'Autre' \n",
    "\n",
    "    if nom_couples_explicite:\n",
    "        for couple in liste_triee:\n",
    "            df_res.loc[couple,'label'] = '/'.join(couple)\n",
    "    else:\n",
    "        for i in range(0, len(liste_triee)):\n",
    "            df_res.loc[liste_triee[i],'label'] = \"Couple %i\" %i  \n",
    "    features = list(range(0, len(liste)))\n",
    "    # Separating out the features\n",
    "    data_x = df_res.loc[:, features].values\n",
    "    # Separating out the target\n",
    "    data_y = df_res.loc[:,['label']].values\n",
    "\n",
    "    tsne = TSNE(n_components=2, random_state=0)\n",
    "    tsne_obj= tsne.fit_transform(data_x)\n",
    "\n",
    "    test_features = [[i+1]*len(liste_triee[i]) for i in range(0, len(liste_triee))]\n",
    "    test_features = [i for f in test_features for i in f]\n",
    "    tsne_df = pd.DataFrame({'X':tsne_obj[:,0],\n",
    "                            'Y':tsne_obj[:,1],\n",
    "                           'digit':test_features})\n",
    "    tsne_df[\"legend\"] = tsne_df[\"digit\"]\n",
    "    for i in range(0,len(tsne_df)):\n",
    "        tsne_df[\"legend\"][i]= \"Couple %i\" %tsne_df[\"digit\"][i]\n",
    "    if statique:\n",
    "        fig = plt.figure(figsize = (12,8))\n",
    "        g = sns.scatterplot(x=\"X\", y=\"Y\",\n",
    "                            hue = \"legend\",\n",
    "                            data=tsne_df);\n",
    "        handles, labels = g.get_legend_handles_labels()\n",
    "        box = g.get_position()\n",
    "        g.set_position([box.x0, box.y0, box.width * 0.85, box.height]) # resize position\n",
    "\n",
    "        # Put a legend to the right side\n",
    "        g.legend(loc='center right', bbox_to_anchor=(1.3, 0.5), ncol=1,\n",
    "                 handles=handles[1:], labels=list(dict.fromkeys(tsne_df[\"legend\"])))\n",
    "    else:\n",
    "        tsne_df[\"mot\"] = liste_mots\n",
    "        cf.go_offline()\n",
    "        cf.set_config_file(offline=False, world_readable=True)\n",
    "\n",
    "        #Travailler avec sous-table sinon trop lourd\n",
    "        subFinalDf = pd.concat([tsne_df],  axis = 0)\n",
    "\n",
    "        subFinalDf.iplot(kind='scatter',\n",
    "                      mode='markers',\n",
    "                      x='X',\n",
    "                      y='Y',\n",
    "                      categories='legend',\n",
    "                      text='mot',\n",
    "                      xTitle='Axe 1',\n",
    "                      yTitle='Axe 2',\n",
    "                      title='TSNE',\n",
    "                      filename='cufflinks/simple-scatter')"
   ]
  },
  {
   "cell_type": "code",
   "execution_count": 51,
   "metadata": {},
   "outputs": [
    {
     "data": {
      "image/png": "[encoded data removed]",
      "text/plain": [
       "<Figure size 864x576 with 1 Axes>"
      ]
     },
     "metadata": {
      "needs_background": "light"
     },
     "output_type": "display_data"
    }
   ],
   "source": [
    "tsne_graph(liste1, statique = True,\n",
    "           nom_couples_explicite = True) #Paramètre ne marche pas : a debuger ?"
   ]
  },
  {
   "cell_type": "code",
   "execution_count": 52,
   "metadata": {},
   "outputs": [
    {
     "data": {
      "text/html": [
       "        <script type=\"text/javascript\">\n",
       "        window.PlotlyConfig = {MathJaxConfig: 'local'};\n",
       "        if (window.MathJax) {MathJax.Hub.Config({SVG: {font: \"STIX-Web\"}});}\n",
       "        if (typeof require !== 'undefined') {\n",
       "        require.undef(\"plotly\");\n",
       "        requirejs.config({\n",
       "            paths: {\n",
       "                'plotly': ['https://cdn.plot.ly/plotly-latest.min']\n",
       "            }\n",
       "        });\n",
       "        require(['plotly'], function(Plotly) {\n",
       "            window._Plotly = Plotly;\n",
       "        });\n",
       "        }\n",
       "        </script>\n",
       "        "
      ]
     },
     "metadata": {},
     "output_type": "display_data"
    },
    {
     "name": "stderr",
     "output_type": "stream",
     "text": [
      "C:\\Users\\Kim Antunez\\Anaconda3\\lib\\site-packages\\cufflinks\\plotlytools.py:808: FutureWarning:\n",
      "\n",
      "The pandas.np module is deprecated and will be removed from pandas in a future version. Import numpy directly instead\n",
      "\n",
      "C:\\Users\\Kim Antunez\\Anaconda3\\lib\\site-packages\\cufflinks\\plotlytools.py:811: FutureWarning:\n",
      "\n",
      "The pandas.np module is deprecated and will be removed from pandas in a future version. Import numpy directly instead\n",
      "\n"
     ]
    },
    {
     "data": {
      "application/vnd.plotly.v1+json": {
       "config": {
        "linkText": "Export to plot.ly",
        "plotlyServerURL": "https://plot.ly",
        "showLink": true
       },
       "data": [
        {
         "marker": {
          "color": "rgba(255, 153, 51, 1.0)",
          "line": {
           "width": 1.3
          },
          "opacity": 0.8,
          "size": 12,
          "symbol": "circle"
         },
         "mode": "markers",
         "name": "Couple 1",
         "text": [
          "poli",
          "bonjour",
          "salut"
         ],
         "textfont": {
          "color": "#4D5663"
         },
         "type": "scatter",
         "x": [
          -25.73841667175293,
          51.309226989746094,
          -61.31332015991211
         ],
         "y": [
          46.80876922607422,
          -71.52137756347656,
          -16.98710060119629
         ]
        },
        {
         "marker": {
          "color": "rgba(55, 128, 191, 1.0)",
          "line": {
           "width": 1.3
          },
          "opacity": 0.8,
          "size": 12,
          "symbol": "circle"
         },
         "mode": "markers",
         "name": "Couple 2",
         "text": [
          "canapé",
          "fauteuil",
          "table",
          "chaise"
         ],
         "textfont": {
          "color": "#4D5663"
         },
         "type": "scatter",
         "x": [
          -25.855955123901367,
          6.917212963104248,
          42.07236862182617,
          24.89422607421875
         ],
         "y": [
          22.108339309692383,
          -22.999921798706055,
          4.813665866851807,
          -10.010298728942871
         ]
        },
        {
         "marker": {
          "color": "rgba(50, 171, 96, 1.0)",
          "line": {
           "width": 1.3
          },
          "opacity": 0.8,
          "size": 12,
          "symbol": "circle"
         },
         "mode": "markers",
         "name": "Couple 3",
         "text": [
          "téléphone",
          "portable",
          "numéro",
          "appel"
         ],
         "textfont": {
          "color": "#4D5663"
         },
         "type": "scatter",
         "x": [
          48.00292205810547,
          31.235727310180664,
          69.72537231445312,
          -35.248268127441406
         ],
         "y": [
          -19.940887451171875,
          50.17880630493164,
          -4.04786491394043,
          -14.924962043762207
         ]
        },
        {
         "marker": {
          "color": "rgba(128, 0, 128, 1.0)",
          "line": {
           "width": 1.3
          },
          "opacity": 0.8,
          "size": 12,
          "symbol": "circle"
         },
         "mode": "markers",
         "name": "Couple 4",
         "text": [
          "voiture",
          "camion",
          "vélo",
          "train"
         ],
         "textfont": {
          "color": "#4D5663"
         },
         "type": "scatter",
         "x": [
          63.50063705444336,
          -19.39548110961914,
          -4.343653678894043,
          -32.1956672668457
         ],
         "y": [
          24.234527587890625,
          2.764429807662964,
          -42.570430755615234,
          -69.16825103759766
         ]
        },
        {
         "marker": {
          "color": "rgba(219, 64, 82, 1.0)",
          "line": {
           "width": 1.3
          },
          "opacity": 0.8,
          "size": 12,
          "symbol": "circle"
         },
         "mode": "markers",
         "name": "Couple 5",
         "text": [
          "beau",
          "mignon",
          "bg",
          "mannequin"
         ],
         "textfont": {
          "color": "#4D5663"
         },
         "type": "scatter",
         "x": [
          9.831209182739258,
          -19.002334594726562,
          2.5894529819488525,
          -3.5085222721099854
         ],
         "y": [
          84.72417449951172,
          76.51567077636719,
          54.80997085571289,
          16.415990829467773
         ]
        },
        {
         "marker": {
          "color": "rgba(0, 128, 128, 1.0)",
          "line": {
           "width": 1.3
          },
          "opacity": 0.8,
          "size": 12,
          "symbol": "circle"
         },
         "mode": "markers",
         "name": "Couple 6",
         "text": [
          "docteur",
          "médecin",
          "santé",
          "bobo"
         ],
         "textfont": {
          "color": "#4D5663"
         },
         "type": "scatter",
         "x": [
          -8.040916442871094,
          13.542845726013184,
          36.178794860839844,
          -12.564122200012207
         ],
         "y": [
          35.54375076293945,
          31.763097763061523,
          26.797822952270508,
          -16.024234771728516
         ]
        },
        {
         "marker": {
          "color": "rgba(255, 255, 51, 1.0)",
          "line": {
           "width": 1.3
          },
          "opacity": 0.8,
          "size": 12,
          "symbol": "circle"
         },
         "mode": "markers",
         "name": "Couple 7",
         "text": [
          "belle",
          "jolie",
          "mignonne"
         ],
         "textfont": {
          "color": "#4D5663"
         },
         "type": "scatter",
         "x": [
          -76.58872985839844,
          27.195907592773438,
          -45.01356506347656
         ],
         "y": [
          52.38677215576172,
          -34.789031982421875,
          61.971866607666016
         ]
        },
        {
         "marker": {
          "color": "rgba(128, 128, 0, 1.0)",
          "line": {
           "width": 1.3
          },
          "opacity": 0.8,
          "size": 12,
          "symbol": "circle"
         },
         "mode": "markers",
         "name": "Couple 8",
         "text": [
          "père",
          "papa",
          "daron"
         ],
         "textfont": {
          "color": "#4D5663"
         },
         "type": "scatter",
         "x": [
          67.35099029541016,
          -23.599647521972656,
          -66.70567321777344
         ],
         "y": [
          -36.48603439331055,
          -34.49253845214844,
          9.520241737365723
         ]
        },
        {
         "marker": {
          "color": "rgba(251, 128, 114, 1.0)",
          "line": {
           "width": 1.3
          },
          "opacity": 0.8,
          "size": 12,
          "symbol": "circle"
         },
         "mode": "markers",
         "name": "Couple 9",
         "text": [
          "mère",
          "maman",
          "daronne"
         ],
         "textfont": {
          "color": "#4D5663"
         },
         "type": "scatter",
         "x": [
          8.912396430969238,
          16.3123779296875,
          -48.21682357788086
         ],
         "y": [
          -88.0187759399414,
          -55.59459686279297,
          29.405006408691406
         ]
        },
        {
         "marker": {
          "color": "rgba(128, 177, 211, 1.0)",
          "line": {
           "width": 1.3
          },
          "opacity": 0.8,
          "size": 12,
          "symbol": "circle"
         },
         "mode": "markers",
         "name": "Couple 10",
         "text": [
          "ol",
          "psg",
          "foot",
          "stade"
         ],
         "textfont": {
          "color": "#4D5663"
         },
         "type": "scatter",
         "x": [
          2.8334100246429443,
          -46.548614501953125,
          18.77179527282715,
          -41.9487190246582
         ],
         "y": [
          -2.1766555309295654,
          -38.38634490966797,
          11.355420112609863,
          5.553215980529785
         ]
        }
       ],
       "layout": {
        "legend": {
         "bgcolor": "#F5F6F9",
         "font": {
          "color": "#4D5663"
         }
        },
        "paper_bgcolor": "#F5F6F9",
        "plot_bgcolor": "#F5F6F9",
        "template": {
         "data": {
          "bar": [
           {
            "error_x": {
             "color": "#2a3f5f"
            },
            "error_y": {
             "color": "#2a3f5f"
            },
            "marker": {
             "line": {
              "color": "#E5ECF6",
              "width": 0.5
             }
            },
            "type": "bar"
           }
          ],
          "barpolar": [
           {
            "marker": {
             "line": {
              "color": "#E5ECF6",
              "width": 0.5
             }
            },
            "type": "barpolar"
           }
          ],
          "carpet": [
           {
            "aaxis": {
             "endlinecolor": "#2a3f5f",
             "gridcolor": "white",
             "linecolor": "white",
             "minorgridcolor": "white",
             "startlinecolor": "#2a3f5f"
            },
            "baxis": {
             "endlinecolor": "#2a3f5f",
             "gridcolor": "white",
             "linecolor": "white",
             "minorgridcolor": "white",
             "startlinecolor": "#2a3f5f"
            },
            "type": "carpet"
           }
          ],
          "choropleth": [
           {
            "colorbar": {
             "outlinewidth": 0,
             "ticks": ""
            },
            "type": "choropleth"
           }
          ],
          "contour": [
           {
            "colorbar": {
             "outlinewidth": 0,
             "ticks": ""
            },
            "colorscale": [
             [
              0,
              "#0d0887"
             ],
             [
              0.1111111111111111,
              "#46039f"
             ],
             [
              0.2222222222222222,
              "#7201a8"
             ],
             [
              0.3333333333333333,
              "#9c179e"
             ],
             [
              0.4444444444444444,
              "#bd3786"
             ],
             [
              0.5555555555555556,
              "#d8576b"
             ],
             [
              0.6666666666666666,
              "#ed7953"
             ],
             [
              0.7777777777777778,
              "#fb9f3a"
             ],
             [
              0.8888888888888888,
              "#fdca26"
             ],
             [
              1,
              "#f0f921"
             ]
            ],
            "type": "contour"
           }
          ],
          "contourcarpet": [
           {
            "colorbar": {
             "outlinewidth": 0,
             "ticks": ""
            },
            "type": "contourcarpet"
           }
          ],
          "heatmap": [
           {
            "colorbar": {
             "outlinewidth": 0,
             "ticks": ""
            },
            "colorscale": [
             [
              0,
              "#0d0887"
             ],
             [
              0.1111111111111111,
              "#46039f"
             ],
             [
              0.2222222222222222,
              "#7201a8"
             ],
             [
              0.3333333333333333,
              "#9c179e"
             ],
             [
              0.4444444444444444,
              "#bd3786"
             ],
             [
              0.5555555555555556,
              "#d8576b"
             ],
             [
              0.6666666666666666,
              "#ed7953"
             ],
             [
              0.7777777777777778,
              "#fb9f3a"
             ],
             [
              0.8888888888888888,
              "#fdca26"
             ],
             [
              1,
              "#f0f921"
             ]
            ],
            "type": "heatmap"
           }
          ],
          "heatmapgl": [
           {
            "colorbar": {
             "outlinewidth": 0,
             "ticks": ""
            },
            "colorscale": [
             [
              0,
              "#0d0887"
             ],
             [
              0.1111111111111111,
              "#46039f"
             ],
             [
              0.2222222222222222,
              "#7201a8"
             ],
             [
              0.3333333333333333,
              "#9c179e"
             ],
             [
              0.4444444444444444,
              "#bd3786"
             ],
             [
              0.5555555555555556,
              "#d8576b"
             ],
             [
              0.6666666666666666,
              "#ed7953"
             ],
             [
              0.7777777777777778,
              "#fb9f3a"
             ],
             [
              0.8888888888888888,
              "#fdca26"
             ],
             [
              1,
              "#f0f921"
             ]
            ],
            "type": "heatmapgl"
           }
          ],
          "histogram": [
           {
            "marker": {
             "colorbar": {
              "outlinewidth": 0,
              "ticks": ""
             }
            },
            "type": "histogram"
           }
          ],
          "histogram2d": [
           {
            "colorbar": {
             "outlinewidth": 0,
             "ticks": ""
            },
            "colorscale": [
             [
              0,
              "#0d0887"
             ],
             [
              0.1111111111111111,
              "#46039f"
             ],
             [
              0.2222222222222222,
              "#7201a8"
             ],
             [
              0.3333333333333333,
              "#9c179e"
             ],
             [
              0.4444444444444444,
              "#bd3786"
             ],
             [
              0.5555555555555556,
              "#d8576b"
             ],
             [
              0.6666666666666666,
              "#ed7953"
             ],
             [
              0.7777777777777778,
              "#fb9f3a"
             ],
             [
              0.8888888888888888,
              "#fdca26"
             ],
             [
              1,
              "#f0f921"
             ]
            ],
            "type": "histogram2d"
           }
          ],
          "histogram2dcontour": [
           {
            "colorbar": {
             "outlinewidth": 0,
             "ticks": ""
            },
            "colorscale": [
             [
              0,
              "#0d0887"
             ],
             [
              0.1111111111111111,
              "#46039f"
             ],
             [
              0.2222222222222222,
              "#7201a8"
             ],
             [
              0.3333333333333333,
              "#9c179e"
             ],
             [
              0.4444444444444444,
              "#bd3786"
             ],
             [
              0.5555555555555556,
              "#d8576b"
             ],
             [
              0.6666666666666666,
              "#ed7953"
             ],
             [
              0.7777777777777778,
              "#fb9f3a"
             ],
             [
              0.8888888888888888,
              "#fdca26"
             ],
             [
              1,
              "#f0f921"
             ]
            ],
            "type": "histogram2dcontour"
           }
          ],
          "mesh3d": [
           {
            "colorbar": {
             "outlinewidth": 0,
             "ticks": ""
            },
            "type": "mesh3d"
           }
          ],
          "parcoords": [
           {
            "line": {
             "colorbar": {
              "outlinewidth": 0,
              "ticks": ""
             }
            },
            "type": "parcoords"
           }
          ],
          "pie": [
           {
            "automargin": true,
            "type": "pie"
           }
          ],
          "scatter": [
           {
            "marker": {
             "colorbar": {
              "outlinewidth": 0,
              "ticks": ""
             }
            },
            "type": "scatter"
           }
          ],
          "scatter3d": [
           {
            "line": {
             "colorbar": {
              "outlinewidth": 0,
              "ticks": ""
             }
            },
            "marker": {
             "colorbar": {
              "outlinewidth": 0,
              "ticks": ""
             }
            },
            "type": "scatter3d"
           }
          ],
          "scattercarpet": [
           {
            "marker": {
             "colorbar": {
              "outlinewidth": 0,
              "ticks": ""
             }
            },
            "type": "scattercarpet"
           }
          ],
          "scattergeo": [
           {
            "marker": {
             "colorbar": {
              "outlinewidth": 0,
              "ticks": ""
             }
            },
            "type": "scattergeo"
           }
          ],
          "scattergl": [
           {
            "marker": {
             "colorbar": {
              "outlinewidth": 0,
              "ticks": ""
             }
            },
            "type": "scattergl"
           }
          ],
          "scattermapbox": [
           {
            "marker": {
             "colorbar": {
              "outlinewidth": 0,
              "ticks": ""
             }
            },
            "type": "scattermapbox"
           }
          ],
          "scatterpolar": [
           {
            "marker": {
             "colorbar": {
              "outlinewidth": 0,
              "ticks": ""
             }
            },
            "type": "scatterpolar"
           }
          ],
          "scatterpolargl": [
           {
            "marker": {
             "colorbar": {
              "outlinewidth": 0,
              "ticks": ""
             }
            },
            "type": "scatterpolargl"
           }
          ],
          "scatterternary": [
           {
            "marker": {
             "colorbar": {
              "outlinewidth": 0,
              "ticks": ""
             }
            },
            "type": "scatterternary"
           }
          ],
          "surface": [
           {
            "colorbar": {
             "outlinewidth": 0,
             "ticks": ""
            },
            "colorscale": [
             [
              0,
              "#0d0887"
             ],
             [
              0.1111111111111111,
              "#46039f"
             ],
             [
              0.2222222222222222,
              "#7201a8"
             ],
             [
              0.3333333333333333,
              "#9c179e"
             ],
             [
              0.4444444444444444,
              "#bd3786"
             ],
             [
              0.5555555555555556,
              "#d8576b"
             ],
             [
              0.6666666666666666,
              "#ed7953"
             ],
             [
              0.7777777777777778,
              "#fb9f3a"
             ],
             [
              0.8888888888888888,
              "#fdca26"
             ],
             [
              1,
              "#f0f921"
             ]
            ],
            "type": "surface"
           }
          ],
          "table": [
           {
            "cells": {
             "fill": {
              "color": "#EBF0F8"
             },
             "line": {
              "color": "white"
             }
            },
            "header": {
             "fill": {
              "color": "#C8D4E3"
             },
             "line": {
              "color": "white"
             }
            },
            "type": "table"
           }
          ]
         },
         "layout": {
          "annotationdefaults": {
           "arrowcolor": "#2a3f5f",
           "arrowhead": 0,
           "arrowwidth": 1
          },
          "coloraxis": {
           "colorbar": {
            "outlinewidth": 0,
            "ticks": ""
           }
          },
          "colorscale": {
           "diverging": [
            [
             0,
             "#8e0152"
            ],
            [
             0.1,
             "#c51b7d"
            ],
            [
             0.2,
             "#de77ae"
            ],
            [
             0.3,
             "#f1b6da"
            ],
            [
             0.4,
             "#fde0ef"
            ],
            [
             0.5,
             "#f7f7f7"
            ],
            [
             0.6,
             "#e6f5d0"
            ],
            [
             0.7,
             "#b8e186"
            ],
            [
             0.8,
             "#7fbc41"
            ],
            [
             0.9,
             "#4d9221"
            ],
            [
             1,
             "#276419"
            ]
           ],
           "sequential": [
            [
             0,
             "#0d0887"
            ],
            [
             0.1111111111111111,
             "#46039f"
            ],
            [
             0.2222222222222222,
             "#7201a8"
            ],
            [
             0.3333333333333333,
             "#9c179e"
            ],
            [
             0.4444444444444444,
             "#bd3786"
            ],
            [
             0.5555555555555556,
             "#d8576b"
            ],
            [
             0.6666666666666666,
             "#ed7953"
            ],
            [
             0.7777777777777778,
             "#fb9f3a"
            ],
            [
             0.8888888888888888,
             "#fdca26"
            ],
            [
             1,
             "#f0f921"
            ]
           ],
           "sequentialminus": [
            [
             0,
             "#0d0887"
            ],
            [
             0.1111111111111111,
             "#46039f"
            ],
            [
             0.2222222222222222,
             "#7201a8"
            ],
            [
             0.3333333333333333,
             "#9c179e"
            ],
            [
             0.4444444444444444,
             "#bd3786"
            ],
            [
             0.5555555555555556,
             "#d8576b"
            ],
            [
             0.6666666666666666,
             "#ed7953"
            ],
            [
             0.7777777777777778,
             "#fb9f3a"
            ],
            [
             0.8888888888888888,
             "#fdca26"
            ],
            [
             1,
             "#f0f921"
            ]
           ]
          },
          "colorway": [
           "#636efa",
           "#EF553B",
           "#00cc96",
           "#ab63fa",
           "#FFA15A",
           "#19d3f3",
           "#FF6692",
           "#B6E880",
           "#FF97FF",
           "#FECB52"
          ],
          "font": {
           "color": "#2a3f5f"
          },
          "geo": {
           "bgcolor": "white",
           "lakecolor": "white",
           "landcolor": "#E5ECF6",
           "showlakes": true,
           "showland": true,
           "subunitcolor": "white"
          },
          "hoverlabel": {
           "align": "left"
          },
          "hovermode": "closest",
          "mapbox": {
           "style": "light"
          },
          "paper_bgcolor": "white",
          "plot_bgcolor": "#E5ECF6",
          "polar": {
           "angularaxis": {
            "gridcolor": "white",
            "linecolor": "white",
            "ticks": ""
           },
           "bgcolor": "#E5ECF6",
           "radialaxis": {
            "gridcolor": "white",
            "linecolor": "white",
            "ticks": ""
           }
          },
          "scene": {
           "xaxis": {
            "backgroundcolor": "#E5ECF6",
            "gridcolor": "white",
            "gridwidth": 2,
            "linecolor": "white",
            "showbackground": true,
            "ticks": "",
            "zerolinecolor": "white"
           },
           "yaxis": {
            "backgroundcolor": "#E5ECF6",
            "gridcolor": "white",
            "gridwidth": 2,
            "linecolor": "white",
            "showbackground": true,
            "ticks": "",
            "zerolinecolor": "white"
           },
           "zaxis": {
            "backgroundcolor": "#E5ECF6",
            "gridcolor": "white",
            "gridwidth": 2,
            "linecolor": "white",
            "showbackground": true,
            "ticks": "",
            "zerolinecolor": "white"
           }
          },
          "shapedefaults": {
           "line": {
            "color": "#2a3f5f"
           }
          },
          "ternary": {
           "aaxis": {
            "gridcolor": "white",
            "linecolor": "white",
            "ticks": ""
           },
           "baxis": {
            "gridcolor": "white",
            "linecolor": "white",
            "ticks": ""
           },
           "bgcolor": "#E5ECF6",
           "caxis": {
            "gridcolor": "white",
            "linecolor": "white",
            "ticks": ""
           }
          },
          "title": {
           "x": 0.05
          },
          "xaxis": {
           "automargin": true,
           "gridcolor": "white",
           "linecolor": "white",
           "ticks": "",
           "title": {
            "standoff": 15
           },
           "zerolinecolor": "white",
           "zerolinewidth": 2
          },
          "yaxis": {
           "automargin": true,
           "gridcolor": "white",
           "linecolor": "white",
           "ticks": "",
           "title": {
            "standoff": 15
           },
           "zerolinecolor": "white",
           "zerolinewidth": 2
          }
         }
        },
        "title": {
         "font": {
          "color": "#4D5663"
         },
         "text": "TSNE"
        },
        "xaxis": {
         "gridcolor": "#E1E5ED",
         "showgrid": true,
         "tickfont": {
          "color": "#4D5663"
         },
         "title": {
          "font": {
           "color": "#4D5663"
          },
          "text": "Axe 1"
         },
         "zerolinecolor": "#E1E5ED"
        },
        "yaxis": {
         "gridcolor": "#E1E5ED",
         "showgrid": true,
         "tickfont": {
          "color": "#4D5663"
         },
         "title": {
          "font": {
           "color": "#4D5663"
          },
          "text": "Axe 2"
         },
         "zerolinecolor": "#E1E5ED"
        }
       }
      },
      "text/html": [
       "<div>\n",
       "        \n",
       "        \n",
       "            <div id=\"c6cd66c6-8888-43f6-a183-9cf84d4b2725\" class=\"plotly-graph-div\" style=\"height:525px; width:100%;\"></div>\n",
       "            <script type=\"text/javascript\">\n",
       "                require([\"plotly\"], function(Plotly) {\n",
       "                    window.PLOTLYENV=window.PLOTLYENV || {};\n",
       "                    window.PLOTLYENV.BASE_URL='https://plot.ly';\n",
       "                    \n",
       "                if (document.getElementById(\"c6cd66c6-8888-43f6-a183-9cf84d4b2725\")) {\n",
       "                    Plotly.newPlot(\n",
       "                        'c6cd66c6-8888-43f6-a183-9cf84d4b2725',\n",
       "                        [{\"marker\": {\"color\": \"rgba(255, 153, 51, 1.0)\", \"line\": {\"width\": 1.3}, \"opacity\": 0.8, \"size\": 12, \"symbol\": \"circle\"}, \"mode\": \"markers\", \"name\": \"Couple 1\", \"text\": [\"poli\", \"bonjour\", \"salut\"], \"textfont\": {\"color\": \"#4D5663\"}, \"type\": \"scatter\", \"x\": [-25.73841667175293, 51.309226989746094, -61.31332015991211], \"y\": [46.80876922607422, -71.52137756347656, -16.98710060119629]}, {\"marker\": {\"color\": \"rgba(55, 128, 191, 1.0)\", \"line\": {\"width\": 1.3}, \"opacity\": 0.8, \"size\": 12, \"symbol\": \"circle\"}, \"mode\": \"markers\", \"name\": \"Couple 2\", \"text\": [\"canap\\u00e9\", \"fauteuil\", \"table\", \"chaise\"], \"textfont\": {\"color\": \"#4D5663\"}, \"type\": \"scatter\", \"x\": [-25.855955123901367, 6.917212963104248, 42.07236862182617, 24.89422607421875], \"y\": [22.108339309692383, -22.999921798706055, 4.813665866851807, -10.010298728942871]}, {\"marker\": {\"color\": \"rgba(50, 171, 96, 1.0)\", \"line\": {\"width\": 1.3}, \"opacity\": 0.8, \"size\": 12, \"symbol\": \"circle\"}, \"mode\": \"markers\", \"name\": \"Couple 3\", \"text\": [\"t\\u00e9l\\u00e9phone\", \"portable\", \"num\\u00e9ro\", \"appel\"], \"textfont\": {\"color\": \"#4D5663\"}, \"type\": \"scatter\", \"x\": [48.00292205810547, 31.235727310180664, 69.72537231445312, -35.248268127441406], \"y\": [-19.940887451171875, 50.17880630493164, -4.04786491394043, -14.924962043762207]}, {\"marker\": {\"color\": \"rgba(128, 0, 128, 1.0)\", \"line\": {\"width\": 1.3}, \"opacity\": 0.8, \"size\": 12, \"symbol\": \"circle\"}, \"mode\": \"markers\", \"name\": \"Couple 4\", \"text\": [\"voiture\", \"camion\", \"v\\u00e9lo\", \"train\"], \"textfont\": {\"color\": \"#4D5663\"}, \"type\": \"scatter\", \"x\": [63.50063705444336, -19.39548110961914, -4.343653678894043, -32.1956672668457], \"y\": [24.234527587890625, 2.764429807662964, -42.570430755615234, -69.16825103759766]}, {\"marker\": {\"color\": \"rgba(219, 64, 82, 1.0)\", \"line\": {\"width\": 1.3}, \"opacity\": 0.8, \"size\": 12, \"symbol\": \"circle\"}, \"mode\": \"markers\", \"name\": \"Couple 5\", \"text\": [\"beau\", \"mignon\", \"bg\", \"mannequin\"], \"textfont\": {\"color\": \"#4D5663\"}, \"type\": \"scatter\", \"x\": [9.831209182739258, -19.002334594726562, 2.5894529819488525, -3.5085222721099854], \"y\": [84.72417449951172, 76.51567077636719, 54.80997085571289, 16.415990829467773]}, {\"marker\": {\"color\": \"rgba(0, 128, 128, 1.0)\", \"line\": {\"width\": 1.3}, \"opacity\": 0.8, \"size\": 12, \"symbol\": \"circle\"}, \"mode\": \"markers\", \"name\": \"Couple 6\", \"text\": [\"docteur\", \"m\\u00e9decin\", \"sant\\u00e9\", \"bobo\"], \"textfont\": {\"color\": \"#4D5663\"}, \"type\": \"scatter\", \"x\": [-8.040916442871094, 13.542845726013184, 36.178794860839844, -12.564122200012207], \"y\": [35.54375076293945, 31.763097763061523, 26.797822952270508, -16.024234771728516]}, {\"marker\": {\"color\": \"rgba(255, 255, 51, 1.0)\", \"line\": {\"width\": 1.3}, \"opacity\": 0.8, \"size\": 12, \"symbol\": \"circle\"}, \"mode\": \"markers\", \"name\": \"Couple 7\", \"text\": [\"belle\", \"jolie\", \"mignonne\"], \"textfont\": {\"color\": \"#4D5663\"}, \"type\": \"scatter\", \"x\": [-76.58872985839844, 27.195907592773438, -45.01356506347656], \"y\": [52.38677215576172, -34.789031982421875, 61.971866607666016]}, {\"marker\": {\"color\": \"rgba(128, 128, 0, 1.0)\", \"line\": {\"width\": 1.3}, \"opacity\": 0.8, \"size\": 12, \"symbol\": \"circle\"}, \"mode\": \"markers\", \"name\": \"Couple 8\", \"text\": [\"p\\u00e8re\", \"papa\", \"daron\"], \"textfont\": {\"color\": \"#4D5663\"}, \"type\": \"scatter\", \"x\": [67.35099029541016, -23.599647521972656, -66.70567321777344], \"y\": [-36.48603439331055, -34.49253845214844, 9.520241737365723]}, {\"marker\": {\"color\": \"rgba(251, 128, 114, 1.0)\", \"line\": {\"width\": 1.3}, \"opacity\": 0.8, \"size\": 12, \"symbol\": \"circle\"}, \"mode\": \"markers\", \"name\": \"Couple 9\", \"text\": [\"m\\u00e8re\", \"maman\", \"daronne\"], \"textfont\": {\"color\": \"#4D5663\"}, \"type\": \"scatter\", \"x\": [8.912396430969238, 16.3123779296875, -48.21682357788086], \"y\": [-88.0187759399414, -55.59459686279297, 29.405006408691406]}, {\"marker\": {\"color\": \"rgba(128, 177, 211, 1.0)\", \"line\": {\"width\": 1.3}, \"opacity\": 0.8, \"size\": 12, \"symbol\": \"circle\"}, \"mode\": \"markers\", \"name\": \"Couple 10\", \"text\": [\"ol\", \"psg\", \"foot\", \"stade\"], \"textfont\": {\"color\": \"#4D5663\"}, \"type\": \"scatter\", \"x\": [2.8334100246429443, -46.548614501953125, 18.77179527282715, -41.9487190246582], \"y\": [-2.1766555309295654, -38.38634490966797, 11.355420112609863, 5.553215980529785]}],\n",
       "                        {\"legend\": {\"bgcolor\": \"#F5F6F9\", \"font\": {\"color\": \"#4D5663\"}}, \"paper_bgcolor\": \"#F5F6F9\", \"plot_bgcolor\": \"#F5F6F9\", \"template\": {\"data\": {\"bar\": [{\"error_x\": {\"color\": \"#2a3f5f\"}, \"error_y\": {\"color\": \"#2a3f5f\"}, \"marker\": {\"line\": {\"color\": \"#E5ECF6\", \"width\": 0.5}}, \"type\": \"bar\"}], \"barpolar\": [{\"marker\": {\"line\": {\"color\": \"#E5ECF6\", \"width\": 0.5}}, \"type\": \"barpolar\"}], \"carpet\": [{\"aaxis\": {\"endlinecolor\": \"#2a3f5f\", \"gridcolor\": \"white\", \"linecolor\": \"white\", \"minorgridcolor\": \"white\", \"startlinecolor\": \"#2a3f5f\"}, \"baxis\": {\"endlinecolor\": \"#2a3f5f\", \"gridcolor\": \"white\", \"linecolor\": \"white\", \"minorgridcolor\": \"white\", \"startlinecolor\": \"#2a3f5f\"}, \"type\": \"carpet\"}], \"choropleth\": [{\"colorbar\": {\"outlinewidth\": 0, \"ticks\": \"\"}, \"type\": \"choropleth\"}], \"contour\": [{\"colorbar\": {\"outlinewidth\": 0, \"ticks\": \"\"}, \"colorscale\": [[0.0, \"#0d0887\"], [0.1111111111111111, \"#46039f\"], [0.2222222222222222, \"#7201a8\"], [0.3333333333333333, \"#9c179e\"], [0.4444444444444444, \"#bd3786\"], [0.5555555555555556, \"#d8576b\"], [0.6666666666666666, \"#ed7953\"], [0.7777777777777778, \"#fb9f3a\"], [0.8888888888888888, \"#fdca26\"], [1.0, \"#f0f921\"]], \"type\": \"contour\"}], \"contourcarpet\": [{\"colorbar\": {\"outlinewidth\": 0, \"ticks\": \"\"}, \"type\": \"contourcarpet\"}], \"heatmap\": [{\"colorbar\": {\"outlinewidth\": 0, \"ticks\": \"\"}, \"colorscale\": [[0.0, \"#0d0887\"], [0.1111111111111111, \"#46039f\"], [0.2222222222222222, \"#7201a8\"], [0.3333333333333333, \"#9c179e\"], [0.4444444444444444, \"#bd3786\"], [0.5555555555555556, \"#d8576b\"], [0.6666666666666666, \"#ed7953\"], [0.7777777777777778, \"#fb9f3a\"], [0.8888888888888888, \"#fdca26\"], [1.0, \"#f0f921\"]], \"type\": \"heatmap\"}], \"heatmapgl\": [{\"colorbar\": {\"outlinewidth\": 0, \"ticks\": \"\"}, \"colorscale\": [[0.0, \"#0d0887\"], [0.1111111111111111, \"#46039f\"], [0.2222222222222222, \"#7201a8\"], [0.3333333333333333, \"#9c179e\"], [0.4444444444444444, \"#bd3786\"], [0.5555555555555556, \"#d8576b\"], [0.6666666666666666, \"#ed7953\"], [0.7777777777777778, \"#fb9f3a\"], [0.8888888888888888, \"#fdca26\"], [1.0, \"#f0f921\"]], \"type\": \"heatmapgl\"}], \"histogram\": [{\"marker\": {\"colorbar\": {\"outlinewidth\": 0, \"ticks\": \"\"}}, \"type\": \"histogram\"}], \"histogram2d\": [{\"colorbar\": {\"outlinewidth\": 0, \"ticks\": \"\"}, \"colorscale\": [[0.0, \"#0d0887\"], [0.1111111111111111, \"#46039f\"], [0.2222222222222222, \"#7201a8\"], [0.3333333333333333, \"#9c179e\"], [0.4444444444444444, \"#bd3786\"], [0.5555555555555556, \"#d8576b\"], [0.6666666666666666, \"#ed7953\"], [0.7777777777777778, \"#fb9f3a\"], [0.8888888888888888, \"#fdca26\"], [1.0, \"#f0f921\"]], \"type\": \"histogram2d\"}], \"histogram2dcontour\": [{\"colorbar\": {\"outlinewidth\": 0, \"ticks\": \"\"}, \"colorscale\": [[0.0, \"#0d0887\"], [0.1111111111111111, \"#46039f\"], [0.2222222222222222, \"#7201a8\"], [0.3333333333333333, \"#9c179e\"], [0.4444444444444444, \"#bd3786\"], [0.5555555555555556, \"#d8576b\"], [0.6666666666666666, \"#ed7953\"], [0.7777777777777778, \"#fb9f3a\"], [0.8888888888888888, \"#fdca26\"], [1.0, \"#f0f921\"]], \"type\": \"histogram2dcontour\"}], \"mesh3d\": [{\"colorbar\": {\"outlinewidth\": 0, \"ticks\": \"\"}, \"type\": \"mesh3d\"}], \"parcoords\": [{\"line\": {\"colorbar\": {\"outlinewidth\": 0, \"ticks\": \"\"}}, \"type\": \"parcoords\"}], \"pie\": [{\"automargin\": true, \"type\": \"pie\"}], \"scatter\": [{\"marker\": {\"colorbar\": {\"outlinewidth\": 0, \"ticks\": \"\"}}, \"type\": \"scatter\"}], \"scatter3d\": [{\"line\": {\"colorbar\": {\"outlinewidth\": 0, \"ticks\": \"\"}}, \"marker\": {\"colorbar\": {\"outlinewidth\": 0, \"ticks\": \"\"}}, \"type\": \"scatter3d\"}], \"scattercarpet\": [{\"marker\": {\"colorbar\": {\"outlinewidth\": 0, \"ticks\": \"\"}}, \"type\": \"scattercarpet\"}], \"scattergeo\": [{\"marker\": {\"colorbar\": {\"outlinewidth\": 0, \"ticks\": \"\"}}, \"type\": \"scattergeo\"}], \"scattergl\": [{\"marker\": {\"colorbar\": {\"outlinewidth\": 0, \"ticks\": \"\"}}, \"type\": \"scattergl\"}], \"scattermapbox\": [{\"marker\": {\"colorbar\": {\"outlinewidth\": 0, \"ticks\": \"\"}}, \"type\": \"scattermapbox\"}], \"scatterpolar\": [{\"marker\": {\"colorbar\": {\"outlinewidth\": 0, \"ticks\": \"\"}}, \"type\": \"scatterpolar\"}], \"scatterpolargl\": [{\"marker\": {\"colorbar\": {\"outlinewidth\": 0, \"ticks\": \"\"}}, \"type\": \"scatterpolargl\"}], \"scatterternary\": [{\"marker\": {\"colorbar\": {\"outlinewidth\": 0, \"ticks\": \"\"}}, \"type\": \"scatterternary\"}], \"surface\": [{\"colorbar\": {\"outlinewidth\": 0, \"ticks\": \"\"}, \"colorscale\": [[0.0, \"#0d0887\"], [0.1111111111111111, \"#46039f\"], [0.2222222222222222, \"#7201a8\"], [0.3333333333333333, \"#9c179e\"], [0.4444444444444444, \"#bd3786\"], [0.5555555555555556, \"#d8576b\"], [0.6666666666666666, \"#ed7953\"], [0.7777777777777778, \"#fb9f3a\"], [0.8888888888888888, \"#fdca26\"], [1.0, \"#f0f921\"]], \"type\": \"surface\"}], \"table\": [{\"cells\": {\"fill\": {\"color\": \"#EBF0F8\"}, \"line\": {\"color\": \"white\"}}, \"header\": {\"fill\": {\"color\": \"#C8D4E3\"}, \"line\": {\"color\": \"white\"}}, \"type\": \"table\"}]}, \"layout\": {\"annotationdefaults\": {\"arrowcolor\": \"#2a3f5f\", \"arrowhead\": 0, \"arrowwidth\": 1}, \"coloraxis\": {\"colorbar\": {\"outlinewidth\": 0, \"ticks\": \"\"}}, \"colorscale\": {\"diverging\": [[0, \"#8e0152\"], [0.1, \"#c51b7d\"], [0.2, \"#de77ae\"], [0.3, \"#f1b6da\"], [0.4, \"#fde0ef\"], [0.5, \"#f7f7f7\"], [0.6, \"#e6f5d0\"], [0.7, \"#b8e186\"], [0.8, \"#7fbc41\"], [0.9, \"#4d9221\"], [1, \"#276419\"]], \"sequential\": [[0.0, \"#0d0887\"], [0.1111111111111111, \"#46039f\"], [0.2222222222222222, \"#7201a8\"], [0.3333333333333333, \"#9c179e\"], [0.4444444444444444, \"#bd3786\"], [0.5555555555555556, \"#d8576b\"], [0.6666666666666666, \"#ed7953\"], [0.7777777777777778, \"#fb9f3a\"], [0.8888888888888888, \"#fdca26\"], [1.0, \"#f0f921\"]], \"sequentialminus\": [[0.0, \"#0d0887\"], [0.1111111111111111, \"#46039f\"], [0.2222222222222222, \"#7201a8\"], [0.3333333333333333, \"#9c179e\"], [0.4444444444444444, \"#bd3786\"], [0.5555555555555556, \"#d8576b\"], [0.6666666666666666, \"#ed7953\"], [0.7777777777777778, \"#fb9f3a\"], [0.8888888888888888, \"#fdca26\"], [1.0, \"#f0f921\"]]}, \"colorway\": [\"#636efa\", \"#EF553B\", \"#00cc96\", \"#ab63fa\", \"#FFA15A\", \"#19d3f3\", \"#FF6692\", \"#B6E880\", \"#FF97FF\", \"#FECB52\"], \"font\": {\"color\": \"#2a3f5f\"}, \"geo\": {\"bgcolor\": \"white\", \"lakecolor\": \"white\", \"landcolor\": \"#E5ECF6\", \"showlakes\": true, \"showland\": true, \"subunitcolor\": \"white\"}, \"hoverlabel\": {\"align\": \"left\"}, \"hovermode\": \"closest\", \"mapbox\": {\"style\": \"light\"}, \"paper_bgcolor\": \"white\", \"plot_bgcolor\": \"#E5ECF6\", \"polar\": {\"angularaxis\": {\"gridcolor\": \"white\", \"linecolor\": \"white\", \"ticks\": \"\"}, \"bgcolor\": \"#E5ECF6\", \"radialaxis\": {\"gridcolor\": \"white\", \"linecolor\": \"white\", \"ticks\": \"\"}}, \"scene\": {\"xaxis\": {\"backgroundcolor\": \"#E5ECF6\", \"gridcolor\": \"white\", \"gridwidth\": 2, \"linecolor\": \"white\", \"showbackground\": true, \"ticks\": \"\", \"zerolinecolor\": \"white\"}, \"yaxis\": {\"backgroundcolor\": \"#E5ECF6\", \"gridcolor\": \"white\", \"gridwidth\": 2, \"linecolor\": \"white\", \"showbackground\": true, \"ticks\": \"\", \"zerolinecolor\": \"white\"}, \"zaxis\": {\"backgroundcolor\": \"#E5ECF6\", \"gridcolor\": \"white\", \"gridwidth\": 2, \"linecolor\": \"white\", \"showbackground\": true, \"ticks\": \"\", \"zerolinecolor\": \"white\"}}, \"shapedefaults\": {\"line\": {\"color\": \"#2a3f5f\"}}, \"ternary\": {\"aaxis\": {\"gridcolor\": \"white\", \"linecolor\": \"white\", \"ticks\": \"\"}, \"baxis\": {\"gridcolor\": \"white\", \"linecolor\": \"white\", \"ticks\": \"\"}, \"bgcolor\": \"#E5ECF6\", \"caxis\": {\"gridcolor\": \"white\", \"linecolor\": \"white\", \"ticks\": \"\"}}, \"title\": {\"x\": 0.05}, \"xaxis\": {\"automargin\": true, \"gridcolor\": \"white\", \"linecolor\": \"white\", \"ticks\": \"\", \"title\": {\"standoff\": 15}, \"zerolinecolor\": \"white\", \"zerolinewidth\": 2}, \"yaxis\": {\"automargin\": true, \"gridcolor\": \"white\", \"linecolor\": \"white\", \"ticks\": \"\", \"title\": {\"standoff\": 15}, \"zerolinecolor\": \"white\", \"zerolinewidth\": 2}}}, \"title\": {\"font\": {\"color\": \"#4D5663\"}, \"text\": \"TSNE\"}, \"xaxis\": {\"gridcolor\": \"#E1E5ED\", \"showgrid\": true, \"tickfont\": {\"color\": \"#4D5663\"}, \"title\": {\"font\": {\"color\": \"#4D5663\"}, \"text\": \"Axe 1\"}, \"zerolinecolor\": \"#E1E5ED\"}, \"yaxis\": {\"gridcolor\": \"#E1E5ED\", \"showgrid\": true, \"tickfont\": {\"color\": \"#4D5663\"}, \"title\": {\"font\": {\"color\": \"#4D5663\"}, \"text\": \"Axe 2\"}, \"zerolinecolor\": \"#E1E5ED\"}},\n",
       "                        {\"showLink\": true, \"linkText\": \"Export to plot.ly\", \"plotlyServerURL\": \"https://plot.ly\", \"responsive\": true}\n",
       "                    ).then(function(){\n",
       "                            \n",
       "var gd = document.getElementById('c6cd66c6-8888-43f6-a183-9cf84d4b2725');\n",
       "var x = new MutationObserver(function (mutations, observer) {{\n",
       "        var display = window.getComputedStyle(gd).display;\n",
       "        if (!display || display === 'none') {{\n",
       "            console.log([gd, 'removed!']);\n",
       "            Plotly.purge(gd);\n",
       "            observer.disconnect();\n",
       "        }}\n",
       "}});\n",
       "\n",
       "// Listen for the removal of the full notebook cells\n",
       "var notebookContainer = gd.closest('#notebook-container');\n",
       "if (notebookContainer) {{\n",
       "    x.observe(notebookContainer, {childList: true});\n",
       "}}\n",
       "\n",
       "// Listen for the clearing of the current output cell\n",
       "var outputEl = gd.closest('.output');\n",
       "if (outputEl) {{\n",
       "    x.observe(outputEl, {childList: true});\n",
       "}}\n",
       "\n",
       "                        })\n",
       "                };\n",
       "                });\n",
       "            </script>\n",
       "        </div>"
      ]
     },
     "metadata": {},
     "output_type": "display_data"
    }
   ],
   "source": [
    "tsne_graph(liste1, statique = False,\n",
    "           nom_couples_explicite = True) #Paramètre ne marche pas : a debuger ?\n"
   ]
  },
  {
   "cell_type": "code",
   "execution_count": 53,
   "metadata": {},
   "outputs": [
    {
     "data": {
      "text/html": [
       "        <script type=\"text/javascript\">\n",
       "        window.PlotlyConfig = {MathJaxConfig: 'local'};\n",
       "        if (window.MathJax) {MathJax.Hub.Config({SVG: {font: \"STIX-Web\"}});}\n",
       "        if (typeof require !== 'undefined') {\n",
       "        require.undef(\"plotly\");\n",
       "        requirejs.config({\n",
       "            paths: {\n",
       "                'plotly': ['https://cdn.plot.ly/plotly-latest.min']\n",
       "            }\n",
       "        });\n",
       "        require(['plotly'], function(Plotly) {\n",
       "            window._Plotly = Plotly;\n",
       "        });\n",
       "        }\n",
       "        </script>\n",
       "        "
      ]
     },
     "metadata": {},
     "output_type": "display_data"
    },
    {
     "name": "stderr",
     "output_type": "stream",
     "text": [
      "C:\\Users\\Kim Antunez\\Anaconda3\\lib\\site-packages\\cufflinks\\plotlytools.py:808: FutureWarning:\n",
      "\n",
      "The pandas.np module is deprecated and will be removed from pandas in a future version. Import numpy directly instead\n",
      "\n",
      "C:\\Users\\Kim Antunez\\Anaconda3\\lib\\site-packages\\cufflinks\\plotlytools.py:811: FutureWarning:\n",
      "\n",
      "The pandas.np module is deprecated and will be removed from pandas in a future version. Import numpy directly instead\n",
      "\n"
     ]
    },
    {
     "data": {
      "application/vnd.plotly.v1+json": {
       "config": {
        "linkText": "Export to plot.ly",
        "plotlyServerURL": "https://plot.ly",
        "showLink": true
       },
       "data": [
        {
         "marker": {
          "color": "rgba(255, 153, 51, 1.0)",
          "line": {
           "width": 1.3
          },
          "opacity": 0.8,
          "size": 12,
          "symbol": "circle"
         },
         "mode": "markers",
         "name": "Couple 1",
         "text": [
          "jespere",
          "expres",
          "unknown",
          "tite",
          "35",
          "ipad",
          "eme",
          "relâche",
          "top1",
          "chiants",
          "libres",
          "europeans",
          "investit",
          "usualsuspects",
          "davoir",
          "néant",
          "mariages",
          "clinique",
          "scandaleux",
          "hallucinant",
          "josefine",
          "taule",
          "mylène",
          "mouchoirs",
          "🇪",
          "forts",
          "malédiction",
          "mounet",
          "impôt",
          "🇸",
          "union",
          "od",
          "refusé",
          "animes",
          "gouffre",
          "keufs",
          "glr",
          "chips",
          "fallu",
          "nah",
          "jambon",
          "bouh",
          "grotte",
          "sénat",
          "pseudos",
          "etaient",
          "hac",
          "lazare",
          "cou",
          "attitude",
          "parlementaire",
          "irrespectueux",
          "dégradé",
          "nain",
          "friendzone",
          "pl",
          "audace",
          "jambon",
          "autorité",
          "puisqu",
          "abandonne",
          "bonus",
          "enregistre",
          "insultes",
          "chaines",
          "laaaaa",
          "véritable",
          "salles",
          "steak",
          "formule",
          "lignes",
          "applis",
          "🔵",
          "algerie",
          "sentie",
          "�",
          "🇵",
          "paradise",
          "pédophile",
          "ch",
          "solitude",
          "fesse",
          "1500",
          "honnêtes",
          "jmet",
          "mmmh",
          "opposition",
          "cliqué",
          "soja",
          "george",
          "levé",
          "she",
          "dictionnaire",
          "foutais",
          "agenda",
          "emmerdale",
          "boo",
          "connecté",
          "permanente",
          "côtoie"
         ],
         "textfont": {
          "color": "#4D5663"
         },
         "type": "scatter",
         "x": [
          0.18971291184425354,
          -13.376595497131348,
          -7.143337726593018,
          8.697422981262207,
          3.729607582092285,
          0.15515482425689697,
          10.43099308013916,
          -13.787681579589844,
          -14.182038307189941,
          -12.160065650939941,
          -10.012679100036621,
          8.237752914428711,
          -8.339031219482422,
          -10.927335739135742,
          0.07643964141607285,
          -7.862380027770996,
          -4.7952961921691895,
          -3.392298460006714,
          -10.732949256896973,
          -12.94685173034668,
          -0.9359094500541687,
          -13.289252281188965,
          -11.412304878234863,
          -9.232316970825195,
          9.398859024047852,
          -12.820184707641602,
          -8.809255599975586,
          2.8688127994537354,
          -6.393590450286865,
          9.3445463180542,
          -4.695530891418457,
          -6.923864841461182,
          -10.073114395141602,
          -3.5849831104278564,
          -8.46623420715332,
          -9.041814804077148,
          1.2390609979629517,
          1.0087487697601318,
          -6.68055534362793,
          -9.07344913482666,
          -6.262753486633301,
          -10.77811050415039,
          -7.143013000488281,
          -10.566752433776855,
          -9.774430274963379,
          -11.32819938659668,
          -5.6434712409973145,
          1.9304845333099365,
          6.898077487945557,
          -0.6281344294548035,
          -11.155458450317383,
          -12.977995872497559,
          -4.6417388916015625,
          -13.44294261932373,
          -12.65981674194336,
          -13.427202224731445,
          -8.725191116333008,
          -6.609766006469727,
          -8.366985321044922,
          -13.8781099319458,
          -4.727835655212402,
          2.3087081909179688,
          -12.279938697814941,
          1.9921936988830566,
          2.5728554725646973,
          -11.774728775024414,
          2.657188653945923,
          0.9472318887710571,
          -0.7012550830841064,
          -0.012053554877638817,
          4.610002040863037,
          -10.408991813659668,
          11.328656196594238,
          -9.38625717163086,
          -16.354969024658203,
          -9.368412017822266,
          0.5809317231178284,
          -7.10563850402832,
          -1.0986080169677734,
          -5.4319281578063965,
          5.596982479095459,
          -3.3166496753692627,
          -0.3067907989025116,
          -11.08601188659668,
          3.9119200706481934,
          -13.34648323059082,
          0.751353919506073,
          -14.28201675415039,
          -7.941221714019775,
          -7.725492477416992,
          0.767456591129303,
          -12.414443016052246,
          -12.25296401977539,
          -14.605134963989258,
          -3.1691572666168213,
          -10.974295616149902,
          -6.849050521850586,
          -5.528537273406982,
          -4.4619035720825195,
          -10.129076957702637
         ],
         "y": [
          5.768025875091553,
          16.162517547607422,
          14.287172317504883,
          0.29165178537368774,
          10.758792877197266,
          13.200846672058105,
          8.319723129272461,
          11.979155540466309,
          15.47880744934082,
          3.4322075843811035,
          14.421432495117188,
          7.745513439178467,
          14.611200332641602,
          10.150768280029297,
          12.22864055633545,
          12.147427558898926,
          15.192046165466309,
          14.413729667663574,
          4.657658576965332,
          12.023111343383789,
          8.19582462310791,
          13.698251724243164,
          12.70104694366455,
          16.088998794555664,
          7.411592960357666,
          3.979766845703125,
          18.239622116088867,
          9.14865779876709,
          12.007802963256836,
          8.792951583862305,
          13.495145797729492,
          9.791727066040039,
          3.679962158203125,
          12.237226486206055,
          16.77496337890625,
          13.950858116149902,
          15.504670143127441,
          11.912227630615234,
          8.624204635620117,
          12.694525718688965,
          17.51728057861328,
          14.699653625488281,
          19.099369049072266,
          16.6534481048584,
          10.409817695617676,
          1.4049084186553955,
          16.195632934570312,
          16.52474021911621,
          6.98643159866333,
          17.154146194458008,
          13.349802017211914,
          8.539362907409668,
          19.294832229614258,
          17.253000259399414,
          14.1971435546875,
          4.503284454345703,
          10.799124717712402,
          16.964113235473633,
          19.830751419067383,
          10.770208358764648,
          11.377481460571289,
          11.122139930725098,
          16.508487701416016,
          13.082955360412598,
          12.593897819519043,
          17.65070152282715,
          16.7260684967041,
          11.058863639831543,
          8.714125633239746,
          16.395200729370117,
          12.567678451538086,
          12.795082092285156,
          8.20655345916748,
          17.382286071777344,
          11.96209716796875,
          15.043315887451172,
          10.41549301147461,
          12.667343139648438,
          13.034869194030762,
          14.563386917114258,
          3.0190019607543945,
          15.498889923095703,
          11.221152305603027,
          17.410688400268555,
          8.57146167755127,
          9.588751792907715,
          17.062244415283203,
          9.25301742553711,
          18.22016716003418,
          17.27565574645996,
          3.6475560665130615,
          19.101240158081055,
          8.207682609558105,
          11.557286262512207,
          18.80462646484375,
          15.822010040283203,
          15.55080509185791,
          8.223895072937012,
          16.797155380249023,
          11.514907836914062
         ]
        },
        {
         "marker": {
          "color": "rgba(55, 128, 191, 1.0)",
          "line": {
           "width": 1.3
          },
          "opacity": 0.8,
          "size": 12,
          "symbol": "circle"
         },
         "mode": "markers",
         "name": "Couple 2",
         "text": [
          "jvoulais",
          "vérifier",
          "réflexion",
          "ha",
          "ajouter",
          "solo",
          "entrain",
          "🇫",
          "impressionnant",
          "neige",
          "gère",
          "taff",
          "passion",
          "mens",
          "nez",
          "comptes",
          "back",
          "carrière",
          "😞",
          "sophie",
          "permis",
          "termine",
          "journal",
          "dise",
          "marie",
          "raclette",
          "crise",
          "croit",
          "règles",
          "choqué",
          "rencontrer",
          "touche",
          "mdrrrrrr",
          "octobre",
          "uniquement",
          "alexia",
          "tente",
          "vélo",
          "naze",
          "28",
          "jalouse",
          "tente",
          "goûts",
          "position",
          "saisons",
          "entretien",
          "clé",
          "inverse",
          "sud",
          "japonais",
          "bienvenue",
          "rendent",
          "madame",
          "gestion",
          "victoire",
          "tain",
          "regardant",
          "échec",
          "🌹",
          "gouvernement",
          "souris",
          "suisse",
          "ramener",
          "🤞",
          "svt",
          "plaindre",
          "✊",
          "refuse",
          "actuellement",
          "étude",
          "merciiiii",
          "lyon",
          "bjr",
          "tg",
          "trous",
          "bouffer",
          "familles",
          "choquée",
          "90",
          "fatiguée",
          "lapin",
          "payé",
          "🤙",
          "regrette",
          "sah",
          "expérience",
          "zéro",
          "manga",
          "batterie",
          "charge",
          "al",
          "sales",
          "calmer",
          "kiffé",
          "😰",
          "13",
          "animal",
          "2e",
          "réveille",
          "3h"
         ],
         "textfont": {
          "color": "#4D5663"
         },
         "type": "scatter",
         "x": [
          6.930561542510986,
          -11.339241027832031,
          4.35814094543457,
          -6.688205242156982,
          13.721578598022461,
          5.534554958343506,
          -2.5449328422546387,
          14.375924110412598,
          -12.193451881408691,
          0.7812336087226868,
          3.124392032623291,
          17.671113967895508,
          13.738814353942871,
          -5.558788776397705,
          15.693961143493652,
          -2.001516342163086,
          8.081764221191406,
          13.227348327636719,
          6.8518877029418945,
          -8.878460884094238,
          15.477564811706543,
          9.676044464111328,
          11.295626640319824,
          4.291399955749512,
          11.565967559814453,
          7.044675827026367,
          12.749382019042969,
          0.4859369695186615,
          -6.205165863037109,
          -15.243486404418945,
          -16.95267677307129,
          4.154515266418457,
          -7.743348598480225,
          11.377949714660645,
          7.936589241027832,
          3.9021048545837402,
          14.328001976013184,
          12.756902694702148,
          -12.719439506530762,
          15.03677749633789,
          -16.33715057373047,
          14.328001976013184,
          5.7894206047058105,
          10.041784286499023,
          6.9048542976379395,
          13.21837043762207,
          10.263219833374023,
          13.505400657653809,
          12.629798889160156,
          7.975040435791016,
          -1.3601170778274536,
          -11.150002479553223,
          -4.021381378173828,
          9.916902542114258,
          15.101691246032715,
          -6.601705551147461,
          7.848372459411621,
          14.576156616210938,
          15.557917594909668,
          13.236590385437012,
          9.677395820617676,
          7.75652551651001,
          10.347868919372559,
          11.161760330200195,
          7.087900638580322,
          9.498709678649902,
          12.376603126525879,
          1.5583633184432983,
          8.474845886230469,
          -0.9615557789802551,
          -5.300425052642822,
          -6.602208614349365,
          -5.155207633972168,
          -3.304396867752075,
          8.492521286010742,
          1.9474782943725586,
          5.978638648986816,
          -13.618775367736816,
          11.069061279296875,
          -0.30196505784988403,
          7.335984706878662,
          -4.655282974243164,
          14.51099967956543,
          -13.353278160095215,
          -14.396296501159668,
          16.256324768066406,
          -9.914928436279297,
          11.937883377075195,
          12.729818344116211,
          18.182506561279297,
          6.709776401519775,
          -9.218973159790039,
          8.20006275177002,
          1.5037561655044556,
          5.0816521644592285,
          14.84864330291748,
          11.813549995422363,
          7.427882194519043,
          5.667176723480225,
          8.371610641479492
         ],
         "y": [
          -8.838237762451172,
          19.502901077270508,
          7.89192533493042,
          -4.718554496765137,
          1.7777864933013916,
          4.636353969573975,
          -15.401956558227539,
          8.745076179504395,
          2.6578197479248047,
          -8.037839889526367,
          4.5877861976623535,
          11.947973251342773,
          -3.5360171794891357,
          19.248916625976562,
          8.453014373779297,
          2.3684821128845215,
          7.026695728302002,
          -4.158943176269531,
          3.308387041091919,
          0.8112285733222961,
          2.0750226974487305,
          -9.414839744567871,
          6.287059307098389,
          -11.17653751373291,
          -0.5058587193489075,
          -0.09109310805797577,
          -6.792744159698486,
          -8.612919807434082,
          4.712928295135498,
          -4.336019039154053,
          12.084030151367188,
          -12.924958229064941,
          2.777966260910034,
          11.238748550415039,
          10.872150421142578,
          16.06511116027832,
          -1.3177770376205444,
          7.595553874969482,
          1.1176180839538574,
          11.71818733215332,
          -3.7681121826171875,
          -1.3177770376205444,
          12.346017837524414,
          0.5245699286460876,
          11.168367385864258,
          5.092453956604004,
          3.1639630794525146,
          2.57206392288208,
          11.485588073730469,
          12.195834159851074,
          0.4879572093486786,
          -1.003286600112915,
          4.036999702453613,
          5.33971643447876,
          0.8726930618286133,
          6.634163856506348,
          2.3136351108551025,
          5.147830009460449,
          3.638394355773926,
          10.791189193725586,
          1.3341193199157715,
          9.972941398620605,
          2.193953037261963,
          3.3416056632995605,
          1.1126786470413208,
          -5.4597368240356445,
          5.9752397537231445,
          5.39504861831665,
          -3.980746030807495,
          16.523962020874023,
          5.789031505584717,
          5.723403453826904,
          5.470015525817871,
          5.468496322631836,
          8.65483570098877,
          5.9865217208862305,
          11.204553604125977,
          -6.279151439666748,
          12.500335693359375,
          -15.514140129089355,
          8.582939147949219,
          0.8179903030395508,
          7.49334716796875,
          -2.5931642055511475,
          -4.346292018890381,
          1.4263148307800293,
          2.3593883514404297,
          10.535378456115723,
          -1.5799362659454346,
          12.37572956085205,
          12.474969863891602,
          4.265505313873291,
          -7.720022201538086,
          -10.321657180786133,
          4.395866394042969,
          12.491377830505371,
          6.9416680335998535,
          5.443120002746582,
          -14.701830863952637,
          -6.455531597137451
         ]
        },
        {
         "marker": {
          "color": "rgba(50, 171, 96, 1.0)",
          "line": {
           "width": 1.3
          },
          "opacity": 0.8,
          "size": 12,
          "symbol": "circle"
         },
         "mode": "markers",
         "name": "Couple 3",
         "text": [
          "ligne",
          "bravo",
          "in",
          "aujourdhui",
          "rend",
          "nan",
          "pire",
          "chaque",
          "ya",
          "change",
          "mdrrr",
          "😆",
          "connais",
          "clairement",
          "an",
          "min",
          "pourtant",
          "écouter",
          "magnifique",
          "o",
          "force",
          "doigts",
          "perso",
          "complètement",
          "grand",
          "content",
          "elles",
          "ptn",
          "tl",
          "inquiète",
          "tt",
          "filles",
          "hyper",
          "no",
          "😪",
          "facile",
          "ailleurs",
          "grande",
          "putain",
          "pense",
          "super",
          "savez",
          "🤔",
          "autant",
          "mdrrrr",
          "sortie",
          "partie",
          "moment",
          "bonjour",
          "vos",
          "tf1",
          "verra",
          "😢",
          "dois",
          "eux",
          "génial",
          "faites",
          "gars",
          "pcq",
          "coup",
          "quelques",
          "laisser",
          "contente",
          "serai",
          "jeux",
          "hyper",
          "stage",
          "aurait",
          "chaud",
          "joue",
          "janvier",
          "trucs",
          "😔",
          "heureux",
          "quelle",
          "change",
          "chat",
          "peur",
          "jui",
          "réponse",
          "heureuse",
          "sport",
          "eu",
          "parti",
          "pire",
          "corps",
          "15",
          "stp",
          "the",
          "quel",
          "semaine",
          "maison",
          "porte",
          "8",
          "bac",
          "changé",
          "vrais",
          "ahah",
          "😩",
          "allez"
         ],
         "textfont": {
          "color": "#4D5663"
         },
         "type": "scatter",
         "x": [
          18.441570281982422,
          -2.991568088531494,
          18.331785202026367,
          2.1444880962371826,
          4.701607704162598,
          -9.184850692749023,
          12.075874328613281,
          -0.5667251348495483,
          11.080432891845703,
          5.952004432678223,
          -15.144390106201172,
          19.19224739074707,
          12.829442024230957,
          2.767225742340088,
          20.87085723876953,
          17.998212814331055,
          -10.397807121276855,
          15.419203758239746,
          -14.374449729919434,
          14.217612266540527,
          14.786788940429688,
          -3.695294141769409,
          -7.7046074867248535,
          -9.97048568725586,
          21.14818572998047,
          -3.6167426109313965,
          17.75673484802246,
          2.0710628032684326,
          17.600011825561523,
          18.119548797607422,
          14.900354385375977,
          -6.284825325012207,
          -5.394423484802246,
          -11.55542278289795,
          9.61587905883789,
          -11.258795738220215,
          -17.79989242553711,
          17.286720275878906,
          2.3412296772003174,
          10.034613609313965,
          -1.128160834312439,
          1.6893006563186646,
          14.368839263916016,
          1.1715704202651978,
          -16.846723556518555,
          12.364221572875977,
          14.329776763916016,
          18.22056770324707,
          -0.9989730715751648,
          -5.959966659545898,
          -7.917210578918457,
          -11.230563163757324,
          16.72735595703125,
          17.346635818481445,
          -6.919592380523682,
          -10.729126930236816,
          2.5327513217926025,
          -5.02598762512207,
          -2.118960380554199,
          -3.2149083614349365,
          17.320106506347656,
          14.65608024597168,
          -0.23232020437717438,
          8.981406211853027,
          -2.2458057403564453,
          -5.000802516937256,
          16.017242431640625,
          -8.753305435180664,
          -12.854324340820312,
          15.315752029418945,
          15.609482765197754,
          -10.105413436889648,
          4.804392337799072,
          -13.754758834838867,
          -2.0968210697174072,
          5.952004432678223,
          20.28451156616211,
          -2.48170804977417,
          7.372940540313721,
          17.405969619750977,
          -1.164612889289856,
          9.896150588989258,
          -0.45765379071235657,
          -10.42631721496582,
          12.076078414916992,
          20.41229248046875,
          14.700300216674805,
          24.587100982666016,
          14.951766967773438,
          12.811784744262695,
          20.344541549682617,
          17.564620971679688,
          11.265679359436035,
          13.312478065490723,
          18.46473503112793,
          -5.300021171569824,
          -7.446639060974121,
          -6.919641494750977,
          13.215495109558105,
          4.774806499481201
         ],
         "y": [
          5.584315299987793,
          -1.9630889892578125,
          7.797603607177734,
          -10.792600631713867,
          -16.211137771606445,
          -5.959975242614746,
          19.405681610107422,
          -20.56194305419922,
          18.36982536315918,
          -13.40705394744873,
          -6.126552581787109,
          12.871133804321289,
          12.46856689453125,
          -11.45654010772705,
          6.274985313415527,
          6.4988203048706055,
          -6.9743852615356445,
          -1.6234923601150513,
          -6.200414657592773,
          2.724477529525757,
          -2.822603225708008,
          3.220187187194824,
          -0.044297367334365845,
          0.019943546503782272,
          4.888281345367432,
          -13.293065071105957,
          19.37852668762207,
          -15.051238059997559,
          -3.406531572341919,
          0.12921202182769775,
          17.055744171142578,
          -0.9173293113708496,
          -18.453886032104492,
          -0.32458803057670593,
          -11.492574691772461,
          -6.861336708068848,
          0.34486085176467896,
          -8.850726127624512,
          -14.380805969238281,
          -14.74023723602295,
          -16.69939613342285,
          -3.9819815158843994,
          -15.48680305480957,
          -15.542510986328125,
          -0.08802725374698639,
          -2.5173912048339844,
          -7.627484321594238,
          18.018024444580078,
          -3.5470023155212402,
          -6.963251113891602,
          -2.5328450202941895,
          -2.0822970867156982,
          -6.9996771812438965,
          -7.642273426055908,
          -8.560117721557617,
          -7.481098175048828,
          -4.5323662757873535,
          -1.9274793863296509,
          -15.419651985168457,
          9.510777473449707,
          17.624862670898438,
          -8.037100791931152,
          -14.054402351379395,
          -13.234553337097168,
          0.4311884343624115,
          -18.29294776916504,
          6.353795051574707,
          -4.848602294921875,
          -7.866849422454834,
          16.772991180419922,
          19.62870979309082,
          -8.660152435302734,
          -10.106363296508789,
          -4.32436990737915,
          -17.923036575317383,
          -13.40705394744873,
          6.556642532348633,
          -12.659049034118652,
          -14.142316818237305,
          0.0057295020669698715,
          -15.700576782226562,
          -1.6053324937820435,
          -3.396603584289551,
          -2.279963970184326,
          19.404701232910156,
          5.7596516609191895,
          15.897907257080078,
          2.0554563999176025,
          9.501511573791504,
          15.217606544494629,
          -9.795341491699219,
          -9.570501327514648,
          -2.8820271492004395,
          15.11683464050293,
          7.001266956329346,
          -0.31298598647117615,
          -2.214035987854004,
          2.619600772857666,
          -10.105774879455566,
          -5.602698802947998
         ]
        },
        {
         "marker": {
          "color": "rgba(128, 0, 128, 1.0)",
          "line": {
           "width": 1.3
          },
          "opacity": 0.8,
          "size": 12,
          "symbol": "circle"
         },
         "mode": "markers",
         "name": "Couple 4",
         "text": [
          "pour",
          "qui",
          "😭",
          "vu",
          "mal",
          "y",
          "te",
          "faire",
          "qui",
          "lui",
          "fais",
          "ça",
          "qu",
          "elle",
          "est",
          "ou",
          "toujours",
          "vrai",
          "comme",
          "fais",
          "me",
          "moi",
          "donc",
          "comment",
          "es",
          "sur",
          "faut",
          "rien",
          "comme",
          "d",
          "vous",
          "alors",
          "m",
          "️",
          "à",
          "trop",
          "ma",
          "dire",
          "sur",
          "mal",
          "jamais",
          "merci",
          "s",
          "mdr",
          "lowfrequencyword",
          "bien",
          "temps",
          "voir",
          "lui",
          "y",
          "2",
          "vous",
          "ta",
          "bon",
          "on",
          "donc",
          "ton",
          "ta",
          "peut",
          "aime",
          "être",
          "envie",
          "2",
          "que",
          "ont",
          "rien",
          "sa",
          "ne",
          "nous",
          "avoir",
          "on",
          "ai",
          "vie",
          "que",
          "très",
          "donc",
          "vais",
          "être",
          "dire",
          "ne",
          "bonne",
          "sont",
          "alors",
          "qu",
          "j",
          "nickname",
          "là",
          "ca",
          "va",
          "encore",
          "sais",
          "tous",
          "moi",
          "temps",
          "mes",
          "après",
          "rien",
          "sur",
          "plus",
          "avoir"
         ],
         "textfont": {
          "color": "#4D5663"
         },
         "type": "scatter",
         "x": [
          -17.045166015625,
          15.289188385009766,
          17.820194244384766,
          1.242324709892273,
          -3.2724111080169678,
          2.556511878967285,
          -11.127167701721191,
          18.6147403717041,
          15.289188385009766,
          -11.027630805969238,
          18.39059066772461,
          -1.7517685890197754,
          4.103569507598877,
          0.8709919452667236,
          10.989677429199219,
          23.626054763793945,
          -16.72751235961914,
          9.714132308959961,
          -9.380297660827637,
          18.535276412963867,
          -1.6640231609344482,
          -11.426373481750488,
          -9.951516151428223,
          -12.119763374328613,
          21.707555770874023,
          -19.26495361328125,
          2.9088780879974365,
          -8.701902389526367,
          -9.380297660827637,
          -22.488492965698242,
          -3.1472551822662354,
          2.457221031188965,
          8.594990730285645,
          2.6946732997894287,
          20.407428741455078,
          -2.843057155609131,
          -3.3466756343841553,
          -0.19961419701576233,
          -19.39470863342285,
          -3.4941468238830566,
          -10.280348777770996,
          -1.9522037506103516,
          8.382896423339844,
          11.41801643371582,
          -1.3280988931655884,
          -7.901442050933838,
          -11.497105598449707,
          16.240894317626953,
          -11.034965515136719,
          2.556511878967285,
          16.568918228149414,
          -3.1472551822662354,
          -2.4032046794891357,
          -3.276085615158081,
          14.706047058105469,
          -10.145769119262695,
          -22.47566032409668,
          -2.4032046794891357,
          -8.865764617919922,
          2.852003335952759,
          -0.8262723684310913,
          4.357292652130127,
          16.333011627197266,
          -12.318381309509277,
          -4.869755744934082,
          -8.597689628601074,
          -3.1637511253356934,
          11.903175354003906,
          -6.540788173675537,
          25.209800720214844,
          14.706034660339355,
          3.217151403427124,
          21.169160842895508,
          -12.318379402160645,
          -4.174413681030273,
          -10.607438087463379,
          20.03972625732422,
          -0.826184868812561,
          0.07742908596992493,
          11.903175354003906,
          4.557044982910156,
          -4.934183120727539,
          2.7455556392669678,
          4.103569507598877,
          -1.3842297792434692,
          -5.336300373077393,
          12.313349723815918,
          -1.42568039894104,
          20.534719467163086,
          3.736591339111328,
          10.481607437133789,
          -6.065734386444092,
          -11.426373481750488,
          -11.497105598449707,
          -7.658713340759277,
          16.31806755065918,
          -8.138721466064453,
          24.287900924682617,
          -5.136911392211914,
          25.21000862121582
         ],
         "y": [
          -13.09274959564209,
          -14.821918487548828,
          -4.447245121002197,
          -3.6665725708007812,
          -19.121843338012695,
          -1.3418787717819214,
          -20.412315368652344,
          -11.54820442199707,
          -14.821918487548828,
          -19.471403121948242,
          -9.558035850524902,
          -21.081457138061523,
          -22.22686767578125,
          -21.479171752929688,
          19.53610610961914,
          2.9916162490844727,
          -0.1265118271112442,
          -17.779781341552734,
          -24.348052978515625,
          -9.088221549987793,
          -24.828479766845703,
          -12.403848648071289,
          5.6777262687683105,
          -18.1274356842041,
          3.722991466522217,
          -11.983072280883789,
          -15.820319175720215,
          -14.0789155960083,
          -24.348052978515625,
          5.349089622497559,
          -6.372692584991455,
          -9.379264831542969,
          -20.882728576660156,
          0.07366958260536194,
          -6.3288469314575195,
          -21.127201080322266,
          -23.869403839111328,
          -18.019559860229492,
          -12.41705322265625,
          -19.65205955505371,
          -11.44573974609375,
          -3.6489522457122803,
          -21.065698623657227,
          -7.26216983795166,
          0.8159728646278381,
          -15.439690589904785,
          -14.244498252868652,
          -8.456603050231934,
          -19.47220230102539,
          -1.3418787717819214,
          18.766225814819336,
          -6.372692584991455,
          -25.564390182495117,
          -1.861930012702942,
          -19.722225189208984,
          6.109248161315918,
          5.328683853149414,
          -25.564390182495117,
          -24.686132431030273,
          -2.8585474491119385,
          -26.42473602294922,
          -7.504444122314453,
          18.450031280517578,
          -16.93517303466797,
          -7.102885723114014,
          -13.45654010772705,
          -24.12112045288086,
          -15.618754386901855,
          -7.737074375152588,
          1.345558762550354,
          -19.722278594970703,
          -2.0183792114257812,
          -10.23182201385498,
          -16.93528175354004,
          -19.243432998657227,
          5.851788520812988,
          -10.98382568359375,
          -26.424800872802734,
          -17.863576889038086,
          -15.618754386901855,
          -6.725265979766846,
          -9.284663200378418,
          -9.488917350769043,
          -22.22686767578125,
          -12.440742492675781,
          -4.198052406311035,
          -10.724570274353027,
          -21.648252487182617,
          -11.17014217376709,
          -11.045347213745117,
          -17.16929817199707,
          -5.564344882965088,
          -12.403848648071289,
          -14.244498252868652,
          -10.100330352783203,
          -9.608134269714355,
          -13.827919006347656,
          5.940135955810547,
          -17.666013717651367,
          1.3440632820129395
         ]
        }
       ],
       "layout": {
        "legend": {
         "bgcolor": "#F5F6F9",
         "font": {
          "color": "#4D5663"
         }
        },
        "paper_bgcolor": "#F5F6F9",
        "plot_bgcolor": "#F5F6F9",
        "template": {
         "data": {
          "bar": [
           {
            "error_x": {
             "color": "#2a3f5f"
            },
            "error_y": {
             "color": "#2a3f5f"
            },
            "marker": {
             "line": {
              "color": "#E5ECF6",
              "width": 0.5
             }
            },
            "type": "bar"
           }
          ],
          "barpolar": [
           {
            "marker": {
             "line": {
              "color": "#E5ECF6",
              "width": 0.5
             }
            },
            "type": "barpolar"
           }
          ],
          "carpet": [
           {
            "aaxis": {
             "endlinecolor": "#2a3f5f",
             "gridcolor": "white",
             "linecolor": "white",
             "minorgridcolor": "white",
             "startlinecolor": "#2a3f5f"
            },
            "baxis": {
             "endlinecolor": "#2a3f5f",
             "gridcolor": "white",
             "linecolor": "white",
             "minorgridcolor": "white",
             "startlinecolor": "#2a3f5f"
            },
            "type": "carpet"
           }
          ],
          "choropleth": [
           {
            "colorbar": {
             "outlinewidth": 0,
             "ticks": ""
            },
            "type": "choropleth"
           }
          ],
          "contour": [
           {
            "colorbar": {
             "outlinewidth": 0,
             "ticks": ""
            },
            "colorscale": [
             [
              0,
              "#0d0887"
             ],
             [
              0.1111111111111111,
              "#46039f"
             ],
             [
              0.2222222222222222,
              "#7201a8"
             ],
             [
              0.3333333333333333,
              "#9c179e"
             ],
             [
              0.4444444444444444,
              "#bd3786"
             ],
             [
              0.5555555555555556,
              "#d8576b"
             ],
             [
              0.6666666666666666,
              "#ed7953"
             ],
             [
              0.7777777777777778,
              "#fb9f3a"
             ],
             [
              0.8888888888888888,
              "#fdca26"
             ],
             [
              1,
              "#f0f921"
             ]
            ],
            "type": "contour"
           }
          ],
          "contourcarpet": [
           {
            "colorbar": {
             "outlinewidth": 0,
             "ticks": ""
            },
            "type": "contourcarpet"
           }
          ],
          "heatmap": [
           {
            "colorbar": {
             "outlinewidth": 0,
             "ticks": ""
            },
            "colorscale": [
             [
              0,
              "#0d0887"
             ],
             [
              0.1111111111111111,
              "#46039f"
             ],
             [
              0.2222222222222222,
              "#7201a8"
             ],
             [
              0.3333333333333333,
              "#9c179e"
             ],
             [
              0.4444444444444444,
              "#bd3786"
             ],
             [
              0.5555555555555556,
              "#d8576b"
             ],
             [
              0.6666666666666666,
              "#ed7953"
             ],
             [
              0.7777777777777778,
              "#fb9f3a"
             ],
             [
              0.8888888888888888,
              "#fdca26"
             ],
             [
              1,
              "#f0f921"
             ]
            ],
            "type": "heatmap"
           }
          ],
          "heatmapgl": [
           {
            "colorbar": {
             "outlinewidth": 0,
             "ticks": ""
            },
            "colorscale": [
             [
              0,
              "#0d0887"
             ],
             [
              0.1111111111111111,
              "#46039f"
             ],
             [
              0.2222222222222222,
              "#7201a8"
             ],
             [
              0.3333333333333333,
              "#9c179e"
             ],
             [
              0.4444444444444444,
              "#bd3786"
             ],
             [
              0.5555555555555556,
              "#d8576b"
             ],
             [
              0.6666666666666666,
              "#ed7953"
             ],
             [
              0.7777777777777778,
              "#fb9f3a"
             ],
             [
              0.8888888888888888,
              "#fdca26"
             ],
             [
              1,
              "#f0f921"
             ]
            ],
            "type": "heatmapgl"
           }
          ],
          "histogram": [
           {
            "marker": {
             "colorbar": {
              "outlinewidth": 0,
              "ticks": ""
             }
            },
            "type": "histogram"
           }
          ],
          "histogram2d": [
           {
            "colorbar": {
             "outlinewidth": 0,
             "ticks": ""
            },
            "colorscale": [
             [
              0,
              "#0d0887"
             ],
             [
              0.1111111111111111,
              "#46039f"
             ],
             [
              0.2222222222222222,
              "#7201a8"
             ],
             [
              0.3333333333333333,
              "#9c179e"
             ],
             [
              0.4444444444444444,
              "#bd3786"
             ],
             [
              0.5555555555555556,
              "#d8576b"
             ],
             [
              0.6666666666666666,
              "#ed7953"
             ],
             [
              0.7777777777777778,
              "#fb9f3a"
             ],
             [
              0.8888888888888888,
              "#fdca26"
             ],
             [
              1,
              "#f0f921"
             ]
            ],
            "type": "histogram2d"
           }
          ],
          "histogram2dcontour": [
           {
            "colorbar": {
             "outlinewidth": 0,
             "ticks": ""
            },
            "colorscale": [
             [
              0,
              "#0d0887"
             ],
             [
              0.1111111111111111,
              "#46039f"
             ],
             [
              0.2222222222222222,
              "#7201a8"
             ],
             [
              0.3333333333333333,
              "#9c179e"
             ],
             [
              0.4444444444444444,
              "#bd3786"
             ],
             [
              0.5555555555555556,
              "#d8576b"
             ],
             [
              0.6666666666666666,
              "#ed7953"
             ],
             [
              0.7777777777777778,
              "#fb9f3a"
             ],
             [
              0.8888888888888888,
              "#fdca26"
             ],
             [
              1,
              "#f0f921"
             ]
            ],
            "type": "histogram2dcontour"
           }
          ],
          "mesh3d": [
           {
            "colorbar": {
             "outlinewidth": 0,
             "ticks": ""
            },
            "type": "mesh3d"
           }
          ],
          "parcoords": [
           {
            "line": {
             "colorbar": {
              "outlinewidth": 0,
              "ticks": ""
             }
            },
            "type": "parcoords"
           }
          ],
          "pie": [
           {
            "automargin": true,
            "type": "pie"
           }
          ],
          "scatter": [
           {
            "marker": {
             "colorbar": {
              "outlinewidth": 0,
              "ticks": ""
             }
            },
            "type": "scatter"
           }
          ],
          "scatter3d": [
           {
            "line": {
             "colorbar": {
              "outlinewidth": 0,
              "ticks": ""
             }
            },
            "marker": {
             "colorbar": {
              "outlinewidth": 0,
              "ticks": ""
             }
            },
            "type": "scatter3d"
           }
          ],
          "scattercarpet": [
           {
            "marker": {
             "colorbar": {
              "outlinewidth": 0,
              "ticks": ""
             }
            },
            "type": "scattercarpet"
           }
          ],
          "scattergeo": [
           {
            "marker": {
             "colorbar": {
              "outlinewidth": 0,
              "ticks": ""
             }
            },
            "type": "scattergeo"
           }
          ],
          "scattergl": [
           {
            "marker": {
             "colorbar": {
              "outlinewidth": 0,
              "ticks": ""
             }
            },
            "type": "scattergl"
           }
          ],
          "scattermapbox": [
           {
            "marker": {
             "colorbar": {
              "outlinewidth": 0,
              "ticks": ""
             }
            },
            "type": "scattermapbox"
           }
          ],
          "scatterpolar": [
           {
            "marker": {
             "colorbar": {
              "outlinewidth": 0,
              "ticks": ""
             }
            },
            "type": "scatterpolar"
           }
          ],
          "scatterpolargl": [
           {
            "marker": {
             "colorbar": {
              "outlinewidth": 0,
              "ticks": ""
             }
            },
            "type": "scatterpolargl"
           }
          ],
          "scatterternary": [
           {
            "marker": {
             "colorbar": {
              "outlinewidth": 0,
              "ticks": ""
             }
            },
            "type": "scatterternary"
           }
          ],
          "surface": [
           {
            "colorbar": {
             "outlinewidth": 0,
             "ticks": ""
            },
            "colorscale": [
             [
              0,
              "#0d0887"
             ],
             [
              0.1111111111111111,
              "#46039f"
             ],
             [
              0.2222222222222222,
              "#7201a8"
             ],
             [
              0.3333333333333333,
              "#9c179e"
             ],
             [
              0.4444444444444444,
              "#bd3786"
             ],
             [
              0.5555555555555556,
              "#d8576b"
             ],
             [
              0.6666666666666666,
              "#ed7953"
             ],
             [
              0.7777777777777778,
              "#fb9f3a"
             ],
             [
              0.8888888888888888,
              "#fdca26"
             ],
             [
              1,
              "#f0f921"
             ]
            ],
            "type": "surface"
           }
          ],
          "table": [
           {
            "cells": {
             "fill": {
              "color": "#EBF0F8"
             },
             "line": {
              "color": "white"
             }
            },
            "header": {
             "fill": {
              "color": "#C8D4E3"
             },
             "line": {
              "color": "white"
             }
            },
            "type": "table"
           }
          ]
         },
         "layout": {
          "annotationdefaults": {
           "arrowcolor": "#2a3f5f",
           "arrowhead": 0,
           "arrowwidth": 1
          },
          "coloraxis": {
           "colorbar": {
            "outlinewidth": 0,
            "ticks": ""
           }
          },
          "colorscale": {
           "diverging": [
            [
             0,
             "#8e0152"
            ],
            [
             0.1,
             "#c51b7d"
            ],
            [
             0.2,
             "#de77ae"
            ],
            [
             0.3,
             "#f1b6da"
            ],
            [
             0.4,
             "#fde0ef"
            ],
            [
             0.5,
             "#f7f7f7"
            ],
            [
             0.6,
             "#e6f5d0"
            ],
            [
             0.7,
             "#b8e186"
            ],
            [
             0.8,
             "#7fbc41"
            ],
            [
             0.9,
             "#4d9221"
            ],
            [
             1,
             "#276419"
            ]
           ],
           "sequential": [
            [
             0,
             "#0d0887"
            ],
            [
             0.1111111111111111,
             "#46039f"
            ],
            [
             0.2222222222222222,
             "#7201a8"
            ],
            [
             0.3333333333333333,
             "#9c179e"
            ],
            [
             0.4444444444444444,
             "#bd3786"
            ],
            [
             0.5555555555555556,
             "#d8576b"
            ],
            [
             0.6666666666666666,
             "#ed7953"
            ],
            [
             0.7777777777777778,
             "#fb9f3a"
            ],
            [
             0.8888888888888888,
             "#fdca26"
            ],
            [
             1,
             "#f0f921"
            ]
           ],
           "sequentialminus": [
            [
             0,
             "#0d0887"
            ],
            [
             0.1111111111111111,
             "#46039f"
            ],
            [
             0.2222222222222222,
             "#7201a8"
            ],
            [
             0.3333333333333333,
             "#9c179e"
            ],
            [
             0.4444444444444444,
             "#bd3786"
            ],
            [
             0.5555555555555556,
             "#d8576b"
            ],
            [
             0.6666666666666666,
             "#ed7953"
            ],
            [
             0.7777777777777778,
             "#fb9f3a"
            ],
            [
             0.8888888888888888,
             "#fdca26"
            ],
            [
             1,
             "#f0f921"
            ]
           ]
          },
          "colorway": [
           "#636efa",
           "#EF553B",
           "#00cc96",
           "#ab63fa",
           "#FFA15A",
           "#19d3f3",
           "#FF6692",
           "#B6E880",
           "#FF97FF",
           "#FECB52"
          ],
          "font": {
           "color": "#2a3f5f"
          },
          "geo": {
           "bgcolor": "white",
           "lakecolor": "white",
           "landcolor": "#E5ECF6",
           "showlakes": true,
           "showland": true,
           "subunitcolor": "white"
          },
          "hoverlabel": {
           "align": "left"
          },
          "hovermode": "closest",
          "mapbox": {
           "style": "light"
          },
          "paper_bgcolor": "white",
          "plot_bgcolor": "#E5ECF6",
          "polar": {
           "angularaxis": {
            "gridcolor": "white",
            "linecolor": "white",
            "ticks": ""
           },
           "bgcolor": "#E5ECF6",
           "radialaxis": {
            "gridcolor": "white",
            "linecolor": "white",
            "ticks": ""
           }
          },
          "scene": {
           "xaxis": {
            "backgroundcolor": "#E5ECF6",
            "gridcolor": "white",
            "gridwidth": 2,
            "linecolor": "white",
            "showbackground": true,
            "ticks": "",
            "zerolinecolor": "white"
           },
           "yaxis": {
            "backgroundcolor": "#E5ECF6",
            "gridcolor": "white",
            "gridwidth": 2,
            "linecolor": "white",
            "showbackground": true,
            "ticks": "",
            "zerolinecolor": "white"
           },
           "zaxis": {
            "backgroundcolor": "#E5ECF6",
            "gridcolor": "white",
            "gridwidth": 2,
            "linecolor": "white",
            "showbackground": true,
            "ticks": "",
            "zerolinecolor": "white"
           }
          },
          "shapedefaults": {
           "line": {
            "color": "#2a3f5f"
           }
          },
          "ternary": {
           "aaxis": {
            "gridcolor": "white",
            "linecolor": "white",
            "ticks": ""
           },
           "baxis": {
            "gridcolor": "white",
            "linecolor": "white",
            "ticks": ""
           },
           "bgcolor": "#E5ECF6",
           "caxis": {
            "gridcolor": "white",
            "linecolor": "white",
            "ticks": ""
           }
          },
          "title": {
           "x": 0.05
          },
          "xaxis": {
           "automargin": true,
           "gridcolor": "white",
           "linecolor": "white",
           "ticks": "",
           "title": {
            "standoff": 15
           },
           "zerolinecolor": "white",
           "zerolinewidth": 2
          },
          "yaxis": {
           "automargin": true,
           "gridcolor": "white",
           "linecolor": "white",
           "ticks": "",
           "title": {
            "standoff": 15
           },
           "zerolinecolor": "white",
           "zerolinewidth": 2
          }
         }
        },
        "title": {
         "font": {
          "color": "#4D5663"
         },
         "text": "TSNE"
        },
        "xaxis": {
         "gridcolor": "#E1E5ED",
         "showgrid": true,
         "tickfont": {
          "color": "#4D5663"
         },
         "title": {
          "font": {
           "color": "#4D5663"
          },
          "text": "Axe 1"
         },
         "zerolinecolor": "#E1E5ED"
        },
        "yaxis": {
         "gridcolor": "#E1E5ED",
         "showgrid": true,
         "tickfont": {
          "color": "#4D5663"
         },
         "title": {
          "font": {
           "color": "#4D5663"
          },
          "text": "Axe 2"
         },
         "zerolinecolor": "#E1E5ED"
        }
       }
      },
      "text/html": [
       "<div>\n",
       "        \n",
       "        \n",
       "            <div id=\"57a83ffa-c2b8-488b-bc9c-5618ed37f95b\" class=\"plotly-graph-div\" style=\"height:525px; width:100%;\"></div>\n",
       "            <script type=\"text/javascript\">\n",
       "                require([\"plotly\"], function(Plotly) {\n",
       "                    window.PLOTLYENV=window.PLOTLYENV || {};\n",
       "                    window.PLOTLYENV.BASE_URL='https://plot.ly';\n",
       "                    \n",
       "                if (document.getElementById(\"57a83ffa-c2b8-488b-bc9c-5618ed37f95b\")) {\n",
       "                    Plotly.newPlot(\n",
       "                        '57a83ffa-c2b8-488b-bc9c-5618ed37f95b',\n",
       "                        [{\"marker\": {\"color\": \"rgba(255, 153, 51, 1.0)\", \"line\": {\"width\": 1.3}, \"opacity\": 0.8, \"size\": 12, \"symbol\": \"circle\"}, \"mode\": \"markers\", \"name\": \"Couple 1\", \"text\": [\"jespere\", \"expres\", \"unknown\", \"tite\", \"35\", \"ipad\", \"eme\", \"rel\\u00e2che\", \"top1\", \"chiants\", \"libres\", \"europeans\", \"investit\", \"usualsuspects\", \"davoir\", \"n\\u00e9ant\", \"mariages\", \"clinique\", \"scandaleux\", \"hallucinant\", \"josefine\", \"taule\", \"myl\\u00e8ne\", \"mouchoirs\", \"\\ud83c\\uddea\", \"forts\", \"mal\\u00e9diction\", \"mounet\", \"imp\\u00f4t\", \"\\ud83c\\uddf8\", \"union\", \"od\", \"refus\\u00e9\", \"animes\", \"gouffre\", \"keufs\", \"glr\", \"chips\", \"fallu\", \"nah\", \"jambon\", \"bouh\", \"grotte\", \"s\\u00e9nat\", \"pseudos\", \"etaient\", \"hac\", \"lazare\", \"cou\", \"attitude\", \"parlementaire\", \"irrespectueux\", \"d\\u00e9grad\\u00e9\", \"nain\", \"friendzone\", \"pl\", \"audace\", \"jambon\", \"autorit\\u00e9\", \"puisqu\", \"abandonne\", \"bonus\", \"enregistre\", \"insultes\", \"chaines\", \"laaaaa\", \"v\\u00e9ritable\", \"salles\", \"steak\", \"formule\", \"lignes\", \"applis\", \"\\ud83d\\udd35\", \"algerie\", \"sentie\", \"\\ufffd\", \"\\ud83c\\uddf5\", \"paradise\", \"p\\u00e9dophile\", \"ch\", \"solitude\", \"fesse\", \"1500\", \"honn\\u00eates\", \"jmet\", \"mmmh\", \"opposition\", \"cliqu\\u00e9\", \"soja\", \"george\", \"lev\\u00e9\", \"she\", \"dictionnaire\", \"foutais\", \"agenda\", \"emmerdale\", \"boo\", \"connect\\u00e9\", \"permanente\", \"c\\u00f4toie\"], \"textfont\": {\"color\": \"#4D5663\"}, \"type\": \"scatter\", \"x\": [0.18971291184425354, -13.376595497131348, -7.143337726593018, 8.697422981262207, 3.729607582092285, 0.15515482425689697, 10.43099308013916, -13.787681579589844, -14.182038307189941, -12.160065650939941, -10.012679100036621, 8.237752914428711, -8.339031219482422, -10.927335739135742, 0.07643964141607285, -7.862380027770996, -4.7952961921691895, -3.392298460006714, -10.732949256896973, -12.94685173034668, -0.9359094500541687, -13.289252281188965, -11.412304878234863, -9.232316970825195, 9.398859024047852, -12.820184707641602, -8.809255599975586, 2.8688127994537354, -6.393590450286865, 9.3445463180542, -4.695530891418457, -6.923864841461182, -10.073114395141602, -3.5849831104278564, -8.46623420715332, -9.041814804077148, 1.2390609979629517, 1.0087487697601318, -6.68055534362793, -9.07344913482666, -6.262753486633301, -10.77811050415039, -7.143013000488281, -10.566752433776855, -9.774430274963379, -11.32819938659668, -5.6434712409973145, 1.9304845333099365, 6.898077487945557, -0.6281344294548035, -11.155458450317383, -12.977995872497559, -4.6417388916015625, -13.44294261932373, -12.65981674194336, -13.427202224731445, -8.725191116333008, -6.609766006469727, -8.366985321044922, -13.8781099319458, -4.727835655212402, 2.3087081909179688, -12.279938697814941, 1.9921936988830566, 2.5728554725646973, -11.774728775024414, 2.657188653945923, 0.9472318887710571, -0.7012550830841064, -0.012053554877638817, 4.610002040863037, -10.408991813659668, 11.328656196594238, -9.38625717163086, -16.354969024658203, -9.368412017822266, 0.5809317231178284, -7.10563850402832, -1.0986080169677734, -5.4319281578063965, 5.596982479095459, -3.3166496753692627, -0.3067907989025116, -11.08601188659668, 3.9119200706481934, -13.34648323059082, 0.751353919506073, -14.28201675415039, -7.941221714019775, -7.725492477416992, 0.767456591129303, -12.414443016052246, -12.25296401977539, -14.605134963989258, -3.1691572666168213, -10.974295616149902, -6.849050521850586, -5.528537273406982, -4.4619035720825195, -10.129076957702637], \"y\": [5.768025875091553, 16.162517547607422, 14.287172317504883, 0.29165178537368774, 10.758792877197266, 13.200846672058105, 8.319723129272461, 11.979155540466309, 15.47880744934082, 3.4322075843811035, 14.421432495117188, 7.745513439178467, 14.611200332641602, 10.150768280029297, 12.22864055633545, 12.147427558898926, 15.192046165466309, 14.413729667663574, 4.657658576965332, 12.023111343383789, 8.19582462310791, 13.698251724243164, 12.70104694366455, 16.088998794555664, 7.411592960357666, 3.979766845703125, 18.239622116088867, 9.14865779876709, 12.007802963256836, 8.792951583862305, 13.495145797729492, 9.791727066040039, 3.679962158203125, 12.237226486206055, 16.77496337890625, 13.950858116149902, 15.504670143127441, 11.912227630615234, 8.624204635620117, 12.694525718688965, 17.51728057861328, 14.699653625488281, 19.099369049072266, 16.6534481048584, 10.409817695617676, 1.4049084186553955, 16.195632934570312, 16.52474021911621, 6.98643159866333, 17.154146194458008, 13.349802017211914, 8.539362907409668, 19.294832229614258, 17.253000259399414, 14.1971435546875, 4.503284454345703, 10.799124717712402, 16.964113235473633, 19.830751419067383, 10.770208358764648, 11.377481460571289, 11.122139930725098, 16.508487701416016, 13.082955360412598, 12.593897819519043, 17.65070152282715, 16.7260684967041, 11.058863639831543, 8.714125633239746, 16.395200729370117, 12.567678451538086, 12.795082092285156, 8.20655345916748, 17.382286071777344, 11.96209716796875, 15.043315887451172, 10.41549301147461, 12.667343139648438, 13.034869194030762, 14.563386917114258, 3.0190019607543945, 15.498889923095703, 11.221152305603027, 17.410688400268555, 8.57146167755127, 9.588751792907715, 17.062244415283203, 9.25301742553711, 18.22016716003418, 17.27565574645996, 3.6475560665130615, 19.101240158081055, 8.207682609558105, 11.557286262512207, 18.80462646484375, 15.822010040283203, 15.55080509185791, 8.223895072937012, 16.797155380249023, 11.514907836914062]}, {\"marker\": {\"color\": \"rgba(55, 128, 191, 1.0)\", \"line\": {\"width\": 1.3}, \"opacity\": 0.8, \"size\": 12, \"symbol\": \"circle\"}, \"mode\": \"markers\", \"name\": \"Couple 2\", \"text\": [\"jvoulais\", \"v\\u00e9rifier\", \"r\\u00e9flexion\", \"ha\", \"ajouter\", \"solo\", \"entrain\", \"\\ud83c\\uddeb\", \"impressionnant\", \"neige\", \"g\\u00e8re\", \"taff\", \"passion\", \"mens\", \"nez\", \"comptes\", \"back\", \"carri\\u00e8re\", \"\\ud83d\\ude1e\", \"sophie\", \"permis\", \"termine\", \"journal\", \"dise\", \"marie\", \"raclette\", \"crise\", \"croit\", \"r\\u00e8gles\", \"choqu\\u00e9\", \"rencontrer\", \"touche\", \"mdrrrrrr\", \"octobre\", \"uniquement\", \"alexia\", \"tente\", \"v\\u00e9lo\", \"naze\", \"28\", \"jalouse\", \"tente\", \"go\\u00fbts\", \"position\", \"saisons\", \"entretien\", \"cl\\u00e9\", \"inverse\", \"sud\", \"japonais\", \"bienvenue\", \"rendent\", \"madame\", \"gestion\", \"victoire\", \"tain\", \"regardant\", \"\\u00e9chec\", \"\\ud83c\\udf39\", \"gouvernement\", \"souris\", \"suisse\", \"ramener\", \"\\ud83e\\udd1e\", \"svt\", \"plaindre\", \"\\u270a\", \"refuse\", \"actuellement\", \"\\u00e9tude\", \"merciiiii\", \"lyon\", \"bjr\", \"tg\", \"trous\", \"bouffer\", \"familles\", \"choqu\\u00e9e\", \"90\", \"fatigu\\u00e9e\", \"lapin\", \"pay\\u00e9\", \"\\ud83e\\udd19\", \"regrette\", \"sah\", \"exp\\u00e9rience\", \"z\\u00e9ro\", \"manga\", \"batterie\", \"charge\", \"al\", \"sales\", \"calmer\", \"kiff\\u00e9\", \"\\ud83d\\ude30\", \"13\", \"animal\", \"2e\", \"r\\u00e9veille\", \"3h\"], \"textfont\": {\"color\": \"#4D5663\"}, \"type\": \"scatter\", \"x\": [6.930561542510986, -11.339241027832031, 4.35814094543457, -6.688205242156982, 13.721578598022461, 5.534554958343506, -2.5449328422546387, 14.375924110412598, -12.193451881408691, 0.7812336087226868, 3.124392032623291, 17.671113967895508, 13.738814353942871, -5.558788776397705, 15.693961143493652, -2.001516342163086, 8.081764221191406, 13.227348327636719, 6.8518877029418945, -8.878460884094238, 15.477564811706543, 9.676044464111328, 11.295626640319824, 4.291399955749512, 11.565967559814453, 7.044675827026367, 12.749382019042969, 0.4859369695186615, -6.205165863037109, -15.243486404418945, -16.95267677307129, 4.154515266418457, -7.743348598480225, 11.377949714660645, 7.936589241027832, 3.9021048545837402, 14.328001976013184, 12.756902694702148, -12.719439506530762, 15.03677749633789, -16.33715057373047, 14.328001976013184, 5.7894206047058105, 10.041784286499023, 6.9048542976379395, 13.21837043762207, 10.263219833374023, 13.505400657653809, 12.629798889160156, 7.975040435791016, -1.3601170778274536, -11.150002479553223, -4.021381378173828, 9.916902542114258, 15.101691246032715, -6.601705551147461, 7.848372459411621, 14.576156616210938, 15.557917594909668, 13.236590385437012, 9.677395820617676, 7.75652551651001, 10.347868919372559, 11.161760330200195, 7.087900638580322, 9.498709678649902, 12.376603126525879, 1.5583633184432983, 8.474845886230469, -0.9615557789802551, -5.300425052642822, -6.602208614349365, -5.155207633972168, -3.304396867752075, 8.492521286010742, 1.9474782943725586, 5.978638648986816, -13.618775367736816, 11.069061279296875, -0.30196505784988403, 7.335984706878662, -4.655282974243164, 14.51099967956543, -13.353278160095215, -14.396296501159668, 16.256324768066406, -9.914928436279297, 11.937883377075195, 12.729818344116211, 18.182506561279297, 6.709776401519775, -9.218973159790039, 8.20006275177002, 1.5037561655044556, 5.0816521644592285, 14.84864330291748, 11.813549995422363, 7.427882194519043, 5.667176723480225, 8.371610641479492], \"y\": [-8.838237762451172, 19.502901077270508, 7.89192533493042, -4.718554496765137, 1.7777864933013916, 4.636353969573975, -15.401956558227539, 8.745076179504395, 2.6578197479248047, -8.037839889526367, 4.5877861976623535, 11.947973251342773, -3.5360171794891357, 19.248916625976562, 8.453014373779297, 2.3684821128845215, 7.026695728302002, -4.158943176269531, 3.308387041091919, 0.8112285733222961, 2.0750226974487305, -9.414839744567871, 6.287059307098389, -11.17653751373291, -0.5058587193489075, -0.09109310805797577, -6.792744159698486, -8.612919807434082, 4.712928295135498, -4.336019039154053, 12.084030151367188, -12.924958229064941, 2.777966260910034, 11.238748550415039, 10.872150421142578, 16.06511116027832, -1.3177770376205444, 7.595553874969482, 1.1176180839538574, 11.71818733215332, -3.7681121826171875, -1.3177770376205444, 12.346017837524414, 0.5245699286460876, 11.168367385864258, 5.092453956604004, 3.1639630794525146, 2.57206392288208, 11.485588073730469, 12.195834159851074, 0.4879572093486786, -1.003286600112915, 4.036999702453613, 5.33971643447876, 0.8726930618286133, 6.634163856506348, 2.3136351108551025, 5.147830009460449, 3.638394355773926, 10.791189193725586, 1.3341193199157715, 9.972941398620605, 2.193953037261963, 3.3416056632995605, 1.1126786470413208, -5.4597368240356445, 5.9752397537231445, 5.39504861831665, -3.980746030807495, 16.523962020874023, 5.789031505584717, 5.723403453826904, 5.470015525817871, 5.468496322631836, 8.65483570098877, 5.9865217208862305, 11.204553604125977, -6.279151439666748, 12.500335693359375, -15.514140129089355, 8.582939147949219, 0.8179903030395508, 7.49334716796875, -2.5931642055511475, -4.346292018890381, 1.4263148307800293, 2.3593883514404297, 10.535378456115723, -1.5799362659454346, 12.37572956085205, 12.474969863891602, 4.265505313873291, -7.720022201538086, -10.321657180786133, 4.395866394042969, 12.491377830505371, 6.9416680335998535, 5.443120002746582, -14.701830863952637, -6.455531597137451]}, {\"marker\": {\"color\": \"rgba(50, 171, 96, 1.0)\", \"line\": {\"width\": 1.3}, \"opacity\": 0.8, \"size\": 12, \"symbol\": \"circle\"}, \"mode\": \"markers\", \"name\": \"Couple 3\", \"text\": [\"ligne\", \"bravo\", \"in\", \"aujourdhui\", \"rend\", \"nan\", \"pire\", \"chaque\", \"ya\", \"change\", \"mdrrr\", \"\\ud83d\\ude06\", \"connais\", \"clairement\", \"an\", \"min\", \"pourtant\", \"\\u00e9couter\", \"magnifique\", \"o\", \"force\", \"doigts\", \"perso\", \"compl\\u00e8tement\", \"grand\", \"content\", \"elles\", \"ptn\", \"tl\", \"inqui\\u00e8te\", \"tt\", \"filles\", \"hyper\", \"no\", \"\\ud83d\\ude2a\", \"facile\", \"ailleurs\", \"grande\", \"putain\", \"pense\", \"super\", \"savez\", \"\\ud83e\\udd14\", \"autant\", \"mdrrrr\", \"sortie\", \"partie\", \"moment\", \"bonjour\", \"vos\", \"tf1\", \"verra\", \"\\ud83d\\ude22\", \"dois\", \"eux\", \"g\\u00e9nial\", \"faites\", \"gars\", \"pcq\", \"coup\", \"quelques\", \"laisser\", \"contente\", \"serai\", \"jeux\", \"hyper\", \"stage\", \"aurait\", \"chaud\", \"joue\", \"janvier\", \"trucs\", \"\\ud83d\\ude14\", \"heureux\", \"quelle\", \"change\", \"chat\", \"peur\", \"jui\", \"r\\u00e9ponse\", \"heureuse\", \"sport\", \"eu\", \"parti\", \"pire\", \"corps\", \"15\", \"stp\", \"the\", \"quel\", \"semaine\", \"maison\", \"porte\", \"8\", \"bac\", \"chang\\u00e9\", \"vrais\", \"ahah\", \"\\ud83d\\ude29\", \"allez\"], \"textfont\": {\"color\": \"#4D5663\"}, \"type\": \"scatter\", \"x\": [18.441570281982422, -2.991568088531494, 18.331785202026367, 2.1444880962371826, 4.701607704162598, -9.184850692749023, 12.075874328613281, -0.5667251348495483, 11.080432891845703, 5.952004432678223, -15.144390106201172, 19.19224739074707, 12.829442024230957, 2.767225742340088, 20.87085723876953, 17.998212814331055, -10.397807121276855, 15.419203758239746, -14.374449729919434, 14.217612266540527, 14.786788940429688, -3.695294141769409, -7.7046074867248535, -9.97048568725586, 21.14818572998047, -3.6167426109313965, 17.75673484802246, 2.0710628032684326, 17.600011825561523, 18.119548797607422, 14.900354385375977, -6.284825325012207, -5.394423484802246, -11.55542278289795, 9.61587905883789, -11.258795738220215, -17.79989242553711, 17.286720275878906, 2.3412296772003174, 10.034613609313965, -1.128160834312439, 1.6893006563186646, 14.368839263916016, 1.1715704202651978, -16.846723556518555, 12.364221572875977, 14.329776763916016, 18.22056770324707, -0.9989730715751648, -5.959966659545898, -7.917210578918457, -11.230563163757324, 16.72735595703125, 17.346635818481445, -6.919592380523682, -10.729126930236816, 2.5327513217926025, -5.02598762512207, -2.118960380554199, -3.2149083614349365, 17.320106506347656, 14.65608024597168, -0.23232020437717438, 8.981406211853027, -2.2458057403564453, -5.000802516937256, 16.017242431640625, -8.753305435180664, -12.854324340820312, 15.315752029418945, 15.609482765197754, -10.105413436889648, 4.804392337799072, -13.754758834838867, -2.0968210697174072, 5.952004432678223, 20.28451156616211, -2.48170804977417, 7.372940540313721, 17.405969619750977, -1.164612889289856, 9.896150588989258, -0.45765379071235657, -10.42631721496582, 12.076078414916992, 20.41229248046875, 14.700300216674805, 24.587100982666016, 14.951766967773438, 12.811784744262695, 20.344541549682617, 17.564620971679688, 11.265679359436035, 13.312478065490723, 18.46473503112793, -5.300021171569824, -7.446639060974121, -6.919641494750977, 13.215495109558105, 4.774806499481201], \"y\": [5.584315299987793, -1.9630889892578125, 7.797603607177734, -10.792600631713867, -16.211137771606445, -5.959975242614746, 19.405681610107422, -20.56194305419922, 18.36982536315918, -13.40705394744873, -6.126552581787109, 12.871133804321289, 12.46856689453125, -11.45654010772705, 6.274985313415527, 6.4988203048706055, -6.9743852615356445, -1.6234923601150513, -6.200414657592773, 2.724477529525757, -2.822603225708008, 3.220187187194824, -0.044297367334365845, 0.019943546503782272, 4.888281345367432, -13.293065071105957, 19.37852668762207, -15.051238059997559, -3.406531572341919, 0.12921202182769775, 17.055744171142578, -0.9173293113708496, -18.453886032104492, -0.32458803057670593, -11.492574691772461, -6.861336708068848, 0.34486085176467896, -8.850726127624512, -14.380805969238281, -14.74023723602295, -16.69939613342285, -3.9819815158843994, -15.48680305480957, -15.542510986328125, -0.08802725374698639, -2.5173912048339844, -7.627484321594238, 18.018024444580078, -3.5470023155212402, -6.963251113891602, -2.5328450202941895, -2.0822970867156982, -6.9996771812438965, -7.642273426055908, -8.560117721557617, -7.481098175048828, -4.5323662757873535, -1.9274793863296509, -15.419651985168457, 9.510777473449707, 17.624862670898438, -8.037100791931152, -14.054402351379395, -13.234553337097168, 0.4311884343624115, -18.29294776916504, 6.353795051574707, -4.848602294921875, -7.866849422454834, 16.772991180419922, 19.62870979309082, -8.660152435302734, -10.106363296508789, -4.32436990737915, -17.923036575317383, -13.40705394744873, 6.556642532348633, -12.659049034118652, -14.142316818237305, 0.0057295020669698715, -15.700576782226562, -1.6053324937820435, -3.396603584289551, -2.279963970184326, 19.404701232910156, 5.7596516609191895, 15.897907257080078, 2.0554563999176025, 9.501511573791504, 15.217606544494629, -9.795341491699219, -9.570501327514648, -2.8820271492004395, 15.11683464050293, 7.001266956329346, -0.31298598647117615, -2.214035987854004, 2.619600772857666, -10.105774879455566, -5.602698802947998]}, {\"marker\": {\"color\": \"rgba(128, 0, 128, 1.0)\", \"line\": {\"width\": 1.3}, \"opacity\": 0.8, \"size\": 12, \"symbol\": \"circle\"}, \"mode\": \"markers\", \"name\": \"Couple 4\", \"text\": [\"pour\", \"qui\", \"\\ud83d\\ude2d\", \"vu\", \"mal\", \"y\", \"te\", \"faire\", \"qui\", \"lui\", \"fais\", \"\\u00e7a\", \"qu\", \"elle\", \"est\", \"ou\", \"toujours\", \"vrai\", \"comme\", \"fais\", \"me\", \"moi\", \"donc\", \"comment\", \"es\", \"sur\", \"faut\", \"rien\", \"comme\", \"d\", \"vous\", \"alors\", \"m\", \"\\ufe0f\", \"\\u00e0\", \"trop\", \"ma\", \"dire\", \"sur\", \"mal\", \"jamais\", \"merci\", \"s\", \"mdr\", \"lowfrequencyword\", \"bien\", \"temps\", \"voir\", \"lui\", \"y\", \"2\", \"vous\", \"ta\", \"bon\", \"on\", \"donc\", \"ton\", \"ta\", \"peut\", \"aime\", \"\\u00eatre\", \"envie\", \"2\", \"que\", \"ont\", \"rien\", \"sa\", \"ne\", \"nous\", \"avoir\", \"on\", \"ai\", \"vie\", \"que\", \"tr\\u00e8s\", \"donc\", \"vais\", \"\\u00eatre\", \"dire\", \"ne\", \"bonne\", \"sont\", \"alors\", \"qu\", \"j\", \"nickname\", \"l\\u00e0\", \"ca\", \"va\", \"encore\", \"sais\", \"tous\", \"moi\", \"temps\", \"mes\", \"apr\\u00e8s\", \"rien\", \"sur\", \"plus\", \"avoir\"], \"textfont\": {\"color\": \"#4D5663\"}, \"type\": \"scatter\", \"x\": [-17.045166015625, 15.289188385009766, 17.820194244384766, 1.242324709892273, -3.2724111080169678, 2.556511878967285, -11.127167701721191, 18.6147403717041, 15.289188385009766, -11.027630805969238, 18.39059066772461, -1.7517685890197754, 4.103569507598877, 0.8709919452667236, 10.989677429199219, 23.626054763793945, -16.72751235961914, 9.714132308959961, -9.380297660827637, 18.535276412963867, -1.6640231609344482, -11.426373481750488, -9.951516151428223, -12.119763374328613, 21.707555770874023, -19.26495361328125, 2.9088780879974365, -8.701902389526367, -9.380297660827637, -22.488492965698242, -3.1472551822662354, 2.457221031188965, 8.594990730285645, 2.6946732997894287, 20.407428741455078, -2.843057155609131, -3.3466756343841553, -0.19961419701576233, -19.39470863342285, -3.4941468238830566, -10.280348777770996, -1.9522037506103516, 8.382896423339844, 11.41801643371582, -1.3280988931655884, -7.901442050933838, -11.497105598449707, 16.240894317626953, -11.034965515136719, 2.556511878967285, 16.568918228149414, -3.1472551822662354, -2.4032046794891357, -3.276085615158081, 14.706047058105469, -10.145769119262695, -22.47566032409668, -2.4032046794891357, -8.865764617919922, 2.852003335952759, -0.8262723684310913, 4.357292652130127, 16.333011627197266, -12.318381309509277, -4.869755744934082, -8.597689628601074, -3.1637511253356934, 11.903175354003906, -6.540788173675537, 25.209800720214844, 14.706034660339355, 3.217151403427124, 21.169160842895508, -12.318379402160645, -4.174413681030273, -10.607438087463379, 20.03972625732422, -0.826184868812561, 0.07742908596992493, 11.903175354003906, 4.557044982910156, -4.934183120727539, 2.7455556392669678, 4.103569507598877, -1.3842297792434692, -5.336300373077393, 12.313349723815918, -1.42568039894104, 20.534719467163086, 3.736591339111328, 10.481607437133789, -6.065734386444092, -11.426373481750488, -11.497105598449707, -7.658713340759277, 16.31806755065918, -8.138721466064453, 24.287900924682617, -5.136911392211914, 25.21000862121582], \"y\": [-13.09274959564209, -14.821918487548828, -4.447245121002197, -3.6665725708007812, -19.121843338012695, -1.3418787717819214, -20.412315368652344, -11.54820442199707, -14.821918487548828, -19.471403121948242, -9.558035850524902, -21.081457138061523, -22.22686767578125, -21.479171752929688, 19.53610610961914, 2.9916162490844727, -0.1265118271112442, -17.779781341552734, -24.348052978515625, -9.088221549987793, -24.828479766845703, -12.403848648071289, 5.6777262687683105, -18.1274356842041, 3.722991466522217, -11.983072280883789, -15.820319175720215, -14.0789155960083, -24.348052978515625, 5.349089622497559, -6.372692584991455, -9.379264831542969, -20.882728576660156, 0.07366958260536194, -6.3288469314575195, -21.127201080322266, -23.869403839111328, -18.019559860229492, -12.41705322265625, -19.65205955505371, -11.44573974609375, -3.6489522457122803, -21.065698623657227, -7.26216983795166, 0.8159728646278381, -15.439690589904785, -14.244498252868652, -8.456603050231934, -19.47220230102539, -1.3418787717819214, 18.766225814819336, -6.372692584991455, -25.564390182495117, -1.861930012702942, -19.722225189208984, 6.109248161315918, 5.328683853149414, -25.564390182495117, -24.686132431030273, -2.8585474491119385, -26.42473602294922, -7.504444122314453, 18.450031280517578, -16.93517303466797, -7.102885723114014, -13.45654010772705, -24.12112045288086, -15.618754386901855, -7.737074375152588, 1.345558762550354, -19.722278594970703, -2.0183792114257812, -10.23182201385498, -16.93528175354004, -19.243432998657227, 5.851788520812988, -10.98382568359375, -26.424800872802734, -17.863576889038086, -15.618754386901855, -6.725265979766846, -9.284663200378418, -9.488917350769043, -22.22686767578125, -12.440742492675781, -4.198052406311035, -10.724570274353027, -21.648252487182617, -11.17014217376709, -11.045347213745117, -17.16929817199707, -5.564344882965088, -12.403848648071289, -14.244498252868652, -10.100330352783203, -9.608134269714355, -13.827919006347656, 5.940135955810547, -17.666013717651367, 1.3440632820129395]}],\n",
       "                        {\"legend\": {\"bgcolor\": \"#F5F6F9\", \"font\": {\"color\": \"#4D5663\"}}, \"paper_bgcolor\": \"#F5F6F9\", \"plot_bgcolor\": \"#F5F6F9\", \"template\": {\"data\": {\"bar\": [{\"error_x\": {\"color\": \"#2a3f5f\"}, \"error_y\": {\"color\": \"#2a3f5f\"}, \"marker\": {\"line\": {\"color\": \"#E5ECF6\", \"width\": 0.5}}, \"type\": \"bar\"}], \"barpolar\": [{\"marker\": {\"line\": {\"color\": \"#E5ECF6\", \"width\": 0.5}}, \"type\": \"barpolar\"}], \"carpet\": [{\"aaxis\": {\"endlinecolor\": \"#2a3f5f\", \"gridcolor\": \"white\", \"linecolor\": \"white\", \"minorgridcolor\": \"white\", \"startlinecolor\": \"#2a3f5f\"}, \"baxis\": {\"endlinecolor\": \"#2a3f5f\", \"gridcolor\": \"white\", \"linecolor\": \"white\", \"minorgridcolor\": \"white\", \"startlinecolor\": \"#2a3f5f\"}, \"type\": \"carpet\"}], \"choropleth\": [{\"colorbar\": {\"outlinewidth\": 0, \"ticks\": \"\"}, \"type\": \"choropleth\"}], \"contour\": [{\"colorbar\": {\"outlinewidth\": 0, \"ticks\": \"\"}, \"colorscale\": [[0.0, \"#0d0887\"], [0.1111111111111111, \"#46039f\"], [0.2222222222222222, \"#7201a8\"], [0.3333333333333333, \"#9c179e\"], [0.4444444444444444, \"#bd3786\"], [0.5555555555555556, \"#d8576b\"], [0.6666666666666666, \"#ed7953\"], [0.7777777777777778, \"#fb9f3a\"], [0.8888888888888888, \"#fdca26\"], [1.0, \"#f0f921\"]], \"type\": \"contour\"}], \"contourcarpet\": [{\"colorbar\": {\"outlinewidth\": 0, \"ticks\": \"\"}, \"type\": \"contourcarpet\"}], \"heatmap\": [{\"colorbar\": {\"outlinewidth\": 0, \"ticks\": \"\"}, \"colorscale\": [[0.0, \"#0d0887\"], [0.1111111111111111, \"#46039f\"], [0.2222222222222222, \"#7201a8\"], [0.3333333333333333, \"#9c179e\"], [0.4444444444444444, \"#bd3786\"], [0.5555555555555556, \"#d8576b\"], [0.6666666666666666, \"#ed7953\"], [0.7777777777777778, \"#fb9f3a\"], [0.8888888888888888, \"#fdca26\"], [1.0, \"#f0f921\"]], \"type\": \"heatmap\"}], \"heatmapgl\": [{\"colorbar\": {\"outlinewidth\": 0, \"ticks\": \"\"}, \"colorscale\": [[0.0, \"#0d0887\"], [0.1111111111111111, \"#46039f\"], [0.2222222222222222, \"#7201a8\"], [0.3333333333333333, \"#9c179e\"], [0.4444444444444444, \"#bd3786\"], [0.5555555555555556, \"#d8576b\"], [0.6666666666666666, \"#ed7953\"], [0.7777777777777778, \"#fb9f3a\"], [0.8888888888888888, \"#fdca26\"], [1.0, \"#f0f921\"]], \"type\": \"heatmapgl\"}], \"histogram\": [{\"marker\": {\"colorbar\": {\"outlinewidth\": 0, \"ticks\": \"\"}}, \"type\": \"histogram\"}], \"histogram2d\": [{\"colorbar\": {\"outlinewidth\": 0, \"ticks\": \"\"}, \"colorscale\": [[0.0, \"#0d0887\"], [0.1111111111111111, \"#46039f\"], [0.2222222222222222, \"#7201a8\"], [0.3333333333333333, \"#9c179e\"], [0.4444444444444444, \"#bd3786\"], [0.5555555555555556, \"#d8576b\"], [0.6666666666666666, \"#ed7953\"], [0.7777777777777778, \"#fb9f3a\"], [0.8888888888888888, \"#fdca26\"], [1.0, \"#f0f921\"]], \"type\": \"histogram2d\"}], \"histogram2dcontour\": [{\"colorbar\": {\"outlinewidth\": 0, \"ticks\": \"\"}, \"colorscale\": [[0.0, \"#0d0887\"], [0.1111111111111111, \"#46039f\"], [0.2222222222222222, \"#7201a8\"], [0.3333333333333333, \"#9c179e\"], [0.4444444444444444, \"#bd3786\"], [0.5555555555555556, \"#d8576b\"], [0.6666666666666666, \"#ed7953\"], [0.7777777777777778, \"#fb9f3a\"], [0.8888888888888888, \"#fdca26\"], [1.0, \"#f0f921\"]], \"type\": \"histogram2dcontour\"}], \"mesh3d\": [{\"colorbar\": {\"outlinewidth\": 0, \"ticks\": \"\"}, \"type\": \"mesh3d\"}], \"parcoords\": [{\"line\": {\"colorbar\": {\"outlinewidth\": 0, \"ticks\": \"\"}}, \"type\": \"parcoords\"}], \"pie\": [{\"automargin\": true, \"type\": \"pie\"}], \"scatter\": [{\"marker\": {\"colorbar\": {\"outlinewidth\": 0, \"ticks\": \"\"}}, \"type\": \"scatter\"}], \"scatter3d\": [{\"line\": {\"colorbar\": {\"outlinewidth\": 0, \"ticks\": \"\"}}, \"marker\": {\"colorbar\": {\"outlinewidth\": 0, \"ticks\": \"\"}}, \"type\": \"scatter3d\"}], \"scattercarpet\": [{\"marker\": {\"colorbar\": {\"outlinewidth\": 0, \"ticks\": \"\"}}, \"type\": \"scattercarpet\"}], \"scattergeo\": [{\"marker\": {\"colorbar\": {\"outlinewidth\": 0, \"ticks\": \"\"}}, \"type\": \"scattergeo\"}], \"scattergl\": [{\"marker\": {\"colorbar\": {\"outlinewidth\": 0, \"ticks\": \"\"}}, \"type\": \"scattergl\"}], \"scattermapbox\": [{\"marker\": {\"colorbar\": {\"outlinewidth\": 0, \"ticks\": \"\"}}, \"type\": \"scattermapbox\"}], \"scatterpolar\": [{\"marker\": {\"colorbar\": {\"outlinewidth\": 0, \"ticks\": \"\"}}, \"type\": \"scatterpolar\"}], \"scatterpolargl\": [{\"marker\": {\"colorbar\": {\"outlinewidth\": 0, \"ticks\": \"\"}}, \"type\": \"scatterpolargl\"}], \"scatterternary\": [{\"marker\": {\"colorbar\": {\"outlinewidth\": 0, \"ticks\": \"\"}}, \"type\": \"scatterternary\"}], \"surface\": [{\"colorbar\": {\"outlinewidth\": 0, \"ticks\": \"\"}, \"colorscale\": [[0.0, \"#0d0887\"], [0.1111111111111111, \"#46039f\"], [0.2222222222222222, \"#7201a8\"], [0.3333333333333333, \"#9c179e\"], [0.4444444444444444, \"#bd3786\"], [0.5555555555555556, \"#d8576b\"], [0.6666666666666666, \"#ed7953\"], [0.7777777777777778, \"#fb9f3a\"], [0.8888888888888888, \"#fdca26\"], [1.0, \"#f0f921\"]], \"type\": \"surface\"}], \"table\": [{\"cells\": {\"fill\": {\"color\": \"#EBF0F8\"}, \"line\": {\"color\": \"white\"}}, \"header\": {\"fill\": {\"color\": \"#C8D4E3\"}, \"line\": {\"color\": \"white\"}}, \"type\": \"table\"}]}, \"layout\": {\"annotationdefaults\": {\"arrowcolor\": \"#2a3f5f\", \"arrowhead\": 0, \"arrowwidth\": 1}, \"coloraxis\": {\"colorbar\": {\"outlinewidth\": 0, \"ticks\": \"\"}}, \"colorscale\": {\"diverging\": [[0, \"#8e0152\"], [0.1, \"#c51b7d\"], [0.2, \"#de77ae\"], [0.3, \"#f1b6da\"], [0.4, \"#fde0ef\"], [0.5, \"#f7f7f7\"], [0.6, \"#e6f5d0\"], [0.7, \"#b8e186\"], [0.8, \"#7fbc41\"], [0.9, \"#4d9221\"], [1, \"#276419\"]], \"sequential\": [[0.0, \"#0d0887\"], [0.1111111111111111, \"#46039f\"], [0.2222222222222222, \"#7201a8\"], [0.3333333333333333, \"#9c179e\"], [0.4444444444444444, \"#bd3786\"], [0.5555555555555556, \"#d8576b\"], [0.6666666666666666, \"#ed7953\"], [0.7777777777777778, \"#fb9f3a\"], [0.8888888888888888, \"#fdca26\"], [1.0, \"#f0f921\"]], \"sequentialminus\": [[0.0, \"#0d0887\"], [0.1111111111111111, \"#46039f\"], [0.2222222222222222, \"#7201a8\"], [0.3333333333333333, \"#9c179e\"], [0.4444444444444444, \"#bd3786\"], [0.5555555555555556, \"#d8576b\"], [0.6666666666666666, \"#ed7953\"], [0.7777777777777778, \"#fb9f3a\"], [0.8888888888888888, \"#fdca26\"], [1.0, \"#f0f921\"]]}, \"colorway\": [\"#636efa\", \"#EF553B\", \"#00cc96\", \"#ab63fa\", \"#FFA15A\", \"#19d3f3\", \"#FF6692\", \"#B6E880\", \"#FF97FF\", \"#FECB52\"], \"font\": {\"color\": \"#2a3f5f\"}, \"geo\": {\"bgcolor\": \"white\", \"lakecolor\": \"white\", \"landcolor\": \"#E5ECF6\", \"showlakes\": true, \"showland\": true, \"subunitcolor\": \"white\"}, \"hoverlabel\": {\"align\": \"left\"}, \"hovermode\": \"closest\", \"mapbox\": {\"style\": \"light\"}, \"paper_bgcolor\": \"white\", \"plot_bgcolor\": \"#E5ECF6\", \"polar\": {\"angularaxis\": {\"gridcolor\": \"white\", \"linecolor\": \"white\", \"ticks\": \"\"}, \"bgcolor\": \"#E5ECF6\", \"radialaxis\": {\"gridcolor\": \"white\", \"linecolor\": \"white\", \"ticks\": \"\"}}, \"scene\": {\"xaxis\": {\"backgroundcolor\": \"#E5ECF6\", \"gridcolor\": \"white\", \"gridwidth\": 2, \"linecolor\": \"white\", \"showbackground\": true, \"ticks\": \"\", \"zerolinecolor\": \"white\"}, \"yaxis\": {\"backgroundcolor\": \"#E5ECF6\", \"gridcolor\": \"white\", \"gridwidth\": 2, \"linecolor\": \"white\", \"showbackground\": true, \"ticks\": \"\", \"zerolinecolor\": \"white\"}, \"zaxis\": {\"backgroundcolor\": \"#E5ECF6\", \"gridcolor\": \"white\", \"gridwidth\": 2, \"linecolor\": \"white\", \"showbackground\": true, \"ticks\": \"\", \"zerolinecolor\": \"white\"}}, \"shapedefaults\": {\"line\": {\"color\": \"#2a3f5f\"}}, \"ternary\": {\"aaxis\": {\"gridcolor\": \"white\", \"linecolor\": \"white\", \"ticks\": \"\"}, \"baxis\": {\"gridcolor\": \"white\", \"linecolor\": \"white\", \"ticks\": \"\"}, \"bgcolor\": \"#E5ECF6\", \"caxis\": {\"gridcolor\": \"white\", \"linecolor\": \"white\", \"ticks\": \"\"}}, \"title\": {\"x\": 0.05}, \"xaxis\": {\"automargin\": true, \"gridcolor\": \"white\", \"linecolor\": \"white\", \"ticks\": \"\", \"title\": {\"standoff\": 15}, \"zerolinecolor\": \"white\", \"zerolinewidth\": 2}, \"yaxis\": {\"automargin\": true, \"gridcolor\": \"white\", \"linecolor\": \"white\", \"ticks\": \"\", \"title\": {\"standoff\": 15}, \"zerolinecolor\": \"white\", \"zerolinewidth\": 2}}}, \"title\": {\"font\": {\"color\": \"#4D5663\"}, \"text\": \"TSNE\"}, \"xaxis\": {\"gridcolor\": \"#E1E5ED\", \"showgrid\": true, \"tickfont\": {\"color\": \"#4D5663\"}, \"title\": {\"font\": {\"color\": \"#4D5663\"}, \"text\": \"Axe 1\"}, \"zerolinecolor\": \"#E1E5ED\"}, \"yaxis\": {\"gridcolor\": \"#E1E5ED\", \"showgrid\": true, \"tickfont\": {\"color\": \"#4D5663\"}, \"title\": {\"font\": {\"color\": \"#4D5663\"}, \"text\": \"Axe 2\"}, \"zerolinecolor\": \"#E1E5ED\"}},\n",
       "                        {\"showLink\": true, \"linkText\": \"Export to plot.ly\", \"plotlyServerURL\": \"https://plot.ly\", \"responsive\": true}\n",
       "                    ).then(function(){\n",
       "                            \n",
       "var gd = document.getElementById('57a83ffa-c2b8-488b-bc9c-5618ed37f95b');\n",
       "var x = new MutationObserver(function (mutations, observer) {{\n",
       "        var display = window.getComputedStyle(gd).display;\n",
       "        if (!display || display === 'none') {{\n",
       "            console.log([gd, 'removed!']);\n",
       "            Plotly.purge(gd);\n",
       "            observer.disconnect();\n",
       "        }}\n",
       "}});\n",
       "\n",
       "// Listen for the removal of the full notebook cells\n",
       "var notebookContainer = gd.closest('#notebook-container');\n",
       "if (notebookContainer) {{\n",
       "    x.observe(notebookContainer, {childList: true});\n",
       "}}\n",
       "\n",
       "// Listen for the clearing of the current output cell\n",
       "var outputEl = gd.closest('.output');\n",
       "if (outputEl) {{\n",
       "    x.observe(outputEl, {childList: true});\n",
       "}}\n",
       "\n",
       "                        })\n",
       "                };\n",
       "                });\n",
       "            </script>\n",
       "        </div>"
      ]
     },
     "metadata": {},
     "output_type": "display_data"
    }
   ],
   "source": [
    "tsne_graph(liste2, statique = False,\n",
    "           nom_couples_explicite = True)#Paramètre ne marche pas : a debuger ?"
   ]
  },
  {
   "cell_type": "markdown",
   "metadata": {},
   "source": [
    "## 5. Human judgement"
   ]
  },
  {
   "cell_type": "code",
   "execution_count": 54,
   "metadata": {},
   "outputs": [
    {
     "data": {
      "text/html": [
       "<div>\n",
       "<style scoped>\n",
       "    .dataframe tbody tr th:only-of-type {\n",
       "        vertical-align: middle;\n",
       "    }\n",
       "\n",
       "    .dataframe tbody tr th {\n",
       "        vertical-align: top;\n",
       "    }\n",
       "\n",
       "    .dataframe thead th {\n",
       "        text-align: right;\n",
       "    }\n",
       "</style>\n",
       "<table border=\"1\" class=\"dataframe\">\n",
       "  <thead>\n",
       "    <tr style=\"text-align: right;\">\n",
       "      <th></th>\n",
       "      <th>word1</th>\n",
       "      <th>word2</th>\n",
       "      <th>corr</th>\n",
       "    </tr>\n",
       "  </thead>\n",
       "  <tbody>\n",
       "    <tr>\n",
       "      <th>0</th>\n",
       "      <td>corde</td>\n",
       "      <td>sourire</td>\n",
       "      <td>0.00</td>\n",
       "    </tr>\n",
       "    <tr>\n",
       "      <th>1</th>\n",
       "      <td>midi</td>\n",
       "      <td>ficelle</td>\n",
       "      <td>0.00</td>\n",
       "    </tr>\n",
       "    <tr>\n",
       "      <th>2</th>\n",
       "      <td>coq</td>\n",
       "      <td>périple</td>\n",
       "      <td>0.06</td>\n",
       "    </tr>\n",
       "    <tr>\n",
       "      <th>3</th>\n",
       "      <td>fruit</td>\n",
       "      <td>fournaise</td>\n",
       "      <td>0.11</td>\n",
       "    </tr>\n",
       "    <tr>\n",
       "      <th>4</th>\n",
       "      <td>autographe</td>\n",
       "      <td>rivage</td>\n",
       "      <td>0.00</td>\n",
       "    </tr>\n",
       "    <tr>\n",
       "      <th>...</th>\n",
       "      <td>...</td>\n",
       "      <td>...</td>\n",
       "      <td>...</td>\n",
       "    </tr>\n",
       "    <tr>\n",
       "      <th>60</th>\n",
       "      <td>coussin</td>\n",
       "      <td>oreiller</td>\n",
       "      <td>3.00</td>\n",
       "    </tr>\n",
       "    <tr>\n",
       "      <th>61</th>\n",
       "      <td>cimetière</td>\n",
       "      <td>cimetière</td>\n",
       "      <td>4.00</td>\n",
       "    </tr>\n",
       "    <tr>\n",
       "      <th>62</th>\n",
       "      <td>automobile</td>\n",
       "      <td>auto</td>\n",
       "      <td>3.94</td>\n",
       "    </tr>\n",
       "    <tr>\n",
       "      <th>63</th>\n",
       "      <td>joyau</td>\n",
       "      <td>bijou</td>\n",
       "      <td>3.22</td>\n",
       "    </tr>\n",
       "    <tr>\n",
       "      <th>64</th>\n",
       "      <td>midi</td>\n",
       "      <td>dîner</td>\n",
       "      <td>2.17</td>\n",
       "    </tr>\n",
       "  </tbody>\n",
       "</table>\n",
       "<p>65 rows × 3 columns</p>\n",
       "</div>"
      ],
      "text/plain": [
       "         word1      word2  corr\n",
       "0        corde    sourire  0.00\n",
       "1         midi    ficelle  0.00\n",
       "2          coq    périple  0.06\n",
       "3        fruit  fournaise  0.11\n",
       "4   autographe     rivage  0.00\n",
       "..         ...        ...   ...\n",
       "60     coussin   oreiller  3.00\n",
       "61   cimetière  cimetière  4.00\n",
       "62  automobile       auto  3.94\n",
       "63       joyau      bijou  3.22\n",
       "64        midi      dîner  2.17\n",
       "\n",
       "[65 rows x 3 columns]"
      ]
     },
     "execution_count": 54,
     "metadata": {},
     "output_type": "execute_result"
    }
   ],
   "source": [
    "df_base = pd.read_csv('data_bis/word_similarity.csv', sep=\";\")\n",
    "df_base"
   ]
  },
  {
   "cell_type": "code",
   "execution_count": 55,
   "metadata": {},
   "outputs": [
    {
     "name": "stdout",
     "output_type": "stream",
     "text": [
      "65\n",
      "13\n"
     ]
    },
    {
     "data": {
      "text/html": [
       "<div>\n",
       "<style scoped>\n",
       "    .dataframe tbody tr th:only-of-type {\n",
       "        vertical-align: middle;\n",
       "    }\n",
       "\n",
       "    .dataframe tbody tr th {\n",
       "        vertical-align: top;\n",
       "    }\n",
       "\n",
       "    .dataframe thead th {\n",
       "        text-align: right;\n",
       "    }\n",
       "</style>\n",
       "<table border=\"1\" class=\"dataframe\">\n",
       "  <thead>\n",
       "    <tr style=\"text-align: right;\">\n",
       "      <th></th>\n",
       "      <th>word1</th>\n",
       "      <th>word2</th>\n",
       "      <th>corr</th>\n",
       "      <th>corr_word2vec_cos</th>\n",
       "      <th>corr_word2vec_eucl</th>\n",
       "    </tr>\n",
       "  </thead>\n",
       "  <tbody>\n",
       "    <tr>\n",
       "      <th>0</th>\n",
       "      <td>corde</td>\n",
       "      <td>sourire</td>\n",
       "      <td>0.00</td>\n",
       "      <td>0.861048</td>\n",
       "      <td>1.971783</td>\n",
       "    </tr>\n",
       "    <tr>\n",
       "      <th>16</th>\n",
       "      <td>côte</td>\n",
       "      <td>forêt</td>\n",
       "      <td>0.22</td>\n",
       "      <td>0.896572</td>\n",
       "      <td>2.774198</td>\n",
       "    </tr>\n",
       "    <tr>\n",
       "      <th>20</th>\n",
       "      <td>garçon</td>\n",
       "      <td>sage</td>\n",
       "      <td>0.29</td>\n",
       "      <td>0.770963</td>\n",
       "      <td>3.267358</td>\n",
       "    </tr>\n",
       "    <tr>\n",
       "      <th>23</th>\n",
       "      <td>gars</td>\n",
       "      <td>sorcier</td>\n",
       "      <td>0.44</td>\n",
       "      <td>0.089203</td>\n",
       "      <td>1.803522</td>\n",
       "    </tr>\n",
       "    <tr>\n",
       "      <th>28</th>\n",
       "      <td>oiseau</td>\n",
       "      <td>bois</td>\n",
       "      <td>0.06</td>\n",
       "      <td>0.654386</td>\n",
       "      <td>2.053173</td>\n",
       "    </tr>\n",
       "    <tr>\n",
       "      <th>33</th>\n",
       "      <td>auto</td>\n",
       "      <td>voyage</td>\n",
       "      <td>0.33</td>\n",
       "      <td>0.531213</td>\n",
       "      <td>2.832017</td>\n",
       "    </tr>\n",
       "    <tr>\n",
       "      <th>35</th>\n",
       "      <td>verre</td>\n",
       "      <td>bijou</td>\n",
       "      <td>0.56</td>\n",
       "      <td>0.671575</td>\n",
       "      <td>1.652271</td>\n",
       "    </tr>\n",
       "    <tr>\n",
       "      <th>38</th>\n",
       "      <td>frère</td>\n",
       "      <td>gars</td>\n",
       "      <td>2.00</td>\n",
       "      <td>0.635590</td>\n",
       "      <td>6.428527</td>\n",
       "    </tr>\n",
       "    <tr>\n",
       "      <th>39</th>\n",
       "      <td>sage</td>\n",
       "      <td>sorcier</td>\n",
       "      <td>0.83</td>\n",
       "      <td>0.862786</td>\n",
       "      <td>2.340675</td>\n",
       "    </tr>\n",
       "    <tr>\n",
       "      <th>43</th>\n",
       "      <td>nourriture</td>\n",
       "      <td>fruit</td>\n",
       "      <td>2.78</td>\n",
       "      <td>0.893401</td>\n",
       "      <td>2.865162</td>\n",
       "    </tr>\n",
       "    <tr>\n",
       "      <th>56</th>\n",
       "      <td>forêt</td>\n",
       "      <td>bois</td>\n",
       "      <td>3.72</td>\n",
       "      <td>0.662411</td>\n",
       "      <td>2.248621</td>\n",
       "    </tr>\n",
       "    <tr>\n",
       "      <th>59</th>\n",
       "      <td>garçon</td>\n",
       "      <td>gars</td>\n",
       "      <td>3.83</td>\n",
       "      <td>0.391668</td>\n",
       "      <td>2.764225</td>\n",
       "    </tr>\n",
       "    <tr>\n",
       "      <th>64</th>\n",
       "      <td>midi</td>\n",
       "      <td>dîner</td>\n",
       "      <td>2.17</td>\n",
       "      <td>0.539948</td>\n",
       "      <td>2.000835</td>\n",
       "    </tr>\n",
       "  </tbody>\n",
       "</table>\n",
       "</div>"
      ],
      "text/plain": [
       "         word1    word2  corr  corr_word2vec_cos  corr_word2vec_eucl\n",
       "0        corde  sourire  0.00           0.861048            1.971783\n",
       "16        côte    forêt  0.22           0.896572            2.774198\n",
       "20      garçon     sage  0.29           0.770963            3.267358\n",
       "23        gars  sorcier  0.44           0.089203            1.803522\n",
       "28      oiseau     bois  0.06           0.654386            2.053173\n",
       "33        auto   voyage  0.33           0.531213            2.832017\n",
       "35       verre    bijou  0.56           0.671575            1.652271\n",
       "38       frère     gars  2.00           0.635590            6.428527\n",
       "39        sage  sorcier  0.83           0.862786            2.340675\n",
       "43  nourriture    fruit  2.78           0.893401            2.865162\n",
       "56       forêt     bois  3.72           0.662411            2.248621\n",
       "59      garçon     gars  3.83           0.391668            2.764225\n",
       "64        midi    dîner  2.17           0.539948            2.000835"
      ]
     },
     "execution_count": 55,
     "metadata": {},
     "output_type": "execute_result"
    }
   ],
   "source": [
    "distance_mots_v = np.vectorize(distance_mots)\n",
    "df = df_base\n",
    "df[\"corr_word2vec_cos\"] = distance_mots_v(df[\"word1\"],df[\"word2\"], mot_poids, \"cos\")\n",
    "df[\"corr_word2vec_eucl\"] = distance_mots_v(df[\"word1\"],df[\"word2\"], mot_poids, \"eucl\")\n",
    "print(len(df))\n",
    "df = df.dropna()\n",
    "print(len(df))\n",
    "df"
   ]
  },
  {
   "cell_type": "code",
   "execution_count": 56,
   "metadata": {},
   "outputs": [
    {
     "name": "stdout",
     "output_type": "stream",
     "text": [
      "Le résultat de word2vec COSINUS est différent de celui du human judgement (non rejet de H0 = non corrélation) p=0.384 / Valeur de la corrélation : -0.264\n",
      "\n",
      "\n",
      "Le résultat de word2vec EUCLIDIEN est différent de celui du human judgement (non rejet de H0 = non corrélation) p=0.590 / Valeur de la corrélation : 0.165\n"
     ]
    }
   ],
   "source": [
    "#On fait des tests à 5 % pour la distance cosinus\n",
    "alpha = 0.05\n",
    "corr, p_value = spearmanr(df[\"corr\"], df[\"corr_word2vec_cos\"])\n",
    "if p_value > alpha:\n",
    "    print('Le résultat de word2vec COSINUS est différent de celui du human judgement (non rejet de H0 = non corrélation) p=%.3f' % p_value,'/ Valeur de la corrélation : %.3f'% corr)\n",
    "else:\n",
    "    print('Le résultat de word2vec COSINUS est semblable celui du human judgement (rejet de H0 = non corrélation) p=%.3f' % p_value,'/ Valeur de la corrélation : %.3f'% corr)\n",
    "\n",
    "print(\"\\n\")\n",
    "\n",
    "#On fait des tests à 5 % pour la distance euclidienne\n",
    "alpha = 0.05\n",
    "corr, p_value = spearmanr(df[\"corr\"], df[\"corr_word2vec_eucl\"])\n",
    "if p_value > alpha:\n",
    "    print('Le résultat de word2vec EUCLIDIEN est différent de celui du human judgement (non rejet de H0 = non corrélation) p=%.3f' % p_value,'/ Valeur de la corrélation : %.3f'% corr)\n",
    "else:\n",
    "    print('Le résultat de word2vec COSINUS est semblable celui du human judgement (rejet de H0 = non corrélation) p=%.3f' % p_value,'/ Valeur de la corrélation : %.3f'% corr)"
   ]
  },
  {
   "cell_type": "markdown",
   "metadata": {},
   "source": [
    "# Evaluer plusieurs modèles \n",
    "\n",
    "## 1. Evaluation par le \"human judgement\"\n"
   ]
  },
  {
   "cell_type": "code",
   "execution_count": 36,
   "metadata": {},
   "outputs": [],
   "source": [
    "def corr_modele(chemin, distance=\"cos\", gensimbool = gensim_utile, epoch_max = 50):  \n",
    "    all_cor = []\n",
    "    all_p_val = []\n",
    "    if gensimbool:\n",
    "        #chemin = \"data/\" + nom_dossier + \"/gensim/Simulation_\" + str(numero_simulation) + dossier\n",
    "        #chemin = \"data/{}/gensim/dim{}_ep{}_w{}_lr{}_seed{}\".format(nom_dossier, dim, epoch, window, str(learning_rate)[2:], seed)  \n",
    "        isdir = os.path.isdir(chemin)\n",
    "        if isdir:\n",
    "            model = gensim.models.keyedvectors.KeyedVectors.load(chemin + \"/word2vec.model\")\n",
    "            py_list = []\n",
    "            for mot in vocabulary:\n",
    "                py_list.append(model.wv[mot].tolist())   \n",
    "            mat_finale = torch.FloatTensor(py_list)\n",
    "            mot_poids = {index_mot[index]: poids.detach().numpy() for (index, poids) in enumerate(mat_finale)}\n",
    "            df = pd.read_csv('data_bis/word_similarity.csv', sep=\";\")\n",
    "            df[\"corr_word2vec\"] = distance_mots_v(df[\"word1\"],df[\"word2\"], mot_poids, distance)\n",
    "            df = df.dropna()\n",
    "            corr, p_value = spearmanr(df[\"corr\"], df[\"corr_word2vec\"])\n",
    "            all_cor.append(corr)\n",
    "            all_p_val.append(p_value)\n",
    "    else:\n",
    "        isdir = os.path.isdir(chemin)\n",
    "        if isdir:\n",
    "            for i in range(epoch_max):\n",
    "                try:\n",
    "                    with open('{}/input_{}.file'.format(chemin, i+1), \"rb\") as f:\n",
    "                        input = pickle.load(f)\n",
    "                    with open('{}/output{}.file'.format(chemin, i+1), \"rb\") as f:\n",
    "                        output = pickle.load(f)\n",
    "                    mat_finale = (input+output)/2\n",
    "                    mot_poids = {index_mot[index]: poids.detach().numpy() for (index, poids) in enumerate(mat_finale)}\n",
    "                    df = pd.read_csv('data_bis/word_similarity.csv', sep=\";\")\n",
    "                    df[\"corr_word2vec\"] = distance_mots_v(df[\"word1\"],df[\"word2\"], mot_poids, distance)\n",
    "                    df = df.dropna()\n",
    "                    corr, p_value = spearmanr(df[\"corr\"], df[\"corr_word2vec\"])\n",
    "                    all_cor.append(corr)\n",
    "                    all_p_val.append(p_value)\n",
    "                except OSError:\n",
    "                    break;     \n",
    "        \n",
    "    return([all_cor, all_p_val]);"
   ]
  },
  {
   "cell_type": "code",
   "execution_count": 166,
   "metadata": {},
   "outputs": [],
   "source": [
    "def tableau_corr_hji(dim = \"\\d*\", epoch = \"\\d*\", window = \"\\d*\",\n",
    "                     learning_rate = \"\\d*\", seed = \"\\d*\",\n",
    "                     distance=\"cos\", index = \"seed\", gensimbool = gensim_utile):    \n",
    "    if(isinstance(learning_rate, float)):\n",
    "        learning_rate = str(learning_rate)[2:]\n",
    "    if(isinstance(dim, list)):\n",
    "        dim = r.r['paste0'](\"(\",r.r['paste0'](\"(\",dim,\")\",collapse = \"|\"),\")\")[0]\n",
    "    if(isinstance(epoch, list)):\n",
    "        epoch = r.r['paste0'](\"(\",r.r['paste0'](\"(\",epoch,\")\",collapse = \"|\"),\")\")[0]\n",
    "    if(isinstance(window, list)):\n",
    "        window = r.r['paste0'](\"(\",r.r['paste0'](\"(\",window,\")\",collapse = \"|\"),\")\")[0]\n",
    "    if(isinstance(learning_rate, list)):\n",
    "        learning_rate = [str(lr)[2:] if isinstance(lr, float) else lr for lr in learning_rate]\n",
    "        learning_rate = r.r['paste0'](\"(\",r.r['paste0'](\"(\",learning_rate,\")\",collapse = \"|\"),\")\")[0]\n",
    "    if(isinstance(seed, list)):\n",
    "        seed = r.r['paste0'](\"(\",r.r['paste0'](\"(\",seed,\")\",collapse = \"|\"),\")\")[0]\n",
    "\n",
    "    requete_regexp = 'dim{}_ep{}_w{}_lr{}_seed{}'.format(dim, epoch, window, learning_rate, seed)\n",
    "    if gensimbool:\n",
    "        gensim_st = \"gensim/\"\n",
    "    else:\n",
    "        gensim_st = \"\"\n",
    "    dossiers = r.r['list.files'](path = 'data/{}/{}'.format(nom_dossier, gensim_st),\n",
    "                      pattern = requete_regexp)\n",
    "    dossiers = [dossiers[i] for i in range(len(dossiers))]\n",
    "    #dossiers = r.r['paste0']('data/{}/{}'.format(nom_dossier, gensim_st),dossiers)\n",
    "    \n",
    "    resultats = []\n",
    "    nom_cols = dossiers\n",
    "\n",
    "    for dossier in dossiers:\n",
    "        #nom_cols.append( \"dim{}_ep{}_lr{}_w{}\".format(simul[0], simul[1], simul[2], str(simul[3])[2:]))\n",
    "        #print(nom_cols)\n",
    "        resultats.append(corr_modele(chemin = 'data/{}/{}{}'.format(nom_dossier, gensim_st, dossier), \n",
    "                                 distance= distance,gensimbool = gensimbool))\n",
    "    max_len = max([len(x[0]) for x in resultats])\n",
    "    for i in range(len(resultats)):\n",
    "        if(len(resultats[i][0])<max_len):\n",
    "            resultats[i][0] = resultats[i][0] +[np.nan]*(max_len - len(resultats[i][0]))\n",
    "            resultats[i][1] = resultats[i][1] +[np.nan]*(max_len - len(resultats[i][1]))\n",
    "    #nom_lignes = [re.sub('_seed', 'Seed ', d) if d != \"\" else \"Pas de seed\" for d in dossiers ]\n",
    "    #nom_lignes = [\"Seed \" + str(s) for s in seeds]\n",
    "    dossiers_sep = [string.split('_') for string in dossiers]\n",
    "    all_dim = [r.r['grep'](\"^dim\", x, value = True)[0] for x in dossiers_sep]\n",
    "    all_ep = [r.r['grep'](\"^ep\", x, value = True)[0] for x in dossiers_sep]\n",
    "    all_w = [r.r['grep'](\"^w\", x, value = True)[0] for x in dossiers_sep]\n",
    "    all_lr = [r.r['grep'](\"^lr\", x, value = True)[0] for x in dossiers_sep]\n",
    "    all_seed = [r.r['grep'](\"^seed\", x, value = True)[0] for x in dossiers_sep]\n",
    "    all_name = [all_dim, all_ep, all_w, all_lr, all_seed]\n",
    "    correspondance = {'dim': 0,\n",
    "                  'epoch': 1,\n",
    "                  'window': 2,\n",
    "                  'learning_rate': 3,\n",
    "                 'seed': 4}\n",
    "    if not isinstance(index, list):\n",
    "        index = [index]\n",
    "    index_num = [correspondance[i] for i in index]\n",
    "    indexs = [all_name[i] for i in [0,1,2,3,4] if i in index_num ]\n",
    "    column = [all_name[i] for i in [0,1,2,3,4] if i not in index_num]\n",
    "    lignes = list(map(\"_\".join, zip(*indexs)))\n",
    "    colonnes = list(map(\"_\".join, zip(*column)))\n",
    "    pivot_df = pd.DataFrame({'lignes': lignes,\n",
    "                  'colonnes': colonnes})\n",
    "    \n",
    "    all_cor = pd.DataFrame([elem[0] for elem in resultats])\n",
    "    all_p_val = pd.DataFrame([elem[1] for elem in resultats])\n",
    "    all_cor.columns = all_p_val.columns = [\"values\"]\n",
    "\n",
    "\n",
    "    all_cor = pd.concat([pivot_df, all_cor], axis=1)\n",
    "    all_cor = all_cor.pivot(index = \"lignes\", columns = \"colonnes\", values = 'values')\n",
    "    all_p_val = pd.concat([pivot_df, all_p_val], axis=1)\n",
    "    all_p_val = all_p_val.pivot(index = \"lignes\", columns = \"colonnes\", values = 'values')\n",
    "    return([all_cor, all_p_val])"
   ]
  },
  {
   "cell_type": "code",
   "execution_count": 168,
   "metadata": {},
   "outputs": [
    {
     "name": "stdout",
     "output_type": "stream",
     "text": [
      "colonnes  dim50_ep100_w5_lr01  dim50_ep100_w5_lr02\n",
      "lignes                                            \n",
      "seed1                0.440860             0.497009\n",
      "seed10               0.451158             0.437048\n",
      "seed15               0.454353             0.499904\n",
      "seed20               0.437048             0.474907\n",
      "seed25               0.434920             0.454534\n",
      "seed5                0.441876             0.495642\n",
      "colonnes  dim50_ep100_w5_seed1  dim50_ep100_w5_seed10  dim50_ep100_w5_seed15  \\\n",
      "lignes                                                                         \n",
      "lr01                  0.440860               0.451158               0.454353   \n",
      "lr02                  0.497009               0.437048               0.499904   \n",
      "\n",
      "colonnes  dim50_ep100_w5_seed20  dim50_ep100_w5_seed25  dim50_ep100_w5_seed5  \n",
      "lignes                                                                        \n",
      "lr01                   0.437048               0.434920              0.441876  \n",
      "lr02                   0.474907               0.454534              0.495642  \n"
     ]
    }
   ],
   "source": [
    "print(tableau_corr_hji(dim = 50, learning_rate = [0.01,0.02], window = 5, epoch = 100)[0])\n",
    "print(tableau_corr_hji(dim = 50, learning_rate = [0.01,0.02], window = 5, epoch = 100,\n",
    "                      index = \"learning_rate\")[0])"
   ]
  },
  {
   "cell_type": "code",
   "execution_count": 50,
   "metadata": {},
   "outputs": [
    {
     "name": "stdout",
     "output_type": "stream",
     "text": [
      "['dim20_ep10_lr01_w3']\n",
      "['dim20_ep10_lr01_w3', 'dim50_ep10_lr01_w3']\n"
     ]
    },
    {
     "ename": "ValueError",
     "evalue": "Shape of passed values is (12, 1), indices imply (6, 2)",
     "output_type": "error",
     "traceback": [
      "\u001b[1;31m---------------------------------------------------------------------------\u001b[0m",
      "\u001b[1;31mValueError\u001b[0m                                Traceback (most recent call last)",
      "\u001b[1;32m~\\Anaconda3\\lib\\site-packages\\pandas\\core\\internals\\managers.py\u001b[0m in \u001b[0;36mcreate_block_manager_from_blocks\u001b[1;34m(blocks, axes)\u001b[0m\n\u001b[0;32m   1653\u001b[0m                 blocks = [\n\u001b[1;32m-> 1654\u001b[1;33m                     \u001b[0mmake_block\u001b[0m\u001b[1;33m(\u001b[0m\u001b[0mvalues\u001b[0m\u001b[1;33m=\u001b[0m\u001b[0mblocks\u001b[0m\u001b[1;33m[\u001b[0m\u001b[1;36m0\u001b[0m\u001b[1;33m]\u001b[0m\u001b[1;33m,\u001b[0m \u001b[0mplacement\u001b[0m\u001b[1;33m=\u001b[0m\u001b[0mslice\u001b[0m\u001b[1;33m(\u001b[0m\u001b[1;36m0\u001b[0m\u001b[1;33m,\u001b[0m \u001b[0mlen\u001b[0m\u001b[1;33m(\u001b[0m\u001b[0maxes\u001b[0m\u001b[1;33m[\u001b[0m\u001b[1;36m0\u001b[0m\u001b[1;33m]\u001b[0m\u001b[1;33m)\u001b[0m\u001b[1;33m)\u001b[0m\u001b[1;33m)\u001b[0m\u001b[1;33m\u001b[0m\u001b[1;33m\u001b[0m\u001b[0m\n\u001b[0m\u001b[0;32m   1655\u001b[0m                 ]\n",
      "\u001b[1;32m~\\Anaconda3\\lib\\site-packages\\pandas\\core\\internals\\blocks.py\u001b[0m in \u001b[0;36mmake_block\u001b[1;34m(values, placement, klass, ndim, dtype)\u001b[0m\n\u001b[0;32m   3040\u001b[0m \u001b[1;33m\u001b[0m\u001b[0m\n\u001b[1;32m-> 3041\u001b[1;33m     \u001b[1;32mreturn\u001b[0m \u001b[0mklass\u001b[0m\u001b[1;33m(\u001b[0m\u001b[0mvalues\u001b[0m\u001b[1;33m,\u001b[0m \u001b[0mndim\u001b[0m\u001b[1;33m=\u001b[0m\u001b[0mndim\u001b[0m\u001b[1;33m,\u001b[0m \u001b[0mplacement\u001b[0m\u001b[1;33m=\u001b[0m\u001b[0mplacement\u001b[0m\u001b[1;33m)\u001b[0m\u001b[1;33m\u001b[0m\u001b[1;33m\u001b[0m\u001b[0m\n\u001b[0m\u001b[0;32m   3042\u001b[0m \u001b[1;33m\u001b[0m\u001b[0m\n",
      "\u001b[1;32m~\\Anaconda3\\lib\\site-packages\\pandas\\core\\internals\\blocks.py\u001b[0m in \u001b[0;36m__init__\u001b[1;34m(self, values, placement, ndim)\u001b[0m\n\u001b[0;32m    124\u001b[0m             raise ValueError(\n\u001b[1;32m--> 125\u001b[1;33m                 \u001b[1;34mf\"Wrong number of items passed {len(self.values)}, \"\u001b[0m\u001b[1;33m\u001b[0m\u001b[1;33m\u001b[0m\u001b[0m\n\u001b[0m\u001b[0;32m    126\u001b[0m                 \u001b[1;34mf\"placement implies {len(self.mgr_locs)}\"\u001b[0m\u001b[1;33m\u001b[0m\u001b[1;33m\u001b[0m\u001b[0m\n",
      "\u001b[1;31mValueError\u001b[0m: Wrong number of items passed 1, placement implies 2",
      "\nDuring handling of the above exception, another exception occurred:\n",
      "\u001b[1;31mValueError\u001b[0m                                Traceback (most recent call last)",
      "\u001b[1;32m<ipython-input-50-2ab7d3d1932b>\u001b[0m in \u001b[0;36m<module>\u001b[1;34m\u001b[0m\n\u001b[0;32m      1\u001b[0m \u001b[0mseeds\u001b[0m \u001b[1;33m=\u001b[0m \u001b[1;33m[\u001b[0m\u001b[1;36m1\u001b[0m\u001b[1;33m,\u001b[0m \u001b[1;36m5\u001b[0m\u001b[1;33m,\u001b[0m \u001b[1;36m10\u001b[0m\u001b[1;33m,\u001b[0m \u001b[1;36m15\u001b[0m\u001b[1;33m,\u001b[0m \u001b[1;36m20\u001b[0m\u001b[1;33m,\u001b[0m \u001b[1;36m25\u001b[0m\u001b[1;33m]\u001b[0m\u001b[1;33m\u001b[0m\u001b[1;33m\u001b[0m\u001b[0m\n\u001b[0;32m      2\u001b[0m \u001b[1;33m\u001b[0m\u001b[0m\n\u001b[1;32m----> 3\u001b[1;33m \u001b[0mresultats_hji_cos\u001b[0m \u001b[1;33m=\u001b[0m \u001b[0mtableau_corr_hji\u001b[0m\u001b[1;33m(\u001b[0m\u001b[0msimuls\u001b[0m\u001b[1;33m,\u001b[0m \u001b[0mseeds\u001b[0m\u001b[1;33m,\u001b[0m \u001b[0mdistance\u001b[0m \u001b[1;33m=\u001b[0m \u001b[1;34m\"cos\"\u001b[0m\u001b[1;33m)\u001b[0m\u001b[1;33m\u001b[0m\u001b[1;33m\u001b[0m\u001b[0m\n\u001b[0m\u001b[0;32m      4\u001b[0m \u001b[0mall_cor_cos\u001b[0m \u001b[1;33m=\u001b[0m \u001b[0mresultats_hji_cos\u001b[0m\u001b[1;33m[\u001b[0m\u001b[1;36m0\u001b[0m\u001b[1;33m]\u001b[0m\u001b[1;33m\u001b[0m\u001b[1;33m\u001b[0m\u001b[0m\n\u001b[0;32m      5\u001b[0m \u001b[0mall_p_val_cos\u001b[0m \u001b[1;33m=\u001b[0m \u001b[0mresultats_hji_cos\u001b[0m\u001b[1;33m[\u001b[0m\u001b[1;36m1\u001b[0m\u001b[1;33m]\u001b[0m\u001b[1;33m\u001b[0m\u001b[1;33m\u001b[0m\u001b[0m\n",
      "\u001b[1;32m<ipython-input-49-dde5659b1ec6>\u001b[0m in \u001b[0;36mtableau_corr_hji\u001b[1;34m(simuls, seeds, distance, gensimbool)\u001b[0m\n\u001b[0;32m     20\u001b[0m                        \u001b[1;31m#columns=[\"Epoch %i\" %int(i+1) for i in range(len(all_cor[0]))],\u001b[0m\u001b[1;33m\u001b[0m\u001b[1;33m\u001b[0m\u001b[1;33m\u001b[0m\u001b[0m\n\u001b[0;32m     21\u001b[0m                       \u001b[0mcolumns\u001b[0m\u001b[1;33m=\u001b[0m \u001b[0mnom_cols\u001b[0m\u001b[1;33m,\u001b[0m\u001b[1;33m\u001b[0m\u001b[1;33m\u001b[0m\u001b[0m\n\u001b[1;32m---> 22\u001b[1;33m                       index = nom_lignes)\n\u001b[0m\u001b[0;32m     23\u001b[0m     \u001b[0mall_p_val\u001b[0m \u001b[1;33m=\u001b[0m \u001b[1;33m[\u001b[0m\u001b[0melem\u001b[0m\u001b[1;33m[\u001b[0m\u001b[1;36m1\u001b[0m\u001b[1;33m]\u001b[0m \u001b[1;32mfor\u001b[0m \u001b[0melem\u001b[0m \u001b[1;32min\u001b[0m \u001b[0mresultats\u001b[0m\u001b[1;33m]\u001b[0m\u001b[1;33m\u001b[0m\u001b[1;33m\u001b[0m\u001b[0m\n\u001b[0;32m     24\u001b[0m     all_p_val = pd.DataFrame(np.array(all_p_val),\n",
      "\u001b[1;32m~\\Anaconda3\\lib\\site-packages\\pandas\\core\\frame.py\u001b[0m in \u001b[0;36m__init__\u001b[1;34m(self, data, index, columns, dtype, copy)\u001b[0m\n\u001b[0;32m    462\u001b[0m                 \u001b[0mmgr\u001b[0m \u001b[1;33m=\u001b[0m \u001b[0minit_dict\u001b[0m\u001b[1;33m(\u001b[0m\u001b[1;33m{\u001b[0m\u001b[0mdata\u001b[0m\u001b[1;33m.\u001b[0m\u001b[0mname\u001b[0m\u001b[1;33m:\u001b[0m \u001b[0mdata\u001b[0m\u001b[1;33m}\u001b[0m\u001b[1;33m,\u001b[0m \u001b[0mindex\u001b[0m\u001b[1;33m,\u001b[0m \u001b[0mcolumns\u001b[0m\u001b[1;33m,\u001b[0m \u001b[0mdtype\u001b[0m\u001b[1;33m=\u001b[0m\u001b[0mdtype\u001b[0m\u001b[1;33m)\u001b[0m\u001b[1;33m\u001b[0m\u001b[1;33m\u001b[0m\u001b[0m\n\u001b[0;32m    463\u001b[0m             \u001b[1;32melse\u001b[0m\u001b[1;33m:\u001b[0m\u001b[1;33m\u001b[0m\u001b[1;33m\u001b[0m\u001b[0m\n\u001b[1;32m--> 464\u001b[1;33m                 \u001b[0mmgr\u001b[0m \u001b[1;33m=\u001b[0m \u001b[0minit_ndarray\u001b[0m\u001b[1;33m(\u001b[0m\u001b[0mdata\u001b[0m\u001b[1;33m,\u001b[0m \u001b[0mindex\u001b[0m\u001b[1;33m,\u001b[0m \u001b[0mcolumns\u001b[0m\u001b[1;33m,\u001b[0m \u001b[0mdtype\u001b[0m\u001b[1;33m=\u001b[0m\u001b[0mdtype\u001b[0m\u001b[1;33m,\u001b[0m \u001b[0mcopy\u001b[0m\u001b[1;33m=\u001b[0m\u001b[0mcopy\u001b[0m\u001b[1;33m)\u001b[0m\u001b[1;33m\u001b[0m\u001b[1;33m\u001b[0m\u001b[0m\n\u001b[0m\u001b[0;32m    465\u001b[0m \u001b[1;33m\u001b[0m\u001b[0m\n\u001b[0;32m    466\u001b[0m         \u001b[1;31m# For data is list-like, or Iterable (will consume into list)\u001b[0m\u001b[1;33m\u001b[0m\u001b[1;33m\u001b[0m\u001b[1;33m\u001b[0m\u001b[0m\n",
      "\u001b[1;32m~\\Anaconda3\\lib\\site-packages\\pandas\\core\\internals\\construction.py\u001b[0m in \u001b[0;36minit_ndarray\u001b[1;34m(values, index, columns, dtype, copy)\u001b[0m\n\u001b[0;32m    208\u001b[0m         \u001b[0mblock_values\u001b[0m \u001b[1;33m=\u001b[0m \u001b[1;33m[\u001b[0m\u001b[0mvalues\u001b[0m\u001b[1;33m]\u001b[0m\u001b[1;33m\u001b[0m\u001b[1;33m\u001b[0m\u001b[0m\n\u001b[0;32m    209\u001b[0m \u001b[1;33m\u001b[0m\u001b[0m\n\u001b[1;32m--> 210\u001b[1;33m     \u001b[1;32mreturn\u001b[0m \u001b[0mcreate_block_manager_from_blocks\u001b[0m\u001b[1;33m(\u001b[0m\u001b[0mblock_values\u001b[0m\u001b[1;33m,\u001b[0m \u001b[1;33m[\u001b[0m\u001b[0mcolumns\u001b[0m\u001b[1;33m,\u001b[0m \u001b[0mindex\u001b[0m\u001b[1;33m]\u001b[0m\u001b[1;33m)\u001b[0m\u001b[1;33m\u001b[0m\u001b[1;33m\u001b[0m\u001b[0m\n\u001b[0m\u001b[0;32m    211\u001b[0m \u001b[1;33m\u001b[0m\u001b[0m\n\u001b[0;32m    212\u001b[0m \u001b[1;33m\u001b[0m\u001b[0m\n",
      "\u001b[1;32m~\\Anaconda3\\lib\\site-packages\\pandas\\core\\internals\\managers.py\u001b[0m in \u001b[0;36mcreate_block_manager_from_blocks\u001b[1;34m(blocks, axes)\u001b[0m\n\u001b[0;32m   1662\u001b[0m         \u001b[0mblocks\u001b[0m \u001b[1;33m=\u001b[0m \u001b[1;33m[\u001b[0m\u001b[0mgetattr\u001b[0m\u001b[1;33m(\u001b[0m\u001b[0mb\u001b[0m\u001b[1;33m,\u001b[0m \u001b[1;34m\"values\"\u001b[0m\u001b[1;33m,\u001b[0m \u001b[0mb\u001b[0m\u001b[1;33m)\u001b[0m \u001b[1;32mfor\u001b[0m \u001b[0mb\u001b[0m \u001b[1;32min\u001b[0m \u001b[0mblocks\u001b[0m\u001b[1;33m]\u001b[0m\u001b[1;33m\u001b[0m\u001b[1;33m\u001b[0m\u001b[0m\n\u001b[0;32m   1663\u001b[0m         \u001b[0mtot_items\u001b[0m \u001b[1;33m=\u001b[0m \u001b[0msum\u001b[0m\u001b[1;33m(\u001b[0m\u001b[0mb\u001b[0m\u001b[1;33m.\u001b[0m\u001b[0mshape\u001b[0m\u001b[1;33m[\u001b[0m\u001b[1;36m0\u001b[0m\u001b[1;33m]\u001b[0m \u001b[1;32mfor\u001b[0m \u001b[0mb\u001b[0m \u001b[1;32min\u001b[0m \u001b[0mblocks\u001b[0m\u001b[1;33m)\u001b[0m\u001b[1;33m\u001b[0m\u001b[1;33m\u001b[0m\u001b[0m\n\u001b[1;32m-> 1664\u001b[1;33m         \u001b[0mconstruction_error\u001b[0m\u001b[1;33m(\u001b[0m\u001b[0mtot_items\u001b[0m\u001b[1;33m,\u001b[0m \u001b[0mblocks\u001b[0m\u001b[1;33m[\u001b[0m\u001b[1;36m0\u001b[0m\u001b[1;33m]\u001b[0m\u001b[1;33m.\u001b[0m\u001b[0mshape\u001b[0m\u001b[1;33m[\u001b[0m\u001b[1;36m1\u001b[0m\u001b[1;33m:\u001b[0m\u001b[1;33m]\u001b[0m\u001b[1;33m,\u001b[0m \u001b[0maxes\u001b[0m\u001b[1;33m,\u001b[0m \u001b[0me\u001b[0m\u001b[1;33m)\u001b[0m\u001b[1;33m\u001b[0m\u001b[1;33m\u001b[0m\u001b[0m\n\u001b[0m\u001b[0;32m   1665\u001b[0m \u001b[1;33m\u001b[0m\u001b[0m\n\u001b[0;32m   1666\u001b[0m \u001b[1;33m\u001b[0m\u001b[0m\n",
      "\u001b[1;32m~\\Anaconda3\\lib\\site-packages\\pandas\\core\\internals\\managers.py\u001b[0m in \u001b[0;36mconstruction_error\u001b[1;34m(tot_items, block_shape, axes, e)\u001b[0m\n\u001b[0;32m   1692\u001b[0m     \u001b[1;32mif\u001b[0m \u001b[0mblock_shape\u001b[0m\u001b[1;33m[\u001b[0m\u001b[1;36m0\u001b[0m\u001b[1;33m]\u001b[0m \u001b[1;33m==\u001b[0m \u001b[1;36m0\u001b[0m\u001b[1;33m:\u001b[0m\u001b[1;33m\u001b[0m\u001b[1;33m\u001b[0m\u001b[0m\n\u001b[0;32m   1693\u001b[0m         \u001b[1;32mraise\u001b[0m \u001b[0mValueError\u001b[0m\u001b[1;33m(\u001b[0m\u001b[1;34m\"Empty data passed with indices specified.\"\u001b[0m\u001b[1;33m)\u001b[0m\u001b[1;33m\u001b[0m\u001b[1;33m\u001b[0m\u001b[0m\n\u001b[1;32m-> 1694\u001b[1;33m     \u001b[1;32mraise\u001b[0m \u001b[0mValueError\u001b[0m\u001b[1;33m(\u001b[0m\u001b[1;34mf\"Shape of passed values is {passed}, indices imply {implied}\"\u001b[0m\u001b[1;33m)\u001b[0m\u001b[1;33m\u001b[0m\u001b[1;33m\u001b[0m\u001b[0m\n\u001b[0m\u001b[0;32m   1695\u001b[0m \u001b[1;33m\u001b[0m\u001b[0m\n\u001b[0;32m   1696\u001b[0m \u001b[1;33m\u001b[0m\u001b[0m\n",
      "\u001b[1;31mValueError\u001b[0m: Shape of passed values is (12, 1), indices imply (6, 2)"
     ]
    }
   ],
   "source": [
    "seeds = [1, 5, 10, 15, 20, 25]\n",
    "\n",
    "resultats_hji_cos = tableau_corr_hji(simuls, seeds, distance = \"cos\")\n",
    "all_cor_cos = resultats_hji_cos[0]\n",
    "all_p_val_cos = resultats_hji_cos[1]\n",
    "all_cor_export_cos = round(all_cor_cos, 3).dropna()\n",
    "print(all_cor_export_cos)\n",
    "\n",
    "\n",
    "resultats_hji_eucl = tableau_corr_hji(simuls, seeds, distance = \"eucl\")\n",
    "all_cor_eucl = resultats_hji_eucl[0]\n",
    "all_p_val_eucl = resultats_hji_eucl[1]\n",
    "all_cor_export_eucl = round(all_cor_eucl, 3).dropna()\n",
    "print(all_cor_export_eucl)"
   ]
  },
  {
   "cell_type": "code",
   "execution_count": 44,
   "metadata": {
    "scrolled": true
   },
   "outputs": [
    {
     "name": "stdout",
     "output_type": "stream",
     "text": [
      "|         |   Epoch 1 |\n",
      "|:--------|----------:|\n",
      "| Seed 1  |    -0.093 |\n",
      "| Seed 5  |    -0.203 |\n",
      "| Seed 10 |    -0.203 |\n",
      "| Seed 15 |    -0.071 |\n",
      "| Seed 20 |    -0.231 |\n",
      "| Seed 25 |    -0.33  |\n",
      "\n",
      "Distance euclidienne :\n",
      "\n",
      "|         |   Epoch 1 |\n",
      "|:--------|----------:|\n",
      "| Seed 1  |     0.242 |\n",
      "| Seed 5  |     0.121 |\n",
      "| Seed 10 |     0.181 |\n",
      "| Seed 15 |     0.297 |\n",
      "| Seed 20 |     0.313 |\n",
      "| Seed 25 |     0.28  |\n"
     ]
    }
   ],
   "source": [
    "##Il faut installer pandas 1.0 et tabulate\n",
    "print(all_cor_export_cos.to_markdown())\n",
    "print(\"\\nDistance euclidienne :\\n\")\n",
    "print(all_cor_export_eucl.to_markdown())"
   ]
  },
  {
   "cell_type": "code",
   "execution_count": 48,
   "metadata": {},
   "outputs": [],
   "source": [
    "from matplotlib.lines import Line2D\n",
    "\n",
    "def intervalles_confiance (simulations, distance = \"cos\"):\n",
    "    colors = sns.color_palette(\"hls\", 6)\n",
    "    fig = plt.figure(figsize = (12,6))    \n",
    "    ax = fig.add_axes([0.1, 0.1, 1, 1])\n",
    "    ax.set_xlim(-0.2,len(simulations)-1+.2)\n",
    "   # ax.set_ylim(-0.5,0.6) # seulement si besoin pour faire des graph comparables\n",
    "    for i in range(len(simulations)):\n",
    "        corr = tableau_corr_hji(dossiers, distance = distance, numero_simulation = simulations[i])[0]\n",
    "        corr_values = corr.iloc[:,-1].values.tolist()\n",
    "        ec = np.std(corr_values)\n",
    "        moy = np.mean(corr_values)\n",
    "        print(moy)\n",
    "        icm = moy - 1.96 * ec\n",
    "        icp = moy + 1.96 * ec\n",
    "        ax.errorbar(i, moy, yerr=1.96 * ec,ecolor = \"black\", alpha = 0.5) \n",
    "        ax.scatter([i]*len(corr_values), corr_values, c=colors, s = 100) \n",
    "        ax.errorbar(i, moy, xerr=0.1, ecolor = \"black\", alpha= 0.5)\n",
    "        \n",
    "    ax.set_xticks(list(range(len(simulations))))\n",
    "    #ax.set_xticklabels([\"Simul. n°%i\" %simul[i] for i in list(range(len(simul)))])\n",
    "    ax.set_xticklabels([\"lr=0.01\\n w=3\\n e=10\",\"lr=0.01\\n w=4\\n e=10\",\"lr=0.01\\n w=5\\n e=10\",\n",
    "                        \"lr=0.02\\n w=3\\n e=10\",\"lr=0.02\\n w=4\\n e=10\",\"lr=0.02\\n w=5\\n e=10\",\n",
    "                        \"lr=0.01\\n w=3\\n e=100\",\"lr=0.01\\n w=4\\n e=100\",\"lr=0.01\\n w=5\\n e=100\",\n",
    "                        \"lr=0.02\\n w=3\\n e=100\",\"lr=0.02\\n w=4\\n e=100\",\"lr=0.02\\n w=5\\n e=100\"])\n",
    "    plt.ylabel(\"Corrélation entre la distance \" + distance + \" et le l'indice de jugement humain\")\n",
    "    plt.xlabel(\"Simulation avec \"+ nom_dossier +\" tweets\")\n",
    "    custom_lines=[]\n",
    "    for i in range(len(colors)):\n",
    "        custom_lines.append(Line2D([0], [0], marker='o', color='w',\n",
    "                                   label='Scatter',markerfacecolor=colors[i], markersize=10))\n",
    "    ax.legend(custom_lines, [string[1:] for string in dossiers])"
   ]
  },
  {
   "cell_type": "code",
   "execution_count": 49,
   "metadata": {},
   "outputs": [],
   "source": [
    "dossiers = [\"_seed1\", \"_seed5\", \"_seed10\", \"_seed15\", \"_seed20\", \"_seed25\"]\n",
    "#simul = [2,3,4,9,13,14]\n",
    "simul = [1,2,3,4,5,6,7,8,9,10,11,12]"
   ]
  },
  {
   "cell_type": "code",
   "execution_count": 50,
   "metadata": {
    "scrolled": true
   },
   "outputs": [
    {
     "name": "stdout",
     "output_type": "stream",
     "text": [
      "-0.1886446886446886\n",
      "-0.20238095238095236\n",
      "-0.1858974358974359\n",
      "0.3095238095238095\n",
      "0.24267399267399267\n",
      "0.10256410256410257\n",
      "0.4047619047619047\n",
      "0.4523809523809524\n",
      "0.41483516483516486\n",
      "0.4551282051282051\n",
      "0.43956043956043955\n",
      "0.4166666666666667\n"
     ]
    },
    {
     "data": {
      "image/png": "[encoded data removed]",
      "text/plain": [
       "<Figure size 864x432 with 1 Axes>"
      ]
     },
     "metadata": {
      "needs_background": "light"
     },
     "output_type": "display_data"
    }
   ],
   "source": [
    "intervalles_confiance(simul, \"cos\")"
   ]
  },
  {
   "cell_type": "code",
   "execution_count": 51,
   "metadata": {},
   "outputs": [
    {
     "name": "stdout",
     "output_type": "stream",
     "text": [
      "0.23901098901098905\n",
      "0.2014652014652015\n",
      "0.20421245421245424\n",
      "0.3708791208791209\n",
      "0.30494505494505497\n",
      "0.21978021978021978\n",
      "0.4084249084249085\n",
      "0.3727106227106227\n",
      "0.3388278388278388\n",
      "0.4294871794871795\n",
      "0.4194139194139194\n",
      "0.3626373626373626\n"
     ]
    },
    {
     "data": {
      "image/png": "[encoded data removed]",
      "text/plain": [
       "<Figure size 864x432 with 1 Axes>"
      ]
     },
     "metadata": {
      "needs_background": "light"
     },
     "output_type": "display_data"
    }
   ],
   "source": [
    "intervalles_confiance(simul, \"eucl\")"
   ]
  },
  {
   "cell_type": "code",
   "execution_count": 25,
   "metadata": {},
   "outputs": [
    {
     "name": "stdout",
     "output_type": "stream",
     "text": [
      "0.03296703296703297\n",
      "-0.010989010989010985\n",
      "-0.022893772893772892\n",
      "0.2591575091575091\n",
      "0.326007326007326\n",
      "0.2802197802197802\n",
      "0.3836996336996337\n",
      "0.3965201465201465\n",
      "0.4276556776556777\n",
      "0.3452380952380952\n",
      "0.3717948717948718\n",
      "0.3534798534798535\n"
     ]
    },
    {
     "data": {
      "image/png": "[encoded data removed]",
      "text/plain": [
       "<Figure size 864x432 with 1 Axes>"
      ]
     },
     "metadata": {
      "needs_background": "light"
     },
     "output_type": "display_data"
    }
   ],
   "source": [
    "simul2 = [13,14,15,16,17,18,19,20,21,22,23,24]\n",
    "intervalles_confiance(simul2, \"cos\")"
   ]
  },
  {
   "cell_type": "code",
   "execution_count": 26,
   "metadata": {},
   "outputs": [
    {
     "name": "stdout",
     "output_type": "stream",
     "text": [
      "-0.30036630036630035\n",
      "-0.26373626373626374\n",
      "-0.2738095238095238\n",
      "-0.27930402930402926\n",
      "-0.2371794871794872\n",
      "-0.25366300366300365\n",
      "-0.2371794871794872\n",
      "-0.2353479853479854\n",
      "-0.2564102564102564\n",
      "-0.2692307692307693\n",
      "-0.2490842490842491\n",
      "-0.24450549450549453\n"
     ]
    },
    {
     "data": {
      "image/png": "[encoded data removed]",
      "text/plain": [
       "<Figure size 864x432 with 1 Axes>"
      ]
     },
     "metadata": {
      "needs_background": "light"
     },
     "output_type": "display_data"
    }
   ],
   "source": [
    "intervalles_confiance(simul2, \"eucl\")"
   ]
  },
  {
   "cell_type": "markdown",
   "metadata": {},
   "source": [
    "Fonction Romain provisoire pour tests de représentations graphiques. "
   ]
  },
  {
   "cell_type": "code",
   "execution_count": 32,
   "metadata": {},
   "outputs": [
    {
     "name": "stdout",
     "output_type": "stream",
     "text": [
      "-0.1886446886446886\n",
      "0.03296703296703297\n",
      "-0.20238095238095236\n",
      "-0.010989010989010985\n",
      "-0.1858974358974359\n",
      "-0.022893772893772892\n",
      "0.3095238095238095\n",
      "0.2591575091575091\n",
      "0.24267399267399267\n",
      "0.326007326007326\n",
      "0.10256410256410257\n",
      "0.2802197802197802\n",
      "0.4047619047619047\n",
      "0.3836996336996337\n",
      "0.4523809523809524\n",
      "0.3965201465201465\n",
      "0.41483516483516486\n",
      "0.4276556776556777\n",
      "0.4551282051282051\n",
      "0.3452380952380952\n",
      "0.43956043956043955\n",
      "0.3717948717948718\n",
      "0.4166666666666667\n",
      "0.3534798534798535\n"
     ]
    },
    {
     "data": {
      "image/png": "[encoded data removed]",
      "text/plain": [
       "<Figure size 2160x720 with 1 Axes>"
      ]
     },
     "metadata": {
      "needs_background": "light"
     },
     "output_type": "display_data"
    }
   ],
   "source": [
    "simul3 = [1,13,2,14,3,15,4,16,5,17,6,18,7,19,8,20,9,21,10,22,11,23,12,24]\n",
    "def intervalles_confiance2(simulations, distance = \"cos\"):\n",
    "    colors = sns.color_palette(\"hls\", 6)\n",
    "    fig = plt.figure(figsize = (30,10))    \n",
    "    ax = fig.add_axes([0.1, 0.1, 1, 1])\n",
    "    ax.set_xlim(-0.2,len(simulations)-1+.2)\n",
    "   # ax.set_ylim(-0.5,0.6) # seulement si besoin pour faire des graph comparables\n",
    "    for i in range(len(simulations)):\n",
    "        corr = tableau_corr_hji(dossiers, distance = distance, numero_simulation = simulations[i])[0]\n",
    "        corr_values = corr.iloc[:,-1].values.tolist()\n",
    "        ec = np.std(corr_values)\n",
    "        moy = np.mean(corr_values)\n",
    "        print(moy)\n",
    "        icm = moy - 1.96 * ec\n",
    "        icp = moy + 1.96 * ec\n",
    "        ax.errorbar(i, moy, yerr=1.96 * ec,ecolor = \"black\", alpha = 0.5) \n",
    "        ax.scatter([i]*len(corr_values), corr_values, c=colors, s = 100) \n",
    "        ax.errorbar(i, moy, xerr=0.1, ecolor = \"black\", alpha= 0.5)\n",
    "        \n",
    "    ax.set_xticks(list(range(len(simulations))))\n",
    "    #ax.set_xticklabels([\"Simul. n°%i\" %simul[i] for i in list(range(len(simul)))])\n",
    "    ax.set_xticklabels([\"lr=0.01\\n w=3\\n e=10\\n dim = 20\",\"lr=0.01\\n w=3\\n e=10\\n dim = 50\",\n",
    "                        \"lr=0.01\\n w=4\\n e=10\\n dim = 20\",\"lr=0.01\\n w=4\\n e=10\\n dim = 50\",\n",
    "                        \"lr=0.01\\n w=5\\n e=10\\n dim = 20\",\"lr=0.01\\n w=5\\n e=10\\n dim = 50\",\n",
    "                        \"lr=0.02\\n w=3\\n e=10\\n dim = 20\",\"lr=0.02\\n w=3\\n e=10\\n dim = 50\",\n",
    "                        \"lr=0.02\\n w=4\\n e=10\\n dim = 20\",\"lr=0.02\\n w=4\\n e=10\\n dim = 50\",\n",
    "                        \"lr=0.02\\n w=5\\n e=10\\n dim = 20\",\"lr=0.02\\n w=5\\n e=10\\n dim = 50\",\n",
    "                        \"lr=0.01\\n w=3\\n e=100\\n dim = 20\",\"lr=0.01\\n w=3\\n e=100\\n dim = 50\",\n",
    "                        \"lr=0.01\\n w=4\\n e=100\\n dim = 20\",\"lr=0.01\\n w=4\\n e=100\\n dim = 50\",\n",
    "                        \"lr=0.01\\n w=5\\n e=100\\n dim = 20\",\"lr=0.01\\n w=5\\n e=100\\n dim = 50\",\n",
    "                        \"lr=0.02\\n w=3\\n e=100\\n dim = 20\",\"lr=0.02\\n w=3\\n e=100\\n dim = 50\",\n",
    "                        \"lr=0.02\\n w=4\\n e=100\\n dim = 20\",\"lr=0.02\\n w=4\\n e=100\\n dim = 50\",\n",
    "                        \"lr=0.02\\n w=5\\n e=100\\n dim = 20\",\"lr=0.02\\n w=5\\n e=100\\n dim = 50\"\n",
    "                       ])\n",
    "    plt.ylabel(\"Corrélation entre la distance \" + distance + \" et le l'indice de jugement humain\")\n",
    "    plt.xlabel(\"Simulation avec \"+ nom_dossier +\" tweets\")\n",
    "    custom_lines=[]\n",
    "    for i in range(len(colors)):\n",
    "        custom_lines.append(Line2D([0], [0], marker='o', color='w',\n",
    "                                   label='Scatter',markerfacecolor=colors[i], markersize=10))\n",
    "    ax.legend(custom_lines, [string[1:] for string in dossiers])\n",
    "intervalles_confiance2(simul3, \"cos\")"
   ]
  }
 ],
 "metadata": {
  "kernelspec": {
   "display_name": "Python 3",
   "language": "python",
   "name": "python3"
  },
  "language_info": {
   "codemirror_mode": {
    "name": "ipython",
    "version": 3
   },
   "file_extension": ".py",
   "mimetype": "text/x-python",
   "name": "python",
   "nbconvert_exporter": "python",
   "pygments_lexer": "ipython3",
   "version": "3.7.5"
  }
 },
 "nbformat": 4,
 "nbformat_minor": 2
}
