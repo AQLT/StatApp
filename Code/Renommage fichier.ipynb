{
 "cells": [
  {
   "cell_type": "code",
   "execution_count": 2,
   "metadata": {},
   "outputs": [],
   "source": [
    "import rpy2.robjects as robjects\n",
    "from rpy2.robjects.packages import importr"
   ]
  },
  {
   "cell_type": "code",
   "execution_count": 3,
   "metadata": {},
   "outputs": [
    {
     "data": {
      "text/html": [
       "\n",
       "    <span>StrVector with 6 elements.</span>\n",
       "    <table>\n",
       "      <tbody>\n",
       "      <tr>\n",
       "      \n",
       "      <td>\n",
       "        'Simu...\n",
       "      </td>\n",
       "      \n",
       "      <td>\n",
       "        'Simu...\n",
       "      </td>\n",
       "      \n",
       "      <td>\n",
       "        'Simu...\n",
       "      </td>\n",
       "      \n",
       "      <td>\n",
       "        'Simu...\n",
       "      </td>\n",
       "      \n",
       "      <td>\n",
       "        'Simu...\n",
       "      </td>\n",
       "      \n",
       "      <td>\n",
       "        'Simu...\n",
       "      </td>\n",
       "      \n",
       "      </tr>\n",
       "      </tbody>\n",
       "    </table>\n",
       "    "
      ],
      "text/plain": [
       "R object with classes: ('character',) mapped to:\n",
       "<StrVector - Python:0x1121706e0 / R:0x7fca632dddc8>\n",
       "['Simu..., 'Simu..., 'Simu..., 'Simu..., 'Simu..., 'Simu...]"
      ]
     },
     "execution_count": 3,
     "metadata": {},
     "output_type": "execute_result"
    }
   ],
   "source": [
    "#base = importr('base')\n",
    "dir = '/Users/alainquartierlatente/Desktop/Ensae/StatApp'\n",
    "dossier = \"ens\"\n",
    "robjects.r[\"setwd\"]('{}/data/{}/gensim'.format(dir,dossier))\n",
    "fichiers = robjects.r[\"list.files\"](pattern = \"Simulation\")\n",
    "fichiers"
   ]
  },
  {
   "cell_type": "code",
   "execution_count": 4,
   "metadata": {},
   "outputs": [
    {
     "name": "stdout",
     "output_type": "stream",
     "text": [
      "[1] \"1\" \"1\" \"1\" \"1\" \"1\" \"1\"\n",
      "\n",
      "[1] \"1\"  \"10\" \"15\" \"20\" \"25\" \"5\" \n",
      "\n"
     ]
    }
   ],
   "source": [
    "len(fichiers)\n",
    "#numéro de la simul\n",
    "#Pour chaque simul on définit dans l'orde: dim, ep, window, learning rate. \n",
    "# Seed déterminée par num_seed\n",
    "def_simul = {1:[20,0.01,3,10],2:[20,0.01,3,10], 3:[20,0.01,4,10], 4:[20,0.01,5,10],\n",
    "8:[20,0.005,3,10], 9:[20,0.02,3,10], 10:[20,0.03,3,10], 11:[20,0.04,3,10], 12:[20,0.05,3,10],\n",
    "13:[20,0.02,4,10],14:[20,0.02,5,10]}\n",
    "num_simul = robjects.r[\"gsub\"](\"(Simulation_)|(_seed.*)\",\"\",fichiers)\n",
    "num_seed = robjects.r[\"gsub\"](\"(Simulation_\\d*_?)|(seed)\",\"\",fichiers)\n",
    "print(num_simul)\n",
    "print(num_seed)"
   ]
  },
  {
   "cell_type": "code",
   "execution_count": 6,
   "metadata": {
    "scrolled": true
   },
   "outputs": [
    {
     "name": "stdout",
     "output_type": "stream",
     "text": [
      "Simulation_1_seed1 à dim20_ep10_w3_lr01_seed1\n",
      "Simulation_1_seed10 à dim20_ep10_w3_lr01_seed10\n",
      "Simulation_1_seed15 à dim20_ep10_w3_lr01_seed15\n",
      "Simulation_1_seed20 à dim20_ep10_w3_lr01_seed20\n",
      "Simulation_1_seed25 à dim20_ep10_w3_lr01_seed25\n",
      "Simulation_1_seed5 à dim20_ep10_w3_lr01_seed5\n"
     ]
    }
   ],
   "source": [
    "new_names = []\n",
    "for i in range(len(num_simul)):\n",
    "    simul = int(num_simul[i])\n",
    "    #numero_simul, dim learning_Rate, window\n",
    "    dim = def_simul[simul][0]\n",
    "    learning_rate = def_simul[simul][1]\n",
    "    window = def_simul[simul][2]\n",
    "    epoch = def_simul[simul][3]\n",
    "    seed = num_seed[i]\n",
    "    chemin = \"dim{}_ep{}_w{}_lr{}_seed{}\".format(dim, epoch, window, str(learning_rate)[2:], seed)\n",
    "    print(\"{} à {}\".format(fichiers[i],chemin))\n",
    "    new_names.append(chemin)\n"
   ]
  },
  {
   "cell_type": "code",
   "execution_count": 53,
   "metadata": {},
   "outputs": [
    {
     "data": {
      "text/html": [
       "\n",
       "    <span>StrVector with 38 elements.</span>\n",
       "    <table>\n",
       "      <tbody>\n",
       "      <tr>\n",
       "      \n",
       "      <td>\n",
       "        'dim20_ep...\n",
       "      </td>\n",
       "      \n",
       "      <td>\n",
       "        'dim20_ep...\n",
       "      </td>\n",
       "      \n",
       "      <td>\n",
       "        'dim20_ep...\n",
       "      </td>\n",
       "      \n",
       "      <td>\n",
       "        'dim20_ep...\n",
       "      </td>\n",
       "      \n",
       "      <td>\n",
       "        ...\n",
       "      </td>\n",
       "      \n",
       "      <td>\n",
       "        'dim20_ep...\n",
       "      </td>\n",
       "      \n",
       "      <td>\n",
       "        'dim20_ep...\n",
       "      </td>\n",
       "      \n",
       "      <td>\n",
       "        'dim20_ep...\n",
       "      </td>\n",
       "      \n",
       "      <td>\n",
       "        'dim20_ep...\n",
       "      </td>\n",
       "      \n",
       "      </tr>\n",
       "      </tbody>\n",
       "    </table>\n",
       "    "
      ],
      "text/plain": [
       "R object with classes: ('character',) mapped to:\n",
       "<StrVector - Python:0x10be81280 / R:0x7f8507430250>\n",
       "['dim20_ep..., 'dim20_ep..., 'dim20_ep..., 'dim20_ep..., ..., 'dim20_ep..., 'dim20_ep..., 'dim20_ep..., 'dim20_ep...]"
      ]
     },
     "execution_count": 53,
     "metadata": {},
     "output_type": "execute_result"
    }
   ],
   "source": [
    "robjects.StrVector(new_names)"
   ]
  },
  {
   "cell_type": "code",
   "execution_count": 7,
   "metadata": {},
   "outputs": [
    {
     "data": {
      "text/html": [
       "\n",
       "    <span>BoolVector with 6 elements.</span>\n",
       "    <table>\n",
       "      <tbody>\n",
       "      <tr>\n",
       "      \n",
       "      <td>\n",
       "               1\n",
       "      </td>\n",
       "      \n",
       "      <td>\n",
       "               1\n",
       "      </td>\n",
       "      \n",
       "      <td>\n",
       "               1\n",
       "      </td>\n",
       "      \n",
       "      <td>\n",
       "               1\n",
       "      </td>\n",
       "      \n",
       "      <td>\n",
       "               1\n",
       "      </td>\n",
       "      \n",
       "      <td>\n",
       "               1\n",
       "      </td>\n",
       "      \n",
       "      </tr>\n",
       "      </tbody>\n",
       "    </table>\n",
       "    "
      ],
      "text/plain": [
       "R object with classes: ('logical',) mapped to:\n",
       "<BoolVector - Python:0x1121640a0 / R:0x7fca670e8768>\n",
       "[       1,        1,        1,        1,        1,        1]"
      ]
     },
     "execution_count": 7,
     "metadata": {},
     "output_type": "execute_result"
    }
   ],
   "source": [
    "robjects.r[\"file.rename\"](fichiers, robjects.StrVector(new_names))"
   ]
  }
 ],
 "metadata": {
  "kernelspec": {
   "display_name": "Python 3",
   "language": "python",
   "name": "python3"
  },
  "language_info": {
   "codemirror_mode": {
    "name": "ipython",
    "version": 3
   },
   "file_extension": ".py",
   "mimetype": "text/x-python",
   "name": "python",
   "nbconvert_exporter": "python",
   "pygments_lexer": "ipython3",
   "version": "3.7.5"
  }
 },
 "nbformat": 4,
 "nbformat_minor": 4
}
