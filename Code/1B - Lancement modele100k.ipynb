{
 "cells": [
  {
   "cell_type": "markdown",
   "metadata": {},
   "source": [
    "# Importation des données"
   ]
  },
  {
   "cell_type": "code",
   "execution_count": 1,
   "metadata": {},
   "outputs": [],
   "source": [
    "import os\n",
    "import string\n",
    "import re\n",
    "import math\n",
    "import statistics\n",
    "from math import sqrt\n",
    "import numpy as np\n",
    "import random\n",
    "import time\n",
    "import pandas as pd\n",
    "import nltk, re, pprint\n",
    "#nltk.download('punkt')\n",
    "from nltk import word_tokenize\n",
    "random.seed(1)\n",
    "np.random.seed(1)\n",
    "import matplotlib.pyplot as plt\n",
    "from IPython.display import clear_output\n",
    "from matplotlib import pyplot as plt\n",
    "import collections\n",
    "%matplotlib inline\n",
    "\n",
    "import torch\n",
    "import torch.nn as nn\n",
    "import torch.nn.functional as F\n",
    "import torch.optim as optim\n",
    "import torch.autograd as autograd\n",
    "\n",
    "import pickle\n",
    "\n",
    "#os.chdir('C:/Users/torna/Documents/StatApp/StatApp')\n",
    "os.chdir('/Users/alainquartierlatente/Desktop/Ensae/StatApp')\n",
    "#os.chdir('/home/aqlt/Documents/Ensae/StatApp')"
   ]
  },
  {
   "cell_type": "markdown",
   "metadata": {},
   "source": [
    "On ne garde ici que les 100 000 premiers tweets"
   ]
  },
  {
   "cell_type": "code",
   "execution_count": 2,
   "metadata": {},
   "outputs": [],
   "source": [
    "# Penser à changer selon taille\n",
    "with open(\"data/100k/vocabulary.file\", \"rb\") as f:\n",
    "    taille_vocab = len(pickle.load(f))"
   ]
  },
  {
   "cell_type": "code",
   "execution_count": 3,
   "metadata": {},
   "outputs": [],
   "source": [
    "# Fonction pour mettre à jour le graphique en direct\n",
    "def live_plot(data, figsize=(7,5), title=''):\n",
    "    clear_output(wait=True)\n",
    "    plt.figure(figsize=figsize)\n",
    "    plt.plot(data)\n",
    "    plt.title(title)\n",
    "    plt.grid(True)\n",
    "    plt.xlabel('epoch')\n",
    "    plt.show();"
   ]
  },
  {
   "cell_type": "markdown",
   "metadata": {},
   "source": [
    "# Lancement du modèle\n",
    "Paramètres fixés : la dimension, le nombre de mots tirés dans le *negative sampling* et la proba utilisé, l'affichage du graphique"
   ]
  },
  {
   "cell_type": "code",
   "execution_count": 6,
   "metadata": {},
   "outputs": [],
   "source": [
    "dim = 20\n",
    "plot = True\n",
    "epoch = 10"
   ]
  },
  {
   "cell_type": "markdown",
   "metadata": {},
   "source": [
    "Paramètres à modifier :"
   ]
  },
  {
   "cell_type": "code",
   "execution_count": 9,
   "metadata": {},
   "outputs": [],
   "source": [
    "learning_rate = 0.01\n",
    "window = 4\n",
    "numero_simulation = 3"
   ]
  },
  {
   "cell_type": "code",
   "execution_count": 10,
   "metadata": {},
   "outputs": [],
   "source": [
    "# On crée le dossier Simulation_{numero_simulation}\n",
    "if not os.path.exists(\"data/100k/Simulation_%i\" %numero_simulation):\n",
    "    os.mkdir(\"data/100k/Simulation_%i\" %numero_simulation)\n",
    "else:\n",
    "    print(\"Attention : le dossier Simulation_%i existe déjà\" %numero_simulation)"
   ]
  },
  {
   "cell_type": "code",
   "execution_count": null,
   "metadata": {
    "scrolled": true
   },
   "outputs": [],
   "source": [
    "input = torch.randn(taille_vocab, dim)\n",
    "output = torch.randn(taille_vocab, dim)\n",
    "input = autograd.Variable(input, requires_grad=True)\n",
    "output = autograd.Variable(output, requires_grad=True)\n",
    "\n",
    "loss_tot = []\n",
    "temps_par_epoch = []\n",
    "\n",
    "start = time.time()\n",
    "for i in range(epoch):\n",
    "    loss_val = 0\n",
    "    start_epoch = time.time()\n",
    "    \n",
    "    print(\"Lecture du fichier \"+ \"data/100k/window_%i/\" % window + \"epoch_%i.file\" %i)\n",
    "    with open(\"data/100k/window_%i/\" % window + \"epoch_%i.file\" %i, \"rb\") as f:\n",
    "        test_sample = pickle.load(f)\n",
    "\n",
    "    for focus, context, neg_sample in test_sample:\n",
    "        data = torch.matmul(input[focus,], torch.t(output[context,]))\n",
    "        loss1 = - F.logsigmoid(data)\n",
    "\n",
    "        data = torch.matmul(input[focus,], torch.t(output[neg_sample,]))\n",
    "        loss2 = - F.logsigmoid(-data).sum()\n",
    "        loss_val += loss1 + loss2\n",
    "        # Pour ensuite dériver les matrices par rapport à la loss\n",
    "        (loss1+loss2).backward()\n",
    "\n",
    "        # Il faut modifier juste le .data pour ne pas perdre la structure\n",
    "        input.data = input.data - learning_rate * input.grad.data\n",
    "        output.data = output.data - learning_rate * output.grad.data\n",
    "\n",
    "        input.grad.data.zero_()\n",
    "        output.grad.data.zero_()\n",
    "        \n",
    "    with open(\"data/100k/Simulation_%i/\" %numero_simulation + \"input_%i.file\" %(len(loss_tot)+1), \"wb\") as f:\n",
    "        pickle.dump(input, f, pickle.HIGHEST_PROTOCOL)\n",
    "    with open(\"data/100k/Simulation_%i/\" %numero_simulation + \"output_%i.file\" %(len(loss_tot)+1), \"wb\") as f:\n",
    "        pickle.dump(output, f, pickle.HIGHEST_PROTOCOL)\n",
    "    with open(\"data/100k/Simulation_%i/\" %numero_simulation + \"loss.file\", \"wb\") as f:\n",
    "        pickle.dump(loss_tot, f, pickle.HIGHEST_PROTOCOL)\n",
    "    with open(\"data/100k/Simulation_%i/\" %numero_simulation + \"temps_par_epoch.file\", \"wb\") as f:\n",
    "        pickle.dump(temps_par_epoch, f, pickle.HIGHEST_PROTOCOL)\n",
    "        \n",
    "    end_epoch = time.time()\n",
    "    temps_par_epoch.append(end_epoch - start_epoch)\n",
    "    loss_val = loss_val / taille_vocab\n",
    "    loss_tot.append(loss_val)\n",
    "    if plot:\n",
    "        live_plot(loss_tot)\n",
    "    print(round((end_epoch - start_epoch)/60, 2))\n",
    "end = time.time()\n",
    "print(round((end - start)/60, 2))\n",
    "print(statistics.mean(temps_par_epoch)/60)"
   ]
  },
  {
   "cell_type": "code",
   "execution_count": null,
   "metadata": {},
   "outputs": [],
   "source": []
  }
 ],
 "metadata": {
  "kernelspec": {
   "display_name": "Python 3",
   "language": "python",
   "name": "python3"
  },
  "language_info": {
   "codemirror_mode": {
    "name": "ipython",
    "version": 3
   },
   "file_extension": ".py",
   "mimetype": "text/x-python",
   "name": "python",
   "nbconvert_exporter": "python",
   "pygments_lexer": "ipython3",
   "version": "3.7.5"
  }
 },
 "nbformat": 4,
 "nbformat_minor": 2
}
