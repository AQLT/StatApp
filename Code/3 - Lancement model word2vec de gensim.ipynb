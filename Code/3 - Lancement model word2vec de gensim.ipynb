{
 "cells": [
  {
   "cell_type": "code",
   "execution_count": 33,
   "metadata": {},
   "outputs": [],
   "source": [
    "import os\n",
    "import string\n",
    "import re\n",
    "import math\n",
    "import statistics\n",
    "from math import sqrt\n",
    "import numpy as np\n",
    "import random\n",
    "import time\n",
    "import pandas as pd\n",
    "import nltk, re, pprint\n",
    "#nltk.download('punkt')\n",
    "from nltk import word_tokenize\n",
    "random.seed(1)\n",
    "np.random.seed(1)\n",
    "import matplotlib.pyplot as plt\n",
    "from IPython.display import clear_output\n",
    "from matplotlib import pyplot as plt\n",
    "import collections\n",
    "%matplotlib inline\n",
    "\n",
    "import torch\n",
    "import torch.nn as nn\n",
    "import torch.nn.functional as F\n",
    "import torch.optim as optim\n",
    "import torch.autograd as autograd\n",
    "\n",
    "import pickle\n",
    "\n",
    "#os.chdir('C:/Users/torna/Documents/StatApp/StatApp')\n",
    "#os.chdir('/Users/alainquartierlatente/Desktop/Ensae/StatApp')\n",
    "#os.chdir('/home/aqlt/Documents/Ensae/StatApp')\n",
    "os.chdir('C:/Users/Kim Antunez/Documents/Projets_autres/StatApp')\n",
    "\n",
    "nom_dossier = \"100k\""
   ]
  },
  {
   "cell_type": "code",
   "execution_count": 34,
   "metadata": {},
   "outputs": [
    {
     "name": "stdout",
     "output_type": "stream",
     "text": [
      "99718\n"
     ]
    }
   ],
   "source": [
    "# Penser à changer selon taille\n",
    "with open(\"data/corpus_trie%s.file\" %nom_dossier, \"rb\") as f:\n",
    "    corpus = pickle.load(f) \n",
    "ens_tweets = [phrase.split() for phrase in corpus]\n",
    "phrases = ens_tweets\n",
    "print(len(phrases))"
   ]
  },
  {
   "cell_type": "markdown",
   "metadata": {},
   "source": [
    "# Lancement du modèle\n",
    "Paramètres fixés : la dimension, le nombre de mots tirés dans le *negative sampling* et la proba utilisé, l'affichage du graphique"
   ]
  },
  {
   "cell_type": "code",
   "execution_count": 49,
   "metadata": {},
   "outputs": [],
   "source": [
    "if nom_dossier == \"ens\":\n",
    "    dim = 50\n",
    "else:\n",
    "    dim = 20\n",
    "plot = True"
   ]
  },
  {
   "cell_type": "markdown",
   "metadata": {},
   "source": [
    "Paramètres à modifier :"
   ]
  },
  {
   "cell_type": "code",
   "execution_count": 62,
   "metadata": {},
   "outputs": [],
   "source": [
    "epoch = 100\n",
    "learning_rate = 0.02\n",
    "window = 5\n",
    "numero_simulation = 12\n",
    "seeds = [1, 5, 10, 15, 20, 25]\n",
    "#seeds = [1]"
   ]
  },
  {
   "cell_type": "code",
   "execution_count": 63,
   "metadata": {},
   "outputs": [
    {
     "name": "stdout",
     "output_type": "stream",
     "text": [
      "seed 1  :  1.25\n",
      "seed 5  :  1.11\n",
      "seed 10  :  1.02\n",
      "seed 15  :  1.02\n",
      "seed 20  :  1.03\n",
      "seed 25  :  1.1\n"
     ]
    }
   ],
   "source": [
    "# phrases = les phrases du corpus\n",
    "# size = dimension du vecteur\n",
    "# window = fenetre\n",
    "# negative = nb de neg samples\n",
    "# alpha = learning rate\n",
    "# seed \n",
    "# min_count = fréquence min des mots qui nous intéresse\n",
    "# workers = nb de cores sur l'ordi\n",
    "# iter = nb epoch\n",
    "\n",
    "for seed in seeds:\n",
    "\n",
    "    start = time.time()\n",
    "\n",
    "    from gensim.models import word2vec\n",
    "    model = word2vec.Word2Vec(phrases, size=dim, window=window,negative=5,alpha=learning_rate,seed=seed,\n",
    "                      min_count=0, workers=4, iter=epoch)\n",
    "    # Kim : j'ai mis min_count = 0 et non 5 car sinon on obtenait pas le même voc que dans NOTRE modele. a creuser\n",
    "\n",
    "    end = time.time()\n",
    "    # Affichage temps de tournage du modèle\n",
    "    print(\"seed\", seed, \" : \", round((end - start)/60, 2))\n",
    "\n",
    "    # Sauvegarde \n",
    "    chemin = \"data/\" + nom_dossier + \"/gensim/Simulation_\" + str(numero_simulation) +\"_seed\"+ str(seed)\n",
    "\n",
    "    if not os.path.isdir(chemin):\n",
    "        os.mkdir(chemin)\n",
    "\n",
    "    model.save(chemin + \"/word2vec.model\")"
   ]
  },
  {
   "cell_type": "markdown",
   "metadata": {},
   "source": [
    "#  Quelques fonctions intégrées dans gensim (non utilisées)"
   ]
  },
  {
   "cell_type": "code",
   "execution_count": 9,
   "metadata": {},
   "outputs": [
    {
     "data": {
      "text/plain": [
       "99718"
      ]
     },
     "execution_count": 9,
     "metadata": {},
     "output_type": "execute_result"
    }
   ],
   "source": [
    "model.corpus_count"
   ]
  },
  {
   "cell_type": "code",
   "execution_count": 10,
   "metadata": {},
   "outputs": [
    {
     "data": {
      "text/plain": [
       "['il', 'mérite', 'd', 'être', 'bloquer']"
      ]
     },
     "execution_count": 10,
     "metadata": {},
     "output_type": "execute_result"
    }
   ],
   "source": [
    "vocab = model.wv.vocab\n",
    "list(vocab)[:5]"
   ]
  },
  {
   "cell_type": "code",
   "execution_count": 11,
   "metadata": {},
   "outputs": [
    {
     "data": {
      "text/plain": [
       "array([-0.8029589 ,  0.5978353 , -0.49241248, -0.5030643 , -0.03345106,\n",
       "       -0.0076034 ,  0.26484555,  0.8762143 , -0.4996161 ,  0.08204883,\n",
       "       -0.08663379,  0.75073415,  0.6436939 , -0.14495811,  0.647974  ,\n",
       "        0.6855672 , -0.269488  ,  0.2696291 ,  0.49807718, -0.59831595],\n",
       "      dtype=float32)"
      ]
     },
     "execution_count": 11,
     "metadata": {},
     "output_type": "execute_result"
    }
   ],
   "source": [
    "model.wv['wesh']"
   ]
  },
  {
   "cell_type": "code",
   "execution_count": 12,
   "metadata": {},
   "outputs": [
    {
     "name": "stderr",
     "output_type": "stream",
     "text": [
      "C:\\Users\\Kim Antunez\\Anaconda3\\lib\\site-packages\\ipykernel_launcher.py:1: DeprecationWarning: Call to deprecated `similarity` (Method will be removed in 4.0.0, use self.wv.similarity() instead).\n",
      "  \"\"\"Entry point for launching an IPython kernel.\n"
     ]
    },
    {
     "data": {
      "text/plain": [
       "0.8841527"
      ]
     },
     "execution_count": 12,
     "metadata": {},
     "output_type": "execute_result"
    }
   ],
   "source": [
    "model.similarity(\"homme\",\"femme\")"
   ]
  }
 ],
 "metadata": {
  "kernelspec": {
   "display_name": "Python 3",
   "language": "python",
   "name": "python3"
  },
  "language_info": {
   "codemirror_mode": {
    "name": "ipython",
    "version": 3
   },
   "file_extension": ".py",
   "mimetype": "text/x-python",
   "name": "python",
   "nbconvert_exporter": "python",
   "pygments_lexer": "ipython3",
   "version": "3.7.4"
  }
 },
 "nbformat": 4,
 "nbformat_minor": 4
}
