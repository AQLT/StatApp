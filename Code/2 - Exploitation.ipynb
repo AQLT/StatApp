{
 "cells": [
  {
   "cell_type": "markdown",
   "metadata": {},
   "source": [
    "# Importation des données"
   ]
  },
  {
   "cell_type": "code",
   "execution_count": 157,
   "metadata": {},
   "outputs": [
    {
     "data": {
      "text/plain": [
       "1344097"
      ]
     },
     "execution_count": 157,
     "metadata": {},
     "output_type": "execute_result"
    }
   ],
   "source": [
    "import os\n",
    "import string\n",
    "import re\n",
    "import math\n",
    "from math import sqrt\n",
    "import numpy as np\n",
    "import random\n",
    "import time\n",
    "import pandas as pd\n",
    "import nltk, re, pprint\n",
    "#nltk.download('punkt')\n",
    "from nltk import word_tokenize\n",
    "random.seed(1)\n",
    "\n",
    "import matplotlib.pyplot as plt\n",
    "from IPython.display import clear_output\n",
    "from matplotlib import pyplot as plt\n",
    "import collections\n",
    "%matplotlib inline\n",
    "\n",
    "import torch\n",
    "import torch.nn as nn\n",
    "import torch.nn.functional as F\n",
    "import torch.optim as optim\n",
    "import torch.autograd as autograd\n",
    "\n",
    "import pickle\n",
    "\n",
    "#PCA & TSNE : \n",
    "from sklearn.preprocessing import StandardScaler\n",
    "from sklearn.decomposition import PCA\n",
    "from sklearn.manifold import TSNE\n",
    "import plotly\n",
    "import plotly.graph_objs as go\n",
    "from plotly.offline import download_plotlyjs, init_notebook_mode, plot, iplot\n",
    "import cufflinks as cf\n",
    "import seaborn as sns"
   ]
  },
  {
   "cell_type": "code",
   "execution_count": null,
   "metadata": {},
   "outputs": [],
   "source": [
    "nb_tweets = 100000\n",
    "\n",
    "os.chdir('/Users/alainquartierlatente/Desktop/Ensae/StatApp')\n",
    "\n",
    "with open(\"data/corpus_trie.file\", \"rb\") as f:\n",
    "    corpus = pickle.load(f) \n",
    "ens_tweets = [phrase.split() for phrase in corpus]\n",
    "len(ens_tweets)"
   ]
  },
  {
   "cell_type": "markdown",
   "metadata": {
    "variables": {
     "nb_tweets": "100000"
    }
   },
   "source": [
    "On ne garde ici que les {{nb_tweets}} premiers tweets"
   ]
  },
  {
   "cell_type": "code",
   "execution_count": 121,
   "metadata": {},
   "outputs": [
    {
     "name": "stdout",
     "output_type": "stream",
     "text": [
      "<class 'list'>\n",
      "Nombre de mots : 1111355\n",
      "Taille du vocabulaire : 34931\n"
     ]
    }
   ],
   "source": [
    "phrases = ens_tweets[0:nb_tweets]\n",
    "words = [item for sublist in phrases for item in sublist]\n",
    "print(type(words))\n",
    "vocabulary = set(words)\n",
    "index_mot = {index: w for (index, w) in enumerate(vocabulary)}\n",
    "mot_index = {w: index for (index, w) in enumerate(vocabulary)}\n",
    "print(\"Nombre de mots :\", len(words))\n",
    "print(\"Taille du vocabulaire :\", len(vocabulary))\n",
    "fdist = nltk.FreqDist(words)"
   ]
  },
  {
   "cell_type": "code",
   "execution_count": 122,
   "metadata": {},
   "outputs": [],
   "source": [
    "with open('data/input_%ik_50.file' % int(nb_tweets/1000), \"rb\") as f:\n",
    "    input = pickle.load(f)\n",
    "with open('data/output_%ik_50.file' % int(nb_tweets/1000), \"rb\") as f:\n",
    "    output = pickle.load(f)\n",
    "mat_finale = (input+output)/2"
   ]
  },
  {
   "cell_type": "markdown",
   "metadata": {},
   "source": [
    "# 1. Similarité cosinus\n",
    "Pour tester la similarité entre deux mots, on calcule la similarité cosinus entre leur représentation vectorielle :\n",
    "$$\n",
    "\\frac{A \\cdot B}{|| A || \\cdot || B ||}\n",
    "$$"
   ]
  },
  {
   "cell_type": "code",
   "execution_count": 4,
   "metadata": {},
   "outputs": [
    {
     "name": "stdout",
     "output_type": "stream",
     "text": [
      "[('nickname', 89991), ('de', 39547), ('le', 25200), ('est', 21065), ('je', 20346), ('les', 18506), ('c', 17675), ('j', 17373), ('la', 16886), ('à', 16590), ('pas', 16303), ('que', 12285), ('en', 12169), ('un', 11196), ('et', 10708), ('a', 10113), ('ça', 9796), ('ai', 9110), ('l', 8660), ('mais', 8316), ('il', 8295), ('pour', 7892), ('tu', 7453), ('d', 7379), ('on', 7049), ('😂', 6887), ('une', 6871), ('me', 6226), ('qui', 5488), ('ce', 5437), ('t', 5269), ('😭', 5106), ('dans', 4929), ('plus', 4898), ('sur', 4836), ('mon', 4530), ('moi', 4479), ('suis', 4457), ('qu', 4358), ('y', 4166), ('avec', 3970), ('fait', 3957), ('bien', 3907), ('trop', 3823), ('vous', 3815), ('ma', 3668), ('si', 3622), ('tout', 3309), ('m', 3236), ('elle', 3205), ('va', 3168), ('faire', 3076), ('même', 3048), ('merci', 2790), ('toi', 2771), ('ne', 2766), ('bon', 2712), ('quand', 2694), ('mdr', 2607), ('oui', 2521), ('ils', 2496), ('comme', 2482), ('non', 2463), ('n', 2449), ('se', 2358), ('là', 2271), ('être', 2264), ('aussi', 2252), ('te', 2250), ('️', 2204), ('quoi', 2169), ('vais', 2040), ('as', 1964), ('s', 1917), ('ou', 1907), ('ah', 1854), ('rien', 1835), ('es', 1825), ('mes', 1753), ('par', 1733), ('était', 1710), ('encore', 1624), ('cette', 1610), ('vraiment', 1605), ('faut', 1599), ('sont', 1555), ('😍', 1509), ('sa', 1470), ('ca', 1435), ('alors', 1408), ('nous', 1392), ('❤', 1385), ('voir', 1378), ('son', 1372), ('bah', 1370), ('fais', 1361), ('vie', 1359), ('sais', 1321), ('jamais', 1308), ('donc', 1294)]\n"
     ]
    }
   ],
   "source": [
    "mot_poids = {index_mot[index]: poids.detach().numpy() for (index, poids) in enumerate(mat_finale)}\n",
    "\n",
    "def cos_distance(u, v):\n",
    "    return (np.dot(u, v)  / (math.sqrt(np.dot(u, u)) *  (math.sqrt(np.dot(v, v)))))\n",
    "def mot_plus_proche(word, n=10):\n",
    "    word_distance = {}\n",
    "    for mot in mot_poids:\n",
    "        if mot != word:\n",
    "            word_distance[mot] = (cos_distance(mot_poids[mot],(mot_poids[word])))\n",
    "    word_distance = sorted(word_distance.items(), key=lambda t: t[1],reverse=True)\n",
    "    return word_distance[0:n]\n",
    "print(fdist.most_common(100))"
   ]
  },
  {
   "cell_type": "code",
   "execution_count": 16,
   "metadata": {
    "scrolled": true
   },
   "outputs": [
    {
     "name": "stdout",
     "output_type": "stream",
     "text": [
      "Pour le mot \"tweet\" (444 apparitions), les mots les plus proches sont : \n",
      "[('beautiful', 0.8085859265767529), ('intenable', 0.7772704524089636), ('niker', 0.7756758515016668), ('qué', 0.7552172296824832), ('soûle', 0.7248469554235322), ('jprefere', 0.7213518593936795), ('chips', 0.7114041219192336), ('diabate', 0.6928569544105476), ('asiatique', 0.6917590080688086), ('haïti', 0.6916455867647175)]\n",
      "\n",
      "\n",
      "Pour le mot \"bonjour\" (619 apparitions), les mots les plus proches sont : \n",
      "[('tattoo', 0.7385768672238534), ('jiji', 0.7252571266164949), ('zainaba', 0.7142443573743924), ('doom', 0.7111131302317018), ('cameroun', 0.7071276111994117), ('bana', 0.6996338971774752), ('délicieuse', 0.698434741029062), ('préférerais', 0.6942000211183759), ('tattoos', 0.6810028672438461), ('fik', 0.6809466895683851)]\n",
      "\n",
      "\n",
      "Pour le mot \"wesh\" (119 apparitions), les mots les plus proches sont : \n",
      "[('erdogan', 0.7903659134827974), ('end', 0.7493248615983714), ('angela', 0.7462244425490895), ('méprisant', 0.7410745557570118), ('riez', 0.740608952458231), ('gros', 0.7373518944946008), ('verront', 0.7333849234942792), ('courante', 0.7324073444747379), ('étymologie', 0.7255266562528228), ('loupé', 0.7219251363199797)]\n",
      "\n",
      "\n",
      "Pour le mot \"gros\" (819 apparitions), les mots les plus proches sont : \n",
      "[('larme', 0.7443812995382622), ('wesh', 0.7373518944946008), ('seule', 0.7270692379154957), ('coyote', 0.7192736001140871), ('insiste', 0.7095200929179784), ('voile', 0.6978835301570171), ('craqué', 0.6947019209625566), ('cliffhanger', 0.6877969714145524), ('naïveté', 0.686774796290806), ('store', 0.6810107888825275)]\n",
      "\n",
      "\n",
      "Pour le mot \"grosse\" (312 apparitions), les mots les plus proches sont : \n",
      "[('désintéressé', 0.766138506701559), ('chemin', 0.7610584786018382), ('ultra', 0.7375048504998901), ('ahhhhhhhhhh', 0.7358351427105189), ('flashé', 0.7355901997163831), ('fondée', 0.7340537220065398), ('qund', 0.7245749584219855), ('jalousie', 0.7238363830457464), ('harem', 0.7123396903862049), ('enfou', 0.7075460098386422)]\n",
      "\n",
      "\n",
      "Pour le mot \"femme\" (267 apparitions), les mots les plus proches sont : \n",
      "[('orbite', 0.8115296158613398), ('chargée', 0.8004477286231759), ('apportée', 0.7912012444332578), ('7mois', 0.7753551184860601), ('relancé', 0.7745446203330952), ('mdrrrrrrrrrrrrr', 0.7738931510795269), ('bits', 0.7598486650833154), ('grève', 0.7587915928071165), ('semestre', 0.7453879157389224), ('thi', 0.7437503543661544)]\n",
      "\n",
      "\n"
     ]
    }
   ],
   "source": [
    "mots = [\"tweet\", \"bonjour\", \"wesh\", \"gros\", \"grosse\", \"femme\"]\n",
    "for mot in mots:\n",
    "    if mot in mot_index:\n",
    "        print('Pour le mot \"%s\"' %mot + \" (%i apparitions), les mots les plus proches sont : \" %fdist[mot])\n",
    "        print(mot_plus_proche(mot))\n",
    "        print(\"\\n\")"
   ]
  },
  {
   "cell_type": "markdown",
   "metadata": {},
   "source": [
    "# 2. Evaluation par le \"human judgement\""
   ]
  },
  {
   "cell_type": "code",
   "execution_count": 8,
   "metadata": {},
   "outputs": [
    {
     "data": {
      "text/html": [
       "<div>\n",
       "<style scoped>\n",
       "    .dataframe tbody tr th:only-of-type {\n",
       "        vertical-align: middle;\n",
       "    }\n",
       "\n",
       "    .dataframe tbody tr th {\n",
       "        vertical-align: top;\n",
       "    }\n",
       "\n",
       "    .dataframe thead th {\n",
       "        text-align: right;\n",
       "    }\n",
       "</style>\n",
       "<table border=\"1\" class=\"dataframe\">\n",
       "  <thead>\n",
       "    <tr style=\"text-align: right;\">\n",
       "      <th></th>\n",
       "      <th>word1</th>\n",
       "      <th>word2</th>\n",
       "      <th>corr</th>\n",
       "    </tr>\n",
       "  </thead>\n",
       "  <tbody>\n",
       "    <tr>\n",
       "      <th>0</th>\n",
       "      <td>corde</td>\n",
       "      <td>sourire</td>\n",
       "      <td>0.00</td>\n",
       "    </tr>\n",
       "    <tr>\n",
       "      <th>1</th>\n",
       "      <td>midi</td>\n",
       "      <td>ficelle</td>\n",
       "      <td>0.00</td>\n",
       "    </tr>\n",
       "    <tr>\n",
       "      <th>2</th>\n",
       "      <td>coq</td>\n",
       "      <td>périple</td>\n",
       "      <td>0.06</td>\n",
       "    </tr>\n",
       "    <tr>\n",
       "      <th>3</th>\n",
       "      <td>fruit</td>\n",
       "      <td>fournaise</td>\n",
       "      <td>0.11</td>\n",
       "    </tr>\n",
       "    <tr>\n",
       "      <th>4</th>\n",
       "      <td>autographe</td>\n",
       "      <td>rivage</td>\n",
       "      <td>0.00</td>\n",
       "    </tr>\n",
       "    <tr>\n",
       "      <th>...</th>\n",
       "      <td>...</td>\n",
       "      <td>...</td>\n",
       "      <td>...</td>\n",
       "    </tr>\n",
       "    <tr>\n",
       "      <th>60</th>\n",
       "      <td>coussin</td>\n",
       "      <td>oreiller</td>\n",
       "      <td>3.00</td>\n",
       "    </tr>\n",
       "    <tr>\n",
       "      <th>61</th>\n",
       "      <td>cimetière</td>\n",
       "      <td>cimetière</td>\n",
       "      <td>4.00</td>\n",
       "    </tr>\n",
       "    <tr>\n",
       "      <th>62</th>\n",
       "      <td>automobile</td>\n",
       "      <td>auto</td>\n",
       "      <td>3.94</td>\n",
       "    </tr>\n",
       "    <tr>\n",
       "      <th>63</th>\n",
       "      <td>joyau</td>\n",
       "      <td>bijou</td>\n",
       "      <td>3.22</td>\n",
       "    </tr>\n",
       "    <tr>\n",
       "      <th>64</th>\n",
       "      <td>midi</td>\n",
       "      <td>dîner</td>\n",
       "      <td>2.17</td>\n",
       "    </tr>\n",
       "  </tbody>\n",
       "</table>\n",
       "<p>65 rows × 3 columns</p>\n",
       "</div>"
      ],
      "text/plain": [
       "         word1      word2  corr\n",
       "0        corde    sourire  0.00\n",
       "1         midi    ficelle  0.00\n",
       "2          coq    périple  0.06\n",
       "3        fruit  fournaise  0.11\n",
       "4   autographe     rivage  0.00\n",
       "..         ...        ...   ...\n",
       "60     coussin   oreiller  3.00\n",
       "61   cimetière  cimetière  4.00\n",
       "62  automobile       auto  3.94\n",
       "63       joyau      bijou  3.22\n",
       "64        midi      dîner  2.17\n",
       "\n",
       "[65 rows x 3 columns]"
      ]
     },
     "execution_count": 8,
     "metadata": {},
     "output_type": "execute_result"
    }
   ],
   "source": [
    "from scipy.stats import spearmanr\n",
    "df = pd.read_csv('data_bis/word_similarity.csv', sep=\";\")\n",
    "df"
   ]
  },
  {
   "cell_type": "code",
   "execution_count": 11,
   "metadata": {},
   "outputs": [
    {
     "name": "stdout",
     "output_type": "stream",
     "text": [
      "45\n",
      "45\n"
     ]
    },
    {
     "data": {
      "text/html": [
       "<div>\n",
       "<style scoped>\n",
       "    .dataframe tbody tr th:only-of-type {\n",
       "        vertical-align: middle;\n",
       "    }\n",
       "\n",
       "    .dataframe tbody tr th {\n",
       "        vertical-align: top;\n",
       "    }\n",
       "\n",
       "    .dataframe thead th {\n",
       "        text-align: right;\n",
       "    }\n",
       "</style>\n",
       "<table border=\"1\" class=\"dataframe\">\n",
       "  <thead>\n",
       "    <tr style=\"text-align: right;\">\n",
       "      <th></th>\n",
       "      <th>word1</th>\n",
       "      <th>word2</th>\n",
       "      <th>corr</th>\n",
       "      <th>corr_word2vec</th>\n",
       "    </tr>\n",
       "  </thead>\n",
       "  <tbody>\n",
       "    <tr>\n",
       "      <th>0</th>\n",
       "      <td>corde</td>\n",
       "      <td>sourire</td>\n",
       "      <td>0.00</td>\n",
       "      <td>-0.057860</td>\n",
       "    </tr>\n",
       "    <tr>\n",
       "      <th>1</th>\n",
       "      <td>midi</td>\n",
       "      <td>ficelle</td>\n",
       "      <td>0.00</td>\n",
       "      <td>0.339604</td>\n",
       "    </tr>\n",
       "    <tr>\n",
       "      <th>2</th>\n",
       "      <td>coq</td>\n",
       "      <td>périple</td>\n",
       "      <td>0.06</td>\n",
       "      <td>-0.020490</td>\n",
       "    </tr>\n",
       "    <tr>\n",
       "      <th>5</th>\n",
       "      <td>automobile</td>\n",
       "      <td>sorcier</td>\n",
       "      <td>0.00</td>\n",
       "      <td>0.342599</td>\n",
       "    </tr>\n",
       "    <tr>\n",
       "      <th>7</th>\n",
       "      <td>grimace</td>\n",
       "      <td>instrument</td>\n",
       "      <td>0.00</td>\n",
       "      <td>0.019929</td>\n",
       "    </tr>\n",
       "    <tr>\n",
       "      <th>8</th>\n",
       "      <td>refuge</td>\n",
       "      <td>fruit</td>\n",
       "      <td>0.00</td>\n",
       "      <td>-0.061936</td>\n",
       "    </tr>\n",
       "    <tr>\n",
       "      <th>9</th>\n",
       "      <td>refuge</td>\n",
       "      <td>moine</td>\n",
       "      <td>0.22</td>\n",
       "      <td>-0.127719</td>\n",
       "    </tr>\n",
       "    <tr>\n",
       "      <th>10</th>\n",
       "      <td>cimetière</td>\n",
       "      <td>asylum</td>\n",
       "      <td>0.22</td>\n",
       "      <td>0.126889</td>\n",
       "    </tr>\n",
       "    <tr>\n",
       "      <th>11</th>\n",
       "      <td>garçon</td>\n",
       "      <td>coq</td>\n",
       "      <td>0.44</td>\n",
       "      <td>0.038029</td>\n",
       "    </tr>\n",
       "    <tr>\n",
       "      <th>12</th>\n",
       "      <td>verre</td>\n",
       "      <td>magicien</td>\n",
       "      <td>0.06</td>\n",
       "      <td>0.123786</td>\n",
       "    </tr>\n",
       "    <tr>\n",
       "      <th>14</th>\n",
       "      <td>moine</td>\n",
       "      <td>esclave</td>\n",
       "      <td>0.17</td>\n",
       "      <td>-0.105250</td>\n",
       "    </tr>\n",
       "    <tr>\n",
       "      <th>15</th>\n",
       "      <td>refuge</td>\n",
       "      <td>cimetière</td>\n",
       "      <td>0.50</td>\n",
       "      <td>0.103131</td>\n",
       "    </tr>\n",
       "    <tr>\n",
       "      <th>16</th>\n",
       "      <td>côte</td>\n",
       "      <td>forêt</td>\n",
       "      <td>0.22</td>\n",
       "      <td>-0.008672</td>\n",
       "    </tr>\n",
       "    <tr>\n",
       "      <th>17</th>\n",
       "      <td>grimace</td>\n",
       "      <td>gars</td>\n",
       "      <td>0.11</td>\n",
       "      <td>0.390962</td>\n",
       "    </tr>\n",
       "    <tr>\n",
       "      <th>19</th>\n",
       "      <td>moine</td>\n",
       "      <td>oracle</td>\n",
       "      <td>0.39</td>\n",
       "      <td>0.134625</td>\n",
       "    </tr>\n",
       "    <tr>\n",
       "      <th>20</th>\n",
       "      <td>garçon</td>\n",
       "      <td>sage</td>\n",
       "      <td>0.29</td>\n",
       "      <td>0.340016</td>\n",
       "    </tr>\n",
       "    <tr>\n",
       "      <th>23</th>\n",
       "      <td>gars</td>\n",
       "      <td>sorcier</td>\n",
       "      <td>0.44</td>\n",
       "      <td>-0.411069</td>\n",
       "    </tr>\n",
       "    <tr>\n",
       "      <th>24</th>\n",
       "      <td>forêt</td>\n",
       "      <td>cimetière</td>\n",
       "      <td>0.17</td>\n",
       "      <td>0.301200</td>\n",
       "    </tr>\n",
       "    <tr>\n",
       "      <th>25</th>\n",
       "      <td>nourriture</td>\n",
       "      <td>coq</td>\n",
       "      <td>0.61</td>\n",
       "      <td>-0.156887</td>\n",
       "    </tr>\n",
       "    <tr>\n",
       "      <th>26</th>\n",
       "      <td>cimetière</td>\n",
       "      <td>bois</td>\n",
       "      <td>0.11</td>\n",
       "      <td>-0.078943</td>\n",
       "    </tr>\n",
       "    <tr>\n",
       "      <th>28</th>\n",
       "      <td>oiseau</td>\n",
       "      <td>bois</td>\n",
       "      <td>0.06</td>\n",
       "      <td>0.030117</td>\n",
       "    </tr>\n",
       "    <tr>\n",
       "      <th>29</th>\n",
       "      <td>côte</td>\n",
       "      <td>colline</td>\n",
       "      <td>2.17</td>\n",
       "      <td>-0.101483</td>\n",
       "    </tr>\n",
       "    <tr>\n",
       "      <th>32</th>\n",
       "      <td>colline</td>\n",
       "      <td>bois</td>\n",
       "      <td>0.44</td>\n",
       "      <td>-0.433681</td>\n",
       "    </tr>\n",
       "    <tr>\n",
       "      <th>33</th>\n",
       "      <td>auto</td>\n",
       "      <td>voyage</td>\n",
       "      <td>0.33</td>\n",
       "      <td>0.272789</td>\n",
       "    </tr>\n",
       "    <tr>\n",
       "      <th>35</th>\n",
       "      <td>verre</td>\n",
       "      <td>bijou</td>\n",
       "      <td>0.56</td>\n",
       "      <td>0.366943</td>\n",
       "    </tr>\n",
       "    <tr>\n",
       "      <th>36</th>\n",
       "      <td>magicien</td>\n",
       "      <td>oracle</td>\n",
       "      <td>0.56</td>\n",
       "      <td>-0.288636</td>\n",
       "    </tr>\n",
       "    <tr>\n",
       "      <th>38</th>\n",
       "      <td>frère</td>\n",
       "      <td>gars</td>\n",
       "      <td>2.00</td>\n",
       "      <td>-0.219803</td>\n",
       "    </tr>\n",
       "    <tr>\n",
       "      <th>39</th>\n",
       "      <td>sage</td>\n",
       "      <td>sorcier</td>\n",
       "      <td>0.83</td>\n",
       "      <td>-0.010604</td>\n",
       "    </tr>\n",
       "    <tr>\n",
       "      <th>40</th>\n",
       "      <td>oracle</td>\n",
       "      <td>sage</td>\n",
       "      <td>1.28</td>\n",
       "      <td>0.063729</td>\n",
       "    </tr>\n",
       "    <tr>\n",
       "      <th>42</th>\n",
       "      <td>oiseau</td>\n",
       "      <td>coq</td>\n",
       "      <td>2.41</td>\n",
       "      <td>0.174995</td>\n",
       "    </tr>\n",
       "    <tr>\n",
       "      <th>43</th>\n",
       "      <td>nourriture</td>\n",
       "      <td>fruit</td>\n",
       "      <td>2.78</td>\n",
       "      <td>-0.123629</td>\n",
       "    </tr>\n",
       "    <tr>\n",
       "      <th>44</th>\n",
       "      <td>frère</td>\n",
       "      <td>moine</td>\n",
       "      <td>2.89</td>\n",
       "      <td>-0.055148</td>\n",
       "    </tr>\n",
       "    <tr>\n",
       "      <th>45</th>\n",
       "      <td>refuge</td>\n",
       "      <td>asile</td>\n",
       "      <td>3.28</td>\n",
       "      <td>-0.059600</td>\n",
       "    </tr>\n",
       "    <tr>\n",
       "      <th>47</th>\n",
       "      <td>magicien</td>\n",
       "      <td>sorcier</td>\n",
       "      <td>2.67</td>\n",
       "      <td>0.111167</td>\n",
       "    </tr>\n",
       "    <tr>\n",
       "      <th>49</th>\n",
       "      <td>corde</td>\n",
       "      <td>ficelle</td>\n",
       "      <td>3.33</td>\n",
       "      <td>0.109145</td>\n",
       "    </tr>\n",
       "    <tr>\n",
       "      <th>51</th>\n",
       "      <td>grimace</td>\n",
       "      <td>sourire</td>\n",
       "      <td>1.50</td>\n",
       "      <td>0.160009</td>\n",
       "    </tr>\n",
       "    <tr>\n",
       "      <th>53</th>\n",
       "      <td>voyage</td>\n",
       "      <td>périple</td>\n",
       "      <td>2.59</td>\n",
       "      <td>-0.354303</td>\n",
       "    </tr>\n",
       "    <tr>\n",
       "      <th>54</th>\n",
       "      <td>autographe</td>\n",
       "      <td>signature</td>\n",
       "      <td>3.56</td>\n",
       "      <td>-0.054612</td>\n",
       "    </tr>\n",
       "    <tr>\n",
       "      <th>56</th>\n",
       "      <td>forêt</td>\n",
       "      <td>bois</td>\n",
       "      <td>3.72</td>\n",
       "      <td>-0.163119</td>\n",
       "    </tr>\n",
       "    <tr>\n",
       "      <th>57</th>\n",
       "      <td>instrument</td>\n",
       "      <td>outil</td>\n",
       "      <td>3.00</td>\n",
       "      <td>0.655849</td>\n",
       "    </tr>\n",
       "    <tr>\n",
       "      <th>58</th>\n",
       "      <td>coq</td>\n",
       "      <td>coq</td>\n",
       "      <td>4.00</td>\n",
       "      <td>1.000000</td>\n",
       "    </tr>\n",
       "    <tr>\n",
       "      <th>59</th>\n",
       "      <td>garçon</td>\n",
       "      <td>gars</td>\n",
       "      <td>3.83</td>\n",
       "      <td>0.032813</td>\n",
       "    </tr>\n",
       "    <tr>\n",
       "      <th>61</th>\n",
       "      <td>cimetière</td>\n",
       "      <td>cimetière</td>\n",
       "      <td>4.00</td>\n",
       "      <td>1.000000</td>\n",
       "    </tr>\n",
       "    <tr>\n",
       "      <th>62</th>\n",
       "      <td>automobile</td>\n",
       "      <td>auto</td>\n",
       "      <td>3.94</td>\n",
       "      <td>0.138546</td>\n",
       "    </tr>\n",
       "    <tr>\n",
       "      <th>64</th>\n",
       "      <td>midi</td>\n",
       "      <td>dîner</td>\n",
       "      <td>2.17</td>\n",
       "      <td>-0.297003</td>\n",
       "    </tr>\n",
       "  </tbody>\n",
       "</table>\n",
       "</div>"
      ],
      "text/plain": [
       "         word1       word2  corr  corr_word2vec\n",
       "0        corde     sourire  0.00      -0.057860\n",
       "1         midi     ficelle  0.00       0.339604\n",
       "2          coq     périple  0.06      -0.020490\n",
       "5   automobile     sorcier  0.00       0.342599\n",
       "7      grimace  instrument  0.00       0.019929\n",
       "8       refuge       fruit  0.00      -0.061936\n",
       "9       refuge       moine  0.22      -0.127719\n",
       "10   cimetière      asylum  0.22       0.126889\n",
       "11      garçon         coq  0.44       0.038029\n",
       "12       verre    magicien  0.06       0.123786\n",
       "14       moine     esclave  0.17      -0.105250\n",
       "15      refuge   cimetière  0.50       0.103131\n",
       "16        côte       forêt  0.22      -0.008672\n",
       "17     grimace        gars  0.11       0.390962\n",
       "19       moine      oracle  0.39       0.134625\n",
       "20      garçon        sage  0.29       0.340016\n",
       "23        gars     sorcier  0.44      -0.411069\n",
       "24       forêt   cimetière  0.17       0.301200\n",
       "25  nourriture         coq  0.61      -0.156887\n",
       "26   cimetière        bois  0.11      -0.078943\n",
       "28      oiseau        bois  0.06       0.030117\n",
       "29        côte     colline  2.17      -0.101483\n",
       "32     colline        bois  0.44      -0.433681\n",
       "33        auto      voyage  0.33       0.272789\n",
       "35       verre       bijou  0.56       0.366943\n",
       "36    magicien      oracle  0.56      -0.288636\n",
       "38       frère        gars  2.00      -0.219803\n",
       "39        sage     sorcier  0.83      -0.010604\n",
       "40      oracle        sage  1.28       0.063729\n",
       "42      oiseau         coq  2.41       0.174995\n",
       "43  nourriture       fruit  2.78      -0.123629\n",
       "44       frère       moine  2.89      -0.055148\n",
       "45      refuge       asile  3.28      -0.059600\n",
       "47    magicien     sorcier  2.67       0.111167\n",
       "49       corde     ficelle  3.33       0.109145\n",
       "51     grimace     sourire  1.50       0.160009\n",
       "53      voyage     périple  2.59      -0.354303\n",
       "54  autographe   signature  3.56      -0.054612\n",
       "56       forêt        bois  3.72      -0.163119\n",
       "57  instrument       outil  3.00       0.655849\n",
       "58         coq         coq  4.00       1.000000\n",
       "59      garçon        gars  3.83       0.032813\n",
       "61   cimetière   cimetière  4.00       1.000000\n",
       "62  automobile        auto  3.94       0.138546\n",
       "64        midi       dîner  2.17      -0.297003"
      ]
     },
     "execution_count": 11,
     "metadata": {},
     "output_type": "execute_result"
    }
   ],
   "source": [
    "def distance_mots(word1,word2):\n",
    "    if word1 in mot_poids.keys() and word2 in mot_poids.keys():\n",
    "        word_distance = (cos_distance(mot_poids[word1],(mot_poids[word2])))\n",
    "    else:\n",
    "        word_distance = float('nan')\n",
    "    return word_distance\n",
    "distance_mots_v = np.vectorize(distance_mots)\n",
    "df[\"corr_word2vec\"] = distance_mots_v(df[\"word1\"],df[\"word2\"])\n",
    "print(len(df))\n",
    "df = df.dropna()\n",
    "print(len(df))\n",
    "df"
   ]
  },
  {
   "cell_type": "code",
   "execution_count": 12,
   "metadata": {},
   "outputs": [
    {
     "name": "stdout",
     "output_type": "stream",
     "text": [
      "Le résultat de word2vec est différent de celui du human judgement (non rejet de H0 = non corrélation) p=0.942 / Valeur de la corrélation : -0.011\n"
     ]
    }
   ],
   "source": [
    "#On fait des tests à 5 %\n",
    "alpha = 0.05\n",
    "corr, p_value = spearmanr(df[\"corr\"], df[\"corr_word2vec\"])\n",
    "if p_value > alpha:\n",
    "    print('Le résultat de word2vec est différent de celui du human judgement (non rejet de H0 = non corrélation) p=%.3f' % p_value,'/ Valeur de la corrélation : %.3f'% corr)\n",
    "else:\n",
    "    print('Le résultat de word2vec est semblable celui du human judgement (rejet de H0 = non corrélation) p=%.3f' % p_value,'/ Valeur de la corrélation : %.3f'% corr)"
   ]
  },
  {
   "cell_type": "markdown",
   "metadata": {},
   "source": [
    "# 3. PCA"
   ]
  },
  {
   "cell_type": "code",
   "execution_count": 215,
   "metadata": {},
   "outputs": [],
   "source": [
    "def ACP(liste, statique = True, nom_couples_explicite=True):\n",
    "    # On enlève les mots qui n'existent pas\n",
    "    liste_triee =[]\n",
    "    for couple in liste:\n",
    "        liste_triee.append([w for w in couple if w in mot_index]) \n",
    "    liste_mots = [w for couple in liste_triee for w in couple]\n",
    "\n",
    "    df_res = pd.DataFrame.from_dict(mot_poids).transpose()\n",
    "    df_res = df_res.loc[liste_mots]\n",
    "    df_res['label'] = 'Autre' \n",
    "\n",
    "    if nom_couples_explicite:\n",
    "        for couple in liste_triee:\n",
    "            df_res.loc[couple,'label'] = '/'.join(couple)\n",
    "    else:\n",
    "        for i in range(0, len(liste_triee)):\n",
    "            df_res.loc[liste_triee[i],'label'] = \"Couple %i\" %i        \n",
    "\n",
    "    features = list(range(0, len(liste_triee)))\n",
    "    # Separating out the features\n",
    "    x = df_res.loc[:, features].values\n",
    "    # Separating out the target\n",
    "    y = df_res.loc[:,['label']].values\n",
    "    # Standardizing the features\n",
    "    x = StandardScaler().fit_transform(x)\n",
    "\n",
    "    pca = PCA(n_components=2)\n",
    "    principalComponents = pca.fit_transform(x)\n",
    "    principalDf = pd.DataFrame(data = principalComponents\n",
    "                 , columns = ['Axe 1', 'Axe 2'])\n",
    "\n",
    "    df_res['mot'] = df_res.index.values\n",
    "    df_res = df_res.reset_index()\n",
    "\n",
    "    finalDf = pd.concat([principalDf, df_res[['label','mot']]],  axis = 1)\n",
    "\n",
    "    if statique:\n",
    "        # Représentation simple statique \n",
    "        fig = plt.figure(figsize = (12,8))\n",
    "        g = sns.scatterplot(x=\"Axe 1\", y=\"Axe 2\",\n",
    "                        hue=\"label\", data=finalDf, s = 150)\n",
    "        handles, labels = ax.get_legend_handles_labels()\n",
    "        box = g.get_position()\n",
    "        g.set_position([box.x0, box.y0, box.width * 0.85, box.height]) # resize position\n",
    "\n",
    "        # Put a legend to the right side\n",
    "        g.legend(loc='center right', bbox_to_anchor=(1.3, 0.5), ncol=1,\n",
    "                 handles=handles[1:], labels=list(dict.fromkeys(finalDf[\"label\"])))\n",
    "    else:\n",
    "        init_notebook_mode(connected=True)\n",
    "\n",
    "        cf.go_offline()\n",
    "        cf.set_config_file(offline=False, world_readable=True)\n",
    "\n",
    "        #Travailler avec sous-table sinon trop lourd\n",
    "        #subFinalDf = pd.concat([finalDf[(finalDf['label'] != \"Autre\")],finalDf.iloc[1:100:]],  axis = 0)\n",
    "        subFinalDf = pd.concat([finalDf],  axis = 0)\n",
    "\n",
    "        subFinalDf.iplot(kind='scatter',\n",
    "                      mode='markers',\n",
    "                      x='Axe 1',\n",
    "                      y='Axe 2',\n",
    "                      categories='label',\n",
    "                      text='mot',\n",
    "                      xTitle='Axe 1',\n",
    "                      yTitle='Axe 2',\n",
    "                      title='ACP en 2 composantes',\n",
    "                      filename='cufflinks/simple-scatter')\n"
   ]
  },
  {
   "cell_type": "code",
   "execution_count": 230,
   "metadata": {},
   "outputs": [],
   "source": [
    "liste = [[\"homme\",\"femme\", \"enfant\"],[\"chien\",\"chat\"],\n",
    "         [\"vanille\",\"chocolat\"],\n",
    "    [\"poli\",\"courtois\"],[\"bonjour\",\"salut\"],[\"propre\",\"sale\"],[\"canapé\",\"fauteuil\"],\n",
    "    [\"téléphone\",\"portable\"],[\"voiture\",\"camion\"],[\"grand\",\"petit\"]]"
   ]
  },
  {
   "cell_type": "code",
   "execution_count": 231,
   "metadata": {},
   "outputs": [
    {
     "data": {
      "image/png": "[encoded data removed]",
      "text/plain": [
       "<Figure size 864x576 with 1 Axes>"
      ]
     },
     "metadata": {
      "needs_background": "light"
     },
     "output_type": "display_data"
    }
   ],
   "source": [
    "ACP(liste, statique = True)"
   ]
  },
  {
   "cell_type": "code",
   "execution_count": 218,
   "metadata": {},
   "outputs": [
    {
     "data": {
      "text/html": [
       "        <script type=\"text/javascript\">\n",
       "        window.PlotlyConfig = {MathJaxConfig: 'local'};\n",
       "        if (window.MathJax) {MathJax.Hub.Config({SVG: {font: \"STIX-Web\"}});}\n",
       "        if (typeof require !== 'undefined') {\n",
       "        require.undef(\"plotly\");\n",
       "        requirejs.config({\n",
       "            paths: {\n",
       "                'plotly': ['https://cdn.plot.ly/plotly-latest.min']\n",
       "            }\n",
       "        });\n",
       "        require(['plotly'], function(Plotly) {\n",
       "            window._Plotly = Plotly;\n",
       "        });\n",
       "        }\n",
       "        </script>\n",
       "        "
      ]
     },
     "metadata": {},
     "output_type": "display_data"
    },
    {
     "data": {
      "text/html": [
       "        <script type=\"text/javascript\">\n",
       "        window.PlotlyConfig = {MathJaxConfig: 'local'};\n",
       "        if (window.MathJax) {MathJax.Hub.Config({SVG: {font: \"STIX-Web\"}});}\n",
       "        if (typeof require !== 'undefined') {\n",
       "        require.undef(\"plotly\");\n",
       "        requirejs.config({\n",
       "            paths: {\n",
       "                'plotly': ['https://cdn.plot.ly/plotly-latest.min']\n",
       "            }\n",
       "        });\n",
       "        require(['plotly'], function(Plotly) {\n",
       "            window._Plotly = Plotly;\n",
       "        });\n",
       "        }\n",
       "        </script>\n",
       "        "
      ]
     },
     "metadata": {},
     "output_type": "display_data"
    },
    {
     "data": {
      "application/vnd.plotly.v1+json": {
       "config": {
        "linkText": "Export to plot.ly",
        "plotlyServerURL": "https://plot.ly",
        "showLink": true
       },
       "data": [
        {
         "marker": {
          "color": "rgba(255, 153, 51, 1.0)",
          "line": {
           "width": 1.3
          },
          "opacity": 0.8,
          "size": 12,
          "symbol": "circle"
         },
         "mode": "markers",
         "name": "homme/femme/enfant",
         "text": [
          "homme",
          "femme",
          "enfant"
         ],
         "textfont": {
          "color": "#4D5663"
         },
         "type": "scatter",
         "x": [
          0.24883577227592468,
          0.0037618610076606274,
          -2.39188551902771
         ],
         "y": [
          1.1293370723724365,
          0.14680109918117523,
          -2.519412040710449
         ]
        },
        {
         "marker": {
          "color": "rgba(55, 128, 191, 1.0)",
          "line": {
           "width": 1.3
          },
          "opacity": 0.8,
          "size": 12,
          "symbol": "circle"
         },
         "mode": "markers",
         "name": "chien/chat",
         "text": [
          "chien",
          "chat"
         ],
         "textfont": {
          "color": "#4D5663"
         },
         "type": "scatter",
         "x": [
          -1.0462470054626465,
          -1.1834759712219238
         ],
         "y": [
          -2.535360813140869,
          -0.8954181671142578
         ]
        },
        {
         "marker": {
          "color": "rgba(50, 171, 96, 1.0)",
          "line": {
           "width": 1.3
          },
          "opacity": 0.8,
          "size": 12,
          "symbol": "circle"
         },
         "mode": "markers",
         "name": "vanille/chocolat",
         "text": [
          "vanille",
          "chocolat"
         ],
         "textfont": {
          "color": "#4D5663"
         },
         "type": "scatter",
         "x": [
          2.0556509494781494,
          -3.146338701248169
         ],
         "y": [
          -0.9581488966941833,
          -0.34264662861824036
         ]
        },
        {
         "marker": {
          "color": "rgba(128, 0, 128, 1.0)",
          "line": {
           "width": 1.3
          },
          "opacity": 0.8,
          "size": 12,
          "symbol": "circle"
         },
         "mode": "markers",
         "name": "poli/courtois",
         "text": [
          "poli",
          "courtois"
         ],
         "textfont": {
          "color": "#4D5663"
         },
         "type": "scatter",
         "x": [
          1.0814621448516846,
          -0.5026469230651855
         ],
         "y": [
          0.46465829014778137,
          0.578233003616333
         ]
        },
        {
         "marker": {
          "color": "rgba(219, 64, 82, 1.0)",
          "line": {
           "width": 1.3
          },
          "opacity": 0.8,
          "size": 12,
          "symbol": "circle"
         },
         "mode": "markers",
         "name": "bonjour/salut",
         "text": [
          "bonjour",
          "salut"
         ],
         "textfont": {
          "color": "#4D5663"
         },
         "type": "scatter",
         "x": [
          -0.3516134023666382,
          -0.8475710153579712
         ],
         "y": [
          1.0953532457351685,
          3.2132174968719482
         ]
        },
        {
         "marker": {
          "color": "rgba(0, 128, 128, 1.0)",
          "line": {
           "width": 1.3
          },
          "opacity": 0.8,
          "size": 12,
          "symbol": "circle"
         },
         "mode": "markers",
         "name": "propre/sale",
         "text": [
          "propre",
          "sale"
         ],
         "textfont": {
          "color": "#4D5663"
         },
         "type": "scatter",
         "x": [
          -0.8213778138160706,
          -0.5736963748931885
         ],
         "y": [
          2.562530279159546,
          0.3607219457626343
         ]
        },
        {
         "marker": {
          "color": "rgba(255, 255, 51, 1.0)",
          "line": {
           "width": 1.3
          },
          "opacity": 0.8,
          "size": 12,
          "symbol": "circle"
         },
         "mode": "markers",
         "name": "canapé/fauteuil",
         "text": [
          "canapé",
          "fauteuil"
         ],
         "textfont": {
          "color": "#4D5663"
         },
         "type": "scatter",
         "x": [
          0.5660496354103088,
          0.6004891991615295
         ],
         "y": [
          0.9287437796592712,
          0.6117153167724609
         ]
        },
        {
         "marker": {
          "color": "rgba(128, 128, 0, 1.0)",
          "line": {
           "width": 1.3
          },
          "opacity": 0.8,
          "size": 12,
          "symbol": "circle"
         },
         "mode": "markers",
         "name": "téléphone/portable",
         "text": [
          "téléphone",
          "portable"
         ],
         "textfont": {
          "color": "#4D5663"
         },
         "type": "scatter",
         "x": [
          -0.9992565512657166,
          0.6495267152786255
         ],
         "y": [
          -0.15162065625190735,
          -0.27936187386512756
         ]
        },
        {
         "marker": {
          "color": "rgba(251, 128, 114, 1.0)",
          "line": {
           "width": 1.3
          },
          "opacity": 0.8,
          "size": 12,
          "symbol": "circle"
         },
         "mode": "markers",
         "name": "voiture/camion",
         "text": [
          "voiture",
          "camion"
         ],
         "textfont": {
          "color": "#4D5663"
         },
         "type": "scatter",
         "x": [
          3.3451499938964844,
          -0.03458929806947708
         ],
         "y": [
          -0.006730680353939533,
          -0.5894986391067505
         ]
        },
        {
         "marker": {
          "color": "rgba(128, 177, 211, 1.0)",
          "line": {
           "width": 1.3
          },
          "opacity": 0.8,
          "size": 12,
          "symbol": "circle"
         },
         "mode": "markers",
         "name": "grand/petit",
         "text": [
          "grand",
          "petit"
         ],
         "textfont": {
          "color": "#4D5663"
         },
         "type": "scatter",
         "x": [
          2.235675096511841,
          1.1120966672897339
         ],
         "y": [
          -1.4708030223846436,
          -1.342309832572937
         ]
        }
       ],
       "layout": {
        "legend": {
         "bgcolor": "#F5F6F9",
         "font": {
          "color": "#4D5663"
         }
        },
        "paper_bgcolor": "#F5F6F9",
        "plot_bgcolor": "#F5F6F9",
        "template": {
         "data": {
          "bar": [
           {
            "error_x": {
             "color": "#2a3f5f"
            },
            "error_y": {
             "color": "#2a3f5f"
            },
            "marker": {
             "line": {
              "color": "#E5ECF6",
              "width": 0.5
             }
            },
            "type": "bar"
           }
          ],
          "barpolar": [
           {
            "marker": {
             "line": {
              "color": "#E5ECF6",
              "width": 0.5
             }
            },
            "type": "barpolar"
           }
          ],
          "carpet": [
           {
            "aaxis": {
             "endlinecolor": "#2a3f5f",
             "gridcolor": "white",
             "linecolor": "white",
             "minorgridcolor": "white",
             "startlinecolor": "#2a3f5f"
            },
            "baxis": {
             "endlinecolor": "#2a3f5f",
             "gridcolor": "white",
             "linecolor": "white",
             "minorgridcolor": "white",
             "startlinecolor": "#2a3f5f"
            },
            "type": "carpet"
           }
          ],
          "choropleth": [
           {
            "colorbar": {
             "outlinewidth": 0,
             "ticks": ""
            },
            "type": "choropleth"
           }
          ],
          "contour": [
           {
            "colorbar": {
             "outlinewidth": 0,
             "ticks": ""
            },
            "colorscale": [
             [
              0,
              "#0d0887"
             ],
             [
              0.1111111111111111,
              "#46039f"
             ],
             [
              0.2222222222222222,
              "#7201a8"
             ],
             [
              0.3333333333333333,
              "#9c179e"
             ],
             [
              0.4444444444444444,
              "#bd3786"
             ],
             [
              0.5555555555555556,
              "#d8576b"
             ],
             [
              0.6666666666666666,
              "#ed7953"
             ],
             [
              0.7777777777777778,
              "#fb9f3a"
             ],
             [
              0.8888888888888888,
              "#fdca26"
             ],
             [
              1,
              "#f0f921"
             ]
            ],
            "type": "contour"
           }
          ],
          "contourcarpet": [
           {
            "colorbar": {
             "outlinewidth": 0,
             "ticks": ""
            },
            "type": "contourcarpet"
           }
          ],
          "heatmap": [
           {
            "colorbar": {
             "outlinewidth": 0,
             "ticks": ""
            },
            "colorscale": [
             [
              0,
              "#0d0887"
             ],
             [
              0.1111111111111111,
              "#46039f"
             ],
             [
              0.2222222222222222,
              "#7201a8"
             ],
             [
              0.3333333333333333,
              "#9c179e"
             ],
             [
              0.4444444444444444,
              "#bd3786"
             ],
             [
              0.5555555555555556,
              "#d8576b"
             ],
             [
              0.6666666666666666,
              "#ed7953"
             ],
             [
              0.7777777777777778,
              "#fb9f3a"
             ],
             [
              0.8888888888888888,
              "#fdca26"
             ],
             [
              1,
              "#f0f921"
             ]
            ],
            "type": "heatmap"
           }
          ],
          "heatmapgl": [
           {
            "colorbar": {
             "outlinewidth": 0,
             "ticks": ""
            },
            "colorscale": [
             [
              0,
              "#0d0887"
             ],
             [
              0.1111111111111111,
              "#46039f"
             ],
             [
              0.2222222222222222,
              "#7201a8"
             ],
             [
              0.3333333333333333,
              "#9c179e"
             ],
             [
              0.4444444444444444,
              "#bd3786"
             ],
             [
              0.5555555555555556,
              "#d8576b"
             ],
             [
              0.6666666666666666,
              "#ed7953"
             ],
             [
              0.7777777777777778,
              "#fb9f3a"
             ],
             [
              0.8888888888888888,
              "#fdca26"
             ],
             [
              1,
              "#f0f921"
             ]
            ],
            "type": "heatmapgl"
           }
          ],
          "histogram": [
           {
            "marker": {
             "colorbar": {
              "outlinewidth": 0,
              "ticks": ""
             }
            },
            "type": "histogram"
           }
          ],
          "histogram2d": [
           {
            "colorbar": {
             "outlinewidth": 0,
             "ticks": ""
            },
            "colorscale": [
             [
              0,
              "#0d0887"
             ],
             [
              0.1111111111111111,
              "#46039f"
             ],
             [
              0.2222222222222222,
              "#7201a8"
             ],
             [
              0.3333333333333333,
              "#9c179e"
             ],
             [
              0.4444444444444444,
              "#bd3786"
             ],
             [
              0.5555555555555556,
              "#d8576b"
             ],
             [
              0.6666666666666666,
              "#ed7953"
             ],
             [
              0.7777777777777778,
              "#fb9f3a"
             ],
             [
              0.8888888888888888,
              "#fdca26"
             ],
             [
              1,
              "#f0f921"
             ]
            ],
            "type": "histogram2d"
           }
          ],
          "histogram2dcontour": [
           {
            "colorbar": {
             "outlinewidth": 0,
             "ticks": ""
            },
            "colorscale": [
             [
              0,
              "#0d0887"
             ],
             [
              0.1111111111111111,
              "#46039f"
             ],
             [
              0.2222222222222222,
              "#7201a8"
             ],
             [
              0.3333333333333333,
              "#9c179e"
             ],
             [
              0.4444444444444444,
              "#bd3786"
             ],
             [
              0.5555555555555556,
              "#d8576b"
             ],
             [
              0.6666666666666666,
              "#ed7953"
             ],
             [
              0.7777777777777778,
              "#fb9f3a"
             ],
             [
              0.8888888888888888,
              "#fdca26"
             ],
             [
              1,
              "#f0f921"
             ]
            ],
            "type": "histogram2dcontour"
           }
          ],
          "mesh3d": [
           {
            "colorbar": {
             "outlinewidth": 0,
             "ticks": ""
            },
            "type": "mesh3d"
           }
          ],
          "parcoords": [
           {
            "line": {
             "colorbar": {
              "outlinewidth": 0,
              "ticks": ""
             }
            },
            "type": "parcoords"
           }
          ],
          "pie": [
           {
            "automargin": true,
            "type": "pie"
           }
          ],
          "scatter": [
           {
            "marker": {
             "colorbar": {
              "outlinewidth": 0,
              "ticks": ""
             }
            },
            "type": "scatter"
           }
          ],
          "scatter3d": [
           {
            "line": {
             "colorbar": {
              "outlinewidth": 0,
              "ticks": ""
             }
            },
            "marker": {
             "colorbar": {
              "outlinewidth": 0,
              "ticks": ""
             }
            },
            "type": "scatter3d"
           }
          ],
          "scattercarpet": [
           {
            "marker": {
             "colorbar": {
              "outlinewidth": 0,
              "ticks": ""
             }
            },
            "type": "scattercarpet"
           }
          ],
          "scattergeo": [
           {
            "marker": {
             "colorbar": {
              "outlinewidth": 0,
              "ticks": ""
             }
            },
            "type": "scattergeo"
           }
          ],
          "scattergl": [
           {
            "marker": {
             "colorbar": {
              "outlinewidth": 0,
              "ticks": ""
             }
            },
            "type": "scattergl"
           }
          ],
          "scattermapbox": [
           {
            "marker": {
             "colorbar": {
              "outlinewidth": 0,
              "ticks": ""
             }
            },
            "type": "scattermapbox"
           }
          ],
          "scatterpolar": [
           {
            "marker": {
             "colorbar": {
              "outlinewidth": 0,
              "ticks": ""
             }
            },
            "type": "scatterpolar"
           }
          ],
          "scatterpolargl": [
           {
            "marker": {
             "colorbar": {
              "outlinewidth": 0,
              "ticks": ""
             }
            },
            "type": "scatterpolargl"
           }
          ],
          "scatterternary": [
           {
            "marker": {
             "colorbar": {
              "outlinewidth": 0,
              "ticks": ""
             }
            },
            "type": "scatterternary"
           }
          ],
          "surface": [
           {
            "colorbar": {
             "outlinewidth": 0,
             "ticks": ""
            },
            "colorscale": [
             [
              0,
              "#0d0887"
             ],
             [
              0.1111111111111111,
              "#46039f"
             ],
             [
              0.2222222222222222,
              "#7201a8"
             ],
             [
              0.3333333333333333,
              "#9c179e"
             ],
             [
              0.4444444444444444,
              "#bd3786"
             ],
             [
              0.5555555555555556,
              "#d8576b"
             ],
             [
              0.6666666666666666,
              "#ed7953"
             ],
             [
              0.7777777777777778,
              "#fb9f3a"
             ],
             [
              0.8888888888888888,
              "#fdca26"
             ],
             [
              1,
              "#f0f921"
             ]
            ],
            "type": "surface"
           }
          ],
          "table": [
           {
            "cells": {
             "fill": {
              "color": "#EBF0F8"
             },
             "line": {
              "color": "white"
             }
            },
            "header": {
             "fill": {
              "color": "#C8D4E3"
             },
             "line": {
              "color": "white"
             }
            },
            "type": "table"
           }
          ]
         },
         "layout": {
          "annotationdefaults": {
           "arrowcolor": "#2a3f5f",
           "arrowhead": 0,
           "arrowwidth": 1
          },
          "coloraxis": {
           "colorbar": {
            "outlinewidth": 0,
            "ticks": ""
           }
          },
          "colorscale": {
           "diverging": [
            [
             0,
             "#8e0152"
            ],
            [
             0.1,
             "#c51b7d"
            ],
            [
             0.2,
             "#de77ae"
            ],
            [
             0.3,
             "#f1b6da"
            ],
            [
             0.4,
             "#fde0ef"
            ],
            [
             0.5,
             "#f7f7f7"
            ],
            [
             0.6,
             "#e6f5d0"
            ],
            [
             0.7,
             "#b8e186"
            ],
            [
             0.8,
             "#7fbc41"
            ],
            [
             0.9,
             "#4d9221"
            ],
            [
             1,
             "#276419"
            ]
           ],
           "sequential": [
            [
             0,
             "#0d0887"
            ],
            [
             0.1111111111111111,
             "#46039f"
            ],
            [
             0.2222222222222222,
             "#7201a8"
            ],
            [
             0.3333333333333333,
             "#9c179e"
            ],
            [
             0.4444444444444444,
             "#bd3786"
            ],
            [
             0.5555555555555556,
             "#d8576b"
            ],
            [
             0.6666666666666666,
             "#ed7953"
            ],
            [
             0.7777777777777778,
             "#fb9f3a"
            ],
            [
             0.8888888888888888,
             "#fdca26"
            ],
            [
             1,
             "#f0f921"
            ]
           ],
           "sequentialminus": [
            [
             0,
             "#0d0887"
            ],
            [
             0.1111111111111111,
             "#46039f"
            ],
            [
             0.2222222222222222,
             "#7201a8"
            ],
            [
             0.3333333333333333,
             "#9c179e"
            ],
            [
             0.4444444444444444,
             "#bd3786"
            ],
            [
             0.5555555555555556,
             "#d8576b"
            ],
            [
             0.6666666666666666,
             "#ed7953"
            ],
            [
             0.7777777777777778,
             "#fb9f3a"
            ],
            [
             0.8888888888888888,
             "#fdca26"
            ],
            [
             1,
             "#f0f921"
            ]
           ]
          },
          "colorway": [
           "#636efa",
           "#EF553B",
           "#00cc96",
           "#ab63fa",
           "#FFA15A",
           "#19d3f3",
           "#FF6692",
           "#B6E880",
           "#FF97FF",
           "#FECB52"
          ],
          "font": {
           "color": "#2a3f5f"
          },
          "geo": {
           "bgcolor": "white",
           "lakecolor": "white",
           "landcolor": "#E5ECF6",
           "showlakes": true,
           "showland": true,
           "subunitcolor": "white"
          },
          "hoverlabel": {
           "align": "left"
          },
          "hovermode": "closest",
          "mapbox": {
           "style": "light"
          },
          "paper_bgcolor": "white",
          "plot_bgcolor": "#E5ECF6",
          "polar": {
           "angularaxis": {
            "gridcolor": "white",
            "linecolor": "white",
            "ticks": ""
           },
           "bgcolor": "#E5ECF6",
           "radialaxis": {
            "gridcolor": "white",
            "linecolor": "white",
            "ticks": ""
           }
          },
          "scene": {
           "xaxis": {
            "backgroundcolor": "#E5ECF6",
            "gridcolor": "white",
            "gridwidth": 2,
            "linecolor": "white",
            "showbackground": true,
            "ticks": "",
            "zerolinecolor": "white"
           },
           "yaxis": {
            "backgroundcolor": "#E5ECF6",
            "gridcolor": "white",
            "gridwidth": 2,
            "linecolor": "white",
            "showbackground": true,
            "ticks": "",
            "zerolinecolor": "white"
           },
           "zaxis": {
            "backgroundcolor": "#E5ECF6",
            "gridcolor": "white",
            "gridwidth": 2,
            "linecolor": "white",
            "showbackground": true,
            "ticks": "",
            "zerolinecolor": "white"
           }
          },
          "shapedefaults": {
           "line": {
            "color": "#2a3f5f"
           }
          },
          "ternary": {
           "aaxis": {
            "gridcolor": "white",
            "linecolor": "white",
            "ticks": ""
           },
           "baxis": {
            "gridcolor": "white",
            "linecolor": "white",
            "ticks": ""
           },
           "bgcolor": "#E5ECF6",
           "caxis": {
            "gridcolor": "white",
            "linecolor": "white",
            "ticks": ""
           }
          },
          "title": {
           "x": 0.05
          },
          "xaxis": {
           "automargin": true,
           "gridcolor": "white",
           "linecolor": "white",
           "ticks": "",
           "title": {
            "standoff": 15
           },
           "zerolinecolor": "white",
           "zerolinewidth": 2
          },
          "yaxis": {
           "automargin": true,
           "gridcolor": "white",
           "linecolor": "white",
           "ticks": "",
           "title": {
            "standoff": 15
           },
           "zerolinecolor": "white",
           "zerolinewidth": 2
          }
         }
        },
        "title": {
         "font": {
          "color": "#4D5663"
         },
         "text": "ACP en 2 composantes"
        },
        "xaxis": {
         "gridcolor": "#E1E5ED",
         "showgrid": true,
         "tickfont": {
          "color": "#4D5663"
         },
         "title": {
          "font": {
           "color": "#4D5663"
          },
          "text": "Axe 1"
         },
         "zerolinecolor": "#E1E5ED"
        },
        "yaxis": {
         "gridcolor": "#E1E5ED",
         "showgrid": true,
         "tickfont": {
          "color": "#4D5663"
         },
         "title": {
          "font": {
           "color": "#4D5663"
          },
          "text": "Axe 2"
         },
         "zerolinecolor": "#E1E5ED"
        }
       }
      },
      "text/html": [
       "<div>\n",
       "        \n",
       "        \n",
       "            <div id=\"d7e030b8-3ba7-4a97-ada3-312c01bd534f\" class=\"plotly-graph-div\" style=\"height:525px; width:100%;\"></div>\n",
       "            <script type=\"text/javascript\">\n",
       "                require([\"plotly\"], function(Plotly) {\n",
       "                    window.PLOTLYENV=window.PLOTLYENV || {};\n",
       "                    window.PLOTLYENV.BASE_URL='https://plot.ly';\n",
       "                    \n",
       "                if (document.getElementById(\"d7e030b8-3ba7-4a97-ada3-312c01bd534f\")) {\n",
       "                    Plotly.newPlot(\n",
       "                        'd7e030b8-3ba7-4a97-ada3-312c01bd534f',\n",
       "                        [{\"marker\": {\"color\": \"rgba(255, 153, 51, 1.0)\", \"line\": {\"width\": 1.3}, \"opacity\": 0.8, \"size\": 12, \"symbol\": \"circle\"}, \"mode\": \"markers\", \"name\": \"homme/femme/enfant\", \"text\": [\"homme\", \"femme\", \"enfant\"], \"textfont\": {\"color\": \"#4D5663\"}, \"type\": \"scatter\", \"x\": [0.24883577227592468, 0.0037618610076606274, -2.39188551902771], \"y\": [1.1293370723724365, 0.14680109918117523, -2.519412040710449]}, {\"marker\": {\"color\": \"rgba(55, 128, 191, 1.0)\", \"line\": {\"width\": 1.3}, \"opacity\": 0.8, \"size\": 12, \"symbol\": \"circle\"}, \"mode\": \"markers\", \"name\": \"chien/chat\", \"text\": [\"chien\", \"chat\"], \"textfont\": {\"color\": \"#4D5663\"}, \"type\": \"scatter\", \"x\": [-1.0462470054626465, -1.1834759712219238], \"y\": [-2.535360813140869, -0.8954181671142578]}, {\"marker\": {\"color\": \"rgba(50, 171, 96, 1.0)\", \"line\": {\"width\": 1.3}, \"opacity\": 0.8, \"size\": 12, \"symbol\": \"circle\"}, \"mode\": \"markers\", \"name\": \"vanille/chocolat\", \"text\": [\"vanille\", \"chocolat\"], \"textfont\": {\"color\": \"#4D5663\"}, \"type\": \"scatter\", \"x\": [2.0556509494781494, -3.146338701248169], \"y\": [-0.9581488966941833, -0.34264662861824036]}, {\"marker\": {\"color\": \"rgba(128, 0, 128, 1.0)\", \"line\": {\"width\": 1.3}, \"opacity\": 0.8, \"size\": 12, \"symbol\": \"circle\"}, \"mode\": \"markers\", \"name\": \"poli/courtois\", \"text\": [\"poli\", \"courtois\"], \"textfont\": {\"color\": \"#4D5663\"}, \"type\": \"scatter\", \"x\": [1.0814621448516846, -0.5026469230651855], \"y\": [0.46465829014778137, 0.578233003616333]}, {\"marker\": {\"color\": \"rgba(219, 64, 82, 1.0)\", \"line\": {\"width\": 1.3}, \"opacity\": 0.8, \"size\": 12, \"symbol\": \"circle\"}, \"mode\": \"markers\", \"name\": \"bonjour/salut\", \"text\": [\"bonjour\", \"salut\"], \"textfont\": {\"color\": \"#4D5663\"}, \"type\": \"scatter\", \"x\": [-0.3516134023666382, -0.8475710153579712], \"y\": [1.0953532457351685, 3.2132174968719482]}, {\"marker\": {\"color\": \"rgba(0, 128, 128, 1.0)\", \"line\": {\"width\": 1.3}, \"opacity\": 0.8, \"size\": 12, \"symbol\": \"circle\"}, \"mode\": \"markers\", \"name\": \"propre/sale\", \"text\": [\"propre\", \"sale\"], \"textfont\": {\"color\": \"#4D5663\"}, \"type\": \"scatter\", \"x\": [-0.8213778138160706, -0.5736963748931885], \"y\": [2.562530279159546, 0.3607219457626343]}, {\"marker\": {\"color\": \"rgba(255, 255, 51, 1.0)\", \"line\": {\"width\": 1.3}, \"opacity\": 0.8, \"size\": 12, \"symbol\": \"circle\"}, \"mode\": \"markers\", \"name\": \"canap\\u00e9/fauteuil\", \"text\": [\"canap\\u00e9\", \"fauteuil\"], \"textfont\": {\"color\": \"#4D5663\"}, \"type\": \"scatter\", \"x\": [0.5660496354103088, 0.6004891991615295], \"y\": [0.9287437796592712, 0.6117153167724609]}, {\"marker\": {\"color\": \"rgba(128, 128, 0, 1.0)\", \"line\": {\"width\": 1.3}, \"opacity\": 0.8, \"size\": 12, \"symbol\": \"circle\"}, \"mode\": \"markers\", \"name\": \"t\\u00e9l\\u00e9phone/portable\", \"text\": [\"t\\u00e9l\\u00e9phone\", \"portable\"], \"textfont\": {\"color\": \"#4D5663\"}, \"type\": \"scatter\", \"x\": [-0.9992565512657166, 0.6495267152786255], \"y\": [-0.15162065625190735, -0.27936187386512756]}, {\"marker\": {\"color\": \"rgba(251, 128, 114, 1.0)\", \"line\": {\"width\": 1.3}, \"opacity\": 0.8, \"size\": 12, \"symbol\": \"circle\"}, \"mode\": \"markers\", \"name\": \"voiture/camion\", \"text\": [\"voiture\", \"camion\"], \"textfont\": {\"color\": \"#4D5663\"}, \"type\": \"scatter\", \"x\": [3.3451499938964844, -0.03458929806947708], \"y\": [-0.006730680353939533, -0.5894986391067505]}, {\"marker\": {\"color\": \"rgba(128, 177, 211, 1.0)\", \"line\": {\"width\": 1.3}, \"opacity\": 0.8, \"size\": 12, \"symbol\": \"circle\"}, \"mode\": \"markers\", \"name\": \"grand/petit\", \"text\": [\"grand\", \"petit\"], \"textfont\": {\"color\": \"#4D5663\"}, \"type\": \"scatter\", \"x\": [2.235675096511841, 1.1120966672897339], \"y\": [-1.4708030223846436, -1.342309832572937]}],\n",
       "                        {\"legend\": {\"bgcolor\": \"#F5F6F9\", \"font\": {\"color\": \"#4D5663\"}}, \"paper_bgcolor\": \"#F5F6F9\", \"plot_bgcolor\": \"#F5F6F9\", \"template\": {\"data\": {\"bar\": [{\"error_x\": {\"color\": \"#2a3f5f\"}, \"error_y\": {\"color\": \"#2a3f5f\"}, \"marker\": {\"line\": {\"color\": \"#E5ECF6\", \"width\": 0.5}}, \"type\": \"bar\"}], \"barpolar\": [{\"marker\": {\"line\": {\"color\": \"#E5ECF6\", \"width\": 0.5}}, \"type\": \"barpolar\"}], \"carpet\": [{\"aaxis\": {\"endlinecolor\": \"#2a3f5f\", \"gridcolor\": \"white\", \"linecolor\": \"white\", \"minorgridcolor\": \"white\", \"startlinecolor\": \"#2a3f5f\"}, \"baxis\": {\"endlinecolor\": \"#2a3f5f\", \"gridcolor\": \"white\", \"linecolor\": \"white\", \"minorgridcolor\": \"white\", \"startlinecolor\": \"#2a3f5f\"}, \"type\": \"carpet\"}], \"choropleth\": [{\"colorbar\": {\"outlinewidth\": 0, \"ticks\": \"\"}, \"type\": \"choropleth\"}], \"contour\": [{\"colorbar\": {\"outlinewidth\": 0, \"ticks\": \"\"}, \"colorscale\": [[0.0, \"#0d0887\"], [0.1111111111111111, \"#46039f\"], [0.2222222222222222, \"#7201a8\"], [0.3333333333333333, \"#9c179e\"], [0.4444444444444444, \"#bd3786\"], [0.5555555555555556, \"#d8576b\"], [0.6666666666666666, \"#ed7953\"], [0.7777777777777778, \"#fb9f3a\"], [0.8888888888888888, \"#fdca26\"], [1.0, \"#f0f921\"]], \"type\": \"contour\"}], \"contourcarpet\": [{\"colorbar\": {\"outlinewidth\": 0, \"ticks\": \"\"}, \"type\": \"contourcarpet\"}], \"heatmap\": [{\"colorbar\": {\"outlinewidth\": 0, \"ticks\": \"\"}, \"colorscale\": [[0.0, \"#0d0887\"], [0.1111111111111111, \"#46039f\"], [0.2222222222222222, \"#7201a8\"], [0.3333333333333333, \"#9c179e\"], [0.4444444444444444, \"#bd3786\"], [0.5555555555555556, \"#d8576b\"], [0.6666666666666666, \"#ed7953\"], [0.7777777777777778, \"#fb9f3a\"], [0.8888888888888888, \"#fdca26\"], [1.0, \"#f0f921\"]], \"type\": \"heatmap\"}], \"heatmapgl\": [{\"colorbar\": {\"outlinewidth\": 0, \"ticks\": \"\"}, \"colorscale\": [[0.0, \"#0d0887\"], [0.1111111111111111, \"#46039f\"], [0.2222222222222222, \"#7201a8\"], [0.3333333333333333, \"#9c179e\"], [0.4444444444444444, \"#bd3786\"], [0.5555555555555556, \"#d8576b\"], [0.6666666666666666, \"#ed7953\"], [0.7777777777777778, \"#fb9f3a\"], [0.8888888888888888, \"#fdca26\"], [1.0, \"#f0f921\"]], \"type\": \"heatmapgl\"}], \"histogram\": [{\"marker\": {\"colorbar\": {\"outlinewidth\": 0, \"ticks\": \"\"}}, \"type\": \"histogram\"}], \"histogram2d\": [{\"colorbar\": {\"outlinewidth\": 0, \"ticks\": \"\"}, \"colorscale\": [[0.0, \"#0d0887\"], [0.1111111111111111, \"#46039f\"], [0.2222222222222222, \"#7201a8\"], [0.3333333333333333, \"#9c179e\"], [0.4444444444444444, \"#bd3786\"], [0.5555555555555556, \"#d8576b\"], [0.6666666666666666, \"#ed7953\"], [0.7777777777777778, \"#fb9f3a\"], [0.8888888888888888, \"#fdca26\"], [1.0, \"#f0f921\"]], \"type\": \"histogram2d\"}], \"histogram2dcontour\": [{\"colorbar\": {\"outlinewidth\": 0, \"ticks\": \"\"}, \"colorscale\": [[0.0, \"#0d0887\"], [0.1111111111111111, \"#46039f\"], [0.2222222222222222, \"#7201a8\"], [0.3333333333333333, \"#9c179e\"], [0.4444444444444444, \"#bd3786\"], [0.5555555555555556, \"#d8576b\"], [0.6666666666666666, \"#ed7953\"], [0.7777777777777778, \"#fb9f3a\"], [0.8888888888888888, \"#fdca26\"], [1.0, \"#f0f921\"]], \"type\": \"histogram2dcontour\"}], \"mesh3d\": [{\"colorbar\": {\"outlinewidth\": 0, \"ticks\": \"\"}, \"type\": \"mesh3d\"}], \"parcoords\": [{\"line\": {\"colorbar\": {\"outlinewidth\": 0, \"ticks\": \"\"}}, \"type\": \"parcoords\"}], \"pie\": [{\"automargin\": true, \"type\": \"pie\"}], \"scatter\": [{\"marker\": {\"colorbar\": {\"outlinewidth\": 0, \"ticks\": \"\"}}, \"type\": \"scatter\"}], \"scatter3d\": [{\"line\": {\"colorbar\": {\"outlinewidth\": 0, \"ticks\": \"\"}}, \"marker\": {\"colorbar\": {\"outlinewidth\": 0, \"ticks\": \"\"}}, \"type\": \"scatter3d\"}], \"scattercarpet\": [{\"marker\": {\"colorbar\": {\"outlinewidth\": 0, \"ticks\": \"\"}}, \"type\": \"scattercarpet\"}], \"scattergeo\": [{\"marker\": {\"colorbar\": {\"outlinewidth\": 0, \"ticks\": \"\"}}, \"type\": \"scattergeo\"}], \"scattergl\": [{\"marker\": {\"colorbar\": {\"outlinewidth\": 0, \"ticks\": \"\"}}, \"type\": \"scattergl\"}], \"scattermapbox\": [{\"marker\": {\"colorbar\": {\"outlinewidth\": 0, \"ticks\": \"\"}}, \"type\": \"scattermapbox\"}], \"scatterpolar\": [{\"marker\": {\"colorbar\": {\"outlinewidth\": 0, \"ticks\": \"\"}}, \"type\": \"scatterpolar\"}], \"scatterpolargl\": [{\"marker\": {\"colorbar\": {\"outlinewidth\": 0, \"ticks\": \"\"}}, \"type\": \"scatterpolargl\"}], \"scatterternary\": [{\"marker\": {\"colorbar\": {\"outlinewidth\": 0, \"ticks\": \"\"}}, \"type\": \"scatterternary\"}], \"surface\": [{\"colorbar\": {\"outlinewidth\": 0, \"ticks\": \"\"}, \"colorscale\": [[0.0, \"#0d0887\"], [0.1111111111111111, \"#46039f\"], [0.2222222222222222, \"#7201a8\"], [0.3333333333333333, \"#9c179e\"], [0.4444444444444444, \"#bd3786\"], [0.5555555555555556, \"#d8576b\"], [0.6666666666666666, \"#ed7953\"], [0.7777777777777778, \"#fb9f3a\"], [0.8888888888888888, \"#fdca26\"], [1.0, \"#f0f921\"]], \"type\": \"surface\"}], \"table\": [{\"cells\": {\"fill\": {\"color\": \"#EBF0F8\"}, \"line\": {\"color\": \"white\"}}, \"header\": {\"fill\": {\"color\": \"#C8D4E3\"}, \"line\": {\"color\": \"white\"}}, \"type\": \"table\"}]}, \"layout\": {\"annotationdefaults\": {\"arrowcolor\": \"#2a3f5f\", \"arrowhead\": 0, \"arrowwidth\": 1}, \"coloraxis\": {\"colorbar\": {\"outlinewidth\": 0, \"ticks\": \"\"}}, \"colorscale\": {\"diverging\": [[0, \"#8e0152\"], [0.1, \"#c51b7d\"], [0.2, \"#de77ae\"], [0.3, \"#f1b6da\"], [0.4, \"#fde0ef\"], [0.5, \"#f7f7f7\"], [0.6, \"#e6f5d0\"], [0.7, \"#b8e186\"], [0.8, \"#7fbc41\"], [0.9, \"#4d9221\"], [1, \"#276419\"]], \"sequential\": [[0.0, \"#0d0887\"], [0.1111111111111111, \"#46039f\"], [0.2222222222222222, \"#7201a8\"], [0.3333333333333333, \"#9c179e\"], [0.4444444444444444, \"#bd3786\"], [0.5555555555555556, \"#d8576b\"], [0.6666666666666666, \"#ed7953\"], [0.7777777777777778, \"#fb9f3a\"], [0.8888888888888888, \"#fdca26\"], [1.0, \"#f0f921\"]], \"sequentialminus\": [[0.0, \"#0d0887\"], [0.1111111111111111, \"#46039f\"], [0.2222222222222222, \"#7201a8\"], [0.3333333333333333, \"#9c179e\"], [0.4444444444444444, \"#bd3786\"], [0.5555555555555556, \"#d8576b\"], [0.6666666666666666, \"#ed7953\"], [0.7777777777777778, \"#fb9f3a\"], [0.8888888888888888, \"#fdca26\"], [1.0, \"#f0f921\"]]}, \"colorway\": [\"#636efa\", \"#EF553B\", \"#00cc96\", \"#ab63fa\", \"#FFA15A\", \"#19d3f3\", \"#FF6692\", \"#B6E880\", \"#FF97FF\", \"#FECB52\"], \"font\": {\"color\": \"#2a3f5f\"}, \"geo\": {\"bgcolor\": \"white\", \"lakecolor\": \"white\", \"landcolor\": \"#E5ECF6\", \"showlakes\": true, \"showland\": true, \"subunitcolor\": \"white\"}, \"hoverlabel\": {\"align\": \"left\"}, \"hovermode\": \"closest\", \"mapbox\": {\"style\": \"light\"}, \"paper_bgcolor\": \"white\", \"plot_bgcolor\": \"#E5ECF6\", \"polar\": {\"angularaxis\": {\"gridcolor\": \"white\", \"linecolor\": \"white\", \"ticks\": \"\"}, \"bgcolor\": \"#E5ECF6\", \"radialaxis\": {\"gridcolor\": \"white\", \"linecolor\": \"white\", \"ticks\": \"\"}}, \"scene\": {\"xaxis\": {\"backgroundcolor\": \"#E5ECF6\", \"gridcolor\": \"white\", \"gridwidth\": 2, \"linecolor\": \"white\", \"showbackground\": true, \"ticks\": \"\", \"zerolinecolor\": \"white\"}, \"yaxis\": {\"backgroundcolor\": \"#E5ECF6\", \"gridcolor\": \"white\", \"gridwidth\": 2, \"linecolor\": \"white\", \"showbackground\": true, \"ticks\": \"\", \"zerolinecolor\": \"white\"}, \"zaxis\": {\"backgroundcolor\": \"#E5ECF6\", \"gridcolor\": \"white\", \"gridwidth\": 2, \"linecolor\": \"white\", \"showbackground\": true, \"ticks\": \"\", \"zerolinecolor\": \"white\"}}, \"shapedefaults\": {\"line\": {\"color\": \"#2a3f5f\"}}, \"ternary\": {\"aaxis\": {\"gridcolor\": \"white\", \"linecolor\": \"white\", \"ticks\": \"\"}, \"baxis\": {\"gridcolor\": \"white\", \"linecolor\": \"white\", \"ticks\": \"\"}, \"bgcolor\": \"#E5ECF6\", \"caxis\": {\"gridcolor\": \"white\", \"linecolor\": \"white\", \"ticks\": \"\"}}, \"title\": {\"x\": 0.05}, \"xaxis\": {\"automargin\": true, \"gridcolor\": \"white\", \"linecolor\": \"white\", \"ticks\": \"\", \"title\": {\"standoff\": 15}, \"zerolinecolor\": \"white\", \"zerolinewidth\": 2}, \"yaxis\": {\"automargin\": true, \"gridcolor\": \"white\", \"linecolor\": \"white\", \"ticks\": \"\", \"title\": {\"standoff\": 15}, \"zerolinecolor\": \"white\", \"zerolinewidth\": 2}}}, \"title\": {\"font\": {\"color\": \"#4D5663\"}, \"text\": \"ACP en 2 composantes\"}, \"xaxis\": {\"gridcolor\": \"#E1E5ED\", \"showgrid\": true, \"tickfont\": {\"color\": \"#4D5663\"}, \"title\": {\"font\": {\"color\": \"#4D5663\"}, \"text\": \"Axe 1\"}, \"zerolinecolor\": \"#E1E5ED\"}, \"yaxis\": {\"gridcolor\": \"#E1E5ED\", \"showgrid\": true, \"tickfont\": {\"color\": \"#4D5663\"}, \"title\": {\"font\": {\"color\": \"#4D5663\"}, \"text\": \"Axe 2\"}, \"zerolinecolor\": \"#E1E5ED\"}},\n",
       "                        {\"showLink\": true, \"linkText\": \"Export to plot.ly\", \"plotlyServerURL\": \"https://plot.ly\", \"responsive\": true}\n",
       "                    ).then(function(){\n",
       "                            \n",
       "var gd = document.getElementById('d7e030b8-3ba7-4a97-ada3-312c01bd534f');\n",
       "var x = new MutationObserver(function (mutations, observer) {{\n",
       "        var display = window.getComputedStyle(gd).display;\n",
       "        if (!display || display === 'none') {{\n",
       "            console.log([gd, 'removed!']);\n",
       "            Plotly.purge(gd);\n",
       "            observer.disconnect();\n",
       "        }}\n",
       "}});\n",
       "\n",
       "// Listen for the removal of the full notebook cells\n",
       "var notebookContainer = gd.closest('#notebook-container');\n",
       "if (notebookContainer) {{\n",
       "    x.observe(notebookContainer, {childList: true});\n",
       "}}\n",
       "\n",
       "// Listen for the clearing of the current output cell\n",
       "var outputEl = gd.closest('.output');\n",
       "if (outputEl) {{\n",
       "    x.observe(outputEl, {childList: true});\n",
       "}}\n",
       "\n",
       "                        })\n",
       "                };\n",
       "                });\n",
       "            </script>\n",
       "        </div>"
      ]
     },
     "metadata": {},
     "output_type": "display_data"
    }
   ],
   "source": [
    "ACP(liste, statique = False)"
   ]
  },
  {
   "cell_type": "markdown",
   "metadata": {},
   "source": [
    "# 4. TSNE"
   ]
  },
  {
   "cell_type": "code",
   "execution_count": 220,
   "metadata": {},
   "outputs": [],
   "source": [
    "def tsne_graph(liste, statique = True, nom_couples_explicite=True):\n",
    "    liste_triee =[]\n",
    "    for couple in liste:\n",
    "        liste_triee.append([w for w in couple if w in mot_index])\n",
    "    liste_mots = [w for couple in liste_triee for w in couple]\n",
    "    df_res = pd.DataFrame.from_dict(mot_poids).transpose()\n",
    "    df_res = df_res.loc[liste_mots]\n",
    "    df_res['label'] = 'Autre' \n",
    "\n",
    "    if nom_couples_explicite:\n",
    "        for couple in liste_triee:\n",
    "            df_res.loc[couple,'label'] = '/'.join(couple)\n",
    "    else:\n",
    "        for i in range(0, len(liste_triee)):\n",
    "            df_res.loc[liste_triee[i],'label'] = \"Couple %i\" %i  \n",
    "    features = list(range(0, len(liste)))\n",
    "    # Separating out the features\n",
    "    data_x = df_res.loc[:, features].values\n",
    "    # Separating out the target\n",
    "    data_y = df_res.loc[:,['label']].values\n",
    "\n",
    "    tsne = TSNE(n_components=2, random_state=0)\n",
    "    tsne_obj= tsne.fit_transform(data_x)\n",
    "\n",
    "    test_features = [[i+1]*len(liste_triee[i]) for i in range(0, len(liste_triee))]\n",
    "    test_features = [i for f in test_features for i in f]\n",
    "    tsne_df = pd.DataFrame({'X':tsne_obj[:,0],\n",
    "                            'Y':tsne_obj[:,1],\n",
    "                           'digit':test_features})\n",
    "    tsne_df[\"legend\"] = tsne_df[\"digit\"]\n",
    "    for i in range(0,len(tsne_df)):\n",
    "        tsne_df[\"legend\"][i]= \"Couple %i\" %tsne_df[\"digit\"][i]\n",
    "    if statique:\n",
    "        fig = plt.figure(figsize = (12,8))\n",
    "        g = sns.scatterplot(x=\"X\", y=\"Y\",\n",
    "                            hue = \"legend\",\n",
    "                            data=tsne_df);\n",
    "        handles, labels = ax.get_legend_handles_labels()\n",
    "        box = g.get_position()\n",
    "        g.set_position([box.x0, box.y0, box.width * 0.85, box.height]) # resize position\n",
    "\n",
    "        # Put a legend to the right side\n",
    "        g.legend(loc='center right', bbox_to_anchor=(1.3, 0.5), ncol=1,\n",
    "                 handles=handles[1:], labels=list(dict.fromkeys(tsne_df[\"legend\"])))\n",
    "    else:\n",
    "        tsne_df[\"mot\"] = liste_mots\n",
    "        cf.go_offline()\n",
    "        cf.set_config_file(offline=False, world_readable=True)\n",
    "\n",
    "        #Travailler avec sous-table sinon trop lourd\n",
    "        subFinalDf = pd.concat([tsne_df],  axis = 0)\n",
    "\n",
    "        subFinalDf.iplot(kind='scatter',\n",
    "                      mode='markers',\n",
    "                      x='X',\n",
    "                      y='Y',\n",
    "                      categories='legend',\n",
    "                      text='mot',\n",
    "                      xTitle='Axe 1',\n",
    "                      yTitle='Axe 2',\n",
    "                      title='TSNE',\n",
    "                      filename='cufflinks/simple-scatter')\n",
    "        "
   ]
  },
  {
   "cell_type": "code",
   "execution_count": 228,
   "metadata": {
    "scrolled": true
   },
   "outputs": [],
   "source": [
    "liste = [[\"homme\", \"tttttttttt\",\"femme\",\"sexe\",\"genre\",\"mari\",\"épouse\",\"famille\",\"inégalités\",\"enfant\",\"amour\",\"couple\",\"différence\"],\n",
    "    [\"chien\",\"chat\",\"animal\",\"domestique\",\"maison\",\"aboyer\",\"miauler\",\"labrador\",\"poil\",\"pattes\",\"spa\",\"ami\"],\n",
    "    [\"vanille\",\"chocolat\",\"parfum\",\"goût\",\"fraise\",\"glace\",\"boule\",\"gâteau\",\"bonbon\",\"blanc\",\"noir\",\"préférence\"],\n",
    "    [\"poli\",\"courtois\",\"bonjour\",\"merci\",\"pardon\",\"stp\",\"règles\",\"apprendre\",\"savoir-vivre\",\"savoir-être\",\"formule\",\"demander\"],\n",
    "    [\"choqué\",\"horrifié\",\"peur\",\"terreur\",\"phobie\",\"clown\",\"noir\",\"araignée\",\"rat\",\"cri\",\"oh\",\"ah\"],\n",
    "    [\"propre\",\"sale\",\"nettoyer\",\"vaisselle\",\"laver\",\"savon\",\"produit\",\"salissures\",\"traces\",\"net\",\"éclatant\",\"brillant\"],\n",
    "    [\"canapé\",\"fauteuil\",\"maison\",\"salon\",\"assis\",\"confortable\",\"sofa\",\"convertible\",\"cuir\",\"télé\",\"accoudoir\",\"plaid\"],\n",
    "    [\"téléphone\",\"portable\",\"appel\",\"allo\",\"décrocher\",\"sms\",\"numéro\",\"mobile\",\"orange\",\"sfr\",\"free\",\"bouygues\"],\n",
    "    [\"voiture\",\"camion\",\"moto\",\"véhicule\",\"conduire\",\"rouler\",\"conducteur\",\"volant\",\"chauffeur\",\"permis\",\"vitesse\",\"passager\"],\n",
    "    [\"grand\",\"petit\",\"taille\",\"géant\",\"nain\",\"s\",\"m\",\"l\",\"xl\",\"mesure\",\"énorme\",\"longueur\"]\n",
    "]"
   ]
  },
  {
   "cell_type": "code",
   "execution_count": 229,
   "metadata": {},
   "outputs": [
    {
     "data": {
      "image/png": "[encoded data removed]",
      "text/plain": [
       "<Figure size 864x576 with 1 Axes>"
      ]
     },
     "metadata": {
      "needs_background": "light"
     },
     "output_type": "display_data"
    }
   ],
   "source": [
    "tsne_graph(liste, statique = True,\n",
    "           nom_couples_explicite = False)"
   ]
  },
  {
   "cell_type": "code",
   "execution_count": 226,
   "metadata": {},
   "outputs": [
    {
     "data": {
      "text/html": [
       "        <script type=\"text/javascript\">\n",
       "        window.PlotlyConfig = {MathJaxConfig: 'local'};\n",
       "        if (window.MathJax) {MathJax.Hub.Config({SVG: {font: \"STIX-Web\"}});}\n",
       "        if (typeof require !== 'undefined') {\n",
       "        require.undef(\"plotly\");\n",
       "        requirejs.config({\n",
       "            paths: {\n",
       "                'plotly': ['https://cdn.plot.ly/plotly-latest.min']\n",
       "            }\n",
       "        });\n",
       "        require(['plotly'], function(Plotly) {\n",
       "            window._Plotly = Plotly;\n",
       "        });\n",
       "        }\n",
       "        </script>\n",
       "        "
      ]
     },
     "metadata": {},
     "output_type": "display_data"
    },
    {
     "data": {
      "application/vnd.plotly.v1+json": {
       "config": {
        "linkText": "Export to plot.ly",
        "plotlyServerURL": "https://plot.ly",
        "showLink": true
       },
       "data": [
        {
         "marker": {
          "color": "rgba(255, 153, 51, 1.0)",
          "line": {
           "width": 1.3
          },
          "opacity": 0.8,
          "size": 12,
          "symbol": "circle"
         },
         "mode": "markers",
         "name": "Couple 1",
         "text": [
          "homme",
          "femme",
          "sexe",
          "genre",
          "mari",
          "épouse",
          "famille",
          "inégalités",
          "enfant",
          "amour",
          "couple",
          "différence"
         ],
         "textfont": {
          "color": "#4D5663"
         },
         "type": "scatter",
         "x": [
          -3.885892152786255,
          -2.5393428802490234,
          -2.321913480758667,
          0.28164419531822205,
          -3.286252975463867,
          -3.2291743755340576,
          -3.341564893722534,
          -4.582348823547363,
          -4.014384746551514,
          -0.5233099460601807,
          -3.401132583618164,
          -4.0145344734191895
         ],
         "y": [
          0.05591243505477905,
          -0.1895306259393692,
          -4.827388286590576,
          -1.0976660251617432,
          1.722049355506897,
          -4.519984245300293,
          -2.876769781112671,
          -2.049929141998291,
          -3.1324572563171387,
          0.2972789704799652,
          -1.8494430780410767,
          1.3941078186035156
         ]
        },
        {
         "marker": {
          "color": "rgba(55, 128, 191, 1.0)",
          "line": {
           "width": 1.3
          },
          "opacity": 0.8,
          "size": 12,
          "symbol": "circle"
         },
         "mode": "markers",
         "name": "Couple 2",
         "text": [
          "chien",
          "chat",
          "animal",
          "domestique",
          "maison",
          "aboyer",
          "miauler",
          "labrador",
          "poil",
          "pattes",
          "spa",
          "ami"
         ],
         "textfont": {
          "color": "#4D5663"
         },
         "type": "scatter",
         "x": [
          -2.5885331630706787,
          -3.7804477214813232,
          2.681152582168579,
          -3.198246479034424,
          -7.362052917480469,
          -2.510981798171997,
          -2.647186279296875,
          -5.237178802490234,
          -1.144756555557251,
          -3.4394993782043457,
          -5.034746170043945,
          1.0187612771987915
         ],
         "y": [
          1.1135406494140625,
          -0.9438309669494629,
          -1.2451469898223877,
          -3.973473072052002,
          -1.3341835737228394,
          3.059924840927124,
          -0.06124987453222275,
          2.526455879211426,
          -1.7046051025390625,
          0.6000596284866333,
          -1.3573362827301025,
          0.5184171199798584
         ]
        },
        {
         "marker": {
          "color": "rgba(50, 171, 96, 1.0)",
          "line": {
           "width": 1.3
          },
          "opacity": 0.8,
          "size": 12,
          "symbol": "circle"
         },
         "mode": "markers",
         "name": "Couple 3",
         "text": [
          "vanille",
          "chocolat",
          "parfum",
          "goût",
          "fraise",
          "glace",
          "boule",
          "gâteau",
          "bonbon",
          "blanc",
          "noir",
          "préférence"
         ],
         "textfont": {
          "color": "#4D5663"
         },
         "type": "scatter",
         "x": [
          0.9431040287017822,
          -3.796628713607788,
          1.7918713092803955,
          -2.6470868587493896,
          -2.493746757507324,
          -0.027317311614751816,
          -0.30822816491127014,
          -4.421065330505371,
          -1.653563141822815,
          -0.2798505127429962,
          -0.9906784296035767,
          -7.033654689788818
         ],
         "y": [
          -0.4291752278804779,
          -1.8316138982772827,
          2.180014133453369,
          -0.21482640504837036,
          -0.024362869560718536,
          -4.369010925292969,
          -0.05877537652850151,
          1.1857274770736694,
          -4.382352828979492,
          -2.3756144046783447,
          -3.124546527862549,
          0.37246403098106384
         ]
        },
        {
         "marker": {
          "color": "rgba(128, 0, 128, 1.0)",
          "line": {
           "width": 1.3
          },
          "opacity": 0.8,
          "size": 12,
          "symbol": "circle"
         },
         "mode": "markers",
         "name": "Couple 4",
         "text": [
          "poli",
          "courtois",
          "bonjour",
          "merci",
          "pardon",
          "stp",
          "règles",
          "apprendre",
          "formule",
          "demander"
         ],
         "textfont": {
          "color": "#4D5663"
         },
         "type": "scatter",
         "x": [
          -0.6724836230278015,
          -5.2749176025390625,
          -2.1957387924194336,
          -2.697798728942871,
          -3.6746280193328857,
          -5.0312724113464355,
          -6.054983139038086,
          -5.8526291847229,
          -1.929160475730896,
          0.6835794448852539
         ],
         "y": [
          1.4012649059295654,
          -0.8298356533050537,
          -2.1511223316192627,
          2.743232250213623,
          4.481493949890137,
          0.280321329832077,
          -3.99336314201355,
          -2.548253059387207,
          0.45413586497306824,
          3.4158897399902344
         ]
        },
        {
         "marker": {
          "color": "rgba(219, 64, 82, 1.0)",
          "line": {
           "width": 1.3
          },
          "opacity": 0.8,
          "size": 12,
          "symbol": "circle"
         },
         "mode": "markers",
         "name": "Couple 5",
         "text": [
          "choqué",
          "peur",
          "terreur",
          "phobie",
          "clown",
          "noir",
          "araignée",
          "rat",
          "cri",
          "oh",
          "ah"
         ],
         "textfont": {
          "color": "#4D5663"
         },
         "type": "scatter",
         "x": [
          0.5444281697273254,
          -3.0424792766571045,
          -2.10707688331604,
          0.39299583435058594,
          -0.9183846116065979,
          -0.9898964166641235,
          -6.080322742462158,
          -6.471186637878418,
          -3.9833483695983887,
          -1.9604908227920532,
          -4.889663219451904
         ],
         "y": [
          2.425257682800293,
          -1.932249903678894,
          -1.563656210899353,
          0.7396191954612732,
          3.588402032852173,
          -3.1274116039276123,
          -3.8611841201782227,
          3.1701629161834717,
          -0.7704614400863647,
          -0.7417073249816895,
          -1.0807157754898071
         ]
        },
        {
         "marker": {
          "color": "rgba(0, 128, 128, 1.0)",
          "line": {
           "width": 1.3
          },
          "opacity": 0.8,
          "size": 12,
          "symbol": "circle"
         },
         "mode": "markers",
         "name": "Couple 6",
         "text": [
          "propre",
          "sale",
          "nettoyer",
          "vaisselle",
          "laver",
          "savon",
          "produit",
          "traces",
          "net",
          "brillant"
         ],
         "textfont": {
          "color": "#4D5663"
         },
         "type": "scatter",
         "x": [
          -6.235383033752441,
          -2.1894466876983643,
          0.45757991075515747,
          -2.0197079181671143,
          -0.5233061909675598,
          0.42080602049827576,
          -1.0903788805007935,
          -5.654554843902588,
          -3.3419032096862793,
          -1.9784252643585205
         ],
         "y": [
          2.842121124267578,
          2.297250509262085,
          1.9443022012710571,
          -3.3477656841278076,
          1.9556466341018677,
          2.4796409606933594,
          0.06776954233646393,
          1.891164779663086,
          2.3538777828216553,
          -1.9654467105865479
         ]
        },
        {
         "marker": {
          "color": "rgba(255, 255, 51, 1.0)",
          "line": {
           "width": 1.3
          },
          "opacity": 0.8,
          "size": 12,
          "symbol": "circle"
         },
         "mode": "markers",
         "name": "Couple 7",
         "text": [
          "canapé",
          "fauteuil",
          "maison",
          "salon",
          "assis",
          "confortable",
          "cuir",
          "télé",
          "accoudoir",
          "plaid"
         ],
         "textfont": {
          "color": "#4D5663"
         },
         "type": "scatter",
         "x": [
          -1.285722255706787,
          -1.0706474781036377,
          -7.365108013153076,
          -1.5198931694030762,
          -0.007922403514385223,
          -6.479593753814697,
          -6.634509563446045,
          -3.429295063018799,
          -2.6301112174987793,
          -5.7519731521606445
         ],
         "y": [
          -1.1602435111999512,
          -0.8654941320419312,
          -1.3344603776931763,
          1.1899703741073608,
          -0.20161254703998566,
          2.8885247707366943,
          0.3355638086795807,
          0.12957942485809326,
          -0.3484429717063904,
          1.0790530443191528
         ]
        },
        {
         "marker": {
          "color": "rgba(128, 128, 0, 1.0)",
          "line": {
           "width": 1.3
          },
          "opacity": 0.8,
          "size": 12,
          "symbol": "circle"
         },
         "mode": "markers",
         "name": "Couple 8",
         "text": [
          "téléphone",
          "portable",
          "appel",
          "allo",
          "décrocher",
          "sms",
          "numéro",
          "mobile",
          "orange",
          "sfr",
          "free",
          "bouygues"
         ],
         "textfont": {
          "color": "#4D5663"
         },
         "type": "scatter",
         "x": [
          -1.447570562362671,
          -1.3853551149368286,
          -2.591082811355591,
          -3.957036018371582,
          -1.6108901500701904,
          -1.6998928785324097,
          -2.9483304023742676,
          -2.597877025604248,
          -2.8057150840759277,
          -4.481503486633301,
          -5.157219409942627,
          -5.919581413269043
         ],
         "y": [
          2.9701249599456787,
          1.221856951713562,
          -1.2285182476043701,
          2.8559181690216064,
          4.168395519256592,
          -2.797800064086914,
          -0.4792594909667969,
          -4.539453506469727,
          -3.5897388458251953,
          0.5611376762390137,
          1.8232406377792358,
          -2.722266674041748
         ]
        },
        {
         "marker": {
          "color": "rgba(251, 128, 114, 1.0)",
          "line": {
           "width": 1.3
          },
          "opacity": 0.8,
          "size": 12,
          "symbol": "circle"
         },
         "mode": "markers",
         "name": "Couple 9",
         "text": [
          "voiture",
          "camion",
          "moto",
          "véhicule",
          "conduire",
          "rouler",
          "conducteur",
          "volant",
          "chauffeur",
          "permis",
          "vitesse",
          "passager"
         ],
         "textfont": {
          "color": "#4D5663"
         },
         "type": "scatter",
         "x": [
          1.4409162998199463,
          -4.0386962890625,
          -2.9235363006591797,
          -4.548058986663818,
          -0.9392130374908447,
          -3.746166467666626,
          -7.3757147789001465,
          -6.065756320953369,
          0.32458269596099854,
          1.797791600227356,
          -0.7851545214653015,
          -2.55623197555542
         ],
         "y": [
          -2.156449317932129,
          -0.5191525220870972,
          -1.1411086320877075,
          -2.778862476348877,
          -3.645956516265869,
          4.444517135620117,
          1.8779336214065552,
          1.756484031677246,
          -2.4517664909362793,
          0.7010071277618408,
          -1.9784972667694092,
          0.010115604847669601
         ]
        },
        {
         "marker": {
          "color": "rgba(128, 177, 211, 1.0)",
          "line": {
           "width": 1.3
          },
          "opacity": 0.8,
          "size": 12,
          "symbol": "circle"
         },
         "mode": "markers",
         "name": "Couple 10",
         "text": [
          "grand",
          "petit",
          "taille",
          "géant",
          "nain",
          "s",
          "m",
          "l",
          "xl",
          "mesure",
          "énorme",
          "longueur"
         ],
         "textfont": {
          "color": "#4D5663"
         },
         "type": "scatter",
         "x": [
          1.5450624227523804,
          -4.541685581207275,
          -0.06684882938861847,
          -1.8794891834259033,
          -1.0445730686187744,
          -7.290058135986328,
          -7.40056848526001,
          1.2853776216506958,
          -2.085411787033081,
          -1.1723333597183228,
          0.5516276359558105,
          0.2658578157424927
         ],
         "y": [
          0.5050947070121765,
          -0.9099631309509277,
          2.00445294380188,
          -0.0963175967335701,
          2.513676404953003,
          0.3947805166244507,
          1.9191787242889404,
          0.20055530965328217,
          1.3636586666107178,
          -0.8830350637435913,
          -2.597566604614258,
          -2.5371994972229004
         ]
        }
       ],
       "layout": {
        "legend": {
         "bgcolor": "#F5F6F9",
         "font": {
          "color": "#4D5663"
         }
        },
        "paper_bgcolor": "#F5F6F9",
        "plot_bgcolor": "#F5F6F9",
        "template": {
         "data": {
          "bar": [
           {
            "error_x": {
             "color": "#2a3f5f"
            },
            "error_y": {
             "color": "#2a3f5f"
            },
            "marker": {
             "line": {
              "color": "#E5ECF6",
              "width": 0.5
             }
            },
            "type": "bar"
           }
          ],
          "barpolar": [
           {
            "marker": {
             "line": {
              "color": "#E5ECF6",
              "width": 0.5
             }
            },
            "type": "barpolar"
           }
          ],
          "carpet": [
           {
            "aaxis": {
             "endlinecolor": "#2a3f5f",
             "gridcolor": "white",
             "linecolor": "white",
             "minorgridcolor": "white",
             "startlinecolor": "#2a3f5f"
            },
            "baxis": {
             "endlinecolor": "#2a3f5f",
             "gridcolor": "white",
             "linecolor": "white",
             "minorgridcolor": "white",
             "startlinecolor": "#2a3f5f"
            },
            "type": "carpet"
           }
          ],
          "choropleth": [
           {
            "colorbar": {
             "outlinewidth": 0,
             "ticks": ""
            },
            "type": "choropleth"
           }
          ],
          "contour": [
           {
            "colorbar": {
             "outlinewidth": 0,
             "ticks": ""
            },
            "colorscale": [
             [
              0,
              "#0d0887"
             ],
             [
              0.1111111111111111,
              "#46039f"
             ],
             [
              0.2222222222222222,
              "#7201a8"
             ],
             [
              0.3333333333333333,
              "#9c179e"
             ],
             [
              0.4444444444444444,
              "#bd3786"
             ],
             [
              0.5555555555555556,
              "#d8576b"
             ],
             [
              0.6666666666666666,
              "#ed7953"
             ],
             [
              0.7777777777777778,
              "#fb9f3a"
             ],
             [
              0.8888888888888888,
              "#fdca26"
             ],
             [
              1,
              "#f0f921"
             ]
            ],
            "type": "contour"
           }
          ],
          "contourcarpet": [
           {
            "colorbar": {
             "outlinewidth": 0,
             "ticks": ""
            },
            "type": "contourcarpet"
           }
          ],
          "heatmap": [
           {
            "colorbar": {
             "outlinewidth": 0,
             "ticks": ""
            },
            "colorscale": [
             [
              0,
              "#0d0887"
             ],
             [
              0.1111111111111111,
              "#46039f"
             ],
             [
              0.2222222222222222,
              "#7201a8"
             ],
             [
              0.3333333333333333,
              "#9c179e"
             ],
             [
              0.4444444444444444,
              "#bd3786"
             ],
             [
              0.5555555555555556,
              "#d8576b"
             ],
             [
              0.6666666666666666,
              "#ed7953"
             ],
             [
              0.7777777777777778,
              "#fb9f3a"
             ],
             [
              0.8888888888888888,
              "#fdca26"
             ],
             [
              1,
              "#f0f921"
             ]
            ],
            "type": "heatmap"
           }
          ],
          "heatmapgl": [
           {
            "colorbar": {
             "outlinewidth": 0,
             "ticks": ""
            },
            "colorscale": [
             [
              0,
              "#0d0887"
             ],
             [
              0.1111111111111111,
              "#46039f"
             ],
             [
              0.2222222222222222,
              "#7201a8"
             ],
             [
              0.3333333333333333,
              "#9c179e"
             ],
             [
              0.4444444444444444,
              "#bd3786"
             ],
             [
              0.5555555555555556,
              "#d8576b"
             ],
             [
              0.6666666666666666,
              "#ed7953"
             ],
             [
              0.7777777777777778,
              "#fb9f3a"
             ],
             [
              0.8888888888888888,
              "#fdca26"
             ],
             [
              1,
              "#f0f921"
             ]
            ],
            "type": "heatmapgl"
           }
          ],
          "histogram": [
           {
            "marker": {
             "colorbar": {
              "outlinewidth": 0,
              "ticks": ""
             }
            },
            "type": "histogram"
           }
          ],
          "histogram2d": [
           {
            "colorbar": {
             "outlinewidth": 0,
             "ticks": ""
            },
            "colorscale": [
             [
              0,
              "#0d0887"
             ],
             [
              0.1111111111111111,
              "#46039f"
             ],
             [
              0.2222222222222222,
              "#7201a8"
             ],
             [
              0.3333333333333333,
              "#9c179e"
             ],
             [
              0.4444444444444444,
              "#bd3786"
             ],
             [
              0.5555555555555556,
              "#d8576b"
             ],
             [
              0.6666666666666666,
              "#ed7953"
             ],
             [
              0.7777777777777778,
              "#fb9f3a"
             ],
             [
              0.8888888888888888,
              "#fdca26"
             ],
             [
              1,
              "#f0f921"
             ]
            ],
            "type": "histogram2d"
           }
          ],
          "histogram2dcontour": [
           {
            "colorbar": {
             "outlinewidth": 0,
             "ticks": ""
            },
            "colorscale": [
             [
              0,
              "#0d0887"
             ],
             [
              0.1111111111111111,
              "#46039f"
             ],
             [
              0.2222222222222222,
              "#7201a8"
             ],
             [
              0.3333333333333333,
              "#9c179e"
             ],
             [
              0.4444444444444444,
              "#bd3786"
             ],
             [
              0.5555555555555556,
              "#d8576b"
             ],
             [
              0.6666666666666666,
              "#ed7953"
             ],
             [
              0.7777777777777778,
              "#fb9f3a"
             ],
             [
              0.8888888888888888,
              "#fdca26"
             ],
             [
              1,
              "#f0f921"
             ]
            ],
            "type": "histogram2dcontour"
           }
          ],
          "mesh3d": [
           {
            "colorbar": {
             "outlinewidth": 0,
             "ticks": ""
            },
            "type": "mesh3d"
           }
          ],
          "parcoords": [
           {
            "line": {
             "colorbar": {
              "outlinewidth": 0,
              "ticks": ""
             }
            },
            "type": "parcoords"
           }
          ],
          "pie": [
           {
            "automargin": true,
            "type": "pie"
           }
          ],
          "scatter": [
           {
            "marker": {
             "colorbar": {
              "outlinewidth": 0,
              "ticks": ""
             }
            },
            "type": "scatter"
           }
          ],
          "scatter3d": [
           {
            "line": {
             "colorbar": {
              "outlinewidth": 0,
              "ticks": ""
             }
            },
            "marker": {
             "colorbar": {
              "outlinewidth": 0,
              "ticks": ""
             }
            },
            "type": "scatter3d"
           }
          ],
          "scattercarpet": [
           {
            "marker": {
             "colorbar": {
              "outlinewidth": 0,
              "ticks": ""
             }
            },
            "type": "scattercarpet"
           }
          ],
          "scattergeo": [
           {
            "marker": {
             "colorbar": {
              "outlinewidth": 0,
              "ticks": ""
             }
            },
            "type": "scattergeo"
           }
          ],
          "scattergl": [
           {
            "marker": {
             "colorbar": {
              "outlinewidth": 0,
              "ticks": ""
             }
            },
            "type": "scattergl"
           }
          ],
          "scattermapbox": [
           {
            "marker": {
             "colorbar": {
              "outlinewidth": 0,
              "ticks": ""
             }
            },
            "type": "scattermapbox"
           }
          ],
          "scatterpolar": [
           {
            "marker": {
             "colorbar": {
              "outlinewidth": 0,
              "ticks": ""
             }
            },
            "type": "scatterpolar"
           }
          ],
          "scatterpolargl": [
           {
            "marker": {
             "colorbar": {
              "outlinewidth": 0,
              "ticks": ""
             }
            },
            "type": "scatterpolargl"
           }
          ],
          "scatterternary": [
           {
            "marker": {
             "colorbar": {
              "outlinewidth": 0,
              "ticks": ""
             }
            },
            "type": "scatterternary"
           }
          ],
          "surface": [
           {
            "colorbar": {
             "outlinewidth": 0,
             "ticks": ""
            },
            "colorscale": [
             [
              0,
              "#0d0887"
             ],
             [
              0.1111111111111111,
              "#46039f"
             ],
             [
              0.2222222222222222,
              "#7201a8"
             ],
             [
              0.3333333333333333,
              "#9c179e"
             ],
             [
              0.4444444444444444,
              "#bd3786"
             ],
             [
              0.5555555555555556,
              "#d8576b"
             ],
             [
              0.6666666666666666,
              "#ed7953"
             ],
             [
              0.7777777777777778,
              "#fb9f3a"
             ],
             [
              0.8888888888888888,
              "#fdca26"
             ],
             [
              1,
              "#f0f921"
             ]
            ],
            "type": "surface"
           }
          ],
          "table": [
           {
            "cells": {
             "fill": {
              "color": "#EBF0F8"
             },
             "line": {
              "color": "white"
             }
            },
            "header": {
             "fill": {
              "color": "#C8D4E3"
             },
             "line": {
              "color": "white"
             }
            },
            "type": "table"
           }
          ]
         },
         "layout": {
          "annotationdefaults": {
           "arrowcolor": "#2a3f5f",
           "arrowhead": 0,
           "arrowwidth": 1
          },
          "coloraxis": {
           "colorbar": {
            "outlinewidth": 0,
            "ticks": ""
           }
          },
          "colorscale": {
           "diverging": [
            [
             0,
             "#8e0152"
            ],
            [
             0.1,
             "#c51b7d"
            ],
            [
             0.2,
             "#de77ae"
            ],
            [
             0.3,
             "#f1b6da"
            ],
            [
             0.4,
             "#fde0ef"
            ],
            [
             0.5,
             "#f7f7f7"
            ],
            [
             0.6,
             "#e6f5d0"
            ],
            [
             0.7,
             "#b8e186"
            ],
            [
             0.8,
             "#7fbc41"
            ],
            [
             0.9,
             "#4d9221"
            ],
            [
             1,
             "#276419"
            ]
           ],
           "sequential": [
            [
             0,
             "#0d0887"
            ],
            [
             0.1111111111111111,
             "#46039f"
            ],
            [
             0.2222222222222222,
             "#7201a8"
            ],
            [
             0.3333333333333333,
             "#9c179e"
            ],
            [
             0.4444444444444444,
             "#bd3786"
            ],
            [
             0.5555555555555556,
             "#d8576b"
            ],
            [
             0.6666666666666666,
             "#ed7953"
            ],
            [
             0.7777777777777778,
             "#fb9f3a"
            ],
            [
             0.8888888888888888,
             "#fdca26"
            ],
            [
             1,
             "#f0f921"
            ]
           ],
           "sequentialminus": [
            [
             0,
             "#0d0887"
            ],
            [
             0.1111111111111111,
             "#46039f"
            ],
            [
             0.2222222222222222,
             "#7201a8"
            ],
            [
             0.3333333333333333,
             "#9c179e"
            ],
            [
             0.4444444444444444,
             "#bd3786"
            ],
            [
             0.5555555555555556,
             "#d8576b"
            ],
            [
             0.6666666666666666,
             "#ed7953"
            ],
            [
             0.7777777777777778,
             "#fb9f3a"
            ],
            [
             0.8888888888888888,
             "#fdca26"
            ],
            [
             1,
             "#f0f921"
            ]
           ]
          },
          "colorway": [
           "#636efa",
           "#EF553B",
           "#00cc96",
           "#ab63fa",
           "#FFA15A",
           "#19d3f3",
           "#FF6692",
           "#B6E880",
           "#FF97FF",
           "#FECB52"
          ],
          "font": {
           "color": "#2a3f5f"
          },
          "geo": {
           "bgcolor": "white",
           "lakecolor": "white",
           "landcolor": "#E5ECF6",
           "showlakes": true,
           "showland": true,
           "subunitcolor": "white"
          },
          "hoverlabel": {
           "align": "left"
          },
          "hovermode": "closest",
          "mapbox": {
           "style": "light"
          },
          "paper_bgcolor": "white",
          "plot_bgcolor": "#E5ECF6",
          "polar": {
           "angularaxis": {
            "gridcolor": "white",
            "linecolor": "white",
            "ticks": ""
           },
           "bgcolor": "#E5ECF6",
           "radialaxis": {
            "gridcolor": "white",
            "linecolor": "white",
            "ticks": ""
           }
          },
          "scene": {
           "xaxis": {
            "backgroundcolor": "#E5ECF6",
            "gridcolor": "white",
            "gridwidth": 2,
            "linecolor": "white",
            "showbackground": true,
            "ticks": "",
            "zerolinecolor": "white"
           },
           "yaxis": {
            "backgroundcolor": "#E5ECF6",
            "gridcolor": "white",
            "gridwidth": 2,
            "linecolor": "white",
            "showbackground": true,
            "ticks": "",
            "zerolinecolor": "white"
           },
           "zaxis": {
            "backgroundcolor": "#E5ECF6",
            "gridcolor": "white",
            "gridwidth": 2,
            "linecolor": "white",
            "showbackground": true,
            "ticks": "",
            "zerolinecolor": "white"
           }
          },
          "shapedefaults": {
           "line": {
            "color": "#2a3f5f"
           }
          },
          "ternary": {
           "aaxis": {
            "gridcolor": "white",
            "linecolor": "white",
            "ticks": ""
           },
           "baxis": {
            "gridcolor": "white",
            "linecolor": "white",
            "ticks": ""
           },
           "bgcolor": "#E5ECF6",
           "caxis": {
            "gridcolor": "white",
            "linecolor": "white",
            "ticks": ""
           }
          },
          "title": {
           "x": 0.05
          },
          "xaxis": {
           "automargin": true,
           "gridcolor": "white",
           "linecolor": "white",
           "ticks": "",
           "title": {
            "standoff": 15
           },
           "zerolinecolor": "white",
           "zerolinewidth": 2
          },
          "yaxis": {
           "automargin": true,
           "gridcolor": "white",
           "linecolor": "white",
           "ticks": "",
           "title": {
            "standoff": 15
           },
           "zerolinecolor": "white",
           "zerolinewidth": 2
          }
         }
        },
        "title": {
         "font": {
          "color": "#4D5663"
         },
         "text": "TSNE"
        },
        "xaxis": {
         "gridcolor": "#E1E5ED",
         "showgrid": true,
         "tickfont": {
          "color": "#4D5663"
         },
         "title": {
          "font": {
           "color": "#4D5663"
          },
          "text": "Axe 1"
         },
         "zerolinecolor": "#E1E5ED"
        },
        "yaxis": {
         "gridcolor": "#E1E5ED",
         "showgrid": true,
         "tickfont": {
          "color": "#4D5663"
         },
         "title": {
          "font": {
           "color": "#4D5663"
          },
          "text": "Axe 2"
         },
         "zerolinecolor": "#E1E5ED"
        }
       }
      },
      "text/html": [
       "<div>\n",
       "        \n",
       "        \n",
       "            <div id=\"169b335f-d131-499f-99b9-17df2112575c\" class=\"plotly-graph-div\" style=\"height:525px; width:100%;\"></div>\n",
       "            <script type=\"text/javascript\">\n",
       "                require([\"plotly\"], function(Plotly) {\n",
       "                    window.PLOTLYENV=window.PLOTLYENV || {};\n",
       "                    window.PLOTLYENV.BASE_URL='https://plot.ly';\n",
       "                    \n",
       "                if (document.getElementById(\"169b335f-d131-499f-99b9-17df2112575c\")) {\n",
       "                    Plotly.newPlot(\n",
       "                        '169b335f-d131-499f-99b9-17df2112575c',\n",
       "                        [{\"marker\": {\"color\": \"rgba(255, 153, 51, 1.0)\", \"line\": {\"width\": 1.3}, \"opacity\": 0.8, \"size\": 12, \"symbol\": \"circle\"}, \"mode\": \"markers\", \"name\": \"Couple 1\", \"text\": [\"homme\", \"femme\", \"sexe\", \"genre\", \"mari\", \"\\u00e9pouse\", \"famille\", \"in\\u00e9galit\\u00e9s\", \"enfant\", \"amour\", \"couple\", \"diff\\u00e9rence\"], \"textfont\": {\"color\": \"#4D5663\"}, \"type\": \"scatter\", \"x\": [-3.885892152786255, -2.5393428802490234, -2.321913480758667, 0.28164419531822205, -3.286252975463867, -3.2291743755340576, -3.341564893722534, -4.582348823547363, -4.014384746551514, -0.5233099460601807, -3.401132583618164, -4.0145344734191895], \"y\": [0.05591243505477905, -0.1895306259393692, -4.827388286590576, -1.0976660251617432, 1.722049355506897, -4.519984245300293, -2.876769781112671, -2.049929141998291, -3.1324572563171387, 0.2972789704799652, -1.8494430780410767, 1.3941078186035156]}, {\"marker\": {\"color\": \"rgba(55, 128, 191, 1.0)\", \"line\": {\"width\": 1.3}, \"opacity\": 0.8, \"size\": 12, \"symbol\": \"circle\"}, \"mode\": \"markers\", \"name\": \"Couple 2\", \"text\": [\"chien\", \"chat\", \"animal\", \"domestique\", \"maison\", \"aboyer\", \"miauler\", \"labrador\", \"poil\", \"pattes\", \"spa\", \"ami\"], \"textfont\": {\"color\": \"#4D5663\"}, \"type\": \"scatter\", \"x\": [-2.5885331630706787, -3.7804477214813232, 2.681152582168579, -3.198246479034424, -7.362052917480469, -2.510981798171997, -2.647186279296875, -5.237178802490234, -1.144756555557251, -3.4394993782043457, -5.034746170043945, 1.0187612771987915], \"y\": [1.1135406494140625, -0.9438309669494629, -1.2451469898223877, -3.973473072052002, -1.3341835737228394, 3.059924840927124, -0.06124987453222275, 2.526455879211426, -1.7046051025390625, 0.6000596284866333, -1.3573362827301025, 0.5184171199798584]}, {\"marker\": {\"color\": \"rgba(50, 171, 96, 1.0)\", \"line\": {\"width\": 1.3}, \"opacity\": 0.8, \"size\": 12, \"symbol\": \"circle\"}, \"mode\": \"markers\", \"name\": \"Couple 3\", \"text\": [\"vanille\", \"chocolat\", \"parfum\", \"go\\u00fbt\", \"fraise\", \"glace\", \"boule\", \"g\\u00e2teau\", \"bonbon\", \"blanc\", \"noir\", \"pr\\u00e9f\\u00e9rence\"], \"textfont\": {\"color\": \"#4D5663\"}, \"type\": \"scatter\", \"x\": [0.9431040287017822, -3.796628713607788, 1.7918713092803955, -2.6470868587493896, -2.493746757507324, -0.027317311614751816, -0.30822816491127014, -4.421065330505371, -1.653563141822815, -0.2798505127429962, -0.9906784296035767, -7.033654689788818], \"y\": [-0.4291752278804779, -1.8316138982772827, 2.180014133453369, -0.21482640504837036, -0.024362869560718536, -4.369010925292969, -0.05877537652850151, 1.1857274770736694, -4.382352828979492, -2.3756144046783447, -3.124546527862549, 0.37246403098106384]}, {\"marker\": {\"color\": \"rgba(128, 0, 128, 1.0)\", \"line\": {\"width\": 1.3}, \"opacity\": 0.8, \"size\": 12, \"symbol\": \"circle\"}, \"mode\": \"markers\", \"name\": \"Couple 4\", \"text\": [\"poli\", \"courtois\", \"bonjour\", \"merci\", \"pardon\", \"stp\", \"r\\u00e8gles\", \"apprendre\", \"formule\", \"demander\"], \"textfont\": {\"color\": \"#4D5663\"}, \"type\": \"scatter\", \"x\": [-0.6724836230278015, -5.2749176025390625, -2.1957387924194336, -2.697798728942871, -3.6746280193328857, -5.0312724113464355, -6.054983139038086, -5.8526291847229, -1.929160475730896, 0.6835794448852539], \"y\": [1.4012649059295654, -0.8298356533050537, -2.1511223316192627, 2.743232250213623, 4.481493949890137, 0.280321329832077, -3.99336314201355, -2.548253059387207, 0.45413586497306824, 3.4158897399902344]}, {\"marker\": {\"color\": \"rgba(219, 64, 82, 1.0)\", \"line\": {\"width\": 1.3}, \"opacity\": 0.8, \"size\": 12, \"symbol\": \"circle\"}, \"mode\": \"markers\", \"name\": \"Couple 5\", \"text\": [\"choqu\\u00e9\", \"peur\", \"terreur\", \"phobie\", \"clown\", \"noir\", \"araign\\u00e9e\", \"rat\", \"cri\", \"oh\", \"ah\"], \"textfont\": {\"color\": \"#4D5663\"}, \"type\": \"scatter\", \"x\": [0.5444281697273254, -3.0424792766571045, -2.10707688331604, 0.39299583435058594, -0.9183846116065979, -0.9898964166641235, -6.080322742462158, -6.471186637878418, -3.9833483695983887, -1.9604908227920532, -4.889663219451904], \"y\": [2.425257682800293, -1.932249903678894, -1.563656210899353, 0.7396191954612732, 3.588402032852173, -3.1274116039276123, -3.8611841201782227, 3.1701629161834717, -0.7704614400863647, -0.7417073249816895, -1.0807157754898071]}, {\"marker\": {\"color\": \"rgba(0, 128, 128, 1.0)\", \"line\": {\"width\": 1.3}, \"opacity\": 0.8, \"size\": 12, \"symbol\": \"circle\"}, \"mode\": \"markers\", \"name\": \"Couple 6\", \"text\": [\"propre\", \"sale\", \"nettoyer\", \"vaisselle\", \"laver\", \"savon\", \"produit\", \"traces\", \"net\", \"brillant\"], \"textfont\": {\"color\": \"#4D5663\"}, \"type\": \"scatter\", \"x\": [-6.235383033752441, -2.1894466876983643, 0.45757991075515747, -2.0197079181671143, -0.5233061909675598, 0.42080602049827576, -1.0903788805007935, -5.654554843902588, -3.3419032096862793, -1.9784252643585205], \"y\": [2.842121124267578, 2.297250509262085, 1.9443022012710571, -3.3477656841278076, 1.9556466341018677, 2.4796409606933594, 0.06776954233646393, 1.891164779663086, 2.3538777828216553, -1.9654467105865479]}, {\"marker\": {\"color\": \"rgba(255, 255, 51, 1.0)\", \"line\": {\"width\": 1.3}, \"opacity\": 0.8, \"size\": 12, \"symbol\": \"circle\"}, \"mode\": \"markers\", \"name\": \"Couple 7\", \"text\": [\"canap\\u00e9\", \"fauteuil\", \"maison\", \"salon\", \"assis\", \"confortable\", \"cuir\", \"t\\u00e9l\\u00e9\", \"accoudoir\", \"plaid\"], \"textfont\": {\"color\": \"#4D5663\"}, \"type\": \"scatter\", \"x\": [-1.285722255706787, -1.0706474781036377, -7.365108013153076, -1.5198931694030762, -0.007922403514385223, -6.479593753814697, -6.634509563446045, -3.429295063018799, -2.6301112174987793, -5.7519731521606445], \"y\": [-1.1602435111999512, -0.8654941320419312, -1.3344603776931763, 1.1899703741073608, -0.20161254703998566, 2.8885247707366943, 0.3355638086795807, 0.12957942485809326, -0.3484429717063904, 1.0790530443191528]}, {\"marker\": {\"color\": \"rgba(128, 128, 0, 1.0)\", \"line\": {\"width\": 1.3}, \"opacity\": 0.8, \"size\": 12, \"symbol\": \"circle\"}, \"mode\": \"markers\", \"name\": \"Couple 8\", \"text\": [\"t\\u00e9l\\u00e9phone\", \"portable\", \"appel\", \"allo\", \"d\\u00e9crocher\", \"sms\", \"num\\u00e9ro\", \"mobile\", \"orange\", \"sfr\", \"free\", \"bouygues\"], \"textfont\": {\"color\": \"#4D5663\"}, \"type\": \"scatter\", \"x\": [-1.447570562362671, -1.3853551149368286, -2.591082811355591, -3.957036018371582, -1.6108901500701904, -1.6998928785324097, -2.9483304023742676, -2.597877025604248, -2.8057150840759277, -4.481503486633301, -5.157219409942627, -5.919581413269043], \"y\": [2.9701249599456787, 1.221856951713562, -1.2285182476043701, 2.8559181690216064, 4.168395519256592, -2.797800064086914, -0.4792594909667969, -4.539453506469727, -3.5897388458251953, 0.5611376762390137, 1.8232406377792358, -2.722266674041748]}, {\"marker\": {\"color\": \"rgba(251, 128, 114, 1.0)\", \"line\": {\"width\": 1.3}, \"opacity\": 0.8, \"size\": 12, \"symbol\": \"circle\"}, \"mode\": \"markers\", \"name\": \"Couple 9\", \"text\": [\"voiture\", \"camion\", \"moto\", \"v\\u00e9hicule\", \"conduire\", \"rouler\", \"conducteur\", \"volant\", \"chauffeur\", \"permis\", \"vitesse\", \"passager\"], \"textfont\": {\"color\": \"#4D5663\"}, \"type\": \"scatter\", \"x\": [1.4409162998199463, -4.0386962890625, -2.9235363006591797, -4.548058986663818, -0.9392130374908447, -3.746166467666626, -7.3757147789001465, -6.065756320953369, 0.32458269596099854, 1.797791600227356, -0.7851545214653015, -2.55623197555542], \"y\": [-2.156449317932129, -0.5191525220870972, -1.1411086320877075, -2.778862476348877, -3.645956516265869, 4.444517135620117, 1.8779336214065552, 1.756484031677246, -2.4517664909362793, 0.7010071277618408, -1.9784972667694092, 0.010115604847669601]}, {\"marker\": {\"color\": \"rgba(128, 177, 211, 1.0)\", \"line\": {\"width\": 1.3}, \"opacity\": 0.8, \"size\": 12, \"symbol\": \"circle\"}, \"mode\": \"markers\", \"name\": \"Couple 10\", \"text\": [\"grand\", \"petit\", \"taille\", \"g\\u00e9ant\", \"nain\", \"s\", \"m\", \"l\", \"xl\", \"mesure\", \"\\u00e9norme\", \"longueur\"], \"textfont\": {\"color\": \"#4D5663\"}, \"type\": \"scatter\", \"x\": [1.5450624227523804, -4.541685581207275, -0.06684882938861847, -1.8794891834259033, -1.0445730686187744, -7.290058135986328, -7.40056848526001, 1.2853776216506958, -2.085411787033081, -1.1723333597183228, 0.5516276359558105, 0.2658578157424927], \"y\": [0.5050947070121765, -0.9099631309509277, 2.00445294380188, -0.0963175967335701, 2.513676404953003, 0.3947805166244507, 1.9191787242889404, 0.20055530965328217, 1.3636586666107178, -0.8830350637435913, -2.597566604614258, -2.5371994972229004]}],\n",
       "                        {\"legend\": {\"bgcolor\": \"#F5F6F9\", \"font\": {\"color\": \"#4D5663\"}}, \"paper_bgcolor\": \"#F5F6F9\", \"plot_bgcolor\": \"#F5F6F9\", \"template\": {\"data\": {\"bar\": [{\"error_x\": {\"color\": \"#2a3f5f\"}, \"error_y\": {\"color\": \"#2a3f5f\"}, \"marker\": {\"line\": {\"color\": \"#E5ECF6\", \"width\": 0.5}}, \"type\": \"bar\"}], \"barpolar\": [{\"marker\": {\"line\": {\"color\": \"#E5ECF6\", \"width\": 0.5}}, \"type\": \"barpolar\"}], \"carpet\": [{\"aaxis\": {\"endlinecolor\": \"#2a3f5f\", \"gridcolor\": \"white\", \"linecolor\": \"white\", \"minorgridcolor\": \"white\", \"startlinecolor\": \"#2a3f5f\"}, \"baxis\": {\"endlinecolor\": \"#2a3f5f\", \"gridcolor\": \"white\", \"linecolor\": \"white\", \"minorgridcolor\": \"white\", \"startlinecolor\": \"#2a3f5f\"}, \"type\": \"carpet\"}], \"choropleth\": [{\"colorbar\": {\"outlinewidth\": 0, \"ticks\": \"\"}, \"type\": \"choropleth\"}], \"contour\": [{\"colorbar\": {\"outlinewidth\": 0, \"ticks\": \"\"}, \"colorscale\": [[0.0, \"#0d0887\"], [0.1111111111111111, \"#46039f\"], [0.2222222222222222, \"#7201a8\"], [0.3333333333333333, \"#9c179e\"], [0.4444444444444444, \"#bd3786\"], [0.5555555555555556, \"#d8576b\"], [0.6666666666666666, \"#ed7953\"], [0.7777777777777778, \"#fb9f3a\"], [0.8888888888888888, \"#fdca26\"], [1.0, \"#f0f921\"]], \"type\": \"contour\"}], \"contourcarpet\": [{\"colorbar\": {\"outlinewidth\": 0, \"ticks\": \"\"}, \"type\": \"contourcarpet\"}], \"heatmap\": [{\"colorbar\": {\"outlinewidth\": 0, \"ticks\": \"\"}, \"colorscale\": [[0.0, \"#0d0887\"], [0.1111111111111111, \"#46039f\"], [0.2222222222222222, \"#7201a8\"], [0.3333333333333333, \"#9c179e\"], [0.4444444444444444, \"#bd3786\"], [0.5555555555555556, \"#d8576b\"], [0.6666666666666666, \"#ed7953\"], [0.7777777777777778, \"#fb9f3a\"], [0.8888888888888888, \"#fdca26\"], [1.0, \"#f0f921\"]], \"type\": \"heatmap\"}], \"heatmapgl\": [{\"colorbar\": {\"outlinewidth\": 0, \"ticks\": \"\"}, \"colorscale\": [[0.0, \"#0d0887\"], [0.1111111111111111, \"#46039f\"], [0.2222222222222222, \"#7201a8\"], [0.3333333333333333, \"#9c179e\"], [0.4444444444444444, \"#bd3786\"], [0.5555555555555556, \"#d8576b\"], [0.6666666666666666, \"#ed7953\"], [0.7777777777777778, \"#fb9f3a\"], [0.8888888888888888, \"#fdca26\"], [1.0, \"#f0f921\"]], \"type\": \"heatmapgl\"}], \"histogram\": [{\"marker\": {\"colorbar\": {\"outlinewidth\": 0, \"ticks\": \"\"}}, \"type\": \"histogram\"}], \"histogram2d\": [{\"colorbar\": {\"outlinewidth\": 0, \"ticks\": \"\"}, \"colorscale\": [[0.0, \"#0d0887\"], [0.1111111111111111, \"#46039f\"], [0.2222222222222222, \"#7201a8\"], [0.3333333333333333, \"#9c179e\"], [0.4444444444444444, \"#bd3786\"], [0.5555555555555556, \"#d8576b\"], [0.6666666666666666, \"#ed7953\"], [0.7777777777777778, \"#fb9f3a\"], [0.8888888888888888, \"#fdca26\"], [1.0, \"#f0f921\"]], \"type\": \"histogram2d\"}], \"histogram2dcontour\": [{\"colorbar\": {\"outlinewidth\": 0, \"ticks\": \"\"}, \"colorscale\": [[0.0, \"#0d0887\"], [0.1111111111111111, \"#46039f\"], [0.2222222222222222, \"#7201a8\"], [0.3333333333333333, \"#9c179e\"], [0.4444444444444444, \"#bd3786\"], [0.5555555555555556, \"#d8576b\"], [0.6666666666666666, \"#ed7953\"], [0.7777777777777778, \"#fb9f3a\"], [0.8888888888888888, \"#fdca26\"], [1.0, \"#f0f921\"]], \"type\": \"histogram2dcontour\"}], \"mesh3d\": [{\"colorbar\": {\"outlinewidth\": 0, \"ticks\": \"\"}, \"type\": \"mesh3d\"}], \"parcoords\": [{\"line\": {\"colorbar\": {\"outlinewidth\": 0, \"ticks\": \"\"}}, \"type\": \"parcoords\"}], \"pie\": [{\"automargin\": true, \"type\": \"pie\"}], \"scatter\": [{\"marker\": {\"colorbar\": {\"outlinewidth\": 0, \"ticks\": \"\"}}, \"type\": \"scatter\"}], \"scatter3d\": [{\"line\": {\"colorbar\": {\"outlinewidth\": 0, \"ticks\": \"\"}}, \"marker\": {\"colorbar\": {\"outlinewidth\": 0, \"ticks\": \"\"}}, \"type\": \"scatter3d\"}], \"scattercarpet\": [{\"marker\": {\"colorbar\": {\"outlinewidth\": 0, \"ticks\": \"\"}}, \"type\": \"scattercarpet\"}], \"scattergeo\": [{\"marker\": {\"colorbar\": {\"outlinewidth\": 0, \"ticks\": \"\"}}, \"type\": \"scattergeo\"}], \"scattergl\": [{\"marker\": {\"colorbar\": {\"outlinewidth\": 0, \"ticks\": \"\"}}, \"type\": \"scattergl\"}], \"scattermapbox\": [{\"marker\": {\"colorbar\": {\"outlinewidth\": 0, \"ticks\": \"\"}}, \"type\": \"scattermapbox\"}], \"scatterpolar\": [{\"marker\": {\"colorbar\": {\"outlinewidth\": 0, \"ticks\": \"\"}}, \"type\": \"scatterpolar\"}], \"scatterpolargl\": [{\"marker\": {\"colorbar\": {\"outlinewidth\": 0, \"ticks\": \"\"}}, \"type\": \"scatterpolargl\"}], \"scatterternary\": [{\"marker\": {\"colorbar\": {\"outlinewidth\": 0, \"ticks\": \"\"}}, \"type\": \"scatterternary\"}], \"surface\": [{\"colorbar\": {\"outlinewidth\": 0, \"ticks\": \"\"}, \"colorscale\": [[0.0, \"#0d0887\"], [0.1111111111111111, \"#46039f\"], [0.2222222222222222, \"#7201a8\"], [0.3333333333333333, \"#9c179e\"], [0.4444444444444444, \"#bd3786\"], [0.5555555555555556, \"#d8576b\"], [0.6666666666666666, \"#ed7953\"], [0.7777777777777778, \"#fb9f3a\"], [0.8888888888888888, \"#fdca26\"], [1.0, \"#f0f921\"]], \"type\": \"surface\"}], \"table\": [{\"cells\": {\"fill\": {\"color\": \"#EBF0F8\"}, \"line\": {\"color\": \"white\"}}, \"header\": {\"fill\": {\"color\": \"#C8D4E3\"}, \"line\": {\"color\": \"white\"}}, \"type\": \"table\"}]}, \"layout\": {\"annotationdefaults\": {\"arrowcolor\": \"#2a3f5f\", \"arrowhead\": 0, \"arrowwidth\": 1}, \"coloraxis\": {\"colorbar\": {\"outlinewidth\": 0, \"ticks\": \"\"}}, \"colorscale\": {\"diverging\": [[0, \"#8e0152\"], [0.1, \"#c51b7d\"], [0.2, \"#de77ae\"], [0.3, \"#f1b6da\"], [0.4, \"#fde0ef\"], [0.5, \"#f7f7f7\"], [0.6, \"#e6f5d0\"], [0.7, \"#b8e186\"], [0.8, \"#7fbc41\"], [0.9, \"#4d9221\"], [1, \"#276419\"]], \"sequential\": [[0.0, \"#0d0887\"], [0.1111111111111111, \"#46039f\"], [0.2222222222222222, \"#7201a8\"], [0.3333333333333333, \"#9c179e\"], [0.4444444444444444, \"#bd3786\"], [0.5555555555555556, \"#d8576b\"], [0.6666666666666666, \"#ed7953\"], [0.7777777777777778, \"#fb9f3a\"], [0.8888888888888888, \"#fdca26\"], [1.0, \"#f0f921\"]], \"sequentialminus\": [[0.0, \"#0d0887\"], [0.1111111111111111, \"#46039f\"], [0.2222222222222222, \"#7201a8\"], [0.3333333333333333, \"#9c179e\"], [0.4444444444444444, \"#bd3786\"], [0.5555555555555556, \"#d8576b\"], [0.6666666666666666, \"#ed7953\"], [0.7777777777777778, \"#fb9f3a\"], [0.8888888888888888, \"#fdca26\"], [1.0, \"#f0f921\"]]}, \"colorway\": [\"#636efa\", \"#EF553B\", \"#00cc96\", \"#ab63fa\", \"#FFA15A\", \"#19d3f3\", \"#FF6692\", \"#B6E880\", \"#FF97FF\", \"#FECB52\"], \"font\": {\"color\": \"#2a3f5f\"}, \"geo\": {\"bgcolor\": \"white\", \"lakecolor\": \"white\", \"landcolor\": \"#E5ECF6\", \"showlakes\": true, \"showland\": true, \"subunitcolor\": \"white\"}, \"hoverlabel\": {\"align\": \"left\"}, \"hovermode\": \"closest\", \"mapbox\": {\"style\": \"light\"}, \"paper_bgcolor\": \"white\", \"plot_bgcolor\": \"#E5ECF6\", \"polar\": {\"angularaxis\": {\"gridcolor\": \"white\", \"linecolor\": \"white\", \"ticks\": \"\"}, \"bgcolor\": \"#E5ECF6\", \"radialaxis\": {\"gridcolor\": \"white\", \"linecolor\": \"white\", \"ticks\": \"\"}}, \"scene\": {\"xaxis\": {\"backgroundcolor\": \"#E5ECF6\", \"gridcolor\": \"white\", \"gridwidth\": 2, \"linecolor\": \"white\", \"showbackground\": true, \"ticks\": \"\", \"zerolinecolor\": \"white\"}, \"yaxis\": {\"backgroundcolor\": \"#E5ECF6\", \"gridcolor\": \"white\", \"gridwidth\": 2, \"linecolor\": \"white\", \"showbackground\": true, \"ticks\": \"\", \"zerolinecolor\": \"white\"}, \"zaxis\": {\"backgroundcolor\": \"#E5ECF6\", \"gridcolor\": \"white\", \"gridwidth\": 2, \"linecolor\": \"white\", \"showbackground\": true, \"ticks\": \"\", \"zerolinecolor\": \"white\"}}, \"shapedefaults\": {\"line\": {\"color\": \"#2a3f5f\"}}, \"ternary\": {\"aaxis\": {\"gridcolor\": \"white\", \"linecolor\": \"white\", \"ticks\": \"\"}, \"baxis\": {\"gridcolor\": \"white\", \"linecolor\": \"white\", \"ticks\": \"\"}, \"bgcolor\": \"#E5ECF6\", \"caxis\": {\"gridcolor\": \"white\", \"linecolor\": \"white\", \"ticks\": \"\"}}, \"title\": {\"x\": 0.05}, \"xaxis\": {\"automargin\": true, \"gridcolor\": \"white\", \"linecolor\": \"white\", \"ticks\": \"\", \"title\": {\"standoff\": 15}, \"zerolinecolor\": \"white\", \"zerolinewidth\": 2}, \"yaxis\": {\"automargin\": true, \"gridcolor\": \"white\", \"linecolor\": \"white\", \"ticks\": \"\", \"title\": {\"standoff\": 15}, \"zerolinecolor\": \"white\", \"zerolinewidth\": 2}}}, \"title\": {\"font\": {\"color\": \"#4D5663\"}, \"text\": \"TSNE\"}, \"xaxis\": {\"gridcolor\": \"#E1E5ED\", \"showgrid\": true, \"tickfont\": {\"color\": \"#4D5663\"}, \"title\": {\"font\": {\"color\": \"#4D5663\"}, \"text\": \"Axe 1\"}, \"zerolinecolor\": \"#E1E5ED\"}, \"yaxis\": {\"gridcolor\": \"#E1E5ED\", \"showgrid\": true, \"tickfont\": {\"color\": \"#4D5663\"}, \"title\": {\"font\": {\"color\": \"#4D5663\"}, \"text\": \"Axe 2\"}, \"zerolinecolor\": \"#E1E5ED\"}},\n",
       "                        {\"showLink\": true, \"linkText\": \"Export to plot.ly\", \"plotlyServerURL\": \"https://plot.ly\", \"responsive\": true}\n",
       "                    ).then(function(){\n",
       "                            \n",
       "var gd = document.getElementById('169b335f-d131-499f-99b9-17df2112575c');\n",
       "var x = new MutationObserver(function (mutations, observer) {{\n",
       "        var display = window.getComputedStyle(gd).display;\n",
       "        if (!display || display === 'none') {{\n",
       "            console.log([gd, 'removed!']);\n",
       "            Plotly.purge(gd);\n",
       "            observer.disconnect();\n",
       "        }}\n",
       "}});\n",
       "\n",
       "// Listen for the removal of the full notebook cells\n",
       "var notebookContainer = gd.closest('#notebook-container');\n",
       "if (notebookContainer) {{\n",
       "    x.observe(notebookContainer, {childList: true});\n",
       "}}\n",
       "\n",
       "// Listen for the clearing of the current output cell\n",
       "var outputEl = gd.closest('.output');\n",
       "if (outputEl) {{\n",
       "    x.observe(outputEl, {childList: true});\n",
       "}}\n",
       "\n",
       "                        })\n",
       "                };\n",
       "                });\n",
       "            </script>\n",
       "        </div>"
      ]
     },
     "metadata": {},
     "output_type": "display_data"
    }
   ],
   "source": [
    "tsne_graph(liste, statique = False,\n",
    "           nom_couples_explicite = False)"
   ]
  },
  {
   "cell_type": "code",
   "execution_count": null,
   "metadata": {},
   "outputs": [],
   "source": []
  }
 ],
 "metadata": {
  "kernelspec": {
   "display_name": "Python 3",
   "language": "python",
   "name": "python3"
  },
  "language_info": {
   "codemirror_mode": {
    "name": "ipython",
    "version": 3
   },
   "file_extension": ".py",
   "mimetype": "text/x-python",
   "name": "python",
   "nbconvert_exporter": "python",
   "pygments_lexer": "ipython3",
   "version": "3.7.5"
  }
 },
 "nbformat": 4,
 "nbformat_minor": 2
}
