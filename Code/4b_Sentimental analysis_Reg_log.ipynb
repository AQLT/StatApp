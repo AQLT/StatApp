{
 "cells": [
  {
   "cell_type": "code",
   "execution_count": 1,
   "metadata": {},
   "outputs": [],
   "source": [
    "import os\n",
    "import numpy as np\n",
    "import random\n",
    "import pandas as pd\n",
    "import matplotlib.pyplot as plt\n",
    "import pickle\n",
    "import gensim\n",
    "from gensim.models import word2vec\n",
    "from sklearn.linear_model import LogisticRegression\n",
    "from statsmodels.discrete.discrete_model import Probit\n",
    "#from sklearn import metrics\n",
    "import sklearn.metrics as metrics\n",
    "import matplotlib.pyplot as plt\n",
    "\n",
    "import nltk\n",
    "from nltk.corpus import stopwords\n",
    "#nltk.download(\"stopwords\")\n",
    "stop_words =  set(stopwords.words('french'))\n",
    "\n",
    "random.seed(1)\n",
    "np.random.seed(1)"
   ]
  },
  {
   "cell_type": "markdown",
   "metadata": {},
   "source": [
    "### Paramètres généraux"
   ]
  },
  {
   "cell_type": "code",
   "execution_count": 2,
   "metadata": {},
   "outputs": [],
   "source": [
    "# chemins\n",
    "\n",
    "os.chdir('C:/Users/torna/Documents/StatApp/StatApp')\n",
    "#os.chdir('C:/Users/Kim Antunez/Documents/Projets_autres/StatApp')\n",
    "#os.chdir('/Users/alainquartierlatente/Desktop/Ensae/StatApp')\n",
    "#os.chdir('/home/aqlt/Documents/Ensae/StatApp')"
   ]
  },
  {
   "cell_type": "code",
   "execution_count": 3,
   "metadata": {},
   "outputs": [],
   "source": [
    "# pour gensim\n",
    "\n",
    "nom_dossier = 'ens'\n",
    "dim = 100\n",
    "epoch = 100\n",
    "window = 4\n",
    "learning_rate = 0.02\n"
   ]
  },
  {
   "cell_type": "code",
   "execution_count": 24,
   "metadata": {},
   "outputs": [],
   "source": [
    "# pour les train et test\n",
    "rm_stopwords = True #True = on enlève les stopwords\n",
    "lowfrequency_zero_bool= False #true : on met les non reconnus à zero. false : à lowfreq\n",
    "git = True #True : base git, False : base sncf\n",
    "logit_bool = True #True : régression logistique, False : probit\n",
    "########\n",
    "if rm_stopwords:\n",
    "    rm_stopwords_string = \"rmsw\"\n",
    "else:\n",
    "    rm_stopwords_string = \"nrmsw\"\n",
    "    \n",
    "#false : on les met à 0 #Rq : le terme est mal choisi, à modifier plus tard\n",
    "if lowfrequency_zero_bool:\n",
    "    lowfrequency_zero_string = \"z\"\n",
    "else:\n",
    "    lowfrequency_zero_string = \"lf\"\n",
    "    \n",
    "if git:\n",
    "    git_string = \"\"\n",
    "else:\n",
    "    git_string = \"_sncf\"\n"
   ]
  },
  {
   "cell_type": "markdown",
   "metadata": {},
   "source": [
    "# Importer le modèle Word2Vec"
   ]
  },
  {
   "cell_type": "code",
   "execution_count": 25,
   "metadata": {},
   "outputs": [],
   "source": [
    "chemin1 = \"data/{}/gensim/dim{}_ep{}_w{}_lr{}_seed1\".format(nom_dossier, dim, epoch, window, str(learning_rate)[2:]) \n",
    "model1 = gensim.models.keyedvectors.KeyedVectors.load(chemin1 + \"/word2vec.model\")\n",
    "chemin2 = \"data/{}/gensim/dim{}_ep{}_w{}_lr{}_seed5\".format(nom_dossier, dim, epoch, window, str(learning_rate)[2:])  \n",
    "model2 = gensim.models.keyedvectors.KeyedVectors.load(chemin2 + \"/word2vec.model\")\n",
    "chemin3 = \"data/{}/gensim/dim{}_ep{}_w{}_lr{}_seed10\".format(nom_dossier, dim, epoch, window, str(learning_rate)[2:])  \n",
    "model3 = gensim.models.keyedvectors.KeyedVectors.load(chemin3 + \"/word2vec.model\")\n",
    "chemin4 = \"data/{}/gensim/dim{}_ep{}_w{}_lr{}_seed15\".format(nom_dossier, dim, epoch, window, str(learning_rate)[2:])  \n",
    "model4 = gensim.models.keyedvectors.KeyedVectors.load(chemin4 + \"/word2vec.model\")\n",
    "chemin5 = \"data/{}/gensim/dim{}_ep{}_w{}_lr{}_seed20\".format(nom_dossier, dim, epoch, window, str(learning_rate)[2:])  \n",
    "model5 = gensim.models.keyedvectors.KeyedVectors.load(chemin5 + \"/word2vec.model\")\n",
    "chemin6 = \"data/{}/gensim/dim{}_ep{}_w{}_lr{}_seed25\".format(nom_dossier, dim, epoch, window, str(learning_rate)[2:]) \n",
    "model6 = gensim.models.keyedvectors.KeyedVectors.load(chemin6 + \"/word2vec.model\")"
   ]
  },
  {
   "cell_type": "code",
   "execution_count": 26,
   "metadata": {},
   "outputs": [],
   "source": [
    "matrice = {word : (model1.wv[word]+model2.wv[word]+model3.wv[word]+model4.wv[word]+model5.wv[word]+model6.wv[word])/6\n",
    "           for word in model1.wv.index2word}\n",
    "\n",
    "#def normalize(v):\n",
    "#    norm = np.linalg.norm(v)\n",
    "#    if norm == 0: \n",
    "#        return v\n",
    "#    return v / norm\n",
    "\n",
    "#matrice_norm = {word : normalize(matrice[word]) for word in matrice.keys()}"
   ]
  },
  {
   "cell_type": "markdown",
   "metadata": {},
   "source": [
    "# Fonctions utiles "
   ]
  },
  {
   "cell_type": "code",
   "execution_count": 27,
   "metadata": {},
   "outputs": [],
   "source": [
    "def calcul_sentence_embedding(phrase,pond=False,lowfrequency_zero=lowfrequency_zero_bool):\n",
    "    \n",
    "    if len(phrase)>0: \n",
    "        if(pond): #Modèle de la fin non utilisé\n",
    "            sum1 = sum(matrice[mot]*matrice_sentiments_val[mot] for mot in phrase if mot in model1.wv.index2word and\n",
    "                   mot in vocabulaire)\n",
    "            if lowfrequency_zero==False:\n",
    "                sum2 = sum(matrice[\"lowfrequencyword\"]*0 for mot in phrase if mot not in model1.wv.index2word)\n",
    "                return (sum1+sum2)/len(phrase)\n",
    "            else:\n",
    "                return  (sum1)/(len([mot for mot in phrase if mot in model1.wv.index2word]))\n",
    "        else:     \n",
    "            sum1 = sum(matrice[mot] for mot in phrase if mot in model1.wv.index2word)\n",
    "            #sum1 = sum(matrice_norm[mot] for mot in phrase if mot in model1.wv.index2word)\n",
    "            if lowfrequency_zero==False:\n",
    "                sum2 = sum(matrice[\"lowfrequencyword\"] for mot in phrase if mot not in model1.wv.index2word)\n",
    "                #sum2 = sum(matrice_norm[\"lowfrequencyword\"] for mot in phrase if mot not in model1.wv.index2word)\n",
    "                return (sum1+sum2)/len(phrase)\n",
    "            else:\n",
    "                taille = len([mot for mot in phrase if mot in model1.wv.index2word])\n",
    "                if taille>0:\n",
    "                    return  (sum1)/taille\n",
    "                else: \n",
    "                    return 'NaN'\n",
    "    else:\n",
    "        if lowfrequency_zero==False:\n",
    "            return matrice[\"lowfrequencyword\"]\n",
    "        else:\n",
    "            return 'NaN'"
   ]
  },
  {
   "cell_type": "code",
   "execution_count": 28,
   "metadata": {},
   "outputs": [],
   "source": [
    "def regression_logistique(X_train,Y_train,logit=logit_bool):\n",
    "    if logit: #logit\n",
    "        lr = LogisticRegression()\n",
    "        reg_log = lr.fit(X_train,Y_train)\n",
    "    else: #probit\n",
    "        Y_train_prob = [max(val,0) for val in Y_train]\n",
    "        model = Probit(Y_train_prob, X_train)\n",
    "        reg_log = model.fit()\n",
    "    return(reg_log)"
   ]
  },
  {
   "cell_type": "code",
   "execution_count": 29,
   "metadata": {},
   "outputs": [],
   "source": [
    "def matrice_confusion_accuracy(Y,Y_pred): #X_train, Y_train\n",
    "    cm = metrics.confusion_matrix(Y,Y_pred)\n",
    "    print(\"Matrice de confusion :\", cm)\n",
    "    acc = metrics.accuracy_score(Y,Y_pred)\n",
    "    print(\"Accuracy :\", acc)"
   ]
  },
  {
   "cell_type": "code",
   "execution_count": 47,
   "metadata": {},
   "outputs": [],
   "source": [
    "def courbe_roc(Y,Y_pred): #Y_pred = Y_test_pred #Y = Y_test\n",
    "    preds = Y_pred[:,1]\n",
    "    fpr, tpr, threshold = metrics.roc_curve(Y, preds)\n",
    "    roc_auc = metrics.auc(fpr, tpr)\n",
    "\n",
    "    plt.title('Courbe ROC - Régression logistique')\n",
    "    plt.plot(fpr, tpr, 'b', label = 'AUC = %0.2f' % roc_auc)\n",
    "    plt.legend(loc = 'lower right')\n",
    "    plt.plot([0, 1], [0, 1],'r--')\n",
    "    plt.xlim([0, 1])\n",
    "    plt.ylim([0, 1])\n",
    "    plt.ylabel('Taux de vrais positifs')\n",
    "    plt.xlabel('Taux de faux positifs')\n",
    "    plt.show()\n",
    "    #print(roc_auc)"
   ]
  },
  {
   "cell_type": "code",
   "execution_count": 78,
   "metadata": {},
   "outputs": [],
   "source": [
    "def calcul_AUC(Y,Y_pred,logit=True): #Y_pred = Y_test_pred #Y = Y_test\n",
    "    if logit:\n",
    "        preds = Y_pred[:,1]\n",
    "        fpr, tpr, threshold = metrics.roc_curve(Y, preds)\n",
    "    else:\n",
    "        fpr, tpr, threshold = metrics.roc_curve(Y, Y_pred)    \n",
    "    roc_auc = metrics.auc(fpr, tpr)\n",
    "    return(roc_auc)"
   ]
  },
  {
   "cell_type": "code",
   "execution_count": 31,
   "metadata": {},
   "outputs": [],
   "source": [
    "def mots_corpus_absents_dans_word2vec(corpus):\n",
    "    phrases = [tweet.split() for (score, tweet) in corpus]\n",
    "    mots = [item for sublist in phrases for item in sublist]\n",
    "    vocabulaire = list(dict.fromkeys(mots))\n",
    "    n = 0\n",
    "    #absents = []\n",
    "    for word in vocabulaire:\n",
    "        if word not in model1.wv.index2word:\n",
    "            n+=1\n",
    "            #absents.append(word)\n",
    "    return((n/len(vocabulaire)))"
   ]
  },
  {
   "cell_type": "code",
   "execution_count": 32,
   "metadata": {},
   "outputs": [],
   "source": [
    "def suppr_stop(phrase):\n",
    "    return [mot for mot in phrase if mot not in stop_words]"
   ]
  },
  {
   "cell_type": "code",
   "execution_count": 33,
   "metadata": {},
   "outputs": [],
   "source": [
    "def sentiment_plus(mot, matrice_sentiments):\n",
    "    plus, moins = matrice_sentiments[mot]\n",
    "    matrice_sentiments[mot] = (plus+1,moins)\n",
    "    \n",
    "def sentiment_moins(mot, matrice_sentiments):\n",
    "    plus, moins = matrice_sentiments[mot]\n",
    "    matrice_sentiments[mot] = (plus,moins+1)\n",
    "\n",
    "def mat_sentiments(corpus_train, vocabulaire):   \n",
    "    #Initialisation\n",
    "    matrice_sent = {mot:(0,0) for mot in vocabulaire}\n",
    "    for (score, tweet) in corpus_train:\n",
    "        for mot in tweet.split():\n",
    "            if score == 1:\n",
    "                sentiment_plus(mot, matrice_sent)\n",
    "            else:\n",
    "                sentiment_moins(mot,matrice_sent)\n",
    "    matrice_sentiments_val = {mot:(matrice_sent[mot][0]-matrice_sent[mot][1])/((matrice_sent[mot][0]+matrice_sent[mot][1]))\n",
    "                          for mot in vocabulaire}\n",
    "    return matrice_sentiments_val"
   ]
  },
  {
   "cell_type": "code",
   "execution_count": 34,
   "metadata": {},
   "outputs": [],
   "source": [
    "# Créer un DF avec les colonnes suivantes\n",
    "#Phrases positives \tPhrases négatives \tPhrases positives mal prédites\n",
    "#Phrases négatives mal prédites \tPourcentage pos \tPourcentage neg\n",
    "def creer_df_mots_pos_neg(phrases_test, phrases_pos_faux, phrases_neg_faux):\n",
    "    mots = [mot for (tweet,score) in phrases_test for mot in tweet]\n",
    "    voc_faux = list(dict.fromkeys(mots))\n",
    "    app_voc = {mot : [0,0,0,0] for mot in voc_faux}\n",
    "    for phrase, score in phrases_test:\n",
    "        for mot in phrase:\n",
    "            plus, moins,faux_plus,faux_moins = app_voc[mot]\n",
    "            if score == 1:\n",
    "                app_voc[mot] = [plus+1,moins,faux_plus,faux_moins]\n",
    "            else:\n",
    "                app_voc[mot] = [plus,moins+1,faux_plus,faux_moins]\n",
    "    for [tweet, proba] in phrases_pos_faux:\n",
    "        for mot in tweet:\n",
    "            plus, moins,faux_plus,faux_moins = app_voc[mot]\n",
    "            app_voc[mot] = [plus,moins,faux_plus+1,faux_moins]\n",
    "    for [tweet, proba] in phrases_neg_faux:\n",
    "        for mot in tweet:\n",
    "            plus, moins,faux_plus,faux_moins = app_voc[mot]\n",
    "            app_voc[mot] =  [plus,moins,faux_plus,faux_moins+1] \n",
    "    donnees = [val for val in app_voc.values()]\n",
    "    mots = [mot for mot in app_voc.keys()]\n",
    "    df = pd.DataFrame(donnees,index=mots,columns=[\"Phrases positives\",\"Phrases négatives\",\"Phrases positives mal prédites\",\"Phrases négatives mal prédites\"])\n",
    "\n",
    "    df[\"Part Phrases pos\"] = 100 * df[\"Phrases positives\"]/(df[\"Phrases positives\"]+df[\"Phrases négatives\"]) \n",
    "    df[\"Part Phrases pos mal préd\"] =100 * df[\"Phrases positives mal prédites\"]/ df[\"Phrases positives\"]\n",
    "    df[\"Part Phrases neg mal préd\"] =100 * df[\"Phrases négatives mal prédites\"]/ df[\"Phrases négatives\"]\n",
    "    df = df.sort_values(by=['Part Phrases pos mal préd'],ascending=False)\n",
    "    df = df.loc[ : , ['Part Phrases pos', 'Part Phrases pos mal préd','Part Phrases neg mal préd'] ]\n",
    "    return df"
   ]
  },
  {
   "cell_type": "code",
   "execution_count": 35,
   "metadata": {},
   "outputs": [],
   "source": [
    "def nb_mots_PasWord2vec_phrase(phrase):\n",
    "    compteur = 0\n",
    "    for mot in phrase:\n",
    "        if mot not in model1.wv.index2word:\n",
    "            compteur = compteur + 1\n",
    "    return compteur"
   ]
  },
  {
   "cell_type": "markdown",
   "metadata": {},
   "source": [
    "# Modèle logistique"
   ]
  },
  {
   "cell_type": "code",
   "execution_count": 37,
   "metadata": {},
   "outputs": [],
   "source": [
    "# Si on veut récup les fichiers\n",
    "\n",
    "with open(\"data/sentimental_analysis/corpus_test{}.file\".format(git_string), \"rb\") as f:\n",
    "    corpus_test = pickle.load(f)\n",
    "with open(\"data/sentimental_analysis/corpus_train{}.file\".format(git_string), \"rb\") as f:\n",
    "    corpus_train = pickle.load(f)\n",
    "with open(\"data/sentimental_analysis/phrasesEmbTest_{}_{}.file\".format(rm_stopwords_string,lowfrequency_zero_string), \"rb\") as f:\n",
    "    phrases_test_emb = pickle.load(f)\n",
    "with open(\"data/sentimental_analysis/phrasesEmbTrain_{}_{}.file\".format(rm_stopwords_string,lowfrequency_zero_string), \"rb\") as f:\n",
    "    phrases_train_emb = pickle.load(f)"
   ]
  },
  {
   "cell_type": "code",
   "execution_count": 38,
   "metadata": {},
   "outputs": [
    {
     "name": "stdout",
     "output_type": "stream",
     "text": [
      "Nombre de mots : 674732\n",
      "Taille du vocabulaire : 39650\n"
     ]
    }
   ],
   "source": [
    "phrases = [tweet.split() for (score, tweet) in corpus_train]\n",
    "mots = [item for sublist in phrases for item in sublist]\n",
    "vocabulaire = list(dict.fromkeys(mots))\n",
    "print(\"Nombre de mots :\", len(mots))\n",
    "print(\"Taille du vocabulaire :\", len(vocabulaire))"
   ]
  },
  {
   "cell_type": "markdown",
   "metadata": {},
   "source": [
    "Mots du corpus de train absents du vocabulaire word2vec (en %) "
   ]
  },
  {
   "cell_type": "code",
   "execution_count": 39,
   "metadata": {},
   "outputs": [
    {
     "data": {
      "text/plain": [
       "53.477931904161416"
      ]
     },
     "execution_count": 39,
     "metadata": {},
     "output_type": "execute_result"
    }
   ],
   "source": [
    "100 * mots_corpus_absents_dans_word2vec(corpus_train)"
   ]
  },
  {
   "cell_type": "markdown",
   "metadata": {},
   "source": [
    "Mots du corpus de test absents du vocabulaire word2vec (en %) "
   ]
  },
  {
   "cell_type": "code",
   "execution_count": 40,
   "metadata": {},
   "outputs": [
    {
     "data": {
      "text/plain": [
       "29.000584453535943"
      ]
     },
     "execution_count": 40,
     "metadata": {},
     "output_type": "execute_result"
    }
   ],
   "source": [
    "100 * mots_corpus_absents_dans_word2vec(corpus_test)"
   ]
  },
  {
   "cell_type": "markdown",
   "metadata": {},
   "source": [
    "données de train"
   ]
  },
  {
   "cell_type": "code",
   "execution_count": 41,
   "metadata": {},
   "outputs": [
    {
     "name": "stderr",
     "output_type": "stream",
     "text": [
      "C:\\Users\\torna\\Anaconda3\\lib\\site-packages\\ipykernel_launcher.py:9: FutureWarning: elementwise comparison failed; returning scalar instead, but in the future will perform elementwise comparison\n",
      "  if __name__ == '__main__':\n"
     ]
    }
   ],
   "source": [
    "if rm_stopwords:\n",
    "    phrases = [[suppr_stop(tweet.split()),score] for (score, tweet) in corpus_train]\n",
    "else:\n",
    "    phrases = [[tweet.split(),score] for (score, tweet) in corpus_train]\n",
    "# long à tourner : chargé ci-dessus. \n",
    "#phrases_train_emb = [[score,calcul_sentence_embedding(phrase,lowfrequency_zero=lowfrequency_zero_bool)] for (phrase,score) in phrases]\n",
    "#with open(\"data/sentimental_analysis/phrasesEmbTrain_{}_{}.file\".format(rm_stopwords_string,lowfrequency_zero_string), \"wb\") as f:\n",
    "#        pickle.dump(phrases_train_emb, f, pickle.HIGHEST_PROTOCOL)\n",
    "phrases_train_emb = [[score,phrase] for (score,phrase) in phrases_train_emb if phrase != 'NaN']\n",
    "Y_train = [score for (score, embedding) in phrases_train_emb]\n",
    "X_train = [embedding for (score, embedding) in phrases_train_emb]\n"
   ]
  },
  {
   "cell_type": "markdown",
   "metadata": {},
   "source": [
    "données de test"
   ]
  },
  {
   "cell_type": "code",
   "execution_count": 42,
   "metadata": {},
   "outputs": [
    {
     "name": "stderr",
     "output_type": "stream",
     "text": [
      "C:\\Users\\torna\\Anaconda3\\lib\\site-packages\\ipykernel_launcher.py:9: FutureWarning: elementwise comparison failed; returning scalar instead, but in the future will perform elementwise comparison\n",
      "  if __name__ == '__main__':\n"
     ]
    }
   ],
   "source": [
    "if rm_stopwords:\n",
    "    phrases_test = [[suppr_stop(tweet.split()),score] for (score, tweet) in corpus_test]\n",
    "else:\n",
    "    phrases_test = [[tweet.split(),score] for (score, tweet) in corpus_test]\n",
    "# long à tourner : chargé ci-dessus. \n",
    "#phrases_test_emb = [[score,calcul_sentence_embedding(phrase,lowfrequency_zero=lowfrequency_zero_bool)] for (phrase,score) in phrases_test]\n",
    "#with open(\"data/sentimental_analysis/phrasesEmbTest_{}_{}.file\".format(rm_stopwords_string,lowfrequency_zero_string), \"wb\") as f:\n",
    "#        pickle.dump(phrases_test_emb, f, pickle.HIGHEST_PROTOCOL)\n",
    "phrases_test_emb = [[score,phrase] for (score,phrase) in phrases_test_emb if phrase != 'NaN']\n",
    "Y_test = [score for (score, embedding) in phrases_test_emb]\n",
    "X_test = [embedding for (score, embedding) in phrases_test_emb]"
   ]
  },
  {
   "cell_type": "markdown",
   "metadata": {},
   "source": [
    "#### Régression logistique (en enlevant les stop_words)"
   ]
  },
  {
   "cell_type": "code",
   "execution_count": 43,
   "metadata": {},
   "outputs": [],
   "source": [
    "reg_log = regression_logistique(X_train, Y_train, logit = True)\n",
    "Y_train_pred = reg_log.predict(X_train)\n",
    "Y_test_pred = reg_log.predict(X_test)\n",
    "Y_train_proba = reg_log.predict_proba(X_train)\n",
    "Y_test_proba = reg_log.predict_proba(X_test)"
   ]
  },
  {
   "cell_type": "code",
   "execution_count": 44,
   "metadata": {},
   "outputs": [
    {
     "name": "stdout",
     "output_type": "stream",
     "text": [
      "TRAIN\n",
      "Matrice de confusion : [[16922  8078]\n",
      " [ 8102 16898]]\n",
      "Accuracy : 0.6764\n",
      "\n",
      "TEST\n",
      "Matrice de confusion : [[1350  634]\n",
      " [ 685 1313]]\n",
      "Accuracy : 0.6687594173782019\n"
     ]
    }
   ],
   "source": [
    "print(\"TRAIN\")\n",
    "matrice_confusion_accuracy(Y_train,Y_train_pred)\n",
    "print(\"\\nTEST\")\n",
    "matrice_confusion_accuracy(Y_test,Y_test_pred)"
   ]
  },
  {
   "cell_type": "markdown",
   "metadata": {},
   "source": [
    "Valeur prédite pour lowfrequency ?"
   ]
  },
  {
   "cell_type": "code",
   "execution_count": 45,
   "metadata": {},
   "outputs": [
    {
     "name": "stdout",
     "output_type": "stream",
     "text": [
      "[1]\n"
     ]
    }
   ],
   "source": [
    "if lowfrequency_zero_bool==False:\n",
    "    phrases_lf = [['lowfrequency'],1]\n",
    "    phrases_lf_emb = [phrases_lf[1],calcul_sentence_embedding([phrases_lf[1]],lowfrequency_zero=lowfrequency_zero_bool)]\n",
    "    lf_pred = reg_log.predict([phrases_lf_emb[1]])\n",
    "    print(lf_pred)"
   ]
  },
  {
   "cell_type": "code",
   "execution_count": 48,
   "metadata": {},
   "outputs": [
    {
     "data": {
      "image/png": "[encoded data removed]",
      "text/plain": [
       "<Figure size 432x288 with 1 Axes>"
      ]
     },
     "metadata": {
      "needs_background": "light"
     },
     "output_type": "display_data"
    },
    {
     "name": "stdout",
     "output_type": "stream",
     "text": [
      "0.7328505420743324\n"
     ]
    }
   ],
   "source": [
    "courbe_roc(Y_test,Y_test_proba)"
   ]
  },
  {
   "cell_type": "markdown",
   "metadata": {},
   "source": [
    "Distribution de proba"
   ]
  },
  {
   "cell_type": "code",
   "execution_count": 221,
   "metadata": {},
   "outputs": [
    {
     "data": {
      "text/plain": [
       "<matplotlib.axes._subplots.AxesSubplot at 0x159e9050dc8>"
      ]
     },
     "execution_count": 221,
     "metadata": {},
     "output_type": "execute_result"
    },
    {
     "data": {
      "image/png": "[encoded data removed]",
      "text/plain": [
       "<Figure size 432x288 with 1 Axes>"
      ]
     },
     "metadata": {
      "needs_background": "light"
     },
     "output_type": "display_data"
    }
   ],
   "source": [
    "probas = Y_test_proba[:,1]\n",
    "pd.DataFrame(probas).plot(kind='density',xlim=(0,1)) "
   ]
  },
  {
   "cell_type": "code",
   "execution_count": 168,
   "metadata": {},
   "outputs": [],
   "source": [
    "# On sauve les modèles\n",
    "#with open(\"data/sentimental_analysis/reg_log_{}_{}{}.file\".format(rm_stopwords_string,lowfrequency_zero_string, git_string), \"wb\") as f:\n",
    "#        pickle.dump(reg_log, f, pickle.HIGHEST_PROTOCOL)"
   ]
  },
  {
   "cell_type": "markdown",
   "metadata": {},
   "source": [
    "#### Régression probit (en enlevant les stop_words)"
   ]
  },
  {
   "cell_type": "code",
   "execution_count": 69,
   "metadata": {},
   "outputs": [
    {
     "name": "stdout",
     "output_type": "stream",
     "text": [
      "Optimization terminated successfully.\n",
      "         Current function value: 0.601140\n",
      "         Iterations 5\n"
     ]
    }
   ],
   "source": [
    "reg_log = regression_logistique(X_train,Y_train,logit=False)\n",
    "Y_train_pred = reg_log.predict(X_train)\n",
    "Y_test_pred = reg_log.predict(X_test)"
   ]
  },
  {
   "cell_type": "code",
   "execution_count": 70,
   "metadata": {},
   "outputs": [
    {
     "name": "stdout",
     "output_type": "stream",
     "text": [
      "TRAIN\n",
      "Matrice de confusion : [[17062  7938]\n",
      " [ 8226 16774]]\n",
      "Accuracy : 0.67672\n",
      "\n",
      "TEST\n",
      "Matrice de confusion : [[1358  626]\n",
      " [ 693 1305]]\n",
      "Accuracy : 0.6687594173782019\n"
     ]
    }
   ],
   "source": [
    "print(\"TRAIN\")\n",
    "matrice_confusion_accuracy(Y_train,[1 if (val >= 0.5) else -1 for val in Y_train_pred])\n",
    "print(\"\\nTEST\")\n",
    "matrice_confusion_accuracy(Y_test,[1 if (val >= 0.5) else -1 for val in Y_test_pred]) "
   ]
  },
  {
   "cell_type": "markdown",
   "metadata": {},
   "source": [
    "Valeur prédite pour lowfrequency ?"
   ]
  },
  {
   "cell_type": "code",
   "execution_count": 224,
   "metadata": {},
   "outputs": [
    {
     "name": "stdout",
     "output_type": "stream",
     "text": [
      "[0.6706915]\n"
     ]
    }
   ],
   "source": [
    "if lowfrequency_zero_bool==False:\n",
    "    phrases_lf = [['lowfrequency'],1]\n",
    "    phrases_lf_emb = [phrases_lf[1],calcul_sentence_embedding([phrases_lf[1]],lowfrequency_zero=lowfrequency_zero_bool)]\n",
    "    lf_pred = reg_log.predict([phrases_lf_emb[1]])\n",
    "    print(lf_pred)"
   ]
  },
  {
   "cell_type": "code",
   "execution_count": 225,
   "metadata": {},
   "outputs": [
    {
     "data": {
      "image/png": "[encoded data removed]",
      "text/plain": [
       "<Figure size 432x288 with 1 Axes>"
      ]
     },
     "metadata": {
      "needs_background": "light"
     },
     "output_type": "display_data"
    }
   ],
   "source": [
    "courbe_roc(Y_test,Y_test_proba) #Y_test_proba => logit ??"
   ]
  },
  {
   "cell_type": "code",
   "execution_count": 74,
   "metadata": {},
   "outputs": [
    {
     "name": "stdout",
     "output_type": "stream",
     "text": [
      "0.7325215840840842\n"
     ]
    }
   ],
   "source": [
    "fpr, tpr, threshold = metrics.roc_curve(Y_test, Y_test_pred)\n",
    "roc_auc = metrics.auc(fpr, tpr)\n",
    "print(roc_auc)"
   ]
  },
  {
   "cell_type": "markdown",
   "metadata": {},
   "source": [
    "Distribution de proba"
   ]
  },
  {
   "cell_type": "code",
   "execution_count": 226,
   "metadata": {},
   "outputs": [
    {
     "data": {
      "text/plain": [
       "<matplotlib.axes._subplots.AxesSubplot at 0x159dd859308>"
      ]
     },
     "execution_count": 226,
     "metadata": {},
     "output_type": "execute_result"
    },
    {
     "data": {
      "image/png": "[encoded data removed]",
      "text/plain": [
       "<Figure size 432x288 with 1 Axes>"
      ]
     },
     "metadata": {
      "needs_background": "light"
     },
     "output_type": "display_data"
    }
   ],
   "source": [
    "pd.DataFrame(Y_test_pred).plot(kind='density',xlim=(0,1))"
   ]
  },
  {
   "cell_type": "code",
   "execution_count": 174,
   "metadata": {},
   "outputs": [],
   "source": [
    "# On sauve les modèles\n",
    "#with open(\"data/sentimental_analysis/reg_prob_{}_{}{}.file\".format(rm_stopwords_string,lowfrequency_zero_string, git_string), \"wb\") as f:\n",
    "#        pickle.dump(reg_log, f, pickle.HIGHEST_PROTOCOL)"
   ]
  },
  {
   "cell_type": "markdown",
   "metadata": {},
   "source": [
    "# Identifier mal prédits"
   ]
  },
  {
   "cell_type": "markdown",
   "metadata": {},
   "source": [
    "**Attention** Avant de faire tourner cette partie, faire tourner le dernier type de modèle souhaité ci-dessus (logit ou probit). "
   ]
  },
  {
   "cell_type": "code",
   "execution_count": 227,
   "metadata": {},
   "outputs": [],
   "source": [
    "phrases_pred = [(tweet,score,pred,proba) for (tweet,score),pred,proba in zip(phrases_test,Y_test_pred,probas)]\n",
    "phrases_tot = [[tweet,proba] for (tweet,score,pred,proba) in phrases_pred]\n",
    "phrases_pos_faux = [[tweet,proba] for (tweet,score,pred,proba) in phrases_pred if (score == 1 and pred==-1)]\n",
    "probas_pos = [proba for [tweet,proba] in phrases_pos_faux]\n",
    "phrases_neg_faux = [[tweet,proba] for (tweet,score,pred,proba) in phrases_pred if (score == -1 and pred==1)]\n",
    "probas_neg = [proba for [tweet,proba] in phrases_neg_faux]\n",
    "\n",
    "phrases_tot_compt = [[phrase, nb_mots_PasWord2vec_phrase(phrase),len(phrase)] for [phrase,score] in phrases_tot]\n",
    "phrases_pos_faux_compt = [[phrase, nb_mots_PasWord2vec_phrase(phrase),len(phrase)] for [phrase,score] in phrases_pos_faux]\n",
    "phrases_neg_faux_compt = [[phrase, nb_mots_PasWord2vec_phrase(phrase),len(phrase)] for [phrase,score] in phrases_neg_faux]\n",
    "\n",
    "# pourcentage des mots qui sont dans pas dans word2vec\n",
    "phrases_tot_pourcent = [[phrase,val1/val2] for [phrase,val1,val2] in phrases_tot_compt if val2>0]\n",
    "phrases_pos_faux_pourcent = [[phrase,val1/val2] for [phrase,val1,val2] in phrases_pos_faux_compt if val2>0]\n",
    "phrases_neg_faux_pourcent = [[phrase,val1/val2] for [phrase,val1,val2] in phrases_neg_faux_compt if val2>0]\n",
    "val_tot_pourcent = [val for [phrase,val] in phrases_tot_pourcent]\n",
    "val_pos_faux_pourcent = [val for [phrase,val] in phrases_pos_faux_pourcent]\n",
    "val_neg_faux_pourcent = [val for [phrase,val] in phrases_neg_faux_pourcent]"
   ]
  },
  {
   "cell_type": "markdown",
   "metadata": {},
   "source": [
    "Densités"
   ]
  },
  {
   "cell_type": "code",
   "execution_count": 204,
   "metadata": {},
   "outputs": [
    {
     "data": {
      "image/png": "[encoded data removed]",
      "text/plain": [
       "<Figure size 432x288 with 1 Axes>"
      ]
     },
     "metadata": {
      "needs_background": "light"
     },
     "output_type": "display_data"
    }
   ],
   "source": [
    "ax = plt.gca()\n",
    "# Négatifs (plein) et Faux négatifs (pointillés)\n",
    "pd.DataFrame(probas_pos).plot(kind='density',xlim=(0,1),ax=ax,color='green')\n",
    "pd.DataFrame(probas[probas<0.5]).plot(kind='density',xlim=(0,1),ax=ax,color='green',linestyle='dashed') \n",
    "# Positifs (plein) et Faux positifs (pointillés)\n",
    "pd.DataFrame(probas_neg).plot(kind='density',xlim=(0,1),ax=ax,color='red')\n",
    "pd.DataFrame(probas[probas>0.5]).plot(kind='density',xlim=(0,1),ax=ax,linestyle='dashed',color='red') \n",
    "plt.show()"
   ]
  },
  {
   "cell_type": "code",
   "execution_count": 205,
   "metadata": {
    "scrolled": false
   },
   "outputs": [
    {
     "data": {
      "text/html": [
       "<div>\n",
       "<style scoped>\n",
       "    .dataframe tbody tr th:only-of-type {\n",
       "        vertical-align: middle;\n",
       "    }\n",
       "\n",
       "    .dataframe tbody tr th {\n",
       "        vertical-align: top;\n",
       "    }\n",
       "\n",
       "    .dataframe thead th {\n",
       "        text-align: right;\n",
       "    }\n",
       "</style>\n",
       "<table border=\"1\" class=\"dataframe\">\n",
       "  <thead>\n",
       "    <tr style=\"text-align: right;\">\n",
       "      <th></th>\n",
       "      <th>Part Phrases pos</th>\n",
       "      <th>Part Phrases pos mal préd</th>\n",
       "      <th>Part Phrases neg mal préd</th>\n",
       "    </tr>\n",
       "  </thead>\n",
       "  <tbody>\n",
       "    <tr>\n",
       "      <th>tropdelove</th>\n",
       "      <td>100.000000</td>\n",
       "      <td>100.0</td>\n",
       "      <td>NaN</td>\n",
       "    </tr>\n",
       "    <tr>\n",
       "      <th>demandes</th>\n",
       "      <td>33.333333</td>\n",
       "      <td>100.0</td>\n",
       "      <td>0.0</td>\n",
       "    </tr>\n",
       "    <tr>\n",
       "      <th>pensantes</th>\n",
       "      <td>100.000000</td>\n",
       "      <td>100.0</td>\n",
       "      <td>NaN</td>\n",
       "    </tr>\n",
       "    <tr>\n",
       "      <th>44</th>\n",
       "      <td>100.000000</td>\n",
       "      <td>100.0</td>\n",
       "      <td>NaN</td>\n",
       "    </tr>\n",
       "    <tr>\n",
       "      <th>milliards</th>\n",
       "      <td>100.000000</td>\n",
       "      <td>100.0</td>\n",
       "      <td>NaN</td>\n",
       "    </tr>\n",
       "    <tr>\n",
       "      <th>...</th>\n",
       "      <td>...</td>\n",
       "      <td>...</td>\n",
       "      <td>...</td>\n",
       "    </tr>\n",
       "    <tr>\n",
       "      <th>pure</th>\n",
       "      <td>0.000000</td>\n",
       "      <td>NaN</td>\n",
       "      <td>100.0</td>\n",
       "    </tr>\n",
       "    <tr>\n",
       "      <th>foooolie</th>\n",
       "      <td>0.000000</td>\n",
       "      <td>NaN</td>\n",
       "      <td>100.0</td>\n",
       "    </tr>\n",
       "    <tr>\n",
       "      <th>moi😭</th>\n",
       "      <td>0.000000</td>\n",
       "      <td>NaN</td>\n",
       "      <td>0.0</td>\n",
       "    </tr>\n",
       "    <tr>\n",
       "      <th>trouduculs</th>\n",
       "      <td>0.000000</td>\n",
       "      <td>NaN</td>\n",
       "      <td>100.0</td>\n",
       "    </tr>\n",
       "    <tr>\n",
       "      <th>invivable</th>\n",
       "      <td>0.000000</td>\n",
       "      <td>NaN</td>\n",
       "      <td>0.0</td>\n",
       "    </tr>\n",
       "  </tbody>\n",
       "</table>\n",
       "<p>15252 rows × 3 columns</p>\n",
       "</div>"
      ],
      "text/plain": [
       "            Part Phrases pos  Part Phrases pos mal préd  \\\n",
       "tropdelove        100.000000                      100.0   \n",
       "demandes           33.333333                      100.0   \n",
       "pensantes         100.000000                      100.0   \n",
       "44                100.000000                      100.0   \n",
       "milliards         100.000000                      100.0   \n",
       "...                      ...                        ...   \n",
       "pure                0.000000                        NaN   \n",
       "foooolie            0.000000                        NaN   \n",
       "moi😭                0.000000                        NaN   \n",
       "trouduculs          0.000000                        NaN   \n",
       "invivable           0.000000                        NaN   \n",
       "\n",
       "            Part Phrases neg mal préd  \n",
       "tropdelove                        NaN  \n",
       "demandes                          0.0  \n",
       "pensantes                         NaN  \n",
       "44                                NaN  \n",
       "milliards                         NaN  \n",
       "...                               ...  \n",
       "pure                            100.0  \n",
       "foooolie                        100.0  \n",
       "moi😭                              0.0  \n",
       "trouduculs                      100.0  \n",
       "invivable                         0.0  \n",
       "\n",
       "[15252 rows x 3 columns]"
      ]
     },
     "execution_count": 205,
     "metadata": {},
     "output_type": "execute_result"
    }
   ],
   "source": [
    "df = creer_df_mots_pos_neg(phrases_test, phrases_pos_faux, phrases_neg_faux)\n",
    "#df.to_csv('test.csv', sep = ';',encoding='UTF8')\n",
    "df"
   ]
  },
  {
   "cell_type": "code",
   "execution_count": 206,
   "metadata": {},
   "outputs": [
    {
     "name": "stdout",
     "output_type": "stream",
     "text": [
      "Part des phrases contenant au moins 1 mot inconnu à word2vec parmi les faux négatifs 52.0\n",
      "Part des phrases contenant au moins 1 mot inconnu à word2vec parmi les faux positifs 43.0\n",
      "Part des phrases contenant au moins 1 mot inconnu à word2vec parmi toutes les phrases 48.0\n"
     ]
    }
   ],
   "source": [
    "df_pos = pd.DataFrame(val_pos_faux_pourcent,columns=[\"val\"])\n",
    "print(\"Part des phrases contenant au moins 1 mot inconnu à word2vec parmi les faux négatifs\",\n",
    "      round(100 - 100 * df_pos[df_pos[\"val\"]>0].shape[0] / df_pos.shape[0],0))\n",
    "\n",
    "df_neg = pd.DataFrame(val_neg_faux_pourcent,columns=[\"val\"])\n",
    "print(\"Part des phrases contenant au moins 1 mot inconnu à word2vec parmi les faux positifs\",\n",
    "      round(100 - 100 * df_neg[df_neg[\"val\"]>0].shape[0] / df_neg.shape[0],0))\n",
    "\n",
    "df_tot = pd.DataFrame(val_tot_pourcent,columns=[\"val\"])\n",
    "print(\"Part des phrases contenant au moins 1 mot inconnu à word2vec parmi toutes les phrases\",\n",
    "      round(100 - 100 * df_tot[df_tot[\"val\"]>0].shape[0] / df_tot.shape[0],0))"
   ]
  },
  {
   "cell_type": "markdown",
   "metadata": {},
   "source": [
    "# Sélection du meilleur modèle"
   ]
  },
  {
   "cell_type": "code",
   "execution_count": 87,
   "metadata": {},
   "outputs": [],
   "source": [
    "def calculate_aic(n, mse, num_params = 100):\n",
    "    aic = n * log(mse) + 2 * num_params\n",
    "    return aic\n",
    "\n",
    "def calculate_bic(n, mse, num_params = 100):\n",
    "    bic = n * log(mse) + num_params * log(n)\n",
    "    return bic"
   ]
  },
  {
   "cell_type": "code",
   "execution_count": 98,
   "metadata": {},
   "outputs": [],
   "source": [
    "import random\n",
    "from random import sample\n",
    "from sklearn.metrics import mean_squared_error\n",
    "from math import log\n",
    "\n",
    "def selection_regression():\n",
    "    for git_string in [True,False]:\n",
    "        print(\"Données GIT : \", git_string)\n",
    "        for logit_bool in [True,False]:\n",
    "            print(\"Logit ? : \", logit_bool)\n",
    "            for rm_stopwords_string in [\"rmsw\",\"nrmsw\"]:\n",
    "                print(\"Stopwords ? : \", rm_stopwords_string)\n",
    "                for lowfrequency_zero_string in [\"z\",\"lf\"]:\n",
    "                    print(\"Lowfrequency : \", lowfrequency_zero_string)\n",
    "                    if git_string:\n",
    "                        with open(\"data/sentimental_analysis/phrasesEmbTest_{}_{}.file\".format(rm_stopwords_string,\n",
    "                                                                                                  lowfrequency_zero_string\n",
    "                                                                                              ), \"rb\") as f:\n",
    "                            phrases_test_emb = pickle.load(f)\n",
    "                        with open(\"data/sentimental_analysis/phrasesEmbTrain_{}_{}.file\".format(rm_stopwords_string,\n",
    "                                                                                                  lowfrequency_zero_string\n",
    "                                                                                              ), \"rb\") as f:\n",
    "                            phrases_train_emb = pickle.load(f)\n",
    "                    else:\n",
    "                        with open(\"data/sentimental_analysis/phrasesEmbTest_{}_{}_sncf.file\".format(rm_stopwords_string,\n",
    "                                                                                                  lowfrequency_zero_string\n",
    "                                                                                              ), \"rb\") as f:\n",
    "                            phrases_test_emb = pickle.load(f)\n",
    "                        with open(\"data/sentimental_analysis/phrasesEmbTrain_{}_{}_sncf.file\".format(rm_stopwords_string,\n",
    "                                                                                                  lowfrequency_zero_string\n",
    "                                                                                              ), \"rb\") as f:\n",
    "                            phrases_train_emb = pickle.load(f)\n",
    "                    phrases_train_emb = [[score,phrase] for (score,phrase) in phrases_train_emb if phrase != 'NaN']\n",
    "                    Y_train = [score for (score, embedding) in phrases_train_emb]\n",
    "                    X_train = [embedding for (score, embedding) in phrases_train_emb]\n",
    "                    phrases_test_emb = [[score,phrase] for (score,phrase) in phrases_test_emb if phrase != 'NaN']\n",
    "                    random.seed(1)\n",
    "                    for i in range(5):\n",
    "                        phrases_test_emb_1 = sample(phrases_test_emb,round(0.8*len(phrases_test_emb)))\n",
    "                        Y_test = [score for (score, embedding) in phrases_test_emb_1]\n",
    "                        X_test = [embedding for (score, embedding) in phrases_test_emb_1]\n",
    "                        reg_log = regression_logistique(X_train,Y_train,logit=logit_bool)\n",
    "                        if logit_bool:\n",
    "                            Y_test_pred = reg_log.predict_proba(X_test)\n",
    "                            Y1 = reg_log.predict(X_test)\n",
    "                        else:\n",
    "                            Y_test_pred = reg_log.predict(X_test)\n",
    "                            Y1 = [1 if (val >= 0.5) else -1 for val in Y_test_pred]\n",
    "                        n = len(phrases_test_emb_1)\n",
    "                        mse = mean_squared_error(Y_test, Y1)\n",
    "                        print(\"Test \", i,\" : \",calcul_AUC(Y_test,Y_test_pred,logit_bool), \" - AIC : \", \n",
    "                        calculate_aic(n, mse), \" - BIC : \", calculate_bic(n, mse))"
   ]
  },
  {
   "cell_type": "code",
   "execution_count": 99,
   "metadata": {},
   "outputs": [
    {
     "name": "stdout",
     "output_type": "stream",
     "text": [
      "Données GIT :  True\n",
      "Logit ? :  True\n",
      "Stopwords ? :  rmsw\n",
      "Lowfrequency :  z\n",
      "Test  0  :  0.7315647938505668  - AIC :  1093.4593194245626  - BIC :  1699.00683360029\n",
      "Test  1  :  0.7286790567626477  - AIC :  1123.440516114421  - BIC :  1728.9880302901483\n",
      "Test  2  :  0.7348735609215259  - AIC :  1087.4286955741852  - BIC :  1692.9762097499126\n",
      "Test  3  :  0.7406654693069818  - AIC :  1029.5546665565776  - BIC :  1635.102180732305\n",
      "Test  4  :  0.7228329754360237  - AIC :  1150.1818364418516  - BIC :  1755.729350617579\n",
      "Lowfrequency :  lf\n",
      "Test  0  :  0.738426714974151  - AIC :  1049.8618768340143  - BIC :  1656.5140258810134\n",
      "Test  1  :  0.7371667783858296  - AIC :  1071.2342617241013  - BIC :  1677.8864107711006\n",
      "Test  2  :  0.7335052066420548  - AIC :  1110.5494260106466  - BIC :  1717.2015750576456\n",
      "Test  3  :  0.7316336068700485  - AIC :  1086.4129469369007  - BIC :  1693.0650959839\n",
      "Test  4  :  0.729781364232016  - AIC :  1113.5536695147212  - BIC :  1720.2058185617207\n",
      "Stopwords ? :  nrmsw\n",
      "Lowfrequency :  z\n",
      "Test  0  :  0.7430967067853483  - AIC :  992.563670282951  - BIC :  1598.2380477804822\n",
      "Test  1  :  0.7497856107221161  - AIC :  955.0037028755163  - BIC :  1560.6780803730476\n",
      "Test  2  :  0.7511024820010319  - AIC :  932.8854350215006  - BIC :  1538.5598125190318\n",
      "Test  3  :  0.7434914022450453  - AIC :  980.0932983165285  - BIC :  1585.7676758140597\n",
      "Test  4  :  0.7530581537504432  - AIC :  884.9604628880091  - BIC :  1490.6348403855404\n",
      "Lowfrequency :  lf\n",
      "Test  0  :  0.7547773850671078  - AIC :  873.5164738990505  - BIC :  1480.1686229460497\n",
      "Test  1  :  0.7548189972229808  - AIC :  886.4414409152781  - BIC :  1493.0935899622773\n",
      "Test  2  :  0.7505771364887402  - AIC :  956.606438825853  - BIC :  1563.2585878728523\n",
      "Test  3  :  0.7466513951633497  - AIC :  905.7311062984159  - BIC :  1512.3832553454151\n",
      "Test  4  :  0.7479022198575271  - AIC :  959.7593336897929  - BIC :  1566.411482736792\n",
      "Logit ? :  False\n",
      "Stopwords ? :  rmsw\n",
      "Lowfrequency :  z\n",
      "Optimization terminated successfully.\n",
      "         Current function value: 0.603809\n",
      "         Iterations 5\n",
      "Test  0  :  0.7307719424054662  - AIC :  1114.4760719457597  - BIC :  1720.0235861214871\n",
      "Optimization terminated successfully.\n",
      "         Current function value: 0.603809\n",
      "         Iterations 5\n",
      "Test  1  :  0.728364805466361  - AIC :  1135.3535737829645  - BIC :  1740.901087958692\n",
      "Optimization terminated successfully.\n",
      "         Current function value: 0.603809\n",
      "         Iterations 5\n",
      "Test  2  :  0.7345008992226076  - AIC :  1096.470308664665  - BIC :  1702.0178228403925\n",
      "Optimization terminated successfully.\n",
      "         Current function value: 0.603809\n",
      "         Iterations 5\n",
      "Test  3  :  0.7400164294508583  - AIC :  1047.9457693490435  - BIC :  1653.493283524771\n",
      "Optimization terminated successfully.\n",
      "         Current function value: 0.603809\n",
      "         Iterations 5\n",
      "Test  4  :  0.7226609429956206  - AIC :  1182.5604492257733  - BIC :  1788.1079634015007\n",
      "Lowfrequency :  lf\n",
      "Optimization terminated successfully.\n",
      "         Current function value: 0.601140\n",
      "         Iterations 5\n",
      "Test  0  :  0.7380771766445344  - AIC :  1046.7969415327098  - BIC :  1653.4490905797093\n",
      "Optimization terminated successfully.\n",
      "         Current function value: 0.601140\n",
      "         Iterations 5\n",
      "Test  1  :  0.7367029566762149  - AIC :  1071.2342617241013  - BIC :  1677.8864107711006\n",
      "Optimization terminated successfully.\n",
      "         Current function value: 0.601140\n",
      "         Iterations 5\n",
      "Test  2  :  0.733180481161193  - AIC :  1110.5494260106466  - BIC :  1717.2015750576456\n",
      "Optimization terminated successfully.\n",
      "         Current function value: 0.601140\n",
      "         Iterations 5\n",
      "Test  3  :  0.7310531426247545  - AIC :  1092.4642308073376  - BIC :  1699.1163798543366\n",
      "Optimization terminated successfully.\n",
      "         Current function value: 0.601140\n",
      "         Iterations 5\n",
      "Test  4  :  0.7293860660341107  - AIC :  1128.5325405469375  - BIC :  1735.1846895939368\n",
      "Stopwords ? :  nrmsw\n",
      "Lowfrequency :  z\n",
      "Optimization terminated successfully.\n",
      "         Current function value: 0.591127\n",
      "         Iterations 6\n",
      "Test  0  :  0.7390291145090317  - AIC :  1087.5732779647064  - BIC :  1693.2476554622376\n",
      "Optimization terminated successfully.\n",
      "         Current function value: 0.591127\n",
      "         Iterations 6\n",
      "Test  1  :  0.7448267284557865  - AIC :  1041.9580255468557  - BIC :  1647.632403044387\n",
      "Optimization terminated successfully.\n",
      "         Current function value: 0.591127\n",
      "         Iterations 6\n",
      "Test  2  :  0.7456175988838148  - AIC :  1020.4430858635222  - BIC :  1626.1174633610535\n",
      "Optimization terminated successfully.\n",
      "         Current function value: 0.591127\n",
      "         Iterations 6\n",
      "Test  3  :  0.7392049829523808  - AIC :  1045.0196463596494  - BIC :  1650.6940238571806\n",
      "Optimization terminated successfully.\n",
      "         Current function value: 0.591127\n",
      "         Iterations 6\n",
      "Test  4  :  0.747699401912818  - AIC :  1001.8842088193474  - BIC :  1607.5585863168785\n",
      "Lowfrequency :  lf\n",
      "Optimization terminated successfully.\n",
      "         Current function value: 0.588055\n",
      "         Iterations 6\n",
      "Test  0  :  0.7515570612456568  - AIC :  943.9635650923262  - BIC :  1550.6157141393255\n",
      "Optimization terminated successfully.\n",
      "         Current function value: 0.588055\n",
      "         Iterations 6\n",
      "Test  1  :  0.7512932429018924  - AIC :  950.2912732299376  - BIC :  1556.9434222769369\n",
      "Optimization terminated successfully.\n",
      "         Current function value: 0.588055\n",
      "         Iterations 6\n",
      "Test  2  :  0.7473019016933016  - AIC :  1022.1707319686054  - BIC :  1628.8228810156047\n",
      "Optimization terminated successfully.\n",
      "         Current function value: 0.588055\n",
      "         Iterations 6\n",
      "Test  3  :  0.7430397489935467  - AIC :  962.909111504422  - BIC :  1569.5612605514211\n",
      "Optimization terminated successfully.\n",
      "         Current function value: 0.588055\n",
      "         Iterations 6\n",
      "Test  4  :  0.7444820825081533  - AIC :  1019.0790286692202  - BIC :  1625.7311777162195\n",
      "Données GIT :  False\n",
      "Logit ? :  True\n",
      "Stopwords ? :  rmsw\n",
      "Lowfrequency :  z\n",
      "Test  0  :  0.7645600327776422  - AIC :  1062.5019263729105  - BIC :  1723.4973935226653\n",
      "Test  1  :  0.7694145242170656  - AIC :  1045.3849078062774  - BIC :  1706.3803749560325\n",
      "Test  2  :  0.7682827788649707  - AIC :  1076.1571916683831  - BIC :  1737.1526588181382\n",
      "Test  3  :  0.762006517796848  - AIC :  1204.2146030227036  - BIC :  1865.2100701724585\n",
      "Test  4  :  0.7687422792082979  - AIC :  1062.5019263729105  - BIC :  1723.4973935226653\n",
      "Lowfrequency :  lf\n",
      "Test  0  :  0.7648242323462844  - AIC :  1113.534852518362  - BIC :  1774.530319668117\n",
      "Test  1  :  0.7697354889219596  - AIC :  1086.3763812113912  - BIC :  1747.371848361146\n",
      "Test  2  :  0.7686768862796259  - AIC :  1059.082792575727  - BIC :  1720.078259725482\n",
      "Test  3  :  0.7627639284982619  - AIC :  1214.198227252089  - BIC :  1875.193694401844\n",
      "Test  4  :  0.7692073449666386  - AIC :  1035.089002375727  - BIC :  1696.084469525482\n",
      "Stopwords ? :  nrmsw\n",
      "Lowfrequency :  z\n",
      "Test  0  :  0.7570061597059823  - AIC :  1220.8438973561147  - BIC :  1881.8393645058698\n",
      "Test  1  :  0.7626550972552963  - AIC :  1123.6847166532161  - BIC :  1784.6801838029712\n",
      "Test  2  :  0.761033105022831  - AIC :  1187.5347482760494  - BIC :  1848.5302154258043\n",
      "Test  3  :  0.7550810199110944  - AIC :  1342.3585928757595  - BIC :  2003.3540600255146\n",
      "Test  4  :  0.7622762202402438  - AIC :  1150.6595712470507  - BIC :  1811.6550383968056\n",
      "Lowfrequency :  lf\n",
      "Test  0  :  0.7562964043923892  - AIC :  1210.8723708301281  - BIC :  1871.867837979883\n",
      "Test  1  :  0.7618148249804342  - AIC :  1154.0221211531193  - BIC :  1815.0175883028742\n",
      "Test  2  :  0.760450369645575  - AIC :  1194.212777098231  - BIC :  1855.2082442479862\n",
      "Test  3  :  0.7547798170507647  - AIC :  1332.605701418208  - BIC :  1993.6011685679628\n",
      "Test  4  :  0.7618591428515886  - AIC :  1157.3826113041403  - BIC :  1818.3780784538953\n",
      "Logit ? :  False\n",
      "Stopwords ? :  rmsw\n",
      "Lowfrequency :  z\n",
      "Optimization terminated successfully.\n",
      "         Current function value: 0.576595\n",
      "         Iterations 5\n",
      "Test  0  :  0.7556675848930168  - AIC :  1270.4314600390244  - BIC :  1931.4269271887792\n",
      "Optimization terminated successfully.\n",
      "         Current function value: 0.576595\n",
      "         Iterations 5\n",
      "Test  1  :  0.7593776139557247  - AIC :  1240.7327408922572  - BIC :  1901.7282080420123\n"
     ]
    },
    {
     "name": "stdout",
     "output_type": "stream",
     "text": [
      "Optimization terminated successfully.\n",
      "         Current function value: 0.576595\n",
      "         Iterations 5\n",
      "Test  2  :  0.7587695694716243  - AIC :  1210.8723708301281  - BIC :  1871.867837979883\n",
      "Optimization terminated successfully.\n",
      "         Current function value: 0.576595\n",
      "         Iterations 5\n",
      "Test  3  :  0.7524161265881236  - AIC :  1387.6442273836763  - BIC :  2048.6396945334313\n",
      "Optimization terminated successfully.\n",
      "         Current function value: 0.576595\n",
      "         Iterations 5\n",
      "Test  4  :  0.7589189375837163  - AIC :  1197.5487455804735  - BIC :  1858.5442127302285\n",
      "Lowfrequency :  lf\n",
      "Optimization terminated successfully.\n",
      "         Current function value: 0.575678\n",
      "         Iterations 5\n",
      "Test  0  :  0.7565152308530594  - AIC :  1257.2518741205697  - BIC :  1918.2473412703248\n",
      "Optimization terminated successfully.\n",
      "         Current function value: 0.575678\n",
      "         Iterations 5\n",
      "Test  1  :  0.7599952093196949  - AIC :  1224.1637159143072  - BIC :  1885.1591830640623\n",
      "Optimization terminated successfully.\n",
      "         Current function value: 0.575678\n",
      "         Iterations 5\n",
      "Test  2  :  0.7593778538812785  - AIC :  1190.8747788206215  - BIC :  1851.8702459703763\n",
      "Optimization terminated successfully.\n",
      "         Current function value: 0.575678\n",
      "         Iterations 5\n",
      "Test  3  :  0.7537522315839449  - AIC :  1361.8125139707931  - BIC :  2022.807981120548\n",
      "Optimization terminated successfully.\n",
      "         Current function value: 0.575678\n",
      "         Iterations 5\n",
      "Test  4  :  0.7600504027420527  - AIC :  1177.5024382568183  - BIC :  1838.4979054065734\n",
      "Stopwords ? :  nrmsw\n",
      "Lowfrequency :  z\n",
      "Optimization terminated successfully.\n",
      "         Current function value: 0.578657\n",
      "         Iterations 5\n",
      "Test  0  :  0.7482114070718553  - AIC :  1342.3585928757595  - BIC :  2003.3540600255146\n",
      "Optimization terminated successfully.\n",
      "         Current function value: 0.578657\n",
      "         Iterations 5\n",
      "Test  1  :  0.7517622811142383  - AIC :  1322.8354405989303  - BIC :  1983.8309077486851\n",
      "Optimization terminated successfully.\n",
      "         Current function value: 0.578657\n",
      "         Iterations 5\n",
      "Test  2  :  0.7513437703848664  - AIC :  1322.8354405989303  - BIC :  1983.8309077486851\n",
      "Optimization terminated successfully.\n",
      "         Current function value: 0.578657\n",
      "         Iterations 5\n",
      "Test  3  :  0.7438678186896983  - AIC :  1492.9327164467097  - BIC :  2153.928183596465\n",
      "Optimization terminated successfully.\n",
      "         Current function value: 0.578657\n",
      "         Iterations 5\n",
      "Test  4  :  0.7515609474725832  - AIC :  1303.2425626302922  - BIC :  1964.2380297800473\n",
      "Lowfrequency :  lf\n",
      "Optimization terminated successfully.\n",
      "         Current function value: 0.578329\n",
      "         Iterations 5\n",
      "Test  0  :  0.7490740411456424  - AIC :  1286.861541202702  - BIC :  1947.857008352457\n",
      "Optimization terminated successfully.\n",
      "         Current function value: 0.578329\n",
      "         Iterations 5\n",
      "Test  1  :  0.752418892518151  - AIC :  1253.9520243970178  - BIC :  1914.9474915467727\n",
      "Optimization terminated successfully.\n",
      "         Current function value: 0.578329\n",
      "         Iterations 5\n",
      "Test  2  :  0.7522131169819526  - AIC :  1227.4815267199997  - BIC :  1888.4769938697546\n",
      "Optimization terminated successfully.\n",
      "         Current function value: 0.578329\n",
      "         Iterations 5\n",
      "Test  3  :  0.7450456668520222  - AIC :  1419.7637570742902  - BIC :  2080.7592242240453\n",
      "Optimization terminated successfully.\n",
      "         Current function value: 0.578329\n",
      "         Iterations 5\n",
      "Test  4  :  0.7527815921507883  - AIC :  1247.3463643574999  - BIC :  1908.341831507255\n"
     ]
    }
   ],
   "source": [
    "import warnings\n",
    "warnings.simplefilter(action='ignore', category=FutureWarning)\n",
    "selection_regression()"
   ]
  },
  {
   "cell_type": "code",
   "execution_count": 100,
   "metadata": {},
   "outputs": [],
   "source": [
    "def selection_regression_croisee():#Changement par rapport au précédent = bases de test, on teste les modèles GIT sur\n",
    "    # données SNCF et modèles SNCF sur données GIT\n",
    "    for git_string in [True,False]:\n",
    "        print(\"Données GIT : \", git_string)\n",
    "        for logit_bool in [True,False]:\n",
    "            print(\"Logit ? : \", logit_bool)\n",
    "            for rm_stopwords_string in [\"rmsw\",\"nrmsw\"]:\n",
    "                print(\"Stopwords ? : \", rm_stopwords_string)\n",
    "                for lowfrequency_zero_string in [\"z\",\"lf\"]:\n",
    "                    print(\"Lowfrequency : \", lowfrequency_zero_string)\n",
    "                    if git_string:# Changement ici dans le chargement des bases tests\n",
    "                        with open(\"data/sentimental_analysis/phrasesEmbTest_{}_{}_sncf.file\".format(rm_stopwords_string,\n",
    "                                                                                                  lowfrequency_zero_string\n",
    "                                                                                              ), \"rb\") as f:\n",
    "                            phrases_test_emb = pickle.load(f)\n",
    "                        with open(\"data/sentimental_analysis/phrasesEmbTrain_{}_{}.file\".format(rm_stopwords_string,\n",
    "                                                                                                  lowfrequency_zero_string\n",
    "                                                                                              ), \"rb\") as f:\n",
    "                            phrases_train_emb = pickle.load(f)\n",
    "                    else:\n",
    "                        with open(\"data/sentimental_analysis/phrasesEmbTest_{}_{}.file\".format(rm_stopwords_string,\n",
    "                                                                                                  lowfrequency_zero_string\n",
    "                                                                                              ), \"rb\") as f:\n",
    "                            phrases_test_emb = pickle.load(f)\n",
    "                        with open(\"data/sentimental_analysis/phrasesEmbTrain_{}_{}_sncf.file\".format(rm_stopwords_string,\n",
    "                                                                                                  lowfrequency_zero_string\n",
    "                                                                                              ), \"rb\") as f:\n",
    "                            phrases_train_emb = pickle.load(f)\n",
    "                    phrases_train_emb = [[score,phrase] for (score,phrase) in phrases_train_emb if phrase != 'NaN']\n",
    "                    Y_train = [score for (score, embedding) in phrases_train_emb]\n",
    "                    X_train = [embedding for (score, embedding) in phrases_train_emb]\n",
    "                    phrases_test_emb = [[score,phrase] for (score,phrase) in phrases_test_emb if phrase != 'NaN']\n",
    "                    random.seed(1)\n",
    "                    for i in range(5):\n",
    "                        phrases_test_emb_1 = sample(phrases_test_emb,round(0.8*len(phrases_test_emb)))\n",
    "                        Y_test = [score for (score, embedding) in phrases_test_emb_1]\n",
    "                        X_test = [embedding for (score, embedding) in phrases_test_emb_1]\n",
    "                        reg_log = regression_logistique(X_train,Y_train,logit=logit_bool)\n",
    "                        if logit_bool:\n",
    "                            Y_test_pred = reg_log.predict_proba(X_test)\n",
    "                            Y1 = reg_log.predict(X_test)\n",
    "                        else:\n",
    "                            Y_test_pred = reg_log.predict(X_test)\n",
    "                            Y1 = [1 if (val >= 0.5) else -1 for val in Y_test_pred]\n",
    "                        n = len(phrases_test_emb_1)\n",
    "                        mse = mean_squared_error(Y_test, Y1)\n",
    "                        print(\"Test \", i,\" : \",calcul_AUC(Y_test,Y_test_pred,logit_bool), \" - AIC : \", \n",
    "                        calculate_aic(n, mse), \" - BIC : \", calculate_bic(n, mse))"
   ]
  },
  {
   "cell_type": "code",
   "execution_count": 101,
   "metadata": {},
   "outputs": [
    {
     "name": "stdout",
     "output_type": "stream",
     "text": [
      "Données GIT :  True\n",
      "Logit ? :  True\n",
      "Stopwords ? :  rmsw\n",
      "Lowfrequency :  z\n",
      "Test  0  :  0.6774684639867647  - AIC :  2028.4303753309357  - BIC :  2689.425842480691\n",
      "Test  1  :  0.6892085575905977  - AIC :  2034.1598797681697  - BIC :  2695.155346917925\n",
      "Test  2  :  0.6839088660578386  - AIC :  2022.6948808200164  - BIC :  2683.690347969771\n",
      "Test  3  :  0.6794753081401461  - AIC :  2079.7817643099024  - BIC :  2740.7772314596577\n",
      "Test  4  :  0.6805471326677224  - AIC :  2110.9281705528047  - BIC :  2771.9236377025595\n",
      "Lowfrequency :  lf\n",
      "Test  0  :  0.6748411839029294  - AIC :  2150.3150064030424  - BIC :  2811.3104735527972\n",
      "Test  1  :  0.6857030955489224  - AIC :  2139.090450057629  - BIC :  2800.085917207384\n",
      "Test  2  :  0.6794611600347902  - AIC :  2150.3150064030424  - BIC :  2811.3104735527972\n",
      "Test  3  :  0.6768759938474945  - AIC :  2161.516643781324  - BIC :  2822.512110931079\n",
      "Test  4  :  0.6778293324219622  - AIC :  2189.421078307991  - BIC :  2850.416545457746\n",
      "Stopwords ? :  nrmsw\n",
      "Lowfrequency :  z\n",
      "Test  0  :  0.669531712736722  - AIC :  2219.952905154343  - BIC :  2880.948372304098\n",
      "Test  1  :  0.6756839940026772  - AIC :  2186.6370132901084  - BIC :  2847.6324804398632\n",
      "Test  2  :  0.6717689986953685  - AIC :  2233.7750339074364  - BIC :  2894.7705010571913\n",
      "Test  3  :  0.6690692438683606  - AIC :  2288.71790676488  - BIC :  2949.7133739146348\n",
      "Test  4  :  0.6712388843370176  - AIC :  2285.9837925792067  - BIC :  2946.9792597289616\n",
      "Lowfrequency :  lf\n",
      "Test  0  :  0.6677892763861315  - AIC :  2277.773264730848  - BIC :  2938.768731880603\n",
      "Test  1  :  0.6739830577944463  - AIC :  2264.061685485993  - BIC :  2925.057152635748\n",
      "Test  2  :  0.6689157969123722  - AIC :  2310.5419037211464  - BIC :  2971.537370870901\n",
      "Test  3  :  0.6679926096226658  - AIC :  2364.7250602197196  - BIC :  3025.7205273694744\n",
      "Test  4  :  0.6699510831301304  - AIC :  2340.4088421283054  - BIC :  3001.4043092780603\n",
      "Logit ? :  False\n",
      "Stopwords ? :  rmsw\n",
      "Lowfrequency :  z\n",
      "Optimization terminated successfully.\n",
      "         Current function value: 0.603809\n",
      "         Iterations 5\n",
      "Test  0  :  0.6716138342469952  - AIC :  2110.9281705528047  - BIC :  2771.9236377025595\n",
      "Optimization terminated successfully.\n",
      "         Current function value: 0.603809\n",
      "         Iterations 5\n",
      "Test  1  :  0.6834026445805973  - AIC :  2116.572203972439  - BIC :  2777.567671122194\n",
      "Optimization terminated successfully.\n",
      "         Current function value: 0.603809\n",
      "         Iterations 5\n",
      "Test  2  :  0.6778684224831486  - AIC :  2093.961146718948  - BIC :  2754.956613868703\n",
      "Optimization terminated successfully.\n",
      "         Current function value: 0.603809\n",
      "         Iterations 5\n",
      "Test  3  :  0.6736357935767237  - AIC :  2158.718377972121  - BIC :  2819.7138451218757\n",
      "Optimization terminated successfully.\n",
      "         Current function value: 0.603809\n",
      "         Iterations 5\n",
      "Test  4  :  0.6744005430162716  - AIC :  2181.064641048691  - BIC :  2842.060108198446\n",
      "Lowfrequency :  lf\n",
      "Optimization terminated successfully.\n",
      "         Current function value: 0.601140\n",
      "         Iterations 5\n",
      "Test  0  :  0.6704115150135254  - AIC :  2183.851534682411  - BIC :  2844.847001832166\n",
      "Optimization terminated successfully.\n",
      "         Current function value: 0.601140\n",
      "         Iterations 5\n",
      "Test  1  :  0.6811591543117007  - AIC :  2175.486602947384  - BIC :  2836.4820700971395\n",
      "Optimization terminated successfully.\n",
      "         Current function value: 0.601140\n",
      "         Iterations 5\n",
      "Test  2  :  0.6746302185257664  - AIC :  2189.421078307991  - BIC :  2850.416545457746\n",
      "Optimization terminated successfully.\n",
      "         Current function value: 0.601140\n",
      "         Iterations 5\n",
      "Test  3  :  0.6721795055232718  - AIC :  2200.5432311291984  - BIC :  2861.5386982789532\n",
      "Optimization terminated successfully.\n",
      "         Current function value: 0.601140\n",
      "         Iterations 5\n",
      "Test  4  :  0.6730449055587525  - AIC :  2219.952905154343  - BIC :  2880.948372304098\n",
      "Stopwords ? :  nrmsw\n",
      "Lowfrequency :  z\n",
      "Optimization terminated successfully.\n",
      "         Current function value: 0.591127\n",
      "         Iterations 6\n",
      "Test  0  :  0.6551815476153979  - AIC :  2296.9120830455927  - BIC :  2957.9075501953475\n",
      "Optimization terminated successfully.\n",
      "         Current function value: 0.591127\n",
      "         Iterations 6\n",
      "Test  1  :  0.6610820711236578  - AIC :  2305.094038328065  - BIC :  2966.08950547782\n",
      "Optimization terminated successfully.\n",
      "         Current function value: 0.591127\n",
      "         Iterations 6\n",
      "Test  2  :  0.6562974287888672  - AIC :  2340.4088421283054  - BIC :  3001.4043092780603\n",
      "Optimization terminated successfully.\n",
      "         Current function value: 0.591127\n",
      "         Iterations 6\n",
      "Test  3  :  0.6537772708500669  - AIC :  2413.036527034038  - BIC :  3074.031994183793\n",
      "Optimization terminated successfully.\n",
      "         Current function value: 0.591127\n",
      "         Iterations 6\n",
      "Test  4  :  0.65546933509191  - AIC :  2391.6172709324537  - BIC :  3052.6127380822086\n",
      "Lowfrequency :  lf\n",
      "Optimization terminated successfully.\n",
      "         Current function value: 0.588055\n",
      "         Iterations 6\n",
      "Test  0  :  0.6550516960481386  - AIC :  2332.2794259704206  - BIC :  2993.2748931201754\n",
      "Optimization terminated successfully.\n",
      "         Current function value: 0.588055\n",
      "         Iterations 6\n",
      "Test  1  :  0.6608515094381432  - AIC :  2359.3307628332786  - BIC :  3020.3262299830335\n",
      "Optimization terminated successfully.\n",
      "         Current function value: 0.588055\n",
      "         Iterations 6\n",
      "Test  2  :  0.6553734507501631  - AIC :  2407.6895480532485  - BIC :  3068.6850152030033\n",
      "Optimization terminated successfully.\n",
      "         Current function value: 0.588055\n",
      "         Iterations 6\n",
      "Test  3  :  0.6541551632375879  - AIC :  2463.574581407412  - BIC :  3124.570048557167\n",
      "Optimization terminated successfully.\n",
      "         Current function value: 0.588055\n",
      "         Iterations 6\n",
      "Test  4  :  0.6558081085118996  - AIC :  2434.372480033227  - BIC :  3095.367947182982\n",
      "Données GIT :  False\n",
      "Logit ? :  True\n",
      "Stopwords ? :  rmsw\n",
      "Lowfrequency :  z\n",
      "Test  0  :  0.672018346775818  - AIC :  1632.1043063913203  - BIC :  2237.6518205670477\n",
      "Test  1  :  0.6664162056976177  - AIC :  1689.9686071127383  - BIC :  2295.516121288466\n",
      "Test  2  :  0.6764164367578998  - AIC :  1619.3832556051743  - BIC :  2224.9307697809018\n",
      "Test  3  :  0.6778343018571162  - AIC :  1627.0220472250307  - BIC :  2232.569561400758\n",
      "Test  4  :  0.66371706908291  - AIC :  1679.9812770399483  - BIC :  2285.5287912156755\n",
      "Lowfrequency :  lf\n",
      "Test  0  :  0.6748923110631049  - AIC :  1661.2266277170097  - BIC :  2267.8787767640088\n",
      "Test  1  :  0.6769747790541741  - AIC :  1643.4772781894446  - BIC :  2250.129427236444\n",
      "Test  2  :  0.6757627896125679  - AIC :  1584.4518283861228  - BIC :  2191.103977433122\n",
      "Test  3  :  0.6708022937992388  - AIC :  1681.3912519915586  - BIC :  2288.043401038558\n",
      "Test  4  :  0.6700909422324692  - AIC :  1681.3912519915586  - BIC :  2288.043401038558\n",
      "Stopwords ? :  nrmsw\n",
      "Lowfrequency :  z\n",
      "Test  0  :  0.6831509574232957  - AIC :  1557.9198720046188  - BIC :  2163.59424950215\n",
      "Test  1  :  0.6894475869451999  - AIC :  1523.92451615971  - BIC :  2129.598893657241\n",
      "Test  2  :  0.6868125310430963  - AIC :  1518.6617960070112  - BIC :  2124.3361735045423\n",
      "Test  3  :  0.6820918417376516  - AIC :  1557.9198720046188  - BIC :  2163.59424950215\n",
      "Test  4  :  0.6864306308087641  - AIC :  1542.2752118488527  - BIC :  2147.949589346384\n",
      "Lowfrequency :  lf\n",
      "Test  0  :  0.687987191213229  - AIC :  1574.0739690473267  - BIC :  2180.726118094326\n",
      "Test  1  :  0.6941190402161401  - AIC :  1503.1250578082313  - BIC :  2109.7772068552304\n",
      "Test  2  :  0.6906006554410434  - AIC :  1511.0867445837282  - BIC :  2117.7388936307275\n",
      "Test  3  :  0.6847040775150297  - AIC :  1558.443520689756  - BIC :  2165.0956697367556\n",
      "Test  4  :  0.6855794980934646  - AIC :  1571.4742137011153  - BIC :  2178.126362748115\n",
      "Logit ? :  False\n",
      "Stopwords ? :  rmsw\n",
      "Lowfrequency :  z\n",
      "Optimization terminated successfully.\n",
      "         Current function value: 0.576595\n",
      "         Iterations 5\n",
      "Test  0  :  0.6665779677541517  - AIC :  1549.7877884988147  - BIC :  2155.335302674542\n",
      "Optimization terminated successfully.\n",
      "         Current function value: 0.576595\n",
      "         Iterations 5\n",
      "Test  1  :  0.6590659484547297  - AIC :  1624.477840385153  - BIC :  2230.0253545608803\n",
      "Optimization terminated successfully.\n",
      "         Current function value: 0.576595\n",
      "         Iterations 5\n",
      "Test  2  :  0.6715295325331649  - AIC :  1549.7877884988147  - BIC :  2155.335302674542\n"
     ]
    },
    {
     "name": "stdout",
     "output_type": "stream",
     "text": [
      "Optimization terminated successfully.\n",
      "         Current function value: 0.576595\n",
      "         Iterations 5\n",
      "Test  3  :  0.6721968004873238  - AIC :  1547.1804238485927  - BIC :  2152.72793802432\n",
      "Optimization terminated successfully.\n",
      "         Current function value: 0.576595\n",
      "         Iterations 5\n",
      "Test  4  :  0.6581773827701656  - AIC :  1614.2804204818676  - BIC :  2219.827934657595\n",
      "Lowfrequency :  lf\n",
      "Optimization terminated successfully.\n",
      "         Current function value: 0.575678\n",
      "         Iterations 5\n",
      "Test  0  :  0.6695944606647218  - AIC :  1574.0739690473267  - BIC :  2180.726118094326\n",
      "Optimization terminated successfully.\n",
      "         Current function value: 0.575678\n",
      "         Iterations 5\n",
      "Test  1  :  0.672305824410578  - AIC :  1555.8309744179023  - BIC :  2162.483123464902\n",
      "Optimization terminated successfully.\n",
      "         Current function value: 0.575678\n",
      "         Iterations 5\n",
      "Test  2  :  0.6708103319451056  - AIC :  1534.8531208507231  - BIC :  2141.5052698977224\n",
      "Optimization terminated successfully.\n",
      "         Current function value: 0.575678\n",
      "         Iterations 5\n",
      "Test  3  :  0.6668789387237826  - AIC :  1594.7959933171226  - BIC :  2201.448142364122\n",
      "Optimization terminated successfully.\n",
      "         Current function value: 0.575678\n",
      "         Iterations 5\n",
      "Test  4  :  0.6663326534834915  - AIC :  1597.3767954023504  - BIC :  2204.0289444493496\n",
      "Stopwords ? :  nrmsw\n",
      "Lowfrequency :  z\n",
      "Optimization terminated successfully.\n",
      "         Current function value: 0.578657\n",
      "         Iterations 5\n",
      "Test  0  :  0.6690453897004158  - AIC :  1576.0744638157792  - BIC :  2181.7488413133105\n",
      "Optimization terminated successfully.\n",
      "         Current function value: 0.578657\n",
      "         Iterations 5\n",
      "Test  1  :  0.6734799056767549  - AIC :  1552.713600196147  - BIC :  2158.3879776936783\n",
      "Optimization terminated successfully.\n",
      "         Current function value: 0.578657\n",
      "         Iterations 5\n",
      "Test  2  :  0.6709924065974517  - AIC :  1565.7132065560252  - BIC :  2171.3875840535566\n",
      "Optimization terminated successfully.\n",
      "         Current function value: 0.578657\n",
      "         Iterations 5\n",
      "Test  3  :  0.6664700818703674  - AIC :  1604.3937073980915  - BIC :  2210.0680848956226\n",
      "Optimization terminated successfully.\n",
      "         Current function value: 0.578657\n",
      "         Iterations 5\n",
      "Test  4  :  0.6718489904214421  - AIC :  1539.6602096270383  - BIC :  2145.3345871245697\n",
      "Lowfrequency :  lf\n",
      "Optimization terminated successfully.\n",
      "         Current function value: 0.578329\n",
      "         Iterations 5\n",
      "Test  0  :  0.6739560054586301  - AIC :  1581.8605309679579  - BIC :  2188.5126800149574\n",
      "Optimization terminated successfully.\n",
      "         Current function value: 0.578329\n",
      "         Iterations 5\n",
      "Test  1  :  0.6802504952488816  - AIC :  1540.1105477863146  - BIC :  2146.762696833314\n",
      "Optimization terminated successfully.\n",
      "         Current function value: 0.578329\n",
      "         Iterations 5\n",
      "Test  2  :  0.6768739103568512  - AIC :  1529.5870039493009  - BIC :  2136.2391529963\n",
      "Optimization terminated successfully.\n",
      "         Current function value: 0.578329\n",
      "         Iterations 5\n",
      "Test  3  :  0.6710176527334232  - AIC :  1597.3767954023504  - BIC :  2204.0289444493496\n",
      "Optimization terminated successfully.\n",
      "         Current function value: 0.578329\n",
      "         Iterations 5\n",
      "Test  4  :  0.6716892790635807  - AIC :  1594.7959933171226  - BIC :  2201.448142364122\n"
     ]
    }
   ],
   "source": [
    "selection_regression_croisee()"
   ]
  }
 ],
 "metadata": {
  "kernelspec": {
   "display_name": "Python 3",
   "language": "python",
   "name": "python3"
  },
  "language_info": {
   "codemirror_mode": {
    "name": "ipython",
    "version": 3
   },
   "file_extension": ".py",
   "mimetype": "text/x-python",
   "name": "python",
   "nbconvert_exporter": "python",
   "pygments_lexer": "ipython3",
   "version": "3.6.5"
  }
 },
 "nbformat": 4,
 "nbformat_minor": 4
}
