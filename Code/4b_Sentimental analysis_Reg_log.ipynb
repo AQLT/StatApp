{
 "cells": [
  {
   "cell_type": "code",
   "execution_count": 49,
   "metadata": {},
   "outputs": [],
   "source": [
    "import os\n",
    "import numpy as np\n",
    "import random\n",
    "import pandas as pd\n",
    "import matplotlib.pyplot as plt\n",
    "import pickle\n",
    "import gensim\n",
    "from gensim.models import word2vec\n",
    "from sklearn.linear_model import LogisticRegression\n",
    "from statsmodels.discrete.discrete_model import Probit\n",
    "#from sklearn import metrics\n",
    "import sklearn.metrics as metrics\n",
    "import matplotlib.pyplot as plt\n",
    "import pylab #boxplot\n",
    "\n",
    "import nltk\n",
    "from nltk.corpus import stopwords\n",
    "#nltk.download(\"stopwords\")\n",
    "stop_words =  set(stopwords.words('french'))\n",
    "\n",
    "random.seed(1)\n",
    "np.random.seed(1)"
   ]
  },
  {
   "cell_type": "markdown",
   "metadata": {},
   "source": [
    "### Paramètres généraux"
   ]
  },
  {
   "cell_type": "code",
   "execution_count": 50,
   "metadata": {},
   "outputs": [],
   "source": [
    "# chemins\n",
    "\n",
    "os.chdir('C:/Users/torna/Documents/StatApp/StatApp')\n",
    "#os.chdir('C:/Users/Kim Antunez/Documents/Projets_autres/StatApp')\n",
    "#os.chdir('/Users/alainquartierlatente/Desktop/Ensae/StatApp')\n",
    "#os.chdir('/home/aqlt/Documents/Ensae/StatApp')"
   ]
  },
  {
   "cell_type": "code",
   "execution_count": 51,
   "metadata": {},
   "outputs": [],
   "source": [
    "# pour gensim\n",
    "\n",
    "nom_dossier = 'ens'\n",
    "dim = 100\n",
    "epoch = 100\n",
    "window = 4\n",
    "learning_rate = 0.02\n"
   ]
  },
  {
   "cell_type": "code",
   "execution_count": 52,
   "metadata": {},
   "outputs": [],
   "source": [
    "# pour les train et test\n",
    "rm_stopwords = False #True = on enlève les stopwords\n",
    "lowfrequency_zero_bool= False #true : on met les non reconnus à zero. false : à lowfreq\n",
    "git = False #True : base git, False : base sncf\n",
    "logit_bool = True #True : régression logistique, False : probit\n",
    "########\n",
    "if rm_stopwords:\n",
    "    rm_stopwords_string = \"rmsw\"\n",
    "else:\n",
    "    rm_stopwords_string = \"nrmsw\"\n",
    "    \n",
    "#false : on les met à 0 #Rq : le terme est mal choisi, à modifier plus tard\n",
    "if lowfrequency_zero_bool:\n",
    "    lowfrequency_zero_string = \"z\"\n",
    "else:\n",
    "    lowfrequency_zero_string = \"lf\"\n",
    "    \n",
    "if git:\n",
    "    git_string = \"\"\n",
    "else:\n",
    "    git_string = \"_sncf\"\n"
   ]
  },
  {
   "cell_type": "markdown",
   "metadata": {},
   "source": [
    "# Importer le modèle Word2Vec"
   ]
  },
  {
   "cell_type": "code",
   "execution_count": 53,
   "metadata": {},
   "outputs": [],
   "source": [
    "chemin1 = \"data/{}/gensim/dim{}_ep{}_w{}_lr{}_seed1\".format(nom_dossier, dim, epoch, window, str(learning_rate)[2:]) \n",
    "model1 = gensim.models.keyedvectors.KeyedVectors.load(chemin1 + \"/word2vec.model\")\n",
    "chemin2 = \"data/{}/gensim/dim{}_ep{}_w{}_lr{}_seed5\".format(nom_dossier, dim, epoch, window, str(learning_rate)[2:])  \n",
    "model2 = gensim.models.keyedvectors.KeyedVectors.load(chemin2 + \"/word2vec.model\")\n",
    "chemin3 = \"data/{}/gensim/dim{}_ep{}_w{}_lr{}_seed10\".format(nom_dossier, dim, epoch, window, str(learning_rate)[2:])  \n",
    "model3 = gensim.models.keyedvectors.KeyedVectors.load(chemin3 + \"/word2vec.model\")\n",
    "chemin4 = \"data/{}/gensim/dim{}_ep{}_w{}_lr{}_seed15\".format(nom_dossier, dim, epoch, window, str(learning_rate)[2:])  \n",
    "model4 = gensim.models.keyedvectors.KeyedVectors.load(chemin4 + \"/word2vec.model\")\n",
    "chemin5 = \"data/{}/gensim/dim{}_ep{}_w{}_lr{}_seed20\".format(nom_dossier, dim, epoch, window, str(learning_rate)[2:])  \n",
    "model5 = gensim.models.keyedvectors.KeyedVectors.load(chemin5 + \"/word2vec.model\")\n",
    "chemin6 = \"data/{}/gensim/dim{}_ep{}_w{}_lr{}_seed25\".format(nom_dossier, dim, epoch, window, str(learning_rate)[2:]) \n",
    "model6 = gensim.models.keyedvectors.KeyedVectors.load(chemin6 + \"/word2vec.model\")"
   ]
  },
  {
   "cell_type": "code",
   "execution_count": 54,
   "metadata": {},
   "outputs": [],
   "source": [
    "matrice = {word : (model1.wv[word]+model2.wv[word]+model3.wv[word]+model4.wv[word]+model5.wv[word]+model6.wv[word])/6\n",
    "           for word in model1.wv.index2word}\n",
    "\n",
    "#def normalize(v):\n",
    "#    norm = np.linalg.norm(v)\n",
    "#    if norm == 0: \n",
    "#        return v\n",
    "#    return v / norm\n",
    "\n",
    "#matrice_norm = {word : normalize(matrice[word]) for word in matrice.keys()}"
   ]
  },
  {
   "cell_type": "markdown",
   "metadata": {},
   "source": [
    "# Fonctions utiles "
   ]
  },
  {
   "cell_type": "code",
   "execution_count": 55,
   "metadata": {},
   "outputs": [],
   "source": [
    "def calcul_sentence_embedding(phrase,pond=False,lowfrequency_zero=lowfrequency_zero_bool):\n",
    "    \n",
    "    if len(phrase)>0: \n",
    "        if(pond): #Modèle de la fin non utilisé\n",
    "            sum1 = sum(matrice[mot]*matrice_sentiments_val[mot] for mot in phrase if mot in model1.wv.index2word and\n",
    "                   mot in vocabulaire)\n",
    "            if lowfrequency_zero==False:\n",
    "                sum2 = sum(matrice[\"lowfrequencyword\"]*0 for mot in phrase if mot not in model1.wv.index2word)\n",
    "                return (sum1+sum2)/len(phrase)\n",
    "            else:\n",
    "                return  (sum1)/(len([mot for mot in phrase if mot in model1.wv.index2word]))\n",
    "        else:     \n",
    "            sum1 = sum(matrice[mot] for mot in phrase if mot in model1.wv.index2word)\n",
    "            #sum1 = sum(matrice_norm[mot] for mot in phrase if mot in model1.wv.index2word)\n",
    "            if lowfrequency_zero==False:\n",
    "                sum2 = sum(matrice[\"lowfrequencyword\"] for mot in phrase if mot not in model1.wv.index2word)\n",
    "                #sum2 = sum(matrice_norm[\"lowfrequencyword\"] for mot in phrase if mot not in model1.wv.index2word)\n",
    "                return (sum1+sum2)/len(phrase)\n",
    "            else:\n",
    "                taille = len([mot for mot in phrase if mot in model1.wv.index2word])\n",
    "                if taille>0:\n",
    "                    return  (sum1)/taille\n",
    "                else: \n",
    "                    return 'NaN'\n",
    "    else:\n",
    "        if lowfrequency_zero==False:\n",
    "            return matrice[\"lowfrequencyword\"]\n",
    "        else:\n",
    "            return 'NaN'\n",
    "#calcul_sentence_embedding([\"je\",\"suis\",\"belle\"])\n"
   ]
  },
  {
   "cell_type": "code",
   "execution_count": 56,
   "metadata": {},
   "outputs": [],
   "source": [
    "def regression_logistique(X_train,Y_train,logit=logit_bool):\n",
    "    if logit: #logit\n",
    "        lr = LogisticRegression()\n",
    "        reg_log = lr.fit(X_train,Y_train)\n",
    "    else: #probit\n",
    "        Y_train_prob = [max(val,0) for val in Y_train]\n",
    "        model = Probit(Y_train_prob, X_train)\n",
    "        reg_log = model.fit()\n",
    "    return(reg_log)"
   ]
  },
  {
   "cell_type": "code",
   "execution_count": 57,
   "metadata": {},
   "outputs": [],
   "source": [
    "def matrice_confusion_accuracy(Y,Y_pred): #X_train, Y_train\n",
    "    cm = metrics.confusion_matrix(Y,Y_pred)\n",
    "    print(\"Matrice de confusion :\\n\", cm)\n",
    "    acc = metrics.accuracy_score(Y,Y_pred)\n",
    "    print(\"Taux de bien prédits (accuracy) :\", acc)\n",
    "    print(\"Taux mal prédits : \", 1-(cm[0][0]+cm[1][1])/(cm[0][0]+cm[0][1]+cm[1][0]+cm[1][1]))\n",
    "    print(\"Taux faux positifs : \", 1-cm[0][0]/(cm[0][0]+cm[0][1]))\n",
    "    print(\"Taux faux négatifs : \", 1-cm[1][1]/(cm[1][0]+cm[1][1]))\n"
   ]
  },
  {
   "cell_type": "code",
   "execution_count": 58,
   "metadata": {},
   "outputs": [],
   "source": [
    "#### new brouillon\n",
    "#https://albertusk95.github.io/posts/2019/12/best-threshold-maximize-accuracy-from-roc-pr-curve/\n",
    "\n",
    "def get_seuil(true_label, Y_pred_proba, num_pos_class, num_neg_class):\n",
    "    pred_proba = Y_pred_proba[:,1]\n",
    "    fpr, tpr, thresholds = metrics.roc_curve(true_label, pred_proba)\n",
    "    tp = tpr * num_pos_class\n",
    "    tn = (1 - fpr) * num_neg_class\n",
    "    acc = (tp + tn) / (num_pos_class + num_neg_class)\n",
    "    best_threshold = thresholds[np.argmax(acc)]\n",
    "    return best_threshold"
   ]
  },
  {
   "cell_type": "code",
   "execution_count": 59,
   "metadata": {},
   "outputs": [],
   "source": [
    "def courbe_roc(Y,Y_pred): #Y_pred = Y_test_pred #Y = Y_test\n",
    "    preds = Y_pred[:,1]\n",
    "    fpr, tpr, threshold = metrics.roc_curve(Y, preds)\n",
    "    roc_auc = metrics.auc(fpr, tpr)\n",
    "    \n",
    "    #intersetion optimale\n",
    "    i = np.arange(len(tpr)) \n",
    "    roc = pd.DataFrame({'tf' : pd.Series(tpr-(1-fpr), index=i), 'threshold' : pd.Series(threshold, index=i)})\n",
    "    roc_t = roc.iloc[(roc.tf-0).abs().argsort()[:1]]\n",
    "    print(\"intersection optimale : \",list(roc_t['threshold']))\n",
    "\n",
    "    plt.title('Courbe ROC - Régression logistique')\n",
    "    plt.plot(fpr, tpr, 'b', label = 'AUC = %0.2f' % roc_auc)\n",
    "    plt.legend(loc = 'lower right')\n",
    "    plt.plot([0, 1], [0, 1],'r--')\n",
    "    plt.xlim([0, 1])\n",
    "    plt.ylim([0, 1])\n",
    "    plt.ylabel('Taux de vrais positifs')\n",
    "    plt.xlabel('Taux de faux positifs')\n",
    "    plt.show()\n",
    "    #print(roc_auc)"
   ]
  },
  {
   "cell_type": "code",
   "execution_count": 60,
   "metadata": {},
   "outputs": [],
   "source": [
    "def calcul_AUC(Y,Y_pred,logit=True): #Y_pred = Y_test_pred #Y = Y_test\n",
    "    if logit:\n",
    "        preds = Y_pred[:,1]\n",
    "        fpr, tpr, threshold = metrics.roc_curve(Y, preds)\n",
    "    else:\n",
    "        fpr, tpr, threshold = metrics.roc_curve(Y, Y_pred)    \n",
    "    roc_auc = metrics.auc(fpr, tpr)\n",
    "    return(roc_auc)"
   ]
  },
  {
   "cell_type": "code",
   "execution_count": 61,
   "metadata": {},
   "outputs": [],
   "source": [
    "def mots_corpus_absents_dans_word2vec(corpus):\n",
    "    phrases = [tweet.split() for (score, tweet) in corpus]\n",
    "    mots = [item for sublist in phrases for item in sublist]\n",
    "    vocabulaire = list(dict.fromkeys(mots))\n",
    "    n = 0\n",
    "    #absents = []\n",
    "    for word in vocabulaire:\n",
    "        if word not in model1.wv.index2word:\n",
    "            n+=1\n",
    "            #absents.append(word)\n",
    "    return((n/len(vocabulaire)))"
   ]
  },
  {
   "cell_type": "code",
   "execution_count": 62,
   "metadata": {},
   "outputs": [],
   "source": [
    "def suppr_stop(phrase):\n",
    "    return [mot for mot in phrase if mot not in stop_words]"
   ]
  },
  {
   "cell_type": "code",
   "execution_count": 63,
   "metadata": {},
   "outputs": [],
   "source": [
    "def sentiment_plus(mot, matrice_sentiments):\n",
    "    plus, moins = matrice_sentiments[mot]\n",
    "    matrice_sentiments[mot] = (plus+1,moins)\n",
    "    \n",
    "def sentiment_moins(mot, matrice_sentiments):\n",
    "    plus, moins = matrice_sentiments[mot]\n",
    "    matrice_sentiments[mot] = (plus,moins+1)\n",
    "\n",
    "def mat_sentiments(corpus_train, vocabulaire):   \n",
    "    #Initialisation\n",
    "    matrice_sent = {mot:(0,0) for mot in vocabulaire}\n",
    "    for (score, tweet) in corpus_train:\n",
    "        for mot in tweet.split():\n",
    "            if score == 1:\n",
    "                sentiment_plus(mot, matrice_sent)\n",
    "            else:\n",
    "                sentiment_moins(mot,matrice_sent)\n",
    "    matrice_sentiments_val = {mot:(matrice_sent[mot][0]-matrice_sent[mot][1])/((matrice_sent[mot][0]+matrice_sent[mot][1]))\n",
    "                          for mot in vocabulaire}\n",
    "    return matrice_sentiments_val"
   ]
  },
  {
   "cell_type": "markdown",
   "metadata": {},
   "source": [
    "Taux de faux positifs = \"proportion de négatifs incorrectement prédits\" = prédits positifs alors qu'ils étaient négatifs (faux positifs) / négatifs\n",
    "\n",
    "\n",
    "Taux de faux négatifs = \"proportion de positifs incorrectement prédits\" = prédits négatifs alors qu'ils étaient positifs (faux négatifs) / positifs\n"
   ]
  },
  {
   "cell_type": "code",
   "execution_count": 64,
   "metadata": {},
   "outputs": [],
   "source": [
    "# Créer un DF avec les colonnes suivantes\n",
    "#Phrases positives \tPhrases négatives \tPhrases positives mal prédites\n",
    "#Phrases négatives mal prédites \tPourcentage pos \tPourcentage neg\n",
    "def creer_df_mots_pos_neg(phrases_test, phrases_pos_faux, phrases_neg_faux):\n",
    "    mots = [mot for (tweet,score) in phrases_test for mot in tweet]\n",
    "    voc_faux = list(dict.fromkeys(mots)) # Tous les mots du voc : ['a', '9h20ascii012ctrlcle',...]\n",
    "    app_voc = {mot : [0,0,0,0] for mot in voc_faux} #initialisation : {'départ': [0, 0, 0, 0], 'a': [0, 0, 0, 0]....\n",
    "    for phrase, score in phrases_test:\n",
    "        for mot in phrase:\n",
    "            plus, moins,faux_plus,faux_moins = app_voc[mot]\n",
    "            if score == 1: #si score = 1 on incrémente l'apparition dans les phrases positives\n",
    "                app_voc[mot] = [plus+1,moins,faux_plus,faux_moins]\n",
    "            else: #si score = -1 on incrémente l'apparition dans les phrases négatives\n",
    "                app_voc[mot] = [plus,moins+1,faux_plus,faux_moins]\n",
    "    for [tweet, proba] in phrases_pos_faux: ## on parcourt les tweets faux positifs ()\n",
    "        for mot in tweet:\n",
    "            plus, moins,faux_plus,faux_moins = app_voc[mot]\n",
    "            app_voc[mot] = [plus,moins,faux_plus+1,faux_moins] #on incrémente chaque mot faux positifs\n",
    "    for [tweet, proba] in phrases_neg_faux: ## on parcourt les tweets faux négatifs\n",
    "        for mot in tweet:\n",
    "            plus, moins,faux_plus,faux_moins = app_voc[mot]\n",
    "            app_voc[mot] =  [plus,moins,faux_plus,faux_moins+1]  #on incrémente chaque mot faux négatifs\n",
    "    donnees = [val for val in app_voc.values()]\n",
    "    mots = [mot for mot in app_voc.keys()]\n",
    "    df = pd.DataFrame(donnees,index=mots,columns=[\"Phrases positives\",\"Phrases négatives\",\"Faux positifs\",\"Faux négatifs\"])\n",
    "    df[\"Nb_occ\"] = df[\"Phrases positives\"]+df[\"Phrases négatives\"]\n",
    "    df[\"Part Phrases pos SNCF\"] = 100 * df[\"Phrases positives\"]/(df[\"Phrases positives\"]+df[\"Phrases négatives\"]) \n",
    "    df[\"Taux de faux positifs\"] =100 * df[\"Faux positifs\"]/ df[\"Phrases négatives\"]\n",
    "    df[\"Taux de faux négatifs\"] =100 * df[\"Faux négatifs\"]/ df[\"Phrases positives\"]\n",
    "    df[\"Part Phrases mal préd\"] =100 * (df[\"Faux positifs\"]+df[\"Faux négatifs\"])/(df[\"Phrases négatives\"]+ df[\"Phrases positives\"])\n",
    "    df = df.sort_values(by=['Part Phrases mal préd'],ascending=False)\n",
    "    df = df.loc[df['Nb_occ'] >= 50]\n",
    "    df[\"Proba logit\"] = [100 * reg_log.predict_proba([calcul_sentence_embedding([mot])])[0][1] for mot in df.index.values]\n",
    "    #df = df.loc[ : , ['Nb_occ','Part Phrases mal préd','Part Phrases pos SNCF' ,'Proba logit','Taux de faux positifs','Taux de faux négatifs'] ]\n",
    "    return df"
   ]
  },
  {
   "cell_type": "code",
   "execution_count": 65,
   "metadata": {},
   "outputs": [],
   "source": [
    "def nb_mots_PasWord2vec_phrase(phrase):\n",
    "    compteur = 0\n",
    "    for mot in phrase:\n",
    "        if mot not in model1.wv.index2word:\n",
    "            compteur = compteur + 1\n",
    "    return compteur"
   ]
  },
  {
   "cell_type": "code",
   "execution_count": 66,
   "metadata": {},
   "outputs": [],
   "source": [
    "def creer_df_tweets(index=True):\n",
    "    tweets = []\n",
    "    score = []\n",
    "    pred = []\n",
    "    nb_mots_connus = []\n",
    "    part_mots_inconnus = []\n",
    "\n",
    "    # Faux positifs\n",
    "    for (phrase,chiffre) in phrases_pos_faux:\n",
    "        nouvelle_phrase = \"\"\n",
    "        score += [-1]\n",
    "        pred += [1]\n",
    "        for mot in phrase:\n",
    "            nouvelle_phrase = nouvelle_phrase + \" \" + str(mot)\n",
    "        tweets += [nouvelle_phrase]\n",
    "    for (phrase,inconnus,nbmots) in phrases_pos_faux_compt:\n",
    "        nb_mots_connus += [nbmots-inconnus]\n",
    "        if(nbmots>0):\n",
    "            part_mots_inconnus += [100 * inconnus/nbmots] \n",
    "        else:\n",
    "            part_mots_inconnus += ['NaN'] \n",
    "    # Vrais positifs\n",
    "    for (phrase,chiffre) in phrases_pos_vrai:\n",
    "        nouvelle_phrase = \"\"\n",
    "        score += [1]\n",
    "        pred += [1]\n",
    "        for mot in phrase:\n",
    "            nouvelle_phrase = nouvelle_phrase + \" \" + str(mot)\n",
    "        tweets += [nouvelle_phrase]\n",
    "    for (phrase,inconnus,nbmots) in phrases_pos_vrai_compt:\n",
    "        nb_mots_connus += [nbmots-inconnus]\n",
    "        if(nbmots>0):\n",
    "            part_mots_inconnus += [100 * inconnus/nbmots] \n",
    "        else:\n",
    "            part_mots_inconnus += ['NaN']         \n",
    "    # Faux negatifs\n",
    "    for (phrase,chiffre) in phrases_neg_faux:\n",
    "        nouvelle_phrase = \"\"\n",
    "        score += [1]\n",
    "        pred += [-1]\n",
    "        for mot in phrase:\n",
    "            nouvelle_phrase = nouvelle_phrase + \" \" + str(mot)\n",
    "        tweets += [nouvelle_phrase]\n",
    "    for (phrase,inconnus,nbmots) in phrases_neg_faux_compt:\n",
    "        nb_mots_connus += [nbmots-inconnus]\n",
    "        if(nbmots>0):\n",
    "            part_mots_inconnus += [100 * inconnus/nbmots] \n",
    "        else:\n",
    "            part_mots_inconnus += ['NaN'] \n",
    "    # Vrais negatifs\n",
    "    for (phrase,chiffre) in phrases_neg_vrai:\n",
    "        nouvelle_phrase = \"\"\n",
    "        score += [-1]\n",
    "        pred += [-1]\n",
    "        for mot in phrase:\n",
    "            nouvelle_phrase = nouvelle_phrase + \" \" + str(mot)\n",
    "        tweets += [nouvelle_phrase]\n",
    "    for (phrase,inconnus,nbmots) in phrases_neg_vrai_compt:\n",
    "        nb_mots_connus += [nbmots-inconnus]\n",
    "        if(nbmots>0):\n",
    "            part_mots_inconnus += [100 * inconnus/nbmots] \n",
    "        else:\n",
    "            part_mots_inconnus += ['NaN']         \n",
    "    if index:\n",
    "        df = pd.DataFrame(list(zip(score, pred,nb_mots_connus,part_mots_inconnus)),\n",
    "                    index = tweets, columns =['score', 'pred','nb_mots_connus','part_mots_inconnus']\n",
    "                      ) \n",
    "    else:\n",
    "        df = pd.DataFrame(list(zip(tweets,score, pred,nb_mots_connus,part_mots_inconnus)),\n",
    "                    columns =['tweet','score', 'pred','nb_mots_connus','part_mots_inconnus']\n",
    "                      ) \n",
    "    return(df)"
   ]
  },
  {
   "cell_type": "code",
   "execution_count": 67,
   "metadata": {},
   "outputs": [],
   "source": [
    "def restriction(mot):\n",
    "    res = []\n",
    "    compt = 0\n",
    "    for tweet in df_tweets['tweet']:\n",
    "        compt += 1\n",
    "        for word in tweet.split():\n",
    "            if word== mot:\n",
    "                res += [compt-1]\n",
    "    return res"
   ]
  },
  {
   "cell_type": "code",
   "execution_count": 68,
   "metadata": {},
   "outputs": [],
   "source": [
    "def box_plot(df,indicateur=\"nb_mots_connus\"):\n",
    "    bien_predits = df.loc[((df[\"score\"] == 1) & (df[\"pred\"] == 1)) | ((df[\"score\"] == -1) & (df[\"pred\"] == -1)), indicateur]\n",
    "    mal_predits = df.loc[((df[\"score\"] == 1) & (df[\"pred\"] == -1)) | ((df[\"score\"] == -1) & (df[\"pred\"] == 1)), indicateur]\n",
    "    tous = df[indicateur]\n",
    "\n",
    "    BoxName = ['tweets bien prédits','tweets mal prédits', 'tous les tweets']\n",
    "\n",
    "    data = [bien_predits,mal_predits, tous]\n",
    "\n",
    "    plt.ylabel(indicateur)\n",
    "    plt.boxplot(data)\n",
    "    pylab.xticks([1,2,3], BoxName)\n",
    "    plt.show()"
   ]
  },
  {
   "cell_type": "markdown",
   "metadata": {},
   "source": [
    "# Mots inconnus"
   ]
  },
  {
   "cell_type": "code",
   "execution_count": 74,
   "metadata": {},
   "outputs": [],
   "source": [
    "with open(\"data/sentimental_analysis/corpus_test_sncf.file\", \"rb\") as f:\n",
    "    corpus_test = pickle.load(f)\n",
    "with open(\"data/sentimental_analysis/corpus_train_sncf.file\", \"rb\") as f:\n",
    "    corpus_train = pickle.load(f)\n",
    "with open(\"data/sentimental_analysis/corpus_test.file\", \"rb\") as f:\n",
    "    corpus_test_git = pickle.load(f)"
   ]
  },
  {
   "cell_type": "code",
   "execution_count": 79,
   "metadata": {},
   "outputs": [],
   "source": [
    "phrases_train = [tweet.split() for (score, tweet) in corpus_train]\n",
    "mots_train = [item for sublist in phrases_train for item in sublist]\n",
    "vocabulaire_train = list(dict.fromkeys(mots_train))\n",
    "phrases_test = [tweet.split() for (score, tweet) in corpus_test]#corpus_test_git si on veut les stats pour base GIT\n",
    "mots_test = [item for sublist in phrases_test for item in sublist]\n",
    "vocabulaire_test = list(dict.fromkeys(mots_test))"
   ]
  },
  {
   "cell_type": "code",
   "execution_count": 80,
   "metadata": {},
   "outputs": [],
   "source": [
    "app_test = {mot:0 for mot in vocabulaire_test}\n",
    "for phrase in phrases_test:\n",
    "    for mot in phrase:\n",
    "        app_test[mot] += 1"
   ]
  },
  {
   "cell_type": "code",
   "execution_count": 81,
   "metadata": {},
   "outputs": [
    {
     "name": "stdout",
     "output_type": "stream",
     "text": [
      "9809\n",
      "140018\n"
     ]
    }
   ],
   "source": [
    "compt = 0\n",
    "compt_mot = 0\n",
    "for mot in vocabulaire_test:\n",
    "    find1 = False\n",
    "    find2 = False\n",
    "    for word in model1.wv.index2word:\n",
    "        # Ce qu'on trouve\n",
    "        if mot == word:\n",
    "            find1 = True\n",
    "    for word in vocabulaire_train:\n",
    "        # Ce qu'on trouve\n",
    "        if mot == word:\n",
    "            find2 = True   \n",
    "    if find1 and find2:     \n",
    "        compt = compt +1\n",
    "        compt_mot = compt_mot + app_test[mot]\n",
    "print(compt)\n",
    "print(compt_mot)"
   ]
  },
  {
   "cell_type": "code",
   "execution_count": 82,
   "metadata": {},
   "outputs": [
    {
     "name": "stdout",
     "output_type": "stream",
     "text": [
      "36.18917512360135\n",
      "4.672489974877622\n"
     ]
    }
   ],
   "source": [
    "# Part des mots du voc non en commun\n",
    "print(100*(len(vocabulaire_test) - compt)/len(vocabulaire_test))\n",
    "# Part des mots du corpus non en commun\n",
    "print(100*(len(mots_test) - compt_mot)/len(mots_test))"
   ]
  },
  {
   "cell_type": "markdown",
   "metadata": {},
   "source": [
    "# Modèle logistique"
   ]
  },
  {
   "cell_type": "code",
   "execution_count": 24,
   "metadata": {},
   "outputs": [],
   "source": [
    "# Si on veut récup les fichiers\n",
    "\n",
    "with open(\"data/sentimental_analysis/corpus_test{}.file\".format(git_string), \"rb\") as f:\n",
    "    corpus_test = pickle.load(f)\n",
    "with open(\"data/sentimental_analysis/corpus_train{}.file\".format(git_string), \"rb\") as f:\n",
    "    corpus_train = pickle.load(f)\n",
    "with open(\"data/sentimental_analysis/phrasesEmbTest_{}_{}.file\".format(rm_stopwords_string,lowfrequency_zero_string), \"rb\") as f:\n",
    "    phrases_test_emb = pickle.load(f)\n",
    "with open(\"data/sentimental_analysis/phrasesEmbTrain_{}_{}.file\".format(rm_stopwords_string,lowfrequency_zero_string), \"rb\") as f:\n",
    "    phrases_train_emb = pickle.load(f)"
   ]
  },
  {
   "cell_type": "code",
   "execution_count": 25,
   "metadata": {},
   "outputs": [
    {
     "name": "stdout",
     "output_type": "stream",
     "text": [
      "Nombre de mots : 342106\n",
      "Taille du vocabulaire : 26319\n"
     ]
    }
   ],
   "source": [
    "phrases = [tweet.split() for (score, tweet) in corpus_train]\n",
    "mots = [item for sublist in phrases for item in sublist]\n",
    "vocabulaire = list(dict.fromkeys(mots))\n",
    "print(\"Nombre de mots :\", len(mots))\n",
    "print(\"Taille du vocabulaire :\", len(vocabulaire))"
   ]
  },
  {
   "cell_type": "markdown",
   "metadata": {},
   "source": [
    "Mots du corpus de train absents du vocabulaire word2vec (en %) "
   ]
  },
  {
   "cell_type": "code",
   "execution_count": 23,
   "metadata": {},
   "outputs": [
    {
     "data": {
      "text/plain": [
       "39.42019073673012"
      ]
     },
     "execution_count": 23,
     "metadata": {},
     "output_type": "execute_result"
    }
   ],
   "source": [
    "100 * mots_corpus_absents_dans_word2vec(corpus_train)"
   ]
  },
  {
   "cell_type": "markdown",
   "metadata": {},
   "source": [
    "Mots du corpus de test absents du vocabulaire word2vec (en %) "
   ]
  },
  {
   "cell_type": "code",
   "execution_count": 24,
   "metadata": {},
   "outputs": [
    {
     "data": {
      "text/plain": [
       "30.477491543065316"
      ]
     },
     "execution_count": 24,
     "metadata": {},
     "output_type": "execute_result"
    }
   ],
   "source": [
    "100 * mots_corpus_absents_dans_word2vec(corpus_test)"
   ]
  },
  {
   "cell_type": "markdown",
   "metadata": {},
   "source": [
    "données de train"
   ]
  },
  {
   "cell_type": "code",
   "execution_count": 26,
   "metadata": {},
   "outputs": [
    {
     "name": "stderr",
     "output_type": "stream",
     "text": [
      "C:\\Users\\Kim Antunez\\Anaconda3\\lib\\site-packages\\ipykernel_launcher.py:9: FutureWarning: elementwise comparison failed; returning scalar instead, but in the future will perform elementwise comparison\n",
      "  if __name__ == '__main__':\n"
     ]
    }
   ],
   "source": [
    "if rm_stopwords:\n",
    "    phrases = [[suppr_stop(tweet.split()),score] for (score, tweet) in corpus_train]\n",
    "else:\n",
    "    phrases = [[tweet.split(),score] for (score, tweet) in corpus_train]\n",
    "# long à tourner : chargé ci-dessus. \n",
    "#phrases_train_emb = [[score,calcul_sentence_embedding(phrase,lowfrequency_zero=lowfrequency_zero_bool)] for (phrase,score) in phrases]\n",
    "#with open(\"data/sentimental_analysis/phrasesEmbTrain_{}_{}.file\".format(rm_stopwords_string,lowfrequency_zero_string), \"wb\") as f:\n",
    "#        pickle.dump(phrases_train_emb, f, pickle.HIGHEST_PROTOCOL)\n",
    "phrases_train_emb = [[score,phrase] for (score,phrase) in phrases_train_emb if phrase != 'NaN']\n",
    "Y_train = [score for (score, embedding) in phrases_train_emb]\n",
    "X_train = [embedding for (score, embedding) in phrases_train_emb]\n"
   ]
  },
  {
   "cell_type": "markdown",
   "metadata": {},
   "source": [
    "données de test"
   ]
  },
  {
   "cell_type": "code",
   "execution_count": 27,
   "metadata": {},
   "outputs": [
    {
     "name": "stderr",
     "output_type": "stream",
     "text": [
      "C:\\Users\\Kim Antunez\\Anaconda3\\lib\\site-packages\\ipykernel_launcher.py:9: FutureWarning: elementwise comparison failed; returning scalar instead, but in the future will perform elementwise comparison\n",
      "  if __name__ == '__main__':\n"
     ]
    }
   ],
   "source": [
    "if rm_stopwords:\n",
    "    phrases_test = [[suppr_stop(tweet.split()),score] for (score, tweet) in corpus_test]\n",
    "else:\n",
    "    phrases_test = [[tweet.split(),score] for (score, tweet) in corpus_test]\n",
    "# long à tourner : chargé ci-dessus. \n",
    "#phrases_test_emb = [[score,calcul_sentence_embedding(phrase,lowfrequency_zero=lowfrequency_zero_bool)] for (phrase,score) in phrases_test]\n",
    "#with open(\"data/sentimental_analysis/phrasesEmbTest_{}_{}.file\".format(rm_stopwords_string,lowfrequency_zero_string), \"wb\") as f:\n",
    "#        pickle.dump(phrases_test_emb, f, pickle.HIGHEST_PROTOCOL)\n",
    "phrases_test_emb = [[score,phrase] for (score,phrase) in phrases_test_emb if phrase != 'NaN']\n",
    "Y_test = [score for (score, embedding) in phrases_test_emb]\n",
    "X_test = [embedding for (score, embedding) in phrases_test_emb]"
   ]
  },
  {
   "cell_type": "markdown",
   "metadata": {},
   "source": [
    "#### Régression logistique (en enlevant les stop_words)"
   ]
  },
  {
   "cell_type": "code",
   "execution_count": 39,
   "metadata": {},
   "outputs": [],
   "source": [
    "reg_log = regression_logistique(X_train, Y_train, logit = True)\n",
    "Y_train_proba = reg_log.predict_proba(X_train)\n",
    "Y_test_proba = reg_log.predict_proba(X_test)"
   ]
  },
  {
   "cell_type": "code",
   "execution_count": 40,
   "metadata": {},
   "outputs": [
    {
     "name": "stdout",
     "output_type": "stream",
     "text": [
      "0.505072310418019\n"
     ]
    }
   ],
   "source": [
    "seuil = get_seuil(true_label=Y_test,\n",
    "          Y_pred_proba=Y_test_proba,\n",
    "          num_pos_class=len([Y_test for val in Y_test if  val==1]),\n",
    "          num_neg_class=len([Y_test for val in Y_test if  val==-1])\n",
    "         )\n",
    "print(seuil) #proche de 0.5... On laisse à 0.5\n",
    "seuil = 0.5"
   ]
  },
  {
   "cell_type": "code",
   "execution_count": 41,
   "metadata": {},
   "outputs": [],
   "source": [
    "#Y_train_pred = reg_log.predict(X_train)\n",
    "Y_train_pred = np.where(Y_train_proba[:,1] > seuil, 1, -1)\n",
    "#Y_test_pred = reg_log.predict(X_test)\n",
    "Y_test_pred = np.where(Y_test_proba[:,1] > seuil, 1, -1)"
   ]
  },
  {
   "cell_type": "code",
   "execution_count": 42,
   "metadata": {},
   "outputs": [
    {
     "name": "stdout",
     "output_type": "stream",
     "text": [
      "TRAIN\n",
      "Matrice de confusion :\n",
      " [[17577  7423]\n",
      " [ 7983 17017]]\n",
      "Taux de bien prédits (accuracy) : 0.69188\n",
      "Taux mal prédits :  0.30811999999999995\n",
      "Taux faux positifs :  0.29691999999999996\n",
      "Taux faux négatifs :  0.31932000000000005\n",
      "\n",
      "TEST\n",
      "Matrice de confusion :\n",
      " [[1399  585]\n",
      " [ 661 1337]]\n",
      "Taux de bien prédits (accuracy) : 0.6870919136112507\n",
      "Taux mal prédits :  0.31290808638874934\n",
      "Taux faux positifs :  0.2948588709677419\n",
      "Taux faux négatifs :  0.33083083083083087\n"
     ]
    }
   ],
   "source": [
    "print(\"TRAIN\")\n",
    "matrice_confusion_accuracy(Y_train,Y_train_pred)\n",
    "print(\"\\nTEST\")\n",
    "matrice_confusion_accuracy(Y_test,Y_test_pred)"
   ]
  },
  {
   "cell_type": "markdown",
   "metadata": {},
   "source": [
    "Valeur prédite pour lowfrequency ?"
   ]
  },
  {
   "cell_type": "code",
   "execution_count": 43,
   "metadata": {},
   "outputs": [
    {
     "name": "stdout",
     "output_type": "stream",
     "text": [
      "0.7580763866295634\n"
     ]
    }
   ],
   "source": [
    "if lowfrequency_zero_bool==False:\n",
    "    lf_pred = reg_log.predict_proba([calcul_sentence_embedding(['lowfrequency'])])[0][1]\n",
    "    print(lf_pred)"
   ]
  },
  {
   "cell_type": "code",
   "execution_count": 41,
   "metadata": {},
   "outputs": [
    {
     "name": "stdout",
     "output_type": "stream",
     "text": [
      "intersection optimale :  [0.4897451799776643]\n"
     ]
    },
    {
     "data": {
      "image/png": "[encoded data removed]",
      "text/plain": [
       "<Figure size 432x288 with 1 Axes>"
      ]
     },
     "metadata": {
      "needs_background": "light"
     },
     "output_type": "display_data"
    }
   ],
   "source": [
    "courbe_roc(Y_test,Y_test_proba)"
   ]
  },
  {
   "cell_type": "markdown",
   "metadata": {},
   "source": [
    "Distribution de proba"
   ]
  },
  {
   "cell_type": "code",
   "execution_count": 42,
   "metadata": {},
   "outputs": [
    {
     "data": {
      "text/plain": [
       "<matplotlib.axes._subplots.AxesSubplot at 0x274417543c8>"
      ]
     },
     "execution_count": 42,
     "metadata": {},
     "output_type": "execute_result"
    },
    {
     "data": {
      "image/png": "[encoded data removed]",
      "text/plain": [
       "<Figure size 432x288 with 1 Axes>"
      ]
     },
     "metadata": {
      "needs_background": "light"
     },
     "output_type": "display_data"
    }
   ],
   "source": [
    "probas = Y_test_proba[:,1]\n",
    "pd.DataFrame(probas).plot(kind='density',xlim=(0,1)) "
   ]
  },
  {
   "cell_type": "code",
   "execution_count": 168,
   "metadata": {},
   "outputs": [],
   "source": [
    "# On sauve les modèles\n",
    "#with open(\"data/sentimental_analysis/reg_log_{}_{}{}.file\".format(rm_stopwords_string,lowfrequency_zero_string, git_string), \"wb\") as f:\n",
    "#        pickle.dump(reg_log, f, pickle.HIGHEST_PROTOCOL)"
   ]
  },
  {
   "cell_type": "markdown",
   "metadata": {},
   "source": [
    "#### Régression probit (en enlevant les stop_words)"
   ]
  },
  {
   "cell_type": "code",
   "execution_count": 34,
   "metadata": {},
   "outputs": [
    {
     "name": "stdout",
     "output_type": "stream",
     "text": [
      "Optimization terminated successfully.\n",
      "         Current function value: 0.588055\n",
      "         Iterations 6\n"
     ]
    }
   ],
   "source": [
    "reg_log = regression_logistique(X_train,Y_train,logit=False)\n",
    "Y_train_pred = reg_log.predict(X_train)\n",
    "Y_test_pred = reg_log.predict(X_test)"
   ]
  },
  {
   "cell_type": "code",
   "execution_count": 35,
   "metadata": {},
   "outputs": [
    {
     "name": "stdout",
     "output_type": "stream",
     "text": [
      "TRAIN\n",
      "Matrice de confusion :\n",
      " [[17904  7096]\n",
      " [ 8382 16618]]\n",
      "Taux de bien prédits (accuracy) : 0.69044\n",
      "Taux mal prédits :  0.30955999999999995\n",
      "Taux faux positifs :  0.28384\n",
      "Taux faux négatifs :  0.33528\n",
      "\n",
      "TEST\n",
      "Matrice de confusion :\n",
      " [[1418  566]\n",
      " [ 706 1292]]\n",
      "Taux de bien prédits (accuracy) : 0.6805625313912607\n",
      "Taux mal prédits :  0.31943746860873934\n",
      "Taux faux positifs :  0.2852822580645161\n",
      "Taux faux négatifs :  0.3533533533533534\n"
     ]
    }
   ],
   "source": [
    "print(\"TRAIN\")\n",
    "matrice_confusion_accuracy(Y_train,[1 if (val >= 0.5) else -1 for val in Y_train_pred])\n",
    "print(\"\\nTEST\")\n",
    "matrice_confusion_accuracy(Y_test,[1 if (val >= 0.5) else -1 for val in Y_test_pred]) "
   ]
  },
  {
   "cell_type": "markdown",
   "metadata": {},
   "source": [
    "Valeur prédite pour lowfrequency ?"
   ]
  },
  {
   "cell_type": "code",
   "execution_count": 92,
   "metadata": {},
   "outputs": [
    {
     "name": "stdout",
     "output_type": "stream",
     "text": [
      "0.7580763866295634\n"
     ]
    }
   ],
   "source": [
    "if lowfrequency_zero_bool==False:\n",
    "    lf_pred = reg_log.predict_proba([calcul_sentence_embedding(['lowfrequency'])])[0][1]\n",
    "    print(lf_pred)"
   ]
  },
  {
   "cell_type": "code",
   "execution_count": 225,
   "metadata": {},
   "outputs": [
    {
     "data": {
      "image/png": "[encoded data removed]",
      "text/plain": [
       "<Figure size 432x288 with 1 Axes>"
      ]
     },
     "metadata": {
      "needs_background": "light"
     },
     "output_type": "display_data"
    }
   ],
   "source": [
    "courbe_roc(Y_test,Y_test_proba) #Y_test_proba => logit ??"
   ]
  },
  {
   "cell_type": "code",
   "execution_count": 74,
   "metadata": {},
   "outputs": [
    {
     "name": "stdout",
     "output_type": "stream",
     "text": [
      "0.7325215840840842\n"
     ]
    }
   ],
   "source": [
    "fpr, tpr, threshold = metrics.roc_curve(Y_test, Y_test_pred)\n",
    "roc_auc = metrics.auc(fpr, tpr)\n",
    "print(roc_auc)"
   ]
  },
  {
   "cell_type": "markdown",
   "metadata": {},
   "source": [
    "Distribution de proba"
   ]
  },
  {
   "cell_type": "code",
   "execution_count": 120,
   "metadata": {},
   "outputs": [
    {
     "data": {
      "text/plain": [
       "<matplotlib.axes._subplots.AxesSubplot at 0x2592a12ef48>"
      ]
     },
     "execution_count": 120,
     "metadata": {},
     "output_type": "execute_result"
    },
    {
     "data": {
      "image/png": "[encoded data removed]",
      "text/plain": [
       "<Figure size 432x288 with 1 Axes>"
      ]
     },
     "metadata": {
      "needs_background": "light"
     },
     "output_type": "display_data"
    }
   ],
   "source": [
    "pd.DataFrame(Y_test_pred).plot(kind='density',xlim=(0,1))"
   ]
  },
  {
   "cell_type": "code",
   "execution_count": 174,
   "metadata": {},
   "outputs": [],
   "source": [
    "# On sauve les modèles\n",
    "#with open(\"data/sentimental_analysis/reg_prob_{}_{}{}.file\".format(rm_stopwords_string,lowfrequency_zero_string, git_string), \"wb\") as f:\n",
    "#        pickle.dump(reg_log, f, pickle.HIGHEST_PROTOCOL)"
   ]
  },
  {
   "cell_type": "markdown",
   "metadata": {},
   "source": [
    "# Identifier mal prédits"
   ]
  },
  {
   "cell_type": "markdown",
   "metadata": {},
   "source": [
    "Vu précédemment : \n",
    "\n",
    "TEST\n",
    "Matrice de confusion :\n",
    "\n",
    " [[1399  585]\n",
    " \n",
    " [ 661 1337]]\n",
    " \n",
    "Taux de bien prédits (accuracy) : 0.6870919136112507\n",
    "\n",
    "Taux mal prédits :  0.31290808638874934\n",
    "\n",
    "Taux faux positifs :  0.2948588709677419\n",
    "\n",
    "Taux faux négatifs :  0.33083083083083087\n",
    "\n",
    "intersection optimale :  [0.4897451799776643]"
   ]
  },
  {
   "cell_type": "markdown",
   "metadata": {},
   "source": [
    "**Attention** Avant de faire tourner cette partie, faire tourner le dernier type de modèle souhaité ci-dessus (logit ou probit). "
   ]
  },
  {
   "cell_type": "code",
   "execution_count": 43,
   "metadata": {},
   "outputs": [
    {
     "data": {
      "text/plain": [
       "<matplotlib.axes._subplots.AxesSubplot at 0x274417aeb08>"
      ]
     },
     "execution_count": 43,
     "metadata": {},
     "output_type": "execute_result"
    },
    {
     "data": {
      "image/png": "[encoded data removed]",
      "text/plain": [
       "<Figure size 432x288 with 1 Axes>"
      ]
     },
     "metadata": {
      "needs_background": "light"
     },
     "output_type": "display_data"
    }
   ],
   "source": [
    "probas = Y_test_proba[:,1]\n",
    "pd.DataFrame(probas).plot(kind='density',xlim=(0,1)) "
   ]
  },
  {
   "cell_type": "code",
   "execution_count": 44,
   "metadata": {},
   "outputs": [],
   "source": [
    "# toutes les phrases\n",
    "phrases_pred = [(tweet,score,pred,proba) for (tweet,score),pred,proba in zip(phrases_test,Y_test_pred,probas)]\n",
    "phrases_tot = [[tweet,proba] for (tweet,score,pred,proba) in phrases_pred]\n",
    "phrases_tot_compt = [[phrase, nb_mots_PasWord2vec_phrase(phrase),len(phrase)] for [phrase,score] in phrases_tot]\n",
    "#bien prédits positifs \n",
    "phrases_pos_vrai = [[tweet,proba] for (tweet,score,pred,proba) in phrases_pred if (score == 1 and pred==1)]\n",
    "probas_pos_vrai = [proba for [tweet,proba] in phrases_pos_vrai]\n",
    "phrases_pos_vrai_compt = [[phrase, nb_mots_PasWord2vec_phrase(phrase),len(phrase)] for [phrase,score] in phrases_pos_vrai]\n",
    "#bien prédits négatifs\n",
    "phrases_neg_vrai = [[tweet,proba] for (tweet,score,pred,proba) in phrases_pred if (score == -1 and pred==-1)]\n",
    "probas_neg_vrai = [proba for [tweet,proba] in phrases_neg_vrai]\n",
    "phrases_neg_vrai_compt = [[phrase, nb_mots_PasWord2vec_phrase(phrase),len(phrase)] for [phrase,score] in phrases_neg_vrai]\n",
    "#prédits positifs alors qu'ils étaient négatifs (faux positifs)\n",
    "phrases_pos_faux = [[tweet,proba] for (tweet,score,pred,proba) in phrases_pred if (score == -1 and pred==1)]\n",
    "probas_pos_faux = [proba for [tweet,proba] in phrases_pos_faux]\n",
    "phrases_pos_faux_compt = [[phrase, nb_mots_PasWord2vec_phrase(phrase),len(phrase)] for [phrase,score] in phrases_pos_faux]\n",
    "#prédits négatifs alors qu'ils étaient positifs (faux négatifs)\n",
    "phrases_neg_faux = [[tweet,proba] for (tweet,score,pred,proba) in phrases_pred if (score == 1 and pred==-1)]\n",
    "probas_neg_faux = [proba for [tweet,proba] in phrases_neg_faux]\n",
    "phrases_neg_faux_compt = [[phrase, nb_mots_PasWord2vec_phrase(phrase),len(phrase)] for [phrase,score] in phrases_neg_faux]\n",
    "# mal prédits\n",
    "phrases_faux = [[tweet,proba] for (tweet,score,pred,proba) in phrases_pred if ((score == 1 and pred==-1 or (score == -1 and\n",
    "                                                                                                            pred==1)))]\n",
    "probas_faux = [proba for [tweet,proba] in phrases_faux]\n",
    "phrases_faux_compt = [[phrase, nb_mots_PasWord2vec_phrase(phrase),len(phrase)] for [phrase,score] in phrases_faux]"
   ]
  },
  {
   "cell_type": "markdown",
   "metadata": {},
   "source": [
    "Message : beaucoup de probas autour de 0,5. Distibution unimodale. Montre la difficulté de distringuer vraiment entre phrase négative et phrase positive. "
   ]
  },
  {
   "cell_type": "code",
   "execution_count": 45,
   "metadata": {
    "scrolled": true
   },
   "outputs": [
    {
     "data": {
      "image/png": "[encoded data removed]",
      "text/plain": [
       "<Figure size 432x288 with 1 Axes>"
      ]
     },
     "metadata": {
      "needs_background": "light"
     },
     "output_type": "display_data"
    }
   ],
   "source": [
    "ax = plt.gca()\n",
    "\n",
    "# probas totale (plein) et probas mal prédits (pointillés)\n",
    "pd.DataFrame(probas_faux).plot(kind='density',xlim=(0,1),ax=ax,color='black',linestyle='dashed')\n",
    "pd.DataFrame(probas).plot(kind='density',xlim=(0,1),ax=ax,color='black') \n",
    "\n",
    "\n",
    "# Négatifs (plein) et Faux négatifs (pointillés)\n",
    "pd.DataFrame(probas[probas<seuil]).plot(kind='density',xlim=(0,1),ax=ax,color='red') \n",
    "pd.DataFrame(probas_neg_faux).plot(kind='density',xlim=(0,1),ax=ax,color='red',linestyle='dashed')\n",
    "# Positifs (plein) et Faux positifs (pointillés)\n",
    "pd.DataFrame(probas_pos_faux).plot(kind='density',xlim=(0,1),ax=ax,color='green',linestyle='dashed')\n",
    "pd.DataFrame(probas[probas>seuil]).plot(kind='density',xlim=(0,1),ax=ax,color='green') \n",
    "plt.show()"
   ]
  },
  {
   "cell_type": "markdown",
   "metadata": {},
   "source": [
    "Taux de faux positifs = \"proportion de négatifs incorrectement prédits\" = prédits positifs alors qu'ils étaient négatifs (faux positifs) / négatifs\n",
    "\n",
    "Taux de faux négatifs = \"proportion de positifs incorrectement prédits\" = prédits négatifs alors qu'ils étaient positifs (faux négatifs) / positifs\n"
   ]
  },
  {
   "cell_type": "code",
   "execution_count": 46,
   "metadata": {
    "scrolled": true
   },
   "outputs": [
    {
     "data": {
      "text/html": [
       "<div>\n",
       "<style scoped>\n",
       "    .dataframe tbody tr th:only-of-type {\n",
       "        vertical-align: middle;\n",
       "    }\n",
       "\n",
       "    .dataframe tbody tr th {\n",
       "        vertical-align: top;\n",
       "    }\n",
       "\n",
       "    .dataframe thead th {\n",
       "        text-align: right;\n",
       "    }\n",
       "</style>\n",
       "<table border=\"1\" class=\"dataframe\">\n",
       "  <thead>\n",
       "    <tr style=\"text-align: right;\">\n",
       "      <th></th>\n",
       "      <th>Phrases positives</th>\n",
       "      <th>Phrases négatives</th>\n",
       "      <th>Faux positifs</th>\n",
       "      <th>Faux négatifs</th>\n",
       "      <th>Nb_occ</th>\n",
       "      <th>Part Phrases pos SNCF</th>\n",
       "      <th>Taux de faux positifs</th>\n",
       "      <th>Taux de faux négatifs</th>\n",
       "      <th>Part Phrases mal préd</th>\n",
       "      <th>Proba logit</th>\n",
       "    </tr>\n",
       "  </thead>\n",
       "  <tbody>\n",
       "    <tr>\n",
       "      <th>espère</th>\n",
       "      <td>64</td>\n",
       "      <td>12</td>\n",
       "      <td>3</td>\n",
       "      <td>37</td>\n",
       "      <td>76</td>\n",
       "      <td>84.210526</td>\n",
       "      <td>25.000000</td>\n",
       "      <td>57.812500</td>\n",
       "      <td>52.631579</td>\n",
       "      <td>54.732030</td>\n",
       "    </tr>\n",
       "    <tr>\n",
       "      <th>ptdr</th>\n",
       "      <td>65</td>\n",
       "      <td>7</td>\n",
       "      <td>2</td>\n",
       "      <td>32</td>\n",
       "      <td>72</td>\n",
       "      <td>90.277778</td>\n",
       "      <td>28.571429</td>\n",
       "      <td>49.230769</td>\n",
       "      <td>47.222222</td>\n",
       "      <td>65.709997</td>\n",
       "    </tr>\n",
       "    <tr>\n",
       "      <th>cool</th>\n",
       "      <td>53</td>\n",
       "      <td>8</td>\n",
       "      <td>1</td>\n",
       "      <td>26</td>\n",
       "      <td>61</td>\n",
       "      <td>86.885246</td>\n",
       "      <td>12.500000</td>\n",
       "      <td>49.056604</td>\n",
       "      <td>44.262295</td>\n",
       "      <td>99.834795</td>\n",
       "    </tr>\n",
       "    <tr>\n",
       "      <th>mettre</th>\n",
       "      <td>34</td>\n",
       "      <td>36</td>\n",
       "      <td>6</td>\n",
       "      <td>22</td>\n",
       "      <td>70</td>\n",
       "      <td>48.571429</td>\n",
       "      <td>16.666667</td>\n",
       "      <td>64.705882</td>\n",
       "      <td>40.000000</td>\n",
       "      <td>79.808946</td>\n",
       "    </tr>\n",
       "    <tr>\n",
       "      <th>mdrr</th>\n",
       "      <td>81</td>\n",
       "      <td>11</td>\n",
       "      <td>1</td>\n",
       "      <td>35</td>\n",
       "      <td>92</td>\n",
       "      <td>88.043478</td>\n",
       "      <td>9.090909</td>\n",
       "      <td>43.209877</td>\n",
       "      <td>39.130435</td>\n",
       "      <td>44.216643</td>\n",
       "    </tr>\n",
       "    <tr>\n",
       "      <th>...</th>\n",
       "      <td>...</td>\n",
       "      <td>...</td>\n",
       "      <td>...</td>\n",
       "      <td>...</td>\n",
       "      <td>...</td>\n",
       "      <td>...</td>\n",
       "      <td>...</td>\n",
       "      <td>...</td>\n",
       "      <td>...</td>\n",
       "      <td>...</td>\n",
       "    </tr>\n",
       "    <tr>\n",
       "      <th>30</th>\n",
       "      <td>15</td>\n",
       "      <td>44</td>\n",
       "      <td>3</td>\n",
       "      <td>3</td>\n",
       "      <td>59</td>\n",
       "      <td>25.423729</td>\n",
       "      <td>6.818182</td>\n",
       "      <td>20.000000</td>\n",
       "      <td>10.169492</td>\n",
       "      <td>71.715092</td>\n",
       "    </tr>\n",
       "    <tr>\n",
       "      <th>trafic</th>\n",
       "      <td>24</td>\n",
       "      <td>92</td>\n",
       "      <td>6</td>\n",
       "      <td>5</td>\n",
       "      <td>116</td>\n",
       "      <td>20.689655</td>\n",
       "      <td>6.521739</td>\n",
       "      <td>20.833333</td>\n",
       "      <td>9.482759</td>\n",
       "      <td>49.989754</td>\n",
       "    </tr>\n",
       "    <tr>\n",
       "      <th>pire</th>\n",
       "      <td>11</td>\n",
       "      <td>68</td>\n",
       "      <td>2</td>\n",
       "      <td>4</td>\n",
       "      <td>79</td>\n",
       "      <td>13.924051</td>\n",
       "      <td>2.941176</td>\n",
       "      <td>36.363636</td>\n",
       "      <td>7.594937</td>\n",
       "      <td>31.567697</td>\n",
       "    </tr>\n",
       "    <tr>\n",
       "      <th>flemme</th>\n",
       "      <td>10</td>\n",
       "      <td>58</td>\n",
       "      <td>2</td>\n",
       "      <td>3</td>\n",
       "      <td>68</td>\n",
       "      <td>14.705882</td>\n",
       "      <td>3.448276</td>\n",
       "      <td>30.000000</td>\n",
       "      <td>7.352941</td>\n",
       "      <td>0.226424</td>\n",
       "    </tr>\n",
       "    <tr>\n",
       "      <th>fdp</th>\n",
       "      <td>4</td>\n",
       "      <td>59</td>\n",
       "      <td>0</td>\n",
       "      <td>3</td>\n",
       "      <td>63</td>\n",
       "      <td>6.349206</td>\n",
       "      <td>0.000000</td>\n",
       "      <td>75.000000</td>\n",
       "      <td>4.761905</td>\n",
       "      <td>8.374587</td>\n",
       "    </tr>\n",
       "  </tbody>\n",
       "</table>\n",
       "<p>304 rows × 10 columns</p>\n",
       "</div>"
      ],
      "text/plain": [
       "        Phrases positives  Phrases négatives  Faux positifs  Faux négatifs  \\\n",
       "espère                 64                 12              3             37   \n",
       "ptdr                   65                  7              2             32   \n",
       "cool                   53                  8              1             26   \n",
       "mettre                 34                 36              6             22   \n",
       "mdrr                   81                 11              1             35   \n",
       "...                   ...                ...            ...            ...   \n",
       "30                     15                 44              3              3   \n",
       "trafic                 24                 92              6              5   \n",
       "pire                   11                 68              2              4   \n",
       "flemme                 10                 58              2              3   \n",
       "fdp                     4                 59              0              3   \n",
       "\n",
       "        Nb_occ  Part Phrases pos SNCF  Taux de faux positifs  \\\n",
       "espère      76              84.210526              25.000000   \n",
       "ptdr        72              90.277778              28.571429   \n",
       "cool        61              86.885246              12.500000   \n",
       "mettre      70              48.571429              16.666667   \n",
       "mdrr        92              88.043478               9.090909   \n",
       "...        ...                    ...                    ...   \n",
       "30          59              25.423729               6.818182   \n",
       "trafic     116              20.689655               6.521739   \n",
       "pire        79              13.924051               2.941176   \n",
       "flemme      68              14.705882               3.448276   \n",
       "fdp         63               6.349206               0.000000   \n",
       "\n",
       "        Taux de faux négatifs  Part Phrases mal préd  Proba logit  \n",
       "espère              57.812500              52.631579    54.732030  \n",
       "ptdr                49.230769              47.222222    65.709997  \n",
       "cool                49.056604              44.262295    99.834795  \n",
       "mettre              64.705882              40.000000    79.808946  \n",
       "mdrr                43.209877              39.130435    44.216643  \n",
       "...                       ...                    ...          ...  \n",
       "30                  20.000000              10.169492    71.715092  \n",
       "trafic              20.833333               9.482759    49.989754  \n",
       "pire                36.363636               7.594937    31.567697  \n",
       "flemme              30.000000               7.352941     0.226424  \n",
       "fdp                 75.000000               4.761905     8.374587  \n",
       "\n",
       "[304 rows x 10 columns]"
      ]
     },
     "execution_count": 46,
     "metadata": {},
     "output_type": "execute_result"
    }
   ],
   "source": [
    "df = creer_df_mots_pos_neg(phrases_test, phrases_pos_faux, phrases_neg_faux)\n",
    "df\n",
    "#df.to_csv('mots_mal_predits.csv', sep = ';',encoding='UTF8')"
   ]
  },
  {
   "cell_type": "code",
   "execution_count": 47,
   "metadata": {
    "scrolled": true
   },
   "outputs": [
    {
     "data": {
      "text/html": [
       "<div>\n",
       "<style scoped>\n",
       "    .dataframe tbody tr th:only-of-type {\n",
       "        vertical-align: middle;\n",
       "    }\n",
       "\n",
       "    .dataframe tbody tr th {\n",
       "        vertical-align: top;\n",
       "    }\n",
       "\n",
       "    .dataframe thead th {\n",
       "        text-align: right;\n",
       "    }\n",
       "</style>\n",
       "<table border=\"1\" class=\"dataframe\">\n",
       "  <thead>\n",
       "    <tr style=\"text-align: right;\">\n",
       "      <th></th>\n",
       "      <th>tweet</th>\n",
       "      <th>score</th>\n",
       "      <th>pred</th>\n",
       "      <th>nb_mots_connus</th>\n",
       "      <th>part_mots_inconnus</th>\n",
       "    </tr>\n",
       "  </thead>\n",
       "  <tbody>\n",
       "    <tr>\n",
       "      <th>0</th>\n",
       "      <td>mahleur 😂😂😂ascii012ctrlcj ai trop la flemme d...</td>\n",
       "      <td>-1</td>\n",
       "      <td>1</td>\n",
       "      <td>26</td>\n",
       "      <td>7.142857</td>\n",
       "    </tr>\n",
       "    <tr>\n",
       "      <th>1</th>\n",
       "      <td>jamais je pourrais prendre le bus ou l interc...</td>\n",
       "      <td>-1</td>\n",
       "      <td>1</td>\n",
       "      <td>21</td>\n",
       "      <td>0.000000</td>\n",
       "    </tr>\n",
       "    <tr>\n",
       "      <th>2</th>\n",
       "      <td>les ptites pisseuses qui courent pr me devanc...</td>\n",
       "      <td>-1</td>\n",
       "      <td>1</td>\n",
       "      <td>27</td>\n",
       "      <td>3.571429</td>\n",
       "    </tr>\n",
       "    <tr>\n",
       "      <th>3</th>\n",
       "      <td>et la mamie qui se plaint qu il y a trop de m...</td>\n",
       "      <td>-1</td>\n",
       "      <td>1</td>\n",
       "      <td>31</td>\n",
       "      <td>0.000000</td>\n",
       "    </tr>\n",
       "    <tr>\n",
       "      <th>4</th>\n",
       "      <td>on vient de voir mojito dans le bus et tout c...</td>\n",
       "      <td>-1</td>\n",
       "      <td>1</td>\n",
       "      <td>26</td>\n",
       "      <td>0.000000</td>\n",
       "    </tr>\n",
       "    <tr>\n",
       "      <th>...</th>\n",
       "      <td>...</td>\n",
       "      <td>...</td>\n",
       "      <td>...</td>\n",
       "      <td>...</td>\n",
       "      <td>...</td>\n",
       "    </tr>\n",
       "    <tr>\n",
       "      <th>3977</th>\n",
       "      <td>si je loupe mon bus à cause de lui je lui fai...</td>\n",
       "      <td>-1</td>\n",
       "      <td>-1</td>\n",
       "      <td>15</td>\n",
       "      <td>0.000000</td>\n",
       "    </tr>\n",
       "    <tr>\n",
       "      <th>3978</th>\n",
       "      <td>6 je commence à paniquer je vais rater mon co...</td>\n",
       "      <td>-1</td>\n",
       "      <td>-1</td>\n",
       "      <td>24</td>\n",
       "      <td>4.000000</td>\n",
       "    </tr>\n",
       "    <tr>\n",
       "      <th>3979</th>\n",
       "      <td>fr on en parle ou c est comment sans compter ...</td>\n",
       "      <td>-1</td>\n",
       "      <td>-1</td>\n",
       "      <td>21</td>\n",
       "      <td>8.695652</td>\n",
       "    </tr>\n",
       "    <tr>\n",
       "      <th>3980</th>\n",
       "      <td>irigol3 avrillé en transat bus déviés rue sch...</td>\n",
       "      <td>-1</td>\n",
       "      <td>-1</td>\n",
       "      <td>15</td>\n",
       "      <td>25.000000</td>\n",
       "    </tr>\n",
       "    <tr>\n",
       "      <th>3981</th>\n",
       "      <td>au pire je fais deux heures de bus ou quoi po...</td>\n",
       "      <td>-1</td>\n",
       "      <td>-1</td>\n",
       "      <td>18</td>\n",
       "      <td>0.000000</td>\n",
       "    </tr>\n",
       "  </tbody>\n",
       "</table>\n",
       "<p>3982 rows × 5 columns</p>\n",
       "</div>"
      ],
      "text/plain": [
       "                                                  tweet  score  pred  \\\n",
       "0      mahleur 😂😂😂ascii012ctrlcj ai trop la flemme d...     -1     1   \n",
       "1      jamais je pourrais prendre le bus ou l interc...     -1     1   \n",
       "2      les ptites pisseuses qui courent pr me devanc...     -1     1   \n",
       "3      et la mamie qui se plaint qu il y a trop de m...     -1     1   \n",
       "4      on vient de voir mojito dans le bus et tout c...     -1     1   \n",
       "...                                                 ...    ...   ...   \n",
       "3977   si je loupe mon bus à cause de lui je lui fai...     -1    -1   \n",
       "3978   6 je commence à paniquer je vais rater mon co...     -1    -1   \n",
       "3979   fr on en parle ou c est comment sans compter ...     -1    -1   \n",
       "3980   irigol3 avrillé en transat bus déviés rue sch...     -1    -1   \n",
       "3981   au pire je fais deux heures de bus ou quoi po...     -1    -1   \n",
       "\n",
       "      nb_mots_connus  part_mots_inconnus  \n",
       "0                 26            7.142857  \n",
       "1                 21            0.000000  \n",
       "2                 27            3.571429  \n",
       "3                 31            0.000000  \n",
       "4                 26            0.000000  \n",
       "...              ...                 ...  \n",
       "3977              15            0.000000  \n",
       "3978              24            4.000000  \n",
       "3979              21            8.695652  \n",
       "3980              15           25.000000  \n",
       "3981              18            0.000000  \n",
       "\n",
       "[3982 rows x 5 columns]"
      ]
     },
     "execution_count": 47,
     "metadata": {},
     "output_type": "execute_result"
    }
   ],
   "source": [
    "df_tweets = creer_df_tweets(index = False)\n",
    "df_tweets\n",
    "#df_tweets.to_csv('df_tweets.csv', sep = ';',encoding='UTF8')"
   ]
  },
  {
   "cell_type": "code",
   "execution_count": 48,
   "metadata": {},
   "outputs": [
    {
     "data": {
      "text/html": [
       "<div>\n",
       "<style scoped>\n",
       "    .dataframe tbody tr th:only-of-type {\n",
       "        vertical-align: middle;\n",
       "    }\n",
       "\n",
       "    .dataframe tbody tr th {\n",
       "        vertical-align: top;\n",
       "    }\n",
       "\n",
       "    .dataframe thead th {\n",
       "        text-align: right;\n",
       "    }\n",
       "</style>\n",
       "<table border=\"1\" class=\"dataframe\">\n",
       "  <thead>\n",
       "    <tr style=\"text-align: right;\">\n",
       "      <th></th>\n",
       "      <th>tweet</th>\n",
       "      <th>score</th>\n",
       "      <th>pred</th>\n",
       "      <th>nb_mots_connus</th>\n",
       "      <th>part_mots_inconnus</th>\n",
       "    </tr>\n",
       "  </thead>\n",
       "  <tbody>\n",
       "    <tr>\n",
       "      <th>192</th>\n",
       "      <td>pas très cool les grèves pendant les inondati...</td>\n",
       "      <td>-1</td>\n",
       "      <td>1</td>\n",
       "      <td>24</td>\n",
       "      <td>0.000000</td>\n",
       "    </tr>\n",
       "    <tr>\n",
       "      <th>338</th>\n",
       "      <td>si le contrôleur du tgv 5450 pouvait dire aux...</td>\n",
       "      <td>1</td>\n",
       "      <td>1</td>\n",
       "      <td>28</td>\n",
       "      <td>3.448276</td>\n",
       "    </tr>\n",
       "    <tr>\n",
       "      <th>379</th>\n",
       "      <td>mais heureusement il y a personne dans mon bu...</td>\n",
       "      <td>1</td>\n",
       "      <td>1</td>\n",
       "      <td>20</td>\n",
       "      <td>4.761905</td>\n",
       "    </tr>\n",
       "    <tr>\n",
       "      <th>480</th>\n",
       "      <td>bon en fait rennes ça va être cool je peux fa...</td>\n",
       "      <td>1</td>\n",
       "      <td>1</td>\n",
       "      <td>27</td>\n",
       "      <td>0.000000</td>\n",
       "    </tr>\n",
       "    <tr>\n",
       "      <th>559</th>\n",
       "      <td>mais à part ça et les coups de soleil et les ...</td>\n",
       "      <td>1</td>\n",
       "      <td>1</td>\n",
       "      <td>15</td>\n",
       "      <td>0.000000</td>\n",
       "    </tr>\n",
       "    <tr>\n",
       "      <th>609</th>\n",
       "      <td>je loupe presque mon bus je me pète la gueule...</td>\n",
       "      <td>1</td>\n",
       "      <td>1</td>\n",
       "      <td>28</td>\n",
       "      <td>0.000000</td>\n",
       "    </tr>\n",
       "    <tr>\n",
       "      <th>623</th>\n",
       "      <td>parce qu un métro par minute c est cool mais ...</td>\n",
       "      <td>1</td>\n",
       "      <td>1</td>\n",
       "      <td>24</td>\n",
       "      <td>0.000000</td>\n",
       "    </tr>\n",
       "    <tr>\n",
       "      <th>671</th>\n",
       "      <td>vous avez assez manifesté pour vos droit main...</td>\n",
       "      <td>1</td>\n",
       "      <td>1</td>\n",
       "      <td>24</td>\n",
       "      <td>0.000000</td>\n",
       "    </tr>\n",
       "    <tr>\n",
       "      <th>750</th>\n",
       "      <td>le cfa es cool ma classe aussi le seul trucs ...</td>\n",
       "      <td>1</td>\n",
       "      <td>1</td>\n",
       "      <td>23</td>\n",
       "      <td>0.000000</td>\n",
       "    </tr>\n",
       "    <tr>\n",
       "      <th>834</th>\n",
       "      <td>des bus qui roulent au biocarburant à base de...</td>\n",
       "      <td>1</td>\n",
       "      <td>1</td>\n",
       "      <td>21</td>\n",
       "      <td>4.545455</td>\n",
       "    </tr>\n",
       "    <tr>\n",
       "      <th>855</th>\n",
       "      <td>ohh cool les quotidiennes elles sont tard cet...</td>\n",
       "      <td>1</td>\n",
       "      <td>1</td>\n",
       "      <td>18</td>\n",
       "      <td>5.263158</td>\n",
       "    </tr>\n",
       "    <tr>\n",
       "      <th>865</th>\n",
       "      <td>c était cool psq j ai travailler mon anglais ...</td>\n",
       "      <td>1</td>\n",
       "      <td>1</td>\n",
       "      <td>26</td>\n",
       "      <td>0.000000</td>\n",
       "    </tr>\n",
       "    <tr>\n",
       "      <th>982</th>\n",
       "      <td>c est cool de plus avoir de bus le soir sur p...</td>\n",
       "      <td>1</td>\n",
       "      <td>1</td>\n",
       "      <td>27</td>\n",
       "      <td>0.000000</td>\n",
       "    </tr>\n",
       "    <tr>\n",
       "      <th>997</th>\n",
       "      <td>dans le bus ce weekend était juste génial gra...</td>\n",
       "      <td>1</td>\n",
       "      <td>1</td>\n",
       "      <td>25</td>\n",
       "      <td>0.000000</td>\n",
       "    </tr>\n",
       "    <tr>\n",
       "      <th>1161</th>\n",
       "      <td>on a pris le bus on s est retrouvé loin là on...</td>\n",
       "      <td>1</td>\n",
       "      <td>1</td>\n",
       "      <td>25</td>\n",
       "      <td>0.000000</td>\n",
       "    </tr>\n",
       "    <tr>\n",
       "      <th>1209</th>\n",
       "      <td>oh pour mon anniversaire la sncf me donne 5€ ...</td>\n",
       "      <td>1</td>\n",
       "      <td>1</td>\n",
       "      <td>23</td>\n",
       "      <td>4.166667</td>\n",
       "    </tr>\n",
       "    <tr>\n",
       "      <th>1227</th>\n",
       "      <td>on entre dans l ère des bouts de chandelles a...</td>\n",
       "      <td>1</td>\n",
       "      <td>1</td>\n",
       "      <td>22</td>\n",
       "      <td>4.347826</td>\n",
       "    </tr>\n",
       "    <tr>\n",
       "      <th>1342</th>\n",
       "      <td>lehavre ce serait cool quand vous faites une ...</td>\n",
       "      <td>1</td>\n",
       "      <td>1</td>\n",
       "      <td>23</td>\n",
       "      <td>8.000000</td>\n",
       "    </tr>\n",
       "    <tr>\n",
       "      <th>1346</th>\n",
       "      <td>sncf qnd il n y a pas de rerc ce serait cool ...</td>\n",
       "      <td>1</td>\n",
       "      <td>1</td>\n",
       "      <td>35</td>\n",
       "      <td>0.000000</td>\n",
       "    </tr>\n",
       "    <tr>\n",
       "      <th>1366</th>\n",
       "      <td>c est cool demain je prends pas les bus toute...</td>\n",
       "      <td>1</td>\n",
       "      <td>1</td>\n",
       "      <td>27</td>\n",
       "      <td>0.000000</td>\n",
       "    </tr>\n",
       "    <tr>\n",
       "      <th>1387</th>\n",
       "      <td>j ai 12h de bus mais j ai une prise la wifi c...</td>\n",
       "      <td>1</td>\n",
       "      <td>1</td>\n",
       "      <td>19</td>\n",
       "      <td>0.000000</td>\n",
       "    </tr>\n",
       "    <tr>\n",
       "      <th>1402</th>\n",
       "      <td>bourges j y passe en bus quand je vais à lyon...</td>\n",
       "      <td>1</td>\n",
       "      <td>1</td>\n",
       "      <td>25</td>\n",
       "      <td>7.407407</td>\n",
       "    </tr>\n",
       "    <tr>\n",
       "      <th>1659</th>\n",
       "      <td>ça serait cool si dm1 les bus font grève</td>\n",
       "      <td>1</td>\n",
       "      <td>1</td>\n",
       "      <td>9</td>\n",
       "      <td>0.000000</td>\n",
       "    </tr>\n",
       "    <tr>\n",
       "      <th>1739</th>\n",
       "      <td>n empêche que en décembre jvais sortir du mét...</td>\n",
       "      <td>1</td>\n",
       "      <td>1</td>\n",
       "      <td>20</td>\n",
       "      <td>4.761905</td>\n",
       "    </tr>\n",
       "    <tr>\n",
       "      <th>1772</th>\n",
       "      <td>c est cool de sortir du 301 pour voir le bus ...</td>\n",
       "      <td>1</td>\n",
       "      <td>1</td>\n",
       "      <td>25</td>\n",
       "      <td>3.846154</td>\n",
       "    </tr>\n",
       "    <tr>\n",
       "      <th>1801</th>\n",
       "      <td>a la ils sont cool ils annoncent le score dan...</td>\n",
       "      <td>1</td>\n",
       "      <td>1</td>\n",
       "      <td>12</td>\n",
       "      <td>0.000000</td>\n",
       "    </tr>\n",
       "    <tr>\n",
       "      <th>1905</th>\n",
       "      <td>je ressemble actuellement à un hamster et je ...</td>\n",
       "      <td>1</td>\n",
       "      <td>1</td>\n",
       "      <td>23</td>\n",
       "      <td>0.000000</td>\n",
       "    </tr>\n",
       "    <tr>\n",
       "      <th>1916</th>\n",
       "      <td>je devais avoir une formation ce matin qui au...</td>\n",
       "      <td>1</td>\n",
       "      <td>1</td>\n",
       "      <td>28</td>\n",
       "      <td>0.000000</td>\n",
       "    </tr>\n",
       "    <tr>\n",
       "      <th>1932</th>\n",
       "      <td>cool c est gentil pour eux d habitude je vous...</td>\n",
       "      <td>1</td>\n",
       "      <td>-1</td>\n",
       "      <td>22</td>\n",
       "      <td>0.000000</td>\n",
       "    </tr>\n",
       "    <tr>\n",
       "      <th>1956</th>\n",
       "      <td>c est cool de payer un abonnement de 180euros...</td>\n",
       "      <td>1</td>\n",
       "      <td>-1</td>\n",
       "      <td>15</td>\n",
       "      <td>6.250000</td>\n",
       "    </tr>\n",
       "    <tr>\n",
       "      <th>1973</th>\n",
       "      <td>le plus cool c est qu à la rentrée y a de for...</td>\n",
       "      <td>1</td>\n",
       "      <td>-1</td>\n",
       "      <td>29</td>\n",
       "      <td>0.000000</td>\n",
       "    </tr>\n",
       "    <tr>\n",
       "      <th>1975</th>\n",
       "      <td>y a 80 de filles dans mon bus là du coup l at...</td>\n",
       "      <td>1</td>\n",
       "      <td>-1</td>\n",
       "      <td>21</td>\n",
       "      <td>0.000000</td>\n",
       "    </tr>\n",
       "    <tr>\n",
       "      <th>2057</th>\n",
       "      <td>ptain y a un mecascii012ctrlcil n a tellement...</td>\n",
       "      <td>1</td>\n",
       "      <td>-1</td>\n",
       "      <td>31</td>\n",
       "      <td>6.060606</td>\n",
       "    </tr>\n",
       "    <tr>\n",
       "      <th>2070</th>\n",
       "      <td>ce soir on va prendre un bus pour aller visit...</td>\n",
       "      <td>1</td>\n",
       "      <td>-1</td>\n",
       "      <td>23</td>\n",
       "      <td>0.000000</td>\n",
       "    </tr>\n",
       "    <tr>\n",
       "      <th>2086</th>\n",
       "      <td>s cool bus comment faire marrer les enfants d...</td>\n",
       "      <td>1</td>\n",
       "      <td>-1</td>\n",
       "      <td>17</td>\n",
       "      <td>5.555556</td>\n",
       "    </tr>\n",
       "    <tr>\n",
       "      <th>2157</th>\n",
       "      <td>les majors c est cool aller en spec pour de v...</td>\n",
       "      <td>1</td>\n",
       "      <td>-1</td>\n",
       "      <td>22</td>\n",
       "      <td>4.347826</td>\n",
       "    </tr>\n",
       "    <tr>\n",
       "      <th>2167</th>\n",
       "      <td>c est cool quand tu te fais draguer poliment ...</td>\n",
       "      <td>1</td>\n",
       "      <td>-1</td>\n",
       "      <td>21</td>\n",
       "      <td>4.545455</td>\n",
       "    </tr>\n",
       "    <tr>\n",
       "      <th>2235</th>\n",
       "      <td>donc en gros vous faîtes grève et derrière c ...</td>\n",
       "      <td>1</td>\n",
       "      <td>-1</td>\n",
       "      <td>15</td>\n",
       "      <td>6.250000</td>\n",
       "    </tr>\n",
       "    <tr>\n",
       "      <th>2319</th>\n",
       "      <td>le tour de france à limoges c est cool je dis...</td>\n",
       "      <td>1</td>\n",
       "      <td>-1</td>\n",
       "      <td>22</td>\n",
       "      <td>0.000000</td>\n",
       "    </tr>\n",
       "    <tr>\n",
       "      <th>2379</th>\n",
       "      <td>ascii012ctrlcles plus cool chauffeurs de busa...</td>\n",
       "      <td>1</td>\n",
       "      <td>-1</td>\n",
       "      <td>14</td>\n",
       "      <td>22.222222</td>\n",
       "    </tr>\n",
       "    <tr>\n",
       "      <th>2490</th>\n",
       "      <td>je suis tombé sur le contrôleur sncf le plus ...</td>\n",
       "      <td>1</td>\n",
       "      <td>-1</td>\n",
       "      <td>17</td>\n",
       "      <td>0.000000</td>\n",
       "    </tr>\n",
       "    <tr>\n",
       "      <th>2508</th>\n",
       "      <td>je paie 8 pour un bus qui fait aussi sauna tr...</td>\n",
       "      <td>1</td>\n",
       "      <td>-1</td>\n",
       "      <td>20</td>\n",
       "      <td>9.090909</td>\n",
       "    </tr>\n",
       "    <tr>\n",
       "      <th>2595</th>\n",
       "      <td>ratp bonjour ça serait cool la suge dans le w...</td>\n",
       "      <td>1</td>\n",
       "      <td>-1</td>\n",
       "      <td>20</td>\n",
       "      <td>4.761905</td>\n",
       "    </tr>\n",
       "    <tr>\n",
       "      <th>2615</th>\n",
       "      <td>trop cool y a la wifi dans mon bus pour paris...</td>\n",
       "      <td>1</td>\n",
       "      <td>-1</td>\n",
       "      <td>21</td>\n",
       "      <td>0.000000</td>\n",
       "    </tr>\n",
       "    <tr>\n",
       "      <th>2639</th>\n",
       "      <td>ok donc cool la journée commence bien pas de ...</td>\n",
       "      <td>1</td>\n",
       "      <td>-1</td>\n",
       "      <td>16</td>\n",
       "      <td>0.000000</td>\n",
       "    </tr>\n",
       "    <tr>\n",
       "      <th>2703</th>\n",
       "      <td>il est cool on s entend bien mais dès la port...</td>\n",
       "      <td>1</td>\n",
       "      <td>-1</td>\n",
       "      <td>29</td>\n",
       "      <td>3.333333</td>\n",
       "    </tr>\n",
       "    <tr>\n",
       "      <th>2760</th>\n",
       "      <td>sah capter des twittos avec qui t as sympathi...</td>\n",
       "      <td>1</td>\n",
       "      <td>-1</td>\n",
       "      <td>27</td>\n",
       "      <td>3.571429</td>\n",
       "    </tr>\n",
       "    <tr>\n",
       "      <th>2893</th>\n",
       "      <td>tous les mois pour la plupart on vous paye un...</td>\n",
       "      <td>1</td>\n",
       "      <td>-1</td>\n",
       "      <td>23</td>\n",
       "      <td>0.000000</td>\n",
       "    </tr>\n",
       "    <tr>\n",
       "      <th>2907</th>\n",
       "      <td>il y a des rer b toute la nuit à cause de la ...</td>\n",
       "      <td>1</td>\n",
       "      <td>-1</td>\n",
       "      <td>21</td>\n",
       "      <td>0.000000</td>\n",
       "    </tr>\n",
       "    <tr>\n",
       "      <th>2912</th>\n",
       "      <td>a balinghem ce qui est cool c est que les abr...</td>\n",
       "      <td>1</td>\n",
       "      <td>-1</td>\n",
       "      <td>25</td>\n",
       "      <td>3.846154</td>\n",
       "    </tr>\n",
       "    <tr>\n",
       "      <th>2955</th>\n",
       "      <td>c est fou mais après qu il se soit excusé et ...</td>\n",
       "      <td>1</td>\n",
       "      <td>-1</td>\n",
       "      <td>25</td>\n",
       "      <td>7.407407</td>\n",
       "    </tr>\n",
       "    <tr>\n",
       "      <th>2994</th>\n",
       "      <td>retour d un séjour à newyork plein de pubs da...</td>\n",
       "      <td>1</td>\n",
       "      <td>-1</td>\n",
       "      <td>17</td>\n",
       "      <td>5.555556</td>\n",
       "    </tr>\n",
       "    <tr>\n",
       "      <th>3106</th>\n",
       "      <td>fait chaudascii012ctrlcj ai envie de me mettr...</td>\n",
       "      <td>1</td>\n",
       "      <td>-1</td>\n",
       "      <td>26</td>\n",
       "      <td>10.344828</td>\n",
       "    </tr>\n",
       "    <tr>\n",
       "      <th>3111</th>\n",
       "      <td>trop hâte de rejoindre vitry en dauphin gonfl...</td>\n",
       "      <td>1</td>\n",
       "      <td>-1</td>\n",
       "      <td>21</td>\n",
       "      <td>8.695652</td>\n",
       "    </tr>\n",
       "  </tbody>\n",
       "</table>\n",
       "</div>"
      ],
      "text/plain": [
       "                                                  tweet  score  pred  \\\n",
       "192    pas très cool les grèves pendant les inondati...     -1     1   \n",
       "338    si le contrôleur du tgv 5450 pouvait dire aux...      1     1   \n",
       "379    mais heureusement il y a personne dans mon bu...      1     1   \n",
       "480    bon en fait rennes ça va être cool je peux fa...      1     1   \n",
       "559    mais à part ça et les coups de soleil et les ...      1     1   \n",
       "609    je loupe presque mon bus je me pète la gueule...      1     1   \n",
       "623    parce qu un métro par minute c est cool mais ...      1     1   \n",
       "671    vous avez assez manifesté pour vos droit main...      1     1   \n",
       "750    le cfa es cool ma classe aussi le seul trucs ...      1     1   \n",
       "834    des bus qui roulent au biocarburant à base de...      1     1   \n",
       "855    ohh cool les quotidiennes elles sont tard cet...      1     1   \n",
       "865    c était cool psq j ai travailler mon anglais ...      1     1   \n",
       "982    c est cool de plus avoir de bus le soir sur p...      1     1   \n",
       "997    dans le bus ce weekend était juste génial gra...      1     1   \n",
       "1161   on a pris le bus on s est retrouvé loin là on...      1     1   \n",
       "1209   oh pour mon anniversaire la sncf me donne 5€ ...      1     1   \n",
       "1227   on entre dans l ère des bouts de chandelles a...      1     1   \n",
       "1342   lehavre ce serait cool quand vous faites une ...      1     1   \n",
       "1346   sncf qnd il n y a pas de rerc ce serait cool ...      1     1   \n",
       "1366   c est cool demain je prends pas les bus toute...      1     1   \n",
       "1387   j ai 12h de bus mais j ai une prise la wifi c...      1     1   \n",
       "1402   bourges j y passe en bus quand je vais à lyon...      1     1   \n",
       "1659           ça serait cool si dm1 les bus font grève      1     1   \n",
       "1739   n empêche que en décembre jvais sortir du mét...      1     1   \n",
       "1772   c est cool de sortir du 301 pour voir le bus ...      1     1   \n",
       "1801   a la ils sont cool ils annoncent le score dan...      1     1   \n",
       "1905   je ressemble actuellement à un hamster et je ...      1     1   \n",
       "1916   je devais avoir une formation ce matin qui au...      1     1   \n",
       "1932   cool c est gentil pour eux d habitude je vous...      1    -1   \n",
       "1956   c est cool de payer un abonnement de 180euros...      1    -1   \n",
       "1973   le plus cool c est qu à la rentrée y a de for...      1    -1   \n",
       "1975   y a 80 de filles dans mon bus là du coup l at...      1    -1   \n",
       "2057   ptain y a un mecascii012ctrlcil n a tellement...      1    -1   \n",
       "2070   ce soir on va prendre un bus pour aller visit...      1    -1   \n",
       "2086   s cool bus comment faire marrer les enfants d...      1    -1   \n",
       "2157   les majors c est cool aller en spec pour de v...      1    -1   \n",
       "2167   c est cool quand tu te fais draguer poliment ...      1    -1   \n",
       "2235   donc en gros vous faîtes grève et derrière c ...      1    -1   \n",
       "2319   le tour de france à limoges c est cool je dis...      1    -1   \n",
       "2379   ascii012ctrlcles plus cool chauffeurs de busa...      1    -1   \n",
       "2490   je suis tombé sur le contrôleur sncf le plus ...      1    -1   \n",
       "2508   je paie 8 pour un bus qui fait aussi sauna tr...      1    -1   \n",
       "2595   ratp bonjour ça serait cool la suge dans le w...      1    -1   \n",
       "2615   trop cool y a la wifi dans mon bus pour paris...      1    -1   \n",
       "2639   ok donc cool la journée commence bien pas de ...      1    -1   \n",
       "2703   il est cool on s entend bien mais dès la port...      1    -1   \n",
       "2760   sah capter des twittos avec qui t as sympathi...      1    -1   \n",
       "2893   tous les mois pour la plupart on vous paye un...      1    -1   \n",
       "2907   il y a des rer b toute la nuit à cause de la ...      1    -1   \n",
       "2912   a balinghem ce qui est cool c est que les abr...      1    -1   \n",
       "2955   c est fou mais après qu il se soit excusé et ...      1    -1   \n",
       "2994   retour d un séjour à newyork plein de pubs da...      1    -1   \n",
       "3106   fait chaudascii012ctrlcj ai envie de me mettr...      1    -1   \n",
       "3111   trop hâte de rejoindre vitry en dauphin gonfl...      1    -1   \n",
       "\n",
       "      nb_mots_connus  part_mots_inconnus  \n",
       "192               24            0.000000  \n",
       "338               28            3.448276  \n",
       "379               20            4.761905  \n",
       "480               27            0.000000  \n",
       "559               15            0.000000  \n",
       "609               28            0.000000  \n",
       "623               24            0.000000  \n",
       "671               24            0.000000  \n",
       "750               23            0.000000  \n",
       "834               21            4.545455  \n",
       "855               18            5.263158  \n",
       "865               26            0.000000  \n",
       "982               27            0.000000  \n",
       "997               25            0.000000  \n",
       "1161              25            0.000000  \n",
       "1209              23            4.166667  \n",
       "1227              22            4.347826  \n",
       "1342              23            8.000000  \n",
       "1346              35            0.000000  \n",
       "1366              27            0.000000  \n",
       "1387              19            0.000000  \n",
       "1402              25            7.407407  \n",
       "1659               9            0.000000  \n",
       "1739              20            4.761905  \n",
       "1772              25            3.846154  \n",
       "1801              12            0.000000  \n",
       "1905              23            0.000000  \n",
       "1916              28            0.000000  \n",
       "1932              22            0.000000  \n",
       "1956              15            6.250000  \n",
       "1973              29            0.000000  \n",
       "1975              21            0.000000  \n",
       "2057              31            6.060606  \n",
       "2070              23            0.000000  \n",
       "2086              17            5.555556  \n",
       "2157              22            4.347826  \n",
       "2167              21            4.545455  \n",
       "2235              15            6.250000  \n",
       "2319              22            0.000000  \n",
       "2379              14           22.222222  \n",
       "2490              17            0.000000  \n",
       "2508              20            9.090909  \n",
       "2595              20            4.761905  \n",
       "2615              21            0.000000  \n",
       "2639              16            0.000000  \n",
       "2703              29            3.333333  \n",
       "2760              27            3.571429  \n",
       "2893              23            0.000000  \n",
       "2907              21            0.000000  \n",
       "2912              25            3.846154  \n",
       "2955              25            7.407407  \n",
       "2994              17            5.555556  \n",
       "3106              26           10.344828  \n",
       "3111              21            8.695652  "
      ]
     },
     "execution_count": 48,
     "metadata": {},
     "output_type": "execute_result"
    }
   ],
   "source": [
    "# restriction s'applique que sur df_tweets avec indice = False\n",
    "df_tweets.iloc[restriction(\"cool\")]#.to_csv(\"focus_cool.csv\",sep = \";\", encoding ='UTF8')"
   ]
  },
  {
   "cell_type": "code",
   "execution_count": 49,
   "metadata": {},
   "outputs": [
    {
     "data": {
      "image/png": "[encoded data removed]",
      "text/plain": [
       "<Figure size 432x288 with 1 Axes>"
      ]
     },
     "metadata": {
      "needs_background": "light"
     },
     "output_type": "display_data"
    }
   ],
   "source": [
    "box_plot(df=df_tweets,indicateur=\"part_mots_inconnus\")"
   ]
  },
  {
   "cell_type": "code",
   "execution_count": 50,
   "metadata": {
    "scrolled": true
   },
   "outputs": [
    {
     "data": {
      "image/png": "[encoded data removed]",
      "text/plain": [
       "<Figure size 432x288 with 1 Axes>"
      ]
     },
     "metadata": {
      "needs_background": "light"
     },
     "output_type": "display_data"
    }
   ],
   "source": [
    "box_plot(df=df_tweets,indicateur=\"nb_mots_connus\")"
   ]
  },
  {
   "cell_type": "code",
   "execution_count": 206,
   "metadata": {},
   "outputs": [
    {
     "name": "stdout",
     "output_type": "stream",
     "text": [
      "Part des phrases contenant au moins 1 mot inconnu à word2vec parmi les faux négatifs 52.0\n",
      "Part des phrases contenant au moins 1 mot inconnu à word2vec parmi les faux positifs 43.0\n",
      "Part des phrases contenant au moins 1 mot inconnu à word2vec parmi toutes les phrases 48.0\n"
     ]
    }
   ],
   "source": [
    "# pourcentage des mots qui sont dans pas dans word2vec\n",
    "phrases_tot_pourcent = [[phrase,val1/val2] for [phrase,val1,val2] in phrases_tot_compt if val2>0]\n",
    "phrases_pos_faux_pourcent = [[phrase,val1/val2] for [phrase,val1,val2] in phrases_pos_faux_compt if val2>0]\n",
    "phrases_neg_faux_pourcent = [[phrase,val1/val2] for [phrase,val1,val2] in phrases_neg_faux_compt if val2>0]\n",
    "val_tot_pourcent = [val for [phrase,val] in phrases_tot_pourcent]\n",
    "val_pos_faux_pourcent = [val for [phrase,val] in phrases_pos_faux_pourcent]\n",
    "val_neg_faux_pourcent = [val for [phrase,val] in phrases_neg_faux_pourcent]\n",
    "\n",
    "df_pos = pd.DataFrame(val_pos_faux_pourcent,columns=[\"val\"])\n",
    "print(\"Part des phrases contenant au moins 1 mot inconnu à word2vec parmi les faux négatifs\",\n",
    "      round(100 - 100 * df_pos[df_pos[\"val\"]>0].shape[0] / df_pos.shape[0],0))\n",
    "\n",
    "df_neg = pd.DataFrame(val_neg_faux_pourcent,columns=[\"val\"])\n",
    "print(\"Part des phrases contenant au moins 1 mot inconnu à word2vec parmi les faux positifs\",\n",
    "      round(100 - 100 * df_neg[df_neg[\"val\"]>0].shape[0] / df_neg.shape[0],0))\n",
    "\n",
    "df_tot = pd.DataFrame(val_tot_pourcent,columns=[\"val\"])\n",
    "print(\"Part des phrases contenant au moins 1 mot inconnu à word2vec parmi toutes les phrases\",\n",
    "      round(100 - 100 * df_tot[df_tot[\"val\"]>0].shape[0] / df_tot.shape[0],0))"
   ]
  },
  {
   "cell_type": "markdown",
   "metadata": {},
   "source": [
    "### Mots de la base test inconnus dans word2vec"
   ]
  },
  {
   "cell_type": "code",
   "execution_count": 53,
   "metadata": {},
   "outputs": [],
   "source": [
    "with open('data/%s/vocabulary.file' %nom_dossier, \"rb\") as f:\n",
    "    vocabulaire_word2vec = pickle.load(f) \n",
    "fdist_word2vec = nltk.FreqDist(vocabulaire_word2vec)\n",
    "\n",
    "phrases_test = [tweet.split() for (score, tweet) in corpus_test]\n",
    "mots_test = [item for sublist in phrases_test for item in sublist]\n",
    "vocabulaire_test = list(dict.fromkeys(mots_test))\n",
    "fdist_test = nltk.FreqDist(mots_test)\n"
   ]
  },
  {
   "cell_type": "code",
   "execution_count": 91,
   "metadata": {},
   "outputs": [],
   "source": [
    "temp = [w for w, index in fdist_word2vec.items()]\n",
    "vocabulaire_test_word2vec = [[w,index] for w, index in fdist_test.items() if w in temp ]"
   ]
  },
  {
   "cell_type": "code",
   "execution_count": 92,
   "metadata": {},
   "outputs": [
    {
     "name": "stdout",
     "output_type": "stream",
     "text": [
      "30.477491543065312\n"
     ]
    }
   ],
   "source": [
    "# Part des mots du voc non en commun\n",
    "print(100 - 100*(len(vocabulaire_test_word2vec)/len(vocabulaire_test)))"
   ]
  },
  {
   "cell_type": "code",
   "execution_count": 93,
   "metadata": {},
   "outputs": [
    {
     "name": "stdout",
     "output_type": "stream",
     "text": [
      "4.036601057999334\n"
     ]
    }
   ],
   "source": [
    "# Part des mots du corpus non en commun\n",
    "print(100 - 100*(sum([index for w, index in vocabulaire_test_word2vec])/sum([index for w, index in fdist_test.items()])))"
   ]
  },
  {
   "cell_type": "markdown",
   "metadata": {},
   "source": [
    "# Sélection du meilleur modèle"
   ]
  },
  {
   "cell_type": "code",
   "execution_count": 23,
   "metadata": {},
   "outputs": [],
   "source": [
    "def calculate_aic(n, mse, num_params = 100):\n",
    "    aic = n * log(mse) + 2 * num_params\n",
    "    return aic\n",
    "\n",
    "def calculate_bic(n, mse, num_params = 100):\n",
    "    bic = n * log(mse) + num_params * log(n)\n",
    "    return bic"
   ]
  },
  {
   "cell_type": "code",
   "execution_count": 24,
   "metadata": {},
   "outputs": [],
   "source": [
    "import random\n",
    "from random import sample\n",
    "from sklearn.metrics import mean_squared_error\n",
    "from math import log\n",
    "\n",
    "def selection_regression():\n",
    "    for git_string in [True,False]:\n",
    "        print(\"Données GIT : \", git_string)\n",
    "        for logit_bool in [True,False]:\n",
    "            print(\"Logit ? : \", logit_bool)\n",
    "            for rm_stopwords_string in [\"rmsw\",\"nrmsw\"]:\n",
    "                print(\"Stopwords ? : \", rm_stopwords_string)\n",
    "                for lowfrequency_zero_string in [\"z\",\"lf\"]:\n",
    "                    print(\"Lowfrequency : \", lowfrequency_zero_string)\n",
    "                    if git_string:\n",
    "                        with open(\"data/sentimental_analysis/phrasesEmbTest_{}_{}.file\".format(rm_stopwords_string,\n",
    "                                                                                                  lowfrequency_zero_string\n",
    "                                                                                              ), \"rb\") as f:\n",
    "                            phrases_test_emb = pickle.load(f)\n",
    "                        with open(\"data/sentimental_analysis/phrasesEmbTrain_{}_{}.file\".format(rm_stopwords_string,\n",
    "                                                                                                  lowfrequency_zero_string\n",
    "                                                                                              ), \"rb\") as f:\n",
    "                            phrases_train_emb = pickle.load(f)\n",
    "                    else:\n",
    "                        with open(\"data/sentimental_analysis/phrasesEmbTest_{}_{}_sncf.file\".format(rm_stopwords_string,\n",
    "                                                                                                  lowfrequency_zero_string\n",
    "                                                                                              ), \"rb\") as f:\n",
    "                            phrases_test_emb = pickle.load(f)\n",
    "                        with open(\"data/sentimental_analysis/phrasesEmbTrain_{}_{}_sncf.file\".format(rm_stopwords_string,\n",
    "                                                                                                  lowfrequency_zero_string\n",
    "                                                                                              ), \"rb\") as f:\n",
    "                            phrases_train_emb = pickle.load(f)\n",
    "                    phrases_train_emb = [[score,phrase] for (score,phrase) in phrases_train_emb if phrase != 'NaN']\n",
    "                    Y_train = [score for (score, embedding) in phrases_train_emb]\n",
    "                    X_train = [embedding for (score, embedding) in phrases_train_emb]\n",
    "                    reg_log = regression_logistique(X_train,Y_train,logit=logit_bool)\n",
    "                    if logit_bool:\n",
    "                            Y0 = reg_log.predict(X_train)\n",
    "                    else:\n",
    "                            Y_train_pred = reg_log.predict(X_train)\n",
    "                            Y0 = [1 if (val >= 0.5) else -1 for val in Y_train_pred]\n",
    "                    n = len(phrases_train_emb)\n",
    "                    mse = mean_squared_error(Y_train, Y0)\n",
    "                    print(\"AIC : \", calculate_aic(n, mse), \" - BIC : \", calculate_bic(n, mse))\n",
    "                    phrases_test_emb = [[score,phrase] for (score,phrase) in phrases_test_emb if phrase != 'NaN']\n",
    "                    random.seed(1)\n",
    "                    for i in range(5):\n",
    "                        phrases_test_emb_1 = sample(phrases_test_emb,round(0.8*len(phrases_test_emb)))\n",
    "                        Y_test = [score for (score, embedding) in phrases_test_emb_1]\n",
    "                        X_test = [embedding for (score, embedding) in phrases_test_emb_1]\n",
    "                        if logit_bool:\n",
    "                            Y_test_pred = reg_log.predict_proba(X_test)\n",
    "                            Y1 = reg_log.predict(X_test)\n",
    "                        else:\n",
    "                            Y_test_pred = reg_log.predict(X_test)\n",
    "                            Y1 = [1 if (val >= 0.5) else -1 for val in Y_test_pred]\n",
    "                        print(\"Test \", i,\" : \",calcul_AUC(Y_test,Y_test_pred,logit_bool))"
   ]
  },
  {
   "cell_type": "code",
   "execution_count": 25,
   "metadata": {},
   "outputs": [
    {
     "name": "stdout",
     "output_type": "stream",
     "text": [
      "Données GIT :  True\n",
      "Logit ? :  True\n",
      "Stopwords ? :  rmsw\n",
      "Lowfrequency :  z\n",
      "AIC :  12856.279453439765  - BIC :  13737.223961466814\n",
      "Test  0  :  0.7315647938505668\n",
      "Test  1  :  0.7286790567626477\n",
      "Test  2  :  0.7348735609215259\n",
      "Test  3  :  0.7406654693069818\n",
      "Test  4  :  0.7228329754360237\n",
      "Lowfrequency :  lf\n",
      "AIC :  13102.363366104511  - BIC :  13984.34119454554\n",
      "Test  0  :  0.738426714974151\n",
      "Test  1  :  0.7371667783858296\n",
      "Test  2  :  0.7335052066420548\n",
      "Test  3  :  0.7316336068700485\n",
      "Test  4  :  0.729781364232016\n",
      "Stopwords ? :  nrmsw\n",
      "Lowfrequency :  z\n",
      "AIC :  10498.827769210402  - BIC :  11380.006412658475\n",
      "Test  0  :  0.7430967067853483\n",
      "Test  1  :  0.7497856107221161\n",
      "Test  2  :  0.7511024820010319\n",
      "Test  3  :  0.7434914022450453\n",
      "Test  4  :  0.7530581537504432\n",
      "Lowfrequency :  lf\n",
      "AIC :  10651.419981125931  - BIC :  11533.397809566959\n",
      "Test  0  :  0.7547773850671078\n",
      "Test  1  :  0.7548189972229808\n",
      "Test  2  :  0.7505771364887402\n",
      "Test  3  :  0.7466513951633497\n",
      "Test  4  :  0.7479022198575271\n",
      "Logit ? :  False\n",
      "Stopwords ? :  rmsw\n",
      "Lowfrequency :  z\n",
      "Optimization terminated successfully.\n",
      "         Current function value: 0.603809\n",
      "         Iterations 5\n",
      "AIC :  13063.3664799891  - BIC :  13944.310988016148\n",
      "Test  0  :  0.7307719424054662\n",
      "Test  1  :  0.728364805466361\n",
      "Test  2  :  0.7345008992226076\n",
      "Test  3  :  0.7400164294508583\n",
      "Test  4  :  0.7226609429956206\n",
      "Lowfrequency :  lf\n",
      "Optimization terminated successfully.\n",
      "         Current function value: 0.601140\n",
      "         Iterations 5\n",
      "AIC :  13052.89514539859  - BIC :  13934.872973839618\n",
      "Test  0  :  0.7380771766445344\n",
      "Test  1  :  0.7367029566762149\n",
      "Test  2  :  0.733180481161193\n",
      "Test  3  :  0.7310531426247545\n",
      "Test  4  :  0.7293860660341107\n",
      "Stopwords ? :  nrmsw\n",
      "Lowfrequency :  z\n",
      "Optimization terminated successfully.\n",
      "         Current function value: 0.591127\n",
      "         Iterations 6\n",
      "AIC :  11080.410773743899  - BIC :  11961.589417191972\n",
      "Test  0  :  0.7390291145090317\n",
      "Test  1  :  0.7448267284557865\n",
      "Test  2  :  0.7456175988838148\n",
      "Test  3  :  0.7392049829523808\n",
      "Test  4  :  0.747699401912818\n",
      "Lowfrequency :  lf\n",
      "Optimization terminated successfully.\n",
      "         Current function value: 0.588055\n",
      "         Iterations 6\n",
      "AIC :  10884.550827000598  - BIC :  11766.528655441625\n",
      "Test  0  :  0.7515570612456568\n",
      "Test  1  :  0.7512932429018924\n",
      "Test  2  :  0.7473019016933016\n",
      "Test  3  :  0.7430397489935467\n",
      "Test  4  :  0.7444820825081533\n",
      "Données GIT :  False\n",
      "Logit ? :  True\n",
      "Stopwords ? :  rmsw\n",
      "Lowfrequency :  z\n",
      "AIC :  2855.0613760662677  - BIC :  3623.1207730639803\n",
      "Test  0  :  0.7645600327776422\n",
      "Test  1  :  0.7694145242170656\n",
      "Test  2  :  0.7682827788649707\n",
      "Test  3  :  0.762006517796848\n",
      "Test  4  :  0.7687422792082979\n",
      "Lowfrequency :  lf\n",
      "AIC :  2979.9482272451637  - BIC :  3748.0076242428763\n",
      "Test  0  :  0.7648242323462844\n",
      "Test  1  :  0.7697354889219596\n",
      "Test  2  :  0.7686768862796259\n",
      "Test  3  :  0.7627639284982619\n",
      "Test  4  :  0.7692073449666386\n",
      "Stopwords ? :  nrmsw\n",
      "Lowfrequency :  z\n",
      "AIC :  3050.398817900968  - BIC :  3818.4582148986806\n",
      "Test  0  :  0.7570061597059823\n",
      "Test  1  :  0.7626550972552963\n",
      "Test  2  :  0.761033105022831\n",
      "Test  3  :  0.7550810199110944\n",
      "Test  4  :  0.7622762202402438\n",
      "Lowfrequency :  lf\n",
      "AIC :  3067.127156415783  - BIC :  3835.1865534134954\n",
      "Test  0  :  0.7562964043923892\n",
      "Test  1  :  0.7618148249804342\n",
      "Test  2  :  0.760450369645575\n",
      "Test  3  :  0.7547798170507647\n",
      "Test  4  :  0.7618591428515886\n",
      "Logit ? :  False\n",
      "Stopwords ? :  rmsw\n",
      "Lowfrequency :  z\n",
      "Optimization terminated successfully.\n",
      "         Current function value: 0.576595\n",
      "         Iterations 5\n",
      "AIC :  3319.2683584854135  - BIC :  4087.327755483126\n",
      "Test  0  :  0.7556675848930168\n",
      "Test  1  :  0.7593776139557247\n",
      "Test  2  :  0.7587695694716243\n",
      "Test  3  :  0.7524161265881236\n",
      "Test  4  :  0.7589189375837163\n",
      "Lowfrequency :  lf\n",
      "Optimization terminated successfully.\n",
      "         Current function value: 0.575678\n",
      "         Iterations 5\n",
      "AIC :  3220.2129566416834  - BIC :  3988.272353639396\n",
      "Test  0  :  0.7565152308530594\n",
      "Test  1  :  0.7599952093196949\n",
      "Test  2  :  0.7593778538812785\n",
      "Test  3  :  0.7537522315839449\n",
      "Test  4  :  0.7600504027420527\n",
      "Stopwords ? :  nrmsw\n",
      "Lowfrequency :  z\n",
      "Optimization terminated successfully.\n",
      "         Current function value: 0.578657\n",
      "         Iterations 5\n",
      "AIC :  3466.711309431624  - BIC :  4234.770706429337\n",
      "Test  0  :  0.7482114070718553\n",
      "Test  1  :  0.7517622811142383\n",
      "Test  2  :  0.7513437703848664\n",
      "Test  3  :  0.7438678186896983\n",
      "Test  4  :  0.7515609474725832\n",
      "Lowfrequency :  lf\n",
      "Optimization terminated successfully.\n",
      "         Current function value: 0.578329\n",
      "         Iterations 5\n",
      "AIC :  3339.006079383924  - BIC :  4107.0654763816365\n",
      "Test  0  :  0.7490740411456424\n",
      "Test  1  :  0.752418892518151\n",
      "Test  2  :  0.7522131169819526\n",
      "Test  3  :  0.7450456668520222\n",
      "Test  4  :  0.7527815921507883\n"
     ]
    }
   ],
   "source": [
    "import warnings\n",
    "warnings.simplefilter(action='ignore', category=FutureWarning)\n",
    "selection_regression()"
   ]
  },
  {
   "cell_type": "code",
   "execution_count": 26,
   "metadata": {},
   "outputs": [],
   "source": [
    "def selection_regression_croisee():#Changement par rapport au précédent = bases de test, on teste les modèles GIT sur\n",
    "    # données SNCF et modèles SNCF sur données GIT\n",
    "    for git_string in [True,False]:\n",
    "        print(\"Données GIT : \", git_string)\n",
    "        for logit_bool in [True,False]:\n",
    "            print(\"Logit ? : \", logit_bool)\n",
    "            for rm_stopwords_string in [\"rmsw\",\"nrmsw\"]:\n",
    "                print(\"Stopwords ? : \", rm_stopwords_string)\n",
    "                for lowfrequency_zero_string in [\"z\",\"lf\"]:\n",
    "                    print(\"Lowfrequency : \", lowfrequency_zero_string)\n",
    "                    if git_string:# Changement ici dans le chargement des bases tests\n",
    "                        with open(\"data/sentimental_analysis/phrasesEmbTest_{}_{}_sncf.file\".format(rm_stopwords_string,\n",
    "                                                                                                  lowfrequency_zero_string\n",
    "                                                                                              ), \"rb\") as f:\n",
    "                            phrases_test_emb = pickle.load(f)\n",
    "                        with open(\"data/sentimental_analysis/phrasesEmbTrain_{}_{}.file\".format(rm_stopwords_string,\n",
    "                                                                                                  lowfrequency_zero_string\n",
    "                                                                                              ), \"rb\") as f:\n",
    "                            phrases_train_emb = pickle.load(f)\n",
    "                    else:\n",
    "                        with open(\"data/sentimental_analysis/phrasesEmbTest_{}_{}.file\".format(rm_stopwords_string,\n",
    "                                                                                                  lowfrequency_zero_string\n",
    "                                                                                              ), \"rb\") as f:\n",
    "                            phrases_test_emb = pickle.load(f)\n",
    "                        with open(\"data/sentimental_analysis/phrasesEmbTrain_{}_{}_sncf.file\".format(rm_stopwords_string,\n",
    "                                                                                                  lowfrequency_zero_string\n",
    "                                                                                              ), \"rb\") as f:\n",
    "                            phrases_train_emb = pickle.load(f)\n",
    "                    phrases_train_emb = [[score,phrase] for (score,phrase) in phrases_train_emb if phrase != 'NaN']\n",
    "                    Y_train = [score for (score, embedding) in phrases_train_emb]\n",
    "                    X_train = [embedding for (score, embedding) in phrases_train_emb]\n",
    "                    reg_log = regression_logistique(X_train,Y_train,logit=logit_bool)\n",
    "                    if logit_bool:\n",
    "                            Y0 = reg_log.predict(X_train)\n",
    "                    else:\n",
    "                            Y_train_pred = reg_log.predict(X_train)\n",
    "                            Y0 = [1 if (val >= 0.5) else -1 for val in Y_train_pred]\n",
    "                    n = len(phrases_train_emb)\n",
    "                    mse = mean_squared_error(Y_train, Y0)\n",
    "                    print(\"AIC : \", calculate_aic(n, mse), \" - BIC : \", calculate_bic(n, mse))\n",
    "                    phrases_test_emb = [[score,phrase] for (score,phrase) in phrases_test_emb if phrase != 'NaN']\n",
    "                    random.seed(1)\n",
    "                    for i in range(5):\n",
    "                        phrases_test_emb_1 = sample(phrases_test_emb,round(0.8*len(phrases_test_emb)))\n",
    "                        Y_test = [score for (score, embedding) in phrases_test_emb_1]\n",
    "                        X_test = [embedding for (score, embedding) in phrases_test_emb_1]\n",
    "                        if logit_bool:\n",
    "                            Y_test_pred = reg_log.predict_proba(X_test)\n",
    "                            Y1 = reg_log.predict(X_test)\n",
    "                        else:\n",
    "                            Y_test_pred = reg_log.predict(X_test)\n",
    "                            Y1 = [1 if (val >= 0.5) else -1 for val in Y_test_pred]\n",
    "                        print(\"Test \", i,\" : \",calcul_AUC(Y_test,Y_test_pred,logit_bool))"
   ]
  },
  {
   "cell_type": "code",
   "execution_count": null,
   "metadata": {},
   "outputs": [
    {
     "name": "stdout",
     "output_type": "stream",
     "text": [
      "Données GIT :  True\n",
      "Logit ? :  True\n",
      "Stopwords ? :  rmsw\n",
      "Lowfrequency :  z\n",
      "AIC :  12856.279453439765  - BIC :  13737.223961466814\n",
      "Test  0  :  0.6774684639867647\n",
      "Test  1  :  0.6892085575905977\n",
      "Test  2  :  0.6839088660578386\n",
      "Test  3  :  0.6794753081401461\n",
      "Test  4  :  0.6805471326677224\n",
      "Lowfrequency :  lf\n",
      "AIC :  13102.363366104511  - BIC :  13984.34119454554\n",
      "Test  0  :  0.6748411839029294\n",
      "Test  1  :  0.6857030955489224\n",
      "Test  2  :  0.6794611600347902\n",
      "Test  3  :  0.6768759938474945\n",
      "Test  4  :  0.6778293324219622\n",
      "Stopwords ? :  nrmsw\n",
      "Lowfrequency :  z\n",
      "AIC :  10498.827769210402  - BIC :  11380.006412658475\n",
      "Test  0  :  0.669531712736722\n",
      "Test  1  :  0.6756839940026772\n",
      "Test  2  :  0.6717689986953685\n",
      "Test  3  :  0.6690692438683606\n",
      "Test  4  :  0.6712388843370176\n",
      "Lowfrequency :  lf\n",
      "AIC :  10651.419981125931  - BIC :  11533.397809566959\n",
      "Test  0  :  0.6677892763861315\n",
      "Test  1  :  0.6739830577944463\n",
      "Test  2  :  0.6689157969123722\n",
      "Test  3  :  0.6679926096226658\n",
      "Test  4  :  0.6699510831301304\n",
      "Logit ? :  False\n",
      "Stopwords ? :  rmsw\n",
      "Lowfrequency :  z\n",
      "Optimization terminated successfully.\n",
      "         Current function value: 0.603809\n",
      "         Iterations 5\n",
      "AIC :  13063.3664799891  - BIC :  13944.310988016148\n",
      "Test  0  :  0.6716138342469952\n",
      "Test  1  :  0.6834026445805973\n",
      "Test  2  :  0.6778684224831486\n",
      "Test  3  :  0.6736357935767237\n",
      "Test  4  :  0.6744005430162716\n",
      "Lowfrequency :  lf\n",
      "Optimization terminated successfully.\n",
      "         Current function value: 0.601140\n",
      "         Iterations 5\n",
      "AIC :  13052.89514539859  - BIC :  13934.872973839618\n",
      "Test  0  :  0.6704115150135254\n",
      "Test  1  :  0.6811591543117007\n",
      "Test  2  :  0.6746302185257664\n",
      "Test  3  :  0.6721795055232718\n",
      "Test  4  :  0.6730449055587525\n",
      "Stopwords ? :  nrmsw\n",
      "Lowfrequency :  z\n",
      "Optimization terminated successfully.\n",
      "         Current function value: 0.591127\n",
      "         Iterations 6\n",
      "AIC :  11080.410773743899  - BIC :  11961.589417191972\n",
      "Test  0  :  0.6551815476153979\n",
      "Test  1  :  0.6610820711236578\n",
      "Test  2  :  0.6562974287888672\n",
      "Test  3  :  0.6537772708500669\n",
      "Test  4  :  0.65546933509191\n",
      "Lowfrequency :  lf\n",
      "Optimization terminated successfully.\n",
      "         Current function value: 0.588055\n",
      "         Iterations 6\n",
      "AIC :  10884.550827000598  - BIC :  11766.528655441625\n",
      "Test  0  :  0.6550516960481386\n",
      "Test  1  :  0.6608515094381432\n",
      "Test  2  :  0.6553734507501631\n",
      "Test  3  :  0.6541551632375879\n",
      "Test  4  :  0.6558081085118996\n",
      "Données GIT :  False\n",
      "Logit ? :  True\n",
      "Stopwords ? :  rmsw\n",
      "Lowfrequency :  z\n",
      "AIC :  2855.0613760662677  - BIC :  3623.1207730639803\n",
      "Test  0  :  0.672018346775818\n",
      "Test  1  :  0.6664162056976177\n",
      "Test  2  :  0.6764164367578998\n",
      "Test  3  :  0.6778343018571162\n",
      "Test  4  :  0.66371706908291\n",
      "Lowfrequency :  lf\n"
     ]
    }
   ],
   "source": [
    "selection_regression_croisee()"
   ]
  },
  {
   "cell_type": "code",
   "execution_count": null,
   "metadata": {},
   "outputs": [],
   "source": []
  }
 ],
 "metadata": {
  "kernelspec": {
   "display_name": "Python 3",
   "language": "python",
   "name": "python3"
  },
  "language_info": {
   "codemirror_mode": {
    "name": "ipython",
    "version": 3
   },
   "file_extension": ".py",
   "mimetype": "text/x-python",
   "name": "python",
   "nbconvert_exporter": "python",
   "pygments_lexer": "ipython3",
   "version": "3.6.5"
  }
 },
 "nbformat": 4,
 "nbformat_minor": 4
}
