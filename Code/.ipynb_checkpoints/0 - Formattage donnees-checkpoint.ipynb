{
 "cells": [
  {
   "cell_type": "markdown",
   "metadata": {},
   "source": [
    "# Importation des données"
   ]
  },
  {
   "cell_type": "code",
   "execution_count": 7,
   "metadata": {
    "scrolled": true
   },
   "outputs": [
    {
     "name": "stdout",
     "output_type": "stream",
     "text": [
      "!\"#$%&'()*+,-./:;<=>?@[\\]^_`{|}~'’\n",
      "formattage terminé\n",
      "export csv terminé\n"
     ]
    }
   ],
   "source": [
    "import os\n",
    "import string\n",
    "import re\n",
    "import pandas as pd\n",
    "import csv\n",
    "import pickle\n",
    "\n",
    "\n",
    "os.chdir('/Users/alainquartierlatente/Desktop/Ensae/StatApp')\n",
    "\n",
    "df = pd.read_csv(\"data/sample_3.txt\",sep='\\n',header=None)\n",
    "print(string.punctuation + \"'’«»—\")\n",
    "def mise_en_forme_phrase (phrase):\n",
    "    phrase = phrase.lower()\n",
    "    # On enlève la ponctuation mais ça peut se discuter (garder les @ et #?)\n",
    "    phrase = re.sub('( @[^ ]*)|(^@[^ ]*)',\" nickname \", phrase) #Remplace @... par nickname\n",
    "    # On enlève la ponctuation + certaines apostrophes\n",
    "    phrase = phrase.translate(str.maketrans('', '', string.punctuation + \"'’«»—\"))\n",
    "    # On enlève les passages à la ligne\n",
    "    phrase = re.sub('\\\\n', ' ', phrase)\n",
    "    # On enlève les tabulations\n",
    "    phrase = re.sub('\\\\t', ' ', phrase)\n",
    "    # On enlève les espaces multiples et les espaces à la fin des phrases\n",
    "    phrase = re.sub(' +', ' ', phrase)\n",
    "    phrase = re.sub(' +$', '', phrase)\n",
    "    phrase = re.sub('^ +', '', phrase)\n",
    "    phrase.isalpha()\n",
    "    return(phrase)\n",
    "\n",
    "corpus = []\n",
    "for index, row in df.iterrows():\n",
    "    for j, column in row.iteritems():\n",
    "        corpus.append(mise_en_forme_phrase(column))\n",
    "print(\"formattage terminé\")\n",
    "\n",
    "with open(\"data/sample_formate.txt\", \"w\") as output:\n",
    "    writer = csv.writer(output, lineterminator='\\n')\n",
    "    for phrase in corpus:\n",
    "        writer.writerow([phrase]) \n",
    "print(\"export csv terminé\")\n",
    "\n",
    "with open(\"data/corpus.file\", \"wb\") as f:\n",
    "    pickle.dump(corpus, f, pickle.HIGHEST_PROTOCOL)"
   ]
  },
  {
   "cell_type": "code",
   "execution_count": 13,
   "metadata": {},
   "outputs": [
    {
     "name": "stdout",
     "output_type": "stream",
     "text": [
      "Nombre de mots : 31394494\n",
      "Taille du vocabulaire : 634691\n"
     ]
    }
   ],
   "source": [
    "phrases = [phrase.split() for phrase in corpus]\n",
    "words = [item for sublist in phrases for item in sublist]\n",
    "vocabulary = set(words)\n",
    "print(\"Nombre de mots :\", len(words))\n",
    "print(\"Taille du vocabulaire :\", len(vocabulary))"
   ]
  }
 ],
 "metadata": {
  "kernelspec": {
   "display_name": "Python 3",
   "language": "python",
   "name": "python3"
  },
  "language_info": {
   "codemirror_mode": {
    "name": "ipython",
    "version": 3
   },
   "file_extension": ".py",
   "mimetype": "text/x-python",
   "name": "python",
   "nbconvert_exporter": "python",
   "pygments_lexer": "ipython3",
   "version": "3.7.5"
  }
 },
 "nbformat": 4,
 "nbformat_minor": 2
}
