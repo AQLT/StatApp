{
 "cells": [
  {
   "cell_type": "markdown",
   "metadata": {},
   "source": [
    "# Importation des données"
   ]
  },
  {
   "cell_type": "code",
   "execution_count": 73,
   "metadata": {},
   "outputs": [],
   "source": [
    "import os\n",
    "import string\n",
    "import re\n",
    "import math\n",
    "from math import sqrt\n",
    "import numpy as np\n",
    "import random\n",
    "import time\n",
    "import pandas as pd\n",
    "import nltk, re, pprint\n",
    "#nltk.download('punkt')\n",
    "from nltk import word_tokenize\n",
    "random.seed(1)\n",
    "np.random.seed(1)\n",
    "\n",
    "import matplotlib.pyplot as plt\n",
    "from IPython.display import clear_output\n",
    "from matplotlib import pyplot as plt\n",
    "import collections\n",
    "%matplotlib inline\n",
    "\n",
    "import torch\n",
    "import torch.nn as nn\n",
    "import torch.nn.functional as F\n",
    "import torch.optim as optim\n",
    "import torch.autograd as autograd\n",
    "\n",
    "import pickle\n",
    "\n",
    "#PCA & TSNE : \n",
    "from sklearn.preprocessing import StandardScaler\n",
    "from sklearn.decomposition import PCA\n",
    "from sklearn.manifold import TSNE\n",
    "from scipy.stats import spearmanr\n",
    "\n",
    "import plotly\n",
    "import plotly.graph_objs as go\n",
    "from plotly.offline import download_plotlyjs, init_notebook_mode, plot, iplot\n",
    "import cufflinks as cf\n",
    "import seaborn as sns"
   ]
  },
  {
   "cell_type": "code",
   "execution_count": 74,
   "metadata": {},
   "outputs": [
    {
     "data": {
      "text/plain": [
       "99718"
      ]
     },
     "execution_count": 74,
     "metadata": {},
     "output_type": "execute_result"
    }
   ],
   "source": [
    "nom_dossier = \"100k\"\n",
    "#nom_dossier = \"ens\" #ou\n",
    "\n",
    "#os.chdir('C:/Users/torna/Documents/StatApp/StatApp')\n",
    "os.chdir('/Users/alainquartierlatente/Desktop/Ensae/StatApp')\n",
    "#os.chdir('C:/Users/Kim Antunez/Documents/Projets_autres/StatApp')\n",
    "#os.chdir('/home/aqlt/Documents/Ensae/StatApp')\n",
    "\n",
    "\n",
    "with open(\"data/corpus_trie%s.file\" %nom_dossier, \"rb\") as f:\n",
    "    corpus = pickle.load(f) \n",
    "ens_tweets = [phrase.split() for phrase in corpus]\n",
    "len(ens_tweets)"
   ]
  },
  {
   "cell_type": "markdown",
   "metadata": {},
   "source": [
    "On crée index_mot et mot_index"
   ]
  },
  {
   "cell_type": "code",
   "execution_count": 75,
   "metadata": {},
   "outputs": [
    {
     "name": "stdout",
     "output_type": "stream",
     "text": [
      "<class 'list'>\n",
      "Nombre de mots : 1127347\n",
      "Taille du vocabulaire : 10960\n"
     ]
    }
   ],
   "source": [
    "phrases = ens_tweets\n",
    "words = [item for sublist in phrases for item in sublist]\n",
    "print(type(words))\n",
    "with open('data/%s/vocabulary.file' %nom_dossier, \"rb\") as f:\n",
    "    vocabulary = pickle.load(f) \n",
    "index_mot = {index: w for (index, w) in enumerate(vocabulary)}\n",
    "mot_index = {w: index for (index, w) in enumerate(vocabulary)}\n",
    "print(\"Nombre de mots :\", len(words))\n",
    "print(\"Taille du vocabulaire :\", len(vocabulary))\n",
    "fdist = nltk.FreqDist(words)"
   ]
  },
  {
   "cell_type": "markdown",
   "metadata": {},
   "source": [
    "Paramètres à modifier \n",
    "\n",
    "On renseigne ici le numero de la simulation, cf <https://github.com/AQLT/StatApp/blob/master/Code/Parametres%20lances.md>"
   ]
  },
  {
   "cell_type": "code",
   "execution_count": 76,
   "metadata": {},
   "outputs": [],
   "source": [
    "numero_simulation = 4\n",
    "derniere_epoch = 1\n",
    "seed = 1"
   ]
  },
  {
   "cell_type": "code",
   "execution_count": 139,
   "metadata": {},
   "outputs": [],
   "source": [
    "with open('data/%s/Simulation_%i_seed%i/input_%i.file' %(nom_dossier, numero_simulation, seed, derniere_epoch) , \"rb\") as f:\n",
    "    input = pickle.load(f)\n",
    "with open('data/%s/Simulation_%i_seed%i/output_%i.file' %(nom_dossier, numero_simulation, seed, derniere_epoch), \"rb\") as f:\n",
    "    output = pickle.load(f)\n",
    "mat_finale = (input+output)/2\n",
    "mot_poids = {index_mot[index]: poids.detach().numpy() for (index, poids) in enumerate(mat_finale)}"
   ]
  },
  {
   "cell_type": "markdown",
   "metadata": {},
   "source": [
    "# 1. Distances\n",
    "\n",
    "Pour tester la similarité entre deux mots, on calcule la **similarité cosinus** entre leur représentation vectorielle :\n",
    "$$\n",
    "\\frac{A \\cdot B}{|| A || \\cdot || B ||}\n",
    "$$\n",
    "\n",
    "On peut également calculer la **distance euclidienne** pour comparer les résultats avec ces deux métriques"
   ]
  },
  {
   "cell_type": "code",
   "execution_count": 77,
   "metadata": {},
   "outputs": [
    {
     "name": "stdout",
     "output_type": "stream",
     "text": [
      "[('nickname', 89694), ('lowfrequencyword', 66423), ('de', 39312), ('le', 25066), ('est', 20926), ('je', 20215), ('les', 18382), ('c', 17566), ('j', 17252), ('la', 16791), ('à', 16484), ('pas', 16183), ('que', 12219), ('en', 12111), ('un', 11109), ('et', 10640), ('a', 10056), ('ça', 9730), ('ai', 9054), ('l', 8607), ('mais', 8261), ('il', 8238), ('pour', 7845), ('tu', 7399), ('d', 7333), ('on', 7000), ('une', 6829), ('😂', 6829), ('me', 6183), ('qui', 5452), ('ce', 5403), ('t', 5233), ('😭', 5064), ('dans', 4904), ('plus', 4861), ('sur', 4809), ('mon', 4499), ('moi', 4444), ('suis', 4422), ('qu', 4334), ('y', 4143), ('avec', 3948), ('fait', 3942), ('bien', 3884), ('vous', 3801), ('trop', 3793), ('ma', 3637), ('si', 3608), ('tout', 3286), ('m', 3206), ('elle', 3180), ('va', 3149), ('faire', 3054), ('même', 3032), ('merci', 2786), ('toi', 2757), ('ne', 2748), ('bon', 2691), ('quand', 2678), ('mdr', 2578), ('oui', 2508), ('ils', 2481), ('comme', 2456), ('non', 2446), ('n', 2438), ('se', 2343), ('là', 2256), ('être', 2255), ('aussi', 2241), ('te', 2236), ('️', 2187), ('quoi', 2153), ('vais', 2019), ('as', 1948), ('s', 1912), ('ou', 1901), ('ah', 1843), ('rien', 1823), ('es', 1813), ('mes', 1746), ('par', 1724), ('était', 1699), ('encore', 1612), ('vraiment', 1602), ('cette', 1596), ('faut', 1590), ('sont', 1548), ('😍', 1489), ('sa', 1461), ('ca', 1427), ('alors', 1392), ('nous', 1386), ('❤', 1375), ('voir', 1373), ('son', 1367), ('bah', 1365), ('fais', 1350), ('vie', 1345), ('sais', 1313), ('jamais', 1302)]\n"
     ]
    }
   ],
   "source": [
    "def cos_distance(u, v):\n",
    "    return (np.dot(u, v)  / (math.sqrt(np.dot(u, u)) *  (math.sqrt(np.dot(v, v)))))\n",
    "\n",
    "def eucl_distance(u, v):\n",
    "    return (np.linalg.norm(u-v))\n",
    "\n",
    "def mot_plus_proche(word, n=10, distance=\"cos\"):\n",
    "    word_distance = {}\n",
    "    for mot in mot_poids:\n",
    "        if mot != word:\n",
    "            if distance == \"cos\":\n",
    "                word_distance[mot] = (cos_distance(mot_poids[mot],(mot_poids[word])))\n",
    "            else:\n",
    "                word_distance[mot] = (eucl_distance(mot_poids[mot],(mot_poids[word])))\n",
    "    word_distance = sorted(word_distance.items(), key=lambda t: t[1],reverse=True)\n",
    "    return word_distance[0:n]\n",
    "\n",
    "print(fdist.most_common(100))"
   ]
  },
  {
   "cell_type": "code",
   "execution_count": 78,
   "metadata": {
    "scrolled": false
   },
   "outputs": [
    {
     "name": "stdout",
     "output_type": "stream",
     "text": [
      "Pour le mot \"tweet\" (443 apparitions), les mots les plus proches sont : \n",
      "cosinus : [('dit', 0.7407281762159872), ('par', 0.7389551521821568), ('lui', 0.6918828235874255), ('ses', 0.6912447994409128), ('prend', 0.6858992620072611), ('même', 0.6809190190018156), ('passe', 0.6725295143996586), ('temps', 0.6690630191798882), ('jour', 0.663891924405545), ('hein', 0.6625017964725866)]\n",
      "euclidienne : [('xptdrrr', 5.251243), ('vieillir', 4.8309493), ('laime', 4.78343), ('rétablir', 4.766369), ('poisse', 4.7456083), ('nv', 4.59645), ('aimait', 4.5895658), ('pardonné', 4.5849323), ('bouches', 4.5549765), ('pénis', 4.5416183)]\n",
      "\n",
      "\n",
      "Pour le mot \"bonjour\" (619 apparitions), les mots les plus proches sont : \n",
      "cosinus : [('meme', 0.7493898882540221), ('😊', 0.7267995270624884), ('bon', 0.7188311324742304), ('demain', 0.7175019938218483), ('toi', 0.7083228037411458), ('😘', 0.6981526562311159), ('mon', 0.6700835043772805), ('remontée', 0.6591830010703776), ('baffes', 0.6542759790672673), ('toutes', 0.6538339829987037)]\n",
      "euclidienne : [('xptdrrr', 5.3545327), ('vieillir', 4.98642), ('rétablir', 4.776104), ('injuste', 4.6374946), ('mariano', 4.632179), ('laime', 4.600354), ('nv', 4.574809), ('garou', 4.5685306), ('dior', 4.5337057), ('aimait', 4.5314317)]\n",
      "\n",
      "\n",
      "Pour le mot \"wesh\" (117 apparitions), les mots les plus proches sont : \n",
      "cosinus : [('turc', 0.7317377314133727), ('cernes', 0.715871380735775), ('🤫', 0.7118373635131072), ('story', 0.6791305777180854), ('dvd', 0.664909724419426), ('⚠', 0.6620319800778739), ('embrouiller', 0.6325883272334406), ('sortit', 0.6304126707169071), ('300', 0.6293095306918259), ('emballe', 0.6240311817545695)]\n",
      "euclidienne : [('xptdrrr', 5.521564), ('nv', 5.277755), ('algerie', 5.244895), ('rétablir', 5.0889063), ('vieillir', 5.082551), ('directan', 5.0614734), ('pardonné', 5.060814), ('bouquets', 5.0545516), ('lebron', 4.976483), ('garou', 4.926212)]\n",
      "\n",
      "\n",
      "Pour le mot \"gros\" (812 apparitions), les mots les plus proches sont : \n",
      "cosinus : [('quelle', 0.8098954595992675), ('ptdr', 0.7988687459047382), ('as', 0.7493701284249604), ('aime', 0.7484476428309099), ('mdrr', 0.7448476736542676), ('son', 0.7390468899152125), ('très', 0.7348972521683181), ('déjà', 0.7289359041906182), ('c', 0.7283286025992016), ('ta', 0.7264037810809156)]\n",
      "euclidienne : [('xptdrrr', 5.4418883), ('vieillir', 4.9896955), ('rétablir', 4.8193297), ('nv', 4.5726376), ('pardonné', 4.5724463), ('laime', 4.572039), ('poisse', 4.5708346), ('dior', 4.5617723), ('garou', 4.55128), ('montent', 4.5313)]\n",
      "\n",
      "\n",
      "Pour le mot \"grosse\" (307 apparitions), les mots les plus proches sont : \n",
      "cosinus : [('dans', 0.7440879312919627), ('coque', 0.7353886653182716), ('ben', 0.6902740545384493), ('😭', 0.6784705947949143), ('calculé', 0.6586405163974416), ('petite', 0.6542394948627781), ('reconnais', 0.6477495700606183), ('fini', 0.6317566528165577), ('tue', 0.6210353189620984), ('fail', 0.6175947138649369)]\n",
      "euclidienne : [('xptdrrr', 5.4386673), ('vieillir', 4.898742), ('mariano', 4.7987185), ('series', 4.764295), ('laime', 4.7410483), ('nv', 4.661942), ('poisse', 4.6601925), ('ride', 4.6258674), ('aimait', 4.604512), ('fleur', 4.599664)]\n",
      "\n",
      "\n",
      "Pour le mot \"femme\" (263 apparitions), les mots les plus proches sont : \n",
      "cosinus : [('quelle', 0.7139690163555228), ('journée', 0.7027452109182111), ('hahaa', 0.6881733412636075), ('fou', 0.6631524143954591), ('self', 0.656922057181396), ('pour', 0.6269899841021792), ('cassie', 0.6266651195792962), ('merci', 0.615099257136732), ('son', 0.6144759372763947), ('❤️', 0.6136219340629872)]\n",
      "euclidienne : [('xptdrrr', 5.374379), ('rétablir', 4.909546), ('pardonné', 4.7878523), ('garou', 4.741056), ('laime', 4.691781), ('vieillir', 4.655507), ('amérique', 4.64824), ('injuste', 4.6332684), ('nv', 4.6236577), ('dior', 4.588228)]\n",
      "\n",
      "\n",
      "Pour le mot \"romain\" (13 apparitions), les mots les plus proches sont : \n",
      "cosinus : [('40min', 0.69477209687828), ('éléments', 0.6882550024965709), ('ignorais', 0.6847850120531104), ('devienne', 0.6822878690334815), ('accusé', 0.6766026117578886), ('mélangé', 0.6615871950095152), ('cheers', 0.6589656453337207), ('église', 0.6510182948964999), ('cute', 0.6502821775078161), ('salles', 0.6425298245122617)]\n",
      "euclidienne : [('xptdrrr', 5.5150795), ('fur', 5.5056143), ('bible', 5.4100723), ('losc', 5.345794), ('bruh', 5.336375), ('faisons', 5.2993426), ('recettes', 5.2698593), ('–', 5.2570343), ('siroter', 5.2476263), ('laime', 5.242956)]\n",
      "\n",
      "\n"
     ]
    }
   ],
   "source": [
    "mots = [\"tweet\", \"bonjour\", \"wesh\", \"gros\", \"grosse\", \"femme\",\"romain\"]\n",
    "for mot in mots:\n",
    "    if mot in mot_index:\n",
    "        print('Pour le mot \"%s\"' %mot + \" (%i apparitions), les mots les plus proches sont : \" %fdist[mot])\n",
    "        print('cosinus :',mot_plus_proche(mot,distance = \"cos\"))\n",
    "        print('euclidienne :',mot_plus_proche(mot,distance = \"eucl\"))\n",
    "        print(\"\\n\")"
   ]
  },
  {
   "cell_type": "markdown",
   "metadata": {},
   "source": [
    "# 2. Evaluation par le \"human judgement\""
   ]
  },
  {
   "cell_type": "code",
   "execution_count": 79,
   "metadata": {},
   "outputs": [],
   "source": [
    "def distance_mots(word1,word2, mot_poids, distance=\"cos\"):\n",
    "    if word1 in mot_poids.keys() and word2 in mot_poids.keys():\n",
    "        if(distance==\"cos\"):\n",
    "            word_distance = (cos_distance(mot_poids[word1],(mot_poids[word2])))\n",
    "        else:\n",
    "            word_distance = (eucl_distance(mot_poids[word1],(mot_poids[word2])))\n",
    "    else:\n",
    "        word_distance = float('nan')\n",
    "    return word_distance\n",
    "distance_mots_v = np.vectorize(distance_mots)"
   ]
  },
  {
   "cell_type": "code",
   "execution_count": 211,
   "metadata": {
    "scrolled": true
   },
   "outputs": [
    {
     "name": "stdout",
     "output_type": "stream",
     "text": [
      "         Epoch 1  Epoch 2  Epoch 3  Epoch 4  Epoch 5  Epoch 6  Epoch 7  \\\n",
      "Seed 1     0.280    0.297    0.231    0.203    0.242    0.220    0.214   \n",
      "Seed 5     0.621    0.621    0.599    0.626    0.604    0.637    0.615   \n",
      "Seed 10    0.082    0.082    0.115    0.115    0.115    0.115    0.115   \n",
      "Seed 15    0.560    0.610    0.610    0.637    0.643    0.566    0.516   \n",
      "Seed 20    0.582    0.538    0.538    0.489    0.522    0.484    0.473   \n",
      "\n",
      "         Epoch 8  Epoch 9  Epoch 10  \n",
      "Seed 1     0.176    0.115     0.148  \n",
      "Seed 5     0.637    0.615     0.626  \n",
      "Seed 10    0.110    0.115     0.143  \n",
      "Seed 15    0.555    0.588     0.555  \n",
      "Seed 20    0.484    0.516     0.445  \n",
      "         Epoch 1  Epoch 2  Epoch 3  Epoch 4  Epoch 5  Epoch 6  Epoch 7  \\\n",
      "Seed 1     0.044    0.022   -0.022   -0.016   -0.093   -0.077   -0.099   \n",
      "Seed 5    -0.319   -0.412   -0.429   -0.412   -0.423   -0.423   -0.434   \n",
      "Seed 10   -0.077   -0.258   -0.357   -0.357   -0.341   -0.379   -0.401   \n",
      "Seed 15   -0.593   -0.637   -0.687   -0.676   -0.681   -0.626   -0.621   \n",
      "Seed 20   -0.549   -0.549   -0.549   -0.560   -0.599   -0.599   -0.626   \n",
      "\n",
      "         Epoch 8  Epoch 9  Epoch 10  \n",
      "Seed 1    -0.099   -0.099    -0.088  \n",
      "Seed 5    -0.412   -0.484    -0.462  \n",
      "Seed 10   -0.401   -0.401    -0.401  \n",
      "Seed 15   -0.604   -0.626    -0.654  \n",
      "Seed 20   -0.588   -0.544    -0.533  \n"
     ]
    }
   ],
   "source": [
    "def corr_dossier(dossier = \"\", epoch_max = 50, distance=\"cos\", numero_simulation = 3):\n",
    "    all_cor = []\n",
    "    all_p_val = []\n",
    "    isdir = os.path.isdir('data/%s/Simulation_%i%s/' %(nom_dossier, numero_simulation, dossier))\n",
    "    if isdir:\n",
    "        for i in range(epoch_max):\n",
    "            try:\n",
    "                with open('data/%s/Simulation_%i%s/input_%i.file' %(nom_dossier, numero_simulation, dossier, i+1), \"rb\") as f:\n",
    "                    input = pickle.load(f)\n",
    "                with open('data/%s/Simulation_%i%s/output_%i.file' %(nom_dossier, numero_simulation, dossier, i+1), \"rb\") as f:\n",
    "                    output = pickle.load(f)\n",
    "                mat_finale = (input+output)/2\n",
    "                mot_poids = {index_mot[index]: poids.detach().numpy() for (index, poids) in enumerate(mat_finale)}\n",
    "                df = pd.read_csv('data_bis/word_similarity.csv', sep=\";\")\n",
    "                df[\"corr_word2vec\"] = distance_mots_v(df[\"word1\"],df[\"word2\"], mot_poids, distance)\n",
    "                df = df.dropna()\n",
    "                corr, p_value = spearmanr(df[\"corr\"], df[\"corr_word2vec\"])\n",
    "                all_cor.append(corr)\n",
    "                all_p_val.append(p_value)\n",
    "            except OSError:\n",
    "                break;     \n",
    "        \n",
    "    return([all_cor, all_p_val]);\n",
    "\n",
    "def tableau_corr_hji(dossiers, distance=\"cos\", numero_simulation = 3):\n",
    "    resultats = []\n",
    "    for dossier in dossiers:\n",
    "        resultats.append(corr_dossier(dossier,distance = distance, numero_simulation = numero_simulation))\n",
    "\n",
    "    max_len = max([len(x[0]) for x in resultats])\n",
    "    for i in range(len(resultats)):\n",
    "        if(len(resultats[i][0])<max_len):\n",
    "            resultats[i][0] = resultats[i][0] +[np.nan]*(max_len - len(resultats[i][0]))\n",
    "            resultats[i][1] = resultats[i][1] +[np.nan]*(max_len - len(resultats[i][1]))\n",
    "    nom_lignes = [re.sub('_seed', 'Seed ', d) if d != \"\" else \"Pas de seed\" for d in dossiers ]\n",
    "    all_cor = [elem[0] for elem in resultats]\n",
    "    all_cor = pd.DataFrame(np.array(all_cor),\n",
    "                       columns=[\"Epoch %i\" %int(i+1) for i in range(len(all_cor[0]))],\n",
    "                      index = nom_lignes)\n",
    "    all_p_val = [elem[1] for elem in resultats]\n",
    "    all_p_val = pd.DataFrame(np.array(all_p_val),\n",
    "                       columns=[\"Epoch %i\" %int(i+1) for i in range(len(all_p_val[0]))],\n",
    "                      index = nom_lignes)\n",
    "    return([all_cor, all_p_val])\n",
    "\n",
    "\n",
    "\n",
    "dossiers = [\"\", \"_seed1\", \"_seed5\", \"_seed10\", \"_seed15\", \"_seed20\", \"_seed25\"]\n",
    "\n",
    "resultats_hji_cos = tableau_corr_hji(dossiers, distance = \"cos\", numero_simulation = 4)\n",
    "all_cor_cos = resultats_hji_cos[0]\n",
    "all_p_val_cos = resultats_hji_cos[1]\n",
    "all_cor_export_cos = round(all_cor_cos, 3).dropna()\n",
    "print(all_cor_export_cos)\n",
    "\n",
    "\n",
    "resultats_hji_eucl = tableau_corr_hji(dossiers, distance = \"eucl\", numero_simulation = 4)\n",
    "all_cor_eucl = resultats_hji_eucl[0]\n",
    "all_p_val_eucl = resultats_hji_eucl[1]\n",
    "all_cor_export_eucl = round(all_cor_eucl, 3).dropna()\n",
    "print(all_cor_export_eucl)"
   ]
  },
  {
   "cell_type": "code",
   "execution_count": 212,
   "metadata": {
    "scrolled": true
   },
   "outputs": [
    {
     "name": "stdout",
     "output_type": "stream",
     "text": [
      "|         |   Epoch 1 |   Epoch 2 |   Epoch 3 |   Epoch 4 |   Epoch 5 |   Epoch 6 |   Epoch 7 |   Epoch 8 |   Epoch 9 |   Epoch 10 |\n",
      "|:--------|----------:|----------:|----------:|----------:|----------:|----------:|----------:|----------:|----------:|-----------:|\n",
      "| Seed 1  |     0.28  |     0.297 |     0.231 |     0.203 |     0.242 |     0.22  |     0.214 |     0.176 |     0.115 |      0.148 |\n",
      "| Seed 5  |     0.621 |     0.621 |     0.599 |     0.626 |     0.604 |     0.637 |     0.615 |     0.637 |     0.615 |      0.626 |\n",
      "| Seed 10 |     0.082 |     0.082 |     0.115 |     0.115 |     0.115 |     0.115 |     0.115 |     0.11  |     0.115 |      0.143 |\n",
      "| Seed 15 |     0.56  |     0.61  |     0.61  |     0.637 |     0.643 |     0.566 |     0.516 |     0.555 |     0.588 |      0.555 |\n",
      "| Seed 20 |     0.582 |     0.538 |     0.538 |     0.489 |     0.522 |     0.484 |     0.473 |     0.484 |     0.516 |      0.445 |\n",
      "\n",
      "Distance euclidienne :\n",
      "\n",
      "|         |   Epoch 1 |   Epoch 2 |   Epoch 3 |   Epoch 4 |   Epoch 5 |   Epoch 6 |   Epoch 7 |   Epoch 8 |   Epoch 9 |   Epoch 10 |\n",
      "|:--------|----------:|----------:|----------:|----------:|----------:|----------:|----------:|----------:|----------:|-----------:|\n",
      "| Seed 1  |     0.044 |     0.022 |    -0.022 |    -0.016 |    -0.093 |    -0.077 |    -0.099 |    -0.099 |    -0.099 |     -0.088 |\n",
      "| Seed 5  |    -0.319 |    -0.412 |    -0.429 |    -0.412 |    -0.423 |    -0.423 |    -0.434 |    -0.412 |    -0.484 |     -0.462 |\n",
      "| Seed 10 |    -0.077 |    -0.258 |    -0.357 |    -0.357 |    -0.341 |    -0.379 |    -0.401 |    -0.401 |    -0.401 |     -0.401 |\n",
      "| Seed 15 |    -0.593 |    -0.637 |    -0.687 |    -0.676 |    -0.681 |    -0.626 |    -0.621 |    -0.604 |    -0.626 |     -0.654 |\n",
      "| Seed 20 |    -0.549 |    -0.549 |    -0.549 |    -0.56  |    -0.599 |    -0.599 |    -0.626 |    -0.588 |    -0.544 |     -0.533 |\n"
     ]
    }
   ],
   "source": [
    "##Il faut installer pandas 1.0 et tabulate\n",
    "print(all_cor_export_cos.to_markdown())\n",
    "print(\"\\nDistance euclidienne :\\n\")\n",
    "print(all_cor_export_eucl.to_markdown())"
   ]
  },
  {
   "cell_type": "code",
   "execution_count": 145,
   "metadata": {},
   "outputs": [
    {
     "data": {
      "text/html": [
       "<div>\n",
       "<style scoped>\n",
       "    .dataframe tbody tr th:only-of-type {\n",
       "        vertical-align: middle;\n",
       "    }\n",
       "\n",
       "    .dataframe tbody tr th {\n",
       "        vertical-align: top;\n",
       "    }\n",
       "\n",
       "    .dataframe thead th {\n",
       "        text-align: right;\n",
       "    }\n",
       "</style>\n",
       "<table border=\"1\" class=\"dataframe\">\n",
       "  <thead>\n",
       "    <tr style=\"text-align: right;\">\n",
       "      <th></th>\n",
       "      <th>word1</th>\n",
       "      <th>word2</th>\n",
       "      <th>corr</th>\n",
       "    </tr>\n",
       "  </thead>\n",
       "  <tbody>\n",
       "    <tr>\n",
       "      <td>0</td>\n",
       "      <td>corde</td>\n",
       "      <td>sourire</td>\n",
       "      <td>0.00</td>\n",
       "    </tr>\n",
       "    <tr>\n",
       "      <td>1</td>\n",
       "      <td>midi</td>\n",
       "      <td>ficelle</td>\n",
       "      <td>0.00</td>\n",
       "    </tr>\n",
       "    <tr>\n",
       "      <td>2</td>\n",
       "      <td>coq</td>\n",
       "      <td>périple</td>\n",
       "      <td>0.06</td>\n",
       "    </tr>\n",
       "    <tr>\n",
       "      <td>3</td>\n",
       "      <td>fruit</td>\n",
       "      <td>fournaise</td>\n",
       "      <td>0.11</td>\n",
       "    </tr>\n",
       "    <tr>\n",
       "      <td>4</td>\n",
       "      <td>autographe</td>\n",
       "      <td>rivage</td>\n",
       "      <td>0.00</td>\n",
       "    </tr>\n",
       "    <tr>\n",
       "      <td>...</td>\n",
       "      <td>...</td>\n",
       "      <td>...</td>\n",
       "      <td>...</td>\n",
       "    </tr>\n",
       "    <tr>\n",
       "      <td>60</td>\n",
       "      <td>coussin</td>\n",
       "      <td>oreiller</td>\n",
       "      <td>3.00</td>\n",
       "    </tr>\n",
       "    <tr>\n",
       "      <td>61</td>\n",
       "      <td>cimetière</td>\n",
       "      <td>cimetière</td>\n",
       "      <td>4.00</td>\n",
       "    </tr>\n",
       "    <tr>\n",
       "      <td>62</td>\n",
       "      <td>automobile</td>\n",
       "      <td>auto</td>\n",
       "      <td>3.94</td>\n",
       "    </tr>\n",
       "    <tr>\n",
       "      <td>63</td>\n",
       "      <td>joyau</td>\n",
       "      <td>bijou</td>\n",
       "      <td>3.22</td>\n",
       "    </tr>\n",
       "    <tr>\n",
       "      <td>64</td>\n",
       "      <td>midi</td>\n",
       "      <td>dîner</td>\n",
       "      <td>2.17</td>\n",
       "    </tr>\n",
       "  </tbody>\n",
       "</table>\n",
       "<p>65 rows × 3 columns</p>\n",
       "</div>"
      ],
      "text/plain": [
       "         word1      word2  corr\n",
       "0        corde    sourire  0.00\n",
       "1         midi    ficelle  0.00\n",
       "2          coq    périple  0.06\n",
       "3        fruit  fournaise  0.11\n",
       "4   autographe     rivage  0.00\n",
       "..         ...        ...   ...\n",
       "60     coussin   oreiller  3.00\n",
       "61   cimetière  cimetière  4.00\n",
       "62  automobile       auto  3.94\n",
       "63       joyau      bijou  3.22\n",
       "64        midi      dîner  2.17\n",
       "\n",
       "[65 rows x 3 columns]"
      ]
     },
     "execution_count": 145,
     "metadata": {},
     "output_type": "execute_result"
    }
   ],
   "source": [
    "df_base = pd.read_csv('data_bis/word_similarity.csv', sep=\";\")\n",
    "df_base"
   ]
  },
  {
   "cell_type": "code",
   "execution_count": 146,
   "metadata": {},
   "outputs": [
    {
     "name": "stdout",
     "output_type": "stream",
     "text": [
      "65\n",
      "13\n"
     ]
    },
    {
     "data": {
      "text/html": [
       "<div>\n",
       "<style scoped>\n",
       "    .dataframe tbody tr th:only-of-type {\n",
       "        vertical-align: middle;\n",
       "    }\n",
       "\n",
       "    .dataframe tbody tr th {\n",
       "        vertical-align: top;\n",
       "    }\n",
       "\n",
       "    .dataframe thead th {\n",
       "        text-align: right;\n",
       "    }\n",
       "</style>\n",
       "<table border=\"1\" class=\"dataframe\">\n",
       "  <thead>\n",
       "    <tr style=\"text-align: right;\">\n",
       "      <th></th>\n",
       "      <th>word1</th>\n",
       "      <th>word2</th>\n",
       "      <th>corr</th>\n",
       "      <th>corr_word2vec_cos</th>\n",
       "      <th>corr_word2vec_eucl</th>\n",
       "    </tr>\n",
       "  </thead>\n",
       "  <tbody>\n",
       "    <tr>\n",
       "      <td>0</td>\n",
       "      <td>corde</td>\n",
       "      <td>sourire</td>\n",
       "      <td>0.00</td>\n",
       "      <td>-0.194907</td>\n",
       "      <td>4.206619</td>\n",
       "    </tr>\n",
       "    <tr>\n",
       "      <td>16</td>\n",
       "      <td>côte</td>\n",
       "      <td>forêt</td>\n",
       "      <td>0.22</td>\n",
       "      <td>-0.269986</td>\n",
       "      <td>3.997401</td>\n",
       "    </tr>\n",
       "    <tr>\n",
       "      <td>20</td>\n",
       "      <td>garçon</td>\n",
       "      <td>sage</td>\n",
       "      <td>0.29</td>\n",
       "      <td>-0.182006</td>\n",
       "      <td>4.599676</td>\n",
       "    </tr>\n",
       "    <tr>\n",
       "      <td>23</td>\n",
       "      <td>gars</td>\n",
       "      <td>sorcier</td>\n",
       "      <td>0.44</td>\n",
       "      <td>-0.111060</td>\n",
       "      <td>3.898438</td>\n",
       "    </tr>\n",
       "    <tr>\n",
       "      <td>28</td>\n",
       "      <td>oiseau</td>\n",
       "      <td>bois</td>\n",
       "      <td>0.06</td>\n",
       "      <td>0.372567</td>\n",
       "      <td>3.162694</td>\n",
       "    </tr>\n",
       "    <tr>\n",
       "      <td>33</td>\n",
       "      <td>auto</td>\n",
       "      <td>voyage</td>\n",
       "      <td>0.33</td>\n",
       "      <td>-0.270593</td>\n",
       "      <td>4.733108</td>\n",
       "    </tr>\n",
       "    <tr>\n",
       "      <td>35</td>\n",
       "      <td>verre</td>\n",
       "      <td>bijou</td>\n",
       "      <td>0.56</td>\n",
       "      <td>-0.114582</td>\n",
       "      <td>4.692769</td>\n",
       "    </tr>\n",
       "    <tr>\n",
       "      <td>38</td>\n",
       "      <td>frère</td>\n",
       "      <td>gars</td>\n",
       "      <td>2.00</td>\n",
       "      <td>0.061818</td>\n",
       "      <td>3.598426</td>\n",
       "    </tr>\n",
       "    <tr>\n",
       "      <td>39</td>\n",
       "      <td>sage</td>\n",
       "      <td>sorcier</td>\n",
       "      <td>0.83</td>\n",
       "      <td>0.325418</td>\n",
       "      <td>3.112226</td>\n",
       "    </tr>\n",
       "    <tr>\n",
       "      <td>43</td>\n",
       "      <td>nourriture</td>\n",
       "      <td>fruit</td>\n",
       "      <td>2.78</td>\n",
       "      <td>-0.243064</td>\n",
       "      <td>5.038276</td>\n",
       "    </tr>\n",
       "    <tr>\n",
       "      <td>56</td>\n",
       "      <td>forêt</td>\n",
       "      <td>bois</td>\n",
       "      <td>3.72</td>\n",
       "      <td>-0.052639</td>\n",
       "      <td>4.240155</td>\n",
       "    </tr>\n",
       "    <tr>\n",
       "      <td>59</td>\n",
       "      <td>garçon</td>\n",
       "      <td>gars</td>\n",
       "      <td>3.83</td>\n",
       "      <td>0.174568</td>\n",
       "      <td>3.782390</td>\n",
       "    </tr>\n",
       "    <tr>\n",
       "      <td>64</td>\n",
       "      <td>midi</td>\n",
       "      <td>dîner</td>\n",
       "      <td>2.17</td>\n",
       "      <td>-0.169911</td>\n",
       "      <td>4.158663</td>\n",
       "    </tr>\n",
       "  </tbody>\n",
       "</table>\n",
       "</div>"
      ],
      "text/plain": [
       "         word1    word2  corr  corr_word2vec_cos  corr_word2vec_eucl\n",
       "0        corde  sourire  0.00          -0.194907            4.206619\n",
       "16        côte    forêt  0.22          -0.269986            3.997401\n",
       "20      garçon     sage  0.29          -0.182006            4.599676\n",
       "23        gars  sorcier  0.44          -0.111060            3.898438\n",
       "28      oiseau     bois  0.06           0.372567            3.162694\n",
       "33        auto   voyage  0.33          -0.270593            4.733108\n",
       "35       verre    bijou  0.56          -0.114582            4.692769\n",
       "38       frère     gars  2.00           0.061818            3.598426\n",
       "39        sage  sorcier  0.83           0.325418            3.112226\n",
       "43  nourriture    fruit  2.78          -0.243064            5.038276\n",
       "56       forêt     bois  3.72          -0.052639            4.240155\n",
       "59      garçon     gars  3.83           0.174568            3.782390\n",
       "64        midi    dîner  2.17          -0.169911            4.158663"
      ]
     },
     "execution_count": 146,
     "metadata": {},
     "output_type": "execute_result"
    }
   ],
   "source": [
    "distance_mots_v = np.vectorize(distance_mots)\n",
    "df = df_base\n",
    "df[\"corr_word2vec_cos\"] = distance_mots_v(df[\"word1\"],df[\"word2\"], mot_poids, \"cos\")\n",
    "df[\"corr_word2vec_eucl\"] = distance_mots_v(df[\"word1\"],df[\"word2\"], mot_poids, \"eucl\")\n",
    "print(len(df))\n",
    "df = df.dropna()\n",
    "print(len(df))\n",
    "df"
   ]
  },
  {
   "cell_type": "code",
   "execution_count": 147,
   "metadata": {
    "scrolled": true
   },
   "outputs": [
    {
     "name": "stdout",
     "output_type": "stream",
     "text": [
      "Le résultat de word2vec COSINUS est différent de celui du human judgement (non rejet de H0 = non corrélation) p=0.354 / Valeur de la corrélation : 0.280\n",
      "\n",
      "\n",
      "Le résultat de word2vec EUCLIDIEN est différent de celui du human judgement (non rejet de H0 = non corrélation) p=0.887 / Valeur de la corrélation : 0.044\n"
     ]
    }
   ],
   "source": [
    "#On fait des tests à 5 % pour la distance cosinus\n",
    "alpha = 0.05\n",
    "corr, p_value = spearmanr(df[\"corr\"], df[\"corr_word2vec_cos\"])\n",
    "if p_value > alpha:\n",
    "    print('Le résultat de word2vec COSINUS est différent de celui du human judgement (non rejet de H0 = non corrélation) p=%.3f' % p_value,'/ Valeur de la corrélation : %.3f'% corr)\n",
    "else:\n",
    "    print('Le résultat de word2vec COSINUS est semblable celui du human judgement (rejet de H0 = non corrélation) p=%.3f' % p_value,'/ Valeur de la corrélation : %.3f'% corr)\n",
    "\n",
    "print(\"\\n\")\n",
    "\n",
    "#On fait des tests à 5 % pour la distance euclidienne\n",
    "alpha = 0.05\n",
    "corr, p_value = spearmanr(df[\"corr\"], df[\"corr_word2vec_eucl\"])\n",
    "if p_value > alpha:\n",
    "    print('Le résultat de word2vec EUCLIDIEN est différent de celui du human judgement (non rejet de H0 = non corrélation) p=%.3f' % p_value,'/ Valeur de la corrélation : %.3f'% corr)\n",
    "else:\n",
    "    print('Le résultat de word2vec COSINUS est semblable celui du human judgement (rejet de H0 = non corrélation) p=%.3f' % p_value,'/ Valeur de la corrélation : %.3f'% corr)"
   ]
  },
  {
   "cell_type": "code",
   "execution_count": 222,
   "metadata": {},
   "outputs": [],
   "source": [
    "def intervalles_confiance (simulations, distance = \"cos\"):\n",
    "    fig = plt.figure(figsize = (12,6))\n",
    "    ax = fig.add_axes([0.1, 0.1, 1, 1])\n",
    "    ax.set_xlim(-0.2,len(simul)-1+.2)\n",
    "    for i in range(len(simul)):\n",
    "        corr = tableau_corr_hji(dossiers, distance = distance, numero_simulation = simul[i])[0]\n",
    "        corr_values = corr[[\"Epoch %i\" %epoch]].values.tolist()\n",
    "        corr_values = [i[0] for i in corr_values]\n",
    "        ec = np.std(corr_values)\n",
    "        moy = np.mean(corr_values)\n",
    "        print(moy)\n",
    "        icm = moy - 1.96 * ec\n",
    "        icp = moy + 1.96 * ec\n",
    "        ax.scatter([i]*len(corr_values), corr_values, s = 100)\n",
    "        ax.errorbar(i, moy, xerr=0.1, ecolor = \"red\")\n",
    "        ax.errorbar(i, moy, yerr=1.96 * ec)\n",
    "    ax.set_xticks(list(range(len(simul))))\n",
    "    ax.set_xticklabels([\"Simul. n°%i\" %simul[i] for i in list(range(len(simul)))])\n",
    "    plt.ylabel(\"Corrélation au human judgment index\")\n",
    "    plt.xlabel(\"Simulation\")"
   ]
  },
  {
   "cell_type": "code",
   "execution_count": 223,
   "metadata": {
    "scrolled": true
   },
   "outputs": [
    {
     "name": "stdout",
     "output_type": "stream",
     "text": [
      "0.37362637362637363\n",
      "0.3241758241758242\n",
      "0.38351648351648354\n",
      "0.34835164835164834\n",
      "0.32087912087912085\n",
      "0.3791208791208791\n"
     ]
    },
    {
     "data": {
      "image/png": "[encoded data removed]",
      "text/plain": [
       "<Figure size 864x432 with 1 Axes>"
      ]
     },
     "metadata": {
      "needs_background": "light"
     },
     "output_type": "display_data"
    }
   ],
   "source": [
    "simul = [2,3,4,9,13,14]\n",
    "intervalles_confiance(simul, \"cos\")"
   ]
  },
  {
   "cell_type": "code",
   "execution_count": 221,
   "metadata": {},
   "outputs": [
    {
     "data": {
      "image/png": "[encoded data removed]",
      "text/plain": [
       "<Figure size 864x432 with 1 Axes>"
      ]
     },
     "metadata": {
      "needs_background": "light"
     },
     "output_type": "display_data"
    }
   ],
   "source": [
    "intervalles_confiance(simul, \"eucl\")"
   ]
  },
  {
   "cell_type": "markdown",
   "metadata": {},
   "source": [
    "# 3. PCA"
   ]
  },
  {
   "cell_type": "code",
   "execution_count": 171,
   "metadata": {},
   "outputs": [],
   "source": [
    "def ACP(liste, statique = True, nom_couples_explicite=True):\n",
    "    # On enlève les mots qui n'existent pas\n",
    "    liste_triee =[]\n",
    "    for couple in liste:\n",
    "        liste_triee.append([w for w in couple if w in mot_index]) \n",
    "    liste_mots = [w for couple in liste_triee for w in couple]\n",
    "\n",
    "    df_res = pd.DataFrame.from_dict(mot_poids).transpose()\n",
    "    df_res = df_res.loc[liste_mots]\n",
    "    df_res['label'] = 'Autre' \n",
    "\n",
    "    if nom_couples_explicite:\n",
    "        for couple in liste_triee:\n",
    "            df_res.loc[couple,'label'] = '/'.join(couple)\n",
    "    else:\n",
    "        for i in range(0, len(liste_triee)):\n",
    "            df_res.loc[liste_triee[i],'label'] = \"Couple %i\" %i        \n",
    "\n",
    "    features = list(range(0, len(liste_triee)))\n",
    "    # Separating out the features\n",
    "    x = df_res.loc[:, features].values\n",
    "    # Separating out the target\n",
    "    y = df_res.loc[:,['label']].values\n",
    "    # Standardizing the features\n",
    "    x = StandardScaler().fit_transform(x)\n",
    "\n",
    "    pca = PCA(n_components=2)\n",
    "    principalComponents = pca.fit_transform(x)\n",
    "    principalDf = pd.DataFrame(data = principalComponents\n",
    "                 , columns = ['Axe 1', 'Axe 2'])\n",
    "\n",
    "    df_res['mot'] = df_res.index.values\n",
    "    df_res = df_res.reset_index()\n",
    "\n",
    "    finalDf = pd.concat([principalDf, df_res[['label','mot']]],  axis = 1)\n",
    "\n",
    "    if statique:\n",
    "        # Représentation simple statique \n",
    "        fig = plt.figure(figsize = (12,8))\n",
    "\n",
    "        g = sns.scatterplot(x=\"Axe 1\", y=\"Axe 2\",\n",
    "                        hue=\"label\", data=finalDf, s = 150)\n",
    "        handles, labels = g.get_legend_handles_labels()\n",
    "        box = g.get_position()\n",
    "        g.set_position([box.x0, box.y0, box.width * 0.85, box.height]) # resize position\n",
    "\n",
    "        # Put a legend to the right side\n",
    "        g.legend(loc='center right', bbox_to_anchor=(1.3, 0.5), ncol=1,\n",
    "                 handles=handles[1:], labels=list(dict.fromkeys(finalDf[\"label\"])))\n",
    "    else:\n",
    "        init_notebook_mode(connected=True)\n",
    "\n",
    "        cf.go_offline()\n",
    "        cf.set_config_file(offline=False, world_readable=True)\n",
    "\n",
    "        #Travailler avec sous-table sinon trop lourd\n",
    "        #subFinalDf = pd.concat([finalDf[(finalDf['label'] != \"Autre\")],finalDf.iloc[1:100:]],  axis = 0)\n",
    "        subFinalDf = pd.concat([finalDf],  axis = 0)\n",
    "\n",
    "        subFinalDf.iplot(kind='scatter',\n",
    "                      mode='markers',\n",
    "                      x='Axe 1',\n",
    "                      y='Axe 2',\n",
    "                      categories='label',\n",
    "                      text='mot',\n",
    "                      xTitle='Axe 1',\n",
    "                      yTitle='Axe 2',\n",
    "                      title='ACP en 2 composantes',\n",
    "                      filename='cufflinks/simple-scatter')\n"
   ]
  },
  {
   "cell_type": "code",
   "execution_count": 172,
   "metadata": {
    "scrolled": false
   },
   "outputs": [
    {
     "data": {
      "image/png": "[encoded data removed]",
      "text/plain": [
       "<Figure size 432x288 with 1 Axes>"
      ]
     },
     "metadata": {
      "needs_background": "light"
     },
     "output_type": "display_data"
    }
   ],
   "source": [
    "#def creer_liste_random(liste, statique = True, nom_couples_explicite=True):\n",
    "\n",
    "import matplotlib.pyplot as plt\n",
    "plt.hist(fdist.values(), bins=[0,10,20,50, 100, 200,400,800,max(fdist.values())],color='g') #width=100, range=(0, 50000)\n",
    "plt.xlim(xmin=0, xmax = 1100)\n",
    "plt.title('Fréquence des mots', fontsize=15)\n",
    "plt.show()"
   ]
  },
  {
   "cell_type": "code",
   "execution_count": 173,
   "metadata": {
    "scrolled": false
   },
   "outputs": [],
   "source": [
    "np.random.seed(1)\n",
    "\n",
    "mots0_20 = dict()\n",
    "mots20_100 = dict()\n",
    "mots100_1000 = dict()\n",
    "mots1000_max = dict()\n",
    "\n",
    "for (key, value) in fdist.items():\n",
    "    if value <= 20 :\n",
    "        mots0_20[key] = value\n",
    "    if value > 20 and value <= 100 :\n",
    "        mots20_100[key] = value\n",
    "    if value > 100 and value <= 1000 :\n",
    "        mots100_1000[key] = value        \n",
    "    if value > 1000 :\n",
    "        mots1000_max[key] = value\n",
    "\n",
    "\n",
    "liste_0_20 = list(np.random.choice(list(mots0_20.keys()), size=100))\n",
    "liste_20_100 = list(np.random.choice(list(mots20_100.keys()), size=100))\n",
    "liste_100_1000 = list(np.random.choice(list(mots100_1000.keys()), size=100))\n",
    "liste_1000_max = list(np.random.choice(list(mots1000_max.keys()), size=100))\n",
    "\n",
    "liste2 = [liste_0_20, liste_20_100, liste_100_1000, liste_1000_max]"
   ]
  },
  {
   "cell_type": "code",
   "execution_count": 161,
   "metadata": {},
   "outputs": [],
   "source": [
    "#liste = [[\"homme\",\"femme\", \"enfant\"],[\"chien\",\"chat\"],\n",
    "#         [\"vanille\",\"chocolat\"],\n",
    "#    [\"poli\",\"courtois\"],[\"bonjour\",\"salut\"],[\"propre\",\"sale\"],[\"canapé\",\"fauteuil\"],\n",
    "#    [\"téléphone\",\"portable\"],[\"voiture\",\"camion\"],[\"grand\",\"petit\"]]\n",
    "\n",
    "#liste = [[\"homme\", \"tttttttttt\",\"femme\",\"sexe\",\"genre\",\"mari\",\"épouse\",\"famille\",\"inégalités\",\"enfant\",\"amour\",\"couple\",\"différence\"],\n",
    "#    [\"chien\",\"chat\",\"animal\",\"domestique\",\"maison\",\"aboyer\",\"miauler\",\"labrador\",\"poil\",\"pattes\",\"spa\",\"ami\"],\n",
    "#    [\"vanille\",\"chocolat\",\"parfum\",\"goût\",\"fraise\",\"glace\",\"boule\",\"gâteau\",\"bonbon\",\"blanc\",\"noir\",\"préférence\"],\n",
    "#    [\"poli\",\"courtois\",\"bonjour\",\"merci\",\"pardon\",\"stp\",\"règles\",\"apprendre\",\"savoir-vivre\",\"savoir-être\",\"formule\",\"demander\"],\n",
    "#    [\"choqué\",\"horrifié\",\"peur\",\"terreur\",\"phobie\",\"clown\",\"noir\",\"araignée\",\"rat\",\"cri\",\"oh\",\"ah\"],\n",
    "#    [\"propre\",\"sale\",\"nettoyer\",\"vaisselle\",\"laver\",\"savon\",\"produit\",\"salissures\",\"traces\",\"net\",\"éclatant\",\"brillant\"],\n",
    "#    [\"canapé\",\"fauteuil\",\"maison\",\"salon\",\"assis\",\"confortable\",\"sofa\",\"convertible\",\"cuir\",\"télé\",\"accoudoir\",\"plaid\"],\n",
    "#    [\"téléphone\",\"portable\",\"appel\",\"allo\",\"décrocher\",\"sms\",\"numéro\",\"mobile\",\"orange\",\"sfr\",\"free\",\"bouygues\"],\n",
    "#    [\"voiture\",\"camion\",\"moto\",\"véhicule\",\"conduire\",\"rouler\",\"conducteur\",\"volant\",\"chauffeur\",\"permis\",\"vitesse\",\"passager\"],\n",
    "#    [\"grand\",\"petit\",\"taille\",\"géant\",\"nain\",\"s\",\"m\",\"l\",\"xl\",\"mesure\",\"énorme\",\"longueur\"]\n",
    "#]\n",
    "\n",
    "liste1 = [[\"poli\",\"courtois\",\"bonjour\",\"salut\"],[\"canapé\",\"fauteuil\",\"table\",\"chaise\"],\n",
    "    [\"téléphone\",\"portable\",\"numéro\",\"appel\"],[\"voiture\",\"camion\",\"vélo\",\"train\"],\n",
    "         [\"beau\",\"mignon\",\"bg\",\"mannequin\"],[\"docteur\",\"médecin\",\"santé\",\"bobo\"],\n",
    "         [\"belle\",\"jolie\",\"mignonne\",\"bellegosse\"],[\"père\",\"papa\",\"daron\"],\n",
    "         [\"mère\",\"maman\",\"daronne\"],[\"ol\",\"psg\",\"foot\",\"stade\"]]"
   ]
  },
  {
   "cell_type": "code",
   "execution_count": 174,
   "metadata": {},
   "outputs": [
    {
     "data": {
      "image/png": "[encoded data removed]",
      "text/plain": [
       "<Figure size 864x576 with 1 Axes>"
      ]
     },
     "metadata": {
      "needs_background": "light"
     },
     "output_type": "display_data"
    }
   ],
   "source": [
    "ACP(liste1, statique = True)"
   ]
  },
  {
   "cell_type": "code",
   "execution_count": 163,
   "metadata": {},
   "outputs": [
    {
     "data": {
      "text/html": [
       "        <script type=\"text/javascript\">\n",
       "        window.PlotlyConfig = {MathJaxConfig: 'local'};\n",
       "        if (window.MathJax) {MathJax.Hub.Config({SVG: {font: \"STIX-Web\"}});}\n",
       "        if (typeof require !== 'undefined') {\n",
       "        require.undef(\"plotly\");\n",
       "        requirejs.config({\n",
       "            paths: {\n",
       "                'plotly': ['https://cdn.plot.ly/plotly-latest.min']\n",
       "            }\n",
       "        });\n",
       "        require(['plotly'], function(Plotly) {\n",
       "            window._Plotly = Plotly;\n",
       "        });\n",
       "        }\n",
       "        </script>\n",
       "        "
      ]
     },
     "metadata": {},
     "output_type": "display_data"
    },
    {
     "data": {
      "text/html": [
       "        <script type=\"text/javascript\">\n",
       "        window.PlotlyConfig = {MathJaxConfig: 'local'};\n",
       "        if (window.MathJax) {MathJax.Hub.Config({SVG: {font: \"STIX-Web\"}});}\n",
       "        if (typeof require !== 'undefined') {\n",
       "        require.undef(\"plotly\");\n",
       "        requirejs.config({\n",
       "            paths: {\n",
       "                'plotly': ['https://cdn.plot.ly/plotly-latest.min']\n",
       "            }\n",
       "        });\n",
       "        require(['plotly'], function(Plotly) {\n",
       "            window._Plotly = Plotly;\n",
       "        });\n",
       "        }\n",
       "        </script>\n",
       "        "
      ]
     },
     "metadata": {},
     "output_type": "display_data"
    },
    {
     "data": {
      "application/vnd.plotly.v1+json": {
       "config": {
        "linkText": "Export to plot.ly",
        "plotlyServerURL": "https://plot.ly",
        "showLink": true
       },
       "data": [
        {
         "marker": {
          "color": "rgba(255, 153, 51, 1.0)",
          "line": {
           "width": 1.3
          },
          "opacity": 0.8,
          "size": 12,
          "symbol": "circle"
         },
         "mode": "markers",
         "name": "poli/bonjour/salut",
         "text": [
          "poli",
          "bonjour",
          "salut"
         ],
         "textfont": {
          "color": "#4D5663"
         },
         "type": "scatter",
         "x": [
          3.639516592025757,
          -0.2869358956813812,
          -1.2429137229919434
         ],
         "y": [
          1.4507509469985962,
          -0.0021376891527324915,
          0.5104632377624512
         ]
        },
        {
         "marker": {
          "color": "rgba(55, 128, 191, 1.0)",
          "line": {
           "width": 1.3
          },
          "opacity": 0.8,
          "size": 12,
          "symbol": "circle"
         },
         "mode": "markers",
         "name": "canapé/fauteuil/table/chaise",
         "text": [
          "canapé",
          "fauteuil",
          "table",
          "chaise"
         ],
         "textfont": {
          "color": "#4D5663"
         },
         "type": "scatter",
         "x": [
          0.5530860424041748,
          1.9455957412719727,
          0.4266563355922699,
          -2.55163311958313
         ],
         "y": [
          -0.7630741596221924,
          0.3480584919452667,
          -1.3402608633041382,
          2.92067551612854
         ]
        },
        {
         "marker": {
          "color": "rgba(50, 171, 96, 1.0)",
          "line": {
           "width": 1.3
          },
          "opacity": 0.8,
          "size": 12,
          "symbol": "circle"
         },
         "mode": "markers",
         "name": "téléphone/portable/numéro/appel",
         "text": [
          "téléphone",
          "portable",
          "numéro",
          "appel"
         ],
         "textfont": {
          "color": "#4D5663"
         },
         "type": "scatter",
         "x": [
          0.8326758146286011,
          -1.400977373123169,
          0.6292291283607483,
          -1.3221100568771362
         ],
         "y": [
          -0.895492672920227,
          0.4013860523700714,
          -0.9495397806167603,
          -1.1994775533676147
         ]
        },
        {
         "marker": {
          "color": "rgba(128, 0, 128, 1.0)",
          "line": {
           "width": 1.3
          },
          "opacity": 0.8,
          "size": 12,
          "symbol": "circle"
         },
         "mode": "markers",
         "name": "voiture/camion/vélo/train",
         "text": [
          "voiture",
          "camion",
          "vélo",
          "train"
         ],
         "textfont": {
          "color": "#4D5663"
         },
         "type": "scatter",
         "x": [
          1.0904479026794434,
          1.6498981714248657,
          -1.0296001434326172,
          -0.6629985570907593
         ],
         "y": [
          -0.7631229758262634,
          -1.0177215337753296,
          0.21797555685043335,
          -0.05842285975813866
         ]
        },
        {
         "marker": {
          "color": "rgba(219, 64, 82, 1.0)",
          "line": {
           "width": 1.3
          },
          "opacity": 0.8,
          "size": 12,
          "symbol": "circle"
         },
         "mode": "markers",
         "name": "beau/mignon/bg/mannequin",
         "text": [
          "beau",
          "mignon",
          "bg",
          "mannequin"
         ],
         "textfont": {
          "color": "#4D5663"
         },
         "type": "scatter",
         "x": [
          0.6619702577590942,
          -1.0353686809539795,
          2.4531116485595703,
          3.4793691635131836
         ],
         "y": [
          -0.567503809928894,
          -0.38378721475601196,
          -1.301865816116333,
          1.6545872688293457
         ]
        },
        {
         "marker": {
          "color": "rgba(0, 128, 128, 1.0)",
          "line": {
           "width": 1.3
          },
          "opacity": 0.8,
          "size": 12,
          "symbol": "circle"
         },
         "mode": "markers",
         "name": "docteur/médecin/santé/bobo",
         "text": [
          "docteur",
          "médecin",
          "santé",
          "bobo"
         ],
         "textfont": {
          "color": "#4D5663"
         },
         "type": "scatter",
         "x": [
          -1.4886770248413086,
          -0.3522256314754486,
          -0.06457573175430298,
          -1.7877979278564453
         ],
         "y": [
          -1.689794898033142,
          2.387824535369873,
          0.383764386177063,
          0.5247026085853577
         ]
        },
        {
         "marker": {
          "color": "rgba(255, 255, 51, 1.0)",
          "line": {
           "width": 1.3
          },
          "opacity": 0.8,
          "size": 12,
          "symbol": "circle"
         },
         "mode": "markers",
         "name": "belle/jolie/mignonne",
         "text": [
          "belle",
          "jolie",
          "mignonne"
         ],
         "textfont": {
          "color": "#4D5663"
         },
         "type": "scatter",
         "x": [
          -0.39047423005104065,
          -0.8132559657096863,
          0.3816070556640625
         ],
         "y": [
          -0.6317034959793091,
          3.608682632446289,
          1.2060413360595703
         ]
        },
        {
         "marker": {
          "color": "rgba(128, 128, 0, 1.0)",
          "line": {
           "width": 1.3
          },
          "opacity": 0.8,
          "size": 12,
          "symbol": "circle"
         },
         "mode": "markers",
         "name": "père/papa/daron",
         "text": [
          "père",
          "papa",
          "daron"
         ],
         "textfont": {
          "color": "#4D5663"
         },
         "type": "scatter",
         "x": [
          -1.162348747253418,
          -0.2794811725616455,
          0.7660655379295349
         ],
         "y": [
          -0.6209859251976013,
          -2.1755785942077637,
          -0.260153204202652
         ]
        },
        {
         "marker": {
          "color": "rgba(251, 128, 114, 1.0)",
          "line": {
           "width": 1.3
          },
          "opacity": 0.8,
          "size": 12,
          "symbol": "circle"
         },
         "mode": "markers",
         "name": "mère/maman/daronne",
         "text": [
          "mère",
          "maman",
          "daronne"
         ],
         "textfont": {
          "color": "#4D5663"
         },
         "type": "scatter",
         "x": [
          -0.8946355581283569,
          0.2847209572792053,
          -1.5851927995681763
         ],
         "y": [
          -1.7774015665054321,
          0.18542484939098358,
          -1.0263861417770386
         ]
        },
        {
         "marker": {
          "color": "rgba(128, 177, 211, 1.0)",
          "line": {
           "width": 1.3
          },
          "opacity": 0.8,
          "size": 12,
          "symbol": "circle"
         },
         "mode": "markers",
         "name": "ol/psg/foot/stade",
         "text": [
          "ol",
          "psg",
          "foot",
          "stade"
         ],
         "textfont": {
          "color": "#4D5663"
         },
         "type": "scatter",
         "x": [
          0.9481499195098877,
          -1.015636682510376,
          -0.30277004837989807,
          -0.07249024510383606
         ],
         "y": [
          0.4732292592525482,
          -0.38921287655830383,
          0.26921725273132324,
          1.2708395719528198
         ]
        }
       ],
       "layout": {
        "legend": {
         "bgcolor": "#F5F6F9",
         "font": {
          "color": "#4D5663"
         }
        },
        "paper_bgcolor": "#F5F6F9",
        "plot_bgcolor": "#F5F6F9",
        "template": {
         "data": {
          "bar": [
           {
            "error_x": {
             "color": "#2a3f5f"
            },
            "error_y": {
             "color": "#2a3f5f"
            },
            "marker": {
             "line": {
              "color": "#E5ECF6",
              "width": 0.5
             }
            },
            "type": "bar"
           }
          ],
          "barpolar": [
           {
            "marker": {
             "line": {
              "color": "#E5ECF6",
              "width": 0.5
             }
            },
            "type": "barpolar"
           }
          ],
          "carpet": [
           {
            "aaxis": {
             "endlinecolor": "#2a3f5f",
             "gridcolor": "white",
             "linecolor": "white",
             "minorgridcolor": "white",
             "startlinecolor": "#2a3f5f"
            },
            "baxis": {
             "endlinecolor": "#2a3f5f",
             "gridcolor": "white",
             "linecolor": "white",
             "minorgridcolor": "white",
             "startlinecolor": "#2a3f5f"
            },
            "type": "carpet"
           }
          ],
          "choropleth": [
           {
            "colorbar": {
             "outlinewidth": 0,
             "ticks": ""
            },
            "type": "choropleth"
           }
          ],
          "contour": [
           {
            "colorbar": {
             "outlinewidth": 0,
             "ticks": ""
            },
            "colorscale": [
             [
              0,
              "#0d0887"
             ],
             [
              0.1111111111111111,
              "#46039f"
             ],
             [
              0.2222222222222222,
              "#7201a8"
             ],
             [
              0.3333333333333333,
              "#9c179e"
             ],
             [
              0.4444444444444444,
              "#bd3786"
             ],
             [
              0.5555555555555556,
              "#d8576b"
             ],
             [
              0.6666666666666666,
              "#ed7953"
             ],
             [
              0.7777777777777778,
              "#fb9f3a"
             ],
             [
              0.8888888888888888,
              "#fdca26"
             ],
             [
              1,
              "#f0f921"
             ]
            ],
            "type": "contour"
           }
          ],
          "contourcarpet": [
           {
            "colorbar": {
             "outlinewidth": 0,
             "ticks": ""
            },
            "type": "contourcarpet"
           }
          ],
          "heatmap": [
           {
            "colorbar": {
             "outlinewidth": 0,
             "ticks": ""
            },
            "colorscale": [
             [
              0,
              "#0d0887"
             ],
             [
              0.1111111111111111,
              "#46039f"
             ],
             [
              0.2222222222222222,
              "#7201a8"
             ],
             [
              0.3333333333333333,
              "#9c179e"
             ],
             [
              0.4444444444444444,
              "#bd3786"
             ],
             [
              0.5555555555555556,
              "#d8576b"
             ],
             [
              0.6666666666666666,
              "#ed7953"
             ],
             [
              0.7777777777777778,
              "#fb9f3a"
             ],
             [
              0.8888888888888888,
              "#fdca26"
             ],
             [
              1,
              "#f0f921"
             ]
            ],
            "type": "heatmap"
           }
          ],
          "heatmapgl": [
           {
            "colorbar": {
             "outlinewidth": 0,
             "ticks": ""
            },
            "colorscale": [
             [
              0,
              "#0d0887"
             ],
             [
              0.1111111111111111,
              "#46039f"
             ],
             [
              0.2222222222222222,
              "#7201a8"
             ],
             [
              0.3333333333333333,
              "#9c179e"
             ],
             [
              0.4444444444444444,
              "#bd3786"
             ],
             [
              0.5555555555555556,
              "#d8576b"
             ],
             [
              0.6666666666666666,
              "#ed7953"
             ],
             [
              0.7777777777777778,
              "#fb9f3a"
             ],
             [
              0.8888888888888888,
              "#fdca26"
             ],
             [
              1,
              "#f0f921"
             ]
            ],
            "type": "heatmapgl"
           }
          ],
          "histogram": [
           {
            "marker": {
             "colorbar": {
              "outlinewidth": 0,
              "ticks": ""
             }
            },
            "type": "histogram"
           }
          ],
          "histogram2d": [
           {
            "colorbar": {
             "outlinewidth": 0,
             "ticks": ""
            },
            "colorscale": [
             [
              0,
              "#0d0887"
             ],
             [
              0.1111111111111111,
              "#46039f"
             ],
             [
              0.2222222222222222,
              "#7201a8"
             ],
             [
              0.3333333333333333,
              "#9c179e"
             ],
             [
              0.4444444444444444,
              "#bd3786"
             ],
             [
              0.5555555555555556,
              "#d8576b"
             ],
             [
              0.6666666666666666,
              "#ed7953"
             ],
             [
              0.7777777777777778,
              "#fb9f3a"
             ],
             [
              0.8888888888888888,
              "#fdca26"
             ],
             [
              1,
              "#f0f921"
             ]
            ],
            "type": "histogram2d"
           }
          ],
          "histogram2dcontour": [
           {
            "colorbar": {
             "outlinewidth": 0,
             "ticks": ""
            },
            "colorscale": [
             [
              0,
              "#0d0887"
             ],
             [
              0.1111111111111111,
              "#46039f"
             ],
             [
              0.2222222222222222,
              "#7201a8"
             ],
             [
              0.3333333333333333,
              "#9c179e"
             ],
             [
              0.4444444444444444,
              "#bd3786"
             ],
             [
              0.5555555555555556,
              "#d8576b"
             ],
             [
              0.6666666666666666,
              "#ed7953"
             ],
             [
              0.7777777777777778,
              "#fb9f3a"
             ],
             [
              0.8888888888888888,
              "#fdca26"
             ],
             [
              1,
              "#f0f921"
             ]
            ],
            "type": "histogram2dcontour"
           }
          ],
          "mesh3d": [
           {
            "colorbar": {
             "outlinewidth": 0,
             "ticks": ""
            },
            "type": "mesh3d"
           }
          ],
          "parcoords": [
           {
            "line": {
             "colorbar": {
              "outlinewidth": 0,
              "ticks": ""
             }
            },
            "type": "parcoords"
           }
          ],
          "pie": [
           {
            "automargin": true,
            "type": "pie"
           }
          ],
          "scatter": [
           {
            "marker": {
             "colorbar": {
              "outlinewidth": 0,
              "ticks": ""
             }
            },
            "type": "scatter"
           }
          ],
          "scatter3d": [
           {
            "line": {
             "colorbar": {
              "outlinewidth": 0,
              "ticks": ""
             }
            },
            "marker": {
             "colorbar": {
              "outlinewidth": 0,
              "ticks": ""
             }
            },
            "type": "scatter3d"
           }
          ],
          "scattercarpet": [
           {
            "marker": {
             "colorbar": {
              "outlinewidth": 0,
              "ticks": ""
             }
            },
            "type": "scattercarpet"
           }
          ],
          "scattergeo": [
           {
            "marker": {
             "colorbar": {
              "outlinewidth": 0,
              "ticks": ""
             }
            },
            "type": "scattergeo"
           }
          ],
          "scattergl": [
           {
            "marker": {
             "colorbar": {
              "outlinewidth": 0,
              "ticks": ""
             }
            },
            "type": "scattergl"
           }
          ],
          "scattermapbox": [
           {
            "marker": {
             "colorbar": {
              "outlinewidth": 0,
              "ticks": ""
             }
            },
            "type": "scattermapbox"
           }
          ],
          "scatterpolar": [
           {
            "marker": {
             "colorbar": {
              "outlinewidth": 0,
              "ticks": ""
             }
            },
            "type": "scatterpolar"
           }
          ],
          "scatterpolargl": [
           {
            "marker": {
             "colorbar": {
              "outlinewidth": 0,
              "ticks": ""
             }
            },
            "type": "scatterpolargl"
           }
          ],
          "scatterternary": [
           {
            "marker": {
             "colorbar": {
              "outlinewidth": 0,
              "ticks": ""
             }
            },
            "type": "scatterternary"
           }
          ],
          "surface": [
           {
            "colorbar": {
             "outlinewidth": 0,
             "ticks": ""
            },
            "colorscale": [
             [
              0,
              "#0d0887"
             ],
             [
              0.1111111111111111,
              "#46039f"
             ],
             [
              0.2222222222222222,
              "#7201a8"
             ],
             [
              0.3333333333333333,
              "#9c179e"
             ],
             [
              0.4444444444444444,
              "#bd3786"
             ],
             [
              0.5555555555555556,
              "#d8576b"
             ],
             [
              0.6666666666666666,
              "#ed7953"
             ],
             [
              0.7777777777777778,
              "#fb9f3a"
             ],
             [
              0.8888888888888888,
              "#fdca26"
             ],
             [
              1,
              "#f0f921"
             ]
            ],
            "type": "surface"
           }
          ],
          "table": [
           {
            "cells": {
             "fill": {
              "color": "#EBF0F8"
             },
             "line": {
              "color": "white"
             }
            },
            "header": {
             "fill": {
              "color": "#C8D4E3"
             },
             "line": {
              "color": "white"
             }
            },
            "type": "table"
           }
          ]
         },
         "layout": {
          "annotationdefaults": {
           "arrowcolor": "#2a3f5f",
           "arrowhead": 0,
           "arrowwidth": 1
          },
          "coloraxis": {
           "colorbar": {
            "outlinewidth": 0,
            "ticks": ""
           }
          },
          "colorscale": {
           "diverging": [
            [
             0,
             "#8e0152"
            ],
            [
             0.1,
             "#c51b7d"
            ],
            [
             0.2,
             "#de77ae"
            ],
            [
             0.3,
             "#f1b6da"
            ],
            [
             0.4,
             "#fde0ef"
            ],
            [
             0.5,
             "#f7f7f7"
            ],
            [
             0.6,
             "#e6f5d0"
            ],
            [
             0.7,
             "#b8e186"
            ],
            [
             0.8,
             "#7fbc41"
            ],
            [
             0.9,
             "#4d9221"
            ],
            [
             1,
             "#276419"
            ]
           ],
           "sequential": [
            [
             0,
             "#0d0887"
            ],
            [
             0.1111111111111111,
             "#46039f"
            ],
            [
             0.2222222222222222,
             "#7201a8"
            ],
            [
             0.3333333333333333,
             "#9c179e"
            ],
            [
             0.4444444444444444,
             "#bd3786"
            ],
            [
             0.5555555555555556,
             "#d8576b"
            ],
            [
             0.6666666666666666,
             "#ed7953"
            ],
            [
             0.7777777777777778,
             "#fb9f3a"
            ],
            [
             0.8888888888888888,
             "#fdca26"
            ],
            [
             1,
             "#f0f921"
            ]
           ],
           "sequentialminus": [
            [
             0,
             "#0d0887"
            ],
            [
             0.1111111111111111,
             "#46039f"
            ],
            [
             0.2222222222222222,
             "#7201a8"
            ],
            [
             0.3333333333333333,
             "#9c179e"
            ],
            [
             0.4444444444444444,
             "#bd3786"
            ],
            [
             0.5555555555555556,
             "#d8576b"
            ],
            [
             0.6666666666666666,
             "#ed7953"
            ],
            [
             0.7777777777777778,
             "#fb9f3a"
            ],
            [
             0.8888888888888888,
             "#fdca26"
            ],
            [
             1,
             "#f0f921"
            ]
           ]
          },
          "colorway": [
           "#636efa",
           "#EF553B",
           "#00cc96",
           "#ab63fa",
           "#FFA15A",
           "#19d3f3",
           "#FF6692",
           "#B6E880",
           "#FF97FF",
           "#FECB52"
          ],
          "font": {
           "color": "#2a3f5f"
          },
          "geo": {
           "bgcolor": "white",
           "lakecolor": "white",
           "landcolor": "#E5ECF6",
           "showlakes": true,
           "showland": true,
           "subunitcolor": "white"
          },
          "hoverlabel": {
           "align": "left"
          },
          "hovermode": "closest",
          "mapbox": {
           "style": "light"
          },
          "paper_bgcolor": "white",
          "plot_bgcolor": "#E5ECF6",
          "polar": {
           "angularaxis": {
            "gridcolor": "white",
            "linecolor": "white",
            "ticks": ""
           },
           "bgcolor": "#E5ECF6",
           "radialaxis": {
            "gridcolor": "white",
            "linecolor": "white",
            "ticks": ""
           }
          },
          "scene": {
           "xaxis": {
            "backgroundcolor": "#E5ECF6",
            "gridcolor": "white",
            "gridwidth": 2,
            "linecolor": "white",
            "showbackground": true,
            "ticks": "",
            "zerolinecolor": "white"
           },
           "yaxis": {
            "backgroundcolor": "#E5ECF6",
            "gridcolor": "white",
            "gridwidth": 2,
            "linecolor": "white",
            "showbackground": true,
            "ticks": "",
            "zerolinecolor": "white"
           },
           "zaxis": {
            "backgroundcolor": "#E5ECF6",
            "gridcolor": "white",
            "gridwidth": 2,
            "linecolor": "white",
            "showbackground": true,
            "ticks": "",
            "zerolinecolor": "white"
           }
          },
          "shapedefaults": {
           "line": {
            "color": "#2a3f5f"
           }
          },
          "ternary": {
           "aaxis": {
            "gridcolor": "white",
            "linecolor": "white",
            "ticks": ""
           },
           "baxis": {
            "gridcolor": "white",
            "linecolor": "white",
            "ticks": ""
           },
           "bgcolor": "#E5ECF6",
           "caxis": {
            "gridcolor": "white",
            "linecolor": "white",
            "ticks": ""
           }
          },
          "title": {
           "x": 0.05
          },
          "xaxis": {
           "automargin": true,
           "gridcolor": "white",
           "linecolor": "white",
           "ticks": "",
           "title": {
            "standoff": 15
           },
           "zerolinecolor": "white",
           "zerolinewidth": 2
          },
          "yaxis": {
           "automargin": true,
           "gridcolor": "white",
           "linecolor": "white",
           "ticks": "",
           "title": {
            "standoff": 15
           },
           "zerolinecolor": "white",
           "zerolinewidth": 2
          }
         }
        },
        "title": {
         "font": {
          "color": "#4D5663"
         },
         "text": "ACP en 2 composantes"
        },
        "xaxis": {
         "gridcolor": "#E1E5ED",
         "showgrid": true,
         "tickfont": {
          "color": "#4D5663"
         },
         "title": {
          "font": {
           "color": "#4D5663"
          },
          "text": "Axe 1"
         },
         "zerolinecolor": "#E1E5ED"
        },
        "yaxis": {
         "gridcolor": "#E1E5ED",
         "showgrid": true,
         "tickfont": {
          "color": "#4D5663"
         },
         "title": {
          "font": {
           "color": "#4D5663"
          },
          "text": "Axe 2"
         },
         "zerolinecolor": "#E1E5ED"
        }
       }
      },
      "text/html": [
       "<div>\n",
       "        \n",
       "        \n",
       "            <div id=\"88966e76-cbfe-4bd3-a503-fdaef1e10f9f\" class=\"plotly-graph-div\" style=\"height:525px; width:100%;\"></div>\n",
       "            <script type=\"text/javascript\">\n",
       "                require([\"plotly\"], function(Plotly) {\n",
       "                    window.PLOTLYENV=window.PLOTLYENV || {};\n",
       "                    window.PLOTLYENV.BASE_URL='https://plot.ly';\n",
       "                    \n",
       "                if (document.getElementById(\"88966e76-cbfe-4bd3-a503-fdaef1e10f9f\")) {\n",
       "                    Plotly.newPlot(\n",
       "                        '88966e76-cbfe-4bd3-a503-fdaef1e10f9f',\n",
       "                        [{\"marker\": {\"color\": \"rgba(255, 153, 51, 1.0)\", \"line\": {\"width\": 1.3}, \"opacity\": 0.8, \"size\": 12, \"symbol\": \"circle\"}, \"mode\": \"markers\", \"name\": \"poli/bonjour/salut\", \"text\": [\"poli\", \"bonjour\", \"salut\"], \"textfont\": {\"color\": \"#4D5663\"}, \"type\": \"scatter\", \"x\": [3.639516592025757, -0.2869358956813812, -1.2429137229919434], \"y\": [1.4507509469985962, -0.0021376891527324915, 0.5104632377624512]}, {\"marker\": {\"color\": \"rgba(55, 128, 191, 1.0)\", \"line\": {\"width\": 1.3}, \"opacity\": 0.8, \"size\": 12, \"symbol\": \"circle\"}, \"mode\": \"markers\", \"name\": \"canap\\u00e9/fauteuil/table/chaise\", \"text\": [\"canap\\u00e9\", \"fauteuil\", \"table\", \"chaise\"], \"textfont\": {\"color\": \"#4D5663\"}, \"type\": \"scatter\", \"x\": [0.5530860424041748, 1.9455957412719727, 0.4266563355922699, -2.55163311958313], \"y\": [-0.7630741596221924, 0.3480584919452667, -1.3402608633041382, 2.92067551612854]}, {\"marker\": {\"color\": \"rgba(50, 171, 96, 1.0)\", \"line\": {\"width\": 1.3}, \"opacity\": 0.8, \"size\": 12, \"symbol\": \"circle\"}, \"mode\": \"markers\", \"name\": \"t\\u00e9l\\u00e9phone/portable/num\\u00e9ro/appel\", \"text\": [\"t\\u00e9l\\u00e9phone\", \"portable\", \"num\\u00e9ro\", \"appel\"], \"textfont\": {\"color\": \"#4D5663\"}, \"type\": \"scatter\", \"x\": [0.8326758146286011, -1.400977373123169, 0.6292291283607483, -1.3221100568771362], \"y\": [-0.895492672920227, 0.4013860523700714, -0.9495397806167603, -1.1994775533676147]}, {\"marker\": {\"color\": \"rgba(128, 0, 128, 1.0)\", \"line\": {\"width\": 1.3}, \"opacity\": 0.8, \"size\": 12, \"symbol\": \"circle\"}, \"mode\": \"markers\", \"name\": \"voiture/camion/v\\u00e9lo/train\", \"text\": [\"voiture\", \"camion\", \"v\\u00e9lo\", \"train\"], \"textfont\": {\"color\": \"#4D5663\"}, \"type\": \"scatter\", \"x\": [1.0904479026794434, 1.6498981714248657, -1.0296001434326172, -0.6629985570907593], \"y\": [-0.7631229758262634, -1.0177215337753296, 0.21797555685043335, -0.05842285975813866]}, {\"marker\": {\"color\": \"rgba(219, 64, 82, 1.0)\", \"line\": {\"width\": 1.3}, \"opacity\": 0.8, \"size\": 12, \"symbol\": \"circle\"}, \"mode\": \"markers\", \"name\": \"beau/mignon/bg/mannequin\", \"text\": [\"beau\", \"mignon\", \"bg\", \"mannequin\"], \"textfont\": {\"color\": \"#4D5663\"}, \"type\": \"scatter\", \"x\": [0.6619702577590942, -1.0353686809539795, 2.4531116485595703, 3.4793691635131836], \"y\": [-0.567503809928894, -0.38378721475601196, -1.301865816116333, 1.6545872688293457]}, {\"marker\": {\"color\": \"rgba(0, 128, 128, 1.0)\", \"line\": {\"width\": 1.3}, \"opacity\": 0.8, \"size\": 12, \"symbol\": \"circle\"}, \"mode\": \"markers\", \"name\": \"docteur/m\\u00e9decin/sant\\u00e9/bobo\", \"text\": [\"docteur\", \"m\\u00e9decin\", \"sant\\u00e9\", \"bobo\"], \"textfont\": {\"color\": \"#4D5663\"}, \"type\": \"scatter\", \"x\": [-1.4886770248413086, -0.3522256314754486, -0.06457573175430298, -1.7877979278564453], \"y\": [-1.689794898033142, 2.387824535369873, 0.383764386177063, 0.5247026085853577]}, {\"marker\": {\"color\": \"rgba(255, 255, 51, 1.0)\", \"line\": {\"width\": 1.3}, \"opacity\": 0.8, \"size\": 12, \"symbol\": \"circle\"}, \"mode\": \"markers\", \"name\": \"belle/jolie/mignonne\", \"text\": [\"belle\", \"jolie\", \"mignonne\"], \"textfont\": {\"color\": \"#4D5663\"}, \"type\": \"scatter\", \"x\": [-0.39047423005104065, -0.8132559657096863, 0.3816070556640625], \"y\": [-0.6317034959793091, 3.608682632446289, 1.2060413360595703]}, {\"marker\": {\"color\": \"rgba(128, 128, 0, 1.0)\", \"line\": {\"width\": 1.3}, \"opacity\": 0.8, \"size\": 12, \"symbol\": \"circle\"}, \"mode\": \"markers\", \"name\": \"p\\u00e8re/papa/daron\", \"text\": [\"p\\u00e8re\", \"papa\", \"daron\"], \"textfont\": {\"color\": \"#4D5663\"}, \"type\": \"scatter\", \"x\": [-1.162348747253418, -0.2794811725616455, 0.7660655379295349], \"y\": [-0.6209859251976013, -2.1755785942077637, -0.260153204202652]}, {\"marker\": {\"color\": \"rgba(251, 128, 114, 1.0)\", \"line\": {\"width\": 1.3}, \"opacity\": 0.8, \"size\": 12, \"symbol\": \"circle\"}, \"mode\": \"markers\", \"name\": \"m\\u00e8re/maman/daronne\", \"text\": [\"m\\u00e8re\", \"maman\", \"daronne\"], \"textfont\": {\"color\": \"#4D5663\"}, \"type\": \"scatter\", \"x\": [-0.8946355581283569, 0.2847209572792053, -1.5851927995681763], \"y\": [-1.7774015665054321, 0.18542484939098358, -1.0263861417770386]}, {\"marker\": {\"color\": \"rgba(128, 177, 211, 1.0)\", \"line\": {\"width\": 1.3}, \"opacity\": 0.8, \"size\": 12, \"symbol\": \"circle\"}, \"mode\": \"markers\", \"name\": \"ol/psg/foot/stade\", \"text\": [\"ol\", \"psg\", \"foot\", \"stade\"], \"textfont\": {\"color\": \"#4D5663\"}, \"type\": \"scatter\", \"x\": [0.9481499195098877, -1.015636682510376, -0.30277004837989807, -0.07249024510383606], \"y\": [0.4732292592525482, -0.38921287655830383, 0.26921725273132324, 1.2708395719528198]}],\n",
       "                        {\"legend\": {\"bgcolor\": \"#F5F6F9\", \"font\": {\"color\": \"#4D5663\"}}, \"paper_bgcolor\": \"#F5F6F9\", \"plot_bgcolor\": \"#F5F6F9\", \"template\": {\"data\": {\"bar\": [{\"error_x\": {\"color\": \"#2a3f5f\"}, \"error_y\": {\"color\": \"#2a3f5f\"}, \"marker\": {\"line\": {\"color\": \"#E5ECF6\", \"width\": 0.5}}, \"type\": \"bar\"}], \"barpolar\": [{\"marker\": {\"line\": {\"color\": \"#E5ECF6\", \"width\": 0.5}}, \"type\": \"barpolar\"}], \"carpet\": [{\"aaxis\": {\"endlinecolor\": \"#2a3f5f\", \"gridcolor\": \"white\", \"linecolor\": \"white\", \"minorgridcolor\": \"white\", \"startlinecolor\": \"#2a3f5f\"}, \"baxis\": {\"endlinecolor\": \"#2a3f5f\", \"gridcolor\": \"white\", \"linecolor\": \"white\", \"minorgridcolor\": \"white\", \"startlinecolor\": \"#2a3f5f\"}, \"type\": \"carpet\"}], \"choropleth\": [{\"colorbar\": {\"outlinewidth\": 0, \"ticks\": \"\"}, \"type\": \"choropleth\"}], \"contour\": [{\"colorbar\": {\"outlinewidth\": 0, \"ticks\": \"\"}, \"colorscale\": [[0.0, \"#0d0887\"], [0.1111111111111111, \"#46039f\"], [0.2222222222222222, \"#7201a8\"], [0.3333333333333333, \"#9c179e\"], [0.4444444444444444, \"#bd3786\"], [0.5555555555555556, \"#d8576b\"], [0.6666666666666666, \"#ed7953\"], [0.7777777777777778, \"#fb9f3a\"], [0.8888888888888888, \"#fdca26\"], [1.0, \"#f0f921\"]], \"type\": \"contour\"}], \"contourcarpet\": [{\"colorbar\": {\"outlinewidth\": 0, \"ticks\": \"\"}, \"type\": \"contourcarpet\"}], \"heatmap\": [{\"colorbar\": {\"outlinewidth\": 0, \"ticks\": \"\"}, \"colorscale\": [[0.0, \"#0d0887\"], [0.1111111111111111, \"#46039f\"], [0.2222222222222222, \"#7201a8\"], [0.3333333333333333, \"#9c179e\"], [0.4444444444444444, \"#bd3786\"], [0.5555555555555556, \"#d8576b\"], [0.6666666666666666, \"#ed7953\"], [0.7777777777777778, \"#fb9f3a\"], [0.8888888888888888, \"#fdca26\"], [1.0, \"#f0f921\"]], \"type\": \"heatmap\"}], \"heatmapgl\": [{\"colorbar\": {\"outlinewidth\": 0, \"ticks\": \"\"}, \"colorscale\": [[0.0, \"#0d0887\"], [0.1111111111111111, \"#46039f\"], [0.2222222222222222, \"#7201a8\"], [0.3333333333333333, \"#9c179e\"], [0.4444444444444444, \"#bd3786\"], [0.5555555555555556, \"#d8576b\"], [0.6666666666666666, \"#ed7953\"], [0.7777777777777778, \"#fb9f3a\"], [0.8888888888888888, \"#fdca26\"], [1.0, \"#f0f921\"]], \"type\": \"heatmapgl\"}], \"histogram\": [{\"marker\": {\"colorbar\": {\"outlinewidth\": 0, \"ticks\": \"\"}}, \"type\": \"histogram\"}], \"histogram2d\": [{\"colorbar\": {\"outlinewidth\": 0, \"ticks\": \"\"}, \"colorscale\": [[0.0, \"#0d0887\"], [0.1111111111111111, \"#46039f\"], [0.2222222222222222, \"#7201a8\"], [0.3333333333333333, \"#9c179e\"], [0.4444444444444444, \"#bd3786\"], [0.5555555555555556, \"#d8576b\"], [0.6666666666666666, \"#ed7953\"], [0.7777777777777778, \"#fb9f3a\"], [0.8888888888888888, \"#fdca26\"], [1.0, \"#f0f921\"]], \"type\": \"histogram2d\"}], \"histogram2dcontour\": [{\"colorbar\": {\"outlinewidth\": 0, \"ticks\": \"\"}, \"colorscale\": [[0.0, \"#0d0887\"], [0.1111111111111111, \"#46039f\"], [0.2222222222222222, \"#7201a8\"], [0.3333333333333333, \"#9c179e\"], [0.4444444444444444, \"#bd3786\"], [0.5555555555555556, \"#d8576b\"], [0.6666666666666666, \"#ed7953\"], [0.7777777777777778, \"#fb9f3a\"], [0.8888888888888888, \"#fdca26\"], [1.0, \"#f0f921\"]], \"type\": \"histogram2dcontour\"}], \"mesh3d\": [{\"colorbar\": {\"outlinewidth\": 0, \"ticks\": \"\"}, \"type\": \"mesh3d\"}], \"parcoords\": [{\"line\": {\"colorbar\": {\"outlinewidth\": 0, \"ticks\": \"\"}}, \"type\": \"parcoords\"}], \"pie\": [{\"automargin\": true, \"type\": \"pie\"}], \"scatter\": [{\"marker\": {\"colorbar\": {\"outlinewidth\": 0, \"ticks\": \"\"}}, \"type\": \"scatter\"}], \"scatter3d\": [{\"line\": {\"colorbar\": {\"outlinewidth\": 0, \"ticks\": \"\"}}, \"marker\": {\"colorbar\": {\"outlinewidth\": 0, \"ticks\": \"\"}}, \"type\": \"scatter3d\"}], \"scattercarpet\": [{\"marker\": {\"colorbar\": {\"outlinewidth\": 0, \"ticks\": \"\"}}, \"type\": \"scattercarpet\"}], \"scattergeo\": [{\"marker\": {\"colorbar\": {\"outlinewidth\": 0, \"ticks\": \"\"}}, \"type\": \"scattergeo\"}], \"scattergl\": [{\"marker\": {\"colorbar\": {\"outlinewidth\": 0, \"ticks\": \"\"}}, \"type\": \"scattergl\"}], \"scattermapbox\": [{\"marker\": {\"colorbar\": {\"outlinewidth\": 0, \"ticks\": \"\"}}, \"type\": \"scattermapbox\"}], \"scatterpolar\": [{\"marker\": {\"colorbar\": {\"outlinewidth\": 0, \"ticks\": \"\"}}, \"type\": \"scatterpolar\"}], \"scatterpolargl\": [{\"marker\": {\"colorbar\": {\"outlinewidth\": 0, \"ticks\": \"\"}}, \"type\": \"scatterpolargl\"}], \"scatterternary\": [{\"marker\": {\"colorbar\": {\"outlinewidth\": 0, \"ticks\": \"\"}}, \"type\": \"scatterternary\"}], \"surface\": [{\"colorbar\": {\"outlinewidth\": 0, \"ticks\": \"\"}, \"colorscale\": [[0.0, \"#0d0887\"], [0.1111111111111111, \"#46039f\"], [0.2222222222222222, \"#7201a8\"], [0.3333333333333333, \"#9c179e\"], [0.4444444444444444, \"#bd3786\"], [0.5555555555555556, \"#d8576b\"], [0.6666666666666666, \"#ed7953\"], [0.7777777777777778, \"#fb9f3a\"], [0.8888888888888888, \"#fdca26\"], [1.0, \"#f0f921\"]], \"type\": \"surface\"}], \"table\": [{\"cells\": {\"fill\": {\"color\": \"#EBF0F8\"}, \"line\": {\"color\": \"white\"}}, \"header\": {\"fill\": {\"color\": \"#C8D4E3\"}, \"line\": {\"color\": \"white\"}}, \"type\": \"table\"}]}, \"layout\": {\"annotationdefaults\": {\"arrowcolor\": \"#2a3f5f\", \"arrowhead\": 0, \"arrowwidth\": 1}, \"coloraxis\": {\"colorbar\": {\"outlinewidth\": 0, \"ticks\": \"\"}}, \"colorscale\": {\"diverging\": [[0, \"#8e0152\"], [0.1, \"#c51b7d\"], [0.2, \"#de77ae\"], [0.3, \"#f1b6da\"], [0.4, \"#fde0ef\"], [0.5, \"#f7f7f7\"], [0.6, \"#e6f5d0\"], [0.7, \"#b8e186\"], [0.8, \"#7fbc41\"], [0.9, \"#4d9221\"], [1, \"#276419\"]], \"sequential\": [[0.0, \"#0d0887\"], [0.1111111111111111, \"#46039f\"], [0.2222222222222222, \"#7201a8\"], [0.3333333333333333, \"#9c179e\"], [0.4444444444444444, \"#bd3786\"], [0.5555555555555556, \"#d8576b\"], [0.6666666666666666, \"#ed7953\"], [0.7777777777777778, \"#fb9f3a\"], [0.8888888888888888, \"#fdca26\"], [1.0, \"#f0f921\"]], \"sequentialminus\": [[0.0, \"#0d0887\"], [0.1111111111111111, \"#46039f\"], [0.2222222222222222, \"#7201a8\"], [0.3333333333333333, \"#9c179e\"], [0.4444444444444444, \"#bd3786\"], [0.5555555555555556, \"#d8576b\"], [0.6666666666666666, \"#ed7953\"], [0.7777777777777778, \"#fb9f3a\"], [0.8888888888888888, \"#fdca26\"], [1.0, \"#f0f921\"]]}, \"colorway\": [\"#636efa\", \"#EF553B\", \"#00cc96\", \"#ab63fa\", \"#FFA15A\", \"#19d3f3\", \"#FF6692\", \"#B6E880\", \"#FF97FF\", \"#FECB52\"], \"font\": {\"color\": \"#2a3f5f\"}, \"geo\": {\"bgcolor\": \"white\", \"lakecolor\": \"white\", \"landcolor\": \"#E5ECF6\", \"showlakes\": true, \"showland\": true, \"subunitcolor\": \"white\"}, \"hoverlabel\": {\"align\": \"left\"}, \"hovermode\": \"closest\", \"mapbox\": {\"style\": \"light\"}, \"paper_bgcolor\": \"white\", \"plot_bgcolor\": \"#E5ECF6\", \"polar\": {\"angularaxis\": {\"gridcolor\": \"white\", \"linecolor\": \"white\", \"ticks\": \"\"}, \"bgcolor\": \"#E5ECF6\", \"radialaxis\": {\"gridcolor\": \"white\", \"linecolor\": \"white\", \"ticks\": \"\"}}, \"scene\": {\"xaxis\": {\"backgroundcolor\": \"#E5ECF6\", \"gridcolor\": \"white\", \"gridwidth\": 2, \"linecolor\": \"white\", \"showbackground\": true, \"ticks\": \"\", \"zerolinecolor\": \"white\"}, \"yaxis\": {\"backgroundcolor\": \"#E5ECF6\", \"gridcolor\": \"white\", \"gridwidth\": 2, \"linecolor\": \"white\", \"showbackground\": true, \"ticks\": \"\", \"zerolinecolor\": \"white\"}, \"zaxis\": {\"backgroundcolor\": \"#E5ECF6\", \"gridcolor\": \"white\", \"gridwidth\": 2, \"linecolor\": \"white\", \"showbackground\": true, \"ticks\": \"\", \"zerolinecolor\": \"white\"}}, \"shapedefaults\": {\"line\": {\"color\": \"#2a3f5f\"}}, \"ternary\": {\"aaxis\": {\"gridcolor\": \"white\", \"linecolor\": \"white\", \"ticks\": \"\"}, \"baxis\": {\"gridcolor\": \"white\", \"linecolor\": \"white\", \"ticks\": \"\"}, \"bgcolor\": \"#E5ECF6\", \"caxis\": {\"gridcolor\": \"white\", \"linecolor\": \"white\", \"ticks\": \"\"}}, \"title\": {\"x\": 0.05}, \"xaxis\": {\"automargin\": true, \"gridcolor\": \"white\", \"linecolor\": \"white\", \"ticks\": \"\", \"title\": {\"standoff\": 15}, \"zerolinecolor\": \"white\", \"zerolinewidth\": 2}, \"yaxis\": {\"automargin\": true, \"gridcolor\": \"white\", \"linecolor\": \"white\", \"ticks\": \"\", \"title\": {\"standoff\": 15}, \"zerolinecolor\": \"white\", \"zerolinewidth\": 2}}}, \"title\": {\"font\": {\"color\": \"#4D5663\"}, \"text\": \"ACP en 2 composantes\"}, \"xaxis\": {\"gridcolor\": \"#E1E5ED\", \"showgrid\": true, \"tickfont\": {\"color\": \"#4D5663\"}, \"title\": {\"font\": {\"color\": \"#4D5663\"}, \"text\": \"Axe 1\"}, \"zerolinecolor\": \"#E1E5ED\"}, \"yaxis\": {\"gridcolor\": \"#E1E5ED\", \"showgrid\": true, \"tickfont\": {\"color\": \"#4D5663\"}, \"title\": {\"font\": {\"color\": \"#4D5663\"}, \"text\": \"Axe 2\"}, \"zerolinecolor\": \"#E1E5ED\"}},\n",
       "                        {\"showLink\": true, \"linkText\": \"Export to plot.ly\", \"plotlyServerURL\": \"https://plot.ly\", \"responsive\": true}\n",
       "                    ).then(function(){\n",
       "                            \n",
       "var gd = document.getElementById('88966e76-cbfe-4bd3-a503-fdaef1e10f9f');\n",
       "var x = new MutationObserver(function (mutations, observer) {{\n",
       "        var display = window.getComputedStyle(gd).display;\n",
       "        if (!display || display === 'none') {{\n",
       "            console.log([gd, 'removed!']);\n",
       "            Plotly.purge(gd);\n",
       "            observer.disconnect();\n",
       "        }}\n",
       "}});\n",
       "\n",
       "// Listen for the removal of the full notebook cells\n",
       "var notebookContainer = gd.closest('#notebook-container');\n",
       "if (notebookContainer) {{\n",
       "    x.observe(notebookContainer, {childList: true});\n",
       "}}\n",
       "\n",
       "// Listen for the clearing of the current output cell\n",
       "var outputEl = gd.closest('.output');\n",
       "if (outputEl) {{\n",
       "    x.observe(outputEl, {childList: true});\n",
       "}}\n",
       "\n",
       "                        })\n",
       "                };\n",
       "                });\n",
       "            </script>\n",
       "        </div>"
      ]
     },
     "metadata": {},
     "output_type": "display_data"
    }
   ],
   "source": [
    "ACP(liste1, statique = False)"
   ]
  },
  {
   "cell_type": "code",
   "execution_count": 175,
   "metadata": {
    "scrolled": true
   },
   "outputs": [
    {
     "data": {
      "text/html": [
       "        <script type=\"text/javascript\">\n",
       "        window.PlotlyConfig = {MathJaxConfig: 'local'};\n",
       "        if (window.MathJax) {MathJax.Hub.Config({SVG: {font: \"STIX-Web\"}});}\n",
       "        if (typeof require !== 'undefined') {\n",
       "        require.undef(\"plotly\");\n",
       "        requirejs.config({\n",
       "            paths: {\n",
       "                'plotly': ['https://cdn.plot.ly/plotly-latest.min']\n",
       "            }\n",
       "        });\n",
       "        require(['plotly'], function(Plotly) {\n",
       "            window._Plotly = Plotly;\n",
       "        });\n",
       "        }\n",
       "        </script>\n",
       "        "
      ]
     },
     "metadata": {},
     "output_type": "display_data"
    },
    {
     "data": {
      "text/html": [
       "        <script type=\"text/javascript\">\n",
       "        window.PlotlyConfig = {MathJaxConfig: 'local'};\n",
       "        if (window.MathJax) {MathJax.Hub.Config({SVG: {font: \"STIX-Web\"}});}\n",
       "        if (typeof require !== 'undefined') {\n",
       "        require.undef(\"plotly\");\n",
       "        requirejs.config({\n",
       "            paths: {\n",
       "                'plotly': ['https://cdn.plot.ly/plotly-latest.min']\n",
       "            }\n",
       "        });\n",
       "        require(['plotly'], function(Plotly) {\n",
       "            window._Plotly = Plotly;\n",
       "        });\n",
       "        }\n",
       "        </script>\n",
       "        "
      ]
     },
     "metadata": {},
     "output_type": "display_data"
    },
    {
     "data": {
      "application/vnd.plotly.v1+json": {
       "config": {
        "linkText": "Export to plot.ly",
        "plotlyServerURL": "https://plot.ly",
        "showLink": true
       },
       "data": [
        {
         "marker": {
          "color": "rgba(255, 153, 51, 1.0)",
          "line": {
           "width": 1.3
          },
          "opacity": 0.8,
          "size": 12,
          "symbol": "circle"
         },
         "mode": "markers",
         "name": "jespere/expres/unknown/tite/35/ipad/eme/relâche/top1/chiants/libres/europeans/investit/usualsuspects/davoir/néant/mariages/clinique/scandaleux/hallucinant/josefine/taule/mylène/mouchoirs/🇪/forts/malédiction/mounet/impôt/🇸/union/od/refusé/animes/gouffre/keufs/glr/chips/fallu/nah/jambon/bouh/grotte/sénat/pseudos/etaient/hac/lazare/cou/attitude/parlementaire/irrespectueux/dégradé/nain/friendzone/pl/audace/jambon/autorité/puisqu/abandonne/bonus/enregistre/insultes/chaines/laaaaa/véritable/salles/steak/formule/lignes/applis/🔵/algerie/sentie/�/🇵/paradise/pédophile/ch/solitude/fesse/1500/honnêtes/jmet/mmmh/opposition/cliqué/soja/george/levé/she/dictionnaire/foutais/agenda/emmerdale/boo/connecté/permanente/côtoie",
         "text": [
          "jespere",
          "expres",
          "unknown",
          "tite",
          "35",
          "ipad",
          "eme",
          "relâche",
          "top1",
          "chiants",
          "libres",
          "europeans",
          "investit",
          "usualsuspects",
          "davoir",
          "néant",
          "mariages",
          "clinique",
          "scandaleux",
          "hallucinant",
          "josefine",
          "taule",
          "mylène",
          "mouchoirs",
          "🇪",
          "forts",
          "malédiction",
          "mounet",
          "impôt",
          "🇸",
          "union",
          "od",
          "refusé",
          "animes",
          "gouffre",
          "keufs",
          "glr",
          "chips",
          "fallu",
          "nah",
          "jambon",
          "bouh",
          "grotte",
          "sénat",
          "pseudos",
          "etaient",
          "hac",
          "lazare",
          "cou",
          "attitude",
          "parlementaire",
          "irrespectueux",
          "dégradé",
          "nain",
          "friendzone",
          "pl",
          "audace",
          "jambon",
          "autorité",
          "puisqu",
          "abandonne",
          "bonus",
          "enregistre",
          "insultes",
          "chaines",
          "laaaaa",
          "véritable",
          "salles",
          "steak",
          "formule",
          "lignes",
          "applis",
          "🔵",
          "algerie",
          "sentie",
          "�",
          "🇵",
          "paradise",
          "pédophile",
          "ch",
          "solitude",
          "fesse",
          "1500",
          "honnêtes",
          "jmet",
          "mmmh",
          "opposition",
          "cliqué",
          "soja",
          "george",
          "levé",
          "she",
          "dictionnaire",
          "foutais",
          "agenda",
          "emmerdale",
          "boo",
          "connecté",
          "permanente",
          "côtoie"
         ],
         "textfont": {
          "color": "#4D5663"
         },
         "type": "scatter",
         "x": [
          1.3742060661315918,
          -1.0176945924758911,
          -2.234293222427368,
          -0.09140006452798843,
          0.38006889820098877,
          -1.7223469018936157,
          0.8817083835601807,
          0.6403893232345581,
          -0.1583014279603958,
          -0.5104746222496033,
          -0.12282058596611023,
          -0.3319265842437744,
          0.4573060870170593,
          0.7603629231452942,
          -0.5559897422790527,
          3.4684486389160156,
          -0.314893901348114,
          1.5160976648330688,
          -1.4773626327514648,
          1.8960119485855103,
          0.866645097732544,
          0.21386946737766266,
          -1.9453201293945312,
          -0.18285463750362396,
          1.6787132024765015,
          0.0830075815320015,
          0.4189309775829315,
          1.8537955284118652,
          -0.5580876469612122,
          -1.912346601486206,
          -0.7561309933662415,
          1.3834596872329712,
          -1.0498172044754028,
          2.6120054721832275,
          0.7609012722969055,
          -0.8403646945953369,
          -0.6642571091651917,
          1.6112951040267944,
          -0.5178565979003906,
          1.6345667839050293,
          0.6243094205856323,
          -0.6342681050300598,
          -0.8190630674362183,
          -0.7040938138961792,
          1.5538620948791504,
          1.2404208183288574,
          1.1034184694290161,
          2.5062146186828613,
          1.8209391832351685,
          -0.7988973259925842,
          0.2578500807285309,
          -0.6834425926208496,
          0.8807632327079773,
          -1.8508611917495728,
          1.2688595056533813,
          -0.24988292157649994,
          1.3406267166137695,
          0.6243094205856323,
          -0.42621922492980957,
          0.9710323214530945,
          -2.227982759475708,
          2.196155309677124,
          -1.5079286098480225,
          -0.3899705111980438,
          0.6100462675094604,
          -0.8194040656089783,
          2.226041793823242,
          -0.13204583525657654,
          0.179512619972229,
          0.32045191526412964,
          0.3804887533187866,
          2.01361346244812,
          0.562126636505127,
          1.0785530805587769,
          1.5840997695922852,
          0.39511939883232117,
          -0.05029872804880142,
          0.5564994812011719,
          1.3106985092163086,
          1.1545652151107788,
          0.7731640934944153,
          1.4820594787597656,
          -0.6419761180877686,
          -2.671204090118408,
          0.9125721454620361,
          2.1168363094329834,
          0.8238160014152527,
          -0.5498483180999756,
          -1.6372811794281006,
          1.1759549379348755,
          -0.41717055439949036,
          0.6780170798301697,
          -1.2746365070343018,
          -1.5305521488189697,
          -0.32722023129463196,
          1.3007947206497192,
          -0.4483049809932709,
          -1.01393461227417,
          0.20308463275432587,
          -0.2743414342403412
         ],
         "y": [
          0.16067709028720856,
          -0.6440789699554443,
          -2.635187864303589,
          -1.4950922727584839,
          0.35223501920700073,
          2.5627424716949463,
          0.043465692549943924,
          -1.2750763893127441,
          0.8821742534637451,
          0.6319283843040466,
          0.0763317346572876,
          -2.494144916534424,
          1.7205805778503418,
          0.09560889005661011,
          2.37615704536438,
          0.11109791696071625,
          3.417792320251465,
          0.2464979588985443,
          -0.17406439781188965,
          -2.028472661972046,
          0.43351778388023376,
          -1.5571699142456055,
          -1.1027973890304565,
          0.7260672450065613,
          -2.1828999519348145,
          0.856712281703949,
          -0.3837440013885498,
          -0.04455699026584625,
          0.22247028350830078,
          1.520473599433899,
          -1.8623048067092896,
          2.3115899562835693,
          -0.5865574479103088,
          -2.0068278312683105,
          0.8543153405189514,
          0.9936380386352539,
          -1.2940008640289307,
          0.25566330552101135,
          -2.3815066814422607,
          0.9202089905738831,
          -0.8557158708572388,
          -0.1957370936870575,
          0.0011245047207921743,
          -0.8523908257484436,
          0.2873779833316803,
          -0.1815570890903473,
          1.6331459283828735,
          -2.3483901023864746,
          0.5681092143058777,
          0.578289270401001,
          -1.62998366355896,
          1.5037752389907837,
          1.2197545766830444,
          0.9303113222122192,
          0.12463625520467758,
          0.16559232771396637,
          1.9081945419311523,
          -0.8557158708572388,
          1.357957363128662,
          -1.2191739082336426,
          -2.0367538928985596,
          0.2634997069835663,
          -0.6893420815467834,
          0.44103968143463135,
          2.457024097442627,
          0.8180719017982483,
          -0.36913001537323,
          1.6884516477584839,
          0.6204134225845337,
          -0.20757487416267395,
          0.22053514420986176,
          -2.109362840652466,
          -1.5400471687316895,
          0.6141235828399658,
          -0.010240839794278145,
          0.9981842041015625,
          0.4793999195098877,
          0.32600927352905273,
          1.3668497800827026,
          1.7025082111358643,
          0.17035257816314697,
          0.0238274447619915,
          -1.199712872505188,
          2.5183591842651367,
          -0.8155187964439392,
          -0.8332096338272095,
          -0.17404009401798248,
          1.9212820529937744,
          -0.14043687283992767,
          1.2798064947128296,
          1.710533618927002,
          0.8587824702262878,
          -0.10309003293514252,
          1.1714872121810913,
          0.6298033595085144,
          -0.5025627017021179,
          1.3829172849655151,
          -0.45522835850715637,
          -0.9156455397605896,
          -0.08004594594240189
         ]
        },
        {
         "marker": {
          "color": "rgba(55, 128, 191, 1.0)",
          "line": {
           "width": 1.3
          },
          "opacity": 0.8,
          "size": 12,
          "symbol": "circle"
         },
         "mode": "markers",
         "name": "jvoulais/vérifier/réflexion/ha/ajouter/solo/entrain/🇫/impressionnant/neige/gère/taff/passion/mens/nez/comptes/back/carrière/😞/sophie/permis/termine/journal/dise/marie/raclette/crise/croit/règles/choqué/rencontrer/touche/mdrrrrrr/octobre/uniquement/alexia/tente/vélo/naze/28/jalouse/tente/goûts/position/saisons/entretien/clé/inverse/sud/japonais/bienvenue/rendent/madame/gestion/victoire/tain/regardant/échec/🌹/gouvernement/souris/suisse/ramener/🤞/svt/plaindre/✊/refuse/actuellement/étude/merciiiii/lyon/bjr/tg/trous/bouffer/familles/choquée/90/fatiguée/lapin/payé/🤙/regrette/sah/expérience/zéro/manga/batterie/charge/al/sales/calmer/kiffé/😰/13/animal/2e/réveille/3h",
         "text": [
          "jvoulais",
          "vérifier",
          "réflexion",
          "ha",
          "ajouter",
          "solo",
          "entrain",
          "🇫",
          "impressionnant",
          "neige",
          "gère",
          "taff",
          "passion",
          "mens",
          "nez",
          "comptes",
          "back",
          "carrière",
          "😞",
          "sophie",
          "permis",
          "termine",
          "journal",
          "dise",
          "marie",
          "raclette",
          "crise",
          "croit",
          "règles",
          "choqué",
          "rencontrer",
          "touche",
          "mdrrrrrr",
          "octobre",
          "uniquement",
          "alexia",
          "tente",
          "vélo",
          "naze",
          "28",
          "jalouse",
          "tente",
          "goûts",
          "position",
          "saisons",
          "entretien",
          "clé",
          "inverse",
          "sud",
          "japonais",
          "bienvenue",
          "rendent",
          "madame",
          "gestion",
          "victoire",
          "tain",
          "regardant",
          "échec",
          "🌹",
          "gouvernement",
          "souris",
          "suisse",
          "ramener",
          "🤞",
          "svt",
          "plaindre",
          "✊",
          "refuse",
          "actuellement",
          "étude",
          "merciiiii",
          "lyon",
          "bjr",
          "tg",
          "trous",
          "bouffer",
          "familles",
          "choquée",
          "90",
          "fatiguée",
          "lapin",
          "payé",
          "🤙",
          "regrette",
          "sah",
          "expérience",
          "zéro",
          "manga",
          "batterie",
          "charge",
          "al",
          "sales",
          "calmer",
          "kiffé",
          "😰",
          "13",
          "animal",
          "2e",
          "réveille",
          "3h"
         ],
         "textfont": {
          "color": "#4D5663"
         },
         "type": "scatter",
         "x": [
          -1.4247138500213623,
          0.2949490547180176,
          0.8922186493873596,
          0.8554466366767883,
          -0.3168439269065857,
          -1.3020106554031372,
          -0.6200363039970398,
          0.2848913371562958,
          0.3778935372829437,
          -0.6467378735542297,
          -0.7850658297538757,
          1.224178671836853,
          -1.3137279748916626,
          2.1681771278381348,
          0.561751127243042,
          0.5857341885566711,
          -1.0767788887023926,
          0.4669013023376465,
          -0.46136561036109924,
          -1.0154963731765747,
          0.5443152785301208,
          -1.0234140157699585,
          -0.4797576367855072,
          -1.3357943296432495,
          0.31684359908103943,
          0.8471249341964722,
          -1.1896058320999146,
          1.8361496925354004,
          -0.6238283514976501,
          0.5671674609184265,
          -0.027461474761366844,
          -0.6229323744773865,
          -0.2601621747016907,
          -0.9777401685714722,
          -0.9536921381950378,
          -1.1946005821228027,
          1.3830047845840454,
          -1.0045099258422852,
          -0.14830410480499268,
          -0.5865430235862732,
          0.6408294439315796,
          1.3830047845840454,
          -2.269087314605713,
          1.6676698923110962,
          -0.8812365531921387,
          1.7654376029968262,
          -0.6212060451507568,
          -0.1875445544719696,
          -0.9702227711677551,
          -0.579015851020813,
          0.7063740491867065,
          1.060865879058838,
          -1.1936023235321045,
          0.3076367974281311,
          -0.8443920612335205,
          0.6928836703300476,
          -0.4129948616027832,
          2.1590888500213623,
          -0.38984689116477966,
          -0.33083048462867737,
          -0.0879521518945694,
          -0.2248179316520691,
          -0.9443677663803101,
          -0.056445199996232986,
          0.6763384342193604,
          -0.0641041025519371,
          0.8596563339233398,
          2.295958995819092,
          -0.6217392683029175,
          0.18540208041667938,
          -0.681869387626648,
          -1.1456161737442017,
          0.43864062428474426,
          -1.8953145742416382,
          1.2954453229904175,
          0.2248527854681015,
          2.249112129211426,
          0.37486618757247925,
          1.774078130722046,
          -1.0839581489562988,
          1.9410032033920288,
          -0.4066472351551056,
          0.2625954747200012,
          0.24280613660812378,
          -2.0335018634796143,
          0.9947125911712646,
          0.10511092841625214,
          0.6105742454528809,
          -0.7264442443847656,
          -0.5643224120140076,
          -2.323775053024292,
          -1.885254979133606,
          0.7292704582214355,
          -1.2508611679077148,
          -1.776494026184082,
          0.22475503385066986,
          1.9649746417999268,
          -0.45582008361816406,
          0.20676928758621216,
          0.6437692046165466
         ],
         "y": [
          1.1657018661499023,
          -0.4998827874660492,
          1.2346967458724976,
          2.320845365524292,
          3.1217401027679443,
          -1.5802738666534424,
          -0.7157266139984131,
          0.028796181082725525,
          0.49136897921562195,
          0.5333710312843323,
          0.47049278020858765,
          2.0457494258880615,
          1.4663362503051758,
          -1.3045697212219238,
          -1.1310783624649048,
          0.8102274537086487,
          -1.3741672039031982,
          -0.2125779539346695,
          -1.9002227783203125,
          -1.082476019859314,
          0.5598211288452148,
          -1.320741891860962,
          -0.5421193242073059,
          1.0672721862792969,
          -0.8041965365409851,
          0.19382846355438232,
          -0.8272387385368347,
          -0.008026358671486378,
          -0.3573746979236603,
          -0.23095154762268066,
          0.7200192213058472,
          0.1615847498178482,
          -0.11447478085756302,
          -0.24596136808395386,
          2.8265466690063477,
          -0.17358145117759705,
          1.5177574157714844,
          0.8061238527297974,
          -0.03556987643241882,
          0.7608046531677246,
          -0.9192145466804504,
          1.5177574157714844,
          0.16251589357852936,
          2.2881901264190674,
          0.937136173248291,
          -0.8582600951194763,
          -0.672147274017334,
          -0.18531019985675812,
          0.12206542491912842,
          1.7474453449249268,
          -0.49443578720092773,
          0.8837776184082031,
          1.5021498203277588,
          0.23609212040901184,
          -1.0076885223388672,
          0.1403016448020935,
          0.6705472469329834,
          -0.5727877616882324,
          -0.8679189682006836,
          0.5003384351730347,
          -1.4088040590286255,
          0.6985960602760315,
          1.4041167497634888,
          -2.2491652965545654,
          -0.5131896734237671,
          2.2960362434387207,
          0.1881367415189743,
          1.0043433904647827,
          -0.5658033490180969,
          -0.7196563482284546,
          0.7913384437561035,
          0.8539601564407349,
          0.19894665479660034,
          -1.7841095924377441,
          -1.4953677654266357,
          1.9273046255111694,
          1.2158846855163574,
          0.0727699026465416,
          -0.003964228089898825,
          -0.2700710892677307,
          0.7262821793556213,
          -1.4461052417755127,
          0.00352289155125618,
          -1.2371609210968018,
          1.1527050733566284,
          0.7956034541130066,
          1.227725863456726,
          -0.10722295194864273,
          -0.8946588039398193,
          -0.7587233185768127,
          -0.3506164848804474,
          -0.3921385109424591,
          1.5111050605773926,
          0.5484578013420105,
          0.14241231977939606,
          -1.4972009658813477,
          1.2025134563446045,
          1.5484291315078735,
          -0.6436595320701599,
          1.795916199684143
         ]
        },
        {
         "marker": {
          "color": "rgba(50, 171, 96, 1.0)",
          "line": {
           "width": 1.3
          },
          "opacity": 0.8,
          "size": 12,
          "symbol": "circle"
         },
         "mode": "markers",
         "name": "ligne/bravo/in/aujourdhui/rend/nan/pire/chaque/ya/change/mdrrr/😆/connais/clairement/an/min/pourtant/écouter/magnifique/o/force/doigts/perso/complètement/grand/content/elles/ptn/tl/inquiète/tt/filles/hyper/no/😪/facile/ailleurs/grande/putain/pense/super/savez/🤔/autant/mdrrrr/sortie/partie/moment/bonjour/vos/tf1/verra/😢/dois/eux/génial/faites/gars/pcq/coup/quelques/laisser/contente/serai/jeux/hyper/stage/aurait/chaud/joue/janvier/trucs/😔/heureux/quelle/change/chat/peur/jui/réponse/heureuse/sport/eu/parti/pire/corps/15/stp/the/quel/semaine/maison/porte/8/bac/changé/vrais/ahah/😩/allez",
         "text": [
          "ligne",
          "bravo",
          "in",
          "aujourdhui",
          "rend",
          "nan",
          "pire",
          "chaque",
          "ya",
          "change",
          "mdrrr",
          "😆",
          "connais",
          "clairement",
          "an",
          "min",
          "pourtant",
          "écouter",
          "magnifique",
          "o",
          "force",
          "doigts",
          "perso",
          "complètement",
          "grand",
          "content",
          "elles",
          "ptn",
          "tl",
          "inquiète",
          "tt",
          "filles",
          "hyper",
          "no",
          "😪",
          "facile",
          "ailleurs",
          "grande",
          "putain",
          "pense",
          "super",
          "savez",
          "🤔",
          "autant",
          "mdrrrr",
          "sortie",
          "partie",
          "moment",
          "bonjour",
          "vos",
          "tf1",
          "verra",
          "😢",
          "dois",
          "eux",
          "génial",
          "faites",
          "gars",
          "pcq",
          "coup",
          "quelques",
          "laisser",
          "contente",
          "serai",
          "jeux",
          "hyper",
          "stage",
          "aurait",
          "chaud",
          "joue",
          "janvier",
          "trucs",
          "😔",
          "heureux",
          "quelle",
          "change",
          "chat",
          "peur",
          "jui",
          "réponse",
          "heureuse",
          "sport",
          "eu",
          "parti",
          "pire",
          "corps",
          "15",
          "stp",
          "the",
          "quel",
          "semaine",
          "maison",
          "porte",
          "8",
          "bac",
          "changé",
          "vrais",
          "ahah",
          "😩",
          "allez"
         ],
         "textfont": {
          "color": "#4D5663"
         },
         "type": "scatter",
         "x": [
          -1.0825235843658447,
          -1.1655949354171753,
          -1.4562240839004517,
          -0.3728684186935425,
          0.7685943841934204,
          0.3881015181541443,
          -1.3367091417312622,
          -0.30739009380340576,
          1.2465964555740356,
          -2.344268321990967,
          0.031119246035814285,
          -0.17923711240291595,
          -0.11017591506242752,
          0.39336344599723816,
          -1.493730902671814,
          -0.16294899582862854,
          2.0402228832244873,
          0.5956702828407288,
          -0.3217746615409851,
          2.225766897201538,
          0.03993465378880501,
          -1.0118621587753296,
          -1.157404899597168,
          -1.9676085710525513,
          -1.1064255237579346,
          -0.014706253074109554,
          -1.33968985080719,
          -0.146195188164711,
          -0.10510989278554916,
          -0.07399997115135193,
          -0.9284549951553345,
          0.36642777919769287,
          1.3276903629302979,
          2.517749547958374,
          0.3982459008693695,
          0.44610148668289185,
          0.19553615152835846,
          -0.551344096660614,
          -0.5944347381591797,
          -0.077151358127594,
          0.0515628308057785,
          0.45345303416252136,
          0.015429377555847168,
          -1.1894848346710205,
          -0.5072773694992065,
          -0.6272554993629456,
          -0.2518217861652374,
          1.769687533378601,
          1.4581294059753418,
          -1.3558483123779297,
          -0.49071642756462097,
          -1.7955348491668701,
          -0.8114604949951172,
          0.6080781817436218,
          -1.9982322454452515,
          0.4429839551448822,
          -2.047241687774658,
          -1.0434889793395996,
          1.7441622018814087,
          -1.4061616659164429,
          -1.121544361114502,
          0.6852883100509644,
          -2.482760190963745,
          -0.616108775138855,
          -1.4040418863296509,
          1.3276903629302979,
          -0.7806470394134521,
          -0.013669153675436974,
          0.7589718699455261,
          -0.3571029007434845,
          0.8307904601097107,
          0.34872883558273315,
          -1.3417226076126099,
          -0.7788001298904419,
          0.8300127387046814,
          -2.344268321990967,
          0.7549148797988892,
          0.3366662561893463,
          3.2394280433654785,
          2.589927911758423,
          -1.1866868734359741,
          0.8419764637947083,
          -0.22856725752353668,
          1.3098177909851074,
          -1.3367091417312622,
          -0.11607074737548828,
          -0.4639568030834198,
          0.6928489208221436,
          0.6312492489814758,
          -2.701728343963623,
          -0.7676270008087158,
          1.3755258321762085,
          1.0305439233779907,
          0.1647500842809677,
          -0.09127303212881088,
          0.018203267827630043,
          -2.0074307918548584,
          -0.2013106644153595,
          1.1787713766098022,
          -1.0187536478042603
         ],
         "y": [
          -0.3042319118976593,
          -1.5955604314804077,
          -0.32412412762641907,
          -0.8204748034477234,
          0.1532135158777237,
          -0.2986823618412018,
          -0.9105456471443176,
          1.7958265542984009,
          -0.17264717817306519,
          0.9141891002655029,
          -0.4437781572341919,
          0.7915261387825012,
          -0.7734060883522034,
          0.08199641853570938,
          0.18630629777908325,
          0.5223190188407898,
          -0.39906802773475647,
          1.061843752861023,
          0.9463803172111511,
          1.9742200374603271,
          0.27780020236968994,
          0.6412659287452698,
          0.6668810248374939,
          -1.1544251441955566,
          -0.8828279972076416,
          -0.765389621257782,
          0.6940762400627136,
          -0.6232600212097168,
          -0.15747708082199097,
          -1.2519781589508057,
          -0.018841072916984558,
          0.3943539261817932,
          -1.150259256362915,
          -2.3190805912017822,
          -0.19066645205020905,
          0.29340821504592896,
          -0.9163531064987183,
          0.07234703004360199,
          0.24460749328136444,
          0.41644757986068726,
          -0.5978841781616211,
          0.5184064507484436,
          0.43389245867729187,
          0.5617283582687378,
          -1.7691335678100586,
          -1.3888556957244873,
          -0.2536366879940033,
          1.0514382123947144,
          -0.2517809271812439,
          -1.5170692205429077,
          0.4143930673599243,
          -1.4776307344436646,
          -0.03628642484545708,
          -0.14720189571380615,
          1.3392059803009033,
          -0.9381136894226074,
          0.45261722803115845,
          -1.7838016748428345,
          -1.1435052156448364,
          0.9013977646827698,
          -1.8166441917419434,
          0.8601154088973999,
          -0.4066591262817383,
          -0.3631100654602051,
          1.0093950033187866,
          -1.150259256362915,
          -0.1287219375371933,
          0.39845025539398193,
          -1.584956407546997,
          0.32361698150634766,
          0.3956645429134369,
          0.2319054901599884,
          -0.4653562903404236,
          -1.8202449083328247,
          -0.33019712567329407,
          0.9141891002655029,
          1.5334292650222778,
          -0.3782337009906769,
          -1.777672290802002,
          0.16897892951965332,
          -0.019096022471785545,
          0.34089359641075134,
          0.2557067573070526,
          -0.7590306997299194,
          -0.9105456471443176,
          -2.150874376296997,
          0.5323348045349121,
          -0.7212786078453064,
          -2.9271626472473145,
          0.3871314823627472,
          1.992700457572937,
          0.31969499588012695,
          1.0642213821411133,
          -0.3113548159599304,
          -0.3655144274234772,
          1.1142560243606567,
          -1.6181443929672241,
          -1.32188081741333,
          -1.5532242059707642,
          1.2400861978530884
         ]
        },
        {
         "marker": {
          "color": "rgba(128, 0, 128, 1.0)",
          "line": {
           "width": 1.3
          },
          "opacity": 0.8,
          "size": 12,
          "symbol": "circle"
         },
         "mode": "markers",
         "name": "pour/qui/😭/vu/mal/y/te/faire/qui/lui/fais/ça/qu/elle/est/ou/toujours/vrai/comme/fais/me/moi/donc/comment/es/sur/faut/rien/comme/d/vous/alors/m/️/à/trop/ma/dire/sur/mal/jamais/merci/s/mdr/lowfrequencyword/bien/temps/voir/lui/y/2/vous/ta/bon/on/donc/ton/ta/peut/aime/être/envie/2/que/ont/rien/sa/ne/nous/avoir/on/ai/vie/que/très/donc/vais/être/dire/ne/bonne/sont/alors/qu/j/nickname/là/ca/va/encore/sais/tous/moi/temps/mes/après/rien/sur/plus/avoir",
         "text": [
          "pour",
          "qui",
          "😭",
          "vu",
          "mal",
          "y",
          "te",
          "faire",
          "qui",
          "lui",
          "fais",
          "ça",
          "qu",
          "elle",
          "est",
          "ou",
          "toujours",
          "vrai",
          "comme",
          "fais",
          "me",
          "moi",
          "donc",
          "comment",
          "es",
          "sur",
          "faut",
          "rien",
          "comme",
          "d",
          "vous",
          "alors",
          "m",
          "️",
          "à",
          "trop",
          "ma",
          "dire",
          "sur",
          "mal",
          "jamais",
          "merci",
          "s",
          "mdr",
          "lowfrequencyword",
          "bien",
          "temps",
          "voir",
          "lui",
          "y",
          "2",
          "vous",
          "ta",
          "bon",
          "on",
          "donc",
          "ton",
          "ta",
          "peut",
          "aime",
          "être",
          "envie",
          "2",
          "que",
          "ont",
          "rien",
          "sa",
          "ne",
          "nous",
          "avoir",
          "on",
          "ai",
          "vie",
          "que",
          "très",
          "donc",
          "vais",
          "être",
          "dire",
          "ne",
          "bonne",
          "sont",
          "alors",
          "qu",
          "j",
          "nickname",
          "là",
          "ca",
          "va",
          "encore",
          "sais",
          "tous",
          "moi",
          "temps",
          "mes",
          "après",
          "rien",
          "sur",
          "plus",
          "avoir"
         ],
         "textfont": {
          "color": "#4D5663"
         },
         "type": "scatter",
         "x": [
          -0.23118172585964203,
          0.1437956690788269,
          0.01763656921684742,
          1.0487672090530396,
          -0.007947143167257309,
          -0.2192879617214203,
          -0.5458747148513794,
          0.48410019278526306,
          0.1437956690788269,
          -0.535918653011322,
          -0.2962791919708252,
          -0.041874658316373825,
          0.06276989728212357,
          -0.10945723950862885,
          -0.08443255722522736,
          -0.006929005030542612,
          -0.47194334864616394,
          0.7613371014595032,
          -0.30736079812049866,
          -0.2962791919708252,
          0.11214850097894669,
          -0.11318247020244598,
          -0.38080188632011414,
          1.376959204673767,
          1.0270339250564575,
          0.37787339091300964,
          -0.10188693553209305,
          -1.2373943328857422,
          -0.30736079812049866,
          0.029264314100146294,
          -0.11548726260662079,
          -0.32728707790374756,
          0.0958709716796875,
          0.16209983825683594,
          -0.1190522089600563,
          -0.40833547711372375,
          0.3451307713985443,
          0.4671659469604492,
          0.37787339091300964,
          -0.007947143167257309,
          -0.3995947539806366,
          -0.12521283328533173,
          0.35051748156547546,
          0.06389858573675156,
          0.4728868305683136,
          0.055208392441272736,
          -0.8158636689186096,
          0.020606374368071556,
          -0.535918653011322,
          -0.2192879617214203,
          0.7555392980575562,
          -0.11548726260662079,
          0.4659876823425293,
          0.17059993743896484,
          -0.020502908155322075,
          -0.38080188632011414,
          -0.31934720277786255,
          0.4659876823425293,
          1.31887948513031,
          -2.516143798828125,
          1.0318975448608398,
          -0.3112020790576935,
          0.7555392980575562,
          0.009093654341995716,
          0.35426822304725647,
          -1.2373943328857422,
          0.26169896125793457,
          0.09384297579526901,
          -0.10185279697179794,
          -0.2653771638870239,
          -0.020502908155322075,
          -0.13221746683120728,
          0.5488600134849548,
          0.009093654341995716,
          0.7498122453689575,
          -0.38080188632011414,
          0.27378129959106445,
          1.0318975448608398,
          0.4671659469604492,
          0.09384297579526901,
          -0.34725379943847656,
          -0.21724693477153778,
          -0.32728707790374756,
          0.06276989728212357,
          0.07321185618638992,
          0.003707548137754202,
          -0.48222991824150085,
          0.4211013615131378,
          -0.06652528792619705,
          -0.5187652707099915,
          -0.8884984850883484,
          -0.6525275111198425,
          -0.11318247020244598,
          -0.8158636689186096,
          -0.1530326008796692,
          -0.7639243602752686,
          -1.2373943328857422,
          0.37787339091300964,
          -0.2147666960954666,
          -0.2653771638870239
         ],
         "y": [
          0.14187072217464447,
          0.23634175956249237,
          0.3232743442058563,
          -0.4205109179019928,
          -0.9115415215492249,
          0.18092744052410126,
          -0.7636188864707947,
          -0.26634645462036133,
          0.23634175956249237,
          -0.8646788597106934,
          0.8097013831138611,
          0.07336091995239258,
          -0.06306741386651993,
          -0.2286447435617447,
          -0.06571074575185776,
          0.041315749287605286,
          0.30756956338882446,
          0.23984186351299286,
          -0.5071156620979309,
          0.8097013831138611,
          -0.14383366703987122,
          -0.03108750656247139,
          -1.2035800218582153,
          0.3540225028991699,
          -0.34662526845932007,
          -0.7383667230606079,
          -0.7988859415054321,
          -0.1397029161453247,
          -0.5071156620979309,
          0.002225385047495365,
          -0.37375959753990173,
          -0.06328113377094269,
          -0.26862046122550964,
          0.22646136581897736,
          0.03284045308828354,
          0.0643605887889862,
          0.28215324878692627,
          -0.824773371219635,
          -0.7383667230606079,
          -0.9115415215492249,
          -0.4728770852088928,
          -0.46020883321762085,
          -0.4927389621734619,
          -0.2911915183067322,
          0.4967745542526245,
          -0.31544068455696106,
          0.11857277899980545,
          -0.12494953721761703,
          -0.8646788597106934,
          0.18092744052410126,
          0.49927154183387756,
          -0.37375959753990173,
          1.125649333000183,
          0.18536216020584106,
          0.08408861607313156,
          -1.2035800218582153,
          0.18127866089344025,
          1.125649333000183,
          -0.4981112480163574,
          -0.9524892568588257,
          -0.07039486616849899,
          0.8367922306060791,
          0.49927154183387756,
          0.05984322726726532,
          0.37228551506996155,
          -0.1397029161453247,
          0.6174703240394592,
          -0.3268134593963623,
          0.060770969837903976,
          0.531175434589386,
          0.08408861607313156,
          0.3673284649848938,
          0.38609224557876587,
          0.05984322726726532,
          0.3702016770839691,
          -1.2035800218582153,
          -0.4272519648075104,
          -0.07039486616849899,
          -0.824773371219635,
          -0.3268134593963623,
          -0.8557597398757935,
          -0.1408921182155609,
          -0.06328113377094269,
          -0.06306741386651993,
          0.02001461200416088,
          0.16144561767578125,
          -0.020771196112036705,
          0.39999061822891235,
          0.17353272438049316,
          0.5081383585929871,
          -0.21495699882507324,
          -1.1261372566223145,
          -0.03108750656247139,
          0.11857277899980545,
          -0.36334505677223206,
          -0.49180614948272705,
          -0.1397029161453247,
          -0.7383667230606079,
          -0.060242727398872375,
          0.531175434589386
         ]
        }
       ],
       "layout": {
        "legend": {
         "bgcolor": "#F5F6F9",
         "font": {
          "color": "#4D5663"
         }
        },
        "paper_bgcolor": "#F5F6F9",
        "plot_bgcolor": "#F5F6F9",
        "template": {
         "data": {
          "bar": [
           {
            "error_x": {
             "color": "#2a3f5f"
            },
            "error_y": {
             "color": "#2a3f5f"
            },
            "marker": {
             "line": {
              "color": "#E5ECF6",
              "width": 0.5
             }
            },
            "type": "bar"
           }
          ],
          "barpolar": [
           {
            "marker": {
             "line": {
              "color": "#E5ECF6",
              "width": 0.5
             }
            },
            "type": "barpolar"
           }
          ],
          "carpet": [
           {
            "aaxis": {
             "endlinecolor": "#2a3f5f",
             "gridcolor": "white",
             "linecolor": "white",
             "minorgridcolor": "white",
             "startlinecolor": "#2a3f5f"
            },
            "baxis": {
             "endlinecolor": "#2a3f5f",
             "gridcolor": "white",
             "linecolor": "white",
             "minorgridcolor": "white",
             "startlinecolor": "#2a3f5f"
            },
            "type": "carpet"
           }
          ],
          "choropleth": [
           {
            "colorbar": {
             "outlinewidth": 0,
             "ticks": ""
            },
            "type": "choropleth"
           }
          ],
          "contour": [
           {
            "colorbar": {
             "outlinewidth": 0,
             "ticks": ""
            },
            "colorscale": [
             [
              0,
              "#0d0887"
             ],
             [
              0.1111111111111111,
              "#46039f"
             ],
             [
              0.2222222222222222,
              "#7201a8"
             ],
             [
              0.3333333333333333,
              "#9c179e"
             ],
             [
              0.4444444444444444,
              "#bd3786"
             ],
             [
              0.5555555555555556,
              "#d8576b"
             ],
             [
              0.6666666666666666,
              "#ed7953"
             ],
             [
              0.7777777777777778,
              "#fb9f3a"
             ],
             [
              0.8888888888888888,
              "#fdca26"
             ],
             [
              1,
              "#f0f921"
             ]
            ],
            "type": "contour"
           }
          ],
          "contourcarpet": [
           {
            "colorbar": {
             "outlinewidth": 0,
             "ticks": ""
            },
            "type": "contourcarpet"
           }
          ],
          "heatmap": [
           {
            "colorbar": {
             "outlinewidth": 0,
             "ticks": ""
            },
            "colorscale": [
             [
              0,
              "#0d0887"
             ],
             [
              0.1111111111111111,
              "#46039f"
             ],
             [
              0.2222222222222222,
              "#7201a8"
             ],
             [
              0.3333333333333333,
              "#9c179e"
             ],
             [
              0.4444444444444444,
              "#bd3786"
             ],
             [
              0.5555555555555556,
              "#d8576b"
             ],
             [
              0.6666666666666666,
              "#ed7953"
             ],
             [
              0.7777777777777778,
              "#fb9f3a"
             ],
             [
              0.8888888888888888,
              "#fdca26"
             ],
             [
              1,
              "#f0f921"
             ]
            ],
            "type": "heatmap"
           }
          ],
          "heatmapgl": [
           {
            "colorbar": {
             "outlinewidth": 0,
             "ticks": ""
            },
            "colorscale": [
             [
              0,
              "#0d0887"
             ],
             [
              0.1111111111111111,
              "#46039f"
             ],
             [
              0.2222222222222222,
              "#7201a8"
             ],
             [
              0.3333333333333333,
              "#9c179e"
             ],
             [
              0.4444444444444444,
              "#bd3786"
             ],
             [
              0.5555555555555556,
              "#d8576b"
             ],
             [
              0.6666666666666666,
              "#ed7953"
             ],
             [
              0.7777777777777778,
              "#fb9f3a"
             ],
             [
              0.8888888888888888,
              "#fdca26"
             ],
             [
              1,
              "#f0f921"
             ]
            ],
            "type": "heatmapgl"
           }
          ],
          "histogram": [
           {
            "marker": {
             "colorbar": {
              "outlinewidth": 0,
              "ticks": ""
             }
            },
            "type": "histogram"
           }
          ],
          "histogram2d": [
           {
            "colorbar": {
             "outlinewidth": 0,
             "ticks": ""
            },
            "colorscale": [
             [
              0,
              "#0d0887"
             ],
             [
              0.1111111111111111,
              "#46039f"
             ],
             [
              0.2222222222222222,
              "#7201a8"
             ],
             [
              0.3333333333333333,
              "#9c179e"
             ],
             [
              0.4444444444444444,
              "#bd3786"
             ],
             [
              0.5555555555555556,
              "#d8576b"
             ],
             [
              0.6666666666666666,
              "#ed7953"
             ],
             [
              0.7777777777777778,
              "#fb9f3a"
             ],
             [
              0.8888888888888888,
              "#fdca26"
             ],
             [
              1,
              "#f0f921"
             ]
            ],
            "type": "histogram2d"
           }
          ],
          "histogram2dcontour": [
           {
            "colorbar": {
             "outlinewidth": 0,
             "ticks": ""
            },
            "colorscale": [
             [
              0,
              "#0d0887"
             ],
             [
              0.1111111111111111,
              "#46039f"
             ],
             [
              0.2222222222222222,
              "#7201a8"
             ],
             [
              0.3333333333333333,
              "#9c179e"
             ],
             [
              0.4444444444444444,
              "#bd3786"
             ],
             [
              0.5555555555555556,
              "#d8576b"
             ],
             [
              0.6666666666666666,
              "#ed7953"
             ],
             [
              0.7777777777777778,
              "#fb9f3a"
             ],
             [
              0.8888888888888888,
              "#fdca26"
             ],
             [
              1,
              "#f0f921"
             ]
            ],
            "type": "histogram2dcontour"
           }
          ],
          "mesh3d": [
           {
            "colorbar": {
             "outlinewidth": 0,
             "ticks": ""
            },
            "type": "mesh3d"
           }
          ],
          "parcoords": [
           {
            "line": {
             "colorbar": {
              "outlinewidth": 0,
              "ticks": ""
             }
            },
            "type": "parcoords"
           }
          ],
          "pie": [
           {
            "automargin": true,
            "type": "pie"
           }
          ],
          "scatter": [
           {
            "marker": {
             "colorbar": {
              "outlinewidth": 0,
              "ticks": ""
             }
            },
            "type": "scatter"
           }
          ],
          "scatter3d": [
           {
            "line": {
             "colorbar": {
              "outlinewidth": 0,
              "ticks": ""
             }
            },
            "marker": {
             "colorbar": {
              "outlinewidth": 0,
              "ticks": ""
             }
            },
            "type": "scatter3d"
           }
          ],
          "scattercarpet": [
           {
            "marker": {
             "colorbar": {
              "outlinewidth": 0,
              "ticks": ""
             }
            },
            "type": "scattercarpet"
           }
          ],
          "scattergeo": [
           {
            "marker": {
             "colorbar": {
              "outlinewidth": 0,
              "ticks": ""
             }
            },
            "type": "scattergeo"
           }
          ],
          "scattergl": [
           {
            "marker": {
             "colorbar": {
              "outlinewidth": 0,
              "ticks": ""
             }
            },
            "type": "scattergl"
           }
          ],
          "scattermapbox": [
           {
            "marker": {
             "colorbar": {
              "outlinewidth": 0,
              "ticks": ""
             }
            },
            "type": "scattermapbox"
           }
          ],
          "scatterpolar": [
           {
            "marker": {
             "colorbar": {
              "outlinewidth": 0,
              "ticks": ""
             }
            },
            "type": "scatterpolar"
           }
          ],
          "scatterpolargl": [
           {
            "marker": {
             "colorbar": {
              "outlinewidth": 0,
              "ticks": ""
             }
            },
            "type": "scatterpolargl"
           }
          ],
          "scatterternary": [
           {
            "marker": {
             "colorbar": {
              "outlinewidth": 0,
              "ticks": ""
             }
            },
            "type": "scatterternary"
           }
          ],
          "surface": [
           {
            "colorbar": {
             "outlinewidth": 0,
             "ticks": ""
            },
            "colorscale": [
             [
              0,
              "#0d0887"
             ],
             [
              0.1111111111111111,
              "#46039f"
             ],
             [
              0.2222222222222222,
              "#7201a8"
             ],
             [
              0.3333333333333333,
              "#9c179e"
             ],
             [
              0.4444444444444444,
              "#bd3786"
             ],
             [
              0.5555555555555556,
              "#d8576b"
             ],
             [
              0.6666666666666666,
              "#ed7953"
             ],
             [
              0.7777777777777778,
              "#fb9f3a"
             ],
             [
              0.8888888888888888,
              "#fdca26"
             ],
             [
              1,
              "#f0f921"
             ]
            ],
            "type": "surface"
           }
          ],
          "table": [
           {
            "cells": {
             "fill": {
              "color": "#EBF0F8"
             },
             "line": {
              "color": "white"
             }
            },
            "header": {
             "fill": {
              "color": "#C8D4E3"
             },
             "line": {
              "color": "white"
             }
            },
            "type": "table"
           }
          ]
         },
         "layout": {
          "annotationdefaults": {
           "arrowcolor": "#2a3f5f",
           "arrowhead": 0,
           "arrowwidth": 1
          },
          "coloraxis": {
           "colorbar": {
            "outlinewidth": 0,
            "ticks": ""
           }
          },
          "colorscale": {
           "diverging": [
            [
             0,
             "#8e0152"
            ],
            [
             0.1,
             "#c51b7d"
            ],
            [
             0.2,
             "#de77ae"
            ],
            [
             0.3,
             "#f1b6da"
            ],
            [
             0.4,
             "#fde0ef"
            ],
            [
             0.5,
             "#f7f7f7"
            ],
            [
             0.6,
             "#e6f5d0"
            ],
            [
             0.7,
             "#b8e186"
            ],
            [
             0.8,
             "#7fbc41"
            ],
            [
             0.9,
             "#4d9221"
            ],
            [
             1,
             "#276419"
            ]
           ],
           "sequential": [
            [
             0,
             "#0d0887"
            ],
            [
             0.1111111111111111,
             "#46039f"
            ],
            [
             0.2222222222222222,
             "#7201a8"
            ],
            [
             0.3333333333333333,
             "#9c179e"
            ],
            [
             0.4444444444444444,
             "#bd3786"
            ],
            [
             0.5555555555555556,
             "#d8576b"
            ],
            [
             0.6666666666666666,
             "#ed7953"
            ],
            [
             0.7777777777777778,
             "#fb9f3a"
            ],
            [
             0.8888888888888888,
             "#fdca26"
            ],
            [
             1,
             "#f0f921"
            ]
           ],
           "sequentialminus": [
            [
             0,
             "#0d0887"
            ],
            [
             0.1111111111111111,
             "#46039f"
            ],
            [
             0.2222222222222222,
             "#7201a8"
            ],
            [
             0.3333333333333333,
             "#9c179e"
            ],
            [
             0.4444444444444444,
             "#bd3786"
            ],
            [
             0.5555555555555556,
             "#d8576b"
            ],
            [
             0.6666666666666666,
             "#ed7953"
            ],
            [
             0.7777777777777778,
             "#fb9f3a"
            ],
            [
             0.8888888888888888,
             "#fdca26"
            ],
            [
             1,
             "#f0f921"
            ]
           ]
          },
          "colorway": [
           "#636efa",
           "#EF553B",
           "#00cc96",
           "#ab63fa",
           "#FFA15A",
           "#19d3f3",
           "#FF6692",
           "#B6E880",
           "#FF97FF",
           "#FECB52"
          ],
          "font": {
           "color": "#2a3f5f"
          },
          "geo": {
           "bgcolor": "white",
           "lakecolor": "white",
           "landcolor": "#E5ECF6",
           "showlakes": true,
           "showland": true,
           "subunitcolor": "white"
          },
          "hoverlabel": {
           "align": "left"
          },
          "hovermode": "closest",
          "mapbox": {
           "style": "light"
          },
          "paper_bgcolor": "white",
          "plot_bgcolor": "#E5ECF6",
          "polar": {
           "angularaxis": {
            "gridcolor": "white",
            "linecolor": "white",
            "ticks": ""
           },
           "bgcolor": "#E5ECF6",
           "radialaxis": {
            "gridcolor": "white",
            "linecolor": "white",
            "ticks": ""
           }
          },
          "scene": {
           "xaxis": {
            "backgroundcolor": "#E5ECF6",
            "gridcolor": "white",
            "gridwidth": 2,
            "linecolor": "white",
            "showbackground": true,
            "ticks": "",
            "zerolinecolor": "white"
           },
           "yaxis": {
            "backgroundcolor": "#E5ECF6",
            "gridcolor": "white",
            "gridwidth": 2,
            "linecolor": "white",
            "showbackground": true,
            "ticks": "",
            "zerolinecolor": "white"
           },
           "zaxis": {
            "backgroundcolor": "#E5ECF6",
            "gridcolor": "white",
            "gridwidth": 2,
            "linecolor": "white",
            "showbackground": true,
            "ticks": "",
            "zerolinecolor": "white"
           }
          },
          "shapedefaults": {
           "line": {
            "color": "#2a3f5f"
           }
          },
          "ternary": {
           "aaxis": {
            "gridcolor": "white",
            "linecolor": "white",
            "ticks": ""
           },
           "baxis": {
            "gridcolor": "white",
            "linecolor": "white",
            "ticks": ""
           },
           "bgcolor": "#E5ECF6",
           "caxis": {
            "gridcolor": "white",
            "linecolor": "white",
            "ticks": ""
           }
          },
          "title": {
           "x": 0.05
          },
          "xaxis": {
           "automargin": true,
           "gridcolor": "white",
           "linecolor": "white",
           "ticks": "",
           "title": {
            "standoff": 15
           },
           "zerolinecolor": "white",
           "zerolinewidth": 2
          },
          "yaxis": {
           "automargin": true,
           "gridcolor": "white",
           "linecolor": "white",
           "ticks": "",
           "title": {
            "standoff": 15
           },
           "zerolinecolor": "white",
           "zerolinewidth": 2
          }
         }
        },
        "title": {
         "font": {
          "color": "#4D5663"
         },
         "text": "ACP en 2 composantes"
        },
        "xaxis": {
         "gridcolor": "#E1E5ED",
         "showgrid": true,
         "tickfont": {
          "color": "#4D5663"
         },
         "title": {
          "font": {
           "color": "#4D5663"
          },
          "text": "Axe 1"
         },
         "zerolinecolor": "#E1E5ED"
        },
        "yaxis": {
         "gridcolor": "#E1E5ED",
         "showgrid": true,
         "tickfont": {
          "color": "#4D5663"
         },
         "title": {
          "font": {
           "color": "#4D5663"
          },
          "text": "Axe 2"
         },
         "zerolinecolor": "#E1E5ED"
        }
       }
      },
      "text/html": [
       "<div>\n",
       "        \n",
       "        \n",
       "            <div id=\"7b78f394-c5a7-47dc-940e-a3308fa58cb3\" class=\"plotly-graph-div\" style=\"height:525px; width:100%;\"></div>\n",
       "            <script type=\"text/javascript\">\n",
       "                require([\"plotly\"], function(Plotly) {\n",
       "                    window.PLOTLYENV=window.PLOTLYENV || {};\n",
       "                    window.PLOTLYENV.BASE_URL='https://plot.ly';\n",
       "                    \n",
       "                if (document.getElementById(\"7b78f394-c5a7-47dc-940e-a3308fa58cb3\")) {\n",
       "                    Plotly.newPlot(\n",
       "                        '7b78f394-c5a7-47dc-940e-a3308fa58cb3',\n",
       "                        [{\"marker\": {\"color\": \"rgba(255, 153, 51, 1.0)\", \"line\": {\"width\": 1.3}, \"opacity\": 0.8, \"size\": 12, \"symbol\": \"circle\"}, \"mode\": \"markers\", \"name\": \"jespere/expres/unknown/tite/35/ipad/eme/rel\\u00e2che/top1/chiants/libres/europeans/investit/usualsuspects/davoir/n\\u00e9ant/mariages/clinique/scandaleux/hallucinant/josefine/taule/myl\\u00e8ne/mouchoirs/\\ud83c\\uddea/forts/mal\\u00e9diction/mounet/imp\\u00f4t/\\ud83c\\uddf8/union/od/refus\\u00e9/animes/gouffre/keufs/glr/chips/fallu/nah/jambon/bouh/grotte/s\\u00e9nat/pseudos/etaient/hac/lazare/cou/attitude/parlementaire/irrespectueux/d\\u00e9grad\\u00e9/nain/friendzone/pl/audace/jambon/autorit\\u00e9/puisqu/abandonne/bonus/enregistre/insultes/chaines/laaaaa/v\\u00e9ritable/salles/steak/formule/lignes/applis/\\ud83d\\udd35/algerie/sentie/\\ufffd/\\ud83c\\uddf5/paradise/p\\u00e9dophile/ch/solitude/fesse/1500/honn\\u00eates/jmet/mmmh/opposition/cliqu\\u00e9/soja/george/lev\\u00e9/she/dictionnaire/foutais/agenda/emmerdale/boo/connect\\u00e9/permanente/c\\u00f4toie\", \"text\": [\"jespere\", \"expres\", \"unknown\", \"tite\", \"35\", \"ipad\", \"eme\", \"rel\\u00e2che\", \"top1\", \"chiants\", \"libres\", \"europeans\", \"investit\", \"usualsuspects\", \"davoir\", \"n\\u00e9ant\", \"mariages\", \"clinique\", \"scandaleux\", \"hallucinant\", \"josefine\", \"taule\", \"myl\\u00e8ne\", \"mouchoirs\", \"\\ud83c\\uddea\", \"forts\", \"mal\\u00e9diction\", \"mounet\", \"imp\\u00f4t\", \"\\ud83c\\uddf8\", \"union\", \"od\", \"refus\\u00e9\", \"animes\", \"gouffre\", \"keufs\", \"glr\", \"chips\", \"fallu\", \"nah\", \"jambon\", \"bouh\", \"grotte\", \"s\\u00e9nat\", \"pseudos\", \"etaient\", \"hac\", \"lazare\", \"cou\", \"attitude\", \"parlementaire\", \"irrespectueux\", \"d\\u00e9grad\\u00e9\", \"nain\", \"friendzone\", \"pl\", \"audace\", \"jambon\", \"autorit\\u00e9\", \"puisqu\", \"abandonne\", \"bonus\", \"enregistre\", \"insultes\", \"chaines\", \"laaaaa\", \"v\\u00e9ritable\", \"salles\", \"steak\", \"formule\", \"lignes\", \"applis\", \"\\ud83d\\udd35\", \"algerie\", \"sentie\", \"\\ufffd\", \"\\ud83c\\uddf5\", \"paradise\", \"p\\u00e9dophile\", \"ch\", \"solitude\", \"fesse\", \"1500\", \"honn\\u00eates\", \"jmet\", \"mmmh\", \"opposition\", \"cliqu\\u00e9\", \"soja\", \"george\", \"lev\\u00e9\", \"she\", \"dictionnaire\", \"foutais\", \"agenda\", \"emmerdale\", \"boo\", \"connect\\u00e9\", \"permanente\", \"c\\u00f4toie\"], \"textfont\": {\"color\": \"#4D5663\"}, \"type\": \"scatter\", \"x\": [1.3742060661315918, -1.0176945924758911, -2.234293222427368, -0.09140006452798843, 0.38006889820098877, -1.7223469018936157, 0.8817083835601807, 0.6403893232345581, -0.1583014279603958, -0.5104746222496033, -0.12282058596611023, -0.3319265842437744, 0.4573060870170593, 0.7603629231452942, -0.5559897422790527, 3.4684486389160156, -0.314893901348114, 1.5160976648330688, -1.4773626327514648, 1.8960119485855103, 0.866645097732544, 0.21386946737766266, -1.9453201293945312, -0.18285463750362396, 1.6787132024765015, 0.0830075815320015, 0.4189309775829315, 1.8537955284118652, -0.5580876469612122, -1.912346601486206, -0.7561309933662415, 1.3834596872329712, -1.0498172044754028, 2.6120054721832275, 0.7609012722969055, -0.8403646945953369, -0.6642571091651917, 1.6112951040267944, -0.5178565979003906, 1.6345667839050293, 0.6243094205856323, -0.6342681050300598, -0.8190630674362183, -0.7040938138961792, 1.5538620948791504, 1.2404208183288574, 1.1034184694290161, 2.5062146186828613, 1.8209391832351685, -0.7988973259925842, 0.2578500807285309, -0.6834425926208496, 0.8807632327079773, -1.8508611917495728, 1.2688595056533813, -0.24988292157649994, 1.3406267166137695, 0.6243094205856323, -0.42621922492980957, 0.9710323214530945, -2.227982759475708, 2.196155309677124, -1.5079286098480225, -0.3899705111980438, 0.6100462675094604, -0.8194040656089783, 2.226041793823242, -0.13204583525657654, 0.179512619972229, 0.32045191526412964, 0.3804887533187866, 2.01361346244812, 0.562126636505127, 1.0785530805587769, 1.5840997695922852, 0.39511939883232117, -0.05029872804880142, 0.5564994812011719, 1.3106985092163086, 1.1545652151107788, 0.7731640934944153, 1.4820594787597656, -0.6419761180877686, -2.671204090118408, 0.9125721454620361, 2.1168363094329834, 0.8238160014152527, -0.5498483180999756, -1.6372811794281006, 1.1759549379348755, -0.41717055439949036, 0.6780170798301697, -1.2746365070343018, -1.5305521488189697, -0.32722023129463196, 1.3007947206497192, -0.4483049809932709, -1.01393461227417, 0.20308463275432587, -0.2743414342403412], \"y\": [0.16067709028720856, -0.6440789699554443, -2.635187864303589, -1.4950922727584839, 0.35223501920700073, 2.5627424716949463, 0.043465692549943924, -1.2750763893127441, 0.8821742534637451, 0.6319283843040466, 0.0763317346572876, -2.494144916534424, 1.7205805778503418, 0.09560889005661011, 2.37615704536438, 0.11109791696071625, 3.417792320251465, 0.2464979588985443, -0.17406439781188965, -2.028472661972046, 0.43351778388023376, -1.5571699142456055, -1.1027973890304565, 0.7260672450065613, -2.1828999519348145, 0.856712281703949, -0.3837440013885498, -0.04455699026584625, 0.22247028350830078, 1.520473599433899, -1.8623048067092896, 2.3115899562835693, -0.5865574479103088, -2.0068278312683105, 0.8543153405189514, 0.9936380386352539, -1.2940008640289307, 0.25566330552101135, -2.3815066814422607, 0.9202089905738831, -0.8557158708572388, -0.1957370936870575, 0.0011245047207921743, -0.8523908257484436, 0.2873779833316803, -0.1815570890903473, 1.6331459283828735, -2.3483901023864746, 0.5681092143058777, 0.578289270401001, -1.62998366355896, 1.5037752389907837, 1.2197545766830444, 0.9303113222122192, 0.12463625520467758, 0.16559232771396637, 1.9081945419311523, -0.8557158708572388, 1.357957363128662, -1.2191739082336426, -2.0367538928985596, 0.2634997069835663, -0.6893420815467834, 0.44103968143463135, 2.457024097442627, 0.8180719017982483, -0.36913001537323, 1.6884516477584839, 0.6204134225845337, -0.20757487416267395, 0.22053514420986176, -2.109362840652466, -1.5400471687316895, 0.6141235828399658, -0.010240839794278145, 0.9981842041015625, 0.4793999195098877, 0.32600927352905273, 1.3668497800827026, 1.7025082111358643, 0.17035257816314697, 0.0238274447619915, -1.199712872505188, 2.5183591842651367, -0.8155187964439392, -0.8332096338272095, -0.17404009401798248, 1.9212820529937744, -0.14043687283992767, 1.2798064947128296, 1.710533618927002, 0.8587824702262878, -0.10309003293514252, 1.1714872121810913, 0.6298033595085144, -0.5025627017021179, 1.3829172849655151, -0.45522835850715637, -0.9156455397605896, -0.08004594594240189]}, {\"marker\": {\"color\": \"rgba(55, 128, 191, 1.0)\", \"line\": {\"width\": 1.3}, \"opacity\": 0.8, \"size\": 12, \"symbol\": \"circle\"}, \"mode\": \"markers\", \"name\": \"jvoulais/v\\u00e9rifier/r\\u00e9flexion/ha/ajouter/solo/entrain/\\ud83c\\uddeb/impressionnant/neige/g\\u00e8re/taff/passion/mens/nez/comptes/back/carri\\u00e8re/\\ud83d\\ude1e/sophie/permis/termine/journal/dise/marie/raclette/crise/croit/r\\u00e8gles/choqu\\u00e9/rencontrer/touche/mdrrrrrr/octobre/uniquement/alexia/tente/v\\u00e9lo/naze/28/jalouse/tente/go\\u00fbts/position/saisons/entretien/cl\\u00e9/inverse/sud/japonais/bienvenue/rendent/madame/gestion/victoire/tain/regardant/\\u00e9chec/\\ud83c\\udf39/gouvernement/souris/suisse/ramener/\\ud83e\\udd1e/svt/plaindre/\\u270a/refuse/actuellement/\\u00e9tude/merciiiii/lyon/bjr/tg/trous/bouffer/familles/choqu\\u00e9e/90/fatigu\\u00e9e/lapin/pay\\u00e9/\\ud83e\\udd19/regrette/sah/exp\\u00e9rience/z\\u00e9ro/manga/batterie/charge/al/sales/calmer/kiff\\u00e9/\\ud83d\\ude30/13/animal/2e/r\\u00e9veille/3h\", \"text\": [\"jvoulais\", \"v\\u00e9rifier\", \"r\\u00e9flexion\", \"ha\", \"ajouter\", \"solo\", \"entrain\", \"\\ud83c\\uddeb\", \"impressionnant\", \"neige\", \"g\\u00e8re\", \"taff\", \"passion\", \"mens\", \"nez\", \"comptes\", \"back\", \"carri\\u00e8re\", \"\\ud83d\\ude1e\", \"sophie\", \"permis\", \"termine\", \"journal\", \"dise\", \"marie\", \"raclette\", \"crise\", \"croit\", \"r\\u00e8gles\", \"choqu\\u00e9\", \"rencontrer\", \"touche\", \"mdrrrrrr\", \"octobre\", \"uniquement\", \"alexia\", \"tente\", \"v\\u00e9lo\", \"naze\", \"28\", \"jalouse\", \"tente\", \"go\\u00fbts\", \"position\", \"saisons\", \"entretien\", \"cl\\u00e9\", \"inverse\", \"sud\", \"japonais\", \"bienvenue\", \"rendent\", \"madame\", \"gestion\", \"victoire\", \"tain\", \"regardant\", \"\\u00e9chec\", \"\\ud83c\\udf39\", \"gouvernement\", \"souris\", \"suisse\", \"ramener\", \"\\ud83e\\udd1e\", \"svt\", \"plaindre\", \"\\u270a\", \"refuse\", \"actuellement\", \"\\u00e9tude\", \"merciiiii\", \"lyon\", \"bjr\", \"tg\", \"trous\", \"bouffer\", \"familles\", \"choqu\\u00e9e\", \"90\", \"fatigu\\u00e9e\", \"lapin\", \"pay\\u00e9\", \"\\ud83e\\udd19\", \"regrette\", \"sah\", \"exp\\u00e9rience\", \"z\\u00e9ro\", \"manga\", \"batterie\", \"charge\", \"al\", \"sales\", \"calmer\", \"kiff\\u00e9\", \"\\ud83d\\ude30\", \"13\", \"animal\", \"2e\", \"r\\u00e9veille\", \"3h\"], \"textfont\": {\"color\": \"#4D5663\"}, \"type\": \"scatter\", \"x\": [-1.4247138500213623, 0.2949490547180176, 0.8922186493873596, 0.8554466366767883, -0.3168439269065857, -1.3020106554031372, -0.6200363039970398, 0.2848913371562958, 0.3778935372829437, -0.6467378735542297, -0.7850658297538757, 1.224178671836853, -1.3137279748916626, 2.1681771278381348, 0.561751127243042, 0.5857341885566711, -1.0767788887023926, 0.4669013023376465, -0.46136561036109924, -1.0154963731765747, 0.5443152785301208, -1.0234140157699585, -0.4797576367855072, -1.3357943296432495, 0.31684359908103943, 0.8471249341964722, -1.1896058320999146, 1.8361496925354004, -0.6238283514976501, 0.5671674609184265, -0.027461474761366844, -0.6229323744773865, -0.2601621747016907, -0.9777401685714722, -0.9536921381950378, -1.1946005821228027, 1.3830047845840454, -1.0045099258422852, -0.14830410480499268, -0.5865430235862732, 0.6408294439315796, 1.3830047845840454, -2.269087314605713, 1.6676698923110962, -0.8812365531921387, 1.7654376029968262, -0.6212060451507568, -0.1875445544719696, -0.9702227711677551, -0.579015851020813, 0.7063740491867065, 1.060865879058838, -1.1936023235321045, 0.3076367974281311, -0.8443920612335205, 0.6928836703300476, -0.4129948616027832, 2.1590888500213623, -0.38984689116477966, -0.33083048462867737, -0.0879521518945694, -0.2248179316520691, -0.9443677663803101, -0.056445199996232986, 0.6763384342193604, -0.0641041025519371, 0.8596563339233398, 2.295958995819092, -0.6217392683029175, 0.18540208041667938, -0.681869387626648, -1.1456161737442017, 0.43864062428474426, -1.8953145742416382, 1.2954453229904175, 0.2248527854681015, 2.249112129211426, 0.37486618757247925, 1.774078130722046, -1.0839581489562988, 1.9410032033920288, -0.4066472351551056, 0.2625954747200012, 0.24280613660812378, -2.0335018634796143, 0.9947125911712646, 0.10511092841625214, 0.6105742454528809, -0.7264442443847656, -0.5643224120140076, -2.323775053024292, -1.885254979133606, 0.7292704582214355, -1.2508611679077148, -1.776494026184082, 0.22475503385066986, 1.9649746417999268, -0.45582008361816406, 0.20676928758621216, 0.6437692046165466], \"y\": [1.1657018661499023, -0.4998827874660492, 1.2346967458724976, 2.320845365524292, 3.1217401027679443, -1.5802738666534424, -0.7157266139984131, 0.028796181082725525, 0.49136897921562195, 0.5333710312843323, 0.47049278020858765, 2.0457494258880615, 1.4663362503051758, -1.3045697212219238, -1.1310783624649048, 0.8102274537086487, -1.3741672039031982, -0.2125779539346695, -1.9002227783203125, -1.082476019859314, 0.5598211288452148, -1.320741891860962, -0.5421193242073059, 1.0672721862792969, -0.8041965365409851, 0.19382846355438232, -0.8272387385368347, -0.008026358671486378, -0.3573746979236603, -0.23095154762268066, 0.7200192213058472, 0.1615847498178482, -0.11447478085756302, -0.24596136808395386, 2.8265466690063477, -0.17358145117759705, 1.5177574157714844, 0.8061238527297974, -0.03556987643241882, 0.7608046531677246, -0.9192145466804504, 1.5177574157714844, 0.16251589357852936, 2.2881901264190674, 0.937136173248291, -0.8582600951194763, -0.672147274017334, -0.18531019985675812, 0.12206542491912842, 1.7474453449249268, -0.49443578720092773, 0.8837776184082031, 1.5021498203277588, 0.23609212040901184, -1.0076885223388672, 0.1403016448020935, 0.6705472469329834, -0.5727877616882324, -0.8679189682006836, 0.5003384351730347, -1.4088040590286255, 0.6985960602760315, 1.4041167497634888, -2.2491652965545654, -0.5131896734237671, 2.2960362434387207, 0.1881367415189743, 1.0043433904647827, -0.5658033490180969, -0.7196563482284546, 0.7913384437561035, 0.8539601564407349, 0.19894665479660034, -1.7841095924377441, -1.4953677654266357, 1.9273046255111694, 1.2158846855163574, 0.0727699026465416, -0.003964228089898825, -0.2700710892677307, 0.7262821793556213, -1.4461052417755127, 0.00352289155125618, -1.2371609210968018, 1.1527050733566284, 0.7956034541130066, 1.227725863456726, -0.10722295194864273, -0.8946588039398193, -0.7587233185768127, -0.3506164848804474, -0.3921385109424591, 1.5111050605773926, 0.5484578013420105, 0.14241231977939606, -1.4972009658813477, 1.2025134563446045, 1.5484291315078735, -0.6436595320701599, 1.795916199684143]}, {\"marker\": {\"color\": \"rgba(50, 171, 96, 1.0)\", \"line\": {\"width\": 1.3}, \"opacity\": 0.8, \"size\": 12, \"symbol\": \"circle\"}, \"mode\": \"markers\", \"name\": \"ligne/bravo/in/aujourdhui/rend/nan/pire/chaque/ya/change/mdrrr/\\ud83d\\ude06/connais/clairement/an/min/pourtant/\\u00e9couter/magnifique/o/force/doigts/perso/compl\\u00e8tement/grand/content/elles/ptn/tl/inqui\\u00e8te/tt/filles/hyper/no/\\ud83d\\ude2a/facile/ailleurs/grande/putain/pense/super/savez/\\ud83e\\udd14/autant/mdrrrr/sortie/partie/moment/bonjour/vos/tf1/verra/\\ud83d\\ude22/dois/eux/g\\u00e9nial/faites/gars/pcq/coup/quelques/laisser/contente/serai/jeux/hyper/stage/aurait/chaud/joue/janvier/trucs/\\ud83d\\ude14/heureux/quelle/change/chat/peur/jui/r\\u00e9ponse/heureuse/sport/eu/parti/pire/corps/15/stp/the/quel/semaine/maison/porte/8/bac/chang\\u00e9/vrais/ahah/\\ud83d\\ude29/allez\", \"text\": [\"ligne\", \"bravo\", \"in\", \"aujourdhui\", \"rend\", \"nan\", \"pire\", \"chaque\", \"ya\", \"change\", \"mdrrr\", \"\\ud83d\\ude06\", \"connais\", \"clairement\", \"an\", \"min\", \"pourtant\", \"\\u00e9couter\", \"magnifique\", \"o\", \"force\", \"doigts\", \"perso\", \"compl\\u00e8tement\", \"grand\", \"content\", \"elles\", \"ptn\", \"tl\", \"inqui\\u00e8te\", \"tt\", \"filles\", \"hyper\", \"no\", \"\\ud83d\\ude2a\", \"facile\", \"ailleurs\", \"grande\", \"putain\", \"pense\", \"super\", \"savez\", \"\\ud83e\\udd14\", \"autant\", \"mdrrrr\", \"sortie\", \"partie\", \"moment\", \"bonjour\", \"vos\", \"tf1\", \"verra\", \"\\ud83d\\ude22\", \"dois\", \"eux\", \"g\\u00e9nial\", \"faites\", \"gars\", \"pcq\", \"coup\", \"quelques\", \"laisser\", \"contente\", \"serai\", \"jeux\", \"hyper\", \"stage\", \"aurait\", \"chaud\", \"joue\", \"janvier\", \"trucs\", \"\\ud83d\\ude14\", \"heureux\", \"quelle\", \"change\", \"chat\", \"peur\", \"jui\", \"r\\u00e9ponse\", \"heureuse\", \"sport\", \"eu\", \"parti\", \"pire\", \"corps\", \"15\", \"stp\", \"the\", \"quel\", \"semaine\", \"maison\", \"porte\", \"8\", \"bac\", \"chang\\u00e9\", \"vrais\", \"ahah\", \"\\ud83d\\ude29\", \"allez\"], \"textfont\": {\"color\": \"#4D5663\"}, \"type\": \"scatter\", \"x\": [-1.0825235843658447, -1.1655949354171753, -1.4562240839004517, -0.3728684186935425, 0.7685943841934204, 0.3881015181541443, -1.3367091417312622, -0.30739009380340576, 1.2465964555740356, -2.344268321990967, 0.031119246035814285, -0.17923711240291595, -0.11017591506242752, 0.39336344599723816, -1.493730902671814, -0.16294899582862854, 2.0402228832244873, 0.5956702828407288, -0.3217746615409851, 2.225766897201538, 0.03993465378880501, -1.0118621587753296, -1.157404899597168, -1.9676085710525513, -1.1064255237579346, -0.014706253074109554, -1.33968985080719, -0.146195188164711, -0.10510989278554916, -0.07399997115135193, -0.9284549951553345, 0.36642777919769287, 1.3276903629302979, 2.517749547958374, 0.3982459008693695, 0.44610148668289185, 0.19553615152835846, -0.551344096660614, -0.5944347381591797, -0.077151358127594, 0.0515628308057785, 0.45345303416252136, 0.015429377555847168, -1.1894848346710205, -0.5072773694992065, -0.6272554993629456, -0.2518217861652374, 1.769687533378601, 1.4581294059753418, -1.3558483123779297, -0.49071642756462097, -1.7955348491668701, -0.8114604949951172, 0.6080781817436218, -1.9982322454452515, 0.4429839551448822, -2.047241687774658, -1.0434889793395996, 1.7441622018814087, -1.4061616659164429, -1.121544361114502, 0.6852883100509644, -2.482760190963745, -0.616108775138855, -1.4040418863296509, 1.3276903629302979, -0.7806470394134521, -0.013669153675436974, 0.7589718699455261, -0.3571029007434845, 0.8307904601097107, 0.34872883558273315, -1.3417226076126099, -0.7788001298904419, 0.8300127387046814, -2.344268321990967, 0.7549148797988892, 0.3366662561893463, 3.2394280433654785, 2.589927911758423, -1.1866868734359741, 0.8419764637947083, -0.22856725752353668, 1.3098177909851074, -1.3367091417312622, -0.11607074737548828, -0.4639568030834198, 0.6928489208221436, 0.6312492489814758, -2.701728343963623, -0.7676270008087158, 1.3755258321762085, 1.0305439233779907, 0.1647500842809677, -0.09127303212881088, 0.018203267827630043, -2.0074307918548584, -0.2013106644153595, 1.1787713766098022, -1.0187536478042603], \"y\": [-0.3042319118976593, -1.5955604314804077, -0.32412412762641907, -0.8204748034477234, 0.1532135158777237, -0.2986823618412018, -0.9105456471443176, 1.7958265542984009, -0.17264717817306519, 0.9141891002655029, -0.4437781572341919, 0.7915261387825012, -0.7734060883522034, 0.08199641853570938, 0.18630629777908325, 0.5223190188407898, -0.39906802773475647, 1.061843752861023, 0.9463803172111511, 1.9742200374603271, 0.27780020236968994, 0.6412659287452698, 0.6668810248374939, -1.1544251441955566, -0.8828279972076416, -0.765389621257782, 0.6940762400627136, -0.6232600212097168, -0.15747708082199097, -1.2519781589508057, -0.018841072916984558, 0.3943539261817932, -1.150259256362915, -2.3190805912017822, -0.19066645205020905, 0.29340821504592896, -0.9163531064987183, 0.07234703004360199, 0.24460749328136444, 0.41644757986068726, -0.5978841781616211, 0.5184064507484436, 0.43389245867729187, 0.5617283582687378, -1.7691335678100586, -1.3888556957244873, -0.2536366879940033, 1.0514382123947144, -0.2517809271812439, -1.5170692205429077, 0.4143930673599243, -1.4776307344436646, -0.03628642484545708, -0.14720189571380615, 1.3392059803009033, -0.9381136894226074, 0.45261722803115845, -1.7838016748428345, -1.1435052156448364, 0.9013977646827698, -1.8166441917419434, 0.8601154088973999, -0.4066591262817383, -0.3631100654602051, 1.0093950033187866, -1.150259256362915, -0.1287219375371933, 0.39845025539398193, -1.584956407546997, 0.32361698150634766, 0.3956645429134369, 0.2319054901599884, -0.4653562903404236, -1.8202449083328247, -0.33019712567329407, 0.9141891002655029, 1.5334292650222778, -0.3782337009906769, -1.777672290802002, 0.16897892951965332, -0.019096022471785545, 0.34089359641075134, 0.2557067573070526, -0.7590306997299194, -0.9105456471443176, -2.150874376296997, 0.5323348045349121, -0.7212786078453064, -2.9271626472473145, 0.3871314823627472, 1.992700457572937, 0.31969499588012695, 1.0642213821411133, -0.3113548159599304, -0.3655144274234772, 1.1142560243606567, -1.6181443929672241, -1.32188081741333, -1.5532242059707642, 1.2400861978530884]}, {\"marker\": {\"color\": \"rgba(128, 0, 128, 1.0)\", \"line\": {\"width\": 1.3}, \"opacity\": 0.8, \"size\": 12, \"symbol\": \"circle\"}, \"mode\": \"markers\", \"name\": \"pour/qui/\\ud83d\\ude2d/vu/mal/y/te/faire/qui/lui/fais/\\u00e7a/qu/elle/est/ou/toujours/vrai/comme/fais/me/moi/donc/comment/es/sur/faut/rien/comme/d/vous/alors/m/\\ufe0f/\\u00e0/trop/ma/dire/sur/mal/jamais/merci/s/mdr/lowfrequencyword/bien/temps/voir/lui/y/2/vous/ta/bon/on/donc/ton/ta/peut/aime/\\u00eatre/envie/2/que/ont/rien/sa/ne/nous/avoir/on/ai/vie/que/tr\\u00e8s/donc/vais/\\u00eatre/dire/ne/bonne/sont/alors/qu/j/nickname/l\\u00e0/ca/va/encore/sais/tous/moi/temps/mes/apr\\u00e8s/rien/sur/plus/avoir\", \"text\": [\"pour\", \"qui\", \"\\ud83d\\ude2d\", \"vu\", \"mal\", \"y\", \"te\", \"faire\", \"qui\", \"lui\", \"fais\", \"\\u00e7a\", \"qu\", \"elle\", \"est\", \"ou\", \"toujours\", \"vrai\", \"comme\", \"fais\", \"me\", \"moi\", \"donc\", \"comment\", \"es\", \"sur\", \"faut\", \"rien\", \"comme\", \"d\", \"vous\", \"alors\", \"m\", \"\\ufe0f\", \"\\u00e0\", \"trop\", \"ma\", \"dire\", \"sur\", \"mal\", \"jamais\", \"merci\", \"s\", \"mdr\", \"lowfrequencyword\", \"bien\", \"temps\", \"voir\", \"lui\", \"y\", \"2\", \"vous\", \"ta\", \"bon\", \"on\", \"donc\", \"ton\", \"ta\", \"peut\", \"aime\", \"\\u00eatre\", \"envie\", \"2\", \"que\", \"ont\", \"rien\", \"sa\", \"ne\", \"nous\", \"avoir\", \"on\", \"ai\", \"vie\", \"que\", \"tr\\u00e8s\", \"donc\", \"vais\", \"\\u00eatre\", \"dire\", \"ne\", \"bonne\", \"sont\", \"alors\", \"qu\", \"j\", \"nickname\", \"l\\u00e0\", \"ca\", \"va\", \"encore\", \"sais\", \"tous\", \"moi\", \"temps\", \"mes\", \"apr\\u00e8s\", \"rien\", \"sur\", \"plus\", \"avoir\"], \"textfont\": {\"color\": \"#4D5663\"}, \"type\": \"scatter\", \"x\": [-0.23118172585964203, 0.1437956690788269, 0.01763656921684742, 1.0487672090530396, -0.007947143167257309, -0.2192879617214203, -0.5458747148513794, 0.48410019278526306, 0.1437956690788269, -0.535918653011322, -0.2962791919708252, -0.041874658316373825, 0.06276989728212357, -0.10945723950862885, -0.08443255722522736, -0.006929005030542612, -0.47194334864616394, 0.7613371014595032, -0.30736079812049866, -0.2962791919708252, 0.11214850097894669, -0.11318247020244598, -0.38080188632011414, 1.376959204673767, 1.0270339250564575, 0.37787339091300964, -0.10188693553209305, -1.2373943328857422, -0.30736079812049866, 0.029264314100146294, -0.11548726260662079, -0.32728707790374756, 0.0958709716796875, 0.16209983825683594, -0.1190522089600563, -0.40833547711372375, 0.3451307713985443, 0.4671659469604492, 0.37787339091300964, -0.007947143167257309, -0.3995947539806366, -0.12521283328533173, 0.35051748156547546, 0.06389858573675156, 0.4728868305683136, 0.055208392441272736, -0.8158636689186096, 0.020606374368071556, -0.535918653011322, -0.2192879617214203, 0.7555392980575562, -0.11548726260662079, 0.4659876823425293, 0.17059993743896484, -0.020502908155322075, -0.38080188632011414, -0.31934720277786255, 0.4659876823425293, 1.31887948513031, -2.516143798828125, 1.0318975448608398, -0.3112020790576935, 0.7555392980575562, 0.009093654341995716, 0.35426822304725647, -1.2373943328857422, 0.26169896125793457, 0.09384297579526901, -0.10185279697179794, -0.2653771638870239, -0.020502908155322075, -0.13221746683120728, 0.5488600134849548, 0.009093654341995716, 0.7498122453689575, -0.38080188632011414, 0.27378129959106445, 1.0318975448608398, 0.4671659469604492, 0.09384297579526901, -0.34725379943847656, -0.21724693477153778, -0.32728707790374756, 0.06276989728212357, 0.07321185618638992, 0.003707548137754202, -0.48222991824150085, 0.4211013615131378, -0.06652528792619705, -0.5187652707099915, -0.8884984850883484, -0.6525275111198425, -0.11318247020244598, -0.8158636689186096, -0.1530326008796692, -0.7639243602752686, -1.2373943328857422, 0.37787339091300964, -0.2147666960954666, -0.2653771638870239], \"y\": [0.14187072217464447, 0.23634175956249237, 0.3232743442058563, -0.4205109179019928, -0.9115415215492249, 0.18092744052410126, -0.7636188864707947, -0.26634645462036133, 0.23634175956249237, -0.8646788597106934, 0.8097013831138611, 0.07336091995239258, -0.06306741386651993, -0.2286447435617447, -0.06571074575185776, 0.041315749287605286, 0.30756956338882446, 0.23984186351299286, -0.5071156620979309, 0.8097013831138611, -0.14383366703987122, -0.03108750656247139, -1.2035800218582153, 0.3540225028991699, -0.34662526845932007, -0.7383667230606079, -0.7988859415054321, -0.1397029161453247, -0.5071156620979309, 0.002225385047495365, -0.37375959753990173, -0.06328113377094269, -0.26862046122550964, 0.22646136581897736, 0.03284045308828354, 0.0643605887889862, 0.28215324878692627, -0.824773371219635, -0.7383667230606079, -0.9115415215492249, -0.4728770852088928, -0.46020883321762085, -0.4927389621734619, -0.2911915183067322, 0.4967745542526245, -0.31544068455696106, 0.11857277899980545, -0.12494953721761703, -0.8646788597106934, 0.18092744052410126, 0.49927154183387756, -0.37375959753990173, 1.125649333000183, 0.18536216020584106, 0.08408861607313156, -1.2035800218582153, 0.18127866089344025, 1.125649333000183, -0.4981112480163574, -0.9524892568588257, -0.07039486616849899, 0.8367922306060791, 0.49927154183387756, 0.05984322726726532, 0.37228551506996155, -0.1397029161453247, 0.6174703240394592, -0.3268134593963623, 0.060770969837903976, 0.531175434589386, 0.08408861607313156, 0.3673284649848938, 0.38609224557876587, 0.05984322726726532, 0.3702016770839691, -1.2035800218582153, -0.4272519648075104, -0.07039486616849899, -0.824773371219635, -0.3268134593963623, -0.8557597398757935, -0.1408921182155609, -0.06328113377094269, -0.06306741386651993, 0.02001461200416088, 0.16144561767578125, -0.020771196112036705, 0.39999061822891235, 0.17353272438049316, 0.5081383585929871, -0.21495699882507324, -1.1261372566223145, -0.03108750656247139, 0.11857277899980545, -0.36334505677223206, -0.49180614948272705, -0.1397029161453247, -0.7383667230606079, -0.060242727398872375, 0.531175434589386]}],\n",
       "                        {\"legend\": {\"bgcolor\": \"#F5F6F9\", \"font\": {\"color\": \"#4D5663\"}}, \"paper_bgcolor\": \"#F5F6F9\", \"plot_bgcolor\": \"#F5F6F9\", \"template\": {\"data\": {\"bar\": [{\"error_x\": {\"color\": \"#2a3f5f\"}, \"error_y\": {\"color\": \"#2a3f5f\"}, \"marker\": {\"line\": {\"color\": \"#E5ECF6\", \"width\": 0.5}}, \"type\": \"bar\"}], \"barpolar\": [{\"marker\": {\"line\": {\"color\": \"#E5ECF6\", \"width\": 0.5}}, \"type\": \"barpolar\"}], \"carpet\": [{\"aaxis\": {\"endlinecolor\": \"#2a3f5f\", \"gridcolor\": \"white\", \"linecolor\": \"white\", \"minorgridcolor\": \"white\", \"startlinecolor\": \"#2a3f5f\"}, \"baxis\": {\"endlinecolor\": \"#2a3f5f\", \"gridcolor\": \"white\", \"linecolor\": \"white\", \"minorgridcolor\": \"white\", \"startlinecolor\": \"#2a3f5f\"}, \"type\": \"carpet\"}], \"choropleth\": [{\"colorbar\": {\"outlinewidth\": 0, \"ticks\": \"\"}, \"type\": \"choropleth\"}], \"contour\": [{\"colorbar\": {\"outlinewidth\": 0, \"ticks\": \"\"}, \"colorscale\": [[0.0, \"#0d0887\"], [0.1111111111111111, \"#46039f\"], [0.2222222222222222, \"#7201a8\"], [0.3333333333333333, \"#9c179e\"], [0.4444444444444444, \"#bd3786\"], [0.5555555555555556, \"#d8576b\"], [0.6666666666666666, \"#ed7953\"], [0.7777777777777778, \"#fb9f3a\"], [0.8888888888888888, \"#fdca26\"], [1.0, \"#f0f921\"]], \"type\": \"contour\"}], \"contourcarpet\": [{\"colorbar\": {\"outlinewidth\": 0, \"ticks\": \"\"}, \"type\": \"contourcarpet\"}], \"heatmap\": [{\"colorbar\": {\"outlinewidth\": 0, \"ticks\": \"\"}, \"colorscale\": [[0.0, \"#0d0887\"], [0.1111111111111111, \"#46039f\"], [0.2222222222222222, \"#7201a8\"], [0.3333333333333333, \"#9c179e\"], [0.4444444444444444, \"#bd3786\"], [0.5555555555555556, \"#d8576b\"], [0.6666666666666666, \"#ed7953\"], [0.7777777777777778, \"#fb9f3a\"], [0.8888888888888888, \"#fdca26\"], [1.0, \"#f0f921\"]], \"type\": \"heatmap\"}], \"heatmapgl\": [{\"colorbar\": {\"outlinewidth\": 0, \"ticks\": \"\"}, \"colorscale\": [[0.0, \"#0d0887\"], [0.1111111111111111, \"#46039f\"], [0.2222222222222222, \"#7201a8\"], [0.3333333333333333, \"#9c179e\"], [0.4444444444444444, \"#bd3786\"], [0.5555555555555556, \"#d8576b\"], [0.6666666666666666, \"#ed7953\"], [0.7777777777777778, \"#fb9f3a\"], [0.8888888888888888, \"#fdca26\"], [1.0, \"#f0f921\"]], \"type\": \"heatmapgl\"}], \"histogram\": [{\"marker\": {\"colorbar\": {\"outlinewidth\": 0, \"ticks\": \"\"}}, \"type\": \"histogram\"}], \"histogram2d\": [{\"colorbar\": {\"outlinewidth\": 0, \"ticks\": \"\"}, \"colorscale\": [[0.0, \"#0d0887\"], [0.1111111111111111, \"#46039f\"], [0.2222222222222222, \"#7201a8\"], [0.3333333333333333, \"#9c179e\"], [0.4444444444444444, \"#bd3786\"], [0.5555555555555556, \"#d8576b\"], [0.6666666666666666, \"#ed7953\"], [0.7777777777777778, \"#fb9f3a\"], [0.8888888888888888, \"#fdca26\"], [1.0, \"#f0f921\"]], \"type\": \"histogram2d\"}], \"histogram2dcontour\": [{\"colorbar\": {\"outlinewidth\": 0, \"ticks\": \"\"}, \"colorscale\": [[0.0, \"#0d0887\"], [0.1111111111111111, \"#46039f\"], [0.2222222222222222, \"#7201a8\"], [0.3333333333333333, \"#9c179e\"], [0.4444444444444444, \"#bd3786\"], [0.5555555555555556, \"#d8576b\"], [0.6666666666666666, \"#ed7953\"], [0.7777777777777778, \"#fb9f3a\"], [0.8888888888888888, \"#fdca26\"], [1.0, \"#f0f921\"]], \"type\": \"histogram2dcontour\"}], \"mesh3d\": [{\"colorbar\": {\"outlinewidth\": 0, \"ticks\": \"\"}, \"type\": \"mesh3d\"}], \"parcoords\": [{\"line\": {\"colorbar\": {\"outlinewidth\": 0, \"ticks\": \"\"}}, \"type\": \"parcoords\"}], \"pie\": [{\"automargin\": true, \"type\": \"pie\"}], \"scatter\": [{\"marker\": {\"colorbar\": {\"outlinewidth\": 0, \"ticks\": \"\"}}, \"type\": \"scatter\"}], \"scatter3d\": [{\"line\": {\"colorbar\": {\"outlinewidth\": 0, \"ticks\": \"\"}}, \"marker\": {\"colorbar\": {\"outlinewidth\": 0, \"ticks\": \"\"}}, \"type\": \"scatter3d\"}], \"scattercarpet\": [{\"marker\": {\"colorbar\": {\"outlinewidth\": 0, \"ticks\": \"\"}}, \"type\": \"scattercarpet\"}], \"scattergeo\": [{\"marker\": {\"colorbar\": {\"outlinewidth\": 0, \"ticks\": \"\"}}, \"type\": \"scattergeo\"}], \"scattergl\": [{\"marker\": {\"colorbar\": {\"outlinewidth\": 0, \"ticks\": \"\"}}, \"type\": \"scattergl\"}], \"scattermapbox\": [{\"marker\": {\"colorbar\": {\"outlinewidth\": 0, \"ticks\": \"\"}}, \"type\": \"scattermapbox\"}], \"scatterpolar\": [{\"marker\": {\"colorbar\": {\"outlinewidth\": 0, \"ticks\": \"\"}}, \"type\": \"scatterpolar\"}], \"scatterpolargl\": [{\"marker\": {\"colorbar\": {\"outlinewidth\": 0, \"ticks\": \"\"}}, \"type\": \"scatterpolargl\"}], \"scatterternary\": [{\"marker\": {\"colorbar\": {\"outlinewidth\": 0, \"ticks\": \"\"}}, \"type\": \"scatterternary\"}], \"surface\": [{\"colorbar\": {\"outlinewidth\": 0, \"ticks\": \"\"}, \"colorscale\": [[0.0, \"#0d0887\"], [0.1111111111111111, \"#46039f\"], [0.2222222222222222, \"#7201a8\"], [0.3333333333333333, \"#9c179e\"], [0.4444444444444444, \"#bd3786\"], [0.5555555555555556, \"#d8576b\"], [0.6666666666666666, \"#ed7953\"], [0.7777777777777778, \"#fb9f3a\"], [0.8888888888888888, \"#fdca26\"], [1.0, \"#f0f921\"]], \"type\": \"surface\"}], \"table\": [{\"cells\": {\"fill\": {\"color\": \"#EBF0F8\"}, \"line\": {\"color\": \"white\"}}, \"header\": {\"fill\": {\"color\": \"#C8D4E3\"}, \"line\": {\"color\": \"white\"}}, \"type\": \"table\"}]}, \"layout\": {\"annotationdefaults\": {\"arrowcolor\": \"#2a3f5f\", \"arrowhead\": 0, \"arrowwidth\": 1}, \"coloraxis\": {\"colorbar\": {\"outlinewidth\": 0, \"ticks\": \"\"}}, \"colorscale\": {\"diverging\": [[0, \"#8e0152\"], [0.1, \"#c51b7d\"], [0.2, \"#de77ae\"], [0.3, \"#f1b6da\"], [0.4, \"#fde0ef\"], [0.5, \"#f7f7f7\"], [0.6, \"#e6f5d0\"], [0.7, \"#b8e186\"], [0.8, \"#7fbc41\"], [0.9, \"#4d9221\"], [1, \"#276419\"]], \"sequential\": [[0.0, \"#0d0887\"], [0.1111111111111111, \"#46039f\"], [0.2222222222222222, \"#7201a8\"], [0.3333333333333333, \"#9c179e\"], [0.4444444444444444, \"#bd3786\"], [0.5555555555555556, \"#d8576b\"], [0.6666666666666666, \"#ed7953\"], [0.7777777777777778, \"#fb9f3a\"], [0.8888888888888888, \"#fdca26\"], [1.0, \"#f0f921\"]], \"sequentialminus\": [[0.0, \"#0d0887\"], [0.1111111111111111, \"#46039f\"], [0.2222222222222222, \"#7201a8\"], [0.3333333333333333, \"#9c179e\"], [0.4444444444444444, \"#bd3786\"], [0.5555555555555556, \"#d8576b\"], [0.6666666666666666, \"#ed7953\"], [0.7777777777777778, \"#fb9f3a\"], [0.8888888888888888, \"#fdca26\"], [1.0, \"#f0f921\"]]}, \"colorway\": [\"#636efa\", \"#EF553B\", \"#00cc96\", \"#ab63fa\", \"#FFA15A\", \"#19d3f3\", \"#FF6692\", \"#B6E880\", \"#FF97FF\", \"#FECB52\"], \"font\": {\"color\": \"#2a3f5f\"}, \"geo\": {\"bgcolor\": \"white\", \"lakecolor\": \"white\", \"landcolor\": \"#E5ECF6\", \"showlakes\": true, \"showland\": true, \"subunitcolor\": \"white\"}, \"hoverlabel\": {\"align\": \"left\"}, \"hovermode\": \"closest\", \"mapbox\": {\"style\": \"light\"}, \"paper_bgcolor\": \"white\", \"plot_bgcolor\": \"#E5ECF6\", \"polar\": {\"angularaxis\": {\"gridcolor\": \"white\", \"linecolor\": \"white\", \"ticks\": \"\"}, \"bgcolor\": \"#E5ECF6\", \"radialaxis\": {\"gridcolor\": \"white\", \"linecolor\": \"white\", \"ticks\": \"\"}}, \"scene\": {\"xaxis\": {\"backgroundcolor\": \"#E5ECF6\", \"gridcolor\": \"white\", \"gridwidth\": 2, \"linecolor\": \"white\", \"showbackground\": true, \"ticks\": \"\", \"zerolinecolor\": \"white\"}, \"yaxis\": {\"backgroundcolor\": \"#E5ECF6\", \"gridcolor\": \"white\", \"gridwidth\": 2, \"linecolor\": \"white\", \"showbackground\": true, \"ticks\": \"\", \"zerolinecolor\": \"white\"}, \"zaxis\": {\"backgroundcolor\": \"#E5ECF6\", \"gridcolor\": \"white\", \"gridwidth\": 2, \"linecolor\": \"white\", \"showbackground\": true, \"ticks\": \"\", \"zerolinecolor\": \"white\"}}, \"shapedefaults\": {\"line\": {\"color\": \"#2a3f5f\"}}, \"ternary\": {\"aaxis\": {\"gridcolor\": \"white\", \"linecolor\": \"white\", \"ticks\": \"\"}, \"baxis\": {\"gridcolor\": \"white\", \"linecolor\": \"white\", \"ticks\": \"\"}, \"bgcolor\": \"#E5ECF6\", \"caxis\": {\"gridcolor\": \"white\", \"linecolor\": \"white\", \"ticks\": \"\"}}, \"title\": {\"x\": 0.05}, \"xaxis\": {\"automargin\": true, \"gridcolor\": \"white\", \"linecolor\": \"white\", \"ticks\": \"\", \"title\": {\"standoff\": 15}, \"zerolinecolor\": \"white\", \"zerolinewidth\": 2}, \"yaxis\": {\"automargin\": true, \"gridcolor\": \"white\", \"linecolor\": \"white\", \"ticks\": \"\", \"title\": {\"standoff\": 15}, \"zerolinecolor\": \"white\", \"zerolinewidth\": 2}}}, \"title\": {\"font\": {\"color\": \"#4D5663\"}, \"text\": \"ACP en 2 composantes\"}, \"xaxis\": {\"gridcolor\": \"#E1E5ED\", \"showgrid\": true, \"tickfont\": {\"color\": \"#4D5663\"}, \"title\": {\"font\": {\"color\": \"#4D5663\"}, \"text\": \"Axe 1\"}, \"zerolinecolor\": \"#E1E5ED\"}, \"yaxis\": {\"gridcolor\": \"#E1E5ED\", \"showgrid\": true, \"tickfont\": {\"color\": \"#4D5663\"}, \"title\": {\"font\": {\"color\": \"#4D5663\"}, \"text\": \"Axe 2\"}, \"zerolinecolor\": \"#E1E5ED\"}},\n",
       "                        {\"showLink\": true, \"linkText\": \"Export to plot.ly\", \"plotlyServerURL\": \"https://plot.ly\", \"responsive\": true}\n",
       "                    ).then(function(){\n",
       "                            \n",
       "var gd = document.getElementById('7b78f394-c5a7-47dc-940e-a3308fa58cb3');\n",
       "var x = new MutationObserver(function (mutations, observer) {{\n",
       "        var display = window.getComputedStyle(gd).display;\n",
       "        if (!display || display === 'none') {{\n",
       "            console.log([gd, 'removed!']);\n",
       "            Plotly.purge(gd);\n",
       "            observer.disconnect();\n",
       "        }}\n",
       "}});\n",
       "\n",
       "// Listen for the removal of the full notebook cells\n",
       "var notebookContainer = gd.closest('#notebook-container');\n",
       "if (notebookContainer) {{\n",
       "    x.observe(notebookContainer, {childList: true});\n",
       "}}\n",
       "\n",
       "// Listen for the clearing of the current output cell\n",
       "var outputEl = gd.closest('.output');\n",
       "if (outputEl) {{\n",
       "    x.observe(outputEl, {childList: true});\n",
       "}}\n",
       "\n",
       "                        })\n",
       "                };\n",
       "                });\n",
       "            </script>\n",
       "        </div>"
      ]
     },
     "metadata": {},
     "output_type": "display_data"
    }
   ],
   "source": [
    "ACP(liste2, statique = False)"
   ]
  },
  {
   "cell_type": "markdown",
   "metadata": {},
   "source": [
    "# 4. TSNE"
   ]
  },
  {
   "cell_type": "code",
   "execution_count": 178,
   "metadata": {},
   "outputs": [],
   "source": [
    "def tsne_graph(liste, statique = True, nom_couples_explicite=True):\n",
    "    liste_triee =[]\n",
    "    for couple in liste:\n",
    "        liste_triee.append([w for w in couple if w in mot_index])\n",
    "    liste_mots = [w for couple in liste_triee for w in couple]\n",
    "    df_res = pd.DataFrame.from_dict(mot_poids).transpose()\n",
    "    df_res = df_res.loc[liste_mots]\n",
    "    df_res['label'] = 'Autre' \n",
    "\n",
    "    if nom_couples_explicite:\n",
    "        for couple in liste_triee:\n",
    "            df_res.loc[couple,'label'] = '/'.join(couple)\n",
    "    else:\n",
    "        for i in range(0, len(liste_triee)):\n",
    "            df_res.loc[liste_triee[i],'label'] = \"Couple %i\" %i  \n",
    "    features = list(range(0, len(liste)))\n",
    "    # Separating out the features\n",
    "    data_x = df_res.loc[:, features].values\n",
    "    # Separating out the target\n",
    "    data_y = df_res.loc[:,['label']].values\n",
    "\n",
    "    tsne = TSNE(n_components=2, random_state=0)\n",
    "    tsne_obj= tsne.fit_transform(data_x)\n",
    "\n",
    "    test_features = [[i+1]*len(liste_triee[i]) for i in range(0, len(liste_triee))]\n",
    "    test_features = [i for f in test_features for i in f]\n",
    "    tsne_df = pd.DataFrame({'X':tsne_obj[:,0],\n",
    "                            'Y':tsne_obj[:,1],\n",
    "                           'digit':test_features})\n",
    "    tsne_df[\"legend\"] = tsne_df[\"digit\"]\n",
    "    for i in range(0,len(tsne_df)):\n",
    "        tsne_df[\"legend\"][i]= \"Couple %i\" %tsne_df[\"digit\"][i]\n",
    "    if statique:\n",
    "        fig = plt.figure(figsize = (12,8))\n",
    "        g = sns.scatterplot(x=\"X\", y=\"Y\",\n",
    "                            hue = \"legend\",\n",
    "                            data=tsne_df);\n",
    "        handles, labels = g.get_legend_handles_labels()\n",
    "        box = g.get_position()\n",
    "        g.set_position([box.x0, box.y0, box.width * 0.85, box.height]) # resize position\n",
    "\n",
    "        # Put a legend to the right side\n",
    "        g.legend(loc='center right', bbox_to_anchor=(1.3, 0.5), ncol=1,\n",
    "                 handles=handles[1:], labels=list(dict.fromkeys(tsne_df[\"legend\"])))\n",
    "    else:\n",
    "        tsne_df[\"mot\"] = liste_mots\n",
    "        cf.go_offline()\n",
    "        cf.set_config_file(offline=False, world_readable=True)\n",
    "\n",
    "        #Travailler avec sous-table sinon trop lourd\n",
    "        subFinalDf = pd.concat([tsne_df],  axis = 0)\n",
    "\n",
    "        subFinalDf.iplot(kind='scatter',\n",
    "                      mode='markers',\n",
    "                      x='X',\n",
    "                      y='Y',\n",
    "                      categories='legend',\n",
    "                      text='mot',\n",
    "                      xTitle='Axe 1',\n",
    "                      yTitle='Axe 2',\n",
    "                      title='TSNE',\n",
    "                      filename='cufflinks/simple-scatter')\n",
    "        "
   ]
  },
  {
   "cell_type": "code",
   "execution_count": 177,
   "metadata": {},
   "outputs": [
    {
     "data": {
      "image/png": "[encoded data removed]",
      "text/plain": [
       "<Figure size 864x576 with 1 Axes>"
      ]
     },
     "metadata": {
      "needs_background": "light"
     },
     "output_type": "display_data"
    }
   ],
   "source": [
    "tsne_graph(liste1, statique = True,\n",
    "           nom_couples_explicite = True) #Paramètre ne marche pas : a debuger ?"
   ]
  },
  {
   "cell_type": "code",
   "execution_count": 179,
   "metadata": {},
   "outputs": [
    {
     "data": {
      "text/html": [
       "        <script type=\"text/javascript\">\n",
       "        window.PlotlyConfig = {MathJaxConfig: 'local'};\n",
       "        if (window.MathJax) {MathJax.Hub.Config({SVG: {font: \"STIX-Web\"}});}\n",
       "        if (typeof require !== 'undefined') {\n",
       "        require.undef(\"plotly\");\n",
       "        requirejs.config({\n",
       "            paths: {\n",
       "                'plotly': ['https://cdn.plot.ly/plotly-latest.min']\n",
       "            }\n",
       "        });\n",
       "        require(['plotly'], function(Plotly) {\n",
       "            window._Plotly = Plotly;\n",
       "        });\n",
       "        }\n",
       "        </script>\n",
       "        "
      ]
     },
     "metadata": {},
     "output_type": "display_data"
    },
    {
     "data": {
      "application/vnd.plotly.v1+json": {
       "config": {
        "linkText": "Export to plot.ly",
        "plotlyServerURL": "https://plot.ly",
        "showLink": true
       },
       "data": [
        {
         "marker": {
          "color": "rgba(255, 153, 51, 1.0)",
          "line": {
           "width": 1.3
          },
          "opacity": 0.8,
          "size": 12,
          "symbol": "circle"
         },
         "mode": "markers",
         "name": "Couple 1",
         "text": [
          "poli",
          "bonjour",
          "salut"
         ],
         "textfont": {
          "color": "#4D5663"
         },
         "type": "scatter",
         "x": [
          40.30056381225586,
          101.08720397949219,
          -35.50376892089844
         ],
         "y": [
          113.48685455322266,
          -49.75064468383789,
          -43.26179885864258
         ]
        },
        {
         "marker": {
          "color": "rgba(55, 128, 191, 1.0)",
          "line": {
           "width": 1.3
          },
          "opacity": 0.8,
          "size": 12,
          "symbol": "circle"
         },
         "mode": "markers",
         "name": "Couple 2",
         "text": [
          "canapé",
          "fauteuil",
          "table",
          "chaise"
         ],
         "textfont": {
          "color": "#4D5663"
         },
         "type": "scatter",
         "x": [
          -44.61280059814453,
          43.236175537109375,
          -22.928142547607422,
          -68.6146469116211
         ],
         "y": [
          -8.792794227600098,
          73.00318145751953,
          19.704299926757812,
          -74.29200744628906
         ]
        },
        {
         "marker": {
          "color": "rgba(50, 171, 96, 1.0)",
          "line": {
           "width": 1.3
          },
          "opacity": 0.8,
          "size": 12,
          "symbol": "circle"
         },
         "mode": "markers",
         "name": "Couple 3",
         "text": [
          "téléphone",
          "portable",
          "numéro",
          "appel"
         ],
         "textfont": {
          "color": "#4D5663"
         },
         "type": "scatter",
         "x": [
          -56.216915130615234,
          65.50669860839844,
          -87.83114624023438,
          43.59558868408203
         ],
         "y": [
          21.334835052490234,
          37.47201156616211,
          6.416492938995361,
          9.918143272399902
         ]
        },
        {
         "marker": {
          "color": "rgba(128, 0, 128, 1.0)",
          "line": {
           "width": 1.3
          },
          "opacity": 0.8,
          "size": 12,
          "symbol": "circle"
         },
         "mode": "markers",
         "name": "Couple 4",
         "text": [
          "voiture",
          "camion",
          "vélo",
          "train"
         ],
         "textfont": {
          "color": "#4D5663"
         },
         "type": "scatter",
         "x": [
          -30.49265480041504,
          77.46183013916016,
          116.21082305908203,
          3.056241989135742
         ],
         "y": [
          49.84302520751953,
          83.2596664428711,
          5.618991374969482,
          -39.50851058959961
         ]
        },
        {
         "marker": {
          "color": "rgba(219, 64, 82, 1.0)",
          "line": {
           "width": 1.3
          },
          "opacity": 0.8,
          "size": 12,
          "symbol": "circle"
         },
         "mode": "markers",
         "name": "Couple 5",
         "text": [
          "beau",
          "mignon",
          "bg",
          "mannequin"
         ],
         "textfont": {
          "color": "#4D5663"
         },
         "type": "scatter",
         "x": [
          1.6592621803283691,
          85.1893539428711,
          12.899062156677246,
          -31.379619598388672
         ],
         "y": [
          42.2311897277832,
          -21.215099334716797,
          -115.2552719116211,
          -109.53177642822266
         ]
        },
        {
         "marker": {
          "color": "rgba(0, 128, 128, 1.0)",
          "line": {
           "width": 1.3
          },
          "opacity": 0.8,
          "size": 12,
          "symbol": "circle"
         },
         "mode": "markers",
         "name": "Couple 6",
         "text": [
          "docteur",
          "médecin",
          "santé",
          "bobo"
         ],
         "textfont": {
          "color": "#4D5663"
         },
         "type": "scatter",
         "x": [
          27.999431610107422,
          -10.447184562683105,
          -66.30375671386719,
          78.8815689086914
         ],
         "y": [
          -73.24976348876953,
          118.7625961303711,
          56.838077545166016,
          9.568445205688477
         ]
        },
        {
         "marker": {
          "color": "rgba(255, 255, 51, 1.0)",
          "line": {
           "width": 1.3
          },
          "opacity": 0.8,
          "size": 12,
          "symbol": "circle"
         },
         "mode": "markers",
         "name": "Couple 7",
         "text": [
          "belle",
          "jolie",
          "mignonne"
         ],
         "textfont": {
          "color": "#4D5663"
         },
         "type": "scatter",
         "x": [
          35.0200080871582,
          71.1112060546875,
          -9.896474838256836
         ],
         "y": [
          -40.85279083251953,
          -95.1329116821289,
          -70.04906463623047
         ]
        },
        {
         "marker": {
          "color": "rgba(128, 128, 0, 1.0)",
          "line": {
           "width": 1.3
          },
          "opacity": 0.8,
          "size": 12,
          "symbol": "circle"
         },
         "mode": "markers",
         "name": "Couple 8",
         "text": [
          "père",
          "papa",
          "daron"
         ],
         "textfont": {
          "color": "#4D5663"
         },
         "type": "scatter",
         "x": [
          54.920562744140625,
          11.210658073425293,
          99.63964080810547
         ],
         "y": [
          -17.218494415283203,
          13.629637718200684,
          52.94981384277344
         ]
        },
        {
         "marker": {
          "color": "rgba(251, 128, 114, 1.0)",
          "line": {
           "width": 1.3
          },
          "opacity": 0.8,
          "size": 12,
          "symbol": "circle"
         },
         "mode": "markers",
         "name": "Couple 9",
         "text": [
          "mère",
          "maman",
          "daronne"
         ],
         "textfont": {
          "color": "#4D5663"
         },
         "type": "scatter",
         "x": [
          32.50188064575195,
          -78.2324447631836,
          6.0458574295043945
         ],
         "y": [
          38.01462173461914,
          -30.429718017578125,
          76.1285171508789
         ]
        },
        {
         "marker": {
          "color": "rgba(128, 177, 211, 1.0)",
          "line": {
           "width": 1.3
          },
          "opacity": 0.8,
          "size": 12,
          "symbol": "circle"
         },
         "mode": "markers",
         "name": "Couple 10",
         "text": [
          "ol",
          "psg",
          "foot",
          "stade"
         ],
         "textfont": {
          "color": "#4D5663"
         },
         "type": "scatter",
         "x": [
          -32.32237243652344,
          -10.419126510620117,
          65.18218231201172,
          21.2398624420166
         ],
         "y": [
          84.33531188964844,
          -11.206907272338867,
          -53.138858795166016,
          -16.39449119567871
         ]
        }
       ],
       "layout": {
        "legend": {
         "bgcolor": "#F5F6F9",
         "font": {
          "color": "#4D5663"
         }
        },
        "paper_bgcolor": "#F5F6F9",
        "plot_bgcolor": "#F5F6F9",
        "template": {
         "data": {
          "bar": [
           {
            "error_x": {
             "color": "#2a3f5f"
            },
            "error_y": {
             "color": "#2a3f5f"
            },
            "marker": {
             "line": {
              "color": "#E5ECF6",
              "width": 0.5
             }
            },
            "type": "bar"
           }
          ],
          "barpolar": [
           {
            "marker": {
             "line": {
              "color": "#E5ECF6",
              "width": 0.5
             }
            },
            "type": "barpolar"
           }
          ],
          "carpet": [
           {
            "aaxis": {
             "endlinecolor": "#2a3f5f",
             "gridcolor": "white",
             "linecolor": "white",
             "minorgridcolor": "white",
             "startlinecolor": "#2a3f5f"
            },
            "baxis": {
             "endlinecolor": "#2a3f5f",
             "gridcolor": "white",
             "linecolor": "white",
             "minorgridcolor": "white",
             "startlinecolor": "#2a3f5f"
            },
            "type": "carpet"
           }
          ],
          "choropleth": [
           {
            "colorbar": {
             "outlinewidth": 0,
             "ticks": ""
            },
            "type": "choropleth"
           }
          ],
          "contour": [
           {
            "colorbar": {
             "outlinewidth": 0,
             "ticks": ""
            },
            "colorscale": [
             [
              0,
              "#0d0887"
             ],
             [
              0.1111111111111111,
              "#46039f"
             ],
             [
              0.2222222222222222,
              "#7201a8"
             ],
             [
              0.3333333333333333,
              "#9c179e"
             ],
             [
              0.4444444444444444,
              "#bd3786"
             ],
             [
              0.5555555555555556,
              "#d8576b"
             ],
             [
              0.6666666666666666,
              "#ed7953"
             ],
             [
              0.7777777777777778,
              "#fb9f3a"
             ],
             [
              0.8888888888888888,
              "#fdca26"
             ],
             [
              1,
              "#f0f921"
             ]
            ],
            "type": "contour"
           }
          ],
          "contourcarpet": [
           {
            "colorbar": {
             "outlinewidth": 0,
             "ticks": ""
            },
            "type": "contourcarpet"
           }
          ],
          "heatmap": [
           {
            "colorbar": {
             "outlinewidth": 0,
             "ticks": ""
            },
            "colorscale": [
             [
              0,
              "#0d0887"
             ],
             [
              0.1111111111111111,
              "#46039f"
             ],
             [
              0.2222222222222222,
              "#7201a8"
             ],
             [
              0.3333333333333333,
              "#9c179e"
             ],
             [
              0.4444444444444444,
              "#bd3786"
             ],
             [
              0.5555555555555556,
              "#d8576b"
             ],
             [
              0.6666666666666666,
              "#ed7953"
             ],
             [
              0.7777777777777778,
              "#fb9f3a"
             ],
             [
              0.8888888888888888,
              "#fdca26"
             ],
             [
              1,
              "#f0f921"
             ]
            ],
            "type": "heatmap"
           }
          ],
          "heatmapgl": [
           {
            "colorbar": {
             "outlinewidth": 0,
             "ticks": ""
            },
            "colorscale": [
             [
              0,
              "#0d0887"
             ],
             [
              0.1111111111111111,
              "#46039f"
             ],
             [
              0.2222222222222222,
              "#7201a8"
             ],
             [
              0.3333333333333333,
              "#9c179e"
             ],
             [
              0.4444444444444444,
              "#bd3786"
             ],
             [
              0.5555555555555556,
              "#d8576b"
             ],
             [
              0.6666666666666666,
              "#ed7953"
             ],
             [
              0.7777777777777778,
              "#fb9f3a"
             ],
             [
              0.8888888888888888,
              "#fdca26"
             ],
             [
              1,
              "#f0f921"
             ]
            ],
            "type": "heatmapgl"
           }
          ],
          "histogram": [
           {
            "marker": {
             "colorbar": {
              "outlinewidth": 0,
              "ticks": ""
             }
            },
            "type": "histogram"
           }
          ],
          "histogram2d": [
           {
            "colorbar": {
             "outlinewidth": 0,
             "ticks": ""
            },
            "colorscale": [
             [
              0,
              "#0d0887"
             ],
             [
              0.1111111111111111,
              "#46039f"
             ],
             [
              0.2222222222222222,
              "#7201a8"
             ],
             [
              0.3333333333333333,
              "#9c179e"
             ],
             [
              0.4444444444444444,
              "#bd3786"
             ],
             [
              0.5555555555555556,
              "#d8576b"
             ],
             [
              0.6666666666666666,
              "#ed7953"
             ],
             [
              0.7777777777777778,
              "#fb9f3a"
             ],
             [
              0.8888888888888888,
              "#fdca26"
             ],
             [
              1,
              "#f0f921"
             ]
            ],
            "type": "histogram2d"
           }
          ],
          "histogram2dcontour": [
           {
            "colorbar": {
             "outlinewidth": 0,
             "ticks": ""
            },
            "colorscale": [
             [
              0,
              "#0d0887"
             ],
             [
              0.1111111111111111,
              "#46039f"
             ],
             [
              0.2222222222222222,
              "#7201a8"
             ],
             [
              0.3333333333333333,
              "#9c179e"
             ],
             [
              0.4444444444444444,
              "#bd3786"
             ],
             [
              0.5555555555555556,
              "#d8576b"
             ],
             [
              0.6666666666666666,
              "#ed7953"
             ],
             [
              0.7777777777777778,
              "#fb9f3a"
             ],
             [
              0.8888888888888888,
              "#fdca26"
             ],
             [
              1,
              "#f0f921"
             ]
            ],
            "type": "histogram2dcontour"
           }
          ],
          "mesh3d": [
           {
            "colorbar": {
             "outlinewidth": 0,
             "ticks": ""
            },
            "type": "mesh3d"
           }
          ],
          "parcoords": [
           {
            "line": {
             "colorbar": {
              "outlinewidth": 0,
              "ticks": ""
             }
            },
            "type": "parcoords"
           }
          ],
          "pie": [
           {
            "automargin": true,
            "type": "pie"
           }
          ],
          "scatter": [
           {
            "marker": {
             "colorbar": {
              "outlinewidth": 0,
              "ticks": ""
             }
            },
            "type": "scatter"
           }
          ],
          "scatter3d": [
           {
            "line": {
             "colorbar": {
              "outlinewidth": 0,
              "ticks": ""
             }
            },
            "marker": {
             "colorbar": {
              "outlinewidth": 0,
              "ticks": ""
             }
            },
            "type": "scatter3d"
           }
          ],
          "scattercarpet": [
           {
            "marker": {
             "colorbar": {
              "outlinewidth": 0,
              "ticks": ""
             }
            },
            "type": "scattercarpet"
           }
          ],
          "scattergeo": [
           {
            "marker": {
             "colorbar": {
              "outlinewidth": 0,
              "ticks": ""
             }
            },
            "type": "scattergeo"
           }
          ],
          "scattergl": [
           {
            "marker": {
             "colorbar": {
              "outlinewidth": 0,
              "ticks": ""
             }
            },
            "type": "scattergl"
           }
          ],
          "scattermapbox": [
           {
            "marker": {
             "colorbar": {
              "outlinewidth": 0,
              "ticks": ""
             }
            },
            "type": "scattermapbox"
           }
          ],
          "scatterpolar": [
           {
            "marker": {
             "colorbar": {
              "outlinewidth": 0,
              "ticks": ""
             }
            },
            "type": "scatterpolar"
           }
          ],
          "scatterpolargl": [
           {
            "marker": {
             "colorbar": {
              "outlinewidth": 0,
              "ticks": ""
             }
            },
            "type": "scatterpolargl"
           }
          ],
          "scatterternary": [
           {
            "marker": {
             "colorbar": {
              "outlinewidth": 0,
              "ticks": ""
             }
            },
            "type": "scatterternary"
           }
          ],
          "surface": [
           {
            "colorbar": {
             "outlinewidth": 0,
             "ticks": ""
            },
            "colorscale": [
             [
              0,
              "#0d0887"
             ],
             [
              0.1111111111111111,
              "#46039f"
             ],
             [
              0.2222222222222222,
              "#7201a8"
             ],
             [
              0.3333333333333333,
              "#9c179e"
             ],
             [
              0.4444444444444444,
              "#bd3786"
             ],
             [
              0.5555555555555556,
              "#d8576b"
             ],
             [
              0.6666666666666666,
              "#ed7953"
             ],
             [
              0.7777777777777778,
              "#fb9f3a"
             ],
             [
              0.8888888888888888,
              "#fdca26"
             ],
             [
              1,
              "#f0f921"
             ]
            ],
            "type": "surface"
           }
          ],
          "table": [
           {
            "cells": {
             "fill": {
              "color": "#EBF0F8"
             },
             "line": {
              "color": "white"
             }
            },
            "header": {
             "fill": {
              "color": "#C8D4E3"
             },
             "line": {
              "color": "white"
             }
            },
            "type": "table"
           }
          ]
         },
         "layout": {
          "annotationdefaults": {
           "arrowcolor": "#2a3f5f",
           "arrowhead": 0,
           "arrowwidth": 1
          },
          "coloraxis": {
           "colorbar": {
            "outlinewidth": 0,
            "ticks": ""
           }
          },
          "colorscale": {
           "diverging": [
            [
             0,
             "#8e0152"
            ],
            [
             0.1,
             "#c51b7d"
            ],
            [
             0.2,
             "#de77ae"
            ],
            [
             0.3,
             "#f1b6da"
            ],
            [
             0.4,
             "#fde0ef"
            ],
            [
             0.5,
             "#f7f7f7"
            ],
            [
             0.6,
             "#e6f5d0"
            ],
            [
             0.7,
             "#b8e186"
            ],
            [
             0.8,
             "#7fbc41"
            ],
            [
             0.9,
             "#4d9221"
            ],
            [
             1,
             "#276419"
            ]
           ],
           "sequential": [
            [
             0,
             "#0d0887"
            ],
            [
             0.1111111111111111,
             "#46039f"
            ],
            [
             0.2222222222222222,
             "#7201a8"
            ],
            [
             0.3333333333333333,
             "#9c179e"
            ],
            [
             0.4444444444444444,
             "#bd3786"
            ],
            [
             0.5555555555555556,
             "#d8576b"
            ],
            [
             0.6666666666666666,
             "#ed7953"
            ],
            [
             0.7777777777777778,
             "#fb9f3a"
            ],
            [
             0.8888888888888888,
             "#fdca26"
            ],
            [
             1,
             "#f0f921"
            ]
           ],
           "sequentialminus": [
            [
             0,
             "#0d0887"
            ],
            [
             0.1111111111111111,
             "#46039f"
            ],
            [
             0.2222222222222222,
             "#7201a8"
            ],
            [
             0.3333333333333333,
             "#9c179e"
            ],
            [
             0.4444444444444444,
             "#bd3786"
            ],
            [
             0.5555555555555556,
             "#d8576b"
            ],
            [
             0.6666666666666666,
             "#ed7953"
            ],
            [
             0.7777777777777778,
             "#fb9f3a"
            ],
            [
             0.8888888888888888,
             "#fdca26"
            ],
            [
             1,
             "#f0f921"
            ]
           ]
          },
          "colorway": [
           "#636efa",
           "#EF553B",
           "#00cc96",
           "#ab63fa",
           "#FFA15A",
           "#19d3f3",
           "#FF6692",
           "#B6E880",
           "#FF97FF",
           "#FECB52"
          ],
          "font": {
           "color": "#2a3f5f"
          },
          "geo": {
           "bgcolor": "white",
           "lakecolor": "white",
           "landcolor": "#E5ECF6",
           "showlakes": true,
           "showland": true,
           "subunitcolor": "white"
          },
          "hoverlabel": {
           "align": "left"
          },
          "hovermode": "closest",
          "mapbox": {
           "style": "light"
          },
          "paper_bgcolor": "white",
          "plot_bgcolor": "#E5ECF6",
          "polar": {
           "angularaxis": {
            "gridcolor": "white",
            "linecolor": "white",
            "ticks": ""
           },
           "bgcolor": "#E5ECF6",
           "radialaxis": {
            "gridcolor": "white",
            "linecolor": "white",
            "ticks": ""
           }
          },
          "scene": {
           "xaxis": {
            "backgroundcolor": "#E5ECF6",
            "gridcolor": "white",
            "gridwidth": 2,
            "linecolor": "white",
            "showbackground": true,
            "ticks": "",
            "zerolinecolor": "white"
           },
           "yaxis": {
            "backgroundcolor": "#E5ECF6",
            "gridcolor": "white",
            "gridwidth": 2,
            "linecolor": "white",
            "showbackground": true,
            "ticks": "",
            "zerolinecolor": "white"
           },
           "zaxis": {
            "backgroundcolor": "#E5ECF6",
            "gridcolor": "white",
            "gridwidth": 2,
            "linecolor": "white",
            "showbackground": true,
            "ticks": "",
            "zerolinecolor": "white"
           }
          },
          "shapedefaults": {
           "line": {
            "color": "#2a3f5f"
           }
          },
          "ternary": {
           "aaxis": {
            "gridcolor": "white",
            "linecolor": "white",
            "ticks": ""
           },
           "baxis": {
            "gridcolor": "white",
            "linecolor": "white",
            "ticks": ""
           },
           "bgcolor": "#E5ECF6",
           "caxis": {
            "gridcolor": "white",
            "linecolor": "white",
            "ticks": ""
           }
          },
          "title": {
           "x": 0.05
          },
          "xaxis": {
           "automargin": true,
           "gridcolor": "white",
           "linecolor": "white",
           "ticks": "",
           "title": {
            "standoff": 15
           },
           "zerolinecolor": "white",
           "zerolinewidth": 2
          },
          "yaxis": {
           "automargin": true,
           "gridcolor": "white",
           "linecolor": "white",
           "ticks": "",
           "title": {
            "standoff": 15
           },
           "zerolinecolor": "white",
           "zerolinewidth": 2
          }
         }
        },
        "title": {
         "font": {
          "color": "#4D5663"
         },
         "text": "TSNE"
        },
        "xaxis": {
         "gridcolor": "#E1E5ED",
         "showgrid": true,
         "tickfont": {
          "color": "#4D5663"
         },
         "title": {
          "font": {
           "color": "#4D5663"
          },
          "text": "Axe 1"
         },
         "zerolinecolor": "#E1E5ED"
        },
        "yaxis": {
         "gridcolor": "#E1E5ED",
         "showgrid": true,
         "tickfont": {
          "color": "#4D5663"
         },
         "title": {
          "font": {
           "color": "#4D5663"
          },
          "text": "Axe 2"
         },
         "zerolinecolor": "#E1E5ED"
        }
       }
      },
      "text/html": [
       "<div>\n",
       "        \n",
       "        \n",
       "            <div id=\"9f5879d9-fb73-4a9a-9c6e-d444ed9b428c\" class=\"plotly-graph-div\" style=\"height:525px; width:100%;\"></div>\n",
       "            <script type=\"text/javascript\">\n",
       "                require([\"plotly\"], function(Plotly) {\n",
       "                    window.PLOTLYENV=window.PLOTLYENV || {};\n",
       "                    window.PLOTLYENV.BASE_URL='https://plot.ly';\n",
       "                    \n",
       "                if (document.getElementById(\"9f5879d9-fb73-4a9a-9c6e-d444ed9b428c\")) {\n",
       "                    Plotly.newPlot(\n",
       "                        '9f5879d9-fb73-4a9a-9c6e-d444ed9b428c',\n",
       "                        [{\"marker\": {\"color\": \"rgba(255, 153, 51, 1.0)\", \"line\": {\"width\": 1.3}, \"opacity\": 0.8, \"size\": 12, \"symbol\": \"circle\"}, \"mode\": \"markers\", \"name\": \"Couple 1\", \"text\": [\"poli\", \"bonjour\", \"salut\"], \"textfont\": {\"color\": \"#4D5663\"}, \"type\": \"scatter\", \"x\": [40.30056381225586, 101.08720397949219, -35.50376892089844], \"y\": [113.48685455322266, -49.75064468383789, -43.26179885864258]}, {\"marker\": {\"color\": \"rgba(55, 128, 191, 1.0)\", \"line\": {\"width\": 1.3}, \"opacity\": 0.8, \"size\": 12, \"symbol\": \"circle\"}, \"mode\": \"markers\", \"name\": \"Couple 2\", \"text\": [\"canap\\u00e9\", \"fauteuil\", \"table\", \"chaise\"], \"textfont\": {\"color\": \"#4D5663\"}, \"type\": \"scatter\", \"x\": [-44.61280059814453, 43.236175537109375, -22.928142547607422, -68.6146469116211], \"y\": [-8.792794227600098, 73.00318145751953, 19.704299926757812, -74.29200744628906]}, {\"marker\": {\"color\": \"rgba(50, 171, 96, 1.0)\", \"line\": {\"width\": 1.3}, \"opacity\": 0.8, \"size\": 12, \"symbol\": \"circle\"}, \"mode\": \"markers\", \"name\": \"Couple 3\", \"text\": [\"t\\u00e9l\\u00e9phone\", \"portable\", \"num\\u00e9ro\", \"appel\"], \"textfont\": {\"color\": \"#4D5663\"}, \"type\": \"scatter\", \"x\": [-56.216915130615234, 65.50669860839844, -87.83114624023438, 43.59558868408203], \"y\": [21.334835052490234, 37.47201156616211, 6.416492938995361, 9.918143272399902]}, {\"marker\": {\"color\": \"rgba(128, 0, 128, 1.0)\", \"line\": {\"width\": 1.3}, \"opacity\": 0.8, \"size\": 12, \"symbol\": \"circle\"}, \"mode\": \"markers\", \"name\": \"Couple 4\", \"text\": [\"voiture\", \"camion\", \"v\\u00e9lo\", \"train\"], \"textfont\": {\"color\": \"#4D5663\"}, \"type\": \"scatter\", \"x\": [-30.49265480041504, 77.46183013916016, 116.21082305908203, 3.056241989135742], \"y\": [49.84302520751953, 83.2596664428711, 5.618991374969482, -39.50851058959961]}, {\"marker\": {\"color\": \"rgba(219, 64, 82, 1.0)\", \"line\": {\"width\": 1.3}, \"opacity\": 0.8, \"size\": 12, \"symbol\": \"circle\"}, \"mode\": \"markers\", \"name\": \"Couple 5\", \"text\": [\"beau\", \"mignon\", \"bg\", \"mannequin\"], \"textfont\": {\"color\": \"#4D5663\"}, \"type\": \"scatter\", \"x\": [1.6592621803283691, 85.1893539428711, 12.899062156677246, -31.379619598388672], \"y\": [42.2311897277832, -21.215099334716797, -115.2552719116211, -109.53177642822266]}, {\"marker\": {\"color\": \"rgba(0, 128, 128, 1.0)\", \"line\": {\"width\": 1.3}, \"opacity\": 0.8, \"size\": 12, \"symbol\": \"circle\"}, \"mode\": \"markers\", \"name\": \"Couple 6\", \"text\": [\"docteur\", \"m\\u00e9decin\", \"sant\\u00e9\", \"bobo\"], \"textfont\": {\"color\": \"#4D5663\"}, \"type\": \"scatter\", \"x\": [27.999431610107422, -10.447184562683105, -66.30375671386719, 78.8815689086914], \"y\": [-73.24976348876953, 118.7625961303711, 56.838077545166016, 9.568445205688477]}, {\"marker\": {\"color\": \"rgba(255, 255, 51, 1.0)\", \"line\": {\"width\": 1.3}, \"opacity\": 0.8, \"size\": 12, \"symbol\": \"circle\"}, \"mode\": \"markers\", \"name\": \"Couple 7\", \"text\": [\"belle\", \"jolie\", \"mignonne\"], \"textfont\": {\"color\": \"#4D5663\"}, \"type\": \"scatter\", \"x\": [35.0200080871582, 71.1112060546875, -9.896474838256836], \"y\": [-40.85279083251953, -95.1329116821289, -70.04906463623047]}, {\"marker\": {\"color\": \"rgba(128, 128, 0, 1.0)\", \"line\": {\"width\": 1.3}, \"opacity\": 0.8, \"size\": 12, \"symbol\": \"circle\"}, \"mode\": \"markers\", \"name\": \"Couple 8\", \"text\": [\"p\\u00e8re\", \"papa\", \"daron\"], \"textfont\": {\"color\": \"#4D5663\"}, \"type\": \"scatter\", \"x\": [54.920562744140625, 11.210658073425293, 99.63964080810547], \"y\": [-17.218494415283203, 13.629637718200684, 52.94981384277344]}, {\"marker\": {\"color\": \"rgba(251, 128, 114, 1.0)\", \"line\": {\"width\": 1.3}, \"opacity\": 0.8, \"size\": 12, \"symbol\": \"circle\"}, \"mode\": \"markers\", \"name\": \"Couple 9\", \"text\": [\"m\\u00e8re\", \"maman\", \"daronne\"], \"textfont\": {\"color\": \"#4D5663\"}, \"type\": \"scatter\", \"x\": [32.50188064575195, -78.2324447631836, 6.0458574295043945], \"y\": [38.01462173461914, -30.429718017578125, 76.1285171508789]}, {\"marker\": {\"color\": \"rgba(128, 177, 211, 1.0)\", \"line\": {\"width\": 1.3}, \"opacity\": 0.8, \"size\": 12, \"symbol\": \"circle\"}, \"mode\": \"markers\", \"name\": \"Couple 10\", \"text\": [\"ol\", \"psg\", \"foot\", \"stade\"], \"textfont\": {\"color\": \"#4D5663\"}, \"type\": \"scatter\", \"x\": [-32.32237243652344, -10.419126510620117, 65.18218231201172, 21.2398624420166], \"y\": [84.33531188964844, -11.206907272338867, -53.138858795166016, -16.39449119567871]}],\n",
       "                        {\"legend\": {\"bgcolor\": \"#F5F6F9\", \"font\": {\"color\": \"#4D5663\"}}, \"paper_bgcolor\": \"#F5F6F9\", \"plot_bgcolor\": \"#F5F6F9\", \"template\": {\"data\": {\"bar\": [{\"error_x\": {\"color\": \"#2a3f5f\"}, \"error_y\": {\"color\": \"#2a3f5f\"}, \"marker\": {\"line\": {\"color\": \"#E5ECF6\", \"width\": 0.5}}, \"type\": \"bar\"}], \"barpolar\": [{\"marker\": {\"line\": {\"color\": \"#E5ECF6\", \"width\": 0.5}}, \"type\": \"barpolar\"}], \"carpet\": [{\"aaxis\": {\"endlinecolor\": \"#2a3f5f\", \"gridcolor\": \"white\", \"linecolor\": \"white\", \"minorgridcolor\": \"white\", \"startlinecolor\": \"#2a3f5f\"}, \"baxis\": {\"endlinecolor\": \"#2a3f5f\", \"gridcolor\": \"white\", \"linecolor\": \"white\", \"minorgridcolor\": \"white\", \"startlinecolor\": \"#2a3f5f\"}, \"type\": \"carpet\"}], \"choropleth\": [{\"colorbar\": {\"outlinewidth\": 0, \"ticks\": \"\"}, \"type\": \"choropleth\"}], \"contour\": [{\"colorbar\": {\"outlinewidth\": 0, \"ticks\": \"\"}, \"colorscale\": [[0.0, \"#0d0887\"], [0.1111111111111111, \"#46039f\"], [0.2222222222222222, \"#7201a8\"], [0.3333333333333333, \"#9c179e\"], [0.4444444444444444, \"#bd3786\"], [0.5555555555555556, \"#d8576b\"], [0.6666666666666666, \"#ed7953\"], [0.7777777777777778, \"#fb9f3a\"], [0.8888888888888888, \"#fdca26\"], [1.0, \"#f0f921\"]], \"type\": \"contour\"}], \"contourcarpet\": [{\"colorbar\": {\"outlinewidth\": 0, \"ticks\": \"\"}, \"type\": \"contourcarpet\"}], \"heatmap\": [{\"colorbar\": {\"outlinewidth\": 0, \"ticks\": \"\"}, \"colorscale\": [[0.0, \"#0d0887\"], [0.1111111111111111, \"#46039f\"], [0.2222222222222222, \"#7201a8\"], [0.3333333333333333, \"#9c179e\"], [0.4444444444444444, \"#bd3786\"], [0.5555555555555556, \"#d8576b\"], [0.6666666666666666, \"#ed7953\"], [0.7777777777777778, \"#fb9f3a\"], [0.8888888888888888, \"#fdca26\"], [1.0, \"#f0f921\"]], \"type\": \"heatmap\"}], \"heatmapgl\": [{\"colorbar\": {\"outlinewidth\": 0, \"ticks\": \"\"}, \"colorscale\": [[0.0, \"#0d0887\"], [0.1111111111111111, \"#46039f\"], [0.2222222222222222, \"#7201a8\"], [0.3333333333333333, \"#9c179e\"], [0.4444444444444444, \"#bd3786\"], [0.5555555555555556, \"#d8576b\"], [0.6666666666666666, \"#ed7953\"], [0.7777777777777778, \"#fb9f3a\"], [0.8888888888888888, \"#fdca26\"], [1.0, \"#f0f921\"]], \"type\": \"heatmapgl\"}], \"histogram\": [{\"marker\": {\"colorbar\": {\"outlinewidth\": 0, \"ticks\": \"\"}}, \"type\": \"histogram\"}], \"histogram2d\": [{\"colorbar\": {\"outlinewidth\": 0, \"ticks\": \"\"}, \"colorscale\": [[0.0, \"#0d0887\"], [0.1111111111111111, \"#46039f\"], [0.2222222222222222, \"#7201a8\"], [0.3333333333333333, \"#9c179e\"], [0.4444444444444444, \"#bd3786\"], [0.5555555555555556, \"#d8576b\"], [0.6666666666666666, \"#ed7953\"], [0.7777777777777778, \"#fb9f3a\"], [0.8888888888888888, \"#fdca26\"], [1.0, \"#f0f921\"]], \"type\": \"histogram2d\"}], \"histogram2dcontour\": [{\"colorbar\": {\"outlinewidth\": 0, \"ticks\": \"\"}, \"colorscale\": [[0.0, \"#0d0887\"], [0.1111111111111111, \"#46039f\"], [0.2222222222222222, \"#7201a8\"], [0.3333333333333333, \"#9c179e\"], [0.4444444444444444, \"#bd3786\"], [0.5555555555555556, \"#d8576b\"], [0.6666666666666666, \"#ed7953\"], [0.7777777777777778, \"#fb9f3a\"], [0.8888888888888888, \"#fdca26\"], [1.0, \"#f0f921\"]], \"type\": \"histogram2dcontour\"}], \"mesh3d\": [{\"colorbar\": {\"outlinewidth\": 0, \"ticks\": \"\"}, \"type\": \"mesh3d\"}], \"parcoords\": [{\"line\": {\"colorbar\": {\"outlinewidth\": 0, \"ticks\": \"\"}}, \"type\": \"parcoords\"}], \"pie\": [{\"automargin\": true, \"type\": \"pie\"}], \"scatter\": [{\"marker\": {\"colorbar\": {\"outlinewidth\": 0, \"ticks\": \"\"}}, \"type\": \"scatter\"}], \"scatter3d\": [{\"line\": {\"colorbar\": {\"outlinewidth\": 0, \"ticks\": \"\"}}, \"marker\": {\"colorbar\": {\"outlinewidth\": 0, \"ticks\": \"\"}}, \"type\": \"scatter3d\"}], \"scattercarpet\": [{\"marker\": {\"colorbar\": {\"outlinewidth\": 0, \"ticks\": \"\"}}, \"type\": \"scattercarpet\"}], \"scattergeo\": [{\"marker\": {\"colorbar\": {\"outlinewidth\": 0, \"ticks\": \"\"}}, \"type\": \"scattergeo\"}], \"scattergl\": [{\"marker\": {\"colorbar\": {\"outlinewidth\": 0, \"ticks\": \"\"}}, \"type\": \"scattergl\"}], \"scattermapbox\": [{\"marker\": {\"colorbar\": {\"outlinewidth\": 0, \"ticks\": \"\"}}, \"type\": \"scattermapbox\"}], \"scatterpolar\": [{\"marker\": {\"colorbar\": {\"outlinewidth\": 0, \"ticks\": \"\"}}, \"type\": \"scatterpolar\"}], \"scatterpolargl\": [{\"marker\": {\"colorbar\": {\"outlinewidth\": 0, \"ticks\": \"\"}}, \"type\": \"scatterpolargl\"}], \"scatterternary\": [{\"marker\": {\"colorbar\": {\"outlinewidth\": 0, \"ticks\": \"\"}}, \"type\": \"scatterternary\"}], \"surface\": [{\"colorbar\": {\"outlinewidth\": 0, \"ticks\": \"\"}, \"colorscale\": [[0.0, \"#0d0887\"], [0.1111111111111111, \"#46039f\"], [0.2222222222222222, \"#7201a8\"], [0.3333333333333333, \"#9c179e\"], [0.4444444444444444, \"#bd3786\"], [0.5555555555555556, \"#d8576b\"], [0.6666666666666666, \"#ed7953\"], [0.7777777777777778, \"#fb9f3a\"], [0.8888888888888888, \"#fdca26\"], [1.0, \"#f0f921\"]], \"type\": \"surface\"}], \"table\": [{\"cells\": {\"fill\": {\"color\": \"#EBF0F8\"}, \"line\": {\"color\": \"white\"}}, \"header\": {\"fill\": {\"color\": \"#C8D4E3\"}, \"line\": {\"color\": \"white\"}}, \"type\": \"table\"}]}, \"layout\": {\"annotationdefaults\": {\"arrowcolor\": \"#2a3f5f\", \"arrowhead\": 0, \"arrowwidth\": 1}, \"coloraxis\": {\"colorbar\": {\"outlinewidth\": 0, \"ticks\": \"\"}}, \"colorscale\": {\"diverging\": [[0, \"#8e0152\"], [0.1, \"#c51b7d\"], [0.2, \"#de77ae\"], [0.3, \"#f1b6da\"], [0.4, \"#fde0ef\"], [0.5, \"#f7f7f7\"], [0.6, \"#e6f5d0\"], [0.7, \"#b8e186\"], [0.8, \"#7fbc41\"], [0.9, \"#4d9221\"], [1, \"#276419\"]], \"sequential\": [[0.0, \"#0d0887\"], [0.1111111111111111, \"#46039f\"], [0.2222222222222222, \"#7201a8\"], [0.3333333333333333, \"#9c179e\"], [0.4444444444444444, \"#bd3786\"], [0.5555555555555556, \"#d8576b\"], [0.6666666666666666, \"#ed7953\"], [0.7777777777777778, \"#fb9f3a\"], [0.8888888888888888, \"#fdca26\"], [1.0, \"#f0f921\"]], \"sequentialminus\": [[0.0, \"#0d0887\"], [0.1111111111111111, \"#46039f\"], [0.2222222222222222, \"#7201a8\"], [0.3333333333333333, \"#9c179e\"], [0.4444444444444444, \"#bd3786\"], [0.5555555555555556, \"#d8576b\"], [0.6666666666666666, \"#ed7953\"], [0.7777777777777778, \"#fb9f3a\"], [0.8888888888888888, \"#fdca26\"], [1.0, \"#f0f921\"]]}, \"colorway\": [\"#636efa\", \"#EF553B\", \"#00cc96\", \"#ab63fa\", \"#FFA15A\", \"#19d3f3\", \"#FF6692\", \"#B6E880\", \"#FF97FF\", \"#FECB52\"], \"font\": {\"color\": \"#2a3f5f\"}, \"geo\": {\"bgcolor\": \"white\", \"lakecolor\": \"white\", \"landcolor\": \"#E5ECF6\", \"showlakes\": true, \"showland\": true, \"subunitcolor\": \"white\"}, \"hoverlabel\": {\"align\": \"left\"}, \"hovermode\": \"closest\", \"mapbox\": {\"style\": \"light\"}, \"paper_bgcolor\": \"white\", \"plot_bgcolor\": \"#E5ECF6\", \"polar\": {\"angularaxis\": {\"gridcolor\": \"white\", \"linecolor\": \"white\", \"ticks\": \"\"}, \"bgcolor\": \"#E5ECF6\", \"radialaxis\": {\"gridcolor\": \"white\", \"linecolor\": \"white\", \"ticks\": \"\"}}, \"scene\": {\"xaxis\": {\"backgroundcolor\": \"#E5ECF6\", \"gridcolor\": \"white\", \"gridwidth\": 2, \"linecolor\": \"white\", \"showbackground\": true, \"ticks\": \"\", \"zerolinecolor\": \"white\"}, \"yaxis\": {\"backgroundcolor\": \"#E5ECF6\", \"gridcolor\": \"white\", \"gridwidth\": 2, \"linecolor\": \"white\", \"showbackground\": true, \"ticks\": \"\", \"zerolinecolor\": \"white\"}, \"zaxis\": {\"backgroundcolor\": \"#E5ECF6\", \"gridcolor\": \"white\", \"gridwidth\": 2, \"linecolor\": \"white\", \"showbackground\": true, \"ticks\": \"\", \"zerolinecolor\": \"white\"}}, \"shapedefaults\": {\"line\": {\"color\": \"#2a3f5f\"}}, \"ternary\": {\"aaxis\": {\"gridcolor\": \"white\", \"linecolor\": \"white\", \"ticks\": \"\"}, \"baxis\": {\"gridcolor\": \"white\", \"linecolor\": \"white\", \"ticks\": \"\"}, \"bgcolor\": \"#E5ECF6\", \"caxis\": {\"gridcolor\": \"white\", \"linecolor\": \"white\", \"ticks\": \"\"}}, \"title\": {\"x\": 0.05}, \"xaxis\": {\"automargin\": true, \"gridcolor\": \"white\", \"linecolor\": \"white\", \"ticks\": \"\", \"title\": {\"standoff\": 15}, \"zerolinecolor\": \"white\", \"zerolinewidth\": 2}, \"yaxis\": {\"automargin\": true, \"gridcolor\": \"white\", \"linecolor\": \"white\", \"ticks\": \"\", \"title\": {\"standoff\": 15}, \"zerolinecolor\": \"white\", \"zerolinewidth\": 2}}}, \"title\": {\"font\": {\"color\": \"#4D5663\"}, \"text\": \"TSNE\"}, \"xaxis\": {\"gridcolor\": \"#E1E5ED\", \"showgrid\": true, \"tickfont\": {\"color\": \"#4D5663\"}, \"title\": {\"font\": {\"color\": \"#4D5663\"}, \"text\": \"Axe 1\"}, \"zerolinecolor\": \"#E1E5ED\"}, \"yaxis\": {\"gridcolor\": \"#E1E5ED\", \"showgrid\": true, \"tickfont\": {\"color\": \"#4D5663\"}, \"title\": {\"font\": {\"color\": \"#4D5663\"}, \"text\": \"Axe 2\"}, \"zerolinecolor\": \"#E1E5ED\"}},\n",
       "                        {\"showLink\": true, \"linkText\": \"Export to plot.ly\", \"plotlyServerURL\": \"https://plot.ly\", \"responsive\": true}\n",
       "                    ).then(function(){\n",
       "                            \n",
       "var gd = document.getElementById('9f5879d9-fb73-4a9a-9c6e-d444ed9b428c');\n",
       "var x = new MutationObserver(function (mutations, observer) {{\n",
       "        var display = window.getComputedStyle(gd).display;\n",
       "        if (!display || display === 'none') {{\n",
       "            console.log([gd, 'removed!']);\n",
       "            Plotly.purge(gd);\n",
       "            observer.disconnect();\n",
       "        }}\n",
       "}});\n",
       "\n",
       "// Listen for the removal of the full notebook cells\n",
       "var notebookContainer = gd.closest('#notebook-container');\n",
       "if (notebookContainer) {{\n",
       "    x.observe(notebookContainer, {childList: true});\n",
       "}}\n",
       "\n",
       "// Listen for the clearing of the current output cell\n",
       "var outputEl = gd.closest('.output');\n",
       "if (outputEl) {{\n",
       "    x.observe(outputEl, {childList: true});\n",
       "}}\n",
       "\n",
       "                        })\n",
       "                };\n",
       "                });\n",
       "            </script>\n",
       "        </div>"
      ]
     },
     "metadata": {},
     "output_type": "display_data"
    }
   ],
   "source": [
    "tsne_graph(liste1, statique = False,\n",
    "           nom_couples_explicite = True) #Paramètre ne marche pas : a debuger ?"
   ]
  },
  {
   "cell_type": "code",
   "execution_count": 180,
   "metadata": {},
   "outputs": [
    {
     "data": {
      "text/html": [
       "        <script type=\"text/javascript\">\n",
       "        window.PlotlyConfig = {MathJaxConfig: 'local'};\n",
       "        if (window.MathJax) {MathJax.Hub.Config({SVG: {font: \"STIX-Web\"}});}\n",
       "        if (typeof require !== 'undefined') {\n",
       "        require.undef(\"plotly\");\n",
       "        requirejs.config({\n",
       "            paths: {\n",
       "                'plotly': ['https://cdn.plot.ly/plotly-latest.min']\n",
       "            }\n",
       "        });\n",
       "        require(['plotly'], function(Plotly) {\n",
       "            window._Plotly = Plotly;\n",
       "        });\n",
       "        }\n",
       "        </script>\n",
       "        "
      ]
     },
     "metadata": {},
     "output_type": "display_data"
    },
    {
     "data": {
      "application/vnd.plotly.v1+json": {
       "config": {
        "linkText": "Export to plot.ly",
        "plotlyServerURL": "https://plot.ly",
        "showLink": true
       },
       "data": [
        {
         "marker": {
          "color": "rgba(255, 153, 51, 1.0)",
          "line": {
           "width": 1.3
          },
          "opacity": 0.8,
          "size": 12,
          "symbol": "circle"
         },
         "mode": "markers",
         "name": "Couple 1",
         "text": [
          "jespere",
          "expres",
          "unknown",
          "tite",
          "35",
          "ipad",
          "eme",
          "relâche",
          "top1",
          "chiants",
          "libres",
          "europeans",
          "investit",
          "usualsuspects",
          "davoir",
          "néant",
          "mariages",
          "clinique",
          "scandaleux",
          "hallucinant",
          "josefine",
          "taule",
          "mylène",
          "mouchoirs",
          "🇪",
          "forts",
          "malédiction",
          "mounet",
          "impôt",
          "🇸",
          "union",
          "od",
          "refusé",
          "animes",
          "gouffre",
          "keufs",
          "glr",
          "chips",
          "fallu",
          "nah",
          "jambon",
          "bouh",
          "grotte",
          "sénat",
          "pseudos",
          "etaient",
          "hac",
          "lazare",
          "cou",
          "attitude",
          "parlementaire",
          "irrespectueux",
          "dégradé",
          "nain",
          "friendzone",
          "pl",
          "audace",
          "jambon",
          "autorité",
          "puisqu",
          "abandonne",
          "bonus",
          "enregistre",
          "insultes",
          "chaines",
          "laaaaa",
          "véritable",
          "salles",
          "steak",
          "formule",
          "lignes",
          "applis",
          "🔵",
          "algerie",
          "sentie",
          "�",
          "🇵",
          "paradise",
          "pédophile",
          "ch",
          "solitude",
          "fesse",
          "1500",
          "honnêtes",
          "jmet",
          "mmmh",
          "opposition",
          "cliqué",
          "soja",
          "george",
          "levé",
          "she",
          "dictionnaire",
          "foutais",
          "agenda",
          "emmerdale",
          "boo",
          "connecté",
          "permanente",
          "côtoie"
         ],
         "textfont": {
          "color": "#4D5663"
         },
         "type": "scatter",
         "x": [
          0.16305749118328094,
          -6.228130340576172,
          -9.542625427246094,
          -6.491199016571045,
          6.817336559295654,
          -16.122819900512695,
          0.5384423136711121,
          6.934920310974121,
          -7.493088722229004,
          -13.972861289978027,
          -3.3014354705810547,
          1.0576258897781372,
          5.35128927230835,
          13.698366165161133,
          -0.6786636114120483,
          17.993431091308594,
          -1.221632957458496,
          17.294567108154297,
          -7.370456218719482,
          14.594364166259766,
          2.381830930709839,
          1.4303452968597412,
          -10.696240425109863,
          -9.565912246704102,
          14.744592666625977,
          -8.412930488586426,
          -4.97422981262207,
          17.41841697692871,
          -11.195751190185547,
          -8.863704681396484,
          -0.8319301009178162,
          5.139143943786621,
          -11.839180946350098,
          14.599945068359375,
          -8.3330659866333,
          -6.60764741897583,
          -9.48330020904541,
          14.399384498596191,
          0.8725181221961975,
          8.762801170349121,
          13.676335334777832,
          9.532510757446289,
          -6.691292762756348,
          -7.12376070022583,
          11.870782852172852,
          0.4396224319934845,
          2.9476046562194824,
          16.48263168334961,
          10.98958969116211,
          -4.1179518699646,
          1.549863338470459,
          -2.050711154937744,
          6.678893566131592,
          -16.853437423706055,
          9.469160079956055,
          -3.5181167125701904,
          4.770008563995361,
          13.676331520080566,
          -15.1995267868042,
          12.190492630004883,
          -9.910028457641602,
          11.401457786560059,
          -3.5023841857910156,
          6.823850154876709,
          4.244596481323242,
          -13.308456420898438,
          15.94647216796875,
          -5.024753570556641,
          4.794644832611084,
          10.014145851135254,
          4.390603065490723,
          16.018585205078125,
          9.60195255279541,
          12.256828308105469,
          14.840753555297852,
          6.922131538391113,
          -5.2788896560668945,
          -3.126457691192627,
          20.188570022583008,
          4.287187576293945,
          -5.823212146759033,
          16.258014678955078,
          -0.642419695854187,
          -9.301191329956055,
          11.037497520446777,
          14.682792663574219,
          7.6932783126831055,
          -3.9363062381744385,
          -12.385209083557129,
          -2.2414135932922363,
          -2.591963768005371,
          15.27980899810791,
          -20.69485855102539,
          -21.005640029907227,
          -1.6121726036071777,
          9.888569831848145,
          -4.45200777053833,
          -13.15522575378418,
          -4.893607139587402,
          -5.595652103424072
         ],
         "y": [
          11.143709182739258,
          -7.238741874694824,
          -9.256750106811523,
          -13.023199081420898,
          -6.2906599044799805,
          5.534214019775391,
          8.646026611328125,
          -14.105746269226074,
          13.98452377319336,
          1.744670033454895,
          9.324722290039062,
          -19.599233627319336,
          18.062679290771484,
          -3.3278298377990723,
          16.925498962402344,
          3.178698778152466,
          20.409090042114258,
          -0.2661724388599396,
          9.398978233337402,
          6.185152530670166,
          9.38896369934082,
          -13.461160659790039,
          -13.5125093460083,
          0.16713054478168488,
          6.831145286560059,
          3.9264259338378906,
          3.815614938735962,
          0.48520249128341675,
          14.0140380859375,
          16.909378051757812,
          -16.917457580566406,
          19.530424118041992,
          -4.663750648498535,
          2.8902406692504883,
          2.9969537258148193,
          19.712661743164062,
          -14.352112770080566,
          -1.239305853843689,
          -19.157602310180664,
          15.131896018981934,
          -9.012266159057617,
          -9.097198486328125,
          -2.7324728965759277,
          -11.862488746643066,
          12.188620567321777,
          10.437912940979004,
          13.0160493850708,
          8.637224197387695,
          11.617656707763672,
          8.31128215789795,
          -13.594047546386719,
          16.55165672302246,
          15.912793159484863,
          -5.211461544036865,
          6.904340744018555,
          6.140748500823975,
          15.248005867004395,
          -9.012267112731934,
          3.3028719425201416,
          4.1402268409729,
          -8.785368919372559,
          10.66640853881836,
          -19.17749786376953,
          -10.04298210144043,
          19.086830139160156,
          -0.32682090997695923,
          3.1049158573150635,
          20.67575454711914,
          10.124582290649414,
          -5.524873733520508,
          8.855192184448242,
          8.786836624145508,
          -1.1860562562942505,
          0.41400256752967834,
          -1.2620916366577148,
          11.957878112792969,
          7.807237148284912,
          1.365660548210144,
          1.4895306825637817,
          16.26972198486328,
          2.386535882949829,
          -0.5953419804573059,
          -14.784170150756836,
          18.666749954223633,
          3.615718126296997,
          1.3708003759384155,
          6.115252494812012,
          19.055940628051758,
          -4.058216571807861,
          12.724236488342285,
          16.48046112060547,
          -3.128706216812134,
          -8.915425300598145,
          -8.205527305603027,
          6.366166591644287,
          3.154590368270874,
          18.666893005371094,
          -9.944310188293457,
          11.070964813232422,
          5.005674839019775
         ]
        },
        {
         "marker": {
          "color": "rgba(55, 128, 191, 1.0)",
          "line": {
           "width": 1.3
          },
          "opacity": 0.8,
          "size": 12,
          "symbol": "circle"
         },
         "mode": "markers",
         "name": "Couple 2",
         "text": [
          "jvoulais",
          "vérifier",
          "réflexion",
          "ha",
          "ajouter",
          "solo",
          "entrain",
          "🇫",
          "impressionnant",
          "neige",
          "gère",
          "taff",
          "passion",
          "mens",
          "nez",
          "comptes",
          "back",
          "carrière",
          "😞",
          "sophie",
          "permis",
          "termine",
          "journal",
          "dise",
          "marie",
          "raclette",
          "crise",
          "croit",
          "règles",
          "choqué",
          "rencontrer",
          "touche",
          "mdrrrrrr",
          "octobre",
          "uniquement",
          "alexia",
          "tente",
          "vélo",
          "naze",
          "28",
          "jalouse",
          "tente",
          "goûts",
          "position",
          "saisons",
          "entretien",
          "clé",
          "inverse",
          "sud",
          "japonais",
          "bienvenue",
          "rendent",
          "madame",
          "gestion",
          "victoire",
          "tain",
          "regardant",
          "échec",
          "🌹",
          "gouvernement",
          "souris",
          "suisse",
          "ramener",
          "🤞",
          "svt",
          "plaindre",
          "✊",
          "refuse",
          "actuellement",
          "étude",
          "merciiiii",
          "lyon",
          "bjr",
          "tg",
          "trous",
          "bouffer",
          "familles",
          "choquée",
          "90",
          "fatiguée",
          "lapin",
          "payé",
          "🤙",
          "regrette",
          "sah",
          "expérience",
          "zéro",
          "manga",
          "batterie",
          "charge",
          "al",
          "sales",
          "calmer",
          "kiffé",
          "😰",
          "13",
          "animal",
          "2e",
          "réveille",
          "3h"
         ],
         "textfont": {
          "color": "#4D5663"
         },
         "type": "scatter",
         "x": [
          -7.449894905090332,
          10.916376113891602,
          2.400251865386963,
          3.4686837196350098,
          -0.8702737092971802,
          -12.979371070861816,
          -1.0187139511108398,
          7.422526836395264,
          -13.270855903625488,
          -11.524109840393066,
          -11.298003196716309,
          4.351409435272217,
          -10.855024337768555,
          14.720605850219727,
          -5.899301052093506,
          4.103858470916748,
          -1.9067026376724243,
          -0.8528552651405334,
          0.48726531863212585,
          -3.984905481338501,
          7.745473384857178,
          -8.731833457946777,
          -3.4674503803253174,
          -7.098231315612793,
          8.6345853805542,
          1.7507234811782837,
          -3.1036689281463623,
          16.594989776611328,
          -9.894965171813965,
          6.542037487030029,
          -7.953099250793457,
          -12.339653015136719,
          4.053321361541748,
          -14.48792839050293,
          -2.1343743801116943,
          -20.561809539794922,
          5.723400115966797,
          -13.41025161743164,
          -6.650042533874512,
          -12.599322319030762,
          6.792498588562012,
          5.723400115966797,
          -12.762999534606934,
          6.729917049407959,
          -10.705198287963867,
          13.937519073486328,
          8.910075187683105,
          10.268990516662598,
          -7.800375461578369,
          -2.0719211101531982,
          10.372586250305176,
          3.090216875076294,
          -14.972203254699707,
          14.312836647033691,
          -6.519796371459961,
          13.271618843078613,
          -2.4850170612335205,
          13.18198299407959,
          -2.1793253421783447,
          -5.903247833251953,
          1.0426506996154785,
          5.877040386199951,
          -5.690494537353516,
          -6.568264961242676,
          5.805440425872803,
          0.23564551770687103,
          12.79403018951416,
          19.06702995300293,
          -4.703331470489502,
          7.969568729400635,
          -6.691329479217529,
          -7.113831043243408,
          -4.3701982498168945,
          -10.142006874084473,
          15.105338096618652,
          2.8747754096984863,
          10.187091827392578,
          13.054144859313965,
          13.789758682250977,
          -10.500334739685059,
          18.71788215637207,
          -6.686543941497803,
          5.97622013092041,
          4.654892921447754,
          -12.168680191040039,
          8.398040771484375,
          -4.814869403839111,
          -6.320245742797852,
          -9.174832344055176,
          -9.773991584777832,
          -15.593466758728027,
          -13.28185749053955,
          6.555778503417969,
          -13.9528226852417,
          -16.338335037231445,
          2.2964863777160645,
          19.145442962646484,
          -4.945040225982666,
          -9.921407699584961,
          6.843421936035156
         ],
         "y": [
          16.950931549072266,
          -5.746119022369385,
          11.66561222076416,
          19.784059524536133,
          19.65654182434082,
          -15.588878631591797,
          -14.11436939239502,
          -5.276097774505615,
          15.368290901184082,
          -18.4127254486084,
          0.6919810175895691,
          17.210481643676758,
          7.72758150100708,
          4.739809513092041,
          0.10138832777738571,
          10.603959083557129,
          -16.742631912231445,
          9.441964149475098,
          -17.858041763305664,
          -17.80729866027832,
          10.761225700378418,
          -13.358007431030273,
          10.093612670898438,
          19.06678009033203,
          -13.27842903137207,
          9.591960906982422,
          -18.267719268798828,
          1.6941931247711182,
          -3.8202965259552,
          6.437061309814453,
          4.483321666717529,
          14.799668312072754,
          -9.512075424194336,
          -3.1016628742218018,
          19.738910675048828,
          -9.569363594055176,
          13.712117195129395,
          3.2309844493865967,
          8.929723739624023,
          15.695002555847168,
          -13.652240753173828,
          13.712117195129395,
          8.225533485412598,
          20.018198013305664,
          6.682447910308838,
          9.265222549438477,
          -9.658498764038086,
          -7.503676891326904,
          -2.476388454437256,
          16.91090202331543,
          -4.615228652954102,
          11.069714546203613,
          4.694504261016846,
          -6.158410549163818,
          -8.466767311096191,
          -3.2468109130859375,
          6.6167073249816895,
          8.70903491973877,
          -10.448029518127441,
          6.474825382232666,
          -14.42298698425293,
          -9.104146957397461,
          18.24308967590332,
          -10.214417457580566,
          6.645596504211426,
          19.23139190673828,
          -2.7120864391326904,
          1.157832145690918,
          -7.401009559631348,
          -12.248682975769043,
          20.624317169189453,
          17.185070037841797,
          2.688206911087036,
          -6.818514347076416,
          9.43458080291748,
          17.542417526245117,
          12.252449989318848,
          -5.948888301849365,
          0.033975750207901,
          -3.579695224761963,
          1.408044457435608,
          -9.534878730773926,
          -6.627955913543701,
          -13.978774070739746,
          8.478315353393555,
          16.035249710083008,
          9.516016960144043,
          1.4568867683410645,
          -14.802533149719238,
          -14.784547805786133,
          -9.071292877197266,
          -5.5032219886779785,
          18.18085479736328,
          -1.4922620058059692,
          -7.4602556228637695,
          -14.718331336975098,
          0.36994823813438416,
          19.305513381958008,
          -17.061527252197266,
          18.900426864624023
         ]
        },
        {
         "marker": {
          "color": "rgba(50, 171, 96, 1.0)",
          "line": {
           "width": 1.3
          },
          "opacity": 0.8,
          "size": 12,
          "symbol": "circle"
         },
         "mode": "markers",
         "name": "Couple 3",
         "text": [
          "ligne",
          "bravo",
          "in",
          "aujourdhui",
          "rend",
          "nan",
          "pire",
          "chaque",
          "ya",
          "change",
          "mdrrr",
          "😆",
          "connais",
          "clairement",
          "an",
          "min",
          "pourtant",
          "écouter",
          "magnifique",
          "o",
          "force",
          "doigts",
          "perso",
          "complètement",
          "grand",
          "content",
          "elles",
          "ptn",
          "tl",
          "inquiète",
          "tt",
          "filles",
          "hyper",
          "no",
          "😪",
          "facile",
          "ailleurs",
          "grande",
          "putain",
          "pense",
          "super",
          "savez",
          "🤔",
          "autant",
          "mdrrrr",
          "sortie",
          "partie",
          "moment",
          "bonjour",
          "vos",
          "tf1",
          "verra",
          "😢",
          "dois",
          "eux",
          "génial",
          "faites",
          "gars",
          "pcq",
          "coup",
          "quelques",
          "laisser",
          "contente",
          "serai",
          "jeux",
          "hyper",
          "stage",
          "aurait",
          "chaud",
          "joue",
          "janvier",
          "trucs",
          "😔",
          "heureux",
          "quelle",
          "change",
          "chat",
          "peur",
          "jui",
          "réponse",
          "heureuse",
          "sport",
          "eu",
          "parti",
          "pire",
          "corps",
          "15",
          "stp",
          "the",
          "quel",
          "semaine",
          "maison",
          "porte",
          "8",
          "bac",
          "changé",
          "vrais",
          "ahah",
          "😩",
          "allez"
         ],
         "textfont": {
          "color": "#4D5663"
         },
         "type": "scatter",
         "x": [
          -11.774420738220215,
          -1.804388403892517,
          -15.737438201904297,
          1.5912251472473145,
          13.206530570983887,
          -1.3985376358032227,
          -12.615269660949707,
          -15.933693885803223,
          9.708837509155273,
          -18.914390563964844,
          -5.381453037261963,
          -5.796735763549805,
          8.991848945617676,
          -6.664090156555176,
          -17.189010620117188,
          -7.222423553466797,
          12.040932655334473,
          4.7315993309021,
          -3.7944533824920654,
          5.631437301635742,
          -5.545096397399902,
          -11.425788879394531,
          -8.788602828979492,
          -10.586735725402832,
          -2.701026439666748,
          -2.0745623111724854,
          -11.958396911621094,
          1.1189402341842651,
          7.1041259765625,
          0.5421090722084045,
          -10.00867748260498,
          4.408568382263184,
          12.802901268005371,
          15.223036766052246,
          -20.68272590637207,
          4.579906463623047,
          -9.397290229797363,
          -10.858057022094727,
          -12.405211448669434,
          13.337246894836426,
          3.165085792541504,
          7.334444046020508,
          -3.4965462684631348,
          -11.70715045928955,
          -4.4730305671691895,
          -8.298033714294434,
          -12.278482437133789,
          1.8933298587799072,
          12.881514549255371,
          -2.176851749420166,
          -10.76193618774414,
          -9.43070125579834,
          -10.218719482421875,
          0.5815548300743103,
          -8.5951566696167,
          -4.429847717285156,
          -16.317655563354492,
          -1.4380611181259155,
          13.304316520690918,
          -13.353860855102539,
          -0.7951101064682007,
          -7.622452735900879,
          -15.376404762268066,
          -11.081257820129395,
          -12.811781883239746,
          12.803220748901367,
          10.19179916381836,
          4.6114821434021,
          2.843198537826538,
          -0.036484695971012115,
          6.278867244720459,
          7.6274333000183105,
          -13.38505744934082,
          -7.207141876220703,
          8.275259017944336,
          -18.914453506469727,
          4.099323749542236,
          -3.3278818130493164,
          16.21352195739746,
          11.982514381408691,
          -13.192300796508789,
          8.17483901977539,
          -1.1266300678253174,
          11.635313987731934,
          -12.615405082702637,
          1.0250310897827148,
          -8.384708404541016,
          -0.3886955976486206,
          2.1873247623443604,
          -16.733978271484375,
          -2.926679849624634,
          12.89974308013916,
          16.32243537902832,
          14.140437126159668,
          11.989694595336914,
          -2.6497511863708496,
          -2.144263744354248,
          0.3723919987678528,
          4.662428855895996,
          -14.065754890441895
         ],
         "y": [
          -3.5689070224761963,
          -16.144569396972656,
          -7.2656049728393555,
          -10.824814796447754,
          13.698872566223145,
          9.220500946044922,
          -16.0266056060791,
          3.7228736877441406,
          6.050471305847168,
          -6.534687042236328,
          4.20836067199707,
          8.340531349182129,
          -12.246466636657715,
          1.7635761499404907,
          -7.31135368347168,
          5.604860782623291,
          6.4310994148254395,
          11.719430923461914,
          7.431093215942383,
          20.30364418029785,
          6.0154805183410645,
          1.2239171266555786,
          15.027643203735352,
          -8.469364166259766,
          -18.258291244506836,
          -7.700986385345459,
          4.295485019683838,
          -6.384128570556641,
          -11.22543716430664,
          -13.307141304016113,
          -2.4144906997680664,
          1.409746527671814,
          4.945862293243408,
          6.283088207244873,
          -11.087753295898438,
          9.245068550109863,
          -16.667335510253906,
          -1.6561524868011475,
          -0.6693577766418457,
          -6.887094974517822,
          -10.556426048278809,
          11.166353225708008,
          4.5762834548950195,
          5.40338134765625,
          -12.74547004699707,
          -14.009767532348633,
          13.985508918762207,
          12.04947566986084,
          12.659933090209961,
          -15.755288124084473,
          0.38070642948150635,
          -12.086808204650879,
          13.402523040771484,
          7.949426651000977,
          17.719995498657227,
          -0.7346219420433044,
          -8.594741821289062,
          -18.773134231567383,
          5.917745590209961,
          4.483170032501221,
          -18.749248504638672,
          3.1370465755462646,
          -10.091181755065918,
          -17.155967712402344,
          4.92203426361084,
          4.945644855499268,
          -11.113542556762695,
          -8.886544227600098,
          -13.733291625976562,
          1.168819546699524,
          10.231712341308594,
          -4.5102996826171875,
          -10.094852447509766,
          -13.832255363464355,
          4.833514213562012,
          -6.534630298614502,
          15.452545166015625,
          -0.6598880887031555,
          7.730210781097412,
          10.531445503234863,
          -2.6070992946624756,
          7.846582412719727,
          6.016633987426758,
          4.828458786010742,
          -16.027238845825195,
          -17.82545280456543,
          13.395939826965332,
          9.598846435546875,
          -17.57906150817871,
          -9.363754272460938,
          19.161630630493164,
          0.4788077771663666,
          -2.688931465148926,
          -8.078475952148438,
          -7.294920444488525,
          7.628901481628418,
          -19.53507423400879,
          -13.163061141967773,
          -14.589357376098633,
          3.9563918113708496
         ]
        },
        {
         "marker": {
          "color": "rgba(128, 0, 128, 1.0)",
          "line": {
           "width": 1.3
          },
          "opacity": 0.8,
          "size": 12,
          "symbol": "circle"
         },
         "mode": "markers",
         "name": "Couple 4",
         "text": [
          "pour",
          "qui",
          "😭",
          "vu",
          "mal",
          "y",
          "te",
          "faire",
          "qui",
          "lui",
          "fais",
          "ça",
          "qu",
          "elle",
          "est",
          "ou",
          "toujours",
          "vrai",
          "comme",
          "fais",
          "me",
          "moi",
          "donc",
          "comment",
          "es",
          "sur",
          "faut",
          "rien",
          "comme",
          "d",
          "vous",
          "alors",
          "m",
          "️",
          "à",
          "trop",
          "ma",
          "dire",
          "sur",
          "mal",
          "jamais",
          "merci",
          "s",
          "mdr",
          "lowfrequencyword",
          "bien",
          "temps",
          "voir",
          "lui",
          "y",
          "2",
          "vous",
          "ta",
          "bon",
          "on",
          "donc",
          "ton",
          "ta",
          "peut",
          "aime",
          "être",
          "envie",
          "2",
          "que",
          "ont",
          "rien",
          "sa",
          "ne",
          "nous",
          "avoir",
          "on",
          "ai",
          "vie",
          "que",
          "très",
          "donc",
          "vais",
          "être",
          "dire",
          "ne",
          "bonne",
          "sont",
          "alors",
          "qu",
          "j",
          "nickname",
          "là",
          "ca",
          "va",
          "encore",
          "sais",
          "tous",
          "moi",
          "temps",
          "mes",
          "après",
          "rien",
          "sur",
          "plus",
          "avoir"
         ],
         "textfont": {
          "color": "#4D5663"
         },
         "type": "scatter",
         "x": [
          1.1853034496307373,
          5.287082195281982,
          1.9527703523635864,
          8.776154518127441,
          -2.0758798122406006,
          1.0776188373565674,
          -4.0964274406433105,
          6.822991847991943,
          5.292993068695068,
          -3.2331457138061523,
          -14.658834457397461,
          1.6053082942962646,
          0.7168310284614563,
          3.465318202972412,
          2.2814676761627197,
          3.3803586959838867,
          -6.326340675354004,
          -2.7353262901306152,
          -3.625500440597534,
          -14.895112991333008,
          2.9668071269989014,
          0.9501219391822815,
          -4.7300310134887695,
          16.482563018798828,
          9.524593353271484,
          -0.3778344392776489,
          -3.004690170288086,
          -13.589849472045898,
          -3.625215530395508,
          2.8913443088531494,
          -0.5897185802459717,
          -9.494625091552734,
          1.5777318477630615,
          4.090751647949219,
          1.7753337621688843,
          -0.4077644646167755,
          3.488159418106079,
          8.195365905761719,
          -0.11929458379745483,
          -2.0773003101348877,
          8.752638816833496,
          2.347853183746338,
          9.38495922088623,
          9.333895683288574,
          -3.560238838195801,
          0.07642513513565063,
          -10.130961418151855,
          0.32724595069885254,
          -3.2429378032684326,
          0.6536662578582764,
          15.923382759094238,
          -0.5897067785263062,
          6.825376033782959,
          4.135453701019287,
          4.019856929779053,
          -5.032355785369873,
          9.558891296386719,
          6.825376033782959,
          13.204863548278809,
          -11.314420700073242,
          8.454718589782715,
          -5.685405731201172,
          16.04460906982422,
          3.1698505878448486,
          5.2971601486206055,
          -13.590087890625,
          7.01816987991333,
          1.6821008920669556,
          5.994601726531982,
          -14.395133972167969,
          3.989572763442993,
          2.0773556232452393,
          2.860520124435425,
          2.7882254123687744,
          6.827493667602539,
          -4.8466925621032715,
          4.12283182144165,
          8.454718589782715,
          8.195272445678711,
          1.531097173690796,
          -1.3811792135238647,
          5.135483741760254,
          -9.494625091552734,
          0.7167593836784363,
          2.376739978790283,
          2.744263172149658,
          -2.0467352867126465,
          2.8791513442993164,
          1.2415746450424194,
          -1.155931830406189,
          -6.417171478271484,
          -7.276910305023193,
          0.5466298460960388,
          -10.131004333496094,
          2.0198957920074463,
          -8.915892601013184,
          -13.589836120605469,
          -0.25419989228248596,
          0.8918154239654541,
          -14.118401527404785
         ],
         "y": [
          -0.6162464618682861,
          -1.032698631286621,
          2.104205846786499,
          5.764651775360107,
          -8.542206764221191,
          0.34533077478408813,
          -8.413816452026367,
          3.751779079437256,
          -1.4713308811187744,
          -10.030192375183105,
          2.2107489109039307,
          -1.690486192703247,
          4.043541431427002,
          -6.75568962097168,
          -2.4617233276367188,
          -4.275478363037109,
          5.507957458496094,
          2.0291860103607178,
          -6.764995574951172,
          2.0706727504730225,
          -2.632040023803711,
          -1.4553210735321045,
          -9.457140922546387,
          -1.1093230247497559,
          2.8525161743164062,
          -7.05037260055542,
          -7.8286237716674805,
          -7.939674377441406,
          -6.764726161956787,
          -1.5999873876571655,
          -4.609622478485107,
          12.564567565917969,
          -3.7747864723205566,
          0.08907576650381088,
          -0.33647772669792175,
          0.10952074825763702,
          2.3420863151550293,
          -13.668402671813965,
          -7.468637943267822,
          -8.542597770690918,
          -9.153629302978516,
          -6.369149684906006,
          -5.246850967407227,
          -6.0767741203308105,
          2.6581966876983643,
          -3.937765598297119,
          14.099905014038086,
          2.4334704875946045,
          -9.804159164428711,
          0.04109617695212364,
          -4.565627574920654,
          -4.609783172607422,
          16.90227699279785,
          -3.8276352882385254,
          -1.3298029899597168,
          -9.267455101013184,
          -7.816823959350586,
          16.90227699279785,
          -1.5629652738571167,
          -9.639687538146973,
          6.615681171417236,
          9.223047256469727,
          -4.497615814208984,
          -0.772471010684967,
          9.37489128112793,
          -7.939321041107178,
          -1.5479069948196411,
          -4.563738822937012,
          -3.1592822074890137,
          1.1449323892593384,
          -1.8432832956314087,
          0.9146183729171753,
          7.092960834503174,
          -0.7035354375839233,
          10.642373085021973,
          -9.854557991027832,
          -6.118687152862549,
          6.615681171417236,
          -13.668140411376953,
          -4.617869853973389,
          -11.413586616516113,
          -7.087985038757324,
          12.564567565917969,
          4.043455600738525,
          -1.215275764465332,
          0.16247661411762238,
          -3.100105047225952,
          7.963986396789551,
          1.3707082271575928,
          -0.7767996788024902,
          -3.0587949752807617,
          -12.401656150817871,
          -1.4063106775283813,
          14.099810600280762,
          -5.783054351806641,
          -4.120115280151367,
          -7.939671039581299,
          -7.252370357513428,
          -2.3940608501434326,
          1.1925861835479736
         ]
        }
       ],
       "layout": {
        "legend": {
         "bgcolor": "#F5F6F9",
         "font": {
          "color": "#4D5663"
         }
        },
        "paper_bgcolor": "#F5F6F9",
        "plot_bgcolor": "#F5F6F9",
        "template": {
         "data": {
          "bar": [
           {
            "error_x": {
             "color": "#2a3f5f"
            },
            "error_y": {
             "color": "#2a3f5f"
            },
            "marker": {
             "line": {
              "color": "#E5ECF6",
              "width": 0.5
             }
            },
            "type": "bar"
           }
          ],
          "barpolar": [
           {
            "marker": {
             "line": {
              "color": "#E5ECF6",
              "width": 0.5
             }
            },
            "type": "barpolar"
           }
          ],
          "carpet": [
           {
            "aaxis": {
             "endlinecolor": "#2a3f5f",
             "gridcolor": "white",
             "linecolor": "white",
             "minorgridcolor": "white",
             "startlinecolor": "#2a3f5f"
            },
            "baxis": {
             "endlinecolor": "#2a3f5f",
             "gridcolor": "white",
             "linecolor": "white",
             "minorgridcolor": "white",
             "startlinecolor": "#2a3f5f"
            },
            "type": "carpet"
           }
          ],
          "choropleth": [
           {
            "colorbar": {
             "outlinewidth": 0,
             "ticks": ""
            },
            "type": "choropleth"
           }
          ],
          "contour": [
           {
            "colorbar": {
             "outlinewidth": 0,
             "ticks": ""
            },
            "colorscale": [
             [
              0,
              "#0d0887"
             ],
             [
              0.1111111111111111,
              "#46039f"
             ],
             [
              0.2222222222222222,
              "#7201a8"
             ],
             [
              0.3333333333333333,
              "#9c179e"
             ],
             [
              0.4444444444444444,
              "#bd3786"
             ],
             [
              0.5555555555555556,
              "#d8576b"
             ],
             [
              0.6666666666666666,
              "#ed7953"
             ],
             [
              0.7777777777777778,
              "#fb9f3a"
             ],
             [
              0.8888888888888888,
              "#fdca26"
             ],
             [
              1,
              "#f0f921"
             ]
            ],
            "type": "contour"
           }
          ],
          "contourcarpet": [
           {
            "colorbar": {
             "outlinewidth": 0,
             "ticks": ""
            },
            "type": "contourcarpet"
           }
          ],
          "heatmap": [
           {
            "colorbar": {
             "outlinewidth": 0,
             "ticks": ""
            },
            "colorscale": [
             [
              0,
              "#0d0887"
             ],
             [
              0.1111111111111111,
              "#46039f"
             ],
             [
              0.2222222222222222,
              "#7201a8"
             ],
             [
              0.3333333333333333,
              "#9c179e"
             ],
             [
              0.4444444444444444,
              "#bd3786"
             ],
             [
              0.5555555555555556,
              "#d8576b"
             ],
             [
              0.6666666666666666,
              "#ed7953"
             ],
             [
              0.7777777777777778,
              "#fb9f3a"
             ],
             [
              0.8888888888888888,
              "#fdca26"
             ],
             [
              1,
              "#f0f921"
             ]
            ],
            "type": "heatmap"
           }
          ],
          "heatmapgl": [
           {
            "colorbar": {
             "outlinewidth": 0,
             "ticks": ""
            },
            "colorscale": [
             [
              0,
              "#0d0887"
             ],
             [
              0.1111111111111111,
              "#46039f"
             ],
             [
              0.2222222222222222,
              "#7201a8"
             ],
             [
              0.3333333333333333,
              "#9c179e"
             ],
             [
              0.4444444444444444,
              "#bd3786"
             ],
             [
              0.5555555555555556,
              "#d8576b"
             ],
             [
              0.6666666666666666,
              "#ed7953"
             ],
             [
              0.7777777777777778,
              "#fb9f3a"
             ],
             [
              0.8888888888888888,
              "#fdca26"
             ],
             [
              1,
              "#f0f921"
             ]
            ],
            "type": "heatmapgl"
           }
          ],
          "histogram": [
           {
            "marker": {
             "colorbar": {
              "outlinewidth": 0,
              "ticks": ""
             }
            },
            "type": "histogram"
           }
          ],
          "histogram2d": [
           {
            "colorbar": {
             "outlinewidth": 0,
             "ticks": ""
            },
            "colorscale": [
             [
              0,
              "#0d0887"
             ],
             [
              0.1111111111111111,
              "#46039f"
             ],
             [
              0.2222222222222222,
              "#7201a8"
             ],
             [
              0.3333333333333333,
              "#9c179e"
             ],
             [
              0.4444444444444444,
              "#bd3786"
             ],
             [
              0.5555555555555556,
              "#d8576b"
             ],
             [
              0.6666666666666666,
              "#ed7953"
             ],
             [
              0.7777777777777778,
              "#fb9f3a"
             ],
             [
              0.8888888888888888,
              "#fdca26"
             ],
             [
              1,
              "#f0f921"
             ]
            ],
            "type": "histogram2d"
           }
          ],
          "histogram2dcontour": [
           {
            "colorbar": {
             "outlinewidth": 0,
             "ticks": ""
            },
            "colorscale": [
             [
              0,
              "#0d0887"
             ],
             [
              0.1111111111111111,
              "#46039f"
             ],
             [
              0.2222222222222222,
              "#7201a8"
             ],
             [
              0.3333333333333333,
              "#9c179e"
             ],
             [
              0.4444444444444444,
              "#bd3786"
             ],
             [
              0.5555555555555556,
              "#d8576b"
             ],
             [
              0.6666666666666666,
              "#ed7953"
             ],
             [
              0.7777777777777778,
              "#fb9f3a"
             ],
             [
              0.8888888888888888,
              "#fdca26"
             ],
             [
              1,
              "#f0f921"
             ]
            ],
            "type": "histogram2dcontour"
           }
          ],
          "mesh3d": [
           {
            "colorbar": {
             "outlinewidth": 0,
             "ticks": ""
            },
            "type": "mesh3d"
           }
          ],
          "parcoords": [
           {
            "line": {
             "colorbar": {
              "outlinewidth": 0,
              "ticks": ""
             }
            },
            "type": "parcoords"
           }
          ],
          "pie": [
           {
            "automargin": true,
            "type": "pie"
           }
          ],
          "scatter": [
           {
            "marker": {
             "colorbar": {
              "outlinewidth": 0,
              "ticks": ""
             }
            },
            "type": "scatter"
           }
          ],
          "scatter3d": [
           {
            "line": {
             "colorbar": {
              "outlinewidth": 0,
              "ticks": ""
             }
            },
            "marker": {
             "colorbar": {
              "outlinewidth": 0,
              "ticks": ""
             }
            },
            "type": "scatter3d"
           }
          ],
          "scattercarpet": [
           {
            "marker": {
             "colorbar": {
              "outlinewidth": 0,
              "ticks": ""
             }
            },
            "type": "scattercarpet"
           }
          ],
          "scattergeo": [
           {
            "marker": {
             "colorbar": {
              "outlinewidth": 0,
              "ticks": ""
             }
            },
            "type": "scattergeo"
           }
          ],
          "scattergl": [
           {
            "marker": {
             "colorbar": {
              "outlinewidth": 0,
              "ticks": ""
             }
            },
            "type": "scattergl"
           }
          ],
          "scattermapbox": [
           {
            "marker": {
             "colorbar": {
              "outlinewidth": 0,
              "ticks": ""
             }
            },
            "type": "scattermapbox"
           }
          ],
          "scatterpolar": [
           {
            "marker": {
             "colorbar": {
              "outlinewidth": 0,
              "ticks": ""
             }
            },
            "type": "scatterpolar"
           }
          ],
          "scatterpolargl": [
           {
            "marker": {
             "colorbar": {
              "outlinewidth": 0,
              "ticks": ""
             }
            },
            "type": "scatterpolargl"
           }
          ],
          "scatterternary": [
           {
            "marker": {
             "colorbar": {
              "outlinewidth": 0,
              "ticks": ""
             }
            },
            "type": "scatterternary"
           }
          ],
          "surface": [
           {
            "colorbar": {
             "outlinewidth": 0,
             "ticks": ""
            },
            "colorscale": [
             [
              0,
              "#0d0887"
             ],
             [
              0.1111111111111111,
              "#46039f"
             ],
             [
              0.2222222222222222,
              "#7201a8"
             ],
             [
              0.3333333333333333,
              "#9c179e"
             ],
             [
              0.4444444444444444,
              "#bd3786"
             ],
             [
              0.5555555555555556,
              "#d8576b"
             ],
             [
              0.6666666666666666,
              "#ed7953"
             ],
             [
              0.7777777777777778,
              "#fb9f3a"
             ],
             [
              0.8888888888888888,
              "#fdca26"
             ],
             [
              1,
              "#f0f921"
             ]
            ],
            "type": "surface"
           }
          ],
          "table": [
           {
            "cells": {
             "fill": {
              "color": "#EBF0F8"
             },
             "line": {
              "color": "white"
             }
            },
            "header": {
             "fill": {
              "color": "#C8D4E3"
             },
             "line": {
              "color": "white"
             }
            },
            "type": "table"
           }
          ]
         },
         "layout": {
          "annotationdefaults": {
           "arrowcolor": "#2a3f5f",
           "arrowhead": 0,
           "arrowwidth": 1
          },
          "coloraxis": {
           "colorbar": {
            "outlinewidth": 0,
            "ticks": ""
           }
          },
          "colorscale": {
           "diverging": [
            [
             0,
             "#8e0152"
            ],
            [
             0.1,
             "#c51b7d"
            ],
            [
             0.2,
             "#de77ae"
            ],
            [
             0.3,
             "#f1b6da"
            ],
            [
             0.4,
             "#fde0ef"
            ],
            [
             0.5,
             "#f7f7f7"
            ],
            [
             0.6,
             "#e6f5d0"
            ],
            [
             0.7,
             "#b8e186"
            ],
            [
             0.8,
             "#7fbc41"
            ],
            [
             0.9,
             "#4d9221"
            ],
            [
             1,
             "#276419"
            ]
           ],
           "sequential": [
            [
             0,
             "#0d0887"
            ],
            [
             0.1111111111111111,
             "#46039f"
            ],
            [
             0.2222222222222222,
             "#7201a8"
            ],
            [
             0.3333333333333333,
             "#9c179e"
            ],
            [
             0.4444444444444444,
             "#bd3786"
            ],
            [
             0.5555555555555556,
             "#d8576b"
            ],
            [
             0.6666666666666666,
             "#ed7953"
            ],
            [
             0.7777777777777778,
             "#fb9f3a"
            ],
            [
             0.8888888888888888,
             "#fdca26"
            ],
            [
             1,
             "#f0f921"
            ]
           ],
           "sequentialminus": [
            [
             0,
             "#0d0887"
            ],
            [
             0.1111111111111111,
             "#46039f"
            ],
            [
             0.2222222222222222,
             "#7201a8"
            ],
            [
             0.3333333333333333,
             "#9c179e"
            ],
            [
             0.4444444444444444,
             "#bd3786"
            ],
            [
             0.5555555555555556,
             "#d8576b"
            ],
            [
             0.6666666666666666,
             "#ed7953"
            ],
            [
             0.7777777777777778,
             "#fb9f3a"
            ],
            [
             0.8888888888888888,
             "#fdca26"
            ],
            [
             1,
             "#f0f921"
            ]
           ]
          },
          "colorway": [
           "#636efa",
           "#EF553B",
           "#00cc96",
           "#ab63fa",
           "#FFA15A",
           "#19d3f3",
           "#FF6692",
           "#B6E880",
           "#FF97FF",
           "#FECB52"
          ],
          "font": {
           "color": "#2a3f5f"
          },
          "geo": {
           "bgcolor": "white",
           "lakecolor": "white",
           "landcolor": "#E5ECF6",
           "showlakes": true,
           "showland": true,
           "subunitcolor": "white"
          },
          "hoverlabel": {
           "align": "left"
          },
          "hovermode": "closest",
          "mapbox": {
           "style": "light"
          },
          "paper_bgcolor": "white",
          "plot_bgcolor": "#E5ECF6",
          "polar": {
           "angularaxis": {
            "gridcolor": "white",
            "linecolor": "white",
            "ticks": ""
           },
           "bgcolor": "#E5ECF6",
           "radialaxis": {
            "gridcolor": "white",
            "linecolor": "white",
            "ticks": ""
           }
          },
          "scene": {
           "xaxis": {
            "backgroundcolor": "#E5ECF6",
            "gridcolor": "white",
            "gridwidth": 2,
            "linecolor": "white",
            "showbackground": true,
            "ticks": "",
            "zerolinecolor": "white"
           },
           "yaxis": {
            "backgroundcolor": "#E5ECF6",
            "gridcolor": "white",
            "gridwidth": 2,
            "linecolor": "white",
            "showbackground": true,
            "ticks": "",
            "zerolinecolor": "white"
           },
           "zaxis": {
            "backgroundcolor": "#E5ECF6",
            "gridcolor": "white",
            "gridwidth": 2,
            "linecolor": "white",
            "showbackground": true,
            "ticks": "",
            "zerolinecolor": "white"
           }
          },
          "shapedefaults": {
           "line": {
            "color": "#2a3f5f"
           }
          },
          "ternary": {
           "aaxis": {
            "gridcolor": "white",
            "linecolor": "white",
            "ticks": ""
           },
           "baxis": {
            "gridcolor": "white",
            "linecolor": "white",
            "ticks": ""
           },
           "bgcolor": "#E5ECF6",
           "caxis": {
            "gridcolor": "white",
            "linecolor": "white",
            "ticks": ""
           }
          },
          "title": {
           "x": 0.05
          },
          "xaxis": {
           "automargin": true,
           "gridcolor": "white",
           "linecolor": "white",
           "ticks": "",
           "title": {
            "standoff": 15
           },
           "zerolinecolor": "white",
           "zerolinewidth": 2
          },
          "yaxis": {
           "automargin": true,
           "gridcolor": "white",
           "linecolor": "white",
           "ticks": "",
           "title": {
            "standoff": 15
           },
           "zerolinecolor": "white",
           "zerolinewidth": 2
          }
         }
        },
        "title": {
         "font": {
          "color": "#4D5663"
         },
         "text": "TSNE"
        },
        "xaxis": {
         "gridcolor": "#E1E5ED",
         "showgrid": true,
         "tickfont": {
          "color": "#4D5663"
         },
         "title": {
          "font": {
           "color": "#4D5663"
          },
          "text": "Axe 1"
         },
         "zerolinecolor": "#E1E5ED"
        },
        "yaxis": {
         "gridcolor": "#E1E5ED",
         "showgrid": true,
         "tickfont": {
          "color": "#4D5663"
         },
         "title": {
          "font": {
           "color": "#4D5663"
          },
          "text": "Axe 2"
         },
         "zerolinecolor": "#E1E5ED"
        }
       }
      },
      "text/html": [
       "<div>\n",
       "        \n",
       "        \n",
       "            <div id=\"f078bb20-d2ca-4e03-92bc-6a28223c4cb4\" class=\"plotly-graph-div\" style=\"height:525px; width:100%;\"></div>\n",
       "            <script type=\"text/javascript\">\n",
       "                require([\"plotly\"], function(Plotly) {\n",
       "                    window.PLOTLYENV=window.PLOTLYENV || {};\n",
       "                    window.PLOTLYENV.BASE_URL='https://plot.ly';\n",
       "                    \n",
       "                if (document.getElementById(\"f078bb20-d2ca-4e03-92bc-6a28223c4cb4\")) {\n",
       "                    Plotly.newPlot(\n",
       "                        'f078bb20-d2ca-4e03-92bc-6a28223c4cb4',\n",
       "                        [{\"marker\": {\"color\": \"rgba(255, 153, 51, 1.0)\", \"line\": {\"width\": 1.3}, \"opacity\": 0.8, \"size\": 12, \"symbol\": \"circle\"}, \"mode\": \"markers\", \"name\": \"Couple 1\", \"text\": [\"jespere\", \"expres\", \"unknown\", \"tite\", \"35\", \"ipad\", \"eme\", \"rel\\u00e2che\", \"top1\", \"chiants\", \"libres\", \"europeans\", \"investit\", \"usualsuspects\", \"davoir\", \"n\\u00e9ant\", \"mariages\", \"clinique\", \"scandaleux\", \"hallucinant\", \"josefine\", \"taule\", \"myl\\u00e8ne\", \"mouchoirs\", \"\\ud83c\\uddea\", \"forts\", \"mal\\u00e9diction\", \"mounet\", \"imp\\u00f4t\", \"\\ud83c\\uddf8\", \"union\", \"od\", \"refus\\u00e9\", \"animes\", \"gouffre\", \"keufs\", \"glr\", \"chips\", \"fallu\", \"nah\", \"jambon\", \"bouh\", \"grotte\", \"s\\u00e9nat\", \"pseudos\", \"etaient\", \"hac\", \"lazare\", \"cou\", \"attitude\", \"parlementaire\", \"irrespectueux\", \"d\\u00e9grad\\u00e9\", \"nain\", \"friendzone\", \"pl\", \"audace\", \"jambon\", \"autorit\\u00e9\", \"puisqu\", \"abandonne\", \"bonus\", \"enregistre\", \"insultes\", \"chaines\", \"laaaaa\", \"v\\u00e9ritable\", \"salles\", \"steak\", \"formule\", \"lignes\", \"applis\", \"\\ud83d\\udd35\", \"algerie\", \"sentie\", \"\\ufffd\", \"\\ud83c\\uddf5\", \"paradise\", \"p\\u00e9dophile\", \"ch\", \"solitude\", \"fesse\", \"1500\", \"honn\\u00eates\", \"jmet\", \"mmmh\", \"opposition\", \"cliqu\\u00e9\", \"soja\", \"george\", \"lev\\u00e9\", \"she\", \"dictionnaire\", \"foutais\", \"agenda\", \"emmerdale\", \"boo\", \"connect\\u00e9\", \"permanente\", \"c\\u00f4toie\"], \"textfont\": {\"color\": \"#4D5663\"}, \"type\": \"scatter\", \"x\": [0.16305749118328094, -6.228130340576172, -9.542625427246094, -6.491199016571045, 6.817336559295654, -16.122819900512695, 0.5384423136711121, 6.934920310974121, -7.493088722229004, -13.972861289978027, -3.3014354705810547, 1.0576258897781372, 5.35128927230835, 13.698366165161133, -0.6786636114120483, 17.993431091308594, -1.221632957458496, 17.294567108154297, -7.370456218719482, 14.594364166259766, 2.381830930709839, 1.4303452968597412, -10.696240425109863, -9.565912246704102, 14.744592666625977, -8.412930488586426, -4.97422981262207, 17.41841697692871, -11.195751190185547, -8.863704681396484, -0.8319301009178162, 5.139143943786621, -11.839180946350098, 14.599945068359375, -8.3330659866333, -6.60764741897583, -9.48330020904541, 14.399384498596191, 0.8725181221961975, 8.762801170349121, 13.676335334777832, 9.532510757446289, -6.691292762756348, -7.12376070022583, 11.870782852172852, 0.4396224319934845, 2.9476046562194824, 16.48263168334961, 10.98958969116211, -4.1179518699646, 1.549863338470459, -2.050711154937744, 6.678893566131592, -16.853437423706055, 9.469160079956055, -3.5181167125701904, 4.770008563995361, 13.676331520080566, -15.1995267868042, 12.190492630004883, -9.910028457641602, 11.401457786560059, -3.5023841857910156, 6.823850154876709, 4.244596481323242, -13.308456420898438, 15.94647216796875, -5.024753570556641, 4.794644832611084, 10.014145851135254, 4.390603065490723, 16.018585205078125, 9.60195255279541, 12.256828308105469, 14.840753555297852, 6.922131538391113, -5.2788896560668945, -3.126457691192627, 20.188570022583008, 4.287187576293945, -5.823212146759033, 16.258014678955078, -0.642419695854187, -9.301191329956055, 11.037497520446777, 14.682792663574219, 7.6932783126831055, -3.9363062381744385, -12.385209083557129, -2.2414135932922363, -2.591963768005371, 15.27980899810791, -20.69485855102539, -21.005640029907227, -1.6121726036071777, 9.888569831848145, -4.45200777053833, -13.15522575378418, -4.893607139587402, -5.595652103424072], \"y\": [11.143709182739258, -7.238741874694824, -9.256750106811523, -13.023199081420898, -6.2906599044799805, 5.534214019775391, 8.646026611328125, -14.105746269226074, 13.98452377319336, 1.744670033454895, 9.324722290039062, -19.599233627319336, 18.062679290771484, -3.3278298377990723, 16.925498962402344, 3.178698778152466, 20.409090042114258, -0.2661724388599396, 9.398978233337402, 6.185152530670166, 9.38896369934082, -13.461160659790039, -13.5125093460083, 0.16713054478168488, 6.831145286560059, 3.9264259338378906, 3.815614938735962, 0.48520249128341675, 14.0140380859375, 16.909378051757812, -16.917457580566406, 19.530424118041992, -4.663750648498535, 2.8902406692504883, 2.9969537258148193, 19.712661743164062, -14.352112770080566, -1.239305853843689, -19.157602310180664, 15.131896018981934, -9.012266159057617, -9.097198486328125, -2.7324728965759277, -11.862488746643066, 12.188620567321777, 10.437912940979004, 13.0160493850708, 8.637224197387695, 11.617656707763672, 8.31128215789795, -13.594047546386719, 16.55165672302246, 15.912793159484863, -5.211461544036865, 6.904340744018555, 6.140748500823975, 15.248005867004395, -9.012267112731934, 3.3028719425201416, 4.1402268409729, -8.785368919372559, 10.66640853881836, -19.17749786376953, -10.04298210144043, 19.086830139160156, -0.32682090997695923, 3.1049158573150635, 20.67575454711914, 10.124582290649414, -5.524873733520508, 8.855192184448242, 8.786836624145508, -1.1860562562942505, 0.41400256752967834, -1.2620916366577148, 11.957878112792969, 7.807237148284912, 1.365660548210144, 1.4895306825637817, 16.26972198486328, 2.386535882949829, -0.5953419804573059, -14.784170150756836, 18.666749954223633, 3.615718126296997, 1.3708003759384155, 6.115252494812012, 19.055940628051758, -4.058216571807861, 12.724236488342285, 16.48046112060547, -3.128706216812134, -8.915425300598145, -8.205527305603027, 6.366166591644287, 3.154590368270874, 18.666893005371094, -9.944310188293457, 11.070964813232422, 5.005674839019775]}, {\"marker\": {\"color\": \"rgba(55, 128, 191, 1.0)\", \"line\": {\"width\": 1.3}, \"opacity\": 0.8, \"size\": 12, \"symbol\": \"circle\"}, \"mode\": \"markers\", \"name\": \"Couple 2\", \"text\": [\"jvoulais\", \"v\\u00e9rifier\", \"r\\u00e9flexion\", \"ha\", \"ajouter\", \"solo\", \"entrain\", \"\\ud83c\\uddeb\", \"impressionnant\", \"neige\", \"g\\u00e8re\", \"taff\", \"passion\", \"mens\", \"nez\", \"comptes\", \"back\", \"carri\\u00e8re\", \"\\ud83d\\ude1e\", \"sophie\", \"permis\", \"termine\", \"journal\", \"dise\", \"marie\", \"raclette\", \"crise\", \"croit\", \"r\\u00e8gles\", \"choqu\\u00e9\", \"rencontrer\", \"touche\", \"mdrrrrrr\", \"octobre\", \"uniquement\", \"alexia\", \"tente\", \"v\\u00e9lo\", \"naze\", \"28\", \"jalouse\", \"tente\", \"go\\u00fbts\", \"position\", \"saisons\", \"entretien\", \"cl\\u00e9\", \"inverse\", \"sud\", \"japonais\", \"bienvenue\", \"rendent\", \"madame\", \"gestion\", \"victoire\", \"tain\", \"regardant\", \"\\u00e9chec\", \"\\ud83c\\udf39\", \"gouvernement\", \"souris\", \"suisse\", \"ramener\", \"\\ud83e\\udd1e\", \"svt\", \"plaindre\", \"\\u270a\", \"refuse\", \"actuellement\", \"\\u00e9tude\", \"merciiiii\", \"lyon\", \"bjr\", \"tg\", \"trous\", \"bouffer\", \"familles\", \"choqu\\u00e9e\", \"90\", \"fatigu\\u00e9e\", \"lapin\", \"pay\\u00e9\", \"\\ud83e\\udd19\", \"regrette\", \"sah\", \"exp\\u00e9rience\", \"z\\u00e9ro\", \"manga\", \"batterie\", \"charge\", \"al\", \"sales\", \"calmer\", \"kiff\\u00e9\", \"\\ud83d\\ude30\", \"13\", \"animal\", \"2e\", \"r\\u00e9veille\", \"3h\"], \"textfont\": {\"color\": \"#4D5663\"}, \"type\": \"scatter\", \"x\": [-7.449894905090332, 10.916376113891602, 2.400251865386963, 3.4686837196350098, -0.8702737092971802, -12.979371070861816, -1.0187139511108398, 7.422526836395264, -13.270855903625488, -11.524109840393066, -11.298003196716309, 4.351409435272217, -10.855024337768555, 14.720605850219727, -5.899301052093506, 4.103858470916748, -1.9067026376724243, -0.8528552651405334, 0.48726531863212585, -3.984905481338501, 7.745473384857178, -8.731833457946777, -3.4674503803253174, -7.098231315612793, 8.6345853805542, 1.7507234811782837, -3.1036689281463623, 16.594989776611328, -9.894965171813965, 6.542037487030029, -7.953099250793457, -12.339653015136719, 4.053321361541748, -14.48792839050293, -2.1343743801116943, -20.561809539794922, 5.723400115966797, -13.41025161743164, -6.650042533874512, -12.599322319030762, 6.792498588562012, 5.723400115966797, -12.762999534606934, 6.729917049407959, -10.705198287963867, 13.937519073486328, 8.910075187683105, 10.268990516662598, -7.800375461578369, -2.0719211101531982, 10.372586250305176, 3.090216875076294, -14.972203254699707, 14.312836647033691, -6.519796371459961, 13.271618843078613, -2.4850170612335205, 13.18198299407959, -2.1793253421783447, -5.903247833251953, 1.0426506996154785, 5.877040386199951, -5.690494537353516, -6.568264961242676, 5.805440425872803, 0.23564551770687103, 12.79403018951416, 19.06702995300293, -4.703331470489502, 7.969568729400635, -6.691329479217529, -7.113831043243408, -4.3701982498168945, -10.142006874084473, 15.105338096618652, 2.8747754096984863, 10.187091827392578, 13.054144859313965, 13.789758682250977, -10.500334739685059, 18.71788215637207, -6.686543941497803, 5.97622013092041, 4.654892921447754, -12.168680191040039, 8.398040771484375, -4.814869403839111, -6.320245742797852, -9.174832344055176, -9.773991584777832, -15.593466758728027, -13.28185749053955, 6.555778503417969, -13.9528226852417, -16.338335037231445, 2.2964863777160645, 19.145442962646484, -4.945040225982666, -9.921407699584961, 6.843421936035156], \"y\": [16.950931549072266, -5.746119022369385, 11.66561222076416, 19.784059524536133, 19.65654182434082, -15.588878631591797, -14.11436939239502, -5.276097774505615, 15.368290901184082, -18.4127254486084, 0.6919810175895691, 17.210481643676758, 7.72758150100708, 4.739809513092041, 0.10138832777738571, 10.603959083557129, -16.742631912231445, 9.441964149475098, -17.858041763305664, -17.80729866027832, 10.761225700378418, -13.358007431030273, 10.093612670898438, 19.06678009033203, -13.27842903137207, 9.591960906982422, -18.267719268798828, 1.6941931247711182, -3.8202965259552, 6.437061309814453, 4.483321666717529, 14.799668312072754, -9.512075424194336, -3.1016628742218018, 19.738910675048828, -9.569363594055176, 13.712117195129395, 3.2309844493865967, 8.929723739624023, 15.695002555847168, -13.652240753173828, 13.712117195129395, 8.225533485412598, 20.018198013305664, 6.682447910308838, 9.265222549438477, -9.658498764038086, -7.503676891326904, -2.476388454437256, 16.91090202331543, -4.615228652954102, 11.069714546203613, 4.694504261016846, -6.158410549163818, -8.466767311096191, -3.2468109130859375, 6.6167073249816895, 8.70903491973877, -10.448029518127441, 6.474825382232666, -14.42298698425293, -9.104146957397461, 18.24308967590332, -10.214417457580566, 6.645596504211426, 19.23139190673828, -2.7120864391326904, 1.157832145690918, -7.401009559631348, -12.248682975769043, 20.624317169189453, 17.185070037841797, 2.688206911087036, -6.818514347076416, 9.43458080291748, 17.542417526245117, 12.252449989318848, -5.948888301849365, 0.033975750207901, -3.579695224761963, 1.408044457435608, -9.534878730773926, -6.627955913543701, -13.978774070739746, 8.478315353393555, 16.035249710083008, 9.516016960144043, 1.4568867683410645, -14.802533149719238, -14.784547805786133, -9.071292877197266, -5.5032219886779785, 18.18085479736328, -1.4922620058059692, -7.4602556228637695, -14.718331336975098, 0.36994823813438416, 19.305513381958008, -17.061527252197266, 18.900426864624023]}, {\"marker\": {\"color\": \"rgba(50, 171, 96, 1.0)\", \"line\": {\"width\": 1.3}, \"opacity\": 0.8, \"size\": 12, \"symbol\": \"circle\"}, \"mode\": \"markers\", \"name\": \"Couple 3\", \"text\": [\"ligne\", \"bravo\", \"in\", \"aujourdhui\", \"rend\", \"nan\", \"pire\", \"chaque\", \"ya\", \"change\", \"mdrrr\", \"\\ud83d\\ude06\", \"connais\", \"clairement\", \"an\", \"min\", \"pourtant\", \"\\u00e9couter\", \"magnifique\", \"o\", \"force\", \"doigts\", \"perso\", \"compl\\u00e8tement\", \"grand\", \"content\", \"elles\", \"ptn\", \"tl\", \"inqui\\u00e8te\", \"tt\", \"filles\", \"hyper\", \"no\", \"\\ud83d\\ude2a\", \"facile\", \"ailleurs\", \"grande\", \"putain\", \"pense\", \"super\", \"savez\", \"\\ud83e\\udd14\", \"autant\", \"mdrrrr\", \"sortie\", \"partie\", \"moment\", \"bonjour\", \"vos\", \"tf1\", \"verra\", \"\\ud83d\\ude22\", \"dois\", \"eux\", \"g\\u00e9nial\", \"faites\", \"gars\", \"pcq\", \"coup\", \"quelques\", \"laisser\", \"contente\", \"serai\", \"jeux\", \"hyper\", \"stage\", \"aurait\", \"chaud\", \"joue\", \"janvier\", \"trucs\", \"\\ud83d\\ude14\", \"heureux\", \"quelle\", \"change\", \"chat\", \"peur\", \"jui\", \"r\\u00e9ponse\", \"heureuse\", \"sport\", \"eu\", \"parti\", \"pire\", \"corps\", \"15\", \"stp\", \"the\", \"quel\", \"semaine\", \"maison\", \"porte\", \"8\", \"bac\", \"chang\\u00e9\", \"vrais\", \"ahah\", \"\\ud83d\\ude29\", \"allez\"], \"textfont\": {\"color\": \"#4D5663\"}, \"type\": \"scatter\", \"x\": [-11.774420738220215, -1.804388403892517, -15.737438201904297, 1.5912251472473145, 13.206530570983887, -1.3985376358032227, -12.615269660949707, -15.933693885803223, 9.708837509155273, -18.914390563964844, -5.381453037261963, -5.796735763549805, 8.991848945617676, -6.664090156555176, -17.189010620117188, -7.222423553466797, 12.040932655334473, 4.7315993309021, -3.7944533824920654, 5.631437301635742, -5.545096397399902, -11.425788879394531, -8.788602828979492, -10.586735725402832, -2.701026439666748, -2.0745623111724854, -11.958396911621094, 1.1189402341842651, 7.1041259765625, 0.5421090722084045, -10.00867748260498, 4.408568382263184, 12.802901268005371, 15.223036766052246, -20.68272590637207, 4.579906463623047, -9.397290229797363, -10.858057022094727, -12.405211448669434, 13.337246894836426, 3.165085792541504, 7.334444046020508, -3.4965462684631348, -11.70715045928955, -4.4730305671691895, -8.298033714294434, -12.278482437133789, 1.8933298587799072, 12.881514549255371, -2.176851749420166, -10.76193618774414, -9.43070125579834, -10.218719482421875, 0.5815548300743103, -8.5951566696167, -4.429847717285156, -16.317655563354492, -1.4380611181259155, 13.304316520690918, -13.353860855102539, -0.7951101064682007, -7.622452735900879, -15.376404762268066, -11.081257820129395, -12.811781883239746, 12.803220748901367, 10.19179916381836, 4.6114821434021, 2.843198537826538, -0.036484695971012115, 6.278867244720459, 7.6274333000183105, -13.38505744934082, -7.207141876220703, 8.275259017944336, -18.914453506469727, 4.099323749542236, -3.3278818130493164, 16.21352195739746, 11.982514381408691, -13.192300796508789, 8.17483901977539, -1.1266300678253174, 11.635313987731934, -12.615405082702637, 1.0250310897827148, -8.384708404541016, -0.3886955976486206, 2.1873247623443604, -16.733978271484375, -2.926679849624634, 12.89974308013916, 16.32243537902832, 14.140437126159668, 11.989694595336914, -2.6497511863708496, -2.144263744354248, 0.3723919987678528, 4.662428855895996, -14.065754890441895], \"y\": [-3.5689070224761963, -16.144569396972656, -7.2656049728393555, -10.824814796447754, 13.698872566223145, 9.220500946044922, -16.0266056060791, 3.7228736877441406, 6.050471305847168, -6.534687042236328, 4.20836067199707, 8.340531349182129, -12.246466636657715, 1.7635761499404907, -7.31135368347168, 5.604860782623291, 6.4310994148254395, 11.719430923461914, 7.431093215942383, 20.30364418029785, 6.0154805183410645, 1.2239171266555786, 15.027643203735352, -8.469364166259766, -18.258291244506836, -7.700986385345459, 4.295485019683838, -6.384128570556641, -11.22543716430664, -13.307141304016113, -2.4144906997680664, 1.409746527671814, 4.945862293243408, 6.283088207244873, -11.087753295898438, 9.245068550109863, -16.667335510253906, -1.6561524868011475, -0.6693577766418457, -6.887094974517822, -10.556426048278809, 11.166353225708008, 4.5762834548950195, 5.40338134765625, -12.74547004699707, -14.009767532348633, 13.985508918762207, 12.04947566986084, 12.659933090209961, -15.755288124084473, 0.38070642948150635, -12.086808204650879, 13.402523040771484, 7.949426651000977, 17.719995498657227, -0.7346219420433044, -8.594741821289062, -18.773134231567383, 5.917745590209961, 4.483170032501221, -18.749248504638672, 3.1370465755462646, -10.091181755065918, -17.155967712402344, 4.92203426361084, 4.945644855499268, -11.113542556762695, -8.886544227600098, -13.733291625976562, 1.168819546699524, 10.231712341308594, -4.5102996826171875, -10.094852447509766, -13.832255363464355, 4.833514213562012, -6.534630298614502, 15.452545166015625, -0.6598880887031555, 7.730210781097412, 10.531445503234863, -2.6070992946624756, 7.846582412719727, 6.016633987426758, 4.828458786010742, -16.027238845825195, -17.82545280456543, 13.395939826965332, 9.598846435546875, -17.57906150817871, -9.363754272460938, 19.161630630493164, 0.4788077771663666, -2.688931465148926, -8.078475952148438, -7.294920444488525, 7.628901481628418, -19.53507423400879, -13.163061141967773, -14.589357376098633, 3.9563918113708496]}, {\"marker\": {\"color\": \"rgba(128, 0, 128, 1.0)\", \"line\": {\"width\": 1.3}, \"opacity\": 0.8, \"size\": 12, \"symbol\": \"circle\"}, \"mode\": \"markers\", \"name\": \"Couple 4\", \"text\": [\"pour\", \"qui\", \"\\ud83d\\ude2d\", \"vu\", \"mal\", \"y\", \"te\", \"faire\", \"qui\", \"lui\", \"fais\", \"\\u00e7a\", \"qu\", \"elle\", \"est\", \"ou\", \"toujours\", \"vrai\", \"comme\", \"fais\", \"me\", \"moi\", \"donc\", \"comment\", \"es\", \"sur\", \"faut\", \"rien\", \"comme\", \"d\", \"vous\", \"alors\", \"m\", \"\\ufe0f\", \"\\u00e0\", \"trop\", \"ma\", \"dire\", \"sur\", \"mal\", \"jamais\", \"merci\", \"s\", \"mdr\", \"lowfrequencyword\", \"bien\", \"temps\", \"voir\", \"lui\", \"y\", \"2\", \"vous\", \"ta\", \"bon\", \"on\", \"donc\", \"ton\", \"ta\", \"peut\", \"aime\", \"\\u00eatre\", \"envie\", \"2\", \"que\", \"ont\", \"rien\", \"sa\", \"ne\", \"nous\", \"avoir\", \"on\", \"ai\", \"vie\", \"que\", \"tr\\u00e8s\", \"donc\", \"vais\", \"\\u00eatre\", \"dire\", \"ne\", \"bonne\", \"sont\", \"alors\", \"qu\", \"j\", \"nickname\", \"l\\u00e0\", \"ca\", \"va\", \"encore\", \"sais\", \"tous\", \"moi\", \"temps\", \"mes\", \"apr\\u00e8s\", \"rien\", \"sur\", \"plus\", \"avoir\"], \"textfont\": {\"color\": \"#4D5663\"}, \"type\": \"scatter\", \"x\": [1.1853034496307373, 5.287082195281982, 1.9527703523635864, 8.776154518127441, -2.0758798122406006, 1.0776188373565674, -4.0964274406433105, 6.822991847991943, 5.292993068695068, -3.2331457138061523, -14.658834457397461, 1.6053082942962646, 0.7168310284614563, 3.465318202972412, 2.2814676761627197, 3.3803586959838867, -6.326340675354004, -2.7353262901306152, -3.625500440597534, -14.895112991333008, 2.9668071269989014, 0.9501219391822815, -4.7300310134887695, 16.482563018798828, 9.524593353271484, -0.3778344392776489, -3.004690170288086, -13.589849472045898, -3.625215530395508, 2.8913443088531494, -0.5897185802459717, -9.494625091552734, 1.5777318477630615, 4.090751647949219, 1.7753337621688843, -0.4077644646167755, 3.488159418106079, 8.195365905761719, -0.11929458379745483, -2.0773003101348877, 8.752638816833496, 2.347853183746338, 9.38495922088623, 9.333895683288574, -3.560238838195801, 0.07642513513565063, -10.130961418151855, 0.32724595069885254, -3.2429378032684326, 0.6536662578582764, 15.923382759094238, -0.5897067785263062, 6.825376033782959, 4.135453701019287, 4.019856929779053, -5.032355785369873, 9.558891296386719, 6.825376033782959, 13.204863548278809, -11.314420700073242, 8.454718589782715, -5.685405731201172, 16.04460906982422, 3.1698505878448486, 5.2971601486206055, -13.590087890625, 7.01816987991333, 1.6821008920669556, 5.994601726531982, -14.395133972167969, 3.989572763442993, 2.0773556232452393, 2.860520124435425, 2.7882254123687744, 6.827493667602539, -4.8466925621032715, 4.12283182144165, 8.454718589782715, 8.195272445678711, 1.531097173690796, -1.3811792135238647, 5.135483741760254, -9.494625091552734, 0.7167593836784363, 2.376739978790283, 2.744263172149658, -2.0467352867126465, 2.8791513442993164, 1.2415746450424194, -1.155931830406189, -6.417171478271484, -7.276910305023193, 0.5466298460960388, -10.131004333496094, 2.0198957920074463, -8.915892601013184, -13.589836120605469, -0.25419989228248596, 0.8918154239654541, -14.118401527404785], \"y\": [-0.6162464618682861, -1.032698631286621, 2.104205846786499, 5.764651775360107, -8.542206764221191, 0.34533077478408813, -8.413816452026367, 3.751779079437256, -1.4713308811187744, -10.030192375183105, 2.2107489109039307, -1.690486192703247, 4.043541431427002, -6.75568962097168, -2.4617233276367188, -4.275478363037109, 5.507957458496094, 2.0291860103607178, -6.764995574951172, 2.0706727504730225, -2.632040023803711, -1.4553210735321045, -9.457140922546387, -1.1093230247497559, 2.8525161743164062, -7.05037260055542, -7.8286237716674805, -7.939674377441406, -6.764726161956787, -1.5999873876571655, -4.609622478485107, 12.564567565917969, -3.7747864723205566, 0.08907576650381088, -0.33647772669792175, 0.10952074825763702, 2.3420863151550293, -13.668402671813965, -7.468637943267822, -8.542597770690918, -9.153629302978516, -6.369149684906006, -5.246850967407227, -6.0767741203308105, 2.6581966876983643, -3.937765598297119, 14.099905014038086, 2.4334704875946045, -9.804159164428711, 0.04109617695212364, -4.565627574920654, -4.609783172607422, 16.90227699279785, -3.8276352882385254, -1.3298029899597168, -9.267455101013184, -7.816823959350586, 16.90227699279785, -1.5629652738571167, -9.639687538146973, 6.615681171417236, 9.223047256469727, -4.497615814208984, -0.772471010684967, 9.37489128112793, -7.939321041107178, -1.5479069948196411, -4.563738822937012, -3.1592822074890137, 1.1449323892593384, -1.8432832956314087, 0.9146183729171753, 7.092960834503174, -0.7035354375839233, 10.642373085021973, -9.854557991027832, -6.118687152862549, 6.615681171417236, -13.668140411376953, -4.617869853973389, -11.413586616516113, -7.087985038757324, 12.564567565917969, 4.043455600738525, -1.215275764465332, 0.16247661411762238, -3.100105047225952, 7.963986396789551, 1.3707082271575928, -0.7767996788024902, -3.0587949752807617, -12.401656150817871, -1.4063106775283813, 14.099810600280762, -5.783054351806641, -4.120115280151367, -7.939671039581299, -7.252370357513428, -2.3940608501434326, 1.1925861835479736]}],\n",
       "                        {\"legend\": {\"bgcolor\": \"#F5F6F9\", \"font\": {\"color\": \"#4D5663\"}}, \"paper_bgcolor\": \"#F5F6F9\", \"plot_bgcolor\": \"#F5F6F9\", \"template\": {\"data\": {\"bar\": [{\"error_x\": {\"color\": \"#2a3f5f\"}, \"error_y\": {\"color\": \"#2a3f5f\"}, \"marker\": {\"line\": {\"color\": \"#E5ECF6\", \"width\": 0.5}}, \"type\": \"bar\"}], \"barpolar\": [{\"marker\": {\"line\": {\"color\": \"#E5ECF6\", \"width\": 0.5}}, \"type\": \"barpolar\"}], \"carpet\": [{\"aaxis\": {\"endlinecolor\": \"#2a3f5f\", \"gridcolor\": \"white\", \"linecolor\": \"white\", \"minorgridcolor\": \"white\", \"startlinecolor\": \"#2a3f5f\"}, \"baxis\": {\"endlinecolor\": \"#2a3f5f\", \"gridcolor\": \"white\", \"linecolor\": \"white\", \"minorgridcolor\": \"white\", \"startlinecolor\": \"#2a3f5f\"}, \"type\": \"carpet\"}], \"choropleth\": [{\"colorbar\": {\"outlinewidth\": 0, \"ticks\": \"\"}, \"type\": \"choropleth\"}], \"contour\": [{\"colorbar\": {\"outlinewidth\": 0, \"ticks\": \"\"}, \"colorscale\": [[0.0, \"#0d0887\"], [0.1111111111111111, \"#46039f\"], [0.2222222222222222, \"#7201a8\"], [0.3333333333333333, \"#9c179e\"], [0.4444444444444444, \"#bd3786\"], [0.5555555555555556, \"#d8576b\"], [0.6666666666666666, \"#ed7953\"], [0.7777777777777778, \"#fb9f3a\"], [0.8888888888888888, \"#fdca26\"], [1.0, \"#f0f921\"]], \"type\": \"contour\"}], \"contourcarpet\": [{\"colorbar\": {\"outlinewidth\": 0, \"ticks\": \"\"}, \"type\": \"contourcarpet\"}], \"heatmap\": [{\"colorbar\": {\"outlinewidth\": 0, \"ticks\": \"\"}, \"colorscale\": [[0.0, \"#0d0887\"], [0.1111111111111111, \"#46039f\"], [0.2222222222222222, \"#7201a8\"], [0.3333333333333333, \"#9c179e\"], [0.4444444444444444, \"#bd3786\"], [0.5555555555555556, \"#d8576b\"], [0.6666666666666666, \"#ed7953\"], [0.7777777777777778, \"#fb9f3a\"], [0.8888888888888888, \"#fdca26\"], [1.0, \"#f0f921\"]], \"type\": \"heatmap\"}], \"heatmapgl\": [{\"colorbar\": {\"outlinewidth\": 0, \"ticks\": \"\"}, \"colorscale\": [[0.0, \"#0d0887\"], [0.1111111111111111, \"#46039f\"], [0.2222222222222222, \"#7201a8\"], [0.3333333333333333, \"#9c179e\"], [0.4444444444444444, \"#bd3786\"], [0.5555555555555556, \"#d8576b\"], [0.6666666666666666, \"#ed7953\"], [0.7777777777777778, \"#fb9f3a\"], [0.8888888888888888, \"#fdca26\"], [1.0, \"#f0f921\"]], \"type\": \"heatmapgl\"}], \"histogram\": [{\"marker\": {\"colorbar\": {\"outlinewidth\": 0, \"ticks\": \"\"}}, \"type\": \"histogram\"}], \"histogram2d\": [{\"colorbar\": {\"outlinewidth\": 0, \"ticks\": \"\"}, \"colorscale\": [[0.0, \"#0d0887\"], [0.1111111111111111, \"#46039f\"], [0.2222222222222222, \"#7201a8\"], [0.3333333333333333, \"#9c179e\"], [0.4444444444444444, \"#bd3786\"], [0.5555555555555556, \"#d8576b\"], [0.6666666666666666, \"#ed7953\"], [0.7777777777777778, \"#fb9f3a\"], [0.8888888888888888, \"#fdca26\"], [1.0, \"#f0f921\"]], \"type\": \"histogram2d\"}], \"histogram2dcontour\": [{\"colorbar\": {\"outlinewidth\": 0, \"ticks\": \"\"}, \"colorscale\": [[0.0, \"#0d0887\"], [0.1111111111111111, \"#46039f\"], [0.2222222222222222, \"#7201a8\"], [0.3333333333333333, \"#9c179e\"], [0.4444444444444444, \"#bd3786\"], [0.5555555555555556, \"#d8576b\"], [0.6666666666666666, \"#ed7953\"], [0.7777777777777778, \"#fb9f3a\"], [0.8888888888888888, \"#fdca26\"], [1.0, \"#f0f921\"]], \"type\": \"histogram2dcontour\"}], \"mesh3d\": [{\"colorbar\": {\"outlinewidth\": 0, \"ticks\": \"\"}, \"type\": \"mesh3d\"}], \"parcoords\": [{\"line\": {\"colorbar\": {\"outlinewidth\": 0, \"ticks\": \"\"}}, \"type\": \"parcoords\"}], \"pie\": [{\"automargin\": true, \"type\": \"pie\"}], \"scatter\": [{\"marker\": {\"colorbar\": {\"outlinewidth\": 0, \"ticks\": \"\"}}, \"type\": \"scatter\"}], \"scatter3d\": [{\"line\": {\"colorbar\": {\"outlinewidth\": 0, \"ticks\": \"\"}}, \"marker\": {\"colorbar\": {\"outlinewidth\": 0, \"ticks\": \"\"}}, \"type\": \"scatter3d\"}], \"scattercarpet\": [{\"marker\": {\"colorbar\": {\"outlinewidth\": 0, \"ticks\": \"\"}}, \"type\": \"scattercarpet\"}], \"scattergeo\": [{\"marker\": {\"colorbar\": {\"outlinewidth\": 0, \"ticks\": \"\"}}, \"type\": \"scattergeo\"}], \"scattergl\": [{\"marker\": {\"colorbar\": {\"outlinewidth\": 0, \"ticks\": \"\"}}, \"type\": \"scattergl\"}], \"scattermapbox\": [{\"marker\": {\"colorbar\": {\"outlinewidth\": 0, \"ticks\": \"\"}}, \"type\": \"scattermapbox\"}], \"scatterpolar\": [{\"marker\": {\"colorbar\": {\"outlinewidth\": 0, \"ticks\": \"\"}}, \"type\": \"scatterpolar\"}], \"scatterpolargl\": [{\"marker\": {\"colorbar\": {\"outlinewidth\": 0, \"ticks\": \"\"}}, \"type\": \"scatterpolargl\"}], \"scatterternary\": [{\"marker\": {\"colorbar\": {\"outlinewidth\": 0, \"ticks\": \"\"}}, \"type\": \"scatterternary\"}], \"surface\": [{\"colorbar\": {\"outlinewidth\": 0, \"ticks\": \"\"}, \"colorscale\": [[0.0, \"#0d0887\"], [0.1111111111111111, \"#46039f\"], [0.2222222222222222, \"#7201a8\"], [0.3333333333333333, \"#9c179e\"], [0.4444444444444444, \"#bd3786\"], [0.5555555555555556, \"#d8576b\"], [0.6666666666666666, \"#ed7953\"], [0.7777777777777778, \"#fb9f3a\"], [0.8888888888888888, \"#fdca26\"], [1.0, \"#f0f921\"]], \"type\": \"surface\"}], \"table\": [{\"cells\": {\"fill\": {\"color\": \"#EBF0F8\"}, \"line\": {\"color\": \"white\"}}, \"header\": {\"fill\": {\"color\": \"#C8D4E3\"}, \"line\": {\"color\": \"white\"}}, \"type\": \"table\"}]}, \"layout\": {\"annotationdefaults\": {\"arrowcolor\": \"#2a3f5f\", \"arrowhead\": 0, \"arrowwidth\": 1}, \"coloraxis\": {\"colorbar\": {\"outlinewidth\": 0, \"ticks\": \"\"}}, \"colorscale\": {\"diverging\": [[0, \"#8e0152\"], [0.1, \"#c51b7d\"], [0.2, \"#de77ae\"], [0.3, \"#f1b6da\"], [0.4, \"#fde0ef\"], [0.5, \"#f7f7f7\"], [0.6, \"#e6f5d0\"], [0.7, \"#b8e186\"], [0.8, \"#7fbc41\"], [0.9, \"#4d9221\"], [1, \"#276419\"]], \"sequential\": [[0.0, \"#0d0887\"], [0.1111111111111111, \"#46039f\"], [0.2222222222222222, \"#7201a8\"], [0.3333333333333333, \"#9c179e\"], [0.4444444444444444, \"#bd3786\"], [0.5555555555555556, \"#d8576b\"], [0.6666666666666666, \"#ed7953\"], [0.7777777777777778, \"#fb9f3a\"], [0.8888888888888888, \"#fdca26\"], [1.0, \"#f0f921\"]], \"sequentialminus\": [[0.0, \"#0d0887\"], [0.1111111111111111, \"#46039f\"], [0.2222222222222222, \"#7201a8\"], [0.3333333333333333, \"#9c179e\"], [0.4444444444444444, \"#bd3786\"], [0.5555555555555556, \"#d8576b\"], [0.6666666666666666, \"#ed7953\"], [0.7777777777777778, \"#fb9f3a\"], [0.8888888888888888, \"#fdca26\"], [1.0, \"#f0f921\"]]}, \"colorway\": [\"#636efa\", \"#EF553B\", \"#00cc96\", \"#ab63fa\", \"#FFA15A\", \"#19d3f3\", \"#FF6692\", \"#B6E880\", \"#FF97FF\", \"#FECB52\"], \"font\": {\"color\": \"#2a3f5f\"}, \"geo\": {\"bgcolor\": \"white\", \"lakecolor\": \"white\", \"landcolor\": \"#E5ECF6\", \"showlakes\": true, \"showland\": true, \"subunitcolor\": \"white\"}, \"hoverlabel\": {\"align\": \"left\"}, \"hovermode\": \"closest\", \"mapbox\": {\"style\": \"light\"}, \"paper_bgcolor\": \"white\", \"plot_bgcolor\": \"#E5ECF6\", \"polar\": {\"angularaxis\": {\"gridcolor\": \"white\", \"linecolor\": \"white\", \"ticks\": \"\"}, \"bgcolor\": \"#E5ECF6\", \"radialaxis\": {\"gridcolor\": \"white\", \"linecolor\": \"white\", \"ticks\": \"\"}}, \"scene\": {\"xaxis\": {\"backgroundcolor\": \"#E5ECF6\", \"gridcolor\": \"white\", \"gridwidth\": 2, \"linecolor\": \"white\", \"showbackground\": true, \"ticks\": \"\", \"zerolinecolor\": \"white\"}, \"yaxis\": {\"backgroundcolor\": \"#E5ECF6\", \"gridcolor\": \"white\", \"gridwidth\": 2, \"linecolor\": \"white\", \"showbackground\": true, \"ticks\": \"\", \"zerolinecolor\": \"white\"}, \"zaxis\": {\"backgroundcolor\": \"#E5ECF6\", \"gridcolor\": \"white\", \"gridwidth\": 2, \"linecolor\": \"white\", \"showbackground\": true, \"ticks\": \"\", \"zerolinecolor\": \"white\"}}, \"shapedefaults\": {\"line\": {\"color\": \"#2a3f5f\"}}, \"ternary\": {\"aaxis\": {\"gridcolor\": \"white\", \"linecolor\": \"white\", \"ticks\": \"\"}, \"baxis\": {\"gridcolor\": \"white\", \"linecolor\": \"white\", \"ticks\": \"\"}, \"bgcolor\": \"#E5ECF6\", \"caxis\": {\"gridcolor\": \"white\", \"linecolor\": \"white\", \"ticks\": \"\"}}, \"title\": {\"x\": 0.05}, \"xaxis\": {\"automargin\": true, \"gridcolor\": \"white\", \"linecolor\": \"white\", \"ticks\": \"\", \"title\": {\"standoff\": 15}, \"zerolinecolor\": \"white\", \"zerolinewidth\": 2}, \"yaxis\": {\"automargin\": true, \"gridcolor\": \"white\", \"linecolor\": \"white\", \"ticks\": \"\", \"title\": {\"standoff\": 15}, \"zerolinecolor\": \"white\", \"zerolinewidth\": 2}}}, \"title\": {\"font\": {\"color\": \"#4D5663\"}, \"text\": \"TSNE\"}, \"xaxis\": {\"gridcolor\": \"#E1E5ED\", \"showgrid\": true, \"tickfont\": {\"color\": \"#4D5663\"}, \"title\": {\"font\": {\"color\": \"#4D5663\"}, \"text\": \"Axe 1\"}, \"zerolinecolor\": \"#E1E5ED\"}, \"yaxis\": {\"gridcolor\": \"#E1E5ED\", \"showgrid\": true, \"tickfont\": {\"color\": \"#4D5663\"}, \"title\": {\"font\": {\"color\": \"#4D5663\"}, \"text\": \"Axe 2\"}, \"zerolinecolor\": \"#E1E5ED\"}},\n",
       "                        {\"showLink\": true, \"linkText\": \"Export to plot.ly\", \"plotlyServerURL\": \"https://plot.ly\", \"responsive\": true}\n",
       "                    ).then(function(){\n",
       "                            \n",
       "var gd = document.getElementById('f078bb20-d2ca-4e03-92bc-6a28223c4cb4');\n",
       "var x = new MutationObserver(function (mutations, observer) {{\n",
       "        var display = window.getComputedStyle(gd).display;\n",
       "        if (!display || display === 'none') {{\n",
       "            console.log([gd, 'removed!']);\n",
       "            Plotly.purge(gd);\n",
       "            observer.disconnect();\n",
       "        }}\n",
       "}});\n",
       "\n",
       "// Listen for the removal of the full notebook cells\n",
       "var notebookContainer = gd.closest('#notebook-container');\n",
       "if (notebookContainer) {{\n",
       "    x.observe(notebookContainer, {childList: true});\n",
       "}}\n",
       "\n",
       "// Listen for the clearing of the current output cell\n",
       "var outputEl = gd.closest('.output');\n",
       "if (outputEl) {{\n",
       "    x.observe(outputEl, {childList: true});\n",
       "}}\n",
       "\n",
       "                        })\n",
       "                };\n",
       "                });\n",
       "            </script>\n",
       "        </div>"
      ]
     },
     "metadata": {},
     "output_type": "display_data"
    }
   ],
   "source": [
    "tsne_graph(liste2, statique = False,\n",
    "           nom_couples_explicite = True)#Paramètre ne marche pas : a debuger ?"
   ]
  }
 ],
 "metadata": {
  "kernelspec": {
   "display_name": "Python 3",
   "language": "python",
   "name": "python3"
  },
  "language_info": {
   "codemirror_mode": {
    "name": "ipython",
    "version": 3
   },
   "file_extension": ".py",
   "mimetype": "text/x-python",
   "name": "python",
   "nbconvert_exporter": "python",
   "pygments_lexer": "ipython3",
   "version": "3.7.5"
  }
 },
 "nbformat": 4,
 "nbformat_minor": 2
}
