{
 "cells": [
  {
   "cell_type": "markdown",
   "metadata": {},
   "source": [
    "# Importation des données"
   ]
  },
  {
   "cell_type": "code",
   "execution_count": 4,
   "metadata": {},
   "outputs": [],
   "source": [
    "import os\n",
    "import string\n",
    "import re\n",
    "import math\n",
    "import statistics\n",
    "from math import sqrt\n",
    "import numpy as np\n",
    "import random\n",
    "import time\n",
    "import pandas as pd\n",
    "import nltk, re, pprint\n",
    "#nltk.download('punkt')\n",
    "from nltk import word_tokenize\n",
    "random.seed(1)\n",
    "np.random.seed(1)\n",
    "import matplotlib.pyplot as plt\n",
    "from IPython.display import clear_output\n",
    "from matplotlib import pyplot as plt\n",
    "import collections\n",
    "%matplotlib inline\n",
    "\n",
    "import torch\n",
    "import torch.nn as nn\n",
    "import torch.nn.functional as F\n",
    "import torch.optim as optim\n",
    "import torch.autograd as autograd\n",
    "\n",
    "import pickle\n",
    "import datetime\n",
    "\n",
    "#os.chdir('C:/Users/torna/Documents/StatApp/StatApp')\n",
    "os.chdir('/Users/alainquartierlatente/Desktop/Ensae/StatApp')\n",
    "#os.chdir('/home/aqlt/Documents/Ensae/StatApp')\n",
    "#os.chdir('C:/Users/Kim Antunez/Documents/Projets_autres/StatApp')\n",
    "nom_dossier = \"100k\"\n",
    "#nom_dossier = \"ens\" #ou"
   ]
  },
  {
   "cell_type": "markdown",
   "metadata": {},
   "source": [
    "On ne garde ici que les 100 000 premiers tweets"
   ]
  },
  {
   "cell_type": "code",
   "execution_count": 5,
   "metadata": {},
   "outputs": [],
   "source": [
    "# Penser à changer selon taille\n",
    "with open(\"data/%s/vocabulary.file\" %nom_dossier, \"rb\") as f:\n",
    "    taille_vocab = len(pickle.load(f))"
   ]
  },
  {
   "cell_type": "code",
   "execution_count": 6,
   "metadata": {},
   "outputs": [],
   "source": [
    "# Fonction pour mettre à jour le graphique en direct\n",
    "def live_plot(data, figsize=(7,5), title=''):\n",
    "    clear_output(wait=True)\n",
    "    plt.figure(figsize=figsize)\n",
    "    plt.plot(data)\n",
    "    plt.title(title)\n",
    "    plt.grid(True)\n",
    "    plt.xlabel('epoch')\n",
    "    plt.show();"
   ]
  },
  {
   "cell_type": "markdown",
   "metadata": {},
   "source": [
    "# Lancement du modèle\n",
    "Paramètres fixés : la dimension, le nombre de mots tirés dans le *negative sampling* et la proba utilisé, l'affichage du graphique"
   ]
  },
  {
   "cell_type": "code",
   "execution_count": 9,
   "metadata": {},
   "outputs": [],
   "source": [
    "if nom_dossier == \"ens\":\n",
    "    dim = 50\n",
    "else:\n",
    "    dim = 20\n",
    "plot = True\n",
    "epoch = 100\n",
    "dim = 100"
   ]
  },
  {
   "cell_type": "markdown",
   "metadata": {},
   "source": [
    "Paramètres à modifier :"
   ]
  },
  {
   "cell_type": "code",
   "execution_count": 10,
   "metadata": {},
   "outputs": [],
   "source": [
    "learning_rate = 0.02\n",
    "window = 4\n",
    "numero_simulation = 13\n",
    "seed = 1"
   ]
  },
  {
   "cell_type": "code",
   "execution_count": null,
   "metadata": {
    "scrolled": true
   },
   "outputs": [
    {
     "name": "stdout",
     "output_type": "stream",
     "text": [
      "Attention : le dossier data/100k/dim100_ep100_w4_lr02_seed1 existe déjà\n",
      "Epoch 0 à 21:39 - Lecture du fichier data/100k/window_4/epoch_0.file\n"
     ]
    }
   ],
   "source": [
    "# On crée le dossier Simulation_{numero_simulation}\n",
    "if not os.path.exists(\"data/{}/dim{}_ep{}_w{}_lr{}_seed{}\".format(nom_dossier, dim, epoch, window, str(learning_rate)[2:], seed)):\n",
    "    os.mkdir(\"data/{}/dim{}_ep{}_w{}_lr{}_seed{}\".format(nom_dossier, dim, epoch, window, str(learning_rate)[2:], seed))\n",
    "else:\n",
    "    print(\"Attention : le dossier data/{}/dim{}_ep{}_w{}_lr{}_seed{} existe déjà\".format(nom_dossier, dim, epoch, window, str(learning_rate)[2:], seed))\n",
    "\n",
    "torch.manual_seed(seed)\n",
    "input = torch.randn(taille_vocab, dim)\n",
    "output = torch.randn(taille_vocab, dim)\n",
    "input = autograd.Variable(input, requires_grad=True)\n",
    "output = autograd.Variable(output, requires_grad=True)\n",
    "\n",
    "loss_tot = []\n",
    "temps_par_epoch = []\n",
    "\n",
    "start = time.time()\n",
    "for i in range(epoch):\n",
    "    loss_val = compteur = 0\n",
    "    start_epoch = time.time()\n",
    "    \n",
    "    currentDT = datetime.datetime.now()\n",
    "    print(\"Epoch {} à {}:{} - Lecture du fichier data/{}/window_{}/epoch_{}.file\".format(i, currentDT.hour,currentDT.minute, nom_dossier, window, i))\n",
    "    with open(\"data/%s/window_%i/epoch_%i.file\" % (nom_dossier, window, i), \"rb\") as f:\n",
    "        test_sample = pickle.load(f)\n",
    "\n",
    "    for focus, context, neg_sample in test_sample:\n",
    "        compteur = compteur + 1\n",
    "        if(compteur % 10 == 0 and nom_dossier == \"ens\"):\n",
    "            currentDT = datetime.datetime.now()\n",
    "            print(\"Tweet %i à %d:%d\" % (compteur, currentDT.hour,currentDT.minute))\n",
    "\n",
    "\n",
    "        data = torch.matmul(input[focus,], torch.t(output[context,]))\n",
    "        loss1 = - F.logsigmoid(data)\n",
    "\n",
    "        data = torch.matmul(input[focus,], torch.t(output[neg_sample,]))\n",
    "        loss2 = - F.logsigmoid(-data).sum()\n",
    "        loss_val += loss1 + loss2\n",
    "        # Pour ensuite dériver les matrices par rapport à la loss\n",
    "        (loss1+loss2).backward()\n",
    "\n",
    "        # Il faut modifier juste le .data pour ne pas perdre la structure\n",
    "        input.data = input.data - learning_rate * input.grad.data\n",
    "        output.data = output.data - learning_rate * output.grad.data\n",
    "\n",
    "        input.grad.data.zero_()\n",
    "        output.grad.data.zero_()\n",
    "\n",
    "    with open(\"data/{}/dim{}_ep{}_w{}_lr{}_seed{}/input_{}.file\".format(nom_dossier, dim, epoch, window, str(learning_rate)[2:], seed, (len(loss_tot)+1)), \"wb\") as f:\n",
    "        pickle.dump(input, f, pickle.HIGHEST_PROTOCOL)\n",
    "    with open(\"data/{}/dim{}_ep{}_w{}_lr{}_seed{}/output_{}.file\".format(nom_dossier, dim, epoch, window, str(learning_rate)[2:], seed, (len(loss_tot)+1)), \"wb\") as f:\n",
    "        pickle.dump(output, f, pickle.HIGHEST_PROTOCOL)\n",
    "    with open(\"data/{}/dim{}_ep{}_w{}_lr{}_seed{}/loss.file\".format(nom_dossier, dim, epoch, window, str(learning_rate)[2:], seed), \"wb\") as f:\n",
    "        pickle.dump(loss_tot, f, pickle.HIGHEST_PROTOCOL)\n",
    "    with open(\"data/{}/dim{}_ep{}_w{}_lr{}_seed{}/temps_par_epoch.file\".format(nom_dossier, dim, epoch, window, str(learning_rate)[2:], seed), \"wb\") as f:\n",
    "        pickle.dump(temps_par_epoch, f, pickle.HIGHEST_PROTOCOL)\n",
    "        \n",
    "    end_epoch = time.time()\n",
    "    temps_par_epoch.append(end_epoch - start_epoch)\n",
    "    loss_val = loss_val / taille_vocab\n",
    "    loss_tot.append(loss_val)\n",
    "    if plot:\n",
    "        live_plot(loss_tot)\n",
    "    print(round((end_epoch - start_epoch)/60, 2))\n",
    "end = time.time()\n",
    "print(round((end - start)/60, 2))\n",
    "print(statistics.mean(temps_par_epoch)/60)"
   ]
  },
  {
   "cell_type": "code",
   "execution_count": 27,
   "metadata": {},
   "outputs": [
    {
     "name": "stdout",
     "output_type": "stream",
     "text": [
      "tensor(False)\n"
     ]
    }
   ],
   "source": [
    "with open(\"data/{}/gensim/dim{}_ep{}_w{}_lr{}_seed{}/input_{}.file\".format(nom_dossier, dim, epoch, window, str(learning_rate)[2:], seed, (len(loss_tot)+1)), \"rb\") as f:\n",
    "    input = pickle.load(f)\n",
    "with open(\"data/{}/gensim/dim{}_ep{}_w{}_lr{}_seed{}/output_{}.file\".format(nom_dossier, dim, epoch, window, str(learning_rate)[2:], seed, (len(loss_tot)+1)), \"rb\") as f:\n",
    "    output = pickle.load(f)\n",
    "with open(\"data/{}/gensim/dim{}_ep{}_w{}_lr{}_seed{}/loss.file\".format(, dim, epoch, window, str(learning_rate)[2:], seed), \"rb\") as f:\n",
    "    loss_tot = pickle.load(f)\n",
    "with open(\"data/{}/gensim/dim{}_ep{}_w{}_lr{}_seed{}/temps_par_epoch.file\".format(, dim, epoch, window, str(learning_rate)[2:], seed), \"rb\") as f:\n",
    "    temps_par_epoch = pickle.load(f)"
   ]
  },
  {
   "cell_type": "code",
   "execution_count": 12,
   "metadata": {},
   "outputs": [
    {
     "name": "stdout",
     "output_type": "stream",
     "text": [
      "tensor(True)\n"
     ]
    }
   ],
   "source": [
    "torch.manual_seed(1)\n",
    "input = torch.randn(taille_vocab, dim)\n",
    "torch.manual_seed(1)\n",
    "input2 = torch.randn(taille_vocab, dim)\n",
    "print(torch.all(torch.eq(input, input2)))"
   ]
  },
  {
   "cell_type": "code",
   "execution_count": 10,
   "metadata": {},
   "outputs": [
    {
     "data": {
      "text/plain": [
       "20"
      ]
     },
     "execution_count": 10,
     "metadata": {},
     "output_type": "execute_result"
    }
   ],
   "source": [
    "dim"
   ]
  },
  {
   "cell_type": "code",
   "execution_count": null,
   "metadata": {},
   "outputs": [],
   "source": []
  }
 ],
 "metadata": {
  "kernelspec": {
   "display_name": "Python 3",
   "language": "python",
   "name": "python3"
  },
  "language_info": {
   "codemirror_mode": {
    "name": "ipython",
    "version": 3
   },
   "file_extension": ".py",
   "mimetype": "text/x-python",
   "name": "python",
   "nbconvert_exporter": "python",
   "pygments_lexer": "ipython3",
   "version": "3.7.5"
  }
 },
 "nbformat": 4,
 "nbformat_minor": 2
}
